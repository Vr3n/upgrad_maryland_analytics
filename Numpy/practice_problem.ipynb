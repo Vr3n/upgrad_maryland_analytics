{
 "cells": [
  {
   "cell_type": "markdown",
   "id": "50257d95-eac2-46c5-8054-c48022850c5c",
   "metadata": {},
   "source": [
    "## Practice Problem\n",
    "\n",
    "1. Create and print one-dimensional array from a list comprehension that produces \\\n",
    "   all odd numbers from 5 through 10.\n",
    "2. Redo #1 without the list comprehension.\\\n",
    "   Thereafter, use broadcasting to square each value.\n",
    "3. Challenge:\n",
    "   - Using your ans from #2, print an array of all elements that have a squared value \\\n",
    "     less than or equal to 50."
   ]
  },
  {
   "cell_type": "code",
   "execution_count": 1,
   "id": "1fae66eb-3a6d-4272-b7fd-d3ab089ab660",
   "metadata": {},
   "outputs": [],
   "source": [
    "import numpy as np"
   ]
  },
  {
   "cell_type": "code",
   "execution_count": 2,
   "id": "362871c2-d00e-4d4f-a30b-7db97f77ba7d",
   "metadata": {},
   "outputs": [
    {
     "data": {
      "text/plain": [
       "[5, 7, 9]"
      ]
     },
     "execution_count": 2,
     "metadata": {},
     "output_type": "execute_result"
    }
   ],
   "source": [
    "odd_nums: list = [x for x in range(5, 11) if x % 2 != 0]\n",
    "odd_nums"
   ]
  },
  {
   "cell_type": "markdown",
   "id": "acf96165-a310-4018-a50a-700e59f49f3b",
   "metadata": {},
   "source": [
    "### Problem 2\n",
    "\n",
    "1. using `np.arange(start, stop, step)` we can generate \\\n",
    "   odd numbers from 5 through 10."
   ]
  },
  {
   "cell_type": "code",
   "execution_count": 7,
   "id": "942fb09d-4750-460f-bfb3-b998ccf0c4e3",
   "metadata": {},
   "outputs": [
    {
     "data": {
      "text/plain": [
       "array([5, 7, 9])"
      ]
     },
     "execution_count": 7,
     "metadata": {},
     "output_type": "execute_result"
    }
   ],
   "source": [
    "odd_arr: np.ndarray = np.arange(5, 11, 2)\n",
    "odd_arr"
   ]
  },
  {
   "cell_type": "markdown",
   "id": "29a98e60-a008-47f4-b3b0-e8bc6a167dfd",
   "metadata": {},
   "source": [
    "2. taking advantage of broadcasting to square each value."
   ]
  },
  {
   "cell_type": "code",
   "execution_count": 9,
   "id": "9a230970-ae09-4481-baef-54bf4df9e5c6",
   "metadata": {},
   "outputs": [
    {
     "data": {
      "text/plain": [
       "array([25, 49, 81])"
      ]
     },
     "execution_count": 9,
     "metadata": {},
     "output_type": "execute_result"
    }
   ],
   "source": [
    "odd_arr = odd_arr ** 2\n",
    "odd_arr"
   ]
  },
  {
   "cell_type": "markdown",
   "id": "b8ebd043-c738-4034-a8b0-7da725a7107b",
   "metadata": {},
   "source": [
    "### Challenge"
   ]
  },
  {
   "cell_type": "code",
   "execution_count": 12,
   "id": "8609b27e-befb-4de2-b66f-d46995715cb1",
   "metadata": {},
   "outputs": [
    {
     "name": "stdout",
     "output_type": "stream",
     "text": [
      "[25 49]\n"
     ]
    }
   ],
   "source": [
    "print(odd_arr[odd_arr <= 50])"
   ]
  },
  {
   "cell_type": "code",
   "execution_count": null,
   "id": "a8f5fdf2-e34a-4a15-be5e-73fb7c76856c",
   "metadata": {},
   "outputs": [],
   "source": []
  }
 ],
 "metadata": {
  "kernelspec": {
   "display_name": "Python 3 (ipykernel)",
   "language": "python",
   "name": "python3"
  },
  "language_info": {
   "codemirror_mode": {
    "name": "ipython",
    "version": 3
   },
   "file_extension": ".py",
   "mimetype": "text/x-python",
   "name": "python",
   "nbconvert_exporter": "python",
   "pygments_lexer": "ipython3",
   "version": "3.10.11"
  }
 },
 "nbformat": 4,
 "nbformat_minor": 5
}
