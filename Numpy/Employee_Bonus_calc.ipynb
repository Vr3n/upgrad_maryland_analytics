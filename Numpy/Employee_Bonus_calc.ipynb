{
 "cells": [
  {
   "cell_type": "markdown",
   "id": "3d21e6e5-1d0f-4f79-a627-528cb57d6480",
   "metadata": {},
   "source": [
    "## Employee Bonus Calculation\n",
    "\n",
    "Suppose you work as an HR manager for the Technology and Delivery Departments of a startup.\\\n",
    "As part of an emloyee satisfaction initiave, you decide to provide bonuses to top 4 performing \\\n",
    "employees of both departments.\n",
    "\n",
    "You have been provided below with an array for base salary and one for bonus below."
   ]
  },
  {
   "cell_type": "code",
   "execution_count": 87,
   "id": "fbf344e0-d48b-4c9e-a63d-1adf20d8fafd",
   "metadata": {},
   "outputs": [],
   "source": [
    "base_salary: list = [[3450, 2010, 1500, 4200], \n",
    "                     [4800, 6100, 4500, 3050]]"
   ]
  },
  {
   "cell_type": "code",
   "execution_count": 88,
   "id": "c4948f08-a978-4031-9009-4098e02b67f5",
   "metadata": {},
   "outputs": [],
   "source": [
    "bonus: list = [600, 500, 400, 300]"
   ]
  },
  {
   "cell_type": "code",
   "execution_count": 89,
   "id": "aa2d40e1-8eaf-4e4b-8f79-c7eaa64783ed",
   "metadata": {},
   "outputs": [],
   "source": [
    "import numpy as np"
   ]
  },
  {
   "cell_type": "markdown",
   "id": "dd172793-2d3e-4c3e-a919-9672df8ed82a",
   "metadata": {},
   "source": [
    "Converting base salary list to numpy array"
   ]
  },
  {
   "cell_type": "code",
   "execution_count": 90,
   "id": "108cd973-df28-4e4f-8272-4ba8e1566ede",
   "metadata": {},
   "outputs": [],
   "source": [
    "base_salary_arr: np.array = np.array(base_salary)"
   ]
  },
  {
   "cell_type": "markdown",
   "id": "16f77bf3-dad1-44b2-88d8-62c77e4baeeb",
   "metadata": {},
   "source": [
    "#### Sorting and Adding bonus to the array.\n",
    "\n",
    "1. Iterating the numpy array.\n",
    "   - We will be iterating by the rows\n",
    "   - `arr.shape` will give us the no of rows and columns.\n",
    "   - Using the slicing we can get no of rows present in array.\n",
    "   - Iterate using the range funciton.\n",
    "\n",
    "3. Adding the bonus to array row."
   ]
  },
  {
   "cell_type": "code",
   "execution_count": 95,
   "id": "31aa7c51-82ef-4a7b-9ad9-d1ceb85d0679",
   "metadata": {},
   "outputs": [
    {
     "data": {
      "text/plain": [
       "array([[0, 0, 0, 0],\n",
       "       [0, 0, 0, 0]])"
      ]
     },
     "execution_count": 95,
     "metadata": {},
     "output_type": "execute_result"
    }
   ],
   "source": [
    "bonus_salary_arr = np.zeros(base_salary_arr.shape).astype(int)\n",
    "bonus_salary_arr"
   ]
  },
  {
   "cell_type": "code",
   "execution_count": 96,
   "id": "aa90f63e-5132-4627-bd9c-c2325748266c",
   "metadata": {},
   "outputs": [],
   "source": [
    "for i in range(base_salary_arr.shape[0]):\n",
    "    bonus_salary_arr[i] =  base_salary_arr[i] + bonus"
   ]
  },
  {
   "cell_type": "code",
   "execution_count": 97,
   "id": "4fef332d-75e3-401d-87c4-3991cb378c62",
   "metadata": {},
   "outputs": [
    {
     "data": {
      "text/plain": [
       "array([[3450, 2010, 1500, 4200],\n",
       "       [4800, 6100, 4500, 3050]])"
      ]
     },
     "execution_count": 97,
     "metadata": {},
     "output_type": "execute_result"
    }
   ],
   "source": [
    "base_salary_arr"
   ]
  },
  {
   "cell_type": "code",
   "execution_count": 98,
   "id": "bf27352c-0cc7-4a5a-81a3-7494fa300420",
   "metadata": {},
   "outputs": [
    {
     "data": {
      "text/plain": [
       "array([[4050, 2510, 1900, 4500],\n",
       "       [5400, 6600, 4900, 3350]])"
      ]
     },
     "execution_count": 98,
     "metadata": {},
     "output_type": "execute_result"
    }
   ],
   "source": [
    "bonus_salary_arr"
   ]
  },
  {
   "cell_type": "markdown",
   "id": "a12431f3-0665-43de-8efa-6e8f1c67f765",
   "metadata": {},
   "source": [
    "### Challenge\n",
    "\n",
    "How many employees received bonuses worth more than 20% of their base salary?"
   ]
  },
  {
   "cell_type": "code",
   "execution_count": 130,
   "id": "02d3aa56-1908-462c-8416-0f2172aa3406",
   "metadata": {},
   "outputs": [],
   "source": [
    "bonus_percentage = (bonus / base_salary_arr) * 100"
   ]
  },
  {
   "cell_type": "code",
   "execution_count": 132,
   "id": "068bb349-1403-4207-b829-803b660c9407",
   "metadata": {},
   "outputs": [
    {
     "data": {
      "text/plain": [
       "array([24.87562189, 26.66666667])"
      ]
     },
     "execution_count": 132,
     "metadata": {},
     "output_type": "execute_result"
    }
   ],
   "source": [
    "bonus_percentage[bonus_percentage > 20]"
   ]
  },
  {
   "cell_type": "markdown",
   "id": "addbd80a-2f64-46fc-8cd1-b7c6e95a59d2",
   "metadata": {},
   "source": [
    "What is the highest net salary of an employee after rewarding bonuses?"
   ]
  },
  {
   "cell_type": "code",
   "execution_count": 134,
   "id": "9662596b-528e-429d-a138-9039e9e0b19a",
   "metadata": {},
   "outputs": [
    {
     "data": {
      "text/plain": [
       "6600"
      ]
     },
     "execution_count": 134,
     "metadata": {},
     "output_type": "execute_result"
    }
   ],
   "source": [
    "bonus_salary_arr.max()"
   ]
  },
  {
   "cell_type": "markdown",
   "id": "8d84f96e-28ca-4c92-9a7b-0d012b43e0f9",
   "metadata": {},
   "source": [
    "Find the average salary of all employees of the company. (Round off the average salary to two decimal places.)"
   ]
  },
  {
   "cell_type": "code",
   "execution_count": 137,
   "id": "00633ddd-c5c2-416f-bfb7-1a25d7d638a5",
   "metadata": {},
   "outputs": [
    {
     "data": {
      "text/plain": [
       "4151.25"
      ]
     },
     "execution_count": 137,
     "metadata": {},
     "output_type": "execute_result"
    }
   ],
   "source": [
    "np.average(bonus_salary_arr)"
   ]
  },
  {
   "cell_type": "markdown",
   "id": "ec7a11db-0726-4df3-9114-90536c1538af",
   "metadata": {},
   "source": [
    "What is the total expense incurred by the company on bonuses?"
   ]
  },
  {
   "cell_type": "code",
   "execution_count": 139,
   "id": "41456618-0e9c-4935-bff6-c3b65fecec60",
   "metadata": {},
   "outputs": [
    {
     "data": {
      "text/plain": [
       "3600"
      ]
     },
     "execution_count": 139,
     "metadata": {},
     "output_type": "execute_result"
    }
   ],
   "source": [
    "np.sum(bonus_salary_arr - base_salary_arr)"
   ]
  },
  {
   "cell_type": "code",
   "execution_count": null,
   "id": "5d4b72e4-c1d8-4088-bad7-8a0f2fef24fc",
   "metadata": {},
   "outputs": [],
   "source": []
  }
 ],
 "metadata": {
  "kernelspec": {
   "display_name": "Python 3 (ipykernel)",
   "language": "python",
   "name": "python3"
  },
  "language_info": {
   "codemirror_mode": {
    "name": "ipython",
    "version": 3
   },
   "file_extension": ".py",
   "mimetype": "text/x-python",
   "name": "python",
   "nbconvert_exporter": "python",
   "pygments_lexer": "ipython3",
   "version": "3.10.11"
  }
 },
 "nbformat": 4,
 "nbformat_minor": 5
}
