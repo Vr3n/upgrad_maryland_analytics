{
 "cells": [
  {
   "cell_type": "markdown",
   "id": "d97311ce-853e-4950-a111-3d6ea74df9b7",
   "metadata": {},
   "source": [
    "## Creating 2 dimensional array.\n",
    "Specify two dimensions (rows and columns)"
   ]
  },
  {
   "cell_type": "code",
   "execution_count": 2,
   "id": "0725df44-5337-426b-b9f3-428b19a2d163",
   "metadata": {},
   "outputs": [],
   "source": [
    "import numpy as np"
   ]
  },
  {
   "cell_type": "code",
   "execution_count": 3,
   "id": "f20982b6-2632-4647-ab2b-488de78280d0",
   "metadata": {},
   "outputs": [
    {
     "data": {
      "text/plain": [
       "array([[0.41560478, 0.7699988 , 0.64323857],\n",
       "       [0.92447719, 0.83659771, 0.46094167],\n",
       "       [0.53524803, 0.23581939, 0.19431428],\n",
       "       [0.89207446, 0.28165516, 0.83223626]])"
      ]
     },
     "execution_count": 3,
     "metadata": {},
     "output_type": "execute_result"
    }
   ],
   "source": [
    "arr1 = np.random.rand(4, 3)\n",
    "arr1"
   ]
  },
  {
   "cell_type": "markdown",
   "id": "04192ffb-f794-4ba5-8d8c-4cfaf4d646bf",
   "metadata": {},
   "source": [
    "#### Slicing Rows and Columns"
   ]
  },
  {
   "cell_type": "code",
   "execution_count": 4,
   "id": "3c0ce771-3b92-4cdd-825c-b8c3a9ef66aa",
   "metadata": {},
   "outputs": [
    {
     "data": {
      "text/plain": [
       "array([0.41560478, 0.7699988 , 0.64323857])"
      ]
     },
     "execution_count": 4,
     "metadata": {},
     "output_type": "execute_result"
    }
   ],
   "source": [
    "slice_row = arr1[0]\n",
    "slice_row"
   ]
  },
  {
   "cell_type": "code",
   "execution_count": 7,
   "id": "74cd66e0-7fcc-4abb-9be1-4940fbab0560",
   "metadata": {},
   "outputs": [
    {
     "data": {
      "text/plain": [
       "array([0.41560478, 0.92447719, 0.53524803, 0.89207446])"
      ]
     },
     "execution_count": 7,
     "metadata": {},
     "output_type": "execute_result"
    }
   ],
   "source": [
    "slice_col = arr1[:, 0]\n",
    "slice_col"
   ]
  },
  {
   "cell_type": "code",
   "execution_count": 8,
   "id": "1ea3f4df-c83e-4dbf-96eb-dc95c050aea0",
   "metadata": {},
   "outputs": [
    {
     "data": {
      "text/plain": [
       "array([[0.92447719, 0.83659771],\n",
       "       [0.53524803, 0.23581939],\n",
       "       [0.89207446, 0.28165516]])"
      ]
     },
     "execution_count": 8,
     "metadata": {},
     "output_type": "execute_result"
    }
   ],
   "source": [
    "slice3 = arr1[1:, :2]\n",
    "slice3"
   ]
  },
  {
   "cell_type": "markdown",
   "id": "59f33b23-cc05-475c-9a91-9fe53213f20b",
   "metadata": {},
   "source": [
    "### Creating Three-dimensional array."
   ]
  },
  {
   "cell_type": "code",
   "execution_count": 10,
   "id": "79211c49-1c38-4a3e-8263-3664aacb608f",
   "metadata": {},
   "outputs": [
    {
     "data": {
      "text/plain": [
       "array([[0.04635795, 0.0811213 , 0.74112676],\n",
       "       [0.62543691, 0.12553781, 0.50747692],\n",
       "       [0.21193692, 0.25936426, 0.82650547]])"
      ]
     },
     "execution_count": 10,
     "metadata": {},
     "output_type": "execute_result"
    }
   ],
   "source": [
    "arr3d = np.random.rand(3, 3)\n",
    "arr3d"
   ]
  },
  {
   "cell_type": "code",
   "execution_count": 11,
   "id": "d51416be-14b2-44d6-8a41-8e48387ade32",
   "metadata": {},
   "outputs": [
    {
     "data": {
      "text/plain": [
       "array([[0.04635795, 0.0811213 , 0.74112676],\n",
       "       [0.62543691, 0.12553781, 0.50747692],\n",
       "       [0.21193692, 0.25936426, 0.82650547]])"
      ]
     },
     "execution_count": 11,
     "metadata": {},
     "output_type": "execute_result"
    }
   ],
   "source": [
    "arr3d"
   ]
  },
  {
   "cell_type": "markdown",
   "id": "6d16b235-d888-4110-a60e-8bef3d019911",
   "metadata": {},
   "source": [
    "### Hourly Rainfall analysis II"
   ]
  },
  {
   "cell_type": "code",
   "execution_count": 12,
   "id": "b71e68f9-f0cf-4273-8000-4d43d8ca78cf",
   "metadata": {},
   "outputs": [],
   "source": [
    "rain_mm_by_hour_for_week = np.array([[0, 0, 0, 0, 0, 0, 0, 4, 2, 2, 4, 4, 0, 0, 0, 6, 0, 3, 6, 0, 0, 0, 3, 0],\n",
    "                                     [6, 4, 0, 5, 7, 0, 0, 2, 4, 0, 0, 6, 4, 0, 0, 0, 2, 6, 0, 0, 1, 0, 7, 0],\n",
    "                                     [0, 0, 6, 0, 0, 4, 0, 0, 7, 3, 4, 2, 2, 3, 6, 5, 3, 0, 0, 0, 0, 0, 5, 3],\n",
    "               \t\t\t             [3, 0, 0, 4, 0, 0, 0, 0, 0, 0, 1, 0, 5, 5, 1, 0, 0, 0, 6, 5, 6, 4, 0, 0],\n",
    "       \t                             [4, 2, 2, 0, 0, 0, 0, 6, 4, 0, 0, 0, 0, 5, 0, 0, 0, 2, 0, 5, 2, 0, 0, 2],\n",
    "       \t                             [0, 2, 0, 0, 6, 0, 0, 1, 0, 0, 0, 0, 5, 0, 6, 0, 1, 0, 0, 0, 2, 0, 0, 0],\n",
    "                               \t     [0, 3, 5, 1, 7, 3, 0, 2, 4, 7, 0, 1, 3, 0, 4, 0, 0, 1, 0, 0, 0, 6, 4, 0]])"
   ]
  },
  {
   "cell_type": "code",
   "execution_count": 16,
   "id": "ca98a2b8-0000-4a36-95f0-b7da584b5dcd",
   "metadata": {},
   "outputs": [
    {
     "data": {
      "text/plain": [
       "array([0, 0, 0, 0, 0, 0, 0, 4, 2, 2, 4, 4, 0, 0, 0, 6, 0, 3, 6, 0, 0, 0,\n",
       "       3, 0])"
      ]
     },
     "execution_count": 16,
     "metadata": {},
     "output_type": "execute_result"
    }
   ],
   "source": [
    "rain_mm_by_hour_for_week[0]"
   ]
  },
  {
   "cell_type": "code",
   "execution_count": 17,
   "id": "880ca3e3-de3e-4c9e-82d8-01bcbc7e6e2c",
   "metadata": {},
   "outputs": [
    {
     "data": {
      "text/plain": [
       "array([[0, 0, 0],\n",
       "       [6, 4, 0],\n",
       "       [0, 0, 6],\n",
       "       [3, 0, 0],\n",
       "       [4, 2, 2],\n",
       "       [0, 2, 0],\n",
       "       [0, 3, 5]])"
      ]
     },
     "execution_count": 17,
     "metadata": {},
     "output_type": "execute_result"
    }
   ],
   "source": [
    "rain_mm_by_hour_for_week[:, :3]"
   ]
  },
  {
   "cell_type": "markdown",
   "id": "32253e51-2c62-4dbd-9481-05ee6a1f242b",
   "metadata": {},
   "source": [
    "### Average Rainfall\n",
    "\n",
    "What is the mean amount of rainfall for the first 3 hours of each weekday in this week? (Round off the mean value to 2 decimal places.)"
   ]
  },
  {
   "cell_type": "code",
   "execution_count": 20,
   "id": "700c5f92-68be-4baf-bceb-0b10ecb2ffdd",
   "metadata": {},
   "outputs": [
    {
     "name": "stdout",
     "output_type": "stream",
     "text": [
      "1.76\n"
     ]
    }
   ],
   "source": [
    "print(f\"{(rain_mm_by_hour_for_week[:, :3]).mean():.2f}\")"
   ]
  },
  {
   "cell_type": "markdown",
   "id": "b8e5f11b-41f4-4e7e-9976-77f6d9f71289",
   "metadata": {},
   "source": [
    "### Slice the Rain\n",
    "Which line of code among the following would return the amount of rainfall for the last 2 hours of Thursday?"
   ]
  },
  {
   "cell_type": "code",
   "execution_count": 27,
   "id": "98ed4596-7f60-438e-a5e3-2c3d934ad7f6",
   "metadata": {},
   "outputs": [
    {
     "data": {
      "text/plain": [
       "array([0, 0])"
      ]
     },
     "execution_count": 27,
     "metadata": {},
     "output_type": "execute_result"
    }
   ],
   "source": [
    "rain_mm_by_hour_for_week[3 , -2:]"
   ]
  },
  {
   "cell_type": "code",
   "execution_count": 28,
   "id": "d54042da-2848-4bba-a218-011cb583a031",
   "metadata": {},
   "outputs": [
    {
     "data": {
      "text/plain": [
       "array([0, 0])"
      ]
     },
     "execution_count": 28,
     "metadata": {},
     "output_type": "execute_result"
    }
   ],
   "source": [
    "rain_mm_by_hour_for_week[3 , 22:]"
   ]
  },
  {
   "cell_type": "code",
   "execution_count": 29,
   "id": "7fe21ecd-f6f5-4406-a38f-fdceba5d36dd",
   "metadata": {},
   "outputs": [
    {
     "data": {
      "text/plain": [
       "array([4, 0, 0])"
      ]
     },
     "execution_count": 29,
     "metadata": {},
     "output_type": "execute_result"
    }
   ],
   "source": [
    "rain_mm_by_hour_for_week[3,-3:]"
   ]
  },
  {
   "cell_type": "code",
   "execution_count": 30,
   "id": "41525693-47fe-4138-b35e-f3e57f18bd64",
   "metadata": {},
   "outputs": [
    {
     "data": {
      "text/plain": [
       "array([4, 0, 0, 0, 0, 0, 0, 1, 0, 5, 5, 1, 0, 0, 0, 6, 5, 6, 4, 0, 0])"
      ]
     },
     "execution_count": 30,
     "metadata": {},
     "output_type": "execute_result"
    }
   ],
   "source": [
    "rain_mm_by_hour_for_week[3,3:]"
   ]
  },
  {
   "cell_type": "markdown",
   "id": "ab72fa71-43f7-4225-aeeb-55878370425e",
   "metadata": {},
   "source": [
    "### Hourly Rainfall Analysis III"
   ]
  },
  {
   "cell_type": "code",
   "execution_count": 31,
   "id": "c2622bd5-df35-4a55-9cde-25766857ec8a",
   "metadata": {},
   "outputs": [],
   "source": [
    "rain_mm_by_hour_for_2weeks = np.array([[[0, 0, 0, 0, 0, 0, 0, 4, 2, 2, 4, 4, 0, 0, 0, 6, 0, 3, 6, 0, 0, 0, 3, 0],\n",
    "                                      [6, 4, 0, 5, 7, 0, 0, 2, 4, 0, 0, 6, 4, 0, 0, 0, 2, 6, 0, 0, 1, 0, 7, 0],\n",
    "                                      [0, 0, 6, 0, 0, 4, 0, 0, 7, 3, 4, 2, 2, 3, 6, 5, 3, 0, 0, 0, 0, 0, 5, 3],\n",
    "                                      [3, 0, 0, 4, 0, 0, 0, 0, 0, 0, 1, 0, 5, 5, 1, 0, 0, 0, 6, 5, 6, 4, 0, 0],\n",
    "                                      [4, 2, 2, 0, 0, 0, 0, 6, 4, 0, 0, 0, 0, 5, 0, 0, 0, 2, 0, 5, 2, 0, 0, 2],\n",
    "                                      [0, 2, 0, 0, 6, 0, 0, 1, 0, 0, 0, 0, 5, 0, 6, 0, 1, 0, 0, 0, 2, 0, 0, 0],\n",
    "                                      [0, 3, 5, 1, 7, 3, 0, 2, 4, 7, 0, 1, 3, 0, 4, 0, 0, 1, 0, 0, 0, 6, 4, 0]],\n",
    "\n",
    "                                     [[3, 1, 4, 2, 0, 0, 0, 3, 0, 0, 5, 0, 0, 5, 0, 0, 0, 3, 0, 0, 0, 4, 4, 6],\n",
    "                                      [2, 7, 0, 0, 0, 0, 0, 7, 0, 0, 0, 0, 2, 1, 7, 6, 0, 0, 0, 0, 3, 0, 0, 0],\n",
    "                                      [0, 0, 0, 1, 0, 2, 5, 1, 0, 0, 0, 2, 7, 0, 0, 0, 2, 0, 5, 4, 0, 1, 7, 4],\n",
    "                                      [2, 0, 2, 2, 0, 0, 0, 0, 0, 0, 0, 7, 0, 0, 3, 0, 0, 0, 2, 0, 0, 0, 2, 7],\n",
    "                                      [3, 0, 4, 0, 0, 6, 0, 0, 0, 3, 7, 0, 0, 0, 5, 0, 0, 0, 0, 0, 3, 0, 5, 0],\n",
    "                                      [0, 0, 3, 0, 0, 0, 5, 0, 2, 1, 0, 0, 0, 0, 5, 0, 0, 6, 0, 4, 0, 0, 1, 0],\n",
    "                                      [0, 0, 0, 0, 0, 4, 4, 0, 0, 4, 6, 6, 4, 6, 0, 1, 5, 0, 0, 0, 2, 0, 3, 7]]])"
   ]
  },
  {
   "cell_type": "code",
   "execution_count": 33,
   "id": "eb0c78f7-ee3b-456b-9e7f-c5b6f2e9de7b",
   "metadata": {},
   "outputs": [],
   "source": [
    "week_1 = rain_mm_by_hour_for_2weeks[0]"
   ]
  },
  {
   "cell_type": "code",
   "execution_count": 34,
   "id": "c2be6d00-6dc1-4ee0-8e25-5c311ef1f153",
   "metadata": {},
   "outputs": [],
   "source": [
    "week_2 = rain_mm_by_hour_for_2weeks[1]"
   ]
  },
  {
   "cell_type": "code",
   "execution_count": 36,
   "id": "0f58d293-acc2-4aca-baaa-824677995c6b",
   "metadata": {},
   "outputs": [
    {
     "data": {
      "text/plain": [
       "array([[3, 1, 4, 2, 0, 0, 0, 3, 0, 0, 5, 0, 0, 5, 0, 0, 0, 3, 0, 0, 0, 4,\n",
       "        4, 6],\n",
       "       [2, 7, 0, 0, 0, 0, 0, 7, 0, 0, 0, 0, 2, 1, 7, 6, 0, 0, 0, 0, 3, 0,\n",
       "        0, 0],\n",
       "       [0, 0, 0, 1, 0, 2, 5, 1, 0, 0, 0, 2, 7, 0, 0, 0, 2, 0, 5, 4, 0, 1,\n",
       "        7, 4],\n",
       "       [2, 0, 2, 2, 0, 0, 0, 0, 0, 0, 0, 7, 0, 0, 3, 0, 0, 0, 2, 0, 0, 0,\n",
       "        2, 7],\n",
       "       [3, 0, 4, 0, 0, 6, 0, 0, 0, 3, 7, 0, 0, 0, 5, 0, 0, 0, 0, 0, 3, 0,\n",
       "        5, 0],\n",
       "       [0, 0, 3, 0, 0, 0, 5, 0, 2, 1, 0, 0, 0, 0, 5, 0, 0, 6, 0, 4, 0, 0,\n",
       "        1, 0],\n",
       "       [0, 0, 0, 0, 0, 4, 4, 0, 0, 4, 6, 6, 4, 6, 0, 1, 5, 0, 0, 0, 2, 0,\n",
       "        3, 7]])"
      ]
     },
     "execution_count": 36,
     "metadata": {},
     "output_type": "execute_result"
    }
   ],
   "source": [
    "week_2"
   ]
  },
  {
   "cell_type": "markdown",
   "id": "44ffb97e-b1dd-4ef0-a43d-70ec5dc5bdff",
   "metadata": {},
   "source": [
    "How would you obtain the array that represents the amount of rainfall by hour on the 1st day of the 2nd week."
   ]
  },
  {
   "cell_type": "code",
   "execution_count": 39,
   "id": "c9667b3a-6932-492e-b2a6-5e6d3afaec4d",
   "metadata": {},
   "outputs": [
    {
     "data": {
      "text/plain": [
       "array([3, 1, 4, 2, 0, 0, 0, 3, 0, 0, 5, 0, 0, 5, 0, 0, 0, 3, 0, 0, 0, 4,\n",
       "       4, 6])"
      ]
     },
     "execution_count": 39,
     "metadata": {},
     "output_type": "execute_result"
    }
   ],
   "source": [
    "rain_mm_by_hour_for_2weeks[1, 0]"
   ]
  },
  {
   "cell_type": "markdown",
   "id": "e5ea2931-9df9-47aa-a9e1-f7a6060e0eba",
   "metadata": {},
   "source": [
    "### Correcting the Data\n",
    "\n",
    "Later you discover it did not rain in the last hour of the day of the last day of the last week you have data for.\n",
    "Correct the amount of rainfall for this hour by setting it to 0.\n",
    "\n",
    "Then calculate the new mean amount of rainfall for 2 weeks."
   ]
  },
  {
   "cell_type": "code",
   "execution_count": 43,
   "id": "63dc4ff7-7710-4952-a4c2-fef90857a44f",
   "metadata": {},
   "outputs": [],
   "source": [
    "rain_mm_by_hour_for_2weeks[-1, -1:, -1] = 0"
   ]
  },
  {
   "cell_type": "code",
   "execution_count": 46,
   "id": "e49f3a65-e650-4751-a50a-af230e708866",
   "metadata": {},
   "outputs": [
    {
     "name": "stdout",
     "output_type": "stream",
     "text": [
      "1.61\n"
     ]
    }
   ],
   "source": [
    "print(f\"{rain_mm_by_hour_for_2weeks.mean():.2f}\")"
   ]
  },
  {
   "cell_type": "code",
   "execution_count": null,
   "id": "f0e7828b-4ef6-4642-832e-8ba7d7db3872",
   "metadata": {},
   "outputs": [],
   "source": []
  }
 ],
 "metadata": {
  "kernelspec": {
   "display_name": "Python 3 (ipykernel)",
   "language": "python",
   "name": "python3"
  },
  "language_info": {
   "codemirror_mode": {
    "name": "ipython",
    "version": 3
   },
   "file_extension": ".py",
   "mimetype": "text/x-python",
   "name": "python",
   "nbconvert_exporter": "python",
   "pygments_lexer": "ipython3",
   "version": "3.10.11"
  }
 },
 "nbformat": 4,
 "nbformat_minor": 5
}
