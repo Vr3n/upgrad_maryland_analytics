{
  "cells": [
    {
      "cell_type": "markdown",
      "metadata": {
        "id": "0FhVHbvS5Em7"
      },
      "source": [
        "# Session 1: Introduction to NumPy"
      ]
    },
    {
      "cell_type": "markdown",
      "metadata": {
        "id": "F2zWdkZL5EnH"
      },
      "source": [
        "## Overview\n",
        "\n",
        "**NumPy (Numerical Python)** is a foundational package for scientific computing. It is built on the C programming language for efficiency by offering the powerful *n*-dimensional array (ndarray).\n",
        "\n",
        "In data analytics, NumPy offers:\n",
        "\n",
        "- Fast (vectorized) array operations for data processing\n",
        "- Efficient descriptive statistics\n",
        "- Manipulations for merging multiple data sets\n",
        "\n",
        "To use the library, the NumPy library must be installed in the Python environment. Anaconda already has the library installed. It must then be imported for use."
      ]
    },
    {
      "cell_type": "code",
      "execution_count": 1,
      "metadata": {
        "id": "bgjHSQq55EnJ"
      },
      "outputs": [],
      "source": [
        "# Import statement\n"
      ]
    },
    {
      "cell_type": "markdown",
      "metadata": {
        "id": "ZsuR--AA5EnM"
      },
      "source": [
        "## Creating ndarrays\n",
        "\n",
        "The ndarray (alias: array) is an *n*-dimensional array object similar to a list, but designed to facilitate fast computation. For arrays to be useful they must hold a single type of object. For most analytics using NumPy, the primary focus is on int, float, and boolean arrays\n",
        "\n",
        "Arrays will most likely be loaded from external data sources (later). For now, an array can be created manually."
      ]
    },
    {
      "cell_type": "code",
      "execution_count": 2,
      "metadata": {
        "id": "mrdFYOqs5EnN"
      },
      "outputs": [],
      "source": [
        "# The array function receives an argument of an array or other collection of elements\n"
      ]
    },
    {
      "cell_type": "markdown",
      "metadata": {
        "id": "Ks0S6jyi5EnQ"
      },
      "source": [
        "### Other Ways to Create Arrays\n",
        "\n",
        "- `np.arange(start, stop, step)`: similar to range for lists\n",
        "- `np.zeros(shape)`: where shape is a sequence of dimension sizes, to create an array of 0s\n",
        "- `np.ones(shape)`: where shape is a sequence of dimension sizes, to create an array of 1s\n",
        "- `np.full(shape, value)`: where shape is a sequence of dimension sizes, to create an array of specific values\n",
        "- `np.random.rand(d0, d1…,dn)`: where d0..dn are dimension sizes, to create an array of random values between 0 and 1, exclusive of 1\n",
        "- `np.random.randn(d0, d1…,dn)`: where d0..dn are dimension sizes, to create random values within a standard, normal distribution [mean = 0, variance = 1]\n",
        "- `np.random.randint(low, high, numvals)`: where low is the low bound, high is the high bound (exclusive), and numvals is the number of values to generate"
      ]
    },
    {
      "cell_type": "code",
      "execution_count": 2,
      "metadata": {
        "id": "oifx4FGi5EnU"
      },
      "outputs": [],
      "source": [
        ""
      ]
    },
    {
      "cell_type": "code",
      "source": [
        ""
      ],
      "metadata": {
        "id": "IpnMLiY7Bxwy"
      },
      "execution_count": 2,
      "outputs": []
    },
    {
      "cell_type": "code",
      "execution_count": 2,
      "metadata": {
        "id": "-ClMasB_5EnX"
      },
      "outputs": [],
      "source": [
        ""
      ]
    },
    {
      "cell_type": "code",
      "execution_count": 2,
      "metadata": {
        "id": "rgp1jJoY5EnZ"
      },
      "outputs": [],
      "source": [
        ""
      ]
    },
    {
      "cell_type": "code",
      "execution_count": 2,
      "metadata": {
        "id": "e-mi8dE55Ena"
      },
      "outputs": [],
      "source": [
        ""
      ]
    },
    {
      "cell_type": "code",
      "execution_count": 2,
      "metadata": {
        "id": "-ZwbXyft5Enb"
      },
      "outputs": [],
      "source": [
        ""
      ]
    },
    {
      "cell_type": "code",
      "execution_count": 2,
      "metadata": {
        "id": "MAJ3nNwt5Enb"
      },
      "outputs": [],
      "source": [
        ""
      ]
    },
    {
      "cell_type": "code",
      "execution_count": 2,
      "metadata": {
        "id": "H0gjgr2u5Enc"
      },
      "outputs": [],
      "source": [
        ""
      ]
    },
    {
      "cell_type": "code",
      "execution_count": 2,
      "metadata": {
        "id": "TEqGWpr-5End"
      },
      "outputs": [],
      "source": [
        ""
      ]
    },
    {
      "cell_type": "code",
      "source": [
        ""
      ],
      "metadata": {
        "id": "XCG4jLa_CeXj"
      },
      "execution_count": 2,
      "outputs": []
    },
    {
      "cell_type": "markdown",
      "metadata": {
        "id": "lLTsbYHW5Ene"
      },
      "source": [
        "### Common Array Attributes\n",
        "\n",
        "- `ndim`: number of dimensions in the array\n",
        "- `shape`: number of dimensions in the array\n",
        "- `dtype`: data type of values in the array\n",
        "- `size`: total number of values in the array"
      ]
    },
    {
      "cell_type": "code",
      "execution_count": 2,
      "metadata": {
        "id": "BFexsGjF5Enf"
      },
      "outputs": [],
      "source": [
        ""
      ]
    },
    {
      "cell_type": "markdown",
      "metadata": {
        "id": "6pH59I4y5Enf"
      },
      "source": [
        "### Casting Arrays to Other DTypes\n",
        "\n",
        "Use the `astype()` function."
      ]
    },
    {
      "cell_type": "code",
      "execution_count": 2,
      "metadata": {
        "id": "C8Zq7-9L5Eng"
      },
      "outputs": [],
      "source": [
        ""
      ]
    },
    {
      "cell_type": "markdown",
      "metadata": {
        "id": "1m65HT305Eng"
      },
      "source": [
        "For more information on NumPy objects, review the documentation at: https://docs.scipy.org/doc/numpy/reference/generated/numpy.ndarray.html."
      ]
    },
    {
      "cell_type": "markdown",
      "source": [
        "# Session 2:  Operations With Arrays"
      ],
      "metadata": {
        "id": "agbWV7vFGcXN"
      }
    },
    {
      "cell_type": "markdown",
      "metadata": {
        "id": "mOtZh4Rx5Enh"
      },
      "source": [
        "## Array Operations\n",
        "\n",
        "Arrays are designed to support fast computation and comparisons. The most common types of operations are:\n",
        "- Between arrays and scalars (one value at a time)\n",
        "- Universal functions (np.function_name)\n",
        "    - Unary (performed on a single array): abs, sqrt, ceil, floor\n",
        "    - Binary (performed between two arrays): +, -, <, and, etc.\n",
        "- Mathematical and statistical functions\n",
        "    - Aggregation: mean, sum, std, variance, min/max, etc.\n",
        "    - Non-aggregation: cumsum, cumprod"
      ]
    },
    {
      "cell_type": "markdown",
      "metadata": {
        "id": "2n18h1Ml5Enh"
      },
      "source": [
        "### Broadcasting\n",
        "\n",
        "You can add a scalar value to an array, which will add the scalar as if it were an array of the same size."
      ]
    },
    {
      "cell_type": "code",
      "execution_count": 2,
      "metadata": {
        "id": "AVno_fV15Eni"
      },
      "outputs": [],
      "source": [
        ""
      ]
    },
    {
      "cell_type": "code",
      "execution_count": 2,
      "metadata": {
        "id": "cEioodki5Eni"
      },
      "outputs": [],
      "source": [
        ""
      ]
    },
    {
      "cell_type": "markdown",
      "metadata": {
        "id": "6HjmdUmi5Enj"
      },
      "source": [
        "An array can also be a part of the broadcast if the sizes are compatible."
      ]
    },
    {
      "cell_type": "code",
      "execution_count": 2,
      "metadata": {
        "id": "ud8c7MZo5Enj"
      },
      "outputs": [],
      "source": [
        ""
      ]
    },
    {
      "cell_type": "markdown",
      "metadata": {
        "id": "nSDNby0E5Enk"
      },
      "source": [
        "### Comparison\n",
        "\n",
        "A comparison can take place with a scalar."
      ]
    },
    {
      "cell_type": "code",
      "execution_count": 2,
      "metadata": {
        "id": "rcEJ4d9y5Enl"
      },
      "outputs": [],
      "source": [
        ""
      ]
    },
    {
      "cell_type": "markdown",
      "metadata": {
        "id": "40JEEj455Enm"
      },
      "source": [
        "Or with an array with compatible size."
      ]
    },
    {
      "cell_type": "code",
      "execution_count": 2,
      "metadata": {
        "id": "zQ0M0FbC5Enn"
      },
      "outputs": [],
      "source": [
        ""
      ]
    },
    {
      "cell_type": "markdown",
      "metadata": {
        "id": "SpNdFOWU5Enn"
      },
      "source": [
        "## Practice Problems\n",
        "\n",
        "1. Create and print a one-dimensional array from a list comprehension that produces all odd numbers from 5 through 10.\n",
        "2. Re-do \\#1 without a list comprehension. Then, use broadcasting to square each value.\n",
        "3. **Challenge:** Using your answer from \\#2, print an array of all elements that have a squared value that is at most 50."
      ]
    },
    {
      "cell_type": "code",
      "execution_count": 3,
      "metadata": {
        "id": "CuC8e_7X5Enn"
      },
      "outputs": [],
      "source": [
        "# Answer\n",
        "\n"
      ]
    },
    {
      "cell_type": "markdown",
      "metadata": {
        "id": "mvKLj6hI5Eno"
      },
      "source": [
        "## Universal Functions\n",
        "\n",
        "A **universal function** is a standalone function that performs element-wise operations, using one or two arrays or array-like arguments. To use a universal function, the syntax is:\n",
        "`np.function_name(array_name)`\n",
        "\n",
        "More detail about universal functions can be found in the NumPy documentation: https://numpy.org/doc/stable/reference/ufuncs.html."
      ]
    },
    {
      "cell_type": "code",
      "execution_count": 3,
      "metadata": {
        "id": "dm-_ZlFS5Eno"
      },
      "outputs": [],
      "source": [
        ""
      ]
    },
    {
      "cell_type": "code",
      "execution_count": 3,
      "metadata": {
        "id": "n8-7aZwV5Eno"
      },
      "outputs": [],
      "source": [
        ""
      ]
    },
    {
      "cell_type": "code",
      "execution_count": 3,
      "metadata": {
        "id": "gh42rvmY5Enp"
      },
      "outputs": [],
      "source": [
        ""
      ]
    },
    {
      "cell_type": "markdown",
      "metadata": {
        "id": "eYRX9--m5Enp"
      },
      "source": [
        "## Aggregate Functions\n",
        "\n",
        "An **aggregate function** is a function that aggregates all of the values in an array."
      ]
    },
    {
      "cell_type": "code",
      "execution_count": 4,
      "metadata": {
        "id": "e-CUMknH5Enp"
      },
      "outputs": [],
      "source": [
        "# Examples of aggregate functions\n"
      ]
    },
    {
      "cell_type": "markdown",
      "metadata": {
        "id": "kLy6AdRm5Enq"
      },
      "source": [
        "## Non-Aggregate Functions\n",
        "\n",
        "A **non-aggregate** function does not aggregate all of the values in an array, but performs an action against the values."
      ]
    },
    {
      "cell_type": "code",
      "execution_count": 5,
      "metadata": {
        "id": "DeV9x3XI5Enq"
      },
      "outputs": [],
      "source": [
        "# Examples of non-aggregate functions\n"
      ]
    },
    {
      "cell_type": "markdown",
      "metadata": {
        "id": "s6rBwva-5Enq"
      },
      "source": [
        "## Practice Problems\n",
        "\n",
        "1. Create and print a one-dimensional array for all values between -5 and 10 inclusive.\n",
        "2. Determine and print the average value within the array.\n",
        "3. Determine and print a cumulative sum of the values within the array.\n",
        "4. **Challenge:** Determine and print the sum of values within the array, using the distance of each value from 0. For example, both 4 and -4 have a distance of 4 from 0."
      ]
    },
    {
      "cell_type": "code",
      "execution_count": 6,
      "metadata": {
        "id": "UTeq7jJ_5Enr"
      },
      "outputs": [],
      "source": [
        "# Answer\n"
      ]
    },
    {
      "cell_type": "markdown",
      "metadata": {
        "id": "GEplO7lB5Enr"
      },
      "source": [
        "## Arrays vs. Lists\n",
        "\n",
        "Arrays may seem similar to lists (e.g., they are both mutable and iterable sequences), but they are distinct data structures. Use an array whenever you are performing any large scale computations or comparisons.\n",
        "\n",
        "However, lists do not have restrictions on the size of nested sequences, whereas arrays have restrictions for constructing a useful form of the object."
      ]
    },
    {
      "cell_type": "code",
      "execution_count": 7,
      "metadata": {
        "id": "Pl1oYx0r5Enr"
      },
      "outputs": [],
      "source": [
        "# Example - Cannot create a \"holey\" array\n"
      ]
    },
    {
      "cell_type": "markdown",
      "metadata": {
        "id": "flc7tHth5Ens"
      },
      "source": [
        "### Execution Time"
      ]
    },
    {
      "cell_type": "markdown",
      "metadata": {
        "id": "idi8Toay5Ens"
      },
      "source": [
        "#### Using %timeit to check the time for executing a full cell and %timeit for executing a single line of code, we can see the length of time for creation of a list vs. an array\n",
        "\n",
        "Example: %timeit -r5 -n10000<br>\n",
        "r = number of times to repeat the timer<br>\n",
        "n = number of times to execute the statement"
      ]
    },
    {
      "cell_type": "code",
      "execution_count": 7,
      "metadata": {
        "id": "_HRZg0dt5Ens"
      },
      "outputs": [],
      "source": [
        ""
      ]
    },
    {
      "cell_type": "markdown",
      "metadata": {
        "id": "ZSwdb1rW5Ent"
      },
      "source": [
        "#### List Creation"
      ]
    },
    {
      "cell_type": "code",
      "execution_count": 7,
      "metadata": {
        "id": "4_6l2W6Z5Ent"
      },
      "outputs": [],
      "source": [
        ""
      ]
    },
    {
      "cell_type": "markdown",
      "metadata": {
        "id": "Bhi3A38l5Ent"
      },
      "source": [
        "#### Array Creation"
      ]
    },
    {
      "cell_type": "code",
      "execution_count": 7,
      "metadata": {
        "id": "gy1b4Y4B5Enu"
      },
      "outputs": [],
      "source": [
        ""
      ]
    },
    {
      "cell_type": "markdown",
      "metadata": {
        "id": "7qUB-yLw5Enu"
      },
      "source": [
        "<font color='red'>Using the array yields a far faster time to run!!!</font>"
      ]
    },
    {
      "cell_type": "markdown",
      "metadata": {
        "id": "_bEruns_5Enu"
      },
      "source": [
        "## Indexing and Slicing\n",
        "\n",
        "Array indexing and slicing are similar to lists."
      ]
    },
    {
      "cell_type": "code",
      "execution_count": 7,
      "metadata": {
        "id": "z17eCEuJ5Enu"
      },
      "outputs": [],
      "source": [
        ""
      ]
    },
    {
      "cell_type": "markdown",
      "metadata": {
        "id": "KEioz6TF5Env"
      },
      "source": [
        "Lists rely on a *deep copy*, while arrays rely on a *shallow copy*.\n",
        "- Any changes to a list slice are not reflected in the original list.\n",
        "- Any changes to an array slice are reflected in the original array."
      ]
    },
    {
      "cell_type": "code",
      "execution_count": 7,
      "metadata": {
        "id": "FAgUhZmN5Env"
      },
      "outputs": [],
      "source": [
        ""
      ]
    },
    {
      "cell_type": "code",
      "execution_count": 7,
      "metadata": {
        "id": "q3j-UWXj5Enw"
      },
      "outputs": [],
      "source": [
        ""
      ]
    },
    {
      "cell_type": "markdown",
      "metadata": {
        "id": "LYjO83CS5Enw"
      },
      "source": [
        "To force a deep copy to be created for an array, use the `copy()` function."
      ]
    },
    {
      "cell_type": "code",
      "execution_count": 7,
      "metadata": {
        "id": "bGZKKF5B5Enw"
      },
      "outputs": [],
      "source": [
        ""
      ]
    },
    {
      "cell_type": "markdown",
      "metadata": {
        "id": "MF3tvNQq5Enx"
      },
      "source": [
        "## Filtering Data\n",
        "\n",
        "### Index Arrays\n",
        "\n",
        "One way to filter data is to create an array based on the indices of another array. Each element in the index array is replaced with the corresponding values in the original array. An array copy is made."
      ]
    },
    {
      "cell_type": "code",
      "execution_count": 7,
      "metadata": {
        "id": "9f-L7r_M5Enx"
      },
      "outputs": [],
      "source": [
        ""
      ]
    },
    {
      "cell_type": "markdown",
      "metadata": {
        "id": "w2yNQLKC5Enx"
      },
      "source": [
        "### Boolean Arrays"
      ]
    },
    {
      "cell_type": "markdown",
      "metadata": {
        "id": "4FNoB8y95Enx"
      },
      "source": [
        "Another way to filter data is to create an array based another array of Booleans. Each element in the original array is returned if the corresponding boolean scalar is True. An array copy is made."
      ]
    },
    {
      "cell_type": "code",
      "execution_count": 7,
      "metadata": {
        "id": "5YWKpDe65Eny"
      },
      "outputs": [],
      "source": [
        ""
      ]
    },
    {
      "cell_type": "markdown",
      "metadata": {
        "id": "ThU0eekL5Eny"
      },
      "source": [
        "### Conditional Filtering\n",
        "\n",
        "Another way to filter data is to create an array based on a conditional value. Only elements that meet the criteria are included. An array copy is made\n",
        "\n",
        "* `&` - and\n",
        "* `|` - or"
      ]
    },
    {
      "cell_type": "code",
      "execution_count": 7,
      "metadata": {
        "id": "Os1OA5mi5Eny"
      },
      "outputs": [],
      "source": [
        ""
      ]
    },
    {
      "cell_type": "markdown",
      "metadata": {
        "id": "3QNlW5xl5Enz"
      },
      "source": [
        "## Practice Problems\n",
        "\n",
        "1. Create an array containing all numbers between 10 and 20, inclusive.\n",
        "2. Using the original array created, create another array that contains the values: 11, 12, 19, 18, 13.\n",
        "3. Repeat the previous problem, using the original array, but now the array should contain the values: 11, 12, 13, 18, 19. Create the array using a different technique than before.\n",
        "4. Using the original array, create another array containing all values between 14 and 18, exclusive of these values."
      ]
    },
    {
      "cell_type": "code",
      "execution_count": 8,
      "metadata": {
        "id": "G2YZFp6h5En0"
      },
      "outputs": [],
      "source": [
        "# Answer\n"
      ]
    },
    {
      "cell_type": "markdown",
      "metadata": {
        "id": "9_yN6vHM5En1"
      },
      "source": [
        "## Boolean Data for Data Analysis\n",
        "\n",
        "Boolean arrays can be used to learn about the data."
      ]
    },
    {
      "cell_type": "code",
      "execution_count": 9,
      "metadata": {
        "id": "qFHMb_fu5En2"
      },
      "outputs": [],
      "source": [
        "# Example: Count the number of values that meet a conditional\n"
      ]
    },
    {
      "cell_type": "code",
      "execution_count": 10,
      "metadata": {
        "id": "E77lLQXV5En3"
      },
      "outputs": [],
      "source": [
        "# Example: Do any of the values satisfy a given condition?\n"
      ]
    },
    {
      "cell_type": "code",
      "execution_count": 11,
      "metadata": {
        "id": "pwt0KpOk5En9"
      },
      "outputs": [],
      "source": [
        "# Example: Do all of the values satisfy a given condition\n"
      ]
    },
    {
      "cell_type": "markdown",
      "metadata": {
        "id": "uvJfBF9G5En9"
      },
      "source": [
        "## Working with Multidimensional Arrays\n",
        "\n",
        "Indexing and slicing multi-dimensional arrays is fairly intuitive. \n",
        "- A one dimensional array contains 0-dimensional values (scalars)\n",
        "- A 2-dimensional array is an array of 1-d arrays\n",
        "- A 3-dimension array has 3 dimensions corresponding to the position of each 2-d array, 1-d array, and scalar value, respectively.\n",
        "- And so on, for higher dimensions.\n",
        "\n",
        "Dimensions are accessed in order, by successive indexing and by slicing operations."
      ]
    },
    {
      "cell_type": "markdown",
      "metadata": {
        "id": "LI6n0rcP5En-"
      },
      "source": [
        "### Creating a Two-Dimensional Array\n",
        "\n",
        "Specify two dimensions (rows and columns)"
      ]
    },
    {
      "cell_type": "code",
      "execution_count": 11,
      "metadata": {
        "id": "6pmbNjHS5En-"
      },
      "outputs": [],
      "source": [
        ""
      ]
    },
    {
      "cell_type": "markdown",
      "metadata": {
        "id": "DIM0pRCk5En-"
      },
      "source": [
        "### Slicing Rows and Columns\n",
        "\n",
        "Slicing rows and columns of a multidimensional array is performed in a similar manner to a one dimensional array"
      ]
    },
    {
      "cell_type": "code",
      "execution_count": 12,
      "metadata": {
        "id": "5rwu1Y8U5En-"
      },
      "outputs": [],
      "source": [
        "# Slice the first row of the previous array\n"
      ]
    },
    {
      "cell_type": "code",
      "execution_count": 13,
      "metadata": {
        "id": "q8pAVlW05En_"
      },
      "outputs": [],
      "source": [
        "# Slice the second column of the previous array\n"
      ]
    },
    {
      "cell_type": "code",
      "execution_count": 14,
      "metadata": {
        "id": "AZgs1Aqc5En_"
      },
      "outputs": [],
      "source": [
        "# Show all rows, starting at the 2nd row, for the 1st and 2nd column\n"
      ]
    },
    {
      "cell_type": "markdown",
      "metadata": {
        "id": "v-LqakoY5En_"
      },
      "source": [
        "### Creating a Three-Dimensional Array\n",
        "\n",
        "Specify three dimensions (numbe of matrices, rows, and columns). Each element is a two-dimensional array"
      ]
    },
    {
      "cell_type": "code",
      "execution_count": 14,
      "metadata": {
        "id": "fTNXocF15EoA"
      },
      "outputs": [],
      "source": [
        ""
      ]
    },
    {
      "cell_type": "code",
      "execution_count": 15,
      "metadata": {
        "id": "ZXkoRdXU5EoA"
      },
      "outputs": [],
      "source": [
        "# Access the 2nd matrix\n"
      ]
    },
    {
      "cell_type": "code",
      "execution_count": 16,
      "metadata": {
        "id": "gU9KbHuI5EoA"
      },
      "outputs": [],
      "source": [
        "# For all matrices, access all columns, in the 2nd row\n"
      ]
    },
    {
      "cell_type": "markdown",
      "metadata": {
        "id": "5s2rBSH35EoA"
      },
      "source": [
        "## Generating Values Based on Condition\n",
        "\n",
        "Previous way: Using a `for` loop, map with a lambda function or list comprehension could then be cast to an array – too much work and processing!\n",
        "\n",
        "For arrays, use the `where()` function."
      ]
    },
    {
      "cell_type": "code",
      "execution_count": 17,
      "metadata": {
        "id": "B6Mi0_Nf5EoB"
      },
      "outputs": [],
      "source": [
        "# Flip a coin a number of times\n"
      ]
    },
    {
      "cell_type": "markdown",
      "metadata": {
        "id": "GqVy_A1T5EoB"
      },
      "source": [
        "Use of the where function can be nested."
      ]
    },
    {
      "cell_type": "code",
      "execution_count": 18,
      "metadata": {
        "id": "jV8Y6Etk5EoC"
      },
      "outputs": [],
      "source": [
        "# Choose between 3 options\n"
      ]
    },
    {
      "cell_type": "markdown",
      "metadata": {
        "id": "lJkRIPRg5EoT"
      },
      "source": [
        "## Practice Problems\n",
        "\n",
        "Create an array that contains 5 columns and 3 rows of random values. Then, using the array you created:\n",
        "1. Print the second row\n",
        "2. Print the first and third rows\n",
        "3. Print the middle three columns\n",
        "4. **Challenge:** Starting with the second column, print every other column"
      ]
    },
    {
      "cell_type": "code",
      "execution_count": 20,
      "metadata": {
        "id": "39t1LMsf5EoU"
      },
      "outputs": [],
      "source": [
        "# Answer \n"
      ]
    },
    {
      "cell_type": "markdown",
      "metadata": {
        "id": "jkLCHDcM5EoC"
      },
      "source": [
        "## Sorting\n",
        "\n",
        "The `sort(array)` function returns a copy of a sorted array."
      ]
    },
    {
      "cell_type": "code",
      "execution_count": 19,
      "metadata": {
        "id": "rNzsN6Zn5EoC"
      },
      "outputs": [],
      "source": [
        "# Example sorting\n"
      ]
    },
    {
      "cell_type": "markdown",
      "metadata": {
        "id": "G6-ZCn665EoC"
      },
      "source": [
        "An array can also be sorted without creating a new array."
      ]
    },
    {
      "cell_type": "code",
      "execution_count": 19,
      "metadata": {
        "id": "T6YuAKkY5EoD"
      },
      "outputs": [],
      "source": [
        ""
      ]
    },
    {
      "cell_type": "markdown",
      "metadata": {
        "id": "iWZSR9Ri5EoD"
      },
      "source": [
        "It is also possible to gather the indexes of a sorted array."
      ]
    },
    {
      "cell_type": "code",
      "execution_count": 19,
      "metadata": {
        "id": "-NEy9QWq5EoE"
      },
      "outputs": [],
      "source": [
        ""
      ]
    },
    {
      "cell_type": "markdown",
      "metadata": {
        "id": "v9inkDcJ5EoK"
      },
      "source": [
        "## Manipulating and Combining Arrays\n",
        "\n",
        "Sometimes you will need to manipulate or combine multiple arrays of data prior to performing any analysis. Built-in functions can help."
      ]
    },
    {
      "cell_type": "markdown",
      "metadata": {
        "id": "yoTqwGkE5EoK"
      },
      "source": [
        "### Manipulating Arrays\n",
        "\n",
        "Using the `reshape()` function, an array can change in its dimensions. The original array *is not* changed."
      ]
    },
    {
      "cell_type": "code",
      "execution_count": 19,
      "metadata": {
        "id": "c1vmc_n05EoK"
      },
      "outputs": [],
      "source": [
        ""
      ]
    },
    {
      "cell_type": "code",
      "execution_count": 19,
      "metadata": {
        "id": "L5FnqKfU5EoL"
      },
      "outputs": [],
      "source": [
        ""
      ]
    },
    {
      "cell_type": "code",
      "execution_count": 19,
      "metadata": {
        "id": "pue0D7a85EoL"
      },
      "outputs": [],
      "source": [
        ""
      ]
    },
    {
      "cell_type": "code",
      "execution_count": 19,
      "metadata": {
        "id": "uBcbzMqx5EoL"
      },
      "outputs": [],
      "source": [
        ""
      ]
    },
    {
      "cell_type": "markdown",
      "metadata": {
        "id": "Ln0ArD5U5EoM"
      },
      "source": [
        "Using the `resize()` function is similar to the `reshape()` function, but the original array *is* changed."
      ]
    },
    {
      "cell_type": "code",
      "execution_count": 19,
      "metadata": {
        "id": "DXVCx1Y55EoM"
      },
      "outputs": [],
      "source": [
        ""
      ]
    },
    {
      "cell_type": "code",
      "execution_count": 19,
      "metadata": {
        "id": "ylZE-c4q5EoM"
      },
      "outputs": [],
      "source": [
        ""
      ]
    },
    {
      "cell_type": "markdown",
      "metadata": {
        "id": "6PjzyHLM5EoM"
      },
      "source": [
        "The `T attribute` returns a transposed view (shallow copy) with rows and columns switched. The original array *is not* changed."
      ]
    },
    {
      "cell_type": "code",
      "execution_count": 19,
      "metadata": {
        "id": "jOtI1NNK5EoN"
      },
      "outputs": [],
      "source": [
        ""
      ]
    },
    {
      "cell_type": "code",
      "execution_count": 19,
      "metadata": {
        "id": "9a7EJqTY5EoN"
      },
      "outputs": [],
      "source": [
        ""
      ]
    },
    {
      "cell_type": "code",
      "execution_count": 19,
      "metadata": {
        "id": "-wIqRK8h5EoO"
      },
      "outputs": [],
      "source": [
        ""
      ]
    },
    {
      "cell_type": "markdown",
      "metadata": {
        "id": "xTaHKQ1g5EoO"
      },
      "source": [
        "The `flatten()` function takes a multidimensional array and converts it to a single dimension array. The original array *is not* changed because a deep copy is created."
      ]
    },
    {
      "cell_type": "code",
      "execution_count": 19,
      "metadata": {
        "id": "jQO3qkae5EoO"
      },
      "outputs": [],
      "source": [
        ""
      ]
    },
    {
      "cell_type": "code",
      "execution_count": 19,
      "metadata": {
        "id": "xAVmAXMb5EoO"
      },
      "outputs": [],
      "source": [
        ""
      ]
    },
    {
      "cell_type": "code",
      "execution_count": 19,
      "metadata": {
        "id": "l89-BaMl5EoP"
      },
      "outputs": [],
      "source": [
        ""
      ]
    },
    {
      "cell_type": "markdown",
      "metadata": {
        "id": "YzFUIA-s5EoP"
      },
      "source": [
        "The `flatten()` function allows various arguments, such as:\n",
        "- `'C'` for flatten in C style: by rows, then by columns in each row (default)\n",
        "- `'F'` for flatten in Fortran style: by columns, then by rows in each column"
      ]
    },
    {
      "cell_type": "code",
      "execution_count": 19,
      "metadata": {
        "id": "NEWG1Q4g5EoP"
      },
      "outputs": [],
      "source": [
        ""
      ]
    },
    {
      "cell_type": "markdown",
      "metadata": {
        "id": "HSXPrRAY5EoQ"
      },
      "source": [
        "The `ravel()` function is similar to the `flatten()` function, but the original array is changed because a shallow copy is created."
      ]
    },
    {
      "cell_type": "code",
      "execution_count": 19,
      "metadata": {
        "id": "i7AgKbHL5EoQ"
      },
      "outputs": [],
      "source": [
        ""
      ]
    },
    {
      "cell_type": "code",
      "execution_count": 19,
      "metadata": {
        "id": "yXn1jgIa5EoR"
      },
      "outputs": [],
      "source": [
        ""
      ]
    },
    {
      "cell_type": "code",
      "execution_count": 19,
      "metadata": {
        "id": "cWn8aChK5EoR"
      },
      "outputs": [],
      "source": [
        ""
      ]
    },
    {
      "cell_type": "markdown",
      "metadata": {
        "id": "lEFzqrNv5EoR"
      },
      "source": [
        "### Combining Arrays\n",
        "\n",
        "Vertical stacking with the `vstack()` function adds more rows."
      ]
    },
    {
      "cell_type": "code",
      "execution_count": 19,
      "metadata": {
        "id": "6l7RjxsX5EoS"
      },
      "outputs": [],
      "source": [
        ""
      ]
    },
    {
      "cell_type": "markdown",
      "metadata": {
        "id": "l35lxEuL5EoS"
      },
      "source": [
        "Horizontal stacking with the `hstack()` function adds more columns."
      ]
    },
    {
      "cell_type": "code",
      "execution_count": 19,
      "metadata": {
        "id": "2Q4imyTD5EoT"
      },
      "outputs": [],
      "source": [
        ""
      ]
    },
    {
      "cell_type": "markdown",
      "metadata": {
        "id": "egGj6o_Q5EoW"
      },
      "source": [
        "## File Input/Output\n",
        "\n",
        "There are two primary ways to save/load NumPy arrays to/from a file.\n",
        "- Binary Format (.npy) – `np.save` and `np.load`\n",
        "- Text Delimited (.txt) = `np.savetxt` and `np.loadtxt`\n",
        "\n",
        "Using these pre-built functions is easier than using the Python built-in method for reading from a file"
      ]
    },
    {
      "cell_type": "code",
      "execution_count": 21,
      "metadata": {
        "id": "UX3Ak7nZ5EoX"
      },
      "outputs": [],
      "source": [
        "# Example \n"
      ]
    },
    {
      "cell_type": "markdown",
      "metadata": {
        "id": "wu0EtQsq5EoY"
      },
      "source": [
        "### File Output"
      ]
    },
    {
      "cell_type": "code",
      "execution_count": 21,
      "metadata": {
        "id": "BIaHf1mH5EoZ"
      },
      "outputs": [],
      "source": [
        ""
      ]
    },
    {
      "cell_type": "code",
      "execution_count": 21,
      "metadata": {
        "id": "tPYWSHIp5EoZ"
      },
      "outputs": [],
      "source": [
        ""
      ]
    },
    {
      "cell_type": "markdown",
      "metadata": {
        "id": "G-rs-1VC5Eoa"
      },
      "source": [
        "### File Input\n",
        "\n",
        "To load a text file, the `np.loadtxt` function can be used. Details: https://numpy.org/doc/stable/reference/generated/numpy.loadtxt.html. Each row in the text file **must** have the same number of values\n",
        "\n",
        "Required Parameter:\n",
        "* `fname` - Filename where the data is located\n",
        "\n",
        "Some Optional Parameters:\n",
        "* `dtype` - Data type of the resulting array. The default is float.\n",
        "* `delimiter` - String used to separate values. The default value is whitespace. For CSV files, a ',' should be used.\n",
        "* `skiprows` - Integer representing the number of rows to skip importing. The default is 0.\n",
        "* `usecols` - Intenger or sequence representing which columns to read. The default is all columns are read. When pulling multiple columns, use a tuple.\n",
        "* `max_rows` - Integer representing the number of lines of content to read after any `skiprows` lines. The default is to read all lines."
      ]
    },
    {
      "cell_type": "code",
      "execution_count": 21,
      "metadata": {
        "id": "XVSYFrVR5Eoa"
      },
      "outputs": [],
      "source": [
        ""
      ]
    },
    {
      "cell_type": "markdown",
      "metadata": {
        "id": "PnIJ_53N5Eoa"
      },
      "source": [
        "## Case Study: Basic Analysis of Stock Quotes\n",
        "\n",
        "Using the data from https://www.nasdaq.com/market-activity/stocks/amzn/historical, stock prices for Amazon (AMZN) were pulled from the year 2021.\n",
        "\n",
        "In reviewing the data file, there are six columns for which data can be pulled. Noting the position of the column relative to the data file is important to determine which columns to use:\n",
        "1. Date - The date the stock was traded\n",
        "2. Close/Last - The last price at which the stock traded during the regular trading day\n",
        "3. Volume - The number of shares traded\n",
        "4. Open - The opening price at which the stock traded\n",
        "5. High - The high price at which the stock traded\n",
        "6. Low - The low price at which the stock traded\n"
      ]
    },
    {
      "cell_type": "code",
      "execution_count": 21,
      "metadata": {
        "id": "bHY50HOp5Eob"
      },
      "outputs": [],
      "source": [
        ""
      ]
    },
    {
      "cell_type": "code",
      "execution_count": 21,
      "metadata": {
        "id": "FFzjr53I5Eob"
      },
      "outputs": [],
      "source": [
        ""
      ]
    },
    {
      "cell_type": "markdown",
      "metadata": {
        "id": "kTGBOOEJ5Eoc"
      },
      "source": [
        "## Practice Problems\n",
        "\n",
        "Using the stock data set, analyze the data to programatically print answers to the following business questions, making sure your answer is completed in well-formatted sentences.\n",
        "\n",
        "1. What was the lowest and highest opening price for the AMZN stock?\n",
        "2. How many days saw a high trading price that exceeded \\$2,500?\n",
        "3. Did the AMZN stock ever have an opening price less than \\$1,500? Your answer must include the phrase \"did have\" or \"did not have\".\n",
        "4. What were the top 3 opening prices for the AMZN stock?\n"
      ]
    },
    {
      "cell_type": "code",
      "execution_count": 22,
      "metadata": {
        "id": "TTgAzJkt5Eoc"
      },
      "outputs": [],
      "source": [
        "# Answer\n"
      ]
    },
    {
      "cell_type": "markdown",
      "metadata": {
        "id": "kMAY1l-e5Eod"
      },
      "source": [
        "## Preview: Data Visualization\n",
        "\n",
        "Using the matplotlib Python library, a simple line graph can be created to plot data gathered from the NumPy arrays, such as the change in closing price"
      ]
    },
    {
      "cell_type": "code",
      "execution_count": 22,
      "metadata": {
        "id": "S3habfyi5Eoe"
      },
      "outputs": [],
      "source": [
        ""
      ]
    },
    {
      "cell_type": "code",
      "execution_count": 22,
      "metadata": {
        "id": "d4JlCU0m5Eoe"
      },
      "outputs": [],
      "source": [
        ""
      ]
    }
  ],
  "metadata": {
    "kernelspec": {
      "display_name": "Python 3",
      "language": "python",
      "name": "python3"
    },
    "language_info": {
      "codemirror_mode": {
        "name": "ipython",
        "version": 3
      },
      "file_extension": ".py",
      "mimetype": "text/x-python",
      "name": "python",
      "nbconvert_exporter": "python",
      "pygments_lexer": "ipython3",
      "version": "3.8.3"
    },
    "colab": {
      "name": "Python Libraries for Data Science - NumPy _notebook.ipynb",
      "provenance": []
    }
  },
  "nbformat": 4,
  "nbformat_minor": 0
}