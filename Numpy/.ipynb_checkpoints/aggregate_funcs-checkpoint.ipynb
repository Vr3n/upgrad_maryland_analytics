{
 "cells": [
  {
   "cell_type": "code",
   "execution_count": null,
   "id": "5f61a09f-d6d2-4299-b016-c626f398c241",
   "metadata": {},
   "outputs": [],
   "source": []
  }
 ],
 "metadata": {
  "kernelspec": {
   "display_name": "Python 3 (ipykernel)",
   "language": "python",
   "name": "python3"
  },
  "language_info": {
   "name": ""
  }
 },
 "nbformat": 4,
 "nbformat_minor": 5
}
