{
 "cells": [
  {
   "cell_type": "code",
   "execution_count": null,
   "id": "17ebc98d-ea76-4c93-af9e-31874d2b8947",
   "metadata": {},
   "outputs": [],
   "source": []
  }
 ],
 "metadata": {
  "kernelspec": {
   "display_name": "Python 3 (ipykernel)",
   "language": "python",
   "name": "python3"
  },
  "language_info": {
   "name": ""
  }
 },
 "nbformat": 4,
 "nbformat_minor": 5
}
