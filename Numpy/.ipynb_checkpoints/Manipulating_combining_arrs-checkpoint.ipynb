{
 "cells": [
  {
   "cell_type": "markdown",
   "id": "8b2845b0-74c2-4f3c-9f55-f01bf23efcb6",
   "metadata": {},
   "source": [
    "### Manipulating and Combining Arrays\r\n"
   ]
  },
  {
   "cell_type": "markdown",
   "id": "68058252-ec2c-46a0-a26c-38b9108b3bff",
   "metadata": {},
   "source": [
    "Using the `reshape()` function, an array can change in its dimensions. The original array is not changed."
   ]
  },
  {
   "cell_type": "code",
   "execution_count": 2,
   "id": "3ba5a052-d65a-45ab-9431-dc2e395c1154",
   "metadata": {},
   "outputs": [],
   "source": [
    "import numpy as np"
   ]
  },
  {
   "cell_type": "code",
   "execution_count": 4,
   "id": "a7b03655-2e7e-416e-8e69-98724ae2a39b",
   "metadata": {},
   "outputs": [
    {
     "data": {
      "text/plain": [
       "array([0, 1, 2, 3, 4, 5, 6, 7])"
      ]
     },
     "execution_count": 4,
     "metadata": {},
     "output_type": "execute_result"
    }
   ],
   "source": [
    "arr1 = np.arange(8)\n",
    "arr1"
   ]
  },
  {
   "cell_type": "code",
   "execution_count": 5,
   "id": "316958f2-3116-4252-95f1-50f1c8be4b2f",
   "metadata": {},
   "outputs": [
    {
     "data": {
      "text/plain": [
       "array([[0, 1, 2, 3],\n",
       "       [4, 5, 6, 7]])"
      ]
     },
     "execution_count": 5,
     "metadata": {},
     "output_type": "execute_result"
    }
   ],
   "source": [
    "arr1.reshape(2, 4)"
   ]
  },
  {
   "cell_type": "markdown",
   "id": "be582da9-a598-47d8-8f97-6d505d2abe59",
   "metadata": {},
   "source": [
    "Using the `resize()` function is similar to the `reshape()` function, but the original is changed."
   ]
  },
  {
   "cell_type": "code",
   "execution_count": 7,
   "id": "9fec66f4-f691-4b56-9c0e-159bb3e6a69f",
   "metadata": {},
   "outputs": [
    {
     "data": {
      "text/plain": [
       "array([0, 1, 2, 3, 4, 5, 6, 7])"
      ]
     },
     "execution_count": 7,
     "metadata": {},
     "output_type": "execute_result"
    }
   ],
   "source": [
    "arr2 = np.arange(8)\n",
    "arr2"
   ]
  },
  {
   "cell_type": "code",
   "execution_count": 8,
   "id": "66caae92-1a78-439e-a2db-3337acec5ba3",
   "metadata": {},
   "outputs": [
    {
     "data": {
      "text/plain": [
       "array([[0, 1, 2, 3],\n",
       "       [4, 5, 6, 7]])"
      ]
     },
     "execution_count": 8,
     "metadata": {},
     "output_type": "execute_result"
    }
   ],
   "source": [
    "arr2.resize(2, 4)\n",
    "arr2"
   ]
  },
  {
   "cell_type": "markdown",
   "id": "753aa4cb-cb3a-4743-ba98-a642af2b6dfa",
   "metadata": {},
   "source": [
    "The `T attribute` returns a transposed view with rows and columns switched. The original array is not changed."
   ]
  },
  {
   "cell_type": "code",
   "execution_count": 9,
   "id": "f3a1db3d-6315-4b91-bb92-62f6bd634afc",
   "metadata": {},
   "outputs": [
    {
     "data": {
      "text/plain": [
       "array([[0.35901102, 0.40342865],\n",
       "       [0.28842198, 0.04308833],\n",
       "       [0.97396045, 0.77928132],\n",
       "       [0.17213427, 0.5597896 ]])"
      ]
     },
     "execution_count": 9,
     "metadata": {},
     "output_type": "execute_result"
    }
   ],
   "source": [
    "arr3 = np.random.rand(4, 2)\n",
    "arr3"
   ]
  },
  {
   "cell_type": "code",
   "execution_count": 10,
   "id": "6abf61be-a16b-44cc-822f-dc088febe8af",
   "metadata": {},
   "outputs": [
    {
     "data": {
      "text/plain": [
       "array([[0.35901102, 0.28842198, 0.97396045, 0.17213427],\n",
       "       [0.40342865, 0.04308833, 0.77928132, 0.5597896 ]])"
      ]
     },
     "execution_count": 10,
     "metadata": {},
     "output_type": "execute_result"
    }
   ],
   "source": [
    "arr3.T"
   ]
  },
  {
   "cell_type": "code",
   "execution_count": 11,
   "id": "384ce6fa-8b84-40ac-b17d-1053b441d210",
   "metadata": {},
   "outputs": [
    {
     "data": {
      "text/plain": [
       "array([[0.35901102, 0.40342865],\n",
       "       [0.28842198, 0.04308833],\n",
       "       [0.97396045, 0.77928132],\n",
       "       [0.17213427, 0.5597896 ]])"
      ]
     },
     "execution_count": 11,
     "metadata": {},
     "output_type": "execute_result"
    }
   ],
   "source": [
    "arr3"
   ]
  },
  {
   "cell_type": "markdown",
   "id": "36dfe379-439a-4aaa-ace1-9583749b2819",
   "metadata": {},
   "source": [
    "The `flatten()` function takes a multidimensional array and converts it to a single dimension array.\n",
    "The original array is _not_ changed because a deep copy is created."
   ]
  },
  {
   "cell_type": "code",
   "execution_count": 12,
   "id": "aea8e0d6-b334-4d9d-a192-3418e6076dad",
   "metadata": {},
   "outputs": [],
   "source": [
    "arr1 = np.arange(15).reshape(3, 5)"
   ]
  },
  {
   "cell_type": "code",
   "execution_count": 13,
   "id": "f93df596-9705-4d05-a04d-cc4fdb3ba042",
   "metadata": {},
   "outputs": [
    {
     "data": {
      "text/plain": [
       "array([[ 0,  1,  2,  3,  4],\n",
       "       [ 5,  6,  7,  8,  9],\n",
       "       [10, 11, 12, 13, 14]])"
      ]
     },
     "execution_count": 13,
     "metadata": {},
     "output_type": "execute_result"
    }
   ],
   "source": [
    "arr1"
   ]
  },
  {
   "cell_type": "code",
   "execution_count": 15,
   "id": "f89c744e-a21b-4d78-92a6-89ca58ca3219",
   "metadata": {},
   "outputs": [],
   "source": [
    "flattened_arr = arr1.flatten()"
   ]
  },
  {
   "cell_type": "code",
   "execution_count": 16,
   "id": "21899d48-46c0-4700-a831-c4416761d49c",
   "metadata": {},
   "outputs": [
    {
     "data": {
      "text/plain": [
       "array([ 0,  1,  2,  3,  4,  5,  6,  7,  8,  9, 10, 11, 12, 13, 14])"
      ]
     },
     "execution_count": 16,
     "metadata": {},
     "output_type": "execute_result"
    }
   ],
   "source": [
    "flattened_arr"
   ]
  },
  {
   "cell_type": "markdown",
   "id": "0892e3ca-b322-4020-8859-94e7ea529f84",
   "metadata": {},
   "source": [
    "The `flatten()` function allows various args, such as:\n",
    "- `'C'` for flatten in C style: by rows, then by columns in each row (default).\n",
    "- `'F'` for flatten in Fortran style: by columns, then by rows in each column."
   ]
  },
  {
   "cell_type": "code",
   "execution_count": 17,
   "id": "4f94b786-8e7e-4248-abf5-a99fb41fc22d",
   "metadata": {},
   "outputs": [
    {
     "data": {
      "text/plain": [
       "array([ 0,  1,  2,  3,  4,  5,  6,  7,  8,  9, 10, 11, 12, 13, 14])"
      ]
     },
     "execution_count": 17,
     "metadata": {},
     "output_type": "execute_result"
    }
   ],
   "source": [
    "flatten_array_c = arr1.flatten('C')\n",
    "flatten_array_c"
   ]
  },
  {
   "cell_type": "code",
   "execution_count": 18,
   "id": "e5741afe-444d-4cc1-83d2-acd05b55326c",
   "metadata": {},
   "outputs": [
    {
     "data": {
      "text/plain": [
       "array([ 0,  5, 10,  1,  6, 11,  2,  7, 12,  3,  8, 13,  4,  9, 14])"
      ]
     },
     "execution_count": 18,
     "metadata": {},
     "output_type": "execute_result"
    }
   ],
   "source": [
    "flatten_array_f = arr1.flatten('F')\n",
    "flatten_array_f"
   ]
  },
  {
   "cell_type": "markdown",
   "id": "ee9edfc1-32f1-4eb6-8e66-6b6472d4ff08",
   "metadata": {},
   "source": [
    "The `ravel()` function is similar to `flatten()`, but the original array is changed because a shallow copy is created."
   ]
  },
  {
   "cell_type": "code",
   "execution_count": 19,
   "id": "4e75384f-b4ee-42f9-ab86-f197d73c5ad3",
   "metadata": {},
   "outputs": [
    {
     "data": {
      "text/plain": [
       "array([[ 0,  1,  2,  3,  4],\n",
       "       [ 5,  6,  7,  8,  9],\n",
       "       [10, 11, 12, 13, 14]])"
      ]
     },
     "execution_count": 19,
     "metadata": {},
     "output_type": "execute_result"
    }
   ],
   "source": [
    "arr2 = np.arange(15).reshape(3, 5)\n",
    "arr2"
   ]
  },
  {
   "cell_type": "code",
   "execution_count": 20,
   "id": "24b67f81-0c74-4c05-9ec3-8f601cf1a041",
   "metadata": {},
   "outputs": [
    {
     "data": {
      "text/plain": [
       "array([ 0,  1,  2,  3,  4,  5,  6,  7,  8,  9, 10, 11, 12, 13, 14])"
      ]
     },
     "execution_count": 20,
     "metadata": {},
     "output_type": "execute_result"
    }
   ],
   "source": [
    "arr_ravel = arr2.ravel()\n",
    "arr_ravel"
   ]
  },
  {
   "cell_type": "code",
   "execution_count": 21,
   "id": "c40d986e-df88-451f-95b7-f46871d93a76",
   "metadata": {},
   "outputs": [
    {
     "data": {
      "text/plain": [
       "array([[-100,    1,    2,    3,    4],\n",
       "       [   5,    6,    7,    8,    9],\n",
       "       [  10,   11,   12,   13,   14]])"
      ]
     },
     "execution_count": 21,
     "metadata": {},
     "output_type": "execute_result"
    }
   ],
   "source": [
    "arr_ravel[0] = -100\n",
    "arr2"
   ]
  },
  {
   "cell_type": "markdown",
   "id": "7a393ed1-29b4-4d29-b096-b89501324468",
   "metadata": {},
   "source": [
    "### Combining Arrays"
   ]
  },
  {
   "cell_type": "markdown",
   "id": "293951dd-2373-4ec2-942c-e10d9dcd5685",
   "metadata": {},
   "source": [
    "Sometimes you will need to combine arrays of data prior to performing any analysis. Built-in functions can help."
   ]
  },
  {
   "cell_type": "markdown",
   "id": "28de2aee-6545-4da3-83a2-bdaddc0efacf",
   "metadata": {},
   "source": [
    "Vertical stacking with the `vstack()` function adds more rows."
   ]
  },
  {
   "cell_type": "code",
   "execution_count": 22,
   "id": "511fc72e-6cb4-4de6-a07f-cddcffac56ef",
   "metadata": {},
   "outputs": [],
   "source": [
    "arr1 = np.random.rand(4, 2)\n",
    "arr2 = np.random.rand(4, 2)"
   ]
  },
  {
   "cell_type": "code",
   "execution_count": 23,
   "id": "18c3b522-3fa9-4134-8a35-a6c1eb56d0ce",
   "metadata": {},
   "outputs": [
    {
     "data": {
      "text/plain": [
       "array([[0.31470881, 0.89307049],\n",
       "       [0.18301143, 0.15998852],\n",
       "       [0.93889553, 0.24611774],\n",
       "       [0.72753417, 0.18659116]])"
      ]
     },
     "execution_count": 23,
     "metadata": {},
     "output_type": "execute_result"
    }
   ],
   "source": [
    "arr1"
   ]
  },
  {
   "cell_type": "code",
   "execution_count": 24,
   "id": "4c88bf5c-4b8f-4c98-9182-11dcfc7af6db",
   "metadata": {},
   "outputs": [
    {
     "data": {
      "text/plain": [
       "array([[0.87234153, 0.46097769],\n",
       "       [0.3854876 , 0.22050477],\n",
       "       [0.43694481, 0.1933586 ],\n",
       "       [0.0381186 , 0.16234715]])"
      ]
     },
     "execution_count": 24,
     "metadata": {},
     "output_type": "execute_result"
    }
   ],
   "source": [
    "arr2"
   ]
  },
  {
   "cell_type": "code",
   "execution_count": 26,
   "id": "295746f8-3abd-4096-b66d-39dd9cbaee2a",
   "metadata": {},
   "outputs": [],
   "source": [
    "arr3 = np.vstack([arr1, arr2])"
   ]
  },
  {
   "cell_type": "code",
   "execution_count": 27,
   "id": "51cf2ba3-e878-4213-99d2-44e2ef49f1b1",
   "metadata": {},
   "outputs": [
    {
     "data": {
      "text/plain": [
       "array([[0.31470881, 0.89307049],\n",
       "       [0.18301143, 0.15998852],\n",
       "       [0.93889553, 0.24611774],\n",
       "       [0.72753417, 0.18659116],\n",
       "       [0.87234153, 0.46097769],\n",
       "       [0.3854876 , 0.22050477],\n",
       "       [0.43694481, 0.1933586 ],\n",
       "       [0.0381186 , 0.16234715]])"
      ]
     },
     "execution_count": 27,
     "metadata": {},
     "output_type": "execute_result"
    }
   ],
   "source": [
    "arr3"
   ]
  },
  {
   "cell_type": "markdown",
   "id": "bf4ac355-0cb9-47db-9284-fb5928af20c7",
   "metadata": {},
   "source": [
    "Horzontal Stcking with the `hstack()` function adds more columns."
   ]
  },
  {
   "cell_type": "code",
   "execution_count": 28,
   "id": "5f354065-44e5-41d1-b4a4-6c73ba849da2",
   "metadata": {},
   "outputs": [],
   "source": [
    "arr4 = np.random.rand(4, 2)\n",
    "arr5 = np.random.rand(4, 2)"
   ]
  },
  {
   "cell_type": "code",
   "execution_count": 29,
   "id": "9f523241-5867-4c4f-b8c9-0552e78e2fb8",
   "metadata": {},
   "outputs": [
    {
     "data": {
      "text/plain": [
       "array([[0.90717031, 0.484152  , 0.49148104, 0.99097152],\n",
       "       [0.88503283, 0.54421713, 0.83001751, 0.39636875],\n",
       "       [0.90360473, 0.8111052 , 0.50588841, 0.91439982],\n",
       "       [0.01626988, 0.96208041, 0.7273301 , 0.6458924 ]])"
      ]
     },
     "execution_count": 29,
     "metadata": {},
     "output_type": "execute_result"
    }
   ],
   "source": [
    "arr6 = np.hstack([arr4, arr5])\n",
    "arr6"
   ]
  },
  {
   "cell_type": "markdown",
   "id": "f284fe7f-7b86-4363-ae5c-4d1a72e0b23a",
   "metadata": {},
   "source": [
    "### Comprehension: Gradebook\n",
    "- As a teaching assistant, you maintain an array of student grades for 4 students. They are stored in the array 'grades'\n",
    "- The first and the second rows represent student grades for courses 1 and 2, respectively. Later, you get data on grades for 3 more courses.\n",
    "\n",
    " Create a new array ‘grades_all_courses’ that contains the grades for all 5 courses. Use this array to answer the questions that follow."
   ]
  },
  {
   "cell_type": "code",
   "execution_count": 30,
   "id": "e55fb3d1-cd83-46f1-a41d-a52544b8388f",
   "metadata": {},
   "outputs": [],
   "source": [
    "grades = np.array([[77, 83, 80, 90],\n",
    "                   [83, 89, 82, 87]])"
   ]
  },
  {
   "cell_type": "code",
   "execution_count": 31,
   "id": "21623488-10ae-44a0-9c17-fda09abf73be",
   "metadata": {},
   "outputs": [
    {
     "data": {
      "text/plain": [
       "array([[77, 83, 80, 90],\n",
       "       [83, 89, 82, 87]])"
      ]
     },
     "execution_count": 31,
     "metadata": {},
     "output_type": "execute_result"
    }
   ],
   "source": [
    "grades"
   ]
  },
  {
   "cell_type": "code",
   "execution_count": 37,
   "id": "8d6b9b0f-5bf3-48a1-991e-135967dacb43",
   "metadata": {},
   "outputs": [],
   "source": [
    "grades_course_3 = [86, 82, 88, 89]\n",
    "grades_course_4 = [73, 91, 83, 91]\n",
    "grades_course_5 = [81, 85, 76, 94]"
   ]
  },
  {
   "cell_type": "code",
   "execution_count": 39,
   "id": "f52378b5-9414-4621-a841-ea9e38b8f178",
   "metadata": {},
   "outputs": [
    {
     "data": {
      "text/plain": [
       "array([[77, 83, 80, 90],\n",
       "       [83, 89, 82, 87],\n",
       "       [86, 82, 88, 89],\n",
       "       [73, 91, 83, 91],\n",
       "       [81, 85, 76, 94]])"
      ]
     },
     "execution_count": 39,
     "metadata": {},
     "output_type": "execute_result"
    }
   ],
   "source": [
    "all_grades = np.vstack([grades, grades_course_3, grades_course_4, grades_course_5])\n",
    "all_grades"
   ]
  },
  {
   "cell_type": "code",
   "execution_count": 43,
   "id": "792da73f-1d23-4b4d-9469-bbb9013b0835",
   "metadata": {},
   "outputs": [
    {
     "data": {
      "text/plain": [
       "86.0"
      ]
     },
     "execution_count": 43,
     "metadata": {},
     "output_type": "execute_result"
    }
   ],
   "source": [
    "np.average(all_grades[:, 1])"
   ]
  },
  {
   "cell_type": "markdown",
   "id": "a1e106aa-837b-4681-9179-862e2bb49f2b",
   "metadata": {},
   "source": [
    "#### Broadcasting\n",
    "\n",
    "After looking at the average grades of all studewnts, you course instructors think their grading policies may have been a little harsh. \\\n",
    "They decide to award some bonus grades, which are awarded by course and represented by the `bonus_grades` array as shown below."
   ]
  },
  {
   "cell_type": "code",
   "execution_count": 44,
   "id": "eb7310f9-05dd-4182-9368-9a712c74d184",
   "metadata": {},
   "outputs": [],
   "source": [
    "bonus_grades = np.array([7, 8, 6, 4, 0])"
   ]
  },
  {
   "cell_type": "markdown",
   "id": "8228ed0f-eee1-44d2-b07a-040f63f2c82d",
   "metadata": {},
   "source": [
    "After awarding bonus grades to all students, what will be the average grade for Student 2 for all courses? (Round off the result to an integer value.)"
   ]
  },
  {
   "cell_type": "code",
   "execution_count": 51,
   "id": "3cbb8db7-6439-4c8c-9b57-a46841ed20b7",
   "metadata": {},
   "outputs": [],
   "source": [
    "bonus_grades = bonus_grades.reshape(5, 1)"
   ]
  },
  {
   "cell_type": "code",
   "execution_count": 54,
   "id": "1dce687f-c6c2-4aa8-a857-c1007c273e93",
   "metadata": {},
   "outputs": [],
   "source": [
    "all_course_bonus_added = all_grades + bonus_grades"
   ]
  },
  {
   "cell_type": "code",
   "execution_count": 57,
   "id": "f104766c-1916-4803-8c1f-1ac9859ca04c",
   "metadata": {},
   "outputs": [
    {
     "data": {
      "text/plain": [
       "91.0"
      ]
     },
     "execution_count": 57,
     "metadata": {},
     "output_type": "execute_result"
    }
   ],
   "source": [
    "np.average(all_course_bonus_added[:, 1])"
   ]
  },
  {
   "cell_type": "code",
   "execution_count": null,
   "id": "ed968e87-9c56-4671-8276-28b7dac62c4e",
   "metadata": {},
   "outputs": [],
   "source": []
  }
 ],
 "metadata": {
  "kernelspec": {
   "display_name": "Python 3 (ipykernel)",
   "language": "python",
   "name": "python3"
  },
  "language_info": {
   "codemirror_mode": {
    "name": "ipython",
    "version": 3
   },
   "file_extension": ".py",
   "mimetype": "text/x-python",
   "name": "python",
   "nbconvert_exporter": "python",
   "pygments_lexer": "ipython3",
   "version": "3.10.11"
  }
 },
 "nbformat": 4,
 "nbformat_minor": 5
}
