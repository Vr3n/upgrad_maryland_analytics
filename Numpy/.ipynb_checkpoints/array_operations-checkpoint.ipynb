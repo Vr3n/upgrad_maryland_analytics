{
 "cells": [
  {
   "cell_type": "markdown",
   "id": "d8063e5f-bd77-450a-a1ee-87a690218a4b",
   "metadata": {},
   "source": [
    "## Array Operations\n",
    "\n",
    "Arrays are designed to support fast computation and comparisons. The most common types of operations are:\n",
    "\n",
    "- Between arrays and scalars (one value at a time)\n",
    "- Universal functions (np.function_name)\n",
    "  - Unary (performed on a single array): abs, sqrt, ceil, floor.\n",
    "  - Binary (performed between two arrays): +, -, <, and, etc.\n",
    "- Mathematical and Statistical Functions.\n",
    "  - Aggregation: mean, sum, std, variance, min/max, etc.\n",
    "  - Non-aggregation: cumsum, cumprod"
   ]
  },
  {
   "cell_type": "code",
   "execution_count": 2,
   "id": "8f28638b-c4ce-4f0e-b95a-f66938b2c11e",
   "metadata": {},
   "outputs": [],
   "source": [
    "import numpy as np"
   ]
  },
  {
   "cell_type": "markdown",
   "id": "792b2cfd-de7d-43b8-915e-1c7810b0c606",
   "metadata": {},
   "source": [
    "### Broadcasting\n",
    "\n",
    "You can add a scalar value to an array, which will add the scalar as if it were an array."
   ]
  },
  {
   "cell_type": "code",
   "execution_count": 8,
   "id": "0e8a9099-a4e2-4955-bf21-91b4960d2860",
   "metadata": {},
   "outputs": [
    {
     "data": {
      "text/plain": [
       "array([[2, 3, 4],\n",
       "       [5, 6, 7]])"
      ]
     },
     "execution_count": 8,
     "metadata": {},
     "output_type": "execute_result"
    }
   ],
   "source": [
    "arr1 = np.array([[2, 3, 4], [5, 6, 7]])\n",
    "arr1"
   ]
  },
  {
   "cell_type": "code",
   "execution_count": 9,
   "id": "b16df66d-b03c-4d26-838e-3eff2ccef840",
   "metadata": {},
   "outputs": [
    {
     "data": {
      "text/plain": [
       "array([[3, 4, 5],\n",
       "       [6, 7, 8]])"
      ]
     },
     "execution_count": 9,
     "metadata": {},
     "output_type": "execute_result"
    }
   ],
   "source": [
    "arr1 += 1\n",
    "arr1"
   ]
  },
  {
   "cell_type": "markdown",
   "id": "e7f8da80-bcd1-4814-9e45-6d8231371f64",
   "metadata": {},
   "source": [
    "An array can also be a part of the broadcast if the sizes are compatible."
   ]
  },
  {
   "cell_type": "code",
   "execution_count": 10,
   "id": "7a06f8cd-b1ee-4d1b-aacc-ddfd07c5cf4d",
   "metadata": {},
   "outputs": [
    {
     "data": {
      "text/plain": [
       "array([[2, 3, 4],\n",
       "       [5, 6, 7]])"
      ]
     },
     "execution_count": 10,
     "metadata": {},
     "output_type": "execute_result"
    }
   ],
   "source": [
    "arr2 = np.array([[2, 3, 4], [5, 6, 7]])\n",
    "arr2"
   ]
  },
  {
   "cell_type": "code",
   "execution_count": 11,
   "id": "cae03cd0-049d-49c5-8e54-fa600e712757",
   "metadata": {},
   "outputs": [
    {
     "data": {
      "text/plain": [
       "array([[ 5,  7,  9],\n",
       "       [11, 13, 15]])"
      ]
     },
     "execution_count": 11,
     "metadata": {},
     "output_type": "execute_result"
    }
   ],
   "source": [
    "arr1 + arr2"
   ]
  },
  {
   "cell_type": "markdown",
   "id": "c5cb5bf8-986f-436e-bc62-a5d71167e176",
   "metadata": {},
   "source": [
    "### Comparison\n",
    "\n",
    "A comparison can take place with a scalar."
   ]
  },
  {
   "cell_type": "code",
   "execution_count": 12,
   "id": "cc8ab14c-fddd-4d29-af05-1f974d8cfa60",
   "metadata": {},
   "outputs": [
    {
     "data": {
      "text/plain": [
       "array([[2, 3, 4],\n",
       "       [5, 6, 7]])"
      ]
     },
     "execution_count": 12,
     "metadata": {},
     "output_type": "execute_result"
    }
   ],
   "source": [
    "arr3 = np.array([[2, 3, 4], [5, 6, 7]])\n",
    "arr3"
   ]
  },
  {
   "cell_type": "code",
   "execution_count": 15,
   "id": "8e894ed5-6b15-48c3-924a-bccd63d9ca9f",
   "metadata": {},
   "outputs": [
    {
     "data": {
      "text/plain": [
       "array([[False,  True, False],\n",
       "       [False, False, False]])"
      ]
     },
     "execution_count": 15,
     "metadata": {},
     "output_type": "execute_result"
    }
   ],
   "source": [
    "arr3 == 3"
   ]
  },
  {
   "cell_type": "code",
   "execution_count": null,
   "id": "38260bdb-5ede-4365-827d-abb6c5b4ec57",
   "metadata": {},
   "outputs": [],
   "source": []
  }
 ],
 "metadata": {
  "kernelspec": {
   "display_name": "Python 3 (ipykernel)",
   "language": "python",
   "name": "python3"
  },
  "language_info": {
   "codemirror_mode": {
    "name": "ipython",
    "version": 3
   },
   "file_extension": ".py",
   "mimetype": "text/x-python",
   "name": "python",
   "nbconvert_exporter": "python",
   "pygments_lexer": "ipython3",
   "version": "3.10.11"
  }
 },
 "nbformat": 4,
 "nbformat_minor": 5
}
