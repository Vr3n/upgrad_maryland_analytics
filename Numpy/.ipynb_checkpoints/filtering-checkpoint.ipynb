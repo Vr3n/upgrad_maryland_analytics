{
 "cells": [
  {
   "cell_type": "markdown",
   "id": "6a1e1df1-eed5-4caa-823a-952fb4c4e6d1",
   "metadata": {},
   "source": [
    "### Filtering Data\n",
    "\n",
    "Suppose you work as a meterologist at a weather service. Your task is to maintain hourly rainfall data in millimeters (mm) in a array like this one:\n",
    "```python\n",
    "rain_mm_by_hour = np.array([0, 0, 0, 0, 0, 0, 0, 4, 2, 2, 4, 4, 0, 0, 0, 6, 0, 3, 6, 0, 0, 0, 3, 0])\n",
    "```\n",
    "\n",
    "You want to find the number of hours with heavy rainfall (i.e., rainfall >= 4 mm). One way to do that is to use a for loop with an if statement (similar to how it is done for lists). But you can do this more efficiently using a filtering operation.\n"
   ]
  },
  {
   "cell_type": "code",
   "execution_count": 1,
   "id": "060cf072-fe2b-41fc-8b5a-97859b1713a3",
   "metadata": {},
   "outputs": [],
   "source": [
    "import numpy as np"
   ]
  },
  {
   "cell_type": "markdown",
   "id": "c3cf1a49-79c1-4a58-93b0-0d68fc219d48",
   "metadata": {},
   "source": [
    "#### Index Arrays\n",
    "\n",
    "Indexing arrays is a way to filter arrays by indexes of another array. Each element in the index array is replaced with the corresponding values in original array. An copy is made."
   ]
  },
  {
   "cell_type": "code",
   "execution_count": 2,
   "id": "4618d043-d71d-47fd-8356-9c639fc7be2a",
   "metadata": {},
   "outputs": [
    {
     "data": {
      "text/plain": [
       "array([ 2,  4,  6,  8, 10])"
      ]
     },
     "execution_count": 2,
     "metadata": {},
     "output_type": "execute_result"
    }
   ],
   "source": [
    "arr1 = np.array([2, 4, 6, 8, 10])\n",
    "arr1"
   ]
  },
  {
   "cell_type": "code",
   "execution_count": 3,
   "id": "b61dc35c-2ebf-4450-acd4-6265d4572651",
   "metadata": {},
   "outputs": [
    {
     "data": {
      "text/plain": [
       "array([ 4,  6, 10])"
      ]
     },
     "execution_count": 3,
     "metadata": {},
     "output_type": "execute_result"
    }
   ],
   "source": [
    "arr2 = arr1[np.array([1, 2, 4])]\n",
    "arr2"
   ]
  },
  {
   "cell_type": "markdown",
   "id": "d42b9e58-45f6-43a1-9cd5-ccbfc6f657a8",
   "metadata": {},
   "source": [
    "#### Boolean Arrays\n",
    "\n",
    "Another way to filter data is to create an array based another array of Booleans. Each element in the original is returned if the corresponsind boolean scalar is True. An array copy is made."
   ]
  },
  {
   "cell_type": "code",
   "execution_count": 4,
   "id": "d2170d3f-a4f0-40a9-a298-03c30985a540",
   "metadata": {},
   "outputs": [
    {
     "data": {
      "text/plain": [
       "array([ 2,  4,  6,  8, 10])"
      ]
     },
     "execution_count": 4,
     "metadata": {},
     "output_type": "execute_result"
    }
   ],
   "source": [
    "arr1 = np.array([2, 4 ,6, 8, 10])\n",
    "arr1"
   ]
  },
  {
   "cell_type": "code",
   "execution_count": 5,
   "id": "61217e73-8b0e-49f3-a340-1def104bb903",
   "metadata": {},
   "outputs": [
    {
     "data": {
      "text/plain": [
       "array([ 2,  8, 10])"
      ]
     },
     "execution_count": 5,
     "metadata": {},
     "output_type": "execute_result"
    }
   ],
   "source": [
    "arr2 = arr1[np.array([True, False, False, True, True])]\n",
    "arr2"
   ]
  },
  {
   "cell_type": "markdown",
   "id": "07dc76d0-730f-490d-b881-e8787bf5c5e6",
   "metadata": {},
   "source": [
    "### Conditional Filtering\n",
    "\n",
    "Another way to filter data is to create an array based on a conditional value. Only elements that meet the criteria are included.\n",
    "An array copy is made.\n",
    "\n",
    "- `&` - and\n",
    "- `|` - or"
   ]
  },
  {
   "cell_type": "code",
   "execution_count": 6,
   "id": "2938ba4b-2583-44d1-965f-95b1b1a40ad5",
   "metadata": {},
   "outputs": [
    {
     "data": {
      "text/plain": [
       "array([1, 3, 5, 7, 9])"
      ]
     },
     "execution_count": 6,
     "metadata": {},
     "output_type": "execute_result"
    }
   ],
   "source": [
    "arr1 = np.arange(1, 11, 2)\n",
    "arr1"
   ]
  },
  {
   "cell_type": "code",
   "execution_count": 9,
   "id": "a0a6ea69-8f5e-409a-8b2c-019d2d6d1f02",
   "metadata": {},
   "outputs": [
    {
     "data": {
      "text/plain": [
       "array([3, 9])"
      ]
     },
     "execution_count": 9,
     "metadata": {},
     "output_type": "execute_result"
    }
   ],
   "source": [
    "arr2 = arr1[arr1 % 3 == 0]\n",
    "arr2"
   ]
  },
  {
   "cell_type": "code",
   "execution_count": 10,
   "id": "dcfbf6d3-4186-42e1-88c9-3fb8e6a04f25",
   "metadata": {},
   "outputs": [
    {
     "data": {
      "text/plain": [
       "array([3, 5, 9])"
      ]
     },
     "execution_count": 10,
     "metadata": {},
     "output_type": "execute_result"
    }
   ],
   "source": [
    "arr3 = arr1[(arr1 % 3 == 0) | (arr1 % 5 == 0)]\n",
    "arr3"
   ]
  },
  {
   "cell_type": "markdown",
   "id": "561997f6-b493-4008-bc22-913ef974f52e",
   "metadata": {},
   "source": [
    "### Did i forget my umbrella again?\n",
    "\n",
    "You are asked to report the number of hours with heavy rainfall (i.e ranfall greater than 4mm)."
   ]
  },
  {
   "cell_type": "code",
   "execution_count": 11,
   "id": "218d490d-1837-4982-9546-66bcdba4d88e",
   "metadata": {},
   "outputs": [],
   "source": [
    "rain_mm_by_hour = np.array([0, 0, 0, 0, 0, 0, 0, 4, 2, 2, 4, 4, 0, 0, 0, 6, 0, 3, 6, 0, 0, 0, 3, 0])"
   ]
  },
  {
   "cell_type": "code",
   "execution_count": 16,
   "id": "7f526262-df82-470b-9cc4-5599bcbd0b1c",
   "metadata": {},
   "outputs": [],
   "source": [
    "more_than_4mm = rain_mm_by_hour[rain_mm_by_hour >= 4].size"
   ]
  },
  {
   "cell_type": "code",
   "execution_count": 17,
   "id": "7785aaf0-7e5f-4c20-b9b2-b6c96b432e47",
   "metadata": {},
   "outputs": [
    {
     "data": {
      "text/plain": [
       "5"
      ]
     },
     "execution_count": 17,
     "metadata": {},
     "output_type": "execute_result"
    }
   ],
   "source": [
    "more_than_4mm"
   ]
  },
  {
   "cell_type": "code",
   "execution_count": 18,
   "id": "b4b306a0-da7b-4563-bd1f-c7df2eeb4e6d",
   "metadata": {},
   "outputs": [
    {
     "data": {
      "text/plain": [
       "array([False, False, False, False, False, False, False, False, False,\n",
       "       False, False, False, False, False, False,  True, False, False,\n",
       "        True, False, False, False, False, False])"
      ]
     },
     "execution_count": 18,
     "metadata": {},
     "output_type": "execute_result"
    }
   ],
   "source": [
    "rain_mm_by_hour > 4"
   ]
  },
  {
   "cell_type": "markdown",
   "id": "1c1c60ab-62f8-4b69-816e-3a345d035527",
   "metadata": {},
   "source": [
    "### Let's Call it Even.\n",
    "\n",
    "You want to know how much it rained during the even-numbered hours (i.e, Hours at even indexes in the array).\n"
   ]
  },
  {
   "cell_type": "code",
   "execution_count": 19,
   "id": "9e06b6fc-616d-4d40-a27c-f13ff89b7278",
   "metadata": {},
   "outputs": [
    {
     "data": {
      "text/plain": [
       "15"
      ]
     },
     "execution_count": 19,
     "metadata": {},
     "output_type": "execute_result"
    }
   ],
   "source": [
    "rain_mm_by_hour[::2].sum()\n",
    "\n"
   ]
  },
  {
   "cell_type": "code",
   "execution_count": 20,
   "id": "f68a4b61-2a01-4069-838a-0839edadd40c",
   "metadata": {},
   "outputs": [
    {
     "data": {
      "text/plain": [
       "15"
      ]
     },
     "execution_count": 20,
     "metadata": {},
     "output_type": "execute_result"
    }
   ],
   "source": [
    "rain_mm_by_hour[0::2].sum()"
   ]
  },
  {
   "cell_type": "code",
   "execution_count": 21,
   "id": "97d54b4b-e63c-42bf-86d5-ae20747997ef",
   "metadata": {},
   "outputs": [
    {
     "data": {
      "text/plain": [
       "15"
      ]
     },
     "execution_count": 21,
     "metadata": {},
     "output_type": "execute_result"
    }
   ],
   "source": [
    "rain_mm_by_hour[np.arange(0,len(rain_mm_by_hour),2)].sum()"
   ]
  }
 ],
 "metadata": {
  "kernelspec": {
   "display_name": "Python 3 (ipykernel)",
   "language": "python",
   "name": "python3"
  },
  "language_info": {
   "codemirror_mode": {
    "name": "ipython",
    "version": 3
   },
   "file_extension": ".py",
   "mimetype": "text/x-python",
   "name": "python",
   "nbconvert_exporter": "python",
   "pygments_lexer": "ipython3",
   "version": "3.10.11"
  }
 },
 "nbformat": 4,
 "nbformat_minor": 5
}
