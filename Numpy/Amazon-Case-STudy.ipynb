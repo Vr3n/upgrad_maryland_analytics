{
 "cells": [
  {
   "cell_type": "markdown",
   "id": "ad3adc0c-0b16-4e66-965a-905be850fc5a",
   "metadata": {},
   "source": [
    "## Case Study: Basic Analysis of Stock quotes.\n",
    "\n",
    "1. Date- the stock was traded.\n",
    "2. Close/Last - The last place at which the stock traded during the regular trading day.\n",
    "3. Volume - the number of shares traded.\n",
    "4. Open - the opening proce at which the stock is traded.\n",
    "5. HIgh- the high price at which the stock is traded.\n",
    "6. Low - low price at which the stock is traded."
   ]
  },
  {
   "cell_type": "code",
   "execution_count": 2,
   "id": "7a0b99c7-6ad3-415d-812e-62abc3cb125a",
   "metadata": {},
   "outputs": [],
   "source": [
    "import numpy as np"
   ]
  },
  {
   "cell_type": "code",
   "execution_count": 24,
   "id": "ebcba5d3-a112-4bd1-8683-43387c92d9b0",
   "metadata": {},
   "outputs": [],
   "source": [
    "## Load the file. only pulling the close / last price\n",
    "amazn_stock = np.loadtxt('amzn-stock-2021.csv', skiprows=1, usecols=1, delimiter=\",\")"
   ]
  },
  {
   "cell_type": "code",
   "execution_count": 30,
   "id": "4325cb28-2d1b-4bfc-82c5-75374ed8fdb6",
   "metadata": {},
   "outputs": [
    {
     "data": {
      "text/plain": [
       "array([3334.34, 3372.89, 3384.02, 3413.22, 3393.39, 3421.37, 3420.74,\n",
       "       3408.34, 3341.58, 3400.35, 3377.42, 3466.3 , 3381.83, 3391.35,\n",
       "       3444.24, 3483.42, 3523.16, 3523.29, 3427.37, 3389.79, 3437.36,\n",
       "       3443.72, 3507.07, 3561.57, 3504.56, 3580.41, 3580.04, 3572.57,\n",
       "       3676.57, 3696.06, 3549.  , 3540.7 , 3545.68, 3525.15, 3472.5 ,\n",
       "       3482.05, 3576.23, 3488.98, 3518.99, 3477.  , 3384.  , 3312.75,\n",
       "       3318.11, 3372.43, 3446.57, 3392.49, 3376.07, 3320.37, 3335.55,\n",
       "       3435.01, 3415.06, 3444.15, 3446.74, 3409.02, 3299.86, 3284.28,\n",
       "       3247.33, 3246.3 , 3288.62, 3302.43, 3262.01, 3221.  , 3189.78,\n",
       "       3283.26, 3285.04, 3301.12, 3315.96, 3405.8 , 3425.52, 3416.  ,\n",
       "       3380.05, 3343.63, 3355.73, 3462.52, 3488.24, 3475.79, 3450.  ,\n",
       "       3457.17, 3469.15, 3484.16, 3525.5 , 3509.29, 3478.05, 3463.12,\n",
       "       3479.  , 3470.79, 3421.57, 3349.63, 3316.  , 3299.18, 3305.78,\n",
       "       3265.87, 3199.95, 3187.75, 3201.22, 3241.96, 3298.99, 3293.97,\n",
       "       3303.5 , 3292.11, 3320.68, 3341.87, 3344.94, 3375.99, 3354.72,\n",
       "       3366.24, 3331.48, 3327.59, 3599.92, 3630.32, 3626.39, 3699.82,\n",
       "       3656.64, 3638.03, 3585.2 , 3573.19, 3549.59, 3573.63, 3631.2 ,\n",
       "       3681.68, 3677.36, 3718.55, 3719.34, 3731.41, 3696.58, 3675.74,\n",
       "       3510.98, 3432.97, 3440.16, 3448.14, 3443.89, 3401.46, 3449.08,\n",
       "       3503.82, 3505.44, 3453.96, 3486.9 , 3489.24, 3415.25, 3383.13,\n",
       "       3383.87, 3346.83, 3349.65, 3281.15, 3264.11, 3198.01, 3206.22,\n",
       "       3187.01, 3233.99, 3218.65, 3223.07, 3230.11, 3265.16, 3259.05,\n",
       "       3244.99, 3203.08, 3247.68, 3231.8 , 3232.28, 3270.39, 3222.9 ,\n",
       "       3161.47, 3151.94, 3223.91, 3190.49, 3291.61, 3306.37, 3270.54,\n",
       "       3311.87, 3386.49, 3467.42, 3471.31, 3458.5 , 3417.43, 3409.  ,\n",
       "       3340.88, 3309.04, 3362.02, 3334.69, 3372.01, 3399.44, 3379.09,\n",
       "       3333.  , 3400.  , 3379.39, 3372.2 , 3299.3 , 3279.39, 3223.82,\n",
       "       3226.73, 3161.  , 3094.08, 3055.29, 3075.73, 3052.03, 3046.26,\n",
       "       3087.07, 3137.5 , 3110.87, 3074.96, 3027.99, 3135.73, 3091.86,\n",
       "       3081.68, 3089.49, 3113.59, 3057.64, 3062.85, 2951.95, 3000.46,\n",
       "       2977.57, 3005.  , 3094.53, 3146.14, 3092.93, 3057.16, 3159.53,\n",
       "       3194.5 , 3180.74, 3249.9 , 3328.23, 3308.64, 3268.95, 3277.71,\n",
       "       3262.13, 3286.58, 3305.  , 3322.94, 3352.15, 3331.  , 3312.53,\n",
       "       3380.  , 3342.88, 3206.2 , 3237.62, 3232.58, 3326.13, 3294.  ,\n",
       "       3292.23, 3306.99, 3263.38, 3120.76, 3104.25, 3127.47, 3165.89,\n",
       "       3120.83, 3114.21, 3182.7 , 3162.16, 3138.38, 3218.51, 3186.63])"
      ]
     },
     "execution_count": 30,
     "metadata": {},
     "output_type": "execute_result"
    }
   ],
   "source": [
    "amazn_stock"
   ]
  },
  {
   "cell_type": "markdown",
   "id": "15717989-3931-413b-9835-a45e7590ee19",
   "metadata": {},
   "source": [
    "What was the lowest and highest opening price for the AMZN stock?"
   ]
  },
  {
   "cell_type": "code",
   "execution_count": 34,
   "id": "f4826ec6-bf05-4794-aa18-50d54cf41f6e",
   "metadata": {},
   "outputs": [
    {
     "name": "stdout",
     "output_type": "stream",
     "text": [
      "Highest opening price for the AMZN stock was: 3731.41\n"
     ]
    }
   ],
   "source": [
    "print(f\"Highest opening price for the AMZN stock was: {amazn_stock.max():.2f}\")"
   ]
  },
  {
   "cell_type": "code",
   "execution_count": 33,
   "id": "0f7fbea1-e2ed-4101-8eef-47a3ca8cbae0",
   "metadata": {},
   "outputs": [
    {
     "name": "stdout",
     "output_type": "stream",
     "text": [
      "Lowest opening price for the AMZN stock was: 2951.95\n"
     ]
    }
   ],
   "source": [
    "print(f\"Lowest opening price for the AMZN stock was: {amazn_stock.min():.2f}\")"
   ]
  },
  {
   "cell_type": "code",
   "execution_count": 57,
   "id": "db3403c1-ffc2-4036-b1cf-97be31708a45",
   "metadata": {},
   "outputs": [
    {
     "ename": "TypeError",
     "evalue": "only integer scalar arrays can be converted to a scalar index",
     "output_type": "error",
     "traceback": [
      "\u001b[1;31m---------------------------------------------------------------------------\u001b[0m",
      "\u001b[1;31mTypeError\u001b[0m                                 Traceback (most recent call last)",
      "Cell \u001b[1;32mIn[57], line 1\u001b[0m\n\u001b[1;32m----> 1\u001b[0m \u001b[43mamazn_stock\u001b[49m\u001b[38;5;241;43m.\u001b[39;49m\u001b[43many\u001b[49m\u001b[43m(\u001b[49m\u001b[43mamazn_stock\u001b[49m\u001b[43m \u001b[49m\u001b[38;5;241;43m<\u001b[39;49m\u001b[43m \u001b[49m\u001b[38;5;241;43m1500\u001b[39;49m\u001b[43m)\u001b[49m\n",
      "File \u001b[1;32m~\\codes\\upgrad-maryland-analytics\\upgrad_venv\\lib\\site-packages\\numpy\\core\\_methods.py:58\u001b[0m, in \u001b[0;36m_any\u001b[1;34m(a, axis, dtype, out, keepdims, where)\u001b[0m\n\u001b[0;32m     55\u001b[0m \u001b[38;5;28;01mdef\u001b[39;00m \u001b[38;5;21m_any\u001b[39m(a, axis\u001b[38;5;241m=\u001b[39m\u001b[38;5;28;01mNone\u001b[39;00m, dtype\u001b[38;5;241m=\u001b[39m\u001b[38;5;28;01mNone\u001b[39;00m, out\u001b[38;5;241m=\u001b[39m\u001b[38;5;28;01mNone\u001b[39;00m, keepdims\u001b[38;5;241m=\u001b[39m\u001b[38;5;28;01mFalse\u001b[39;00m, \u001b[38;5;241m*\u001b[39m, where\u001b[38;5;241m=\u001b[39m\u001b[38;5;28;01mTrue\u001b[39;00m):\n\u001b[0;32m     56\u001b[0m     \u001b[38;5;66;03m# Parsing keyword arguments is currently fairly slow, so avoid it for now\u001b[39;00m\n\u001b[0;32m     57\u001b[0m     \u001b[38;5;28;01mif\u001b[39;00m where \u001b[38;5;129;01mis\u001b[39;00m \u001b[38;5;28;01mTrue\u001b[39;00m:\n\u001b[1;32m---> 58\u001b[0m         \u001b[38;5;28;01mreturn\u001b[39;00m \u001b[43mumr_any\u001b[49m\u001b[43m(\u001b[49m\u001b[43ma\u001b[49m\u001b[43m,\u001b[49m\u001b[43m \u001b[49m\u001b[43maxis\u001b[49m\u001b[43m,\u001b[49m\u001b[43m \u001b[49m\u001b[43mdtype\u001b[49m\u001b[43m,\u001b[49m\u001b[43m \u001b[49m\u001b[43mout\u001b[49m\u001b[43m,\u001b[49m\u001b[43m \u001b[49m\u001b[43mkeepdims\u001b[49m\u001b[43m)\u001b[49m\n\u001b[0;32m     59\u001b[0m     \u001b[38;5;28;01mreturn\u001b[39;00m umr_any(a, axis, dtype, out, keepdims, where\u001b[38;5;241m=\u001b[39mwhere)\n",
      "\u001b[1;31mTypeError\u001b[0m: only integer scalar arrays can be converted to a scalar index"
     ]
    }
   ],
   "source": [
    "amazn_stock.any(amazn_stock < 1500)"
   ]
  },
  {
   "cell_type": "code",
   "execution_count": 43,
   "id": "dd06dbfc-b75a-4c34-83a1-9a32ae514676",
   "metadata": {},
   "outputs": [],
   "source": [
    "sorted_stocks = np.sort(amazn_stock)"
   ]
  },
  {
   "cell_type": "code",
   "execution_count": 54,
   "id": "9c5f1afc-c8c3-4641-abcf-3c30cc540911",
   "metadata": {},
   "outputs": [
    {
     "data": {
      "text/plain": [
       "array([3718.55, 3719.34, 3731.41])"
      ]
     },
     "execution_count": 54,
     "metadata": {},
     "output_type": "execute_result"
    }
   ],
   "source": [
    "sorted_stocks[sorted_stocks.shape[0] - 3:]"
   ]
  },
  {
   "cell_type": "code",
   "execution_count": null,
   "id": "9381a8cf-18bb-4d0a-a0cd-0d51428e8090",
   "metadata": {},
   "outputs": [],
   "source": []
  }
 ],
 "metadata": {
  "kernelspec": {
   "display_name": "Python 3 (ipykernel)",
   "language": "python",
   "name": "python3"
  },
  "language_info": {
   "codemirror_mode": {
    "name": "ipython",
    "version": 3
   },
   "file_extension": ".py",
   "mimetype": "text/x-python",
   "name": "python",
   "nbconvert_exporter": "python",
   "pygments_lexer": "ipython3",
   "version": "3.10.11"
  }
 },
 "nbformat": 4,
 "nbformat_minor": 5
}
