{
 "cells": [
  {
   "cell_type": "markdown",
   "id": "cf1a6803-2211-42ac-adb6-3130efc15622",
   "metadata": {},
   "source": [
    "## Practice Problem\n",
    "\n",
    "1. Print the second row\n",
    "2. Print the first and third rows\n",
    "3. PRint the middle three columns\n",
    "4. Challenge: Starting with second column, print every other column."
   ]
  },
  {
   "cell_type": "code",
   "execution_count": 1,
   "id": "6d33252b-132c-43b9-ba74-a97553cb1c99",
   "metadata": {},
   "outputs": [],
   "source": [
    "import numpy as np"
   ]
  },
  {
   "cell_type": "code",
   "execution_count": 8,
   "id": "681dd591-4b1c-4c46-b4f2-34b8cf823150",
   "metadata": {},
   "outputs": [],
   "source": [
    "arr1 = np.array([np.arange(1, 4), np.arange(4, 7), np.arange(7, 10)])"
   ]
  },
  {
   "cell_type": "code",
   "execution_count": 9,
   "id": "dc0f61aa-39da-4a8d-a254-531d3c8f8a98",
   "metadata": {},
   "outputs": [
    {
     "data": {
      "text/plain": [
       "array([[1, 2, 3],\n",
       "       [4, 5, 6],\n",
       "       [7, 8, 9]])"
      ]
     },
     "execution_count": 9,
     "metadata": {},
     "output_type": "execute_result"
    }
   ],
   "source": [
    "arr1"
   ]
  },
  {
   "cell_type": "code",
   "execution_count": 16,
   "id": "5b4c93db-e489-488f-a79e-e024340f9ef3",
   "metadata": {},
   "outputs": [
    {
     "data": {
      "text/plain": [
       "array([4, 5, 6])"
      ]
     },
     "execution_count": 16,
     "metadata": {},
     "output_type": "execute_result"
    }
   ],
   "source": [
    "arr1[1]"
   ]
  },
  {
   "cell_type": "code",
   "execution_count": 19,
   "id": "4259e8a8-3948-474d-bd97-de74bc34ae7d",
   "metadata": {},
   "outputs": [
    {
     "data": {
      "text/plain": [
       "array([[1, 2, 3],\n",
       "       [7, 8, 9]])"
      ]
     },
     "execution_count": 19,
     "metadata": {},
     "output_type": "execute_result"
    }
   ],
   "source": [
    "arr1[::2]"
   ]
  },
  {
   "cell_type": "code",
   "execution_count": 18,
   "id": "293bc376-8ce8-4a03-a203-36392b702edc",
   "metadata": {},
   "outputs": [
    {
     "data": {
      "text/plain": [
       "array([2, 5, 8])"
      ]
     },
     "execution_count": 18,
     "metadata": {},
     "output_type": "execute_result"
    }
   ],
   "source": [
    "arr1[:, 1]"
   ]
  },
  {
   "cell_type": "code",
   "execution_count": 23,
   "id": "b95ce630-300a-4e64-8eb4-d33e359b4ae7",
   "metadata": {},
   "outputs": [
    {
     "data": {
      "text/plain": [
       "array([[2, 3],\n",
       "       [5, 6],\n",
       "       [8, 9]])"
      ]
     },
     "execution_count": 23,
     "metadata": {},
     "output_type": "execute_result"
    }
   ],
   "source": [
    "arr1[:, 1::]"
   ]
  },
  {
   "cell_type": "code",
   "execution_count": null,
   "id": "d94a9ec7-6736-47d8-a1ab-c08ac5c9bac0",
   "metadata": {},
   "outputs": [],
   "source": []
  }
 ],
 "metadata": {
  "kernelspec": {
   "display_name": "Python 3 (ipykernel)",
   "language": "python",
   "name": "python3"
  },
  "language_info": {
   "codemirror_mode": {
    "name": "ipython",
    "version": 3
   },
   "file_extension": ".py",
   "mimetype": "text/x-python",
   "name": "python",
   "nbconvert_exporter": "python",
   "pygments_lexer": "ipython3",
   "version": "3.10.11"
  }
 },
 "nbformat": 4,
 "nbformat_minor": 5
}
