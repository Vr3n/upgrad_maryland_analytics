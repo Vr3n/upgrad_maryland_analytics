{
 "cells": [
  {
   "cell_type": "markdown",
   "id": "ae3a0b35-e898-474d-9d70-163832a20612",
   "metadata": {},
   "source": [
    "## Practice Problem"
   ]
  },
  {
   "cell_type": "code",
   "execution_count": 2,
   "id": "2d753ce5-f1b1-47c3-aaec-a8e41a7375d9",
   "metadata": {},
   "outputs": [],
   "source": [
    "import numpy as np"
   ]
  },
  {
   "cell_type": "markdown",
   "id": "fd43f2ba-e2b7-4e10-a721-657bcbedb225",
   "metadata": {},
   "source": [
    "1. Create and print a one dimensional (1-D) array for all values between -5 and 10 inclusive."
   ]
  },
  {
   "cell_type": "code",
   "execution_count": 3,
   "id": "4f93273c-a011-4c95-81fe-c66b1ed6e179",
   "metadata": {},
   "outputs": [
    {
     "data": {
      "text/plain": [
       "array([-5, -4, -3, -2, -1,  0,  1,  2,  3,  4,  5,  6,  7,  8,  9, 10])"
      ]
     },
     "execution_count": 3,
     "metadata": {},
     "output_type": "execute_result"
    }
   ],
   "source": [
    "arr = np.arange(-5, 11)\n",
    "arr"
   ]
  },
  {
   "cell_type": "markdown",
   "id": "3873afd2-b1fc-4a51-86a3-f105458ade47",
   "metadata": {},
   "source": [
    "2. Determine and print the average value within the array."
   ]
  },
  {
   "cell_type": "code",
   "execution_count": 4,
   "id": "c08cfbbe-16d3-423f-8c74-ab1a5a9a762d",
   "metadata": {},
   "outputs": [
    {
     "data": {
      "text/plain": [
       "2.5"
      ]
     },
     "execution_count": 4,
     "metadata": {},
     "output_type": "execute_result"
    }
   ],
   "source": [
    "np.average(arr)"
   ]
  },
  {
   "cell_type": "markdown",
   "id": "e910c5a0-e5d0-4372-87c1-6a3385ac30a8",
   "metadata": {},
   "source": [
    "3. Determine and print the cumulative sum of the values within the array."
   ]
  },
  {
   "cell_type": "code",
   "execution_count": 6,
   "id": "a3f7149b-a558-4911-8f2c-1dec85398e5c",
   "metadata": {},
   "outputs": [
    {
     "data": {
      "text/plain": [
       "array([ -5,  -9, -12, -14, -15, -15, -14, -12,  -9,  -5,   0,   6,  13,\n",
       "        21,  30,  40])"
      ]
     },
     "execution_count": 6,
     "metadata": {},
     "output_type": "execute_result"
    }
   ],
   "source": [
    "np.cumsum(arr)"
   ]
  },
  {
   "cell_type": "markdown",
   "id": "7dbe8609-fa58-4c83-81b2-762c4b7e690a",
   "metadata": {},
   "source": [
    "#### Challenge\n",
    "\n",
    "Determine and print the sum of values within the array using the distance of each value from 0. \\\n",
    "For example both -4 and 4 are at a distance of 4 from 0."
   ]
  },
  {
   "cell_type": "code",
   "execution_count": 17,
   "id": "70d50eb5-ade4-4134-a273-cf0725376b28",
   "metadata": {},
   "outputs": [
    {
     "data": {
      "text/plain": [
       "70"
      ]
     },
     "execution_count": 17,
     "metadata": {},
     "output_type": "execute_result"
    }
   ],
   "source": [
    "np.abs(arr).sum()"
   ]
  },
  {
   "cell_type": "code",
   "execution_count": null,
   "id": "5935070a-f017-47c4-903e-2550e3bc62d4",
   "metadata": {},
   "outputs": [],
   "source": []
  }
 ],
 "metadata": {
  "kernelspec": {
   "display_name": "Python 3 (ipykernel)",
   "language": "python",
   "name": "python3"
  },
  "language_info": {
   "codemirror_mode": {
    "name": "ipython",
    "version": 3
   },
   "file_extension": ".py",
   "mimetype": "text/x-python",
   "name": "python",
   "nbconvert_exporter": "python",
   "pygments_lexer": "ipython3",
   "version": "3.10.11"
  }
 },
 "nbformat": 4,
 "nbformat_minor": 5
}
