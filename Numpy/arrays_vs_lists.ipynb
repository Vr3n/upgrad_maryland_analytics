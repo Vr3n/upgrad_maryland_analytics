{
 "cells": [
  {
   "cell_type": "markdown",
   "id": "7406b03e-afe1-4395-bfd5-12ba66070c29",
   "metadata": {},
   "source": [
    "### Array vs. Lists\n",
    "\n",
    "Arrays may seen similar to lists (e.g they both are mutable and iterable sequences), but they are distinct data structures. \\\n",
    "Use an array whenever you are performing any large scale computations or comparisons.\n",
    "\n",
    "However, lists do not have restrictions on the size of nested sequences, whereas arrays have restrictions for constructing \\\n",
    "a useful form object."
   ]
  },
  {
   "cell_type": "code",
   "execution_count": 2,
   "id": "b158f744-e3b2-4e4a-b5de-df65b3c8ba99",
   "metadata": {},
   "outputs": [],
   "source": [
    "import numpy as np"
   ]
  },
  {
   "cell_type": "code",
   "execution_count": 5,
   "id": "b82de835-f503-4a71-866b-cc071c308fc3",
   "metadata": {},
   "outputs": [],
   "source": [
    "# Example - Cannot create a \"holey\" array.\n",
    "arr1 = np.array(\n",
    "[\n",
    "    [1, 2, 3],\n",
    "    [3, 4, 5]\n",
    "]\n",
    ")"
   ]
  },
  {
   "cell_type": "code",
   "execution_count": 6,
   "id": "6e3a4693-d741-4268-81d2-acff68b5bcef",
   "metadata": {},
   "outputs": [
    {
     "data": {
      "text/plain": [
       "array([[1, 2, 3],\n",
       "       [3, 4, 5]])"
      ]
     },
     "execution_count": 6,
     "metadata": {},
     "output_type": "execute_result"
    }
   ],
   "source": [
    "arr1"
   ]
  },
  {
   "cell_type": "markdown",
   "id": "e7edb184-2c20-4c14-b6a7-23decde70454",
   "metadata": {},
   "source": [
    "### Execution Time\n",
    "\n",
    "__Using %timeit to check the time for executing cell, we can see the length of the time of creation of a list vs. an array__\n",
    "\n",
    "Example %timeit -r5 -n10000\n",
    "r = number of times to repeat the timer.\n",
    "n = number of times to execute the statement."
   ]
  },
  {
   "cell_type": "code",
   "execution_count": 7,
   "id": "7dbdcae7-836a-4051-a14d-7bf96317e20f",
   "metadata": {},
   "outputs": [],
   "source": [
    "import random"
   ]
  },
  {
   "cell_type": "markdown",
   "id": "e6f5e6b0-093b-4c38-b0bd-db80c9c78cff",
   "metadata": {},
   "source": [
    "#### List Creation"
   ]
  },
  {
   "cell_type": "code",
   "execution_count": 8,
   "id": "c1326ebb-2dd6-490d-9c12-70cfc1e9ec3f",
   "metadata": {},
   "outputs": [
    {
     "name": "stdout",
     "output_type": "stream",
     "text": [
      "3.17 ms ± 908 µs per loop (mean ± std. dev. of 5 runs, 100 loops each)\n"
     ]
    }
   ],
   "source": [
    "%timeit -r5 -n100 list1 = [random.randrange(1, 51) for i in range(600)]"
   ]
  },
  {
   "cell_type": "markdown",
   "id": "bcf357a2-c058-4b78-8596-3f175cad7bf2",
   "metadata": {},
   "source": [
    "#### Array creation"
   ]
  },
  {
   "cell_type": "code",
   "execution_count": 9,
   "id": "658c1348-d60c-4055-97dc-4ec8247ef680",
   "metadata": {},
   "outputs": [
    {
     "name": "stdout",
     "output_type": "stream",
     "text": [
      "87.7 µs ± 48.6 µs per loop (mean ± std. dev. of 5 runs, 100 loops each)\n"
     ]
    }
   ],
   "source": [
    "%timeit -r5 -n100 arr1 = np.random.randint(1, 51, 600)"
   ]
  },
  {
   "cell_type": "markdown",
   "id": "b35a536e-adad-4cbc-84f2-3ac655145cb2",
   "metadata": {},
   "source": [
    "### Indexing and Slicing\n",
    "\n",
    "Array indexing and slicing are similar to lists."
   ]
  },
  {
   "cell_type": "code",
   "execution_count": 11,
   "id": "7643ea42-e276-45b1-9cd8-29688f0d4d65",
   "metadata": {},
   "outputs": [],
   "source": [
    "arr1 = np.array([6, 7, 2, 8, 7, 5])"
   ]
  },
  {
   "cell_type": "code",
   "execution_count": 14,
   "id": "1884a436-628f-4673-872c-d9e4901af857",
   "metadata": {},
   "outputs": [
    {
     "data": {
      "text/plain": [
       "array([2, 8])"
      ]
     },
     "execution_count": 14,
     "metadata": {},
     "output_type": "execute_result"
    }
   ],
   "source": [
    "arr1[2:4]"
   ]
  },
  {
   "cell_type": "markdown",
   "id": "a3c8b5dd-1592-46ef-abeb-bd9c0be86ff9",
   "metadata": {},
   "source": [
    "List rely on deep copy, while arrays rely on a shallow copy.\n",
    "- Any changes to a list slice are not reflected in the original list.\n",
    "- Any changes to an array slice are reflected in the original array"
   ]
  },
  {
   "cell_type": "code",
   "execution_count": 15,
   "id": "d8b1603c-c1be-4c0e-8256-6f3c3fd460b2",
   "metadata": {},
   "outputs": [],
   "source": [
    "list1 = list(range(6))"
   ]
  },
  {
   "cell_type": "code",
   "execution_count": 16,
   "id": "13206476-414a-4519-8e54-90917feaf161",
   "metadata": {},
   "outputs": [
    {
     "data": {
      "text/plain": [
       "[0, 1, 2, 3, 4, 5]"
      ]
     },
     "execution_count": 16,
     "metadata": {},
     "output_type": "execute_result"
    }
   ],
   "source": [
    "list1"
   ]
  },
  {
   "cell_type": "code",
   "execution_count": 17,
   "id": "8c86ef98-435f-48fb-96f4-75763d3adea4",
   "metadata": {},
   "outputs": [
    {
     "data": {
      "text/plain": [
       "[1, 2, 3]"
      ]
     },
     "execution_count": 17,
     "metadata": {},
     "output_type": "execute_result"
    }
   ],
   "source": [
    "list_slice = list1[1:4]\n",
    "list_slice"
   ]
  },
  {
   "cell_type": "code",
   "execution_count": 18,
   "id": "9524c528-51c4-421c-b166-ce036609e96f",
   "metadata": {},
   "outputs": [],
   "source": [
    "list_slice[0] = -1"
   ]
  },
  {
   "cell_type": "code",
   "execution_count": 19,
   "id": "dfc4fe9e-df2a-450e-8081-c53fd335a9fd",
   "metadata": {},
   "outputs": [
    {
     "data": {
      "text/plain": [
       "[-1, 2, 3]"
      ]
     },
     "execution_count": 19,
     "metadata": {},
     "output_type": "execute_result"
    }
   ],
   "source": [
    "list_slice"
   ]
  },
  {
   "cell_type": "code",
   "execution_count": 20,
   "id": "d7de7328-8387-46ae-8c8e-8536517755b1",
   "metadata": {},
   "outputs": [
    {
     "data": {
      "text/plain": [
       "[0, 1, 2, 3, 4, 5]"
      ]
     },
     "execution_count": 20,
     "metadata": {},
     "output_type": "execute_result"
    }
   ],
   "source": [
    "list1"
   ]
  },
  {
   "cell_type": "code",
   "execution_count": 21,
   "id": "2c671889-1c10-4cb5-b0c5-d95c4addecb8",
   "metadata": {},
   "outputs": [
    {
     "data": {
      "text/plain": [
       "array([6, 7, 2, 8, 7, 5])"
      ]
     },
     "execution_count": 21,
     "metadata": {},
     "output_type": "execute_result"
    }
   ],
   "source": [
    "arr1"
   ]
  },
  {
   "cell_type": "code",
   "execution_count": 22,
   "id": "63197e18-9fb9-424b-b230-9ae58666754d",
   "metadata": {},
   "outputs": [],
   "source": [
    "arr2 = arr1[1:4]"
   ]
  },
  {
   "cell_type": "code",
   "execution_count": 24,
   "id": "88350543-8048-4348-b55e-9f3fcb6e60b0",
   "metadata": {},
   "outputs": [
    {
     "data": {
      "text/plain": [
       "array([7, 2, 4])"
      ]
     },
     "execution_count": 24,
     "metadata": {},
     "output_type": "execute_result"
    }
   ],
   "source": [
    "arr2[2] = 4\n",
    "arr2"
   ]
  },
  {
   "cell_type": "code",
   "execution_count": 25,
   "id": "47ce5827-d524-4878-a163-e93f5fd389c6",
   "metadata": {},
   "outputs": [
    {
     "data": {
      "text/plain": [
       "array([6, 7, 2, 4, 7, 5])"
      ]
     },
     "execution_count": 25,
     "metadata": {},
     "output_type": "execute_result"
    }
   ],
   "source": [
    "arr1"
   ]
  },
  {
   "cell_type": "markdown",
   "id": "fce4471e-3fc5-47b0-8f2c-25ac92852002",
   "metadata": {},
   "source": [
    "## Shallow vs. Deep copy"
   ]
  },
  {
   "cell_type": "code",
   "execution_count": 26,
   "id": "e9ed9a4d-79d5-47ed-b411-e77f09216033",
   "metadata": {},
   "outputs": [],
   "source": [
    "old_list = [1, 2, 3, 4, 5]"
   ]
  },
  {
   "cell_type": "code",
   "execution_count": 27,
   "id": "be025e92-0799-49c4-b8fc-c90a525ecba5",
   "metadata": {},
   "outputs": [
    {
     "data": {
      "text/plain": [
       "1580714610240"
      ]
     },
     "execution_count": 27,
     "metadata": {},
     "output_type": "execute_result"
    }
   ],
   "source": [
    "id(old_list)"
   ]
  },
  {
   "cell_type": "code",
   "execution_count": 28,
   "id": "f6d72ed5-0bef-49a4-93f1-453239759f89",
   "metadata": {},
   "outputs": [],
   "source": [
    "new_list = old_list"
   ]
  },
  {
   "cell_type": "code",
   "execution_count": 31,
   "id": "7d83d480-9cef-4f4e-a15b-ca55793eb7b2",
   "metadata": {},
   "outputs": [
    {
     "data": {
      "text/plain": [
       "[1, 2, 3, 4, 5, 6]"
      ]
     },
     "execution_count": 31,
     "metadata": {},
     "output_type": "execute_result"
    }
   ],
   "source": [
    "old_list.append(6)\n",
    "old_list"
   ]
  },
  {
   "cell_type": "code",
   "execution_count": 35,
   "id": "816f2d8a-9b7b-4c3c-bbe4-a0be3430da43",
   "metadata": {},
   "outputs": [
    {
     "data": {
      "text/plain": [
       "[1, 1, 3, 5, 5, 6]"
      ]
     },
     "execution_count": 35,
     "metadata": {},
     "output_type": "execute_result"
    }
   ],
   "source": [
    "new_list[1:4] = [1 ,3 ,5]\n",
    "new_list"
   ]
  },
  {
   "cell_type": "code",
   "execution_count": 36,
   "id": "ddf3d8ef-a370-4c16-a73a-13e8e68531ee",
   "metadata": {},
   "outputs": [
    {
     "data": {
      "text/plain": [
       "[1, 1, 3, 5, 5, 6]"
      ]
     },
     "execution_count": 36,
     "metadata": {},
     "output_type": "execute_result"
    }
   ],
   "source": [
    "old_list"
   ]
  },
  {
   "cell_type": "code",
   "execution_count": 37,
   "id": "dae75892-e614-4067-943e-e2fd92b52be4",
   "metadata": {},
   "outputs": [
    {
     "data": {
      "text/plain": [
       "[1, 1, 3, 5, 5, 6]"
      ]
     },
     "execution_count": 37,
     "metadata": {},
     "output_type": "execute_result"
    }
   ],
   "source": [
    "new_list"
   ]
  },
  {
   "cell_type": "code",
   "execution_count": 38,
   "id": "47348a42-1c6c-416c-81aa-3b8778fe9652",
   "metadata": {},
   "outputs": [],
   "source": [
    "import copy"
   ]
  },
  {
   "cell_type": "code",
   "execution_count": 39,
   "id": "101e9b98-0935-4302-85ef-f3fb14b6178c",
   "metadata": {},
   "outputs": [
    {
     "data": {
      "text/plain": [
       "[1, 1, 3, 5, 5, 6]"
      ]
     },
     "execution_count": 39,
     "metadata": {},
     "output_type": "execute_result"
    }
   ],
   "source": [
    "new_deep_list = copy.deepcopy(old_list)\n",
    "new_deep_list"
   ]
  },
  {
   "cell_type": "code",
   "execution_count": 43,
   "id": "47bf165d-7cbf-4982-86d7-222963527755",
   "metadata": {},
   "outputs": [],
   "source": [
    "new_deep_list[3:4] = [3, 5, 6, 7]"
   ]
  },
  {
   "cell_type": "code",
   "execution_count": 44,
   "id": "57a9b6fe-daa2-410c-a765-0cbb8f216145",
   "metadata": {},
   "outputs": [
    {
     "data": {
      "text/plain": [
       "[1, 1, 3, 3, 5, 6, 7, 5, 6]"
      ]
     },
     "execution_count": 44,
     "metadata": {},
     "output_type": "execute_result"
    }
   ],
   "source": [
    "new_deep_list"
   ]
  },
  {
   "cell_type": "code",
   "execution_count": 45,
   "id": "833f9952-2c56-49eb-ba1b-3edfde38e6f2",
   "metadata": {},
   "outputs": [
    {
     "data": {
      "text/plain": [
       "[1, 1, 3, 5, 5, 6]"
      ]
     },
     "execution_count": 45,
     "metadata": {},
     "output_type": "execute_result"
    }
   ],
   "source": [
    "old_list"
   ]
  },
  {
   "cell_type": "code",
   "execution_count": null,
   "id": "9232ac95-0cd6-4bdc-81dc-29c5ef19d60c",
   "metadata": {},
   "outputs": [],
   "source": []
  }
 ],
 "metadata": {
  "kernelspec": {
   "display_name": "Python 3 (ipykernel)",
   "language": "python",
   "name": "python3"
  },
  "language_info": {
   "codemirror_mode": {
    "name": "ipython",
    "version": 3
   },
   "file_extension": ".py",
   "mimetype": "text/x-python",
   "name": "python",
   "nbconvert_exporter": "python",
   "pygments_lexer": "ipython3",
   "version": "3.10.11"
  }
 },
 "nbformat": 4,
 "nbformat_minor": 5
}
