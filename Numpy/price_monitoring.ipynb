{
 "cells": [
  {
   "cell_type": "markdown",
   "id": "a0f5b4e9-b929-483c-ae14-cd1fd9ffd849",
   "metadata": {},
   "source": [
    "#### Price Monitoring\n",
    "\n",
    "You work as the supply manager of a logistics company, and You are monitoring the monthly prices of a product. \\\n",
    "THe prices of given product are stored in an array called `item_prices`\n",
    "\n",
    "The order of these prices corresponds to each month of a year, from January to December."
   ]
  },
  {
   "cell_type": "code",
   "execution_count": 2,
   "id": "9614f51a-28c5-492e-9d39-89e108477b4b",
   "metadata": {},
   "outputs": [],
   "source": [
    "import numpy as np"
   ]
  },
  {
   "cell_type": "code",
   "execution_count": 3,
   "id": "7fccde0e-a8db-4557-80da-d045f1af2ab5",
   "metadata": {},
   "outputs": [],
   "source": [
    "item_prices: np.ndarray = np.array([21, 17, 34, 37, 29, 48, 45, 26, 25, 12, 41, 20])"
   ]
  },
  {
   "cell_type": "markdown",
   "id": "b503870b-2e26-4f1c-9166-a3e85c8fc8cc",
   "metadata": {},
   "source": [
    "##### Indexing Array.\n",
    "\n",
    "what is the average price for products in the first three months?"
   ]
  },
  {
   "cell_type": "code",
   "execution_count": 7,
   "id": "806381ca-3c33-49cd-abdf-580577cf50ce",
   "metadata": {},
   "outputs": [
    {
     "name": "stdout",
     "output_type": "stream",
     "text": [
      "The average prices for products in the first three months are: 24.00\n"
     ]
    }
   ],
   "source": [
    "print(f\"The average prices for products in the first three months are: {np.average(item_prices[:3]):.2f}\")"
   ]
  },
  {
   "cell_type": "markdown",
   "id": "bc75a7dc-6c51-4aa1-8be8-8a91fe447763",
   "metadata": {},
   "source": [
    "For a QC process, you decide to sample your price list. You want to access all the prices stored at Odd indexes in the array `item_prices`. "
   ]
  },
  {
   "cell_type": "code",
   "execution_count": 11,
   "id": "40e8841c-2592-49e8-b92f-cf51e9070f69",
   "metadata": {},
   "outputs": [
    {
     "data": {
      "text/plain": [
       "array([17, 37, 48, 26, 12, 20])"
      ]
     },
     "execution_count": 11,
     "metadata": {},
     "output_type": "execute_result"
    }
   ],
   "source": [
    "item_prices[1::2]"
   ]
  },
  {
   "cell_type": "code",
   "execution_count": null,
   "id": "f3428715-633f-49cd-9692-0eb6ca0a1a82",
   "metadata": {},
   "outputs": [],
   "source": []
  }
 ],
 "metadata": {
  "kernelspec": {
   "display_name": "Python 3 (ipykernel)",
   "language": "python",
   "name": "python3"
  },
  "language_info": {
   "codemirror_mode": {
    "name": "ipython",
    "version": 3
   },
   "file_extension": ".py",
   "mimetype": "text/x-python",
   "name": "python",
   "nbconvert_exporter": "python",
   "pygments_lexer": "ipython3",
   "version": "3.10.11"
  }
 },
 "nbformat": 4,
 "nbformat_minor": 5
}
