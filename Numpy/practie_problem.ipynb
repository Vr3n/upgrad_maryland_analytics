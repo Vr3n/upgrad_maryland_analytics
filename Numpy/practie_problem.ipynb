{
 "cells": [
  {
   "cell_type": "markdown",
   "id": "0685a533-6c55-4eb8-a352-b30794f36b6c",
   "metadata": {},
   "source": [
    "### Practice Problems\n",
    "\n",
    "- Create an array that contains all numbers between 10 and 20, inclusive.\n",
    "- Using the original array created, create another array that contains the values $11, 12, 19, 18 and 13$\n",
    "- Repeat the previous problem using the original array, but now the array should contain the values  $11, 12, 19, 18 and 13$. Create the array using a different technique than before.\n",
    "\n",
    "- Challenge: Using the Original array, create another array that contains all values between 14 and 18, exclusive of these values."
   ]
  },
  {
   "cell_type": "code",
   "execution_count": 10,
   "id": "2e3d2a5f-31e3-427f-a0bb-0a6b595ab75c",
   "metadata": {},
   "outputs": [],
   "source": [
    "import numpy as np"
   ]
  },
  {
   "cell_type": "code",
   "execution_count": 11,
   "id": "11b85480-6a36-4f1e-8740-936c0e91f4b3",
   "metadata": {},
   "outputs": [
    {
     "data": {
      "text/plain": [
       "array([10, 11, 12, 13, 14, 15, 16, 17, 18, 19, 20])"
      ]
     },
     "execution_count": 11,
     "metadata": {},
     "output_type": "execute_result"
    }
   ],
   "source": [
    "arr1 = np.arange(10, 21)\n",
    "arr1"
   ]
  },
  {
   "cell_type": "code",
   "execution_count": 12,
   "id": "bbaeb6f2-3809-4ee7-9255-9b960322ccbf",
   "metadata": {},
   "outputs": [
    {
     "data": {
      "text/plain": [
       "array([11, 12, 13, 18, 19])"
      ]
     },
     "execution_count": 12,
     "metadata": {},
     "output_type": "execute_result"
    }
   ],
   "source": [
    "arr2 = arr1[np.array([1, 2, 3, 8, 9])]\n",
    "arr2"
   ]
  },
  {
   "cell_type": "code",
   "execution_count": 13,
   "id": "bc41875c-5860-401b-b310-5e91e044b3d7",
   "metadata": {},
   "outputs": [
    {
     "data": {
      "text/plain": [
       "array([11, 12, 13, 18, 19])"
      ]
     },
     "execution_count": 13,
     "metadata": {},
     "output_type": "execute_result"
    }
   ],
   "source": [
    "arr3 = arr1[np.array([False, True, True, True, False, False, False, False, True, True, False])]\n",
    "arr3"
   ]
  },
  {
   "cell_type": "code",
   "execution_count": 14,
   "id": "5b5a3a02-969f-4e57-aa73-5b1ded286421",
   "metadata": {},
   "outputs": [
    {
     "data": {
      "text/plain": [
       "array([15, 16, 17])"
      ]
     },
     "execution_count": 14,
     "metadata": {},
     "output_type": "execute_result"
    }
   ],
   "source": [
    "arr4 = arr1[(arr1 > 14) & (arr1 < 18)]\n",
    "arr4"
   ]
  }
 ],
 "metadata": {
  "kernelspec": {
   "display_name": "Python 3 (ipykernel)",
   "language": "python",
   "name": "python3"
  },
  "language_info": {
   "codemirror_mode": {
    "name": "ipython",
    "version": 3
   },
   "file_extension": ".py",
   "mimetype": "text/x-python",
   "name": "python",
   "nbconvert_exporter": "python",
   "pygments_lexer": "ipython3",
   "version": "3.10.11"
  }
 },
 "nbformat": 4,
 "nbformat_minor": 5
}
