{
 "cells": [
  {
   "cell_type": "markdown",
   "id": "1c389d69-7da5-4156-b9b0-52c3a76c0180",
   "metadata": {},
   "source": [
    "### Sorting Arrays"
   ]
  },
  {
   "cell_type": "markdown",
   "id": "62e14149-5700-4d25-b9e4-a86babf87a39",
   "metadata": {},
   "source": [
    "The `sort(array)` function returns a copy of a sorted array."
   ]
  },
  {
   "cell_type": "code",
   "execution_count": 1,
   "id": "5f25e38f-fd94-4c2c-b60f-81b2f4a8ac51",
   "metadata": {},
   "outputs": [],
   "source": [
    "import numpy as np"
   ]
  },
  {
   "cell_type": "code",
   "execution_count": 2,
   "id": "c948f340-ba83-43ee-ab84-25f393836225",
   "metadata": {},
   "outputs": [
    {
     "data": {
      "text/plain": [
       "array([0.29918866, 0.12762835, 0.01424428, 0.62091425, 0.57145355])"
      ]
     },
     "execution_count": 2,
     "metadata": {},
     "output_type": "execute_result"
    }
   ],
   "source": [
    "arr1 = np.random.rand(5)\n",
    "arr1"
   ]
  },
  {
   "cell_type": "code",
   "execution_count": 5,
   "id": "d6f908ec-28ef-4702-a6e1-71dadf021a38",
   "metadata": {},
   "outputs": [],
   "source": [
    "arr2 = np.sort(arr1)"
   ]
  },
  {
   "cell_type": "code",
   "execution_count": 6,
   "id": "54d83797-1536-4ccd-bc90-14df29e122af",
   "metadata": {},
   "outputs": [
    {
     "data": {
      "text/plain": [
       "array([0.01424428, 0.12762835, 0.29918866, 0.57145355, 0.62091425])"
      ]
     },
     "execution_count": 6,
     "metadata": {},
     "output_type": "execute_result"
    }
   ],
   "source": [
    "arr2"
   ]
  },
  {
   "cell_type": "code",
   "execution_count": 7,
   "id": "533eaf9f-8ab7-498d-95e7-61659fb04662",
   "metadata": {},
   "outputs": [
    {
     "data": {
      "text/plain": [
       "array([0.21742185, 0.78269812, 0.96030335, 0.74545742, 0.00435092])"
      ]
     },
     "execution_count": 7,
     "metadata": {},
     "output_type": "execute_result"
    }
   ],
   "source": [
    "arr4 = np.random.rand(5)\n",
    "arr4"
   ]
  },
  {
   "cell_type": "code",
   "execution_count": 8,
   "id": "efb62a34-b078-4930-a604-ac30173863ab",
   "metadata": {},
   "outputs": [
    {
     "data": {
      "text/plain": [
       "array([4, 0, 3, 1, 2], dtype=int64)"
      ]
     },
     "execution_count": 8,
     "metadata": {},
     "output_type": "execute_result"
    }
   ],
   "source": [
    "arr4.argsort()"
   ]
  },
  {
   "cell_type": "code",
   "execution_count": 9,
   "id": "1e02557d-be66-40f2-aff8-d42800bfdfed",
   "metadata": {},
   "outputs": [],
   "source": [
    "rain_mm_by_hour_for_2weeks = np.array([[[0, 0, 0, 0, 0, 0, 0, 4, 2, 2, 4, 4, 0, 0, 0, 6, 0, 3, 6, 0, 0, 0, 3, 0],\n",
    "                                        [6, 4, 0, 5, 7, 0, 0, 2, 4, 0, 0, 6, 4, 0, 0, 0, 2, 6, 0, 0, 1, 0, 7, 0],\n",
    "                                        [0, 0, 6, 0, 0, 4, 0, 0, 7, 3, 4, 2, 2, 3, 6, 5, 3, 0, 0, 0, 0, 0, 5, 3],\n",
    "                                        [3, 0, 0, 4, 0, 0, 0, 0, 0, 0, 1, 0, 5, 5, 1, 0, 0, 0, 6, 5, 6, 4, 0, 0],\n",
    "                                        [4, 2, 2, 0, 0, 0, 0, 6, 4, 0, 0, 0, 0, 5, 0, 0, 0, 2, 0, 5, 2, 0, 0, 2],\n",
    "                                        [0, 2, 0, 0, 6, 0, 0, 1, 0, 0, 0, 0, 5, 0, 6, 0, 1, 0, 0, 0, 2, 0, 0, 0],\n",
    "                                        [0, 3, 5, 1, 7, 3, 0, 2, 4, 7, 0, 1, 3, 0, 4, 0, 0, 1, 0, 0, 0, 6, 4, 0]],\n",
    "\n",
    "                                       [[3, 1, 4, 2, 0, 0, 0, 3, 0, 0, 5, 0, 0, 5, 0, 0, 0, 3, 0, 0, 0, 4, 4, 6],\n",
    "                                        [2, 7, 0, 0, 0, 0, 0, 7, 0, 0, 0, 0, 2, 1, 7, 6, 0, 0, 0, 0, 3, 0, 0, 0],\n",
    "                                        [0, 0, 0, 1, 0, 2, 5, 1, 0, 0, 0, 2, 7, 0, 0, 0, 2, 0, 5, 4, 0, 1, 7, 4],\n",
    "                                        [2, 0, 2, 2, 0, 0, 0, 0, 0, 0, 0, 7, 0, 0, 3, 0, 0, 0, 2, 0, 0, 0, 2, 7],\n",
    "                                        [3, 0, 4, 0, 0, 6, 0, 0, 0, 3, 7, 0, 0, 0, 5, 0, 0, 0, 0, 0, 3, 0, 5, 0],\n",
    "                                        [0, 0, 3, 0, 0, 0, 5, 0, 2, 1, 0, 0, 0, 0, 5, 0, 0, 6, 0, 4, 0, 0, 1, 0],\n",
    "                                        [0, 0, 0, 0, 0, 4, 4, 0, 0, 4, 6, 6, 4, 6, 0, 1, 5, 0, 0, 0, 2, 0, 3, 0]]])"
   ]
  },
  {
   "cell_type": "code",
   "execution_count": 15,
   "id": "753a95c3-e35d-4ea4-a81a-20f60d098bf9",
   "metadata": {},
   "outputs": [
    {
     "data": {
      "text/plain": [
       "array([10, 19, 17, 16, 15, 13, 12, 20,  9, 21,  7,  6,  5,  4,  1,  8, 22,\n",
       "        3,  2, 18,  0, 14, 11, 23], dtype=int64)"
      ]
     },
     "execution_count": 15,
     "metadata": {},
     "output_type": "execute_result"
    }
   ],
   "source": [
    "np.argsort(rain_mm_by_hour_for_2weeks[1, 3])"
   ]
  },
  {
   "cell_type": "code",
   "execution_count": null,
   "id": "df41a87a-7db8-4f80-95ac-042b9b81f58e",
   "metadata": {},
   "outputs": [],
   "source": []
  }
 ],
 "metadata": {
  "kernelspec": {
   "display_name": "Python 3 (ipykernel)",
   "language": "python",
   "name": "python3"
  },
  "language_info": {
   "codemirror_mode": {
    "name": "ipython",
    "version": 3
   },
   "file_extension": ".py",
   "mimetype": "text/x-python",
   "name": "python",
   "nbconvert_exporter": "python",
   "pygments_lexer": "ipython3",
   "version": "3.10.11"
  }
 },
 "nbformat": 4,
 "nbformat_minor": 5
}
