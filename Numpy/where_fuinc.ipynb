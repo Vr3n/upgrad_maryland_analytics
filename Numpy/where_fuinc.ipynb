{
 "cells": [
  {
   "cell_type": "markdown",
   "id": "75ed55da-a71d-4418-95c5-3552d10fc025",
   "metadata": {},
   "source": [
    "### Creating values based on condition\n"
   ]
  },
  {
   "cell_type": "code",
   "execution_count": 2,
   "id": "9cb532a5-ed06-4621-b623-e196c1b92854",
   "metadata": {},
   "outputs": [],
   "source": [
    "import numpy as np"
   ]
  },
  {
   "cell_type": "code",
   "execution_count": 3,
   "id": "b223f5d5-8880-4ecb-b97e-8867706edcd0",
   "metadata": {},
   "outputs": [
    {
     "data": {
      "text/plain": [
       "array(['T', 'H', 'T', 'T', 'H', 'H', 'T', 'T', 'H', 'T'], dtype='<U1')"
      ]
     },
     "execution_count": 3,
     "metadata": {},
     "output_type": "execute_result"
    }
   ],
   "source": [
    "# flip a coin n number of times.\n",
    "num_times = 10\n",
    "coin_flips = np.where(np.random.rand(num_times) > 0.5, 'H', 'T')\n",
    "coin_flips"
   ]
  },
  {
   "cell_type": "code",
   "execution_count": null,
   "id": "654df517-aadb-47f6-b79d-7fa3060f5646",
   "metadata": {},
   "outputs": [],
   "source": []
  }
 ],
 "metadata": {
  "kernelspec": {
   "display_name": "Python 3 (ipykernel)",
   "language": "python",
   "name": "python3"
  },
  "language_info": {
   "codemirror_mode": {
    "name": "ipython",
    "version": 3
   },
   "file_extension": ".py",
   "mimetype": "text/x-python",
   "name": "python",
   "nbconvert_exporter": "python",
   "pygments_lexer": "ipython3",
   "version": "3.10.11"
  }
 },
 "nbformat": 4,
 "nbformat_minor": 5
}
