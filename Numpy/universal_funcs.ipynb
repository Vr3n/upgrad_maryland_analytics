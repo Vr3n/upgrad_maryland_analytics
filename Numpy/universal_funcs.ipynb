{
 "cells": [
  {
   "cell_type": "markdown",
   "id": "6ace8233-d478-4b7f-9bb0-d29302f1c0f1",
   "metadata": {},
   "source": [
    "## Universal functions\n",
    "\n",
    "A __universal function__ is a stanalone function that performs element-wise operations, using one or two arrays or array-like arguments. \\\n",
    "To use a universal function, the syntax is `np.function_name(array_name)`"
   ]
  },
  {
   "cell_type": "code",
   "execution_count": 8,
   "id": "614d6fb7-9b06-4b4b-9d00-5f5daf6e5173",
   "metadata": {},
   "outputs": [],
   "source": [
    "import numpy as np"
   ]
  },
  {
   "cell_type": "code",
   "execution_count": 9,
   "id": "d97e4804-bdaa-4406-bf28-d5a91fd2eff5",
   "metadata": {},
   "outputs": [
    {
     "data": {
      "text/plain": [
       "array([[2, 3, 4],\n",
       "       [5, 6, 7]])"
      ]
     },
     "execution_count": 9,
     "metadata": {},
     "output_type": "execute_result"
    }
   ],
   "source": [
    "arr1 = np.array([[2, 3, 4], [5, 6, 7]])\n",
    "arr1"
   ]
  },
  {
   "cell_type": "code",
   "execution_count": 10,
   "id": "47b9cc9c-2997-43d2-b29e-97abfbdc7fe0",
   "metadata": {},
   "outputs": [
    {
     "data": {
      "text/plain": [
       "array([[1.41421356, 1.73205081, 2.        ],\n",
       "       [2.23606798, 2.44948974, 2.64575131]])"
      ]
     },
     "execution_count": 10,
     "metadata": {},
     "output_type": "execute_result"
    }
   ],
   "source": [
    "np.sqrt(arr1)"
   ]
  },
  {
   "cell_type": "code",
   "execution_count": 11,
   "id": "52b2edb0-e9f0-4a0d-82b5-ee5c5b295ce9",
   "metadata": {},
   "outputs": [
    {
     "data": {
      "text/plain": [
       "27"
      ]
     },
     "execution_count": 11,
     "metadata": {},
     "output_type": "execute_result"
    }
   ],
   "source": [
    "np.sum(arr1)"
   ]
  },
  {
   "cell_type": "code",
   "execution_count": 12,
   "id": "75c60477-de40-4158-93f2-4f73fbd7c4e9",
   "metadata": {},
   "outputs": [
    {
     "data": {
      "text/plain": [
       "4.5"
      ]
     },
     "execution_count": 12,
     "metadata": {},
     "output_type": "execute_result"
    }
   ],
   "source": [
    "np.mean(arr1)"
   ]
  },
  {
   "cell_type": "code",
   "execution_count": 13,
   "id": "b2bd813d-194a-4751-becc-c2e35c5a20ef",
   "metadata": {},
   "outputs": [
    {
     "data": {
      "text/plain": [
       "array([[False,  True]])"
      ]
     },
     "execution_count": 13,
     "metadata": {},
     "output_type": "execute_result"
    }
   ],
   "source": [
    "arr2 = np.array([[2, 7]])\n",
    "arr3 = np.array([[2, 2]])\n",
    "np.greater(arr2, arr3)"
   ]
  },
  {
   "cell_type": "markdown",
   "id": "09f95760-b7d9-4a94-9805-7931e1fec70c",
   "metadata": {},
   "source": []
  }
 ],
 "metadata": {
  "kernelspec": {
   "display_name": "Python 3 (ipykernel)",
   "language": "python",
   "name": "python3"
  },
  "language_info": {
   "codemirror_mode": {
    "name": "ipython",
    "version": 3
   },
   "file_extension": ".py",
   "mimetype": "text/x-python",
   "name": "python",
   "nbconvert_exporter": "python",
   "pygments_lexer": "ipython3",
   "version": "3.10.11"
  }
 },
 "nbformat": 4,
 "nbformat_minor": 5
}
