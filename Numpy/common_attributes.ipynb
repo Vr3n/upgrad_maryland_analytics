{
 "cells": [
  {
   "cell_type": "markdown",
   "id": "01680945-4ea1-4184-b69d-a1316331f998",
   "metadata": {},
   "source": [
    "## Common Array attributes\n",
    "\n",
    "- `ndim`: number of dimensions in the Array.\n",
    "- `shape`: number of dimensions in the Array.\n",
    "- `dtype`: data type of values in the Array.\n",
    "- `size`: total number of values in the array."
   ]
  },
  {
   "cell_type": "code",
   "execution_count": 2,
   "id": "597ed868-1c99-4d28-9259-b74cb3a9c7be",
   "metadata": {},
   "outputs": [],
   "source": [
    "import numpy as np"
   ]
  },
  {
   "cell_type": "code",
   "execution_count": 3,
   "id": "26b34b70-2a77-4cee-98db-bb922393af6f",
   "metadata": {},
   "outputs": [
    {
     "data": {
      "text/plain": [
       "array([[0.21987964, 0.52276042, 0.41350833, 0.00623143, 0.85071394],\n",
       "       [0.90711916, 0.21647302, 0.33239822, 0.44574167, 0.56934896],\n",
       "       [0.6223843 , 0.37215792, 0.23443189, 0.57397503, 0.2649959 ]])"
      ]
     },
     "execution_count": 3,
     "metadata": {},
     "output_type": "execute_result"
    }
   ],
   "source": [
    "arr1 = np.random.rand(3, 5)\n",
    "arr1"
   ]
  },
  {
   "cell_type": "code",
   "execution_count": 5,
   "id": "3e0c2244-f74c-40a4-85dc-205e219e9999",
   "metadata": {},
   "outputs": [
    {
     "name": "stdout",
     "output_type": "stream",
     "text": [
      "Number of Dimensions: 2\n"
     ]
    }
   ],
   "source": [
    "print(f\"Number of Dimensions: {arr1.ndim}\")"
   ]
  },
  {
   "cell_type": "code",
   "execution_count": 6,
   "id": "92179746-79e6-4933-a328-9bbc736e0a4c",
   "metadata": {},
   "outputs": [
    {
     "name": "stdout",
     "output_type": "stream",
     "text": [
      "Shape of array: (3, 5)\n"
     ]
    }
   ],
   "source": [
    "print(f\"Shape of array: {arr1.shape}\")"
   ]
  },
  {
   "cell_type": "code",
   "execution_count": 7,
   "id": "078e2dee-6f49-45cb-a0df-c7812dcaa302",
   "metadata": {},
   "outputs": [
    {
     "name": "stdout",
     "output_type": "stream",
     "text": [
      "Data type of array: float64\n"
     ]
    }
   ],
   "source": [
    "print(f\"Data type of array: {arr1.dtype}\")"
   ]
  },
  {
   "cell_type": "code",
   "execution_count": 8,
   "id": "c5fc0795-365b-4587-a906-219ad2f5ca88",
   "metadata": {},
   "outputs": [
    {
     "name": "stdout",
     "output_type": "stream",
     "text": [
      "Size of array: 15\n"
     ]
    }
   ],
   "source": [
    "print(f\"Size of array: {arr1.size}\")"
   ]
  },
  {
   "cell_type": "markdown",
   "id": "7b6ba68c-a56d-44cf-adcf-3803a4fc1009",
   "metadata": {},
   "source": [
    "## Using `astype` to convert the dtype of array."
   ]
  },
  {
   "cell_type": "code",
   "execution_count": 10,
   "id": "b758945d-fe74-48b3-bab5-109bd6d729d9",
   "metadata": {},
   "outputs": [],
   "source": [
    "arr1 = arr1.astype(int)"
   ]
  },
  {
   "cell_type": "code",
   "execution_count": 11,
   "id": "23c3634d-fedd-4763-970c-7f41a2a987da",
   "metadata": {},
   "outputs": [
    {
     "data": {
      "text/plain": [
       "array([[0, 0, 0, 0, 0],\n",
       "       [0, 0, 0, 0, 0],\n",
       "       [0, 0, 0, 0, 0]])"
      ]
     },
     "execution_count": 11,
     "metadata": {},
     "output_type": "execute_result"
    }
   ],
   "source": [
    "arr1"
   ]
  },
  {
   "cell_type": "code",
   "execution_count": 12,
   "id": "d944fd3e-2de1-4978-a1f1-51e95b67167c",
   "metadata": {},
   "outputs": [],
   "source": [
    "arr = arr1.astype(float)"
   ]
  },
  {
   "cell_type": "code",
   "execution_count": 13,
   "id": "7f9d4802-5931-4942-9690-086fc397dc6a",
   "metadata": {},
   "outputs": [
    {
     "data": {
      "text/plain": [
       "array([[0., 0., 0., 0., 0.],\n",
       "       [0., 0., 0., 0., 0.],\n",
       "       [0., 0., 0., 0., 0.]])"
      ]
     },
     "execution_count": 13,
     "metadata": {},
     "output_type": "execute_result"
    }
   ],
   "source": [
    "arr"
   ]
  },
  {
   "cell_type": "code",
   "execution_count": 14,
   "id": "d05fbfab-5258-4ab1-82ea-c501d527d475",
   "metadata": {},
   "outputs": [
    {
     "data": {
      "text/plain": [
       "10"
      ]
     },
     "execution_count": 14,
     "metadata": {},
     "output_type": "execute_result"
    }
   ],
   "source": [
    "arr1 = np.random.rand(2, 5)\n",
    "arr1.size"
   ]
  },
  {
   "cell_type": "code",
   "execution_count": 15,
   "id": "d83a0e90-cd04-4733-8060-e11b61d4a116",
   "metadata": {},
   "outputs": [],
   "source": [
    "arr2 = np.array([10.7, 3.2, 5.8, 11.3])"
   ]
  },
  {
   "cell_type": "code",
   "execution_count": 16,
   "id": "bfa03587-e2a5-4fde-b692-1581a0484a64",
   "metadata": {},
   "outputs": [
    {
     "data": {
      "text/plain": [
       "array([10,  3,  5, 11])"
      ]
     },
     "execution_count": 16,
     "metadata": {},
     "output_type": "execute_result"
    }
   ],
   "source": [
    "arr2.astype(int)"
   ]
  }
 ],
 "metadata": {
  "kernelspec": {
   "display_name": "Python 3 (ipykernel)",
   "language": "python",
   "name": "python3"
  },
  "language_info": {
   "codemirror_mode": {
    "name": "ipython",
    "version": 3
   },
   "file_extension": ".py",
   "mimetype": "text/x-python",
   "name": "python",
   "nbconvert_exporter": "python",
   "pygments_lexer": "ipython3",
   "version": "3.10.11"
  }
 },
 "nbformat": 4,
 "nbformat_minor": 5
}
