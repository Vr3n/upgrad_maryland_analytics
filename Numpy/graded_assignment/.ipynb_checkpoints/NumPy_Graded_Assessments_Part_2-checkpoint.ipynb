{
  "nbformat": 4,
  "nbformat_minor": 0,
  "metadata": {
    "colab": {
      "name": "NumPy- Graded Assessments - Part 2.ipynb",
      "provenance": []
    },
    "kernelspec": {
      "name": "python3",
      "display_name": "Python 3"
    },
    "language_info": {
      "name": "python"
    }
  },
  "cells": [
    {
      "cell_type": "markdown",
      "source": [
        "## Problem Statement:\n",
        "\n",
        "Let’s revisit the meteorologist example. You maintain the hourly amount of rainfall in millimeters for weekdays and weekends, each in separate 2-D arrays, as given below:"
      ],
      "metadata": {
        "id": "lAVnvNymr9VI"
      }
    },
    {
      "cell_type": "code",
      "source": [
        "import numpy as np\n",
        "\n",
        "rain_mm_by_hour_weekdays = np.array([[3, 0, 4, 0, 3, 0, 1, 4, 2, 2, 0, 5, 0, 4, 1, 0, 0, 3, 6, 0, 0, 0, 0,0],\n",
        "                                  \t [1, 4, 0, 0, 1, 0, 0, 1, 5, 0, 0, 3, 6, 0, 0, 0, 7, 4, 0, 2, 4, 0, 3, 0],\n",
        "                                  \t [0, 0, 4, 0, 0, 6, 0, 0, 1, 0, 7, 7, 6, 4, 6, 1, 2, 0, 0, 0, 0, 0, 4, 2],\n",
        "                                     [2, 0, 0, 5, 0, 0, 0, 2, 0, 0, 5, 1, 3, 3, 2, 0, 0, 0, 2, 0, 5, 5, 0, 0],\n",
        "                                     [5, 5, 1, 0, 0, 0, 0, 5, 6, 0, 0, 2, 0, 2, 0, 0, 3, 4, 0, 6, 4, 0, 0, 3]])\n",
        "\n",
        "\n",
        "rain_mm_by_hour_weekend = np.array([[0, 5, 7, 6, 5, 2, 0, 5, 0, 0, 0, 0, 1, 0, 3, 0, 6, 0, 0, 1, 5, 0, 0,0],\n",
        "                                    [0, 5, 6, 0, 1, 5, 0, 0, 2, 4, 0, 0, 0, 0, 5, 0, 0, 3, 0, 0, 0, 7, 3, 0]])\n"
      ],
      "metadata": {
        "id": "46KVeXjasFVe"
      },
      "execution_count": null,
      "outputs": []
    },
    {
      "cell_type": "markdown",
      "source": [
        "The hour of the day is represented by the column index (index 0 corresponds to 00:00 to 00:59; index 1 corresponds to 01:00 to 01:59), and the weekday number is represented by the row index (Mon = 0, Tue = 1…).\n",
        "\n",
        "Combine both arrays to form a new array rain_mm_by_hour_for_1week. Use this array to answer the questions that follow."
      ],
      "metadata": {
        "id": "ZnqJntHKsBwa"
      }
    },
    {
      "cell_type": "markdown",
      "source": [
        "**Q1:** What is the average amount of rainfall for hour 11 (11:00–11:59) for each day of the week? (Round off to one place after the decimal.)\n",
        "\n",
        "a) 2.3 mm\n",
        "\n",
        "b) 3.5 mm\n",
        "\n",
        "c) 2.6 mm\n",
        "\n",
        "d) 1.7 mm\n",
        "\n"
      ],
      "metadata": {
        "id": "tIIr9gz7sUFb"
      }
    },
    {
      "cell_type": "code",
      "source": [
        "# write your code here"
      ],
      "metadata": {
        "id": "7hm6Y8MGRrOK"
      },
      "execution_count": null,
      "outputs": []
    },
    {
      "cell_type": "markdown",
      "source": [
        "**Q2**:  The average amount of rainfall for the week’s weekdays is greater than the weekend. [True/False]\n",
        "\n",
        "a) True\n",
        "\n",
        "b) False\n"
      ],
      "metadata": {
        "id": "yQIuSn3KQ9uA"
      }
    },
    {
      "cell_type": "code",
      "source": [
        "# write your code here"
      ],
      "metadata": {
        "id": "TdUKQAbZRVt2"
      },
      "execution_count": null,
      "outputs": []
    },
    {
      "cell_type": "markdown",
      "source": [
        "**Q3.** What is the total number of hours with a rainfall of 0 mm?\n",
        "a) 88 \n",
        "\n",
        "b) 85\n",
        "\n",
        "c) 90\n",
        "\n",
        "d) None of the above\n"
      ],
      "metadata": {
        "id": "X70uUyjWZeJp"
      }
    },
    {
      "cell_type": "code",
      "source": [
        "# write your code here"
      ],
      "metadata": {
        "id": "9TYIYrTzZj-v"
      },
      "execution_count": null,
      "outputs": []
    }
  ]
}