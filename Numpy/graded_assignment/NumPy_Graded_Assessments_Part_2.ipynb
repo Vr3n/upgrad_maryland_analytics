{
 "cells": [
  {
   "cell_type": "markdown",
   "metadata": {
    "id": "lAVnvNymr9VI"
   },
   "source": [
    "## Problem Statement:\n",
    "\n",
    "Let’s revisit the meteorologist example. You maintain the hourly amount of rainfall in millimeters for weekdays and weekends, each in separate 2-D arrays, as given below:"
   ]
  },
  {
   "cell_type": "code",
   "execution_count": 1,
   "metadata": {
    "id": "46KVeXjasFVe"
   },
   "outputs": [],
   "source": [
    "import numpy as np\n",
    "\n",
    "rain_mm_by_hour_weekdays = np.array([[3, 0, 4, 0, 3, 0, 1, 4, 2, 2, 0, 5, 0, 4, 1, 0, 0, 3, 6, 0, 0, 0, 0,0],\n",
    "                                  \t [1, 4, 0, 0, 1, 0, 0, 1, 5, 0, 0, 3, 6, 0, 0, 0, 7, 4, 0, 2, 4, 0, 3, 0],\n",
    "                                  \t [0, 0, 4, 0, 0, 6, 0, 0, 1, 0, 7, 7, 6, 4, 6, 1, 2, 0, 0, 0, 0, 0, 4, 2],\n",
    "                                     [2, 0, 0, 5, 0, 0, 0, 2, 0, 0, 5, 1, 3, 3, 2, 0, 0, 0, 2, 0, 5, 5, 0, 0],\n",
    "                                     [5, 5, 1, 0, 0, 0, 0, 5, 6, 0, 0, 2, 0, 2, 0, 0, 3, 4, 0, 6, 4, 0, 0, 3]])\n",
    "\n",
    "\n",
    "rain_mm_by_hour_weekend = np.array([[0, 5, 7, 6, 5, 2, 0, 5, 0, 0, 0, 0, 1, 0, 3, 0, 6, 0, 0, 1, 5, 0, 0,0],\n",
    "                                    [0, 5, 6, 0, 1, 5, 0, 0, 2, 4, 0, 0, 0, 0, 5, 0, 0, 3, 0, 0, 0, 7, 3, 0]])\n"
   ]
  },
  {
   "cell_type": "markdown",
   "metadata": {
    "id": "ZnqJntHKsBwa"
   },
   "source": [
    "The hour of the day is represented by the column index (index 0 corresponds to 00:00 to 00:59; index 1 corresponds to 01:00 to 01:59), and the weekday number is represented by the row index (Mon = 0, Tue = 1…).\n",
    "\n",
    "Combine both arrays to form a new array rain_mm_by_hour_for_1week. Use this array to answer the questions that follow."
   ]
  },
  {
   "cell_type": "code",
   "execution_count": 3,
   "metadata": {},
   "outputs": [
    {
     "data": {
      "text/plain": [
       "array([[3, 0, 4, 0, 3, 0, 1, 4, 2, 2, 0, 5, 0, 4, 1, 0, 0, 3, 6, 0, 0, 0,\n",
       "        0, 0],\n",
       "       [1, 4, 0, 0, 1, 0, 0, 1, 5, 0, 0, 3, 6, 0, 0, 0, 7, 4, 0, 2, 4, 0,\n",
       "        3, 0],\n",
       "       [0, 0, 4, 0, 0, 6, 0, 0, 1, 0, 7, 7, 6, 4, 6, 1, 2, 0, 0, 0, 0, 0,\n",
       "        4, 2],\n",
       "       [2, 0, 0, 5, 0, 0, 0, 2, 0, 0, 5, 1, 3, 3, 2, 0, 0, 0, 2, 0, 5, 5,\n",
       "        0, 0],\n",
       "       [5, 5, 1, 0, 0, 0, 0, 5, 6, 0, 0, 2, 0, 2, 0, 0, 3, 4, 0, 6, 4, 0,\n",
       "        0, 3],\n",
       "       [0, 5, 7, 6, 5, 2, 0, 5, 0, 0, 0, 0, 1, 0, 3, 0, 6, 0, 0, 1, 5, 0,\n",
       "        0, 0],\n",
       "       [0, 5, 6, 0, 1, 5, 0, 0, 2, 4, 0, 0, 0, 0, 5, 0, 0, 3, 0, 0, 0, 7,\n",
       "        3, 0]])"
      ]
     },
     "execution_count": 3,
     "metadata": {},
     "output_type": "execute_result"
    }
   ],
   "source": [
    "rain_mm_by_hour_1week = np.vstack([rain_mm_by_hour_weekdays, rain_mm_by_hour_weekend])\n",
    "rain_mm_by_hour_1week"
   ]
  },
  {
   "cell_type": "markdown",
   "metadata": {
    "id": "tIIr9gz7sUFb"
   },
   "source": [
    "**Q1:** What is the average amount of rainfall for hour 11 (11:00–11:59) for each day of the week? (Round off to one place after the decimal.)\n",
    "\n",
    "a) 2.3 mm\n",
    "\n",
    "b) 3.5 mm\n",
    "\n",
    "c) 2.6 mm\n",
    "\n",
    "d) 1.7 mm\n",
    "\n"
   ]
  },
  {
   "cell_type": "code",
   "execution_count": 7,
   "metadata": {
    "id": "7hm6Y8MGRrOK"
   },
   "outputs": [
    {
     "name": "stdout",
     "output_type": "stream",
     "text": [
      "2.6\n"
     ]
    }
   ],
   "source": [
    "# write your code here\n",
    "print(f\"{np.average(rain_mm_by_hour_1week[:, 11]):.1f}\")"
   ]
  },
  {
   "cell_type": "markdown",
   "metadata": {
    "id": "yQIuSn3KQ9uA"
   },
   "source": [
    "**Q2**:  The average amount of rainfall for the week’s weekdays is greater than the weekend. [True/False]\n",
    "\n",
    "a) True\n",
    "\n",
    "b) False\n"
   ]
  },
  {
   "cell_type": "code",
   "execution_count": 8,
   "metadata": {
    "id": "TdUKQAbZRVt2"
   },
   "outputs": [
    {
     "data": {
      "text/plain": [
       "False"
      ]
     },
     "execution_count": 8,
     "metadata": {},
     "output_type": "execute_result"
    }
   ],
   "source": [
    "# write your code here\n",
    "np.average(rain_mm_by_hour_weekdays) > np.average(rain_mm_by_hour_weekend)"
   ]
  },
  {
   "cell_type": "markdown",
   "metadata": {
    "id": "X70uUyjWZeJp"
   },
   "source": [
    "**Q3.** What is the total number of hours with a rainfall of 0 mm?\n",
    "a) 88 \n",
    "\n",
    "b) 85\n",
    "\n",
    "c) 90\n",
    "\n",
    "d) None of the above\n"
   ]
  },
  {
   "cell_type": "code",
   "execution_count": 11,
   "metadata": {
    "id": "9TYIYrTzZj-v"
   },
   "outputs": [
    {
     "data": {
      "text/plain": [
       "0"
      ]
     },
     "execution_count": 11,
     "metadata": {},
     "output_type": "execute_result"
    }
   ],
   "source": [
    "# write your code here\n",
    "rain_mm_by_hour_1week[np.where(rain_mm_by_hour_1week == 0)].sum()"
   ]
  },
  {
   "cell_type": "code",
   "execution_count": null,
   "metadata": {},
   "outputs": [],
   "source": []
  }
 ],
 "metadata": {
  "colab": {
   "name": "NumPy- Graded Assessments - Part 2.ipynb",
   "provenance": []
  },
  "kernelspec": {
   "display_name": "Python 3 (ipykernel)",
   "language": "python",
   "name": "python3"
  },
  "language_info": {
   "codemirror_mode": {
    "name": "ipython",
    "version": 3
   },
   "file_extension": ".py",
   "mimetype": "text/x-python",
   "name": "python",
   "nbconvert_exporter": "python",
   "pygments_lexer": "ipython3",
   "version": "3.10.11"
  }
 },
 "nbformat": 4,
 "nbformat_minor": 4
}
