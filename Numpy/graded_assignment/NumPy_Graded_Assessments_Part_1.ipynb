{
 "cells": [
  {
   "cell_type": "markdown",
   "metadata": {
    "id": "U-susNZxreCI"
   },
   "source": [
    "## Problem Statement:\n",
    "You work for an e-commerce company. On the first day of the new quarter, you store transaction details of the products your company sold in two arrays.\n",
    "\n"
   ]
  },
  {
   "cell_type": "code",
   "execution_count": 1,
   "metadata": {
    "id": "bvuJpdgldBEn"
   },
   "outputs": [],
   "source": [
    "import numpy as np\n",
    "\n",
    "num_units_sold  = np.array([8, 9, 9, 1, 6, 9, 5, 7, 3, 9, 7, 3, 4, 8, 3, 5, 8, 4, 8, 7, 5, 7, 3, 6, 1, 2, 7, 4, 7, 7, 8, 4, 3, 4, 2, 2, 2, 7, 3, 5, 6, 1, 1, 3, 2, 1, 1, 7, 7, 1, 4, 4, 5, 6, 1, 2, 7, 4, 5, 8, 1, 4, 8, 6, 2, 4, 3, 7, 3, 6, 2, 3, 3, 3, 2, 4, 6, 8, 9, 3, 9, 3, 1, 8, 6, 6, 3, 3, 9, 4, 6, 4, 9, 6, 7, 1, 2, 8, 7, 8, 1, 4])\n",
    "unit_price  = np.array([195, 225, 150, 150, 90, 60, 75, 255, 270, 225, 135, 195, 30, 15, 210, 105, 15, 30, 180, 60, 165, 60, 45, 225, 180, 90, 30, 210, 150, 15, 270, 60, 210, 180, 60, 225, 150, 150, 120, 195, 75, 240, 60, 45, 30, 180, 240, 285, 135, 165, 180, 240, 60, 105, 165, 240, 120, 45, 120, 165, 285, 225, 90, 105, 225, 45, 45, 45, 75, 180, 90, 240, 30, 30, 60, 135, 180, 15, 255, 180, 270, 135, 105, 135, 210, 180, 135, 195, 225, 75, 225, 15, 240, 60, 15, 180, 255, 90, 15, 150, 230, 150])"
   ]
  },
  {
   "cell_type": "markdown",
   "metadata": {
    "id": "FxJGpINYvkXs"
   },
   "source": [
    "The first array “num_units_sold” contains the number of units sold for each product.\n",
    "The second array “unit_price” contains the price for each corresponding product.\n",
    "\n",
    "Below is a visual representation of the information in the arrays:\n",
    "\n",
    "![picture](https://drive.google.com/uc?id=1PusJv3SBbemoQM_C9WZPbjTV1uGoMVZJ)"
   ]
  },
  {
   "cell_type": "markdown",
   "metadata": {
    "id": "-EljiQsQsIj2"
   },
   "source": [
    "\n",
    "> For example: Product 1, represented by the first element in both arrays, num_units_sold and unit_price, sold 8 times and was priced at $195. \n",
    "\n",
    "\n",
    "Use these arrays to solve the questions provided below."
   ]
  },
  {
   "cell_type": "markdown",
   "metadata": {
    "id": "xVKBSsPNdBEp"
   },
   "source": [
    "**Q1:** How many unique products did the website sell on the first day of the new quarter?\n",
    "\n",
    "[Hint: Each element in the array num_units_sold is a unique product.]\n",
    "\n",
    "\n",
    "a)  99\n",
    "\n",
    "b)  100\n",
    "\n",
    "c)  101\n",
    "\n",
    "d)  102\n"
   ]
  },
  {
   "cell_type": "code",
   "execution_count": 4,
   "metadata": {
    "id": "e1lWMbGUdBEr"
   },
   "outputs": [
    {
     "name": "stdout",
     "output_type": "stream",
     "text": [
      "The number of unique products sold on the first day of the new quarter is: $102\n"
     ]
    }
   ],
   "source": [
    "# Type your code here\n",
    "print(f\"The number of unique products sold on the first day of the new quarter is: ${num_units_sold.size}\")"
   ]
  },
  {
   "cell_type": "markdown",
   "metadata": {
    "id": "Fgmor4d3dBEs"
   },
   "source": [
    "**Q2:** What was the total number of units sold?\n",
    "\n",
    "a)  460\n",
    "\n",
    "b)  490\n",
    "\n",
    "c)  500\n",
    "\n",
    "d)  520\n"
   ]
  },
  {
   "cell_type": "code",
   "execution_count": 5,
   "metadata": {
    "id": "hAZPJofzdBEu"
   },
   "outputs": [
    {
     "data": {
      "text/plain": [
       "490"
      ]
     },
     "execution_count": 5,
     "metadata": {},
     "output_type": "execute_result"
    }
   ],
   "source": [
    "# Type your code here\n",
    "num_units_sold.sum()"
   ]
  },
  {
   "cell_type": "markdown",
   "metadata": {
    "id": "upBDdaypdBEy"
   },
   "source": [
    "**Q3:** What was the price of the highest-priced product?\n",
    "\n",
    "\n",
    "a)  \\$225\n",
    "\n",
    "b)  \\$310\n",
    "\n",
    "c)  \\$280\n",
    "\n",
    "d)  \\$285"
   ]
  },
  {
   "cell_type": "code",
   "execution_count": 6,
   "metadata": {
    "id": "NZNPAqpwdBEz"
   },
   "outputs": [
    {
     "data": {
      "text/plain": [
       "285"
      ]
     },
     "execution_count": 6,
     "metadata": {},
     "output_type": "execute_result"
    }
   ],
   "source": [
    "# Type your code here\n",
    "unit_price.max()"
   ]
  },
  {
   "cell_type": "markdown",
   "metadata": {
    "id": "Xrt3RLjAdBE0"
   },
   "source": [
    "**Q4:** What was the total revenue on the first day of the new quarter? (where revenue = price*quantity)\n",
    "\n",
    "a)  \\$67100\n",
    "\n",
    "b)  \\$53900\n",
    "\n",
    "c)  \\$45300\n",
    "\n",
    "d)  \\$71200"
   ]
  },
  {
   "cell_type": "code",
   "execution_count": 8,
   "metadata": {
    "id": "3ROJBwosyJxA"
   },
   "outputs": [
    {
     "data": {
      "text/plain": [
       "67100"
      ]
     },
     "execution_count": 8,
     "metadata": {},
     "output_type": "execute_result"
    }
   ],
   "source": [
    "# Type your code here\n",
    "(num_units_sold * unit_price).sum()"
   ]
  },
  {
   "cell_type": "markdown",
   "metadata": {
    "collapsed": true,
    "id": "ILFUxRfOdBE1",
    "jupyter": {
     "outputs_hidden": true
    }
   },
   "source": [
    "**Q5:** Demand (i.e., number of units sold) for the 20th product is higher than for the 50th product. [True/False]\n",
    "\n",
    "a)  True\n",
    "\n",
    "b)  False\n"
   ]
  },
  {
   "cell_type": "code",
   "execution_count": 10,
   "metadata": {
    "id": "D186ITGidBE3"
   },
   "outputs": [
    {
     "data": {
      "text/plain": [
       "True"
      ]
     },
     "execution_count": 10,
     "metadata": {},
     "output_type": "execute_result"
    }
   ],
   "source": [
    "# Type your code here\n",
    "(num_units_sold[19] > num_units_sold[49])"
   ]
  },
  {
   "cell_type": "markdown",
   "metadata": {
    "id": "Q3r0XjxcdBE3"
   },
   "source": [
    "**Q6:** How many products fall under the category of expensive goods?\n",
    "An expensive good is one that is priced higher than $150.\n",
    "\n",
    "\n",
    "a)  48\n",
    "\n",
    "b)  50\n",
    "\n",
    "c)  45\n",
    "\n",
    "d)  54"
   ]
  },
  {
   "cell_type": "code",
   "execution_count": 18,
   "metadata": {
    "id": "G2LFRRbLdBE4"
   },
   "outputs": [
    {
     "data": {
      "text/plain": [
       "45"
      ]
     },
     "execution_count": 18,
     "metadata": {},
     "output_type": "execute_result"
    }
   ],
   "source": [
    "# Type your code here\n",
    "unit_price[np.where(unit_price > 150)].size"
   ]
  },
  {
   "cell_type": "code",
   "execution_count": null,
   "metadata": {},
   "outputs": [],
   "source": []
  }
 ],
 "metadata": {
  "colab": {
   "name": "NumPy - Graded Assessments - Part 1.ipynb",
   "provenance": []
  },
  "kernelspec": {
   "display_name": "Python 3 (ipykernel)",
   "language": "python",
   "name": "python3"
  },
  "language_info": {
   "codemirror_mode": {
    "name": "ipython",
    "version": 3
   },
   "file_extension": ".py",
   "mimetype": "text/x-python",
   "name": "python",
   "nbconvert_exporter": "python",
   "pygments_lexer": "ipython3",
   "version": "3.10.11"
  }
 },
 "nbformat": 4,
 "nbformat_minor": 4
}
