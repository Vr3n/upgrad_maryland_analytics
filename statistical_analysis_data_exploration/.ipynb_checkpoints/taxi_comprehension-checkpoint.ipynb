{
 "cells": [
  {
   "cell_type": "code",
   "execution_count": 1,
   "id": "2ca0a108-b83f-4678-a7bb-a27d9852950d",
   "metadata": {},
   "outputs": [],
   "source": [
    "import pandas as pd\n",
    "import seaborn as sns\n",
    "import numpy as np\n",
    "import matplotlib.pyplot as plt"
   ]
  },
  {
   "cell_type": "code",
   "execution_count": null,
   "id": "ea5d6834-d5cc-4ad5-8143-a130b3f12782",
   "metadata": {},
   "outputs": [],
   "source": [
    "Problem - I\n",
    "Which of the following is the least affected by the distance traveled by a taxi on a particular trip?"
   ]
  }
 ],
 "metadata": {
  "kernelspec": {
   "display_name": "Python 3 (ipykernel)",
   "language": "python",
   "name": "python3"
  },
  "language_info": {
   "codemirror_mode": {
    "name": "ipython",
    "version": 3
   },
   "file_extension": ".py",
   "mimetype": "text/x-python",
   "name": "python",
   "nbconvert_exporter": "python",
   "pygments_lexer": "ipython3",
   "version": "3.10.11"
  }
 },
 "nbformat": 4,
 "nbformat_minor": 5
}
