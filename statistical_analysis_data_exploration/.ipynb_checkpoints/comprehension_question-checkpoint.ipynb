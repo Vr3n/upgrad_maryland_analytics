{
 "cells": [
  {
   "cell_type": "markdown",
   "id": "f57d43b3-1f36-4aac-9dba-0320209eae75",
   "metadata": {},
   "source": [
    " The company wants to analyze the factors affecting CO2 emissions. You are tasked with deriving key insights and reporting them to the management. You can use this data set to answer the questions below:"
   ]
  },
  {
   "cell_type": "code",
   "execution_count": null,
   "id": "d335db5a-c46a-42df-bc32-d97fce862168",
   "metadata": {},
   "outputs": [],
   "source": [
    "import pandas as pd\n",
    "import seaborn as sns\n",
    "import numpy as np\n",
    "import matplotlib.pyplot as plt"
   ]
  },
  {
   "cell_type": "code",
   "execution_count": null,
   "id": "42081fb9-089a-4a61-8ec0-9e554839695b",
   "metadata": {},
   "outputs": [],
   "source": []
  }
 ],
 "metadata": {
  "kernelspec": {
   "display_name": "Python 3 (ipykernel)",
   "language": "python",
   "name": "python3"
  },
  "language_info": {
   "codemirror_mode": {
    "name": "ipython",
    "version": 3
   },
   "file_extension": ".py",
   "mimetype": "text/x-python",
   "name": "python",
   "nbconvert_exporter": "python",
   "pygments_lexer": "ipython3",
   "version": "3.10.11"
  }
 },
 "nbformat": 4,
 "nbformat_minor": 5
}
