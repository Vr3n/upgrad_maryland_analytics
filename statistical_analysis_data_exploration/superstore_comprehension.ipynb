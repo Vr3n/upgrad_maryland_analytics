{
 "cells": [
  {
   "cell_type": "code",
   "execution_count": 12,
   "id": "a62df0e9-e192-4556-bff2-602e1b5e7c84",
   "metadata": {},
   "outputs": [],
   "source": [
    "import pandas as pd\n",
    "import seaborn as sns\n",
    "import numpy as np\n",
    "import matplotlib.pyplot as plt\n",
    "from IPython.display import HTML"
   ]
  },
  {
   "cell_type": "code",
   "execution_count": 2,
   "id": "87582481-bc11-4ec1-b680-88dd43861c25",
   "metadata": {},
   "outputs": [],
   "source": [
    "df = pd.read_csv('superstore.csv')"
   ]
  },
  {
   "cell_type": "code",
   "execution_count": 5,
   "id": "f7da2c76-efb8-4b4b-bddb-84737e33b426",
   "metadata": {},
   "outputs": [
    {
     "data": {
      "text/plain": [
       "Index(['Order ID', 'Ship Mode', 'Segment', 'Region', 'Product ID', 'Sales',\n",
       "       'Quantity', 'Discount', 'Profit'],\n",
       "      dtype='object')"
      ]
     },
     "execution_count": 5,
     "metadata": {},
     "output_type": "execute_result"
    }
   ],
   "source": [
    "df.columns"
   ]
  },
  {
   "cell_type": "code",
   "execution_count": 7,
   "id": "e81accf9-43fd-4738-9755-8ac66bb46362",
   "metadata": {},
   "outputs": [
    {
     "data": {
      "text/html": [
       "<div>\n",
       "<style scoped>\n",
       "    .dataframe tbody tr th:only-of-type {\n",
       "        vertical-align: middle;\n",
       "    }\n",
       "\n",
       "    .dataframe tbody tr th {\n",
       "        vertical-align: top;\n",
       "    }\n",
       "\n",
       "    .dataframe thead th {\n",
       "        text-align: right;\n",
       "    }\n",
       "</style>\n",
       "<table border=\"1\" class=\"dataframe\">\n",
       "  <thead>\n",
       "    <tr style=\"text-align: right;\">\n",
       "      <th></th>\n",
       "      <th>Order ID</th>\n",
       "      <th>Ship Mode</th>\n",
       "      <th>Segment</th>\n",
       "      <th>Region</th>\n",
       "      <th>Product ID</th>\n",
       "      <th>Sales</th>\n",
       "      <th>Quantity</th>\n",
       "      <th>Discount</th>\n",
       "      <th>Profit</th>\n",
       "    </tr>\n",
       "  </thead>\n",
       "  <tbody>\n",
       "    <tr>\n",
       "      <th>0</th>\n",
       "      <td>CA-2016-152156</td>\n",
       "      <td>Second Class</td>\n",
       "      <td>Consumer</td>\n",
       "      <td>South</td>\n",
       "      <td>FUR-BO-10001798</td>\n",
       "      <td>261.9600</td>\n",
       "      <td>2</td>\n",
       "      <td>0%</td>\n",
       "      <td>41.9136</td>\n",
       "    </tr>\n",
       "    <tr>\n",
       "      <th>1</th>\n",
       "      <td>CA-2016-152156</td>\n",
       "      <td>Second Class</td>\n",
       "      <td>Consumer</td>\n",
       "      <td>South</td>\n",
       "      <td>FUR-CH-10000454</td>\n",
       "      <td>731.9400</td>\n",
       "      <td>3</td>\n",
       "      <td>0%</td>\n",
       "      <td>219.5820</td>\n",
       "    </tr>\n",
       "    <tr>\n",
       "      <th>2</th>\n",
       "      <td>CA-2016-138688</td>\n",
       "      <td>Second Class</td>\n",
       "      <td>Corporate</td>\n",
       "      <td>West</td>\n",
       "      <td>OFF-LA-10000240</td>\n",
       "      <td>14.6200</td>\n",
       "      <td>2</td>\n",
       "      <td>0%</td>\n",
       "      <td>6.8714</td>\n",
       "    </tr>\n",
       "    <tr>\n",
       "      <th>3</th>\n",
       "      <td>US-2015-108966</td>\n",
       "      <td>Standard Class</td>\n",
       "      <td>Consumer</td>\n",
       "      <td>South</td>\n",
       "      <td>FUR-TA-10000577</td>\n",
       "      <td>957.5775</td>\n",
       "      <td>5</td>\n",
       "      <td>0.45%</td>\n",
       "      <td>-383.0310</td>\n",
       "    </tr>\n",
       "    <tr>\n",
       "      <th>4</th>\n",
       "      <td>US-2015-108966</td>\n",
       "      <td>Standard Class</td>\n",
       "      <td>Consumer</td>\n",
       "      <td>South</td>\n",
       "      <td>OFF-ST-10000760</td>\n",
       "      <td>22.3680</td>\n",
       "      <td>2</td>\n",
       "      <td>0.20%</td>\n",
       "      <td>2.5164</td>\n",
       "    </tr>\n",
       "  </tbody>\n",
       "</table>\n",
       "</div>"
      ],
      "text/plain": [
       "         Order ID       Ship Mode    Segment Region       Product ID  \\\n",
       "0  CA-2016-152156    Second Class   Consumer  South  FUR-BO-10001798   \n",
       "1  CA-2016-152156    Second Class   Consumer  South  FUR-CH-10000454   \n",
       "2  CA-2016-138688    Second Class  Corporate   West  OFF-LA-10000240   \n",
       "3  US-2015-108966  Standard Class   Consumer  South  FUR-TA-10000577   \n",
       "4  US-2015-108966  Standard Class   Consumer  South  OFF-ST-10000760   \n",
       "\n",
       "      Sales  Quantity Discount    Profit  \n",
       "0  261.9600         2       0%   41.9136  \n",
       "1  731.9400         3       0%  219.5820  \n",
       "2   14.6200         2       0%    6.8714  \n",
       "3  957.5775         5    0.45% -383.0310  \n",
       "4   22.3680         2    0.20%    2.5164  "
      ]
     },
     "execution_count": 7,
     "metadata": {},
     "output_type": "execute_result"
    }
   ],
   "source": [
    "df.head()"
   ]
  },
  {
   "cell_type": "code",
   "execution_count": 46,
   "id": "31454558-aabb-44d4-a4eb-f25c4b5e4ac4",
   "metadata": {},
   "outputs": [],
   "source": [
    "def describe_numerical_data(df: pd.DataFrame):\n",
    "    numerical_data = df.select_dtypes(include=[np.number])\n",
    "    description = numerical_data.describe()\n",
    "    return description\n",
    "\n",
    "def display_scrollable_table_html(description):\n",
    "    html_output = description.to_html()\n",
    "    html_with_scroll = f\"<div style='overflow-x: auto;'>{html_output}</div>\"\n",
    "    display(HTML(html_with_scroll))\n",
    "\n",
    "def describe_categorical_data(data):\n",
    "    categorical_data = data.select_dtypes(include=['object'])\n",
    "    description = categorical_data.describe()\n",
    "    return description"
   ]
  },
  {
   "cell_type": "code",
   "execution_count": 47,
   "id": "362bfc34-eb7a-432b-8898-bd275c8d6132",
   "metadata": {},
   "outputs": [],
   "source": [
    "numerical_description_df = describe_numerical_data(df)"
   ]
  },
  {
   "cell_type": "code",
   "execution_count": 48,
   "id": "a900d2a5-a53e-46ac-a4f2-8b4adc7b64b2",
   "metadata": {},
   "outputs": [
    {
     "data": {
      "text/html": [
       "<div style='overflow-x: auto;'><table border=\"1\" class=\"dataframe\">\n",
       "  <thead>\n",
       "    <tr style=\"text-align: right;\">\n",
       "      <th></th>\n",
       "      <th>count</th>\n",
       "      <th>mean</th>\n",
       "      <th>std</th>\n",
       "      <th>min</th>\n",
       "      <th>25%</th>\n",
       "      <th>50%</th>\n",
       "      <th>75%</th>\n",
       "      <th>max</th>\n",
       "    </tr>\n",
       "  </thead>\n",
       "  <tbody>\n",
       "    <tr>\n",
       "      <th>Sales</th>\n",
       "      <td>9994.0</td>\n",
       "      <td>229.858001</td>\n",
       "      <td>623.245101</td>\n",
       "      <td>0.444</td>\n",
       "      <td>17.28000</td>\n",
       "      <td>54.4900</td>\n",
       "      <td>209.940</td>\n",
       "      <td>22638.480</td>\n",
       "    </tr>\n",
       "    <tr>\n",
       "      <th>Quantity</th>\n",
       "      <td>9994.0</td>\n",
       "      <td>3.789574</td>\n",
       "      <td>2.225110</td>\n",
       "      <td>1.000</td>\n",
       "      <td>2.00000</td>\n",
       "      <td>3.0000</td>\n",
       "      <td>5.000</td>\n",
       "      <td>14.000</td>\n",
       "    </tr>\n",
       "    <tr>\n",
       "      <th>Discount</th>\n",
       "      <td>9994.0</td>\n",
       "      <td>15.620272</td>\n",
       "      <td>20.645197</td>\n",
       "      <td>0.000</td>\n",
       "      <td>0.00000</td>\n",
       "      <td>20.0000</td>\n",
       "      <td>20.000</td>\n",
       "      <td>80.000</td>\n",
       "    </tr>\n",
       "    <tr>\n",
       "      <th>Profit</th>\n",
       "      <td>9994.0</td>\n",
       "      <td>28.656896</td>\n",
       "      <td>234.260108</td>\n",
       "      <td>-6599.978</td>\n",
       "      <td>1.72875</td>\n",
       "      <td>8.6665</td>\n",
       "      <td>29.364</td>\n",
       "      <td>8399.976</td>\n",
       "    </tr>\n",
       "  </tbody>\n",
       "</table></div>"
      ],
      "text/plain": [
       "<IPython.core.display.HTML object>"
      ]
     },
     "metadata": {},
     "output_type": "display_data"
    }
   ],
   "source": [
    "display_scrollable_table_html(numerical_description_df.T)"
   ]
  },
  {
   "cell_type": "code",
   "execution_count": 49,
   "id": "7969bc04-1303-48b5-9830-42e59f085829",
   "metadata": {},
   "outputs": [],
   "source": [
    "categorical_description_df = describe_categorical_data(df)"
   ]
  },
  {
   "cell_type": "code",
   "execution_count": 50,
   "id": "a2683937-dbfd-499b-abc7-a59ee739428d",
   "metadata": {},
   "outputs": [
    {
     "data": {
      "text/html": [
       "<div style='overflow-x: auto;'><table border=\"1\" class=\"dataframe\">\n",
       "  <thead>\n",
       "    <tr style=\"text-align: right;\">\n",
       "      <th></th>\n",
       "      <th>count</th>\n",
       "      <th>unique</th>\n",
       "      <th>top</th>\n",
       "      <th>freq</th>\n",
       "    </tr>\n",
       "  </thead>\n",
       "  <tbody>\n",
       "    <tr>\n",
       "      <th>Order ID</th>\n",
       "      <td>9994</td>\n",
       "      <td>5009</td>\n",
       "      <td>CA-2017-100111</td>\n",
       "      <td>14</td>\n",
       "    </tr>\n",
       "    <tr>\n",
       "      <th>Ship Mode</th>\n",
       "      <td>9994</td>\n",
       "      <td>4</td>\n",
       "      <td>Standard Class</td>\n",
       "      <td>5968</td>\n",
       "    </tr>\n",
       "    <tr>\n",
       "      <th>Segment</th>\n",
       "      <td>9994</td>\n",
       "      <td>3</td>\n",
       "      <td>Consumer</td>\n",
       "      <td>5191</td>\n",
       "    </tr>\n",
       "    <tr>\n",
       "      <th>Region</th>\n",
       "      <td>9994</td>\n",
       "      <td>4</td>\n",
       "      <td>West</td>\n",
       "      <td>3203</td>\n",
       "    </tr>\n",
       "    <tr>\n",
       "      <th>Product ID</th>\n",
       "      <td>9994</td>\n",
       "      <td>1862</td>\n",
       "      <td>OFF-PA-10001970</td>\n",
       "      <td>19</td>\n",
       "    </tr>\n",
       "  </tbody>\n",
       "</table></div>"
      ],
      "text/plain": [
       "<IPython.core.display.HTML object>"
      ]
     },
     "metadata": {},
     "output_type": "display_data"
    }
   ],
   "source": [
    "display_scrollable_table_html(categorical_description_df.T)"
   ]
  },
  {
   "cell_type": "markdown",
   "id": "bfcae4b9-3c46-4908-92f3-240ff7809d23",
   "metadata": {},
   "source": [
    "## Superstore I\n",
    "Plot a bar chart comparing the average discount across all regions, and find the region that offers the highest average discount.\n",
    "\n",
    "Note: You need to clean the discount column first."
   ]
  },
  {
   "cell_type": "markdown",
   "id": "734ccc64-4ce6-4380-8c4c-a02515c44845",
   "metadata": {},
   "source": [
    "### 1.1: Cleaning the discount column."
   ]
  },
  {
   "cell_type": "code",
   "execution_count": 51,
   "id": "22249c44-3de6-4f6f-8083-56d9ba8a9363",
   "metadata": {},
   "outputs": [
    {
     "data": {
      "text/plain": [
       "0        0.0\n",
       "1        0.0\n",
       "2        0.0\n",
       "3       45.0\n",
       "4       20.0\n",
       "        ... \n",
       "9989    20.0\n",
       "9990     0.0\n",
       "9991    20.0\n",
       "9992     0.0\n",
       "9993     0.0\n",
       "Name: Discount, Length: 9994, dtype: float64"
      ]
     },
     "execution_count": 51,
     "metadata": {},
     "output_type": "execute_result"
    }
   ],
   "source": [
    "df['Discount']"
   ]
  },
  {
   "cell_type": "code",
   "execution_count": 44,
   "id": "e0dac0f5-d69f-44c8-8281-bb16cadc51ee",
   "metadata": {},
   "outputs": [
    {
     "data": {
      "text/plain": [
       "0        0.0\n",
       "1        0.0\n",
       "2        0.0\n",
       "3       45.0\n",
       "4       20.0\n",
       "        ... \n",
       "9989    20.0\n",
       "9990     0.0\n",
       "9991    20.0\n",
       "9992     0.0\n",
       "9993     0.0\n",
       "Name: Discount, Length: 9994, dtype: float64"
      ]
     },
     "execution_count": 44,
     "metadata": {},
     "output_type": "execute_result"
    }
   ],
   "source": [
    "df['Discount'] = df['Discount'].str.rstrip('%').apply(lambda x: float(x) * 100)"
   ]
  },
  {
   "cell_type": "markdown",
   "id": "97fa270a-63c4-436e-9c3d-30aea80f72c5",
   "metadata": {},
   "source": [
    "### 1.2: Plotting the bar chart."
   ]
  },
  {
   "cell_type": "markdown",
   "id": "7877da7b-1c0c-4f1c-86e5-1de0188a5256",
   "metadata": {},
   "source": [
    "- Compare average discount accross all regions.\n",
    "- find the region that offers the highest average discount."
   ]
  },
  {
   "cell_type": "code",
   "execution_count": 56,
   "id": "e2d7499e-4150-42c4-a6b8-d8d55aaa7f1c",
   "metadata": {},
   "outputs": [
    {
     "data": {
      "image/png": "[encoded data removed]",
      "text/plain": [
       "<Figure size 640x480 with 1 Axes>"
      ]
     },
     "metadata": {},
     "output_type": "display_data"
    }
   ],
   "source": [
    "regionwise_discount_barplot = sns.barplot(data=df, x=\"Region\", y=\"Discount\", estimator=np.mean, errorbar=('ci', False))\n",
    "plt.suptitle('Regionwise Discount Bar Plot')\n",
    "plt.show()"
   ]
  },
  {
   "cell_type": "markdown",
   "id": "c4e7c259-fed9-45c8-8f13-5126831ec538",
   "metadata": {},
   "source": [
    "## SuperStore III\n",
    "Which of the following regions has the highest average Sales value for the 'Home Office' segment?"
   ]
  },
  {
   "cell_type": "code",
   "execution_count": 64,
   "id": "a6600968-723a-4540-948e-cfd24da0ce01",
   "metadata": {},
   "outputs": [
    {
     "data": {
      "image/png": "[encoded data removed]",
      "text/plain": [
       "<Figure size 640x480 with 1 Axes>"
      ]
     },
     "metadata": {},
     "output_type": "display_data"
    }
   ],
   "source": [
    "regionwise_homesegment_sales_barplot = sns.barplot(data=df[df['Segment'] == 'Home Office'], x=\"Region\", y=\"Sales\", estimator=np.mean, errorbar=('ci', False))"
   ]
  },
  {
   "cell_type": "markdown",
   "id": "98d7c299-c89a-4a10-859f-3005cf75d4c8",
   "metadata": {},
   "source": [
    "## SuperStore IV\n",
    "- Analyze the spread of sales value below $100$ by using a box plot.\n",
    "- Which of the following regions has the highest number of outliers if you consider only the observations with a sales value of less than $100?"
   ]
  },
  {
   "cell_type": "code",
   "execution_count": 65,
   "id": "9472d9c2-a24f-4584-9188-98e98cc46964",
   "metadata": {},
   "outputs": [],
   "source": [
    "below_100_sales_df = df[df['Sales'] < 100]"
   ]
  },
  {
   "cell_type": "code",
   "execution_count": 69,
   "id": "a36f66a5-3a01-4330-b46e-77f7fad73643",
   "metadata": {},
   "outputs": [
    {
     "data": {
      "image/png": "[encoded data removed]",
      "text/plain": [
       "<Figure size 640x480 with 1 Axes>"
      ]
     },
     "metadata": {},
     "output_type": "display_data"
    }
   ],
   "source": [
    "sales_boxplot = sns.boxplot(data=below_100_sales_df, x=\"Sales\", y=\"Region\")"
   ]
  },
  {
   "cell_type": "code",
   "execution_count": null,
   "id": "8eb6105b-9f60-4525-8667-f9ce65e1af4d",
   "metadata": {},
   "outputs": [],
   "source": []
  }
 ],
 "metadata": {
  "kernelspec": {
   "display_name": "Python 3 (ipykernel)",
   "language": "python",
   "name": "python3"
  },
  "language_info": {
   "codemirror_mode": {
    "name": "ipython",
    "version": 3
   },
   "file_extension": ".py",
   "mimetype": "text/x-python",
   "name": "python",
   "nbconvert_exporter": "python",
   "pygments_lexer": "ipython3",
   "version": "3.10.11"
  }
 },
 "nbformat": 4,
 "nbformat_minor": 5
}
