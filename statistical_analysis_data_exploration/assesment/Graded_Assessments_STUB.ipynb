{
 "cells": [
  {
   "cell_type": "markdown",
   "metadata": {
    "id": "yKCNArL0b-hN"
   },
   "source": [
    "# Assessments - II"
   ]
  },
  {
   "cell_type": "markdown",
   "metadata": {
    "id": "nHIfyIytcZMP"
   },
   "source": [
    "**Note** - *This stub file doesn't contain the conceptual questions asked on the platform.*"
   ]
  },
  {
   "cell_type": "markdown",
   "metadata": {
    "id": "5oXqkUvxcC-d"
   },
   "source": [
    "The Marks.csv file has the scores earned by 200 students in 4 subjects on standardized tests. The columns—Score A, Score B, Score C, and Score D—indicate the scores earned by a particular student in the subjects A, B, C, and D.\n",
    "\n",
    "<br>\n",
    "\n",
    "Load the data set into your notebook, and answer the following questions."
   ]
  },
  {
   "cell_type": "code",
   "execution_count": 2,
   "metadata": {
    "id": "1JbaWzBccRal"
   },
   "outputs": [],
   "source": [
    "#Load the necessary Libraries\n",
    "import pandas as pd\n",
    "import numpy as np\n",
    "import seaborn as sns\n",
    "import matplotlib.pyplot as plt"
   ]
  },
  {
   "cell_type": "code",
   "execution_count": 3,
   "metadata": {
    "id": "79PVu3-3cMIP"
   },
   "outputs": [],
   "source": [
    "# Load the marks data set\n",
    "marks_df = pd.read_csv('Marks.csv')"
   ]
  },
  {
   "cell_type": "code",
   "execution_count": 4,
   "metadata": {},
   "outputs": [
    {
     "data": {
      "text/html": [
       "<div>\n",
       "<style scoped>\n",
       "    .dataframe tbody tr th:only-of-type {\n",
       "        vertical-align: middle;\n",
       "    }\n",
       "\n",
       "    .dataframe tbody tr th {\n",
       "        vertical-align: top;\n",
       "    }\n",
       "\n",
       "    .dataframe thead th {\n",
       "        text-align: right;\n",
       "    }\n",
       "</style>\n",
       "<table border=\"1\" class=\"dataframe\">\n",
       "  <thead>\n",
       "    <tr style=\"text-align: right;\">\n",
       "      <th></th>\n",
       "      <th>Score A</th>\n",
       "      <th>Score B</th>\n",
       "      <th>Score C</th>\n",
       "      <th>Score D</th>\n",
       "    </tr>\n",
       "  </thead>\n",
       "  <tbody>\n",
       "    <tr>\n",
       "      <th>0</th>\n",
       "      <td>230.1</td>\n",
       "      <td>37.8</td>\n",
       "      <td>69.2</td>\n",
       "      <td>22.1</td>\n",
       "    </tr>\n",
       "    <tr>\n",
       "      <th>1</th>\n",
       "      <td>44.5</td>\n",
       "      <td>39.3</td>\n",
       "      <td>45.1</td>\n",
       "      <td>10.4</td>\n",
       "    </tr>\n",
       "    <tr>\n",
       "      <th>2</th>\n",
       "      <td>17.2</td>\n",
       "      <td>45.9</td>\n",
       "      <td>69.3</td>\n",
       "      <td>12.0</td>\n",
       "    </tr>\n",
       "    <tr>\n",
       "      <th>3</th>\n",
       "      <td>151.5</td>\n",
       "      <td>41.3</td>\n",
       "      <td>58.5</td>\n",
       "      <td>16.5</td>\n",
       "    </tr>\n",
       "    <tr>\n",
       "      <th>4</th>\n",
       "      <td>180.8</td>\n",
       "      <td>10.8</td>\n",
       "      <td>58.4</td>\n",
       "      <td>17.9</td>\n",
       "    </tr>\n",
       "    <tr>\n",
       "      <th>...</th>\n",
       "      <td>...</td>\n",
       "      <td>...</td>\n",
       "      <td>...</td>\n",
       "      <td>...</td>\n",
       "    </tr>\n",
       "    <tr>\n",
       "      <th>195</th>\n",
       "      <td>38.2</td>\n",
       "      <td>3.7</td>\n",
       "      <td>13.8</td>\n",
       "      <td>7.6</td>\n",
       "    </tr>\n",
       "    <tr>\n",
       "      <th>196</th>\n",
       "      <td>94.2</td>\n",
       "      <td>4.9</td>\n",
       "      <td>8.1</td>\n",
       "      <td>14.0</td>\n",
       "    </tr>\n",
       "    <tr>\n",
       "      <th>197</th>\n",
       "      <td>177.0</td>\n",
       "      <td>9.3</td>\n",
       "      <td>6.4</td>\n",
       "      <td>14.8</td>\n",
       "    </tr>\n",
       "    <tr>\n",
       "      <th>198</th>\n",
       "      <td>283.6</td>\n",
       "      <td>42.0</td>\n",
       "      <td>66.2</td>\n",
       "      <td>25.5</td>\n",
       "    </tr>\n",
       "    <tr>\n",
       "      <th>199</th>\n",
       "      <td>232.1</td>\n",
       "      <td>8.6</td>\n",
       "      <td>8.7</td>\n",
       "      <td>18.4</td>\n",
       "    </tr>\n",
       "  </tbody>\n",
       "</table>\n",
       "<p>200 rows × 4 columns</p>\n",
       "</div>"
      ],
      "text/plain": [
       "     Score A  Score B  Score C  Score D\n",
       "0      230.1     37.8     69.2     22.1\n",
       "1       44.5     39.3     45.1     10.4\n",
       "2       17.2     45.9     69.3     12.0\n",
       "3      151.5     41.3     58.5     16.5\n",
       "4      180.8     10.8     58.4     17.9\n",
       "..       ...      ...      ...      ...\n",
       "195     38.2      3.7     13.8      7.6\n",
       "196     94.2      4.9      8.1     14.0\n",
       "197    177.0      9.3      6.4     14.8\n",
       "198    283.6     42.0     66.2     25.5\n",
       "199    232.1      8.6      8.7     18.4\n",
       "\n",
       "[200 rows x 4 columns]"
      ]
     },
     "execution_count": 4,
     "metadata": {},
     "output_type": "execute_result"
    }
   ],
   "source": [
    "marks_df"
   ]
  },
  {
   "cell_type": "markdown",
   "metadata": {
    "id": "aGDHXvo8cySr"
   },
   "source": [
    "### Question 1: Histogram"
   ]
  },
  {
   "cell_type": "markdown",
   "metadata": {
    "id": "c1mncsSec-Lj"
   },
   "source": [
    "Load the data set, and plot a histogram for the *Score A* column by setting the number of bins to 6. Which of the following bin ranges has the highest frequency?\n",
    "<br>\n",
    "(Note: These bin ranges are approximate values generated when you plot the histogram.)"
   ]
  },
  {
   "cell_type": "markdown",
   "metadata": {
    "id": "jrijaPHAdJIv"
   },
   "source": [
    "a. 0-50 <br>\n",
    "b. 50-100 <br>\n",
    "c. 150-200 <br>\n",
    "d. 200-250 <br>"
   ]
  },
  {
   "cell_type": "code",
   "execution_count": 10,
   "metadata": {
    "id": "l6HAp071dE4p"
   },
   "outputs": [
    {
     "data": {
      "text/plain": [
       "<Axes: xlabel='Score A', ylabel='Count'>"
      ]
     },
     "execution_count": 10,
     "metadata": {},
     "output_type": "execute_result"
    },
    {
     "data": {
      "image/png": "[encoded data removed]",
      "text/plain": [
       "<Figure size 640x480 with 1 Axes>"
      ]
     },
     "metadata": {},
     "output_type": "display_data"
    }
   ],
   "source": [
    "sns.histplot(data=marks_df, x=\"Score A\", bins=6)"
   ]
  },
  {
   "cell_type": "markdown",
   "metadata": {
    "id": "g5pce40GdGEA"
   },
   "source": [
    "### Question 2: Box Plot\n",
    "\n"
   ]
  },
  {
   "cell_type": "markdown",
   "metadata": {
    "id": "YfecmmqWdlrD"
   },
   "source": [
    "Plot a box plot for the column *Score C*, and select the most appropriate option from below."
   ]
  },
  {
   "cell_type": "markdown",
   "metadata": {
    "id": "JkoTtkCpdole"
   },
   "source": [
    "a. The 25th percentile lies between 20 and 40. <br>\n",
    "b. The 75th percentile lies between 40 and 60. <br>\n",
    "c. The 25th percentile lies between 0 and 20. <br>\n",
    "d. Both B and C options are correct."
   ]
  },
  {
   "cell_type": "code",
   "execution_count": 14,
   "metadata": {
    "id": "E__3cUFOd7nd"
   },
   "outputs": [
    {
     "data": {
      "text/plain": [
       "<Axes: xlabel='Score C'>"
      ]
     },
     "execution_count": 14,
     "metadata": {},
     "output_type": "execute_result"
    },
    {
     "data": {
      "image/png": "[encoded data removed]",
      "text/plain": [
       "<Figure size 640x480 with 1 Axes>"
      ]
     },
     "metadata": {},
     "output_type": "display_data"
    }
   ],
   "source": [
    "plt.grid()\n",
    "sns.boxplot(data=marks_df, x=\"Score C\")\n"
   ]
  },
  {
   "cell_type": "code",
   "execution_count": null,
   "metadata": {},
   "outputs": [],
   "source": []
  }
 ],
 "metadata": {
  "colab": {
   "collapsed_sections": [],
   "name": "Graded Assessments - STUB.ipynb",
   "provenance": []
  },
  "kernelspec": {
   "display_name": "Python 3 (ipykernel)",
   "language": "python",
   "name": "python3"
  },
  "language_info": {
   "codemirror_mode": {
    "name": "ipython",
    "version": 3
   },
   "file_extension": ".py",
   "mimetype": "text/x-python",
   "name": "python",
   "nbconvert_exporter": "python",
   "pygments_lexer": "ipython3",
   "version": "3.10.11"
  }
 },
 "nbformat": 4,
 "nbformat_minor": 4
}
