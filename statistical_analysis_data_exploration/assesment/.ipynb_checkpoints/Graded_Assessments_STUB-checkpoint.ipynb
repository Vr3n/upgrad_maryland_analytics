{
 "cells": [
  {
   "cell_type": "markdown",
   "metadata": {
    "id": "yKCNArL0b-hN"
   },
   "source": [
    "# Assessments - II"
   ]
  },
  {
   "cell_type": "markdown",
   "metadata": {
    "id": "nHIfyIytcZMP"
   },
   "source": [
    "**Note** - *This stub file doesn't contain the conceptual questions asked on the platform.*"
   ]
  },
  {
   "cell_type": "markdown",
   "metadata": {
    "id": "5oXqkUvxcC-d"
   },
   "source": [
    "The Marks.csv file has the scores earned by 200 students in 4 subjects on standardized tests. The columns—Score A, Score B, Score C, and Score D—indicate the scores earned by a particular student in the subjects A, B, C, and D.\n",
    "\n",
    "<br>\n",
    "\n",
    "Load the data set into your notebook, and answer the following questions."
   ]
  },
  {
   "cell_type": "code",
   "execution_count": null,
   "metadata": {
    "id": "1JbaWzBccRal"
   },
   "outputs": [],
   "source": [
    "#Load the necessary Libraries\n",
    "import pandas as pd\n",
    "import numpy as np\n",
    "import seaborn as sns\n",
    "import matplotlib.pyplot as plt"
   ]
  },
  {
   "cell_type": "code",
   "execution_count": null,
   "metadata": {
    "id": "79PVu3-3cMIP"
   },
   "outputs": [],
   "source": [
    "# Load the marks data set\n"
   ]
  },
  {
   "cell_type": "markdown",
   "metadata": {
    "id": "aGDHXvo8cySr"
   },
   "source": [
    "### Question 1: Histogram"
   ]
  },
  {
   "cell_type": "markdown",
   "metadata": {
    "id": "c1mncsSec-Lj"
   },
   "source": [
    "Load the data set, and plot a histogram for the *Score A* column by setting the number of bins to 6. Which of the following bin ranges has the highest frequency?\n",
    "<br>\n",
    "(Note: These bin ranges are approximate values generated when you plot the histogram.)"
   ]
  },
  {
   "cell_type": "markdown",
   "metadata": {
    "id": "jrijaPHAdJIv"
   },
   "source": [
    "a. 0-50 <br>\n",
    "b. 50-100 <br>\n",
    "c. 150-200 <br>\n",
    "d. 200-250 <br>"
   ]
  },
  {
   "cell_type": "code",
   "execution_count": null,
   "metadata": {
    "id": "l6HAp071dE4p"
   },
   "outputs": [],
   "source": []
  },
  {
   "cell_type": "markdown",
   "metadata": {
    "id": "g5pce40GdGEA"
   },
   "source": [
    "### Question 2: Box Plot\n",
    "\n"
   ]
  },
  {
   "cell_type": "markdown",
   "metadata": {
    "id": "YfecmmqWdlrD"
   },
   "source": [
    "Plot a box plot for the column *Score C*, and select the most appropriate option from below."
   ]
  },
  {
   "cell_type": "markdown",
   "metadata": {
    "id": "JkoTtkCpdole"
   },
   "source": [
    "a. The 25th percentile lies between 20 and 40. <br>\n",
    "b. The 75th percentile lies between 40 and 60. <br>\n",
    "c. The 25th percentile lies between 0 and 20. <br>\n",
    "d. Both B and C options are correct."
   ]
  },
  {
   "cell_type": "code",
   "execution_count": null,
   "metadata": {
    "id": "E__3cUFOd7nd"
   },
   "outputs": [],
   "source": []
  }
 ],
 "metadata": {
  "colab": {
   "collapsed_sections": [],
   "name": "Graded Assessments - STUB.ipynb",
   "provenance": []
  },
  "kernelspec": {
   "display_name": "Python 3 (ipykernel)",
   "language": "python",
   "name": "python3"
  },
  "language_info": {
   "codemirror_mode": {
    "name": "ipython",
    "version": 3
   },
   "file_extension": ".py",
   "mimetype": "text/x-python",
   "name": "python",
   "nbconvert_exporter": "python",
   "pygments_lexer": "ipython3",
   "version": "3.9.7"
  }
 },
 "nbformat": 4,
 "nbformat_minor": 1
}
