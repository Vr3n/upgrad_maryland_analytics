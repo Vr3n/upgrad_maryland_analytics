{
  "cells": [
    {
      "cell_type": "markdown",
      "id": "b6f78aa8",
      "metadata": {
        "id": "b6f78aa8"
      },
      "source": [
        "# Graded Questions"
      ]
    },
    {
      "cell_type": "markdown",
      "id": "a52027a5",
      "metadata": {
        "id": "a52027a5"
      },
      "source": [
        "Consider that you are a cryptocurrency enthusiast looking to expand and diversify your portfolio. You would like to study cryptocurrency trends and price variations so that you can make more accurate predictions. \n",
        "\n",
        "You have the closing price values of 6 cryptocurrency coins recorded every day from April 28, 2013, through November 7, 2017. Answer these questions to get insight into the price patterns of these coins."
      ]
    },
    {
      "cell_type": "markdown",
      "id": "2525db94",
      "metadata": {
        "id": "2525db94"
      },
      "source": [
        "## Problem - I\n",
        "You want to start your portfolio of Qtm coins. For that, you want to understand the price variation of these coins and know which other coin affects their price the most. Select the coin that affects the price of Qtm coins the most.<br><br>\n",
        "\n",
        "a.   Btc<br>\n",
        "b.   Neo<br>\n",
        "c.   Lite<br>\n",
        "d.   Eth<br>"
      ]
    },
    {
      "cell_type": "code",
      "execution_count": null,
      "id": "cd18294a",
      "metadata": {
        "id": "cd18294a"
      },
      "outputs": [],
      "source": [
        ""
      ]
    },
    {
      "cell_type": "markdown",
      "id": "e1a3b5d3",
      "metadata": {
        "id": "e1a3b5d3"
      },
      "source": [
        "## Problem - II\n",
        "You must have heard that variations in bitcoin generally impact variations in other coins. Which coin does it affect the least?<br><br>\n",
        "\n",
        "a.   Eth<br>\n",
        "b.   Monero<br>\n",
        "c.   Neo<br>\n",
        "d.   Qtm<br>"
      ]
    },
    {
      "cell_type": "code",
      "execution_count": null,
      "id": "8ef957cb",
      "metadata": {
        "id": "8ef957cb"
      },
      "outputs": [],
      "source": [
        ""
      ]
    },
    {
      "cell_type": "code",
      "execution_count": null,
      "id": "e8ee4088",
      "metadata": {
        "id": "e8ee4088"
      },
      "outputs": [],
      "source": [
        ""
      ]
    },
    {
      "cell_type": "markdown",
      "id": "066397e2",
      "metadata": {
        "id": "066397e2"
      },
      "source": [
        "## Problem - III\n",
        "You want to study how the price of Eth varies with the price of Btc. Select the option that best describes this.<br><br>\n",
        "\n",
        "a.   The variations in the prices of Eth are independent of the variations in Btc’s prices.<br>\n",
        "b.   The price of Eth increases consistently with increase in the price of Btc.<br>\n",
        "c.   There was a greater variation in the price of Eth with that of Btc when Btc was priced between 1,000 and 4,000 as compared with when it was priced between 4,000 and 7,000.<br>\n",
        "d.   There was a greater variation in the price of Eth with that of Btc when Btc was priced between 0 and 1,000 as compared with when it was priced between 1,000 and 7,000.<br>"
      ]
    },
    {
      "cell_type": "code",
      "execution_count": null,
      "id": "d73b9c9e",
      "metadata": {
        "id": "d73b9c9e"
      },
      "outputs": [],
      "source": [
        ""
      ]
    },
    {
      "cell_type": "code",
      "execution_count": null,
      "id": "ad29bd0c",
      "metadata": {
        "id": "ad29bd0c"
      },
      "outputs": [],
      "source": [
        ""
      ]
    }
  ],
  "metadata": {
    "kernelspec": {
      "display_name": "Python 3 (ipykernel)",
      "language": "python",
      "name": "python3"
    },
    "language_info": {
      "codemirror_mode": {
        "name": "ipython",
        "version": 3
      },
      "file_extension": ".py",
      "mimetype": "text/x-python",
      "name": "python",
      "nbconvert_exporter": "python",
      "pygments_lexer": "ipython3",
      "version": "3.9.7"
    },
    "colab": {
      "name": "Graded Questions_2.2.1.ipynb",
      "provenance": [],
      "collapsed_sections": []
    }
  },
  "nbformat": 4,
  "nbformat_minor": 5
}