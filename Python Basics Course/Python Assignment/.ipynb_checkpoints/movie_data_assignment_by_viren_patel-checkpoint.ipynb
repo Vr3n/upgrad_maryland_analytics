{
 "cells": [
  {
   "cell_type": "markdown",
   "id": "f0af8110-a612-42f9-ac60-4cba1ad11787",
   "metadata": {},
   "source": [
    "# Assignment 1: Move Data Analysis Assignment."
   ]
  },
  {
   "cell_type": "markdown",
   "id": "8ecac09b-8f4f-4bf7-8120-2c0021eae758",
   "metadata": {},
   "source": [
    "##### Submitted by: Viren Suresh Patel"
   ]
  },
  {
   "cell_type": "markdown",
   "id": "daf282c3-888a-4574-aa14-907a46794bdc",
   "metadata": {},
   "source": [
    "importing the necessary libraries"
   ]
  },
  {
   "cell_type": "code",
   "execution_count": 1,
   "id": "2ff5d0f5-1f71-4c97-9f3b-7dac781eb61f",
   "metadata": {},
   "outputs": [],
   "source": [
    "import pandas as pd\n",
    "import numpy as np\n",
    "import matplotlib.pyplot as plt\n",
    "import matplotlib.style as style"
   ]
  },
  {
   "cell_type": "markdown",
   "id": "d0a9c6e3-8fc6-4f9a-8fb3-95da299325c8",
   "metadata": {},
   "source": [
    "Tell the IPython environment to draw the plots immediately after the current cell"
   ]
  },
  {
   "cell_type": "code",
   "execution_count": 2,
   "id": "683cdb94-a02b-4737-9082-61ffdde09d2a",
   "metadata": {},
   "outputs": [],
   "source": [
    "%matplotlib inline"
   ]
  },
  {
   "cell_type": "markdown",
   "id": "f180e6e3-a205-411a-9f92-6da650537d98",
   "metadata": {},
   "source": [
    "<hr style=\"border:2px solid orange;border-radius:50%\">"
   ]
  },
  {
   "cell_type": "markdown",
   "id": "211a5b46-3aa1-47bc-9df2-87d10515cf05",
   "metadata": {},
   "source": [
    "## Question 1\n",
    "### Importing the dataset into a Pandas Dataframe.\n",
    "\n",
    "Pandas is capable of loading csv into dataframes with help of `read_csv()` function."
   ]
  },
  {
   "cell_type": "code",
   "execution_count": 3,
   "id": "6f8b92fb-0c13-4e29-a690-cf71c4818eaf",
   "metadata": {},
   "outputs": [],
   "source": [
    "movies_df = pd.read_csv('Movie Assignment Data.csv')"
   ]
  },
  {
   "cell_type": "markdown",
   "id": "23dedf81-4f7d-4f2f-8c30-2fd1c91dc9ee",
   "metadata": {},
   "source": [
    "Checking if movies are loaded properly."
   ]
  },
  {
   "cell_type": "code",
   "execution_count": 4,
   "id": "ea7b4814-5a3b-4862-9268-7c728a822075",
   "metadata": {},
   "outputs": [
    {
     "data": {
      "text/html": [
       "<div>\n",
       "<style scoped>\n",
       "    .dataframe tbody tr th:only-of-type {\n",
       "        vertical-align: middle;\n",
       "    }\n",
       "\n",
       "    .dataframe tbody tr th {\n",
       "        vertical-align: top;\n",
       "    }\n",
       "\n",
       "    .dataframe thead th {\n",
       "        text-align: right;\n",
       "    }\n",
       "</style>\n",
       "<table border=\"1\" class=\"dataframe\">\n",
       "  <thead>\n",
       "    <tr style=\"text-align: right;\">\n",
       "      <th></th>\n",
       "      <th>Title</th>\n",
       "      <th>title_year</th>\n",
       "      <th>budget</th>\n",
       "      <th>Gross</th>\n",
       "      <th>actor_1_name</th>\n",
       "      <th>actor_2_name</th>\n",
       "      <th>actor_3_name</th>\n",
       "      <th>actor_1_facebook_likes</th>\n",
       "      <th>actor_2_facebook_likes</th>\n",
       "      <th>actor_3_facebook_likes</th>\n",
       "      <th>...</th>\n",
       "      <th>Votes3044M</th>\n",
       "      <th>Votes3044F</th>\n",
       "      <th>Votes45A</th>\n",
       "      <th>Votes45AM</th>\n",
       "      <th>Votes45AF</th>\n",
       "      <th>Votes1000</th>\n",
       "      <th>VotesUS</th>\n",
       "      <th>VotesnUS</th>\n",
       "      <th>content_rating</th>\n",
       "      <th>Country</th>\n",
       "    </tr>\n",
       "  </thead>\n",
       "  <tbody>\n",
       "    <tr>\n",
       "      <th>0</th>\n",
       "      <td>La La Land</td>\n",
       "      <td>2016</td>\n",
       "      <td>30000000</td>\n",
       "      <td>151101803</td>\n",
       "      <td>Ryan Gosling</td>\n",
       "      <td>Emma Stone</td>\n",
       "      <td>Amiée Conn</td>\n",
       "      <td>14000</td>\n",
       "      <td>19000.0</td>\n",
       "      <td>NaN</td>\n",
       "      <td>...</td>\n",
       "      <td>7.9</td>\n",
       "      <td>7.8</td>\n",
       "      <td>7.6</td>\n",
       "      <td>7.6</td>\n",
       "      <td>7.5</td>\n",
       "      <td>7.1</td>\n",
       "      <td>8.3</td>\n",
       "      <td>8.1</td>\n",
       "      <td>PG-13</td>\n",
       "      <td>USA</td>\n",
       "    </tr>\n",
       "    <tr>\n",
       "      <th>1</th>\n",
       "      <td>Zootopia</td>\n",
       "      <td>2016</td>\n",
       "      <td>150000000</td>\n",
       "      <td>341268248</td>\n",
       "      <td>Ginnifer Goodwin</td>\n",
       "      <td>Jason Bateman</td>\n",
       "      <td>Idris Elba</td>\n",
       "      <td>2800</td>\n",
       "      <td>28000.0</td>\n",
       "      <td>27000.0</td>\n",
       "      <td>...</td>\n",
       "      <td>7.8</td>\n",
       "      <td>8.1</td>\n",
       "      <td>7.8</td>\n",
       "      <td>7.8</td>\n",
       "      <td>8.1</td>\n",
       "      <td>7.6</td>\n",
       "      <td>8.0</td>\n",
       "      <td>8.0</td>\n",
       "      <td>PG</td>\n",
       "      <td>USA</td>\n",
       "    </tr>\n",
       "    <tr>\n",
       "      <th>2</th>\n",
       "      <td>Lion</td>\n",
       "      <td>2016</td>\n",
       "      <td>12000000</td>\n",
       "      <td>51738905</td>\n",
       "      <td>Dev Patel</td>\n",
       "      <td>Nicole Kidman</td>\n",
       "      <td>Rooney Mara</td>\n",
       "      <td>33000</td>\n",
       "      <td>96000.0</td>\n",
       "      <td>9800.0</td>\n",
       "      <td>...</td>\n",
       "      <td>7.9</td>\n",
       "      <td>8.2</td>\n",
       "      <td>8.0</td>\n",
       "      <td>7.9</td>\n",
       "      <td>8.4</td>\n",
       "      <td>7.1</td>\n",
       "      <td>8.1</td>\n",
       "      <td>8.0</td>\n",
       "      <td>PG-13</td>\n",
       "      <td>Australia</td>\n",
       "    </tr>\n",
       "    <tr>\n",
       "      <th>3</th>\n",
       "      <td>Arrival</td>\n",
       "      <td>2016</td>\n",
       "      <td>47000000</td>\n",
       "      <td>100546139</td>\n",
       "      <td>Amy Adams</td>\n",
       "      <td>Jeremy Renner</td>\n",
       "      <td>Forest Whitaker</td>\n",
       "      <td>35000</td>\n",
       "      <td>5300.0</td>\n",
       "      <td>NaN</td>\n",
       "      <td>...</td>\n",
       "      <td>7.8</td>\n",
       "      <td>7.8</td>\n",
       "      <td>7.6</td>\n",
       "      <td>7.6</td>\n",
       "      <td>7.7</td>\n",
       "      <td>7.3</td>\n",
       "      <td>8.0</td>\n",
       "      <td>7.9</td>\n",
       "      <td>PG-13</td>\n",
       "      <td>USA</td>\n",
       "    </tr>\n",
       "    <tr>\n",
       "      <th>4</th>\n",
       "      <td>Manchester by the Sea</td>\n",
       "      <td>2016</td>\n",
       "      <td>9000000</td>\n",
       "      <td>47695371</td>\n",
       "      <td>Casey Affleck</td>\n",
       "      <td>Michelle Williams</td>\n",
       "      <td>Kyle Chandler</td>\n",
       "      <td>518</td>\n",
       "      <td>71000.0</td>\n",
       "      <td>3300.0</td>\n",
       "      <td>...</td>\n",
       "      <td>7.7</td>\n",
       "      <td>7.7</td>\n",
       "      <td>7.6</td>\n",
       "      <td>7.6</td>\n",
       "      <td>7.6</td>\n",
       "      <td>7.1</td>\n",
       "      <td>7.9</td>\n",
       "      <td>7.8</td>\n",
       "      <td>R</td>\n",
       "      <td>USA</td>\n",
       "    </tr>\n",
       "  </tbody>\n",
       "</table>\n",
       "<p>5 rows × 62 columns</p>\n",
       "</div>"
      ],
      "text/plain": [
       "                   Title  title_year     budget      Gross      actor_1_name  \\\n",
       "0             La La Land        2016   30000000  151101803      Ryan Gosling   \n",
       "1               Zootopia        2016  150000000  341268248  Ginnifer Goodwin   \n",
       "2                   Lion        2016   12000000   51738905         Dev Patel   \n",
       "3                Arrival        2016   47000000  100546139         Amy Adams   \n",
       "4  Manchester by the Sea        2016    9000000   47695371     Casey Affleck   \n",
       "\n",
       "         actor_2_name     actor_3_name  actor_1_facebook_likes  \\\n",
       "0          Emma Stone       Amiée Conn                   14000   \n",
       "1       Jason Bateman       Idris Elba                    2800   \n",
       "2       Nicole Kidman      Rooney Mara                   33000   \n",
       "3       Jeremy Renner  Forest Whitaker                   35000   \n",
       "4  Michelle Williams     Kyle Chandler                     518   \n",
       "\n",
       "   actor_2_facebook_likes  actor_3_facebook_likes  ...  Votes3044M Votes3044F  \\\n",
       "0                 19000.0                     NaN  ...         7.9        7.8   \n",
       "1                 28000.0                 27000.0  ...         7.8        8.1   \n",
       "2                 96000.0                  9800.0  ...         7.9        8.2   \n",
       "3                  5300.0                     NaN  ...         7.8        7.8   \n",
       "4                 71000.0                  3300.0  ...         7.7        7.7   \n",
       "\n",
       "  Votes45A Votes45AM  Votes45AF  Votes1000  VotesUS  VotesnUS  content_rating  \\\n",
       "0      7.6       7.6        7.5        7.1      8.3       8.1           PG-13   \n",
       "1      7.8       7.8        8.1        7.6      8.0       8.0              PG   \n",
       "2      8.0       7.9        8.4        7.1      8.1       8.0           PG-13   \n",
       "3      7.6       7.6        7.7        7.3      8.0       7.9           PG-13   \n",
       "4      7.6       7.6        7.6        7.1      7.9       7.8               R   \n",
       "\n",
       "     Country  \n",
       "0        USA  \n",
       "1        USA  \n",
       "2  Australia  \n",
       "3        USA  \n",
       "4        USA  \n",
       "\n",
       "[5 rows x 62 columns]"
      ]
     },
     "execution_count": 4,
     "metadata": {},
     "output_type": "execute_result"
    }
   ],
   "source": [
    "# head() returns first 5 rows of dataframe.\n",
    "movies_df.head()"
   ]
  },
  {
   "cell_type": "markdown",
   "id": "634b5ead-8377-4d1b-979c-f9d974cd990c",
   "metadata": {},
   "source": [
    "<hr style=\"border:2px solid orange;border-radius:50%\">"
   ]
  },
  {
   "cell_type": "markdown",
   "id": "b8f07f91-a34e-4b1e-a08e-4724fde1bc6a",
   "metadata": {},
   "source": [
    "## Basic Data exploration to get the hang of the provided dataset."
   ]
  },
  {
   "cell_type": "markdown",
   "id": "99090905-b603-426f-8167-c0e75a4f32a9",
   "metadata": {},
   "source": [
    "The shape of data provides us number of rows and columns. \\\n",
    "It is helpful to know how many rows and columns of data we are tackling with."
   ]
  },
  {
   "cell_type": "code",
   "execution_count": 5,
   "id": "1a5b8bdf-8578-4044-be43-c66e08438c49",
   "metadata": {},
   "outputs": [
    {
     "data": {
      "text/plain": [
       "(100, 62)"
      ]
     },
     "execution_count": 5,
     "metadata": {},
     "output_type": "execute_result"
    }
   ],
   "source": [
    "movies_df.shape"
   ]
  },
  {
   "cell_type": "markdown",
   "id": "49ed1705-63ba-409c-b340-3b486f082963",
   "metadata": {},
   "source": [
    "<hr style=\"border:1px dashed red;border-radius:50%\">"
   ]
  },
  {
   "cell_type": "markdown",
   "id": "dce1ceb7-6a5c-4ab8-9368-e32266265c0f",
   "metadata": {},
   "source": [
    "Printing all the existing columns in dataset."
   ]
  },
  {
   "cell_type": "code",
   "execution_count": 6,
   "id": "00ffecbc-673d-43ca-8064-c1ac7fcfa471",
   "metadata": {},
   "outputs": [
    {
     "data": {
      "text/plain": [
       "Index(['Title', 'title_year', 'budget', 'Gross', 'actor_1_name',\n",
       "       'actor_2_name', 'actor_3_name', 'actor_1_facebook_likes',\n",
       "       'actor_2_facebook_likes', 'actor_3_facebook_likes', 'IMDb_rating',\n",
       "       'genre_1', 'genre_2', 'genre_3', 'MetaCritic', 'Runtime', 'CVotes10',\n",
       "       'CVotes09', 'CVotes08', 'CVotes07', 'CVotes06', 'CVotes05', 'CVotes04',\n",
       "       'CVotes03', 'CVotes02', 'CVotes01', 'CVotesMale', 'CVotesFemale',\n",
       "       'CVotesU18', 'CVotesU18M', 'CVotesU18F', 'CVotes1829', 'CVotes1829M',\n",
       "       'CVotes1829F', 'CVotes3044', 'CVotes3044M', 'CVotes3044F', 'CVotes45A',\n",
       "       'CVotes45AM', 'CVotes45AF', 'CVotes1000', 'CVotesUS', 'CVotesnUS',\n",
       "       'VotesM', 'VotesF', 'VotesU18', 'VotesU18M', 'VotesU18F', 'Votes1829',\n",
       "       'Votes1829M', 'Votes1829F', 'Votes3044', 'Votes3044M', 'Votes3044F',\n",
       "       'Votes45A', 'Votes45AM', 'Votes45AF', 'Votes1000', 'VotesUS',\n",
       "       'VotesnUS', 'content_rating', 'Country'],\n",
       "      dtype='object')"
      ]
     },
     "execution_count": 6,
     "metadata": {},
     "output_type": "execute_result"
    }
   ],
   "source": [
    "movies_df.columns"
   ]
  },
  {
   "cell_type": "markdown",
   "id": "3c1ec9bb-a01c-4237-a272-942660fbcbc3",
   "metadata": {},
   "source": [
    "<hr style=\"border:1px dashed red;border-radius:50%\">"
   ]
  },
  {
   "cell_type": "markdown",
   "id": "71f3782b-f1b8-4ad4-99a8-6c9eab5725d3",
   "metadata": {},
   "source": [
    "Descriptive statistics with help of `describe` function"
   ]
  },
  {
   "cell_type": "code",
   "execution_count": 7,
   "id": "0322b91f-e492-478a-9148-fb74a6e0ed13",
   "metadata": {},
   "outputs": [
    {
     "data": {
      "text/html": [
       "<div>\n",
       "<style scoped>\n",
       "    .dataframe tbody tr th:only-of-type {\n",
       "        vertical-align: middle;\n",
       "    }\n",
       "\n",
       "    .dataframe tbody tr th {\n",
       "        vertical-align: top;\n",
       "    }\n",
       "\n",
       "    .dataframe thead th {\n",
       "        text-align: right;\n",
       "    }\n",
       "</style>\n",
       "<table border=\"1\" class=\"dataframe\">\n",
       "  <thead>\n",
       "    <tr style=\"text-align: right;\">\n",
       "      <th></th>\n",
       "      <th>title_year</th>\n",
       "      <th>budget</th>\n",
       "      <th>Gross</th>\n",
       "      <th>actor_1_facebook_likes</th>\n",
       "      <th>actor_2_facebook_likes</th>\n",
       "      <th>actor_3_facebook_likes</th>\n",
       "      <th>IMDb_rating</th>\n",
       "      <th>MetaCritic</th>\n",
       "      <th>Runtime</th>\n",
       "      <th>CVotes10</th>\n",
       "      <th>...</th>\n",
       "      <th>Votes1829F</th>\n",
       "      <th>Votes3044</th>\n",
       "      <th>Votes3044M</th>\n",
       "      <th>Votes3044F</th>\n",
       "      <th>Votes45A</th>\n",
       "      <th>Votes45AM</th>\n",
       "      <th>Votes45AF</th>\n",
       "      <th>Votes1000</th>\n",
       "      <th>VotesUS</th>\n",
       "      <th>VotesnUS</th>\n",
       "    </tr>\n",
       "  </thead>\n",
       "  <tbody>\n",
       "    <tr>\n",
       "      <th>count</th>\n",
       "      <td>100.000000</td>\n",
       "      <td>1.000000e+02</td>\n",
       "      <td>1.000000e+02</td>\n",
       "      <td>100.000000</td>\n",
       "      <td>99.000000</td>\n",
       "      <td>98.000000</td>\n",
       "      <td>100.000000</td>\n",
       "      <td>95.000000</td>\n",
       "      <td>100.000000</td>\n",
       "      <td>100.000000</td>\n",
       "      <td>...</td>\n",
       "      <td>100.000000</td>\n",
       "      <td>100.000000</td>\n",
       "      <td>100.000000</td>\n",
       "      <td>100.000000</td>\n",
       "      <td>100.00000</td>\n",
       "      <td>100.000000</td>\n",
       "      <td>100.000000</td>\n",
       "      <td>100.000000</td>\n",
       "      <td>100.000000</td>\n",
       "      <td>100.000000</td>\n",
       "    </tr>\n",
       "    <tr>\n",
       "      <th>mean</th>\n",
       "      <td>2012.820000</td>\n",
       "      <td>7.838400e+07</td>\n",
       "      <td>1.468679e+08</td>\n",
       "      <td>13407.270000</td>\n",
       "      <td>7377.303030</td>\n",
       "      <td>3002.153061</td>\n",
       "      <td>7.883000</td>\n",
       "      <td>78.252632</td>\n",
       "      <td>126.420000</td>\n",
       "      <td>73212.160000</td>\n",
       "      <td>...</td>\n",
       "      <td>7.982000</td>\n",
       "      <td>7.732000</td>\n",
       "      <td>7.723000</td>\n",
       "      <td>7.780000</td>\n",
       "      <td>7.65100</td>\n",
       "      <td>7.624000</td>\n",
       "      <td>7.770000</td>\n",
       "      <td>7.274000</td>\n",
       "      <td>7.958000</td>\n",
       "      <td>7.793000</td>\n",
       "    </tr>\n",
       "    <tr>\n",
       "      <th>std</th>\n",
       "      <td>1.919491</td>\n",
       "      <td>7.445295e+07</td>\n",
       "      <td>1.454004e+08</td>\n",
       "      <td>10649.037862</td>\n",
       "      <td>13471.568216</td>\n",
       "      <td>6940.301133</td>\n",
       "      <td>0.247433</td>\n",
       "      <td>9.122066</td>\n",
       "      <td>19.050799</td>\n",
       "      <td>82669.594746</td>\n",
       "      <td>...</td>\n",
       "      <td>0.321417</td>\n",
       "      <td>0.251814</td>\n",
       "      <td>0.260479</td>\n",
       "      <td>0.282128</td>\n",
       "      <td>0.21485</td>\n",
       "      <td>0.213258</td>\n",
       "      <td>0.301344</td>\n",
       "      <td>0.361987</td>\n",
       "      <td>0.232327</td>\n",
       "      <td>0.264099</td>\n",
       "    </tr>\n",
       "    <tr>\n",
       "      <th>min</th>\n",
       "      <td>2010.000000</td>\n",
       "      <td>3.000000e+06</td>\n",
       "      <td>2.238380e+05</td>\n",
       "      <td>39.000000</td>\n",
       "      <td>12.000000</td>\n",
       "      <td>0.000000</td>\n",
       "      <td>7.500000</td>\n",
       "      <td>62.000000</td>\n",
       "      <td>91.000000</td>\n",
       "      <td>6420.000000</td>\n",
       "      <td>...</td>\n",
       "      <td>7.300000</td>\n",
       "      <td>7.300000</td>\n",
       "      <td>7.200000</td>\n",
       "      <td>7.200000</td>\n",
       "      <td>7.10000</td>\n",
       "      <td>7.100000</td>\n",
       "      <td>7.000000</td>\n",
       "      <td>6.400000</td>\n",
       "      <td>7.500000</td>\n",
       "      <td>7.300000</td>\n",
       "    </tr>\n",
       "    <tr>\n",
       "      <th>25%</th>\n",
       "      <td>2011.000000</td>\n",
       "      <td>1.575000e+07</td>\n",
       "      <td>4.199752e+07</td>\n",
       "      <td>1000.000000</td>\n",
       "      <td>580.000000</td>\n",
       "      <td>319.750000</td>\n",
       "      <td>7.700000</td>\n",
       "      <td>72.000000</td>\n",
       "      <td>114.750000</td>\n",
       "      <td>30587.000000</td>\n",
       "      <td>...</td>\n",
       "      <td>7.700000</td>\n",
       "      <td>7.600000</td>\n",
       "      <td>7.500000</td>\n",
       "      <td>7.600000</td>\n",
       "      <td>7.50000</td>\n",
       "      <td>7.475000</td>\n",
       "      <td>7.500000</td>\n",
       "      <td>7.100000</td>\n",
       "      <td>7.800000</td>\n",
       "      <td>7.600000</td>\n",
       "    </tr>\n",
       "    <tr>\n",
       "      <th>50%</th>\n",
       "      <td>2013.000000</td>\n",
       "      <td>4.225000e+07</td>\n",
       "      <td>1.070266e+08</td>\n",
       "      <td>13000.000000</td>\n",
       "      <td>1000.000000</td>\n",
       "      <td>626.500000</td>\n",
       "      <td>7.800000</td>\n",
       "      <td>78.000000</td>\n",
       "      <td>124.000000</td>\n",
       "      <td>54900.500000</td>\n",
       "      <td>...</td>\n",
       "      <td>8.000000</td>\n",
       "      <td>7.700000</td>\n",
       "      <td>7.700000</td>\n",
       "      <td>7.800000</td>\n",
       "      <td>7.65000</td>\n",
       "      <td>7.600000</td>\n",
       "      <td>7.800000</td>\n",
       "      <td>7.300000</td>\n",
       "      <td>7.950000</td>\n",
       "      <td>7.750000</td>\n",
       "    </tr>\n",
       "    <tr>\n",
       "      <th>75%</th>\n",
       "      <td>2014.000000</td>\n",
       "      <td>1.500000e+08</td>\n",
       "      <td>2.107548e+08</td>\n",
       "      <td>20000.000000</td>\n",
       "      <td>11000.000000</td>\n",
       "      <td>1000.000000</td>\n",
       "      <td>8.100000</td>\n",
       "      <td>83.500000</td>\n",
       "      <td>136.250000</td>\n",
       "      <td>80639.000000</td>\n",
       "      <td>...</td>\n",
       "      <td>8.200000</td>\n",
       "      <td>7.900000</td>\n",
       "      <td>7.900000</td>\n",
       "      <td>8.000000</td>\n",
       "      <td>7.80000</td>\n",
       "      <td>7.800000</td>\n",
       "      <td>7.925000</td>\n",
       "      <td>7.500000</td>\n",
       "      <td>8.100000</td>\n",
       "      <td>7.925000</td>\n",
       "    </tr>\n",
       "    <tr>\n",
       "      <th>max</th>\n",
       "      <td>2016.000000</td>\n",
       "      <td>2.600000e+08</td>\n",
       "      <td>9.366622e+08</td>\n",
       "      <td>35000.000000</td>\n",
       "      <td>96000.000000</td>\n",
       "      <td>46000.000000</td>\n",
       "      <td>8.800000</td>\n",
       "      <td>100.000000</td>\n",
       "      <td>180.000000</td>\n",
       "      <td>584839.000000</td>\n",
       "      <td>...</td>\n",
       "      <td>8.800000</td>\n",
       "      <td>8.700000</td>\n",
       "      <td>8.700000</td>\n",
       "      <td>8.500000</td>\n",
       "      <td>8.10000</td>\n",
       "      <td>8.100000</td>\n",
       "      <td>8.500000</td>\n",
       "      <td>8.200000</td>\n",
       "      <td>8.700000</td>\n",
       "      <td>8.800000</td>\n",
       "    </tr>\n",
       "  </tbody>\n",
       "</table>\n",
       "<p>8 rows × 53 columns</p>\n",
       "</div>"
      ],
      "text/plain": [
       "        title_year        budget         Gross  actor_1_facebook_likes  \\\n",
       "count   100.000000  1.000000e+02  1.000000e+02              100.000000   \n",
       "mean   2012.820000  7.838400e+07  1.468679e+08            13407.270000   \n",
       "std       1.919491  7.445295e+07  1.454004e+08            10649.037862   \n",
       "min    2010.000000  3.000000e+06  2.238380e+05               39.000000   \n",
       "25%    2011.000000  1.575000e+07  4.199752e+07             1000.000000   \n",
       "50%    2013.000000  4.225000e+07  1.070266e+08            13000.000000   \n",
       "75%    2014.000000  1.500000e+08  2.107548e+08            20000.000000   \n",
       "max    2016.000000  2.600000e+08  9.366622e+08            35000.000000   \n",
       "\n",
       "       actor_2_facebook_likes  actor_3_facebook_likes  IMDb_rating  \\\n",
       "count               99.000000               98.000000   100.000000   \n",
       "mean              7377.303030             3002.153061     7.883000   \n",
       "std              13471.568216             6940.301133     0.247433   \n",
       "min                 12.000000                0.000000     7.500000   \n",
       "25%                580.000000              319.750000     7.700000   \n",
       "50%               1000.000000              626.500000     7.800000   \n",
       "75%              11000.000000             1000.000000     8.100000   \n",
       "max              96000.000000            46000.000000     8.800000   \n",
       "\n",
       "       MetaCritic     Runtime       CVotes10  ...  Votes1829F   Votes3044  \\\n",
       "count   95.000000  100.000000     100.000000  ...  100.000000  100.000000   \n",
       "mean    78.252632  126.420000   73212.160000  ...    7.982000    7.732000   \n",
       "std      9.122066   19.050799   82669.594746  ...    0.321417    0.251814   \n",
       "min     62.000000   91.000000    6420.000000  ...    7.300000    7.300000   \n",
       "25%     72.000000  114.750000   30587.000000  ...    7.700000    7.600000   \n",
       "50%     78.000000  124.000000   54900.500000  ...    8.000000    7.700000   \n",
       "75%     83.500000  136.250000   80639.000000  ...    8.200000    7.900000   \n",
       "max    100.000000  180.000000  584839.000000  ...    8.800000    8.700000   \n",
       "\n",
       "       Votes3044M  Votes3044F   Votes45A   Votes45AM   Votes45AF   Votes1000  \\\n",
       "count  100.000000  100.000000  100.00000  100.000000  100.000000  100.000000   \n",
       "mean     7.723000    7.780000    7.65100    7.624000    7.770000    7.274000   \n",
       "std      0.260479    0.282128    0.21485    0.213258    0.301344    0.361987   \n",
       "min      7.200000    7.200000    7.10000    7.100000    7.000000    6.400000   \n",
       "25%      7.500000    7.600000    7.50000    7.475000    7.500000    7.100000   \n",
       "50%      7.700000    7.800000    7.65000    7.600000    7.800000    7.300000   \n",
       "75%      7.900000    8.000000    7.80000    7.800000    7.925000    7.500000   \n",
       "max      8.700000    8.500000    8.10000    8.100000    8.500000    8.200000   \n",
       "\n",
       "          VotesUS    VotesnUS  \n",
       "count  100.000000  100.000000  \n",
       "mean     7.958000    7.793000  \n",
       "std      0.232327    0.264099  \n",
       "min      7.500000    7.300000  \n",
       "25%      7.800000    7.600000  \n",
       "50%      7.950000    7.750000  \n",
       "75%      8.100000    7.925000  \n",
       "max      8.700000    8.800000  \n",
       "\n",
       "[8 rows x 53 columns]"
      ]
     },
     "execution_count": 7,
     "metadata": {},
     "output_type": "execute_result"
    }
   ],
   "source": [
    "movies_df.describe()"
   ]
  },
  {
   "cell_type": "markdown",
   "id": "32bea515-072c-4b1e-bc11-e43491073a01",
   "metadata": {},
   "source": [
    "<hr style=\"border:2px solid orange;border-radius:50%\">"
   ]
  },
  {
   "cell_type": "markdown",
   "id": "b2a0ac6a-86b6-4c40-9ca6-1aa045127c55",
   "metadata": {},
   "source": [
    "## Cleaning Data\n",
    "\n",
    "Make the Dataset clean for good analysis."
   ]
  },
  {
   "cell_type": "markdown",
   "id": "1781da43-7d3e-4465-bf66-278b8646d39d",
   "metadata": {},
   "source": [
    "<hr style=\"border:1px dashed red;border-radius:50%\">"
   ]
  },
  {
   "cell_type": "markdown",
   "id": "e3f0ba9c-452d-41b2-a72a-6fa3f769bdfa",
   "metadata": {},
   "source": [
    "### Find duplicates and removing them if found.\n",
    "Using Values count to check if duplicates present."
   ]
  },
  {
   "cell_type": "code",
   "execution_count": 8,
   "id": "4af9d276-6da0-4c6f-a7df-adc9bf275eb9",
   "metadata": {
    "scrolled": true
   },
   "outputs": [
    {
     "data": {
      "text/html": [
       "<div>\n",
       "<style scoped>\n",
       "    .dataframe tbody tr th:only-of-type {\n",
       "        vertical-align: middle;\n",
       "    }\n",
       "\n",
       "    .dataframe tbody tr th {\n",
       "        vertical-align: top;\n",
       "    }\n",
       "\n",
       "    .dataframe thead th {\n",
       "        text-align: right;\n",
       "    }\n",
       "</style>\n",
       "<table border=\"1\" class=\"dataframe\">\n",
       "  <thead>\n",
       "    <tr style=\"text-align: right;\">\n",
       "      <th></th>\n",
       "      <th>Title</th>\n",
       "      <th>title_year</th>\n",
       "      <th>budget</th>\n",
       "      <th>Gross</th>\n",
       "      <th>actor_1_name</th>\n",
       "      <th>actor_2_name</th>\n",
       "      <th>actor_3_name</th>\n",
       "      <th>actor_1_facebook_likes</th>\n",
       "      <th>actor_2_facebook_likes</th>\n",
       "      <th>actor_3_facebook_likes</th>\n",
       "      <th>...</th>\n",
       "      <th>Votes3044M</th>\n",
       "      <th>Votes3044F</th>\n",
       "      <th>Votes45A</th>\n",
       "      <th>Votes45AM</th>\n",
       "      <th>Votes45AF</th>\n",
       "      <th>Votes1000</th>\n",
       "      <th>VotesUS</th>\n",
       "      <th>VotesnUS</th>\n",
       "      <th>content_rating</th>\n",
       "      <th>Country</th>\n",
       "    </tr>\n",
       "  </thead>\n",
       "  <tbody>\n",
       "  </tbody>\n",
       "</table>\n",
       "<p>0 rows × 62 columns</p>\n",
       "</div>"
      ],
      "text/plain": [
       "Empty DataFrame\n",
       "Columns: [Title, title_year, budget, Gross, actor_1_name, actor_2_name, actor_3_name, actor_1_facebook_likes, actor_2_facebook_likes, actor_3_facebook_likes, IMDb_rating, genre_1, genre_2, genre_3, MetaCritic, Runtime, CVotes10, CVotes09, CVotes08, CVotes07, CVotes06, CVotes05, CVotes04, CVotes03, CVotes02, CVotes01, CVotesMale, CVotesFemale, CVotesU18, CVotesU18M, CVotesU18F, CVotes1829, CVotes1829M, CVotes1829F, CVotes3044, CVotes3044M, CVotes3044F, CVotes45A, CVotes45AM, CVotes45AF, CVotes1000, CVotesUS, CVotesnUS, VotesM, VotesF, VotesU18, VotesU18M, VotesU18F, Votes1829, Votes1829M, Votes1829F, Votes3044, Votes3044M, Votes3044F, Votes45A, Votes45AM, Votes45AF, Votes1000, VotesUS, VotesnUS, content_rating, Country]\n",
       "Index: []\n",
       "\n",
       "[0 rows x 62 columns]"
      ]
     },
     "execution_count": 8,
     "metadata": {},
     "output_type": "execute_result"
    }
   ],
   "source": [
    "movies_df[movies_df.value_counts(dropna=False, sort=False).reset_index(name='count')['count'] != 1]"
   ]
  },
  {
   "cell_type": "code",
   "execution_count": 9,
   "id": "e165deb6-48a9-46eb-9c6e-df1989ec8366",
   "metadata": {},
   "outputs": [
    {
     "data": {
      "text/plain": [
       "(100, 62)"
      ]
     },
     "execution_count": 9,
     "metadata": {},
     "output_type": "execute_result"
    }
   ],
   "source": [
    "movies_df.shape"
   ]
  },
  {
   "cell_type": "markdown",
   "id": "9e6e59fd-2166-4980-b313-63e1df6fa2c6",
   "metadata": {},
   "source": [
    "There are no duplicates present in the dataset"
   ]
  },
  {
   "cell_type": "code",
   "execution_count": 10,
   "id": "1e6ce1a2-2150-4683-b586-132360357097",
   "metadata": {},
   "outputs": [
    {
     "data": {
      "text/plain": [
       "True"
      ]
     },
     "execution_count": 10,
     "metadata": {},
     "output_type": "execute_result"
    }
   ],
   "source": [
    "movies_df.shape == movies_df.drop_duplicates().shape"
   ]
  },
  {
   "cell_type": "markdown",
   "id": "f9213b54-8be2-4650-a9a7-3eec5bc2b416",
   "metadata": {},
   "source": [
    "<hr style=\"border:1px dashed red;border-radius:50%\">"
   ]
  },
  {
   "cell_type": "markdown",
   "id": "632b579d-c703-41d0-a682-93501f1ba915",
   "metadata": {},
   "source": [
    "### In my opinion Column names are not in consistent formatting some columms are Capitalized, and some lowercase.\n",
    "Lets change the columns names to lowercase so they are consistent allround."
   ]
  },
  {
   "cell_type": "code",
   "execution_count": 11,
   "id": "c1da8fbd-5aa5-43ab-ac3e-30816b351e13",
   "metadata": {},
   "outputs": [],
   "source": [
    "# Saving the old formatting. In case the stakeholder says to revert back to default formatting.\n",
    "# DO NOT RUN AFTER THE lowercase COLUMNS ARE APPLIED.\n",
    "old_column_names = movies_df.columns"
   ]
  },
  {
   "cell_type": "code",
   "execution_count": 12,
   "id": "8ed85129-a9b6-43b8-8f43-9e509cfbc999",
   "metadata": {},
   "outputs": [
    {
     "data": {
      "text/plain": [
       "Index(['Title', 'title_year', 'budget', 'Gross', 'actor_1_name',\n",
       "       'actor_2_name', 'actor_3_name', 'actor_1_facebook_likes',\n",
       "       'actor_2_facebook_likes', 'actor_3_facebook_likes', 'IMDb_rating',\n",
       "       'genre_1', 'genre_2', 'genre_3', 'MetaCritic', 'Runtime', 'CVotes10',\n",
       "       'CVotes09', 'CVotes08', 'CVotes07', 'CVotes06', 'CVotes05', 'CVotes04',\n",
       "       'CVotes03', 'CVotes02', 'CVotes01', 'CVotesMale', 'CVotesFemale',\n",
       "       'CVotesU18', 'CVotesU18M', 'CVotesU18F', 'CVotes1829', 'CVotes1829M',\n",
       "       'CVotes1829F', 'CVotes3044', 'CVotes3044M', 'CVotes3044F', 'CVotes45A',\n",
       "       'CVotes45AM', 'CVotes45AF', 'CVotes1000', 'CVotesUS', 'CVotesnUS',\n",
       "       'VotesM', 'VotesF', 'VotesU18', 'VotesU18M', 'VotesU18F', 'Votes1829',\n",
       "       'Votes1829M', 'Votes1829F', 'Votes3044', 'Votes3044M', 'Votes3044F',\n",
       "       'Votes45A', 'Votes45AM', 'Votes45AF', 'Votes1000', 'VotesUS',\n",
       "       'VotesnUS', 'content_rating', 'Country'],\n",
       "      dtype='object')"
      ]
     },
     "execution_count": 12,
     "metadata": {},
     "output_type": "execute_result"
    }
   ],
   "source": [
    "old_column_names"
   ]
  },
  {
   "cell_type": "code",
   "execution_count": 13,
   "id": "56b7e63a-b4be-451f-a9dc-e1edeada8d8c",
   "metadata": {},
   "outputs": [],
   "source": [
    "# using the str.lower() to change the column names to lower case.\n",
    "movies_df.columns = movies_df.columns.str.lower()"
   ]
  },
  {
   "cell_type": "code",
   "execution_count": 14,
   "id": "dc46cb6d-dd90-42db-a811-22f650f99be3",
   "metadata": {},
   "outputs": [
    {
     "data": {
      "text/plain": [
       "Index(['title', 'title_year', 'budget', 'gross', 'actor_1_name',\n",
       "       'actor_2_name', 'actor_3_name', 'actor_1_facebook_likes',\n",
       "       'actor_2_facebook_likes', 'actor_3_facebook_likes', 'imdb_rating',\n",
       "       'genre_1', 'genre_2', 'genre_3', 'metacritic', 'runtime', 'cvotes10',\n",
       "       'cvotes09', 'cvotes08', 'cvotes07', 'cvotes06', 'cvotes05', 'cvotes04',\n",
       "       'cvotes03', 'cvotes02', 'cvotes01', 'cvotesmale', 'cvotesfemale',\n",
       "       'cvotesu18', 'cvotesu18m', 'cvotesu18f', 'cvotes1829', 'cvotes1829m',\n",
       "       'cvotes1829f', 'cvotes3044', 'cvotes3044m', 'cvotes3044f', 'cvotes45a',\n",
       "       'cvotes45am', 'cvotes45af', 'cvotes1000', 'cvotesus', 'cvotesnus',\n",
       "       'votesm', 'votesf', 'votesu18', 'votesu18m', 'votesu18f', 'votes1829',\n",
       "       'votes1829m', 'votes1829f', 'votes3044', 'votes3044m', 'votes3044f',\n",
       "       'votes45a', 'votes45am', 'votes45af', 'votes1000', 'votesus',\n",
       "       'votesnus', 'content_rating', 'country'],\n",
       "      dtype='object')"
      ]
     },
     "execution_count": 14,
     "metadata": {},
     "output_type": "execute_result"
    }
   ],
   "source": [
    "movies_df.columns"
   ]
  },
  {
   "cell_type": "markdown",
   "id": "65213775-64f7-4b4d-986b-716d7d56d3d9",
   "metadata": {},
   "source": [
    "<hr style=\"border:1px dashed red;border-radius:50%\">"
   ]
  },
  {
   "cell_type": "markdown",
   "id": "69063304-a8fd-46e7-9724-cd39727acbbc",
   "metadata": {},
   "source": [
    "### Checking for null values."
   ]
  },
  {
   "cell_type": "code",
   "execution_count": 15,
   "id": "62d2556a-f323-4e9e-993d-8f1138eb1bab",
   "metadata": {},
   "outputs": [
    {
     "data": {
      "text/html": [
       "<div>\n",
       "<style scoped>\n",
       "    .dataframe tbody tr th:only-of-type {\n",
       "        vertical-align: middle;\n",
       "    }\n",
       "\n",
       "    .dataframe tbody tr th {\n",
       "        vertical-align: top;\n",
       "    }\n",
       "\n",
       "    .dataframe thead th {\n",
       "        text-align: right;\n",
       "    }\n",
       "</style>\n",
       "<table border=\"1\" class=\"dataframe\">\n",
       "  <thead>\n",
       "    <tr style=\"text-align: right;\">\n",
       "      <th></th>\n",
       "      <th>actor_2_facebook_likes</th>\n",
       "      <th>actor_3_facebook_likes</th>\n",
       "      <th>genre_2</th>\n",
       "      <th>genre_3</th>\n",
       "      <th>metacritic</th>\n",
       "    </tr>\n",
       "  </thead>\n",
       "  <tbody>\n",
       "    <tr>\n",
       "      <th>0</th>\n",
       "      <td>19000.0</td>\n",
       "      <td>NaN</td>\n",
       "      <td>Drama</td>\n",
       "      <td>Music</td>\n",
       "      <td>93.0</td>\n",
       "    </tr>\n",
       "    <tr>\n",
       "      <th>1</th>\n",
       "      <td>28000.0</td>\n",
       "      <td>27000.0</td>\n",
       "      <td>Adventure</td>\n",
       "      <td>Comedy</td>\n",
       "      <td>78.0</td>\n",
       "    </tr>\n",
       "    <tr>\n",
       "      <th>2</th>\n",
       "      <td>96000.0</td>\n",
       "      <td>9800.0</td>\n",
       "      <td>Drama</td>\n",
       "      <td>NaN</td>\n",
       "      <td>69.0</td>\n",
       "    </tr>\n",
       "    <tr>\n",
       "      <th>3</th>\n",
       "      <td>5300.0</td>\n",
       "      <td>NaN</td>\n",
       "      <td>Mystery</td>\n",
       "      <td>Sci-Fi</td>\n",
       "      <td>81.0</td>\n",
       "    </tr>\n",
       "    <tr>\n",
       "      <th>4</th>\n",
       "      <td>71000.0</td>\n",
       "      <td>3300.0</td>\n",
       "      <td>NaN</td>\n",
       "      <td>NaN</td>\n",
       "      <td>96.0</td>\n",
       "    </tr>\n",
       "    <tr>\n",
       "      <th>...</th>\n",
       "      <td>...</td>\n",
       "      <td>...</td>\n",
       "      <td>...</td>\n",
       "      <td>...</td>\n",
       "      <td>...</td>\n",
       "    </tr>\n",
       "    <tr>\n",
       "      <th>95</th>\n",
       "      <td>970.0</td>\n",
       "      <td>535.0</td>\n",
       "      <td>Music</td>\n",
       "      <td>NaN</td>\n",
       "      <td>88.0</td>\n",
       "    </tr>\n",
       "    <tr>\n",
       "      <th>96</th>\n",
       "      <td>63.0</td>\n",
       "      <td>48.0</td>\n",
       "      <td>Romance</td>\n",
       "      <td>NaN</td>\n",
       "      <td>94.0</td>\n",
       "    </tr>\n",
       "    <tr>\n",
       "      <th>97</th>\n",
       "      <td>12.0</td>\n",
       "      <td>0.0</td>\n",
       "      <td>Adventure</td>\n",
       "      <td>Fantasy</td>\n",
       "      <td>81.0</td>\n",
       "    </tr>\n",
       "    <tr>\n",
       "      <th>98</th>\n",
       "      <td>2000.0</td>\n",
       "      <td>1000.0</td>\n",
       "      <td>Family</td>\n",
       "      <td>Fantasy</td>\n",
       "      <td>65.0</td>\n",
       "    </tr>\n",
       "    <tr>\n",
       "      <th>99</th>\n",
       "      <td>779.0</td>\n",
       "      <td>440.0</td>\n",
       "      <td>Horror</td>\n",
       "      <td>NaN</td>\n",
       "      <td>65.0</td>\n",
       "    </tr>\n",
       "  </tbody>\n",
       "</table>\n",
       "<p>100 rows × 5 columns</p>\n",
       "</div>"
      ],
      "text/plain": [
       "    actor_2_facebook_likes  actor_3_facebook_likes    genre_2  genre_3  \\\n",
       "0                  19000.0                     NaN      Drama    Music   \n",
       "1                  28000.0                 27000.0  Adventure   Comedy   \n",
       "2                  96000.0                  9800.0      Drama      NaN   \n",
       "3                   5300.0                     NaN    Mystery   Sci-Fi   \n",
       "4                  71000.0                  3300.0        NaN      NaN   \n",
       "..                     ...                     ...        ...      ...   \n",
       "95                   970.0                   535.0      Music      NaN   \n",
       "96                    63.0                    48.0    Romance      NaN   \n",
       "97                    12.0                     0.0  Adventure  Fantasy   \n",
       "98                  2000.0                  1000.0     Family  Fantasy   \n",
       "99                   779.0                   440.0     Horror      NaN   \n",
       "\n",
       "    metacritic  \n",
       "0         93.0  \n",
       "1         78.0  \n",
       "2         69.0  \n",
       "3         81.0  \n",
       "4         96.0  \n",
       "..         ...  \n",
       "95        88.0  \n",
       "96        94.0  \n",
       "97        81.0  \n",
       "98        65.0  \n",
       "99        65.0  \n",
       "\n",
       "[100 rows x 5 columns]"
      ]
     },
     "execution_count": 15,
     "metadata": {},
     "output_type": "execute_result"
    }
   ],
   "source": [
    "movies_df.loc[:, movies_df.isnull().any()]"
   ]
  },
  {
   "cell_type": "code",
   "execution_count": 16,
   "id": "178ebf88-8d6c-4507-b3ca-9878e002cba0",
   "metadata": {},
   "outputs": [],
   "source": [
    "null_data_df = movies_df.loc[:, movies_df.isnull().any()]"
   ]
  },
  {
   "cell_type": "markdown",
   "id": "39f83a68-9e23-4a59-a8cb-e0383aa33e69",
   "metadata": {},
   "source": [
    "<hr style=\"border:1px dashed red;border-radius:50%\">"
   ]
  },
  {
   "cell_type": "markdown",
   "id": "0ca4ae6b-6a23-41ac-b3a1-e3d1e4db2cdf",
   "metadata": {},
   "source": [
    "### There are null data present in the metacritics column."
   ]
  },
  {
   "cell_type": "markdown",
   "id": "a38ba4d2-2ff4-4615-9d98-e35a5fc33261",
   "metadata": {},
   "source": [
    "We have 5 NaN data. I have found out their ratings from the metacritic website.\n",
    "(click on the movie name for the sources.)\n",
    "1. [The Hobbit: An Unexpected Journey Metacritic score: 58](https://www.metacritic.com/movie/the-hobbit-an-unexpected-journey)\n",
    "2. [Lone Survivor Metacritic score: 60](https://www.metacritic.com/movie/lone-survivor)\n",
    "3. [The Book Thief Metacritic score: 53](https://www.metacritic.com/movie/the-book-thief)\n",
    "4. [Flipped Metacritic score: 45](https://www.metacritic.com/movie/flipped)\n",
    "5. [About Time Metacritic score: 55](https://www.metacritic.com/movie/about-time)"
   ]
  },
  {
   "cell_type": "code",
   "execution_count": 17,
   "id": "cba78d57-d7f9-4f3c-92b7-8ce55b39a815",
   "metadata": {},
   "outputs": [],
   "source": [
    "movies_df.loc[null_data_df['metacritic'].isnull(), 'metacritic'] = [58, 60, 53, 45, 55]"
   ]
  },
  {
   "cell_type": "markdown",
   "id": "10eddef5-28f9-4e23-99e2-a785aeb47286",
   "metadata": {},
   "source": [
    "The null data is rectified successfully, now we can proceed to analyse our data."
   ]
  },
  {
   "cell_type": "code",
   "execution_count": 18,
   "id": "7cb9d168-2c6e-4d01-804b-5d93c6e959c0",
   "metadata": {},
   "outputs": [
    {
     "data": {
      "text/html": [
       "<div>\n",
       "<style scoped>\n",
       "    .dataframe tbody tr th:only-of-type {\n",
       "        vertical-align: middle;\n",
       "    }\n",
       "\n",
       "    .dataframe tbody tr th {\n",
       "        vertical-align: top;\n",
       "    }\n",
       "\n",
       "    .dataframe thead th {\n",
       "        text-align: right;\n",
       "    }\n",
       "</style>\n",
       "<table border=\"1\" class=\"dataframe\">\n",
       "  <thead>\n",
       "    <tr style=\"text-align: right;\">\n",
       "      <th></th>\n",
       "      <th>title</th>\n",
       "      <th>title_year</th>\n",
       "      <th>metacritic</th>\n",
       "    </tr>\n",
       "  </thead>\n",
       "  <tbody>\n",
       "    <tr>\n",
       "      <th>16</th>\n",
       "      <td>The Hobbit: An Unexpected Journey</td>\n",
       "      <td>2012</td>\n",
       "      <td>58.0</td>\n",
       "    </tr>\n",
       "    <tr>\n",
       "      <th>52</th>\n",
       "      <td>Lone Survivor</td>\n",
       "      <td>2013</td>\n",
       "      <td>60.0</td>\n",
       "    </tr>\n",
       "    <tr>\n",
       "      <th>71</th>\n",
       "      <td>The Book Thief</td>\n",
       "      <td>2013</td>\n",
       "      <td>53.0</td>\n",
       "    </tr>\n",
       "    <tr>\n",
       "      <th>82</th>\n",
       "      <td>Flipped</td>\n",
       "      <td>2010</td>\n",
       "      <td>45.0</td>\n",
       "    </tr>\n",
       "    <tr>\n",
       "      <th>88</th>\n",
       "      <td>About Time</td>\n",
       "      <td>2013</td>\n",
       "      <td>55.0</td>\n",
       "    </tr>\n",
       "  </tbody>\n",
       "</table>\n",
       "</div>"
      ],
      "text/plain": [
       "                                title  title_year  metacritic\n",
       "16  The Hobbit: An Unexpected Journey        2012        58.0\n",
       "52                      Lone Survivor        2013        60.0\n",
       "71                     The Book Thief        2013        53.0\n",
       "82                            Flipped        2010        45.0\n",
       "88                         About Time        2013        55.0"
      ]
     },
     "execution_count": 18,
     "metadata": {},
     "output_type": "execute_result"
    }
   ],
   "source": [
    "movies_df.loc[null_data_df['metacritic'].isnull(), ['title', 'title_year','metacritic']]"
   ]
  },
  {
   "cell_type": "markdown",
   "id": "46ef0af6-0b98-4c47-841e-0a4a686bfac3",
   "metadata": {},
   "source": [
    "<hr style=\"border:2px solid orange;border-radius:50%\">"
   ]
  },
  {
   "cell_type": "markdown",
   "id": "90b7c986-5694-45ca-8a05-8de27de2cf32",
   "metadata": {},
   "source": [
    "## Question 2\n",
    "### Generate Descriptive Statistics for the budget of all movies."
   ]
  },
  {
   "cell_type": "markdown",
   "id": "189994a2-2cc8-43b0-b8a9-3826b355c735",
   "metadata": {},
   "source": [
    "filtering by the column __\"Budget\"__ and using `describe()` function to get the descriptive statistics of Budget."
   ]
  },
  {
   "cell_type": "code",
   "execution_count": 19,
   "id": "39f50268-1040-4dc5-966f-b8d55406a14f",
   "metadata": {},
   "outputs": [
    {
     "data": {
      "text/plain": [
       "count    1.000000e+02\n",
       "mean     7.838400e+07\n",
       "std      7.445295e+07\n",
       "min      3.000000e+06\n",
       "25%      1.575000e+07\n",
       "50%      4.225000e+07\n",
       "75%      1.500000e+08\n",
       "max      2.600000e+08\n",
       "Name: budget, dtype: float64"
      ]
     },
     "execution_count": 19,
     "metadata": {},
     "output_type": "execute_result"
    }
   ],
   "source": [
    "movies_budget_description = movies_df['budget'].describe()\n",
    "movies_budget_description"
   ]
  },
  {
   "cell_type": "markdown",
   "id": "f7de3d7a-1a79-4dea-8ee4-608e3618ed77",
   "metadata": {},
   "source": [
    "#### Default Scientific notations output fix.\n",
    "- The default describe funciton gives us scientific notation for bigger numbers which is not pleasant to read.\\\n",
    "  By using the option context we can display the bigger floating point numbers much properly.\n",
    "\n",
    "- https://pandas.pydata.org/docs/user_guide/options.html"
   ]
  },
  {
   "cell_type": "code",
   "execution_count": 20,
   "id": "205d05ca-cfaa-47c4-b54e-c6921c048172",
   "metadata": {
    "scrolled": true
   },
   "outputs": [
    {
     "data": {
      "text/plain": [
       "count           100.000\n",
       "mean     78,384,000.000\n",
       "std      74,452,947.273\n",
       "min       3,000,000.000\n",
       "25%      15,750,000.000\n",
       "50%      42,250,000.000\n",
       "75%     150,000,000.000\n",
       "max     260,000,000.000\n",
       "Name: budget, dtype: float64"
      ]
     },
     "metadata": {},
     "output_type": "display_data"
    }
   ],
   "source": [
    "with pd.option_context('display.float_format', lambda x: f'{x:,.3f}'):\n",
    "    display(movies_budget_description)"
   ]
  },
  {
   "cell_type": "markdown",
   "id": "641e2a84-748d-4a57-a658-04d9630e2367",
   "metadata": {},
   "source": [
    "<hr style=\"border:2px solid orange;border-radius:50%\">"
   ]
  },
  {
   "cell_type": "markdown",
   "id": "b74c16b1-9254-47ad-a3dd-31ebf135d7fe",
   "metadata": {},
   "source": [
    "## Question 3\n",
    "### Find out how many of the top-rated movies produced in the United States have a PG-13 rating."
   ]
  },
  {
   "cell_type": "markdown",
   "id": "cda1e2e6-8cee-4d66-bc64-ed6316da8f75",
   "metadata": {},
   "source": [
    "The stakeholder cleared to us that whole dataset is top-rated movies."
   ]
  },
  {
   "cell_type": "markdown",
   "id": "59220899-82e0-4a71-84b3-2e010e0338df",
   "metadata": {},
   "source": [
    "<hr style=\"border:1px dashed red;border-radius:50%\">"
   ]
  },
  {
   "cell_type": "markdown",
   "id": "c7607227-0594-4bf9-9b3e-0d640c91e097",
   "metadata": {},
   "source": [
    "#### 3.1: Filtering the movies by Country and Content Rating.\n",
    "\n",
    "We will filter Country by \"USA\" and Content Rating by \"PG-13\""
   ]
  },
  {
   "cell_type": "code",
   "execution_count": 21,
   "id": "2c812fe4-1037-4adb-8663-5e4ae6d8ac15",
   "metadata": {},
   "outputs": [],
   "source": [
    "# Mask to filter the dataframe with country\n",
    "country_usa_filter_mask = movies_df['country'] == 'USA'\n",
    "\n",
    "# Mask to filter the dataframe with Content Rating\n",
    "pg13_filter_mask = movies_df[\"content_rating\"] == 'PG-13'\n",
    "\n",
    "\n",
    "usa_movies_df = movies_df[(country_usa_filter_mask) & (pg13_filter_mask)]"
   ]
  },
  {
   "cell_type": "markdown",
   "id": "7a1e06f1-3ec1-4793-bdb1-964836a39160",
   "metadata": {},
   "source": [
    "<hr style=\"border:1px dashed red;border-radius:50%\">"
   ]
  },
  {
   "cell_type": "markdown",
   "id": "00d049f4-fd33-4814-8860-3a180cd229de",
   "metadata": {},
   "source": [
    "#### 3.2: Checking if the dataframe is correctly filtered by country 'USA' and content_rating of 'PG-13'."
   ]
  },
  {
   "cell_type": "code",
   "execution_count": 22,
   "id": "c22d71ff-03e1-4a67-813a-39cce085d947",
   "metadata": {},
   "outputs": [
    {
     "name": "stdout",
     "output_type": "stream",
     "text": [
      "The dataframe consist only movies with country = 'USA': True\n",
      "The dataframe consist only movies with content_rating = 'PG-13': True\n"
     ]
    }
   ],
   "source": [
    "country_filter_check = (usa_movies_df['country'] == \"USA\").all()\n",
    "content_rating_filter_check = (usa_movies_df['content_rating'] == \"PG-13\").all()\n",
    "\n",
    "print(f\"The dataframe consist only movies with country = 'USA': {country_filter_check}\")\n",
    "print(f\"The dataframe consist only movies with content_rating = 'PG-13': {content_rating_filter_check}\")"
   ]
  },
  {
   "cell_type": "markdown",
   "id": "a6b46616-5c91-4169-b041-e3c9b6901c53",
   "metadata": {},
   "source": [
    "<hr style=\"border:1px dashed red;border-radius:50%\">"
   ]
  },
  {
   "cell_type": "markdown",
   "id": "2defcc83-7dcb-432b-9042-2cce6ae7ef2d",
   "metadata": {},
   "source": [
    "#### 3.3: Printing total top rated movies produced in United States have a PG-13 rating."
   ]
  },
  {
   "cell_type": "markdown",
   "id": "8311c7e6-2b10-4e64-8950-139ab608b782",
   "metadata": {},
   "source": [
    "- The total can be obtained by using `df.shape[0]` as shape returns (row, colums) tuple.\n",
    "- I prefer to use `count()` function as it is a column operation and much more flexible."
   ]
  },
  {
   "cell_type": "code",
   "execution_count": 23,
   "id": "a3a9d179-4de2-4367-a44b-a1ddf1f80c37",
   "metadata": {},
   "outputs": [],
   "source": [
    "total_movies_in_usa = usa_movies_df['title'].count()"
   ]
  },
  {
   "cell_type": "code",
   "execution_count": 24,
   "id": "a68f3305-a91e-4060-aacf-3f79dcc3fd7e",
   "metadata": {},
   "outputs": [
    {
     "name": "stdout",
     "output_type": "stream",
     "text": [
      "There are 35 top-rated movies produced in United States have a PG-13 rating.\n"
     ]
    }
   ],
   "source": [
    "print(f\"There are {total_movies_in_usa} top-rated movies produced in United States have a PG-13 rating.\")"
   ]
  },
  {
   "cell_type": "markdown",
   "id": "fdd1fc0a-cf3f-4c7c-aae7-db567e7fe9f0",
   "metadata": {},
   "source": [
    "##### There are 35 top-rated movies produced in United States have a PG-13 rating.."
   ]
  },
  {
   "cell_type": "markdown",
   "id": "bee07b50-9ab7-46c4-9b30-51e0f281c6d7",
   "metadata": {},
   "source": [
    "<hr style=\"border:2px solid orange;border-radius:50%\">"
   ]
  },
  {
   "cell_type": "markdown",
   "id": "0b35c158-fd95-400b-af60-48d98a0a53b6",
   "metadata": {},
   "source": [
    "## Question 4\n",
    "### Find out whether any of the top-rated movies produced in 2014 were not produced in the United States."
   ]
  },
  {
   "cell_type": "markdown",
   "id": "39acc5e9-ab11-4efa-9c3b-93120bc1408a",
   "metadata": {},
   "source": [
    "<hr style=\"border:1px dashed red;border-radius:50%\">"
   ]
  },
  {
   "cell_type": "markdown",
   "id": "b1da4409-1cd4-425c-b4ed-928ddbc5f5aa",
   "metadata": {},
   "source": [
    "#### 4.1: Making Masks for filtering the dataframe.\n",
    "1. Where country is not USA.\n",
    "2. Where title_year is 2014"
   ]
  },
  {
   "cell_type": "code",
   "execution_count": 25,
   "id": "7c0e7326-1aa0-46b9-90a5-a28f6b77a35e",
   "metadata": {},
   "outputs": [],
   "source": [
    "# filter by country.\n",
    "non_usa_mask = movies_df['country'] != 'USA'\n",
    "\n",
    "# filter by year released.\n",
    "title_year_2014_mask = movies_df['title_year'] == 2014\n",
    "\n",
    "\n",
    "non_usa_2014_movies_df = movies_df[(non_usa_mask) & (title_year_2014_mask)]"
   ]
  },
  {
   "cell_type": "code",
   "execution_count": 27,
   "id": "a20356de-71e1-434c-b5d0-17cef24f5a8c",
   "metadata": {},
   "outputs": [
    {
     "data": {
      "text/html": [
       "<div>\n",
       "<style scoped>\n",
       "    .dataframe tbody tr th:only-of-type {\n",
       "        vertical-align: middle;\n",
       "    }\n",
       "\n",
       "    .dataframe tbody tr th {\n",
       "        vertical-align: top;\n",
       "    }\n",
       "\n",
       "    .dataframe thead th {\n",
       "        text-align: right;\n",
       "    }\n",
       "</style>\n",
       "<table border=\"1\" class=\"dataframe\">\n",
       "  <thead>\n",
       "    <tr style=\"text-align: right;\">\n",
       "      <th></th>\n",
       "      <th>title</th>\n",
       "      <th>title_year</th>\n",
       "      <th>country</th>\n",
       "      <th>metacritic</th>\n",
       "      <th>imdb_rating</th>\n",
       "    </tr>\n",
       "  </thead>\n",
       "  <tbody>\n",
       "    <tr>\n",
       "      <th>45</th>\n",
       "      <td>The Lego Movie</td>\n",
       "      <td>2014</td>\n",
       "      <td>Australia</td>\n",
       "      <td>83.0</td>\n",
       "      <td>7.8</td>\n",
       "    </tr>\n",
       "    <tr>\n",
       "      <th>78</th>\n",
       "      <td>The Theory of Everything</td>\n",
       "      <td>2014</td>\n",
       "      <td>UK</td>\n",
       "      <td>72.0</td>\n",
       "      <td>7.7</td>\n",
       "    </tr>\n",
       "    <tr>\n",
       "      <th>80</th>\n",
       "      <td>Ex Machina</td>\n",
       "      <td>2014</td>\n",
       "      <td>UK</td>\n",
       "      <td>78.0</td>\n",
       "      <td>7.7</td>\n",
       "    </tr>\n",
       "    <tr>\n",
       "      <th>81</th>\n",
       "      <td>The Imitation Game</td>\n",
       "      <td>2014</td>\n",
       "      <td>UK</td>\n",
       "      <td>73.0</td>\n",
       "      <td>8.1</td>\n",
       "    </tr>\n",
       "  </tbody>\n",
       "</table>\n",
       "</div>"
      ],
      "text/plain": [
       "                       title  title_year    country  metacritic  imdb_rating\n",
       "45            The Lego Movie        2014  Australia        83.0          7.8\n",
       "78  The Theory of Everything        2014         UK        72.0          7.7\n",
       "80                Ex Machina        2014         UK        78.0          7.7\n",
       "81        The Imitation Game        2014         UK        73.0          8.1"
      ]
     },
     "execution_count": 27,
     "metadata": {},
     "output_type": "execute_result"
    }
   ],
   "source": [
    "non_usa_2014_movies_df[['title', 'title_year', 'country', 'metacritic', 'imdb_rating']]"
   ]
  },
  {
   "cell_type": "markdown",
   "id": "aea01842-d856-4d56-80b0-97bae4d4d294",
   "metadata": {},
   "source": [
    "<hr style=\"border:1px dashed red;border-radius:50%\">"
   ]
  },
  {
   "cell_type": "markdown",
   "id": "60904395-5edd-4ba8-b0c8-f7884d10016f",
   "metadata": {},
   "source": [
    "#### 4.2: Printing total of top rated non usa movie released in 2014"
   ]
  },
  {
   "cell_type": "code",
   "execution_count": 28,
   "id": "4f7e87be-d03b-45ec-b856-2bc2237cae83",
   "metadata": {},
   "outputs": [
    {
     "data": {
      "text/html": [
       "<div>\n",
       "<style scoped>\n",
       "    .dataframe tbody tr th:only-of-type {\n",
       "        vertical-align: middle;\n",
       "    }\n",
       "\n",
       "    .dataframe tbody tr th {\n",
       "        vertical-align: top;\n",
       "    }\n",
       "\n",
       "    .dataframe thead th {\n",
       "        text-align: right;\n",
       "    }\n",
       "</style>\n",
       "<table border=\"1\" class=\"dataframe\">\n",
       "  <thead>\n",
       "    <tr style=\"text-align: right;\">\n",
       "      <th></th>\n",
       "      <th>title</th>\n",
       "      <th>country</th>\n",
       "    </tr>\n",
       "  </thead>\n",
       "  <tbody>\n",
       "    <tr>\n",
       "      <th>45</th>\n",
       "      <td>The Lego Movie</td>\n",
       "      <td>Australia</td>\n",
       "    </tr>\n",
       "    <tr>\n",
       "      <th>78</th>\n",
       "      <td>The Theory of Everything</td>\n",
       "      <td>UK</td>\n",
       "    </tr>\n",
       "    <tr>\n",
       "      <th>80</th>\n",
       "      <td>Ex Machina</td>\n",
       "      <td>UK</td>\n",
       "    </tr>\n",
       "    <tr>\n",
       "      <th>81</th>\n",
       "      <td>The Imitation Game</td>\n",
       "      <td>UK</td>\n",
       "    </tr>\n",
       "  </tbody>\n",
       "</table>\n",
       "</div>"
      ],
      "text/plain": [
       "                       title    country\n",
       "45            The Lego Movie  Australia\n",
       "78  The Theory of Everything         UK\n",
       "80                Ex Machina         UK\n",
       "81        The Imitation Game         UK"
      ]
     },
     "execution_count": 28,
     "metadata": {},
     "output_type": "execute_result"
    }
   ],
   "source": [
    "non_usa_2014_movies_df[['title', 'country']]"
   ]
  },
  {
   "cell_type": "code",
   "execution_count": 29,
   "id": "f26d9b41-0b4a-4c8f-b5e3-33f8277bcc20",
   "metadata": {},
   "outputs": [],
   "source": [
    "total_non_usa_2014_movies = non_usa_2014_movies_df['title'].count()"
   ]
  },
  {
   "cell_type": "code",
   "execution_count": 30,
   "id": "b3d57f39-f7ed-4955-8895-b4d06b36b0db",
   "metadata": {},
   "outputs": [
    {
     "name": "stdout",
     "output_type": "stream",
     "text": [
      "The total number of top rated movies in 2014 that were not produced in United States are: 4\n"
     ]
    }
   ],
   "source": [
    "print(f\"The total number of top rated movies in 2014 that were not produced in United States are: {total_non_usa_2014_movies}\")"
   ]
  },
  {
   "cell_type": "markdown",
   "id": "9270265c-03d5-4b4c-b8c8-ddb572301de8",
   "metadata": {},
   "source": [
    "##### The total number of top rated movies in 2014 that were not produced in United States are: 4"
   ]
  },
  {
   "cell_type": "markdown",
   "id": "b1d3637a-b64d-4c23-b2d2-7346f5aa91bd",
   "metadata": {},
   "source": [
    "<hr style=\"border:2px solid orange;border-radius:50%\">"
   ]
  },
  {
   "cell_type": "markdown",
   "id": "633a391b-6afc-4c3e-8ab3-5580f2345aca",
   "metadata": {},
   "source": [
    "## Question 5 \n",
    "Find the percentage of the top-rated movies that are in:\n",
    "- 1  Genre only\n",
    "- 2  Genres only\n",
    "- 3  Genres only"
   ]
  },
  {
   "cell_type": "markdown",
   "id": "a7f4a3a0-3566-4a20-ae56-b150ee74c576",
   "metadata": {},
   "source": [
    "My interpretation of the question is that The percentage of the top rated movies with only 1 genre, 2 genres and 3 genres only.\n",
    "- There are 3 columns named ___'genre_1'___,  ____'genre_2___, ___'genre_3'___ where:\n",
    "  - ___'genre_1'___ is the main genre of the movie.\n",
    "  - ___'genre_2'___ is the secondary genre of the movie.\n",
    "  - ___'genre_3'___ is the tertiary genre of the movie.\n",
    "\n",
    "- The movies with values __with only 1 genre__ and other 2 columns (___genre_2___, and ___genre_3___) __with NA values are considered to be having only 1 genre__.\n",
    "- The movies with values __with only 2 genres__ and other 1 column __(___genre_3___) with NA values are considered to be having only 2 genres__.\n",
    "- The movies with values with __only 3 genres__ are considered to be __having no NA values in all genre columns__."
   ]
  },
  {
   "cell_type": "markdown",
   "id": "667d5f59-b575-4c22-b13e-877b80e17768",
   "metadata": {},
   "source": [
    "<hr style=\"border:1px dashed red;border-radius:50%\">"
   ]
  },
  {
   "cell_type": "markdown",
   "id": "41be8067-d579-4543-ab8d-78272ccc315c",
   "metadata": {},
   "source": [
    "### 5.1: Top-rated movie in 1 genre only."
   ]
  },
  {
   "cell_type": "markdown",
   "id": "f4dde2d5-7c20-4854-a8e7-84b85e4db04d",
   "metadata": {},
   "source": [
    "#### 5.1.1: Making Mask for filtering  movies with values with only 1 genre"
   ]
  },
  {
   "cell_type": "code",
   "execution_count": 31,
   "id": "56d510c2-c68a-4411-82b4-4d3051724ed0",
   "metadata": {},
   "outputs": [],
   "source": [
    "# The movies with values with only 1 genre and other 2 columns with NA values are considered to be having only 1 genre.\n",
    "only_1_genre_movie_mask = (movies_df['genre_2'].isna()) & (movies_df['genre_3'].isna())"
   ]
  },
  {
   "cell_type": "markdown",
   "id": "2aad51ff-a32d-428a-8861-f5859ee22d81",
   "metadata": {},
   "source": [
    "Dataframe for movies with 1 genre"
   ]
  },
  {
   "cell_type": "code",
   "execution_count": 32,
   "id": "ff700f22-b4bc-445f-8e1d-c3202ae49346",
   "metadata": {
    "scrolled": true
   },
   "outputs": [
    {
     "data": {
      "text/html": [
       "<div>\n",
       "<style scoped>\n",
       "    .dataframe tbody tr th:only-of-type {\n",
       "        vertical-align: middle;\n",
       "    }\n",
       "\n",
       "    .dataframe tbody tr th {\n",
       "        vertical-align: top;\n",
       "    }\n",
       "\n",
       "    .dataframe thead th {\n",
       "        text-align: right;\n",
       "    }\n",
       "</style>\n",
       "<table border=\"1\" class=\"dataframe\">\n",
       "  <thead>\n",
       "    <tr style=\"text-align: right;\">\n",
       "      <th></th>\n",
       "      <th>title</th>\n",
       "      <th>genre_1</th>\n",
       "      <th>genre_2</th>\n",
       "      <th>genre_3</th>\n",
       "    </tr>\n",
       "  </thead>\n",
       "  <tbody>\n",
       "    <tr>\n",
       "      <th>4</th>\n",
       "      <td>Manchester by the Sea</td>\n",
       "      <td>Drama</td>\n",
       "      <td>NaN</td>\n",
       "      <td>NaN</td>\n",
       "    </tr>\n",
       "    <tr>\n",
       "      <th>63</th>\n",
       "      <td>The Help</td>\n",
       "      <td>Drama</td>\n",
       "      <td>NaN</td>\n",
       "      <td>NaN</td>\n",
       "    </tr>\n",
       "    <tr>\n",
       "      <th>94</th>\n",
       "      <td>Boyhood</td>\n",
       "      <td>Drama</td>\n",
       "      <td>NaN</td>\n",
       "      <td>NaN</td>\n",
       "    </tr>\n",
       "  </tbody>\n",
       "</table>\n",
       "</div>"
      ],
      "text/plain": [
       "                    title genre_1 genre_2 genre_3\n",
       "4   Manchester by the Sea   Drama     NaN     NaN\n",
       "63               The Help   Drama     NaN     NaN\n",
       "94                Boyhood   Drama     NaN     NaN"
      ]
     },
     "execution_count": 32,
     "metadata": {},
     "output_type": "execute_result"
    }
   ],
   "source": [
    "movies_with_1_genre_df = movies_df[only_1_genre_movie_mask]\n",
    "\n",
    "movies_with_1_genre_df[['title', 'genre_1', 'genre_2', 'genre_3']]"
   ]
  },
  {
   "cell_type": "markdown",
   "id": "534c3790-6cd6-4760-b9f8-10a4306251b4",
   "metadata": {},
   "source": [
    "<hr style=\"border:1px dashed red;border-radius:50%\">"
   ]
  },
  {
   "cell_type": "markdown",
   "id": "79b0eac4-c683-4e45-a047-f958745fcf2b",
   "metadata": {},
   "source": [
    "#### 5.1.2: Calculating the Percentile of movies with only 1 genre.\n",
    "\n",
    "##### $$  percentile =  (\\frac{movies\\_with\\_1\\_genre}{all\\_movies}) * 100 $$\n",
    "\n",
    "1. Using `count()` function to get total of both `all_movies` and `movies_with_only_1_genre` dataframes\n",
    "2. Dividing `movies_with_only_1_genre` by `all_movies` and multiplying it with 100 to get the percentage."
   ]
  },
  {
   "cell_type": "code",
   "execution_count": 33,
   "id": "0421389a-5f54-4063-82a1-33ef6eeb3b28",
   "metadata": {},
   "outputs": [
    {
     "name": "stdout",
     "output_type": "stream",
     "text": [
      "3.00% of the top rated movies are only in 1 genre.\n"
     ]
    }
   ],
   "source": [
    "percentile_1_genre = (movies_with_1_genre_df['title'].count() / movies_df['title'].count()) * 100\n",
    "\n",
    "# printing the percentage with 2 floating points.\n",
    "print(f\"{percentile_1_genre:.2f}% of the top rated movies are only in 1 genre.\")"
   ]
  },
  {
   "cell_type": "markdown",
   "id": "58f29454-2ebb-4320-a49c-9ed045902a0b",
   "metadata": {},
   "source": [
    "<hr style=\"border:1px dashed red;border-radius:50%\">"
   ]
  },
  {
   "cell_type": "markdown",
   "id": "b280ff7d-60df-40c2-a061-48a551ba93f4",
   "metadata": {},
   "source": [
    "### 5.2 Top-rated movie in 2 genres only."
   ]
  },
  {
   "cell_type": "markdown",
   "id": "6cd98e00-29f9-4dec-9d7c-b52ec52bbddd",
   "metadata": {},
   "source": [
    "#### 5.2.1: Making Mask for filtering  movies with values with only 2 genres."
   ]
  },
  {
   "cell_type": "code",
   "execution_count": 34,
   "id": "adcd65c4-95a7-4ad0-8aea-c58186fe3a33",
   "metadata": {},
   "outputs": [],
   "source": [
    "# The movies with values with only 2 genre and other 1 columns with NA values are considered to be having only 2 genres.\n",
    "only_2_genres_movie_mask = (movies_df['genre_2'].isna() == False) & (movies_df['genre_3'].isna())"
   ]
  },
  {
   "cell_type": "code",
   "execution_count": 35,
   "id": "76ff8cc6-3bd9-4b37-b659-98afbe31305b",
   "metadata": {},
   "outputs": [
    {
     "data": {
      "text/html": [
       "<div>\n",
       "<style scoped>\n",
       "    .dataframe tbody tr th:only-of-type {\n",
       "        vertical-align: middle;\n",
       "    }\n",
       "\n",
       "    .dataframe tbody tr th {\n",
       "        vertical-align: top;\n",
       "    }\n",
       "\n",
       "    .dataframe thead th {\n",
       "        text-align: right;\n",
       "    }\n",
       "</style>\n",
       "<table border=\"1\" class=\"dataframe\">\n",
       "  <thead>\n",
       "    <tr style=\"text-align: right;\">\n",
       "      <th></th>\n",
       "      <th>title</th>\n",
       "      <th>genre_1</th>\n",
       "      <th>genre_2</th>\n",
       "      <th>genre_3</th>\n",
       "    </tr>\n",
       "  </thead>\n",
       "  <tbody>\n",
       "    <tr>\n",
       "      <th>2</th>\n",
       "      <td>Lion</td>\n",
       "      <td>Biography</td>\n",
       "      <td>Drama</td>\n",
       "      <td>NaN</td>\n",
       "    </tr>\n",
       "    <tr>\n",
       "      <th>8</th>\n",
       "      <td>The Dark Knight Rises</td>\n",
       "      <td>Action</td>\n",
       "      <td>Thriller</td>\n",
       "      <td>NaN</td>\n",
       "    </tr>\n",
       "    <tr>\n",
       "      <th>10</th>\n",
       "      <td>The Hobbit: The Desolation of Smaug</td>\n",
       "      <td>Adventure</td>\n",
       "      <td>Fantasy</td>\n",
       "      <td>NaN</td>\n",
       "    </tr>\n",
       "    <tr>\n",
       "      <th>11</th>\n",
       "      <td>The Avengers</td>\n",
       "      <td>Action</td>\n",
       "      <td>Sci-Fi</td>\n",
       "      <td>NaN</td>\n",
       "    </tr>\n",
       "    <tr>\n",
       "      <th>16</th>\n",
       "      <td>The Hobbit: An Unexpected Journey</td>\n",
       "      <td>Adventure</td>\n",
       "      <td>Fantasy</td>\n",
       "      <td>NaN</td>\n",
       "    </tr>\n",
       "    <tr>\n",
       "      <th>35</th>\n",
       "      <td>Django Unchained</td>\n",
       "      <td>Drama</td>\n",
       "      <td>Western</td>\n",
       "      <td>NaN</td>\n",
       "    </tr>\n",
       "    <tr>\n",
       "      <th>40</th>\n",
       "      <td>Shutter Island</td>\n",
       "      <td>Mystery</td>\n",
       "      <td>Thriller</td>\n",
       "      <td>NaN</td>\n",
       "    </tr>\n",
       "    <tr>\n",
       "      <th>53</th>\n",
       "      <td>The Social Network</td>\n",
       "      <td>Biography</td>\n",
       "      <td>Drama</td>\n",
       "      <td>NaN</td>\n",
       "    </tr>\n",
       "    <tr>\n",
       "      <th>58</th>\n",
       "      <td>Creed</td>\n",
       "      <td>Drama</td>\n",
       "      <td>Sport</td>\n",
       "      <td>NaN</td>\n",
       "    </tr>\n",
       "    <tr>\n",
       "      <th>59</th>\n",
       "      <td>Kick-Ass</td>\n",
       "      <td>Action</td>\n",
       "      <td>Comedy</td>\n",
       "      <td>NaN</td>\n",
       "    </tr>\n",
       "    <tr>\n",
       "      <th>71</th>\n",
       "      <td>The Book Thief</td>\n",
       "      <td>Drama</td>\n",
       "      <td>War</td>\n",
       "      <td>NaN</td>\n",
       "    </tr>\n",
       "    <tr>\n",
       "      <th>72</th>\n",
       "      <td>Birdman or (The Unexpected Virtue of Ignorance)</td>\n",
       "      <td>Comedy</td>\n",
       "      <td>Drama</td>\n",
       "      <td>NaN</td>\n",
       "    </tr>\n",
       "    <tr>\n",
       "      <th>76</th>\n",
       "      <td>The King's Speech</td>\n",
       "      <td>Biography</td>\n",
       "      <td>Drama</td>\n",
       "      <td>NaN</td>\n",
       "    </tr>\n",
       "    <tr>\n",
       "      <th>79</th>\n",
       "      <td>Drive</td>\n",
       "      <td>Crime</td>\n",
       "      <td>Drama</td>\n",
       "      <td>NaN</td>\n",
       "    </tr>\n",
       "    <tr>\n",
       "      <th>83</th>\n",
       "      <td>Black Swan</td>\n",
       "      <td>Drama</td>\n",
       "      <td>Thriller</td>\n",
       "      <td>NaN</td>\n",
       "    </tr>\n",
       "    <tr>\n",
       "      <th>84</th>\n",
       "      <td>The Perks of Being a Wallflower</td>\n",
       "      <td>Drama</td>\n",
       "      <td>Romance</td>\n",
       "      <td>NaN</td>\n",
       "    </tr>\n",
       "    <tr>\n",
       "      <th>85</th>\n",
       "      <td>The Fault in Our Stars</td>\n",
       "      <td>Drama</td>\n",
       "      <td>Romance</td>\n",
       "      <td>NaN</td>\n",
       "    </tr>\n",
       "    <tr>\n",
       "      <th>86</th>\n",
       "      <td>Philomena</td>\n",
       "      <td>Biography</td>\n",
       "      <td>Drama</td>\n",
       "      <td>NaN</td>\n",
       "    </tr>\n",
       "    <tr>\n",
       "      <th>89</th>\n",
       "      <td>Amour</td>\n",
       "      <td>Drama</td>\n",
       "      <td>Romance</td>\n",
       "      <td>NaN</td>\n",
       "    </tr>\n",
       "    <tr>\n",
       "      <th>93</th>\n",
       "      <td>Dallas Buyers Club</td>\n",
       "      <td>Biography</td>\n",
       "      <td>Drama</td>\n",
       "      <td>NaN</td>\n",
       "    </tr>\n",
       "    <tr>\n",
       "      <th>95</th>\n",
       "      <td>Whiplash</td>\n",
       "      <td>Drama</td>\n",
       "      <td>Music</td>\n",
       "      <td>NaN</td>\n",
       "    </tr>\n",
       "    <tr>\n",
       "      <th>96</th>\n",
       "      <td>Before Midnight</td>\n",
       "      <td>Drama</td>\n",
       "      <td>Romance</td>\n",
       "      <td>NaN</td>\n",
       "    </tr>\n",
       "    <tr>\n",
       "      <th>99</th>\n",
       "      <td>Tucker and Dale vs Evil</td>\n",
       "      <td>Comedy</td>\n",
       "      <td>Horror</td>\n",
       "      <td>NaN</td>\n",
       "    </tr>\n",
       "  </tbody>\n",
       "</table>\n",
       "</div>"
      ],
      "text/plain": [
       "                                              title    genre_1   genre_2  \\\n",
       "2                                              Lion  Biography     Drama   \n",
       "8                             The Dark Knight Rises     Action  Thriller   \n",
       "10              The Hobbit: The Desolation of Smaug  Adventure   Fantasy   \n",
       "11                                     The Avengers     Action    Sci-Fi   \n",
       "16                The Hobbit: An Unexpected Journey  Adventure   Fantasy   \n",
       "35                                 Django Unchained      Drama   Western   \n",
       "40                                   Shutter Island    Mystery  Thriller   \n",
       "53                               The Social Network  Biography     Drama   \n",
       "58                                            Creed      Drama     Sport   \n",
       "59                                         Kick-Ass     Action    Comedy   \n",
       "71                                   The Book Thief      Drama       War   \n",
       "72  Birdman or (The Unexpected Virtue of Ignorance)     Comedy     Drama   \n",
       "76                                The King's Speech  Biography     Drama   \n",
       "79                                            Drive      Crime     Drama   \n",
       "83                                       Black Swan      Drama  Thriller   \n",
       "84                  The Perks of Being a Wallflower      Drama   Romance   \n",
       "85                           The Fault in Our Stars      Drama   Romance   \n",
       "86                                        Philomena  Biography     Drama   \n",
       "89                                            Amour      Drama   Romance   \n",
       "93                               Dallas Buyers Club  Biography     Drama   \n",
       "95                                         Whiplash      Drama     Music   \n",
       "96                                  Before Midnight      Drama   Romance   \n",
       "99                          Tucker and Dale vs Evil     Comedy    Horror   \n",
       "\n",
       "   genre_3  \n",
       "2      NaN  \n",
       "8      NaN  \n",
       "10     NaN  \n",
       "11     NaN  \n",
       "16     NaN  \n",
       "35     NaN  \n",
       "40     NaN  \n",
       "53     NaN  \n",
       "58     NaN  \n",
       "59     NaN  \n",
       "71     NaN  \n",
       "72     NaN  \n",
       "76     NaN  \n",
       "79     NaN  \n",
       "83     NaN  \n",
       "84     NaN  \n",
       "85     NaN  \n",
       "86     NaN  \n",
       "89     NaN  \n",
       "93     NaN  \n",
       "95     NaN  \n",
       "96     NaN  \n",
       "99     NaN  "
      ]
     },
     "execution_count": 35,
     "metadata": {},
     "output_type": "execute_result"
    }
   ],
   "source": [
    "# Storing the filtered dataframe in new dataframe.\n",
    "movies_with_2_genres_df = movies_df[only_2_genres_movie_mask]\n",
    "\n",
    "movies_with_2_genres_df[['title', 'genre_1', 'genre_2', 'genre_3']]"
   ]
  },
  {
   "cell_type": "markdown",
   "id": "dd5ebcf6-003d-48ce-b5ce-94a2803b1bfe",
   "metadata": {},
   "source": [
    "<hr style=\"border:1px dashed red;border-radius:50%\">"
   ]
  },
  {
   "cell_type": "markdown",
   "id": "be62defa-dc17-4e0b-a503-6391f177fa0c",
   "metadata": {},
   "source": [
    "#### 5.2.2: Calculating the Percentile of movies with only 2 genres.\n",
    "\n",
    "#### $$  percentile =  (\\frac{movies\\_with\\_2\\_genres}{all\\_movies}) * 100 $$\n",
    "\n",
    "1. Using `count()` function to get total of both `all_movies` and `movies_with_only_2_genres` dataframes\n",
    "2. Dividing `movies_with_only_2_genres` by `all_movies` and multiplying it with 100 to get the percentage."
   ]
  },
  {
   "cell_type": "code",
   "execution_count": 36,
   "id": "b2e69413-1536-4914-bd9d-cfdcd2f8a754",
   "metadata": {},
   "outputs": [
    {
     "name": "stdout",
     "output_type": "stream",
     "text": [
      "23.00% of the top rated movies are only in 2 genres.\n"
     ]
    }
   ],
   "source": [
    "percentile_2_genres = (movies_with_2_genres_df['title'].count() / movies_df['title'].count()) * 100\n",
    "\n",
    "print(f\"{percentile_2_genres:.2f}% of the top rated movies are only in 2 genres.\")"
   ]
  },
  {
   "cell_type": "markdown",
   "id": "c8ed8a18-1f6c-40c3-b99e-efa541422e69",
   "metadata": {},
   "source": [
    "<hr style=\"border:1px dashed red;border-radius:50%\">"
   ]
  },
  {
   "cell_type": "markdown",
   "id": "99131574-766c-4d2e-b952-0bb11e26b03b",
   "metadata": {},
   "source": [
    "### 5.3 Top-rated movie in 3 genres only."
   ]
  },
  {
   "cell_type": "markdown",
   "id": "3533d2e2-023b-4f89-ae78-41e63e967a08",
   "metadata": {},
   "source": [
    "#### 5.3.1: Making Mask for filtering  movies with values with only 3 genres."
   ]
  },
  {
   "cell_type": "code",
   "execution_count": 37,
   "id": "1c15c87c-ae58-42ee-a12d-9a3da72b58d9",
   "metadata": {},
   "outputs": [],
   "source": [
    "# The movies with values with only 3 genre are considered to be having only 3 genres.\n",
    "only_3_genres_movie_mask =  (movies_df['genre_2'].isna() == False) & (movies_df['genre_3'].isna() == False)"
   ]
  },
  {
   "cell_type": "code",
   "execution_count": 38,
   "id": "8e2f1552-4ccf-47b8-825b-77d11db388e8",
   "metadata": {},
   "outputs": [
    {
     "data": {
      "text/html": [
       "<div>\n",
       "<style scoped>\n",
       "    .dataframe tbody tr th:only-of-type {\n",
       "        vertical-align: middle;\n",
       "    }\n",
       "\n",
       "    .dataframe tbody tr th {\n",
       "        vertical-align: top;\n",
       "    }\n",
       "\n",
       "    .dataframe thead th {\n",
       "        text-align: right;\n",
       "    }\n",
       "</style>\n",
       "<table border=\"1\" class=\"dataframe\">\n",
       "  <thead>\n",
       "    <tr style=\"text-align: right;\">\n",
       "      <th></th>\n",
       "      <th>title</th>\n",
       "      <th>genre_1</th>\n",
       "      <th>genre_2</th>\n",
       "      <th>genre_3</th>\n",
       "    </tr>\n",
       "  </thead>\n",
       "  <tbody>\n",
       "    <tr>\n",
       "      <th>0</th>\n",
       "      <td>La La Land</td>\n",
       "      <td>Comedy</td>\n",
       "      <td>Drama</td>\n",
       "      <td>Music</td>\n",
       "    </tr>\n",
       "    <tr>\n",
       "      <th>1</th>\n",
       "      <td>Zootopia</td>\n",
       "      <td>Animation</td>\n",
       "      <td>Adventure</td>\n",
       "      <td>Comedy</td>\n",
       "    </tr>\n",
       "    <tr>\n",
       "      <th>3</th>\n",
       "      <td>Arrival</td>\n",
       "      <td>Drama</td>\n",
       "      <td>Mystery</td>\n",
       "      <td>Sci-Fi</td>\n",
       "    </tr>\n",
       "    <tr>\n",
       "      <th>5</th>\n",
       "      <td>Hell or High Water</td>\n",
       "      <td>Crime</td>\n",
       "      <td>Drama</td>\n",
       "      <td>Thriller</td>\n",
       "    </tr>\n",
       "    <tr>\n",
       "      <th>6</th>\n",
       "      <td>Doctor Strange</td>\n",
       "      <td>Action</td>\n",
       "      <td>Adventure</td>\n",
       "      <td>Fantasy</td>\n",
       "    </tr>\n",
       "    <tr>\n",
       "      <th>...</th>\n",
       "      <td>...</td>\n",
       "      <td>...</td>\n",
       "      <td>...</td>\n",
       "      <td>...</td>\n",
       "    </tr>\n",
       "    <tr>\n",
       "      <th>90</th>\n",
       "      <td>Nightcrawler</td>\n",
       "      <td>Crime</td>\n",
       "      <td>Drama</td>\n",
       "      <td>Thriller</td>\n",
       "    </tr>\n",
       "    <tr>\n",
       "      <th>91</th>\n",
       "      <td>50/50</td>\n",
       "      <td>Comedy</td>\n",
       "      <td>Drama</td>\n",
       "      <td>Romance</td>\n",
       "    </tr>\n",
       "    <tr>\n",
       "      <th>92</th>\n",
       "      <td>End of Watch</td>\n",
       "      <td>Crime</td>\n",
       "      <td>Drama</td>\n",
       "      <td>Thriller</td>\n",
       "    </tr>\n",
       "    <tr>\n",
       "      <th>97</th>\n",
       "      <td>Star Wars: Episode VII - The Force Awakens</td>\n",
       "      <td>Action</td>\n",
       "      <td>Adventure</td>\n",
       "      <td>Fantasy</td>\n",
       "    </tr>\n",
       "    <tr>\n",
       "      <th>98</th>\n",
       "      <td>Harry Potter and the Deathly Hallows: Part I</td>\n",
       "      <td>Adventure</td>\n",
       "      <td>Family</td>\n",
       "      <td>Fantasy</td>\n",
       "    </tr>\n",
       "  </tbody>\n",
       "</table>\n",
       "<p>74 rows × 4 columns</p>\n",
       "</div>"
      ],
      "text/plain": [
       "                                           title    genre_1    genre_2  \\\n",
       "0                                     La La Land     Comedy      Drama   \n",
       "1                                       Zootopia  Animation  Adventure   \n",
       "3                                        Arrival      Drama    Mystery   \n",
       "5                             Hell or High Water      Crime      Drama   \n",
       "6                                 Doctor Strange     Action  Adventure   \n",
       "..                                           ...        ...        ...   \n",
       "90                                  Nightcrawler      Crime      Drama   \n",
       "91                                         50/50     Comedy      Drama   \n",
       "92                                  End of Watch      Crime      Drama   \n",
       "97    Star Wars: Episode VII - The Force Awakens     Action  Adventure   \n",
       "98  Harry Potter and the Deathly Hallows: Part I  Adventure     Family   \n",
       "\n",
       "     genre_3  \n",
       "0      Music  \n",
       "1     Comedy  \n",
       "3     Sci-Fi  \n",
       "5   Thriller  \n",
       "6    Fantasy  \n",
       "..       ...  \n",
       "90  Thriller  \n",
       "91   Romance  \n",
       "92  Thriller  \n",
       "97   Fantasy  \n",
       "98   Fantasy  \n",
       "\n",
       "[74 rows x 4 columns]"
      ]
     },
     "execution_count": 38,
     "metadata": {},
     "output_type": "execute_result"
    }
   ],
   "source": [
    "# Storing the filtered dataframe in new dataframe.\n",
    "movies_with_3_genres_df = movies_df[only_3_genres_movie_mask]\n",
    "\n",
    "movies_with_3_genres_df[['title', 'genre_1', 'genre_2', 'genre_3']]"
   ]
  },
  {
   "cell_type": "markdown",
   "id": "9f3283c8-39b3-46ca-9b5e-4cd76b2ccdf5",
   "metadata": {},
   "source": [
    "<hr style=\"border:1px dashed red;border-radius:50%\">"
   ]
  },
  {
   "cell_type": "markdown",
   "id": "7086448b-6972-4bb6-9bf2-356721d62534",
   "metadata": {},
   "source": [
    "#### 5.3.2: Calculating the Percentile of movies with only 3 genres.\n",
    "\n",
    "#### $$  percentile =  (\\frac{movies\\_with\\_3\\_genres}{all\\_movies}) * 100 $$\n",
    "\n",
    "1. Using `count()` function to get total of both `all_movies` and `movies_with_only_3_genres` dataframes\n",
    "2. Dividing `movies_with_only_3_genres` by `all_movies` and multiplying it with 100 to get the percentage."
   ]
  },
  {
   "cell_type": "code",
   "execution_count": 39,
   "id": "c373bdac-24d3-497c-b62f-0f94232d086e",
   "metadata": {},
   "outputs": [
    {
     "name": "stdout",
     "output_type": "stream",
     "text": [
      "74.00% of the top rated movies are only in 3 genres.\n"
     ]
    }
   ],
   "source": [
    "percentile_3_genres = (movies_with_3_genres_df['title'].count() / movies_df['title'].count()) * 100\n",
    "\n",
    "print(f\"{percentile_3_genres:.2f}% of the top rated movies are only in 3 genres.\")"
   ]
  },
  {
   "cell_type": "markdown",
   "id": "bf793154-66fc-4ab5-8c09-c6ba830745cb",
   "metadata": {},
   "source": [
    "<hr style=\"border:1px dashed red;border-radius:50%\">"
   ]
  },
  {
   "cell_type": "markdown",
   "id": "6111ff39-e70d-4815-8390-d0f49045842e",
   "metadata": {},
   "source": [
    "### 5.4: Printing the Percentiles."
   ]
  },
  {
   "cell_type": "code",
   "execution_count": 40,
   "id": "0a3d62c3-5934-4dda-8f55-7d62cb092637",
   "metadata": {
    "scrolled": true
   },
   "outputs": [
    {
     "name": "stdout",
     "output_type": "stream",
     "text": [
      "3.00% of the top rated movies are only in 1 genre.\n",
      "23.00% of the top rated movies are only in 2 genres.\n",
      "74.00% of the top rated movies are only in 3 genres.\n"
     ]
    }
   ],
   "source": [
    "print(f\"{percentile_1_genre:.2f}% of the top rated movies are only in 1 genre.\")\n",
    "print(f\"{percentile_2_genres:.2f}% of the top rated movies are only in 2 genres.\")\n",
    "print(f\"{percentile_3_genres:.2f}% of the top rated movies are only in 3 genres.\")"
   ]
  },
  {
   "cell_type": "markdown",
   "id": "073d041f-b8ea-429c-b58a-31c8285afab6",
   "metadata": {},
   "source": [
    "<hr style=\"border:1px dashed red;border-radius:50%\">"
   ]
  },
  {
   "cell_type": "markdown",
   "id": "d95a0f3a-b363-4f65-8391-da01f0f96075",
   "metadata": {},
   "source": [
    "### 5.5: Plotting the percentiles."
   ]
  },
  {
   "cell_type": "code",
   "execution_count": 70,
   "id": "b23c8150-db54-4a89-a6f0-df6b1a3e2624",
   "metadata": {},
   "outputs": [
    {
     "data": {
      "image/png": "[encoded data removed]",
      "text/plain": [
       "<Figure size 640x480 with 1 Axes>"
      ]
     },
     "metadata": {},
     "output_type": "display_data"
    }
   ],
   "source": [
    "labels = ['only 1 genre', 'only 2 genres', 'only 3 genres']\n",
    "genre_percentiles = [percentile_1_genre, percentile_2_genres, percentile_3_genres]\n",
    "\n",
    "# Choosing the available theme for matplotlib.\n",
    "style.use('fast')\n",
    "\n",
    "colors = [\"#003f5c\",\"#444e86\",\"#955196\",\"#dd5182\",\"#ff6e54\", \"#ffa600\"]\n",
    "colors.reverse()\n",
    "\n",
    "fig, ax = plt.subplots()\n",
    "\n",
    "genre_percentiles_bar_chart = ax.barh(labels, genre_percentiles, color=colors)\n",
    "fig.suptitle('Percentage of Movies with number of genres.')\n",
    "plt.rcParams['font.family'] = \"serif\"\n",
    "\n",
    "# Setting the captions of the chart.\n",
    "fig.text(0, -0.1, \"\"\"\n",
    "The chart describes percentage of movies in:\n",
    "\"\"\")\n",
    "fig.text(0, -0.2, \"\"\"1. All Primary, Secondary, and Tertiary genres.\n",
    "2. Both Primary and Secondary genres.\n",
    "3. Primary genre.\"\"\")\n",
    "\n",
    "ax.set_xlabel(\"\"\"Percentage of Movies\"\"\", fontsize=10, color='dimgrey')\n",
    "ax.set_ylabel('Genre types', fontsize=10, color='dimgrey')\n",
    "\n",
    "ax.grid(alpha=0.2, color='darkgrey')\n",
    "ax.bar_label(genre_percentiles_bar_chart, fmt='%.2f%%', padding=2)\n",
    "\n",
    "ax.margins(x=0.2)\n",
    "\n",
    "plt.show()\n"
   ]
  },
  {
   "cell_type": "markdown",
   "id": "753ab3c5-0262-4cbe-87d9-5bf0ab20ad51",
   "metadata": {},
   "source": [
    "<hr style=\"border:2px solid orange;border-radius:50%\">"
   ]
  },
  {
   "cell_type": "markdown",
   "id": "2d76b5a5-3473-465c-a770-e33df966b765",
   "metadata": {},
   "source": [
    "## Question 6.\n",
    "### Convert the budget and gross values from “dollars” to “dollars in millions” for all top-rated movies. \n",
    "\n",
    "##### Round the converted values down to 3 decimal places. For example, a value of 192,345,273 should be converted to 192.345."
   ]
  },
  {
   "cell_type": "markdown",
   "id": "0c67bb94-c814-4ca7-a768-7bb94dbfe722",
   "metadata": {},
   "source": [
    "<hr style=\"border:1px dashed red;border-radius:50%\">"
   ]
  },
  {
   "cell_type": "markdown",
   "id": "9796cde2-3cbc-432e-9cdb-9ca111778385",
   "metadata": {},
   "source": [
    "####  6.1: Converting the Budget and Gross Values."
   ]
  },
  {
   "cell_type": "markdown",
   "id": "e4546a81-9946-423f-ae0b-3b3a3314f1ba",
   "metadata": {},
   "source": [
    "1. Using `apply()` function and diving the values of the columns ___\"budget\"___ and ___\"gross\"___ by 1_000_000 will give us intended result.\n",
    "2. Rounding the result by 3 with help of `round(num, decimal_places)` function."
   ]
  },
  {
   "cell_type": "markdown",
   "id": "5d8975cc-5481-4e6c-95e6-7f3b2eec9422",
   "metadata": {},
   "source": [
    "#### $$ f(x) = \\frac{x}{1,000,000} $$"
   ]
  },
  {
   "cell_type": "code",
   "execution_count": 42,
   "id": "29cdeef6-d5fa-4bf3-b121-2fe5fd5ee272",
   "metadata": {},
   "outputs": [],
   "source": [
    "movies_df.loc[:, 'budget'] = movies_df.loc[:, 'budget'].apply(lambda x: round((x / 1_000_000 ), 3))\n",
    "movies_df.loc[:, 'gross'] = movies_df.loc[:, 'gross'].apply(lambda x: round((x / 1_000_000 ), 3))"
   ]
  },
  {
   "cell_type": "markdown",
   "id": "71cdd201-3395-4b0a-8381-a95b2f1f8091",
   "metadata": {},
   "source": [
    "<hr style=\"border:1px dashed red;border-radius:50%\">"
   ]
  },
  {
   "cell_type": "markdown",
   "id": "a680fa06-8459-4301-8273-171af6a49d5a",
   "metadata": {},
   "source": [
    "#### 6.2: The conversion result."
   ]
  },
  {
   "cell_type": "code",
   "execution_count": 71,
   "id": "942e57ef-1668-491c-a50b-d2439a855480",
   "metadata": {},
   "outputs": [
    {
     "data": {
      "text/html": [
       "<div>\n",
       "<style scoped>\n",
       "    .dataframe tbody tr th:only-of-type {\n",
       "        vertical-align: middle;\n",
       "    }\n",
       "\n",
       "    .dataframe tbody tr th {\n",
       "        vertical-align: top;\n",
       "    }\n",
       "\n",
       "    .dataframe thead th {\n",
       "        text-align: right;\n",
       "    }\n",
       "</style>\n",
       "<table border=\"1\" class=\"dataframe\">\n",
       "  <thead>\n",
       "    <tr style=\"text-align: right;\">\n",
       "      <th></th>\n",
       "      <th>title</th>\n",
       "      <th>budget</th>\n",
       "      <th>gross</th>\n",
       "    </tr>\n",
       "  </thead>\n",
       "  <tbody>\n",
       "    <tr>\n",
       "      <th>0</th>\n",
       "      <td>La La Land</td>\n",
       "      <td>30.0</td>\n",
       "      <td>151.102</td>\n",
       "    </tr>\n",
       "    <tr>\n",
       "      <th>1</th>\n",
       "      <td>Zootopia</td>\n",
       "      <td>150.0</td>\n",
       "      <td>341.268</td>\n",
       "    </tr>\n",
       "    <tr>\n",
       "      <th>2</th>\n",
       "      <td>Lion</td>\n",
       "      <td>12.0</td>\n",
       "      <td>51.739</td>\n",
       "    </tr>\n",
       "    <tr>\n",
       "      <th>3</th>\n",
       "      <td>Arrival</td>\n",
       "      <td>47.0</td>\n",
       "      <td>100.546</td>\n",
       "    </tr>\n",
       "    <tr>\n",
       "      <th>4</th>\n",
       "      <td>Manchester by the Sea</td>\n",
       "      <td>9.0</td>\n",
       "      <td>47.695</td>\n",
       "    </tr>\n",
       "    <tr>\n",
       "      <th>...</th>\n",
       "      <td>...</td>\n",
       "      <td>...</td>\n",
       "      <td>...</td>\n",
       "    </tr>\n",
       "    <tr>\n",
       "      <th>95</th>\n",
       "      <td>Whiplash</td>\n",
       "      <td>3.3</td>\n",
       "      <td>13.092</td>\n",
       "    </tr>\n",
       "    <tr>\n",
       "      <th>96</th>\n",
       "      <td>Before Midnight</td>\n",
       "      <td>3.0</td>\n",
       "      <td>8.115</td>\n",
       "    </tr>\n",
       "    <tr>\n",
       "      <th>97</th>\n",
       "      <td>Star Wars: Episode VII - The Force Awakens</td>\n",
       "      <td>245.0</td>\n",
       "      <td>936.662</td>\n",
       "    </tr>\n",
       "    <tr>\n",
       "      <th>98</th>\n",
       "      <td>Harry Potter and the Deathly Hallows: Part I</td>\n",
       "      <td>150.0</td>\n",
       "      <td>296.348</td>\n",
       "    </tr>\n",
       "    <tr>\n",
       "      <th>99</th>\n",
       "      <td>Tucker and Dale vs Evil</td>\n",
       "      <td>5.0</td>\n",
       "      <td>0.224</td>\n",
       "    </tr>\n",
       "  </tbody>\n",
       "</table>\n",
       "<p>100 rows × 3 columns</p>\n",
       "</div>"
      ],
      "text/plain": [
       "                                           title  budget    gross\n",
       "0                                     La La Land    30.0  151.102\n",
       "1                                       Zootopia   150.0  341.268\n",
       "2                                           Lion    12.0   51.739\n",
       "3                                        Arrival    47.0  100.546\n",
       "4                          Manchester by the Sea     9.0   47.695\n",
       "..                                           ...     ...      ...\n",
       "95                                      Whiplash     3.3   13.092\n",
       "96                               Before Midnight     3.0    8.115\n",
       "97    Star Wars: Episode VII - The Force Awakens   245.0  936.662\n",
       "98  Harry Potter and the Deathly Hallows: Part I   150.0  296.348\n",
       "99                       Tucker and Dale vs Evil     5.0    0.224\n",
       "\n",
       "[100 rows x 3 columns]"
      ]
     },
     "execution_count": 71,
     "metadata": {},
     "output_type": "execute_result"
    }
   ],
   "source": [
    "movies_df[['title','budget', 'gross']]"
   ]
  },
  {
   "cell_type": "markdown",
   "id": "ed1b5060-747f-4bc9-984d-ace4e825e951",
   "metadata": {},
   "source": [
    "<hr style=\"border:2px solid orange;border-radius:50%\">"
   ]
  },
  {
   "cell_type": "markdown",
   "id": "2e96519f-31af-4033-8644-3b44b62bf1a4",
   "metadata": {},
   "source": [
    "## Question 7\n",
    "### List all details for the top 10 movies with the highest profit, sorted from highest to lowest."
   ]
  },
  {
   "cell_type": "markdown",
   "id": "a2a6100c-e0e0-4e95-bc32-8936bc699301",
   "metadata": {},
   "source": [
    "<hr style=\"border:1px dashed red;border-radius:50%\">"
   ]
  },
  {
   "cell_type": "markdown",
   "id": "74d07d87-de9f-443c-9f30-9303233dd3b3",
   "metadata": {},
   "source": [
    "#### 7.1: Calculating Profit"
   ]
  },
  {
   "cell_type": "markdown",
   "id": "9597dd2e-e07c-4fda-9523-daee09f2e5a1",
   "metadata": {},
   "source": [
    "Calculating the profit of the movie by subtracting gross with budget.\n",
    "\n",
    "### $$ profit = gross - budget $$\n"
   ]
  },
  {
   "cell_type": "code",
   "execution_count": 72,
   "id": "87bd4176-33d6-4892-80b7-0b6c970d28ee",
   "metadata": {},
   "outputs": [],
   "source": [
    "movies_df['profit'] =  movies_df['gross'] - movies_df['budget']"
   ]
  },
  {
   "cell_type": "code",
   "execution_count": 73,
   "id": "eecdbf25-3641-4734-b09c-9a0050d3c995",
   "metadata": {},
   "outputs": [
    {
     "data": {
      "text/html": [
       "<div>\n",
       "<style scoped>\n",
       "    .dataframe tbody tr th:only-of-type {\n",
       "        vertical-align: middle;\n",
       "    }\n",
       "\n",
       "    .dataframe tbody tr th {\n",
       "        vertical-align: top;\n",
       "    }\n",
       "\n",
       "    .dataframe thead th {\n",
       "        text-align: right;\n",
       "    }\n",
       "</style>\n",
       "<table border=\"1\" class=\"dataframe\">\n",
       "  <thead>\n",
       "    <tr style=\"text-align: right;\">\n",
       "      <th></th>\n",
       "      <th>title</th>\n",
       "      <th>budget</th>\n",
       "      <th>gross</th>\n",
       "      <th>profit</th>\n",
       "    </tr>\n",
       "  </thead>\n",
       "  <tbody>\n",
       "    <tr>\n",
       "      <th>0</th>\n",
       "      <td>La La Land</td>\n",
       "      <td>30.0</td>\n",
       "      <td>151.102</td>\n",
       "      <td>121.102</td>\n",
       "    </tr>\n",
       "    <tr>\n",
       "      <th>1</th>\n",
       "      <td>Zootopia</td>\n",
       "      <td>150.0</td>\n",
       "      <td>341.268</td>\n",
       "      <td>191.268</td>\n",
       "    </tr>\n",
       "    <tr>\n",
       "      <th>2</th>\n",
       "      <td>Lion</td>\n",
       "      <td>12.0</td>\n",
       "      <td>51.739</td>\n",
       "      <td>39.739</td>\n",
       "    </tr>\n",
       "    <tr>\n",
       "      <th>3</th>\n",
       "      <td>Arrival</td>\n",
       "      <td>47.0</td>\n",
       "      <td>100.546</td>\n",
       "      <td>53.546</td>\n",
       "    </tr>\n",
       "    <tr>\n",
       "      <th>4</th>\n",
       "      <td>Manchester by the Sea</td>\n",
       "      <td>9.0</td>\n",
       "      <td>47.695</td>\n",
       "      <td>38.695</td>\n",
       "    </tr>\n",
       "  </tbody>\n",
       "</table>\n",
       "</div>"
      ],
      "text/plain": [
       "                   title  budget    gross   profit\n",
       "0             La La Land    30.0  151.102  121.102\n",
       "1               Zootopia   150.0  341.268  191.268\n",
       "2                   Lion    12.0   51.739   39.739\n",
       "3                Arrival    47.0  100.546   53.546\n",
       "4  Manchester by the Sea     9.0   47.695   38.695"
      ]
     },
     "execution_count": 73,
     "metadata": {},
     "output_type": "execute_result"
    }
   ],
   "source": [
    "movies_df[['title', 'budget', 'gross','profit']].head()"
   ]
  },
  {
   "cell_type": "markdown",
   "id": "791bfbc1-f2f2-44c0-9b50-c75825e98d3f",
   "metadata": {},
   "source": [
    "<hr style=\"border:1px dashed red;border-radius:50%\">"
   ]
  },
  {
   "cell_type": "markdown",
   "id": "44fad626-3bb6-49dc-83af-f0271a5551c0",
   "metadata": {},
   "source": [
    "#### 7.2: Sorting by Profit"
   ]
  },
  {
   "cell_type": "code",
   "execution_count": 74,
   "id": "e80f2b11-feba-4c5c-9dc1-2a17ff45c868",
   "metadata": {},
   "outputs": [],
   "source": [
    "top_10_high_profit_movies_df = movies_df.sort_values(by='profit', ascending=False).head(10)"
   ]
  },
  {
   "cell_type": "markdown",
   "id": "433cebe3-1481-42da-881a-4c72b46245d0",
   "metadata": {},
   "source": [
    "<hr style=\"border:1px dashed red;border-radius:50%\">"
   ]
  },
  {
   "cell_type": "markdown",
   "id": "6af5dbe9-bceb-4818-9d61-fdaf72d59e3b",
   "metadata": {},
   "source": [
    "#### 7.3: The top 10 high profit movies (Sorted from highest to lowest) are:"
   ]
  },
  {
   "cell_type": "code",
   "execution_count": 75,
   "id": "d6e7fc3a-7adc-41c1-8883-f5750997f446",
   "metadata": {},
   "outputs": [
    {
     "data": {
      "text/html": [
       "<div>\n",
       "<style scoped>\n",
       "    .dataframe tbody tr th:only-of-type {\n",
       "        vertical-align: middle;\n",
       "    }\n",
       "\n",
       "    .dataframe tbody tr th {\n",
       "        vertical-align: top;\n",
       "    }\n",
       "\n",
       "    .dataframe thead th {\n",
       "        text-align: right;\n",
       "    }\n",
       "</style>\n",
       "<table border=\"1\" class=\"dataframe\">\n",
       "  <thead>\n",
       "    <tr style=\"text-align: right;\">\n",
       "      <th></th>\n",
       "      <th>title</th>\n",
       "      <th>title_year</th>\n",
       "      <th>budget</th>\n",
       "      <th>gross</th>\n",
       "      <th>actor_1_name</th>\n",
       "      <th>actor_2_name</th>\n",
       "      <th>actor_3_name</th>\n",
       "      <th>actor_1_facebook_likes</th>\n",
       "      <th>actor_2_facebook_likes</th>\n",
       "      <th>actor_3_facebook_likes</th>\n",
       "      <th>...</th>\n",
       "      <th>votes3044f</th>\n",
       "      <th>votes45a</th>\n",
       "      <th>votes45am</th>\n",
       "      <th>votes45af</th>\n",
       "      <th>votes1000</th>\n",
       "      <th>votesus</th>\n",
       "      <th>votesnus</th>\n",
       "      <th>content_rating</th>\n",
       "      <th>country</th>\n",
       "      <th>profit</th>\n",
       "    </tr>\n",
       "  </thead>\n",
       "  <tbody>\n",
       "    <tr>\n",
       "      <th>97</th>\n",
       "      <td>Star Wars: Episode VII - The Force Awakens</td>\n",
       "      <td>2015</td>\n",
       "      <td>245.0</td>\n",
       "      <td>936.662</td>\n",
       "      <td>Doug Walker</td>\n",
       "      <td>Rob Walker</td>\n",
       "      <td>0</td>\n",
       "      <td>131</td>\n",
       "      <td>12.0</td>\n",
       "      <td>0.0</td>\n",
       "      <td>...</td>\n",
       "      <td>8.2</td>\n",
       "      <td>7.9</td>\n",
       "      <td>7.8</td>\n",
       "      <td>8.2</td>\n",
       "      <td>7.7</td>\n",
       "      <td>8.2</td>\n",
       "      <td>7.9</td>\n",
       "      <td>PG-13</td>\n",
       "      <td>USA</td>\n",
       "      <td>691.662</td>\n",
       "    </tr>\n",
       "    <tr>\n",
       "      <th>11</th>\n",
       "      <td>The Avengers</td>\n",
       "      <td>2012</td>\n",
       "      <td>220.0</td>\n",
       "      <td>623.280</td>\n",
       "      <td>Chris Hemsworth</td>\n",
       "      <td>Robert Downey Jr.</td>\n",
       "      <td>Scarlett Johansson</td>\n",
       "      <td>26000</td>\n",
       "      <td>21000.0</td>\n",
       "      <td>19000.0</td>\n",
       "      <td>...</td>\n",
       "      <td>8.1</td>\n",
       "      <td>7.9</td>\n",
       "      <td>7.9</td>\n",
       "      <td>8.1</td>\n",
       "      <td>7.4</td>\n",
       "      <td>8.3</td>\n",
       "      <td>7.9</td>\n",
       "      <td>PG-13</td>\n",
       "      <td>USA</td>\n",
       "      <td>403.280</td>\n",
       "    </tr>\n",
       "    <tr>\n",
       "      <th>47</th>\n",
       "      <td>Deadpool</td>\n",
       "      <td>2016</td>\n",
       "      <td>58.0</td>\n",
       "      <td>363.024</td>\n",
       "      <td>Ryan Reynolds</td>\n",
       "      <td>Ed Skrein</td>\n",
       "      <td>Stefan Kapicic</td>\n",
       "      <td>16000</td>\n",
       "      <td>805.0</td>\n",
       "      <td>361.0</td>\n",
       "      <td>...</td>\n",
       "      <td>7.9</td>\n",
       "      <td>7.8</td>\n",
       "      <td>7.8</td>\n",
       "      <td>7.9</td>\n",
       "      <td>7.3</td>\n",
       "      <td>8.1</td>\n",
       "      <td>7.9</td>\n",
       "      <td>R</td>\n",
       "      <td>USA</td>\n",
       "      <td>305.024</td>\n",
       "    </tr>\n",
       "    <tr>\n",
       "      <th>32</th>\n",
       "      <td>The Hunger Games: Catching Fire</td>\n",
       "      <td>2013</td>\n",
       "      <td>130.0</td>\n",
       "      <td>424.646</td>\n",
       "      <td>Jennifer Lawrence</td>\n",
       "      <td>Josh Hutcherson</td>\n",
       "      <td>Sandra Ellis Lafferty</td>\n",
       "      <td>34000</td>\n",
       "      <td>14000.0</td>\n",
       "      <td>523.0</td>\n",
       "      <td>...</td>\n",
       "      <td>7.9</td>\n",
       "      <td>7.3</td>\n",
       "      <td>7.2</td>\n",
       "      <td>7.9</td>\n",
       "      <td>6.7</td>\n",
       "      <td>7.7</td>\n",
       "      <td>7.4</td>\n",
       "      <td>PG-13</td>\n",
       "      <td>USA</td>\n",
       "      <td>294.646</td>\n",
       "    </tr>\n",
       "    <tr>\n",
       "      <th>12</th>\n",
       "      <td>Toy Story 3</td>\n",
       "      <td>2010</td>\n",
       "      <td>200.0</td>\n",
       "      <td>414.984</td>\n",
       "      <td>Tom Hanks</td>\n",
       "      <td>John Ratzenberger</td>\n",
       "      <td>Don Rickles</td>\n",
       "      <td>15000</td>\n",
       "      <td>1000.0</td>\n",
       "      <td>721.0</td>\n",
       "      <td>...</td>\n",
       "      <td>8.3</td>\n",
       "      <td>8.1</td>\n",
       "      <td>8.1</td>\n",
       "      <td>8.1</td>\n",
       "      <td>8.1</td>\n",
       "      <td>8.5</td>\n",
       "      <td>8.3</td>\n",
       "      <td>G</td>\n",
       "      <td>USA</td>\n",
       "      <td>214.984</td>\n",
       "    </tr>\n",
       "    <tr>\n",
       "      <th>8</th>\n",
       "      <td>The Dark Knight Rises</td>\n",
       "      <td>2012</td>\n",
       "      <td>250.0</td>\n",
       "      <td>448.131</td>\n",
       "      <td>Tom Hardy</td>\n",
       "      <td>Christian Bale</td>\n",
       "      <td>Joseph Gordon-Levitt</td>\n",
       "      <td>27000</td>\n",
       "      <td>23000.0</td>\n",
       "      <td>23000.0</td>\n",
       "      <td>...</td>\n",
       "      <td>8.2</td>\n",
       "      <td>7.9</td>\n",
       "      <td>7.9</td>\n",
       "      <td>7.9</td>\n",
       "      <td>7.8</td>\n",
       "      <td>8.4</td>\n",
       "      <td>8.4</td>\n",
       "      <td>PG-13</td>\n",
       "      <td>USA</td>\n",
       "      <td>198.131</td>\n",
       "    </tr>\n",
       "    <tr>\n",
       "      <th>45</th>\n",
       "      <td>The Lego Movie</td>\n",
       "      <td>2014</td>\n",
       "      <td>60.0</td>\n",
       "      <td>257.756</td>\n",
       "      <td>Morgan Freeman</td>\n",
       "      <td>Will Ferrell</td>\n",
       "      <td>Alison Brie</td>\n",
       "      <td>11000</td>\n",
       "      <td>8000.0</td>\n",
       "      <td>2000.0</td>\n",
       "      <td>...</td>\n",
       "      <td>7.5</td>\n",
       "      <td>7.4</td>\n",
       "      <td>7.4</td>\n",
       "      <td>7.4</td>\n",
       "      <td>7.2</td>\n",
       "      <td>8.0</td>\n",
       "      <td>7.6</td>\n",
       "      <td>PG</td>\n",
       "      <td>Australia</td>\n",
       "      <td>197.756</td>\n",
       "    </tr>\n",
       "    <tr>\n",
       "      <th>1</th>\n",
       "      <td>Zootopia</td>\n",
       "      <td>2016</td>\n",
       "      <td>150.0</td>\n",
       "      <td>341.268</td>\n",
       "      <td>Ginnifer Goodwin</td>\n",
       "      <td>Jason Bateman</td>\n",
       "      <td>Idris Elba</td>\n",
       "      <td>2800</td>\n",
       "      <td>28000.0</td>\n",
       "      <td>27000.0</td>\n",
       "      <td>...</td>\n",
       "      <td>8.1</td>\n",
       "      <td>7.8</td>\n",
       "      <td>7.8</td>\n",
       "      <td>8.1</td>\n",
       "      <td>7.6</td>\n",
       "      <td>8.0</td>\n",
       "      <td>8.0</td>\n",
       "      <td>PG</td>\n",
       "      <td>USA</td>\n",
       "      <td>191.268</td>\n",
       "    </tr>\n",
       "    <tr>\n",
       "      <th>41</th>\n",
       "      <td>Despicable Me</td>\n",
       "      <td>2010</td>\n",
       "      <td>69.0</td>\n",
       "      <td>251.502</td>\n",
       "      <td>Steve Carell</td>\n",
       "      <td>Miranda Cosgrove</td>\n",
       "      <td>Jack McBrayer</td>\n",
       "      <td>7000</td>\n",
       "      <td>2000.0</td>\n",
       "      <td>975.0</td>\n",
       "      <td>...</td>\n",
       "      <td>7.9</td>\n",
       "      <td>7.6</td>\n",
       "      <td>7.5</td>\n",
       "      <td>7.9</td>\n",
       "      <td>7.0</td>\n",
       "      <td>7.6</td>\n",
       "      <td>7.6</td>\n",
       "      <td>PG</td>\n",
       "      <td>USA</td>\n",
       "      <td>182.502</td>\n",
       "    </tr>\n",
       "    <tr>\n",
       "      <th>18</th>\n",
       "      <td>Inside Out</td>\n",
       "      <td>2015</td>\n",
       "      <td>175.0</td>\n",
       "      <td>356.454</td>\n",
       "      <td>Amy Poehler</td>\n",
       "      <td>Mindy Kaling</td>\n",
       "      <td>Phyllis Smith</td>\n",
       "      <td>1000</td>\n",
       "      <td>767.0</td>\n",
       "      <td>384.0</td>\n",
       "      <td>...</td>\n",
       "      <td>8.1</td>\n",
       "      <td>7.9</td>\n",
       "      <td>7.9</td>\n",
       "      <td>7.9</td>\n",
       "      <td>7.6</td>\n",
       "      <td>8.2</td>\n",
       "      <td>8.1</td>\n",
       "      <td>PG</td>\n",
       "      <td>USA</td>\n",
       "      <td>181.454</td>\n",
       "    </tr>\n",
       "  </tbody>\n",
       "</table>\n",
       "<p>10 rows × 63 columns</p>\n",
       "</div>"
      ],
      "text/plain": [
       "                                         title  title_year  budget    gross  \\\n",
       "97  Star Wars: Episode VII - The Force Awakens        2015   245.0  936.662   \n",
       "11                                The Avengers        2012   220.0  623.280   \n",
       "47                                    Deadpool        2016    58.0  363.024   \n",
       "32             The Hunger Games: Catching Fire        2013   130.0  424.646   \n",
       "12                                 Toy Story 3        2010   200.0  414.984   \n",
       "8                        The Dark Knight Rises        2012   250.0  448.131   \n",
       "45                              The Lego Movie        2014    60.0  257.756   \n",
       "1                                     Zootopia        2016   150.0  341.268   \n",
       "41                               Despicable Me        2010    69.0  251.502   \n",
       "18                                  Inside Out        2015   175.0  356.454   \n",
       "\n",
       "         actor_1_name       actor_2_name           actor_3_name  \\\n",
       "97        Doug Walker         Rob Walker                      0   \n",
       "11    Chris Hemsworth  Robert Downey Jr.     Scarlett Johansson   \n",
       "47      Ryan Reynolds          Ed Skrein         Stefan Kapicic   \n",
       "32  Jennifer Lawrence    Josh Hutcherson  Sandra Ellis Lafferty   \n",
       "12          Tom Hanks  John Ratzenberger            Don Rickles   \n",
       "8           Tom Hardy     Christian Bale   Joseph Gordon-Levitt   \n",
       "45     Morgan Freeman       Will Ferrell            Alison Brie   \n",
       "1    Ginnifer Goodwin      Jason Bateman             Idris Elba   \n",
       "41       Steve Carell   Miranda Cosgrove          Jack McBrayer   \n",
       "18        Amy Poehler       Mindy Kaling          Phyllis Smith   \n",
       "\n",
       "    actor_1_facebook_likes  actor_2_facebook_likes  actor_3_facebook_likes  \\\n",
       "97                     131                    12.0                     0.0   \n",
       "11                   26000                 21000.0                 19000.0   \n",
       "47                   16000                   805.0                   361.0   \n",
       "32                   34000                 14000.0                   523.0   \n",
       "12                   15000                  1000.0                   721.0   \n",
       "8                    27000                 23000.0                 23000.0   \n",
       "45                   11000                  8000.0                  2000.0   \n",
       "1                     2800                 28000.0                 27000.0   \n",
       "41                    7000                  2000.0                   975.0   \n",
       "18                    1000                   767.0                   384.0   \n",
       "\n",
       "    ...  votes3044f votes45a votes45am votes45af  votes1000  votesus  \\\n",
       "97  ...         8.2      7.9       7.8       8.2        7.7      8.2   \n",
       "11  ...         8.1      7.9       7.9       8.1        7.4      8.3   \n",
       "47  ...         7.9      7.8       7.8       7.9        7.3      8.1   \n",
       "32  ...         7.9      7.3       7.2       7.9        6.7      7.7   \n",
       "12  ...         8.3      8.1       8.1       8.1        8.1      8.5   \n",
       "8   ...         8.2      7.9       7.9       7.9        7.8      8.4   \n",
       "45  ...         7.5      7.4       7.4       7.4        7.2      8.0   \n",
       "1   ...         8.1      7.8       7.8       8.1        7.6      8.0   \n",
       "41  ...         7.9      7.6       7.5       7.9        7.0      7.6   \n",
       "18  ...         8.1      7.9       7.9       7.9        7.6      8.2   \n",
       "\n",
       "    votesnus  content_rating    country   profit  \n",
       "97       7.9           PG-13        USA  691.662  \n",
       "11       7.9           PG-13        USA  403.280  \n",
       "47       7.9               R        USA  305.024  \n",
       "32       7.4           PG-13        USA  294.646  \n",
       "12       8.3               G        USA  214.984  \n",
       "8        8.4           PG-13        USA  198.131  \n",
       "45       7.6              PG  Australia  197.756  \n",
       "1        8.0              PG        USA  191.268  \n",
       "41       7.6              PG        USA  182.502  \n",
       "18       8.1              PG        USA  181.454  \n",
       "\n",
       "[10 rows x 63 columns]"
      ]
     },
     "execution_count": 75,
     "metadata": {},
     "output_type": "execute_result"
    }
   ],
   "source": [
    "top_10_high_profit_movies_df"
   ]
  },
  {
   "cell_type": "markdown",
   "id": "5dce03cb-da1c-4366-9652-5c33f65f7593",
   "metadata": {},
   "source": [
    "<hr style=\"border:1px dashed red;border-radius:50%\">"
   ]
  },
  {
   "cell_type": "markdown",
   "id": "843833ab-4e3e-4c99-a237-4c560c32f54e",
   "metadata": {},
   "source": [
    "#### 7.4: Plotting top 10 high profit movies data"
   ]
  },
  {
   "cell_type": "code",
   "execution_count": 76,
   "id": "e4257630-f4d1-4a8f-8d1a-3e6385b9cb03",
   "metadata": {},
   "outputs": [
    {
     "data": {
      "image/png": "[encoded data removed]",
      "text/plain": [
       "<Figure size 640x480 with 1 Axes>"
      ]
     },
     "metadata": {},
     "output_type": "display_data"
    }
   ],
   "source": [
    "top_10_high_profit_movies_bar_plot_df = top_10_high_profit_movies_df.sort_values(by=['profit'])\n",
    "\n",
    "# Choosing the available theme for matplotlib.\n",
    "style.use('fast')\n",
    "\n",
    "colors = [\"#003f5c\",\"#444e86\",\"#955196\",\"#dd5182\",\"#ff6e54\", \"#ffa600\"]\n",
    "\n",
    "fig, ax = plt.subplots()\n",
    "\n",
    "top_10_high_profit_movies_bar_chart = ax.barh(top_10_high_profit_movies_bar_plot_df['title'], top_10_high_profit_movies_bar_plot_df['profit'], color=colors)\n",
    "fig.suptitle('The Top 10 High Profit Movies (Sorted from Highest to Lowest)')\n",
    "plt.rcParams['font.family'] = \"serif\"\n",
    "ax.set_xlabel('Profit (in millions)', fontsize=10, color='dimgrey')\n",
    "ax.set_ylabel('Movie names', fontsize=10, color='dimgrey')\n",
    "ax.grid(alpha=0.2, color='darkgrey')\n",
    "ax.bar_label(top_10_high_profit_movies_bar_chart, fmt='%.3f', padding=3)\n",
    "ax.margins(x=0.2)\n",
    "plt.show()"
   ]
  },
  {
   "cell_type": "markdown",
   "id": "635382b0-5f77-482e-a5ff-875406a6fb54",
   "metadata": {},
   "source": [
    "<hr style=\"border:2px solid orange;border-radius:50%\">"
   ]
  },
  {
   "cell_type": "markdown",
   "id": "42c7d9fe-07a0-4ff7-a465-3fcea98c4ebe",
   "metadata": {},
   "source": [
    "## Question 8\n",
    "### Generate a list of all the actors, in alphabetical order by the first name, that have starred in a top-rated movie.\n",
    "##### If an actor has starred in multiple movies, their name should appear only once on the list."
   ]
  },
  {
   "cell_type": "markdown",
   "id": "9cf89b2b-d6ba-499f-bf6e-3f78816fd6ee",
   "metadata": {},
   "source": [
    "_NOTE: trm is abbreviation for Top Rated Movies_"
   ]
  },
  {
   "cell_type": "markdown",
   "id": "8b7f042e-b209-45b2-867c-a8d8825dd66d",
   "metadata": {},
   "source": [
    "<hr style=\"border:1px dashed red;border-radius:50%\">"
   ]
  },
  {
   "cell_type": "markdown",
   "id": "601eb8bd-2b31-4126-9a4e-c7124a73f358",
   "metadata": {},
   "source": [
    "#### 8.1: Extracting the actor names from the dataframe and cleaning the duplicates"
   ]
  },
  {
   "cell_type": "code",
   "execution_count": 77,
   "id": "93ecfa1c-afd8-4df5-bc2b-1ab3902d5982",
   "metadata": {},
   "outputs": [],
   "source": [
    "trm_actors_series = pd.Series(movies_df[['actor_1_name', 'actor_2_name', 'actor_3_name']].values.ravel().tolist()).drop_duplicates()"
   ]
  },
  {
   "cell_type": "markdown",
   "id": "32de4775-e8c7-4bbf-bb15-ff729b9cdefc",
   "metadata": {},
   "source": [
    "<hr style=\"border:1px dashed red;border-radius:50%\">"
   ]
  },
  {
   "cell_type": "markdown",
   "id": "05a863fe-f534-4192-9f3c-1a5e2bbe60c4",
   "metadata": {},
   "source": [
    "#### 8.2: Sorting the actors by their first name and Printing it."
   ]
  },
  {
   "cell_type": "code",
   "execution_count": 78,
   "id": "ef79b218-a9e3-4469-b786-4adc89fb2fb4",
   "metadata": {},
   "outputs": [],
   "source": [
    "trm_actors_list = trm_actors_series.sort_values().tolist()\n",
    "\n",
    "## Deleting the dirty data.\n",
    "del trm_actors_list[0]"
   ]
  },
  {
   "cell_type": "code",
   "execution_count": 79,
   "id": "5c3785df-6be1-4887-ae8c-1487db738ed6",
   "metadata": {},
   "outputs": [
    {
     "data": {
      "text/plain": [
       "['Abraham Benrubi',\n",
       " 'Adam Brown',\n",
       " 'Aidan Quinn',\n",
       " 'Aidan Turner',\n",
       " 'Albert Brooks',\n",
       " 'Albert Finney',\n",
       " 'Aldis Hodge',\n",
       " 'Alexandra Maria Lara',\n",
       " 'Alfred Enoch',\n",
       " 'Alison Brie',\n",
       " 'Allen Leech',\n",
       " 'America Ferrera',\n",
       " 'Amiée Conn',\n",
       " 'Amy Adams',\n",
       " 'Amy Poehler',\n",
       " 'Amy Ryan',\n",
       " 'Amy Warren',\n",
       " 'Andrew Garfield',\n",
       " 'Anna Kendrick',\n",
       " 'Anne Hathaway',\n",
       " 'Ariane Labed',\n",
       " 'Athina Rachel Tsangari',\n",
       " 'Ato Essandoh',\n",
       " 'Audrey Fleurot',\n",
       " 'Basher Savage',\n",
       " 'Ben Foster',\n",
       " 'Benedict Cumberbatch',\n",
       " 'Benedict Wong',\n",
       " 'Bernardo Saracino',\n",
       " 'Beth Grant',\n",
       " 'Bill Murray',\n",
       " 'Billy Crudup',\n",
       " 'Bob Balaban',\n",
       " 'Brad Garrett',\n",
       " 'Brad Pitt',\n",
       " 'Bradley Cooper',\n",
       " 'Brian Johnson',\n",
       " \"Brian d'Arcy James\",\n",
       " 'Bruce Dern',\n",
       " 'Bruce Green',\n",
       " 'Bruce Greenwood',\n",
       " 'Bruce Willis',\n",
       " 'Bryce Dallas Howard',\n",
       " 'BÃ©rÃ©nice Bejo',\n",
       " 'Casey Affleck',\n",
       " 'Charlie Talbert',\n",
       " 'Charlize Theron',\n",
       " 'Chelan Simmons',\n",
       " 'Chiwetel Ejiofor',\n",
       " 'ChloÃ« Grace Moretz',\n",
       " 'Chris Evans',\n",
       " 'Chris Hemsworth',\n",
       " 'Chris Mulkey',\n",
       " 'Chris Pine',\n",
       " 'Christian Bale',\n",
       " 'Christoph Waltz',\n",
       " 'Christopher Lee',\n",
       " 'Clea DuVall',\n",
       " 'Colin Firth',\n",
       " 'Corey Johnson',\n",
       " 'Craig Ferguson',\n",
       " 'Damon Wayans Jr.',\n",
       " 'Dan Bilzerian',\n",
       " 'Daniel Henney',\n",
       " 'Daniel Kaluuya',\n",
       " 'David Oyelowo',\n",
       " 'Deborah Twiss',\n",
       " \"Denis O'Hare\",\n",
       " 'Derek Jacobi',\n",
       " 'Dev Patel',\n",
       " 'Devin Ratray',\n",
       " 'Djimon Hounsou',\n",
       " 'Don Rickles',\n",
       " 'Donald Glover',\n",
       " 'Donna Murphy',\n",
       " 'Doug Walker',\n",
       " 'Dustin Fitzsimons',\n",
       " 'Dylan Minnette',\n",
       " 'Ed Lauter',\n",
       " 'Ed Skrein',\n",
       " 'Eddie Redmayne',\n",
       " 'Edgar Arreola',\n",
       " 'Elina Alminas',\n",
       " 'Elizabeth McGovern',\n",
       " 'Ellar Coltrane',\n",
       " 'Ellen Wong',\n",
       " 'Emily Ratajkowski',\n",
       " 'Emily Watson',\n",
       " 'Emma Stone',\n",
       " 'Emmanuelle Riva',\n",
       " 'Ezra Miller',\n",
       " 'F. Murray Abraham',\n",
       " 'Forest Whitaker',\n",
       " 'Frank Grillo',\n",
       " 'Gary Oldman',\n",
       " 'Gerard Butler',\n",
       " 'Ginnifer Goodwin',\n",
       " 'Goran Visnjic',\n",
       " 'Graham McTavish',\n",
       " 'Hayley Atwell',\n",
       " 'Helen McCrory',\n",
       " 'Hugh Jackman',\n",
       " 'Idris Elba',\n",
       " 'Isabelle Huppert',\n",
       " 'J.K. Simmons',\n",
       " 'Jack McBrayer',\n",
       " 'Jack McGee',\n",
       " 'Jake Gyllenhaal',\n",
       " 'James Franco',\n",
       " 'James Huang',\n",
       " 'James Nesbitt',\n",
       " 'Jamey Sheridan',\n",
       " 'Jason Bateman',\n",
       " 'Jean-Louis Trintignant',\n",
       " 'Jeff Bridges',\n",
       " 'Jennifer Ehle',\n",
       " 'Jennifer Garner',\n",
       " 'Jennifer Lawrence',\n",
       " 'Jeremy Renner',\n",
       " 'Jerry Ferrara',\n",
       " 'Jim Parrack',\n",
       " 'Joe Lo Truglio',\n",
       " 'Joely Richardson',\n",
       " 'John Ratzenberger',\n",
       " 'Jon Favreau',\n",
       " 'Jon Hamm',\n",
       " 'Joseph Gordon-Levitt',\n",
       " 'Joseph Sikora',\n",
       " 'Josh Hutcherson',\n",
       " 'Judy Greer',\n",
       " 'Kate Burton',\n",
       " 'Kate Walsh',\n",
       " 'Katrina Bowden',\n",
       " 'Kevin Dunn',\n",
       " 'Kieran Culkin',\n",
       " 'Kodi Smit-McPhee',\n",
       " 'Kurt Fuller',\n",
       " 'Kyle Chandler',\n",
       " 'Lara Pulver',\n",
       " 'Leonardo DiCaprio',\n",
       " 'Libby Villari',\n",
       " 'Lindsay Duncan',\n",
       " 'Logan Lerman',\n",
       " 'Lorelei Linklater',\n",
       " 'Lukas Haas',\n",
       " 'M.C. Gainey',\n",
       " 'Mackenzie Foy',\n",
       " 'Madeline Carroll',\n",
       " 'Marcella Lentz-Pope',\n",
       " 'Mare Winningham',\n",
       " 'Mark Margolis',\n",
       " 'Mark Rylance',\n",
       " 'Matt Damon',\n",
       " 'Matt Letscher',\n",
       " 'Matthew McConaughey',\n",
       " 'Melissa Benoist',\n",
       " 'Melissa McMeekin',\n",
       " 'Merritt Wever',\n",
       " 'Michael Chernus',\n",
       " 'Michael Fassbender',\n",
       " 'Michael Papajohn',\n",
       " 'Michael Rispoli',\n",
       " 'Michelle Williams ',\n",
       " 'Mike Vogel',\n",
       " 'Mila Kunis',\n",
       " 'Mindy Kaling',\n",
       " 'Miranda Cosgrove',\n",
       " 'Morgan Freeman',\n",
       " 'Naomi Watts',\n",
       " 'Nat Wolff',\n",
       " 'Natalie Portman',\n",
       " 'Neil Brown Jr.',\n",
       " 'Nellie Sciutto',\n",
       " 'Nicole Kidman',\n",
       " 'Nina Arianda',\n",
       " 'Noah Taylor',\n",
       " 'Noel Clarke',\n",
       " 'Oliver Platt',\n",
       " 'Olivia Wilde',\n",
       " 'Owen Burke',\n",
       " 'Patrick Fugit',\n",
       " 'Peter Dinklage',\n",
       " 'Peter Hermann',\n",
       " 'Phaldut Sharma',\n",
       " 'Philip Seymour Hoffman',\n",
       " 'Phylicia Rashad',\n",
       " 'Phyllis Smith',\n",
       " 'QuvenzhanÃ© Wallis',\n",
       " 'R. Marcos Taylor',\n",
       " 'Rachel McAdams',\n",
       " 'Ray Winstone',\n",
       " 'Rebecca De Mornay',\n",
       " 'Rob Walker',\n",
       " 'Robert De Niro',\n",
       " 'Robert Downey Jr.',\n",
       " 'Robin Wright',\n",
       " 'Roger Allam',\n",
       " 'Rooney Mara',\n",
       " 'Rory Kinnear',\n",
       " 'Rupert Grint',\n",
       " 'Russ Tamblyn',\n",
       " 'Ryan Gosling',\n",
       " 'Ryan Reynolds',\n",
       " 'Sam Trammell',\n",
       " 'Sandra Ellis Lafferty',\n",
       " 'Sarah Silverman',\n",
       " 'Scarlett Johansson',\n",
       " 'Scoot McNairy',\n",
       " 'Scott Elrod',\n",
       " 'Seamus Davey-Fitzpatrick',\n",
       " 'Sela Ward',\n",
       " 'Shailene Woodley',\n",
       " 'Simon McBurney',\n",
       " 'Sonoya Mizuno',\n",
       " 'Sophie NÃ©lisse',\n",
       " 'Stefan Kapicic',\n",
       " 'Steve Carell',\n",
       " 'Steve Coogan',\n",
       " 'Sylvester Stallone',\n",
       " 'Taran Killam',\n",
       " 'Tate Donovan',\n",
       " 'Toby Jones',\n",
       " 'Tom Cruise',\n",
       " 'Tom Hanks',\n",
       " 'Tom Hardy',\n",
       " 'Tom Hollander',\n",
       " 'Tom Hughes',\n",
       " 'Tom Wilkinson',\n",
       " 'Treat Williams',\n",
       " 'Tyler Labine',\n",
       " 'Vin Diesel',\n",
       " 'Will Ferrell',\n",
       " 'Will Forte',\n",
       " 'ZoÃ« Kravitz']"
      ]
     },
     "execution_count": 79,
     "metadata": {},
     "output_type": "execute_result"
    }
   ],
   "source": [
    "trm_actors_list"
   ]
  },
  {
   "cell_type": "markdown",
   "id": "f75b07f0-ac40-4e1e-89a6-0442707f973c",
   "metadata": {},
   "source": [
    "<hr style=\"border:2px solid orange;border-radius:50%\">"
   ]
  },
  {
   "cell_type": "markdown",
   "id": "b20bbf57-89db-4c28-8062-0052585fc577",
   "metadata": {},
   "source": [
    "##  Question 9:\n",
    "### The movie studio wants to determine who it should approach to act in its next movie production. \n",
    "#### Find the top 3 actors who appeared in the most top-rated movies."
   ]
  },
  {
   "cell_type": "markdown",
   "id": "f5d4c11a-89e9-4f9e-ac5e-8d44f16f4769",
   "metadata": {},
   "source": [
    "trm is abbreviation for Top Rated Movies"
   ]
  },
  {
   "cell_type": "markdown",
   "id": "a474eb1b-f46a-4821-ad86-addbe76a0c88",
   "metadata": {},
   "source": [
    "#### 9.1: Extracting actors names and saving it in a series."
   ]
  },
  {
   "cell_type": "code",
   "execution_count": 80,
   "id": "48ee4a6e-f297-4462-ac84-ea159773fa64",
   "metadata": {},
   "outputs": [],
   "source": [
    "# Storing a list of actors.\n",
    "trm_actors_series = pd.Series(movies_df[['actor_1_name', 'actor_2_name', 'actor_3_name']].values.ravel().tolist())"
   ]
  },
  {
   "cell_type": "markdown",
   "id": "d20b1d54-7d8b-45ff-a1be-bc3e7734e5f4",
   "metadata": {},
   "source": [
    "<hr style=\"border:1px dashed red;border-radius:50%\">"
   ]
  },
  {
   "cell_type": "markdown",
   "id": "fe816bc8-3a8e-4eb8-b592-9d6df583b9e9",
   "metadata": {},
   "source": [
    "#### 9.2: Filtering Actors who have appeared in more than 1 movies."
   ]
  },
  {
   "cell_type": "code",
   "execution_count": 81,
   "id": "77928d24-2d36-4fed-97ba-3ca16e9746c8",
   "metadata": {},
   "outputs": [],
   "source": [
    "trm_most_app_actors_series = pd.Series(trm_actors_series.value_counts()[trm_actors_series.value_counts() > 1], name=\"appearances\")"
   ]
  },
  {
   "cell_type": "markdown",
   "id": "76dd841d-0126-46d7-87ba-06a939d565ba",
   "metadata": {},
   "source": [
    "- Head will return top 5 actors as the series is sorted by descending order of number of appearance.\n",
    "- Pass $3$ as parameter to get _the top 3 actors_"
   ]
  },
  {
   "cell_type": "code",
   "execution_count": 82,
   "id": "72fd84ef-d489-4a4f-8679-9ac88a0fe2af",
   "metadata": {},
   "outputs": [],
   "source": [
    "top_3_actors_df = trm_most_app_actors_series.head(3).to_frame()\n",
    "\n",
    "# The series doesn't return with an index name. Setting the index name to 'actor_names' for readability.\n",
    "top_3_actors_df.index.rename('actor_names', inplace=True)"
   ]
  },
  {
   "cell_type": "markdown",
   "id": "b000ff65-9cf7-40c6-a75c-a255b18c24f6",
   "metadata": {},
   "source": [
    "<hr style=\"border:1px dashed red;border-radius:50%\">"
   ]
  },
  {
   "cell_type": "markdown",
   "id": "e9f724f7-3cb4-426c-aae6-35ce720d59b6",
   "metadata": {},
   "source": [
    "#### 9.3: Printing the Top 3 Actors"
   ]
  },
  {
   "cell_type": "code",
   "execution_count": 83,
   "id": "71d6c4fc-9cf1-47ea-ada6-045b1639151b",
   "metadata": {},
   "outputs": [
    {
     "name": "stdout",
     "output_type": "stream",
     "text": [
      "The top 3 actors who appeared in the most top-rated movies are:\n"
     ]
    },
    {
     "data": {
      "text/html": [
       "<div>\n",
       "<style scoped>\n",
       "    .dataframe tbody tr th:only-of-type {\n",
       "        vertical-align: middle;\n",
       "    }\n",
       "\n",
       "    .dataframe tbody tr th {\n",
       "        vertical-align: top;\n",
       "    }\n",
       "\n",
       "    .dataframe thead th {\n",
       "        text-align: right;\n",
       "    }\n",
       "</style>\n",
       "<table border=\"1\" class=\"dataframe\">\n",
       "  <thead>\n",
       "    <tr style=\"text-align: right;\">\n",
       "      <th></th>\n",
       "      <th>appearances</th>\n",
       "    </tr>\n",
       "    <tr>\n",
       "      <th>actor_names</th>\n",
       "      <th></th>\n",
       "    </tr>\n",
       "  </thead>\n",
       "  <tbody>\n",
       "    <tr>\n",
       "      <th>Leonardo DiCaprio</th>\n",
       "      <td>5</td>\n",
       "    </tr>\n",
       "    <tr>\n",
       "      <th>Tom Hardy</th>\n",
       "      <td>5</td>\n",
       "    </tr>\n",
       "    <tr>\n",
       "      <th>Jennifer Lawrence</th>\n",
       "      <td>4</td>\n",
       "    </tr>\n",
       "  </tbody>\n",
       "</table>\n",
       "</div>"
      ],
      "text/plain": [
       "                   appearances\n",
       "actor_names                   \n",
       "Leonardo DiCaprio            5\n",
       "Tom Hardy                    5\n",
       "Jennifer Lawrence            4"
      ]
     },
     "execution_count": 83,
     "metadata": {},
     "output_type": "execute_result"
    }
   ],
   "source": [
    "print(f\"The top 3 actors who appeared in the most top-rated movies are:\")\n",
    "top_3_actors_df"
   ]
  },
  {
   "cell_type": "markdown",
   "id": "4ee49eb1-4d09-4850-93e4-a2aefb3cb1d7",
   "metadata": {},
   "source": [
    "<hr style=\"border:1px dashed red;border-radius:50%\">"
   ]
  },
  {
   "cell_type": "markdown",
   "id": "0f584621-2ea3-4994-aa71-d2d3de47865b",
   "metadata": {},
   "source": [
    "#### 9.4: (optional) Plotting the top actors data for more clarity."
   ]
  },
  {
   "cell_type": "code",
   "execution_count": 84,
   "id": "0724db23-a370-43fb-9cc3-cf7f353eddfc",
   "metadata": {},
   "outputs": [],
   "source": [
    "# Choosing the available theme for matplotlib.\n",
    "style.use('fast')\n",
    "\n",
    "colors = [\"#003f5c\",\"#444e86\",\"#955196\",\"#dd5182\",\"#ff6e54\", \"#ffa600\"]"
   ]
  },
  {
   "cell_type": "code",
   "execution_count": 85,
   "id": "ec3cbab2-fe07-4f67-a654-e6a49cad3223",
   "metadata": {},
   "outputs": [],
   "source": [
    "# Prepraring data for plotting.\n",
    "actor_names = top_3_actors_df.index.to_list()\n",
    "actor_movie_appearances = top_3_actors_df['appearances'].to_list()"
   ]
  },
  {
   "cell_type": "code",
   "execution_count": 86,
   "id": "05d71ea0-3d42-4c0e-89f6-c77b3b0d05b4",
   "metadata": {},
   "outputs": [
    {
     "data": {
      "image/png": "[encoded data removed]",
      "text/plain": [
       "<Figure size 640x480 with 1 Axes>"
      ]
     },
     "metadata": {},
     "output_type": "display_data"
    }
   ],
   "source": [
    "fig, ax = plt.subplots()\n",
    "\n",
    "top_actor_appearances_bar_chart = ax.bar(actor_names, actor_movie_appearances, color=colors)\n",
    "fig.suptitle('Most Movie Appearances By An Actor (Top 3)')\n",
    "plt.rcParams['font.family'] = \"serif\"\n",
    "ax.set_xlabel('Actors', fontsize=10, color='grey')\n",
    "ax.set_ylabel('Total Number of Top Rated Movie Appearances', fontsize=10, color='grey')\n",
    "ax.grid(alpha=0.2, color='darkgrey')\n",
    "ax.bar_label(top_actor_appearances_bar_chart, padding=3)\n",
    "ax.margins(y=0.2)\n",
    "plt.show()"
   ]
  },
  {
   "cell_type": "markdown",
   "id": "9d0db685-a143-4663-91f7-592be45e8d18",
   "metadata": {},
   "source": [
    "<hr style=\"border:2px solid orange;border-radius:50%\">"
   ]
  },
  {
   "cell_type": "markdown",
   "id": "3a35062d-4fa8-41dc-ac09-d33e026dde57",
   "metadata": {},
   "source": [
    "##  Question 10:\n",
    "### Create a data visualization that shows each country and the number of top-rated movies produced in it.\n",
    "Find the country that produced the most top-rated movies."
   ]
  },
  {
   "cell_type": "code",
   "execution_count": 87,
   "id": "0fa17432-1896-41b7-ad75-fe074e511f32",
   "metadata": {},
   "outputs": [],
   "source": [
    "# Choosing the available theme for matplotlib.\n",
    "style.use('fast')"
   ]
  },
  {
   "cell_type": "markdown",
   "id": "9532083a-6d6f-4e76-9c09-1ba1ce480586",
   "metadata": {},
   "source": [
    "#### 10.1: Grouping the Data by country column."
   ]
  },
  {
   "cell_type": "code",
   "execution_count": 88,
   "id": "2e169809-2950-4aac-a1fb-b21fedc5ad98",
   "metadata": {},
   "outputs": [],
   "source": [
    "country_vise_grouped_movies_series = movies_df.groupby('country').size()"
   ]
  },
  {
   "cell_type": "markdown",
   "id": "d1a6af9c-5e66-456a-a73a-c3c82e728f20",
   "metadata": {},
   "source": [
    "<hr style=\"border:1px dashed red;border-radius:50%\">"
   ]
  },
  {
   "cell_type": "markdown",
   "id": "18e41b9a-f0ef-49a2-bf96-3cf11aa620f8",
   "metadata": {},
   "source": [
    "#### 10.2 Preparing data for plotting"
   ]
  },
  {
   "cell_type": "code",
   "execution_count": 89,
   "id": "fa8f2ac9-ebd4-4af2-82ee-c6e5b5760cae",
   "metadata": {},
   "outputs": [],
   "source": [
    "country_names = country_vise_grouped_movies_series.keys()\n",
    "country_movie_count = country_vise_grouped_movies_series.values"
   ]
  },
  {
   "cell_type": "markdown",
   "id": "316997d8-e569-48c3-b5bd-b5488df1cd57",
   "metadata": {},
   "source": [
    "Declaring Colors for rectangles (bars) of bar plot."
   ]
  },
  {
   "cell_type": "code",
   "execution_count": 90,
   "id": "7712cac1-f737-4327-8fbb-0c978a4cc4bc",
   "metadata": {},
   "outputs": [],
   "source": [
    "colors = [\"#003f5c\",\"#444e86\",\"#955196\",\"#dd5182\",\"#ff6e54\", \"#ffa600\"]\n",
    "colors.reverse()"
   ]
  },
  {
   "cell_type": "markdown",
   "id": "eb02f3a2-df44-411d-8261-0184d3e2e7a9",
   "metadata": {},
   "source": [
    "<hr style=\"border:1px dashed red;border-radius:50%\">"
   ]
  },
  {
   "cell_type": "markdown",
   "id": "ccfb95a6-a088-4d0a-a9aa-60658f14c35b",
   "metadata": {},
   "source": [
    "#### 10.3: Plotting the bar graph"
   ]
  },
  {
   "cell_type": "code",
   "execution_count": 91,
   "id": "37f84221-3226-4fd5-8084-a9a2c95ada46",
   "metadata": {},
   "outputs": [
    {
     "data": {
      "image/png": "[encoded data removed]",
      "text/plain": [
       "<Figure size 640x480 with 1 Axes>"
      ]
     },
     "metadata": {},
     "output_type": "display_data"
    }
   ],
   "source": [
    "fig, ax = plt.subplots()\n",
    "\n",
    "country_vise_bar_chart = ax.bar(country_names, country_movie_count, color=colors)\n",
    "\n",
    "fig.suptitle('Country vise Top Rated Movies')\n",
    "\n",
    "plt.rcParams['font.family'] = \"serif\"\n",
    "\n",
    "ax.set_xlabel('Countries', fontsize=10, color='grey')\n",
    "ax.set_ylabel('Total Number of Top Rated Movies Produced', fontsize=10, color='grey')\n",
    "\n",
    "ax.grid(alpha=0.2, color='grey')\n",
    "ax.margins(y=0.2)\n",
    "ax.bar_label(country_vise_bar_chart, padding=3)\n",
    "plt.show()"
   ]
  },
  {
   "cell_type": "markdown",
   "id": "2611f581-1ac5-4107-9397-7c6d42c3644b",
   "metadata": {},
   "source": [
    "<hr style=\"border:1px dashed red;border-radius:50%\">"
   ]
  },
  {
   "cell_type": "markdown",
   "id": "b91238e1-a2e4-4f43-97a6-7f86b9591cef",
   "metadata": {},
   "source": [
    "#### 10.4: Finding the country that produced most top rated movies."
   ]
  },
  {
   "cell_type": "code",
   "execution_count": 92,
   "id": "76afee42-e3bb-473b-bece-d985caf470f4",
   "metadata": {},
   "outputs": [],
   "source": [
    "country_name_with_most_movies = country_vise_grouped_movies_series.sort_values(ascending=False).index[0]\n",
    "total_movies = country_vise_grouped_movies_series.sort_values(ascending=False)[0]"
   ]
  },
  {
   "cell_type": "code",
   "execution_count": 93,
   "id": "1b091e21-c5b6-479e-9d2d-32bd5e4941aa",
   "metadata": {},
   "outputs": [
    {
     "name": "stdout",
     "output_type": "stream",
     "text": [
      "USA is the country that produced most top rated films with the total of 81 movies.\n"
     ]
    }
   ],
   "source": [
    "print(f'{country_name_with_most_movies} is the country that produced most top rated films with the total of {total_movies} movies.')"
   ]
  },
  {
   "cell_type": "markdown",
   "id": "4c19ba19-2c7b-460c-9dcd-8a4cbfbe3cc5",
   "metadata": {},
   "source": [
    "#### USA is the country that produced most top rated films with the total of 81 movies."
   ]
  }
 ],
 "metadata": {
  "kernelspec": {
   "display_name": "Python 3 (ipykernel)",
   "language": "python",
   "name": "python3"
  },
  "language_info": {
   "codemirror_mode": {
    "name": "ipython",
    "version": 3
   },
   "file_extension": ".py",
   "mimetype": "text/x-python",
   "name": "python",
   "nbconvert_exporter": "python",
   "pygments_lexer": "ipython3",
   "version": "3.10.11"
  }
 },
 "nbformat": 4,
 "nbformat_minor": 5
}
