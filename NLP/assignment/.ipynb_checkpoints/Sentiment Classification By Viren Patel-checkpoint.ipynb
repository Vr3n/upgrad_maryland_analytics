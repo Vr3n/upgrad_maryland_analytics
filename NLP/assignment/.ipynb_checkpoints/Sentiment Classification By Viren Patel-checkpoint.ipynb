{
 "cells": [
  {
   "cell_type": "markdown",
   "id": "9f8083ef-324f-4a59-ab57-011d1834d425",
   "metadata": {},
   "source": [
    "# Sentimental Analysis of Rotten Tomatoes Reviews."
   ]
  },
  {
   "cell_type": "markdown",
   "id": "4397e966-4f56-400d-a3eb-d4c0f33d4a2e",
   "metadata": {},
   "source": [
    "<hr style=\"border: 2px solid red; border-radius: 50%;\">"
   ]
  },
  {
   "cell_type": "markdown",
   "id": "ce50f866-3fb0-4e47-9eaa-0dd0df1ad076",
   "metadata": {},
   "source": [
    "## Importing Packages."
   ]
  },
  {
   "cell_type": "code",
   "execution_count": 1,
   "id": "fdbd3e1f-c92f-40a9-96a6-62205a475cda",
   "metadata": {},
   "outputs": [
    {
     "name": "stdout",
     "output_type": "stream",
     "text": [
      "Requirement already satisfied: tqdm in c:\\users\\dell 5590\\codes\\upgrad_maryland_analytics\\venv\\lib\\site-packages (4.66.1)\n",
      "Requirement already satisfied: nltk in c:\\users\\dell 5590\\codes\\upgrad_maryland_analytics\\venv\\lib\\site-packages (3.8.1)\n",
      "Requirement already satisfied: lightgbm in c:\\users\\dell 5590\\codes\\upgrad_maryland_analytics\\venv\\lib\\site-packages (4.3.0)\n",
      "Requirement already satisfied: colorama in c:\\users\\dell 5590\\codes\\upgrad_maryland_analytics\\venv\\lib\\site-packages (from tqdm) (0.4.6)\n",
      "Requirement already satisfied: click in c:\\users\\dell 5590\\codes\\upgrad_maryland_analytics\\venv\\lib\\site-packages (from nltk) (8.1.7)\n",
      "Requirement already satisfied: joblib in c:\\users\\dell 5590\\codes\\upgrad_maryland_analytics\\venv\\lib\\site-packages (from nltk) (1.3.2)\n",
      "Requirement already satisfied: regex>=2021.8.3 in c:\\users\\dell 5590\\codes\\upgrad_maryland_analytics\\venv\\lib\\site-packages (from nltk) (2024.5.10)\n",
      "Requirement already satisfied: numpy in c:\\users\\dell 5590\\codes\\upgrad_maryland_analytics\\venv\\lib\\site-packages (from lightgbm) (1.23.5)\n",
      "Requirement already satisfied: scipy in c:\\users\\dell 5590\\codes\\upgrad_maryland_analytics\\venv\\lib\\site-packages (from lightgbm) (1.11.2)\n"
     ]
    }
   ],
   "source": [
    "!pip install tqdm nltk lightgbm"
   ]
  },
  {
   "cell_type": "markdown",
   "id": "93dff911-14be-4a10-bcbd-b89ca7c668b8",
   "metadata": {},
   "source": [
    "### ⚠️ If you encounter NLTK Download errors, then follow the steps below to fix it.\n",
    "https://developers.cloudflare.com/1.1.1.1/setup/windows/"
   ]
  },
  {
   "cell_type": "code",
   "execution_count": 128,
   "id": "e573b854-f898-4b3e-b4bb-c2969df0b9b9",
   "metadata": {},
   "outputs": [
    {
     "name": "stderr",
     "output_type": "stream",
     "text": [
      "[nltk_data] Downloading package punkt to C:\\Users\\DELL\n",
      "[nltk_data]     5590\\AppData\\Roaming\\nltk_data...\n",
      "[nltk_data]   Package punkt is already up-to-date!\n",
      "[nltk_data] Downloading package omw-1.4 to C:\\Users\\DELL\n",
      "[nltk_data]     5590\\AppData\\Roaming\\nltk_data...\n",
      "[nltk_data]   Package omw-1.4 is already up-to-date!\n",
      "[nltk_data] Downloading package wordnet to C:\\Users\\DELL\n",
      "[nltk_data]     5590\\AppData\\Roaming\\nltk_data...\n",
      "[nltk_data]   Package wordnet is already up-to-date!\n"
     ]
    },
    {
     "data": {
      "text/plain": [
       "True"
      ]
     },
     "execution_count": 128,
     "metadata": {},
     "output_type": "execute_result"
    }
   ],
   "source": [
    "import warnings\n",
    "import string\n",
    "import re\n",
    "import socket\n",
    "import pandas as pd\n",
    "import numpy as np\n",
    "import seaborn as sns\n",
    "import matplotlib.pyplot as plt\n",
    "import nltk\n",
    "import typing\n",
    "import lightgbm as lgbm\n",
    "\n",
    "from tqdm import trange\n",
    "from nltk import tokenize\n",
    "from nltk.corpus import stopwords\n",
    "from nltk.stem import WordNetLemmatizer, PorterStemmer\n",
    "from nltk.probability import FreqDist\n",
    "from collections import Counter\n",
    "from sklearn.feature_extraction.text import CountVectorizer, TfidfVectorizer\n",
    "from sklearn.model_selection import train_test_split, GridSearchCV, cross_val_score\n",
    "from sklearn.preprocessing import LabelEncoder\n",
    "from sklearn.base import BaseEstimator, TransformerMixin\n",
    "from sklearn.pipeline import Pipeline\n",
    "from sklearn.linear_model import LogisticRegression\n",
    "from sklearn.metrics import classification_report, accuracy_score\n",
    "\n",
    "from collections.abc import Callable\n",
    "\n",
    "nltk.download('punkt')\n",
    "nltk.download('omw-1.4')\n",
    "nltk.download(\"wordnet\")"
   ]
  },
  {
   "cell_type": "code",
   "execution_count": 3,
   "id": "044d974c-5d87-4deb-9541-8ba2d7d0499f",
   "metadata": {},
   "outputs": [],
   "source": [
    "warnings.filterwarnings('ignore')\n",
    "sns.set_style('darkgrid')"
   ]
  },
  {
   "cell_type": "markdown",
   "id": "533c0458-a263-4e9b-835c-0d9d847da231",
   "metadata": {},
   "source": [
    "<hr style=\"border: 2px solid red; border-radius: 50%;\">"
   ]
  },
  {
   "cell_type": "markdown",
   "id": "7a4c7884-3578-4f83-830b-bc31bcfbbc6b",
   "metadata": {},
   "source": [
    "## Loading the Data."
   ]
  },
  {
   "cell_type": "code",
   "execution_count": 4,
   "id": "3102a886-ad1f-4d12-8810-cd1a49dded17",
   "metadata": {},
   "outputs": [],
   "source": [
    "reviews_df = pd.read_csv('reviewsdata.csv')"
   ]
  },
  {
   "cell_type": "markdown",
   "id": "fece62a6-a6bf-4e03-89ef-264fd4a1be0a",
   "metadata": {},
   "source": [
    "<hr style=\"border: 2px solid red; border-radius: 50%;\">"
   ]
  },
  {
   "cell_type": "markdown",
   "id": "1a0a8b26-9fad-481f-9337-12cd3df02e04",
   "metadata": {},
   "source": [
    "### Checking Proportion of the type of Reviews."
   ]
  },
  {
   "cell_type": "code",
   "execution_count": 5,
   "id": "ef81597f-25b1-4ae3-b028-65265b45be7d",
   "metadata": {},
   "outputs": [
    {
     "data": {
      "image/png": "[encoded data removed]",
      "text/plain": [
       "<Figure size 640x480 with 1 Axes>"
      ]
     },
     "metadata": {},
     "output_type": "display_data"
    }
   ],
   "source": [
    "plt.pie(reviews_df['Label'].value_counts(), labels=reviews_df['Label'].unique().tolist(), autopct='%1.1f%%')\n",
    "plt.show()"
   ]
  },
  {
   "cell_type": "markdown",
   "id": "7b0678e3-dd84-4751-92d4-a5c5b3801790",
   "metadata": {},
   "source": [
    "<hr style=\"border: 2px solid red; border-radius: 50%;\">"
   ]
  },
  {
   "cell_type": "markdown",
   "id": "11caa62c-46df-4b89-954f-5403fcb9f67b",
   "metadata": {},
   "source": [
    "## 1. Cleaning the Reviews.\n",
    "\n",
    "As long as we consider the global internet as the source of our Reviews, probably we have to deal with some HTML tags, break lines, special characters and other content that could be part of the dataset."
   ]
  },
  {
   "cell_type": "markdown",
   "id": "bd6a66c5-7506-4eac-9c6f-e730d770e2e6",
   "metadata": {},
   "source": [
    "\n",
    "#### 1.a. Helper function for Finding Regex Patterns."
   ]
  },
  {
   "cell_type": "code",
   "execution_count": 6,
   "id": "cb566b8e-4bc9-483a-ab03-df2c1cb909cd",
   "metadata": {},
   "outputs": [],
   "source": [
    "def find_patterns(re_pattern: str, text_list: typing.List[str]):\n",
    "    \"\"\"\n",
    "    Args:\n",
    "    ----------\n",
    "    re_pattern [type: str]: Regular expression pattern to be used on search.\n",
    "    text_list [type: list]: List with text strings.\n",
    "\n",
    "    Returns:\n",
    "    ---------\n",
    "    positions_dict: python dictionary with key-value pairs as below:\n",
    "        text_idx: [(start_pattern1, end_pattern1), (start_pattern1, end_pattern2), ..., (start_pattern_n, end_pattern_n)]\n",
    "    \"\"\"\n",
    "\n",
    "    # Compiling the ReGex passed as arg.\n",
    "    pattern = re.compile(re_pattern)\n",
    "    positions_dict = {}\n",
    "    i = 0\n",
    "    for c in text_list:\n",
    "        match_list = []\n",
    "        iterator = pattern.finditer(c)\n",
    "        for match in iterator:\n",
    "            match_list.append(match.span())\n",
    "\n",
    "        control_key = f'Text idx {i}'\n",
    "        if len(match_list) == 0:\n",
    "            continue\n",
    "        positions_dict[control_key] = match_list\n",
    "        i += 1\n",
    "\n",
    "    return positions_dict"
   ]
  },
  {
   "cell_type": "code",
   "execution_count": 7,
   "id": "608dd9ff-f3e0-45cd-bc4c-7154fe9b6974",
   "metadata": {},
   "outputs": [],
   "source": [
    "def print_step_result(text_list_before: typing.List[str], text_list_after: typing.List[str], idx_list: typing.List[int]):\n",
    "    \"\"\"\n",
    "    Args:\n",
    "    -------\n",
    "\n",
    "    text_list_before [type: List[str]]: list object with text content before transformation.\n",
    "    text_list_after [type: List[str]]: list object with text content after transformation.\n",
    "    idx_list [type: List[str]]: list object with indexes to be printed.\n",
    "    \"\"\"\n",
    "\n",
    "    # iterating over string examples.\n",
    "    i = 1\n",
    "    for idx in idx_list:\n",
    "        print(f\"--- Text {i} --- \\n\")\n",
    "        print(f\"Before: \\n{text_list_before[idx]}\\n\")\n",
    "        print(f\"After: \\n{text_list_after[idx]}\\n\")\n",
    "        i += 1"
   ]
  },
  {
   "cell_type": "markdown",
   "id": "8a6ef966-4a43-4e79-99e9-d474bc709a20",
   "metadata": {},
   "source": [
    "<hr style=\"border: 1px solid yellow; border-radius: 50%;\">"
   ]
  },
  {
   "cell_type": "markdown",
   "id": "77ef6122-babe-459a-89ce-47d043c5ec78",
   "metadata": {},
   "source": [
    "### 1.1: Breakline and Carriage Return"
   ]
  },
  {
   "cell_type": "code",
   "execution_count": 8,
   "id": "6836004d-c10c-4bfa-a715-024018a8281b",
   "metadata": {},
   "outputs": [],
   "source": [
    "def re_breakline(text_list: typing.List[str]) -> typing.List[str]:\n",
    "    \"\"\"\n",
    "    Args:\n",
    "    ---------\n",
    "    text_list [type: List[str]]: List object with text content to be cleaned.\n",
    "\n",
    "    Returns:\n",
    "    ---------\n",
    "    [type: List[str]]: Transformed / Cleaned text context.\n",
    "    \"\"\"\n",
    "\n",
    "    return [re.sub('[\\n\\r]', ' ', r) for r in text_list]"
   ]
  },
  {
   "cell_type": "code",
   "execution_count": 9,
   "id": "eea0760b-daaf-48db-99d5-aef4b93c8ba0",
   "metadata": {},
   "outputs": [
    {
     "name": "stdout",
     "output_type": "stream",
     "text": [
      "--- Text 1 --- \n",
      "\n",
      "Before: \n",
      "offers that rare combination of entertainment and education .\n",
      "\n",
      "After: \n",
      "offers that rare combination of entertainment and education .\n",
      "\n"
     ]
    }
   ],
   "source": [
    "# creating list of reviews.\n",
    "reviews = reviews_df['Review'].values.tolist()\n",
    "\n",
    "# Applying the ReGex.\n",
    "reviews_breakline = re_breakline(reviews)\n",
    "reviews_df['Review'] = reviews_breakline\n",
    "\n",
    "# verifying results\n",
    "print_step_result(reviews, reviews_breakline, idx_list=[6])"
   ]
  },
  {
   "cell_type": "markdown",
   "id": "d2c5812c-b9a5-4019-9555-2562c28a41dc",
   "metadata": {},
   "source": [
    "<hr style=\"border: 1px solid yellow; border-radius: 50%;\">"
   ]
  },
  {
   "cell_type": "markdown",
   "id": "d0c3840b-039c-4a83-8f04-31b40ac60ecd",
   "metadata": {},
   "source": [
    "### 1.2: Threads and Hyperlinks\n",
    "\n",
    "Another pattern that must be treated is sites and hyperlinks."
   ]
  },
  {
   "cell_type": "code",
   "execution_count": 10,
   "id": "e0ad4cca-1047-42d3-a50b-ac8b8be6ae35",
   "metadata": {},
   "outputs": [],
   "source": [
    "def re_hyperlinks(text_list: typing.List[str]) -> typing.List[str]:\n",
    "    \"\"\"\n",
    "    Args:\n",
    "    ----------\n",
    "    text_list: list object with text content to be prepared [type: list]\n",
    "\n",
    "    Returns:\n",
    "    ----------\n",
    "    [type: List[str]]: Transformed / Cleaned text context.\n",
    "    \"\"\"\n",
    "\n",
    "    pattern = 'http[s]?://(?:[a-zA-Z]|[0-9]|[$-_@.&+]|[!*\\(\\),]|(?:%[0-9a-fA-F][0-9a-fA-F]))+'\n",
    "    return [re.sub(pattern, ' link ', r) for r in text_list]"
   ]
  },
  {
   "cell_type": "code",
   "execution_count": 11,
   "id": "60a780c0-3849-4442-9bd5-afbbd16b2aec",
   "metadata": {},
   "outputs": [
    {
     "name": "stdout",
     "output_type": "stream",
     "text": [
      "--- Text 1 --- \n",
      "\n",
      "Before: \n",
      "an utterly compelling 'who wrote it' in which the reputation of the most famous author who ever lived comes into question .\n",
      "\n",
      "After: \n",
      "an utterly compelling 'who wrote it' in which the reputation of the most famous author who ever lived comes into question .\n",
      "\n",
      "--- Text 2 --- \n",
      "\n",
      "Before: \n",
      "emerges as something rare , an issue movie that's so honest and keenly observed that it doesn't feel like one .\n",
      "\n",
      "After: \n",
      "emerges as something rare , an issue movie that's so honest and keenly observed that it doesn't feel like one .\n",
      "\n"
     ]
    }
   ],
   "source": [
    "# Applying ReGex.\n",
    "reviews_hyperlinks = re_hyperlinks(reviews_breakline)\n",
    "reviews_df['Review'] = reviews_hyperlinks\n",
    "\n",
    "# Verifying results\n",
    "print_step_result(reviews_breakline, reviews_hyperlinks, idx_list=[15, 4])"
   ]
  },
  {
   "cell_type": "markdown",
   "id": "644b498d-c6c7-45ef-824c-6ee3839e5af6",
   "metadata": {},
   "source": [
    "<hr style=\"border: 1px solid yellow; border-radius: 50%;\">"
   ]
  },
  {
   "cell_type": "markdown",
   "id": "569dd917-1dfe-467b-967b-a03ad3a5b276",
   "metadata": {},
   "source": [
    "### 1.3: Negations.\n",
    "\n",
    "The problem statement is that when we remove the stopwords, probabily we would loose the meaning of some phrases about removing the negation words like [not, never], for example. So, because of this, maybe is a good idea to replace some negation words with some common words indicating a negation meaning."
   ]
  },
  {
   "cell_type": "code",
   "execution_count": 12,
   "id": "6bb467f1-ceba-4f4d-88e6-9bd58b42aecb",
   "metadata": {},
   "outputs": [],
   "source": [
    "negations = r\"\\b(?:never|no|nothing|nowhere|noone|none|not|havent|hasn't|hadn't|can't|couldn't|shouldn't|won't|wouldn't|don't|doesn't|didn't|isn't|aren't|ain't)\\b\"\n",
    "negation_pattern = re.compile(f\"({negations})\\s+([a-zA-Z]+)\")\n",
    "\n",
    "def re_negation(text_list: typing.List[str], pattern) -> typing.List[str]:\n",
    "    \"\"\"\n",
    "    Args:\n",
    "    -------\n",
    "    text_series [text: List[str]]: List object with text content to be transformed.\n",
    "\n",
    "    Returns:\n",
    "    ----------\n",
    "    [type: List[str]]: Transformed / Cleaned text context.\n",
    "    \"\"\"\n",
    "    return [pattern.sub(lambda match: f\"{match.group(1)}_{match.group(2)}\", review) for review in text_list]"
   ]
  },
  {
   "cell_type": "code",
   "execution_count": 13,
   "id": "1ba60153-f712-4434-bc56-9d93c6ad774b",
   "metadata": {},
   "outputs": [
    {
     "name": "stdout",
     "output_type": "stream",
     "text": [
      "--- Text 1 --- \n",
      "\n",
      "Before: \n",
      "emerges as something rare , an issue movie that's so honest and keenly observed that it doesn't feel like one .\n",
      "\n",
      "After: \n",
      "emerges as something rare , an issue movie that's so honest and keenly observed that it doesn't_feel like one .\n",
      "\n",
      "--- Text 2 --- \n",
      "\n",
      "Before: \n",
      "steers turns in a snappy screenplay that curls at the edges ; it's so clever you want to hate it . but he somehow pulls it off .\n",
      "\n",
      "After: \n",
      "steers turns in a snappy screenplay that curls at the edges ; it's so clever you want to hate it . but he somehow pulls it off .\n",
      "\n"
     ]
    }
   ],
   "source": [
    "# Applying ReGex.\n",
    "reviews_negation = re_negation(reviews_breakline, negation_pattern)\n",
    "reviews_df['Review'] = reviews_negation\n",
    "\n",
    "# Verifying results\n",
    "print_step_result(reviews_breakline, reviews_negation, idx_list=[4, 8])"
   ]
  },
  {
   "cell_type": "markdown",
   "id": "35d302f3-441e-46e3-91a4-50597ea6ef4e",
   "metadata": {},
   "source": [
    "<hr style=\"border: 1px solid yellow; border-radius: 50%;\">"
   ]
  },
  {
   "cell_type": "markdown",
   "id": "1e2ce6bd-bc54-43c1-a9db-b0b1dc37907b",
   "metadata": {},
   "source": [
    "### 1.4: Special Characters.\n",
    "\n",
    "The search for special characters is really special one because we see a lot of this pattern on online comments."
   ]
  },
  {
   "cell_type": "code",
   "execution_count": 14,
   "id": "731d8a0b-589b-4275-a70f-33c444c91856",
   "metadata": {},
   "outputs": [],
   "source": [
    "def re_special_chars(text_list):\n",
    "    \"\"\"\n",
    "    Args:\n",
    "    ----------\n",
    "    text_series: list object with text content to be prepared [type: list]\n",
    "\n",
    "    Returns:\n",
    "    ----------\n",
    "    [type: List[str]]: Transformed / Cleaned text context.\n",
    "    \"\"\"\n",
    "    \n",
    "    # Applying regex\n",
    "    return [re.sub('\\W', ' ', r) for r in text_list]"
   ]
  },
  {
   "cell_type": "code",
   "execution_count": 15,
   "id": "3eb9e2a9-f4ee-422b-8eaf-39611cee28af",
   "metadata": {},
   "outputs": [
    {
     "name": "stdout",
     "output_type": "stream",
     "text": [
      "--- Text 1 --- \n",
      "\n",
      "Before: \n",
      "emerges as something rare , an issue movie that's so honest and keenly observed that it doesn't_feel like one .\n",
      "\n",
      "After: \n",
      "emerges as something rare   an issue movie that s so honest and keenly observed that it doesn t_feel like one  \n",
      "\n",
      "--- Text 2 --- \n",
      "\n",
      "Before: \n",
      "steers turns in a snappy screenplay that curls at the edges ; it's so clever you want to hate it . but he somehow pulls it off .\n",
      "\n",
      "After: \n",
      "steers turns in a snappy screenplay that curls at the edges   it s so clever you want to hate it   but he somehow pulls it off  \n",
      "\n"
     ]
    }
   ],
   "source": [
    "# Applying RegEx\n",
    "reviews_special_chars = re_special_chars(reviews_negation)\n",
    "reviews_df['Review'] = reviews_special_chars\n",
    "\n",
    "# Verifying results\n",
    "print_step_result(reviews_negation, reviews_special_chars, idx_list=[4, 8])"
   ]
  },
  {
   "cell_type": "markdown",
   "id": "9c141eea-9175-42e6-9728-1a602d56ece5",
   "metadata": {},
   "source": [
    "<hr style=\"border: 1px solid yellow; border-radius: 50%;\">"
   ]
  },
  {
   "cell_type": "markdown",
   "id": "41b0e90c-f1bb-440c-9acc-64b2d3f8bc8f",
   "metadata": {},
   "source": [
    "### 1.5: Additional Whitespaces.\n",
    "\n",
    "After all the steps we have taken over here, it's important to clean our text eliminating unnecessary whitespaces."
   ]
  },
  {
   "cell_type": "code",
   "execution_count": 16,
   "id": "3830ebca-479d-4374-8482-5f9efc5742f3",
   "metadata": {},
   "outputs": [],
   "source": [
    "def re_whitespaces(text_list):\n",
    "    \"\"\"\n",
    "    Args:\n",
    "    ----------\n",
    "    text_series: list object with text content to be prepared [type: list]\n",
    "    \"\"\"\n",
    "    \n",
    "    # Applying regex\n",
    "    white_spaces = [re.sub('\\s+', ' ', r) for r in text_list]\n",
    "    white_spaces_end = [re.sub('[ \\t]+$', '', r) for r in white_spaces]\n",
    "    return white_spaces_end"
   ]
  },
  {
   "cell_type": "code",
   "execution_count": 17,
   "id": "0d72a6a9-ff9b-466e-8978-8e02aca204f4",
   "metadata": {},
   "outputs": [
    {
     "name": "stdout",
     "output_type": "stream",
     "text": [
      "--- Text 1 --- \n",
      "\n",
      "Before: \n",
      "emerges as something rare   an issue movie that s so honest and keenly observed that it doesn t_feel like one  \n",
      "\n",
      "After: \n",
      "emerges as something rare an issue movie that s so honest and keenly observed that it doesn t_feel like one\n",
      "\n",
      "--- Text 2 --- \n",
      "\n",
      "Before: \n",
      "steers turns in a snappy screenplay that curls at the edges   it s so clever you want to hate it   but he somehow pulls it off  \n",
      "\n",
      "After: \n",
      "steers turns in a snappy screenplay that curls at the edges it s so clever you want to hate it but he somehow pulls it off\n",
      "\n"
     ]
    }
   ],
   "source": [
    "# Applying RegEx\n",
    "reviews_whitespaces = re_whitespaces(reviews_special_chars)\n",
    "reviews_df['Review'] = reviews_whitespaces\n",
    "\n",
    "# Verifying results\n",
    "print_step_result(reviews_special_chars, reviews_whitespaces, idx_list=[4, 8])"
   ]
  },
  {
   "cell_type": "markdown",
   "id": "a55de27c-74ff-4e98-a26c-ba1d99306a51",
   "metadata": {},
   "source": [
    "<hr style=\"border: 1px solid yellow; border-radius: 50%;\">"
   ]
  },
  {
   "cell_type": "markdown",
   "id": "ab0cef0e-9eda-43a2-bf71-0b88648ea8f1",
   "metadata": {},
   "source": [
    "### 1.6: Stopwords.\n",
    "\n",
    "Removing the english stopwords."
   ]
  },
  {
   "cell_type": "code",
   "execution_count": 18,
   "id": "985e0b82-bdc0-4125-8155-d02a9a58aac3",
   "metadata": {},
   "outputs": [],
   "source": [
    "def remove_stopwords(text_list: typing.List[str]) -> typing.List[str]:\n",
    "    \"\"\"\n",
    "    Args:\n",
    "    ----------\n",
    "    text_series: list object with text content to be prepared [type: list]\n",
    "    \"\"\"\n",
    "    return [\" \".join([word for word in review.split() if word not in stopwords.words('english')]) for review in text_list]"
   ]
  },
  {
   "cell_type": "code",
   "execution_count": 19,
   "id": "35b57181-14e1-462d-bebd-ad2a4ede836b",
   "metadata": {},
   "outputs": [
    {
     "name": "stdout",
     "output_type": "stream",
     "text": [
      "--- Text 1 --- \n",
      "\n",
      "Before: \n",
      "emerges as something rare an issue movie that s so honest and keenly observed that it doesn t_feel like one\n",
      "\n",
      "After: \n",
      "emerges something rare issue movie honest keenly observed t_feel like one\n",
      "\n",
      "--- Text 2 --- \n",
      "\n",
      "Before: \n",
      "steers turns in a snappy screenplay that curls at the edges it s so clever you want to hate it but he somehow pulls it off\n",
      "\n",
      "After: \n",
      "steers turns snappy screenplay curls edges clever want hate somehow pulls\n",
      "\n"
     ]
    }
   ],
   "source": [
    "reviews_stopwords = remove_stopwords(reviews_whitespaces)\n",
    "reviews_df['Review'] = reviews_stopwords\n",
    "\n",
    "# Verifying results\n",
    "print_step_result(reviews_whitespaces, reviews_stopwords, idx_list=[4, 8])"
   ]
  },
  {
   "cell_type": "markdown",
   "id": "878cddcd-6e82-444f-9efe-1633c76cf733",
   "metadata": {},
   "source": [
    "<hr style=\"border: 2px solid red; border-radius: 50%;\">"
   ]
  },
  {
   "cell_type": "markdown",
   "id": "65076ae1-0be4-4209-b398-c572ef938173",
   "metadata": {},
   "source": [
    "## 2. Exploring the dataset."
   ]
  },
  {
   "cell_type": "markdown",
   "id": "f0d348e2-0f00-4ab6-93a6-8581170360ed",
   "metadata": {},
   "source": [
    "<hr style=\"border: 1px solid yellow; border-radius: 50%;\">"
   ]
  },
  {
   "cell_type": "markdown",
   "id": "a319dc4e-0369-4c96-97c4-09dd4b86275e",
   "metadata": {},
   "source": [
    "### 2.1: How big is the data? What is the shape of the data?"
   ]
  },
  {
   "cell_type": "code",
   "execution_count": 20,
   "id": "0fe787c9-a55a-4728-9aab-805a23b02c7c",
   "metadata": {},
   "outputs": [
    {
     "name": "stdout",
     "output_type": "stream",
     "text": [
      "The dataset consists of 10662 rows, and 2 columns\n"
     ]
    }
   ],
   "source": [
    "print(f\"The dataset consists of {reviews_df.shape[0]} rows, and {reviews_df.shape[1]} columns\")"
   ]
  },
  {
   "cell_type": "markdown",
   "id": "959ab922-5537-457d-9af0-6e6e30f21b6e",
   "metadata": {},
   "source": [
    "<hr style=\"border: 1px solid yellow; border-radius: 50%;\">"
   ]
  },
  {
   "cell_type": "markdown",
   "id": "439a74c0-dbcc-496c-81fa-5eea79bbc721",
   "metadata": {},
   "source": [
    "### 2.2: How does the data look like?"
   ]
  },
  {
   "cell_type": "code",
   "execution_count": 21,
   "id": "3e22655f-3ee9-47e3-b442-04e8c32a44f8",
   "metadata": {},
   "outputs": [
    {
     "data": {
      "text/html": [
       "<div>\n",
       "<style scoped>\n",
       "    .dataframe tbody tr th:only-of-type {\n",
       "        vertical-align: middle;\n",
       "    }\n",
       "\n",
       "    .dataframe tbody tr th {\n",
       "        vertical-align: top;\n",
       "    }\n",
       "\n",
       "    .dataframe thead th {\n",
       "        text-align: right;\n",
       "    }\n",
       "</style>\n",
       "<table border=\"1\" class=\"dataframe\">\n",
       "  <thead>\n",
       "    <tr style=\"text-align: right;\">\n",
       "      <th></th>\n",
       "      <th>Review</th>\n",
       "      <th>Label</th>\n",
       "    </tr>\n",
       "  </thead>\n",
       "  <tbody>\n",
       "    <tr>\n",
       "      <th>3258</th>\n",
       "      <td>surprisingly decent particularly tenth install...</td>\n",
       "      <td>pos</td>\n",
       "    </tr>\n",
       "    <tr>\n",
       "      <th>7540</th>\n",
       "      <td>last time saw theater full people constantly c...</td>\n",
       "      <td>neg</td>\n",
       "    </tr>\n",
       "    <tr>\n",
       "      <th>4777</th>\n",
       "      <td>fascinating examination joyous turbulent self ...</td>\n",
       "      <td>pos</td>\n",
       "    </tr>\n",
       "    <tr>\n",
       "      <th>5270</th>\n",
       "      <td>spielberg realization near future america mast...</td>\n",
       "      <td>pos</td>\n",
       "    </tr>\n",
       "    <tr>\n",
       "      <th>4924</th>\n",
       "      <td>comedy makes social commentary palatable</td>\n",
       "      <td>pos</td>\n",
       "    </tr>\n",
       "  </tbody>\n",
       "</table>\n",
       "</div>"
      ],
      "text/plain": [
       "                                                 Review Label\n",
       "3258  surprisingly decent particularly tenth install...   pos\n",
       "7540  last time saw theater full people constantly c...   neg\n",
       "4777  fascinating examination joyous turbulent self ...   pos\n",
       "5270  spielberg realization near future america mast...   pos\n",
       "4924           comedy makes social commentary palatable   pos"
      ]
     },
     "execution_count": 21,
     "metadata": {},
     "output_type": "execute_result"
    }
   ],
   "source": [
    "reviews_df.sample(5)"
   ]
  },
  {
   "cell_type": "markdown",
   "id": "4cd70f3b-ab52-47e5-a440-c4537b1ee283",
   "metadata": {},
   "source": [
    "<hr style=\"border: 1px solid yellow; border-radius: 50%;\">"
   ]
  },
  {
   "cell_type": "markdown",
   "id": "a662df94-de54-4b06-880b-489ffe79a713",
   "metadata": {},
   "source": [
    "### 2.3: What is the data type of columns?"
   ]
  },
  {
   "cell_type": "code",
   "execution_count": 22,
   "id": "a3a517ea-e516-4a3b-aaee-873fde184111",
   "metadata": {},
   "outputs": [
    {
     "name": "stdout",
     "output_type": "stream",
     "text": [
      "<class 'pandas.core.frame.DataFrame'>\n",
      "RangeIndex: 10662 entries, 0 to 10661\n",
      "Data columns (total 2 columns):\n",
      " #   Column  Non-Null Count  Dtype \n",
      "---  ------  --------------  ----- \n",
      " 0   Review  10662 non-null  object\n",
      " 1   Label   10662 non-null  object\n",
      "dtypes: object(2)\n",
      "memory usage: 166.7+ KB\n"
     ]
    }
   ],
   "source": [
    "reviews_df.info()"
   ]
  },
  {
   "cell_type": "markdown",
   "id": "a102e7e5-954a-4f4f-88d2-f9206fb626c0",
   "metadata": {},
   "source": [
    "The data consists of string types.\n",
    "Label is the categorical data."
   ]
  },
  {
   "cell_type": "markdown",
   "id": "92e1326b-c99e-4799-8716-13495b1351b1",
   "metadata": {},
   "source": [
    "<hr style=\"border: 1px solid yellow; border-radius: 50%;\">"
   ]
  },
  {
   "cell_type": "markdown",
   "id": "c6dd8ac8-300c-4bb9-bcde-30f18af3d808",
   "metadata": {},
   "source": [
    "### 2.4: Are there any missing values?"
   ]
  },
  {
   "cell_type": "code",
   "execution_count": 23,
   "id": "f44a0c2a-23aa-475d-919d-ff980ae91488",
   "metadata": {},
   "outputs": [
    {
     "data": {
      "text/plain": [
       "Review    0.0\n",
       "Label     0.0\n",
       "dtype: float64"
      ]
     },
     "execution_count": 23,
     "metadata": {},
     "output_type": "execute_result"
    }
   ],
   "source": [
    "(reviews_df.isnull().sum() / reviews_df.shape[0]) * 100"
   ]
  },
  {
   "cell_type": "markdown",
   "id": "25d0cdc9-5a53-49e8-8ef6-b012c1b71a27",
   "metadata": {},
   "source": [
    "There are no missing values in the dataset"
   ]
  },
  {
   "cell_type": "markdown",
   "id": "18fc3dad-e7f5-4508-9ead-f9eacd8a4200",
   "metadata": {},
   "source": [
    "<hr style=\"border: 1px solid yellow; border-radius: 50%;\">"
   ]
  },
  {
   "cell_type": "markdown",
   "id": "938d2060-251c-45e5-8120-0a6e44bfa907",
   "metadata": {},
   "source": [
    "### 2.5: Counts and Length of the Reviews\n",
    "We will be checking the:\n",
    "1. Character Count.\n",
    "2. Word Count.\n",
    "3. Mean Word Length.\n",
    "4. Mean Sentence Length."
   ]
  },
  {
   "cell_type": "markdown",
   "id": "a831b64b-ef3f-4392-8bd8-506d1ec2e02d",
   "metadata": {},
   "source": [
    "##### Copy of Original dataset for Exploration."
   ]
  },
  {
   "cell_type": "code",
   "execution_count": 24,
   "id": "1843f603-fc29-46bf-ae2e-d231192d2d64",
   "metadata": {},
   "outputs": [],
   "source": [
    "eda_df = reviews_df.copy()"
   ]
  },
  {
   "cell_type": "markdown",
   "id": "b0e08c0b-f02f-436d-b68c-3f56c74c5964",
   "metadata": {},
   "source": [
    "<hr style=\"border: 1px dotted purple; border-radius: 50%;\">"
   ]
  },
  {
   "cell_type": "markdown",
   "id": "d09e9901-548f-4d67-be18-c87a16f3a316",
   "metadata": {},
   "source": [
    "#### 2.5.1: Length of reviews."
   ]
  },
  {
   "cell_type": "code",
   "execution_count": 25,
   "id": "58ba1e35-cdee-46a7-b4fb-4be046c70355",
   "metadata": {},
   "outputs": [
    {
     "name": "stdout",
     "output_type": "stream",
     "text": [
      "Length of a sample review: 108\n"
     ]
    }
   ],
   "source": [
    "length = len(eda_df.sample(1)['Review'].to_list()[0])\n",
    "print(f\"Length of a sample review: {length}\")"
   ]
  },
  {
   "cell_type": "code",
   "execution_count": 26,
   "id": "c4f4f004-a978-4cdb-a4e0-8335d2cdc58e",
   "metadata": {},
   "outputs": [],
   "source": [
    "eda_df['Length'] = eda_df['Review'].str.len()"
   ]
  },
  {
   "cell_type": "code",
   "execution_count": 27,
   "id": "339c16a1-be3b-4a84-83ec-bc95698d0e20",
   "metadata": {},
   "outputs": [
    {
     "data": {
      "text/html": [
       "<div>\n",
       "<style scoped>\n",
       "    .dataframe tbody tr th:only-of-type {\n",
       "        vertical-align: middle;\n",
       "    }\n",
       "\n",
       "    .dataframe tbody tr th {\n",
       "        vertical-align: top;\n",
       "    }\n",
       "\n",
       "    .dataframe thead th {\n",
       "        text-align: right;\n",
       "    }\n",
       "</style>\n",
       "<table border=\"1\" class=\"dataframe\">\n",
       "  <thead>\n",
       "    <tr style=\"text-align: right;\">\n",
       "      <th></th>\n",
       "      <th>Review</th>\n",
       "      <th>Label</th>\n",
       "      <th>Length</th>\n",
       "    </tr>\n",
       "  </thead>\n",
       "  <tbody>\n",
       "    <tr>\n",
       "      <th>3192</th>\n",
       "      <td>may sound like mere disease week tv movie song...</td>\n",
       "      <td>pos</td>\n",
       "      <td>126</td>\n",
       "    </tr>\n",
       "    <tr>\n",
       "      <th>3667</th>\n",
       "      <td>much lady duke quiet decisive moments members ...</td>\n",
       "      <td>pos</td>\n",
       "      <td>93</td>\n",
       "    </tr>\n",
       "    <tr>\n",
       "      <th>4736</th>\n",
       "      <td>bodice ripper intellectuals</td>\n",
       "      <td>pos</td>\n",
       "      <td>27</td>\n",
       "    </tr>\n",
       "    <tr>\n",
       "      <th>305</th>\n",
       "      <td>could say slow times could say characters act ...</td>\n",
       "      <td>pos</td>\n",
       "      <td>102</td>\n",
       "    </tr>\n",
       "    <tr>\n",
       "      <th>4114</th>\n",
       "      <td>movie best work us second helpings love romanc...</td>\n",
       "      <td>pos</td>\n",
       "      <td>154</td>\n",
       "    </tr>\n",
       "    <tr>\n",
       "      <th>9576</th>\n",
       "      <td>superior plotline t_quite enough drag along de...</td>\n",
       "      <td>neg</td>\n",
       "      <td>61</td>\n",
       "    </tr>\n",
       "    <tr>\n",
       "      <th>4130</th>\n",
       "      <td>red dragon worthy place alongside hannibal mov...</td>\n",
       "      <td>pos</td>\n",
       "      <td>95</td>\n",
       "    </tr>\n",
       "    <tr>\n",
       "      <th>33</th>\n",
       "      <td>way effectively teach kids dangers drugs think...</td>\n",
       "      <td>pos</td>\n",
       "      <td>87</td>\n",
       "    </tr>\n",
       "    <tr>\n",
       "      <th>8570</th>\n",
       "      <td>broomfield style journalism hardly journalism ...</td>\n",
       "      <td>neg</td>\n",
       "      <td>87</td>\n",
       "    </tr>\n",
       "    <tr>\n",
       "      <th>9850</th>\n",
       "      <td>wishy washy</td>\n",
       "      <td>neg</td>\n",
       "      <td>11</td>\n",
       "    </tr>\n",
       "  </tbody>\n",
       "</table>\n",
       "</div>"
      ],
      "text/plain": [
       "                                                 Review Label  Length\n",
       "3192  may sound like mere disease week tv movie song...   pos     126\n",
       "3667  much lady duke quiet decisive moments members ...   pos      93\n",
       "4736                        bodice ripper intellectuals   pos      27\n",
       "305   could say slow times could say characters act ...   pos     102\n",
       "4114  movie best work us second helpings love romanc...   pos     154\n",
       "9576  superior plotline t_quite enough drag along de...   neg      61\n",
       "4130  red dragon worthy place alongside hannibal mov...   pos      95\n",
       "33    way effectively teach kids dangers drugs think...   pos      87\n",
       "8570  broomfield style journalism hardly journalism ...   neg      87\n",
       "9850                                        wishy washy   neg      11"
      ]
     },
     "execution_count": 27,
     "metadata": {},
     "output_type": "execute_result"
    }
   ],
   "source": [
    "eda_df.sample(10)"
   ]
  },
  {
   "cell_type": "markdown",
   "id": "06145625-9bdf-4a8b-9d96-df3c6386744c",
   "metadata": {},
   "source": [
    "<hr style=\"border: 1px dotted purple; border-radius: 50%;\">"
   ]
  },
  {
   "cell_type": "markdown",
   "id": "3d4cdca2-4189-4850-bbeb-5b6172925b69",
   "metadata": {},
   "source": [
    "#### 2.5.2: Word Count: Number of words in a review."
   ]
  },
  {
   "cell_type": "code",
   "execution_count": 28,
   "id": "1a7f26a7-c107-4c8d-a68e-f7abfbb1c6a3",
   "metadata": {},
   "outputs": [
    {
     "name": "stdout",
     "output_type": "stream",
     "text": [
      "Word count in a sample review: 19\n"
     ]
    }
   ],
   "source": [
    "word_count = eda_df['Review'][0].split()\n",
    "print(f'Word count in a sample review: {len(word_count)}')"
   ]
  },
  {
   "cell_type": "code",
   "execution_count": 29,
   "id": "a8bc4570-aba8-45ac-accb-c70d9bea014c",
   "metadata": {},
   "outputs": [],
   "source": [
    "def get_word_count(review: str) -> int:\n",
    "    review_list = review.split()\n",
    "    return len(review_list)"
   ]
  },
  {
   "cell_type": "code",
   "execution_count": 30,
   "id": "f49bc66f-8848-4c04-9807-086216643161",
   "metadata": {},
   "outputs": [],
   "source": [
    "eda_df['Word_count'] = eda_df['Review'].apply(get_word_count)"
   ]
  },
  {
   "cell_type": "code",
   "execution_count": 31,
   "id": "1af6dd56-f1aa-4d32-a2e8-a95a8061c860",
   "metadata": {},
   "outputs": [
    {
     "data": {
      "text/html": [
       "<div>\n",
       "<style scoped>\n",
       "    .dataframe tbody tr th:only-of-type {\n",
       "        vertical-align: middle;\n",
       "    }\n",
       "\n",
       "    .dataframe tbody tr th {\n",
       "        vertical-align: top;\n",
       "    }\n",
       "\n",
       "    .dataframe thead th {\n",
       "        text-align: right;\n",
       "    }\n",
       "</style>\n",
       "<table border=\"1\" class=\"dataframe\">\n",
       "  <thead>\n",
       "    <tr style=\"text-align: right;\">\n",
       "      <th></th>\n",
       "      <th>Review</th>\n",
       "      <th>Label</th>\n",
       "      <th>Length</th>\n",
       "      <th>Word_count</th>\n",
       "    </tr>\n",
       "  </thead>\n",
       "  <tbody>\n",
       "    <tr>\n",
       "      <th>7094</th>\n",
       "      <td>stealing harvard aspires comedic grand larceny...</td>\n",
       "      <td>neg</td>\n",
       "      <td>93</td>\n",
       "      <td>12</td>\n",
       "    </tr>\n",
       "    <tr>\n",
       "      <th>3330</th>\n",
       "      <td>charm revolution os rather way introduces new ...</td>\n",
       "      <td>pos</td>\n",
       "      <td>84</td>\n",
       "      <td>12</td>\n",
       "    </tr>\n",
       "    <tr>\n",
       "      <th>1408</th>\n",
       "      <td>not_since japanese filmmaker akira kurosawa ra...</td>\n",
       "      <td>pos</td>\n",
       "      <td>106</td>\n",
       "      <td>13</td>\n",
       "    </tr>\n",
       "    <tr>\n",
       "      <th>2218</th>\n",
       "      <td>angela gheorghiu famous prima donna floria tos...</td>\n",
       "      <td>pos</td>\n",
       "      <td>169</td>\n",
       "      <td>22</td>\n",
       "    </tr>\n",
       "    <tr>\n",
       "      <th>3004</th>\n",
       "      <td>bloody sunday lacks clarity makes great fiery ...</td>\n",
       "      <td>pos</td>\n",
       "      <td>53</td>\n",
       "      <td>8</td>\n",
       "    </tr>\n",
       "    <tr>\n",
       "      <th>7025</th>\n",
       "      <td>effort suspect not_to offend appearing either ...</td>\n",
       "      <td>neg</td>\n",
       "      <td>86</td>\n",
       "      <td>11</td>\n",
       "    </tr>\n",
       "    <tr>\n",
       "      <th>5889</th>\n",
       "      <td>tuxedo bad friend david cross would call hungr...</td>\n",
       "      <td>neg</td>\n",
       "      <td>64</td>\n",
       "      <td>11</td>\n",
       "    </tr>\n",
       "    <tr>\n",
       "      <th>6978</th>\n",
       "      <td>not_exactly bees knees</td>\n",
       "      <td>neg</td>\n",
       "      <td>22</td>\n",
       "      <td>3</td>\n",
       "    </tr>\n",
       "    <tr>\n",
       "      <th>2817</th>\n",
       "      <td>salma goes native never_been better colorful b...</td>\n",
       "      <td>pos</td>\n",
       "      <td>65</td>\n",
       "      <td>10</td>\n",
       "    </tr>\n",
       "    <tr>\n",
       "      <th>6393</th>\n",
       "      <td>nothing_more widget cranked assembly line see ...</td>\n",
       "      <td>neg</td>\n",
       "      <td>141</td>\n",
       "      <td>20</td>\n",
       "    </tr>\n",
       "  </tbody>\n",
       "</table>\n",
       "</div>"
      ],
      "text/plain": [
       "                                                 Review Label  Length  \\\n",
       "7094  stealing harvard aspires comedic grand larceny...   neg      93   \n",
       "3330  charm revolution os rather way introduces new ...   pos      84   \n",
       "1408  not_since japanese filmmaker akira kurosawa ra...   pos     106   \n",
       "2218  angela gheorghiu famous prima donna floria tos...   pos     169   \n",
       "3004  bloody sunday lacks clarity makes great fiery ...   pos      53   \n",
       "7025  effort suspect not_to offend appearing either ...   neg      86   \n",
       "5889  tuxedo bad friend david cross would call hungr...   neg      64   \n",
       "6978                             not_exactly bees knees   neg      22   \n",
       "2817  salma goes native never_been better colorful b...   pos      65   \n",
       "6393  nothing_more widget cranked assembly line see ...   neg     141   \n",
       "\n",
       "      Word_count  \n",
       "7094          12  \n",
       "3330          12  \n",
       "1408          13  \n",
       "2218          22  \n",
       "3004           8  \n",
       "7025          11  \n",
       "5889          11  \n",
       "6978           3  \n",
       "2817          10  \n",
       "6393          20  "
      ]
     },
     "execution_count": 31,
     "metadata": {},
     "output_type": "execute_result"
    }
   ],
   "source": [
    "eda_df.sample(10)"
   ]
  },
  {
   "cell_type": "markdown",
   "id": "78e53685-c417-4589-a530-88f0c203bdef",
   "metadata": {},
   "source": [
    "<hr style=\"border: 1px dotted purple; border-radius: 50%;\">"
   ]
  },
  {
   "cell_type": "markdown",
   "id": "94c032af-04f7-4435-b688-525541bb7727",
   "metadata": {},
   "source": [
    "#### 2.5.3: Mean word length: Average Length of words in the review."
   ]
  },
  {
   "cell_type": "code",
   "execution_count": 32,
   "id": "d911ffe2-e896-4a27-8dd9-7d3bc6a2e3f3",
   "metadata": {},
   "outputs": [],
   "source": [
    "eda_df['mean_word_length'] = eda_df['Review'].map(lambda rev: np.mean([len(word) for word in rev.split()]))"
   ]
  },
  {
   "cell_type": "code",
   "execution_count": 33,
   "id": "03216767-b14e-4d85-9a72-1908179e6c51",
   "metadata": {},
   "outputs": [
    {
     "data": {
      "text/html": [
       "<div>\n",
       "<style scoped>\n",
       "    .dataframe tbody tr th:only-of-type {\n",
       "        vertical-align: middle;\n",
       "    }\n",
       "\n",
       "    .dataframe tbody tr th {\n",
       "        vertical-align: top;\n",
       "    }\n",
       "\n",
       "    .dataframe thead th {\n",
       "        text-align: right;\n",
       "    }\n",
       "</style>\n",
       "<table border=\"1\" class=\"dataframe\">\n",
       "  <thead>\n",
       "    <tr style=\"text-align: right;\">\n",
       "      <th></th>\n",
       "      <th>Review</th>\n",
       "      <th>Label</th>\n",
       "      <th>Length</th>\n",
       "      <th>Word_count</th>\n",
       "      <th>mean_word_length</th>\n",
       "    </tr>\n",
       "  </thead>\n",
       "  <tbody>\n",
       "    <tr>\n",
       "      <th>774</th>\n",
       "      <td>amazing incendiary movie dives straight rough ...</td>\n",
       "      <td>pos</td>\n",
       "      <td>66</td>\n",
       "      <td>8</td>\n",
       "      <td>7.375000</td>\n",
       "    </tr>\n",
       "    <tr>\n",
       "      <th>7153</th>\n",
       "      <td>overemphatic would wacky ultimately tedious se...</td>\n",
       "      <td>neg</td>\n",
       "      <td>53</td>\n",
       "      <td>7</td>\n",
       "      <td>6.714286</td>\n",
       "    </tr>\n",
       "    <tr>\n",
       "      <th>3407</th>\n",
       "      <td>unusual food thought cinema entertaining instr...</td>\n",
       "      <td>pos</td>\n",
       "      <td>52</td>\n",
       "      <td>6</td>\n",
       "      <td>7.833333</td>\n",
       "    </tr>\n",
       "    <tr>\n",
       "      <th>5394</th>\n",
       "      <td>characters never_more sketches leaves true emo...</td>\n",
       "      <td>neg</td>\n",
       "      <td>98</td>\n",
       "      <td>10</td>\n",
       "      <td>8.900000</td>\n",
       "    </tr>\n",
       "    <tr>\n",
       "      <th>5810</th>\n",
       "      <td>mechanical action comedy whose seeming purpose...</td>\n",
       "      <td>neg</td>\n",
       "      <td>100</td>\n",
       "      <td>13</td>\n",
       "      <td>6.769231</td>\n",
       "    </tr>\n",
       "    <tr>\n",
       "      <th>10123</th>\n",
       "      <td>precise nature matthew predicament finally com...</td>\n",
       "      <td>neg</td>\n",
       "      <td>91</td>\n",
       "      <td>12</td>\n",
       "      <td>6.666667</td>\n",
       "    </tr>\n",
       "    <tr>\n",
       "      <th>8148</th>\n",
       "      <td>apallingly absurd chemistry lack thereof newto...</td>\n",
       "      <td>neg</td>\n",
       "      <td>106</td>\n",
       "      <td>16</td>\n",
       "      <td>5.687500</td>\n",
       "    </tr>\n",
       "    <tr>\n",
       "      <th>4405</th>\n",
       "      <td>schmidt nicholson goofy heartfelt mesmerizing ...</td>\n",
       "      <td>pos</td>\n",
       "      <td>55</td>\n",
       "      <td>7</td>\n",
       "      <td>7.000000</td>\n",
       "    </tr>\n",
       "    <tr>\n",
       "      <th>6350</th>\n",
       "      <td>bond film goes beaten path not_necessarily better</td>\n",
       "      <td>neg</td>\n",
       "      <td>49</td>\n",
       "      <td>7</td>\n",
       "      <td>6.142857</td>\n",
       "    </tr>\n",
       "    <tr>\n",
       "      <th>8228</th>\n",
       "      <td>film two mismatched buddies crystal de niro sh...</td>\n",
       "      <td>neg</td>\n",
       "      <td>88</td>\n",
       "      <td>14</td>\n",
       "      <td>5.357143</td>\n",
       "    </tr>\n",
       "  </tbody>\n",
       "</table>\n",
       "</div>"
      ],
      "text/plain": [
       "                                                  Review Label  Length  \\\n",
       "774    amazing incendiary movie dives straight rough ...   pos      66   \n",
       "7153   overemphatic would wacky ultimately tedious se...   neg      53   \n",
       "3407   unusual food thought cinema entertaining instr...   pos      52   \n",
       "5394   characters never_more sketches leaves true emo...   neg      98   \n",
       "5810   mechanical action comedy whose seeming purpose...   neg     100   \n",
       "10123  precise nature matthew predicament finally com...   neg      91   \n",
       "8148   apallingly absurd chemistry lack thereof newto...   neg     106   \n",
       "4405   schmidt nicholson goofy heartfelt mesmerizing ...   pos      55   \n",
       "6350   bond film goes beaten path not_necessarily better   neg      49   \n",
       "8228   film two mismatched buddies crystal de niro sh...   neg      88   \n",
       "\n",
       "       Word_count  mean_word_length  \n",
       "774             8          7.375000  \n",
       "7153            7          6.714286  \n",
       "3407            6          7.833333  \n",
       "5394           10          8.900000  \n",
       "5810           13          6.769231  \n",
       "10123          12          6.666667  \n",
       "8148           16          5.687500  \n",
       "4405            7          7.000000  \n",
       "6350            7          6.142857  \n",
       "8228           14          5.357143  "
      ]
     },
     "execution_count": 33,
     "metadata": {},
     "output_type": "execute_result"
    }
   ],
   "source": [
    "eda_df.sample(10)"
   ]
  },
  {
   "cell_type": "markdown",
   "id": "b9afeb0d-baae-414a-af02-a0a12525815d",
   "metadata": {},
   "source": [
    "<hr style=\"border: 1px dotted purple; border-radius: 50%;\">"
   ]
  },
  {
   "cell_type": "markdown",
   "id": "253f6593-3647-4c84-8e43-7e55ebf2c9dc",
   "metadata": {},
   "source": [
    "#### 2.5.4: Mean sentence length: Average Length of sentences in the review."
   ]
  },
  {
   "cell_type": "code",
   "execution_count": 34,
   "id": "bd257437-e68a-4769-bb24-bb67ef75aca0",
   "metadata": {},
   "outputs": [
    {
     "data": {
      "text/plain": [
       "123.0"
      ]
     },
     "execution_count": 34,
     "metadata": {},
     "output_type": "execute_result"
    }
   ],
   "source": [
    "np.mean([len(sent) for sent in tokenize.sent_tokenize(eda_df['Review'][0])])"
   ]
  },
  {
   "cell_type": "code",
   "execution_count": 35,
   "id": "fcca3f5b-8cdf-43ec-9e2a-44f9e1f04ffb",
   "metadata": {},
   "outputs": [],
   "source": [
    "eda_df['mean_sent_length'] = eda_df['Review'].map(lambda rev: np.mean([len(sent) for sent in tokenize.sent_tokenize(rev)]))"
   ]
  },
  {
   "cell_type": "code",
   "execution_count": 36,
   "id": "a6d6288a-7b0b-492b-84de-58d99c981eff",
   "metadata": {},
   "outputs": [
    {
     "data": {
      "text/html": [
       "<div>\n",
       "<style scoped>\n",
       "    .dataframe tbody tr th:only-of-type {\n",
       "        vertical-align: middle;\n",
       "    }\n",
       "\n",
       "    .dataframe tbody tr th {\n",
       "        vertical-align: top;\n",
       "    }\n",
       "\n",
       "    .dataframe thead th {\n",
       "        text-align: right;\n",
       "    }\n",
       "</style>\n",
       "<table border=\"1\" class=\"dataframe\">\n",
       "  <thead>\n",
       "    <tr style=\"text-align: right;\">\n",
       "      <th></th>\n",
       "      <th>Review</th>\n",
       "      <th>Label</th>\n",
       "      <th>Length</th>\n",
       "      <th>Word_count</th>\n",
       "      <th>mean_word_length</th>\n",
       "      <th>mean_sent_length</th>\n",
       "    </tr>\n",
       "  </thead>\n",
       "  <tbody>\n",
       "    <tr>\n",
       "      <th>5162</th>\n",
       "      <td>realistically terrifying movie puts another no...</td>\n",
       "      <td>pos</td>\n",
       "      <td>83</td>\n",
       "      <td>12</td>\n",
       "      <td>6.000000</td>\n",
       "      <td>83.0</td>\n",
       "    </tr>\n",
       "    <tr>\n",
       "      <th>10116</th>\n",
       "      <td>24 unders looking caddyshack adopt generationa...</td>\n",
       "      <td>neg</td>\n",
       "      <td>73</td>\n",
       "      <td>10</td>\n",
       "      <td>6.400000</td>\n",
       "      <td>73.0</td>\n",
       "    </tr>\n",
       "    <tr>\n",
       "      <th>2670</th>\n",
       "      <td>shows us slice life different yet instantly re...</td>\n",
       "      <td>pos</td>\n",
       "      <td>56</td>\n",
       "      <td>8</td>\n",
       "      <td>6.125000</td>\n",
       "      <td>56.0</td>\n",
       "    </tr>\n",
       "    <tr>\n",
       "      <th>9958</th>\n",
       "      <td>rather leaden dull</td>\n",
       "      <td>neg</td>\n",
       "      <td>18</td>\n",
       "      <td>3</td>\n",
       "      <td>5.333333</td>\n",
       "      <td>18.0</td>\n",
       "    </tr>\n",
       "    <tr>\n",
       "      <th>10449</th>\n",
       "      <td>upside unpleasantness given labor day weekend ...</td>\n",
       "      <td>neg</td>\n",
       "      <td>87</td>\n",
       "      <td>12</td>\n",
       "      <td>6.333333</td>\n",
       "      <td>87.0</td>\n",
       "    </tr>\n",
       "    <tr>\n",
       "      <th>4036</th>\n",
       "      <td>get image big papa spanning history rather sus...</td>\n",
       "      <td>pos</td>\n",
       "      <td>53</td>\n",
       "      <td>8</td>\n",
       "      <td>5.750000</td>\n",
       "      <td>53.0</td>\n",
       "    </tr>\n",
       "    <tr>\n",
       "      <th>1978</th>\n",
       "      <td>romantic comedy plotline straight ages cindere...</td>\n",
       "      <td>pos</td>\n",
       "      <td>110</td>\n",
       "      <td>15</td>\n",
       "      <td>6.400000</td>\n",
       "      <td>110.0</td>\n",
       "    </tr>\n",
       "    <tr>\n",
       "      <th>3763</th>\n",
       "      <td>film reminds vastly improved germanic version ...</td>\n",
       "      <td>pos</td>\n",
       "      <td>166</td>\n",
       "      <td>23</td>\n",
       "      <td>6.260870</td>\n",
       "      <td>166.0</td>\n",
       "    </tr>\n",
       "    <tr>\n",
       "      <th>8201</th>\n",
       "      <td>wish could say thank god friday truth matter glad</td>\n",
       "      <td>neg</td>\n",
       "      <td>49</td>\n",
       "      <td>9</td>\n",
       "      <td>4.555556</td>\n",
       "      <td>49.0</td>\n",
       "    </tr>\n",
       "    <tr>\n",
       "      <th>1104</th>\n",
       "      <td>makes even claustrophobic board quarters seem fun</td>\n",
       "      <td>pos</td>\n",
       "      <td>49</td>\n",
       "      <td>7</td>\n",
       "      <td>6.142857</td>\n",
       "      <td>49.0</td>\n",
       "    </tr>\n",
       "  </tbody>\n",
       "</table>\n",
       "</div>"
      ],
      "text/plain": [
       "                                                  Review Label  Length  \\\n",
       "5162   realistically terrifying movie puts another no...   pos      83   \n",
       "10116  24 unders looking caddyshack adopt generationa...   neg      73   \n",
       "2670   shows us slice life different yet instantly re...   pos      56   \n",
       "9958                                  rather leaden dull   neg      18   \n",
       "10449  upside unpleasantness given labor day weekend ...   neg      87   \n",
       "4036   get image big papa spanning history rather sus...   pos      53   \n",
       "1978   romantic comedy plotline straight ages cindere...   pos     110   \n",
       "3763   film reminds vastly improved germanic version ...   pos     166   \n",
       "8201   wish could say thank god friday truth matter glad   neg      49   \n",
       "1104   makes even claustrophobic board quarters seem fun   pos      49   \n",
       "\n",
       "       Word_count  mean_word_length  mean_sent_length  \n",
       "5162           12          6.000000              83.0  \n",
       "10116          10          6.400000              73.0  \n",
       "2670            8          6.125000              56.0  \n",
       "9958            3          5.333333              18.0  \n",
       "10449          12          6.333333              87.0  \n",
       "4036            8          5.750000              53.0  \n",
       "1978           15          6.400000             110.0  \n",
       "3763           23          6.260870             166.0  \n",
       "8201            9          4.555556              49.0  \n",
       "1104            7          6.142857              49.0  "
      ]
     },
     "execution_count": 36,
     "metadata": {},
     "output_type": "execute_result"
    }
   ],
   "source": [
    "eda_df.sample(10)"
   ]
  },
  {
   "cell_type": "markdown",
   "id": "2456754d-0bb4-46b7-8645-38c073a082f9",
   "metadata": {},
   "source": [
    "<hr style=\"border: 1px dotted purple; border-radius: 50%;\">"
   ]
  },
  {
   "cell_type": "markdown",
   "id": "8d1d9e41-66e8-4a4c-b0bc-a0a3f00ff888",
   "metadata": {},
   "source": [
    "#### 2.5.5: Visualizing the Data."
   ]
  },
  {
   "cell_type": "code",
   "execution_count": 37,
   "id": "c66b1ec7-f245-41be-bb8c-7e03e16a2675",
   "metadata": {},
   "outputs": [
    {
     "data": {
      "image/png": "[encoded data removed]",
      "text/plain": [
       "<Figure size 1000x1000 with 6 Axes>"
      ]
     },
     "metadata": {},
     "output_type": "display_data"
    }
   ],
   "source": [
    "fig, ax = plt.subplots(3, 2, figsize=(10, 10), layout='tight')\n",
    "fig.suptitle(\"Central tendancy of the Reviews.\", fontsize=18)\n",
    "\n",
    "len_box_plot = sns.boxplot(y=eda_df['Length'], hue=eda_df['Label'], ax=ax[0][0])\n",
    "ax[0][0].set_title(\"Range of Word Length.\")\n",
    "\n",
    "\n",
    "len_line_plot = sns.kdeplot(x=eda_df['Length'], hue=eda_df['Label'], ax=ax[0][1])\n",
    "ax[0][1].set_title(\"Distribution of word length.\")\n",
    "\n",
    "\n",
    "mean_word_count_box_plot = sns.boxplot(y=eda_df['mean_word_length'], hue=eda_df['Label'], ax=ax[1][0])\n",
    "ax[1][0].set_title(\"Range of Mean Word Length.\")\n",
    "\n",
    "\n",
    "mean_word_count_line_plot = sns.kdeplot(x=eda_df['mean_word_length'], hue=eda_df['Label'], ax=ax[1][1])\n",
    "ax[1][1].set_title(\"Distribution of Mean Word Length.\")\n",
    "\n",
    "\n",
    "mean_sent_count_box_plot = sns.boxplot(y=eda_df['mean_sent_length'], hue=eda_df['Label'], ax=ax[2][0])\n",
    "ax[2][0].set_title(\"Range of Mean Sentence Length.\")\n",
    "\n",
    "\n",
    "mean_sent_count_line_plot = sns.kdeplot(x=eda_df['mean_sent_length'], hue=eda_df['Label'], ax=ax[2][1])\n",
    "ax[2][1].set_title(\"Distribution of Mean Sentence Length.\")\n",
    "\n",
    "\n",
    "\n",
    "plt.show()"
   ]
  },
  {
   "cell_type": "markdown",
   "id": "06f05276-cfa6-4684-8f24-4ebcedb817d3",
   "metadata": {},
   "source": [
    "<hr style=\"border: 2px solid red; border-radius: 50%;\">"
   ]
  },
  {
   "cell_type": "markdown",
   "id": "38f2ab45-d815-4bc9-83eb-91907f90a57a",
   "metadata": {},
   "source": [
    "## 3: Term Frequency Analysis\n",
    "\n",
    "Examining the most frequently occuring words."
   ]
  },
  {
   "cell_type": "code",
   "execution_count": 38,
   "id": "4b1ea87f-af1a-44f0-93ab-927460db85de",
   "metadata": {},
   "outputs": [],
   "source": [
    "term_freq_df = reviews_df.copy()"
   ]
  },
  {
   "cell_type": "markdown",
   "id": "56fb4a9e-47e0-4ed6-9bd2-1f2fb333b4d8",
   "metadata": {},
   "source": [
    "<hr style=\"border: 1px solid yellow; border-radius: 50%;\">"
   ]
  },
  {
   "cell_type": "markdown",
   "id": "20345427-c33e-4a58-a54f-0fde0dd2eed9",
   "metadata": {},
   "source": [
    "#### 3.1: Corpus of the sentence.\n",
    "\n",
    "Transforming the reviews to list to get corpus of the data."
   ]
  },
  {
   "cell_type": "code",
   "execution_count": 39,
   "id": "286eae12-abce-4834-9e91-2085bbef05ca",
   "metadata": {},
   "outputs": [],
   "source": [
    "term_freq_df['Review_lists'] = term_freq_df['Review'].apply(lambda x: x.split())"
   ]
  },
  {
   "cell_type": "code",
   "execution_count": 40,
   "id": "287a625a-0978-46a4-9986-2985df94e3af",
   "metadata": {},
   "outputs": [
    {
     "data": {
      "text/html": [
       "<div>\n",
       "<style scoped>\n",
       "    .dataframe tbody tr th:only-of-type {\n",
       "        vertical-align: middle;\n",
       "    }\n",
       "\n",
       "    .dataframe tbody tr th {\n",
       "        vertical-align: top;\n",
       "    }\n",
       "\n",
       "    .dataframe thead th {\n",
       "        text-align: right;\n",
       "    }\n",
       "</style>\n",
       "<table border=\"1\" class=\"dataframe\">\n",
       "  <thead>\n",
       "    <tr style=\"text-align: right;\">\n",
       "      <th></th>\n",
       "      <th>Review</th>\n",
       "      <th>Label</th>\n",
       "      <th>Review_lists</th>\n",
       "    </tr>\n",
       "  </thead>\n",
       "  <tbody>\n",
       "    <tr>\n",
       "      <th>7767</th>\n",
       "      <td>happened pluto nash ever get made</td>\n",
       "      <td>neg</td>\n",
       "      <td>[happened, pluto, nash, ever, get, made]</td>\n",
       "    </tr>\n",
       "    <tr>\n",
       "      <th>4411</th>\n",
       "      <td>compelling mix trial movie escape movie unexpe...</td>\n",
       "      <td>pos</td>\n",
       "      <td>[compelling, mix, trial, movie, escape, movie,...</td>\n",
       "    </tr>\n",
       "    <tr>\n",
       "      <th>3192</th>\n",
       "      <td>may sound like mere disease week tv movie song...</td>\n",
       "      <td>pos</td>\n",
       "      <td>[may, sound, like, mere, disease, week, tv, mo...</td>\n",
       "    </tr>\n",
       "    <tr>\n",
       "      <th>1346</th>\n",
       "      <td>no_screen fantasy adventure recent memory show...</td>\n",
       "      <td>pos</td>\n",
       "      <td>[no_screen, fantasy, adventure, recent, memory...</td>\n",
       "    </tr>\n",
       "    <tr>\n",
       "      <th>9953</th>\n",
       "      <td>visually sumptuous intellectually stultifying</td>\n",
       "      <td>neg</td>\n",
       "      <td>[visually, sumptuous, intellectually, stultify...</td>\n",
       "    </tr>\n",
       "    <tr>\n",
       "      <th>3679</th>\n",
       "      <td>enthusiastically invokes percussion rhythm bra...</td>\n",
       "      <td>pos</td>\n",
       "      <td>[enthusiastically, invokes, percussion, rhythm...</td>\n",
       "    </tr>\n",
       "    <tr>\n",
       "      <th>8847</th>\n",
       "      <td>filmmakers needed emphasis storytelling less g...</td>\n",
       "      <td>neg</td>\n",
       "      <td>[filmmakers, needed, emphasis, storytelling, l...</td>\n",
       "    </tr>\n",
       "    <tr>\n",
       "      <th>10404</th>\n",
       "      <td>enigmatic film clever good conundrum not_worth...</td>\n",
       "      <td>neg</td>\n",
       "      <td>[enigmatic, film, clever, good, conundrum, not...</td>\n",
       "    </tr>\n",
       "    <tr>\n",
       "      <th>10138</th>\n",
       "      <td>reworking die hard cliffhanger nowhere_near ex...</td>\n",
       "      <td>neg</td>\n",
       "      <td>[reworking, die, hard, cliffhanger, nowhere_ne...</td>\n",
       "    </tr>\n",
       "    <tr>\n",
       "      <th>6941</th>\n",
       "      <td>hill learned new tricks tricks alone not_enoug...</td>\n",
       "      <td>neg</td>\n",
       "      <td>[hill, learned, new, tricks, tricks, alone, no...</td>\n",
       "    </tr>\n",
       "  </tbody>\n",
       "</table>\n",
       "</div>"
      ],
      "text/plain": [
       "                                                  Review Label  \\\n",
       "7767                   happened pluto nash ever get made   neg   \n",
       "4411   compelling mix trial movie escape movie unexpe...   pos   \n",
       "3192   may sound like mere disease week tv movie song...   pos   \n",
       "1346   no_screen fantasy adventure recent memory show...   pos   \n",
       "9953       visually sumptuous intellectually stultifying   neg   \n",
       "3679   enthusiastically invokes percussion rhythm bra...   pos   \n",
       "8847   filmmakers needed emphasis storytelling less g...   neg   \n",
       "10404  enigmatic film clever good conundrum not_worth...   neg   \n",
       "10138  reworking die hard cliffhanger nowhere_near ex...   neg   \n",
       "6941   hill learned new tricks tricks alone not_enoug...   neg   \n",
       "\n",
       "                                            Review_lists  \n",
       "7767            [happened, pluto, nash, ever, get, made]  \n",
       "4411   [compelling, mix, trial, movie, escape, movie,...  \n",
       "3192   [may, sound, like, mere, disease, week, tv, mo...  \n",
       "1346   [no_screen, fantasy, adventure, recent, memory...  \n",
       "9953   [visually, sumptuous, intellectually, stultify...  \n",
       "3679   [enthusiastically, invokes, percussion, rhythm...  \n",
       "8847   [filmmakers, needed, emphasis, storytelling, l...  \n",
       "10404  [enigmatic, film, clever, good, conundrum, not...  \n",
       "10138  [reworking, die, hard, cliffhanger, nowhere_ne...  \n",
       "6941   [hill, learned, new, tricks, tricks, alone, no...  "
      ]
     },
     "execution_count": 40,
     "metadata": {},
     "output_type": "execute_result"
    }
   ],
   "source": [
    "term_freq_df.sample(10)"
   ]
  },
  {
   "cell_type": "code",
   "execution_count": 41,
   "id": "30b4ce0e-ad9d-4d78-a3eb-83bac4aea0e4",
   "metadata": {},
   "outputs": [
    {
     "name": "stderr",
     "output_type": "stream",
     "text": [
      "100%|███████████████████████████████████████████████████████████████████████████████████████████████████████| 10662/10662 [00:00<00:00, 225243.75it/s]\n"
     ]
    },
    {
     "data": {
      "text/plain": [
       "114829"
      ]
     },
     "execution_count": 41,
     "metadata": {},
     "output_type": "execute_result"
    }
   ],
   "source": [
    "corpus = []\n",
    "for i in trange(term_freq_df.shape[0], ncols=150, nrows=10, colour='orange', smoothing=0.8):\n",
    "    corpus += term_freq_df['Review_lists'][i]\n",
    "len(corpus)"
   ]
  },
  {
   "cell_type": "markdown",
   "id": "2a2bbd22-0a7b-4dcc-8d75-92d41ce856eb",
   "metadata": {},
   "source": [
    "<hr style=\"border: 1px solid yellow; border-radius: 50%;\">"
   ]
  },
  {
   "cell_type": "markdown",
   "id": "7d609ab7-857d-4339-afd0-c2f7e26f73f0",
   "metadata": {},
   "source": [
    "#### 3.2: Most Common Words.\n",
    "\n",
    "Extracting the most common words from the corpus."
   ]
  },
  {
   "cell_type": "code",
   "execution_count": 42,
   "id": "b0862948-bc7e-43b0-ae73-0105a0cbbb67",
   "metadata": {},
   "outputs": [
    {
     "data": {
      "text/plain": [
       "[('film', 1599),\n",
       " ('movie', 1389),\n",
       " ('one', 743),\n",
       " ('like', 732),\n",
       " ('story', 496),\n",
       " ('good', 410),\n",
       " ('comedy', 382),\n",
       " ('time', 375),\n",
       " ('much', 359),\n",
       " ('even', 355)]"
      ]
     },
     "execution_count": 42,
     "metadata": {},
     "output_type": "execute_result"
    }
   ],
   "source": [
    "most_common = Counter(corpus).most_common(10)\n",
    "most_common"
   ]
  },
  {
   "cell_type": "code",
   "execution_count": 43,
   "id": "83017489-74c8-4474-b00c-60d0fd9ec3d3",
   "metadata": {},
   "outputs": [],
   "source": [
    "words = []\n",
    "freq = []\n",
    "\n",
    "for word, count in most_common:\n",
    "    words.append(word)\n",
    "    freq.append(count)"
   ]
  },
  {
   "cell_type": "code",
   "execution_count": 44,
   "id": "3216a72f-c8e8-43fe-a8a3-ffe5018e2bbe",
   "metadata": {},
   "outputs": [
    {
     "data": {
      "image/png": "[encoded data removed]",
      "text/plain": [
       "<Figure size 640x480 with 1 Axes>"
      ]
     },
     "metadata": {},
     "output_type": "display_data"
    }
   ],
   "source": [
    "sns.barplot(x=freq, y=words)\n",
    "plt.title('Top 10 Most Frequently occuring words.')\n",
    "plt.show()"
   ]
  },
  {
   "cell_type": "code",
   "execution_count": 45,
   "id": "ea248662-7526-459a-b70b-961a86e710a7",
   "metadata": {},
   "outputs": [
    {
     "data": {
      "text/plain": [
       "Label\n",
       "pos    5331\n",
       "neg    5331\n",
       "Name: count, dtype: int64"
      ]
     },
     "execution_count": 45,
     "metadata": {},
     "output_type": "execute_result"
    }
   ],
   "source": [
    "term_freq_df['Label'].value_counts()"
   ]
  },
  {
   "cell_type": "code",
   "execution_count": 46,
   "id": "636a30b2-18da-4452-93a9-1bfebefcece5",
   "metadata": {},
   "outputs": [
    {
     "name": "stderr",
     "output_type": "stream",
     "text": [
      "100%|███████████████████████████████████████████████████████████████████████████████████████████████████████| 10662/10662 [00:00<00:00, 117601.02it/s]"
     ]
    },
    {
     "name": "stdout",
     "output_type": "stream",
     "text": [
      "57970\n",
      "56859\n"
     ]
    },
    {
     "name": "stderr",
     "output_type": "stream",
     "text": [
      "\n"
     ]
    }
   ],
   "source": [
    "good_reviews_corpus = []\n",
    "bad_reviews_corpus = []\n",
    "for i in trange(term_freq_df.shape[0], ncols=150, nrows=10, colour='orange', smoothing=0.8):\n",
    "    if term_freq_df['Label'][i] == 'pos':\n",
    "        good_reviews_corpus += term_freq_df['Review_lists'][i]\n",
    "    else:\n",
    "        bad_reviews_corpus += term_freq_df['Review_lists'][i]\n",
    "print(len(good_reviews_corpus))\n",
    "print(len(bad_reviews_corpus))"
   ]
  },
  {
   "cell_type": "code",
   "execution_count": 47,
   "id": "171b8040-0422-4c0e-86b0-a782da3e05b8",
   "metadata": {},
   "outputs": [],
   "source": [
    "good_most_common = Counter(good_reviews_corpus).most_common(10)\n",
    "bad_most_common = Counter(bad_reviews_corpus).most_common(10)"
   ]
  },
  {
   "cell_type": "code",
   "execution_count": 48,
   "id": "960e7dfc-3695-4445-881d-d621033a4852",
   "metadata": {},
   "outputs": [],
   "source": [
    "gr_plot_data = pd.DataFrame([{'word':k, 'freq': v} for k,v in good_most_common])\n",
    "br_plot_data = pd.DataFrame([{'word':k, 'freq': v} for k,v in bad_most_common])"
   ]
  },
  {
   "cell_type": "code",
   "execution_count": 49,
   "id": "2167decb-c75d-46c0-a303-aeb4243a3e99",
   "metadata": {},
   "outputs": [
    {
     "data": {
      "image/png": "[encoded data removed]",
      "text/plain": [
       "<Figure size 1500x500 with 2 Axes>"
      ]
     },
     "metadata": {},
     "output_type": "display_data"
    }
   ],
   "source": [
    "fig, ax = plt.subplots(1, 2, figsize=(15, 5))\n",
    "\n",
    "good_reviews_plot = sns.barplot(data=gr_plot_data, x='freq', y='word', ax=ax[0])\n",
    "ax[0].set_title('Good Reviews Most Common Words.')\n",
    "\n",
    "good_reviews_plot = sns.barplot(data=br_plot_data, x='freq', y='word', ax=ax[1])\n",
    "ax[1].set_title('Bad Reviews Most Common Words.')\n",
    "\n",
    "plt.show()"
   ]
  },
  {
   "cell_type": "markdown",
   "id": "3b90d0b7-0881-41d8-9fdc-8808bec74645",
   "metadata": {},
   "source": [
    "<hr style=\"border: 2px solid red; border-radius: 50%;\">"
   ]
  },
  {
   "cell_type": "markdown",
   "id": "7d32fe26-f131-4846-82d5-32a2613a05d1",
   "metadata": {},
   "source": [
    "## 4. Most Frequently Occuring N_grams.\n",
    "\n",
    "N_grams help analyse phrases and not just words which can lead to better insights."
   ]
  },
  {
   "cell_type": "markdown",
   "id": "10e16578-6186-48ae-a914-5097c3f69914",
   "metadata": {},
   "source": [
    "<hr style=\"border: 1px solid yellow; border-radius: 50%;\">"
   ]
  },
  {
   "cell_type": "markdown",
   "id": "e35cd154-8f2a-498f-97db-fa3da155d59a",
   "metadata": {},
   "source": [
    "### 4.1: Bigrams"
   ]
  },
  {
   "cell_type": "code",
   "execution_count": 50,
   "id": "2020110d-25d9-4076-8b98-740986430fa6",
   "metadata": {},
   "outputs": [],
   "source": [
    "cv = CountVectorizer(ngram_range=(2, 2))\n",
    "bigrams = cv.fit_transform(term_freq_df['Review'])"
   ]
  },
  {
   "cell_type": "code",
   "execution_count": 51,
   "id": "82c7ad9a-cda0-4db4-99f0-a111f3be2233",
   "metadata": {},
   "outputs": [],
   "source": [
    "count_values = bigrams.toarray().sum(axis=0)\n",
    "ngram_freq = pd.DataFrame(sorted([(count_values[i], k) for k, i in cv.vocabulary_.items()], reverse=True))\n",
    "ngram_freq.columns = ['frequency', 'ngram']"
   ]
  },
  {
   "cell_type": "markdown",
   "id": "fb80cb57-304a-4277-9902-49eaa1cc3e7d",
   "metadata": {},
   "source": [
    "<hr style=\"border: 1px solid yellow; border-radius: 50%;\">"
   ]
  },
  {
   "cell_type": "markdown",
   "id": "8e1e3026-6bb5-4a51-ac7a-5a1479b1aa17",
   "metadata": {},
   "source": [
    "### 4.2: Trigrams"
   ]
  },
  {
   "cell_type": "code",
   "execution_count": 52,
   "id": "21e25234-abfe-45e4-96a7-eb4e64188405",
   "metadata": {},
   "outputs": [],
   "source": [
    "cv = CountVectorizer(ngram_range=(3, 3))\n",
    "trigrams = cv.fit_transform(term_freq_df['Review'])\n",
    "count_values = trigrams.toarray().sum(axis=0)\n",
    "ngram_freq = pd.DataFrame(sorted([(count_values[i], k) for k, i in cv.vocabulary_.items()], reverse=True))\n",
    "ngram_freq.columns = ['frequency', 'ngram']"
   ]
  },
  {
   "cell_type": "markdown",
   "id": "16f120a9-81f6-4fc3-9fe1-bea12787fd76",
   "metadata": {},
   "source": [
    "<hr style=\"border: 1px dotted purple; border-radius: 50%;\">"
   ]
  },
  {
   "cell_type": "markdown",
   "id": "0df40dc7-e273-4c51-ab0f-453557a6f452",
   "metadata": {},
   "source": [
    "### Implementing Helper function for creating N_grams."
   ]
  },
  {
   "cell_type": "code",
   "execution_count": 53,
   "id": "feb08115-5d8f-4181-b0e1-3169fe454dd6",
   "metadata": {},
   "outputs": [],
   "source": [
    "def get_n_grams(dataset: pd.Series | typing.List[str], ngram_range: typing.Tuple[int, int]=(2, 2)) -> pd.DataFrame:\n",
    "    cv = CountVectorizer(ngram_range=ngram_range)\n",
    "    trigrams = cv.fit_transform(dataset)\n",
    "    count_values = trigrams.toarray().sum(axis=0)\n",
    "    ngram_freq = pd.DataFrame(sorted([(count_values[i], k) for k, i in cv.vocabulary_.items()], reverse=True))\n",
    "    ngram_freq.columns = ['frequency', 'ngram']\n",
    "    return ngram_freq"
   ]
  },
  {
   "cell_type": "markdown",
   "id": "55b5060c-994b-4a49-9787-b04857031697",
   "metadata": {},
   "source": [
    "<hr style=\"border: 1px solid yellow; border-radius: 50%;\">"
   ]
  },
  {
   "cell_type": "markdown",
   "id": "f6b42de9-4386-4d79-b3fa-2df6060624c1",
   "metadata": {},
   "source": [
    "### 4.3: Comaprison of Ngrams by Class / Category.\n",
    "\n",
    "Plotting the Ngrams by Category of the Review. (positive or negative)."
   ]
  },
  {
   "cell_type": "code",
   "execution_count": 54,
   "id": "3d50b523-6638-49dd-a0e2-779e50229242",
   "metadata": {},
   "outputs": [],
   "source": [
    "positive_reviews_bi_grams = get_n_grams(term_freq_df[term_freq_df['Label'] == 'pos']['Review'])\n",
    "negative_reviews_bi_grams = get_n_grams(term_freq_df[term_freq_df['Label'] == 'neg']['Review'])"
   ]
  },
  {
   "cell_type": "code",
   "execution_count": 55,
   "id": "afbb68d7-e81e-4298-8ef0-2f4d86488956",
   "metadata": {},
   "outputs": [],
   "source": [
    "positive_reviews_tri_grams = get_n_grams(term_freq_df[term_freq_df['Label'] == 'pos']['Review'], (3, 3))\n",
    "negative_reviews_tri_grams = get_n_grams(term_freq_df[term_freq_df['Label'] == 'neg']['Review'], (3, 3))"
   ]
  },
  {
   "cell_type": "code",
   "execution_count": 56,
   "id": "5f6087f3-e04b-40e7-9013-f8ae9ab8fbcb",
   "metadata": {},
   "outputs": [
    {
     "data": {
      "image/png": "[encoded data removed]",
      "text/plain": [
       "<Figure size 1000x1000 with 4 Axes>"
      ]
     },
     "metadata": {},
     "output_type": "display_data"
    }
   ],
   "source": [
    "vfig, ax = plt.subplots(2, 2, figsize=(10, 10), layout='tight')\n",
    "fig.suptitle(\"Ngrams of Reviews.\", fontsize=18)\n",
    "\n",
    "len_box_plot = sns.barplot(x=positive_reviews_bi_grams['frequency'][:10], y=positive_reviews_bi_grams['ngram'][:10],  ax=ax[0][0])\n",
    "ax[0][0].set_title(\"Top 10 Bigrams of Positive reviews.\")\n",
    "\n",
    "\n",
    "len_line_plot = sns.barplot(x=negative_reviews_bi_grams['frequency'][:10], y=negative_reviews_bi_grams['ngram'][:10],  ax=ax[0][1])\n",
    "ax[0][1].set_title(\"Top 10 Bigrams of Negative reviews.\")\n",
    "\n",
    "mean_word_count_box_plot = sns.barplot(x=positive_reviews_tri_grams['frequency'][:10], y=positive_reviews_tri_grams['ngram'][:10],  ax=ax[1][0])\n",
    "ax[1][0].set_title(\"Top 10 Triigrams of Positive reviews.\")\n",
    "\n",
    "\n",
    "mean_word_count_line_plot = sns.barplot(x=negative_reviews_tri_grams['frequency'][:10], y=negative_reviews_tri_grams['ngram'][:10],  ax=ax[1][1])\n",
    "ax[1][1].set_title(\"Top 10 Trigrams of Negative reviews.\")\n",
    "\n",
    "plt.show()"
   ]
  },
  {
   "cell_type": "markdown",
   "id": "06c85a0e-bdfe-4e71-9456-99f98c8438d7",
   "metadata": {},
   "source": [
    "<hr style=\"border: 2px solid red; border-radius: 50%;\">"
   ]
  },
  {
   "cell_type": "markdown",
   "id": "f8230874-b125-4d19-96c5-a09c70dd99cb",
   "metadata": {},
   "source": [
    "## 5. Stemming"
   ]
  },
  {
   "cell_type": "code",
   "execution_count": 57,
   "id": "64f16f88-c285-4587-9756-e522dae2db3f",
   "metadata": {},
   "outputs": [],
   "source": [
    "def stemming_process(text, stemmer=PorterStemmer()):\n",
    "    \"\"\"\n",
    "    Args:\n",
    "    ------\n",
    "    text [type: List[str]]: The list objects whose stopwords will be removed.\n",
    "    lemmatizer [type: class, default: WordNetLemmatizer()]: Type of lemmatizer to be applied.\n",
    "\n",
    "    Returns:\n",
    "    ------\n",
    "    [type: List[str]]: list of lematized text.\n",
    "    \"\"\"\n",
    "    return [stemmer.stem(c) for c in text.split()]"
   ]
  },
  {
   "cell_type": "code",
   "execution_count": 58,
   "id": "57a6a0d2-4454-4146-be8f-4d9982f0a58b",
   "metadata": {},
   "outputs": [],
   "source": [
    "reviews_df['Review'] = [' '.join(stemming_process(review)) for review in reviews_df['Review']]"
   ]
  },
  {
   "cell_type": "code",
   "execution_count": 59,
   "id": "6e4e5e46-83ab-46ea-85ab-a78048cd9b91",
   "metadata": {},
   "outputs": [
    {
     "data": {
      "text/plain": [
       "0        rock destin 21st centuri new conan go make spl...\n",
       "1        gorgeous elabor continu lord ring trilog huge ...\n",
       "2                                      effect tepid biopic\n",
       "3         sometim like go movi fun wasabi good place start\n",
       "4        emerg someth rare issu movi honest keenli obse...\n",
       "                               ...                        \n",
       "10657            terribl movi peopl nevertheless find move\n",
       "10658          mani definit time waster movi must sure one\n",
       "10659    stand crocodil hunter hurri badli cobbl look 1...\n",
       "10660               thing look like made home video quicki\n",
       "10661                          enigma well made dri placid\n",
       "Name: Review, Length: 10662, dtype: object"
      ]
     },
     "execution_count": 59,
     "metadata": {},
     "output_type": "execute_result"
    }
   ],
   "source": [
    "reviews_df['Review']"
   ]
  },
  {
   "cell_type": "markdown",
   "id": "8d305d1d-3768-4b8b-af6b-01eb2a165c32",
   "metadata": {},
   "source": [
    "<hr style=\"border: 2px solid red; border-radius: 50%;\">"
   ]
  },
  {
   "cell_type": "markdown",
   "id": "99a7d409-1300-48dd-bdca-5c0e51b5da45",
   "metadata": {},
   "source": [
    "## 6. Lematizing"
   ]
  },
  {
   "cell_type": "code",
   "execution_count": 60,
   "id": "613d03f4-2010-40df-ad8e-a3b8f6d45d75",
   "metadata": {},
   "outputs": [],
   "source": [
    "def lematizing_process(text, lemmatizer=WordNetLemmatizer()):\n",
    "    \"\"\"\n",
    "    Args:\n",
    "    ------\n",
    "    text [type: List[str]]: The list objects whose stopwords will be removed.\n",
    "    lemmatizer [type: class, default: WordNetLemmatizer()]: Type of lemmatizer to be applied.\n",
    "\n",
    "    Returns:\n",
    "    ------\n",
    "    [type: List[str]]: list of lematized text.\n",
    "    \"\"\"\n",
    "    return [lemmatizer.lemmatize(c) for c in text.split()]"
   ]
  },
  {
   "cell_type": "code",
   "execution_count": 61,
   "id": "c9fa524b-b7ea-423c-bd50-984bd9e493be",
   "metadata": {},
   "outputs": [],
   "source": [
    "reviews_df['Review'] = [' '.join(lematizing_process(review)) for review in reviews_df['Review']]"
   ]
  },
  {
   "cell_type": "code",
   "execution_count": 62,
   "id": "21be1659-84e7-4273-82ef-08fd28f12349",
   "metadata": {},
   "outputs": [
    {
     "data": {
      "text/plain": [
       "0        rock destin 21st centuri new conan go make spl...\n",
       "1        gorgeous elabor continu lord ring trilog huge ...\n",
       "2                                      effect tepid biopic\n",
       "3         sometim like go movi fun wasabi good place start\n",
       "4        emerg someth rare issu movi honest keenli obse...\n",
       "                               ...                        \n",
       "10657            terribl movi peopl nevertheless find move\n",
       "10658          mani definit time waster movi must sure one\n",
       "10659    stand crocodil hunter hurri badli cobbl look 1...\n",
       "10660               thing look like made home video quicki\n",
       "10661                          enigma well made dri placid\n",
       "Name: Review, Length: 10662, dtype: object"
      ]
     },
     "execution_count": 62,
     "metadata": {},
     "output_type": "execute_result"
    }
   ],
   "source": [
    "reviews_df['Review']"
   ]
  },
  {
   "cell_type": "markdown",
   "id": "ee1ff4be-be87-4e4c-b40f-495ed8485706",
   "metadata": {},
   "source": [
    "<hr style=\"border: 2px solid red; border-radius: 50%;\">"
   ]
  },
  {
   "cell_type": "markdown",
   "id": "6ee3bace-e38a-4d9b-91f5-f0a162174e67",
   "metadata": {},
   "source": [
    "## 7. Applying TF-IDF"
   ]
  },
  {
   "cell_type": "markdown",
   "id": "e9c5abba-b83f-4208-b8e3-454a02bcbadb",
   "metadata": {},
   "source": [
    "<hr style=\"border: 1px solid yellow; border-radius: 50%;\">"
   ]
  },
  {
   "cell_type": "markdown",
   "id": "d3c1be16-a330-4d59-90c9-37338dfd2a0b",
   "metadata": {},
   "source": [
    "### 7.1: Preparing The Data."
   ]
  },
  {
   "cell_type": "markdown",
   "id": "7bfa5fb7-ccab-4581-a73c-b27e2dd66460",
   "metadata": {},
   "source": [
    "<hr style=\"border: 1px dotted purple; border-radius: 50%;\">"
   ]
  },
  {
   "cell_type": "code",
   "execution_count": 63,
   "id": "b01fba19-41ac-4ef5-a530-7c987749e900",
   "metadata": {},
   "outputs": [],
   "source": [
    "X = reviews_df['Review']\n",
    "y = reviews_df['Label']"
   ]
  },
  {
   "cell_type": "markdown",
   "id": "e2d153d2-fa8e-4bd7-90cb-24922251f09f",
   "metadata": {},
   "source": [
    "<hr style=\"border: 1px dotted purple; border-radius: 50%;\">"
   ]
  },
  {
   "cell_type": "markdown",
   "id": "8eec0e1e-b7e5-4b48-9b3b-ba42a5308ff8",
   "metadata": {},
   "source": [
    "#### 7.1.2: performing train-test-split of the reviews data."
   ]
  },
  {
   "cell_type": "code",
   "execution_count": 64,
   "id": "57c27c2e-0706-4640-892c-94b5ec751ef2",
   "metadata": {},
   "outputs": [],
   "source": [
    "X_train, X_test, y_train, y_test = train_test_split(X, y, test_size=0.3, random_state=1)"
   ]
  },
  {
   "cell_type": "markdown",
   "id": "f591763d-ed5b-4419-affa-20b968e47d27",
   "metadata": {},
   "source": [
    "<hr style=\"border: 1px dotted purple; border-radius: 50%;\">"
   ]
  },
  {
   "cell_type": "markdown",
   "id": "53de8041-dd2f-4eed-b3a7-256f6c34d0bc",
   "metadata": {},
   "source": [
    "#### 7.1.3: Encoding the Labels\n",
    "\n",
    "- 'pos' = 1\n",
    "- 'neg' = 0"
   ]
  },
  {
   "cell_type": "code",
   "execution_count": 65,
   "id": "2b1923f7-286f-48ea-949e-deae84588df6",
   "metadata": {},
   "outputs": [],
   "source": [
    "label_encoder = LabelEncoder().fit(y)"
   ]
  },
  {
   "cell_type": "code",
   "execution_count": 66,
   "id": "f85730bb-f7b2-4981-842e-d04a44e08a03",
   "metadata": {},
   "outputs": [],
   "source": [
    "y_train_encoded = label_encoder.fit_transform(y_train)"
   ]
  },
  {
   "cell_type": "code",
   "execution_count": 67,
   "id": "c8179715-9dd5-4327-819d-73f1e8ac755e",
   "metadata": {},
   "outputs": [],
   "source": [
    "y_test_encoded = label_encoder.transform(y_test)"
   ]
  },
  {
   "cell_type": "markdown",
   "id": "9f02ada3-3400-40cb-a99a-fdece9bb38ce",
   "metadata": {},
   "source": [
    "<hr style=\"border: 1px solid yellow; border-radius: 50%;\">"
   ]
  },
  {
   "cell_type": "markdown",
   "id": "1679bb83-ca61-4d56-b2f2-22c9b9b42bb0",
   "metadata": {},
   "source": [
    "### 7.2: TfidfVectorizer"
   ]
  },
  {
   "cell_type": "markdown",
   "id": "5767ffab-42b4-4f62-978b-0230bc670497",
   "metadata": {},
   "source": [
    "<hr style=\"border: 1px dotted purple; border-radius: 50%;\">"
   ]
  },
  {
   "cell_type": "markdown",
   "id": "7f4d82ae-463f-49db-b635-47a5f8d5bd1e",
   "metadata": {},
   "source": [
    "#### 7.2.1: Initializing object \n",
    "The params are `use_idf=True`, `ngram_range=(1, 2)`, `max_features=500`."
   ]
  },
  {
   "cell_type": "code",
   "execution_count": 132,
   "id": "2ea6f358-bfeb-4a17-9055-8e2b292eb9b2",
   "metadata": {},
   "outputs": [],
   "source": [
    "tfid_vect = TfidfVectorizer(use_idf=True, ngram_range=(1, 2), max_features=500, min_df=2)"
   ]
  },
  {
   "cell_type": "markdown",
   "id": "a6548484-8d40-4d07-8e73-bcd0ae411710",
   "metadata": {},
   "source": [
    "<hr style=\"border: 1px dotted purple; border-radius: 50%;\">"
   ]
  },
  {
   "cell_type": "markdown",
   "id": "01fe4f1f-a8e7-4ef6-b143-5f6ec5b81b35",
   "metadata": {},
   "source": [
    "#### 7.2.2: Fitting and Transforming Training Data."
   ]
  },
  {
   "cell_type": "code",
   "execution_count": 69,
   "id": "d2bbc381-3d0e-4cfe-8f01-548c989cf7a6",
   "metadata": {},
   "outputs": [],
   "source": [
    "X_train_vectors = tfid_vect.fit_transform(X_train)"
   ]
  },
  {
   "cell_type": "markdown",
   "id": "b2c881ff-c1a2-481d-9cf0-d34ce31c971e",
   "metadata": {},
   "source": [
    "<hr style=\"border: 1px dotted purple; border-radius: 50%;\">"
   ]
  },
  {
   "cell_type": "markdown",
   "id": "1a54f7cc-df71-4098-99c5-a2d60b653617",
   "metadata": {},
   "source": [
    "#### 7.2.3: Transforming Testing Data."
   ]
  },
  {
   "cell_type": "code",
   "execution_count": 70,
   "id": "9e1f22eb-1249-45eb-b27b-b5accc3bf085",
   "metadata": {},
   "outputs": [],
   "source": [
    "X_test_vectors = tfid_vect.transform(X_test)"
   ]
  },
  {
   "cell_type": "markdown",
   "id": "4f2dda98-6bb8-452f-a70a-23cae15c5a05",
   "metadata": {},
   "source": [
    "<hr style=\"border: 1px dotted purple; border-radius: 50%;\">"
   ]
  },
  {
   "cell_type": "markdown",
   "id": "cd52b967-f250-49d9-acba-068393744a51",
   "metadata": {},
   "source": [
    "#### 7.2.4: Shape of both datasets."
   ]
  },
  {
   "cell_type": "code",
   "execution_count": 71,
   "id": "aaefddba-0ed5-4303-8ba5-7d186edf7057",
   "metadata": {},
   "outputs": [
    {
     "name": "stdout",
     "output_type": "stream",
     "text": [
      "X train tfid vectors:  (7463, 500)\n",
      "X test tfid vectors:  (3199, 500)\n"
     ]
    }
   ],
   "source": [
    "print(\"X train tfid vectors: \", X_train_vectors.shape)\n",
    "print(\"X test tfid vectors: \", X_test_vectors.shape)"
   ]
  },
  {
   "cell_type": "markdown",
   "id": "9320bc2d-f554-4ca2-917c-d2d3a22197f0",
   "metadata": {},
   "source": [
    "<hr style=\"border: 2px solid red; border-radius: 50%;\">"
   ]
  },
  {
   "cell_type": "markdown",
   "id": "aa9fe492-fd4f-4dea-b65e-5dfd4f48f33f",
   "metadata": {},
   "source": [
    "## 8: Supervised Machine Learning Models\n",
    "\n",
    "Training Traditional Supervised Machine Learning Models for Sentimental CLassification."
   ]
  },
  {
   "cell_type": "markdown",
   "id": "65b8971b-f599-4aae-9a0b-89601e017936",
   "metadata": {},
   "source": [
    "<hr style=\"border: 1px solid yellow; border-radius: 50%;\">"
   ]
  },
  {
   "cell_type": "markdown",
   "id": "e2f95a16-a99d-4c86-9e36-a48cdd5e5a28",
   "metadata": {},
   "source": [
    "### 8.1: Pipeline\n",
    "\n",
    "Building a pipeline to automatically handle the process of NLP."
   ]
  },
  {
   "cell_type": "markdown",
   "id": "f4eb2525-6ad5-4d11-8689-6525c1a98217",
   "metadata": {},
   "source": [
    "<hr style=\"border: 1px dotted purple; border-radius: 50%;\">"
   ]
  },
  {
   "cell_type": "markdown",
   "id": "68b11e07-a935-4f4a-9954-03c961b12318",
   "metadata": {},
   "source": [
    "#### 8.1.1: Class for Regex Transformation."
   ]
  },
  {
   "cell_type": "code",
   "execution_count": 139,
   "id": "19028f1b-85a7-4858-a425-41908d5a74c8",
   "metadata": {},
   "outputs": [],
   "source": [
    "# Class for regex application\n",
    "class ApplyRegex(BaseEstimator, TransformerMixin):\n",
    "\n",
    "    def __init__(self, regex_transformers: dict[str, Callable[[str], str]]):\n",
    "        self.regex_transformers = regex_transformers\n",
    "\n",
    "    \n",
    "    def fit(self, X, y=None):\n",
    "        return self\n",
    "\n",
    "    def transform(self, X, y=None):\n",
    "        for regex_name, regex_function in self.regex_transformers.items():\n",
    "            X = regex_function(X)\n",
    "\n",
    "        return X"
   ]
  },
  {
   "cell_type": "markdown",
   "id": "70d621bc-a3c6-4624-ae3e-185182c485ce",
   "metadata": {},
   "source": [
    "<hr style=\"border: 1px dotted purple; border-radius: 50%;\">"
   ]
  },
  {
   "cell_type": "markdown",
   "id": "739defb0-1216-4740-8b95-1d630b3b30e5",
   "metadata": {},
   "source": [
    "#### 8.1.2: Class for Stopwords removal from corpus."
   ]
  },
  {
   "cell_type": "code",
   "execution_count": 73,
   "id": "09e246d1-ce0e-46ce-b363-f8c669af4fb4",
   "metadata": {},
   "outputs": [],
   "source": [
    "# Defining a function to remove the stopwords and to lower the comments\n",
    "def stopwords_removal(text, cached_stopwords=stopwords.words('english')):\n",
    "    \"\"\"\n",
    "    Args:\n",
    "    ----------\n",
    "    text: list object where the stopwords will be removed [type: list]\n",
    "    cached_stopwords: stopwords to be applied on the process [type: list, default: stopwords.words('portuguese')]\n",
    "    \"\"\"\n",
    "    \n",
    "    return [c.lower() for c in text.split() if c.lower() not in cached_stopwords]"
   ]
  },
  {
   "cell_type": "code",
   "execution_count": 74,
   "id": "8db0356d-9062-4774-a57e-313bff37b2b8",
   "metadata": {},
   "outputs": [],
   "source": [
    "class StopWordsRemoval(BaseEstimator, TransformerMixin):\n",
    "    def __init__(self, text_stopwords):\n",
    "        self.text_stopwords = text_stopwords\n",
    "\n",
    "    def fit(self, X, y=None):\n",
    "        return self\n",
    "\n",
    "    def transform(self, X, y=None):\n",
    "        return [' '.join(stopwords_removal(review, self.text_stopwords)) for review in X]"
   ]
  },
  {
   "cell_type": "markdown",
   "id": "9eae7cbd-b7ea-403f-9858-8843451f5ad0",
   "metadata": {},
   "source": [
    "<hr style=\"border: 1px dotted purple; border-radius: 50%;\">"
   ]
  },
  {
   "cell_type": "markdown",
   "id": "359c1717-f59a-4068-973f-2891818a96a9",
   "metadata": {},
   "source": [
    "#### 8.1.3: Class for Stemming and Lemmatize Process."
   ]
  },
  {
   "cell_type": "code",
   "execution_count": 75,
   "id": "b5606fd7-c802-4c1e-9419-35f18993c6e1",
   "metadata": {},
   "outputs": [],
   "source": [
    "class StemmingProcess(BaseEstimator, TransformerMixin):\n",
    "    def __init__(self, stemmer):\n",
    "        self.stemmer = stemmer\n",
    "\n",
    "    def fit(self, X, y=None):\n",
    "        return self\n",
    "\n",
    "    def transform(self, X, y=None):\n",
    "        return [' '.join(stemming_process(review, self.stemmer)) for review in X]"
   ]
  },
  {
   "cell_type": "markdown",
   "id": "8f138777-35a1-4c67-91bb-4693faa96a51",
   "metadata": {},
   "source": [
    "<hr style=\"border: 1px dotted purple; border-radius: 50%;\">"
   ]
  },
  {
   "cell_type": "markdown",
   "id": "ec30452b-5305-49f2-b2ea-84c63aca8897",
   "metadata": {},
   "source": [
    "#### 8.1.4: Class for Stemming and Lemmatize Process."
   ]
  },
  {
   "cell_type": "code",
   "execution_count": 76,
   "id": "89f5e4cc-0627-448b-87f1-4f0d0cdbadfe",
   "metadata": {},
   "outputs": [],
   "source": [
    "class TextFeatureExtraction(BaseEstimator, TransformerMixin):\n",
    "    def __init__(self, vectorizer: TfidfVectorizer()):\n",
    "        self.vectorizer = vectorizer\n",
    "\n",
    "    def fit(self, X, y=None):\n",
    "        return self\n",
    "\n",
    "    def transform(self, X, y=None):\n",
    "        return self.vectorizer.fit_transform(X).toarray()"
   ]
  },
  {
   "cell_type": "markdown",
   "id": "1594b46e-e9db-4d2a-975d-c23b202920a6",
   "metadata": {},
   "source": [
    "<hr style=\"border: 1px solid yellow; border-radius: 50%;\">"
   ]
  },
  {
   "cell_type": "markdown",
   "id": "600fd2ea-594e-4379-9410-1c9a222b7251",
   "metadata": {},
   "source": [
    "### 8.2: Building the Pipeline"
   ]
  },
  {
   "cell_type": "markdown",
   "id": "f6919085-fbca-4a44-b3dc-906c123c169d",
   "metadata": {},
   "source": [
    "<hr style=\"border: 1px dotted purple; border-radius: 50%;\">"
   ]
  },
  {
   "cell_type": "markdown",
   "id": "f77c9d9e-ae04-41a8-8921-deb853424d4b",
   "metadata": {},
   "source": [
    "Defining regex_transformers."
   ]
  },
  {
   "cell_type": "code",
   "execution_count": 137,
   "id": "bc685750-9835-43df-a20d-effba4b23fd4",
   "metadata": {},
   "outputs": [],
   "source": [
    "regex_transformers = {\n",
    "    'break_line': re_breakline,\n",
    "    'hyperlinks': re_hyperlinks,\n",
    "    'negations': re_negation,\n",
    "    'special_chars': re_special_chars,\n",
    "    'whitespaces': re_whitespaces\n",
    "}"
   ]
  },
  {
   "cell_type": "markdown",
   "id": "fa32c016-3fca-43d1-804a-0c3a428bcd4e",
   "metadata": {},
   "source": [
    "<hr style=\"border: 1px dotted purple; border-radius: 50%;\">"
   ]
  },
  {
   "cell_type": "markdown",
   "id": "b1ca2395-48b3-4719-9a36-9ed934ec3cd3",
   "metadata": {},
   "source": [
    "Defining Vectorizer to extract Features from text"
   ]
  },
  {
   "cell_type": "code",
   "execution_count": 78,
   "id": "ccedddc9-45fc-44a3-ab36-117d28fa8723",
   "metadata": {},
   "outputs": [],
   "source": [
    "vectorizer = TfidfVectorizer(use_idf=True, ngram_range=(1, 2), max_features=500)"
   ]
  },
  {
   "cell_type": "markdown",
   "id": "47da00ba-e13a-4407-a978-7fd2eb03d0b3",
   "metadata": {},
   "source": [
    "Building the Pipeline."
   ]
  },
  {
   "cell_type": "code",
   "execution_count": 133,
   "id": "67f89718-9d4f-4548-8715-473ed8c8227a",
   "metadata": {},
   "outputs": [],
   "source": [
    "text_pipeline = Pipeline([\n",
    "    ('regex', ApplyRegex(regex_transformers)),\n",
    "    ('stopwords', StopWordsRemoval(stopwords.words('english'))),\n",
    "    ('stemming', StemmingProcess(PorterStemmer())),\n",
    "    ('text_features', TextFeatureExtraction(vectorizer)),\n",
    "])"
   ]
  },
  {
   "cell_type": "code",
   "execution_count": 140,
   "id": "60b22551-d441-46d0-b527-7018003f6f8a",
   "metadata": {},
   "outputs": [
    {
     "ename": "NameError",
     "evalue": "name 'regex_function' is not defined",
     "output_type": "error",
     "traceback": [
      "\u001b[1;31m---------------------------------------------------------------------------\u001b[0m",
      "\u001b[1;31mNameError\u001b[0m                                 Traceback (most recent call last)",
      "Cell \u001b[1;32mIn[140], line 1\u001b[0m\n\u001b[1;32m----> 1\u001b[0m \u001b[43mtext_pipeline\u001b[49m\u001b[38;5;241;43m.\u001b[39;49m\u001b[43mfit\u001b[49m\u001b[43m(\u001b[49m\u001b[43mreviews_df\u001b[49m\u001b[43m[\u001b[49m\u001b[38;5;124;43m'\u001b[39;49m\u001b[38;5;124;43mReview\u001b[39;49m\u001b[38;5;124;43m'\u001b[39;49m\u001b[43m]\u001b[49m\u001b[43m)\u001b[49m\n",
      "File \u001b[1;32m~\\codes\\upgrad_maryland_analytics\\venv\\Lib\\site-packages\\sklearn\\base.py:1152\u001b[0m, in \u001b[0;36m_fit_context.<locals>.decorator.<locals>.wrapper\u001b[1;34m(estimator, *args, **kwargs)\u001b[0m\n\u001b[0;32m   1145\u001b[0m     estimator\u001b[38;5;241m.\u001b[39m_validate_params()\n\u001b[0;32m   1147\u001b[0m \u001b[38;5;28;01mwith\u001b[39;00m config_context(\n\u001b[0;32m   1148\u001b[0m     skip_parameter_validation\u001b[38;5;241m=\u001b[39m(\n\u001b[0;32m   1149\u001b[0m         prefer_skip_nested_validation \u001b[38;5;129;01mor\u001b[39;00m global_skip_validation\n\u001b[0;32m   1150\u001b[0m     )\n\u001b[0;32m   1151\u001b[0m ):\n\u001b[1;32m-> 1152\u001b[0m     \u001b[38;5;28;01mreturn\u001b[39;00m \u001b[43mfit_method\u001b[49m\u001b[43m(\u001b[49m\u001b[43mestimator\u001b[49m\u001b[43m,\u001b[49m\u001b[43m \u001b[49m\u001b[38;5;241;43m*\u001b[39;49m\u001b[43margs\u001b[49m\u001b[43m,\u001b[49m\u001b[43m \u001b[49m\u001b[38;5;241;43m*\u001b[39;49m\u001b[38;5;241;43m*\u001b[39;49m\u001b[43mkwargs\u001b[49m\u001b[43m)\u001b[49m\n",
      "File \u001b[1;32m~\\codes\\upgrad_maryland_analytics\\venv\\Lib\\site-packages\\sklearn\\pipeline.py:423\u001b[0m, in \u001b[0;36mPipeline.fit\u001b[1;34m(self, X, y, **fit_params)\u001b[0m\n\u001b[0;32m    397\u001b[0m \u001b[38;5;250m\u001b[39m\u001b[38;5;124;03m\"\"\"Fit the model.\u001b[39;00m\n\u001b[0;32m    398\u001b[0m \n\u001b[0;32m    399\u001b[0m \u001b[38;5;124;03mFit all the transformers one after the other and transform the\u001b[39;00m\n\u001b[1;32m   (...)\u001b[0m\n\u001b[0;32m    420\u001b[0m \u001b[38;5;124;03m    Pipeline with fitted steps.\u001b[39;00m\n\u001b[0;32m    421\u001b[0m \u001b[38;5;124;03m\"\"\"\u001b[39;00m\n\u001b[0;32m    422\u001b[0m fit_params_steps \u001b[38;5;241m=\u001b[39m \u001b[38;5;28mself\u001b[39m\u001b[38;5;241m.\u001b[39m_check_fit_params(\u001b[38;5;241m*\u001b[39m\u001b[38;5;241m*\u001b[39mfit_params)\n\u001b[1;32m--> 423\u001b[0m Xt \u001b[38;5;241m=\u001b[39m \u001b[38;5;28;43mself\u001b[39;49m\u001b[38;5;241;43m.\u001b[39;49m\u001b[43m_fit\u001b[49m\u001b[43m(\u001b[49m\u001b[43mX\u001b[49m\u001b[43m,\u001b[49m\u001b[43m \u001b[49m\u001b[43my\u001b[49m\u001b[43m,\u001b[49m\u001b[43m \u001b[49m\u001b[38;5;241;43m*\u001b[39;49m\u001b[38;5;241;43m*\u001b[39;49m\u001b[43mfit_params_steps\u001b[49m\u001b[43m)\u001b[49m\n\u001b[0;32m    424\u001b[0m \u001b[38;5;28;01mwith\u001b[39;00m _print_elapsed_time(\u001b[38;5;124m\"\u001b[39m\u001b[38;5;124mPipeline\u001b[39m\u001b[38;5;124m\"\u001b[39m, \u001b[38;5;28mself\u001b[39m\u001b[38;5;241m.\u001b[39m_log_message(\u001b[38;5;28mlen\u001b[39m(\u001b[38;5;28mself\u001b[39m\u001b[38;5;241m.\u001b[39msteps) \u001b[38;5;241m-\u001b[39m \u001b[38;5;241m1\u001b[39m)):\n\u001b[0;32m    425\u001b[0m     \u001b[38;5;28;01mif\u001b[39;00m \u001b[38;5;28mself\u001b[39m\u001b[38;5;241m.\u001b[39m_final_estimator \u001b[38;5;241m!=\u001b[39m \u001b[38;5;124m\"\u001b[39m\u001b[38;5;124mpassthrough\u001b[39m\u001b[38;5;124m\"\u001b[39m:\n",
      "File \u001b[1;32m~\\codes\\upgrad_maryland_analytics\\venv\\Lib\\site-packages\\sklearn\\pipeline.py:377\u001b[0m, in \u001b[0;36mPipeline._fit\u001b[1;34m(self, X, y, **fit_params_steps)\u001b[0m\n\u001b[0;32m    375\u001b[0m     cloned_transformer \u001b[38;5;241m=\u001b[39m clone(transformer)\n\u001b[0;32m    376\u001b[0m \u001b[38;5;66;03m# Fit or load from cache the current transformer\u001b[39;00m\n\u001b[1;32m--> 377\u001b[0m X, fitted_transformer \u001b[38;5;241m=\u001b[39m \u001b[43mfit_transform_one_cached\u001b[49m\u001b[43m(\u001b[49m\n\u001b[0;32m    378\u001b[0m \u001b[43m    \u001b[49m\u001b[43mcloned_transformer\u001b[49m\u001b[43m,\u001b[49m\n\u001b[0;32m    379\u001b[0m \u001b[43m    \u001b[49m\u001b[43mX\u001b[49m\u001b[43m,\u001b[49m\n\u001b[0;32m    380\u001b[0m \u001b[43m    \u001b[49m\u001b[43my\u001b[49m\u001b[43m,\u001b[49m\n\u001b[0;32m    381\u001b[0m \u001b[43m    \u001b[49m\u001b[38;5;28;43;01mNone\u001b[39;49;00m\u001b[43m,\u001b[49m\n\u001b[0;32m    382\u001b[0m \u001b[43m    \u001b[49m\u001b[43mmessage_clsname\u001b[49m\u001b[38;5;241;43m=\u001b[39;49m\u001b[38;5;124;43m\"\u001b[39;49m\u001b[38;5;124;43mPipeline\u001b[39;49m\u001b[38;5;124;43m\"\u001b[39;49m\u001b[43m,\u001b[49m\n\u001b[0;32m    383\u001b[0m \u001b[43m    \u001b[49m\u001b[43mmessage\u001b[49m\u001b[38;5;241;43m=\u001b[39;49m\u001b[38;5;28;43mself\u001b[39;49m\u001b[38;5;241;43m.\u001b[39;49m\u001b[43m_log_message\u001b[49m\u001b[43m(\u001b[49m\u001b[43mstep_idx\u001b[49m\u001b[43m)\u001b[49m\u001b[43m,\u001b[49m\n\u001b[0;32m    384\u001b[0m \u001b[43m    \u001b[49m\u001b[38;5;241;43m*\u001b[39;49m\u001b[38;5;241;43m*\u001b[39;49m\u001b[43mfit_params_steps\u001b[49m\u001b[43m[\u001b[49m\u001b[43mname\u001b[49m\u001b[43m]\u001b[49m\u001b[43m,\u001b[49m\n\u001b[0;32m    385\u001b[0m \u001b[43m\u001b[49m\u001b[43m)\u001b[49m\n\u001b[0;32m    386\u001b[0m \u001b[38;5;66;03m# Replace the transformer of the step with the fitted\u001b[39;00m\n\u001b[0;32m    387\u001b[0m \u001b[38;5;66;03m# transformer. This is necessary when loading the transformer\u001b[39;00m\n\u001b[0;32m    388\u001b[0m \u001b[38;5;66;03m# from the cache.\u001b[39;00m\n\u001b[0;32m    389\u001b[0m \u001b[38;5;28mself\u001b[39m\u001b[38;5;241m.\u001b[39msteps[step_idx] \u001b[38;5;241m=\u001b[39m (name, fitted_transformer)\n",
      "File \u001b[1;32m~\\codes\\upgrad_maryland_analytics\\venv\\Lib\\site-packages\\joblib\\memory.py:353\u001b[0m, in \u001b[0;36mNotMemorizedFunc.__call__\u001b[1;34m(self, *args, **kwargs)\u001b[0m\n\u001b[0;32m    352\u001b[0m \u001b[38;5;28;01mdef\u001b[39;00m \u001b[38;5;21m__call__\u001b[39m(\u001b[38;5;28mself\u001b[39m, \u001b[38;5;241m*\u001b[39margs, \u001b[38;5;241m*\u001b[39m\u001b[38;5;241m*\u001b[39mkwargs):\n\u001b[1;32m--> 353\u001b[0m     \u001b[38;5;28;01mreturn\u001b[39;00m \u001b[38;5;28;43mself\u001b[39;49m\u001b[38;5;241;43m.\u001b[39;49m\u001b[43mfunc\u001b[49m\u001b[43m(\u001b[49m\u001b[38;5;241;43m*\u001b[39;49m\u001b[43margs\u001b[49m\u001b[43m,\u001b[49m\u001b[43m \u001b[49m\u001b[38;5;241;43m*\u001b[39;49m\u001b[38;5;241;43m*\u001b[39;49m\u001b[43mkwargs\u001b[49m\u001b[43m)\u001b[49m\n",
      "File \u001b[1;32m~\\codes\\upgrad_maryland_analytics\\venv\\Lib\\site-packages\\sklearn\\pipeline.py:957\u001b[0m, in \u001b[0;36m_fit_transform_one\u001b[1;34m(transformer, X, y, weight, message_clsname, message, **fit_params)\u001b[0m\n\u001b[0;32m    955\u001b[0m \u001b[38;5;28;01mwith\u001b[39;00m _print_elapsed_time(message_clsname, message):\n\u001b[0;32m    956\u001b[0m     \u001b[38;5;28;01mif\u001b[39;00m \u001b[38;5;28mhasattr\u001b[39m(transformer, \u001b[38;5;124m\"\u001b[39m\u001b[38;5;124mfit_transform\u001b[39m\u001b[38;5;124m\"\u001b[39m):\n\u001b[1;32m--> 957\u001b[0m         res \u001b[38;5;241m=\u001b[39m \u001b[43mtransformer\u001b[49m\u001b[38;5;241;43m.\u001b[39;49m\u001b[43mfit_transform\u001b[49m\u001b[43m(\u001b[49m\u001b[43mX\u001b[49m\u001b[43m,\u001b[49m\u001b[43m \u001b[49m\u001b[43my\u001b[49m\u001b[43m,\u001b[49m\u001b[43m \u001b[49m\u001b[38;5;241;43m*\u001b[39;49m\u001b[38;5;241;43m*\u001b[39;49m\u001b[43mfit_params\u001b[49m\u001b[43m)\u001b[49m\n\u001b[0;32m    958\u001b[0m     \u001b[38;5;28;01melse\u001b[39;00m:\n\u001b[0;32m    959\u001b[0m         res \u001b[38;5;241m=\u001b[39m transformer\u001b[38;5;241m.\u001b[39mfit(X, y, \u001b[38;5;241m*\u001b[39m\u001b[38;5;241m*\u001b[39mfit_params)\u001b[38;5;241m.\u001b[39mtransform(X)\n",
      "File \u001b[1;32m~\\codes\\upgrad_maryland_analytics\\venv\\Lib\\site-packages\\sklearn\\utils\\_set_output.py:157\u001b[0m, in \u001b[0;36m_wrap_method_output.<locals>.wrapped\u001b[1;34m(self, X, *args, **kwargs)\u001b[0m\n\u001b[0;32m    155\u001b[0m \u001b[38;5;129m@wraps\u001b[39m(f)\n\u001b[0;32m    156\u001b[0m \u001b[38;5;28;01mdef\u001b[39;00m \u001b[38;5;21mwrapped\u001b[39m(\u001b[38;5;28mself\u001b[39m, X, \u001b[38;5;241m*\u001b[39margs, \u001b[38;5;241m*\u001b[39m\u001b[38;5;241m*\u001b[39mkwargs):\n\u001b[1;32m--> 157\u001b[0m     data_to_wrap \u001b[38;5;241m=\u001b[39m \u001b[43mf\u001b[49m\u001b[43m(\u001b[49m\u001b[38;5;28;43mself\u001b[39;49m\u001b[43m,\u001b[49m\u001b[43m \u001b[49m\u001b[43mX\u001b[49m\u001b[43m,\u001b[49m\u001b[43m \u001b[49m\u001b[38;5;241;43m*\u001b[39;49m\u001b[43margs\u001b[49m\u001b[43m,\u001b[49m\u001b[43m \u001b[49m\u001b[38;5;241;43m*\u001b[39;49m\u001b[38;5;241;43m*\u001b[39;49m\u001b[43mkwargs\u001b[49m\u001b[43m)\u001b[49m\n\u001b[0;32m    158\u001b[0m     \u001b[38;5;28;01mif\u001b[39;00m \u001b[38;5;28misinstance\u001b[39m(data_to_wrap, \u001b[38;5;28mtuple\u001b[39m):\n\u001b[0;32m    159\u001b[0m         \u001b[38;5;66;03m# only wrap the first output for cross decomposition\u001b[39;00m\n\u001b[0;32m    160\u001b[0m         return_tuple \u001b[38;5;241m=\u001b[39m (\n\u001b[0;32m    161\u001b[0m             _wrap_data_with_container(method, data_to_wrap[\u001b[38;5;241m0\u001b[39m], X, \u001b[38;5;28mself\u001b[39m),\n\u001b[0;32m    162\u001b[0m             \u001b[38;5;241m*\u001b[39mdata_to_wrap[\u001b[38;5;241m1\u001b[39m:],\n\u001b[0;32m    163\u001b[0m         )\n",
      "File \u001b[1;32m~\\codes\\upgrad_maryland_analytics\\venv\\Lib\\site-packages\\sklearn\\base.py:916\u001b[0m, in \u001b[0;36mTransformerMixin.fit_transform\u001b[1;34m(self, X, y, **fit_params)\u001b[0m\n\u001b[0;32m    912\u001b[0m \u001b[38;5;66;03m# non-optimized default implementation; override when a better\u001b[39;00m\n\u001b[0;32m    913\u001b[0m \u001b[38;5;66;03m# method is possible for a given clustering algorithm\u001b[39;00m\n\u001b[0;32m    914\u001b[0m \u001b[38;5;28;01mif\u001b[39;00m y \u001b[38;5;129;01mis\u001b[39;00m \u001b[38;5;28;01mNone\u001b[39;00m:\n\u001b[0;32m    915\u001b[0m     \u001b[38;5;66;03m# fit method of arity 1 (unsupervised transformation)\u001b[39;00m\n\u001b[1;32m--> 916\u001b[0m     \u001b[38;5;28;01mreturn\u001b[39;00m \u001b[38;5;28;43mself\u001b[39;49m\u001b[38;5;241;43m.\u001b[39;49m\u001b[43mfit\u001b[49m\u001b[43m(\u001b[49m\u001b[43mX\u001b[49m\u001b[43m,\u001b[49m\u001b[43m \u001b[49m\u001b[38;5;241;43m*\u001b[39;49m\u001b[38;5;241;43m*\u001b[39;49m\u001b[43mfit_params\u001b[49m\u001b[43m)\u001b[49m\u001b[38;5;241;43m.\u001b[39;49m\u001b[43mtransform\u001b[49m\u001b[43m(\u001b[49m\u001b[43mX\u001b[49m\u001b[43m)\u001b[49m\n\u001b[0;32m    917\u001b[0m \u001b[38;5;28;01melse\u001b[39;00m:\n\u001b[0;32m    918\u001b[0m     \u001b[38;5;66;03m# fit method of arity 2 (supervised transformation)\u001b[39;00m\n\u001b[0;32m    919\u001b[0m     \u001b[38;5;28;01mreturn\u001b[39;00m \u001b[38;5;28mself\u001b[39m\u001b[38;5;241m.\u001b[39mfit(X, y, \u001b[38;5;241m*\u001b[39m\u001b[38;5;241m*\u001b[39mfit_params)\u001b[38;5;241m.\u001b[39mtransform(X)\n",
      "File \u001b[1;32m~\\codes\\upgrad_maryland_analytics\\venv\\Lib\\site-packages\\sklearn\\utils\\_set_output.py:157\u001b[0m, in \u001b[0;36m_wrap_method_output.<locals>.wrapped\u001b[1;34m(self, X, *args, **kwargs)\u001b[0m\n\u001b[0;32m    155\u001b[0m \u001b[38;5;129m@wraps\u001b[39m(f)\n\u001b[0;32m    156\u001b[0m \u001b[38;5;28;01mdef\u001b[39;00m \u001b[38;5;21mwrapped\u001b[39m(\u001b[38;5;28mself\u001b[39m, X, \u001b[38;5;241m*\u001b[39margs, \u001b[38;5;241m*\u001b[39m\u001b[38;5;241m*\u001b[39mkwargs):\n\u001b[1;32m--> 157\u001b[0m     data_to_wrap \u001b[38;5;241m=\u001b[39m \u001b[43mf\u001b[49m\u001b[43m(\u001b[49m\u001b[38;5;28;43mself\u001b[39;49m\u001b[43m,\u001b[49m\u001b[43m \u001b[49m\u001b[43mX\u001b[49m\u001b[43m,\u001b[49m\u001b[43m \u001b[49m\u001b[38;5;241;43m*\u001b[39;49m\u001b[43margs\u001b[49m\u001b[43m,\u001b[49m\u001b[43m \u001b[49m\u001b[38;5;241;43m*\u001b[39;49m\u001b[38;5;241;43m*\u001b[39;49m\u001b[43mkwargs\u001b[49m\u001b[43m)\u001b[49m\n\u001b[0;32m    158\u001b[0m     \u001b[38;5;28;01mif\u001b[39;00m \u001b[38;5;28misinstance\u001b[39m(data_to_wrap, \u001b[38;5;28mtuple\u001b[39m):\n\u001b[0;32m    159\u001b[0m         \u001b[38;5;66;03m# only wrap the first output for cross decomposition\u001b[39;00m\n\u001b[0;32m    160\u001b[0m         return_tuple \u001b[38;5;241m=\u001b[39m (\n\u001b[0;32m    161\u001b[0m             _wrap_data_with_container(method, data_to_wrap[\u001b[38;5;241m0\u001b[39m], X, \u001b[38;5;28mself\u001b[39m),\n\u001b[0;32m    162\u001b[0m             \u001b[38;5;241m*\u001b[39mdata_to_wrap[\u001b[38;5;241m1\u001b[39m:],\n\u001b[0;32m    163\u001b[0m         )\n",
      "Cell \u001b[1;32mIn[72], line 13\u001b[0m, in \u001b[0;36mApplyRegex.transform\u001b[1;34m(self, X, y)\u001b[0m\n\u001b[0;32m     11\u001b[0m \u001b[38;5;28;01mdef\u001b[39;00m \u001b[38;5;21mtransform\u001b[39m(\u001b[38;5;28mself\u001b[39m, X, y\u001b[38;5;241m=\u001b[39m\u001b[38;5;28;01mNone\u001b[39;00m):\n\u001b[0;32m     12\u001b[0m     \u001b[38;5;28;01mfor\u001b[39;00m regex_name, refex_function \u001b[38;5;129;01min\u001b[39;00m \u001b[38;5;28mself\u001b[39m\u001b[38;5;241m.\u001b[39mregex_transformers\u001b[38;5;241m.\u001b[39mitems():\n\u001b[1;32m---> 13\u001b[0m         X \u001b[38;5;241m=\u001b[39m \u001b[43mregex_function\u001b[49m(X)\n\u001b[0;32m     15\u001b[0m     \u001b[38;5;28;01mreturn\u001b[39;00m X\n",
      "\u001b[1;31mNameError\u001b[0m: name 'regex_function' is not defined"
     ]
    }
   ],
   "source": [
    "text_pipeline.fit(reviews_df['Review'])"
   ]
  },
  {
   "cell_type": "markdown",
   "id": "051eab5e-aad3-4979-9972-13a579d9d234",
   "metadata": {},
   "source": [
    "<hr style=\"border: 1px solid yellow; border-radius: 50%;\">"
   ]
  },
  {
   "cell_type": "markdown",
   "id": "b26b5f46-5968-4045-bfc5-1b7a34260cc0",
   "metadata": {},
   "source": [
    "### 8.3: Logistic Regression"
   ]
  },
  {
   "cell_type": "markdown",
   "id": "1161fae1-cd4a-4b37-be95-8deacb19e890",
   "metadata": {},
   "source": [
    "<hr style=\"border: 1px dotted purple; border-radius: 50%;\">"
   ]
  },
  {
   "cell_type": "code",
   "execution_count": 124,
   "id": "f5824084-d173-4ee5-b213-5d399f6e2522",
   "metadata": {},
   "outputs": [],
   "source": [
    "log_reg_model = LogisticRegression(penalty='l2', max_iter=500, C=1, random_state=42)"
   ]
  },
  {
   "cell_type": "code",
   "execution_count": 125,
   "id": "5220ed04-62af-4da8-a0b6-94d723f90295",
   "metadata": {},
   "outputs": [],
   "source": [
    "log_reg_tfidf = log_reg_model.fit(X_train_vectors, y_train_encoded)"
   ]
  },
  {
   "cell_type": "code",
   "execution_count": 126,
   "id": "c97f94da-2451-4d5d-a277-a5354bdb43fd",
   "metadata": {},
   "outputs": [
    {
     "name": "stdout",
     "output_type": "stream",
     "text": [
      "LogisticRegression(C=1, max_iter=500, random_state=42)\n"
     ]
    }
   ],
   "source": [
    "print(log_reg_tfidf)"
   ]
  },
  {
   "cell_type": "markdown",
   "id": "0d296386-5c84-469c-aefa-42067c1c2239",
   "metadata": {},
   "source": [
    "<hr style=\"border: 1px dotted purple; border-radius: 50%;\">"
   ]
  },
  {
   "cell_type": "markdown",
   "id": "99b5fbf3-73f6-4608-8a9d-c35a50e5847c",
   "metadata": {},
   "source": [
    "### 8.3.2: Performance of Logistic Regression Model on test dataset."
   ]
  },
  {
   "cell_type": "code",
   "execution_count": 127,
   "id": "e8cb45a4-3c0a-49c5-ba55-80179399a124",
   "metadata": {},
   "outputs": [
    {
     "name": "stdout",
     "output_type": "stream",
     "text": [
      "[1 1 0 ... 1 0 1]\n"
     ]
    }
   ],
   "source": [
    "y_pred = log_reg_model.predict(X_test_vectors)\n",
    "print(y_pred)"
   ]
  },
  {
   "cell_type": "code",
   "execution_count": 129,
   "id": "9480c3d6-e8e2-460d-9c39-3acd7b7601b9",
   "metadata": {},
   "outputs": [
    {
     "data": {
      "text/plain": [
       "0.6917786808377618"
      ]
     },
     "execution_count": 129,
     "metadata": {},
     "output_type": "execute_result"
    }
   ],
   "source": [
    "accuracy_score(y_test_encoded, y_pred)"
   ]
  },
  {
   "cell_type": "code",
   "execution_count": null,
   "id": "4dcae3dd-db0a-4009-b2c1-531cfef9b2a7",
   "metadata": {},
   "outputs": [],
   "source": []
  }
 ],
 "metadata": {
  "kernelspec": {
   "display_name": "Python 3 (ipykernel)",
   "language": "python",
   "name": "python3"
  },
  "language_info": {
   "codemirror_mode": {
    "name": "ipython",
    "version": 3
   },
   "file_extension": ".py",
   "mimetype": "text/x-python",
   "name": "python",
   "nbconvert_exporter": "python",
   "pygments_lexer": "ipython3",
   "version": "3.11.8"
  }
 },
 "nbformat": 4,
 "nbformat_minor": 5
}
