{
 "cells": [
  {
   "cell_type": "markdown",
   "metadata": {
    "id": "UzHOLwhMtIdK"
   },
   "source": [
    "# Introduction to Natural Language Processing"
   ]
  },
  {
   "cell_type": "markdown",
   "metadata": {
    "id": "xfrFreETmkMy"
   },
   "source": [
    "## Session 1:  Basic Text Analysis\n",
    " "
   ]
  },
  {
   "cell_type": "markdown",
   "metadata": {
    "id": "Qgg769z-fSor"
   },
   "source": [
    "For the demonstrations in this module, we shall be using the NLTK library. **NLTK** is a leading platform for building Python programs to work with human language data. It provides easy-to-use interfaces to over 50 corpora and lexical resources such as WordNet, along with a suite of text processing libraries for classification, tokenization, stemming, tagging, parsing, and semantic reasoning, wrappers for industrial-strength NLP libraries (src: https://www.nltk.org/)"
   ]
  },
  {
   "cell_type": "code",
   "execution_count": 1,
   "metadata": {
    "id": "PUjgCvxglhHF"
   },
   "outputs": [
    {
     "name": "stdout",
     "output_type": "stream",
     "text": [
      "Collecting nltk\n",
      "  Downloading nltk-3.8.1-py3-none-any.whl.metadata (2.8 kB)\n",
      "Requirement already satisfied: click in c:\\users\\dell 5590\\codes\\upgrad_maryland_analytics\\venv\\lib\\site-packages (from nltk) (8.1.7)\n",
      "Requirement already satisfied: joblib in c:\\users\\dell 5590\\codes\\upgrad_maryland_analytics\\venv\\lib\\site-packages (from nltk) (1.3.2)\n",
      "Collecting regex>=2021.8.3 (from nltk)\n",
      "  Downloading regex-2024.5.10-cp311-cp311-win_amd64.whl.metadata (41 kB)\n",
      "     ---------------------------------------- 0.0/42.0 kB ? eta -:--:--\n",
      "     --------- ------------------------------ 10.2/42.0 kB ? eta -:--:--\n",
      "     ------------------ ------------------- 20.5/42.0 kB 217.9 kB/s eta 0:00:01\n",
      "     ------------------ ------------------- 20.5/42.0 kB 217.9 kB/s eta 0:00:01\n",
      "     -------------------------------------- 42.0/42.0 kB 226.7 kB/s eta 0:00:00\n",
      "Requirement already satisfied: tqdm in c:\\users\\dell 5590\\codes\\upgrad_maryland_analytics\\venv\\lib\\site-packages (from nltk) (4.66.1)\n",
      "Requirement already satisfied: colorama in c:\\users\\dell 5590\\codes\\upgrad_maryland_analytics\\venv\\lib\\site-packages (from click->nltk) (0.4.6)\n",
      "Downloading nltk-3.8.1-py3-none-any.whl (1.5 MB)\n",
      "   ---------------------------------------- 0.0/1.5 MB ? eta -:--:--\n",
      "   ---------------------------------------- 0.0/1.5 MB ? eta -:--:--\n",
      "   ---------------------------------------- 0.0/1.5 MB ? eta -:--:--\n",
      "   - -------------------------------------- 0.1/1.5 MB 544.7 kB/s eta 0:00:03\n",
      "   - -------------------------------------- 0.1/1.5 MB 544.7 kB/s eta 0:00:03\n",
      "   - -------------------------------------- 0.1/1.5 MB 544.7 kB/s eta 0:00:03\n",
      "   -- ------------------------------------- 0.1/1.5 MB 403.5 kB/s eta 0:00:04\n",
      "   --- ------------------------------------ 0.1/1.5 MB 400.9 kB/s eta 0:00:04\n",
      "   --- ------------------------------------ 0.1/1.5 MB 400.9 kB/s eta 0:00:04\n",
      "   --- ------------------------------------ 0.1/1.5 MB 369.8 kB/s eta 0:00:04\n",
      "   ---- ----------------------------------- 0.2/1.5 MB 353.1 kB/s eta 0:00:04\n",
      "   ---- ----------------------------------- 0.2/1.5 MB 361.7 kB/s eta 0:00:04\n",
      "   ---- ----------------------------------- 0.2/1.5 MB 361.7 kB/s eta 0:00:04\n",
      "   ----- ---------------------------------- 0.2/1.5 MB 347.1 kB/s eta 0:00:04\n",
      "   ----- ---------------------------------- 0.2/1.5 MB 347.1 kB/s eta 0:00:04\n",
      "   ----- ---------------------------------- 0.2/1.5 MB 296.6 kB/s eta 0:00:05\n",
      "   ----- ---------------------------------- 0.2/1.5 MB 296.6 kB/s eta 0:00:05\n",
      "   ----- ---------------------------------- 0.2/1.5 MB 292.6 kB/s eta 0:00:05\n",
      "   ------ --------------------------------- 0.2/1.5 MB 288.4 kB/s eta 0:00:05\n",
      "   ------ --------------------------------- 0.2/1.5 MB 288.4 kB/s eta 0:00:05\n",
      "   ------ --------------------------------- 0.2/1.5 MB 288.4 kB/s eta 0:00:05\n",
      "   ------ --------------------------------- 0.3/1.5 MB 271.3 kB/s eta 0:00:05\n",
      "   ------ --------------------------------- 0.3/1.5 MB 271.3 kB/s eta 0:00:05\n",
      "   ------- -------------------------------- 0.3/1.5 MB 262.0 kB/s eta 0:00:05\n",
      "   ------- -------------------------------- 0.3/1.5 MB 262.0 kB/s eta 0:00:05\n",
      "   ------- -------------------------------- 0.3/1.5 MB 245.8 kB/s eta 0:00:05\n",
      "   ------- -------------------------------- 0.3/1.5 MB 245.8 kB/s eta 0:00:05\n",
      "   ------- -------------------------------- 0.3/1.5 MB 245.8 kB/s eta 0:00:05\n",
      "   -------- ------------------------------- 0.3/1.5 MB 240.5 kB/s eta 0:00:06\n",
      "   -------- ------------------------------- 0.3/1.5 MB 240.5 kB/s eta 0:00:06\n",
      "   -------- ------------------------------- 0.3/1.5 MB 228.6 kB/s eta 0:00:06\n",
      "   -------- ------------------------------- 0.3/1.5 MB 233.1 kB/s eta 0:00:06\n",
      "   -------- ------------------------------- 0.3/1.5 MB 233.1 kB/s eta 0:00:06\n",
      "   -------- ------------------------------- 0.3/1.5 MB 233.1 kB/s eta 0:00:06\n",
      "   --------- ------------------------------ 0.4/1.5 MB 229.7 kB/s eta 0:00:06\n",
      "   --------- ------------------------------ 0.4/1.5 MB 229.7 kB/s eta 0:00:06\n",
      "   --------- ------------------------------ 0.4/1.5 MB 224.8 kB/s eta 0:00:06\n",
      "   --------- ------------------------------ 0.4/1.5 MB 224.8 kB/s eta 0:00:06\n",
      "   ---------- ----------------------------- 0.4/1.5 MB 224.5 kB/s eta 0:00:05\n",
      "   ---------- ----------------------------- 0.4/1.5 MB 224.5 kB/s eta 0:00:05\n",
      "   ---------- ----------------------------- 0.4/1.5 MB 224.5 kB/s eta 0:00:05\n",
      "   ---------- ----------------------------- 0.4/1.5 MB 214.7 kB/s eta 0:00:06\n",
      "   ---------- ----------------------------- 0.4/1.5 MB 214.7 kB/s eta 0:00:06\n",
      "   ---------- ----------------------------- 0.4/1.5 MB 214.7 kB/s eta 0:00:06\n",
      "   ----------- ---------------------------- 0.4/1.5 MB 213.2 kB/s eta 0:00:06\n",
      "   ----------- ---------------------------- 0.4/1.5 MB 213.2 kB/s eta 0:00:06\n",
      "   ----------- ---------------------------- 0.5/1.5 MB 211.9 kB/s eta 0:00:06\n",
      "   ----------- ---------------------------- 0.5/1.5 MB 211.9 kB/s eta 0:00:06\n",
      "   ------------ --------------------------- 0.5/1.5 MB 207.4 kB/s eta 0:00:06\n",
      "   ------------ --------------------------- 0.5/1.5 MB 207.4 kB/s eta 0:00:06\n",
      "   ------------ --------------------------- 0.5/1.5 MB 207.9 kB/s eta 0:00:05\n",
      "   ------------ --------------------------- 0.5/1.5 MB 207.9 kB/s eta 0:00:05\n",
      "   ------------ --------------------------- 0.5/1.5 MB 207.9 kB/s eta 0:00:05\n",
      "   ------------- -------------------------- 0.5/1.5 MB 201.3 kB/s eta 0:00:06\n",
      "   ------------- -------------------------- 0.5/1.5 MB 201.3 kB/s eta 0:00:06\n",
      "   ------------- -------------------------- 0.5/1.5 MB 200.7 kB/s eta 0:00:05\n",
      "   ------------- -------------------------- 0.5/1.5 MB 200.7 kB/s eta 0:00:05\n",
      "   -------------- ------------------------- 0.5/1.5 MB 200.1 kB/s eta 0:00:05\n",
      "   -------------- ------------------------- 0.5/1.5 MB 200.1 kB/s eta 0:00:05\n",
      "   -------------- ------------------------- 0.5/1.5 MB 200.1 kB/s eta 0:00:05\n",
      "   -------------- ------------------------- 0.5/1.5 MB 200.1 kB/s eta 0:00:05\n",
      "   -------------- ------------------------- 0.5/1.5 MB 200.1 kB/s eta 0:00:05\n",
      "   -------------- ------------------------- 0.5/1.5 MB 189.3 kB/s eta 0:00:06\n",
      "   -------------- ------------------------- 0.5/1.5 MB 189.3 kB/s eta 0:00:06\n",
      "   -------------- ------------------------- 0.5/1.5 MB 189.3 kB/s eta 0:00:06\n",
      "   -------------- ------------------------- 0.5/1.5 MB 189.3 kB/s eta 0:00:06\n",
      "   -------------- ------------------------- 0.6/1.5 MB 184.3 kB/s eta 0:00:06\n",
      "   -------------- ------------------------- 0.6/1.5 MB 184.3 kB/s eta 0:00:06\n",
      "   -------------- ------------------------- 0.6/1.5 MB 184.3 kB/s eta 0:00:06\n",
      "   --------------- ------------------------ 0.6/1.5 MB 178.5 kB/s eta 0:00:06\n",
      "   --------------- ------------------------ 0.6/1.5 MB 178.5 kB/s eta 0:00:06\n",
      "   --------------- ------------------------ 0.6/1.5 MB 178.5 kB/s eta 0:00:06\n",
      "   --------------- ------------------------ 0.6/1.5 MB 178.5 kB/s eta 0:00:06\n",
      "   --------------- ------------------------ 0.6/1.5 MB 174.5 kB/s eta 0:00:06\n",
      "   --------------- ------------------------ 0.6/1.5 MB 174.5 kB/s eta 0:00:06\n",
      "   --------------- ------------------------ 0.6/1.5 MB 174.5 kB/s eta 0:00:06\n",
      "   --------------- ------------------------ 0.6/1.5 MB 174.5 kB/s eta 0:00:06\n",
      "   ---------------- ----------------------- 0.6/1.5 MB 171.8 kB/s eta 0:00:06\n",
      "   ---------------- ----------------------- 0.6/1.5 MB 171.8 kB/s eta 0:00:06\n",
      "   ---------------- ----------------------- 0.6/1.5 MB 171.8 kB/s eta 0:00:06\n",
      "   ---------------- ----------------------- 0.6/1.5 MB 166.6 kB/s eta 0:00:06\n",
      "   ---------------- ----------------------- 0.6/1.5 MB 166.6 kB/s eta 0:00:06\n",
      "   ---------------- ----------------------- 0.6/1.5 MB 166.6 kB/s eta 0:00:06\n",
      "   ---------------- ----------------------- 0.6/1.5 MB 166.6 kB/s eta 0:00:06\n",
      "   ----------------- ---------------------- 0.6/1.5 MB 165.9 kB/s eta 0:00:06\n",
      "   ----------------- ---------------------- 0.6/1.5 MB 165.9 kB/s eta 0:00:06\n",
      "   ----------------- ---------------------- 0.7/1.5 MB 163.8 kB/s eta 0:00:06\n",
      "   ----------------- ---------------------- 0.7/1.5 MB 163.8 kB/s eta 0:00:06\n",
      "   ----------------- ---------------------- 0.7/1.5 MB 165.1 kB/s eta 0:00:06\n",
      "   ----------------- ---------------------- 0.7/1.5 MB 165.1 kB/s eta 0:00:06\n",
      "   ----------------- ---------------------- 0.7/1.5 MB 165.1 kB/s eta 0:00:06\n",
      "   ------------------ --------------------- 0.7/1.5 MB 164.4 kB/s eta 0:00:05\n",
      "   ------------------ --------------------- 0.7/1.5 MB 164.4 kB/s eta 0:00:05\n",
      "   ------------------ --------------------- 0.7/1.5 MB 164.4 kB/s eta 0:00:05\n",
      "   ------------------ --------------------- 0.7/1.5 MB 164.4 kB/s eta 0:00:05\n",
      "   ------------------ --------------------- 0.7/1.5 MB 164.4 kB/s eta 0:00:05\n",
      "   ------------------- -------------------- 0.7/1.5 MB 162.7 kB/s eta 0:00:05\n",
      "   ------------------- -------------------- 0.7/1.5 MB 162.7 kB/s eta 0:00:05\n",
      "   ------------------- -------------------- 0.7/1.5 MB 162.7 kB/s eta 0:00:05\n",
      "   ------------------- -------------------- 0.7/1.5 MB 159.9 kB/s eta 0:00:05\n",
      "   ------------------- -------------------- 0.7/1.5 MB 159.9 kB/s eta 0:00:05\n",
      "   ------------------- -------------------- 0.7/1.5 MB 159.9 kB/s eta 0:00:05\n",
      "   ------------------- -------------------- 0.7/1.5 MB 159.9 kB/s eta 0:00:05\n",
      "   -------------------- ------------------- 0.8/1.5 MB 158.4 kB/s eta 0:00:05\n",
      "   -------------------- ------------------- 0.8/1.5 MB 158.4 kB/s eta 0:00:05\n",
      "   -------------------- ------------------- 0.8/1.5 MB 158.4 kB/s eta 0:00:05\n",
      "   -------------------- ------------------- 0.8/1.5 MB 157.0 kB/s eta 0:00:05\n",
      "   -------------------- ------------------- 0.8/1.5 MB 157.0 kB/s eta 0:00:05\n",
      "   -------------------- ------------------- 0.8/1.5 MB 157.0 kB/s eta 0:00:05\n",
      "   -------------------- ------------------- 0.8/1.5 MB 157.0 kB/s eta 0:00:05\n",
      "   -------------------- ------------------- 0.8/1.5 MB 153.7 kB/s eta 0:00:05\n",
      "   -------------------- ------------------- 0.8/1.5 MB 153.7 kB/s eta 0:00:05\n",
      "   -------------------- ------------------- 0.8/1.5 MB 153.7 kB/s eta 0:00:05\n",
      "   --------------------- ------------------ 0.8/1.5 MB 153.5 kB/s eta 0:00:05\n",
      "   --------------------- ------------------ 0.8/1.5 MB 153.5 kB/s eta 0:00:05\n",
      "   --------------------- ------------------ 0.8/1.5 MB 153.5 kB/s eta 0:00:05\n",
      "   --------------------- ------------------ 0.8/1.5 MB 153.5 kB/s eta 0:00:05\n",
      "   --------------------- ------------------ 0.8/1.5 MB 149.6 kB/s eta 0:00:05\n",
      "   --------------------- ------------------ 0.8/1.5 MB 149.6 kB/s eta 0:00:05\n",
      "   --------------------- ------------------ 0.8/1.5 MB 149.6 kB/s eta 0:00:05\n",
      "   --------------------- ------------------ 0.8/1.5 MB 149.6 kB/s eta 0:00:05\n",
      "   ---------------------- ----------------- 0.8/1.5 MB 148.7 kB/s eta 0:00:05\n",
      "   ---------------------- ----------------- 0.8/1.5 MB 148.7 kB/s eta 0:00:05\n",
      "   ---------------------- ----------------- 0.8/1.5 MB 148.7 kB/s eta 0:00:05\n",
      "   ---------------------- ----------------- 0.8/1.5 MB 148.7 kB/s eta 0:00:05\n",
      "   ---------------------- ----------------- 0.9/1.5 MB 147.4 kB/s eta 0:00:05\n",
      "   ---------------------- ----------------- 0.9/1.5 MB 147.4 kB/s eta 0:00:05\n",
      "   ---------------------- ----------------- 0.9/1.5 MB 147.4 kB/s eta 0:00:05\n",
      "   ---------------------- ----------------- 0.9/1.5 MB 147.4 kB/s eta 0:00:05\n",
      "   ---------------------- ----------------- 0.9/1.5 MB 147.4 kB/s eta 0:00:05\n",
      "   ----------------------- ---------------- 0.9/1.5 MB 144.1 kB/s eta 0:00:05\n",
      "   ----------------------- ---------------- 0.9/1.5 MB 144.1 kB/s eta 0:00:05\n",
      "   ----------------------- ---------------- 0.9/1.5 MB 144.1 kB/s eta 0:00:05\n",
      "   ----------------------- ---------------- 0.9/1.5 MB 143.8 kB/s eta 0:00:05\n",
      "   ----------------------- ---------------- 0.9/1.5 MB 143.8 kB/s eta 0:00:05\n",
      "   ----------------------- ---------------- 0.9/1.5 MB 143.8 kB/s eta 0:00:05\n",
      "   ----------------------- ---------------- 0.9/1.5 MB 142.2 kB/s eta 0:00:05\n",
      "   ----------------------- ---------------- 0.9/1.5 MB 142.2 kB/s eta 0:00:05\n",
      "   ----------------------- ---------------- 0.9/1.5 MB 142.2 kB/s eta 0:00:05\n",
      "   ------------------------ --------------- 0.9/1.5 MB 142.6 kB/s eta 0:00:05\n",
      "   ------------------------ --------------- 0.9/1.5 MB 142.6 kB/s eta 0:00:05\n",
      "   ------------------------ --------------- 0.9/1.5 MB 142.6 kB/s eta 0:00:05\n",
      "   ------------------------ --------------- 0.9/1.5 MB 142.7 kB/s eta 0:00:04\n",
      "   ------------------------ --------------- 0.9/1.5 MB 142.7 kB/s eta 0:00:04\n",
      "   ------------------------ --------------- 0.9/1.5 MB 142.7 kB/s eta 0:00:04\n",
      "   ------------------------- -------------- 1.0/1.5 MB 140.5 kB/s eta 0:00:04\n",
      "   ------------------------- -------------- 1.0/1.5 MB 140.5 kB/s eta 0:00:04\n",
      "   ------------------------- -------------- 1.0/1.5 MB 140.5 kB/s eta 0:00:04\n",
      "   ------------------------- -------------- 1.0/1.5 MB 140.6 kB/s eta 0:00:04\n",
      "   -------------------------- ------------- 1.0/1.5 MB 141.2 kB/s eta 0:00:04\n",
      "   -------------------------- ------------- 1.0/1.5 MB 141.2 kB/s eta 0:00:04\n",
      "   -------------------------- ------------- 1.0/1.5 MB 141.2 kB/s eta 0:00:04\n",
      "   -------------------------- ------------- 1.0/1.5 MB 139.8 kB/s eta 0:00:04\n",
      "   -------------------------- ------------- 1.0/1.5 MB 139.8 kB/s eta 0:00:04\n",
      "   -------------------------- ------------- 1.0/1.5 MB 140.8 kB/s eta 0:00:04\n",
      "   -------------------------- ------------- 1.0/1.5 MB 140.8 kB/s eta 0:00:04\n",
      "   -------------------------- ------------- 1.0/1.5 MB 140.8 kB/s eta 0:00:04\n",
      "   -------------------------- ------------- 1.0/1.5 MB 140.8 kB/s eta 0:00:04\n",
      "   --------------------------- ------------ 1.0/1.5 MB 140.3 kB/s eta 0:00:04\n",
      "   --------------------------- ------------ 1.0/1.5 MB 140.3 kB/s eta 0:00:04\n",
      "   --------------------------- ------------ 1.0/1.5 MB 139.9 kB/s eta 0:00:04\n",
      "   --------------------------- ------------ 1.0/1.5 MB 139.9 kB/s eta 0:00:04\n",
      "   ---------------------------- ----------- 1.1/1.5 MB 140.9 kB/s eta 0:00:04\n",
      "   ---------------------------- ----------- 1.1/1.5 MB 140.9 kB/s eta 0:00:04\n",
      "   ---------------------------- ----------- 1.1/1.5 MB 140.9 kB/s eta 0:00:04\n",
      "   ---------------------------- ----------- 1.1/1.5 MB 139.9 kB/s eta 0:00:04\n",
      "   ---------------------------- ----------- 1.1/1.5 MB 139.9 kB/s eta 0:00:04\n",
      "   ----------------------------- ---------- 1.1/1.5 MB 140.6 kB/s eta 0:00:03\n",
      "   ----------------------------- ---------- 1.1/1.5 MB 142.1 kB/s eta 0:00:03\n",
      "   ----------------------------- ---------- 1.1/1.5 MB 142.1 kB/s eta 0:00:03\n",
      "   ----------------------------- ---------- 1.1/1.5 MB 141.7 kB/s eta 0:00:03\n",
      "   ----------------------------- ---------- 1.1/1.5 MB 141.7 kB/s eta 0:00:03\n",
      "   ------------------------------ --------- 1.1/1.5 MB 142.9 kB/s eta 0:00:03\n",
      "   ------------------------------ --------- 1.2/1.5 MB 143.1 kB/s eta 0:00:03\n",
      "   ------------------------------ --------- 1.2/1.5 MB 143.1 kB/s eta 0:00:03\n",
      "   ------------------------------ --------- 1.2/1.5 MB 143.1 kB/s eta 0:00:03\n",
      "   ------------------------------- -------- 1.2/1.5 MB 143.9 kB/s eta 0:00:03\n",
      "   ------------------------------- -------- 1.2/1.5 MB 145.4 kB/s eta 0:00:03\n",
      "   ------------------------------- -------- 1.2/1.5 MB 145.8 kB/s eta 0:00:03\n",
      "   -------------------------------- ------- 1.2/1.5 MB 147.4 kB/s eta 0:00:02\n",
      "   -------------------------------- ------- 1.2/1.5 MB 147.4 kB/s eta 0:00:02\n",
      "   --------------------------------- ------ 1.3/1.5 MB 149.2 kB/s eta 0:00:02\n",
      "   --------------------------------- ------ 1.3/1.5 MB 149.2 kB/s eta 0:00:02\n",
      "   --------------------------------- ------ 1.3/1.5 MB 150.2 kB/s eta 0:00:02\n",
      "   ---------------------------------- ----- 1.3/1.5 MB 150.6 kB/s eta 0:00:02\n",
      "   ---------------------------------- ----- 1.3/1.5 MB 151.9 kB/s eta 0:00:02\n",
      "   ---------------------------------- ----- 1.3/1.5 MB 152.2 kB/s eta 0:00:02\n",
      "   ----------------------------------- ---- 1.3/1.5 MB 154.1 kB/s eta 0:00:02\n",
      "   ------------------------------------ --- 1.4/1.5 MB 155.3 kB/s eta 0:00:01\n",
      "   ------------------------------------ --- 1.4/1.5 MB 155.6 kB/s eta 0:00:01\n",
      "   ------------------------------------ --- 1.4/1.5 MB 157.4 kB/s eta 0:00:01\n",
      "   ------------------------------------- -- 1.4/1.5 MB 157.8 kB/s eta 0:00:01\n",
      "   ------------------------------------- -- 1.4/1.5 MB 158.9 kB/s eta 0:00:01\n",
      "   -------------------------------------- - 1.4/1.5 MB 161.0 kB/s eta 0:00:01\n",
      "   -------------------------------------- - 1.4/1.5 MB 161.0 kB/s eta 0:00:01\n",
      "   ---------------------------------------  1.5/1.5 MB 162.1 kB/s eta 0:00:01\n",
      "   ---------------------------------------  1.5/1.5 MB 162.4 kB/s eta 0:00:01\n",
      "   ---------------------------------------  1.5/1.5 MB 162.4 kB/s eta 0:00:01\n",
      "   ---------------------------------------  1.5/1.5 MB 163.0 kB/s eta 0:00:01\n",
      "   ---------------------------------------- 1.5/1.5 MB 163.3 kB/s eta 0:00:00\n",
      "Downloading regex-2024.5.10-cp311-cp311-win_amd64.whl (268 kB)\n",
      "   ---------------------------------------- 0.0/269.0 kB ? eta -:--:--\n",
      "   ---------------------------------------- 0.0/269.0 kB ? eta -:--:--\n",
      "   - -------------------------------------- 10.2/269.0 kB ? eta -:--:--\n",
      "   - -------------------------------------- 10.2/269.0 kB ? eta -:--:--\n",
      "   - -------------------------------------- 10.2/269.0 kB ? eta -:--:--\n",
      "   ---- ---------------------------------- 30.7/269.0 kB 145.2 kB/s eta 0:00:02\n",
      "   ---- ---------------------------------- 30.7/269.0 kB 145.2 kB/s eta 0:00:02\n",
      "   ---- ---------------------------------- 30.7/269.0 kB 145.2 kB/s eta 0:00:02\n",
      "   ---- ---------------------------------- 30.7/269.0 kB 145.2 kB/s eta 0:00:02\n",
      "   ---- ---------------------------------- 30.7/269.0 kB 145.2 kB/s eta 0:00:02\n",
      "   ------ --------------------------------- 41.0/269.0 kB 85.3 kB/s eta 0:00:03\n",
      "   -------- ------------------------------ 61.4/269.0 kB 125.8 kB/s eta 0:00:02\n",
      "   -------- ------------------------------ 61.4/269.0 kB 125.8 kB/s eta 0:00:02\n",
      "   -------- ------------------------------ 61.4/269.0 kB 125.8 kB/s eta 0:00:02\n",
      "   -------- ------------------------------ 61.4/269.0 kB 125.8 kB/s eta 0:00:02\n",
      "   -------- ------------------------------ 61.4/269.0 kB 125.8 kB/s eta 0:00:02\n",
      "   -------- ------------------------------ 61.4/269.0 kB 125.8 kB/s eta 0:00:02\n",
      "   ---------- ----------------------------- 71.7/269.0 kB 91.4 kB/s eta 0:00:03\n",
      "   ---------- ----------------------------- 71.7/269.0 kB 91.4 kB/s eta 0:00:03\n",
      "   ------------- ------------------------- 92.2/269.0 kB 102.8 kB/s eta 0:00:02\n",
      "   ------------- ------------------------- 92.2/269.0 kB 102.8 kB/s eta 0:00:02\n",
      "   ------------- ------------------------- 92.2/269.0 kB 102.8 kB/s eta 0:00:02\n",
      "   ------------- ------------------------- 92.2/269.0 kB 102.8 kB/s eta 0:00:02\n",
      "   --------------- ---------------------- 112.6/269.0 kB 105.7 kB/s eta 0:00:02\n",
      "   --------------- ---------------------- 112.6/269.0 kB 105.7 kB/s eta 0:00:02\n",
      "   --------------- ---------------------- 112.6/269.0 kB 105.7 kB/s eta 0:00:02\n",
      "   --------------- ---------------------- 112.6/269.0 kB 105.7 kB/s eta 0:00:02\n",
      "   ----------------- -------------------- 122.9/269.0 kB 100.1 kB/s eta 0:00:02\n",
      "   ----------------- -------------------- 122.9/269.0 kB 100.1 kB/s eta 0:00:02\n",
      "   -------------------- ----------------- 143.4/269.0 kB 107.8 kB/s eta 0:00:02\n",
      "   -------------------- ----------------- 143.4/269.0 kB 107.8 kB/s eta 0:00:02\n",
      "   -------------------- ----------------- 143.4/269.0 kB 107.8 kB/s eta 0:00:02\n",
      "   --------------------- ---------------- 153.6/269.0 kB 104.3 kB/s eta 0:00:02\n",
      "   --------------------- ---------------- 153.6/269.0 kB 104.3 kB/s eta 0:00:02\n",
      "   --------------------- ---------------- 153.6/269.0 kB 104.3 kB/s eta 0:00:02\n",
      "   ------------------------ ------------- 174.1/269.0 kB 109.2 kB/s eta 0:00:01\n",
      "   ------------------------ ------------- 174.1/269.0 kB 109.2 kB/s eta 0:00:01\n",
      "   ------------------------ ------------- 174.1/269.0 kB 109.2 kB/s eta 0:00:01\n",
      "   --------------------------- ---------- 194.6/269.0 kB 110.2 kB/s eta 0:00:01\n",
      "   --------------------------- ---------- 194.6/269.0 kB 110.2 kB/s eta 0:00:01\n",
      "   --------------------------- ---------- 194.6/269.0 kB 110.2 kB/s eta 0:00:01\n",
      "   --------------------------- ---------- 194.6/269.0 kB 110.2 kB/s eta 0:00:01\n",
      "   ---------------------------- --------- 204.8/269.0 kB 104.6 kB/s eta 0:00:01\n",
      "   ---------------------------- --------- 204.8/269.0 kB 104.6 kB/s eta 0:00:01\n",
      "   ---------------------------- --------- 204.8/269.0 kB 104.6 kB/s eta 0:00:01\n",
      "   ---------------------------- --------- 204.8/269.0 kB 104.6 kB/s eta 0:00:01\n",
      "   ---------------------------- --------- 204.8/269.0 kB 104.6 kB/s eta 0:00:01\n",
      "   ------------------------------- ------ 225.3/269.0 kB 104.2 kB/s eta 0:00:01\n",
      "   ------------------------------- ------ 225.3/269.0 kB 104.2 kB/s eta 0:00:01\n",
      "   ------------------------------- ------ 225.3/269.0 kB 104.2 kB/s eta 0:00:01\n",
      "   ------------------------------- ------ 225.3/269.0 kB 104.2 kB/s eta 0:00:01\n",
      "   ---------------------------------- ---- 235.5/269.0 kB 99.4 kB/s eta 0:00:01\n",
      "   ---------------------------------- ---- 235.5/269.0 kB 99.4 kB/s eta 0:00:01\n",
      "   ---------------------------------- ---- 235.5/269.0 kB 99.4 kB/s eta 0:00:01\n",
      "   ---------------------------------- ---- 235.5/269.0 kB 99.4 kB/s eta 0:00:01\n",
      "   ---------------------------------- ---- 235.5/269.0 kB 99.4 kB/s eta 0:00:01\n",
      "   ------------------------------------- - 256.0/269.0 kB 98.9 kB/s eta 0:00:01\n",
      "   ------------------------------------- - 256.0/269.0 kB 98.9 kB/s eta 0:00:01\n",
      "   --------------------------------------- 269.0/269.0 kB 99.1 kB/s eta 0:00:00\n",
      "Installing collected packages: regex, nltk\n",
      "Successfully installed nltk-3.8.1 regex-2024.5.10\n"
     ]
    }
   ],
   "source": [
    "##Install the NLTK library\n",
    "!pip install nltk"
   ]
  },
  {
   "cell_type": "markdown",
   "metadata": {
    "id": "c5FpFnW1PHWi"
   },
   "source": [
    "\n",
    "\n",
    "Let's start with basic NLP operations, usually used for text preprocessing \n",
    "to improve the quality of data for better subsequent tasks, such as: \n",
    "\n",
    "- stopword removal\n",
    "- word/sentence tokenization\n",
    "- part-of-speech (POS)\n",
    "- Stemming\n",
    "- Lemmatization\n",
    "- Bag of words\n",
    "- Tf-idf"
   ]
  },
  {
   "cell_type": "markdown",
   "metadata": {
    "id": "tM_uH4itvZ9L"
   },
   "source": [
    "## Stopword Removal and Tokenization\n",
    "\n",
    "- **Stopword Removal**: Many frequently occurring words that are not important for understanding semantics, also called *stopwords*, can be removed.\n",
    "- **Tokenization**: Splitting text into smaller elements (characters, words, sentences, paragraphs)."
   ]
  },
  {
   "cell_type": "code",
   "execution_count": 2,
   "metadata": {
    "colab": {
     "base_uri": "https://localhost:8080/"
    },
    "id": "86bHw3jXNbZK",
    "outputId": "8ffbe67b-d23c-47e1-bb83-fd32a40187ca",
    "scrolled": true
   },
   "outputs": [
    {
     "name": "stderr",
     "output_type": "stream",
     "text": [
      "[nltk_data] Downloading package stopwords to C:\\Users\\DELL\n",
      "[nltk_data]     5590\\AppData\\Roaming\\nltk_data...\n",
      "[nltk_data]   Unzipping corpora\\stopwords.zip.\n"
     ]
    },
    {
     "data": {
      "text/plain": [
       "True"
      ]
     },
     "execution_count": 2,
     "metadata": {},
     "output_type": "execute_result"
    }
   ],
   "source": [
    "## We need to download the stopwords\n",
    "import nltk\n",
    "nltk.download('stopwords')"
   ]
  },
  {
   "cell_type": "markdown",
   "metadata": {
    "id": "eZ2J8u1hfSou"
   },
   "source": [
    "Next, we shall be downloading the *Punkt* sentence tokenizer. Read more: https://www.nltk.org/_modules/nltk/tokenize/punkt.html"
   ]
  },
  {
   "cell_type": "code",
   "execution_count": 3,
   "metadata": {
    "colab": {
     "base_uri": "https://localhost:8080/"
    },
    "id": "c86sDCNONbZM",
    "outputId": "8f40eaad-5bf1-46a3-e744-d6e6453e8c69"
   },
   "outputs": [
    {
     "name": "stderr",
     "output_type": "stream",
     "text": [
      "[nltk_data] Downloading package punkt to C:\\Users\\DELL\n",
      "[nltk_data]     5590\\AppData\\Roaming\\nltk_data...\n",
      "[nltk_data]   Unzipping tokenizers\\punkt.zip.\n",
      "[nltk_data] Downloading package punkt to C:\\Users\\DELL\n",
      "[nltk_data]     5590\\AppData\\Roaming\\nltk_data...\n",
      "[nltk_data]   Package punkt is already up-to-date!\n"
     ]
    },
    {
     "data": {
      "text/plain": [
       "True"
      ]
     },
     "execution_count": 3,
     "metadata": {},
     "output_type": "execute_result"
    }
   ],
   "source": [
    "import nltk\n",
    "nltk.download('punkt')\n",
    "from nltk.corpus import stopwords\n",
    "\n",
    "from nltk.tokenize import word_tokenize, sent_tokenize\n",
    "nltk.download('punkt')"
   ]
  },
  {
   "cell_type": "code",
   "execution_count": 5,
   "metadata": {},
   "outputs": [],
   "source": [
    "sentence = \"I love pasta\""
   ]
  },
  {
   "cell_type": "code",
   "execution_count": 10,
   "metadata": {},
   "outputs": [
    {
     "ename": "AttributeError",
     "evalue": "'list' object has no attribute 'to_list'",
     "output_type": "error",
     "traceback": [
      "\u001b[1;31m---------------------------------------------------------------------------\u001b[0m",
      "\u001b[1;31mAttributeError\u001b[0m                            Traceback (most recent call last)",
      "Cell \u001b[1;32mIn[10], line 2\u001b[0m\n\u001b[0;32m      1\u001b[0m words \u001b[38;5;241m=\u001b[39m word_tokenize(sentence)\n\u001b[1;32m----> 2\u001b[0m \u001b[38;5;28mprint\u001b[39m(\u001b[38;5;28mlen\u001b[39m(\u001b[43mwords\u001b[49m\u001b[38;5;241;43m.\u001b[39;49m\u001b[43mto_list\u001b[49m()))\n",
      "\u001b[1;31mAttributeError\u001b[0m: 'list' object has no attribute 'to_list'"
     ]
    }
   ],
   "source": [
    "words = word_tokenize(sentence)\n",
    "print(len(words.to_list()))"
   ]
  },
  {
   "cell_type": "code",
   "execution_count": 4,
   "metadata": {
    "id": "MKg9HvDHNbZN"
   },
   "outputs": [
    {
     "name": "stdout",
     "output_type": "stream",
     "text": [
      "['i', 'me', 'my', 'myself', 'we', 'our', 'ours', 'ourselves', 'you', \"you're\", \"you've\", \"you'll\", \"you'd\", 'your', 'yours', 'yourself', 'yourselves', 'he', 'him', 'his', 'himself', 'she', \"she's\", 'her', 'hers', 'herself', 'it', \"it's\", 'its', 'itself', 'they', 'them', 'their', 'theirs', 'themselves', 'what', 'which', 'who', 'whom', 'this', 'that', \"that'll\", 'these', 'those', 'am', 'is', 'are', 'was', 'were', 'be', 'been', 'being', 'have', 'has', 'had', 'having', 'do', 'does', 'did', 'doing', 'a', 'an', 'the', 'and', 'but', 'if', 'or', 'because', 'as', 'until', 'while', 'of', 'at', 'by', 'for', 'with', 'about', 'against', 'between', 'into', 'through', 'during', 'before', 'after', 'above', 'below', 'to', 'from', 'up', 'down', 'in', 'out', 'on', 'off', 'over', 'under', 'again', 'further', 'then', 'once', 'here', 'there', 'when', 'where', 'why', 'how', 'all', 'any', 'both', 'each', 'few', 'more', 'most', 'other', 'some', 'such', 'no', 'nor', 'not', 'only', 'own', 'same', 'so', 'than', 'too', 'very', 's', 't', 'can', 'will', 'just', 'don', \"don't\", 'should', \"should've\", 'now', 'd', 'll', 'm', 'o', 're', 've', 'y', 'ain', 'aren', \"aren't\", 'couldn', \"couldn't\", 'didn', \"didn't\", 'doesn', \"doesn't\", 'hadn', \"hadn't\", 'hasn', \"hasn't\", 'haven', \"haven't\", 'isn', \"isn't\", 'ma', 'mightn', \"mightn't\", 'mustn', \"mustn't\", 'needn', \"needn't\", 'shan', \"shan't\", 'shouldn', \"shouldn't\", 'wasn', \"wasn't\", 'weren', \"weren't\", 'won', \"won't\", 'wouldn', \"wouldn't\"]\n"
     ]
    }
   ],
   "source": [
    "## We have stopwords in multiple languages\n",
    "stops_en = stopwords.words('english')\n",
    "stops_ge = stopwords.words('german')\n",
    "print(stops_en)"
   ]
  },
  {
   "cell_type": "code",
   "execution_count": 16,
   "metadata": {},
   "outputs": [
    {
     "data": {
      "text/plain": [
       "False"
      ]
     },
     "execution_count": 16,
     "metadata": {},
     "output_type": "execute_result"
    }
   ],
   "source": [
    "[if x == 'You' for x in stops_en]"
   ]
  },
  {
   "cell_type": "code",
   "execution_count": 6,
   "metadata": {
    "id": "ZXtQASvWNbZN"
   },
   "outputs": [
    {
     "name": "stdout",
     "output_type": "stream",
     "text": [
      "['i', 'me', 'my', 'myself', 'we', 'our', 'ours', 'ourselves', 'you', \"you're\", \"you've\", \"you'll\", \"you'd\", 'your', 'yours', 'yourself', 'yourselves', 'he', 'him', 'his', 'himself', 'she', \"she's\", 'her', 'hers', 'herself', 'it', \"it's\", 'its', 'itself', 'they', 'them', 'their', 'theirs', 'themselves', 'what', 'which', 'who', 'whom', 'this', 'that', \"that'll\", 'these', 'those', 'am', 'is', 'are', 'was', 'were', 'be', 'been', 'being', 'have', 'has', 'had', 'having', 'do', 'does', 'did', 'doing', 'a', 'an', 'the', 'and', 'but', 'if', 'or', 'because', 'as', 'until', 'while', 'of', 'at', 'by', 'for', 'with', 'about', 'against', 'between', 'into', 'through', 'during', 'before', 'after', 'above', 'below', 'to', 'from', 'up', 'down', 'in', 'out', 'on', 'off', 'over', 'under', 'again', 'further', 'then', 'once', 'here', 'there', 'when', 'where', 'why', 'how', 'all', 'any', 'both', 'each', 'few', 'more', 'most', 'other', 'some', 'such', 'no', 'nor', 'not', 'only', 'own', 'same', 'so', 'than', 'too', 'very', 's', 't', 'can', 'will', 'just', 'don', \"don't\", 'should', \"should've\", 'now', 'd', 'll', 'm', 'o', 're', 've', 'y', 'ain', 'aren', \"aren't\", 'couldn', \"couldn't\", 'didn', \"didn't\", 'doesn', \"doesn't\", 'hadn', \"hadn't\", 'hasn', \"hasn't\", 'haven', \"haven't\", 'isn', \"isn't\", 'ma', 'mightn', \"mightn't\", 'mustn', \"mustn't\", 'needn', \"needn't\", 'shan', \"shan't\", 'shouldn', \"shouldn't\", 'wasn', \"wasn't\", 'weren', \"weren't\", 'won', \"won't\", 'wouldn', \"wouldn't\", 'airline']\n"
     ]
    }
   ],
   "source": [
    "# customize your stop word list by adding words\n",
    "stops_en.append('airline')\n",
    "print(stops_en)"
   ]
  },
  {
   "cell_type": "code",
   "execution_count": 7,
   "metadata": {
    "id": "4evIzq9BNbZQ"
   },
   "outputs": [
    {
     "data": {
      "text/plain": [
       "['The Cable News Network is a multinational news-based pay television channel headquartered in Atlanta, Georgia.',\n",
       " 'It is owned by CNN Global, which is part of Warner Bros, Discovery.',\n",
       " 'It was founded in 1980 by American media proprietor Ted Turner and Reese Schonfeld as a 24-hour cable news channel.']"
      ]
     },
     "execution_count": 7,
     "metadata": {},
     "output_type": "execute_result"
    }
   ],
   "source": [
    "# sentence / word tokenization\n",
    "cnn = 'The Cable News Network is a multinational news-based pay television channel headquartered in Atlanta, Georgia. It is owned by CNN Global, which is part of Warner Bros, Discovery. It was founded in 1980 by American media proprietor Ted Turner and Reese Schonfeld as a 24-hour cable news channel.'\n",
    "\n",
    "#word_tokenize(cnn)\n",
    "sent_tokenize(cnn)"
   ]
  },
  {
   "cell_type": "code",
   "execution_count": 8,
   "metadata": {
    "id": "D5KT6wDqNbZT"
   },
   "outputs": [
    {
     "name": "stdout",
     "output_type": "stream",
     "text": [
      "this : a stop word.\n",
      "first\n",
      "sentence\n",
      "this : a stop word.\n",
      "second\n",
      "sentence\n"
     ]
    },
    {
     "data": {
      "text/plain": [
       "'\\ntext = nltk.Text(words)\\ndist = nltk.FreqDist(text)\\nprint(dist)\\nprint(dist.most_common(3))\\n'"
      ]
     },
     "execution_count": 8,
     "metadata": {},
     "output_type": "execute_result"
    }
   ],
   "source": [
    "# a combination of tokenization and stopword removal\n",
    "sent = 'This is the first sentence, and this is the second sentence.'\n",
    "words = word_tokenize(sent.lower())\n",
    "\n",
    "for word in words:\n",
    "  if len(word) <= 3:\n",
    "    continue\n",
    "  if word in stops_en:\n",
    "    print(word,': a stop word.')\n",
    "  else:\n",
    "    print(word)\n",
    "\n",
    "'''\n",
    "text = nltk.Text(words)\n",
    "dist = nltk.FreqDist(text)\n",
    "print(dist)\n",
    "print(dist.most_common(3))\n",
    "'''"
   ]
  },
  {
   "cell_type": "code",
   "execution_count": 17,
   "metadata": {},
   "outputs": [],
   "source": [
    "sentence = \"Education is the most powerful weapon that you can use to change the world\""
   ]
  },
  {
   "cell_type": "code",
   "execution_count": 18,
   "metadata": {},
   "outputs": [],
   "source": [
    "sentence = sentence.lower()"
   ]
  },
  {
   "cell_type": "code",
   "execution_count": 19,
   "metadata": {},
   "outputs": [],
   "source": [
    "words = word_tokenize(sentence)"
   ]
  },
  {
   "cell_type": "code",
   "execution_count": 24,
   "metadata": {},
   "outputs": [],
   "source": [
    "no_stops = [word for word in words if word in stops_en]"
   ]
  },
  {
   "cell_type": "code",
   "execution_count": 26,
   "metadata": {},
   "outputs": [
    {
     "data": {
      "text/plain": [
       "8"
      ]
     },
     "execution_count": 26,
     "metadata": {},
     "output_type": "execute_result"
    }
   ],
   "source": [
    "len(no_stops)"
   ]
  },
  {
   "cell_type": "code",
   "execution_count": null,
   "metadata": {},
   "outputs": [],
   "source": []
  },
  {
   "cell_type": "code",
   "execution_count": null,
   "metadata": {},
   "outputs": [],
   "source": []
  },
  {
   "cell_type": "markdown",
   "metadata": {
    "id": "CP2TWgFCwFHG"
   },
   "source": [
    "## POS tagging\n",
    "\n",
    "- **Part-of-speech (POS)** tagging: Figuring out what are nouns, verbs, adjectives, etc. \n",
    "- It refers to categorizing words in a text (corpus) in correspondence with a particular part of speech, depending on the definition of the word and its context."
   ]
  },
  {
   "cell_type": "code",
   "execution_count": 27,
   "metadata": {
    "id": "pRZ8SLobNbZV"
   },
   "outputs": [
    {
     "name": "stderr",
     "output_type": "stream",
     "text": [
      "[nltk_data] Downloading package averaged_perceptron_tagger to\n",
      "[nltk_data]     C:\\Users\\DELL 5590\\AppData\\Roaming\\nltk_data...\n",
      "[nltk_data]   Unzipping taggers\\averaged_perceptron_tagger.zip.\n",
      "[nltk_data] Downloading package tagsets to C:\\Users\\DELL\n",
      "[nltk_data]     5590\\AppData\\Roaming\\nltk_data...\n"
     ]
    },
    {
     "name": "stdout",
     "output_type": "stream",
     "text": [
      "$: dollar\n",
      "    $ -$ --$ A$ C$ HK$ M$ NZ$ S$ U.S.$ US$\n",
      "'': closing quotation mark\n",
      "    ' ''\n",
      "(: opening parenthesis\n",
      "    ( [ {\n",
      "): closing parenthesis\n",
      "    ) ] }\n",
      ",: comma\n",
      "    ,\n",
      "--: dash\n",
      "    --\n",
      ".: sentence terminator\n",
      "    . ! ?\n",
      ":: colon or ellipsis\n",
      "    : ; ...\n",
      "CC: conjunction, coordinating\n",
      "    & 'n and both but either et for less minus neither nor or plus so\n",
      "    therefore times v. versus vs. whether yet\n",
      "CD: numeral, cardinal\n",
      "    mid-1890 nine-thirty forty-two one-tenth ten million 0.5 one forty-\n",
      "    seven 1987 twenty '79 zero two 78-degrees eighty-four IX '60s .025\n",
      "    fifteen 271,124 dozen quintillion DM2,000 ...\n",
      "DT: determiner\n",
      "    all an another any both del each either every half la many much nary\n",
      "    neither no some such that the them these this those\n",
      "EX: existential there\n",
      "    there\n",
      "FW: foreign word\n",
      "    gemeinschaft hund ich jeux habeas Haementeria Herr K'ang-si vous\n",
      "    lutihaw alai je jour objets salutaris fille quibusdam pas trop Monte\n",
      "    terram fiche oui corporis ...\n",
      "IN: preposition or conjunction, subordinating\n",
      "    astride among uppon whether out inside pro despite on by throughout\n",
      "    below within for towards near behind atop around if like until below\n",
      "    next into if beside ...\n",
      "JJ: adjective or numeral, ordinal\n",
      "    third ill-mannered pre-war regrettable oiled calamitous first separable\n",
      "    ectoplasmic battery-powered participatory fourth still-to-be-named\n",
      "    multilingual multi-disciplinary ...\n",
      "JJR: adjective, comparative\n",
      "    bleaker braver breezier briefer brighter brisker broader bumper busier\n",
      "    calmer cheaper choosier cleaner clearer closer colder commoner costlier\n",
      "    cozier creamier crunchier cuter ...\n",
      "JJS: adjective, superlative\n",
      "    calmest cheapest choicest classiest cleanest clearest closest commonest\n",
      "    corniest costliest crassest creepiest crudest cutest darkest deadliest\n",
      "    dearest deepest densest dinkiest ...\n",
      "LS: list item marker\n",
      "    A A. B B. C C. D E F First G H I J K One SP-44001 SP-44002 SP-44005\n",
      "    SP-44007 Second Third Three Two * a b c d first five four one six three\n",
      "    two\n",
      "MD: modal auxiliary\n",
      "    can cannot could couldn't dare may might must need ought shall should\n",
      "    shouldn't will would\n",
      "NN: noun, common, singular or mass\n",
      "    common-carrier cabbage knuckle-duster Casino afghan shed thermostat\n",
      "    investment slide humour falloff slick wind hyena override subhumanity\n",
      "    machinist ...\n",
      "NNP: noun, proper, singular\n",
      "    Motown Venneboerger Czestochwa Ranzer Conchita Trumplane Christos\n",
      "    Oceanside Escobar Kreisler Sawyer Cougar Yvette Ervin ODI Darryl CTCA\n",
      "    Shannon A.K.C. Meltex Liverpool ...\n",
      "NNPS: noun, proper, plural\n",
      "    Americans Americas Amharas Amityvilles Amusements Anarcho-Syndicalists\n",
      "    Andalusians Andes Andruses Angels Animals Anthony Antilles Antiques\n",
      "    Apache Apaches Apocrypha ...\n",
      "NNS: noun, common, plural\n",
      "    undergraduates scotches bric-a-brac products bodyguards facets coasts\n",
      "    divestitures storehouses designs clubs fragrances averages\n",
      "    subjectivists apprehensions muses factory-jobs ...\n",
      "PDT: pre-determiner\n",
      "    all both half many quite such sure this\n",
      "POS: genitive marker\n",
      "    ' 's\n",
      "PRP: pronoun, personal\n",
      "    hers herself him himself hisself it itself me myself one oneself ours\n",
      "    ourselves ownself self she thee theirs them themselves they thou thy us\n",
      "PRP$: pronoun, possessive\n",
      "    her his mine my our ours their thy your\n",
      "RB: adverb\n",
      "    occasionally unabatingly maddeningly adventurously professedly\n",
      "    stirringly prominently technologically magisterially predominately\n",
      "    swiftly fiscally pitilessly ...\n",
      "RBR: adverb, comparative\n",
      "    further gloomier grander graver greater grimmer harder harsher\n",
      "    healthier heavier higher however larger later leaner lengthier less-\n",
      "    perfectly lesser lonelier longer louder lower more ...\n",
      "RBS: adverb, superlative\n",
      "    best biggest bluntest earliest farthest first furthest hardest\n",
      "    heartiest highest largest least less most nearest second tightest worst\n",
      "RP: particle\n",
      "    aboard about across along apart around aside at away back before behind\n",
      "    by crop down ever fast for forth from go high i.e. in into just later\n",
      "    low more off on open out over per pie raising start teeth that through\n",
      "    under unto up up-pp upon whole with you\n",
      "SYM: symbol\n",
      "    % & ' '' ''. ) ). * + ,. < = > @ A[fj] U.S U.S.S.R * ** ***\n",
      "TO: \"to\" as preposition or infinitive marker\n",
      "    to\n",
      "UH: interjection\n",
      "    Goodbye Goody Gosh Wow Jeepers Jee-sus Hubba Hey Kee-reist Oops amen\n",
      "    huh howdy uh dammit whammo shucks heck anyways whodunnit honey golly\n",
      "    man baby diddle hush sonuvabitch ...\n",
      "VB: verb, base form\n",
      "    ask assemble assess assign assume atone attention avoid bake balkanize\n",
      "    bank begin behold believe bend benefit bevel beware bless boil bomb\n",
      "    boost brace break bring broil brush build ...\n",
      "VBD: verb, past tense\n",
      "    dipped pleaded swiped regummed soaked tidied convened halted registered\n",
      "    cushioned exacted snubbed strode aimed adopted belied figgered\n",
      "    speculated wore appreciated contemplated ...\n",
      "VBG: verb, present participle or gerund\n",
      "    telegraphing stirring focusing angering judging stalling lactating\n",
      "    hankerin' alleging veering capping approaching traveling besieging\n",
      "    encrypting interrupting erasing wincing ...\n",
      "VBN: verb, past participle\n",
      "    multihulled dilapidated aerosolized chaired languished panelized used\n",
      "    experimented flourished imitated reunifed factored condensed sheared\n",
      "    unsettled primed dubbed desired ...\n",
      "VBP: verb, present tense, not 3rd person singular\n",
      "    predominate wrap resort sue twist spill cure lengthen brush terminate\n",
      "    appear tend stray glisten obtain comprise detest tease attract\n",
      "    emphasize mold postpone sever return wag ...\n",
      "VBZ: verb, present tense, 3rd person singular\n",
      "    bases reconstructs marks mixes displeases seals carps weaves snatches\n",
      "    slumps stretches authorizes smolders pictures emerges stockpiles\n",
      "    seduces fizzes uses bolsters slaps speaks pleads ...\n",
      "WDT: WH-determiner\n",
      "    that what whatever which whichever\n",
      "WP: WH-pronoun\n",
      "    that what whatever whatsoever which who whom whosoever\n",
      "WP$: WH-pronoun, possessive\n",
      "    whose\n",
      "WRB: Wh-adverb\n",
      "    how however whence whenever where whereby whereever wherein whereof why\n",
      "``: opening quotation mark\n",
      "    ` ``\n"
     ]
    },
    {
     "name": "stderr",
     "output_type": "stream",
     "text": [
      "[nltk_data]   Unzipping help\\tagsets.zip.\n"
     ]
    }
   ],
   "source": [
    "# POS tagging\n",
    "from nltk import pos_tag \n",
    "nltk.download('averaged_perceptron_tagger')\n",
    "nltk.download('tagsets')\n",
    "nltk.help.upenn_tagset()"
   ]
  },
  {
   "cell_type": "code",
   "execution_count": null,
   "metadata": {
    "id": "FXLh4D0wNbZV"
   },
   "outputs": [],
   "source": [
    "sent = 'I like that awesome movie, especially the great director.'\n",
    "words = word_tokenize(sent)\n",
    "tagged = pos_tag(words) \n",
    "print(tagged)"
   ]
  },
  {
   "cell_type": "markdown",
   "metadata": {
    "id": "UfXtGXkxwTeE"
   },
   "source": [
    "## Stemming and Lemmatization\n",
    "\n",
    "- **Stemming** - Removal or \"stemming\" of the last few words of a certain word.\n",
    "- **Lemmatization** - Merging modified versions of \"same\" word to be analyzed as a single word"
   ]
  },
  {
   "cell_type": "code",
   "execution_count": 28,
   "metadata": {
    "id": "J_p_nnXiNbZW"
   },
   "outputs": [
    {
     "name": "stdout",
     "output_type": "stream",
     "text": [
      "I , i , i\n",
      "liked , like , lik\n",
      "that , that , that\n",
      "awesome , awesom , awesom\n",
      "movie , movi , movy\n",
      ", , , , ,\n",
      "especially , especi , espec\n",
      "the , the , the\n",
      "director , director , direct\n",
      "was , wa , was\n",
      "the , the , the\n",
      "best , best , best\n",
      "guy , guy , guy\n",
      ". , . , .\n"
     ]
    }
   ],
   "source": [
    "# Stemming\n",
    "\n",
    "porter = nltk.PorterStemmer()\n",
    "\n",
    "lancaster = nltk.LancasterStemmer()\n",
    "\n",
    "sent = 'I liked that awesome movie, especially the director was the best guy.'\n",
    "words = word_tokenize(sent)\n",
    "for w in words:\n",
    "    print(w,',',porter.stem(w),',',lancaster.stem(w)) "
   ]
  },
  {
   "cell_type": "code",
   "execution_count": 29,
   "metadata": {
    "id": "soImeUoANbZX"
   },
   "outputs": [
    {
     "name": "stderr",
     "output_type": "stream",
     "text": [
      "[nltk_data] Downloading package wordnet to C:\\Users\\DELL\n",
      "[nltk_data]     5590\\AppData\\Roaming\\nltk_data...\n"
     ]
    },
    {
     "name": "stdout",
     "output_type": "stream",
     "text": [
      "I , I\n",
      "liked , liked\n",
      "that , that\n",
      "awesome , awesome\n",
      "movie , movie\n",
      ", , ,\n",
      "especially , especially\n",
      "the , the\n",
      "director , director\n",
      "now , now\n",
      "was , wa\n",
      "moving , moving\n",
      "to , to\n",
      "another , another\n",
      "state , state\n",
      ". , .\n",
      "I , I\n",
      "am , am\n",
      "liking , liking\n",
      "the , the\n",
      "show , show\n",
      "as , a\n",
      "well , well\n",
      ". , .\n"
     ]
    }
   ],
   "source": [
    "# Lemmatization\n",
    "\n",
    "wnl = nltk.WordNetLemmatizer()\n",
    "nltk.download('wordnet')\n",
    "\n",
    "sent = 'I liked that awesome movie, especially the director now was moving to another state. I am liking the show as well.'\n",
    "words = word_tokenize(sent)\n",
    "for t in words:\n",
    "    print(t,',',wnl.lemmatize(t))"
   ]
  },
  {
   "cell_type": "code",
   "execution_count": 31,
   "metadata": {},
   "outputs": [
    {
     "data": {
      "text/plain": [
       "'pract'"
      ]
     },
     "execution_count": 31,
     "metadata": {},
     "output_type": "execute_result"
    }
   ],
   "source": [
    "lancaster.stem('practice')"
   ]
  },
  {
   "cell_type": "code",
   "execution_count": null,
   "metadata": {},
   "outputs": [],
   "source": []
  },
  {
   "cell_type": "markdown",
   "metadata": {
    "id": "xzPnTKoUfSo1"
   },
   "source": [
    "## Word Sense Disambiguation"
   ]
  },
  {
   "cell_type": "code",
   "execution_count": 32,
   "metadata": {
    "id": "Qqke7MzSfSo1"
   },
   "outputs": [
    {
     "name": "stdout",
     "output_type": "stream",
     "text": [
      "Synset('savings_bank.n.02')\n",
      "None\n",
      "Synset('river.n.01')\n",
      "Synset('overflow.v.01')\n",
      "None\n",
      "Synset('savings_bank.n.02')\n"
     ]
    }
   ],
   "source": [
    "from nltk.wsd import lesk\n",
    "\n",
    "sent = 'I went to the bank to deposit money and then went to the river to swim in the bank.'\n",
    "sent = 'the river overflowed the bank'\n",
    "words = word_tokenize(sent)\n",
    "print(lesk(words,'bank'))\n",
    "\n",
    "#print(words)\n",
    "for w in words:\n",
    "  print(lesk(w,w))"
   ]
  },
  {
   "cell_type": "code",
   "execution_count": 33,
   "metadata": {
    "id": "5FaV7POdsi7G"
   },
   "outputs": [
    {
     "name": "stdout",
     "output_type": "stream",
     "text": [
      "Synset('savings_bank.n.02')\n",
      "None\n",
      "Synset('river.n.01')\n",
      "Synset('overflow.v.01')\n",
      "None\n",
      "Synset('savings_bank.n.02')\n"
     ]
    }
   ],
   "source": [
    "from nltk.wsd import lesk\n",
    "\n",
    "sent = 'I went to the bank to deposit money and then went to the river to swim in the bank.'\n",
    "sent = 'the river overflowed the bank'\n",
    "words = word_tokenize(sent)\n",
    "print(lesk(words,'bank'))\n",
    "\n",
    "#print(words)\n",
    "for w in words:\n",
    "  print(lesk(w,w))"
   ]
  },
  {
   "cell_type": "code",
   "execution_count": 34,
   "metadata": {
    "id": "KTTT9z64snD-"
   },
   "outputs": [
    {
     "name": "stdout",
     "output_type": "stream",
     "text": [
      "Synset('business.n.01') a commercial or industrial enterprise and the people who constitute it\n",
      "Synset('commercial_enterprise.n.02') the activity of providing goods and services involving financial and commercial and industrial aspects\n",
      "Synset('occupation.n.01') the principal activity in your life that you do to earn money\n",
      "Synset('business.n.04') a rightful concern or responsibility\n",
      "Synset('business.n.05') an immediate objective\n",
      "Synset('business.n.06') the volume of commercial activity\n",
      "Synset('business.n.07') business concerns collectively\n",
      "Synset('clientele.n.01') customers collectively\n",
      "Synset('business.n.09') incidental activity performed by an actor for dramatic effect\n"
     ]
    }
   ],
   "source": [
    "from nltk.corpus import wordnet as wn\n",
    "\n",
    "for ss in wn.synsets('business'):\n",
    "    print(ss, ss.definition())"
   ]
  },
  {
   "cell_type": "markdown",
   "metadata": {
    "id": "U9BvGKdTfSo2"
   },
   "source": [
    "## Name Entity Recognition (NER)"
   ]
  },
  {
   "cell_type": "code",
   "execution_count": null,
   "metadata": {
    "colab": {
     "base_uri": "https://localhost:8080/"
    },
    "id": "lH0QWKADrW9L",
    "outputId": "fecf02fe-cace-44d3-c21c-0758e719ff3e"
   },
   "outputs": [
    {
     "name": "stderr",
     "output_type": "stream",
     "text": [
      "[nltk_data] Downloading package maxent_ne_chunker to C:\\Users\\DELL\n",
      "[nltk_data]     5590\\AppData\\Roaming\\nltk_data...\n"
     ]
    }
   ],
   "source": [
    "nltk.download('maxent_ne_chunker')\n",
    "nltk.download('words')\n",
    "nltk.download('tagsets')"
   ]
  },
  {
   "cell_type": "code",
   "execution_count": null,
   "metadata": {
    "id": "1t-WM975rl3B"
   },
   "outputs": [],
   "source": [
    "\n",
    "#ex = 'European authorities fined Google a record $5.1 billion on Wednesday for abusing its power in the mobile phone market and ordered the company to alter its practices'\n",
    "ex = 'What is the weather in New York and Chicago today?'\n",
    "words = word_tokenize(ex)\n",
    "tags = pos_tag(words)\n",
    "\n",
    "ne_tree = nltk.ne_chunk(tags)\n",
    "\n",
    "print(ne_tree)"
   ]
  },
  {
   "cell_type": "markdown",
   "metadata": {
    "id": "zRlUgO7JSPlH"
   },
   "source": [
    "<a id='lab2'></a>\n",
    "## Session 2: Document Clustering"
   ]
  },
  {
   "cell_type": "markdown",
   "metadata": {
    "id": "kx15Gv4JfSo3"
   },
   "source": [
    "Problem Statement - To be Added"
   ]
  },
  {
   "cell_type": "markdown",
   "metadata": {
    "id": "ldrXx18YScaA"
   },
   "source": [
    "### 1. Load the data from Google drive"
   ]
  },
  {
   "cell_type": "code",
   "execution_count": null,
   "metadata": {
    "colab": {
     "base_uri": "https://localhost:8080/"
    },
    "id": "y8rjwVnGShsw",
    "outputId": "3707b8d5-54d8-4e83-cd8e-b5c438af5a38"
   },
   "outputs": [
    {
     "name": "stdout",
     "output_type": "stream",
     "text": [
      "Drive already mounted at /content/drive; to attempt to forcibly remount, call drive.mount(\"/content/drive\", force_remount=True).\n"
     ]
    }
   ],
   "source": [
    "from google.colab import drive\n",
    "\n",
    "drive.mount('/content/drive')"
   ]
  },
  {
   "cell_type": "code",
   "execution_count": null,
   "metadata": {
    "colab": {
     "base_uri": "https://localhost:8080/",
     "height": 206
    },
    "id": "ICJBZt08SkgC",
    "outputId": "1d91e82f-2964-4bfc-b50a-553650b659a3"
   },
   "outputs": [
    {
     "data": {
      "text/html": [
       "\n",
       "  <div id=\"df-8a6d5911-8946-4b44-bb10-07392efff27f\">\n",
       "    <div class=\"colab-df-container\">\n",
       "      <div>\n",
       "<style scoped>\n",
       "    .dataframe tbody tr th:only-of-type {\n",
       "        vertical-align: middle;\n",
       "    }\n",
       "\n",
       "    .dataframe tbody tr th {\n",
       "        vertical-align: top;\n",
       "    }\n",
       "\n",
       "    .dataframe thead th {\n",
       "        text-align: right;\n",
       "    }\n",
       "</style>\n",
       "<table border=\"1\" class=\"dataframe\">\n",
       "  <thead>\n",
       "    <tr style=\"text-align: right;\">\n",
       "      <th></th>\n",
       "      <th>id</th>\n",
       "      <th>title</th>\n",
       "    </tr>\n",
       "  </thead>\n",
       "  <tbody>\n",
       "    <tr>\n",
       "      <th>0</th>\n",
       "      <td>1</td>\n",
       "      <td>Self-Organization of Associative Database and ...</td>\n",
       "    </tr>\n",
       "    <tr>\n",
       "      <th>1</th>\n",
       "      <td>10</td>\n",
       "      <td>A Mean Field Theory of Layer IV of Visual Cort...</td>\n",
       "    </tr>\n",
       "    <tr>\n",
       "      <th>2</th>\n",
       "      <td>100</td>\n",
       "      <td>Storing Covariance by the Associative Long-Ter...</td>\n",
       "    </tr>\n",
       "    <tr>\n",
       "      <th>3</th>\n",
       "      <td>1000</td>\n",
       "      <td>Bayesian Query Construction for Neural Network...</td>\n",
       "    </tr>\n",
       "    <tr>\n",
       "      <th>4</th>\n",
       "      <td>1001</td>\n",
       "      <td>Neural Network Ensembles  Cross Validation  an...</td>\n",
       "    </tr>\n",
       "  </tbody>\n",
       "</table>\n",
       "</div>\n",
       "      <button class=\"colab-df-convert\" onclick=\"convertToInteractive('df-8a6d5911-8946-4b44-bb10-07392efff27f')\"\n",
       "              title=\"Convert this dataframe to an interactive table.\"\n",
       "              style=\"display:none;\">\n",
       "        \n",
       "  <svg xmlns=\"http://www.w3.org/2000/svg\" height=\"24px\"viewBox=\"0 0 24 24\"\n",
       "       width=\"24px\">\n",
       "    <path d=\"M0 0h24v24H0V0z\" fill=\"none\"/>\n",
       "    <path d=\"M18.56 5.44l.94 2.06.94-2.06 2.06-.94-2.06-.94-.94-2.06-.94 2.06-2.06.94zm-11 1L8.5 8.5l.94-2.06 2.06-.94-2.06-.94L8.5 2.5l-.94 2.06-2.06.94zm10 10l.94 2.06.94-2.06 2.06-.94-2.06-.94-.94-2.06-.94 2.06-2.06.94z\"/><path d=\"M17.41 7.96l-1.37-1.37c-.4-.4-.92-.59-1.43-.59-.52 0-1.04.2-1.43.59L10.3 9.45l-7.72 7.72c-.78.78-.78 2.05 0 2.83L4 21.41c.39.39.9.59 1.41.59.51 0 1.02-.2 1.41-.59l7.78-7.78 2.81-2.81c.8-.78.8-2.07 0-2.86zM5.41 20L4 18.59l7.72-7.72 1.47 1.35L5.41 20z\"/>\n",
       "  </svg>\n",
       "      </button>\n",
       "      \n",
       "  <style>\n",
       "    .colab-df-container {\n",
       "      display:flex;\n",
       "      flex-wrap:wrap;\n",
       "      gap: 12px;\n",
       "    }\n",
       "\n",
       "    .colab-df-convert {\n",
       "      background-color: #E8F0FE;\n",
       "      border: none;\n",
       "      border-radius: 50%;\n",
       "      cursor: pointer;\n",
       "      display: none;\n",
       "      fill: #1967D2;\n",
       "      height: 32px;\n",
       "      padding: 0 0 0 0;\n",
       "      width: 32px;\n",
       "    }\n",
       "\n",
       "    .colab-df-convert:hover {\n",
       "      background-color: #E2EBFA;\n",
       "      box-shadow: 0px 1px 2px rgba(60, 64, 67, 0.3), 0px 1px 3px 1px rgba(60, 64, 67, 0.15);\n",
       "      fill: #174EA6;\n",
       "    }\n",
       "\n",
       "    [theme=dark] .colab-df-convert {\n",
       "      background-color: #3B4455;\n",
       "      fill: #D2E3FC;\n",
       "    }\n",
       "\n",
       "    [theme=dark] .colab-df-convert:hover {\n",
       "      background-color: #434B5C;\n",
       "      box-shadow: 0px 1px 3px 1px rgba(0, 0, 0, 0.15);\n",
       "      filter: drop-shadow(0px 1px 2px rgba(0, 0, 0, 0.3));\n",
       "      fill: #FFFFFF;\n",
       "    }\n",
       "  </style>\n",
       "\n",
       "      <script>\n",
       "        const buttonEl =\n",
       "          document.querySelector('#df-8a6d5911-8946-4b44-bb10-07392efff27f button.colab-df-convert');\n",
       "        buttonEl.style.display =\n",
       "          google.colab.kernel.accessAllowed ? 'block' : 'none';\n",
       "\n",
       "        async function convertToInteractive(key) {\n",
       "          const element = document.querySelector('#df-8a6d5911-8946-4b44-bb10-07392efff27f');\n",
       "          const dataTable =\n",
       "            await google.colab.kernel.invokeFunction('convertToInteractive',\n",
       "                                                     [key], {});\n",
       "          if (!dataTable) return;\n",
       "\n",
       "          const docLinkHtml = 'Like what you see? Visit the ' +\n",
       "            '<a target=\"_blank\" href=https://colab.research.google.com/notebooks/data_table.ipynb>data table notebook</a>'\n",
       "            + ' to learn more about interactive tables.';\n",
       "          element.innerHTML = '';\n",
       "          dataTable['output_type'] = 'display_data';\n",
       "          await google.colab.output.renderOutput(dataTable, element);\n",
       "          const docLink = document.createElement('div');\n",
       "          docLink.innerHTML = docLinkHtml;\n",
       "          element.appendChild(docLink);\n",
       "        }\n",
       "      </script>\n",
       "    </div>\n",
       "  </div>\n",
       "  "
      ],
      "text/plain": [
       "     id                                              title\n",
       "0     1  Self-Organization of Associative Database and ...\n",
       "1    10  A Mean Field Theory of Layer IV of Visual Cort...\n",
       "2   100  Storing Covariance by the Associative Long-Ter...\n",
       "3  1000  Bayesian Query Construction for Neural Network...\n",
       "4  1001  Neural Network Ensembles  Cross Validation  an..."
      ]
     },
     "execution_count": 12,
     "metadata": {},
     "output_type": "execute_result"
    }
   ],
   "source": [
    "import pandas as pd\n",
    "\n",
    "papers = pd.read_csv('/content/drive/MyDrive/papers (1).csv') # change this directory to where you store Papers\n",
    "\n",
    "# View the first 5 rows of papers\n",
    "papers.head()"
   ]
  },
  {
   "cell_type": "markdown",
   "metadata": {
    "id": "LOHPEw8cSuA9"
   },
   "source": [
    "### 2. Clean the data"
   ]
  },
  {
   "cell_type": "code",
   "execution_count": null,
   "metadata": {
    "colab": {
     "base_uri": "https://localhost:8080/"
    },
    "id": "yorz_uyAS_gs",
    "outputId": "43b4c088-d7e6-4e7b-dd20-ba8d56bb63c8"
   },
   "outputs": [
    {
     "name": "stdout",
     "output_type": "stream",
     "text": [
      "999\n"
     ]
    },
    {
     "data": {
      "text/plain": [
       "['self-organization of associative database and its applications',\n",
       " 'a mean field theory of layer iv of visual cortex and its application to artificial neural networks',\n",
       " 'storing covariance by the associative long-term potentiation and depression of synaptic strengths in the hippocampus',\n",
       " 'bayesian query construction for neural network models',\n",
       " 'neural network ensembles  cross validation  and active learning',\n",
       " 'using a neural net to instantiate a deformable model',\n",
       " 'plasticity-mediated competitive learning',\n",
       " 'iceg morphology classification using an analogue vlsi neural network',\n",
       " 'real-time control of a tokamak plasma using neural networks',\n",
       " 'pulsestream synapses with non-volatile analogue amorphous-silicon memories']"
      ]
     },
     "execution_count": 13,
     "metadata": {},
     "output_type": "execute_result"
    }
   ],
   "source": [
    "# Convert the titles to lowercase\n",
    "papers['title_text_processed'] = papers['title'].map(lambda x: x.lower())\n",
    "\n",
    "titles = list(papers['title_text_processed'])\n",
    "print(len(titles))\n",
    "\n",
    "# Print out the first rows of papers\n",
    "titles[:10]"
   ]
  },
  {
   "cell_type": "markdown",
   "metadata": {
    "id": "bubDmFwzTGPL"
   },
   "source": [
    "### 3. Construct features using TF-IDF"
   ]
  },
  {
   "cell_type": "code",
   "execution_count": null,
   "metadata": {
    "colab": {
     "base_uri": "https://localhost:8080/"
    },
    "id": "mCu_G1VvTMyQ",
    "outputId": "c962b3bb-d6c6-4d90-b094-3cc9387b3fa0"
   },
   "outputs": [
    {
     "name": "stdout",
     "output_type": "stream",
     "text": [
      "['acquisition' 'active' 'active learning' 'activity' 'adaptation'\n",
      " 'adaptive' 'algorithm' 'algorithms' 'analog' 'analog vlsi' 'analysis'\n",
      " 'analytical' 'annealing' 'application' 'applications' 'applied'\n",
      " 'approach' 'approaches' 'approximate' 'approximating' 'approximation'\n",
      " 'approximations' 'architecture' 'artificial' 'artificial neural'\n",
      " 'associative' 'attention' 'attentional' 'audio' 'auditory'\n",
      " 'backpropagation' 'based' 'based reinforcement' 'basis' 'basis function'\n",
      " 'batch' 'bayes' 'bayesian' 'bayesian learning' 'bayesian model'\n",
      " 'bayesian networks' 'belief' 'belief networks' 'bifurcation' 'binary'\n",
      " 'blind' 'blind separation' 'boltzmann' 'boltzmann machine' 'boosting'\n",
      " 'bounds' 'brain' 'capacity' 'carlo' 'case' 'cell' 'cells' 'center'\n",
      " 'center surround' 'channel' 'chip' 'choice' 'circuit' 'circuits' 'class'\n",
      " 'classes' 'classification' 'classifier' 'classifiers' 'clustering' 'code'\n",
      " 'codes' 'coding' 'color' 'combined' 'combining' 'committee' 'comparison'\n",
      " 'competition' 'competitive' 'complex' 'complex cell' 'complexity'\n",
      " 'component' 'component analysis' 'computation' 'computational' 'computer'\n",
      " 'computing' 'connectionist' 'construction' 'context' 'continuous'\n",
      " 'contour' 'control' 'convergence' 'correcting' 'correlation'\n",
      " 'correspondence' 'cortex' 'cortical' 'coupling' 'cross'\n",
      " 'cross validation' 'curves' 'data' 'decision' 'decision processes'\n",
      " 'decision trees' 'decomposition' 'delay' 'dendritic' 'density'\n",
      " 'density estimation' 'dependent' 'descent' 'detection' 'difference'\n",
      " 'difference learning' 'dimensional' 'dimensionality' 'direction'\n",
      " 'discrete' 'discriminant' 'discrimination' 'distributed' 'distributions'\n",
      " 'does' 'dominance' 'dynamic' 'dynamical' 'dynamically' 'dynamics' 'early'\n",
      " 'effect' 'effective' 'effects' 'efficient' 'em' 'em algorithm' 'energy'\n",
      " 'ensemble' 'entropy' 'environments' 'error' 'estimating' 'estimation'\n",
      " 'exact' 'examples' 'expert' 'experts' 'extraction' 'face' 'facial'\n",
      " 'factor' 'factor analysis' 'fast' 'feature' 'feature extraction'\n",
      " 'features' 'feedback' 'field' 'fields' 'finite' 'forward' 'framework'\n",
      " 'function' 'function approximation' 'functions' 'gaussian'\n",
      " 'gaussian process' 'gaussian processes' 'general' 'generalization'\n",
      " 'generalized' 'generative' 'gradient' 'gradient descent' 'graph'\n",
      " 'graphical' 'graphical models' 'hand' 'hebbian' 'hidden' 'hidden markov'\n",
      " 'hierarchical' 'hierarchies' 'high' 'hmm' 'human' 'hybrid' 'ica'\n",
      " 'identification' 'image' 'images' 'implementation' 'improved' 'improving'\n",
      " 'independent' 'independent component' 'induction' 'inference'\n",
      " 'information' 'information maximization' 'information theoretic'\n",
      " 'inhibitory' 'input' 'inputs' 'integration' 'interactions' 'invariant'\n",
      " 'kernel' 'kernels' 'large' 'lateral' 'layer' 'layered' 'learn' 'learning'\n",
      " 'learning algorithm' 'learning continuous' 'learning function'\n",
      " 'learning multi' 'learning multilayer' 'learning restricted'\n",
      " 'learning rules' 'like' 'likelihood' 'line' 'line learning' 'linear'\n",
      " 'local' 'localization' 'long' 'machine' 'machine learning' 'machines'\n",
      " 'map' 'mapping' 'maps' 'margin' 'markov' 'markov decision'\n",
      " 'markov models' 'matching' 'matrix' 'maximization' 'maximum'\n",
      " 'maximum likelihood' 'mean' 'mean field' 'memory' 'memory based' 'method'\n",
      " 'methods' 'minimization' 'mixture' 'mixtures' 'mixtures experts' 'model'\n",
      " 'model selection' 'modeling' 'modelling' 'models' 'modular' 'monte'\n",
      " 'monte carlo' 'motion' 'motor' 'multi' 'multidimensional' 'multilayer'\n",
      " 'multiple' 'natural' 'natural images' 'navigation' 'net' 'network'\n",
      " 'network models' 'networks' 'networks using' 'neural' 'neural model'\n",
      " 'neural net' 'neural nets' 'neural network' 'neural networks'\n",
      " 'neuromorphic' 'neuron' 'neuronal' 'neurons' 'new' 'noise' 'noisy' 'non'\n",
      " 'nonlinear' 'normalization' 'novelty' 'novelty detection' 'object'\n",
      " 'object recognition' 'observable' 'observable markov' 'ocular'\n",
      " 'ocular dominance' 'online' 'optimal' 'optimization' 'optimizing' 'order'\n",
      " 'order statistics' 'organization' 'organizing' 'orientation'\n",
      " 'overfitting' 'pairwise' 'parallel' 'parameter' 'partially'\n",
      " 'partially observable' 'particle' 'pattern' 'pca' 'perception'\n",
      " 'perceptron' 'perceptrons' 'perceptual' 'perceptual organization'\n",
      " 'performance' 'phase' 'policy' 'population' 'potentials' 'power'\n",
      " 'prediction' 'predictive' 'principle' 'probabilistic' 'probability'\n",
      " 'problem' 'problems' 'process' 'processes' 'processing' 'programming'\n",
      " 'propagation' 'properties' 'radial' 'radial basis' 'range' 'rate' 'rates'\n",
      " 'rbf' 'real' 'real time' 'recognition' 'recognition using' 'recordings'\n",
      " 'recurrent' 'recurrent networks' 'recurrent neural' 'recursive'\n",
      " 'regression' 'regularization' 'reinforcement' 'reinforcement learning'\n",
      " 'relaxation' 'representation' 'representations' 'response' 'restricted'\n",
      " 'results' 'retrieval' 'risk' 'robot' 'robust' 'role' 'rule' 'rules'\n",
      " 'sample' 'sampling' 'scale' 'scaling' 'scene' 'scenes' 'search' 'second'\n",
      " 'second order' 'segmentation' 'selection' 'selective' 'self'\n",
      " 'self organization' 'self organizing' 'sensitive' 'sensor' 'sensory'\n",
      " 'separation' 'sequences' 'sequential' 'series' 'sets' 'shape' 'signal'\n",
      " 'signals' 'silicon' 'similarity' 'simple' 'single' 'single neurons'\n",
      " 'singular' 'size' 'small' 'smoothing' 'solution' 'solutions' 'sound'\n",
      " 'source' 'source separation' 'sources' 'space' 'spaces' 'sparse'\n",
      " 'spatial' 'speech' 'speech recognition' 'speed' 'spike' 'spike based'\n",
      " 'spike timing' 'spiking' 'spiking neurons' 'squared' 'stability' 'state'\n",
      " 'statistical' 'statistical models' 'statistically' 'statistics' 'stimuli'\n",
      " 'stochastic' 'stopping' 'storage' 'structure' 'structured' 'study'\n",
      " 'supervised' 'support' 'support vector' 'suppression' 'surround'\n",
      " 'switching' 'synapses' 'synaptic' 'systems' 'task' 'tasks' 'techniques'\n",
      " 'temporal' 'temporally' 'term' 'theoretic' 'theory' 'time' 'time delay'\n",
      " 'time series' 'timing' 'topographic' 'training' 'training sets'\n",
      " 'transformation' 'transitions' 'trees' 'tuning' 'unsupervised'\n",
      " 'unsupervised learning' 'use' 'using' 'using neural' 'value' 'variable'\n",
      " 'variational' 'vc' 'vector' 'vector machines' 'vector method' 'video'\n",
      " 'view' 'vision' 'visual' 'visual cortex' 'visual search' 'vlsi'\n",
      " 'vlsi model' 'wavelet' 'weights' 'winner' 'word' 'work' 'world']\n",
      "[0.         0.         0.         0.         0.         0.\n",
      " 0.         0.         0.         0.         0.         0.\n",
      " 0.         0.         0.         0.         0.         0.\n",
      " 0.         0.         0.         0.         0.         0.\n",
      " 0.         0.47656366 0.         0.         0.         0.\n",
      " 0.         0.         0.         0.         0.         0.\n",
      " 0.         0.         0.         0.         0.         0.\n",
      " 0.         0.         0.         0.         0.         0.\n",
      " 0.         0.         0.         0.         0.         0.\n",
      " 0.         0.         0.         0.         0.         0.\n",
      " 0.         0.         0.         0.         0.         0.\n",
      " 0.         0.         0.         0.         0.         0.\n",
      " 0.         0.         0.         0.         0.         0.\n",
      " 0.         0.         0.         0.         0.         0.\n",
      " 0.         0.         0.         0.         0.         0.\n",
      " 0.         0.         0.         0.         0.         0.\n",
      " 0.         0.         0.         0.         0.         0.\n",
      " 0.         0.         0.         0.         0.         0.\n",
      " 0.         0.         0.         0.         0.         0.\n",
      " 0.         0.         0.         0.         0.         0.\n",
      " 0.         0.         0.         0.         0.         0.\n",
      " 0.         0.         0.         0.         0.         0.\n",
      " 0.         0.         0.         0.         0.         0.\n",
      " 0.         0.         0.         0.         0.         0.\n",
      " 0.         0.         0.         0.         0.         0.\n",
      " 0.         0.         0.         0.         0.         0.\n",
      " 0.         0.         0.         0.         0.         0.\n",
      " 0.         0.         0.         0.         0.         0.\n",
      " 0.         0.         0.         0.         0.         0.\n",
      " 0.         0.         0.         0.         0.         0.\n",
      " 0.         0.         0.         0.         0.         0.\n",
      " 0.         0.         0.         0.         0.         0.\n",
      " 0.         0.         0.         0.         0.         0.\n",
      " 0.         0.         0.         0.         0.         0.\n",
      " 0.         0.         0.         0.         0.         0.\n",
      " 0.         0.         0.         0.         0.         0.\n",
      " 0.         0.         0.         0.         0.         0.\n",
      " 0.         0.         0.         0.         0.         0.\n",
      " 0.         0.         0.         0.         0.         0.50688893\n",
      " 0.         0.         0.         0.         0.         0.\n",
      " 0.         0.         0.         0.         0.         0.\n",
      " 0.         0.         0.         0.         0.         0.\n",
      " 0.         0.         0.         0.         0.         0.\n",
      " 0.         0.         0.         0.         0.         0.\n",
      " 0.         0.         0.         0.         0.         0.\n",
      " 0.         0.         0.         0.         0.         0.\n",
      " 0.         0.         0.         0.         0.         0.\n",
      " 0.         0.         0.         0.         0.         0.\n",
      " 0.         0.         0.         0.         0.         0.\n",
      " 0.         0.         0.         0.         0.         0.\n",
      " 0.         0.         0.         0.         0.         0.\n",
      " 0.         0.         0.         0.         0.         0.\n",
      " 0.         0.         0.         0.         0.         0.\n",
      " 0.         0.         0.         0.         0.         0.\n",
      " 0.         0.         0.         0.         0.         0.\n",
      " 0.         0.         0.         0.         0.         0.\n",
      " 0.         0.         0.         0.         0.         0.\n",
      " 0.         0.         0.         0.         0.         0.\n",
      " 0.         0.         0.         0.         0.         0.\n",
      " 0.         0.         0.         0.         0.         0.\n",
      " 0.         0.         0.         0.         0.         0.\n",
      " 0.         0.         0.         0.         0.         0.\n",
      " 0.         0.         0.         0.         0.         0.\n",
      " 0.         0.         0.         0.         0.         0.\n",
      " 0.         0.         0.         0.         0.         0.\n",
      " 0.         0.         0.         0.         0.         0.\n",
      " 0.         0.         0.         0.         0.         0.\n",
      " 0.         0.         0.         0.         0.         0.\n",
      " 0.         0.         0.         0.         0.         0.\n",
      " 0.         0.         0.         0.         0.         0.\n",
      " 0.         0.         0.         0.         0.         0.\n",
      " 0.         0.         0.         0.         0.         0.\n",
      " 0.         0.         0.         0.         0.         0.\n",
      " 0.         0.         0.         0.         0.         0.\n",
      " 0.         0.         0.         0.         0.         0.\n",
      " 0.         0.         0.         0.4955358  0.         0.\n",
      " 0.         0.         0.         0.         0.51999515 0.\n",
      " 0.         0.         0.         0.         0.         0.\n",
      " 0.         0.         0.         0.         0.         0.\n",
      " 0.         0.         0.         0.         0.         0.\n",
      " 0.         0.         0.         0.         0.         0.\n",
      " 0.         0.         0.         0.         0.         0.\n",
      " 0.         0.         0.         0.         0.         0.\n",
      " 0.         0.        ]\n",
      "(999, 500)\n"
     ]
    }
   ],
   "source": [
    "from sklearn.feature_extraction.text import TfidfVectorizer\n",
    "\n",
    "import numpy as np \n",
    "\n",
    "# Specify vectorizer parameters\n",
    "tfidf_vectorizer = TfidfVectorizer(max_features=500, stop_words='english', use_idf=True, ngram_range=(1,2))\n",
    "\n",
    "tfidf_matrix = tfidf_vectorizer.fit_transform(titles).toarray()\n",
    "\n",
    "print(tfidf_vectorizer.get_feature_names_out())\n",
    "print(tfidf_matrix[2])\n",
    "\n",
    "print(tfidf_matrix.shape)"
   ]
  },
  {
   "cell_type": "markdown",
   "metadata": {
    "id": "ij3NTbtqTRjl"
   },
   "source": [
    "### 4. Run clustering and evaluate the model"
   ]
  },
  {
   "cell_type": "code",
   "execution_count": null,
   "metadata": {
    "colab": {
     "base_uri": "https://localhost:8080/"
    },
    "id": "01ufkyEETWKj",
    "outputId": "1b79304d-cc52-44b9-8ff1-9c9634cac7da"
   },
   "outputs": [
    {
     "name": "stdout",
     "output_type": "stream",
     "text": [
      "Silhouette Coefficient: 0.034\n",
      "[0, 2, 0, 2, 2, 3, 1, 2, 2, 0, 1, 0, 2, 0, 1, 1, 0, 3, 0, 0, 0, 0, 4, 3, 0, 3, 0, 2, 0, 0, 3, 3, 0, 0, 1, 0, 0, 0, 3, 2, 1, 3, 0, 2, 0, 0, 0, 0, 0, 4, 2, 1, 0, 0, 0, 0, 2, 0, 0, 2, 1, 0, 0, 0, 2, 0, 0, 0, 0, 0, 0, 1, 1, 0, 1, 2, 0, 2, 1, 2, 0, 3, 2, 4, 0, 0, 1, 2, 0, 0, 2, 0, 1, 0, 0, 2, 0, 1, 2, 0, 1, 0, 2, 0, 3, 0, 0, 4, 1, 0, 0, 2, 2, 0, 0, 2, 0, 0, 0, 0, 0, 1, 4, 2, 1, 3, 1, 0, 1, 0, 0, 0, 2, 0, 2, 0, 0, 0, 0, 0, 2, 1, 0, 0, 0, 0, 0, 0, 4, 0, 0, 0, 0, 2, 0, 1, 1, 3, 0, 0, 3, 0, 0, 1, 0, 2, 1, 1, 0, 0, 0, 2, 1, 3, 0, 2, 0, 0, 2, 2, 2, 1, 0, 3, 0, 0, 1, 2, 0, 0, 0, 0, 2, 0, 2, 0, 0, 1, 0, 0, 0, 1, 0, 4, 0, 3, 0, 1, 2, 0, 0, 0, 2, 0, 1, 0, 0, 0, 2, 2, 3, 0, 2, 0, 0, 0, 0, 0, 0, 1, 0, 1, 0, 2, 3, 0, 0, 0, 4, 0, 1, 0, 0, 0, 1, 0, 1, 1, 0, 0, 0, 0, 4, 1, 1, 0, 0, 0, 1, 0, 2, 3, 2, 0, 0, 0, 1, 2, 3, 2, 0, 1, 0, 2, 2, 0, 2, 3, 1, 3, 1, 0, 0, 2, 1, 0, 0, 0, 0, 0, 3, 1, 0, 2, 1, 0, 0, 1, 3, 4, 1, 2, 2, 3, 4, 0, 0, 0, 2, 0, 3, 1, 0, 0, 0, 0, 0, 2, 0, 0, 0, 1, 0, 0, 3, 0, 0, 0, 2, 0, 0, 0, 1, 0, 0, 0, 0, 0, 0, 0, 0, 0, 0, 0, 0, 1, 0, 3, 0, 0, 0, 2, 0, 1, 0, 0, 0, 2, 0, 0, 0, 0, 0, 0, 0, 1, 0, 2, 0, 3, 0, 0, 2, 0, 0, 0, 0, 0, 0, 1, 1, 2, 1, 0, 2, 0, 2, 0, 0, 2, 0, 0, 2, 0, 0, 0, 2, 0, 0, 2, 3, 0, 3, 0, 1, 0, 2, 0, 3, 1, 0, 0, 0, 0, 0, 0, 0, 0, 1, 4, 1, 4, 0, 4, 0, 0, 0, 1, 1, 3, 0, 0, 0, 0, 2, 0, 0, 0, 2, 1, 0, 0, 0, 0, 4, 0, 0, 0, 0, 0, 2, 3, 3, 1, 0, 0, 3, 3, 0, 0, 0, 1, 0, 3, 0, 0, 1, 1, 0, 1, 0, 0, 0, 1, 0, 2, 4, 0, 0, 0, 1, 0, 0, 0, 2, 0, 0, 0, 0, 0, 0, 0, 0, 3, 0, 0, 0, 0, 0, 3, 1, 2, 2, 0, 2, 0, 0, 1, 4, 0, 0, 1, 0, 0, 0, 3, 0, 0, 0, 0, 4, 0, 0, 1, 0, 1, 0, 0, 0, 0, 3, 3, 4, 3, 0, 2, 3, 0, 3, 0, 0, 0, 1, 0, 0, 0, 0, 0, 0, 1, 0, 1, 0, 3, 2, 1, 0, 0, 0, 0, 1, 0, 0, 0, 0, 0, 2, 0, 0, 0, 0, 0, 0, 0, 0, 0, 0, 0, 2, 0, 0, 1, 0, 3, 0, 0, 0, 0, 0, 1, 0, 0, 1, 1, 1, 0, 0, 0, 3, 0, 0, 2, 4, 4, 0, 0, 0, 0, 0, 4, 0, 0, 0, 0, 0, 2, 3, 0, 4, 1, 0, 0, 2, 0, 0, 0, 1, 0, 3, 4, 3, 1, 0, 2, 1, 0, 3, 4, 1, 1, 4, 2, 1, 1, 1, 0, 0, 0, 0, 1, 1, 0, 2, 4, 2, 0, 0, 0, 2, 0, 0, 0, 1, 0, 4, 3, 2, 0, 0, 0, 0, 4, 0, 0, 0, 3, 0, 2, 1, 0, 0, 0, 2, 0, 1, 0, 0, 1, 0, 1, 1, 0, 0, 0, 1, 2, 0, 0, 0, 0, 0, 0, 1, 0, 1, 0, 0, 0, 1, 0, 0, 0, 0, 3, 0, 1, 0, 3, 0, 1, 0, 2, 0, 0, 0, 3, 0, 4, 1, 4, 1, 0, 2, 0, 0, 0, 0, 3, 0, 0, 0, 0, 2, 0, 0, 0, 0, 0, 0, 0, 0, 0, 0, 0, 0, 0, 2, 1, 0, 3, 0, 1, 0, 0, 1, 1, 0, 0, 0, 0, 3, 0, 0, 1, 0, 0, 1, 3, 0, 4, 0, 0, 1, 3, 1, 3, 0, 2, 1, 3, 3, 0, 0, 0, 0, 0, 0, 0, 0, 0, 0, 0, 3, 0, 0, 0, 0, 1, 0, 4, 2, 0, 0, 0, 3, 0, 0, 0, 0, 1, 0, 0, 3, 0, 0, 0, 1, 2, 0, 0, 1, 0, 0, 2, 1, 0, 0, 2, 3, 2, 4, 3, 0, 0, 1, 4, 1, 0, 0, 0, 3, 1, 3, 0, 1, 0, 0, 0, 0, 2, 0, 2, 0, 0, 0, 0, 0, 1, 0, 0, 0, 0, 2, 0, 1, 4, 0, 0, 0, 2, 1, 0, 1, 2, 0, 0, 0, 0, 0, 3, 0, 0, 0, 0, 0, 2, 0, 0, 0, 3, 3, 0, 1, 0, 1, 1, 0, 1, 4, 0, 0, 3, 0, 0, 4, 0, 3, 0, 0, 4, 3, 0, 0, 1, 3, 0, 1, 4, 2, 0, 0, 0, 0, 0, 3, 0, 0, 0, 0, 2, 0, 0, 0, 0, 0, 3, 0, 0, 0, 0, 2, 0, 0, 0, 0, 1, 0, 0, 0, 1, 0, 1, 0, 0, 0, 1, 0, 0, 0, 3, 4, 0, 2, 0, 0, 1, 0, 2, 0, 0, 0, 1, 0, 2, 0, 0, 3, 0, 0, 0, 1, 0, 1, 0, 0, 2, 0, 4, 0]\n"
     ]
    }
   ],
   "source": [
    "from sklearn.cluster import KMeans\n",
    "from sklearn import metrics\n",
    "\n",
    "k = 5\n",
    "\n",
    "km = KMeans(n_clusters = k, random_state=42)\n",
    "km.fit(tfidf_matrix)\n",
    "\n",
    "# evaluation\n",
    "print(\"Silhouette Coefficient: %0.3f\" % metrics.silhouette_score(tfidf_matrix, km.labels_, sample_size=100, random_state=2021))\n",
    "\n",
    "clusters = km.labels_.tolist()\n",
    "print(clusters)\n",
    "#for i in range(len(tfidf_matrix)):\n",
    "#  print('paper id:',i+1,', cluster id:',clusters[i])"
   ]
  }
 ],
 "metadata": {
  "colab": {
   "collapsed_sections": [],
   "provenance": []
  },
  "kernelspec": {
   "display_name": "Python 3 (ipykernel)",
   "language": "python",
   "name": "python3"
  },
  "language_info": {
   "codemirror_mode": {
    "name": "ipython",
    "version": 3
   },
   "file_extension": ".py",
   "mimetype": "text/x-python",
   "name": "python",
   "nbconvert_exporter": "python",
   "pygments_lexer": "ipython3",
   "version": "3.11.8"
  }
 },
 "nbformat": 4,
 "nbformat_minor": 4
}
