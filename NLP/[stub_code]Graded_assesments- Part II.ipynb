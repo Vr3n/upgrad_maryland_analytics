{
 "cells": [
  {
   "cell_type": "code",
   "execution_count": null,
   "id": "1313368e",
   "metadata": {
    "_cell_guid": "b1076dfc-b9ad-4769-8c92-a6c4dae69d19",
    "_uuid": "8f2839f25d086af736a60e9eeb907d3b93b6e0e5",
    "id": "1313368e",
    "papermill": {
     "duration": 1.577006,
     "end_time": "2021-11-12T22:01:01.585954",
     "exception": false,
     "start_time": "2021-11-12T22:01:00.008948",
     "status": "completed"
    },
    "tags": []
   },
   "outputs": [],
   "source": [
    "#Load the libraries\n",
    "import numpy as np\n",
    "import pandas as pd\n",
    "import seaborn as sns\n",
    "import matplotlib.pyplot as plt\n",
    "import matplotlib.cm as cm\n",
    "import nltk\n",
    "import sklearn\n",
    "\n",
    "\n",
    "import os\n",
    "import warnings\n",
    "warnings.filterwarnings('ignore')\n",
    "nltk.download('stopwords')\n",
    "nltk.download('punkt')"
   ]
  },
  {
   "cell_type": "markdown",
   "id": "zL_Nrz3uf8Ra",
   "metadata": {
    "id": "zL_Nrz3uf8Ra"
   },
   "source": [
    "# Graded Questions Part - II"
   ]
  },
  {
   "cell_type": "markdown",
   "id": "SbU_TMFNRzep",
   "metadata": {
    "id": "SbU_TMFNRzep"
   },
   "source": [
    "# Load the data"
   ]
  },
  {
   "cell_type": "code",
   "execution_count": 2,
   "id": "CLby1cN_PGJP",
   "metadata": {
    "id": "CLby1cN_PGJP"
   },
   "outputs": [
    {
     "data": {
      "text/html": [
       "<div>\n",
       "<style scoped>\n",
       "    .dataframe tbody tr th:only-of-type {\n",
       "        vertical-align: middle;\n",
       "    }\n",
       "\n",
       "    .dataframe tbody tr th {\n",
       "        vertical-align: top;\n",
       "    }\n",
       "\n",
       "    .dataframe thead th {\n",
       "        text-align: right;\n",
       "    }\n",
       "</style>\n",
       "<table border=\"1\" class=\"dataframe\">\n",
       "  <thead>\n",
       "    <tr style=\"text-align: right;\">\n",
       "      <th></th>\n",
       "      <th>Dataline</th>\n",
       "      <th>Play</th>\n",
       "      <th>PlayerLinenumber</th>\n",
       "      <th>ActSceneLine</th>\n",
       "      <th>Player</th>\n",
       "      <th>PlayerLine</th>\n",
       "    </tr>\n",
       "  </thead>\n",
       "  <tbody>\n",
       "    <tr>\n",
       "      <th>0</th>\n",
       "      <td>1</td>\n",
       "      <td>Henry IV</td>\n",
       "      <td>NaN</td>\n",
       "      <td>NaN</td>\n",
       "      <td>NaN</td>\n",
       "      <td>ACT I</td>\n",
       "    </tr>\n",
       "    <tr>\n",
       "      <th>1</th>\n",
       "      <td>2</td>\n",
       "      <td>Henry IV</td>\n",
       "      <td>NaN</td>\n",
       "      <td>NaN</td>\n",
       "      <td>NaN</td>\n",
       "      <td>SCENE I. London. The palace.</td>\n",
       "    </tr>\n",
       "    <tr>\n",
       "      <th>2</th>\n",
       "      <td>3</td>\n",
       "      <td>Henry IV</td>\n",
       "      <td>NaN</td>\n",
       "      <td>NaN</td>\n",
       "      <td>NaN</td>\n",
       "      <td>Enter KING HENRY, LORD JOHN OF LANCASTER, the ...</td>\n",
       "    </tr>\n",
       "    <tr>\n",
       "      <th>3</th>\n",
       "      <td>4</td>\n",
       "      <td>Henry IV</td>\n",
       "      <td>1.0</td>\n",
       "      <td>1.1.1</td>\n",
       "      <td>KING HENRY IV</td>\n",
       "      <td>So shaken as we are, so wan with care,</td>\n",
       "    </tr>\n",
       "    <tr>\n",
       "      <th>4</th>\n",
       "      <td>5</td>\n",
       "      <td>Henry IV</td>\n",
       "      <td>1.0</td>\n",
       "      <td>1.1.2</td>\n",
       "      <td>KING HENRY IV</td>\n",
       "      <td>Find we a time for frighted peace to pant,</td>\n",
       "    </tr>\n",
       "    <tr>\n",
       "      <th>5</th>\n",
       "      <td>6</td>\n",
       "      <td>Henry IV</td>\n",
       "      <td>1.0</td>\n",
       "      <td>1.1.3</td>\n",
       "      <td>KING HENRY IV</td>\n",
       "      <td>And breathe short-winded accents of new broils</td>\n",
       "    </tr>\n",
       "    <tr>\n",
       "      <th>6</th>\n",
       "      <td>7</td>\n",
       "      <td>Henry IV</td>\n",
       "      <td>1.0</td>\n",
       "      <td>1.1.4</td>\n",
       "      <td>KING HENRY IV</td>\n",
       "      <td>To be commenced in strands afar remote.</td>\n",
       "    </tr>\n",
       "    <tr>\n",
       "      <th>7</th>\n",
       "      <td>8</td>\n",
       "      <td>Henry IV</td>\n",
       "      <td>1.0</td>\n",
       "      <td>1.1.5</td>\n",
       "      <td>KING HENRY IV</td>\n",
       "      <td>No more the thirsty entrance of this soil</td>\n",
       "    </tr>\n",
       "    <tr>\n",
       "      <th>8</th>\n",
       "      <td>9</td>\n",
       "      <td>Henry IV</td>\n",
       "      <td>1.0</td>\n",
       "      <td>1.1.6</td>\n",
       "      <td>KING HENRY IV</td>\n",
       "      <td>Shall daub her lips with her own children's bl...</td>\n",
       "    </tr>\n",
       "    <tr>\n",
       "      <th>9</th>\n",
       "      <td>10</td>\n",
       "      <td>Henry IV</td>\n",
       "      <td>1.0</td>\n",
       "      <td>1.1.7</td>\n",
       "      <td>KING HENRY IV</td>\n",
       "      <td>Nor more shall trenching war channel her fields,</td>\n",
       "    </tr>\n",
       "  </tbody>\n",
       "</table>\n",
       "</div>"
      ],
      "text/plain": [
       "   Dataline      Play  PlayerLinenumber ActSceneLine         Player  \\\n",
       "0         1  Henry IV               NaN          NaN            NaN   \n",
       "1         2  Henry IV               NaN          NaN            NaN   \n",
       "2         3  Henry IV               NaN          NaN            NaN   \n",
       "3         4  Henry IV               1.0        1.1.1  KING HENRY IV   \n",
       "4         5  Henry IV               1.0        1.1.2  KING HENRY IV   \n",
       "5         6  Henry IV               1.0        1.1.3  KING HENRY IV   \n",
       "6         7  Henry IV               1.0        1.1.4  KING HENRY IV   \n",
       "7         8  Henry IV               1.0        1.1.5  KING HENRY IV   \n",
       "8         9  Henry IV               1.0        1.1.6  KING HENRY IV   \n",
       "9        10  Henry IV               1.0        1.1.7  KING HENRY IV   \n",
       "\n",
       "                                          PlayerLine  \n",
       "0                                              ACT I  \n",
       "1                       SCENE I. London. The palace.  \n",
       "2  Enter KING HENRY, LORD JOHN OF LANCASTER, the ...  \n",
       "3             So shaken as we are, so wan with care,  \n",
       "4         Find we a time for frighted peace to pant,  \n",
       "5     And breathe short-winded accents of new broils  \n",
       "6            To be commenced in strands afar remote.  \n",
       "7          No more the thirsty entrance of this soil  \n",
       "8  Shall daub her lips with her own children's bl...  \n",
       "9   Nor more shall trenching war channel her fields,  "
      ]
     },
     "execution_count": 2,
     "metadata": {},
     "output_type": "execute_result"
    }
   ],
   "source": [
    "sh_data = pd.read_csv(\"Shakespeare_data.csv\")\n",
    "sh_data.head(10)"
   ]
  },
  {
   "cell_type": "markdown",
   "id": "ces7CIRGJXG2",
   "metadata": {
    "id": "ces7CIRGJXG2"
   },
   "source": [
    "# Question 1: What is the shape of the dataset?"
   ]
  },
  {
   "cell_type": "code",
   "execution_count": 3,
   "id": "ofjHcBytSWDP",
   "metadata": {
    "id": "ofjHcBytSWDP"
   },
   "outputs": [
    {
     "data": {
      "text/plain": [
       "(111396, 6)"
      ]
     },
     "execution_count": 3,
     "metadata": {},
     "output_type": "execute_result"
    }
   ],
   "source": [
    "# write your code here\n",
    "sh_data.shape"
   ]
  },
  {
   "cell_type": "markdown",
   "id": "sgfMyIoYJw7h",
   "metadata": {
    "id": "sgfMyIoYJw7h"
   },
   "source": [
    "# Question 2:\n",
    "\n",
    "For clustering analysis we will consider only the player lines from the plays Hamlet and Coriolanus. The following code subsets the player lines from Hamlet and saves it in a list.\n",
    "\n",
    "\n",
    "Now, which of the following players has the highest number of lines in the play “Coriolanus”? \n",
    "\n",
    "Note: Each row of the data frame will be considered as one line. Ignore  the column PlayerLinenumber while calculating the number of lines. An example code has been written on how to calculate the player who has the highest number of lines in the play \"Hamlet\"\n"
   ]
  },
  {
   "cell_type": "code",
   "execution_count": 4,
   "id": "e2906d78",
   "metadata": {
    "scrolled": true
   },
   "outputs": [
    {
     "data": {
      "text/plain": [
       "Player\n",
       "HAMLET               1582\n",
       "KING CLAUDIUS         594\n",
       "LORD POLONIUS         370\n",
       "HORATIO               303\n",
       "LAERTES               216\n",
       "OPHELIA               187\n",
       "QUEEN GERTRUDE        166\n",
       "First Clown            99\n",
       "Ghost                  96\n",
       "ROSENCRANTZ            96\n",
       "MARCELLUS              69\n",
       "GUILDENSTERN           55\n",
       "First Player           52\n",
       "OSRIC                  48\n",
       "Player King            45\n",
       "BERNARDO               39\n",
       "Player Queen           31\n",
       "PRINCE FORTINBRAS      30\n",
       "Gentleman              24\n",
       "VOLTIMAND              23\n",
       "Second Clown           19\n",
       "REYNALDO               15\n",
       "Captain                13\n",
       "First Priest           13\n",
       "FRANCISCO              12\n",
       "Lord                    7\n",
       "LUCIANUS                7\n",
       "First Ambassador        6\n",
       "Messenger               5\n",
       "First Sailor            5\n",
       "All                     5\n",
       "Danes                   4\n",
       "Prologue                4\n",
       "CYMBELINE               3\n",
       "Servant                 1\n",
       "Name: count, dtype: int64"
      ]
     },
     "execution_count": 4,
     "metadata": {},
     "output_type": "execute_result"
    }
   ],
   "source": [
    "# Example Code\n",
    "# Number of lines for each player in the play Hamlet\n",
    "sh_data[sh_data['Play']==\"Hamlet\"].Player.value_counts()"
   ]
  },
  {
   "cell_type": "code",
   "execution_count": 5,
   "id": "wwtCATTMtmjX",
   "metadata": {
    "id": "wwtCATTMtmjX"
   },
   "outputs": [
    {
     "data": {
      "text/plain": [
       "Player\n",
       "CORIOLANUS          717\n",
       "MENENIUS            611\n",
       "SICINIUS            323\n",
       "VOLUMNIA            323\n",
       "COMINIUS            304\n",
       "                   ... \n",
       "Second Patrician      1\n",
       "All The Lords         1\n",
       "Second Roman          1\n",
       "First Roman           1\n",
       "Gentlewoman           1\n",
       "Name: count, Length: 62, dtype: int64"
      ]
     },
     "execution_count": 5,
     "metadata": {},
     "output_type": "execute_result"
    }
   ],
   "source": [
    "# write your code here similar to the above for the play \"Coriolanus\"\n",
    "# And find the player with the highest number of lines\n",
    "sh_data[sh_data['Play']==\"Coriolanus\"].Player.value_counts()"
   ]
  },
  {
   "cell_type": "markdown",
   "id": "p4sMamU2JSiw",
   "metadata": {
    "id": "p4sMamU2JSiw"
   },
   "source": [
    "# Extracting the lines from Hamlet"
   ]
  },
  {
   "cell_type": "markdown",
   "id": "ae41bd53",
   "metadata": {},
   "source": [
    "Run the following code blocks to obtain the lines from the play `Hamlet`"
   ]
  },
  {
   "cell_type": "code",
   "execution_count": 6,
   "id": "TWq1YP94KNzK",
   "metadata": {
    "id": "TWq1YP94KNzK"
   },
   "outputs": [
    {
     "data": {
      "text/html": [
       "<div>\n",
       "<style scoped>\n",
       "    .dataframe tbody tr th:only-of-type {\n",
       "        vertical-align: middle;\n",
       "    }\n",
       "\n",
       "    .dataframe tbody tr th {\n",
       "        vertical-align: top;\n",
       "    }\n",
       "\n",
       "    .dataframe thead th {\n",
       "        text-align: right;\n",
       "    }\n",
       "</style>\n",
       "<table border=\"1\" class=\"dataframe\">\n",
       "  <thead>\n",
       "    <tr style=\"text-align: right;\">\n",
       "      <th></th>\n",
       "      <th>Dataline</th>\n",
       "      <th>Play</th>\n",
       "      <th>PlayerLinenumber</th>\n",
       "      <th>ActSceneLine</th>\n",
       "      <th>Player</th>\n",
       "      <th>PlayerLine</th>\n",
       "    </tr>\n",
       "  </thead>\n",
       "  <tbody>\n",
       "    <tr>\n",
       "      <th>32432</th>\n",
       "      <td>32433</td>\n",
       "      <td>Hamlet</td>\n",
       "      <td>138.0</td>\n",
       "      <td>NaN</td>\n",
       "      <td>CYMBELINE</td>\n",
       "      <td>ACT I</td>\n",
       "    </tr>\n",
       "    <tr>\n",
       "      <th>32433</th>\n",
       "      <td>32434</td>\n",
       "      <td>Hamlet</td>\n",
       "      <td>138.0</td>\n",
       "      <td>NaN</td>\n",
       "      <td>CYMBELINE</td>\n",
       "      <td>SCENE I. Elsinore. A platform before the castle.</td>\n",
       "    </tr>\n",
       "    <tr>\n",
       "      <th>32434</th>\n",
       "      <td>32435</td>\n",
       "      <td>Hamlet</td>\n",
       "      <td>138.0</td>\n",
       "      <td>NaN</td>\n",
       "      <td>CYMBELINE</td>\n",
       "      <td>FRANCISCO at his post. Enter to him BERNARDO</td>\n",
       "    </tr>\n",
       "    <tr>\n",
       "      <th>32435</th>\n",
       "      <td>32436</td>\n",
       "      <td>Hamlet</td>\n",
       "      <td>1.0</td>\n",
       "      <td>1.1.1</td>\n",
       "      <td>BERNARDO</td>\n",
       "      <td>Who's there?</td>\n",
       "    </tr>\n",
       "    <tr>\n",
       "      <th>32436</th>\n",
       "      <td>32437</td>\n",
       "      <td>Hamlet</td>\n",
       "      <td>2.0</td>\n",
       "      <td>1.1.2</td>\n",
       "      <td>FRANCISCO</td>\n",
       "      <td>Nay, answer me: stand, and unfold yourself.</td>\n",
       "    </tr>\n",
       "  </tbody>\n",
       "</table>\n",
       "</div>"
      ],
      "text/plain": [
       "       Dataline    Play  PlayerLinenumber ActSceneLine     Player  \\\n",
       "32432     32433  Hamlet             138.0          NaN  CYMBELINE   \n",
       "32433     32434  Hamlet             138.0          NaN  CYMBELINE   \n",
       "32434     32435  Hamlet             138.0          NaN  CYMBELINE   \n",
       "32435     32436  Hamlet               1.0        1.1.1   BERNARDO   \n",
       "32436     32437  Hamlet               2.0        1.1.2  FRANCISCO   \n",
       "\n",
       "                                             PlayerLine  \n",
       "32432                                             ACT I  \n",
       "32433  SCENE I. Elsinore. A platform before the castle.  \n",
       "32434      FRANCISCO at his post. Enter to him BERNARDO  \n",
       "32435                                      Who's there?  \n",
       "32436       Nay, answer me: stand, and unfold yourself.  "
      ]
     },
     "execution_count": 6,
     "metadata": {},
     "output_type": "execute_result"
    }
   ],
   "source": [
    "# printing first 5 entries from Hamlet play\n",
    "sh_data[sh_data['Play']==\"Hamlet\"].head()"
   ]
  },
  {
   "cell_type": "code",
   "execution_count": 7,
   "id": "2795e685",
   "metadata": {
    "id": "2795e685",
    "papermill": {
     "duration": 0.027238,
     "end_time": "2021-11-12T22:01:02.308804",
     "exception": false,
     "start_time": "2021-11-12T22:01:02.281566",
     "status": "completed"
    },
    "tags": []
   },
   "outputs": [
    {
     "data": {
      "text/plain": [
       "['ACT I',\n",
       " 'SCENE I. Elsinore. A platform before the castle.',\n",
       " 'FRANCISCO at his post. Enter to him BERNARDO',\n",
       " \"Who's there?\",\n",
       " 'Nay, answer me: stand, and unfold yourself.']"
      ]
     },
     "execution_count": 7,
     "metadata": {},
     "output_type": "execute_result"
    }
   ],
   "source": [
    "# extracting the playerlines from the play Hamlet\n",
    "hamlet_lines = sh_data[sh_data['Play']==\"Hamlet\"]['PlayerLine'].tolist()\n",
    "hamlet_lines[0:5]"
   ]
  },
  {
   "cell_type": "code",
   "execution_count": 8,
   "id": "2azRHNdSJ-eU",
   "metadata": {
    "id": "2azRHNdSJ-eU"
   },
   "outputs": [
    {
     "data": {
      "text/plain": [
       "4244"
      ]
     },
     "execution_count": 8,
     "metadata": {},
     "output_type": "execute_result"
    }
   ],
   "source": [
    "len(hamlet_lines)"
   ]
  },
  {
   "cell_type": "markdown",
   "id": "NehDVXORTEYK",
   "metadata": {
    "id": "NehDVXORTEYK"
   },
   "source": [
    "# Tokenization, stopwords removal and stemming"
   ]
  },
  {
   "cell_type": "code",
   "execution_count": 9,
   "id": "531a5df7",
   "metadata": {
    "id": "531a5df7",
    "papermill": {
     "duration": 0.030173,
     "end_time": "2021-11-12T22:01:02.355939",
     "exception": false,
     "start_time": "2021-11-12T22:01:02.325766",
     "status": "completed"
    },
    "tags": []
   },
   "outputs": [],
   "source": [
    "from nltk.corpus import stopwords\n",
    "\n",
    "#Setting English stopwords\n",
    "stopword_list=nltk.corpus.stopwords.words('english')"
   ]
  },
  {
   "cell_type": "markdown",
   "id": "pMYsair2N4G9",
   "metadata": {
    "id": "pMYsair2N4G9"
   },
   "source": [
    "# Question 3: \n",
    "\n",
    "We have created a function remove_stopwords which tokenizes a text, removes the stopwords from it and then stems all the words. In the stub notebook you can see the code for tokenization and stemming is already provided. You need to fill in the code for the stopword removal part.\n",
    "\n",
    "Which of the following code removes the stopwords from the list of tokens obtained after word tokenization. The rule is,\n",
    "- the word should not be an nltk stopword,and \n",
    "- its length should not be less than 3 (most special characters and punctuation marks are filtered out this way).\n"
   ]
  },
  {
   "cell_type": "code",
   "execution_count": 14,
   "id": "mPI02akVUQx9",
   "metadata": {
    "id": "mPI02akVUQx9"
   },
   "outputs": [],
   "source": [
    "from nltk.tokenize import word_tokenize,sent_tokenize\n",
    "\n",
    "stopword_list=nltk.corpus.stopwords.words('english')\n",
    "\n",
    "#let's create a tokenizer:\n",
    "def remove_stopwords(text):\n",
    "\n",
    "    #tokenizing the words after converting the sentence to lowercase\n",
    "    tokens = nltk.word_tokenize(text.lower())\n",
    "\n",
    "    #let's remove every stopword\n",
    "    filtered_tokens = []\n",
    "    for token in tokens:\n",
    "        if (token not in stopword_list) and (len(token) >= 3):\n",
    "            filtered_tokens.append(token)\n",
    "\n",
    "\n",
    "    #stemming all the tokens\n",
    "    stemmed_tokens = (list(map(lambda token: nltk.stem.porter.PorterStemmer().stem(token), filtered_tokens)))\n",
    "    \n",
    "\n",
    "    return stemmed_tokens\n",
    " "
   ]
  },
  {
   "cell_type": "markdown",
   "id": "f6c96d4d",
   "metadata": {
    "id": "f6c96d4d",
    "papermill": {
     "duration": 0.017031,
     "end_time": "2021-11-12T22:01:02.513187",
     "exception": false,
     "start_time": "2021-11-12T22:01:02.496156",
     "status": "completed"
    },
    "tags": []
   },
   "source": [
    "# Test the tokenizer"
   ]
  },
  {
   "cell_type": "code",
   "execution_count": 15,
   "id": "45672a91",
   "metadata": {
    "id": "45672a91",
    "papermill": {
     "duration": 0.035763,
     "end_time": "2021-11-12T22:01:02.566141",
     "exception": false,
     "start_time": "2021-11-12T22:01:02.530378",
     "status": "completed"
    },
    "tags": []
   },
   "outputs": [
    {
     "name": "stdout",
     "output_type": "stream",
     "text": [
      "['stopword', 'remov']\n"
     ]
    }
   ],
   "source": [
    "print(remove_stopwords(\"This is stopwords removal.\"))"
   ]
  },
  {
   "cell_type": "markdown",
   "id": "a889ded2",
   "metadata": {
    "id": "a889ded2",
    "papermill": {
     "duration": 0.017679,
     "end_time": "2021-11-12T22:01:02.650455",
     "exception": false,
     "start_time": "2021-11-12T22:01:02.632776",
     "status": "completed"
    },
    "tags": []
   },
   "source": [
    "# TFIDF Document representation and training KMeans model on the Hamlet lines\n",
    "\n",
    "Official documentation of TfidfVectorizer - https://scikit-learn.org/stable/modules/generated/sklearn.feature_extraction.text.TfidfVectorizer.html"
   ]
  },
  {
   "cell_type": "markdown",
   "id": "cd87bac7",
   "metadata": {},
   "source": [
    "# Question 4.\n",
    "\n",
    "After you have created the function to remove stopwords and perform stemming, you need create a tf-idf model for `hamlet_lines` (lines in the play Hamlet) and perform clustering on it.\n",
    "\n",
    "Which of the following is the cluster number for the player line “Speak loudly for him.” in Hamlet?\n",
    "\n",
    "Note: In the stub notebook, you'll see that most of the code has already been provided and you have to plug in a few missing pieces. Once you have filled in the code and run the model, you should be able to identify the cluster number for the player line \"Speak loudly for him.\""
   ]
  },
  {
   "cell_type": "markdown",
   "id": "78d045ca",
   "metadata": {},
   "source": [
    "##### Part I - Creating the Tf-IDF Model"
   ]
  },
  {
   "cell_type": "markdown",
   "id": "231210c6",
   "metadata": {},
   "source": [
    "For creating the Tf-Idf Vectorizer object, use only the following parameters\n",
    "\n",
    "- tokenizer = remove_stopwords (Note: This is the custom written tokenizer function that we created above)\n",
    "- max_features = 1000\n",
    "\n",
    "For additional help, check the documentation to understand the parameters further"
   ]
  },
  {
   "cell_type": "code",
   "execution_count": 25,
   "id": "242d4509",
   "metadata": {},
   "outputs": [],
   "source": [
    "from sklearn.feature_extraction.text import TfidfVectorizer\n",
    "tfidf_vectorizer = TfidfVectorizer(tokenizer=remove_stopwords, max_features=1000)"
   ]
  },
  {
   "cell_type": "code",
   "execution_count": 26,
   "id": "d1f3476c",
   "metadata": {},
   "outputs": [],
   "source": [
    "##Fit_transform the hamlet lines\n",
    "tfidf_model = tfidf_vectorizer.fit_transform(hamlet_lines)"
   ]
  },
  {
   "cell_type": "markdown",
   "id": "565d9f41",
   "metadata": {},
   "source": [
    "##### Part II - Creating the Clustering Model"
   ]
  },
  {
   "cell_type": "markdown",
   "id": "d2895977",
   "metadata": {},
   "source": [
    "For creating the K-Means object, use only the following parameters\n",
    "- n_clusters = 50\n",
    "- random_state = 100"
   ]
  },
  {
   "cell_type": "code",
   "execution_count": 27,
   "id": "3c814b08",
   "metadata": {},
   "outputs": [
    {
     "data": {
      "text/html": [
       "<style>#sk-container-id-2 {color: black;}#sk-container-id-2 pre{padding: 0;}#sk-container-id-2 div.sk-toggleable {background-color: white;}#sk-container-id-2 label.sk-toggleable__label {cursor: pointer;display: block;width: 100%;margin-bottom: 0;padding: 0.3em;box-sizing: border-box;text-align: center;}#sk-container-id-2 label.sk-toggleable__label-arrow:before {content: \"▸\";float: left;margin-right: 0.25em;color: #696969;}#sk-container-id-2 label.sk-toggleable__label-arrow:hover:before {color: black;}#sk-container-id-2 div.sk-estimator:hover label.sk-toggleable__label-arrow:before {color: black;}#sk-container-id-2 div.sk-toggleable__content {max-height: 0;max-width: 0;overflow: hidden;text-align: left;background-color: #f0f8ff;}#sk-container-id-2 div.sk-toggleable__content pre {margin: 0.2em;color: black;border-radius: 0.25em;background-color: #f0f8ff;}#sk-container-id-2 input.sk-toggleable__control:checked~div.sk-toggleable__content {max-height: 200px;max-width: 100%;overflow: auto;}#sk-container-id-2 input.sk-toggleable__control:checked~label.sk-toggleable__label-arrow:before {content: \"▾\";}#sk-container-id-2 div.sk-estimator input.sk-toggleable__control:checked~label.sk-toggleable__label {background-color: #d4ebff;}#sk-container-id-2 div.sk-label input.sk-toggleable__control:checked~label.sk-toggleable__label {background-color: #d4ebff;}#sk-container-id-2 input.sk-hidden--visually {border: 0;clip: rect(1px 1px 1px 1px);clip: rect(1px, 1px, 1px, 1px);height: 1px;margin: -1px;overflow: hidden;padding: 0;position: absolute;width: 1px;}#sk-container-id-2 div.sk-estimator {font-family: monospace;background-color: #f0f8ff;border: 1px dotted black;border-radius: 0.25em;box-sizing: border-box;margin-bottom: 0.5em;}#sk-container-id-2 div.sk-estimator:hover {background-color: #d4ebff;}#sk-container-id-2 div.sk-parallel-item::after {content: \"\";width: 100%;border-bottom: 1px solid gray;flex-grow: 1;}#sk-container-id-2 div.sk-label:hover label.sk-toggleable__label {background-color: #d4ebff;}#sk-container-id-2 div.sk-serial::before {content: \"\";position: absolute;border-left: 1px solid gray;box-sizing: border-box;top: 0;bottom: 0;left: 50%;z-index: 0;}#sk-container-id-2 div.sk-serial {display: flex;flex-direction: column;align-items: center;background-color: white;padding-right: 0.2em;padding-left: 0.2em;position: relative;}#sk-container-id-2 div.sk-item {position: relative;z-index: 1;}#sk-container-id-2 div.sk-parallel {display: flex;align-items: stretch;justify-content: center;background-color: white;position: relative;}#sk-container-id-2 div.sk-item::before, #sk-container-id-2 div.sk-parallel-item::before {content: \"\";position: absolute;border-left: 1px solid gray;box-sizing: border-box;top: 0;bottom: 0;left: 50%;z-index: -1;}#sk-container-id-2 div.sk-parallel-item {display: flex;flex-direction: column;z-index: 1;position: relative;background-color: white;}#sk-container-id-2 div.sk-parallel-item:first-child::after {align-self: flex-end;width: 50%;}#sk-container-id-2 div.sk-parallel-item:last-child::after {align-self: flex-start;width: 50%;}#sk-container-id-2 div.sk-parallel-item:only-child::after {width: 0;}#sk-container-id-2 div.sk-dashed-wrapped {border: 1px dashed gray;margin: 0 0.4em 0.5em 0.4em;box-sizing: border-box;padding-bottom: 0.4em;background-color: white;}#sk-container-id-2 div.sk-label label {font-family: monospace;font-weight: bold;display: inline-block;line-height: 1.2em;}#sk-container-id-2 div.sk-label-container {text-align: center;}#sk-container-id-2 div.sk-container {/* jupyter's `normalize.less` sets `[hidden] { display: none; }` but bootstrap.min.css set `[hidden] { display: none !important; }` so we also need the `!important` here to be able to override the default hidden behavior on the sphinx rendered scikit-learn.org. See: https://github.com/scikit-learn/scikit-learn/issues/21755 */display: inline-block !important;position: relative;}#sk-container-id-2 div.sk-text-repr-fallback {display: none;}</style><div id=\"sk-container-id-2\" class=\"sk-top-container\"><div class=\"sk-text-repr-fallback\"><pre>KMeans(n_clusters=50, random_state=100)</pre><b>In a Jupyter environment, please rerun this cell to show the HTML representation or trust the notebook. <br />On GitHub, the HTML representation is unable to render, please try loading this page with nbviewer.org.</b></div><div class=\"sk-container\" hidden><div class=\"sk-item\"><div class=\"sk-estimator sk-toggleable\"><input class=\"sk-toggleable__control sk-hidden--visually\" id=\"sk-estimator-id-2\" type=\"checkbox\" checked><label for=\"sk-estimator-id-2\" class=\"sk-toggleable__label sk-toggleable__label-arrow\">KMeans</label><div class=\"sk-toggleable__content\"><pre>KMeans(n_clusters=50, random_state=100)</pre></div></div></div></div></div>"
      ],
      "text/plain": [
       "KMeans(n_clusters=50, random_state=100)"
      ]
     },
     "execution_count": 27,
     "metadata": {},
     "output_type": "execute_result"
    }
   ],
   "source": [
    "from sklearn.cluster import KMeans\n",
    "km_model = KMeans(n_clusters=50, random_state=100)\n",
    "km_model.fit(tfidf_model)"
   ]
  },
  {
   "cell_type": "markdown",
   "id": "M_NIyatwOM_n",
   "metadata": {
    "id": "M_NIyatwOM_n"
   },
   "source": [
    "##### Part III: Identifying the cluster number for the player line “Speak loudly for him.” in the Hamlet play"
   ]
  },
  {
   "cell_type": "code",
   "execution_count": 28,
   "id": "07c36317",
   "metadata": {},
   "outputs": [],
   "source": [
    "###Find the index for the line\n",
    "loc = hamlet_lines.index(\"Speak loudly for him.\")"
   ]
  },
  {
   "cell_type": "code",
   "execution_count": 29,
   "id": "b4y6aDhOcWAV",
   "metadata": {
    "id": "b4y6aDhOcWAV"
   },
   "outputs": [],
   "source": [
    "## Finding the cluster number\n",
    "cluster_list = km_model.labels_.tolist()"
   ]
  },
  {
   "cell_type": "code",
   "execution_count": 30,
   "id": "73ae51de",
   "metadata": {},
   "outputs": [
    {
     "data": {
      "text/plain": [
       "23"
      ]
     },
     "execution_count": 30,
     "metadata": {},
     "output_type": "execute_result"
    }
   ],
   "source": [
    "cluster_list[loc]"
   ]
  },
  {
   "cell_type": "code",
   "execution_count": null,
   "id": "a372d6d7-9a48-45df-8601-6e2d58492dfe",
   "metadata": {},
   "outputs": [],
   "source": []
  },
  {
   "cell_type": "code",
   "execution_count": null,
   "id": "1eab16f9-7394-4e12-8f78-ffa05d47904e",
   "metadata": {},
   "outputs": [],
   "source": []
  }
 ],
 "metadata": {
  "colab": {
   "collapsed_sections": [],
   "provenance": []
  },
  "kernelspec": {
   "display_name": "Python 3 (ipykernel)",
   "language": "python",
   "name": "python3"
  },
  "language_info": {
   "codemirror_mode": {
    "name": "ipython",
    "version": 3
   },
   "file_extension": ".py",
   "mimetype": "text/x-python",
   "name": "python",
   "nbconvert_exporter": "python",
   "pygments_lexer": "ipython3",
   "version": "3.11.8"
  },
  "papermill": {
   "default_parameters": {},
   "duration": 18.617378,
   "end_time": "2021-11-12T22:01:10.284200",
   "environment_variables": {},
   "exception": null,
   "input_path": "__notebook__.ipynb",
   "output_path": "__notebook__.ipynb",
   "parameters": {},
   "start_time": "2021-11-12T22:00:51.666822",
   "version": "2.3.3"
  }
 },
 "nbformat": 4,
 "nbformat_minor": 5
}
