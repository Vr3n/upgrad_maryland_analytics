{
 "cells": [
  {
   "cell_type": "code",
   "execution_count": 17,
   "id": "0cf59287-5c4d-4e38-bb5a-f109bb27a42c",
   "metadata": {},
   "outputs": [],
   "source": [
    "from sklearn.feature_extraction.text import CountVectorizer, TfidfVectorizer\n",
    "import pandas as pd\n",
    "import nltk\n",
    "import numpy as np"
   ]
  },
  {
   "cell_type": "code",
   "execution_count": 2,
   "id": "ae19c957-cd06-4d29-9fb0-355bebca0965",
   "metadata": {},
   "outputs": [],
   "source": [
    "vectorizer = CountVectorizer()"
   ]
  },
  {
   "cell_type": "code",
   "execution_count": 4,
   "id": "66319416-0a45-413a-aa1a-3b145e3d72d6",
   "metadata": {},
   "outputs": [],
   "source": [
    "text_data = [\n",
    "    \"There was a place on my ankle that was itching\",\n",
    "    \"but I did not scratch it\",\n",
    "    \"and then my ear began to itch\",\n",
    "    \"and next my back\"\n",
    "]"
   ]
  },
  {
   "cell_type": "code",
   "execution_count": 8,
   "id": "0656354d-a988-48a9-ac80-c4523f0c3af0",
   "metadata": {},
   "outputs": [],
   "source": [
    "vocab = set()\n",
    "bow_model = []\n",
    "\n",
    "for text in text_data:\n",
    "    word_counts = {}\n",
    "    tokens = nltk.word_tokenize(text)\n",
    "    vocab.update(tokens)\n",
    "\n",
    "    for word in tokens:\n",
    "        if word in word_counts:\n",
    "            word_counts[word] += 1\n",
    "        else:\n",
    "            word_counts[word] = 1\n",
    "    bow_model.append(word_counts)"
   ]
  },
  {
   "cell_type": "code",
   "execution_count": 14,
   "id": "8a8266e1-e99b-4290-87b2-55dd58bfb39a",
   "metadata": {},
   "outputs": [],
   "source": [
    "df = pd.DataFrame(bow_model)"
   ]
  },
  {
   "cell_type": "code",
   "execution_count": 16,
   "id": "5d8133d4-6e55-4130-94e8-5c32956f069a",
   "metadata": {},
   "outputs": [
    {
     "data": {
      "text/plain": [
       "0    2.0\n",
       "1    NaN\n",
       "2    NaN\n",
       "3    NaN\n",
       "Name: was, dtype: float64"
      ]
     },
     "execution_count": 16,
     "metadata": {},
     "output_type": "execute_result"
    }
   ],
   "source": [
    "df['was']"
   ]
  },
  {
   "cell_type": "code",
   "execution_count": null,
   "id": "4a2f18c3-b48a-406c-bad7-64c2955afd9b",
   "metadata": {},
   "outputs": [],
   "source": []
  }
 ],
 "metadata": {
  "kernelspec": {
   "display_name": "Python 3 (ipykernel)",
   "language": "python",
   "name": "python3"
  },
  "language_info": {
   "codemirror_mode": {
    "name": "ipython",
    "version": 3
   },
   "file_extension": ".py",
   "mimetype": "text/x-python",
   "name": "python",
   "nbconvert_exporter": "python",
   "pygments_lexer": "ipython3",
   "version": "3.11.8"
  }
 },
 "nbformat": 4,
 "nbformat_minor": 5
}
