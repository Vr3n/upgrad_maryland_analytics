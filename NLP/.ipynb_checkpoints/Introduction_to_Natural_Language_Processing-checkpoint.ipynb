{
  "cells": [
    {
      "cell_type": "markdown",
      "metadata": {
        "id": "UzHOLwhMtIdK"
      },
      "source": [
        "# Introduction to Natural Language Processing"
      ]
    },
    {
      "cell_type": "markdown",
      "metadata": {
        "id": "xfrFreETmkMy"
      },
      "source": [
        "## Session 1:  Basic Text Analysis\n",
        " "
      ]
    },
    {
      "cell_type": "markdown",
      "metadata": {
        "id": "Qgg769z-fSor"
      },
      "source": [
        "For the demonstrations in this module, we shall be using the NLTK library. **NLTK** is a leading platform for building Python programs to work with human language data. It provides easy-to-use interfaces to over 50 corpora and lexical resources such as WordNet, along with a suite of text processing libraries for classification, tokenization, stemming, tagging, parsing, and semantic reasoning, wrappers for industrial-strength NLP libraries (src: https://www.nltk.org/)"
      ]
    },
    {
      "cell_type": "code",
      "execution_count": null,
      "metadata": {
        "id": "PUjgCvxglhHF"
      },
      "outputs": [],
      "source": [
        "##Install the NLTK library\n",
        "!pip install nltk"
      ]
    },
    {
      "cell_type": "markdown",
      "metadata": {
        "id": "c5FpFnW1PHWi"
      },
      "source": [
        "\n",
        "\n",
        "Let's start with basic NLP operations, usually used for text preprocessing \n",
        "to improve the quality of data for better subsequent tasks, such as: \n",
        "\n",
        "- stopword removal\n",
        "- word/sentence tokenization\n",
        "- part-of-speech (POS)\n",
        "- Stemming\n",
        "- Lemmatization\n",
        "- Bag of words\n",
        "- Tf-idf"
      ]
    },
    {
      "cell_type": "markdown",
      "metadata": {
        "id": "tM_uH4itvZ9L"
      },
      "source": [
        "## Stopword Removal and Tokenization\n",
        "\n",
        "- **Stopword Removal**: Many frequently occurring words that are not important for understanding semantics, also called *stopwords*, can be removed.\n",
        "- **Tokenization**: Splitting text into smaller elements (characters, words, sentences, paragraphs)."
      ]
    },
    {
      "cell_type": "code",
      "execution_count": null,
      "metadata": {
        "colab": {
          "base_uri": "https://localhost:8080/"
        },
        "id": "86bHw3jXNbZK",
        "outputId": "8ffbe67b-d23c-47e1-bb83-fd32a40187ca",
        "scrolled": true
      },
      "outputs": [
        {
          "output_type": "stream",
          "name": "stderr",
          "text": [
            "[nltk_data] Downloading package stopwords to /root/nltk_data...\n",
            "[nltk_data]   Unzipping corpora/stopwords.zip.\n"
          ]
        },
        {
          "output_type": "execute_result",
          "data": {
            "text/plain": [
              "True"
            ]
          },
          "metadata": {},
          "execution_count": 6
        }
      ],
      "source": [
        "## We need to download the stopwords\n",
        "import nltk\n",
        "nltk.download('stopwords')"
      ]
    },
    {
      "cell_type": "markdown",
      "metadata": {
        "id": "eZ2J8u1hfSou"
      },
      "source": [
        "Next, we shall be downloading the *Punkt* sentence tokenizer. Read more: https://www.nltk.org/_modules/nltk/tokenize/punkt.html"
      ]
    },
    {
      "cell_type": "code",
      "execution_count": null,
      "metadata": {
        "id": "c86sDCNONbZM",
        "colab": {
          "base_uri": "https://localhost:8080/"
        },
        "outputId": "8f40eaad-5bf1-46a3-e744-d6e6453e8c69"
      },
      "outputs": [
        {
          "output_type": "stream",
          "name": "stderr",
          "text": [
            "[nltk_data] Downloading package punkt to /root/nltk_data...\n",
            "[nltk_data]   Unzipping tokenizers/punkt.zip.\n",
            "[nltk_data] Downloading package punkt to /root/nltk_data...\n",
            "[nltk_data]   Package punkt is already up-to-date!\n"
          ]
        },
        {
          "output_type": "execute_result",
          "data": {
            "text/plain": [
              "True"
            ]
          },
          "metadata": {},
          "execution_count": 1
        }
      ],
      "source": [
        "import nltk\n",
        "nltk.download('punkt')\n",
        "from nltk.corpus import stopwords\n",
        "\n",
        "from nltk.tokenize import word_tokenize, sent_tokenize\n",
        "nltk.download('punkt')"
      ]
    },
    {
      "cell_type": "code",
      "execution_count": null,
      "metadata": {
        "id": "MKg9HvDHNbZN"
      },
      "outputs": [],
      "source": [
        "## We have stopwords in multiple languages\n",
        "stops_en = stopwords.words('english')\n",
        "stops_ge = stopwords.words('german')\n",
        "print(stops_en)"
      ]
    },
    {
      "cell_type": "code",
      "execution_count": null,
      "metadata": {
        "id": "ZXtQASvWNbZN"
      },
      "outputs": [],
      "source": [
        "# customize your stop word list by adding words\n",
        "stops_en.append('airline')\n",
        "print(stops_en)"
      ]
    },
    {
      "cell_type": "code",
      "execution_count": null,
      "metadata": {
        "id": "4evIzq9BNbZQ"
      },
      "outputs": [],
      "source": [
        "# sentence / word tokenization\n",
        "cnn = 'The Cable News Network is a multinational news-based pay television channel headquartered in Atlanta, Georgia. It is owned by CNN Global, which is part of Warner Bros, Discovery. It was founded in 1980 by American media proprietor Ted Turner and Reese Schonfeld as a 24-hour cable news channel.'\n",
        "\n",
        "#word_tokenize(cnn)\n",
        "sent_tokenize(cnn)"
      ]
    },
    {
      "cell_type": "code",
      "execution_count": null,
      "metadata": {
        "id": "D5KT6wDqNbZT"
      },
      "outputs": [],
      "source": [
        "# a combination of tokenization and stopword removal\n",
        "sent = 'This is the first sentence, and this is the second sentence.'\n",
        "words = word_tokenize(sent.lower())\n",
        "\n",
        "for word in words:\n",
        "  if len(word) <= 3:\n",
        "    continue\n",
        "  if word in stops_en:\n",
        "    print(word,': a stop word.')\n",
        "  else:\n",
        "    print(word)\n",
        "\n",
        "'''\n",
        "text = nltk.Text(words)\n",
        "dist = nltk.FreqDist(text)\n",
        "print(dist)\n",
        "print(dist.most_common(3))\n",
        "'''"
      ]
    },
    {
      "cell_type": "markdown",
      "metadata": {
        "id": "CP2TWgFCwFHG"
      },
      "source": [
        "## POS tagging\n",
        "\n",
        "- **Part-of-speech (POS)** tagging: Figuring out what are nouns, verbs, adjectives, etc. \n",
        "- It refers to categorizing words in a text (corpus) in correspondence with a particular part of speech, depending on the definition of the word and its context."
      ]
    },
    {
      "cell_type": "code",
      "execution_count": null,
      "metadata": {
        "id": "pRZ8SLobNbZV"
      },
      "outputs": [],
      "source": [
        "# POS tagging\n",
        "from nltk import pos_tag \n",
        "nltk.download('averaged_perceptron_tagger')\n",
        "nltk.download('tagsets')\n",
        "nltk.help.upenn_tagset()"
      ]
    },
    {
      "cell_type": "code",
      "execution_count": null,
      "metadata": {
        "id": "FXLh4D0wNbZV"
      },
      "outputs": [],
      "source": [
        "sent = 'I like that awesome movie, especially the great director.'\n",
        "words = word_tokenize(sent)\n",
        "tagged = pos_tag(words) \n",
        "print(tagged)"
      ]
    },
    {
      "cell_type": "markdown",
      "metadata": {
        "id": "UfXtGXkxwTeE"
      },
      "source": [
        "## Stemming and Lemmatization\n",
        "\n",
        "- **Stemming** - Removal or \"stemming\" of the last few words of a certain word.\n",
        "- **Lemmatization** - Merging modified versions of \"same\" word to be analyzed as a single word"
      ]
    },
    {
      "cell_type": "code",
      "execution_count": null,
      "metadata": {
        "id": "J_p_nnXiNbZW"
      },
      "outputs": [],
      "source": [
        "# Stemming\n",
        "\n",
        "porter = nltk.PorterStemmer()\n",
        "\n",
        "lancaster = nltk.LancasterStemmer()\n",
        "\n",
        "sent = 'I liked that awesome movie, especially the director was the best guy.'\n",
        "words = word_tokenize(sent)\n",
        "for w in words:\n",
        "    print(w,',',porter.stem(w),',',lancaster.stem(w)) "
      ]
    },
    {
      "cell_type": "code",
      "execution_count": null,
      "metadata": {
        "id": "soImeUoANbZX"
      },
      "outputs": [],
      "source": [
        "# Lemmatization\n",
        "\n",
        "wnl = nltk.WordNetLemmatizer()\n",
        "nltk.download('wordnet')\n",
        "\n",
        "sent = 'I liked that awesome movie, especially the director now was moving to another state. I am liking the show as well.'\n",
        "words = word_tokenize(sent)\n",
        "for t in words:\n",
        "    print(t,',',wnl.lemmatize(t))"
      ]
    },
    {
      "cell_type": "markdown",
      "metadata": {
        "id": "xzPnTKoUfSo1"
      },
      "source": [
        "## Word Sense Disambiguation"
      ]
    },
    {
      "cell_type": "code",
      "execution_count": null,
      "metadata": {
        "id": "Qqke7MzSfSo1"
      },
      "outputs": [],
      "source": [
        "from nltk.wsd import lesk\n",
        "\n",
        "sent = 'I went to the bank to deposit money and then went to the river to swim in the bank.'\n",
        "sent = 'the river overflowed the bank'\n",
        "words = word_tokenize(sent)\n",
        "print(lesk(words,'bank'))\n",
        "\n",
        "#print(words)\n",
        "for w in words:\n",
        "  print(lesk(w,w))"
      ]
    },
    {
      "cell_type": "code",
      "execution_count": null,
      "metadata": {
        "id": "5FaV7POdsi7G"
      },
      "outputs": [],
      "source": [
        "from nltk.wsd import lesk\n",
        "\n",
        "sent = 'I went to the bank to deposit money and then went to the river to swim in the bank.'\n",
        "sent = 'the river overflowed the bank'\n",
        "words = word_tokenize(sent)\n",
        "print(lesk(words,'bank'))\n",
        "\n",
        "#print(words)\n",
        "for w in words:\n",
        "  print(lesk(w,w))"
      ]
    },
    {
      "cell_type": "code",
      "execution_count": null,
      "metadata": {
        "id": "KTTT9z64snD-"
      },
      "outputs": [],
      "source": [
        "from nltk.corpus import wordnet as wn\n",
        "\n",
        "for ss in wn.synsets('business'):\n",
        "    print(ss, ss.definition())"
      ]
    },
    {
      "cell_type": "markdown",
      "metadata": {
        "id": "U9BvGKdTfSo2"
      },
      "source": [
        "## Name Entity Recognition (NER)"
      ]
    },
    {
      "cell_type": "code",
      "execution_count": null,
      "metadata": {
        "id": "lH0QWKADrW9L",
        "colab": {
          "base_uri": "https://localhost:8080/"
        },
        "outputId": "fecf02fe-cace-44d3-c21c-0758e719ff3e"
      },
      "outputs": [
        {
          "output_type": "stream",
          "name": "stderr",
          "text": [
            "[nltk_data] Downloading package maxent_ne_chunker to\n",
            "[nltk_data]     /root/nltk_data...\n",
            "[nltk_data]   Unzipping chunkers/maxent_ne_chunker.zip.\n",
            "[nltk_data] Downloading package words to /root/nltk_data...\n",
            "[nltk_data]   Unzipping corpora/words.zip.\n",
            "[nltk_data] Downloading package tagsets to /root/nltk_data...\n",
            "[nltk_data]   Unzipping help/tagsets.zip.\n"
          ]
        },
        {
          "output_type": "execute_result",
          "data": {
            "text/plain": [
              "True"
            ]
          },
          "metadata": {},
          "execution_count": 3
        }
      ],
      "source": [
        "nltk.download('maxent_ne_chunker')\n",
        "nltk.download('words')\n",
        "nltk.download('tagsets')"
      ]
    },
    {
      "cell_type": "code",
      "execution_count": null,
      "metadata": {
        "id": "1t-WM975rl3B"
      },
      "outputs": [],
      "source": [
        "\n",
        "#ex = 'European authorities fined Google a record $5.1 billion on Wednesday for abusing its power in the mobile phone market and ordered the company to alter its practices'\n",
        "ex = 'What is the weather in New York and Chicago today?'\n",
        "words = word_tokenize(ex)\n",
        "tags = pos_tag(words)\n",
        "\n",
        "ne_tree = nltk.ne_chunk(tags)\n",
        "\n",
        "print(ne_tree)"
      ]
    },
    {
      "cell_type": "markdown",
      "metadata": {
        "id": "zRlUgO7JSPlH"
      },
      "source": [
        "<a id='lab2'></a>\n",
        "## Session 2: Document Clustering"
      ]
    },
    {
      "cell_type": "markdown",
      "metadata": {
        "id": "kx15Gv4JfSo3"
      },
      "source": [
        "Problem Statement - To be Added"
      ]
    },
    {
      "cell_type": "markdown",
      "metadata": {
        "id": "ldrXx18YScaA"
      },
      "source": [
        "### 1. Load the data from Google drive"
      ]
    },
    {
      "cell_type": "code",
      "execution_count": null,
      "metadata": {
        "id": "y8rjwVnGShsw",
        "colab": {
          "base_uri": "https://localhost:8080/"
        },
        "outputId": "3707b8d5-54d8-4e83-cd8e-b5c438af5a38"
      },
      "outputs": [
        {
          "output_type": "stream",
          "name": "stdout",
          "text": [
            "Drive already mounted at /content/drive; to attempt to forcibly remount, call drive.mount(\"/content/drive\", force_remount=True).\n"
          ]
        }
      ],
      "source": [
        "from google.colab import drive\n",
        "\n",
        "drive.mount('/content/drive')"
      ]
    },
    {
      "cell_type": "code",
      "execution_count": null,
      "metadata": {
        "id": "ICJBZt08SkgC",
        "colab": {
          "base_uri": "https://localhost:8080/",
          "height": 206
        },
        "outputId": "1d91e82f-2964-4bfc-b50a-553650b659a3"
      },
      "outputs": [
        {
          "output_type": "execute_result",
          "data": {
            "text/plain": [
              "     id                                              title\n",
              "0     1  Self-Organization of Associative Database and ...\n",
              "1    10  A Mean Field Theory of Layer IV of Visual Cort...\n",
              "2   100  Storing Covariance by the Associative Long-Ter...\n",
              "3  1000  Bayesian Query Construction for Neural Network...\n",
              "4  1001  Neural Network Ensembles  Cross Validation  an..."
            ],
            "text/html": [
              "\n",
              "  <div id=\"df-8a6d5911-8946-4b44-bb10-07392efff27f\">\n",
              "    <div class=\"colab-df-container\">\n",
              "      <div>\n",
              "<style scoped>\n",
              "    .dataframe tbody tr th:only-of-type {\n",
              "        vertical-align: middle;\n",
              "    }\n",
              "\n",
              "    .dataframe tbody tr th {\n",
              "        vertical-align: top;\n",
              "    }\n",
              "\n",
              "    .dataframe thead th {\n",
              "        text-align: right;\n",
              "    }\n",
              "</style>\n",
              "<table border=\"1\" class=\"dataframe\">\n",
              "  <thead>\n",
              "    <tr style=\"text-align: right;\">\n",
              "      <th></th>\n",
              "      <th>id</th>\n",
              "      <th>title</th>\n",
              "    </tr>\n",
              "  </thead>\n",
              "  <tbody>\n",
              "    <tr>\n",
              "      <th>0</th>\n",
              "      <td>1</td>\n",
              "      <td>Self-Organization of Associative Database and ...</td>\n",
              "    </tr>\n",
              "    <tr>\n",
              "      <th>1</th>\n",
              "      <td>10</td>\n",
              "      <td>A Mean Field Theory of Layer IV of Visual Cort...</td>\n",
              "    </tr>\n",
              "    <tr>\n",
              "      <th>2</th>\n",
              "      <td>100</td>\n",
              "      <td>Storing Covariance by the Associative Long-Ter...</td>\n",
              "    </tr>\n",
              "    <tr>\n",
              "      <th>3</th>\n",
              "      <td>1000</td>\n",
              "      <td>Bayesian Query Construction for Neural Network...</td>\n",
              "    </tr>\n",
              "    <tr>\n",
              "      <th>4</th>\n",
              "      <td>1001</td>\n",
              "      <td>Neural Network Ensembles  Cross Validation  an...</td>\n",
              "    </tr>\n",
              "  </tbody>\n",
              "</table>\n",
              "</div>\n",
              "      <button class=\"colab-df-convert\" onclick=\"convertToInteractive('df-8a6d5911-8946-4b44-bb10-07392efff27f')\"\n",
              "              title=\"Convert this dataframe to an interactive table.\"\n",
              "              style=\"display:none;\">\n",
              "        \n",
              "  <svg xmlns=\"http://www.w3.org/2000/svg\" height=\"24px\"viewBox=\"0 0 24 24\"\n",
              "       width=\"24px\">\n",
              "    <path d=\"M0 0h24v24H0V0z\" fill=\"none\"/>\n",
              "    <path d=\"M18.56 5.44l.94 2.06.94-2.06 2.06-.94-2.06-.94-.94-2.06-.94 2.06-2.06.94zm-11 1L8.5 8.5l.94-2.06 2.06-.94-2.06-.94L8.5 2.5l-.94 2.06-2.06.94zm10 10l.94 2.06.94-2.06 2.06-.94-2.06-.94-.94-2.06-.94 2.06-2.06.94z\"/><path d=\"M17.41 7.96l-1.37-1.37c-.4-.4-.92-.59-1.43-.59-.52 0-1.04.2-1.43.59L10.3 9.45l-7.72 7.72c-.78.78-.78 2.05 0 2.83L4 21.41c.39.39.9.59 1.41.59.51 0 1.02-.2 1.41-.59l7.78-7.78 2.81-2.81c.8-.78.8-2.07 0-2.86zM5.41 20L4 18.59l7.72-7.72 1.47 1.35L5.41 20z\"/>\n",
              "  </svg>\n",
              "      </button>\n",
              "      \n",
              "  <style>\n",
              "    .colab-df-container {\n",
              "      display:flex;\n",
              "      flex-wrap:wrap;\n",
              "      gap: 12px;\n",
              "    }\n",
              "\n",
              "    .colab-df-convert {\n",
              "      background-color: #E8F0FE;\n",
              "      border: none;\n",
              "      border-radius: 50%;\n",
              "      cursor: pointer;\n",
              "      display: none;\n",
              "      fill: #1967D2;\n",
              "      height: 32px;\n",
              "      padding: 0 0 0 0;\n",
              "      width: 32px;\n",
              "    }\n",
              "\n",
              "    .colab-df-convert:hover {\n",
              "      background-color: #E2EBFA;\n",
              "      box-shadow: 0px 1px 2px rgba(60, 64, 67, 0.3), 0px 1px 3px 1px rgba(60, 64, 67, 0.15);\n",
              "      fill: #174EA6;\n",
              "    }\n",
              "\n",
              "    [theme=dark] .colab-df-convert {\n",
              "      background-color: #3B4455;\n",
              "      fill: #D2E3FC;\n",
              "    }\n",
              "\n",
              "    [theme=dark] .colab-df-convert:hover {\n",
              "      background-color: #434B5C;\n",
              "      box-shadow: 0px 1px 3px 1px rgba(0, 0, 0, 0.15);\n",
              "      filter: drop-shadow(0px 1px 2px rgba(0, 0, 0, 0.3));\n",
              "      fill: #FFFFFF;\n",
              "    }\n",
              "  </style>\n",
              "\n",
              "      <script>\n",
              "        const buttonEl =\n",
              "          document.querySelector('#df-8a6d5911-8946-4b44-bb10-07392efff27f button.colab-df-convert');\n",
              "        buttonEl.style.display =\n",
              "          google.colab.kernel.accessAllowed ? 'block' : 'none';\n",
              "\n",
              "        async function convertToInteractive(key) {\n",
              "          const element = document.querySelector('#df-8a6d5911-8946-4b44-bb10-07392efff27f');\n",
              "          const dataTable =\n",
              "            await google.colab.kernel.invokeFunction('convertToInteractive',\n",
              "                                                     [key], {});\n",
              "          if (!dataTable) return;\n",
              "\n",
              "          const docLinkHtml = 'Like what you see? Visit the ' +\n",
              "            '<a target=\"_blank\" href=https://colab.research.google.com/notebooks/data_table.ipynb>data table notebook</a>'\n",
              "            + ' to learn more about interactive tables.';\n",
              "          element.innerHTML = '';\n",
              "          dataTable['output_type'] = 'display_data';\n",
              "          await google.colab.output.renderOutput(dataTable, element);\n",
              "          const docLink = document.createElement('div');\n",
              "          docLink.innerHTML = docLinkHtml;\n",
              "          element.appendChild(docLink);\n",
              "        }\n",
              "      </script>\n",
              "    </div>\n",
              "  </div>\n",
              "  "
            ]
          },
          "metadata": {},
          "execution_count": 12
        }
      ],
      "source": [
        "import pandas as pd\n",
        "\n",
        "papers = pd.read_csv('/content/drive/MyDrive/papers (1).csv') # change this directory to where you store Papers\n",
        "\n",
        "# View the first 5 rows of papers\n",
        "papers.head()"
      ]
    },
    {
      "cell_type": "markdown",
      "metadata": {
        "id": "LOHPEw8cSuA9"
      },
      "source": [
        "### 2. Clean the data"
      ]
    },
    {
      "cell_type": "code",
      "execution_count": null,
      "metadata": {
        "id": "yorz_uyAS_gs",
        "colab": {
          "base_uri": "https://localhost:8080/"
        },
        "outputId": "43b4c088-d7e6-4e7b-dd20-ba8d56bb63c8"
      },
      "outputs": [
        {
          "output_type": "stream",
          "name": "stdout",
          "text": [
            "999\n"
          ]
        },
        {
          "output_type": "execute_result",
          "data": {
            "text/plain": [
              "['self-organization of associative database and its applications',\n",
              " 'a mean field theory of layer iv of visual cortex and its application to artificial neural networks',\n",
              " 'storing covariance by the associative long-term potentiation and depression of synaptic strengths in the hippocampus',\n",
              " 'bayesian query construction for neural network models',\n",
              " 'neural network ensembles  cross validation  and active learning',\n",
              " 'using a neural net to instantiate a deformable model',\n",
              " 'plasticity-mediated competitive learning',\n",
              " 'iceg morphology classification using an analogue vlsi neural network',\n",
              " 'real-time control of a tokamak plasma using neural networks',\n",
              " 'pulsestream synapses with non-volatile analogue amorphous-silicon memories']"
            ]
          },
          "metadata": {},
          "execution_count": 13
        }
      ],
      "source": [
        "# Convert the titles to lowercase\n",
        "papers['title_text_processed'] = papers['title'].map(lambda x: x.lower())\n",
        "\n",
        "titles = list(papers['title_text_processed'])\n",
        "print(len(titles))\n",
        "\n",
        "# Print out the first rows of papers\n",
        "titles[:10]"
      ]
    },
    {
      "cell_type": "markdown",
      "metadata": {
        "id": "bubDmFwzTGPL"
      },
      "source": [
        "### 3. Construct features using TF-IDF"
      ]
    },
    {
      "cell_type": "code",
      "execution_count": null,
      "metadata": {
        "id": "mCu_G1VvTMyQ",
        "colab": {
          "base_uri": "https://localhost:8080/"
        },
        "outputId": "c962b3bb-d6c6-4d90-b094-3cc9387b3fa0"
      },
      "outputs": [
        {
          "output_type": "stream",
          "name": "stdout",
          "text": [
            "['acquisition' 'active' 'active learning' 'activity' 'adaptation'\n",
            " 'adaptive' 'algorithm' 'algorithms' 'analog' 'analog vlsi' 'analysis'\n",
            " 'analytical' 'annealing' 'application' 'applications' 'applied'\n",
            " 'approach' 'approaches' 'approximate' 'approximating' 'approximation'\n",
            " 'approximations' 'architecture' 'artificial' 'artificial neural'\n",
            " 'associative' 'attention' 'attentional' 'audio' 'auditory'\n",
            " 'backpropagation' 'based' 'based reinforcement' 'basis' 'basis function'\n",
            " 'batch' 'bayes' 'bayesian' 'bayesian learning' 'bayesian model'\n",
            " 'bayesian networks' 'belief' 'belief networks' 'bifurcation' 'binary'\n",
            " 'blind' 'blind separation' 'boltzmann' 'boltzmann machine' 'boosting'\n",
            " 'bounds' 'brain' 'capacity' 'carlo' 'case' 'cell' 'cells' 'center'\n",
            " 'center surround' 'channel' 'chip' 'choice' 'circuit' 'circuits' 'class'\n",
            " 'classes' 'classification' 'classifier' 'classifiers' 'clustering' 'code'\n",
            " 'codes' 'coding' 'color' 'combined' 'combining' 'committee' 'comparison'\n",
            " 'competition' 'competitive' 'complex' 'complex cell' 'complexity'\n",
            " 'component' 'component analysis' 'computation' 'computational' 'computer'\n",
            " 'computing' 'connectionist' 'construction' 'context' 'continuous'\n",
            " 'contour' 'control' 'convergence' 'correcting' 'correlation'\n",
            " 'correspondence' 'cortex' 'cortical' 'coupling' 'cross'\n",
            " 'cross validation' 'curves' 'data' 'decision' 'decision processes'\n",
            " 'decision trees' 'decomposition' 'delay' 'dendritic' 'density'\n",
            " 'density estimation' 'dependent' 'descent' 'detection' 'difference'\n",
            " 'difference learning' 'dimensional' 'dimensionality' 'direction'\n",
            " 'discrete' 'discriminant' 'discrimination' 'distributed' 'distributions'\n",
            " 'does' 'dominance' 'dynamic' 'dynamical' 'dynamically' 'dynamics' 'early'\n",
            " 'effect' 'effective' 'effects' 'efficient' 'em' 'em algorithm' 'energy'\n",
            " 'ensemble' 'entropy' 'environments' 'error' 'estimating' 'estimation'\n",
            " 'exact' 'examples' 'expert' 'experts' 'extraction' 'face' 'facial'\n",
            " 'factor' 'factor analysis' 'fast' 'feature' 'feature extraction'\n",
            " 'features' 'feedback' 'field' 'fields' 'finite' 'forward' 'framework'\n",
            " 'function' 'function approximation' 'functions' 'gaussian'\n",
            " 'gaussian process' 'gaussian processes' 'general' 'generalization'\n",
            " 'generalized' 'generative' 'gradient' 'gradient descent' 'graph'\n",
            " 'graphical' 'graphical models' 'hand' 'hebbian' 'hidden' 'hidden markov'\n",
            " 'hierarchical' 'hierarchies' 'high' 'hmm' 'human' 'hybrid' 'ica'\n",
            " 'identification' 'image' 'images' 'implementation' 'improved' 'improving'\n",
            " 'independent' 'independent component' 'induction' 'inference'\n",
            " 'information' 'information maximization' 'information theoretic'\n",
            " 'inhibitory' 'input' 'inputs' 'integration' 'interactions' 'invariant'\n",
            " 'kernel' 'kernels' 'large' 'lateral' 'layer' 'layered' 'learn' 'learning'\n",
            " 'learning algorithm' 'learning continuous' 'learning function'\n",
            " 'learning multi' 'learning multilayer' 'learning restricted'\n",
            " 'learning rules' 'like' 'likelihood' 'line' 'line learning' 'linear'\n",
            " 'local' 'localization' 'long' 'machine' 'machine learning' 'machines'\n",
            " 'map' 'mapping' 'maps' 'margin' 'markov' 'markov decision'\n",
            " 'markov models' 'matching' 'matrix' 'maximization' 'maximum'\n",
            " 'maximum likelihood' 'mean' 'mean field' 'memory' 'memory based' 'method'\n",
            " 'methods' 'minimization' 'mixture' 'mixtures' 'mixtures experts' 'model'\n",
            " 'model selection' 'modeling' 'modelling' 'models' 'modular' 'monte'\n",
            " 'monte carlo' 'motion' 'motor' 'multi' 'multidimensional' 'multilayer'\n",
            " 'multiple' 'natural' 'natural images' 'navigation' 'net' 'network'\n",
            " 'network models' 'networks' 'networks using' 'neural' 'neural model'\n",
            " 'neural net' 'neural nets' 'neural network' 'neural networks'\n",
            " 'neuromorphic' 'neuron' 'neuronal' 'neurons' 'new' 'noise' 'noisy' 'non'\n",
            " 'nonlinear' 'normalization' 'novelty' 'novelty detection' 'object'\n",
            " 'object recognition' 'observable' 'observable markov' 'ocular'\n",
            " 'ocular dominance' 'online' 'optimal' 'optimization' 'optimizing' 'order'\n",
            " 'order statistics' 'organization' 'organizing' 'orientation'\n",
            " 'overfitting' 'pairwise' 'parallel' 'parameter' 'partially'\n",
            " 'partially observable' 'particle' 'pattern' 'pca' 'perception'\n",
            " 'perceptron' 'perceptrons' 'perceptual' 'perceptual organization'\n",
            " 'performance' 'phase' 'policy' 'population' 'potentials' 'power'\n",
            " 'prediction' 'predictive' 'principle' 'probabilistic' 'probability'\n",
            " 'problem' 'problems' 'process' 'processes' 'processing' 'programming'\n",
            " 'propagation' 'properties' 'radial' 'radial basis' 'range' 'rate' 'rates'\n",
            " 'rbf' 'real' 'real time' 'recognition' 'recognition using' 'recordings'\n",
            " 'recurrent' 'recurrent networks' 'recurrent neural' 'recursive'\n",
            " 'regression' 'regularization' 'reinforcement' 'reinforcement learning'\n",
            " 'relaxation' 'representation' 'representations' 'response' 'restricted'\n",
            " 'results' 'retrieval' 'risk' 'robot' 'robust' 'role' 'rule' 'rules'\n",
            " 'sample' 'sampling' 'scale' 'scaling' 'scene' 'scenes' 'search' 'second'\n",
            " 'second order' 'segmentation' 'selection' 'selective' 'self'\n",
            " 'self organization' 'self organizing' 'sensitive' 'sensor' 'sensory'\n",
            " 'separation' 'sequences' 'sequential' 'series' 'sets' 'shape' 'signal'\n",
            " 'signals' 'silicon' 'similarity' 'simple' 'single' 'single neurons'\n",
            " 'singular' 'size' 'small' 'smoothing' 'solution' 'solutions' 'sound'\n",
            " 'source' 'source separation' 'sources' 'space' 'spaces' 'sparse'\n",
            " 'spatial' 'speech' 'speech recognition' 'speed' 'spike' 'spike based'\n",
            " 'spike timing' 'spiking' 'spiking neurons' 'squared' 'stability' 'state'\n",
            " 'statistical' 'statistical models' 'statistically' 'statistics' 'stimuli'\n",
            " 'stochastic' 'stopping' 'storage' 'structure' 'structured' 'study'\n",
            " 'supervised' 'support' 'support vector' 'suppression' 'surround'\n",
            " 'switching' 'synapses' 'synaptic' 'systems' 'task' 'tasks' 'techniques'\n",
            " 'temporal' 'temporally' 'term' 'theoretic' 'theory' 'time' 'time delay'\n",
            " 'time series' 'timing' 'topographic' 'training' 'training sets'\n",
            " 'transformation' 'transitions' 'trees' 'tuning' 'unsupervised'\n",
            " 'unsupervised learning' 'use' 'using' 'using neural' 'value' 'variable'\n",
            " 'variational' 'vc' 'vector' 'vector machines' 'vector method' 'video'\n",
            " 'view' 'vision' 'visual' 'visual cortex' 'visual search' 'vlsi'\n",
            " 'vlsi model' 'wavelet' 'weights' 'winner' 'word' 'work' 'world']\n",
            "[0.         0.         0.         0.         0.         0.\n",
            " 0.         0.         0.         0.         0.         0.\n",
            " 0.         0.         0.         0.         0.         0.\n",
            " 0.         0.         0.         0.         0.         0.\n",
            " 0.         0.47656366 0.         0.         0.         0.\n",
            " 0.         0.         0.         0.         0.         0.\n",
            " 0.         0.         0.         0.         0.         0.\n",
            " 0.         0.         0.         0.         0.         0.\n",
            " 0.         0.         0.         0.         0.         0.\n",
            " 0.         0.         0.         0.         0.         0.\n",
            " 0.         0.         0.         0.         0.         0.\n",
            " 0.         0.         0.         0.         0.         0.\n",
            " 0.         0.         0.         0.         0.         0.\n",
            " 0.         0.         0.         0.         0.         0.\n",
            " 0.         0.         0.         0.         0.         0.\n",
            " 0.         0.         0.         0.         0.         0.\n",
            " 0.         0.         0.         0.         0.         0.\n",
            " 0.         0.         0.         0.         0.         0.\n",
            " 0.         0.         0.         0.         0.         0.\n",
            " 0.         0.         0.         0.         0.         0.\n",
            " 0.         0.         0.         0.         0.         0.\n",
            " 0.         0.         0.         0.         0.         0.\n",
            " 0.         0.         0.         0.         0.         0.\n",
            " 0.         0.         0.         0.         0.         0.\n",
            " 0.         0.         0.         0.         0.         0.\n",
            " 0.         0.         0.         0.         0.         0.\n",
            " 0.         0.         0.         0.         0.         0.\n",
            " 0.         0.         0.         0.         0.         0.\n",
            " 0.         0.         0.         0.         0.         0.\n",
            " 0.         0.         0.         0.         0.         0.\n",
            " 0.         0.         0.         0.         0.         0.\n",
            " 0.         0.         0.         0.         0.         0.\n",
            " 0.         0.         0.         0.         0.         0.\n",
            " 0.         0.         0.         0.         0.         0.\n",
            " 0.         0.         0.         0.         0.         0.\n",
            " 0.         0.         0.         0.         0.         0.\n",
            " 0.         0.         0.         0.         0.         0.\n",
            " 0.         0.         0.         0.         0.         0.\n",
            " 0.         0.         0.         0.         0.         0.50688893\n",
            " 0.         0.         0.         0.         0.         0.\n",
            " 0.         0.         0.         0.         0.         0.\n",
            " 0.         0.         0.         0.         0.         0.\n",
            " 0.         0.         0.         0.         0.         0.\n",
            " 0.         0.         0.         0.         0.         0.\n",
            " 0.         0.         0.         0.         0.         0.\n",
            " 0.         0.         0.         0.         0.         0.\n",
            " 0.         0.         0.         0.         0.         0.\n",
            " 0.         0.         0.         0.         0.         0.\n",
            " 0.         0.         0.         0.         0.         0.\n",
            " 0.         0.         0.         0.         0.         0.\n",
            " 0.         0.         0.         0.         0.         0.\n",
            " 0.         0.         0.         0.         0.         0.\n",
            " 0.         0.         0.         0.         0.         0.\n",
            " 0.         0.         0.         0.         0.         0.\n",
            " 0.         0.         0.         0.         0.         0.\n",
            " 0.         0.         0.         0.         0.         0.\n",
            " 0.         0.         0.         0.         0.         0.\n",
            " 0.         0.         0.         0.         0.         0.\n",
            " 0.         0.         0.         0.         0.         0.\n",
            " 0.         0.         0.         0.         0.         0.\n",
            " 0.         0.         0.         0.         0.         0.\n",
            " 0.         0.         0.         0.         0.         0.\n",
            " 0.         0.         0.         0.         0.         0.\n",
            " 0.         0.         0.         0.         0.         0.\n",
            " 0.         0.         0.         0.         0.         0.\n",
            " 0.         0.         0.         0.         0.         0.\n",
            " 0.         0.         0.         0.         0.         0.\n",
            " 0.         0.         0.         0.         0.         0.\n",
            " 0.         0.         0.         0.         0.         0.\n",
            " 0.         0.         0.         0.         0.         0.\n",
            " 0.         0.         0.         0.         0.         0.\n",
            " 0.         0.         0.         0.         0.         0.\n",
            " 0.         0.         0.         0.         0.         0.\n",
            " 0.         0.         0.         0.         0.         0.\n",
            " 0.         0.         0.         0.         0.         0.\n",
            " 0.         0.         0.         0.4955358  0.         0.\n",
            " 0.         0.         0.         0.         0.51999515 0.\n",
            " 0.         0.         0.         0.         0.         0.\n",
            " 0.         0.         0.         0.         0.         0.\n",
            " 0.         0.         0.         0.         0.         0.\n",
            " 0.         0.         0.         0.         0.         0.\n",
            " 0.         0.         0.         0.         0.         0.\n",
            " 0.         0.         0.         0.         0.         0.\n",
            " 0.         0.        ]\n",
            "(999, 500)\n"
          ]
        }
      ],
      "source": [
        "from sklearn.feature_extraction.text import TfidfVectorizer\n",
        "\n",
        "import numpy as np \n",
        "\n",
        "# Specify vectorizer parameters\n",
        "tfidf_vectorizer = TfidfVectorizer(max_features=500, stop_words='english', use_idf=True, ngram_range=(1,2))\n",
        "\n",
        "tfidf_matrix = tfidf_vectorizer.fit_transform(titles).toarray()\n",
        "\n",
        "print(tfidf_vectorizer.get_feature_names_out())\n",
        "print(tfidf_matrix[2])\n",
        "\n",
        "print(tfidf_matrix.shape)"
      ]
    },
    {
      "cell_type": "markdown",
      "metadata": {
        "id": "ij3NTbtqTRjl"
      },
      "source": [
        "### 4. Run clustering and evaluate the model"
      ]
    },
    {
      "cell_type": "code",
      "execution_count": null,
      "metadata": {
        "id": "01ufkyEETWKj",
        "colab": {
          "base_uri": "https://localhost:8080/"
        },
        "outputId": "1b79304d-cc52-44b9-8ff1-9c9634cac7da"
      },
      "outputs": [
        {
          "output_type": "stream",
          "name": "stdout",
          "text": [
            "Silhouette Coefficient: 0.034\n",
            "[0, 2, 0, 2, 2, 3, 1, 2, 2, 0, 1, 0, 2, 0, 1, 1, 0, 3, 0, 0, 0, 0, 4, 3, 0, 3, 0, 2, 0, 0, 3, 3, 0, 0, 1, 0, 0, 0, 3, 2, 1, 3, 0, 2, 0, 0, 0, 0, 0, 4, 2, 1, 0, 0, 0, 0, 2, 0, 0, 2, 1, 0, 0, 0, 2, 0, 0, 0, 0, 0, 0, 1, 1, 0, 1, 2, 0, 2, 1, 2, 0, 3, 2, 4, 0, 0, 1, 2, 0, 0, 2, 0, 1, 0, 0, 2, 0, 1, 2, 0, 1, 0, 2, 0, 3, 0, 0, 4, 1, 0, 0, 2, 2, 0, 0, 2, 0, 0, 0, 0, 0, 1, 4, 2, 1, 3, 1, 0, 1, 0, 0, 0, 2, 0, 2, 0, 0, 0, 0, 0, 2, 1, 0, 0, 0, 0, 0, 0, 4, 0, 0, 0, 0, 2, 0, 1, 1, 3, 0, 0, 3, 0, 0, 1, 0, 2, 1, 1, 0, 0, 0, 2, 1, 3, 0, 2, 0, 0, 2, 2, 2, 1, 0, 3, 0, 0, 1, 2, 0, 0, 0, 0, 2, 0, 2, 0, 0, 1, 0, 0, 0, 1, 0, 4, 0, 3, 0, 1, 2, 0, 0, 0, 2, 0, 1, 0, 0, 0, 2, 2, 3, 0, 2, 0, 0, 0, 0, 0, 0, 1, 0, 1, 0, 2, 3, 0, 0, 0, 4, 0, 1, 0, 0, 0, 1, 0, 1, 1, 0, 0, 0, 0, 4, 1, 1, 0, 0, 0, 1, 0, 2, 3, 2, 0, 0, 0, 1, 2, 3, 2, 0, 1, 0, 2, 2, 0, 2, 3, 1, 3, 1, 0, 0, 2, 1, 0, 0, 0, 0, 0, 3, 1, 0, 2, 1, 0, 0, 1, 3, 4, 1, 2, 2, 3, 4, 0, 0, 0, 2, 0, 3, 1, 0, 0, 0, 0, 0, 2, 0, 0, 0, 1, 0, 0, 3, 0, 0, 0, 2, 0, 0, 0, 1, 0, 0, 0, 0, 0, 0, 0, 0, 0, 0, 0, 0, 1, 0, 3, 0, 0, 0, 2, 0, 1, 0, 0, 0, 2, 0, 0, 0, 0, 0, 0, 0, 1, 0, 2, 0, 3, 0, 0, 2, 0, 0, 0, 0, 0, 0, 1, 1, 2, 1, 0, 2, 0, 2, 0, 0, 2, 0, 0, 2, 0, 0, 0, 2, 0, 0, 2, 3, 0, 3, 0, 1, 0, 2, 0, 3, 1, 0, 0, 0, 0, 0, 0, 0, 0, 1, 4, 1, 4, 0, 4, 0, 0, 0, 1, 1, 3, 0, 0, 0, 0, 2, 0, 0, 0, 2, 1, 0, 0, 0, 0, 4, 0, 0, 0, 0, 0, 2, 3, 3, 1, 0, 0, 3, 3, 0, 0, 0, 1, 0, 3, 0, 0, 1, 1, 0, 1, 0, 0, 0, 1, 0, 2, 4, 0, 0, 0, 1, 0, 0, 0, 2, 0, 0, 0, 0, 0, 0, 0, 0, 3, 0, 0, 0, 0, 0, 3, 1, 2, 2, 0, 2, 0, 0, 1, 4, 0, 0, 1, 0, 0, 0, 3, 0, 0, 0, 0, 4, 0, 0, 1, 0, 1, 0, 0, 0, 0, 3, 3, 4, 3, 0, 2, 3, 0, 3, 0, 0, 0, 1, 0, 0, 0, 0, 0, 0, 1, 0, 1, 0, 3, 2, 1, 0, 0, 0, 0, 1, 0, 0, 0, 0, 0, 2, 0, 0, 0, 0, 0, 0, 0, 0, 0, 0, 0, 2, 0, 0, 1, 0, 3, 0, 0, 0, 0, 0, 1, 0, 0, 1, 1, 1, 0, 0, 0, 3, 0, 0, 2, 4, 4, 0, 0, 0, 0, 0, 4, 0, 0, 0, 0, 0, 2, 3, 0, 4, 1, 0, 0, 2, 0, 0, 0, 1, 0, 3, 4, 3, 1, 0, 2, 1, 0, 3, 4, 1, 1, 4, 2, 1, 1, 1, 0, 0, 0, 0, 1, 1, 0, 2, 4, 2, 0, 0, 0, 2, 0, 0, 0, 1, 0, 4, 3, 2, 0, 0, 0, 0, 4, 0, 0, 0, 3, 0, 2, 1, 0, 0, 0, 2, 0, 1, 0, 0, 1, 0, 1, 1, 0, 0, 0, 1, 2, 0, 0, 0, 0, 0, 0, 1, 0, 1, 0, 0, 0, 1, 0, 0, 0, 0, 3, 0, 1, 0, 3, 0, 1, 0, 2, 0, 0, 0, 3, 0, 4, 1, 4, 1, 0, 2, 0, 0, 0, 0, 3, 0, 0, 0, 0, 2, 0, 0, 0, 0, 0, 0, 0, 0, 0, 0, 0, 0, 0, 2, 1, 0, 3, 0, 1, 0, 0, 1, 1, 0, 0, 0, 0, 3, 0, 0, 1, 0, 0, 1, 3, 0, 4, 0, 0, 1, 3, 1, 3, 0, 2, 1, 3, 3, 0, 0, 0, 0, 0, 0, 0, 0, 0, 0, 0, 3, 0, 0, 0, 0, 1, 0, 4, 2, 0, 0, 0, 3, 0, 0, 0, 0, 1, 0, 0, 3, 0, 0, 0, 1, 2, 0, 0, 1, 0, 0, 2, 1, 0, 0, 2, 3, 2, 4, 3, 0, 0, 1, 4, 1, 0, 0, 0, 3, 1, 3, 0, 1, 0, 0, 0, 0, 2, 0, 2, 0, 0, 0, 0, 0, 1, 0, 0, 0, 0, 2, 0, 1, 4, 0, 0, 0, 2, 1, 0, 1, 2, 0, 0, 0, 0, 0, 3, 0, 0, 0, 0, 0, 2, 0, 0, 0, 3, 3, 0, 1, 0, 1, 1, 0, 1, 4, 0, 0, 3, 0, 0, 4, 0, 3, 0, 0, 4, 3, 0, 0, 1, 3, 0, 1, 4, 2, 0, 0, 0, 0, 0, 3, 0, 0, 0, 0, 2, 0, 0, 0, 0, 0, 3, 0, 0, 0, 0, 2, 0, 0, 0, 0, 1, 0, 0, 0, 1, 0, 1, 0, 0, 0, 1, 0, 0, 0, 3, 4, 0, 2, 0, 0, 1, 0, 2, 0, 0, 0, 1, 0, 2, 0, 0, 3, 0, 0, 0, 1, 0, 1, 0, 0, 2, 0, 4, 0]\n"
          ]
        }
      ],
      "source": [
        "from sklearn.cluster import KMeans\n",
        "from sklearn import metrics\n",
        "\n",
        "k = 5\n",
        "\n",
        "km = KMeans(n_clusters = k, random_state=42)\n",
        "km.fit(tfidf_matrix)\n",
        "\n",
        "# evaluation\n",
        "print(\"Silhouette Coefficient: %0.3f\" % metrics.silhouette_score(tfidf_matrix, km.labels_, sample_size=100, random_state=2021))\n",
        "\n",
        "clusters = km.labels_.tolist()\n",
        "print(clusters)\n",
        "#for i in range(len(tfidf_matrix)):\n",
        "#  print('paper id:',i+1,', cluster id:',clusters[i])"
      ]
    }
  ],
  "metadata": {
    "colab": {
      "collapsed_sections": [],
      "provenance": []
    },
    "kernelspec": {
      "display_name": "Python 3 (ipykernel)",
      "language": "python",
      "name": "python3"
    },
    "language_info": {
      "codemirror_mode": {
        "name": "ipython",
        "version": 3
      },
      "file_extension": ".py",
      "mimetype": "text/x-python",
      "name": "python",
      "nbconvert_exporter": "python",
      "pygments_lexer": "ipython3",
      "version": "3.9.7"
    }
  },
  "nbformat": 4,
  "nbformat_minor": 0
}