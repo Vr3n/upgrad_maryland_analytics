{
 "cells": [
  {
   "cell_type": "markdown",
   "metadata": {
    "id": "UzHOLwhMtIdK"
   },
   "source": [
    "# Introduction to Natural Language Processing"
   ]
  },
  {
   "cell_type": "markdown",
   "metadata": {
    "id": "xfrFreETmkMy"
   },
   "source": [
    "## Session 1:  Basic Text Analysis\n",
    " "
   ]
  },
  {
   "cell_type": "markdown",
   "metadata": {
    "id": "hdJ3Vt2kzWjW"
   },
   "source": [
    "For the demonstrations in this module, we shall be using the NLTK library. **NLTK** is a leading platform for building Python programs to work with human language data. It provides easy-to-use interfaces to over 50 corpora and lexical resources such as WordNet, along with a suite of text processing libraries for classification, tokenization, stemming, tagging, parsing, and semantic reasoning, wrappers for industrial-strength NLP libraries (src: https://www.nltk.org/)"
   ]
  },
  {
   "cell_type": "code",
   "execution_count": 1,
   "metadata": {
    "colab": {
     "base_uri": "https://localhost:8080/"
    },
    "executionInfo": {
     "elapsed": 8311,
     "status": "ok",
     "timestamp": 1663378361206,
     "user": {
      "displayName": "Kunpeng Zhang",
      "userId": "09274433828486852799"
     },
     "user_tz": 240
    },
    "id": "PUjgCvxglhHF",
    "outputId": "c59f31aa-06bf-4a80-cd36-2d555dc8da72"
   },
   "outputs": [
    {
     "name": "stdout",
     "output_type": "stream",
     "text": [
      "Looking in indexes: https://pypi.org/simple, https://us-python.pkg.dev/colab-wheels/public/simple/\n",
      "Requirement already satisfied: nltk in /usr/local/lib/python3.7/dist-packages (3.7)\n",
      "Requirement already satisfied: click in /usr/local/lib/python3.7/dist-packages (from nltk) (7.1.2)\n",
      "Requirement already satisfied: regex>=2021.8.3 in /usr/local/lib/python3.7/dist-packages (from nltk) (2022.6.2)\n",
      "Requirement already satisfied: joblib in /usr/local/lib/python3.7/dist-packages (from nltk) (1.1.0)\n",
      "Requirement already satisfied: tqdm in /usr/local/lib/python3.7/dist-packages (from nltk) (4.64.1)\n"
     ]
    }
   ],
   "source": [
    "##Install the NLTK library\n",
    "!pip install nltk"
   ]
  },
  {
   "cell_type": "markdown",
   "metadata": {
    "id": "c5FpFnW1PHWi"
   },
   "source": [
    "\n",
    "\n",
    "Let's start with basic NLP operations, usually used for text preprocessing \n",
    "to improve the quality of data for better subsequent tasks, such as: \n",
    "\n",
    "- stopword removal\n",
    "- word/sentence tokenization\n",
    "- part-of-speech (POS)\n",
    "- Stemming\n",
    "- Lemmatization\n",
    "- Bag of words\n",
    "- Tf-idf"
   ]
  },
  {
   "cell_type": "markdown",
   "metadata": {
    "id": "tM_uH4itvZ9L"
   },
   "source": [
    "## Stopword Removal and Tokenization\n",
    "\n",
    "- **Stopword Removal**: Many frequently occurring words that are not important for understanding semantics, also called *stopwords*, can be removed.\n",
    "- **Tokenization**: Splitting text into smaller elements (characters, words, sentences, paragraphs)."
   ]
  },
  {
   "cell_type": "code",
   "execution_count": 2,
   "metadata": {
    "colab": {
     "base_uri": "https://localhost:8080/"
    },
    "executionInfo": {
     "elapsed": 1973,
     "status": "ok",
     "timestamp": 1663378367017,
     "user": {
      "displayName": "Kunpeng Zhang",
      "userId": "09274433828486852799"
     },
     "user_tz": 240
    },
    "id": "86bHw3jXNbZK",
    "outputId": "88df3cd3-b801-4822-ea8b-8e004c272c57",
    "scrolled": true
   },
   "outputs": [
    {
     "name": "stderr",
     "output_type": "stream",
     "text": [
      "[nltk_data] Downloading package stopwords to C:\\Users\\DELL\n",
      "[nltk_data]     5590\\AppData\\Roaming\\nltk_data...\n",
      "[nltk_data]   Package stopwords is already up-to-date!\n"
     ]
    },
    {
     "data": {
      "text/plain": [
       "True"
      ]
     },
     "execution_count": 2,
     "metadata": {},
     "output_type": "execute_result"
    }
   ],
   "source": [
    "## We need to download the stopwords\n",
    "import nltk\n",
    "nltk.download('stopwords')"
   ]
  },
  {
   "cell_type": "markdown",
   "metadata": {
    "id": "FWjSljuazWjZ"
   },
   "source": [
    "Next, we shall be downloading the *Punkt* sentence tokenizer. Read more: https://www.nltk.org/_modules/nltk/tokenize/punkt.html"
   ]
  },
  {
   "cell_type": "code",
   "execution_count": 3,
   "metadata": {
    "colab": {
     "base_uri": "https://localhost:8080/"
    },
    "executionInfo": {
     "elapsed": 939,
     "status": "ok",
     "timestamp": 1663378368934,
     "user": {
      "displayName": "Kunpeng Zhang",
      "userId": "09274433828486852799"
     },
     "user_tz": 240
    },
    "id": "c86sDCNONbZM",
    "outputId": "a9d9db09-e571-4c15-b859-1f0487414244"
   },
   "outputs": [
    {
     "name": "stderr",
     "output_type": "stream",
     "text": [
      "[nltk_data] Downloading package punkt to C:\\Users\\DELL\n",
      "[nltk_data]     5590\\AppData\\Roaming\\nltk_data...\n",
      "[nltk_data]   Package punkt is already up-to-date!\n"
     ]
    },
    {
     "data": {
      "text/plain": [
       "True"
      ]
     },
     "execution_count": 3,
     "metadata": {},
     "output_type": "execute_result"
    }
   ],
   "source": [
    "from nltk.corpus import stopwords\n",
    "\n",
    "from nltk.tokenize import word_tokenize, sent_tokenize\n",
    "nltk.download('punkt')"
   ]
  },
  {
   "cell_type": "code",
   "execution_count": 4,
   "metadata": {
    "colab": {
     "base_uri": "https://localhost:8080/"
    },
    "executionInfo": {
     "elapsed": 131,
     "status": "ok",
     "timestamp": 1663378369212,
     "user": {
      "displayName": "Kunpeng Zhang",
      "userId": "09274433828486852799"
     },
     "user_tz": 240
    },
    "id": "MKg9HvDHNbZN",
    "outputId": "42470b70-40ae-4eda-8d16-bca6eb1e05f2"
   },
   "outputs": [
    {
     "name": "stdout",
     "output_type": "stream",
     "text": [
      "['i', 'me', 'my', 'myself', 'we', 'our', 'ours', 'ourselves', 'you', \"you're\", \"you've\", \"you'll\", \"you'd\", 'your', 'yours', 'yourself', 'yourselves', 'he', 'him', 'his', 'himself', 'she', \"she's\", 'her', 'hers', 'herself', 'it', \"it's\", 'its', 'itself', 'they', 'them', 'their', 'theirs', 'themselves', 'what', 'which', 'who', 'whom', 'this', 'that', \"that'll\", 'these', 'those', 'am', 'is', 'are', 'was', 'were', 'be', 'been', 'being', 'have', 'has', 'had', 'having', 'do', 'does', 'did', 'doing', 'a', 'an', 'the', 'and', 'but', 'if', 'or', 'because', 'as', 'until', 'while', 'of', 'at', 'by', 'for', 'with', 'about', 'against', 'between', 'into', 'through', 'during', 'before', 'after', 'above', 'below', 'to', 'from', 'up', 'down', 'in', 'out', 'on', 'off', 'over', 'under', 'again', 'further', 'then', 'once', 'here', 'there', 'when', 'where', 'why', 'how', 'all', 'any', 'both', 'each', 'few', 'more', 'most', 'other', 'some', 'such', 'no', 'nor', 'not', 'only', 'own', 'same', 'so', 'than', 'too', 'very', 's', 't', 'can', 'will', 'just', 'don', \"don't\", 'should', \"should've\", 'now', 'd', 'll', 'm', 'o', 're', 've', 'y', 'ain', 'aren', \"aren't\", 'couldn', \"couldn't\", 'didn', \"didn't\", 'doesn', \"doesn't\", 'hadn', \"hadn't\", 'hasn', \"hasn't\", 'haven', \"haven't\", 'isn', \"isn't\", 'ma', 'mightn', \"mightn't\", 'mustn', \"mustn't\", 'needn', \"needn't\", 'shan', \"shan't\", 'shouldn', \"shouldn't\", 'wasn', \"wasn't\", 'weren', \"weren't\", 'won', \"won't\", 'wouldn', \"wouldn't\"]\n"
     ]
    }
   ],
   "source": [
    "## We have stopwords in multiple languages\n",
    "stops_en = stopwords.words('english')\n",
    "stops_ge = stopwords.words('german')\n",
    "print(stops_en)"
   ]
  },
  {
   "cell_type": "code",
   "execution_count": 5,
   "metadata": {
    "colab": {
     "base_uri": "https://localhost:8080/"
    },
    "executionInfo": {
     "elapsed": 106,
     "status": "ok",
     "timestamp": 1663378370066,
     "user": {
      "displayName": "Kunpeng Zhang",
      "userId": "09274433828486852799"
     },
     "user_tz": 240
    },
    "id": "ZXtQASvWNbZN",
    "outputId": "36986066-205c-4c07-f7a3-7e3b60be12f4"
   },
   "outputs": [
    {
     "name": "stdout",
     "output_type": "stream",
     "text": [
      "['i', 'me', 'my', 'myself', 'we', 'our', 'ours', 'ourselves', 'you', \"you're\", \"you've\", \"you'll\", \"you'd\", 'your', 'yours', 'yourself', 'yourselves', 'he', 'him', 'his', 'himself', 'she', \"she's\", 'her', 'hers', 'herself', 'it', \"it's\", 'its', 'itself', 'they', 'them', 'their', 'theirs', 'themselves', 'what', 'which', 'who', 'whom', 'this', 'that', \"that'll\", 'these', 'those', 'am', 'is', 'are', 'was', 'were', 'be', 'been', 'being', 'have', 'has', 'had', 'having', 'do', 'does', 'did', 'doing', 'a', 'an', 'the', 'and', 'but', 'if', 'or', 'because', 'as', 'until', 'while', 'of', 'at', 'by', 'for', 'with', 'about', 'against', 'between', 'into', 'through', 'during', 'before', 'after', 'above', 'below', 'to', 'from', 'up', 'down', 'in', 'out', 'on', 'off', 'over', 'under', 'again', 'further', 'then', 'once', 'here', 'there', 'when', 'where', 'why', 'how', 'all', 'any', 'both', 'each', 'few', 'more', 'most', 'other', 'some', 'such', 'no', 'nor', 'not', 'only', 'own', 'same', 'so', 'than', 'too', 'very', 's', 't', 'can', 'will', 'just', 'don', \"don't\", 'should', \"should've\", 'now', 'd', 'll', 'm', 'o', 're', 've', 'y', 'ain', 'aren', \"aren't\", 'couldn', \"couldn't\", 'didn', \"didn't\", 'doesn', \"doesn't\", 'hadn', \"hadn't\", 'hasn', \"hasn't\", 'haven', \"haven't\", 'isn', \"isn't\", 'ma', 'mightn', \"mightn't\", 'mustn', \"mustn't\", 'needn', \"needn't\", 'shan', \"shan't\", 'shouldn', \"shouldn't\", 'wasn', \"wasn't\", 'weren', \"weren't\", 'won', \"won't\", 'wouldn', \"wouldn't\", 'airline']\n"
     ]
    }
   ],
   "source": [
    "# customize your stop word list by adding words\n",
    "stops_en.append('airline')\n",
    "print(stops_en)"
   ]
  },
  {
   "cell_type": "code",
   "execution_count": 6,
   "metadata": {
    "id": "4evIzq9BNbZQ"
   },
   "outputs": [
    {
     "data": {
      "text/plain": [
       "['The',\n",
       " 'Cable',\n",
       " 'News',\n",
       " 'Network',\n",
       " 'is',\n",
       " 'a',\n",
       " 'multinational',\n",
       " 'news-based',\n",
       " 'pay',\n",
       " 'television',\n",
       " 'channel',\n",
       " 'headquartered',\n",
       " 'in',\n",
       " 'Atlanta',\n",
       " ',',\n",
       " 'Georgia',\n",
       " '.',\n",
       " 'It',\n",
       " 'is',\n",
       " 'owned',\n",
       " 'by',\n",
       " 'CNN',\n",
       " 'Global',\n",
       " ',',\n",
       " 'which',\n",
       " 'is',\n",
       " 'part',\n",
       " 'of',\n",
       " 'Warner',\n",
       " 'Bros',\n",
       " ',',\n",
       " 'Discovery',\n",
       " '.',\n",
       " 'It',\n",
       " 'was',\n",
       " 'founded',\n",
       " 'in',\n",
       " '1980',\n",
       " 'by',\n",
       " 'American',\n",
       " 'media',\n",
       " 'proprietor',\n",
       " 'Ted',\n",
       " 'Turner',\n",
       " 'and',\n",
       " 'Reese',\n",
       " 'Schonfeld',\n",
       " 'as',\n",
       " 'a',\n",
       " '24-hour',\n",
       " 'cable',\n",
       " 'news',\n",
       " 'channel',\n",
       " '.']"
      ]
     },
     "execution_count": 6,
     "metadata": {},
     "output_type": "execute_result"
    }
   ],
   "source": [
    "# sentence / word tokenization\n",
    "cnn = 'The Cable News Network is a multinational news-based pay television channel headquartered in Atlanta, Georgia. It is owned by CNN Global, which is part of Warner Bros, Discovery. It was founded in 1980 by American media proprietor Ted Turner and Reese Schonfeld as a 24-hour cable news channel.'\n",
    "\n",
    "word_tokenize(cnn)\n",
    "#sent_tokenize(cnn)"
   ]
  },
  {
   "cell_type": "code",
   "execution_count": 7,
   "metadata": {
    "colab": {
     "base_uri": "https://localhost:8080/"
    },
    "executionInfo": {
     "elapsed": 127,
     "status": "ok",
     "timestamp": 1663378374611,
     "user": {
      "displayName": "Kunpeng Zhang",
      "userId": "09274433828486852799"
     },
     "user_tz": 240
    },
    "id": "D5KT6wDqNbZT",
    "outputId": "377945ec-fb6a-48ed-857a-826c2d6c450b"
   },
   "outputs": [
    {
     "name": "stdout",
     "output_type": "stream",
     "text": [
      "this : a stop word.\n",
      "first\n",
      "sentence\n",
      "this : a stop word.\n",
      "second\n",
      "sentence\n"
     ]
    }
   ],
   "source": [
    "# a combination of tokenization and stopword removal\n",
    "sent = 'This is the first sentence, and this is the second sentence.'\n",
    "words = word_tokenize(sent.lower())\n",
    "\n",
    "for word in words:\n",
    "  if len(word) <= 3:\n",
    "    continue\n",
    "  if word in stops_en:\n",
    "    print(word,': a stop word.')\n",
    "  else:\n",
    "    print(word)\n"
   ]
  },
  {
   "cell_type": "markdown",
   "metadata": {
    "id": "CP2TWgFCwFHG"
   },
   "source": [
    "## POS tagging\n",
    "\n",
    "- **Part-of-speech (POS)** tagging: Figuring out what are nouns, verbs, adjectives, etc. \n",
    "- It refers to categorizing words in a text (corpus) in correspondence with a particular part of speech, depending on the definition of the word and its context."
   ]
  },
  {
   "cell_type": "code",
   "execution_count": 8,
   "metadata": {
    "id": "pRZ8SLobNbZV"
   },
   "outputs": [
    {
     "name": "stdout",
     "output_type": "stream",
     "text": [
      "$: dollar\n",
      "    $ -$ --$ A$ C$ HK$ M$ NZ$ S$ U.S.$ US$\n",
      "'': closing quotation mark\n",
      "    ' ''\n",
      "(: opening parenthesis\n",
      "    ( [ {\n",
      "): closing parenthesis\n",
      "    ) ] }\n",
      ",: comma\n",
      "    ,\n",
      "--: dash\n",
      "    --\n",
      ".: sentence terminator\n",
      "    . ! ?\n",
      ":: colon or ellipsis\n",
      "    : ; ...\n",
      "CC: conjunction, coordinating\n",
      "    & 'n and both but either et for less minus neither nor or plus so\n",
      "    therefore times v. versus vs. whether yet\n",
      "CD: numeral, cardinal\n",
      "    mid-1890 nine-thirty forty-two one-tenth ten million 0.5 one forty-\n",
      "    seven 1987 twenty '79 zero two 78-degrees eighty-four IX '60s .025\n",
      "    fifteen 271,124 dozen quintillion DM2,000 ...\n",
      "DT: determiner\n",
      "    all an another any both del each either every half la many much nary\n",
      "    neither no some such that the them these this those\n",
      "EX: existential there\n",
      "    there\n",
      "FW: foreign word\n",
      "    gemeinschaft hund ich jeux habeas Haementeria Herr K'ang-si vous\n",
      "    lutihaw alai je jour objets salutaris fille quibusdam pas trop Monte\n",
      "    terram fiche oui corporis ...\n",
      "IN: preposition or conjunction, subordinating\n",
      "    astride among uppon whether out inside pro despite on by throughout\n",
      "    below within for towards near behind atop around if like until below\n",
      "    next into if beside ...\n",
      "JJ: adjective or numeral, ordinal\n",
      "    third ill-mannered pre-war regrettable oiled calamitous first separable\n",
      "    ectoplasmic battery-powered participatory fourth still-to-be-named\n",
      "    multilingual multi-disciplinary ...\n",
      "JJR: adjective, comparative\n",
      "    bleaker braver breezier briefer brighter brisker broader bumper busier\n",
      "    calmer cheaper choosier cleaner clearer closer colder commoner costlier\n",
      "    cozier creamier crunchier cuter ...\n",
      "JJS: adjective, superlative\n",
      "    calmest cheapest choicest classiest cleanest clearest closest commonest\n",
      "    corniest costliest crassest creepiest crudest cutest darkest deadliest\n",
      "    dearest deepest densest dinkiest ...\n",
      "LS: list item marker\n",
      "    A A. B B. C C. D E F First G H I J K One SP-44001 SP-44002 SP-44005\n",
      "    SP-44007 Second Third Three Two * a b c d first five four one six three\n",
      "    two\n",
      "MD: modal auxiliary\n",
      "    can cannot could couldn't dare may might must need ought shall should\n",
      "    shouldn't will would\n",
      "NN: noun, common, singular or mass\n",
      "    common-carrier cabbage knuckle-duster Casino afghan shed thermostat\n",
      "    investment slide humour falloff slick wind hyena override subhumanity\n",
      "    machinist ...\n",
      "NNP: noun, proper, singular\n",
      "    Motown Venneboerger Czestochwa Ranzer Conchita Trumplane Christos\n",
      "    Oceanside Escobar Kreisler Sawyer Cougar Yvette Ervin ODI Darryl CTCA\n",
      "    Shannon A.K.C. Meltex Liverpool ...\n",
      "NNPS: noun, proper, plural\n",
      "    Americans Americas Amharas Amityvilles Amusements Anarcho-Syndicalists\n",
      "    Andalusians Andes Andruses Angels Animals Anthony Antilles Antiques\n",
      "    Apache Apaches Apocrypha ...\n",
      "NNS: noun, common, plural\n",
      "    undergraduates scotches bric-a-brac products bodyguards facets coasts\n",
      "    divestitures storehouses designs clubs fragrances averages\n",
      "    subjectivists apprehensions muses factory-jobs ...\n",
      "PDT: pre-determiner\n",
      "    all both half many quite such sure this\n",
      "POS: genitive marker\n",
      "    ' 's\n",
      "PRP: pronoun, personal\n",
      "    hers herself him himself hisself it itself me myself one oneself ours\n",
      "    ourselves ownself self she thee theirs them themselves they thou thy us\n",
      "PRP$: pronoun, possessive\n",
      "    her his mine my our ours their thy your\n",
      "RB: adverb\n",
      "    occasionally unabatingly maddeningly adventurously professedly\n",
      "    stirringly prominently technologically magisterially predominately\n",
      "    swiftly fiscally pitilessly ...\n",
      "RBR: adverb, comparative\n",
      "    further gloomier grander graver greater grimmer harder harsher\n",
      "    healthier heavier higher however larger later leaner lengthier less-\n",
      "    perfectly lesser lonelier longer louder lower more ...\n",
      "RBS: adverb, superlative\n",
      "    best biggest bluntest earliest farthest first furthest hardest\n",
      "    heartiest highest largest least less most nearest second tightest worst\n",
      "RP: particle\n",
      "    aboard about across along apart around aside at away back before behind\n",
      "    by crop down ever fast for forth from go high i.e. in into just later\n",
      "    low more off on open out over per pie raising start teeth that through\n",
      "    under unto up up-pp upon whole with you\n",
      "SYM: symbol\n",
      "    % & ' '' ''. ) ). * + ,. < = > @ A[fj] U.S U.S.S.R * ** ***\n",
      "TO: \"to\" as preposition or infinitive marker\n",
      "    to\n",
      "UH: interjection\n",
      "    Goodbye Goody Gosh Wow Jeepers Jee-sus Hubba Hey Kee-reist Oops amen\n",
      "    huh howdy uh dammit whammo shucks heck anyways whodunnit honey golly\n",
      "    man baby diddle hush sonuvabitch ...\n",
      "VB: verb, base form\n",
      "    ask assemble assess assign assume atone attention avoid bake balkanize\n",
      "    bank begin behold believe bend benefit bevel beware bless boil bomb\n",
      "    boost brace break bring broil brush build ...\n",
      "VBD: verb, past tense\n",
      "    dipped pleaded swiped regummed soaked tidied convened halted registered\n",
      "    cushioned exacted snubbed strode aimed adopted belied figgered\n",
      "    speculated wore appreciated contemplated ...\n",
      "VBG: verb, present participle or gerund\n",
      "    telegraphing stirring focusing angering judging stalling lactating\n",
      "    hankerin' alleging veering capping approaching traveling besieging\n",
      "    encrypting interrupting erasing wincing ...\n",
      "VBN: verb, past participle\n",
      "    multihulled dilapidated aerosolized chaired languished panelized used\n",
      "    experimented flourished imitated reunifed factored condensed sheared\n",
      "    unsettled primed dubbed desired ...\n",
      "VBP: verb, present tense, not 3rd person singular\n",
      "    predominate wrap resort sue twist spill cure lengthen brush terminate\n",
      "    appear tend stray glisten obtain comprise detest tease attract\n",
      "    emphasize mold postpone sever return wag ...\n",
      "VBZ: verb, present tense, 3rd person singular\n",
      "    bases reconstructs marks mixes displeases seals carps weaves snatches\n",
      "    slumps stretches authorizes smolders pictures emerges stockpiles\n",
      "    seduces fizzes uses bolsters slaps speaks pleads ...\n",
      "WDT: WH-determiner\n",
      "    that what whatever which whichever\n",
      "WP: WH-pronoun\n",
      "    that what whatever whatsoever which who whom whosoever\n",
      "WP$: WH-pronoun, possessive\n",
      "    whose\n",
      "WRB: Wh-adverb\n",
      "    how however whence whenever where whereby whereever wherein whereof why\n",
      "``: opening quotation mark\n",
      "    ` ``\n"
     ]
    },
    {
     "name": "stderr",
     "output_type": "stream",
     "text": [
      "[nltk_data] Downloading package averaged_perceptron_tagger to\n",
      "[nltk_data]     C:\\Users\\DELL 5590\\AppData\\Roaming\\nltk_data...\n",
      "[nltk_data]   Package averaged_perceptron_tagger is already up-to-\n",
      "[nltk_data]       date!\n",
      "[nltk_data] Downloading package tagsets to C:\\Users\\DELL\n",
      "[nltk_data]     5590\\AppData\\Roaming\\nltk_data...\n",
      "[nltk_data]   Package tagsets is already up-to-date!\n"
     ]
    }
   ],
   "source": [
    "# POS tagging\n",
    "from nltk import pos_tag \n",
    "nltk.download('averaged_perceptron_tagger')\n",
    "nltk.download('tagsets')\n",
    "nltk.help.upenn_tagset()"
   ]
  },
  {
   "cell_type": "code",
   "execution_count": 9,
   "metadata": {
    "colab": {
     "base_uri": "https://localhost:8080/"
    },
    "executionInfo": {
     "elapsed": 279,
     "status": "ok",
     "timestamp": 1663378379837,
     "user": {
      "displayName": "Kunpeng Zhang",
      "userId": "09274433828486852799"
     },
     "user_tz": 240
    },
    "id": "FXLh4D0wNbZV",
    "outputId": "4f4d2a27-bc4f-4d0d-8c9e-c888bf7cfd95"
   },
   "outputs": [
    {
     "name": "stdout",
     "output_type": "stream",
     "text": [
      "[('I', 'PRP'), ('like', 'VBP'), ('that', 'DT'), ('awesome', 'JJ'), ('movie', 'NN'), (',', ','), ('especially', 'RB'), ('the', 'DT'), ('great', 'JJ'), ('director', 'NN'), ('.', '.')]\n"
     ]
    }
   ],
   "source": [
    "sent = 'I like that awesome movie, especially the great director.'\n",
    "words = word_tokenize(sent)\n",
    "tagged = pos_tag(words) \n",
    "print(tagged)"
   ]
  },
  {
   "cell_type": "markdown",
   "metadata": {
    "id": "UfXtGXkxwTeE"
   },
   "source": [
    "## Stemming and Lemmatization\n",
    "\n",
    "- **Stemming** - Removal or \"stemming\" of the last few words of a certain word.\n",
    "- **Lemmatization** - Merging modified versions of \"same\" word to be analyzed as a single word"
   ]
  },
  {
   "cell_type": "code",
   "execution_count": 10,
   "metadata": {
    "colab": {
     "base_uri": "https://localhost:8080/"
    },
    "executionInfo": {
     "elapsed": 201,
     "status": "ok",
     "timestamp": 1663378381919,
     "user": {
      "displayName": "Kunpeng Zhang",
      "userId": "09274433828486852799"
     },
     "user_tz": 240
    },
    "id": "J_p_nnXiNbZW",
    "outputId": "a3166ea4-a064-468a-e3ff-97599e888799"
   },
   "outputs": [
    {
     "name": "stdout",
     "output_type": "stream",
     "text": [
      "I , i , i\n",
      "liked , like , lik\n",
      "that , that , that\n",
      "awesome , awesom , awesom\n",
      "movie , movi , movy\n",
      ", , , , ,\n",
      "especially , especi , espec\n",
      "the , the , the\n",
      "director , director , direct\n",
      "was , wa , was\n",
      "the , the , the\n",
      "best , best , best\n",
      "guy , guy , guy\n",
      ". , . , .\n"
     ]
    }
   ],
   "source": [
    "# Stemming\n",
    "\n",
    "porter = nltk.PorterStemmer()\n",
    "\n",
    "lancaster = nltk.LancasterStemmer()\n",
    "\n",
    "sent = 'I liked that awesome movie, especially the director was the best guy.'\n",
    "words = word_tokenize(sent)\n",
    "for w in words:\n",
    "    print(w,',',porter.stem(w),',',lancaster.stem(w)) "
   ]
  },
  {
   "cell_type": "code",
   "execution_count": 11,
   "metadata": {
    "colab": {
     "base_uri": "https://localhost:8080/"
    },
    "executionInfo": {
     "elapsed": 2043,
     "status": "ok",
     "timestamp": 1663378385931,
     "user": {
      "displayName": "Kunpeng Zhang",
      "userId": "09274433828486852799"
     },
     "user_tz": 240
    },
    "id": "soImeUoANbZX",
    "outputId": "9e3fbb04-a6c2-4366-8883-c6aff0cc15b7"
   },
   "outputs": [
    {
     "name": "stderr",
     "output_type": "stream",
     "text": [
      "[nltk_data] Downloading package omw-1.4 to C:\\Users\\DELL\n",
      "[nltk_data]     5590\\AppData\\Roaming\\nltk_data...\n",
      "[nltk_data] Downloading package wordnet to C:\\Users\\DELL\n",
      "[nltk_data]     5590\\AppData\\Roaming\\nltk_data...\n",
      "[nltk_data]   Package wordnet is already up-to-date!\n"
     ]
    },
    {
     "name": "stdout",
     "output_type": "stream",
     "text": [
      "I , I\n",
      "liked , liked\n",
      "that , that\n",
      "awesome , awesome\n",
      "movie , movie\n",
      ", , ,\n",
      "especially , especially\n",
      "the , the\n",
      "director , director\n",
      "now , now\n",
      "was , wa\n",
      "moving , moving\n",
      "to , to\n",
      "another , another\n",
      "states , state\n",
      ". , .\n",
      "I , I\n",
      "am , am\n",
      "liking , liking\n",
      "the , the\n",
      "show , show\n",
      "as , a\n",
      "well , well\n",
      ". , .\n"
     ]
    }
   ],
   "source": [
    "# Lemmatization\n",
    "nltk.download('omw-1.4')\n",
    "wnl = nltk.WordNetLemmatizer()\n",
    "nltk.download('wordnet')\n",
    "\n",
    "sent = 'I liked that awesome movie, especially the director now was moving to another states. I am liking the show as well.'\n",
    "words = word_tokenize(sent)\n",
    "for t in words:\n",
    "    print(t,',',wnl.lemmatize(t))"
   ]
  },
  {
   "cell_type": "markdown",
   "metadata": {
    "id": "q14zClHfzWjd"
   },
   "source": [
    "## Word Sense Disambiguation"
   ]
  },
  {
   "cell_type": "code",
   "execution_count": 12,
   "metadata": {
    "colab": {
     "base_uri": "https://localhost:8080/"
    },
    "executionInfo": {
     "elapsed": 20353,
     "status": "ok",
     "timestamp": 1663378484951,
     "user": {
      "displayName": "Kunpeng Zhang",
      "userId": "09274433828486852799"
     },
     "user_tz": 240
    },
    "id": "RduO4lJs3mfz",
    "outputId": "ac3792c3-0e4e-4c26-fc61-37945857ea64"
   },
   "outputs": [
    {
     "name": "stdout",
     "output_type": "stream",
     "text": [
      "Collecting pywsd\n",
      "  Downloading pywsd-1.2.5-py3-none-any.whl.metadata (336 bytes)\n",
      "Requirement already satisfied: nltk in c:\\users\\dell 5590\\codes\\upgrad_maryland_analytics\\venv\\lib\\site-packages (from pywsd) (3.8.1)\n",
      "Requirement already satisfied: numpy in c:\\users\\dell 5590\\codes\\upgrad_maryland_analytics\\venv\\lib\\site-packages (from pywsd) (1.23.5)\n",
      "Requirement already satisfied: pandas in c:\\users\\dell 5590\\codes\\upgrad_maryland_analytics\\venv\\lib\\site-packages (from pywsd) (2.0.3)\n",
      "Collecting wn==0.0.23 (from pywsd)\n",
      "  Downloading wn-0.0.23.tar.gz (31.6 MB)\n",
      "     ---------------------------------------- 0.0/31.6 MB ? eta -:--:--\n",
      "     ---------------------------------------- 0.0/31.6 MB ? eta -:--:--\n",
      "     ---------------------------------------- 0.0/31.6 MB ? eta -:--:--\n",
      "     --------------------------------------- 0.0/31.6 MB 165.2 kB/s eta 0:03:12\n",
      "     --------------------------------------- 0.0/31.6 MB 219.4 kB/s eta 0:02:24\n",
      "     --------------------------------------- 0.1/31.6 MB 328.6 kB/s eta 0:01:37\n",
      "     --------------------------------------- 0.1/31.6 MB 525.1 kB/s eta 0:01:00\n",
      "     ---------------------------------------- 0.3/31.6 MB 1.0 MB/s eta 0:00:31\n",
      "      --------------------------------------- 0.4/31.6 MB 1.3 MB/s eta 0:00:24\n",
      "      --------------------------------------- 0.7/31.6 MB 1.8 MB/s eta 0:00:17\n",
      "     - -------------------------------------- 1.0/31.6 MB 2.3 MB/s eta 0:00:14\n",
      "     - -------------------------------------- 1.2/31.6 MB 2.6 MB/s eta 0:00:12\n",
      "     - -------------------------------------- 1.6/31.6 MB 3.0 MB/s eta 0:00:11\n",
      "     -- ------------------------------------- 1.8/31.6 MB 3.3 MB/s eta 0:00:10\n",
      "     -- ------------------------------------- 2.1/31.6 MB 3.6 MB/s eta 0:00:09\n",
      "     --- ------------------------------------ 2.4/31.6 MB 3.7 MB/s eta 0:00:08\n",
      "     --- ------------------------------------ 2.8/31.6 MB 4.1 MB/s eta 0:00:08\n",
      "     ---- ----------------------------------- 3.2/31.6 MB 4.3 MB/s eta 0:00:07\n",
      "     ---- ----------------------------------- 3.5/31.6 MB 4.3 MB/s eta 0:00:07\n",
      "     ---- ----------------------------------- 3.9/31.6 MB 4.7 MB/s eta 0:00:06\n",
      "     ----- ---------------------------------- 4.3/31.6 MB 4.8 MB/s eta 0:00:06\n",
      "     ----- ---------------------------------- 4.7/31.6 MB 5.1 MB/s eta 0:00:06\n",
      "     ------ --------------------------------- 5.1/31.6 MB 5.3 MB/s eta 0:00:06\n",
      "     ------ --------------------------------- 5.2/31.6 MB 5.3 MB/s eta 0:00:06\n",
      "     ------ --------------------------------- 5.3/31.6 MB 5.0 MB/s eta 0:00:06\n",
      "     ------ --------------------------------- 5.3/31.6 MB 5.0 MB/s eta 0:00:06\n",
      "     ------ --------------------------------- 5.3/31.6 MB 4.7 MB/s eta 0:00:06\n",
      "     ------- -------------------------------- 5.7/31.6 MB 4.7 MB/s eta 0:00:06\n",
      "     ------- -------------------------------- 5.8/31.6 MB 4.7 MB/s eta 0:00:06\n",
      "     ------- -------------------------------- 5.9/31.6 MB 4.6 MB/s eta 0:00:06\n",
      "     ------- -------------------------------- 6.2/31.6 MB 4.6 MB/s eta 0:00:06\n",
      "     ------- -------------------------------- 6.2/31.6 MB 4.6 MB/s eta 0:00:06\n",
      "     ------- -------------------------------- 6.2/31.6 MB 4.6 MB/s eta 0:00:06\n",
      "     -------- ------------------------------- 6.3/31.6 MB 4.3 MB/s eta 0:00:06\n",
      "     -------- ------------------------------- 6.3/31.6 MB 4.3 MB/s eta 0:00:06\n",
      "     -------- ------------------------------- 6.4/31.6 MB 4.1 MB/s eta 0:00:07\n",
      "     -------- ------------------------------- 6.7/31.6 MB 4.1 MB/s eta 0:00:07\n",
      "     -------- ------------------------------- 6.7/31.6 MB 4.1 MB/s eta 0:00:07\n",
      "     -------- ------------------------------- 6.8/31.6 MB 4.0 MB/s eta 0:00:07\n",
      "     -------- ------------------------------- 7.0/31.6 MB 4.0 MB/s eta 0:00:07\n",
      "     --------- ------------------------------ 7.1/31.6 MB 4.0 MB/s eta 0:00:07\n",
      "     --------- ------------------------------ 7.1/31.6 MB 4.0 MB/s eta 0:00:07\n",
      "     --------- ------------------------------ 7.3/31.6 MB 3.8 MB/s eta 0:00:07\n",
      "     --------- ------------------------------ 7.5/31.6 MB 3.8 MB/s eta 0:00:07\n",
      "     --------- ------------------------------ 7.6/31.6 MB 3.8 MB/s eta 0:00:07\n",
      "     --------- ------------------------------ 7.7/31.6 MB 3.8 MB/s eta 0:00:07\n",
      "     --------- ------------------------------ 7.8/31.6 MB 3.7 MB/s eta 0:00:07\n",
      "     ---------- ----------------------------- 7.9/31.6 MB 3.7 MB/s eta 0:00:07\n",
      "     ---------- ----------------------------- 8.0/31.6 MB 3.7 MB/s eta 0:00:07\n",
      "     ---------- ----------------------------- 8.1/31.6 MB 3.6 MB/s eta 0:00:07\n",
      "     ---------- ----------------------------- 8.2/31.6 MB 3.6 MB/s eta 0:00:07\n",
      "     ---------- ----------------------------- 8.4/31.6 MB 3.6 MB/s eta 0:00:07\n",
      "     ---------- ----------------------------- 8.5/31.6 MB 3.6 MB/s eta 0:00:07\n",
      "     ---------- ----------------------------- 8.6/31.6 MB 3.6 MB/s eta 0:00:07\n",
      "     ----------- ---------------------------- 8.8/31.6 MB 3.5 MB/s eta 0:00:07\n",
      "     ----------- ---------------------------- 8.9/31.6 MB 3.5 MB/s eta 0:00:07\n",
      "     ----------- ---------------------------- 9.0/31.6 MB 3.5 MB/s eta 0:00:07\n",
      "     ----------- ---------------------------- 9.1/31.6 MB 3.5 MB/s eta 0:00:07\n",
      "     ----------- ---------------------------- 9.2/31.6 MB 3.5 MB/s eta 0:00:07\n",
      "     ----------- ---------------------------- 9.4/31.6 MB 3.5 MB/s eta 0:00:07\n",
      "     ----------- ---------------------------- 9.5/31.6 MB 3.4 MB/s eta 0:00:07\n",
      "     ------------ --------------------------- 9.6/31.6 MB 3.4 MB/s eta 0:00:07\n",
      "     ------------ --------------------------- 9.7/31.6 MB 3.4 MB/s eta 0:00:07\n",
      "     ------------ --------------------------- 9.9/31.6 MB 3.4 MB/s eta 0:00:07\n",
      "     ------------ --------------------------- 10.0/31.6 MB 3.4 MB/s eta 0:00:07\n",
      "     ------------ --------------------------- 10.2/31.6 MB 3.4 MB/s eta 0:00:07\n",
      "     ------------- -------------------------- 10.3/31.6 MB 3.6 MB/s eta 0:00:06\n",
      "     ------------- -------------------------- 10.4/31.6 MB 3.6 MB/s eta 0:00:06\n",
      "     ------------- -------------------------- 10.5/31.6 MB 3.6 MB/s eta 0:00:06\n",
      "     ------------- -------------------------- 10.7/31.6 MB 3.6 MB/s eta 0:00:06\n",
      "     ------------- -------------------------- 10.8/31.6 MB 3.6 MB/s eta 0:00:06\n",
      "     ------------- -------------------------- 10.9/31.6 MB 3.5 MB/s eta 0:00:06\n",
      "     ------------- -------------------------- 11.0/31.6 MB 3.5 MB/s eta 0:00:06\n",
      "     -------------- ------------------------- 11.2/31.6 MB 3.5 MB/s eta 0:00:06\n",
      "     -------------- ------------------------- 11.3/31.6 MB 3.4 MB/s eta 0:00:06\n",
      "     -------------- ------------------------- 11.4/31.6 MB 3.4 MB/s eta 0:00:06\n",
      "     -------------- ------------------------- 11.5/31.6 MB 3.4 MB/s eta 0:00:06\n",
      "     -------------- ------------------------- 11.7/31.6 MB 3.4 MB/s eta 0:00:06\n",
      "     -------------- ------------------------- 11.8/31.6 MB 3.3 MB/s eta 0:00:06\n",
      "     --------------- ------------------------ 12.0/31.6 MB 3.3 MB/s eta 0:00:06\n",
      "     --------------- ------------------------ 12.1/31.6 MB 3.3 MB/s eta 0:00:06\n",
      "     --------------- ------------------------ 12.2/31.6 MB 3.3 MB/s eta 0:00:06\n",
      "     --------------- ------------------------ 12.4/31.6 MB 3.2 MB/s eta 0:00:07\n",
      "     --------------- ------------------------ 12.4/31.6 MB 3.2 MB/s eta 0:00:06\n",
      "     --------------- ------------------------ 12.5/31.6 MB 3.1 MB/s eta 0:00:07\n",
      "     ---------------- ----------------------- 12.7/31.6 MB 3.1 MB/s eta 0:00:07\n",
      "     ---------------- ----------------------- 12.8/31.6 MB 3.1 MB/s eta 0:00:07\n",
      "     ---------------- ----------------------- 12.9/31.6 MB 3.1 MB/s eta 0:00:07\n",
      "     ---------------- ----------------------- 12.9/31.6 MB 3.0 MB/s eta 0:00:07\n",
      "     ---------------- ----------------------- 13.0/31.6 MB 3.0 MB/s eta 0:00:07\n",
      "     ---------------- ----------------------- 13.1/31.6 MB 3.0 MB/s eta 0:00:07\n",
      "     ---------------- ----------------------- 13.2/31.6 MB 3.0 MB/s eta 0:00:07\n",
      "     ---------------- ----------------------- 13.3/31.6 MB 2.9 MB/s eta 0:00:07\n",
      "     ---------------- ----------------------- 13.4/31.6 MB 2.9 MB/s eta 0:00:07\n",
      "     ----------------- ---------------------- 13.5/31.6 MB 2.9 MB/s eta 0:00:07\n",
      "     ----------------- ---------------------- 13.6/31.6 MB 2.8 MB/s eta 0:00:07\n",
      "     ----------------- ---------------------- 13.7/31.6 MB 2.8 MB/s eta 0:00:07\n",
      "     ----------------- ---------------------- 13.8/31.6 MB 2.8 MB/s eta 0:00:07\n",
      "     ----------------- ---------------------- 13.9/31.6 MB 2.8 MB/s eta 0:00:07\n",
      "     ----------------- ---------------------- 14.0/31.6 MB 2.7 MB/s eta 0:00:07\n",
      "     ----------------- ---------------------- 14.1/31.6 MB 2.7 MB/s eta 0:00:07\n",
      "     ----------------- ---------------------- 14.2/31.6 MB 2.7 MB/s eta 0:00:07\n",
      "     ------------------ --------------------- 14.3/31.6 MB 2.7 MB/s eta 0:00:07\n",
      "     ------------------ --------------------- 14.4/31.6 MB 2.6 MB/s eta 0:00:07\n",
      "     ------------------ --------------------- 14.5/31.6 MB 2.6 MB/s eta 0:00:07\n",
      "     ------------------ --------------------- 14.6/31.6 MB 2.6 MB/s eta 0:00:07\n",
      "     ------------------ --------------------- 14.7/31.6 MB 2.6 MB/s eta 0:00:07\n",
      "     ------------------ --------------------- 14.8/31.6 MB 2.5 MB/s eta 0:00:07\n",
      "     ------------------ --------------------- 14.9/31.6 MB 2.5 MB/s eta 0:00:07\n",
      "     ------------------ --------------------- 15.0/31.6 MB 2.5 MB/s eta 0:00:07\n",
      "     ------------------- -------------------- 15.1/31.6 MB 2.5 MB/s eta 0:00:07\n",
      "     ------------------- -------------------- 15.2/31.6 MB 2.5 MB/s eta 0:00:07\n",
      "     ------------------- -------------------- 15.3/31.6 MB 2.4 MB/s eta 0:00:07\n",
      "     ------------------- -------------------- 15.4/31.6 MB 2.5 MB/s eta 0:00:07\n",
      "     ------------------- -------------------- 15.5/31.6 MB 2.5 MB/s eta 0:00:07\n",
      "     ------------------- -------------------- 15.6/31.6 MB 2.5 MB/s eta 0:00:07\n",
      "     ------------------- -------------------- 15.8/31.6 MB 2.5 MB/s eta 0:00:07\n",
      "     -------------------- ------------------- 15.9/31.6 MB 2.4 MB/s eta 0:00:07\n",
      "     -------------------- ------------------- 16.0/31.6 MB 2.4 MB/s eta 0:00:07\n",
      "     -------------------- ------------------- 16.1/31.6 MB 2.4 MB/s eta 0:00:07\n",
      "     -------------------- ------------------- 16.2/31.6 MB 2.4 MB/s eta 0:00:07\n",
      "     -------------------- ------------------- 16.3/31.6 MB 2.4 MB/s eta 0:00:07\n",
      "     -------------------- ------------------- 16.4/31.6 MB 2.4 MB/s eta 0:00:07\n",
      "     -------------------- ------------------- 16.5/31.6 MB 2.4 MB/s eta 0:00:07\n",
      "     --------------------- ------------------ 16.6/31.6 MB 2.5 MB/s eta 0:00:07\n",
      "     --------------------- ------------------ 16.7/31.6 MB 2.4 MB/s eta 0:00:07\n",
      "     --------------------- ------------------ 16.8/31.6 MB 2.4 MB/s eta 0:00:07\n",
      "     --------------------- ------------------ 16.9/31.6 MB 2.4 MB/s eta 0:00:07\n",
      "     --------------------- ------------------ 17.0/31.6 MB 2.4 MB/s eta 0:00:06\n",
      "     --------------------- ------------------ 17.2/31.6 MB 2.4 MB/s eta 0:00:06\n",
      "     --------------------- ------------------ 17.2/31.6 MB 2.4 MB/s eta 0:00:06\n",
      "     --------------------- ------------------ 17.4/31.6 MB 2.4 MB/s eta 0:00:06\n",
      "     ---------------------- ----------------- 17.5/31.6 MB 2.4 MB/s eta 0:00:06\n",
      "     ---------------------- ----------------- 17.6/31.6 MB 2.4 MB/s eta 0:00:06\n",
      "     ---------------------- ----------------- 17.7/31.6 MB 2.4 MB/s eta 0:00:06\n",
      "     ---------------------- ----------------- 17.9/31.6 MB 2.4 MB/s eta 0:00:06\n",
      "     ---------------------- ----------------- 18.0/31.6 MB 2.4 MB/s eta 0:00:06\n",
      "     ---------------------- ----------------- 18.1/31.6 MB 2.4 MB/s eta 0:00:06\n",
      "     ---------------------- ----------------- 18.2/31.6 MB 2.4 MB/s eta 0:00:06\n",
      "     ----------------------- ---------------- 18.3/31.6 MB 2.4 MB/s eta 0:00:06\n",
      "     ----------------------- ---------------- 18.4/31.6 MB 2.4 MB/s eta 0:00:06\n",
      "     ----------------------- ---------------- 18.5/31.6 MB 2.4 MB/s eta 0:00:06\n",
      "     ----------------------- ---------------- 18.7/31.6 MB 2.4 MB/s eta 0:00:06\n",
      "     ----------------------- ---------------- 18.8/31.6 MB 2.4 MB/s eta 0:00:06\n",
      "     ----------------------- ---------------- 18.9/31.6 MB 2.4 MB/s eta 0:00:06\n",
      "     ------------------------ --------------- 19.0/31.6 MB 2.4 MB/s eta 0:00:06\n",
      "     ------------------------ --------------- 19.1/31.6 MB 2.4 MB/s eta 0:00:06\n",
      "     ------------------------ --------------- 19.2/31.6 MB 2.4 MB/s eta 0:00:06\n",
      "     ------------------------ --------------- 19.4/31.6 MB 2.4 MB/s eta 0:00:06\n",
      "     ------------------------ --------------- 19.5/31.6 MB 2.4 MB/s eta 0:00:06\n",
      "     ------------------------ --------------- 19.6/31.6 MB 2.4 MB/s eta 0:00:05\n",
      "     ------------------------ --------------- 19.7/31.6 MB 2.4 MB/s eta 0:00:05\n",
      "     ------------------------- -------------- 19.8/31.6 MB 2.4 MB/s eta 0:00:05\n",
      "     ------------------------- -------------- 20.0/31.6 MB 2.4 MB/s eta 0:00:05\n",
      "     ------------------------- -------------- 20.1/31.6 MB 2.4 MB/s eta 0:00:05\n",
      "     ------------------------- -------------- 20.2/31.6 MB 2.4 MB/s eta 0:00:05\n",
      "     ------------------------- -------------- 20.3/31.6 MB 2.4 MB/s eta 0:00:05\n",
      "     ------------------------- -------------- 20.4/31.6 MB 2.4 MB/s eta 0:00:05\n",
      "     -------------------------- ------------- 20.6/31.6 MB 2.4 MB/s eta 0:00:05\n",
      "     -------------------------- ------------- 20.7/31.6 MB 2.4 MB/s eta 0:00:05\n",
      "     -------------------------- ------------- 20.8/31.6 MB 2.4 MB/s eta 0:00:05\n",
      "     -------------------------- ------------- 20.9/31.6 MB 2.4 MB/s eta 0:00:05\n",
      "     -------------------------- ------------- 21.0/31.6 MB 2.4 MB/s eta 0:00:05\n",
      "     -------------------------- ------------- 21.2/31.6 MB 2.4 MB/s eta 0:00:05\n",
      "     -------------------------- ------------- 21.3/31.6 MB 2.4 MB/s eta 0:00:05\n",
      "     --------------------------- ------------ 21.4/31.6 MB 2.4 MB/s eta 0:00:05\n",
      "     --------------------------- ------------ 21.5/31.6 MB 2.4 MB/s eta 0:00:05\n",
      "     --------------------------- ------------ 21.7/31.6 MB 2.4 MB/s eta 0:00:05\n",
      "     --------------------------- ------------ 21.8/31.6 MB 2.4 MB/s eta 0:00:05\n",
      "     --------------------------- ------------ 21.9/31.6 MB 2.4 MB/s eta 0:00:05\n",
      "     --------------------------- ------------ 22.0/31.6 MB 2.4 MB/s eta 0:00:04\n",
      "     ---------------------------- ----------- 22.2/31.6 MB 2.4 MB/s eta 0:00:04\n",
      "     ---------------------------- ----------- 22.3/31.6 MB 2.4 MB/s eta 0:00:04\n",
      "     ---------------------------- ----------- 22.4/31.6 MB 2.4 MB/s eta 0:00:04\n",
      "     ---------------------------- ----------- 22.5/31.6 MB 2.4 MB/s eta 0:00:04\n",
      "     ---------------------------- ----------- 22.7/31.6 MB 2.4 MB/s eta 0:00:04\n",
      "     ---------------------------- ----------- 22.9/31.6 MB 2.4 MB/s eta 0:00:04\n",
      "     ----------------------------- ---------- 22.9/31.6 MB 2.4 MB/s eta 0:00:04\n",
      "     ----------------------------- ---------- 23.1/31.6 MB 2.4 MB/s eta 0:00:04\n",
      "     ----------------------------- ---------- 23.2/31.6 MB 2.4 MB/s eta 0:00:04\n",
      "     ----------------------------- ---------- 23.3/31.6 MB 2.4 MB/s eta 0:00:04\n",
      "     ----------------------------- ---------- 23.5/31.6 MB 2.4 MB/s eta 0:00:04\n",
      "     ----------------------------- ---------- 23.6/31.6 MB 2.5 MB/s eta 0:00:04\n",
      "     ----------------------------- ---------- 23.7/31.6 MB 2.5 MB/s eta 0:00:04\n",
      "     ------------------------------ --------- 23.8/31.6 MB 2.5 MB/s eta 0:00:04\n",
      "     ------------------------------ --------- 24.0/31.6 MB 2.5 MB/s eta 0:00:04\n",
      "     ------------------------------ --------- 24.1/31.6 MB 2.5 MB/s eta 0:00:04\n",
      "     ------------------------------ --------- 24.2/31.6 MB 2.5 MB/s eta 0:00:03\n",
      "     ------------------------------ --------- 24.4/31.6 MB 2.5 MB/s eta 0:00:03\n",
      "     ------------------------------- -------- 24.5/31.6 MB 2.5 MB/s eta 0:00:03\n",
      "     ------------------------------- -------- 24.7/31.6 MB 2.5 MB/s eta 0:00:03\n",
      "     ------------------------------- -------- 24.8/31.6 MB 2.6 MB/s eta 0:00:03\n",
      "     ------------------------------- -------- 24.9/31.6 MB 2.6 MB/s eta 0:00:03\n",
      "     ------------------------------- -------- 25.0/31.6 MB 2.6 MB/s eta 0:00:03\n",
      "     ------------------------------- -------- 25.2/31.6 MB 2.6 MB/s eta 0:00:03\n",
      "     -------------------------------- ------- 25.3/31.6 MB 2.6 MB/s eta 0:00:03\n",
      "     -------------------------------- ------- 25.5/31.6 MB 2.6 MB/s eta 0:00:03\n",
      "     -------------------------------- ------- 25.6/31.6 MB 2.6 MB/s eta 0:00:03\n",
      "     -------------------------------- ------- 25.8/31.6 MB 2.6 MB/s eta 0:00:03\n",
      "     -------------------------------- ------- 25.9/31.6 MB 2.6 MB/s eta 0:00:03\n",
      "     -------------------------------- ------- 26.0/31.6 MB 2.6 MB/s eta 0:00:03\n",
      "     --------------------------------- ------ 26.2/31.6 MB 2.6 MB/s eta 0:00:03\n",
      "     --------------------------------- ------ 26.3/31.6 MB 2.7 MB/s eta 0:00:03\n",
      "     --------------------------------- ------ 26.5/31.6 MB 2.7 MB/s eta 0:00:02\n",
      "     --------------------------------- ------ 26.6/31.6 MB 2.7 MB/s eta 0:00:02\n",
      "     --------------------------------- ------ 26.7/31.6 MB 2.7 MB/s eta 0:00:02\n",
      "     ---------------------------------- ----- 26.9/31.6 MB 2.7 MB/s eta 0:00:02\n",
      "     ---------------------------------- ----- 27.0/31.6 MB 2.7 MB/s eta 0:00:02\n",
      "     ---------------------------------- ----- 27.2/31.6 MB 2.7 MB/s eta 0:00:02\n",
      "     ---------------------------------- ----- 27.3/31.6 MB 2.7 MB/s eta 0:00:02\n",
      "     ---------------------------------- ----- 27.5/31.6 MB 2.8 MB/s eta 0:00:02\n",
      "     ---------------------------------- ----- 27.6/31.6 MB 2.8 MB/s eta 0:00:02\n",
      "     ----------------------------------- ---- 27.8/31.6 MB 2.8 MB/s eta 0:00:02\n",
      "     ----------------------------------- ---- 27.9/31.6 MB 2.8 MB/s eta 0:00:02\n",
      "     ----------------------------------- ---- 28.0/31.6 MB 2.8 MB/s eta 0:00:02\n",
      "     ----------------------------------- ---- 28.2/31.6 MB 2.8 MB/s eta 0:00:02\n",
      "     ----------------------------------- ---- 28.4/31.6 MB 2.8 MB/s eta 0:00:02\n",
      "     ------------------------------------ --- 28.5/31.6 MB 2.8 MB/s eta 0:00:02\n",
      "     ------------------------------------ --- 28.6/31.6 MB 2.8 MB/s eta 0:00:02\n",
      "     ------------------------------------ --- 28.8/31.6 MB 2.8 MB/s eta 0:00:01\n",
      "     ------------------------------------ --- 29.0/31.6 MB 2.8 MB/s eta 0:00:01\n",
      "     ------------------------------------ --- 29.1/31.6 MB 2.8 MB/s eta 0:00:01\n",
      "     ------------------------------------ --- 29.2/31.6 MB 2.9 MB/s eta 0:00:01\n",
      "     ------------------------------------- -- 29.4/31.6 MB 2.9 MB/s eta 0:00:01\n",
      "     ------------------------------------- -- 29.5/31.6 MB 2.9 MB/s eta 0:00:01\n",
      "     ------------------------------------- -- 29.7/31.6 MB 2.9 MB/s eta 0:00:01\n",
      "     ------------------------------------- -- 29.9/31.6 MB 2.9 MB/s eta 0:00:01\n",
      "     ------------------------------------- -- 30.0/31.6 MB 2.9 MB/s eta 0:00:01\n",
      "     -------------------------------------- - 30.1/31.6 MB 2.9 MB/s eta 0:00:01\n",
      "     -------------------------------------- - 30.3/31.6 MB 2.9 MB/s eta 0:00:01\n",
      "     -------------------------------------- - 30.4/31.6 MB 2.9 MB/s eta 0:00:01\n",
      "     -------------------------------------- - 30.4/31.6 MB 2.9 MB/s eta 0:00:01\n",
      "     -------------------------------------- - 30.5/31.6 MB 2.9 MB/s eta 0:00:01\n",
      "     -------------------------------------- - 30.6/31.6 MB 2.9 MB/s eta 0:00:01\n",
      "     -------------------------------------- - 30.7/31.6 MB 2.9 MB/s eta 0:00:01\n",
      "     ---------------------------------------  30.9/31.6 MB 2.9 MB/s eta 0:00:01\n",
      "     ---------------------------------------  30.9/31.6 MB 2.9 MB/s eta 0:00:01\n",
      "     ---------------------------------------  31.1/31.6 MB 2.9 MB/s eta 0:00:01\n",
      "     ---------------------------------------  31.2/31.6 MB 2.9 MB/s eta 0:00:01\n",
      "     ---------------------------------------  31.3/31.6 MB 2.9 MB/s eta 0:00:01\n",
      "     ---------------------------------------  31.4/31.6 MB 2.9 MB/s eta 0:00:01\n",
      "     ---------------------------------------  31.4/31.6 MB 2.9 MB/s eta 0:00:01\n",
      "     ---------------------------------------  31.5/31.6 MB 2.8 MB/s eta 0:00:01\n",
      "     ---------------------------------------  31.5/31.6 MB 2.8 MB/s eta 0:00:01\n",
      "     ---------------------------------------  31.6/31.6 MB 2.8 MB/s eta 0:00:01\n",
      "     ---------------------------------------  31.6/31.6 MB 2.8 MB/s eta 0:00:01\n",
      "     ---------------------------------------  31.6/31.6 MB 2.8 MB/s eta 0:00:01\n",
      "     ---------------------------------------- 31.6/31.6 MB 2.7 MB/s eta 0:00:00\n",
      "  Preparing metadata (setup.py): started\n",
      "  Preparing metadata (setup.py): finished with status 'done'\n",
      "Requirement already satisfied: six in c:\\users\\dell 5590\\codes\\upgrad_maryland_analytics\\venv\\lib\\site-packages (from pywsd) (1.16.0)\n",
      "Requirement already satisfied: click in c:\\users\\dell 5590\\codes\\upgrad_maryland_analytics\\venv\\lib\\site-packages (from nltk->pywsd) (8.1.7)\n",
      "Requirement already satisfied: joblib in c:\\users\\dell 5590\\codes\\upgrad_maryland_analytics\\venv\\lib\\site-packages (from nltk->pywsd) (1.3.2)\n",
      "Requirement already satisfied: regex>=2021.8.3 in c:\\users\\dell 5590\\codes\\upgrad_maryland_analytics\\venv\\lib\\site-packages (from nltk->pywsd) (2024.5.10)\n",
      "Requirement already satisfied: tqdm in c:\\users\\dell 5590\\codes\\upgrad_maryland_analytics\\venv\\lib\\site-packages (from nltk->pywsd) (4.66.1)\n",
      "Requirement already satisfied: python-dateutil>=2.8.2 in c:\\users\\dell 5590\\codes\\upgrad_maryland_analytics\\venv\\lib\\site-packages (from pandas->pywsd) (2.8.2)\n",
      "Requirement already satisfied: pytz>=2020.1 in c:\\users\\dell 5590\\codes\\upgrad_maryland_analytics\\venv\\lib\\site-packages (from pandas->pywsd) (2023.3)\n",
      "Requirement already satisfied: tzdata>=2022.1 in c:\\users\\dell 5590\\codes\\upgrad_maryland_analytics\\venv\\lib\\site-packages (from pandas->pywsd) (2023.3)\n",
      "Requirement already satisfied: colorama in c:\\users\\dell 5590\\codes\\upgrad_maryland_analytics\\venv\\lib\\site-packages (from click->nltk->pywsd) (0.4.6)\n",
      "Downloading pywsd-1.2.5-py3-none-any.whl (26.9 MB)\n",
      "   ---------------------------------------- 0.0/26.9 MB ? eta -:--:--\n",
      "   ---------------------------------------- 0.1/26.9 MB 1.7 MB/s eta 0:00:17\n",
      "   ---------------------------------------- 0.1/26.9 MB 1.3 MB/s eta 0:00:21\n",
      "   ---------------------------------------- 0.2/26.9 MB 1.4 MB/s eta 0:00:20\n",
      "   ---------------------------------------- 0.2/26.9 MB 1.5 MB/s eta 0:00:18\n",
      "   ---------------------------------------- 0.3/26.9 MB 1.4 MB/s eta 0:00:20\n",
      "    --------------------------------------- 0.4/26.9 MB 1.4 MB/s eta 0:00:20\n",
      "    --------------------------------------- 0.4/26.9 MB 1.4 MB/s eta 0:00:20\n",
      "    --------------------------------------- 0.5/26.9 MB 1.4 MB/s eta 0:00:19\n",
      "    --------------------------------------- 0.6/26.9 MB 1.4 MB/s eta 0:00:19\n",
      "    --------------------------------------- 0.6/26.9 MB 1.4 MB/s eta 0:00:19\n",
      "    --------------------------------------- 0.7/26.9 MB 1.4 MB/s eta 0:00:19\n",
      "   - -------------------------------------- 0.7/26.9 MB 1.4 MB/s eta 0:00:20\n",
      "   - -------------------------------------- 0.8/26.9 MB 1.4 MB/s eta 0:00:19\n",
      "   - -------------------------------------- 0.9/26.9 MB 1.4 MB/s eta 0:00:20\n",
      "   - -------------------------------------- 0.9/26.9 MB 1.4 MB/s eta 0:00:19\n",
      "   - -------------------------------------- 1.0/26.9 MB 1.4 MB/s eta 0:00:19\n",
      "   - -------------------------------------- 1.1/26.9 MB 1.4 MB/s eta 0:00:19\n",
      "   - -------------------------------------- 1.1/26.9 MB 1.4 MB/s eta 0:00:19\n",
      "   - -------------------------------------- 1.2/26.9 MB 1.4 MB/s eta 0:00:19\n",
      "   - -------------------------------------- 1.2/26.9 MB 1.4 MB/s eta 0:00:19\n",
      "   - -------------------------------------- 1.3/26.9 MB 1.4 MB/s eta 0:00:19\n",
      "   -- ------------------------------------- 1.4/26.9 MB 1.4 MB/s eta 0:00:19\n",
      "   -- ------------------------------------- 1.5/26.9 MB 1.4 MB/s eta 0:00:19\n",
      "   -- ------------------------------------- 1.5/26.9 MB 1.4 MB/s eta 0:00:19\n",
      "   -- ------------------------------------- 1.6/26.9 MB 1.4 MB/s eta 0:00:18\n",
      "   -- ------------------------------------- 1.7/26.9 MB 1.4 MB/s eta 0:00:18\n",
      "   -- ------------------------------------- 1.7/26.9 MB 1.4 MB/s eta 0:00:18\n",
      "   -- ------------------------------------- 1.8/26.9 MB 1.4 MB/s eta 0:00:18\n",
      "   -- ------------------------------------- 1.9/26.9 MB 1.4 MB/s eta 0:00:18\n",
      "   -- ------------------------------------- 1.9/26.9 MB 1.4 MB/s eta 0:00:18\n",
      "   -- ------------------------------------- 2.0/26.9 MB 1.4 MB/s eta 0:00:18\n",
      "   --- ------------------------------------ 2.1/26.9 MB 1.4 MB/s eta 0:00:18\n",
      "   --- ------------------------------------ 2.2/26.9 MB 1.4 MB/s eta 0:00:18\n",
      "   --- ------------------------------------ 2.2/26.9 MB 1.4 MB/s eta 0:00:18\n",
      "   --- ------------------------------------ 2.3/26.9 MB 1.4 MB/s eta 0:00:18\n",
      "   --- ------------------------------------ 2.4/26.9 MB 1.4 MB/s eta 0:00:17\n",
      "   --- ------------------------------------ 2.5/26.9 MB 1.5 MB/s eta 0:00:17\n",
      "   --- ------------------------------------ 2.5/26.9 MB 1.5 MB/s eta 0:00:17\n",
      "   --- ------------------------------------ 2.6/26.9 MB 1.5 MB/s eta 0:00:17\n",
      "   --- ------------------------------------ 2.7/26.9 MB 1.5 MB/s eta 0:00:17\n",
      "   ---- ----------------------------------- 2.8/26.9 MB 1.5 MB/s eta 0:00:17\n",
      "   ---- ----------------------------------- 2.8/26.9 MB 1.5 MB/s eta 0:00:17\n",
      "   ---- ----------------------------------- 2.9/26.9 MB 1.5 MB/s eta 0:00:17\n",
      "   ---- ----------------------------------- 3.0/26.9 MB 1.5 MB/s eta 0:00:17\n",
      "   ---- ----------------------------------- 3.0/26.9 MB 1.5 MB/s eta 0:00:17\n",
      "   ---- ----------------------------------- 3.1/26.9 MB 1.5 MB/s eta 0:00:17\n",
      "   ---- ----------------------------------- 3.2/26.9 MB 1.5 MB/s eta 0:00:17\n",
      "   ---- ----------------------------------- 3.3/26.9 MB 1.5 MB/s eta 0:00:16\n",
      "   ---- ----------------------------------- 3.3/26.9 MB 1.5 MB/s eta 0:00:16\n",
      "   ----- ---------------------------------- 3.4/26.9 MB 1.5 MB/s eta 0:00:16\n",
      "   ----- ---------------------------------- 3.5/26.9 MB 1.5 MB/s eta 0:00:16\n",
      "   ----- ---------------------------------- 3.6/26.9 MB 1.5 MB/s eta 0:00:16\n",
      "   ----- ---------------------------------- 3.7/26.9 MB 1.5 MB/s eta 0:00:16\n",
      "   ----- ---------------------------------- 3.7/26.9 MB 1.5 MB/s eta 0:00:16\n",
      "   ----- ---------------------------------- 3.8/26.9 MB 1.5 MB/s eta 0:00:16\n",
      "   ----- ---------------------------------- 3.9/26.9 MB 1.5 MB/s eta 0:00:16\n",
      "   ----- ---------------------------------- 4.0/26.9 MB 1.5 MB/s eta 0:00:16\n",
      "   ------ --------------------------------- 4.1/26.9 MB 1.5 MB/s eta 0:00:15\n",
      "   ------ --------------------------------- 4.2/26.9 MB 1.5 MB/s eta 0:00:15\n",
      "   ------ --------------------------------- 4.2/26.9 MB 1.5 MB/s eta 0:00:15\n",
      "   ------ --------------------------------- 4.3/26.9 MB 1.5 MB/s eta 0:00:15\n",
      "   ------ --------------------------------- 4.4/26.9 MB 1.5 MB/s eta 0:00:15\n",
      "   ------ --------------------------------- 4.5/26.9 MB 1.5 MB/s eta 0:00:15\n",
      "   ------ --------------------------------- 4.6/26.9 MB 1.6 MB/s eta 0:00:15\n",
      "   ------ --------------------------------- 4.7/26.9 MB 1.6 MB/s eta 0:00:15\n",
      "   ------- -------------------------------- 4.8/26.9 MB 1.6 MB/s eta 0:00:15\n",
      "   ------- -------------------------------- 4.8/26.9 MB 1.6 MB/s eta 0:00:15\n",
      "   ------- -------------------------------- 4.9/26.9 MB 1.6 MB/s eta 0:00:14\n",
      "   ------- -------------------------------- 5.0/26.9 MB 1.6 MB/s eta 0:00:14\n",
      "   ------- -------------------------------- 5.1/26.9 MB 1.6 MB/s eta 0:00:14\n",
      "   ------- -------------------------------- 5.2/26.9 MB 1.6 MB/s eta 0:00:14\n",
      "   ------- -------------------------------- 5.3/26.9 MB 1.6 MB/s eta 0:00:14\n",
      "   ------- -------------------------------- 5.4/26.9 MB 1.6 MB/s eta 0:00:14\n",
      "   -------- ------------------------------- 5.5/26.9 MB 1.6 MB/s eta 0:00:14\n",
      "   -------- ------------------------------- 5.5/26.9 MB 1.6 MB/s eta 0:00:14\n",
      "   -------- ------------------------------- 5.6/26.9 MB 1.6 MB/s eta 0:00:14\n",
      "   -------- ------------------------------- 5.7/26.9 MB 1.6 MB/s eta 0:00:14\n",
      "   -------- ------------------------------- 5.8/26.9 MB 1.6 MB/s eta 0:00:14\n",
      "   -------- ------------------------------- 5.9/26.9 MB 1.6 MB/s eta 0:00:14\n",
      "   -------- ------------------------------- 6.0/26.9 MB 1.6 MB/s eta 0:00:13\n",
      "   --------- ------------------------------ 6.1/26.9 MB 1.6 MB/s eta 0:00:13\n",
      "   --------- ------------------------------ 6.2/26.9 MB 1.6 MB/s eta 0:00:13\n",
      "   --------- ------------------------------ 6.3/26.9 MB 1.6 MB/s eta 0:00:13\n",
      "   --------- ------------------------------ 6.3/26.9 MB 1.6 MB/s eta 0:00:13\n",
      "   --------- ------------------------------ 6.5/26.9 MB 1.6 MB/s eta 0:00:13\n",
      "   --------- ------------------------------ 6.6/26.9 MB 1.6 MB/s eta 0:00:13\n",
      "   --------- ------------------------------ 6.7/26.9 MB 1.7 MB/s eta 0:00:13\n",
      "   ---------- ----------------------------- 6.8/26.9 MB 1.7 MB/s eta 0:00:13\n",
      "   ---------- ----------------------------- 6.9/26.9 MB 1.7 MB/s eta 0:00:13\n",
      "   ---------- ----------------------------- 7.0/26.9 MB 1.7 MB/s eta 0:00:12\n",
      "   ---------- ----------------------------- 7.0/26.9 MB 1.7 MB/s eta 0:00:12\n",
      "   ---------- ----------------------------- 7.1/26.9 MB 1.7 MB/s eta 0:00:12\n",
      "   ---------- ----------------------------- 7.2/26.9 MB 1.7 MB/s eta 0:00:12\n",
      "   ---------- ----------------------------- 7.3/26.9 MB 1.7 MB/s eta 0:00:12\n",
      "   ----------- ---------------------------- 7.4/26.9 MB 1.7 MB/s eta 0:00:12\n",
      "   ----------- ---------------------------- 7.5/26.9 MB 1.7 MB/s eta 0:00:12\n",
      "   ----------- ---------------------------- 7.6/26.9 MB 1.7 MB/s eta 0:00:12\n",
      "   ----------- ---------------------------- 7.8/26.9 MB 1.7 MB/s eta 0:00:12\n",
      "   ----------- ---------------------------- 7.8/26.9 MB 1.7 MB/s eta 0:00:12\n",
      "   ----------- ---------------------------- 7.9/26.9 MB 1.7 MB/s eta 0:00:12\n",
      "   ----------- ---------------------------- 8.0/26.9 MB 1.7 MB/s eta 0:00:11\n",
      "   ------------ --------------------------- 8.1/26.9 MB 1.7 MB/s eta 0:00:11\n",
      "   ------------ --------------------------- 8.3/26.9 MB 1.7 MB/s eta 0:00:11\n",
      "   ------------ --------------------------- 8.4/26.9 MB 1.7 MB/s eta 0:00:11\n",
      "   ------------ --------------------------- 8.5/26.9 MB 1.7 MB/s eta 0:00:11\n",
      "   ------------ --------------------------- 8.6/26.9 MB 1.7 MB/s eta 0:00:11\n",
      "   ------------ --------------------------- 8.7/26.9 MB 1.8 MB/s eta 0:00:11\n",
      "   ------------- -------------------------- 8.8/26.9 MB 1.8 MB/s eta 0:00:11\n",
      "   ------------- -------------------------- 8.9/26.9 MB 1.8 MB/s eta 0:00:11\n",
      "   ------------- -------------------------- 9.0/26.9 MB 1.8 MB/s eta 0:00:11\n",
      "   ------------- -------------------------- 9.1/26.9 MB 1.8 MB/s eta 0:00:11\n",
      "   ------------- -------------------------- 9.2/26.9 MB 1.8 MB/s eta 0:00:10\n",
      "   ------------- -------------------------- 9.4/26.9 MB 1.8 MB/s eta 0:00:10\n",
      "   -------------- ------------------------- 9.5/26.9 MB 1.8 MB/s eta 0:00:10\n",
      "   -------------- ------------------------- 9.6/26.9 MB 1.8 MB/s eta 0:00:10\n",
      "   -------------- ------------------------- 9.6/26.9 MB 1.8 MB/s eta 0:00:10\n",
      "   -------------- ------------------------- 9.8/26.9 MB 1.8 MB/s eta 0:00:10\n",
      "   -------------- ------------------------- 9.9/26.9 MB 1.8 MB/s eta 0:00:10\n",
      "   -------------- ------------------------- 10.0/26.9 MB 1.8 MB/s eta 0:00:10\n",
      "   -------------- ------------------------- 10.1/26.9 MB 1.8 MB/s eta 0:00:10\n",
      "   --------------- ------------------------ 10.2/26.9 MB 1.8 MB/s eta 0:00:10\n",
      "   --------------- ------------------------ 10.3/26.9 MB 1.8 MB/s eta 0:00:10\n",
      "   --------------- ------------------------ 10.4/26.9 MB 1.8 MB/s eta 0:00:10\n",
      "   --------------- ------------------------ 10.5/26.9 MB 1.8 MB/s eta 0:00:09\n",
      "   --------------- ------------------------ 10.6/26.9 MB 1.9 MB/s eta 0:00:09\n",
      "   --------------- ------------------------ 10.7/26.9 MB 1.9 MB/s eta 0:00:09\n",
      "   ---------------- ----------------------- 10.9/26.9 MB 1.9 MB/s eta 0:00:09\n",
      "   ---------------- ----------------------- 11.0/26.9 MB 1.9 MB/s eta 0:00:09\n",
      "   ---------------- ----------------------- 11.1/26.9 MB 1.9 MB/s eta 0:00:09\n",
      "   ---------------- ----------------------- 11.2/26.9 MB 1.9 MB/s eta 0:00:09\n",
      "   ---------------- ----------------------- 11.3/26.9 MB 1.9 MB/s eta 0:00:09\n",
      "   ---------------- ----------------------- 11.4/26.9 MB 1.9 MB/s eta 0:00:09\n",
      "   ----------------- ---------------------- 11.5/26.9 MB 2.0 MB/s eta 0:00:08\n",
      "   ----------------- ---------------------- 11.6/26.9 MB 2.0 MB/s eta 0:00:08\n",
      "   ----------------- ---------------------- 11.8/26.9 MB 2.0 MB/s eta 0:00:08\n",
      "   ----------------- ---------------------- 11.9/26.9 MB 2.0 MB/s eta 0:00:08\n",
      "   ----------------- ---------------------- 12.0/26.9 MB 2.0 MB/s eta 0:00:08\n",
      "   ------------------ --------------------- 12.1/26.9 MB 2.0 MB/s eta 0:00:08\n",
      "   ------------------ --------------------- 12.2/26.9 MB 2.0 MB/s eta 0:00:08\n",
      "   ------------------ --------------------- 12.3/26.9 MB 2.0 MB/s eta 0:00:08\n",
      "   ------------------ --------------------- 12.5/26.9 MB 2.1 MB/s eta 0:00:08\n",
      "   ------------------ --------------------- 12.6/26.9 MB 2.1 MB/s eta 0:00:07\n",
      "   ------------------ --------------------- 12.7/26.9 MB 2.1 MB/s eta 0:00:07\n",
      "   ------------------- -------------------- 12.8/26.9 MB 2.1 MB/s eta 0:00:07\n",
      "   ------------------- -------------------- 13.0/26.9 MB 2.1 MB/s eta 0:00:07\n",
      "   ------------------- -------------------- 13.1/26.9 MB 2.1 MB/s eta 0:00:07\n",
      "   ------------------- -------------------- 13.2/26.9 MB 2.1 MB/s eta 0:00:07\n",
      "   ------------------- -------------------- 13.3/26.9 MB 2.1 MB/s eta 0:00:07\n",
      "   ------------------- -------------------- 13.4/26.9 MB 2.2 MB/s eta 0:00:07\n",
      "   -------------------- ------------------- 13.5/26.9 MB 2.2 MB/s eta 0:00:07\n",
      "   -------------------- ------------------- 13.7/26.9 MB 2.2 MB/s eta 0:00:07\n",
      "   -------------------- ------------------- 13.8/26.9 MB 2.2 MB/s eta 0:00:06\n",
      "   -------------------- ------------------- 13.9/26.9 MB 2.2 MB/s eta 0:00:06\n",
      "   -------------------- ------------------- 14.0/26.9 MB 2.2 MB/s eta 0:00:06\n",
      "   --------------------- ------------------ 14.2/26.9 MB 2.2 MB/s eta 0:00:06\n",
      "   --------------------- ------------------ 14.3/26.9 MB 2.2 MB/s eta 0:00:06\n",
      "   --------------------- ------------------ 14.4/26.9 MB 2.2 MB/s eta 0:00:06\n",
      "   --------------------- ------------------ 14.5/26.9 MB 2.3 MB/s eta 0:00:06\n",
      "   --------------------- ------------------ 14.7/26.9 MB 2.3 MB/s eta 0:00:06\n",
      "   --------------------- ------------------ 14.8/26.9 MB 2.3 MB/s eta 0:00:06\n",
      "   ---------------------- ----------------- 14.9/26.9 MB 2.3 MB/s eta 0:00:06\n",
      "   ---------------------- ----------------- 15.1/26.9 MB 2.3 MB/s eta 0:00:06\n",
      "   ---------------------- ----------------- 15.1/26.9 MB 2.3 MB/s eta 0:00:06\n",
      "   ---------------------- ----------------- 15.3/26.9 MB 2.3 MB/s eta 0:00:05\n",
      "   ---------------------- ----------------- 15.5/26.9 MB 2.3 MB/s eta 0:00:05\n",
      "   ----------------------- ---------------- 15.5/26.9 MB 2.3 MB/s eta 0:00:05\n",
      "   ----------------------- ---------------- 15.7/26.9 MB 2.4 MB/s eta 0:00:05\n",
      "   ----------------------- ---------------- 15.8/26.9 MB 2.4 MB/s eta 0:00:05\n",
      "   ----------------------- ---------------- 16.0/26.9 MB 2.4 MB/s eta 0:00:05\n",
      "   ----------------------- ---------------- 16.1/26.9 MB 2.4 MB/s eta 0:00:05\n",
      "   ------------------------ --------------- 16.3/26.9 MB 2.4 MB/s eta 0:00:05\n",
      "   ------------------------ --------------- 16.4/26.9 MB 2.4 MB/s eta 0:00:05\n",
      "   ------------------------ --------------- 16.5/26.9 MB 2.4 MB/s eta 0:00:05\n",
      "   ------------------------ --------------- 16.6/26.9 MB 2.5 MB/s eta 0:00:05\n",
      "   ------------------------ --------------- 16.8/26.9 MB 2.5 MB/s eta 0:00:05\n",
      "   ------------------------- -------------- 16.9/26.9 MB 2.5 MB/s eta 0:00:05\n",
      "   ------------------------- -------------- 17.1/26.9 MB 2.5 MB/s eta 0:00:04\n",
      "   ------------------------- -------------- 17.2/26.9 MB 2.5 MB/s eta 0:00:04\n",
      "   ------------------------- -------------- 17.3/26.9 MB 2.5 MB/s eta 0:00:04\n",
      "   ------------------------- -------------- 17.5/26.9 MB 2.5 MB/s eta 0:00:04\n",
      "   -------------------------- ------------- 17.6/26.9 MB 2.5 MB/s eta 0:00:04\n",
      "   -------------------------- ------------- 17.7/26.9 MB 2.5 MB/s eta 0:00:04\n",
      "   -------------------------- ------------- 17.9/26.9 MB 2.5 MB/s eta 0:00:04\n",
      "   -------------------------- ------------- 18.0/26.9 MB 2.5 MB/s eta 0:00:04\n",
      "   -------------------------- ------------- 18.1/26.9 MB 2.6 MB/s eta 0:00:04\n",
      "   --------------------------- ------------ 18.3/26.9 MB 2.6 MB/s eta 0:00:04\n",
      "   --------------------------- ------------ 18.4/26.9 MB 2.6 MB/s eta 0:00:04\n",
      "   --------------------------- ------------ 18.6/26.9 MB 2.6 MB/s eta 0:00:04\n",
      "   --------------------------- ------------ 18.7/26.9 MB 2.6 MB/s eta 0:00:04\n",
      "   --------------------------- ------------ 18.8/26.9 MB 2.6 MB/s eta 0:00:04\n",
      "   ---------------------------- ----------- 19.0/26.9 MB 2.6 MB/s eta 0:00:04\n",
      "   ---------------------------- ----------- 19.2/26.9 MB 2.7 MB/s eta 0:00:03\n",
      "   ---------------------------- ----------- 19.3/26.9 MB 2.7 MB/s eta 0:00:03\n",
      "   ---------------------------- ----------- 19.5/26.9 MB 2.7 MB/s eta 0:00:03\n",
      "   ----------------------------- ---------- 19.7/26.9 MB 2.7 MB/s eta 0:00:03\n",
      "   ----------------------------- ---------- 19.8/26.9 MB 2.7 MB/s eta 0:00:03\n",
      "   ----------------------------- ---------- 20.0/26.9 MB 2.7 MB/s eta 0:00:03\n",
      "   ----------------------------- ---------- 20.1/26.9 MB 2.8 MB/s eta 0:00:03\n",
      "   ------------------------------ --------- 20.3/26.9 MB 2.8 MB/s eta 0:00:03\n",
      "   ------------------------------ --------- 20.4/26.9 MB 2.8 MB/s eta 0:00:03\n",
      "   ------------------------------ --------- 20.6/26.9 MB 2.8 MB/s eta 0:00:03\n",
      "   ------------------------------ --------- 20.8/26.9 MB 2.8 MB/s eta 0:00:03\n",
      "   ------------------------------- -------- 21.0/26.9 MB 2.9 MB/s eta 0:00:03\n",
      "   ------------------------------- -------- 21.1/26.9 MB 2.9 MB/s eta 0:00:03\n",
      "   ------------------------------- -------- 21.3/26.9 MB 2.9 MB/s eta 0:00:02\n",
      "   ------------------------------- -------- 21.5/26.9 MB 2.9 MB/s eta 0:00:02\n",
      "   -------------------------------- ------- 21.7/26.9 MB 2.9 MB/s eta 0:00:02\n",
      "   -------------------------------- ------- 21.9/26.9 MB 3.0 MB/s eta 0:00:02\n",
      "   -------------------------------- ------- 22.1/26.9 MB 3.0 MB/s eta 0:00:02\n",
      "   --------------------------------- ------ 22.3/26.9 MB 3.0 MB/s eta 0:00:02\n",
      "   --------------------------------- ------ 22.5/26.9 MB 3.0 MB/s eta 0:00:02\n",
      "   --------------------------------- ------ 22.6/26.9 MB 3.1 MB/s eta 0:00:02\n",
      "   --------------------------------- ------ 22.9/26.9 MB 3.1 MB/s eta 0:00:02\n",
      "   ---------------------------------- ----- 23.0/26.9 MB 3.1 MB/s eta 0:00:02\n",
      "   ---------------------------------- ----- 23.2/26.9 MB 3.2 MB/s eta 0:00:02\n",
      "   ---------------------------------- ----- 23.5/26.9 MB 3.2 MB/s eta 0:00:02\n",
      "   ----------------------------------- ---- 23.7/26.9 MB 3.2 MB/s eta 0:00:02\n",
      "   ----------------------------------- ---- 23.9/26.9 MB 3.3 MB/s eta 0:00:01\n",
      "   ----------------------------------- ---- 24.1/26.9 MB 3.3 MB/s eta 0:00:01\n",
      "   ------------------------------------ --- 24.3/26.9 MB 3.4 MB/s eta 0:00:01\n",
      "   ------------------------------------ --- 24.5/26.9 MB 3.4 MB/s eta 0:00:01\n",
      "   ------------------------------------ --- 24.8/26.9 MB 3.4 MB/s eta 0:00:01\n",
      "   ------------------------------------- -- 25.0/26.9 MB 3.5 MB/s eta 0:00:01\n",
      "   ------------------------------------- -- 25.2/26.9 MB 3.5 MB/s eta 0:00:01\n",
      "   ------------------------------------- -- 25.5/26.9 MB 3.6 MB/s eta 0:00:01\n",
      "   -------------------------------------- - 25.6/26.9 MB 3.6 MB/s eta 0:00:01\n",
      "   -------------------------------------- - 25.9/26.9 MB 3.6 MB/s eta 0:00:01\n",
      "   -------------------------------------- - 26.1/26.9 MB 3.7 MB/s eta 0:00:01\n",
      "   ---------------------------------------  26.4/26.9 MB 3.8 MB/s eta 0:00:01\n",
      "   ---------------------------------------  26.7/26.9 MB 3.8 MB/s eta 0:00:01\n",
      "   ---------------------------------------  26.9/26.9 MB 3.9 MB/s eta 0:00:01\n",
      "   ---------------------------------------  26.9/26.9 MB 3.9 MB/s eta 0:00:01\n",
      "   ---------------------------------------  26.9/26.9 MB 3.9 MB/s eta 0:00:01\n",
      "   ---------------------------------------- 26.9/26.9 MB 3.7 MB/s eta 0:00:00\n",
      "Building wheels for collected packages: wn\n",
      "  Building wheel for wn (setup.py): started\n",
      "  Building wheel for wn (setup.py): finished with status 'done'\n",
      "  Created wheel for wn: filename=wn-0.0.23-py3-none-any.whl size=31792916 sha256=dcbe50024c7e2bcc498af543c1658c38d59a83ae1826b4ced47da499b4393dbc\n",
      "  Stored in directory: c:\\users\\dell 5590\\appdata\\local\\pip\\cache\\wheels\\0e\\c8\\a5\\b34ab6ee7e022f7a6fe85ba73cbc7ef5b657578aceffbe0f14\n",
      "Successfully built wn\n",
      "Installing collected packages: wn, pywsd\n",
      "Successfully installed pywsd-1.2.5 wn-0.0.23\n"
     ]
    }
   ],
   "source": [
    "!pip install pywsd"
   ]
  },
  {
   "cell_type": "code",
   "execution_count": 13,
   "metadata": {
    "colab": {
     "base_uri": "https://localhost:8080/"
    },
    "executionInfo": {
     "elapsed": 10335,
     "status": "ok",
     "timestamp": 1663378625563,
     "user": {
      "displayName": "Kunpeng Zhang",
      "userId": "09274433828486852799"
     },
     "user_tz": 240
    },
    "id": "WEupNzhwzWjd",
    "outputId": "b3ed0641-bff8-4d8f-b892-1b901b03983e"
   },
   "outputs": [
    {
     "name": "stderr",
     "output_type": "stream",
     "text": [
      "Warming up PyWSD (takes ~10 secs)... "
     ]
    },
    {
     "name": "stdout",
     "output_type": "stream",
     "text": [
      "Sense: Synset('depository_financial_institution.n.01')\n",
      "Definition: a financial institution that accepts deposits and channels the money into lending activities\n",
      "===\n",
      "Sense: Synset('bank.n.01')\n",
      "Definition: sloping land (especially the slope beside a body of water)\n"
     ]
    },
    {
     "name": "stderr",
     "output_type": "stream",
     "text": [
      "took 6.410693407058716 secs.\n"
     ]
    }
   ],
   "source": [
    "# Word Sense Disambiguation\n",
    "\n",
    "from pywsd.lesk import simple_lesk\n",
    "\n",
    "bank_sents = ['I went to the bank to deposit my money', 'The river bank was full of dead fishes']\n",
    "\n",
    "#plant_sents = ['The workers at the industrial plant were overworked', 'The plant was no longer bearing flowers']\n",
    "\n",
    "answer = simple_lesk(bank_sents[0],'bank')\n",
    "print(\"Sense:\", answer)\n",
    "print(\"Definition:\",answer.definition())\n",
    "\n",
    "print('===')\n",
    "\n",
    "answer = simple_lesk(bank_sents[1],'bank')\n",
    "print(\"Sense:\", answer)\n",
    "print(\"Definition:\",answer.definition())"
   ]
  },
  {
   "cell_type": "markdown",
   "metadata": {
    "id": "eMCIm1oNzWje"
   },
   "source": [
    "## Name Entity Recognition (NER)"
   ]
  },
  {
   "cell_type": "code",
   "execution_count": 14,
   "metadata": {
    "colab": {
     "base_uri": "https://localhost:8080/"
    },
    "executionInfo": {
     "elapsed": 108,
     "status": "ok",
     "timestamp": 1663379043473,
     "user": {
      "displayName": "Kunpeng Zhang",
      "userId": "09274433828486852799"
     },
     "user_tz": 240
    },
    "id": "lH0QWKADrW9L",
    "outputId": "90e05df3-22d5-4d74-99e3-7a2ee3fc14ce"
   },
   "outputs": [
    {
     "name": "stderr",
     "output_type": "stream",
     "text": [
      "[nltk_data] Downloading package maxent_ne_chunker to C:\\Users\\DELL\n",
      "[nltk_data]     5590\\AppData\\Roaming\\nltk_data...\n",
      "[nltk_data]   Package maxent_ne_chunker is already up-to-date!\n",
      "[nltk_data] Downloading package words to C:\\Users\\DELL\n",
      "[nltk_data]     5590\\AppData\\Roaming\\nltk_data...\n",
      "[nltk_data]   Package words is already up-to-date!\n",
      "[nltk_data] Downloading package tagsets to C:\\Users\\DELL\n",
      "[nltk_data]     5590\\AppData\\Roaming\\nltk_data...\n",
      "[nltk_data]   Package tagsets is already up-to-date!\n"
     ]
    },
    {
     "data": {
      "text/plain": [
       "True"
      ]
     },
     "execution_count": 14,
     "metadata": {},
     "output_type": "execute_result"
    }
   ],
   "source": [
    "nltk.download('maxent_ne_chunker')\n",
    "nltk.download('words')\n",
    "nltk.download('tagsets')"
   ]
  },
  {
   "cell_type": "code",
   "execution_count": 15,
   "metadata": {
    "colab": {
     "base_uri": "https://localhost:8080/"
    },
    "executionInfo": {
     "elapsed": 109,
     "status": "ok",
     "timestamp": 1663379081844,
     "user": {
      "displayName": "Kunpeng Zhang",
      "userId": "09274433828486852799"
     },
     "user_tz": 240
    },
    "id": "1t-WM975rl3B",
    "outputId": "c84c4d32-52dd-4bf3-ee99-182addfa6ae9"
   },
   "outputs": [
    {
     "name": "stdout",
     "output_type": "stream",
     "text": [
      "(S\n",
      "  What/WP\n",
      "  is/VBZ\n",
      "  the/DT\n",
      "  weather/NN\n",
      "  in/IN\n",
      "  (GPE New/NNP York/NNP)\n",
      "  and/CC\n",
      "  (GPE Chicago/NNP)\n",
      "  today/NN\n",
      "  ?/.)\n"
     ]
    }
   ],
   "source": [
    "#ex = 'European authorities fined Google a record $5.1 billion on Wednesday for abusing its power in the mobile phone market and ordered the company to alter its practices'\n",
    "ex = 'What is the weather in New York and Chicago today?'\n",
    "words = word_tokenize(ex)\n",
    "tags = pos_tag(words)\n",
    "\n",
    "ne_tree = nltk.ne_chunk(tags)\n",
    "\n",
    "print(ne_tree)"
   ]
  },
  {
   "cell_type": "markdown",
   "metadata": {
    "id": "zRlUgO7JSPlH"
   },
   "source": [
    "<a id='lab2'></a>\n",
    "## Session 2: Document Clustering"
   ]
  },
  {
   "cell_type": "markdown",
   "metadata": {
    "id": "u0I3JMPOzWje"
   },
   "source": [
    "### The task here is to cluster scientific papers based on their textual titles, basically separating them into a few groups. The features we use to do this document clustering task is TF-IDF values of top unique words across documents. \n",
    "\n",
    "### The clustering algorithm we use for this demonstration is KMeans. \n",
    "\n",
    "### The main objective of this task is to learn how to represent a document using TF-IDF."
   ]
  },
  {
   "cell_type": "markdown",
   "metadata": {
    "id": "ldrXx18YScaA"
   },
   "source": [
    "### 1. Load the data"
   ]
  },
  {
   "cell_type": "code",
   "execution_count": 16,
   "metadata": {
    "colab": {
     "base_uri": "https://localhost:8080/",
     "height": 206
    },
    "executionInfo": {
     "elapsed": 109,
     "status": "ok",
     "timestamp": 1663379772123,
     "user": {
      "displayName": "Kunpeng Zhang",
      "userId": "09274433828486852799"
     },
     "user_tz": 240
    },
    "id": "5-MkuxXFKAY7",
    "outputId": "7a5ec1e4-0265-4954-a182-c9f671f60a81"
   },
   "outputs": [
    {
     "data": {
      "text/html": [
       "<div>\n",
       "<style scoped>\n",
       "    .dataframe tbody tr th:only-of-type {\n",
       "        vertical-align: middle;\n",
       "    }\n",
       "\n",
       "    .dataframe tbody tr th {\n",
       "        vertical-align: top;\n",
       "    }\n",
       "\n",
       "    .dataframe thead th {\n",
       "        text-align: right;\n",
       "    }\n",
       "</style>\n",
       "<table border=\"1\" class=\"dataframe\">\n",
       "  <thead>\n",
       "    <tr style=\"text-align: right;\">\n",
       "      <th></th>\n",
       "      <th>id</th>\n",
       "      <th>title</th>\n",
       "    </tr>\n",
       "  </thead>\n",
       "  <tbody>\n",
       "    <tr>\n",
       "      <th>0</th>\n",
       "      <td>1</td>\n",
       "      <td>Self-Organization of Associative Database and ...</td>\n",
       "    </tr>\n",
       "    <tr>\n",
       "      <th>1</th>\n",
       "      <td>10</td>\n",
       "      <td>A Mean Field Theory of Layer IV of Visual Cort...</td>\n",
       "    </tr>\n",
       "    <tr>\n",
       "      <th>2</th>\n",
       "      <td>100</td>\n",
       "      <td>Storing Covariance by the Associative Long-Ter...</td>\n",
       "    </tr>\n",
       "    <tr>\n",
       "      <th>3</th>\n",
       "      <td>1000</td>\n",
       "      <td>Bayesian Query Construction for Neural Network...</td>\n",
       "    </tr>\n",
       "    <tr>\n",
       "      <th>4</th>\n",
       "      <td>1001</td>\n",
       "      <td>Neural Network Ensembles  Cross Validation  an...</td>\n",
       "    </tr>\n",
       "  </tbody>\n",
       "</table>\n",
       "</div>"
      ],
      "text/plain": [
       "     id                                              title\n",
       "0     1  Self-Organization of Associative Database and ...\n",
       "1    10  A Mean Field Theory of Layer IV of Visual Cort...\n",
       "2   100  Storing Covariance by the Associative Long-Ter...\n",
       "3  1000  Bayesian Query Construction for Neural Network...\n",
       "4  1001  Neural Network Ensembles  Cross Validation  an..."
      ]
     },
     "execution_count": 16,
     "metadata": {},
     "output_type": "execute_result"
    }
   ],
   "source": [
    "import pandas as pd\n",
    "\n",
    "papers = pd.read_csv('papers.csv',header=0)\n",
    "\n",
    "papers.head()"
   ]
  },
  {
   "cell_type": "markdown",
   "metadata": {
    "id": "LOHPEw8cSuA9"
   },
   "source": [
    "### 2. Clean the data"
   ]
  },
  {
   "cell_type": "code",
   "execution_count": 17,
   "metadata": {
    "colab": {
     "base_uri": "https://localhost:8080/",
     "height": 206
    },
    "executionInfo": {
     "elapsed": 117,
     "status": "ok",
     "timestamp": 1663379893043,
     "user": {
      "displayName": "Kunpeng Zhang",
      "userId": "09274433828486852799"
     },
     "user_tz": 240
    },
    "id": "P2-UsL7cKcjp",
    "outputId": "b0391e4a-5303-40cb-c238-c7682baac044"
   },
   "outputs": [
    {
     "data": {
      "text/html": [
       "<div>\n",
       "<style scoped>\n",
       "    .dataframe tbody tr th:only-of-type {\n",
       "        vertical-align: middle;\n",
       "    }\n",
       "\n",
       "    .dataframe tbody tr th {\n",
       "        vertical-align: top;\n",
       "    }\n",
       "\n",
       "    .dataframe thead th {\n",
       "        text-align: right;\n",
       "    }\n",
       "</style>\n",
       "<table border=\"1\" class=\"dataframe\">\n",
       "  <thead>\n",
       "    <tr style=\"text-align: right;\">\n",
       "      <th></th>\n",
       "      <th>id</th>\n",
       "      <th>title</th>\n",
       "      <th>processed_title</th>\n",
       "    </tr>\n",
       "  </thead>\n",
       "  <tbody>\n",
       "    <tr>\n",
       "      <th>0</th>\n",
       "      <td>1</td>\n",
       "      <td>Self-Organization of Associative Database and ...</td>\n",
       "      <td>self-organization of associative database and ...</td>\n",
       "    </tr>\n",
       "    <tr>\n",
       "      <th>1</th>\n",
       "      <td>10</td>\n",
       "      <td>A Mean Field Theory of Layer IV of Visual Cort...</td>\n",
       "      <td>a mean field theory of layer iv of visual cort...</td>\n",
       "    </tr>\n",
       "    <tr>\n",
       "      <th>2</th>\n",
       "      <td>100</td>\n",
       "      <td>Storing Covariance by the Associative Long-Ter...</td>\n",
       "      <td>storing covariance by the associative long-ter...</td>\n",
       "    </tr>\n",
       "    <tr>\n",
       "      <th>3</th>\n",
       "      <td>1000</td>\n",
       "      <td>Bayesian Query Construction for Neural Network...</td>\n",
       "      <td>bayesian query construction for neural network...</td>\n",
       "    </tr>\n",
       "    <tr>\n",
       "      <th>4</th>\n",
       "      <td>1001</td>\n",
       "      <td>Neural Network Ensembles  Cross Validation  an...</td>\n",
       "      <td>neural network ensembles  cross validation  an...</td>\n",
       "    </tr>\n",
       "  </tbody>\n",
       "</table>\n",
       "</div>"
      ],
      "text/plain": [
       "     id                                              title  \\\n",
       "0     1  Self-Organization of Associative Database and ...   \n",
       "1    10  A Mean Field Theory of Layer IV of Visual Cort...   \n",
       "2   100  Storing Covariance by the Associative Long-Ter...   \n",
       "3  1000  Bayesian Query Construction for Neural Network...   \n",
       "4  1001  Neural Network Ensembles  Cross Validation  an...   \n",
       "\n",
       "                                     processed_title  \n",
       "0  self-organization of associative database and ...  \n",
       "1  a mean field theory of layer iv of visual cort...  \n",
       "2  storing covariance by the associative long-ter...  \n",
       "3  bayesian query construction for neural network...  \n",
       "4  neural network ensembles  cross validation  an...  "
      ]
     },
     "execution_count": 17,
     "metadata": {},
     "output_type": "execute_result"
    }
   ],
   "source": [
    "papers['processed_title'] = papers['title'].map(lambda x:x.lower())\n",
    "\n",
    "papers.head()"
   ]
  },
  {
   "cell_type": "code",
   "execution_count": 18,
   "metadata": {
    "colab": {
     "base_uri": "https://localhost:8080/"
    },
    "executionInfo": {
     "elapsed": 112,
     "status": "ok",
     "timestamp": 1663379952035,
     "user": {
      "displayName": "Kunpeng Zhang",
      "userId": "09274433828486852799"
     },
     "user_tz": 240
    },
    "id": "C1Jps_plKzEk",
    "outputId": "f974b858-4b20-4111-be22-52f97d5c2375"
   },
   "outputs": [
    {
     "name": "stdout",
     "output_type": "stream",
     "text": [
      "999\n",
      "['self-organization of associative database and its applications', 'a mean field theory of layer iv of visual cortex and its application to artificial neural networks', 'storing covariance by the associative long-term potentiation and depression of synaptic strengths in the hippocampus', 'bayesian query construction for neural network models', 'neural network ensembles  cross validation  and active learning', 'using a neural net to instantiate a deformable model', 'plasticity-mediated competitive learning', 'iceg morphology classification using an analogue vlsi neural network', 'real-time control of a tokamak plasma using neural networks', 'pulsestream synapses with non-volatile analogue amorphous-silicon memories']\n"
     ]
    }
   ],
   "source": [
    "titles = list(papers['processed_title'])\n",
    "print(len(titles))\n",
    "print(titles[:10])"
   ]
  },
  {
   "cell_type": "markdown",
   "metadata": {
    "id": "LaslX_ahJSIS"
   },
   "source": []
  },
  {
   "cell_type": "markdown",
   "metadata": {
    "id": "bubDmFwzTGPL"
   },
   "source": [
    "### 3. Construct features using TF-IDF"
   ]
  },
  {
   "cell_type": "code",
   "execution_count": 19,
   "metadata": {
    "id": "kKano_fZLG_3"
   },
   "outputs": [
    {
     "name": "stdout",
     "output_type": "stream",
     "text": [
      "(999, 500)\n",
      "['account' 'acquisition' 'active' 'activity' 'adaptation' 'adaptive'\n",
      " 'algorithm' 'algorithms' 'allocation' 'alternative' 'analog' 'analysis'\n",
      " 'analytic' 'analytical' 'annealing' 'application' 'applications'\n",
      " 'applied' 'approach' 'approaches' 'approximate' 'approximating'\n",
      " 'approximation' 'approximations' 'arbitrary' 'architecture' 'artificial'\n",
      " 'associative' 'attention' 'attentional' 'attractor' 'attractors' 'audio'\n",
      " 'auditory' 'automatic' 'autonomous' 'average' 'backpropagation' 'based'\n",
      " 'basis' 'batch' 'bayes' 'bayesian' 'behavior' 'belief' 'better' 'bias'\n",
      " 'bifurcation' 'binary' 'blind' 'boltzmann' 'boosting' 'bound' 'bounds'\n",
      " 'brain' 'capacity' 'carlo' 'case' 'cell' 'cells' 'center' 'channel'\n",
      " 'chip' 'choice' 'circuit' 'circuits' 'class' 'classes' 'classification'\n",
      " 'classifier' 'classifiers' 'clustering' 'cmos' 'code' 'codes' 'coding'\n",
      " 'color' 'combined' 'combining' 'committee' 'comparison' 'competition'\n",
      " 'competitive' 'complex' 'complexity' 'component' 'components'\n",
      " 'computation' 'computational' 'computer' 'computing' 'connectionist'\n",
      " 'connections' 'construction' 'constructive' 'content' 'context'\n",
      " 'continuous' 'contour' 'control' 'convergence' 'correcting' 'correlation'\n",
      " 'cortex' 'cortical' 'coupling' 'cross' 'curves' 'cycles' 'data'\n",
      " 'decision' 'decomposition' 'delay' 'dendritic' 'density' 'dependencies'\n",
      " 'dependent' 'derived' 'descent' 'detection' 'difference' 'digit'\n",
      " 'dimension' 'dimensional' 'dimensionality' 'direction' 'discrete'\n",
      " 'discriminant' 'discrimination' 'distributed' 'distributions' 'divisive'\n",
      " 'does' 'dominance' 'dual' 'dynamic' 'dynamical' 'dynamically' 'dynamics'\n",
      " 'early' 'effect' 'effective' 'effects' 'efficient' 'electric'\n",
      " 'electronic' 'em' 'energy' 'ensemble' 'entropy' 'environment'\n",
      " 'environments' 'error' 'estimates' 'estimating' 'estimation' 'exact'\n",
      " 'examples' 'experiments' 'expert' 'experts' 'exploiting' 'extraction'\n",
      " 'eye' 'face' 'facial' 'factor' 'fast' 'feature' 'features' 'feedback'\n",
      " 'field' 'fields' 'finding' 'finite' 'forward' 'framework' 'free'\n",
      " 'function' 'functions' 'fusion' 'gaussian' 'gaussians' 'general'\n",
      " 'generalization' 'generalized' 'generative' 'geometric' 'geometry'\n",
      " 'gradient' 'graph' 'graphical' 'guidance' 'hand' 'handwritten' 'hardware'\n",
      " 'hebbian' 'hidden' 'hierarchical' 'hierarchies' 'high' 'higher' 'hmm'\n",
      " 'human' 'hybrid' 'ica' 'identification' 'image' 'images' 'implementation'\n",
      " 'improved' 'improving' 'incremental' 'independent' 'induction'\n",
      " 'inference' 'information' 'inhibitory' 'input' 'inputs' 'integration'\n",
      " 'interactions' 'invariant' 'kernel' 'kernels' 'large' 'latent' 'lateral'\n",
      " 'layer' 'learn' 'learning' 'like' 'likelihood' 'line' 'linear' 'local'\n",
      " 'localization' 'long' 'loss' 'low' 'machine' 'machines' 'map' 'mapping'\n",
      " 'mappings' 'maps' 'margin' 'markov' 'matching' 'matrix' 'maximization'\n",
      " 'maximum' 'mean' 'mechanisms' 'memory' 'method' 'methods' 'metric'\n",
      " 'minimization' 'missing' 'mixture' 'mixtures' 'mobile' 'model' 'modeling'\n",
      " 'modelling' 'models' 'modular' 'modulation' 'monte' 'motion' 'motor'\n",
      " 'multi' 'multidimensional' 'multilayer' 'multiple' 'multivariate'\n",
      " 'mutual' 'natural' 'navigation' 'nearest' 'neighbor' 'net' 'nets'\n",
      " 'network' 'networks' 'neural' 'neuromorphic' 'neuron' 'neuronal'\n",
      " 'neurons' 'new' 'nn' 'noise' 'noisy' 'non' 'nonlinear' 'normalization'\n",
      " 'novelty' 'object' 'observable' 'ocular' 'online' 'optimal'\n",
      " 'optimization' 'optimizing' 'order' 'organization' 'organizing'\n",
      " 'orientation' 'overfitting' 'parallel' 'parameter' 'partially' 'particle'\n",
      " 'pattern' 'patterns' 'pca' 'perception' 'perceptron' 'perceptrons'\n",
      " 'perceptual' 'performance' 'phase' 'plasticity' 'policies' 'policy'\n",
      " 'polynomial' 'pomdps' 'population' 'position' 'potentials' 'power'\n",
      " 'prediction' 'predictive' 'primary' 'principle' 'probabilistic'\n",
      " 'probability' 'problem' 'problems' 'process' 'processes' 'processing'\n",
      " 'programmable' 'programming' 'propagation' 'properties' 'pruning'\n",
      " 'quadratic' 'radial' 'range' 'rapid' 'rat' 'rate' 'rates' 'rbf' 'real'\n",
      " 'receptive' 'recognition' 'recordings' 'recurrent' 'recursive'\n",
      " 'reduction' 'regression' 'regularization' 'regularized' 'reinforcement'\n",
      " 'related' 'relaxation' 'representation' 'representations' 'resolution'\n",
      " 'response' 'responses' 'restricted' 'results' 'retrieval' 'risk' 'robot'\n",
      " 'robust' 'role' 'rule' 'rules' 'sample' 'sampling' 'scale' 'scaling'\n",
      " 'scene' 'scenes' 'search' 'second' 'segmentation' 'selection' 'selective'\n",
      " 'self' 'sensitive' 'sensor' 'sensory' 'separation' 'sequence' 'sequences'\n",
      " 'sequential' 'series' 'sets' 'shape' 'sigmoidal' 'signal' 'signals'\n",
      " 'silicon' 'similarity' 'simple' 'single' 'singular' 'size' 'small'\n",
      " 'smoothing' 'solution' 'solutions' 'sound' 'source' 'sources' 'space'\n",
      " 'spaces' 'sparse' 'spatial' 'speech' 'speed' 'spike' 'spiking' 'squared'\n",
      " 'stability' 'stable' 'state' 'statistical' 'statistically' 'statistics'\n",
      " 'stimuli' 'stochastic' 'stopping' 'storage' 'structure' 'structured'\n",
      " 'study' 'supervised' 'support' 'suppression' 'surround' 'switching'\n",
      " 'synaptic' 'systems' 'task' 'tasks' 'techniques' 'temporal' 'temporally'\n",
      " 'term' 'theoretic' 'theory' 'time' 'timing' 'topographic' 'tracking'\n",
      " 'training' 'transform' 'transformation' 'transitions' 'treatment' 'tree'\n",
      " 'trees' 'tuned' 'tuning' 'type' 'understanding' 'unit' 'unsupervised'\n",
      " 'use' 'using' 'validation' 'value' 'variable' 'variables' 'variational'\n",
      " 'vc' 'vector' 'video' 'view' 'vision' 'visual' 'vlsi' 'wavelet' 'weakly'\n",
      " 'weight' 'weights' 'winner' 'winnow' 'word' 'work' 'world' 'written']\n",
      "[0.         0.         0.         0.         0.         0.\n",
      " 0.         0.         0.         0.         0.         0.\n",
      " 0.         0.         0.         0.         0.         0.\n",
      " 0.         0.         0.         0.         0.         0.\n",
      " 0.         0.         0.         0.47656366 0.         0.\n",
      " 0.         0.         0.         0.         0.         0.\n",
      " 0.         0.         0.         0.         0.         0.\n",
      " 0.         0.         0.         0.         0.         0.\n",
      " 0.         0.         0.         0.         0.         0.\n",
      " 0.         0.         0.         0.         0.         0.\n",
      " 0.         0.         0.         0.         0.         0.\n",
      " 0.         0.         0.         0.         0.         0.\n",
      " 0.         0.         0.         0.         0.         0.\n",
      " 0.         0.         0.         0.         0.         0.\n",
      " 0.         0.         0.         0.         0.         0.\n",
      " 0.         0.         0.         0.         0.         0.\n",
      " 0.         0.         0.         0.         0.         0.\n",
      " 0.         0.         0.         0.         0.         0.\n",
      " 0.         0.         0.         0.         0.         0.\n",
      " 0.         0.         0.         0.         0.         0.\n",
      " 0.         0.         0.         0.         0.         0.\n",
      " 0.         0.         0.         0.         0.         0.\n",
      " 0.         0.         0.         0.         0.         0.\n",
      " 0.         0.         0.         0.         0.         0.\n",
      " 0.         0.         0.         0.         0.         0.\n",
      " 0.         0.         0.         0.         0.         0.\n",
      " 0.         0.         0.         0.         0.         0.\n",
      " 0.         0.         0.         0.         0.         0.\n",
      " 0.         0.         0.         0.         0.         0.\n",
      " 0.         0.         0.         0.         0.         0.\n",
      " 0.         0.         0.         0.         0.         0.\n",
      " 0.         0.         0.         0.         0.         0.\n",
      " 0.         0.         0.         0.         0.         0.\n",
      " 0.         0.         0.         0.         0.         0.\n",
      " 0.         0.         0.         0.         0.         0.\n",
      " 0.         0.         0.         0.         0.         0.\n",
      " 0.         0.         0.         0.         0.         0.\n",
      " 0.         0.         0.         0.         0.         0.\n",
      " 0.         0.         0.         0.         0.         0.\n",
      " 0.         0.         0.         0.50688893 0.         0.\n",
      " 0.         0.         0.         0.         0.         0.\n",
      " 0.         0.         0.         0.         0.         0.\n",
      " 0.         0.         0.         0.         0.         0.\n",
      " 0.         0.         0.         0.         0.         0.\n",
      " 0.         0.         0.         0.         0.         0.\n",
      " 0.         0.         0.         0.         0.         0.\n",
      " 0.         0.         0.         0.         0.         0.\n",
      " 0.         0.         0.         0.         0.         0.\n",
      " 0.         0.         0.         0.         0.         0.\n",
      " 0.         0.         0.         0.         0.         0.\n",
      " 0.         0.         0.         0.         0.         0.\n",
      " 0.         0.         0.         0.         0.         0.\n",
      " 0.         0.         0.         0.         0.         0.\n",
      " 0.         0.         0.         0.         0.         0.\n",
      " 0.         0.         0.         0.         0.         0.\n",
      " 0.         0.         0.         0.         0.         0.\n",
      " 0.         0.         0.         0.         0.         0.\n",
      " 0.         0.         0.         0.         0.         0.\n",
      " 0.         0.         0.         0.         0.         0.\n",
      " 0.         0.         0.         0.         0.         0.\n",
      " 0.         0.         0.         0.         0.         0.\n",
      " 0.         0.         0.         0.         0.         0.\n",
      " 0.         0.         0.         0.         0.         0.\n",
      " 0.         0.         0.         0.         0.         0.\n",
      " 0.         0.         0.         0.         0.         0.\n",
      " 0.         0.         0.         0.         0.         0.\n",
      " 0.         0.         0.         0.         0.         0.\n",
      " 0.         0.         0.         0.         0.         0.\n",
      " 0.         0.         0.         0.         0.         0.\n",
      " 0.         0.         0.         0.         0.         0.\n",
      " 0.         0.         0.         0.         0.         0.\n",
      " 0.         0.         0.         0.         0.         0.\n",
      " 0.         0.         0.         0.         0.         0.\n",
      " 0.         0.         0.         0.         0.         0.\n",
      " 0.         0.         0.         0.         0.         0.4955358\n",
      " 0.         0.         0.         0.         0.         0.\n",
      " 0.51999515 0.         0.         0.         0.         0.\n",
      " 0.         0.         0.         0.         0.         0.\n",
      " 0.         0.         0.         0.         0.         0.\n",
      " 0.         0.         0.         0.         0.         0.\n",
      " 0.         0.         0.         0.         0.         0.\n",
      " 0.         0.         0.         0.         0.         0.\n",
      " 0.         0.         0.         0.         0.         0.\n",
      " 0.         0.        ]\n"
     ]
    }
   ],
   "source": [
    "from sklearn.feature_extraction.text import TfidfVectorizer\n",
    "\n",
    "import numpy as np \n",
    "\n",
    "tfidf_vectorizer = TfidfVectorizer(max_features=500, stop_words='english',use_idf=True, ngram_range=(1,1))\n",
    "tfidf_matrix = tfidf_vectorizer.fit_transform(titles).toarray()\n",
    "print(tfidf_matrix.shape)\n",
    "\n",
    "print(tfidf_vectorizer.get_feature_names_out())\n",
    "\n",
    "print(tfidf_matrix[2])"
   ]
  },
  {
   "cell_type": "markdown",
   "metadata": {
    "id": "ij3NTbtqTRjl"
   },
   "source": [
    "### 4. Run clustering and evaluate the model"
   ]
  },
  {
   "cell_type": "code",
   "execution_count": 20,
   "metadata": {
    "colab": {
     "base_uri": "https://localhost:8080/"
    },
    "executionInfo": {
     "elapsed": 1860,
     "status": "ok",
     "timestamp": 1663380598301,
     "user": {
      "displayName": "Kunpeng Zhang",
      "userId": "09274433828486852799"
     },
     "user_tz": 240
    },
    "id": "_aYxSAHMMtRT",
    "outputId": "d1302729-5705-421e-8c62-3412ae6db8be"
   },
   "outputs": [
    {
     "name": "stderr",
     "output_type": "stream",
     "text": [
      "C:\\Users\\DELL 5590\\codes\\upgrad_maryland_analytics\\venv\\Lib\\site-packages\\sklearn\\cluster\\_kmeans.py:1416: FutureWarning: The default value of `n_init` will change from 10 to 'auto' in 1.4. Set the value of `n_init` explicitly to suppress the warning\n",
      "  super()._check_params_vs_input(X, default_n_init=10)\n"
     ]
    },
    {
     "name": "stdout",
     "output_type": "stream",
     "text": [
      "0.040834639741475914\n"
     ]
    }
   ],
   "source": [
    "from sklearn.cluster import KMeans\n",
    "from sklearn import metrics\n",
    "\n",
    "k = 30\n",
    "km = KMeans(n_clusters=k, random_state=42)\n",
    "km.fit(tfidf_matrix)\n",
    "\n",
    "# evaluation\n",
    "print(metrics.silhouette_score(tfidf_matrix, km.labels_, sample_size=100, random_state=42))\n"
   ]
  },
  {
   "cell_type": "code",
   "execution_count": 21,
   "metadata": {
    "colab": {
     "base_uri": "https://localhost:8080/"
    },
    "executionInfo": {
     "elapsed": 4,
     "status": "ok",
     "timestamp": 1663380633661,
     "user": {
      "displayName": "Kunpeng Zhang",
      "userId": "09274433828486852799"
     },
     "user_tz": 240
    },
    "id": "MLxw62sdNdpu",
    "outputId": "204bb2ec-03b6-4478-e94f-561ed1bd0483"
   },
   "outputs": [
    {
     "name": "stdout",
     "output_type": "stream",
     "text": [
      "[28, 4, 28, 12, 12, 6, 21, 10, 4, 29, 5, 15, 4, 2, 5, 5, 10, 24, 23, 12, 4, 19, 5, 8, 25, 8, 25, 4, 21, 9, 0, 29, 25, 17, 27, 12, 19, 21, 24, 4, 5, 8, 6, 4, 17, 25, 19, 21, 19, 5, 14, 5, 25, 22, 25, 3, 4, 19, 19, 4, 5, 19, 2, 19, 4, 19, 19, 20, 1, 1, 19, 6, 19, 15, 13, 4, 19, 12, 5, 12, 6, 8, 4, 5, 24, 19, 5, 16, 1, 24, 4, 26, 6, 16, 16, 6, 12, 5, 4, 23, 28, 10, 4, 26, 15, 21, 21, 14, 15, 6, 8, 4, 6, 4, 19, 4, 18, 19, 28, 6, 19, 19, 5, 4, 4, 8, 7, 19, 2, 19, 23, 19, 4, 19, 23, 6, 19, 29, 23, 22, 4, 5, 24, 19, 19, 2, 10, 23, 5, 6, 25, 19, 14, 12, 19, 5, 5, 8, 19, 3, 14, 18, 4, 4, 25, 4, 5, 4, 4, 2, 1, 4, 4, 29, 19, 12, 19, 4, 10, 4, 4, 5, 19, 8, 13, 24, 21, 12, 20, 19, 6, 9, 12, 8, 4, 18, 11, 5, 10, 19, 19, 5, 4, 5, 6, 7, 24, 2, 12, 11, 13, 19, 25, 19, 25, 4, 4, 2, 12, 6, 8, 24, 12, 16, 16, 20, 6, 22, 19, 8, 19, 19, 19, 12, 8, 22, 2, 21, 5, 3, 2, 21, 11, 19, 5, 19, 9, 5, 19, 26, 6, 14, 5, 5, 17, 19, 27, 6, 2, 19, 0, 7, 4, 19, 28, 10, 16, 4, 24, 12, 19, 19, 22, 12, 12, 15, 1, 7, 15, 24, 5, 6, 12, 4, 28, 19, 6, 19, 6, 20, 29, 5, 15, 4, 26, 23, 19, 19, 27, 5, 15, 6, 1, 24, 5, 19, 19, 10, 12, 25, 8, 19, 4, 22, 22, 1, 24, 4, 19, 2, 19, 16, 24, 19, 25, 14, 19, 14, 4, 16, 19, 27, 4, 18, 24, 16, 19, 19, 13, 22, 9, 10, 6, 6, 4, 26, 0, 14, 21, 19, 19, 12, 26, 22, 6, 0, 19, 15, 25, 19, 9, 2, 24, 2, 19, 19, 19, 4, 4, 22, 19, 1, 4, 20, 4, 19, 19, 19, 28, 0, 5, 16, 5, 19, 12, 25, 12, 11, 19, 12, 24, 10, 4, 20, 17, 29, 4, 21, 15, 22, 21, 19, 22, 19, 4, 19, 4, 0, 7, 5, 19, 10, 10, 28, 6, 19, 1, 19, 6, 5, 5, 5, 19, 5, 17, 19, 0, 16, 4, 24, 6, 25, 6, 19, 0, 2, 19, 19, 4, 28, 29, 29, 3, 9, 5, 25, 13, 19, 26, 19, 12, 8, 14, 6, 19, 6, 28, 24, 12, 2, 19, 19, 3, 13, 3, 19, 5, 13, 17, 14, 15, 25, 29, 5, 19, 12, 5, 25, 19, 21, 6, 4, 22, 14, 4, 6, 19, 3, 9, 19, 2, 14, 19, 1, 17, 19, 19, 9, 19, 7, 19, 4, 10, 19, 4, 29, 1, 5, 5, 26, 19, 17, 19, 9, 21, 24, 26, 19, 10, 16, 5, 21, 21, 20, 19, 4, 19, 16, 19, 19, 7, 14, 2, 28, 19, 4, 8, 19, 8, 17, 18, 6, 6, 3, 25, 22, 19, 21, 19, 3, 3, 15, 9, 6, 4, 2, 25, 3, 4, 0, 5, 19, 24, 6, 4, 9, 12, 18, 14, 19, 19, 2, 19, 19, 3, 18, 11, 19, 12, 9, 19, 19, 3, 1, 22, 20, 4, 11, 6, 8, 20, 9, 6, 1, 8, 6, 26, 19, 8, 19, 13, 12, 2, 5, 19, 23, 19, 12, 0, 5, 7, 4, 12, 0, 15, 12, 7, 4, 5, 15, 6, 4, 12, 19, 10, 25, 17, 19, 7, 5, 7, 19, 3, 4, 15, 10, 7, 5, 24, 0, 5, 4, 5, 5, 5, 1, 6, 10, 2, 2, 5, 15, 12, 5, 12, 4, 14, 18, 4, 3, 19, 4, 19, 21, 5, 7, 9, 21, 18, 11, 19, 2, 19, 13, 0, 24, 19, 4, 21, 10, 3, 19, 11, 16, 19, 2, 19, 5, 19, 5, 26, 2, 19, 11, 9, 4, 13, 22, 26, 17, 13, 0, 5, 3, 16, 27, 28, 21, 26, 17, 19, 8, 25, 7, 14, 25, 25, 8, 25, 9, 20, 22, 15, 19, 19, 7, 19, 5, 5, 5, 8, 29, 4, 6, 15, 13, 11, 8, 9, 18, 25, 25, 1, 14, 9, 11, 26, 19, 17, 24, 19, 16, 17, 22, 29, 19, 4, 19, 10, 8, 25, 5, 13, 17, 2, 5, 0, 17, 19, 6, 8, 15, 24, 19, 13, 14, 5, 7, 13, 5, 15, 10, 13, 7, 2, 7, 19, 1, 5, 7, 7, 19, 19, 0, 2, 23, 19, 6, 9, 19, 14, 11, 8, 19, 6, 19, 3, 26, 25, 5, 4, 19, 19, 22, 8, 21, 9, 11, 19, 5, 19, 24, 8, 26, 3, 17, 13, 4, 25, 19, 9, 14, 19, 4, 5, 19, 3, 12, 7, 12, 5, 7, 27, 10, 19, 5, 5, 19, 8, 15, 8, 19, 22, 19, 14, 9, 9, 19, 6, 14, 10, 4, 19, 26, 17, 4, 25, 13, 19, 2, 4, 2, 4, 12, 21, 5, 19, 0, 13, 4, 19, 6, 5, 0, 26, 11, 21, 13, 19, 7, 20, 19, 19, 19, 3, 4, 25, 6, 19, 7, 7, 3, 25, 24, 4, 4, 19, 5, 5, 19, 19, 8, 6, 9, 5, 27, 8, 19, 6, 5, 8, 19, 13, 5, 8, 19, 5, 5, 4, 19, 24, 19, 19, 19, 7, 19, 3, 9, 17, 0, 29, 19, 19, 25, 10, 8, 6, 19, 15, 10, 4, 19, 19, 19, 19, 9, 10, 19, 24, 9, 19, 4, 3, 17, 21, 5, 19, 19, 25, 7, 5, 28, 12, 0, 10, 0, 3, 4, 19, 15, 19, 24, 19, 23, 19, 3, 25, 25, 21, 18, 29, 19, 13, 6, 19, 14, 19, 5, 6]\n"
     ]
    }
   ],
   "source": [
    "print(km.labels_.tolist())"
   ]
  },
  {
   "cell_type": "code",
   "execution_count": null,
   "metadata": {},
   "outputs": [],
   "source": []
  }
 ],
 "metadata": {
  "colab": {
   "collapsed_sections": [],
   "provenance": []
  },
  "kernelspec": {
   "display_name": "Python 3 (ipykernel)",
   "language": "python",
   "name": "python3"
  },
  "language_info": {
   "codemirror_mode": {
    "name": "ipython",
    "version": 3
   },
   "file_extension": ".py",
   "mimetype": "text/x-python",
   "name": "python",
   "nbconvert_exporter": "python",
   "pygments_lexer": "ipython3",
   "version": "3.11.8"
  }
 },
 "nbformat": 4,
 "nbformat_minor": 4
}
