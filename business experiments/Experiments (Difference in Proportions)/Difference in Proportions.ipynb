{
 "cells": [
  {
   "cell_type": "markdown",
   "id": "1b349122",
   "metadata": {
    "id": "1b349122"
   },
   "source": [
    "### Difference in Proportions"
   ]
  },
  {
   "cell_type": "markdown",
   "id": "5bce9ff7",
   "metadata": {
    "id": "5bce9ff7"
   },
   "source": [
    "#### Problem Statement"
   ]
  },
  {
   "cell_type": "markdown",
   "id": "c92aee84",
   "metadata": {
    "id": "c92aee84"
   },
   "source": [
    "- Random samples of size `1000` are selected to receive either a placebo or a new drug believed to offset the most sever sympotoms of Covid-19. They are administered soon after the onset of symptoms of the disease.\n",
    "\n",
    "- It is found that **128** individuals from the control group (receiving the palcebo) are hospitalized with sever disease, while **86** individuals from the treatment group are hospitalized.\n",
    "\n",
    "Now answer the following questions:\n",
    "\n",
    "- **Confidence Interval**: What is the 95% confidence interval for the difference in proportions?\n",
    "\n",
    "- **Hypothesis Tests**: Is there a statistically significant difference in hospitalization rates for the two groups?\n",
    "\n"
   ]
  },
  {
   "cell_type": "markdown",
   "id": "09d574e2",
   "metadata": {
    "id": "09d574e2"
   },
   "source": [
    "### Confidence Interval"
   ]
  },
  {
   "cell_type": "markdown",
   "id": "cfb36689",
   "metadata": {
    "id": "cfb36689"
   },
   "source": [
    "Here are the steps for the calculation of the confidence interval:\n",
    "\n",
    "Given:\n",
    "\n",
    "- Sample Proportions $p_1$ and $p_2$\n",
    "- Sample Sizes $n_1$ and $n_2$\n",
    "- Confidence level (which gives the Z-multiple)\n",
    "\n",
    "Using the above values, we calculate:\n",
    "\n",
    " - Point estimate: $\\hat{p_1} - \\hat{p_2}$\n",
    " \n",
    " \n",
    " \n",
    " - SE: $\\LARGE\\sqrt{\\frac{\\hat{p_1}*(1-\\hat{p_1})}{n_1}+\\frac{\\hat{p_2}*(1-\\hat{p_2})}{n_2}}$\n",
    " \n",
    " \n",
    " \n",
    " - Confidence Interval: Point Estimate $\\pm$ Z-multiple*SE"
   ]
  },
  {
   "cell_type": "markdown",
   "id": "0cd1286c",
   "metadata": {
    "id": "0cd1286c"
   },
   "source": [
    "Let's calculate the Confidence Interval first manually."
   ]
  },
  {
   "cell_type": "markdown",
   "id": "f9ffdc01",
   "metadata": {
    "id": "f9ffdc01"
   },
   "source": [
    "For the given question, we have provided the following values:"
   ]
  },
  {
   "cell_type": "code",
   "execution_count": 19,
   "id": "ea4fa724",
   "metadata": {
    "id": "ea4fa724"
   },
   "outputs": [],
   "source": [
    "X1 = 128\n",
    "n1 = 1000\n",
    "X2 = 86\n",
    "n2 = 1000\n",
    "Zmultiple = 1.96 #Corresponding to 95% confidence level"
   ]
  },
  {
   "cell_type": "code",
   "execution_count": 20,
   "id": "66cd6ec3",
   "metadata": {
    "id": "66cd6ec3"
   },
   "outputs": [],
   "source": [
    "## Let's calculate p1, p2 \n",
    "p1 = X1/n1\n",
    "p2 = X2/n2"
   ]
  },
  {
   "cell_type": "code",
   "execution_count": 21,
   "id": "895ec41f",
   "metadata": {
    "id": "895ec41f",
    "outputId": "15cd9e67-1336-4d11-c2e4-3679bbc8d5ca"
   },
   "outputs": [
    {
     "data": {
      "text/plain": [
       "(0.128, 0.086)"
      ]
     },
     "execution_count": 21,
     "metadata": {},
     "output_type": "execute_result"
    }
   ],
   "source": [
    "p1,p2"
   ]
  },
  {
   "cell_type": "code",
   "execution_count": 22,
   "id": "7abc9f6f",
   "metadata": {
    "id": "7abc9f6f",
    "outputId": "9cdab979-84b8-48dd-b396-5d14c3e51b08"
   },
   "outputs": [
    {
     "data": {
      "text/plain": [
       "0.04200000000000001"
      ]
     },
     "execution_count": 22,
     "metadata": {},
     "output_type": "execute_result"
    }
   ],
   "source": [
    "#Calculate point estimate\n",
    "pestimate = p1-p2\n",
    "pestimate"
   ]
  },
  {
   "cell_type": "code",
   "execution_count": 23,
   "id": "c92e6d33",
   "metadata": {
    "id": "c92e6d33"
   },
   "outputs": [],
   "source": [
    "import numpy as np"
   ]
  },
  {
   "cell_type": "code",
   "execution_count": 24,
   "id": "342ed447",
   "metadata": {
    "id": "342ed447",
    "outputId": "1b2f8f7f-1880-47d1-fde3-5eae9991805c"
   },
   "outputs": [
    {
     "data": {
      "text/plain": [
       "0.01379202668210876"
      ]
     },
     "execution_count": 24,
     "metadata": {},
     "output_type": "execute_result"
    }
   ],
   "source": [
    "##Caclulate standard error\n",
    "SE = np.sqrt(p1*(1-p1)/n1 + p2*(1-p2)/n2)\n",
    "SE"
   ]
  },
  {
   "cell_type": "code",
   "execution_count": 25,
   "id": "32557ec6",
   "metadata": {
    "id": "32557ec6",
    "outputId": "a222c6bd-150f-4dd4-f34a-bf292f8c2a5c"
   },
   "outputs": [
    {
     "data": {
      "text/plain": [
       "(0.014967627703066838, 0.06903237229693318)"
      ]
     },
     "execution_count": 25,
     "metadata": {},
     "output_type": "execute_result"
    }
   ],
   "source": [
    "##Calculate the confidence interval\n",
    "ConfInt = (pestimate - SE*Zmultiple, pestimate + SE*Zmultiple)\n",
    "ConfInt"
   ]
  },
  {
   "cell_type": "markdown",
   "id": "c78c6895",
   "metadata": {
    "id": "c78c6895"
   },
   "source": [
    "---"
   ]
  },
  {
   "cell_type": "markdown",
   "id": "1d112d75",
   "metadata": {
    "id": "1d112d75"
   },
   "source": [
    "Now let's use `statsmodels` to calculate the confidence interval"
   ]
  },
  {
   "cell_type": "code",
   "execution_count": 26,
   "id": "79512120",
   "metadata": {
    "id": "79512120"
   },
   "outputs": [],
   "source": [
    "from statsmodels.stats.proportion import confint_proportions_2indep"
   ]
  },
  {
   "cell_type": "code",
   "execution_count": 27,
   "id": "1a1e7cae",
   "metadata": {
    "id": "1a1e7cae",
    "scrolled": true
   },
   "outputs": [
    {
     "data": {
      "text/plain": [
       "\u001b[1;31mSignature:\u001b[0m\n",
       "\u001b[0mconfint_proportions_2indep\u001b[0m\u001b[1;33m(\u001b[0m\u001b[1;33m\n",
       "\u001b[0m    \u001b[0mcount1\u001b[0m\u001b[1;33m,\u001b[0m\u001b[1;33m\n",
       "\u001b[0m    \u001b[0mnobs1\u001b[0m\u001b[1;33m,\u001b[0m\u001b[1;33m\n",
       "\u001b[0m    \u001b[0mcount2\u001b[0m\u001b[1;33m,\u001b[0m\u001b[1;33m\n",
       "\u001b[0m    \u001b[0mnobs2\u001b[0m\u001b[1;33m,\u001b[0m\u001b[1;33m\n",
       "\u001b[0m    \u001b[0mmethod\u001b[0m\u001b[1;33m=\u001b[0m\u001b[1;32mNone\u001b[0m\u001b[1;33m,\u001b[0m\u001b[1;33m\n",
       "\u001b[0m    \u001b[0mcompare\u001b[0m\u001b[1;33m=\u001b[0m\u001b[1;34m'diff'\u001b[0m\u001b[1;33m,\u001b[0m\u001b[1;33m\n",
       "\u001b[0m    \u001b[0malpha\u001b[0m\u001b[1;33m=\u001b[0m\u001b[1;36m0.05\u001b[0m\u001b[1;33m,\u001b[0m\u001b[1;33m\n",
       "\u001b[0m    \u001b[0mcorrection\u001b[0m\u001b[1;33m=\u001b[0m\u001b[1;32mTrue\u001b[0m\u001b[1;33m,\u001b[0m\u001b[1;33m\n",
       "\u001b[0m\u001b[1;33m)\u001b[0m\u001b[1;33m\u001b[0m\u001b[1;33m\u001b[0m\u001b[0m\n",
       "\u001b[1;31mDocstring:\u001b[0m\n",
       "Confidence intervals for comparing two independent proportions.\n",
       "\n",
       "This assumes that we have two independent binomial samples.\n",
       "\n",
       "Parameters\n",
       "----------\n",
       "count1, nobs1 : float\n",
       "    Count and sample size for first sample.\n",
       "count2, nobs2 : float\n",
       "    Count and sample size for the second sample.\n",
       "method : str\n",
       "    Method for computing confidence interval. If method is None, then a\n",
       "    default method is used. The default might change as more methods are\n",
       "    added.\n",
       "\n",
       "    diff:\n",
       "     - 'wald',\n",
       "     - 'agresti-caffo'\n",
       "     - 'newcomb' (default)\n",
       "     - 'score'\n",
       "\n",
       "    ratio:\n",
       "     - 'log'\n",
       "     - 'log-adjusted' (default)\n",
       "     - 'score'\n",
       "\n",
       "    odds-ratio:\n",
       "     - 'logit'\n",
       "     - 'logit-adjusted' (default)\n",
       "     - 'score'\n",
       "\n",
       "compare : string in ['diff', 'ratio' 'odds-ratio']\n",
       "    If compare is diff, then the confidence interval is for diff = p1 - p2.\n",
       "    If compare is ratio, then the confidence interval is for the risk ratio\n",
       "    defined by ratio = p1 / p2.\n",
       "    If compare is odds-ratio, then the confidence interval is for the\n",
       "    odds-ratio defined by or = p1 / (1 - p1) / (p2 / (1 - p2).\n",
       "alpha : float\n",
       "    Significance level for the confidence interval, default is 0.05.\n",
       "    The nominal coverage probability is 1 - alpha.\n",
       "\n",
       "Returns\n",
       "-------\n",
       "low, upp\n",
       "\n",
       "See Also\n",
       "--------\n",
       "test_proportions_2indep\n",
       "tost_proportions_2indep\n",
       "\n",
       "Notes\n",
       "-----\n",
       "Status: experimental, API and defaults might still change.\n",
       "    more ``methods`` will be added.\n",
       "\n",
       "References\n",
       "----------\n",
       ".. [1] Fagerland, Morten W., Stian Lydersen, and Petter Laake. 2015.\n",
       "   “Recommended Confidence Intervals for Two Independent Binomial\n",
       "   Proportions.” Statistical Methods in Medical Research 24 (2): 224–54.\n",
       "   https://doi.org/10.1177/0962280211415469.\n",
       ".. [2] Koopman, P. A. R. 1984. “Confidence Intervals for the Ratio of Two\n",
       "   Binomial Proportions.” Biometrics 40 (2): 513–17.\n",
       "   https://doi.org/10.2307/2531405.\n",
       ".. [3] Miettinen, Olli, and Markku Nurminen. \"Comparative analysis of two\n",
       "   rates.\" Statistics in medicine 4, no. 2 (1985): 213-226.\n",
       ".. [4] Newcombe, Robert G. 1998. “Interval Estimation for the Difference\n",
       "   between Independent Proportions: Comparison of Eleven Methods.”\n",
       "   Statistics in Medicine 17 (8): 873–90.\n",
       "   https://doi.org/10.1002/(SICI)1097-0258(19980430)17:8<873::AID-\n",
       "   SIM779>3.0.CO;2-I.\n",
       ".. [5] Newcombe, Robert G., and Markku M. Nurminen. 2011. “In Defence of\n",
       "   Score Intervals for Proportions and Their Differences.” Communications\n",
       "   in Statistics - Theory and Methods 40 (7): 1271–82.\n",
       "   https://doi.org/10.1080/03610920903576580.\n",
       "\u001b[1;31mFile:\u001b[0m      c:\\users\\vr3n\\codes\\upgrad-maryland-analytics\\upgrad_venv\\lib\\site-packages\\statsmodels\\stats\\proportion.py\n",
       "\u001b[1;31mType:\u001b[0m      function"
      ]
     },
     "metadata": {},
     "output_type": "display_data"
    }
   ],
   "source": [
    "?confint_proportions_2indep"
   ]
  },
  {
   "cell_type": "code",
   "execution_count": 28,
   "id": "b66a7d97",
   "metadata": {
    "id": "b66a7d97"
   },
   "outputs": [],
   "source": [
    "Sc = 128\n",
    "Nc = 1000\n",
    "St = 86\n",
    "Nt = 1000"
   ]
  },
  {
   "cell_type": "code",
   "execution_count": 29,
   "id": "7d3fe18f",
   "metadata": {
    "id": "7d3fe18f"
   },
   "outputs": [],
   "source": [
    "#Calculate the confidence interval \n",
    "(lower, upper) = confint_proportions_2indep(Sc, Nc, St, Nt, compare='diff', alpha=0.05)"
   ]
  },
  {
   "cell_type": "code",
   "execution_count": 30,
   "id": "bb8db3cb",
   "metadata": {
    "id": "bb8db3cb",
    "outputId": "2e957c06-aa26-48b9-e82b-21da5ffb994d"
   },
   "outputs": [
    {
     "name": "stdout",
     "output_type": "stream",
     "text": [
      "95% CI for difference in proportion: [0.015, 0.069]\n"
     ]
    }
   ],
   "source": [
    "print(f'95% CI for difference in proportion: [{lower:.3f}, {upper:.3f}]')"
   ]
  },
  {
   "cell_type": "markdown",
   "id": "e10977ef",
   "metadata": {
    "id": "e10977ef"
   },
   "source": [
    "### Hypothesis Test for Difference in Proportions"
   ]
  },
  {
   "cell_type": "markdown",
   "id": "1fd7487f",
   "metadata": {
    "id": "1fd7487f"
   },
   "source": [
    "\n",
    "\n",
    "Let $p_1$ and $p_2$ be the sample proportions\n",
    "\n",
    "Our null and alternate hypotheses are as follows:\n",
    "\n",
    "$$H_0: p_1-p_2 = 0$$\n",
    "$$H_a: p_1-p_2 \\neq 0$$\n",
    "\n",
    "> This will be a two-sided test, with $\\alpha$ = 0.05"
   ]
  },
  {
   "cell_type": "markdown",
   "id": "3cb223bf",
   "metadata": {
    "id": "3cb223bf"
   },
   "source": [
    "We'll be performing this test directly using the methods from `statsmodels` library"
   ]
  },
  {
   "cell_type": "code",
   "execution_count": 31,
   "id": "ab1f5fb5",
   "metadata": {
    "id": "ab1f5fb5"
   },
   "outputs": [],
   "source": [
    "from statsmodels.stats.proportion import test_proportions_2indep"
   ]
  },
  {
   "cell_type": "code",
   "execution_count": 33,
   "id": "cc20df8c",
   "metadata": {
    "id": "cc20df8c",
    "scrolled": true
   },
   "outputs": [
    {
     "data": {
      "text/plain": [
       "\u001b[1;31mSignature:\u001b[0m\n",
       "\u001b[0mtest_proportions_2indep\u001b[0m\u001b[1;33m(\u001b[0m\u001b[1;33m\n",
       "\u001b[0m    \u001b[0mcount1\u001b[0m\u001b[1;33m,\u001b[0m\u001b[1;33m\n",
       "\u001b[0m    \u001b[0mnobs1\u001b[0m\u001b[1;33m,\u001b[0m\u001b[1;33m\n",
       "\u001b[0m    \u001b[0mcount2\u001b[0m\u001b[1;33m,\u001b[0m\u001b[1;33m\n",
       "\u001b[0m    \u001b[0mnobs2\u001b[0m\u001b[1;33m,\u001b[0m\u001b[1;33m\n",
       "\u001b[0m    \u001b[0mvalue\u001b[0m\u001b[1;33m=\u001b[0m\u001b[1;32mNone\u001b[0m\u001b[1;33m,\u001b[0m\u001b[1;33m\n",
       "\u001b[0m    \u001b[0mmethod\u001b[0m\u001b[1;33m=\u001b[0m\u001b[1;32mNone\u001b[0m\u001b[1;33m,\u001b[0m\u001b[1;33m\n",
       "\u001b[0m    \u001b[0mcompare\u001b[0m\u001b[1;33m=\u001b[0m\u001b[1;34m'diff'\u001b[0m\u001b[1;33m,\u001b[0m\u001b[1;33m\n",
       "\u001b[0m    \u001b[0malternative\u001b[0m\u001b[1;33m=\u001b[0m\u001b[1;34m'two-sided'\u001b[0m\u001b[1;33m,\u001b[0m\u001b[1;33m\n",
       "\u001b[0m    \u001b[0mcorrection\u001b[0m\u001b[1;33m=\u001b[0m\u001b[1;32mTrue\u001b[0m\u001b[1;33m,\u001b[0m\u001b[1;33m\n",
       "\u001b[0m    \u001b[0mreturn_results\u001b[0m\u001b[1;33m=\u001b[0m\u001b[1;32mTrue\u001b[0m\u001b[1;33m,\u001b[0m\u001b[1;33m\n",
       "\u001b[0m\u001b[1;33m)\u001b[0m\u001b[1;33m\u001b[0m\u001b[1;33m\u001b[0m\u001b[0m\n",
       "\u001b[1;31mDocstring:\u001b[0m\n",
       "Hypothesis test for comparing two independent proportions\n",
       "\n",
       "This assumes that we have two independent binomial samples.\n",
       "\n",
       "The Null and alternative hypothesis are\n",
       "\n",
       "for compare = 'diff'\n",
       "\n",
       "- H0: prop1 - prop2 - value = 0\n",
       "- H1: prop1 - prop2 - value != 0  if alternative = 'two-sided'\n",
       "- H1: prop1 - prop2 - value > 0   if alternative = 'larger'\n",
       "- H1: prop1 - prop2 - value < 0   if alternative = 'smaller'\n",
       "\n",
       "for compare = 'ratio'\n",
       "\n",
       "- H0: prop1 / prop2 - value = 0\n",
       "- H1: prop1 / prop2 - value != 0  if alternative = 'two-sided'\n",
       "- H1: prop1 / prop2 - value > 0   if alternative = 'larger'\n",
       "- H1: prop1 / prop2 - value < 0   if alternative = 'smaller'\n",
       "\n",
       "for compare = 'odds-ratio'\n",
       "\n",
       "- H0: or - value = 0\n",
       "- H1: or - value != 0  if alternative = 'two-sided'\n",
       "- H1: or - value > 0   if alternative = 'larger'\n",
       "- H1: or - value < 0   if alternative = 'smaller'\n",
       "\n",
       "where odds-ratio or = prop1 / (1 - prop1) / (prop2 / (1 - prop2))\n",
       "\n",
       "Parameters\n",
       "----------\n",
       "count1 : int\n",
       "    Count for first sample.\n",
       "nobs1 : int\n",
       "    Sample size for first sample.\n",
       "count2 : int\n",
       "    Count for the second sample.\n",
       "nobs2 : int\n",
       "    Sample size for the second sample.\n",
       "value : float\n",
       "    Value of the difference, risk ratio or odds ratio of 2 independent\n",
       "    proportions under the null hypothesis.\n",
       "    Default is equal proportions, 0 for diff and 1 for risk-ratio and for\n",
       "    odds-ratio.\n",
       "method : string\n",
       "    Method for computing the hypothesis test. If method is None, then a\n",
       "    default method is used. The default might change as more methods are\n",
       "    added.\n",
       "\n",
       "    diff:\n",
       "\n",
       "    - 'wald',\n",
       "    - 'agresti-caffo'\n",
       "    - 'score' if correction is True, then this uses the degrees of freedom\n",
       "       correction ``nobs / (nobs - 1)`` as in Miettinen Nurminen 1985\n",
       "\n",
       "    ratio:\n",
       "\n",
       "    - 'log': wald test using log transformation\n",
       "    - 'log-adjusted': wald test using log transformation,\n",
       "       adds 0.5 to counts\n",
       "    - 'score': if correction is True, then this uses the degrees of freedom\n",
       "       correction ``nobs / (nobs - 1)`` as in Miettinen Nurminen 1985\n",
       "\n",
       "    odds-ratio:\n",
       "\n",
       "    - 'logit': wald test using logit transformation\n",
       "    - 'logit-adjusted': wald test using logit transformation,\n",
       "       adds 0.5 to counts\n",
       "    - 'logit-smoothed': wald test using logit transformation, biases\n",
       "       cell counts towards independence by adding two observations in\n",
       "       total.\n",
       "    - 'score' if correction is True, then this uses the degrees of freedom\n",
       "       correction ``nobs / (nobs - 1)`` as in Miettinen Nurminen 1985\n",
       "\n",
       "compare : {'diff', 'ratio' 'odds-ratio'}\n",
       "    If compare is `diff`, then the hypothesis test is for the risk\n",
       "    difference diff = p1 - p2.\n",
       "    If compare is `ratio`, then the hypothesis test is for the\n",
       "    risk ratio defined by ratio = p1 / p2.\n",
       "    If compare is `odds-ratio`, then the hypothesis test is for the\n",
       "    odds-ratio defined by or = p1 / (1 - p1) / (p2 / (1 - p2)\n",
       "alternative : {'two-sided', 'smaller', 'larger'}\n",
       "    alternative hypothesis, which can be two-sided or either one of the\n",
       "    one-sided tests.\n",
       "correction : bool\n",
       "    If correction is True (default), then the Miettinen and Nurminen\n",
       "    small sample correction to the variance nobs / (nobs - 1) is used.\n",
       "    Applies only if method='score'.\n",
       "return_results : bool\n",
       "    If true, then a results instance with extra information is returned,\n",
       "    otherwise a tuple with statistic and pvalue is returned.\n",
       "\n",
       "Returns\n",
       "-------\n",
       "results : results instance or tuple\n",
       "    If return_results is True, then a results instance with the\n",
       "    information in attributes is returned.\n",
       "    If return_results is False, then only ``statistic`` and ``pvalue``\n",
       "    are returned.\n",
       "\n",
       "    statistic : float\n",
       "        test statistic asymptotically normal distributed N(0, 1)\n",
       "    pvalue : float\n",
       "        p-value based on normal distribution\n",
       "    other attributes :\n",
       "        additional information about the hypothesis test\n",
       "\n",
       "See Also\n",
       "--------\n",
       "tost_proportions_2indep\n",
       "confint_proportions_2indep\n",
       "\n",
       "Notes\n",
       "-----\n",
       "Status: experimental, API and defaults might still change.\n",
       "    More ``methods`` will be added.\n",
       "\n",
       "The current default methods are\n",
       "\n",
       "- 'diff': 'agresti-caffo',\n",
       "- 'ratio': 'log-adjusted',\n",
       "- 'odds-ratio': 'logit-adjusted'\n",
       "\u001b[1;31mFile:\u001b[0m      c:\\users\\vr3n\\codes\\upgrad-maryland-analytics\\upgrad_venv\\lib\\site-packages\\statsmodels\\stats\\proportion.py\n",
       "\u001b[1;31mType:\u001b[0m      function"
      ]
     },
     "metadata": {},
     "output_type": "display_data"
    }
   ],
   "source": [
    "?test_proportions_2indep"
   ]
  },
  {
   "cell_type": "code",
   "execution_count": 34,
   "id": "098b76a0",
   "metadata": {
    "id": "098b76a0"
   },
   "outputs": [],
   "source": [
    "Sc = 128\n",
    "Nc = 1000\n",
    "St = 86\n",
    "Nt = 1000"
   ]
  },
  {
   "cell_type": "code",
   "execution_count": 35,
   "id": "bedef7bb",
   "metadata": {
    "id": "bedef7bb",
    "outputId": "0b990cdc-f20e-4739-edf1-ce7ebb494474"
   },
   "outputs": [
    {
     "name": "stdout",
     "output_type": "stream",
     "text": [
      "z statistic: 3.03\n",
      "p-value: 0.002\n"
     ]
    }
   ],
   "source": [
    "z_stat, pval = test_proportions_2indep(Sc, Nc, St, Nt, compare='diff', alternative='two-sided')\n",
    "print(f'z statistic: {z_stat:.2f}')\n",
    "print(f'p-value: {pval:.3f}')"
   ]
  },
  {
   "cell_type": "code",
   "execution_count": null,
   "id": "2e21f2e3-88f5-4011-a702-abc43b9bfe6d",
   "metadata": {},
   "outputs": [],
   "source": []
  }
 ],
 "metadata": {
  "colab": {
   "provenance": []
  },
  "kernelspec": {
   "display_name": "Python 3 (ipykernel)",
   "language": "python",
   "name": "python3"
  },
  "language_info": {
   "codemirror_mode": {
    "name": "ipython",
    "version": 3
   },
   "file_extension": ".py",
   "mimetype": "text/x-python",
   "name": "python",
   "nbconvert_exporter": "python",
   "pygments_lexer": "ipython3",
   "version": "3.10.11"
  }
 },
 "nbformat": 4,
 "nbformat_minor": 5
}
