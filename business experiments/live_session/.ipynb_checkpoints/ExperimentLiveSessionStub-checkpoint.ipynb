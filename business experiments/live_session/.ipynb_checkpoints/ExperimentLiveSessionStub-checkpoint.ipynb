{
 "cells": [
  {
   "cell_type": "markdown",
   "id": "224ed8b5",
   "metadata": {},
   "source": [
    "### Effect of increase in the minimum wage\n",
    "\n",
    "What is the effect of an increase in the minimum wage on employment?\n",
    "Traditional wisdom is that an increase in the minimum wage will reduce employment.\n",
    "\n",
    "Card and Kreuger did a famous study on the effect of the minimum wage on employment.\n",
    "In April 1992, there was an increase in the minimum wage from USD 4.25 to USD 5.05 in New Jersey, \n",
    "but not in the neighboring state of Pennsylvania. \n",
    "\n",
    "They did two surveys measuring employment: (1) February and March 1992: initial round of survey; and (2) November and December 1992: a follow-up survey. The data is in the file employment.csv. The first variable is state (0 for Pennsylvania, and 1 for New Jersey)."
   ]
  },
  {
   "cell_type": "code",
   "execution_count": 24,
   "id": "d889480f",
   "metadata": {},
   "outputs": [],
   "source": [
    "import pandas as pd\n",
    "df = pd.read_csv(\"employment.csv\")"
   ]
  },
  {
   "cell_type": "code",
   "execution_count": 25,
   "id": "9e7d7ef4",
   "metadata": {},
   "outputs": [
    {
     "data": {
      "text/html": [
       "<div>\n",
       "<style scoped>\n",
       "    .dataframe tbody tr th:only-of-type {\n",
       "        vertical-align: middle;\n",
       "    }\n",
       "\n",
       "    .dataframe tbody tr th {\n",
       "        vertical-align: top;\n",
       "    }\n",
       "\n",
       "    .dataframe thead th {\n",
       "        text-align: right;\n",
       "    }\n",
       "</style>\n",
       "<table border=\"1\" class=\"dataframe\">\n",
       "  <thead>\n",
       "    <tr style=\"text-align: right;\">\n",
       "      <th></th>\n",
       "      <th>state</th>\n",
       "      <th>total_emp_feb</th>\n",
       "      <th>total_emp_nov</th>\n",
       "    </tr>\n",
       "  </thead>\n",
       "  <tbody>\n",
       "    <tr>\n",
       "      <th>count</th>\n",
       "      <td>384.00</td>\n",
       "      <td>384.00</td>\n",
       "      <td>384.00</td>\n",
       "    </tr>\n",
       "    <tr>\n",
       "      <th>mean</th>\n",
       "      <td>0.80</td>\n",
       "      <td>21.01</td>\n",
       "      <td>20.94</td>\n",
       "    </tr>\n",
       "    <tr>\n",
       "      <th>std</th>\n",
       "      <td>0.40</td>\n",
       "      <td>9.87</td>\n",
       "      <td>9.18</td>\n",
       "    </tr>\n",
       "    <tr>\n",
       "      <th>min</th>\n",
       "      <td>0.00</td>\n",
       "      <td>5.00</td>\n",
       "      <td>0.00</td>\n",
       "    </tr>\n",
       "    <tr>\n",
       "      <th>25%</th>\n",
       "      <td>1.00</td>\n",
       "      <td>14.50</td>\n",
       "      <td>14.25</td>\n",
       "    </tr>\n",
       "    <tr>\n",
       "      <th>50%</th>\n",
       "      <td>1.00</td>\n",
       "      <td>19.50</td>\n",
       "      <td>20.00</td>\n",
       "    </tr>\n",
       "    <tr>\n",
       "      <th>75%</th>\n",
       "      <td>1.00</td>\n",
       "      <td>24.50</td>\n",
       "      <td>26.50</td>\n",
       "    </tr>\n",
       "    <tr>\n",
       "      <th>max</th>\n",
       "      <td>1.00</td>\n",
       "      <td>85.00</td>\n",
       "      <td>60.50</td>\n",
       "    </tr>\n",
       "  </tbody>\n",
       "</table>\n",
       "</div>"
      ],
      "text/plain": [
       "       state  total_emp_feb  total_emp_nov\n",
       "count 384.00         384.00         384.00\n",
       "mean    0.80          21.01          20.94\n",
       "std     0.40           9.87           9.18\n",
       "min     0.00           5.00           0.00\n",
       "25%     1.00          14.50          14.25\n",
       "50%     1.00          19.50          20.00\n",
       "75%     1.00          24.50          26.50\n",
       "max     1.00          85.00          60.50"
      ]
     },
     "execution_count": 25,
     "metadata": {},
     "output_type": "execute_result"
    }
   ],
   "source": [
    "df.describe()"
   ]
  },
  {
   "cell_type": "code",
   "execution_count": 26,
   "id": "063d8032",
   "metadata": {},
   "outputs": [
    {
     "data": {
      "text/html": [
       "<div>\n",
       "<style scoped>\n",
       "    .dataframe tbody tr th:only-of-type {\n",
       "        vertical-align: middle;\n",
       "    }\n",
       "\n",
       "    .dataframe tbody tr th {\n",
       "        vertical-align: top;\n",
       "    }\n",
       "\n",
       "    .dataframe thead th {\n",
       "        text-align: right;\n",
       "    }\n",
       "</style>\n",
       "<table border=\"1\" class=\"dataframe\">\n",
       "  <thead>\n",
       "    <tr style=\"text-align: right;\">\n",
       "      <th></th>\n",
       "      <th>state</th>\n",
       "      <th>total_emp_feb</th>\n",
       "      <th>total_emp_nov</th>\n",
       "    </tr>\n",
       "  </thead>\n",
       "  <tbody>\n",
       "    <tr>\n",
       "      <th>0</th>\n",
       "      <td>0</td>\n",
       "      <td>40.50</td>\n",
       "      <td>24.00</td>\n",
       "    </tr>\n",
       "    <tr>\n",
       "      <th>1</th>\n",
       "      <td>0</td>\n",
       "      <td>13.75</td>\n",
       "      <td>11.50</td>\n",
       "    </tr>\n",
       "    <tr>\n",
       "      <th>2</th>\n",
       "      <td>0</td>\n",
       "      <td>8.50</td>\n",
       "      <td>10.50</td>\n",
       "    </tr>\n",
       "    <tr>\n",
       "      <th>3</th>\n",
       "      <td>0</td>\n",
       "      <td>34.00</td>\n",
       "      <td>20.00</td>\n",
       "    </tr>\n",
       "    <tr>\n",
       "      <th>4</th>\n",
       "      <td>0</td>\n",
       "      <td>24.00</td>\n",
       "      <td>35.50</td>\n",
       "    </tr>\n",
       "  </tbody>\n",
       "</table>\n",
       "</div>"
      ],
      "text/plain": [
       "   state  total_emp_feb  total_emp_nov\n",
       "0      0          40.50          24.00\n",
       "1      0          13.75          11.50\n",
       "2      0           8.50          10.50\n",
       "3      0          34.00          20.00\n",
       "4      0          24.00          35.50"
      ]
     },
     "execution_count": 26,
     "metadata": {},
     "output_type": "execute_result"
    }
   ],
   "source": [
    "df.head()"
   ]
  },
  {
   "cell_type": "code",
   "execution_count": 27,
   "id": "1244e009",
   "metadata": {},
   "outputs": [],
   "source": [
    "import seaborn as sns; sns.set_theme(color_codes=True)\n",
    "from matplotlib import pyplot as plt"
   ]
  },
  {
   "cell_type": "markdown",
   "id": "e7571103",
   "metadata": {},
   "source": [
    "## Count"
   ]
  },
  {
   "cell_type": "code",
   "execution_count": 28,
   "id": "de30b9cc",
   "metadata": {},
   "outputs": [
    {
     "data": {
      "image/png": "[encoded data removed]",
      "text/plain": [
       "<Figure size 1600x400 with 3 Axes>"
      ]
     },
     "metadata": {},
     "output_type": "display_data"
    }
   ],
   "source": [
    "fig1 = plt.figure(figsize=(16,4))\n",
    "ax1 = fig1.add_subplot(1, 3, 1)\n",
    "ax1 = sns.countplot(x=\"state\", data=df)\n",
    "ax2 = fig1.add_subplot(1, 3, 2)\n",
    "ax2 = sns.histplot(data=df, x=\"total_emp_feb\", bins=10)\n",
    "ax3 = fig1.add_subplot(1, 3, 3)\n",
    "ax3 = sns.histplot(data=df, x=\"total_emp_nov\", bins=10)"
   ]
  },
  {
   "cell_type": "code",
   "execution_count": 29,
   "id": "e8aea793",
   "metadata": {},
   "outputs": [
    {
     "data": {
      "text/plain": [
       "(0.0, 25.0)"
      ]
     },
     "execution_count": 29,
     "metadata": {},
     "output_type": "execute_result"
    },
    {
     "data": {
      "image/png": "[encoded data removed]",
      "text/plain": [
       "<Figure size 1000x400 with 2 Axes>"
      ]
     },
     "metadata": {},
     "output_type": "display_data"
    }
   ],
   "source": [
    "fig2 = plt.figure(figsize=(10,4))\n",
    "ax1 = fig2.add_subplot(1, 2, 1)\n",
    "ax1 = sns.barplot(x=\"state\", y=\"total_emp_feb\", errorbar=('ci', 95), data=df)\n",
    "plt.ylim([0, 25])\n",
    "ax2 = fig2.add_subplot(1, 2, 2)\n",
    "ax2 = sns.barplot(x=\"state\", y=\"total_emp_nov\", errorbar=('ci', 95), data=df)\n",
    "plt.ylim([0, 25])"
   ]
  },
  {
   "cell_type": "markdown",
   "id": "b1f6d8d4",
   "metadata": {},
   "source": [
    "I now melt the data and store as df2. This will be convenient for some analysis later. Especially, pivot tables."
   ]
  },
  {
   "cell_type": "code",
   "execution_count": 30,
   "id": "f67f0e3e",
   "metadata": {},
   "outputs": [
    {
     "data": {
      "text/plain": [
       "<bound method NDFrame.head of      state           Post   Emp\n",
       "0        0  total_emp_feb 40.50\n",
       "1        0  total_emp_feb 13.75\n",
       "2        0  total_emp_feb  8.50\n",
       "3        0  total_emp_feb 34.00\n",
       "4        0  total_emp_feb 24.00\n",
       "..     ...            ...   ...\n",
       "763      1  total_emp_nov 23.75\n",
       "764      1  total_emp_nov 17.50\n",
       "765      1  total_emp_nov 20.50\n",
       "766      1  total_emp_nov 20.50\n",
       "767      1  total_emp_nov 25.00\n",
       "\n",
       "[768 rows x 3 columns]>"
      ]
     },
     "execution_count": 30,
     "metadata": {},
     "output_type": "execute_result"
    }
   ],
   "source": [
    "pd.options.display.float_format = \"{:,.2f}\".format\n",
    "df2 = df.melt(id_vars=['state'])\n",
    "df2.rename(columns = {'value':'Emp'}, inplace = True)\n",
    "df2.rename(columns = {'variable':'Post'}, inplace = True)\n",
    "df2.head"
   ]
  },
  {
   "cell_type": "code",
   "execution_count": 31,
   "id": "19982e8e",
   "metadata": {},
   "outputs": [
    {
     "data": {
      "text/html": [
       "<div>\n",
       "<style scoped>\n",
       "    .dataframe tbody tr th:only-of-type {\n",
       "        vertical-align: middle;\n",
       "    }\n",
       "\n",
       "    .dataframe tbody tr th {\n",
       "        vertical-align: top;\n",
       "    }\n",
       "\n",
       "    .dataframe thead th {\n",
       "        text-align: right;\n",
       "    }\n",
       "</style>\n",
       "<table border=\"1\" class=\"dataframe\">\n",
       "  <thead>\n",
       "    <tr style=\"text-align: right;\">\n",
       "      <th>Post</th>\n",
       "      <th>total_emp_feb</th>\n",
       "      <th>total_emp_nov</th>\n",
       "      <th>All</th>\n",
       "    </tr>\n",
       "    <tr>\n",
       "      <th>state</th>\n",
       "      <th></th>\n",
       "      <th></th>\n",
       "      <th></th>\n",
       "    </tr>\n",
       "  </thead>\n",
       "  <tbody>\n",
       "    <tr>\n",
       "      <th>0</th>\n",
       "      <td>23.38</td>\n",
       "      <td>21.10</td>\n",
       "      <td>22.24</td>\n",
       "    </tr>\n",
       "    <tr>\n",
       "      <th>1</th>\n",
       "      <td>20.43</td>\n",
       "      <td>20.90</td>\n",
       "      <td>20.66</td>\n",
       "    </tr>\n",
       "    <tr>\n",
       "      <th>All</th>\n",
       "      <td>21.01</td>\n",
       "      <td>20.94</td>\n",
       "      <td>20.97</td>\n",
       "    </tr>\n",
       "  </tbody>\n",
       "</table>\n",
       "</div>"
      ],
      "text/plain": [
       "Post   total_emp_feb  total_emp_nov   All\n",
       "state                                    \n",
       "0              23.38          21.10 22.24\n",
       "1              20.43          20.90 20.66\n",
       "All            21.01          20.94 20.97"
      ]
     },
     "execution_count": 31,
     "metadata": {},
     "output_type": "execute_result"
    }
   ],
   "source": [
    "# Pivot table of average employment broken up by state and Post\n",
    "table2 = pd.pivot_table(df2, values='Emp', index=['state'], columns=['Post'], aggfunc='mean', margins=True)\n",
    "table2"
   ]
  },
  {
   "cell_type": "markdown",
   "id": "b56dbe00",
   "metadata": {},
   "source": [
    "In the \"after-only\" design, we take the difference between the treatment and control group after the minimum wage increase (i.e., in November). In other words: 20.90-21.10 = -0.2. But this seems inadequate - there seem to be important pre-treatment differences between Pennsylvania and New Jersey. In the \"before-after\" design, we take the post-treatment difference, and subtract from it the pre-treatment difference: -0.2 - (20.43-23.38) = 2.75. I also called this the \"difference in difference\"."
   ]
  },
  {
   "cell_type": "markdown",
   "id": "2ba316b6",
   "metadata": {},
   "source": [
    "## After-Only Design"
   ]
  },
  {
   "cell_type": "markdown",
   "id": "18088220",
   "metadata": {},
   "source": [
    "Of course, we would need to conduct t-tests. The following is the t-test for difference of means, assuming constant variance and independent samples. "
   ]
  },
  {
   "cell_type": "code",
   "execution_count": 32,
   "id": "1290ecfd",
   "metadata": {},
   "outputs": [
    {
     "data": {
      "text/html": [
       "<div>\n",
       "<style scoped>\n",
       "    .dataframe tbody tr th:only-of-type {\n",
       "        vertical-align: middle;\n",
       "    }\n",
       "\n",
       "    .dataframe tbody tr th {\n",
       "        vertical-align: top;\n",
       "    }\n",
       "\n",
       "    .dataframe thead th {\n",
       "        text-align: right;\n",
       "    }\n",
       "</style>\n",
       "<table border=\"1\" class=\"dataframe\">\n",
       "  <thead>\n",
       "    <tr style=\"text-align: right;\">\n",
       "      <th></th>\n",
       "      <th>T</th>\n",
       "      <th>dof</th>\n",
       "      <th>alternative</th>\n",
       "      <th>p-val</th>\n",
       "      <th>CI95%</th>\n",
       "      <th>cohen-d</th>\n",
       "      <th>BF10</th>\n",
       "      <th>power</th>\n",
       "    </tr>\n",
       "  </thead>\n",
       "  <tbody>\n",
       "    <tr>\n",
       "      <th>T-test</th>\n",
       "      <td>-0.17</td>\n",
       "      <td>382</td>\n",
       "      <td>two-sided</td>\n",
       "      <td>0.87</td>\n",
       "      <td>[-2.53, 2.13]</td>\n",
       "      <td>0.02</td>\n",
       "      <td>0.143</td>\n",
       "      <td>0.05</td>\n",
       "    </tr>\n",
       "  </tbody>\n",
       "</table>\n",
       "</div>"
      ],
      "text/plain": [
       "           T  dof alternative  p-val          CI95%  cohen-d   BF10  power\n",
       "T-test -0.17  382   two-sided   0.87  [-2.53, 2.13]     0.02  0.143   0.05"
      ]
     },
     "execution_count": 32,
     "metadata": {},
     "output_type": "execute_result"
    }
   ],
   "source": [
    "OUTDATED_IGNORE=1\n",
    "# After-only design\n",
    "df3 = df2[df2.Post=='total_emp_nov']\n",
    "df3nj = df3[df3.state==1]\n",
    "df3pa = df3[df3.state==0]\n",
    "import pingouin as pg\n",
    "pg.ttest(df3nj.Emp, df3pa.Emp, correction=\"False\")"
   ]
  },
  {
   "cell_type": "markdown",
   "id": "63a2df85",
   "metadata": {},
   "source": [
    "## Before-After Design"
   ]
  },
  {
   "cell_type": "markdown",
   "id": "296c9757",
   "metadata": {},
   "source": [
    "Now let us estimate the difference in difference using the \"paired sample\" approach"
   ]
  },
  {
   "cell_type": "code",
   "execution_count": 35,
   "id": "78274320",
   "metadata": {},
   "outputs": [],
   "source": [
    "df[\"Diff\"] = df.total_emp_nov - df.total_emp_feb"
   ]
  },
  {
   "cell_type": "code",
   "execution_count": 36,
   "id": "760f2df9",
   "metadata": {},
   "outputs": [
    {
     "data": {
      "text/html": [
       "<div>\n",
       "<style scoped>\n",
       "    .dataframe tbody tr th:only-of-type {\n",
       "        vertical-align: middle;\n",
       "    }\n",
       "\n",
       "    .dataframe tbody tr th {\n",
       "        vertical-align: top;\n",
       "    }\n",
       "\n",
       "    .dataframe thead th {\n",
       "        text-align: right;\n",
       "    }\n",
       "</style>\n",
       "<table border=\"1\" class=\"dataframe\">\n",
       "  <thead>\n",
       "    <tr style=\"text-align: right;\">\n",
       "      <th></th>\n",
       "      <th>T</th>\n",
       "      <th>dof</th>\n",
       "      <th>alternative</th>\n",
       "      <th>p-val</th>\n",
       "      <th>CI95%</th>\n",
       "      <th>cohen-d</th>\n",
       "      <th>BF10</th>\n",
       "      <th>power</th>\n",
       "    </tr>\n",
       "  </thead>\n",
       "  <tbody>\n",
       "    <tr>\n",
       "      <th>T-test</th>\n",
       "      <td>2.38</td>\n",
       "      <td>382</td>\n",
       "      <td>two-sided</td>\n",
       "      <td>0.02</td>\n",
       "      <td>[0.48, 5.02]</td>\n",
       "      <td>0.31</td>\n",
       "      <td>2.036</td>\n",
       "      <td>0.66</td>\n",
       "    </tr>\n",
       "  </tbody>\n",
       "</table>\n",
       "</div>"
      ],
      "text/plain": [
       "          T  dof alternative  p-val         CI95%  cohen-d   BF10  power\n",
       "T-test 2.38  382   two-sided   0.02  [0.48, 5.02]     0.31  2.036   0.66"
      ]
     },
     "execution_count": 36,
     "metadata": {},
     "output_type": "execute_result"
    }
   ],
   "source": [
    "OUTDATED_IGNORE=1\n",
    "df4nj = df[df.state==1]\n",
    "df4pa = df[df.state==0]\n",
    "pg.ttest(df4nj.Diff, df4pa.Diff, correction=\"False\")"
   ]
  }
 ],
 "metadata": {
  "kernelspec": {
   "display_name": "Python 3 (ipykernel)",
   "language": "python",
   "name": "python3"
  },
  "language_info": {
   "codemirror_mode": {
    "name": "ipython",
    "version": 3
   },
   "file_extension": ".py",
   "mimetype": "text/x-python",
   "name": "python",
   "nbconvert_exporter": "python",
   "pygments_lexer": "ipython3",
   "version": "3.9.7"
  }
 },
 "nbformat": 4,
 "nbformat_minor": 5
}
