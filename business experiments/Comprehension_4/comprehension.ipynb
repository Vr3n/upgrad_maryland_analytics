{
 "cells": [
  {
   "attachments": {},
   "cell_type": "markdown",
   "id": "10668f56-43ba-4d9d-9f1f-932a98817424",
   "metadata": {},
   "source": [
    "### Mobile App retention\n",
    "\n",
    "A mobile app development company has collected data on its users. \\\n",
    "The file 'App_Retention.csv' contains the results of an experiment where two versions of a mobile app are compared. \\\n",
    "Here are the main attributes of this data:\n",
    "- UserID - ID of the user\n",
    "- Treat - Type of group the user belongs to (control/treatment)\n",
    "- Retention - Behaviour of user in terms of app usag \n"
   ]
  },
  {
   "cell_type": "markdown",
   "id": "a048f518-3c9c-40fa-88fe-cf7755340058",
   "metadata": {},
   "source": [
    "This experiment aims to test if there is an increase in mobile app retention rates by reducing the frequency of mobile app notifications from 5 or more times per day to exactly two times per day. \n",
    "\n",
    "Users using this mobile app are randomly assigned to a control (old set-up) or treatment (new set-up) group.\n",
    "\n",
    "The variable 'Treat' identifies how each user is assigned. Retention occurs if a user goes on without uninstalling the app, in which case we have \n",
    "\n",
    "- Retention = 1 (not uninstalled app)\n",
    "- Retention = 0 (uninstalled app)"
   ]
  },
  {
   "cell_type": "markdown",
   "id": "ab57a386-9703-4d5a-8cf3-725aeecc2225",
   "metadata": {},
   "source": [
    " you wish to build an A/B test that will determine if reducing the frequency of mobile app notifications is helping in retaining the app users or not."
   ]
  },
  {
   "cell_type": "markdown",
   "id": "3221ddcb-6b9f-4cdf-a627-d94b4611a641",
   "metadata": {},
   "source": [
    "### Importing Important libraries"
   ]
  },
  {
   "cell_type": "code",
   "execution_count": 53,
   "id": "eee29dab-6612-4eab-bfbd-a62edf093e2d",
   "metadata": {},
   "outputs": [],
   "source": [
    "import pandas as pd\n",
    "import numpy as np\n",
    "import seaborn as sns\n",
    "import matplotlib.pyplot as plt\n",
    "import statsmodels.stats.api as sms\n",
    "import math"
   ]
  },
  {
   "cell_type": "code",
   "execution_count": 54,
   "id": "6aca73fa-067f-46df-a3a9-f7ba9a547a21",
   "metadata": {},
   "outputs": [],
   "source": [
    "import warnings\n",
    "warnings.filterwarnings('ignore')\n",
    "%matplotlib inline"
   ]
  },
  {
   "cell_type": "code",
   "execution_count": 55,
   "id": "38f8981f-532f-468d-a0e7-79e1de804697",
   "metadata": {},
   "outputs": [],
   "source": [
    "df = pd.read_csv('App_Retention.csv')"
   ]
  },
  {
   "cell_type": "code",
   "execution_count": 56,
   "id": "a7159bae-23d4-495f-a61d-e07092a4136c",
   "metadata": {},
   "outputs": [
    {
     "data": {
      "text/html": [
       "<div>\n",
       "<style scoped>\n",
       "    .dataframe tbody tr th:only-of-type {\n",
       "        vertical-align: middle;\n",
       "    }\n",
       "\n",
       "    .dataframe tbody tr th {\n",
       "        vertical-align: top;\n",
       "    }\n",
       "\n",
       "    .dataframe thead th {\n",
       "        text-align: right;\n",
       "    }\n",
       "</style>\n",
       "<table border=\"1\" class=\"dataframe\">\n",
       "  <thead>\n",
       "    <tr style=\"text-align: right;\">\n",
       "      <th></th>\n",
       "      <th>UserID</th>\n",
       "      <th>Treat</th>\n",
       "      <th>Retention</th>\n",
       "    </tr>\n",
       "  </thead>\n",
       "  <tbody>\n",
       "    <tr>\n",
       "      <th>0</th>\n",
       "      <td>1</td>\n",
       "      <td>control</td>\n",
       "      <td>0</td>\n",
       "    </tr>\n",
       "    <tr>\n",
       "      <th>1</th>\n",
       "      <td>2</td>\n",
       "      <td>control</td>\n",
       "      <td>0</td>\n",
       "    </tr>\n",
       "    <tr>\n",
       "      <th>2</th>\n",
       "      <td>3</td>\n",
       "      <td>treatment</td>\n",
       "      <td>0</td>\n",
       "    </tr>\n",
       "    <tr>\n",
       "      <th>3</th>\n",
       "      <td>4</td>\n",
       "      <td>treatment</td>\n",
       "      <td>0</td>\n",
       "    </tr>\n",
       "    <tr>\n",
       "      <th>4</th>\n",
       "      <td>5</td>\n",
       "      <td>control</td>\n",
       "      <td>0</td>\n",
       "    </tr>\n",
       "  </tbody>\n",
       "</table>\n",
       "</div>"
      ],
      "text/plain": [
       "   UserID      Treat  Retention\n",
       "0       1    control          0\n",
       "1       2    control          0\n",
       "2       3  treatment          0\n",
       "3       4  treatment          0\n",
       "4       5    control          0"
      ]
     },
     "execution_count": 56,
     "metadata": {},
     "output_type": "execute_result"
    }
   ],
   "source": [
    "df.head()"
   ]
  },
  {
   "cell_type": "markdown",
   "id": "1df51feb-6496-4a44-89a9-c8452a744d10",
   "metadata": {},
   "source": [
    "### Creating Control and Treatment group dataframes.\n",
    "\n",
    "- for control group."
   ]
  },
  {
   "cell_type": "code",
   "execution_count": 57,
   "id": "b2b8bbe8-4ee6-4649-8582-b1199bc4448f",
   "metadata": {},
   "outputs": [],
   "source": [
    "dfc = df[df['Treat'] == 'control']"
   ]
  },
  {
   "cell_type": "code",
   "execution_count": 58,
   "id": "5ce23820-7d97-4dae-93e0-71ba1d122cdf",
   "metadata": {},
   "outputs": [
    {
     "data": {
      "text/plain": [
       "True"
      ]
     },
     "execution_count": 58,
     "metadata": {},
     "output_type": "execute_result"
    }
   ],
   "source": [
    "(dfc['Treat'] == 'control').all()"
   ]
  },
  {
   "cell_type": "markdown",
   "id": "d3e79945-0962-4c13-958f-273a9126fccd",
   "metadata": {},
   "source": [
    "#### Creating cumulative conversion."
   ]
  },
  {
   "cell_type": "code",
   "execution_count": 59,
   "id": "18ccfbc4-7d0a-4b41-a0f7-e71a571219ab",
   "metadata": {},
   "outputs": [],
   "source": [
    "Nc = len(dfc.index)\n",
    "Sc = dfc['Retention'].sum()"
   ]
  },
  {
   "cell_type": "code",
   "execution_count": 60,
   "id": "17100d78-52d1-4fca-a01a-ff51249fdb5a",
   "metadata": {},
   "outputs": [],
   "source": [
    "dfc['cumu_ret'] = np.around(np.cumsum(dfc['Retention']))"
   ]
  },
  {
   "cell_type": "code",
   "execution_count": 61,
   "id": "b27df9a4-b1ad-416d-a820-3966bd062412",
   "metadata": {},
   "outputs": [],
   "source": [
    "dfc['ret_rate'] = dfc['cumu_ret'] / dfc['UserID']"
   ]
  },
  {
   "cell_type": "code",
   "execution_count": 62,
   "id": "e4252f62-d943-4652-814b-a7d9222f79a9",
   "metadata": {},
   "outputs": [
    {
     "data": {
      "text/html": [
       "<div>\n",
       "<style scoped>\n",
       "    .dataframe tbody tr th:only-of-type {\n",
       "        vertical-align: middle;\n",
       "    }\n",
       "\n",
       "    .dataframe tbody tr th {\n",
       "        vertical-align: top;\n",
       "    }\n",
       "\n",
       "    .dataframe thead th {\n",
       "        text-align: right;\n",
       "    }\n",
       "</style>\n",
       "<table border=\"1\" class=\"dataframe\">\n",
       "  <thead>\n",
       "    <tr style=\"text-align: right;\">\n",
       "      <th></th>\n",
       "      <th>UserID</th>\n",
       "      <th>Retention</th>\n",
       "      <th>cumu_ret</th>\n",
       "      <th>ret_rate</th>\n",
       "    </tr>\n",
       "  </thead>\n",
       "  <tbody>\n",
       "    <tr>\n",
       "      <th>count</th>\n",
       "      <td>2500.000000</td>\n",
       "      <td>2500.000000</td>\n",
       "      <td>2500.000000</td>\n",
       "      <td>2500.000000</td>\n",
       "    </tr>\n",
       "    <tr>\n",
       "      <th>mean</th>\n",
       "      <td>2496.516400</td>\n",
       "      <td>0.040000</td>\n",
       "      <td>48.324800</td>\n",
       "      <td>0.018374</td>\n",
       "    </tr>\n",
       "    <tr>\n",
       "      <th>std</th>\n",
       "      <td>1443.491456</td>\n",
       "      <td>0.195998</td>\n",
       "      <td>30.118801</td>\n",
       "      <td>0.003363</td>\n",
       "    </tr>\n",
       "    <tr>\n",
       "      <th>min</th>\n",
       "      <td>1.000000</td>\n",
       "      <td>0.000000</td>\n",
       "      <td>0.000000</td>\n",
       "      <td>0.000000</td>\n",
       "    </tr>\n",
       "    <tr>\n",
       "      <th>25%</th>\n",
       "      <td>1250.250000</td>\n",
       "      <td>0.000000</td>\n",
       "      <td>23.000000</td>\n",
       "      <td>0.017485</td>\n",
       "    </tr>\n",
       "    <tr>\n",
       "      <th>50%</th>\n",
       "      <td>2496.500000</td>\n",
       "      <td>0.000000</td>\n",
       "      <td>43.000000</td>\n",
       "      <td>0.019189</td>\n",
       "    </tr>\n",
       "    <tr>\n",
       "      <th>75%</th>\n",
       "      <td>3734.250000</td>\n",
       "      <td>0.000000</td>\n",
       "      <td>78.000000</td>\n",
       "      <td>0.020141</td>\n",
       "    </tr>\n",
       "    <tr>\n",
       "      <th>max</th>\n",
       "      <td>5000.000000</td>\n",
       "      <td>1.000000</td>\n",
       "      <td>100.000000</td>\n",
       "      <td>0.022346</td>\n",
       "    </tr>\n",
       "  </tbody>\n",
       "</table>\n",
       "</div>"
      ],
      "text/plain": [
       "            UserID    Retention     cumu_ret     ret_rate\n",
       "count  2500.000000  2500.000000  2500.000000  2500.000000\n",
       "mean   2496.516400     0.040000    48.324800     0.018374\n",
       "std    1443.491456     0.195998    30.118801     0.003363\n",
       "min       1.000000     0.000000     0.000000     0.000000\n",
       "25%    1250.250000     0.000000    23.000000     0.017485\n",
       "50%    2496.500000     0.000000    43.000000     0.019189\n",
       "75%    3734.250000     0.000000    78.000000     0.020141\n",
       "max    5000.000000     1.000000   100.000000     0.022346"
      ]
     },
     "execution_count": 62,
     "metadata": {},
     "output_type": "execute_result"
    }
   ],
   "source": [
    "dfc.describe()"
   ]
  },
  {
   "cell_type": "markdown",
   "id": "d0933518-1481-4c5a-9890-4162488b5a6a",
   "metadata": {},
   "source": [
    "- For treatment group"
   ]
  },
  {
   "cell_type": "code",
   "execution_count": 63,
   "id": "a370431f-4050-43ac-b9b9-b70f08ffb77f",
   "metadata": {},
   "outputs": [],
   "source": [
    "dft = df[df['Treat'] == 'treatment']"
   ]
  },
  {
   "cell_type": "code",
   "execution_count": 64,
   "id": "1ccc3cab-4189-4e10-aa74-e1965a011bb8",
   "metadata": {},
   "outputs": [],
   "source": [
    "Nt = len(dft.index)\n",
    "St = dft['Retention'].sum()"
   ]
  },
  {
   "cell_type": "code",
   "execution_count": 65,
   "id": "f86c3653-6f6e-47e7-b051-694bc1306048",
   "metadata": {},
   "outputs": [],
   "source": [
    "dft['cumu_ret'] = np.around(np.cumsum(dft['Retention']))"
   ]
  },
  {
   "cell_type": "code",
   "execution_count": 66,
   "id": "cb652b66-0178-44f1-9332-051c014becac",
   "metadata": {},
   "outputs": [],
   "source": [
    "dft['ret_rate'] = dft['cumu_ret'] / dft['UserID']"
   ]
  },
  {
   "cell_type": "code",
   "execution_count": 67,
   "id": "1199a208-5819-45e4-baa7-617698fe634c",
   "metadata": {},
   "outputs": [
    {
     "data": {
      "text/html": [
       "<div>\n",
       "<style scoped>\n",
       "    .dataframe tbody tr th:only-of-type {\n",
       "        vertical-align: middle;\n",
       "    }\n",
       "\n",
       "    .dataframe tbody tr th {\n",
       "        vertical-align: top;\n",
       "    }\n",
       "\n",
       "    .dataframe thead th {\n",
       "        text-align: right;\n",
       "    }\n",
       "</style>\n",
       "<table border=\"1\" class=\"dataframe\">\n",
       "  <thead>\n",
       "    <tr style=\"text-align: right;\">\n",
       "      <th></th>\n",
       "      <th>UserID</th>\n",
       "      <th>Retention</th>\n",
       "      <th>cumu_ret</th>\n",
       "      <th>ret_rate</th>\n",
       "    </tr>\n",
       "  </thead>\n",
       "  <tbody>\n",
       "    <tr>\n",
       "      <th>count</th>\n",
       "      <td>2500.00000</td>\n",
       "      <td>2500.000000</td>\n",
       "      <td>2500.000000</td>\n",
       "      <td>2500.000000</td>\n",
       "    </tr>\n",
       "    <tr>\n",
       "      <th>mean</th>\n",
       "      <td>2504.48360</td>\n",
       "      <td>0.060000</td>\n",
       "      <td>76.139200</td>\n",
       "      <td>0.030788</td>\n",
       "    </tr>\n",
       "    <tr>\n",
       "      <th>std</th>\n",
       "      <td>1443.82634</td>\n",
       "      <td>0.237534</td>\n",
       "      <td>41.565261</td>\n",
       "      <td>0.004883</td>\n",
       "    </tr>\n",
       "    <tr>\n",
       "      <th>min</th>\n",
       "      <td>3.00000</td>\n",
       "      <td>0.000000</td>\n",
       "      <td>0.000000</td>\n",
       "      <td>0.000000</td>\n",
       "    </tr>\n",
       "    <tr>\n",
       "      <th>25%</th>\n",
       "      <td>1251.50000</td>\n",
       "      <td>0.000000</td>\n",
       "      <td>44.000000</td>\n",
       "      <td>0.029518</td>\n",
       "    </tr>\n",
       "    <tr>\n",
       "      <th>50%</th>\n",
       "      <td>2509.50000</td>\n",
       "      <td>0.000000</td>\n",
       "      <td>80.000000</td>\n",
       "      <td>0.030871</td>\n",
       "    </tr>\n",
       "    <tr>\n",
       "      <th>75%</th>\n",
       "      <td>3771.50000</td>\n",
       "      <td>0.000000</td>\n",
       "      <td>107.000000</td>\n",
       "      <td>0.033155</td>\n",
       "    </tr>\n",
       "    <tr>\n",
       "      <th>max</th>\n",
       "      <td>4999.00000</td>\n",
       "      <td>1.000000</td>\n",
       "      <td>150.000000</td>\n",
       "      <td>0.044872</td>\n",
       "    </tr>\n",
       "  </tbody>\n",
       "</table>\n",
       "</div>"
      ],
      "text/plain": [
       "           UserID    Retention     cumu_ret     ret_rate\n",
       "count  2500.00000  2500.000000  2500.000000  2500.000000\n",
       "mean   2504.48360     0.060000    76.139200     0.030788\n",
       "std    1443.82634     0.237534    41.565261     0.004883\n",
       "min       3.00000     0.000000     0.000000     0.000000\n",
       "25%    1251.50000     0.000000    44.000000     0.029518\n",
       "50%    2509.50000     0.000000    80.000000     0.030871\n",
       "75%    3771.50000     0.000000   107.000000     0.033155\n",
       "max    4999.00000     1.000000   150.000000     0.044872"
      ]
     },
     "execution_count": 67,
     "metadata": {},
     "output_type": "execute_result"
    }
   ],
   "source": [
    "dft.describe()"
   ]
  },
  {
   "cell_type": "markdown",
   "id": "5c50c261-5b32-4db9-97f1-c3fdd0242dd6",
   "metadata": {},
   "source": [
    "### Question 1\n",
    "\n",
    "Does the given data have enough samples to determine the differences in retention rates for the control & treatment groups?"
   ]
  },
  {
   "cell_type": "markdown",
   "id": "e0ce3f4e-79d0-4016-86df-d216bc3ca253",
   "metadata": {},
   "source": [
    "##### We wil use the `proportion_effectsize` function from statsmodels package.\n",
    "The inputs will be the following\n",
    "\n",
    "- Pc (Proportion of the control group)\n",
    "- Pt (Proportion of the treatment group)"
   ]
  },
  {
   "cell_type": "code",
   "execution_count": 68,
   "id": "f812ca53-256f-40f8-a06e-fe21d33964b6",
   "metadata": {},
   "outputs": [],
   "source": [
    "Pc = Sc / Nc\n",
    "Pt = St / Nt"
   ]
  },
  {
   "cell_type": "code",
   "execution_count": 69,
   "id": "d17e5966-5966-4aef-ab1d-4ce13ec48009",
   "metadata": {},
   "outputs": [
    {
     "data": {
      "text/plain": [
       "(0.04, 0.06)"
      ]
     },
     "execution_count": 69,
     "metadata": {},
     "output_type": "execute_result"
    }
   ],
   "source": [
    "(Pc, Pt)"
   ]
  },
  {
   "cell_type": "code",
   "execution_count": 70,
   "id": "f93e437f-abbf-497b-90e2-dd388aa114d9",
   "metadata": {},
   "outputs": [],
   "source": [
    "p_effect_size = sms.proportion_effectsize(Pc, Pt)"
   ]
  },
  {
   "cell_type": "markdown",
   "id": "d95d2e60-5a98-4eda-be8c-8325b503fd1c",
   "metadata": {},
   "source": [
    "##### We will now use `sms.NormalIndPower.solve_power` function from statsmodels package.\n",
    "\n",
    "The inputs wil be following:\n",
    "- effect_size\n",
    "- alpha\n",
    "- power"
   ]
  },
  {
   "cell_type": "code",
   "execution_count": 71,
   "id": "fa16e8a3-165f-42f9-b3e9-5789246ef054",
   "metadata": {},
   "outputs": [],
   "source": [
    "alpha = 0.05\n",
    "power = 0.8"
   ]
  },
  {
   "cell_type": "code",
   "execution_count": 72,
   "id": "ffdfbdc5-0274-4b74-8378-f50702c10c44",
   "metadata": {},
   "outputs": [],
   "source": [
    "required_n = sms.NormalIndPower().solve_power(effect_size=p_effect_size, alpha=alpha, power=power)"
   ]
  },
  {
   "cell_type": "code",
   "execution_count": 73,
   "id": "0f927e97-2d6b-4614-a650-68f926dcdd22",
   "metadata": {},
   "outputs": [
    {
     "name": "stdout",
     "output_type": "stream",
     "text": [
      "The required sampple size is: 1846\n"
     ]
    }
   ],
   "source": [
    "print(f\"The required sampple size is: {math.ceil(required_n)}\")"
   ]
  },
  {
   "cell_type": "code",
   "execution_count": 74,
   "id": "ac334f5a-3768-494e-b9b4-57d450dd276a",
   "metadata": {},
   "outputs": [
    {
     "name": "stdout",
     "output_type": "stream",
     "text": [
      "The treatment group has sufficient sample size: 2500 (required is 1846)\n"
     ]
    }
   ],
   "source": [
    "print(f\"The treatment group has sufficient sample size: {Nt} (required is {math.ceil(required_n)})\")"
   ]
  },
  {
   "cell_type": "code",
   "execution_count": 75,
   "id": "979e48c3-03cc-424b-941d-f3d23ee095b5",
   "metadata": {},
   "outputs": [
    {
     "name": "stdout",
     "output_type": "stream",
     "text": [
      "The control group has sufficient sample size: 2500 (required is 1846)\n"
     ]
    }
   ],
   "source": [
    "print(f\"The control group has sufficient sample size: {Nc} (required is {math.ceil(required_n)})\")"
   ]
  },
  {
   "cell_type": "markdown",
   "id": "4acc7c2f-d33f-422e-87b8-66bab4e78f84",
   "metadata": {},
   "source": [
    "### Question 2\n",
    "\n",
    "What is the retention rate for the control group?"
   ]
  },
  {
   "cell_type": "code",
   "execution_count": 78,
   "id": "5e7ef777-6408-42c9-be43-20e46d67870d",
   "metadata": {},
   "outputs": [
    {
     "data": {
      "text/html": [
       "<div>\n",
       "<style scoped>\n",
       "    .dataframe tbody tr th:only-of-type {\n",
       "        vertical-align: middle;\n",
       "    }\n",
       "\n",
       "    .dataframe tbody tr th {\n",
       "        vertical-align: top;\n",
       "    }\n",
       "\n",
       "    .dataframe thead th {\n",
       "        text-align: right;\n",
       "    }\n",
       "</style>\n",
       "<table border=\"1\" class=\"dataframe\">\n",
       "  <thead>\n",
       "    <tr style=\"text-align: right;\">\n",
       "      <th>Retention</th>\n",
       "      <th>0</th>\n",
       "      <th>1</th>\n",
       "    </tr>\n",
       "    <tr>\n",
       "      <th>Treat</th>\n",
       "      <th></th>\n",
       "      <th></th>\n",
       "    </tr>\n",
       "  </thead>\n",
       "  <tbody>\n",
       "    <tr>\n",
       "      <th>control</th>\n",
       "      <td>0.96</td>\n",
       "      <td>0.04</td>\n",
       "    </tr>\n",
       "    <tr>\n",
       "      <th>treatment</th>\n",
       "      <td>0.94</td>\n",
       "      <td>0.06</td>\n",
       "    </tr>\n",
       "  </tbody>\n",
       "</table>\n",
       "</div>"
      ],
      "text/plain": [
       "Retention     0     1\n",
       "Treat                \n",
       "control    0.96  0.04\n",
       "treatment  0.94  0.06"
      ]
     },
     "execution_count": 78,
     "metadata": {},
     "output_type": "execute_result"
    }
   ],
   "source": [
    "pd.crosstab(df['Treat'], df['Retention'], normalize='index')"
   ]
  },
  {
   "cell_type": "code",
   "execution_count": 77,
   "id": "f4a666fb-9615-4f19-bf33-15b9d28b6d8b",
   "metadata": {},
   "outputs": [
    {
     "data": {
      "text/plain": [
       "0.06"
      ]
     },
     "execution_count": 77,
     "metadata": {},
     "output_type": "execute_result"
    }
   ],
   "source": [
    "Pt"
   ]
  },
  {
   "cell_type": "markdown",
   "id": "fbce77c4-7e45-4267-b112-97a479c7ae29",
   "metadata": {},
   "source": [
    "### Question 3\n",
    "\n",
    "What is the value of the z-statistic that you obtained from the hypothesis test?"
   ]
  },
  {
   "cell_type": "code",
   "execution_count": 83,
   "id": "94daa62f-7ee1-4b3e-8c64-5bdf087b0303",
   "metadata": {},
   "outputs": [
    {
     "data": {
      "text/plain": [
       "0.8"
      ]
     },
     "execution_count": 83,
     "metadata": {},
     "output_type": "execute_result"
    }
   ],
   "source": [
    "Nc\n",
    "Nt\n",
    "Sc\n",
    "St\n",
    "\n",
    "alpha\n",
    "power"
   ]
  },
  {
   "cell_type": "code",
   "execution_count": 84,
   "id": "a7658b97-7554-491c-915c-6edb1bd4d79c",
   "metadata": {},
   "outputs": [],
   "source": [
    "from statsmodels.stats.proportion import confint_proportions_2indep"
   ]
  },
  {
   "cell_type": "markdown",
   "id": "9afac567-4372-4bb4-9c8c-916cce2ac2b7",
   "metadata": {},
   "source": [
    "##### We will be using `confint_proportions_2indep` for getting CI of proportions."
   ]
  },
  {
   "cell_type": "code",
   "execution_count": 89,
   "id": "892d6120-6ca1-438d-bd3c-f04b62ba79e4",
   "metadata": {
    "scrolled": true
   },
   "outputs": [
    {
     "data": {
      "text/plain": [
       "\u001b[1;31mSignature:\u001b[0m\n",
       "\u001b[0mconfint_proportions_2indep\u001b[0m\u001b[1;33m(\u001b[0m\u001b[1;33m\n",
       "\u001b[0m    \u001b[0mcount1\u001b[0m\u001b[1;33m,\u001b[0m\u001b[1;33m\n",
       "\u001b[0m    \u001b[0mnobs1\u001b[0m\u001b[1;33m,\u001b[0m\u001b[1;33m\n",
       "\u001b[0m    \u001b[0mcount2\u001b[0m\u001b[1;33m,\u001b[0m\u001b[1;33m\n",
       "\u001b[0m    \u001b[0mnobs2\u001b[0m\u001b[1;33m,\u001b[0m\u001b[1;33m\n",
       "\u001b[0m    \u001b[0mmethod\u001b[0m\u001b[1;33m=\u001b[0m\u001b[1;32mNone\u001b[0m\u001b[1;33m,\u001b[0m\u001b[1;33m\n",
       "\u001b[0m    \u001b[0mcompare\u001b[0m\u001b[1;33m=\u001b[0m\u001b[1;34m'diff'\u001b[0m\u001b[1;33m,\u001b[0m\u001b[1;33m\n",
       "\u001b[0m    \u001b[0malpha\u001b[0m\u001b[1;33m=\u001b[0m\u001b[1;36m0.05\u001b[0m\u001b[1;33m,\u001b[0m\u001b[1;33m\n",
       "\u001b[0m    \u001b[0mcorrection\u001b[0m\u001b[1;33m=\u001b[0m\u001b[1;32mTrue\u001b[0m\u001b[1;33m,\u001b[0m\u001b[1;33m\n",
       "\u001b[0m\u001b[1;33m)\u001b[0m\u001b[1;33m\u001b[0m\u001b[1;33m\u001b[0m\u001b[0m\n",
       "\u001b[1;31mDocstring:\u001b[0m\n",
       "Confidence intervals for comparing two independent proportions.\n",
       "\n",
       "This assumes that we have two independent binomial samples.\n",
       "\n",
       "Parameters\n",
       "----------\n",
       "count1, nobs1 : float\n",
       "    Count and sample size for first sample.\n",
       "count2, nobs2 : float\n",
       "    Count and sample size for the second sample.\n",
       "method : str\n",
       "    Method for computing confidence interval. If method is None, then a\n",
       "    default method is used. The default might change as more methods are\n",
       "    added.\n",
       "\n",
       "    diff:\n",
       "     - 'wald',\n",
       "     - 'agresti-caffo'\n",
       "     - 'newcomb' (default)\n",
       "     - 'score'\n",
       "\n",
       "    ratio:\n",
       "     - 'log'\n",
       "     - 'log-adjusted' (default)\n",
       "     - 'score'\n",
       "\n",
       "    odds-ratio:\n",
       "     - 'logit'\n",
       "     - 'logit-adjusted' (default)\n",
       "     - 'score'\n",
       "\n",
       "compare : string in ['diff', 'ratio' 'odds-ratio']\n",
       "    If compare is diff, then the confidence interval is for diff = p1 - p2.\n",
       "    If compare is ratio, then the confidence interval is for the risk ratio\n",
       "    defined by ratio = p1 / p2.\n",
       "    If compare is odds-ratio, then the confidence interval is for the\n",
       "    odds-ratio defined by or = p1 / (1 - p1) / (p2 / (1 - p2).\n",
       "alpha : float\n",
       "    Significance level for the confidence interval, default is 0.05.\n",
       "    The nominal coverage probability is 1 - alpha.\n",
       "\n",
       "Returns\n",
       "-------\n",
       "low, upp\n",
       "\n",
       "See Also\n",
       "--------\n",
       "test_proportions_2indep\n",
       "tost_proportions_2indep\n",
       "\n",
       "Notes\n",
       "-----\n",
       "Status: experimental, API and defaults might still change.\n",
       "    more ``methods`` will be added.\n",
       "\n",
       "References\n",
       "----------\n",
       ".. [1] Fagerland, Morten W., Stian Lydersen, and Petter Laake. 2015.\n",
       "   “Recommended Confidence Intervals for Two Independent Binomial\n",
       "   Proportions.” Statistical Methods in Medical Research 24 (2): 224–54.\n",
       "   https://doi.org/10.1177/0962280211415469.\n",
       ".. [2] Koopman, P. A. R. 1984. “Confidence Intervals for the Ratio of Two\n",
       "   Binomial Proportions.” Biometrics 40 (2): 513–17.\n",
       "   https://doi.org/10.2307/2531405.\n",
       ".. [3] Miettinen, Olli, and Markku Nurminen. \"Comparative analysis of two\n",
       "   rates.\" Statistics in medicine 4, no. 2 (1985): 213-226.\n",
       ".. [4] Newcombe, Robert G. 1998. “Interval Estimation for the Difference\n",
       "   between Independent Proportions: Comparison of Eleven Methods.”\n",
       "   Statistics in Medicine 17 (8): 873–90.\n",
       "   https://doi.org/10.1002/(SICI)1097-0258(19980430)17:8<873::AID-\n",
       "   SIM779>3.0.CO;2-I.\n",
       ".. [5] Newcombe, Robert G., and Markku M. Nurminen. 2011. “In Defence of\n",
       "   Score Intervals for Proportions and Their Differences.” Communications\n",
       "   in Statistics - Theory and Methods 40 (7): 1271–82.\n",
       "   https://doi.org/10.1080/03610920903576580.\n",
       "\u001b[1;31mFile:\u001b[0m      c:\\users\\vr3n\\codes\\upgrad-maryland-analytics\\upgrad_venv\\lib\\site-packages\\statsmodels\\stats\\proportion.py\n",
       "\u001b[1;31mType:\u001b[0m      function"
      ]
     },
     "metadata": {},
     "output_type": "display_data"
    }
   ],
   "source": [
    "?confint_proportions_2indep"
   ]
  },
  {
   "cell_type": "code",
   "execution_count": 90,
   "id": "5cbd39f1-4a94-4b1c-b1cd-2f5f5a97bf04",
   "metadata": {},
   "outputs": [
    {
     "data": {
      "text/plain": [
       "2500"
      ]
     },
     "execution_count": 90,
     "metadata": {},
     "output_type": "execute_result"
    }
   ],
   "source": [
    "Nc"
   ]
  },
  {
   "cell_type": "code",
   "execution_count": 91,
   "id": "a0084dde-e1db-49d5-b7c1-b8a081a841da",
   "metadata": {},
   "outputs": [],
   "source": [
    "(lower, upper) = confint_proportions_2indep(Sc, Nc, St, Nt, compare='diff', alpha=0.05)"
   ]
  },
  {
   "cell_type": "code",
   "execution_count": 92,
   "id": "f615b3b1-3f51-4b9f-9f04-6233617dc7ea",
   "metadata": {},
   "outputs": [
    {
     "name": "stdout",
     "output_type": "stream",
     "text": [
      "The confidence intervals for proportion is: [-0.032, -0.008]\n"
     ]
    }
   ],
   "source": [
    "print(f\"The confidence intervals for proportion is: [{lower:.3f}, {upper:.3f}]\")"
   ]
  },
  {
   "cell_type": "markdown",
   "id": "c918ce97-44d2-44cf-849a-f87aae272dee",
   "metadata": {
    "id": "e10977ef"
   },
   "source": [
    "### Hypothesis Test for Difference in Proportions"
   ]
  },
  {
   "cell_type": "markdown",
   "id": "46b178d5-4a8a-49c1-9e0b-68a42cbf41d9",
   "metadata": {
    "id": "1fd7487f"
   },
   "source": [
    "\n",
    "\n",
    "Let $p_1$ and $p_2$ be the sample proportions\n",
    "\n",
    "Our null and alternate hypotheses are as follows:\n",
    "\n",
    "$$H_0: p_1-p_2 = 0$$\n",
    "$$H_a: p_1-p_2 \\neq 0$$\n",
    "\n",
    "> This will be a two-sided test, with $\\alpha$ = 0.05"
   ]
  },
  {
   "cell_type": "markdown",
   "id": "2a40ab7b-ba10-4c28-87b9-1add6e87bfbf",
   "metadata": {
    "id": "3cb223bf"
   },
   "source": [
    "We'll be performing this test directly using the methods from `statsmodels` library"
   ]
  },
  {
   "cell_type": "code",
   "execution_count": 94,
   "id": "d2cad297-dcc3-42de-935f-abde0d8fd308",
   "metadata": {
    "id": "ab1f5fb5"
   },
   "outputs": [],
   "source": [
    "from statsmodels.stats.proportion import test_proportions_2indep"
   ]
  },
  {
   "cell_type": "code",
   "execution_count": 95,
   "id": "0250bf33-c0be-42e8-a247-143bd87f33f0",
   "metadata": {
    "id": "cc20df8c",
    "scrolled": true
   },
   "outputs": [
    {
     "data": {
      "text/plain": [
       "\u001b[1;31mSignature:\u001b[0m\n",
       "\u001b[0mtest_proportions_2indep\u001b[0m\u001b[1;33m(\u001b[0m\u001b[1;33m\n",
       "\u001b[0m    \u001b[0mcount1\u001b[0m\u001b[1;33m,\u001b[0m\u001b[1;33m\n",
       "\u001b[0m    \u001b[0mnobs1\u001b[0m\u001b[1;33m,\u001b[0m\u001b[1;33m\n",
       "\u001b[0m    \u001b[0mcount2\u001b[0m\u001b[1;33m,\u001b[0m\u001b[1;33m\n",
       "\u001b[0m    \u001b[0mnobs2\u001b[0m\u001b[1;33m,\u001b[0m\u001b[1;33m\n",
       "\u001b[0m    \u001b[0mvalue\u001b[0m\u001b[1;33m=\u001b[0m\u001b[1;32mNone\u001b[0m\u001b[1;33m,\u001b[0m\u001b[1;33m\n",
       "\u001b[0m    \u001b[0mmethod\u001b[0m\u001b[1;33m=\u001b[0m\u001b[1;32mNone\u001b[0m\u001b[1;33m,\u001b[0m\u001b[1;33m\n",
       "\u001b[0m    \u001b[0mcompare\u001b[0m\u001b[1;33m=\u001b[0m\u001b[1;34m'diff'\u001b[0m\u001b[1;33m,\u001b[0m\u001b[1;33m\n",
       "\u001b[0m    \u001b[0malternative\u001b[0m\u001b[1;33m=\u001b[0m\u001b[1;34m'two-sided'\u001b[0m\u001b[1;33m,\u001b[0m\u001b[1;33m\n",
       "\u001b[0m    \u001b[0mcorrection\u001b[0m\u001b[1;33m=\u001b[0m\u001b[1;32mTrue\u001b[0m\u001b[1;33m,\u001b[0m\u001b[1;33m\n",
       "\u001b[0m    \u001b[0mreturn_results\u001b[0m\u001b[1;33m=\u001b[0m\u001b[1;32mTrue\u001b[0m\u001b[1;33m,\u001b[0m\u001b[1;33m\n",
       "\u001b[0m\u001b[1;33m)\u001b[0m\u001b[1;33m\u001b[0m\u001b[1;33m\u001b[0m\u001b[0m\n",
       "\u001b[1;31mDocstring:\u001b[0m\n",
       "Hypothesis test for comparing two independent proportions\n",
       "\n",
       "This assumes that we have two independent binomial samples.\n",
       "\n",
       "The Null and alternative hypothesis are\n",
       "\n",
       "for compare = 'diff'\n",
       "\n",
       "- H0: prop1 - prop2 - value = 0\n",
       "- H1: prop1 - prop2 - value != 0  if alternative = 'two-sided'\n",
       "- H1: prop1 - prop2 - value > 0   if alternative = 'larger'\n",
       "- H1: prop1 - prop2 - value < 0   if alternative = 'smaller'\n",
       "\n",
       "for compare = 'ratio'\n",
       "\n",
       "- H0: prop1 / prop2 - value = 0\n",
       "- H1: prop1 / prop2 - value != 0  if alternative = 'two-sided'\n",
       "- H1: prop1 / prop2 - value > 0   if alternative = 'larger'\n",
       "- H1: prop1 / prop2 - value < 0   if alternative = 'smaller'\n",
       "\n",
       "for compare = 'odds-ratio'\n",
       "\n",
       "- H0: or - value = 0\n",
       "- H1: or - value != 0  if alternative = 'two-sided'\n",
       "- H1: or - value > 0   if alternative = 'larger'\n",
       "- H1: or - value < 0   if alternative = 'smaller'\n",
       "\n",
       "where odds-ratio or = prop1 / (1 - prop1) / (prop2 / (1 - prop2))\n",
       "\n",
       "Parameters\n",
       "----------\n",
       "count1 : int\n",
       "    Count for first sample.\n",
       "nobs1 : int\n",
       "    Sample size for first sample.\n",
       "count2 : int\n",
       "    Count for the second sample.\n",
       "nobs2 : int\n",
       "    Sample size for the second sample.\n",
       "value : float\n",
       "    Value of the difference, risk ratio or odds ratio of 2 independent\n",
       "    proportions under the null hypothesis.\n",
       "    Default is equal proportions, 0 for diff and 1 for risk-ratio and for\n",
       "    odds-ratio.\n",
       "method : string\n",
       "    Method for computing the hypothesis test. If method is None, then a\n",
       "    default method is used. The default might change as more methods are\n",
       "    added.\n",
       "\n",
       "    diff:\n",
       "\n",
       "    - 'wald',\n",
       "    - 'agresti-caffo'\n",
       "    - 'score' if correction is True, then this uses the degrees of freedom\n",
       "       correction ``nobs / (nobs - 1)`` as in Miettinen Nurminen 1985\n",
       "\n",
       "    ratio:\n",
       "\n",
       "    - 'log': wald test using log transformation\n",
       "    - 'log-adjusted': wald test using log transformation,\n",
       "       adds 0.5 to counts\n",
       "    - 'score': if correction is True, then this uses the degrees of freedom\n",
       "       correction ``nobs / (nobs - 1)`` as in Miettinen Nurminen 1985\n",
       "\n",
       "    odds-ratio:\n",
       "\n",
       "    - 'logit': wald test using logit transformation\n",
       "    - 'logit-adjusted': wald test using logit transformation,\n",
       "       adds 0.5 to counts\n",
       "    - 'logit-smoothed': wald test using logit transformation, biases\n",
       "       cell counts towards independence by adding two observations in\n",
       "       total.\n",
       "    - 'score' if correction is True, then this uses the degrees of freedom\n",
       "       correction ``nobs / (nobs - 1)`` as in Miettinen Nurminen 1985\n",
       "\n",
       "compare : {'diff', 'ratio' 'odds-ratio'}\n",
       "    If compare is `diff`, then the hypothesis test is for the risk\n",
       "    difference diff = p1 - p2.\n",
       "    If compare is `ratio`, then the hypothesis test is for the\n",
       "    risk ratio defined by ratio = p1 / p2.\n",
       "    If compare is `odds-ratio`, then the hypothesis test is for the\n",
       "    odds-ratio defined by or = p1 / (1 - p1) / (p2 / (1 - p2)\n",
       "alternative : {'two-sided', 'smaller', 'larger'}\n",
       "    alternative hypothesis, which can be two-sided or either one of the\n",
       "    one-sided tests.\n",
       "correction : bool\n",
       "    If correction is True (default), then the Miettinen and Nurminen\n",
       "    small sample correction to the variance nobs / (nobs - 1) is used.\n",
       "    Applies only if method='score'.\n",
       "return_results : bool\n",
       "    If true, then a results instance with extra information is returned,\n",
       "    otherwise a tuple with statistic and pvalue is returned.\n",
       "\n",
       "Returns\n",
       "-------\n",
       "results : results instance or tuple\n",
       "    If return_results is True, then a results instance with the\n",
       "    information in attributes is returned.\n",
       "    If return_results is False, then only ``statistic`` and ``pvalue``\n",
       "    are returned.\n",
       "\n",
       "    statistic : float\n",
       "        test statistic asymptotically normal distributed N(0, 1)\n",
       "    pvalue : float\n",
       "        p-value based on normal distribution\n",
       "    other attributes :\n",
       "        additional information about the hypothesis test\n",
       "\n",
       "See Also\n",
       "--------\n",
       "tost_proportions_2indep\n",
       "confint_proportions_2indep\n",
       "\n",
       "Notes\n",
       "-----\n",
       "Status: experimental, API and defaults might still change.\n",
       "    More ``methods`` will be added.\n",
       "\n",
       "The current default methods are\n",
       "\n",
       "- 'diff': 'agresti-caffo',\n",
       "- 'ratio': 'log-adjusted',\n",
       "- 'odds-ratio': 'logit-adjusted'\n",
       "\u001b[1;31mFile:\u001b[0m      c:\\users\\vr3n\\codes\\upgrad-maryland-analytics\\upgrad_venv\\lib\\site-packages\\statsmodels\\stats\\proportion.py\n",
       "\u001b[1;31mType:\u001b[0m      function"
      ]
     },
     "metadata": {},
     "output_type": "display_data"
    }
   ],
   "source": [
    "?test_proportions_2indep"
   ]
  },
  {
   "cell_type": "markdown",
   "id": "8be4ba79-3438-4aee-bdcf-19abbb32cbfd",
   "metadata": {},
   "source": [
    "## The inputs will be\n",
    "\n",
    "- Sc (Members of control group who preferred old brand)\n",
    "- Nc (Sample size of control group)\n",
    "- St (Members of treatment group who preferred new brand)\n",
    "- Nt (Sample size of treatment group)\n",
    "- alternative = 'two-sided' (We want to check differece in proportions)\n",
    "- compare = 'diff'  (We want to check differece in proportions )"
   ]
  },
  {
   "cell_type": "code",
   "execution_count": 98,
   "id": "b4fa5bcb-5911-4191-8d8e-96f15b143e93",
   "metadata": {},
   "outputs": [],
   "source": [
    "z_stat, pval = test_proportions_2indep(Sc, Nc, St, Nt, compare='diff', alternative='two-sided')"
   ]
  },
  {
   "cell_type": "code",
   "execution_count": 103,
   "id": "2628088d-0780-41a0-bb98-6a8030453511",
   "metadata": {},
   "outputs": [
    {
     "name": "stdout",
     "output_type": "stream",
     "text": [
      "The z-statistic is: -3.24\n"
     ]
    }
   ],
   "source": [
    "print(f\"The z-statistic is: {z_stat:.2f}\")"
   ]
  },
  {
   "cell_type": "code",
   "execution_count": 106,
   "id": "7a9438d2-eea5-43a8-bf23-0605a2360e8b",
   "metadata": {},
   "outputs": [
    {
     "name": "stdout",
     "output_type": "stream",
     "text": [
      "The p-val is: 0.001\n"
     ]
    }
   ],
   "source": [
    "print(f\"The p-val is: {pval:.3f}\")"
   ]
  },
  {
   "cell_type": "code",
   "execution_count": 107,
   "id": "0cb75aa6-ec4b-45b9-969e-a7e6868c31e0",
   "metadata": {},
   "outputs": [
    {
     "data": {
      "text/plain": [
       "True"
      ]
     },
     "execution_count": 107,
     "metadata": {},
     "output_type": "execute_result"
    }
   ],
   "source": [
    "pval < alpha"
   ]
  },
  {
   "cell_type": "markdown",
   "id": "a3663825-90f4-4255-adbc-2ef0f5ef967b",
   "metadata": {},
   "source": [
    "### Question 4\n",
    "\n",
    "What is the 95% confidence interval for the difference in the retention rates for the control and treatment groups?\r\n",
    "\r\n"
   ]
  },
  {
   "cell_type": "code",
   "execution_count": null,
   "id": "7ba9917c-a902-4d9f-bc81-a2eddce6c2ad",
   "metadata": {},
   "outputs": [],
   "source": []
  }
 ],
 "metadata": {
  "kernelspec": {
   "display_name": "Python 3 (ipykernel)",
   "language": "python",
   "name": "python3"
  },
  "language_info": {
   "codemirror_mode": {
    "name": "ipython",
    "version": 3
   },
   "file_extension": ".py",
   "mimetype": "text/x-python",
   "name": "python",
   "nbconvert_exporter": "python",
   "pygments_lexer": "ipython3",
   "version": "3.10.11"
  }
 },
 "nbformat": 4,
 "nbformat_minor": 5
}
