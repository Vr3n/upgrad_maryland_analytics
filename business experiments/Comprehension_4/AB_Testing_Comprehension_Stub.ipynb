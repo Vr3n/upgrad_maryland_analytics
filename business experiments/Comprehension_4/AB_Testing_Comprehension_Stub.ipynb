{
  "cells": [
    {
      "cell_type": "markdown",
      "metadata": {
        "id": "0tZbzzHyEFuJ"
      },
      "source": [
        "# Problem Statement\n",
        "The file 'App_Retention.csv' contains the results of an experiment where two versions of a mobile app are compared. The objective is to increase mobile app retention rates by reducing the frequency of mobile app notifications from 5 or more times per day to exactly 2 times per day. Users using this mobile app are randomly assigned to a control (old set-up) or treatment (new set-up) group. The variable 'Treat' identifies how each user is assigned. A retention occurs if a user goes on without uninstalling the app in which case we have Retention = 1, if not, Retention = 0."
      ],
      "id": "0tZbzzHyEFuJ"
    },
    {
      "cell_type": "markdown",
      "metadata": {
        "id": "6T8zXEl0EFuQ"
      },
      "source": [
        "# Task 1 - Data Preparation\n",
        "For this task, you will perform the following steps:\n",
        "- Load all the necessary packages for this exercise\n",
        "- Load the data"
      ],
      "id": "6T8zXEl0EFuQ"
    },
    {
      "cell_type": "code",
      "execution_count": 1,
      "metadata": {
        "id": "CuiWPtZTEFuS"
      },
      "outputs": [],
      "source": [
        "##Import the libraries\n"
      ],
      "id": "CuiWPtZTEFuS"
    },
    {
      "cell_type": "code",
      "execution_count": 1,
      "metadata": {
        "id": "zUy8pfd9EFuU"
      },
      "outputs": [],
      "source": [],
      "id": "zUy8pfd9EFuU"
    },
    {
      "cell_type": "code",
      "execution_count": 2,
      "metadata": {
        "id": "73vXd0jJEFuV"
      },
      "outputs": [],
      "source": [
        "##Load the dataset\n"
      ],
      "id": "73vXd0jJEFuV"
    },
    {
      "cell_type": "markdown",
      "metadata": {
        "id": "A4BDqfL8EFuY"
      },
      "source": [
        "# Task 2 - Exploratory Data Analysis\n",
        "For this task, you will perform the following steps:\n",
        "- Analyze the people in the control and treatment groups who do and do not retain the app and visualize the results using a barplot\n",
        "- Obtain retention summary statistics for the control and treatment groups"
      ],
      "id": "A4BDqfL8EFuY"
    },
    {
      "cell_type": "code",
      "execution_count": 2,
      "metadata": {
        "id": "atdDIfm1EFua"
      },
      "outputs": [],
      "source": [],
      "id": "atdDIfm1EFua"
    },
    {
      "cell_type": "markdown",
      "metadata": {
        "id": "67zjV3kfEFub"
      },
      "source": [
        "Next, we can visualize these results using a bar plot"
      ],
      "id": "67zjV3kfEFub"
    },
    {
      "cell_type": "code",
      "execution_count": 2,
      "metadata": {
        "id": "zB1oPxXbEFuc"
      },
      "outputs": [],
      "source": [],
      "id": "zB1oPxXbEFuc"
    },
    {
      "cell_type": "markdown",
      "metadata": {
        "id": "l1MLjYcpEFud"
      },
      "source": [
        "We can also check the visualize retention rates for each of the groups"
      ],
      "id": "l1MLjYcpEFud"
    },
    {
      "cell_type": "code",
      "execution_count": 2,
      "metadata": {
        "scrolled": false,
        "id": "8nvV-h1UEFue"
      },
      "outputs": [],
      "source": [],
      "id": "8nvV-h1UEFue"
    },
    {
      "cell_type": "code",
      "execution_count": 3,
      "metadata": {
        "scrolled": true,
        "id": "twkqvteBEFuf"
      },
      "outputs": [],
      "source": [
        "##Take control group in a separate DataFrame\n"
      ],
      "id": "twkqvteBEFuf"
    },
    {
      "cell_type": "code",
      "execution_count": 4,
      "metadata": {
        "id": "1XcEfYAREFug"
      },
      "outputs": [],
      "source": [
        "##Let's look at a few additional retention statistics for the control group\n"
      ],
      "id": "1XcEfYAREFug"
    },
    {
      "cell_type": "code",
      "execution_count": 5,
      "metadata": {
        "id": "i6NJ0PvfEFui"
      },
      "outputs": [],
      "source": [
        "##Take treatment group in a separate DataFrame\n"
      ],
      "id": "i6NJ0PvfEFui"
    },
    {
      "cell_type": "code",
      "execution_count": 6,
      "metadata": {
        "id": "cS_ZHecaEFuj"
      },
      "outputs": [],
      "source": [
        "##Let's look at a few additional retention statistics for the treatment group\n"
      ],
      "id": "cS_ZHecaEFuj"
    },
    {
      "cell_type": "markdown",
      "metadata": {
        "id": "7ZVEOUk-EFuk"
      },
      "source": [
        "# Task 3 - Perform the test\n",
        "For this task, you will perform the following steps:\n",
        "- Perform a two-sample hypothesis test for differences in proportion\n",
        "- Estimate the confidence intervals at 5% level of significance"
      ],
      "id": "7ZVEOUk-EFuk"
    },
    {
      "cell_type": "markdown",
      "metadata": {
        "id": "mgeiZcIfEFuk"
      },
      "source": [
        "Perform the hypothesis test using statmodels in Python.\n",
        "Difference in rates are computed as control minus treatment. So a negative value indicates an increase in retention rates."
      ],
      "id": "mgeiZcIfEFuk"
    },
    {
      "cell_type": "code",
      "execution_count": 7,
      "metadata": {
        "id": "ABw9pvz8EFul"
      },
      "outputs": [],
      "source": [
        "##Import the library and methods\n"
      ],
      "id": "ABw9pvz8EFul"
    },
    {
      "cell_type": "code",
      "execution_count": 8,
      "metadata": {
        "id": "MlzGWE8bEFum"
      },
      "outputs": [],
      "source": [
        "## Input values\n",
        "\n",
        "##No. of successes in control group\n",
        "## No of samples in control group. \n",
        "\n",
        "##No. of successes in treatment group\n",
        "## No of samples in treatment group."
      ],
      "id": "MlzGWE8bEFum"
    },
    {
      "cell_type": "code",
      "execution_count": 9,
      "metadata": {
        "id": "qnBwzvS6EFum"
      },
      "outputs": [],
      "source": [
        "##Calculate the Z-Statistic and p-value\n",
        "# Note: Use çompare = 'diff' and alternative='two-sided'\n"
      ],
      "id": "qnBwzvS6EFum"
    },
    {
      "cell_type": "code",
      "execution_count": 10,
      "metadata": {
        "id": "PGuv1HnKEFu7"
      },
      "outputs": [],
      "source": [
        "##Calculate the confidence interval\n",
        "# Note: Use 'alpha = 0.05' and 'çompare = 'diff'\n"
      ],
      "id": "PGuv1HnKEFu7"
    },
    {
      "cell_type": "code",
      "execution_count": 11,
      "metadata": {
        "scrolled": true,
        "id": "1nKS69rLEFu8"
      },
      "outputs": [],
      "source": [
        "## Print the results\n"
      ],
      "id": "1nKS69rLEFu8"
    }
  ],
  "metadata": {
    "kernelspec": {
      "display_name": "Python 3",
      "language": "python",
      "name": "python3"
    },
    "language_info": {
      "codemirror_mode": {
        "name": "ipython",
        "version": 3
      },
      "file_extension": ".py",
      "mimetype": "text/x-python",
      "name": "python",
      "nbconvert_exporter": "python",
      "pygments_lexer": "ipython3",
      "version": "3.8.5"
    },
    "colab": {
      "provenance": []
    }
  },
  "nbformat": 4,
  "nbformat_minor": 5
}