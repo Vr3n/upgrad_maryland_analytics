{
 "cells": [
  {
   "cell_type": "markdown",
   "id": "87147bcb",
   "metadata": {},
   "source": [
    "### Graded Questions\n",
    "\n",
    "An experiment was conducted to compare the memory effects of 2 drugs—\"Alprazolam\" and \"Triazolam\".\n",
    "\n",
    "Historically, it has been observed that Alprazolam has significant short-term and long-term memory effects on the patients that it is adminstered on. \n",
    "\n",
    "In this experiment, we want to test if Triazolam produces similar or more pronounced effects.\n",
    "\n",
    "\n",
    "**Short-Term Memory Effect Test**\n",
    "\n",
    "A total of 198 patients were selected for the experiment. Before the experiment, the subjects were required to take a memory test, and the scores were recorded (`Mem_Score_Before`). The subjects were then given the triazolam pill. After being administered the pill, the subjects were asked to take the memory test again, and the scores were recorded (`Mem_Score_After`). The difference between the two scores were also recorded(`Diff`)\n",
    "\n",
    "\n",
    "**Long-Term Memory Effect Test**\n",
    "\n",
    "The patients would then be subjected to one memory test each day for a period of 10 days. If the average scores improved by 20% for a patient, then we would consider that a long-term memory effect has been observed in the patient. The long term effect has been recorded in the column `Long_term` where 1 indicates that a long term effect has been observed, whereas 0 indicates that a long term effect hasn't been observed. \n",
    "\n",
    "\n"
   ]
  },
  {
   "cell_type": "code",
   "execution_count": 1,
   "id": "95689e06",
   "metadata": {},
   "outputs": [],
   "source": [
    "### Import the necessary libraries\n",
    "import pandas as pd\n",
    "import numpy as np"
   ]
  },
  {
   "cell_type": "code",
   "execution_count": 2,
   "id": "b63a4a63",
   "metadata": {},
   "outputs": [],
   "source": [
    "## Load the dataset\n",
    "df = pd.read_csv(\"graded.csv\")"
   ]
  },
  {
   "cell_type": "code",
   "execution_count": 3,
   "id": "2bc8f1a8",
   "metadata": {},
   "outputs": [
    {
     "data": {
      "text/html": [
       "<div>\n",
       "<style scoped>\n",
       "    .dataframe tbody tr th:only-of-type {\n",
       "        vertical-align: middle;\n",
       "    }\n",
       "\n",
       "    .dataframe tbody tr th {\n",
       "        vertical-align: top;\n",
       "    }\n",
       "\n",
       "    .dataframe thead th {\n",
       "        text-align: right;\n",
       "    }\n",
       "</style>\n",
       "<table border=\"1\" class=\"dataframe\">\n",
       "  <thead>\n",
       "    <tr style=\"text-align: right;\">\n",
       "      <th></th>\n",
       "      <th>first_name</th>\n",
       "      <th>last_name</th>\n",
       "      <th>Mem_Score_Before</th>\n",
       "      <th>Mem_Score_After</th>\n",
       "      <th>Diff</th>\n",
       "      <th>Long_term</th>\n",
       "    </tr>\n",
       "  </thead>\n",
       "  <tbody>\n",
       "    <tr>\n",
       "      <th>0</th>\n",
       "      <td>Bastian</td>\n",
       "      <td>Carrasco</td>\n",
       "      <td>63.5</td>\n",
       "      <td>61.2</td>\n",
       "      <td>-2.3</td>\n",
       "      <td>0</td>\n",
       "    </tr>\n",
       "    <tr>\n",
       "      <th>1</th>\n",
       "      <td>Evan</td>\n",
       "      <td>Carrasco</td>\n",
       "      <td>41.6</td>\n",
       "      <td>40.7</td>\n",
       "      <td>-0.9</td>\n",
       "      <td>0</td>\n",
       "    </tr>\n",
       "    <tr>\n",
       "      <th>2</th>\n",
       "      <td>Florencia</td>\n",
       "      <td>Carrasco</td>\n",
       "      <td>59.7</td>\n",
       "      <td>55.1</td>\n",
       "      <td>-4.6</td>\n",
       "      <td>0</td>\n",
       "    </tr>\n",
       "    <tr>\n",
       "      <th>3</th>\n",
       "      <td>Holly</td>\n",
       "      <td>Carrasco</td>\n",
       "      <td>51.7</td>\n",
       "      <td>51.2</td>\n",
       "      <td>-0.5</td>\n",
       "      <td>0</td>\n",
       "    </tr>\n",
       "    <tr>\n",
       "      <th>4</th>\n",
       "      <td>Justin</td>\n",
       "      <td>Carrasco</td>\n",
       "      <td>47.0</td>\n",
       "      <td>47.1</td>\n",
       "      <td>0.1</td>\n",
       "      <td>1</td>\n",
       "    </tr>\n",
       "  </tbody>\n",
       "</table>\n",
       "</div>"
      ],
      "text/plain": [
       "  first_name last_name  Mem_Score_Before  Mem_Score_After  Diff  Long_term\n",
       "0    Bastian  Carrasco              63.5             61.2  -2.3          0\n",
       "1       Evan  Carrasco              41.6             40.7  -0.9          0\n",
       "2  Florencia  Carrasco              59.7             55.1  -4.6          0\n",
       "3      Holly  Carrasco              51.7             51.2  -0.5          0\n",
       "4     Justin  Carrasco              47.0             47.1   0.1          1"
      ]
     },
     "execution_count": 3,
     "metadata": {},
     "output_type": "execute_result"
    }
   ],
   "source": [
    "## Check the top 5 rows\n",
    "df.head()"
   ]
  },
  {
   "cell_type": "markdown",
   "id": "d34fa76a",
   "metadata": {},
   "source": [
    "#### Question 1 \n",
    "\n",
    "What is the average difference in scores between `Mem_Score_After` and `Mem_Score_Before` for all the patients?"
   ]
  },
  {
   "cell_type": "code",
   "execution_count": 4,
   "id": "4a7a6429",
   "metadata": {},
   "outputs": [
    {
     "data": {
      "text/plain": [
       "2.9545454545454533"
      ]
     },
     "execution_count": 4,
     "metadata": {},
     "output_type": "execute_result"
    }
   ],
   "source": [
    "#### Calculate the average of the \"Diff\" column\n",
    "df['Diff'].mean()"
   ]
  },
  {
   "cell_type": "markdown",
   "id": "61eb49a7",
   "metadata": {},
   "source": [
    "#### Question 2\n",
    "\n",
    "You want to test if there is a short term memory effect of the drug \"Triazolam\". For this you formulated the following hypotheses:\n",
    "\n",
    "\n",
    "> Let $\\mu_d$ denote the difference in average scores for the patients\n",
    "\n",
    "> Our hypotheses will be\n",
    "\n",
    "$$H_0: \\mu_d = 0$$\n",
    "$$H_a: \\mu_d \\neq 0$$\n",
    "\n",
    "> This will still be a two-sided test, with $\\alpha$ = 0.05\n",
    "\n",
    "Perform a one-sample t-test and conclude whether there's an effect of the drug."
   ]
  },
  {
   "cell_type": "code",
   "execution_count": 7,
   "id": "e21d661e",
   "metadata": {},
   "outputs": [],
   "source": [
    "## Load the necessary libraries\n",
    "from scipy.stats import ttest_1samp"
   ]
  },
  {
   "cell_type": "code",
   "execution_count": 8,
   "id": "c5c3558b",
   "metadata": {
    "scrolled": true
   },
   "outputs": [
    {
     "data": {
      "text/plain": [
       "\u001b[1;31mSignature:\u001b[0m\n",
       "\u001b[0mttest_1samp\u001b[0m\u001b[1;33m(\u001b[0m\u001b[1;33m\n",
       "\u001b[0m    \u001b[0ma\u001b[0m\u001b[1;33m,\u001b[0m\u001b[1;33m\n",
       "\u001b[0m    \u001b[0mpopmean\u001b[0m\u001b[1;33m,\u001b[0m\u001b[1;33m\n",
       "\u001b[0m    \u001b[0maxis\u001b[0m\u001b[1;33m=\u001b[0m\u001b[1;36m0\u001b[0m\u001b[1;33m,\u001b[0m\u001b[1;33m\n",
       "\u001b[0m    \u001b[0mnan_policy\u001b[0m\u001b[1;33m=\u001b[0m\u001b[1;34m'propagate'\u001b[0m\u001b[1;33m,\u001b[0m\u001b[1;33m\n",
       "\u001b[0m    \u001b[0malternative\u001b[0m\u001b[1;33m=\u001b[0m\u001b[1;34m'two-sided'\u001b[0m\u001b[1;33m,\u001b[0m\u001b[1;33m\n",
       "\u001b[0m    \u001b[1;33m*\u001b[0m\u001b[1;33m,\u001b[0m\u001b[1;33m\n",
       "\u001b[0m    \u001b[0mkeepdims\u001b[0m\u001b[1;33m=\u001b[0m\u001b[1;32mFalse\u001b[0m\u001b[1;33m,\u001b[0m\u001b[1;33m\n",
       "\u001b[0m\u001b[1;33m)\u001b[0m\u001b[1;33m\u001b[0m\u001b[1;33m\u001b[0m\u001b[0m\n",
       "\u001b[1;31mDocstring:\u001b[0m\n",
       "Calculate the T-test for the mean of ONE group of scores.\n",
       "\n",
       "This is a test for the null hypothesis that the expected value\n",
       "(mean) of a sample of independent observations `a` is equal to the given\n",
       "population mean, `popmean`.\n",
       "\n",
       "Parameters\n",
       "----------\n",
       "a : array_like\n",
       "    Sample observation.\n",
       "popmean : float or array_like\n",
       "    Expected value in null hypothesis. If array_like, then its length along\n",
       "    `axis` must equal 1, and it must otherwise be broadcastable with `a`.\n",
       "axis : int or None, default: 0\n",
       "    If an int, the axis of the input along which to compute the statistic.\n",
       "    The statistic of each axis-slice (e.g. row) of the input will appear in a\n",
       "    corresponding element of the output.\n",
       "    If ``None``, the input will be raveled before computing the statistic.\n",
       "nan_policy : {'propagate', 'omit', 'raise'}\n",
       "    Defines how to handle input NaNs.\n",
       "    \n",
       "    - ``propagate``: if a NaN is present in the axis slice (e.g. row) along\n",
       "      which the  statistic is computed, the corresponding entry of the output\n",
       "      will be NaN.\n",
       "    - ``omit``: NaNs will be omitted when performing the calculation.\n",
       "      If insufficient data remains in the axis slice along which the\n",
       "      statistic is computed, the corresponding entry of the output will be\n",
       "      NaN.\n",
       "    - ``raise``: if a NaN is present, a ``ValueError`` will be raised.\n",
       "alternative : {'two-sided', 'less', 'greater'}, optional\n",
       "    Defines the alternative hypothesis.\n",
       "    The following options are available (default is 'two-sided'):\n",
       "    \n",
       "    * 'two-sided': the mean of the underlying distribution of the sample\n",
       "      is different than the given population mean (`popmean`)\n",
       "    * 'less': the mean of the underlying distribution of the sample is\n",
       "      less than the given population mean (`popmean`)\n",
       "    * 'greater': the mean of the underlying distribution of the sample is\n",
       "      greater than the given population mean (`popmean`)\n",
       "keepdims : bool, default: False\n",
       "    If this is set to True, the axes which are reduced are left\n",
       "    in the result as dimensions with size one. With this option,\n",
       "    the result will broadcast correctly against the input array.\n",
       "\n",
       "Returns\n",
       "-------\n",
       "result : `~scipy.stats._result_classes.TtestResult`\n",
       "    An object with the following attributes:\n",
       "    \n",
       "    statistic : float or array\n",
       "        The t-statistic.\n",
       "    pvalue : float or array\n",
       "        The p-value associated with the given alternative.\n",
       "    df : float or array\n",
       "        The number of degrees of freedom used in calculation of the\n",
       "        t-statistic; this is one less than the size of the sample\n",
       "        (``a.shape[axis]``).\n",
       "    \n",
       "        .. versionadded:: 1.10.0\n",
       "    \n",
       "    The object also has the following method:\n",
       "    \n",
       "    confidence_interval(confidence_level=0.95)\n",
       "        Computes a confidence interval around the population\n",
       "        mean for the given confidence level.\n",
       "        The confidence interval is returned in a ``namedtuple`` with\n",
       "        fields `low` and `high`.\n",
       "    \n",
       "        .. versionadded:: 1.10.0\n",
       "\n",
       "Notes\n",
       "-----\n",
       "The statistic is calculated as ``(np.mean(a) - popmean)/se``, where\n",
       "``se`` is the standard error. Therefore, the statistic will be positive\n",
       "when the sample mean is greater than the population mean and negative when\n",
       "the sample mean is less than the population mean.\n",
       "\n",
       "Beginning in SciPy 1.9, ``np.matrix`` inputs (not recommended for new\n",
       "code) are converted to ``np.ndarray`` before the calculation is performed. In\n",
       "this case, the output will be a scalar or ``np.ndarray`` of appropriate shape\n",
       "rather than a 2D ``np.matrix``. Similarly, while masked elements of masked\n",
       "arrays are ignored, the output will be a scalar or ``np.ndarray`` rather than a\n",
       "masked array with ``mask=False``.\n",
       "\n",
       "Examples\n",
       "--------\n",
       "Suppose we wish to test the null hypothesis that the mean of a population\n",
       "is equal to 0.5. We choose a confidence level of 99%; that is, we will\n",
       "reject the null hypothesis in favor of the alternative if the p-value is\n",
       "less than 0.01.\n",
       "\n",
       "When testing random variates from the standard uniform distribution, which\n",
       "has a mean of 0.5, we expect the data to be consistent with the null\n",
       "hypothesis most of the time.\n",
       "\n",
       ">>> import numpy as np\n",
       ">>> from scipy import stats\n",
       ">>> rng = np.random.default_rng()\n",
       ">>> rvs = stats.uniform.rvs(size=50, random_state=rng)\n",
       ">>> stats.ttest_1samp(rvs, popmean=0.5)\n",
       "TtestResult(statistic=2.456308468440, pvalue=0.017628209047638, df=49)\n",
       "\n",
       "As expected, the p-value of 0.017 is not below our threshold of 0.01, so\n",
       "we cannot reject the null hypothesis.\n",
       "\n",
       "When testing data from the standard *normal* distribution, which has a mean\n",
       "of 0, we would expect the null hypothesis to be rejected.\n",
       "\n",
       ">>> rvs = stats.norm.rvs(size=50, random_state=rng)\n",
       ">>> stats.ttest_1samp(rvs, popmean=0.5)\n",
       "TtestResult(statistic=-7.433605518875, pvalue=1.416760157221e-09, df=49)\n",
       "\n",
       "Indeed, the p-value is lower than our threshold of 0.01, so we reject the\n",
       "null hypothesis in favor of the default \"two-sided\" alternative: the mean\n",
       "of the population is *not* equal to 0.5.\n",
       "\n",
       "However, suppose we were to test the null hypothesis against the\n",
       "one-sided alternative that the mean of the population is *greater* than\n",
       "0.5. Since the mean of the standard normal is less than 0.5, we would not\n",
       "expect the null hypothesis to be rejected.\n",
       "\n",
       ">>> stats.ttest_1samp(rvs, popmean=0.5, alternative='greater')\n",
       "TtestResult(statistic=-7.433605518875, pvalue=0.99999999929, df=49)\n",
       "\n",
       "Unsurprisingly, with a p-value greater than our threshold, we would not\n",
       "reject the null hypothesis.\n",
       "\n",
       "Note that when working with a confidence level of 99%, a true null\n",
       "hypothesis will be rejected approximately 1% of the time.\n",
       "\n",
       ">>> rvs = stats.uniform.rvs(size=(100, 50), random_state=rng)\n",
       ">>> res = stats.ttest_1samp(rvs, popmean=0.5, axis=1)\n",
       ">>> np.sum(res.pvalue < 0.01)\n",
       "1\n",
       "\n",
       "Indeed, even though all 100 samples above were drawn from the standard\n",
       "uniform distribution, which *does* have a population mean of 0.5, we would\n",
       "mistakenly reject the null hypothesis for one of them.\n",
       "\n",
       "`ttest_1samp` can also compute a confidence interval around the population\n",
       "mean.\n",
       "\n",
       ">>> rvs = stats.norm.rvs(size=50, random_state=rng)\n",
       ">>> res = stats.ttest_1samp(rvs, popmean=0)\n",
       ">>> ci = res.confidence_interval(confidence_level=0.95)\n",
       ">>> ci\n",
       "ConfidenceInterval(low=-0.3193887540880017, high=0.2898583388980972)\n",
       "\n",
       "The bounds of the 95% confidence interval are the\n",
       "minimum and maximum values of the parameter `popmean` for which the\n",
       "p-value of the test would be 0.05.\n",
       "\n",
       ">>> res = stats.ttest_1samp(rvs, popmean=ci.low)\n",
       ">>> np.testing.assert_allclose(res.pvalue, 0.05)\n",
       ">>> res = stats.ttest_1samp(rvs, popmean=ci.high)\n",
       ">>> np.testing.assert_allclose(res.pvalue, 0.05)\n",
       "\n",
       "Under certain assumptions about the population from which a sample\n",
       "is drawn, the confidence interval with confidence level 95% is expected\n",
       "to contain the true population mean in 95% of sample replications.\n",
       "\n",
       ">>> rvs = stats.norm.rvs(size=(50, 1000), loc=1, random_state=rng)\n",
       ">>> res = stats.ttest_1samp(rvs, popmean=0)\n",
       ">>> ci = res.confidence_interval()\n",
       ">>> contains_pop_mean = (ci.low < 1) & (ci.high > 1)\n",
       ">>> contains_pop_mean.sum()\n",
       "953\n",
       "\u001b[1;31mFile:\u001b[0m      c:\\users\\vr3n\\codes\\upgrad-maryland-analytics\\upgrad_venv\\lib\\site-packages\\scipy\\stats\\_stats_py.py\n",
       "\u001b[1;31mType:\u001b[0m      function"
      ]
     },
     "metadata": {},
     "output_type": "display_data"
    }
   ],
   "source": [
    "## Check the documentation\n",
    "?ttest_1samp"
   ]
  },
  {
   "cell_type": "code",
   "execution_count": 9,
   "id": "39120678",
   "metadata": {},
   "outputs": [],
   "source": [
    "### Write the code for running a one-sample t-test on the \"Diff\" column\n",
    "### Hint - Check what parameters you need to pass\n",
    "### You should pass the \"Diff\" column\n",
    "### You should pass the population mean or \"popmean\" as 0\n",
    "z_value, pvalue = ttest_1samp(df['Diff'], popmean=0)"
   ]
  },
  {
   "cell_type": "code",
   "execution_count": 11,
   "id": "b7a3fa12-abee-4e03-a31f-1f5e9da708fb",
   "metadata": {},
   "outputs": [
    {
     "name": "stdout",
     "output_type": "stream",
     "text": [
      "The z-statistic is: 3.87\n"
     ]
    }
   ],
   "source": [
    "print(f\"The z-statistic is: {z_value:.2f}\")"
   ]
  },
  {
   "cell_type": "code",
   "execution_count": 15,
   "id": "db4e7bd6-e331-4aa6-aee1-77167947cd9b",
   "metadata": {},
   "outputs": [
    {
     "name": "stdout",
     "output_type": "stream",
     "text": [
      "The p-value is: 0.00015\n"
     ]
    }
   ],
   "source": [
    "print(f\"The p-value is: {pvalue:.5f}\")"
   ]
  },
  {
   "cell_type": "markdown",
   "id": "2c008266",
   "metadata": {},
   "source": [
    "#### Question 3\n",
    "\n",
    "What is the number of patients from the given sample who have shown long term effects for the drug 'Triazolam?\n",
    "\n",
    "Hint - Check the number of patients for whom the `Long_term` value is 1 "
   ]
  },
  {
   "cell_type": "code",
   "execution_count": 18,
   "id": "a6aaf063",
   "metadata": {},
   "outputs": [
    {
     "data": {
      "text/plain": [
       "100"
      ]
     },
     "execution_count": 18,
     "metadata": {},
     "output_type": "execute_result"
    }
   ],
   "source": [
    "#### Write the code here\n",
    "df[df['Long_term'] == 1]['Long_term'].sum()"
   ]
  },
  {
   "cell_type": "markdown",
   "id": "4c758cf3",
   "metadata": {},
   "source": [
    "#### Question 4\n",
    "\n",
    "Earlier when the memory effects for the drug \"Alprazolam\" were tested for a similar group of patients (198), it has been observed that around 79 patients showed long term effects.\n",
    "\n",
    "Does Triazolam have similar or different effects? Perform the necessary hypothesis test to arrive at the conclusion\n",
    "\n",
    "Note - Take 0.05 significance level"
   ]
  },
  {
   "cell_type": "code",
   "execution_count": 22,
   "id": "9d89e22d",
   "metadata": {},
   "outputs": [],
   "source": [
    "### You can use the following values\n",
    "\n",
    "Sc = 79 ## Number of patients who showed long-term effects for \"Alprazolam\"\n",
    "Nc = 198 ## Total number of patients who were part of the \"Alprazolam\" experiment\n",
    "\n",
    "St = 100 ### Number of patients who showed long-term effects for \"Triazolam\".\n",
    "### Calculate this number by counting the number of 1s in the column 'Long_term'\n",
    "\n",
    "Nt = 198 ## Total number of patients who were part of the \"Triazolam\" experiment"
   ]
  },
  {
   "cell_type": "code",
   "execution_count": 23,
   "id": "3811cec2",
   "metadata": {},
   "outputs": [],
   "source": [
    "### Import the necessary libraries and the method\n",
    "from statsmodels.stats.proportion import test_proportions_2indep"
   ]
  },
  {
   "cell_type": "code",
   "execution_count": 24,
   "id": "558dfb2a",
   "metadata": {
    "scrolled": true
   },
   "outputs": [
    {
     "data": {
      "text/plain": [
       "\u001b[1;31mSignature:\u001b[0m\n",
       "\u001b[0mtest_proportions_2indep\u001b[0m\u001b[1;33m(\u001b[0m\u001b[1;33m\n",
       "\u001b[0m    \u001b[0mcount1\u001b[0m\u001b[1;33m,\u001b[0m\u001b[1;33m\n",
       "\u001b[0m    \u001b[0mnobs1\u001b[0m\u001b[1;33m,\u001b[0m\u001b[1;33m\n",
       "\u001b[0m    \u001b[0mcount2\u001b[0m\u001b[1;33m,\u001b[0m\u001b[1;33m\n",
       "\u001b[0m    \u001b[0mnobs2\u001b[0m\u001b[1;33m,\u001b[0m\u001b[1;33m\n",
       "\u001b[0m    \u001b[0mvalue\u001b[0m\u001b[1;33m=\u001b[0m\u001b[1;32mNone\u001b[0m\u001b[1;33m,\u001b[0m\u001b[1;33m\n",
       "\u001b[0m    \u001b[0mmethod\u001b[0m\u001b[1;33m=\u001b[0m\u001b[1;32mNone\u001b[0m\u001b[1;33m,\u001b[0m\u001b[1;33m\n",
       "\u001b[0m    \u001b[0mcompare\u001b[0m\u001b[1;33m=\u001b[0m\u001b[1;34m'diff'\u001b[0m\u001b[1;33m,\u001b[0m\u001b[1;33m\n",
       "\u001b[0m    \u001b[0malternative\u001b[0m\u001b[1;33m=\u001b[0m\u001b[1;34m'two-sided'\u001b[0m\u001b[1;33m,\u001b[0m\u001b[1;33m\n",
       "\u001b[0m    \u001b[0mcorrection\u001b[0m\u001b[1;33m=\u001b[0m\u001b[1;32mTrue\u001b[0m\u001b[1;33m,\u001b[0m\u001b[1;33m\n",
       "\u001b[0m    \u001b[0mreturn_results\u001b[0m\u001b[1;33m=\u001b[0m\u001b[1;32mTrue\u001b[0m\u001b[1;33m,\u001b[0m\u001b[1;33m\n",
       "\u001b[0m\u001b[1;33m)\u001b[0m\u001b[1;33m\u001b[0m\u001b[1;33m\u001b[0m\u001b[0m\n",
       "\u001b[1;31mDocstring:\u001b[0m\n",
       "Hypothesis test for comparing two independent proportions\n",
       "\n",
       "This assumes that we have two independent binomial samples.\n",
       "\n",
       "The Null and alternative hypothesis are\n",
       "\n",
       "for compare = 'diff'\n",
       "\n",
       "- H0: prop1 - prop2 - value = 0\n",
       "- H1: prop1 - prop2 - value != 0  if alternative = 'two-sided'\n",
       "- H1: prop1 - prop2 - value > 0   if alternative = 'larger'\n",
       "- H1: prop1 - prop2 - value < 0   if alternative = 'smaller'\n",
       "\n",
       "for compare = 'ratio'\n",
       "\n",
       "- H0: prop1 / prop2 - value = 0\n",
       "- H1: prop1 / prop2 - value != 0  if alternative = 'two-sided'\n",
       "- H1: prop1 / prop2 - value > 0   if alternative = 'larger'\n",
       "- H1: prop1 / prop2 - value < 0   if alternative = 'smaller'\n",
       "\n",
       "for compare = 'odds-ratio'\n",
       "\n",
       "- H0: or - value = 0\n",
       "- H1: or - value != 0  if alternative = 'two-sided'\n",
       "- H1: or - value > 0   if alternative = 'larger'\n",
       "- H1: or - value < 0   if alternative = 'smaller'\n",
       "\n",
       "where odds-ratio or = prop1 / (1 - prop1) / (prop2 / (1 - prop2))\n",
       "\n",
       "Parameters\n",
       "----------\n",
       "count1 : int\n",
       "    Count for first sample.\n",
       "nobs1 : int\n",
       "    Sample size for first sample.\n",
       "count2 : int\n",
       "    Count for the second sample.\n",
       "nobs2 : int\n",
       "    Sample size for the second sample.\n",
       "value : float\n",
       "    Value of the difference, risk ratio or odds ratio of 2 independent\n",
       "    proportions under the null hypothesis.\n",
       "    Default is equal proportions, 0 for diff and 1 for risk-ratio and for\n",
       "    odds-ratio.\n",
       "method : string\n",
       "    Method for computing the hypothesis test. If method is None, then a\n",
       "    default method is used. The default might change as more methods are\n",
       "    added.\n",
       "\n",
       "    diff:\n",
       "\n",
       "    - 'wald',\n",
       "    - 'agresti-caffo'\n",
       "    - 'score' if correction is True, then this uses the degrees of freedom\n",
       "       correction ``nobs / (nobs - 1)`` as in Miettinen Nurminen 1985\n",
       "\n",
       "    ratio:\n",
       "\n",
       "    - 'log': wald test using log transformation\n",
       "    - 'log-adjusted': wald test using log transformation,\n",
       "       adds 0.5 to counts\n",
       "    - 'score': if correction is True, then this uses the degrees of freedom\n",
       "       correction ``nobs / (nobs - 1)`` as in Miettinen Nurminen 1985\n",
       "\n",
       "    odds-ratio:\n",
       "\n",
       "    - 'logit': wald test using logit transformation\n",
       "    - 'logit-adjusted': wald test using logit transformation,\n",
       "       adds 0.5 to counts\n",
       "    - 'logit-smoothed': wald test using logit transformation, biases\n",
       "       cell counts towards independence by adding two observations in\n",
       "       total.\n",
       "    - 'score' if correction is True, then this uses the degrees of freedom\n",
       "       correction ``nobs / (nobs - 1)`` as in Miettinen Nurminen 1985\n",
       "\n",
       "compare : {'diff', 'ratio' 'odds-ratio'}\n",
       "    If compare is `diff`, then the hypothesis test is for the risk\n",
       "    difference diff = p1 - p2.\n",
       "    If compare is `ratio`, then the hypothesis test is for the\n",
       "    risk ratio defined by ratio = p1 / p2.\n",
       "    If compare is `odds-ratio`, then the hypothesis test is for the\n",
       "    odds-ratio defined by or = p1 / (1 - p1) / (p2 / (1 - p2)\n",
       "alternative : {'two-sided', 'smaller', 'larger'}\n",
       "    alternative hypothesis, which can be two-sided or either one of the\n",
       "    one-sided tests.\n",
       "correction : bool\n",
       "    If correction is True (default), then the Miettinen and Nurminen\n",
       "    small sample correction to the variance nobs / (nobs - 1) is used.\n",
       "    Applies only if method='score'.\n",
       "return_results : bool\n",
       "    If true, then a results instance with extra information is returned,\n",
       "    otherwise a tuple with statistic and pvalue is returned.\n",
       "\n",
       "Returns\n",
       "-------\n",
       "results : results instance or tuple\n",
       "    If return_results is True, then a results instance with the\n",
       "    information in attributes is returned.\n",
       "    If return_results is False, then only ``statistic`` and ``pvalue``\n",
       "    are returned.\n",
       "\n",
       "    statistic : float\n",
       "        test statistic asymptotically normal distributed N(0, 1)\n",
       "    pvalue : float\n",
       "        p-value based on normal distribution\n",
       "    other attributes :\n",
       "        additional information about the hypothesis test\n",
       "\n",
       "See Also\n",
       "--------\n",
       "tost_proportions_2indep\n",
       "confint_proportions_2indep\n",
       "\n",
       "Notes\n",
       "-----\n",
       "Status: experimental, API and defaults might still change.\n",
       "    More ``methods`` will be added.\n",
       "\n",
       "The current default methods are\n",
       "\n",
       "- 'diff': 'agresti-caffo',\n",
       "- 'ratio': 'log-adjusted',\n",
       "- 'odds-ratio': 'logit-adjusted'\n",
       "\u001b[1;31mFile:\u001b[0m      c:\\users\\vr3n\\codes\\upgrad-maryland-analytics\\upgrad_venv\\lib\\site-packages\\statsmodels\\stats\\proportion.py\n",
       "\u001b[1;31mType:\u001b[0m      function"
      ]
     },
     "metadata": {},
     "output_type": "display_data"
    }
   ],
   "source": [
    "##Check the documentation for the method\n",
    "?test_proportions_2indep"
   ]
  },
  {
   "cell_type": "code",
   "execution_count": 25,
   "id": "e947e84f",
   "metadata": {},
   "outputs": [],
   "source": [
    "### ### Write the code to use the above method to compute the Z-statistic and p-value\n",
    "## Take 'compare' parameter to be equal to 'diff'\n",
    "## And 'alternative' parameter to be equal to 'two-sided'\n",
    "\n",
    "z_stat, pval = test_proportions_2indep(Sc, Nc, St, Nt, compare='diff', alternative='two-sided') ### Write your code here"
   ]
  },
  {
   "cell_type": "code",
   "execution_count": 29,
   "id": "02d77acb",
   "metadata": {},
   "outputs": [
    {
     "data": {
      "text/plain": [
       "0.03389030270784057"
      ]
     },
     "execution_count": 29,
     "metadata": {},
     "output_type": "execute_result"
    }
   ],
   "source": [
    "### Print the p-value and check if it's less than 0.05 to make a decision\n",
    "pval"
   ]
  },
  {
   "cell_type": "code",
   "execution_count": null,
   "id": "8460e858",
   "metadata": {},
   "outputs": [],
   "source": []
  }
 ],
 "metadata": {
  "kernelspec": {
   "display_name": "Python 3 (ipykernel)",
   "language": "python",
   "name": "python3"
  },
  "language_info": {
   "codemirror_mode": {
    "name": "ipython",
    "version": 3
   },
   "file_extension": ".py",
   "mimetype": "text/x-python",
   "name": "python",
   "nbconvert_exporter": "python",
   "pygments_lexer": "ipython3",
   "version": "3.10.11"
  }
 },
 "nbformat": 4,
 "nbformat_minor": 5
}
