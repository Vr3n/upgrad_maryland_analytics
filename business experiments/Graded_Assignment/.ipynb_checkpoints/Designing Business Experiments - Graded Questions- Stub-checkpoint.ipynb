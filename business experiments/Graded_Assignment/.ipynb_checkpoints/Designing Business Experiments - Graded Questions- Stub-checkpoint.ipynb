{
 "cells": [
  {
   "cell_type": "markdown",
   "id": "87147bcb",
   "metadata": {},
   "source": [
    "### Graded Questions\n",
    "\n",
    "An experiment was conducted to compare the memory effects of 2 drugs—\"Alprazolam\" and \"Triazolam\".\n",
    "\n",
    "Historically, it has been observed that Alprazolam has significant short-term and long-term memory effects on the patients that it is adminstered on. \n",
    "\n",
    "In this experiment, we want to test if Triazolam produces similar or more pronounced effects.\n",
    "\n",
    "\n",
    "**Short-Term Memory Effect Test**\n",
    "\n",
    "A total of 198 patients were selected for the experiment. Before the experiment, the subjects were required to take a memory test, and the scores were recorded (`Mem_Score_Before`). The subjects were then given the triazolam pill. After being administered the pill, the subjects were asked to take the memory test again, and the scores were recorded (`Mem_Score_After`). The difference between the two scores were also recorded(`Diff`)\n",
    "\n",
    "\n",
    "**Long-Term Memory Effect Test**\n",
    "\n",
    "The patients would then be subjected to one memory test each day for a period of 10 days. If the average scores improved by 20% for a patient, then we would consider that a long-term memory effect has been observed in the patient. The long term effect has been recorded in the column `Long_term` where 1 indicates that a long term effect has been observed, whereas 0 indicates that a long term effect hasn't been observed. \n",
    "\n",
    "\n"
   ]
  },
  {
   "cell_type": "code",
   "execution_count": null,
   "id": "95689e06",
   "metadata": {},
   "outputs": [],
   "source": [
    "### Import the necessary libraries\n",
    "import pandas as pd\n",
    "import numpy as np"
   ]
  },
  {
   "cell_type": "code",
   "execution_count": null,
   "id": "b63a4a63",
   "metadata": {},
   "outputs": [],
   "source": [
    "## Load the dataset\n",
    "df = pd.read_csv(\"graded.csv\")"
   ]
  },
  {
   "cell_type": "code",
   "execution_count": null,
   "id": "2bc8f1a8",
   "metadata": {},
   "outputs": [],
   "source": [
    "## Check the top 5 rows\n",
    "df.head()"
   ]
  },
  {
   "cell_type": "markdown",
   "id": "d34fa76a",
   "metadata": {},
   "source": [
    "#### Question 1 \n",
    "\n",
    "What is the average difference in scores between `Mem_Score_After` and `Mem_Score_Before` for all the patients?"
   ]
  },
  {
   "cell_type": "code",
   "execution_count": null,
   "id": "4a7a6429",
   "metadata": {},
   "outputs": [],
   "source": [
    "#### Calculate the average of the \"Diff\" column\n"
   ]
  },
  {
   "cell_type": "markdown",
   "id": "61eb49a7",
   "metadata": {},
   "source": [
    "#### Question 2\n",
    "\n",
    "You want to test if there is a short term memory effect of the drug \"Triazolam\". For this you formulated the following hypotheses:\n",
    "\n",
    "\n",
    "> Let $\\mu_d$ denote the difference in average scores for the patients\n",
    "\n",
    "> Our hypotheses will be\n",
    "\n",
    "$$H_0: \\mu_d = 0$$\n",
    "$$H_a: \\mu_d \\neq 0$$\n",
    "\n",
    "> This will still be a two-sided test, with $\\alpha$ = 0.05\n",
    "\n",
    "Perform a one-sample t-test and conclude whether there's an effect of the drug."
   ]
  },
  {
   "cell_type": "code",
   "execution_count": null,
   "id": "e21d661e",
   "metadata": {},
   "outputs": [],
   "source": [
    "## Load the necessary libraries\n",
    "from scipy.stats import ttest_1samp"
   ]
  },
  {
   "cell_type": "code",
   "execution_count": null,
   "id": "c5c3558b",
   "metadata": {},
   "outputs": [],
   "source": [
    "## Check the documentation\n",
    "?ttest_1samp"
   ]
  },
  {
   "cell_type": "code",
   "execution_count": null,
   "id": "39120678",
   "metadata": {},
   "outputs": [],
   "source": [
    "### Write the code for running a one-sample t-test on the \"Diff\" column\n",
    "### Hint - Check what parameters you need to pass\n",
    "### You should pass the \"Diff\" column\n",
    "### You should pass the population mean or \"popmean\" as 0\n"
   ]
  },
  {
   "cell_type": "markdown",
   "id": "2c008266",
   "metadata": {},
   "source": [
    "#### Question 3\n",
    "\n",
    "What is the number of patients from the given sample who have shown long term effects for the drug 'Triazolam?\n",
    "\n",
    "Hint - Check the number of patients for whom the `Long_term` value is 1 "
   ]
  },
  {
   "cell_type": "code",
   "execution_count": null,
   "id": "a6aaf063",
   "metadata": {},
   "outputs": [],
   "source": [
    "#### Write the code here\n"
   ]
  },
  {
   "cell_type": "markdown",
   "id": "4c758cf3",
   "metadata": {},
   "source": [
    "#### Question 4\n",
    "\n",
    "Earlier when the memory effects for the drug \"Alprazolam\" were tested for a similar group of patients (198), it has been observed that around 79 patients showed long term effects.\n",
    "\n",
    "Does Triazolam have similar or different effects? Perform the necessary hypothesis test to arrive at the conclusion\n",
    "\n",
    "Note - Take 0.05 significance level"
   ]
  },
  {
   "cell_type": "code",
   "execution_count": null,
   "id": "9d89e22d",
   "metadata": {},
   "outputs": [],
   "source": [
    "### You can use the following values\n",
    "\n",
    "Sc = 79 ## Number of patients who showed long-term effects for \"Alprazolam\"\n",
    "Nc = 198 ## Total number of patients who were part of the \"Alprazolam\" experiment\n",
    "\n",
    "St =  ### Number of patients who showed long-term effects for \"Triazolam\".\n",
    "### Calculate this number by counting the number of 1s in the column 'Long_term'\n",
    "\n",
    "Nt = 198 ## Total number of patients who were part of the \"Triazolam\" experiment"
   ]
  },
  {
   "cell_type": "code",
   "execution_count": null,
   "id": "3811cec2",
   "metadata": {},
   "outputs": [],
   "source": [
    "### Import the necessary libraries and the method\n",
    "from statsmodels.stats.proportion import test_proportions_2indep"
   ]
  },
  {
   "cell_type": "code",
   "execution_count": null,
   "id": "558dfb2a",
   "metadata": {},
   "outputs": [],
   "source": [
    "##Check the documentation for the method\n",
    "?test_proportions_2indep"
   ]
  },
  {
   "cell_type": "code",
   "execution_count": null,
   "id": "e947e84f",
   "metadata": {},
   "outputs": [],
   "source": [
    "### ### Write the code to use the above method to compute the Z-statistic and p-value\n",
    "## Take 'compare' parameter to be equal to 'diff'\n",
    "## And 'alternative' parameter to be equal to 'two-sided'\n",
    "\n",
    "z_stat, pval = ### Write your code here"
   ]
  },
  {
   "cell_type": "code",
   "execution_count": null,
   "id": "02d77acb",
   "metadata": {},
   "outputs": [],
   "source": [
    "### Print the p-value and check if it's less than 0.05 to make a decision\n",
    "pval"
   ]
  },
  {
   "cell_type": "code",
   "execution_count": null,
   "id": "8460e858",
   "metadata": {},
   "outputs": [],
   "source": []
  }
 ],
 "metadata": {
  "kernelspec": {
   "display_name": "Python 3 (ipykernel)",
   "language": "python",
   "name": "python3"
  },
  "language_info": {
   "codemirror_mode": {
    "name": "ipython",
    "version": 3
   },
   "file_extension": ".py",
   "mimetype": "text/x-python",
   "name": "python",
   "nbconvert_exporter": "python",
   "pygments_lexer": "ipython3",
   "version": "3.9.7"
  }
 },
 "nbformat": 4,
 "nbformat_minor": 5
}
