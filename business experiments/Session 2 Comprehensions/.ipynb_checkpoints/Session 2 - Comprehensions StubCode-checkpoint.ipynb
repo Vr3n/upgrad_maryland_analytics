{
 "cells": [
  {
   "cell_type": "markdown",
   "id": "67a73574",
   "metadata": {},
   "source": [
    "### Comprehension - Testing difference in means "
   ]
  },
  {
   "cell_type": "markdown",
   "id": "523157a2",
   "metadata": {},
   "source": [
    "In this comprehension, we have Math scores and English reading scores of students in the 6th grade. We want to test the hypothesis that on average students perform differently in both the subjects. Thus our hypotheses for this experiment will be as follows:\n",
    "\n",
    "\n",
    "> Let $\\mu_e$ be the mean for English reading score and $\\mu_m$ the mean for Math score\n",
    "\n",
    "$$H_0: \\mu_e-\\mu_m = 0$$\n",
    "$$H_a: \\mu_e-\\mu_m \\neq 0$$\n",
    "\n",
    "Using the sample data set, we use the technique of detecting differences in both independent and paired samples. Let’s use a strict boundary of p<0.05 to denote statistical significance.\n",
    "\n",
    "Ignoring the details of this experiment (assuming complete randomness and homogeneity among students), answer the following questions:"
   ]
  },
  {
   "cell_type": "code",
   "execution_count": null,
   "id": "949425f0",
   "metadata": {},
   "outputs": [],
   "source": [
    "## Import the libraries\n",
    "import pandas as pd\n",
    "import numpy as np"
   ]
  },
  {
   "cell_type": "code",
   "execution_count": null,
   "id": "6b35d09a",
   "metadata": {},
   "outputs": [],
   "source": [
    "df = pd.read_csv(\"grades.csv\")"
   ]
  },
  {
   "cell_type": "code",
   "execution_count": null,
   "id": "c6335992",
   "metadata": {},
   "outputs": [],
   "source": [
    "df"
   ]
  },
  {
   "cell_type": "markdown",
   "id": "f86b2be3",
   "metadata": {},
   "source": [
    "#### Question 1\n",
    "\n",
    "What is the difference between the average english reading scores and the average math scores?"
   ]
  },
  {
   "cell_type": "code",
   "execution_count": null,
   "id": "544e1db2",
   "metadata": {},
   "outputs": [],
   "source": [
    "## Subtract the average math score from the average english reading score\n",
    "## Write your code below\n"
   ]
  },
  {
   "cell_type": "markdown",
   "id": "28373673",
   "metadata": {},
   "source": [
    "#### Question 2\n",
    "\n",
    "Assuming independent samples with equal variance, run a t-test, and compute the p-value and make a decision\n",
    "\n",
    "You'll use the `ttest_ind` method from the scipy.stats library for solving this question"
   ]
  },
  {
   "cell_type": "code",
   "execution_count": null,
   "id": "00f9e0fe",
   "metadata": {},
   "outputs": [],
   "source": [
    "### Load the correct method from scipy.stats library for running the independent sample t-test\n",
    "from scipy.stats import ttest_ind"
   ]
  },
  {
   "cell_type": "code",
   "execution_count": null,
   "id": "ca1b5f5e",
   "metadata": {},
   "outputs": [],
   "source": [
    "### Check the documentation by adding a question mark before the method\n",
    "### This will help you recall the parameters you need to enter before performing this test\n",
    "?ttest_ind"
   ]
  },
  {
   "cell_type": "code",
   "execution_count": null,
   "id": "43ac6e97",
   "metadata": {},
   "outputs": [],
   "source": [
    "### Run the t-test using ttest_ind\n",
    "### Pass the following parameters \n",
    "#### - english scores \n",
    "#### - math scores\n",
    "#### - set \"equal_var\" parameter to True\n",
    "#### - set \"alternative\" parameter to 'two-sided'\n",
    "### Write your code below\n",
    "\n"
   ]
  },
  {
   "cell_type": "markdown",
   "id": "b3fb916e",
   "metadata": {},
   "source": [
    "Make the decision based on the following rule\n",
    "- p-value >= 0.05: Fail to reject the null hypothesis, i.e. on average students perform equally well in both the subjects\n",
    "- p-value < 0.05: Reject the null hypothesi, i.e. students perform differently in both the subjects"
   ]
  },
  {
   "cell_type": "markdown",
   "id": "612521d6",
   "metadata": {},
   "source": [
    "#### Question 3\n",
    "\n",
    "Now assuming paired samples, run a t-test again and compute the p-value and make a decision\n",
    "\n",
    "You'll use the `ttest_rel` method from the scipy.stats library for solving this question"
   ]
  },
  {
   "cell_type": "code",
   "execution_count": null,
   "id": "f039e54f",
   "metadata": {},
   "outputs": [],
   "source": [
    "### Load the correct method from scipy.stats library for running the paired sample t-test\n",
    "from scipy.stats import ttest_rel"
   ]
  },
  {
   "cell_type": "code",
   "execution_count": null,
   "id": "27faf219",
   "metadata": {},
   "outputs": [],
   "source": [
    "### Check the documentation by adding a question mark before the method\n",
    "### This will help you recall the parameters you need to enter before performing this test\n",
    "?ttest_rel"
   ]
  },
  {
   "cell_type": "code",
   "execution_count": null,
   "id": "a22a4a17",
   "metadata": {},
   "outputs": [],
   "source": [
    "### Run the t-test using ttest_rel\n",
    "### Pass the following parameters \n",
    "#### - english scores \n",
    "#### - math scores\n",
    "#### - set \"alternative\" parameter to 'two-sided' , or you can skip this as well, since it's the default value\n",
    "### Write your code below\n",
    "\n"
   ]
  },
  {
   "cell_type": "markdown",
   "id": "3ce00dc3",
   "metadata": {},
   "source": [
    "Again, the decision based on the following rule\n",
    "- p-value >= 0.05: Fail to reject the null hypothesis, i.e. on average students perform equally well in both the subjects\n",
    "- p-value < 0.05: Reject the null hypothesi, i.e. students perform differently in both the subjects"
   ]
  },
  {
   "cell_type": "markdown",
   "id": "829a7b60",
   "metadata": {},
   "source": [
    "#### Question 4\n",
    "\n",
    "Calculate the 95% confidence interval for the difference in means between English and Maths scores. Use the `pingouin` package for this"
   ]
  },
  {
   "cell_type": "code",
   "execution_count": null,
   "id": "50c19948",
   "metadata": {},
   "outputs": [],
   "source": [
    "### Uncomment the line below, by removing the #, and run it if you don't have pingouin installed\n",
    "# !pip install pingouin"
   ]
  },
  {
   "cell_type": "code",
   "execution_count": null,
   "id": "78eddef7",
   "metadata": {},
   "outputs": [],
   "source": [
    "### Import the pingouin library\n",
    "import pingouin as pg"
   ]
  },
  {
   "cell_type": "code",
   "execution_count": null,
   "id": "51650cc9",
   "metadata": {},
   "outputs": [],
   "source": [
    "### Check the documentation by adding a question mark before the method\n",
    "### This will help you recall the parameters you need to enter before performing this test\n",
    "?pg.ttest"
   ]
  },
  {
   "cell_type": "code",
   "execution_count": null,
   "id": "24056897",
   "metadata": {},
   "outputs": [],
   "source": [
    "### Run the pg.ttest \n",
    "### Pass the following parameters \n",
    "#### - english scores \n",
    "#### - math scores\n",
    "#### - set \"paired\" parameter to True\n",
    "#### - set \"alternative\" parameter to 'two-sided'\n",
    "### Write your code below\n",
    "\n"
   ]
  },
  {
   "cell_type": "code",
   "execution_count": null,
   "id": "f54735eb",
   "metadata": {},
   "outputs": [],
   "source": []
  }
 ],
 "metadata": {
  "kernelspec": {
   "display_name": "Python 3 (ipykernel)",
   "language": "python",
   "name": "python3"
  },
  "language_info": {
   "codemirror_mode": {
    "name": "ipython",
    "version": 3
   },
   "file_extension": ".py",
   "mimetype": "text/x-python",
   "name": "python",
   "nbconvert_exporter": "python",
   "pygments_lexer": "ipython3",
   "version": "3.9.7"
  }
 },
 "nbformat": 4,
 "nbformat_minor": 5
}
