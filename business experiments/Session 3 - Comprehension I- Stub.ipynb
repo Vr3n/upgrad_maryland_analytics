{
 "cells": [
  {
   "cell_type": "markdown",
   "id": "f0bef99c",
   "metadata": {},
   "source": [
    "### Comprehension - Testing Difference in Proportions"
   ]
  },
  {
   "cell_type": "markdown",
   "id": "7c507e06",
   "metadata": {},
   "source": [
    "A survey was conducted for 35 \"married\" and 35 \"single\" individuals.  We want to test the hypothesis that married couples are more likely than single people to be homeowners. We have to use hypothesis testing to arrive at our conclusion.\n",
    "\n",
    "Given below is the data from the survey"
   ]
  },
  {
   "cell_type": "code",
   "execution_count": 14,
   "id": "4010df47",
   "metadata": {},
   "outputs": [],
   "source": [
    "Sc = 24 ## Total No of married people who are home owners\n",
    "Nc = 35 ## Total No of married people who were surveyed\n",
    "St = 15 ## Total No of single people who are home owners\n",
    "Nt = 35 ## Total No of single people who were surveyed\n",
    "Zmultiple = 1.96 #Corresponding to 95% confidence level"
   ]
  },
  {
   "cell_type": "markdown",
   "id": "882a6132",
   "metadata": {},
   "source": [
    "#### Confidence Intervals\n",
    "\n",
    "Compute the confidence interval for the difference in proportions between the married people who are home owners vs the single people who are home owners"
   ]
  },
  {
   "cell_type": "code",
   "execution_count": 18,
   "id": "91dbe92a",
   "metadata": {},
   "outputs": [],
   "source": [
    "#Import the necessary libraries\n",
    "from statsmodels.stats.proportion import confint_proportions_2indep\n",
    "import numpy as np"
   ]
  },
  {
   "cell_type": "code",
   "execution_count": 19,
   "id": "ff4f9eca-2f51-45af-8258-78aad5971828",
   "metadata": {},
   "outputs": [],
   "source": [
    "p1 = Sc / Nc\n",
    "p2 = St / Nt"
   ]
  },
  {
   "cell_type": "code",
   "execution_count": 20,
   "id": "a78f5df1-f355-4534-82e3-077586552c2b",
   "metadata": {},
   "outputs": [
    {
     "data": {
      "text/plain": [
       "(0.6857142857142857, 0.42857142857142855)"
      ]
     },
     "execution_count": 20,
     "metadata": {},
     "output_type": "execute_result"
    }
   ],
   "source": [
    "p1, p2"
   ]
  },
  {
   "cell_type": "code",
   "execution_count": 21,
   "id": "b08b3687-9a96-4b0f-ab78-957debc2b2f6",
   "metadata": {},
   "outputs": [
    {
     "data": {
      "text/plain": [
       "0.2571428571428572"
      ]
     },
     "execution_count": 21,
     "metadata": {},
     "output_type": "execute_result"
    }
   ],
   "source": [
    "p_estimate = p1 - p2\n",
    "p_estimate"
   ]
  },
  {
   "cell_type": "code",
   "execution_count": 13,
   "id": "c565d353-926c-4016-a809-765bec25d873",
   "metadata": {},
   "outputs": [
    {
     "data": {
      "text/plain": [
       "0.11469315127956559"
      ]
     },
     "execution_count": 13,
     "metadata": {},
     "output_type": "execute_result"
    }
   ],
   "source": [
    "# calculating standard error.\n",
    "se = np.sqrt(p1*(1-p1)/Nc + p2 * (1 - p2) / Nt)\n",
    "se"
   ]
  },
  {
   "cell_type": "code",
   "execution_count": 26,
   "id": "63c89f50",
   "metadata": {},
   "outputs": [],
   "source": [
    "#Calculate the confidence interval \n",
    "(lower, upper) = confint_proportions_2indep(Sc, Nc, St, Nt, compare='diff', alpha=0.05) #### WRITE YOUR CODE FOR COMPUTING CONFIDENCE INTERVAL HERE#####"
   ]
  },
  {
   "cell_type": "code",
   "execution_count": 27,
   "id": "9f8d8aed",
   "metadata": {},
   "outputs": [
    {
     "name": "stdout",
     "output_type": "stream",
     "text": [
      "95% CI for difference in proportion: [0.025, 0.454]\n"
     ]
    }
   ],
   "source": [
    "print(f'95% CI for difference in proportion: [{lower:.3f}, {upper:.3f}]')"
   ]
  },
  {
   "cell_type": "markdown",
   "id": "84148890",
   "metadata": {},
   "source": [
    "#### Hypothesis Testing\n",
    "\n",
    "Perform hypothesis testing for a difference in proportions for the given experiment."
   ]
  },
  {
   "cell_type": "code",
   "execution_count": 28,
   "id": "0251bdb5",
   "metadata": {},
   "outputs": [],
   "source": [
    "### Import the necessary libraries and methods\n",
    "from statsmodels.stats.proportion import test_proportions_2indep"
   ]
  },
  {
   "cell_type": "code",
   "execution_count": 29,
   "id": "d6276d0f",
   "metadata": {
    "scrolled": true
   },
   "outputs": [
    {
     "data": {
      "text/plain": [
       "\u001b[1;31mSignature:\u001b[0m\n",
       "\u001b[0mtest_proportions_2indep\u001b[0m\u001b[1;33m(\u001b[0m\u001b[1;33m\n",
       "\u001b[0m    \u001b[0mcount1\u001b[0m\u001b[1;33m,\u001b[0m\u001b[1;33m\n",
       "\u001b[0m    \u001b[0mnobs1\u001b[0m\u001b[1;33m,\u001b[0m\u001b[1;33m\n",
       "\u001b[0m    \u001b[0mcount2\u001b[0m\u001b[1;33m,\u001b[0m\u001b[1;33m\n",
       "\u001b[0m    \u001b[0mnobs2\u001b[0m\u001b[1;33m,\u001b[0m\u001b[1;33m\n",
       "\u001b[0m    \u001b[0mvalue\u001b[0m\u001b[1;33m=\u001b[0m\u001b[1;32mNone\u001b[0m\u001b[1;33m,\u001b[0m\u001b[1;33m\n",
       "\u001b[0m    \u001b[0mmethod\u001b[0m\u001b[1;33m=\u001b[0m\u001b[1;32mNone\u001b[0m\u001b[1;33m,\u001b[0m\u001b[1;33m\n",
       "\u001b[0m    \u001b[0mcompare\u001b[0m\u001b[1;33m=\u001b[0m\u001b[1;34m'diff'\u001b[0m\u001b[1;33m,\u001b[0m\u001b[1;33m\n",
       "\u001b[0m    \u001b[0malternative\u001b[0m\u001b[1;33m=\u001b[0m\u001b[1;34m'two-sided'\u001b[0m\u001b[1;33m,\u001b[0m\u001b[1;33m\n",
       "\u001b[0m    \u001b[0mcorrection\u001b[0m\u001b[1;33m=\u001b[0m\u001b[1;32mTrue\u001b[0m\u001b[1;33m,\u001b[0m\u001b[1;33m\n",
       "\u001b[0m    \u001b[0mreturn_results\u001b[0m\u001b[1;33m=\u001b[0m\u001b[1;32mTrue\u001b[0m\u001b[1;33m,\u001b[0m\u001b[1;33m\n",
       "\u001b[0m\u001b[1;33m)\u001b[0m\u001b[1;33m\u001b[0m\u001b[1;33m\u001b[0m\u001b[0m\n",
       "\u001b[1;31mDocstring:\u001b[0m\n",
       "Hypothesis test for comparing two independent proportions\n",
       "\n",
       "This assumes that we have two independent binomial samples.\n",
       "\n",
       "The Null and alternative hypothesis are\n",
       "\n",
       "for compare = 'diff'\n",
       "\n",
       "- H0: prop1 - prop2 - value = 0\n",
       "- H1: prop1 - prop2 - value != 0  if alternative = 'two-sided'\n",
       "- H1: prop1 - prop2 - value > 0   if alternative = 'larger'\n",
       "- H1: prop1 - prop2 - value < 0   if alternative = 'smaller'\n",
       "\n",
       "for compare = 'ratio'\n",
       "\n",
       "- H0: prop1 / prop2 - value = 0\n",
       "- H1: prop1 / prop2 - value != 0  if alternative = 'two-sided'\n",
       "- H1: prop1 / prop2 - value > 0   if alternative = 'larger'\n",
       "- H1: prop1 / prop2 - value < 0   if alternative = 'smaller'\n",
       "\n",
       "for compare = 'odds-ratio'\n",
       "\n",
       "- H0: or - value = 0\n",
       "- H1: or - value != 0  if alternative = 'two-sided'\n",
       "- H1: or - value > 0   if alternative = 'larger'\n",
       "- H1: or - value < 0   if alternative = 'smaller'\n",
       "\n",
       "where odds-ratio or = prop1 / (1 - prop1) / (prop2 / (1 - prop2))\n",
       "\n",
       "Parameters\n",
       "----------\n",
       "count1 : int\n",
       "    Count for first sample.\n",
       "nobs1 : int\n",
       "    Sample size for first sample.\n",
       "count2 : int\n",
       "    Count for the second sample.\n",
       "nobs2 : int\n",
       "    Sample size for the second sample.\n",
       "value : float\n",
       "    Value of the difference, risk ratio or odds ratio of 2 independent\n",
       "    proportions under the null hypothesis.\n",
       "    Default is equal proportions, 0 for diff and 1 for risk-ratio and for\n",
       "    odds-ratio.\n",
       "method : string\n",
       "    Method for computing the hypothesis test. If method is None, then a\n",
       "    default method is used. The default might change as more methods are\n",
       "    added.\n",
       "\n",
       "    diff:\n",
       "\n",
       "    - 'wald',\n",
       "    - 'agresti-caffo'\n",
       "    - 'score' if correction is True, then this uses the degrees of freedom\n",
       "       correction ``nobs / (nobs - 1)`` as in Miettinen Nurminen 1985\n",
       "\n",
       "    ratio:\n",
       "\n",
       "    - 'log': wald test using log transformation\n",
       "    - 'log-adjusted': wald test using log transformation,\n",
       "       adds 0.5 to counts\n",
       "    - 'score': if correction is True, then this uses the degrees of freedom\n",
       "       correction ``nobs / (nobs - 1)`` as in Miettinen Nurminen 1985\n",
       "\n",
       "    odds-ratio:\n",
       "\n",
       "    - 'logit': wald test using logit transformation\n",
       "    - 'logit-adjusted': wald test using logit transformation,\n",
       "       adds 0.5 to counts\n",
       "    - 'logit-smoothed': wald test using logit transformation, biases\n",
       "       cell counts towards independence by adding two observations in\n",
       "       total.\n",
       "    - 'score' if correction is True, then this uses the degrees of freedom\n",
       "       correction ``nobs / (nobs - 1)`` as in Miettinen Nurminen 1985\n",
       "\n",
       "compare : {'diff', 'ratio' 'odds-ratio'}\n",
       "    If compare is `diff`, then the hypothesis test is for the risk\n",
       "    difference diff = p1 - p2.\n",
       "    If compare is `ratio`, then the hypothesis test is for the\n",
       "    risk ratio defined by ratio = p1 / p2.\n",
       "    If compare is `odds-ratio`, then the hypothesis test is for the\n",
       "    odds-ratio defined by or = p1 / (1 - p1) / (p2 / (1 - p2)\n",
       "alternative : {'two-sided', 'smaller', 'larger'}\n",
       "    alternative hypothesis, which can be two-sided or either one of the\n",
       "    one-sided tests.\n",
       "correction : bool\n",
       "    If correction is True (default), then the Miettinen and Nurminen\n",
       "    small sample correction to the variance nobs / (nobs - 1) is used.\n",
       "    Applies only if method='score'.\n",
       "return_results : bool\n",
       "    If true, then a results instance with extra information is returned,\n",
       "    otherwise a tuple with statistic and pvalue is returned.\n",
       "\n",
       "Returns\n",
       "-------\n",
       "results : results instance or tuple\n",
       "    If return_results is True, then a results instance with the\n",
       "    information in attributes is returned.\n",
       "    If return_results is False, then only ``statistic`` and ``pvalue``\n",
       "    are returned.\n",
       "\n",
       "    statistic : float\n",
       "        test statistic asymptotically normal distributed N(0, 1)\n",
       "    pvalue : float\n",
       "        p-value based on normal distribution\n",
       "    other attributes :\n",
       "        additional information about the hypothesis test\n",
       "\n",
       "See Also\n",
       "--------\n",
       "tost_proportions_2indep\n",
       "confint_proportions_2indep\n",
       "\n",
       "Notes\n",
       "-----\n",
       "Status: experimental, API and defaults might still change.\n",
       "    More ``methods`` will be added.\n",
       "\n",
       "The current default methods are\n",
       "\n",
       "- 'diff': 'agresti-caffo',\n",
       "- 'ratio': 'log-adjusted',\n",
       "- 'odds-ratio': 'logit-adjusted'\n",
       "\u001b[1;31mFile:\u001b[0m      c:\\users\\vr3n\\codes\\upgrad-maryland-analytics\\upgrad_venv\\lib\\site-packages\\statsmodels\\stats\\proportion.py\n",
       "\u001b[1;31mType:\u001b[0m      function"
      ]
     },
     "metadata": {},
     "output_type": "display_data"
    }
   ],
   "source": [
    "###Check the documentation for test_proportions_2indep\n",
    "?test_proportions_2indep"
   ]
  },
  {
   "cell_type": "code",
   "execution_count": 30,
   "id": "b76d3b22",
   "metadata": {},
   "outputs": [
    {
     "name": "stdout",
     "output_type": "stream",
     "text": [
      "z statistic: 2.17\n",
      "p-value: 0.030\n"
     ]
    }
   ],
   "source": [
    "z_stat, pval = test_proportions_2indep(Sc, Nc, St, Nt, compare='diff', alternative='two-sided')  #### WRITE YOUR CODE FOR CONDUCTING HYPOTHESIS TEST HERE#####\n",
    "print(f'z statistic: {z_stat:.2f}')\n",
    "print(f'p-value: {pval:.3f}')"
   ]
  },
  {
   "cell_type": "code",
   "execution_count": null,
   "id": "cdc63612",
   "metadata": {},
   "outputs": [],
   "source": []
  }
 ],
 "metadata": {
  "kernelspec": {
   "display_name": "Python 3 (ipykernel)",
   "language": "python",
   "name": "python3"
  },
  "language_info": {
   "codemirror_mode": {
    "name": "ipython",
    "version": 3
   },
   "file_extension": ".py",
   "mimetype": "text/x-python",
   "name": "python",
   "nbconvert_exporter": "python",
   "pygments_lexer": "ipython3",
   "version": "3.10.11"
  }
 },
 "nbformat": 4,
 "nbformat_minor": 5
}
