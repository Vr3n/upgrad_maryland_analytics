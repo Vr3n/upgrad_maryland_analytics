{
 "cells": [
  {
   "cell_type": "markdown",
   "metadata": {
    "id": "9NAl4_XSZrRR"
   },
   "source": [
    "## Statistical Inference (two populations)\n",
    "\n",
    "In this demonstration, we'll understand how to draw statistical inferences with two samples drawn from different populations. \n",
    "We will be interested in:\n",
    "\n",
    "- Determining whether the population means are different.\n",
    "- Constructing confidence intervals for the difference in population means. \n",
    "---"
   ]
  },
  {
   "cell_type": "markdown",
   "metadata": {
    "id": "6mzT9LLygJ6R"
   },
   "source": [
    "## Demonstration Overview\n",
    "\n",
    "- Problem Statement Discussion\n",
    "- Data Preparation and Exploratory Data Analysis\n",
    "- Hypothesis Testing for Difference in Means\n",
    "    - Independent Samples\n",
    "        - Equal variances\n",
    "        - Unequal variances\n",
    "    - Paired Samples\n",
    "    \n",
    "---"
   ]
  },
  {
   "cell_type": "markdown",
   "metadata": {
    "id": "dGBn-i0oagq4"
   },
   "source": [
    "### Problem Statement\n",
    "\n",
    "A restaurant chain is interested in knowing whether a new storefront look and employee uniforms can improve sales. For conducting this experiment, 2 restaurant stores are chosen with similar location and similar performance for the treatment and the control groups. Here's an overview\n",
    "\n",
    "**Treatment Group**\n",
    "- *Store Owner*: Andy\n",
    "- *Changes made*: New Storefront look, employee uniforms\n",
    "\n",
    "**Control Group**\n",
    "- *Store Ower*: Bob\n",
    "- *Changes made*: No changes\n",
    "\n",
    "We use a 14 day testing period to estimate which storefront look does \"*better*\""
   ]
  },
  {
   "cell_type": "markdown",
   "metadata": {
    "id": "cJ4ypgALgFYF"
   },
   "source": [
    "Now let's go ahead and analyze the dataset \n",
    "\n",
    "---"
   ]
  },
  {
   "cell_type": "markdown",
   "metadata": {
    "id": "C-km18fqagA6"
   },
   "source": [
    "### Data Preparation and EDA"
   ]
  },
  {
   "cell_type": "code",
   "execution_count": 3,
   "metadata": {
    "id": "PDIXYasl4Luv"
   },
   "outputs": [],
   "source": [
    "### Import the libraries\n",
    "import pandas as pd\n",
    "import numpy as np\n",
    "import scipy.stats as st\n",
    "import matplotlib.pyplot as plt\n",
    "import seaborn as sns"
   ]
  },
  {
   "cell_type": "code",
   "execution_count": 7,
   "metadata": {
    "id": "1S1Qs8fGaX70"
   },
   "outputs": [],
   "source": [
    "##Import the dataset\n",
    "df = pd.read_excel('TwoSample.xlsx')"
   ]
  },
  {
   "cell_type": "code",
   "execution_count": 11,
   "metadata": {},
   "outputs": [
    {
     "data": {
      "text/html": [
       "<div>\n",
       "<style scoped>\n",
       "    .dataframe tbody tr th:only-of-type {\n",
       "        vertical-align: middle;\n",
       "    }\n",
       "\n",
       "    .dataframe tbody tr th {\n",
       "        vertical-align: top;\n",
       "    }\n",
       "\n",
       "    .dataframe thead th {\n",
       "        text-align: right;\n",
       "    }\n",
       "</style>\n",
       "<table border=\"1\" class=\"dataframe\">\n",
       "  <thead>\n",
       "    <tr style=\"text-align: right;\">\n",
       "      <th></th>\n",
       "      <th>Day</th>\n",
       "      <th>Andy</th>\n",
       "      <th>Bob</th>\n",
       "    </tr>\n",
       "  </thead>\n",
       "  <tbody>\n",
       "    <tr>\n",
       "      <th>0</th>\n",
       "      <td>Tuesday</td>\n",
       "      <td>981</td>\n",
       "      <td>933</td>\n",
       "    </tr>\n",
       "    <tr>\n",
       "      <th>1</th>\n",
       "      <td>Friday</td>\n",
       "      <td>1932</td>\n",
       "      <td>1827</td>\n",
       "    </tr>\n",
       "    <tr>\n",
       "      <th>2</th>\n",
       "      <td>Tuesday</td>\n",
       "      <td>873</td>\n",
       "      <td>825</td>\n",
       "    </tr>\n",
       "    <tr>\n",
       "      <th>3</th>\n",
       "      <td>Thursday</td>\n",
       "      <td>1338</td>\n",
       "      <td>1281</td>\n",
       "    </tr>\n",
       "    <tr>\n",
       "      <th>4</th>\n",
       "      <td>Sunday</td>\n",
       "      <td>1349</td>\n",
       "      <td>1267</td>\n",
       "    </tr>\n",
       "  </tbody>\n",
       "</table>\n",
       "</div>"
      ],
      "text/plain": [
       "        Day  Andy   Bob\n",
       "0   Tuesday   981   933\n",
       "1    Friday  1932  1827\n",
       "2   Tuesday   873   825\n",
       "3  Thursday  1338  1281\n",
       "4    Sunday  1349  1267"
      ]
     },
     "execution_count": 11,
     "metadata": {},
     "output_type": "execute_result"
    }
   ],
   "source": [
    "df.head()"
   ]
  },
  {
   "cell_type": "markdown",
   "metadata": {
    "id": "rrWxxB241OsR"
   },
   "source": [
    "Let's prepare a few visualizations to analyze the data"
   ]
  },
  {
   "cell_type": "code",
   "execution_count": 13,
   "metadata": {
    "id": "f6epeV_q4Luz"
   },
   "outputs": [
    {
     "data": {
      "text/plain": [
       "<Axes: xlabel='Day'>"
      ]
     },
     "execution_count": 13,
     "metadata": {},
     "output_type": "execute_result"
    },
    {
     "data": {
      "image/png": "[encoded data removed]",
      "text/plain": [
       "<Figure size 640x480 with 1 Axes>"
      ]
     },
     "metadata": {},
     "output_type": "display_data"
    }
   ],
   "source": [
    "## We can observe the day wise trends for both Andy and Bob using a grouped bar chart\n",
    "df.plot(kind='bar', x='Day')"
   ]
  },
  {
   "cell_type": "markdown",
   "metadata": {
    "id": "A2oZzRBh4Lu1"
   },
   "source": [
    "###### **Observations**:\n"
   ]
  },
  {
   "cell_type": "markdown",
   "metadata": {
    "id": "fiW23UfX4Lu2"
   },
   "source": [
    "#### Next, let's compare the sales distributions for both the stores"
   ]
  },
  {
   "cell_type": "code",
   "execution_count": 15,
   "metadata": {
    "id": "r3Huabft4Lu3"
   },
   "outputs": [],
   "source": [
    "## We shall use a boxplot for this\n",
    "## You can directly pass the DataFrame as an argument and the sns.boxplot function would only consider the numeric columns\n",
    "## Which in this case are the columns 'Andy' and 'Bob'"
   ]
  },
  {
   "cell_type": "code",
   "execution_count": 16,
   "metadata": {
    "id": "mK6d2wmj4Lu4"
   },
   "outputs": [
    {
     "data": {
      "text/plain": [
       "<Axes: >"
      ]
     },
     "execution_count": 16,
     "metadata": {},
     "output_type": "execute_result"
    },
    {
     "data": {
      "image/png": "[encoded data removed]",
      "text/plain": [
       "<Figure size 640x480 with 1 Axes>"
      ]
     },
     "metadata": {},
     "output_type": "display_data"
    }
   ],
   "source": [
    "sns.boxplot(data=df)"
   ]
  },
  {
   "cell_type": "markdown",
   "metadata": {
    "id": "YQqyHncM4Lu4"
   },
   "source": [
    "We can see that the median sales in Andy's store is slightly better than Bob's "
   ]
  },
  {
   "cell_type": "code",
   "execution_count": 20,
   "metadata": {
    "id": "h6Xh8Wy74Lu5"
   },
   "outputs": [
    {
     "data": {
      "text/plain": [
       "81.21428571428578"
      ]
     },
     "execution_count": 20,
     "metadata": {},
     "output_type": "execute_result"
    }
   ],
   "source": [
    "#Mean difference calculation\n",
    "df['Andy'].mean() - df['Bob'].mean()"
   ]
  },
  {
   "cell_type": "markdown",
   "metadata": {
    "id": "ShzgvRRx4Lu6"
   },
   "source": [
    "Average sales for Andy are about $81 more"
   ]
  },
  {
   "cell_type": "code",
   "execution_count": 22,
   "metadata": {
    "id": "8C7ztWP64Lu6"
   },
   "outputs": [],
   "source": [
    "## We can also add a column that computes the pair-wise differences\n",
    "df['difference'] = df['Andy'] - df['Bob']"
   ]
  },
  {
   "cell_type": "code",
   "execution_count": 27,
   "metadata": {},
   "outputs": [
    {
     "data": {
      "text/plain": [
       "0      48\n",
       "1     105\n",
       "2      48\n",
       "3      57\n",
       "4      82\n",
       "5      75\n",
       "6     123\n",
       "7      71\n",
       "8     102\n",
       "9      81\n",
       "10     57\n",
       "11     54\n",
       "12     87\n",
       "13    147\n",
       "Name: difference, dtype: int64"
      ]
     },
     "execution_count": 27,
     "metadata": {},
     "output_type": "execute_result"
    }
   ],
   "source": [
    "df['difference']"
   ]
  },
  {
   "cell_type": "markdown",
   "metadata": {
    "id": "ccG0yx0M4Lu8"
   },
   "source": [
    "Let's obtain some more descriptive statistics for both the restaurants"
   ]
  },
  {
   "cell_type": "code",
   "execution_count": 29,
   "metadata": {},
   "outputs": [],
   "source": [
    "pd.options.display.float_format = \"{:,.2f}\".format"
   ]
  },
  {
   "cell_type": "code",
   "execution_count": 35,
   "metadata": {
    "id": "xv_fW3cb4Lu9"
   },
   "outputs": [
    {
     "data": {
      "text/plain": [
       "Index(['Day', 'Andy', 'Bob', 'difference'], dtype='object')"
      ]
     },
     "execution_count": 35,
     "metadata": {},
     "output_type": "execute_result"
    }
   ],
   "source": [
    "#Obtain descriptive statistics\n",
    "df.columns"
   ]
  },
  {
   "cell_type": "code",
   "execution_count": 42,
   "metadata": {},
   "outputs": [
    {
     "data": {
      "text/plain": [
       "<Axes: xlabel='Day', ylabel='difference'>"
      ]
     },
     "execution_count": 42,
     "metadata": {},
     "output_type": "execute_result"
    },
    {
     "data": {
      "image/png": "[encoded data removed]",
      "text/plain": [
       "<Figure size 640x480 with 1 Axes>"
      ]
     },
     "metadata": {},
     "output_type": "display_data"
    }
   ],
   "source": [
    "sns.barplot(data=df, x='Day', y='difference', errorbar=('ci', False,))"
   ]
  },
  {
   "cell_type": "markdown",
   "metadata": {
    "id": "ehqukz_k4Lu9"
   },
   "source": [
    "**Summary**:\n"
   ]
  },
  {
   "cell_type": "markdown",
   "metadata": {
    "id": "e-aVjKe84Lu-"
   },
   "source": [
    "###  Hypothesis Testing for Difference in Means"
   ]
  },
  {
   "cell_type": "markdown",
   "metadata": {
    "id": "zzUGOuuH4Lu-"
   },
   "source": [
    "**Independent Samples**\n",
    "- Equal variances"
   ]
  },
  {
   "cell_type": "markdown",
   "metadata": {
    "id": "6oHGnF-R4Lu_"
   },
   "source": [
    "We shall start with conducting t-tests for difference in means using *scipy*. Assumes independent samples and equality of variance across populations. \n",
    "\n",
    "The hypotheses are as follows. \n",
    "\n",
    "> Let $\\mu_1$ be the mean for Andy and $\\mu_2$ the mean for Bob.\n",
    "\n",
    "$$H_0: \\mu_1-\\mu_2 = 0$$\n",
    "$$H_a: \\mu_1-\\mu_2 \\neq 0$$"
   ]
  },
  {
   "cell_type": "markdown",
   "metadata": {
    "id": "EjVzeUry4Lu_"
   },
   "source": [
    "> This will be a two-sided test, with $\\alpha$ = 0.05"
   ]
  },
  {
   "cell_type": "code",
   "execution_count": 57,
   "metadata": {
    "id": "aeWAb9Hw4LvC"
   },
   "outputs": [
    {
     "data": {
      "text/plain": [
       "TtestResult(statistic=0.44523214069369493, pvalue=0.6598369595940106, df=26.0)"
      ]
     },
     "execution_count": 57,
     "metadata": {},
     "output_type": "execute_result"
    }
   ],
   "source": [
    "## Run the t-test\n",
    "st.ttest_ind(a=df['Andy'], b=df['Bob'], equal_var=True)"
   ]
  },
  {
   "cell_type": "markdown",
   "metadata": {
    "id": "jdnsyaac4LvD"
   },
   "source": [
    "Next, we can run the test, without the equal variance assumption"
   ]
  },
  {
   "cell_type": "code",
   "execution_count": 58,
   "metadata": {
    "id": "cMARAu9_4LvD"
   },
   "outputs": [
    {
     "data": {
      "text/plain": [
       "TtestResult(statistic=0.44523214069369493, pvalue=0.6598396576346228, df=25.980860679682216)"
      ]
     },
     "execution_count": 58,
     "metadata": {},
     "output_type": "execute_result"
    }
   ],
   "source": [
    "##Run the test for the unequal variance assumption\n",
    "st.ttest_ind(a=df['Andy'], b=df['Bob'], equal_var=False)"
   ]
  },
  {
   "cell_type": "code",
   "execution_count": 61,
   "metadata": {
    "id": "5HRs-fE04LvE"
   },
   "outputs": [
    {
     "data": {
      "text/plain": [
       "BartlettResult(statistic=0.009225415343954173, pvalue=0.923481635617045)"
      ]
     },
     "execution_count": 61,
     "metadata": {},
     "output_type": "execute_result"
    }
   ],
   "source": [
    "### Additional Code\n",
    "### To test equality of variances\n",
    "# Bartlett's test of equality of variances\n",
    "st.bartlett(df['Andy'], df['Bob'])"
   ]
  },
  {
   "cell_type": "markdown",
   "metadata": {
    "id": "Efo71_Rt4LvF"
   },
   "source": [
    "---"
   ]
  },
  {
   "cell_type": "markdown",
   "metadata": {
    "id": "3Fd23Gnl4LvG"
   },
   "source": [
    "**Paired Samples**"
   ]
  },
  {
   "cell_type": "code",
   "execution_count": 63,
   "metadata": {
    "id": "riLMQqkI4LvG"
   },
   "outputs": [],
   "source": [
    "##Reiterating the need for using paired samples\n",
    "## Plot a scatterplot between Andy's sales and Bob's sales"
   ]
  },
  {
   "cell_type": "code",
   "execution_count": 89,
   "metadata": {
    "id": "ayIRd4Yb4LvH"
   },
   "outputs": [
    {
     "data": {
      "image/png": "[encoded data removed]",
      "text/plain": [
       "<Figure size 640x480 with 1 Axes>"
      ]
     },
     "metadata": {},
     "output_type": "display_data"
    }
   ],
   "source": [
    "ax = sns.scatterplot(data=df, y='Andy', x='Bob', hue='Day')\n",
    "ax.grid()\n",
    "sns.move_legend(ax, \"upper right\", bbox_to_anchor=(1.3, 1))"
   ]
  },
  {
   "cell_type": "markdown",
   "metadata": {
    "id": "wsm7dqhv4LvI"
   },
   "source": [
    "**Observation**: There is a near linear relationship between Andy and Bobs sales for each day of the week.\n",
    "They are highly correlated. This violates the indepence assumption."
   ]
  },
  {
   "cell_type": "markdown",
   "metadata": {
    "id": "EUK0YJEA4LvI"
   },
   "source": [
    "##### Using one-sample t-test on the Difference column\n",
    "\n",
    "We already have computed the \"Difference\" column. We can use it to perform hypothesis tests.\n",
    "\n",
    "Our hypotheses changes *a little bit*\n",
    "\n",
    "> Let $\\mu_d$ denote the difference in means for sales in Andy's and Bob's restaurants \n",
    "\n",
    "> Our original hypotheses that was shown previously changes to \n",
    "\n",
    "$$H_0: \\mu_d = 0$$\n",
    "$$H_a: \\mu_d \\neq 0$$\n",
    "\n",
    "> This will still be a two-sided test, with $\\alpha$ = 0.05"
   ]
  },
  {
   "cell_type": "code",
   "execution_count": 92,
   "metadata": {
    "id": "tMREjb_74LvJ"
   },
   "outputs": [
    {
     "data": {
      "text/plain": [
       "\u001b[1;31mSignature:\u001b[0m\n",
       "\u001b[0mst\u001b[0m\u001b[1;33m.\u001b[0m\u001b[0mttest_1samp\u001b[0m\u001b[1;33m(\u001b[0m\u001b[1;33m\n",
       "\u001b[0m    \u001b[0ma\u001b[0m\u001b[1;33m,\u001b[0m\u001b[1;33m\n",
       "\u001b[0m    \u001b[0mpopmean\u001b[0m\u001b[1;33m,\u001b[0m\u001b[1;33m\n",
       "\u001b[0m    \u001b[0maxis\u001b[0m\u001b[1;33m=\u001b[0m\u001b[1;36m0\u001b[0m\u001b[1;33m,\u001b[0m\u001b[1;33m\n",
       "\u001b[0m    \u001b[0mnan_policy\u001b[0m\u001b[1;33m=\u001b[0m\u001b[1;34m'propagate'\u001b[0m\u001b[1;33m,\u001b[0m\u001b[1;33m\n",
       "\u001b[0m    \u001b[0malternative\u001b[0m\u001b[1;33m=\u001b[0m\u001b[1;34m'two-sided'\u001b[0m\u001b[1;33m,\u001b[0m\u001b[1;33m\n",
       "\u001b[0m    \u001b[1;33m*\u001b[0m\u001b[1;33m,\u001b[0m\u001b[1;33m\n",
       "\u001b[0m    \u001b[0mkeepdims\u001b[0m\u001b[1;33m=\u001b[0m\u001b[1;32mFalse\u001b[0m\u001b[1;33m,\u001b[0m\u001b[1;33m\n",
       "\u001b[0m\u001b[1;33m)\u001b[0m\u001b[1;33m\u001b[0m\u001b[1;33m\u001b[0m\u001b[0m\n",
       "\u001b[1;31mDocstring:\u001b[0m\n",
       "Calculate the T-test for the mean of ONE group of scores.\n",
       "\n",
       "This is a test for the null hypothesis that the expected value\n",
       "(mean) of a sample of independent observations `a` is equal to the given\n",
       "population mean, `popmean`.\n",
       "\n",
       "Parameters\n",
       "----------\n",
       "a : array_like\n",
       "    Sample observation.\n",
       "popmean : float or array_like\n",
       "    Expected value in null hypothesis. If array_like, then its length along\n",
       "    `axis` must equal 1, and it must otherwise be broadcastable with `a`.\n",
       "axis : int or None, default: 0\n",
       "    If an int, the axis of the input along which to compute the statistic.\n",
       "    The statistic of each axis-slice (e.g. row) of the input will appear in a\n",
       "    corresponding element of the output.\n",
       "    If ``None``, the input will be raveled before computing the statistic.\n",
       "nan_policy : {'propagate', 'omit', 'raise'}\n",
       "    Defines how to handle input NaNs.\n",
       "    \n",
       "    - ``propagate``: if a NaN is present in the axis slice (e.g. row) along\n",
       "      which the  statistic is computed, the corresponding entry of the output\n",
       "      will be NaN.\n",
       "    - ``omit``: NaNs will be omitted when performing the calculation.\n",
       "      If insufficient data remains in the axis slice along which the\n",
       "      statistic is computed, the corresponding entry of the output will be\n",
       "      NaN.\n",
       "    - ``raise``: if a NaN is present, a ``ValueError`` will be raised.\n",
       "alternative : {'two-sided', 'less', 'greater'}, optional\n",
       "    Defines the alternative hypothesis.\n",
       "    The following options are available (default is 'two-sided'):\n",
       "    \n",
       "    * 'two-sided': the mean of the underlying distribution of the sample\n",
       "      is different than the given population mean (`popmean`)\n",
       "    * 'less': the mean of the underlying distribution of the sample is\n",
       "      less than the given population mean (`popmean`)\n",
       "    * 'greater': the mean of the underlying distribution of the sample is\n",
       "      greater than the given population mean (`popmean`)\n",
       "keepdims : bool, default: False\n",
       "    If this is set to True, the axes which are reduced are left\n",
       "    in the result as dimensions with size one. With this option,\n",
       "    the result will broadcast correctly against the input array.\n",
       "\n",
       "Returns\n",
       "-------\n",
       "result : `~scipy.stats._result_classes.TtestResult`\n",
       "    An object with the following attributes:\n",
       "    \n",
       "    statistic : float or array\n",
       "        The t-statistic.\n",
       "    pvalue : float or array\n",
       "        The p-value associated with the given alternative.\n",
       "    df : float or array\n",
       "        The number of degrees of freedom used in calculation of the\n",
       "        t-statistic; this is one less than the size of the sample\n",
       "        (``a.shape[axis]``).\n",
       "    \n",
       "        .. versionadded:: 1.10.0\n",
       "    \n",
       "    The object also has the following method:\n",
       "    \n",
       "    confidence_interval(confidence_level=0.95)\n",
       "        Computes a confidence interval around the population\n",
       "        mean for the given confidence level.\n",
       "        The confidence interval is returned in a ``namedtuple`` with\n",
       "        fields `low` and `high`.\n",
       "    \n",
       "        .. versionadded:: 1.10.0\n",
       "\n",
       "Notes\n",
       "-----\n",
       "The statistic is calculated as ``(np.mean(a) - popmean)/se``, where\n",
       "``se`` is the standard error. Therefore, the statistic will be positive\n",
       "when the sample mean is greater than the population mean and negative when\n",
       "the sample mean is less than the population mean.\n",
       "\n",
       "Beginning in SciPy 1.9, ``np.matrix`` inputs (not recommended for new\n",
       "code) are converted to ``np.ndarray`` before the calculation is performed. In\n",
       "this case, the output will be a scalar or ``np.ndarray`` of appropriate shape\n",
       "rather than a 2D ``np.matrix``. Similarly, while masked elements of masked\n",
       "arrays are ignored, the output will be a scalar or ``np.ndarray`` rather than a\n",
       "masked array with ``mask=False``.\n",
       "\n",
       "Examples\n",
       "--------\n",
       "Suppose we wish to test the null hypothesis that the mean of a population\n",
       "is equal to 0.5. We choose a confidence level of 99%; that is, we will\n",
       "reject the null hypothesis in favor of the alternative if the p-value is\n",
       "less than 0.01.\n",
       "\n",
       "When testing random variates from the standard uniform distribution, which\n",
       "has a mean of 0.5, we expect the data to be consistent with the null\n",
       "hypothesis most of the time.\n",
       "\n",
       ">>> import numpy as np\n",
       ">>> from scipy import stats\n",
       ">>> rng = np.random.default_rng()\n",
       ">>> rvs = stats.uniform.rvs(size=50, random_state=rng)\n",
       ">>> stats.ttest_1samp(rvs, popmean=0.5)\n",
       "TtestResult(statistic=2.456308468440, pvalue=0.017628209047638, df=49)\n",
       "\n",
       "As expected, the p-value of 0.017 is not below our threshold of 0.01, so\n",
       "we cannot reject the null hypothesis.\n",
       "\n",
       "When testing data from the standard *normal* distribution, which has a mean\n",
       "of 0, we would expect the null hypothesis to be rejected.\n",
       "\n",
       ">>> rvs = stats.norm.rvs(size=50, random_state=rng)\n",
       ">>> stats.ttest_1samp(rvs, popmean=0.5)\n",
       "TtestResult(statistic=-7.433605518875, pvalue=1.416760157221e-09, df=49)\n",
       "\n",
       "Indeed, the p-value is lower than our threshold of 0.01, so we reject the\n",
       "null hypothesis in favor of the default \"two-sided\" alternative: the mean\n",
       "of the population is *not* equal to 0.5.\n",
       "\n",
       "However, suppose we were to test the null hypothesis against the\n",
       "one-sided alternative that the mean of the population is *greater* than\n",
       "0.5. Since the mean of the standard normal is less than 0.5, we would not\n",
       "expect the null hypothesis to be rejected.\n",
       "\n",
       ">>> stats.ttest_1samp(rvs, popmean=0.5, alternative='greater')\n",
       "TtestResult(statistic=-7.433605518875, pvalue=0.99999999929, df=49)\n",
       "\n",
       "Unsurprisingly, with a p-value greater than our threshold, we would not\n",
       "reject the null hypothesis.\n",
       "\n",
       "Note that when working with a confidence level of 99%, a true null\n",
       "hypothesis will be rejected approximately 1% of the time.\n",
       "\n",
       ">>> rvs = stats.uniform.rvs(size=(100, 50), random_state=rng)\n",
       ">>> res = stats.ttest_1samp(rvs, popmean=0.5, axis=1)\n",
       ">>> np.sum(res.pvalue < 0.01)\n",
       "1\n",
       "\n",
       "Indeed, even though all 100 samples above were drawn from the standard\n",
       "uniform distribution, which *does* have a population mean of 0.5, we would\n",
       "mistakenly reject the null hypothesis for one of them.\n",
       "\n",
       "`ttest_1samp` can also compute a confidence interval around the population\n",
       "mean.\n",
       "\n",
       ">>> rvs = stats.norm.rvs(size=50, random_state=rng)\n",
       ">>> res = stats.ttest_1samp(rvs, popmean=0)\n",
       ">>> ci = res.confidence_interval(confidence_level=0.95)\n",
       ">>> ci\n",
       "ConfidenceInterval(low=-0.3193887540880017, high=0.2898583388980972)\n",
       "\n",
       "The bounds of the 95% confidence interval are the\n",
       "minimum and maximum values of the parameter `popmean` for which the\n",
       "p-value of the test would be 0.05.\n",
       "\n",
       ">>> res = stats.ttest_1samp(rvs, popmean=ci.low)\n",
       ">>> np.testing.assert_allclose(res.pvalue, 0.05)\n",
       ">>> res = stats.ttest_1samp(rvs, popmean=ci.high)\n",
       ">>> np.testing.assert_allclose(res.pvalue, 0.05)\n",
       "\n",
       "Under certain assumptions about the population from which a sample\n",
       "is drawn, the confidence interval with confidence level 95% is expected\n",
       "to contain the true population mean in 95% of sample replications.\n",
       "\n",
       ">>> rvs = stats.norm.rvs(size=(50, 1000), loc=1, random_state=rng)\n",
       ">>> res = stats.ttest_1samp(rvs, popmean=0)\n",
       ">>> ci = res.confidence_interval()\n",
       ">>> contains_pop_mean = (ci.low < 1) & (ci.high > 1)\n",
       ">>> contains_pop_mean.sum()\n",
       "953\n",
       "\u001b[1;31mFile:\u001b[0m      c:\\users\\vr3n\\codes\\upgrad-maryland-analytics\\upgrad_venv\\lib\\site-packages\\scipy\\stats\\_stats_py.py\n",
       "\u001b[1;31mType:\u001b[0m      function"
      ]
     },
     "metadata": {},
     "output_type": "display_data"
    }
   ],
   "source": [
    "## We can peform a one-sample t-test on the 'Difference' column\n",
    "##Let's check the documentation for ttest_1amp\n",
    "?st.ttest_1samp"
   ]
  },
  {
   "cell_type": "code",
   "execution_count": 93,
   "metadata": {
    "id": "Mizpc76p4LvK"
   },
   "outputs": [
    {
     "data": {
      "text/plain": [
       "TtestResult(statistic=10.275885788346828, pvalue=1.3108746661209956e-07, df=13)"
      ]
     },
     "execution_count": 93,
     "metadata": {},
     "output_type": "execute_result"
    }
   ],
   "source": [
    "## Run the one-sample t-test\n",
    "st.ttest_1samp(df['difference'], 0)"
   ]
  },
  {
   "cell_type": "markdown",
   "metadata": {
    "id": "P5oiDgKt4LvL"
   },
   "source": [
    "The P-value is nearly 0, indicating the null hypothesis can be rejected.\n",
    "Thus, in paired sample case we can observe significant evidence to suggest that andy's restaurant can perform better than bob's restaurant."
   ]
  },
  {
   "cell_type": "markdown",
   "metadata": {
    "id": "BD-ien7v4LvL"
   },
   "source": [
    "#### Using two-sample t-test for paired samples"
   ]
  },
  {
   "cell_type": "code",
   "execution_count": 94,
   "metadata": {
    "id": "KbTsj7TN4LvM",
    "scrolled": true
   },
   "outputs": [
    {
     "data": {
      "text/plain": [
       "\u001b[1;31mSignature:\u001b[0m\n",
       "\u001b[0mst\u001b[0m\u001b[1;33m.\u001b[0m\u001b[0mttest_rel\u001b[0m\u001b[1;33m(\u001b[0m\u001b[1;33m\n",
       "\u001b[0m    \u001b[0ma\u001b[0m\u001b[1;33m,\u001b[0m\u001b[1;33m\n",
       "\u001b[0m    \u001b[0mb\u001b[0m\u001b[1;33m,\u001b[0m\u001b[1;33m\n",
       "\u001b[0m    \u001b[0maxis\u001b[0m\u001b[1;33m=\u001b[0m\u001b[1;36m0\u001b[0m\u001b[1;33m,\u001b[0m\u001b[1;33m\n",
       "\u001b[0m    \u001b[0mnan_policy\u001b[0m\u001b[1;33m=\u001b[0m\u001b[1;34m'propagate'\u001b[0m\u001b[1;33m,\u001b[0m\u001b[1;33m\n",
       "\u001b[0m    \u001b[0malternative\u001b[0m\u001b[1;33m=\u001b[0m\u001b[1;34m'two-sided'\u001b[0m\u001b[1;33m,\u001b[0m\u001b[1;33m\n",
       "\u001b[0m    \u001b[1;33m*\u001b[0m\u001b[1;33m,\u001b[0m\u001b[1;33m\n",
       "\u001b[0m    \u001b[0mkeepdims\u001b[0m\u001b[1;33m=\u001b[0m\u001b[1;32mFalse\u001b[0m\u001b[1;33m,\u001b[0m\u001b[1;33m\n",
       "\u001b[0m\u001b[1;33m)\u001b[0m\u001b[1;33m\u001b[0m\u001b[1;33m\u001b[0m\u001b[0m\n",
       "\u001b[1;31mDocstring:\u001b[0m\n",
       "Calculate the t-test on TWO RELATED samples of scores, a and b.\n",
       "\n",
       "This is a test for the null hypothesis that two related or\n",
       "repeated samples have identical average (expected) values.\n",
       "\n",
       "Parameters\n",
       "----------\n",
       "a, b : array_like\n",
       "    The arrays must have the same shape.\n",
       "axis : int or None, default: 0\n",
       "    If an int, the axis of the input along which to compute the statistic.\n",
       "    The statistic of each axis-slice (e.g. row) of the input will appear in a\n",
       "    corresponding element of the output.\n",
       "    If ``None``, the input will be raveled before computing the statistic.\n",
       "nan_policy : {'propagate', 'omit', 'raise'}\n",
       "    Defines how to handle input NaNs.\n",
       "    \n",
       "    - ``propagate``: if a NaN is present in the axis slice (e.g. row) along\n",
       "      which the  statistic is computed, the corresponding entry of the output\n",
       "      will be NaN.\n",
       "    - ``omit``: NaNs will be omitted when performing the calculation.\n",
       "      If insufficient data remains in the axis slice along which the\n",
       "      statistic is computed, the corresponding entry of the output will be\n",
       "      NaN.\n",
       "    - ``raise``: if a NaN is present, a ``ValueError`` will be raised.\n",
       "alternative : {'two-sided', 'less', 'greater'}, optional\n",
       "    Defines the alternative hypothesis.\n",
       "    The following options are available (default is 'two-sided'):\n",
       "    \n",
       "    * 'two-sided': the means of the distributions underlying the samples\n",
       "      are unequal.\n",
       "    * 'less': the mean of the distribution underlying the first sample\n",
       "      is less than the mean of the distribution underlying the second\n",
       "      sample.\n",
       "    * 'greater': the mean of the distribution underlying the first\n",
       "      sample is greater than the mean of the distribution underlying\n",
       "      the second sample.\n",
       "    \n",
       "    .. versionadded:: 1.6.0\n",
       "keepdims : bool, default: False\n",
       "    If this is set to True, the axes which are reduced are left\n",
       "    in the result as dimensions with size one. With this option,\n",
       "    the result will broadcast correctly against the input array.\n",
       "\n",
       "Returns\n",
       "-------\n",
       "result : `~scipy.stats._result_classes.TtestResult`\n",
       "    An object with the following attributes:\n",
       "    \n",
       "    statistic : float or array\n",
       "        The t-statistic.\n",
       "    pvalue : float or array\n",
       "        The p-value associated with the given alternative.\n",
       "    df : float or array\n",
       "        The number of degrees of freedom used in calculation of the\n",
       "        t-statistic; this is one less than the size of the sample\n",
       "        (``a.shape[axis]``).\n",
       "    \n",
       "        .. versionadded:: 1.10.0\n",
       "    \n",
       "    The object also has the following method:\n",
       "    \n",
       "    confidence_interval(confidence_level=0.95)\n",
       "        Computes a confidence interval around the difference in\n",
       "        population means for the given confidence level.\n",
       "        The confidence interval is returned in a ``namedtuple`` with\n",
       "        fields `low` and `high`.\n",
       "    \n",
       "        .. versionadded:: 1.10.0\n",
       "\n",
       "Notes\n",
       "-----\n",
       "Examples for use are scores of the same set of student in\n",
       "different exams, or repeated sampling from the same units. The\n",
       "test measures whether the average score differs significantly\n",
       "across samples (e.g. exams). If we observe a large p-value, for\n",
       "example greater than 0.05 or 0.1 then we cannot reject the null\n",
       "hypothesis of identical average scores. If the p-value is smaller\n",
       "than the threshold, e.g. 1%, 5% or 10%, then we reject the null\n",
       "hypothesis of equal averages. Small p-values are associated with\n",
       "large t-statistics.\n",
       "\n",
       "The t-statistic is calculated as ``np.mean(a - b)/se``, where ``se`` is the\n",
       "standard error. Therefore, the t-statistic will be positive when the sample\n",
       "mean of ``a - b`` is greater than zero and negative when the sample mean of\n",
       "``a - b`` is less than zero.\n",
       "\n",
       "Beginning in SciPy 1.9, ``np.matrix`` inputs (not recommended for new\n",
       "code) are converted to ``np.ndarray`` before the calculation is performed. In\n",
       "this case, the output will be a scalar or ``np.ndarray`` of appropriate shape\n",
       "rather than a 2D ``np.matrix``. Similarly, while masked elements of masked\n",
       "arrays are ignored, the output will be a scalar or ``np.ndarray`` rather than a\n",
       "masked array with ``mask=False``.\n",
       "\n",
       "References\n",
       "----------\n",
       "https://en.wikipedia.org/wiki/T-test#Dependent_t-test_for_paired_samples\n",
       "\n",
       "Examples\n",
       "--------\n",
       ">>> import numpy as np\n",
       ">>> from scipy import stats\n",
       ">>> rng = np.random.default_rng()\n",
       "\n",
       ">>> rvs1 = stats.norm.rvs(loc=5, scale=10, size=500, random_state=rng)\n",
       ">>> rvs2 = (stats.norm.rvs(loc=5, scale=10, size=500, random_state=rng)\n",
       "...         + stats.norm.rvs(scale=0.2, size=500, random_state=rng))\n",
       ">>> stats.ttest_rel(rvs1, rvs2)\n",
       "TtestResult(statistic=-0.4549717054410304, pvalue=0.6493274702088672, df=499)  # noqa\n",
       ">>> rvs3 = (stats.norm.rvs(loc=8, scale=10, size=500, random_state=rng)\n",
       "...         + stats.norm.rvs(scale=0.2, size=500, random_state=rng))\n",
       ">>> stats.ttest_rel(rvs1, rvs3)\n",
       "TtestResult(statistic=-5.879467544540889, pvalue=7.540777129099917e-09, df=499)  # noqa\n",
       "\u001b[1;31mFile:\u001b[0m      c:\\users\\vr3n\\codes\\upgrad-maryland-analytics\\upgrad_venv\\lib\\site-packages\\scipy\\stats\\_stats_py.py\n",
       "\u001b[1;31mType:\u001b[0m      function"
      ]
     },
     "metadata": {},
     "output_type": "display_data"
    }
   ],
   "source": [
    "## A quick look at the ttest_rel method's documentation\n",
    "?st.ttest_rel"
   ]
  },
  {
   "cell_type": "code",
   "execution_count": 95,
   "metadata": {
    "id": "ZvFLDrwj4LvO"
   },
   "outputs": [
    {
     "data": {
      "text/plain": [
       "TtestResult(statistic=10.275885788346828, pvalue=1.3108746661209956e-07, df=13)"
      ]
     },
     "execution_count": 95,
     "metadata": {},
     "output_type": "execute_result"
    }
   ],
   "source": [
    "# Paired sample t-test\n",
    "st.ttest_rel(df['Andy'], df['Bob'])"
   ]
  },
  {
   "cell_type": "markdown",
   "metadata": {
    "id": "3ctCbGOj4LvO"
   },
   "source": [
    "Reject the null hypothesis. in two samples case we can observe significant evidence to suggest that andy's restaurant can perform better than bob's restaurant."
   ]
  },
  {
   "cell_type": "markdown",
   "metadata": {
    "id": "ZwjXrEKI4LvP"
   },
   "source": [
    "### Using paired t-test in Pingouin"
   ]
  },
  {
   "cell_type": "markdown",
   "metadata": {
    "id": "tjFbK45x4LvP"
   },
   "source": [
    "*Pingouin* is an open-source statistical package written in Python 3 and based mostly on Pandas and NumPy. It provides slightly more exhaustive statistical information by default as compared to the methods in the *scipy.stats* package\n",
    "\n",
    "Read more: https://pingouin-stats.org/"
   ]
  },
  {
   "cell_type": "code",
   "execution_count": 96,
   "metadata": {
    "id": "SxxouAU74LvQ"
   },
   "outputs": [
    {
     "name": "stdout",
     "output_type": "stream",
     "text": [
      "Collecting pingouin\n",
      "  Downloading pingouin-0.5.3-py3-none-any.whl (198 kB)\n",
      "     ---------------------------------------- 0.0/198.6 kB ? eta -:--:--\n",
      "     ---------------- ---------------------- 81.9/198.6 kB 2.2 MB/s eta 0:00:01\n",
      "     ----------------------- -------------- 122.9/198.6 kB 2.4 MB/s eta 0:00:01\n",
      "     ----------------------- -------------- 122.9/198.6 kB 2.4 MB/s eta 0:00:01\n",
      "     ----------------------- -------------- 122.9/198.6 kB 2.4 MB/s eta 0:00:01\n",
      "     ------------------------------------ 198.6/198.6 kB 801.4 kB/s eta 0:00:00\n",
      "Requirement already satisfied: numpy>=1.19 in c:\\users\\vr3n\\codes\\upgrad-maryland-analytics\\upgrad_venv\\lib\\site-packages (from pingouin) (1.25.2)\n",
      "Requirement already satisfied: scipy>=1.7 in c:\\users\\vr3n\\codes\\upgrad-maryland-analytics\\upgrad_venv\\lib\\site-packages (from pingouin) (1.11.2)\n",
      "Requirement already satisfied: pandas>=1.0 in c:\\users\\vr3n\\codes\\upgrad-maryland-analytics\\upgrad_venv\\lib\\site-packages (from pingouin) (2.0.3)\n",
      "Requirement already satisfied: matplotlib>=3.0.2 in c:\\users\\vr3n\\codes\\upgrad-maryland-analytics\\upgrad_venv\\lib\\site-packages (from pingouin) (3.7.2)\n",
      "Requirement already satisfied: seaborn>=0.11 in c:\\users\\vr3n\\codes\\upgrad-maryland-analytics\\upgrad_venv\\lib\\site-packages (from pingouin) (0.12.2)\n",
      "Collecting statsmodels>=0.13 (from pingouin)\n",
      "  Downloading statsmodels-0.14.0-cp310-cp310-win_amd64.whl (9.2 MB)\n",
      "     ---------------------------------------- 0.0/9.2 MB ? eta -:--:--\n",
      "     ---------------------------------------- 0.1/9.2 MB 1.7 MB/s eta 0:00:06\n",
      "      --------------------------------------- 0.2/9.2 MB 2.3 MB/s eta 0:00:04\n",
      "     - -------------------------------------- 0.4/9.2 MB 2.5 MB/s eta 0:00:04\n",
      "     - -------------------------------------- 0.4/9.2 MB 2.3 MB/s eta 0:00:04\n",
      "     -- ------------------------------------- 0.6/9.2 MB 2.3 MB/s eta 0:00:04\n",
      "     -- ------------------------------------- 0.6/9.2 MB 2.1 MB/s eta 0:00:05\n",
      "     -- ------------------------------------- 0.7/9.2 MB 2.2 MB/s eta 0:00:04\n",
      "     -- ------------------------------------- 0.7/9.2 MB 1.8 MB/s eta 0:00:05\n",
      "     -- ------------------------------------- 0.7/9.2 MB 1.8 MB/s eta 0:00:05\n",
      "     --- ------------------------------------ 0.7/9.2 MB 1.6 MB/s eta 0:00:06\n",
      "     --- ------------------------------------ 0.9/9.2 MB 1.7 MB/s eta 0:00:05\n",
      "     ---- ----------------------------------- 1.0/9.2 MB 1.8 MB/s eta 0:00:05\n",
      "     ---- ----------------------------------- 1.1/9.2 MB 1.9 MB/s eta 0:00:05\n",
      "     ----- ---------------------------------- 1.3/9.2 MB 1.9 MB/s eta 0:00:05\n",
      "     ------ --------------------------------- 1.4/9.2 MB 2.0 MB/s eta 0:00:04\n",
      "     ------ --------------------------------- 1.5/9.2 MB 2.0 MB/s eta 0:00:04\n",
      "     ------- -------------------------------- 1.6/9.2 MB 2.0 MB/s eta 0:00:04\n",
      "     ------- -------------------------------- 1.8/9.2 MB 2.1 MB/s eta 0:00:04\n",
      "     -------- ------------------------------- 1.9/9.2 MB 2.1 MB/s eta 0:00:04\n",
      "     -------- ------------------------------- 2.0/9.2 MB 2.2 MB/s eta 0:00:04\n",
      "     --------- ------------------------------ 2.2/9.2 MB 2.2 MB/s eta 0:00:04\n",
      "     ---------- ----------------------------- 2.3/9.2 MB 2.2 MB/s eta 0:00:04\n",
      "     ---------- ----------------------------- 2.4/9.2 MB 2.2 MB/s eta 0:00:04\n",
      "     ----------- ---------------------------- 2.6/9.2 MB 2.3 MB/s eta 0:00:03\n",
      "     ----------- ---------------------------- 2.7/9.2 MB 2.3 MB/s eta 0:00:03\n",
      "     ------------ --------------------------- 2.8/9.2 MB 2.3 MB/s eta 0:00:03\n",
      "     ------------ --------------------------- 2.9/9.2 MB 2.3 MB/s eta 0:00:03\n",
      "     ------------ --------------------------- 2.9/9.2 MB 2.3 MB/s eta 0:00:03\n",
      "     ------------- -------------------------- 3.0/9.2 MB 2.2 MB/s eta 0:00:03\n",
      "     ------------- -------------------------- 3.2/9.2 MB 2.2 MB/s eta 0:00:03\n",
      "     -------------- ------------------------- 3.3/9.2 MB 2.2 MB/s eta 0:00:03\n",
      "     -------------- ------------------------- 3.4/9.2 MB 2.2 MB/s eta 0:00:03\n",
      "     -------------- ------------------------- 3.4/9.2 MB 2.2 MB/s eta 0:00:03\n",
      "     --------------- ------------------------ 3.5/9.2 MB 2.2 MB/s eta 0:00:03\n",
      "     --------------- ------------------------ 3.6/9.2 MB 2.2 MB/s eta 0:00:03\n",
      "     --------------- ------------------------ 3.6/9.2 MB 2.1 MB/s eta 0:00:03\n",
      "     --------------- ------------------------ 3.6/9.2 MB 2.1 MB/s eta 0:00:03\n",
      "     ---------------- ----------------------- 3.7/9.2 MB 2.1 MB/s eta 0:00:03\n",
      "     ---------------- ----------------------- 3.9/9.2 MB 2.1 MB/s eta 0:00:03\n",
      "     ----------------- ---------------------- 4.0/9.2 MB 2.1 MB/s eta 0:00:03\n",
      "     ----------------- ---------------------- 4.1/9.2 MB 2.1 MB/s eta 0:00:03\n",
      "     ------------------ --------------------- 4.2/9.2 MB 2.1 MB/s eta 0:00:03\n",
      "     ------------------ --------------------- 4.3/9.2 MB 2.2 MB/s eta 0:00:03\n",
      "     ------------------- -------------------- 4.5/9.2 MB 2.2 MB/s eta 0:00:03\n",
      "     ------------------- -------------------- 4.6/9.2 MB 2.2 MB/s eta 0:00:03\n",
      "     -------------------- ------------------- 4.7/9.2 MB 2.2 MB/s eta 0:00:03\n",
      "     -------------------- ------------------- 4.8/9.2 MB 2.2 MB/s eta 0:00:02\n",
      "     --------------------- ------------------ 4.9/9.2 MB 2.2 MB/s eta 0:00:02\n",
      "     --------------------- ------------------ 5.0/9.2 MB 2.2 MB/s eta 0:00:02\n",
      "     ---------------------- ----------------- 5.1/9.2 MB 2.2 MB/s eta 0:00:02\n",
      "     ---------------------- ----------------- 5.2/9.2 MB 2.2 MB/s eta 0:00:02\n",
      "     ---------------------- ----------------- 5.3/9.2 MB 2.2 MB/s eta 0:00:02\n",
      "     ----------------------- ---------------- 5.3/9.2 MB 2.1 MB/s eta 0:00:02\n",
      "     ----------------------- ---------------- 5.4/9.2 MB 2.1 MB/s eta 0:00:02\n",
      "     ------------------------ --------------- 5.6/9.2 MB 2.2 MB/s eta 0:00:02\n",
      "     ------------------------ --------------- 5.6/9.2 MB 2.2 MB/s eta 0:00:02\n",
      "     ------------------------- -------------- 5.8/9.2 MB 2.2 MB/s eta 0:00:02\n",
      "     ------------------------- -------------- 5.9/9.2 MB 2.2 MB/s eta 0:00:02\n",
      "     -------------------------- ------------- 6.0/9.2 MB 2.2 MB/s eta 0:00:02\n",
      "     -------------------------- ------------- 6.1/9.2 MB 2.2 MB/s eta 0:00:02\n",
      "     -------------------------- ------------- 6.2/9.2 MB 2.2 MB/s eta 0:00:02\n",
      "     --------------------------- ------------ 6.3/9.2 MB 2.1 MB/s eta 0:00:02\n",
      "     --------------------------- ------------ 6.3/9.2 MB 2.1 MB/s eta 0:00:02\n",
      "     ---------------------------- ----------- 6.5/9.2 MB 2.1 MB/s eta 0:00:02\n",
      "     ---------------------------- ----------- 6.6/9.2 MB 2.2 MB/s eta 0:00:02\n",
      "     ----------------------------- ---------- 6.7/9.2 MB 2.2 MB/s eta 0:00:02\n",
      "     ----------------------------- ---------- 6.9/9.2 MB 2.2 MB/s eta 0:00:02\n",
      "     ------------------------------ --------- 7.0/9.2 MB 2.2 MB/s eta 0:00:02\n",
      "     ------------------------------- -------- 7.1/9.2 MB 2.2 MB/s eta 0:00:01\n",
      "     -------------------------------- ------- 7.4/9.2 MB 2.2 MB/s eta 0:00:01\n",
      "     -------------------------------- ------- 7.6/9.2 MB 2.2 MB/s eta 0:00:01\n",
      "     --------------------------------- ------ 7.7/9.2 MB 2.3 MB/s eta 0:00:01\n",
      "     ---------------------------------- ----- 7.9/9.2 MB 2.3 MB/s eta 0:00:01\n",
      "     ----------------------------------- ---- 8.1/9.2 MB 2.3 MB/s eta 0:00:01\n",
      "     ----------------------------------- ---- 8.2/9.2 MB 2.3 MB/s eta 0:00:01\n",
      "     ------------------------------------ --- 8.4/9.2 MB 2.3 MB/s eta 0:00:01\n",
      "     ------------------------------------- -- 8.6/9.2 MB 2.4 MB/s eta 0:00:01\n",
      "     -------------------------------------- - 8.8/9.2 MB 2.4 MB/s eta 0:00:01\n",
      "     -------------------------------------- - 9.0/9.2 MB 2.4 MB/s eta 0:00:01\n",
      "     ---------------------------------------  9.1/9.2 MB 2.4 MB/s eta 0:00:01\n",
      "     ---------------------------------------  9.2/9.2 MB 2.4 MB/s eta 0:00:01\n",
      "     ---------------------------------------- 9.2/9.2 MB 2.4 MB/s eta 0:00:00\n",
      "Collecting scikit-learn (from pingouin)\n",
      "  Obtaining dependency information for scikit-learn from https://files.pythonhosted.org/packages/69/8a/cf17d6443f5f537e099be81535a56ab68a473f9393fbffda38cd19899fc8/scikit_learn-1.3.2-cp310-cp310-win_amd64.whl.metadata\n",
      "  Using cached scikit_learn-1.3.2-cp310-cp310-win_amd64.whl.metadata (11 kB)\n",
      "Collecting pandas-flavor>=0.2.0 (from pingouin)\n",
      "  Obtaining dependency information for pandas-flavor>=0.2.0 from https://files.pythonhosted.org/packages/67/1a/bfb5574b215f530c7ac5be684f33d60b299abbebd763c203aa31755f2fb2/pandas_flavor-0.6.0-py3-none-any.whl.metadata\n",
      "  Downloading pandas_flavor-0.6.0-py3-none-any.whl.metadata (6.3 kB)\n",
      "Collecting outdated (from pingouin)\n",
      "  Downloading outdated-0.2.2-py2.py3-none-any.whl (7.5 kB)\n",
      "Collecting tabulate (from pingouin)\n",
      "  Downloading tabulate-0.9.0-py3-none-any.whl (35 kB)\n",
      "Requirement already satisfied: contourpy>=1.0.1 in c:\\users\\vr3n\\codes\\upgrad-maryland-analytics\\upgrad_venv\\lib\\site-packages (from matplotlib>=3.0.2->pingouin) (1.1.0)\n",
      "Requirement already satisfied: cycler>=0.10 in c:\\users\\vr3n\\codes\\upgrad-maryland-analytics\\upgrad_venv\\lib\\site-packages (from matplotlib>=3.0.2->pingouin) (0.11.0)\n",
      "Requirement already satisfied: fonttools>=4.22.0 in c:\\users\\vr3n\\codes\\upgrad-maryland-analytics\\upgrad_venv\\lib\\site-packages (from matplotlib>=3.0.2->pingouin) (4.42.0)\n",
      "Requirement already satisfied: kiwisolver>=1.0.1 in c:\\users\\vr3n\\codes\\upgrad-maryland-analytics\\upgrad_venv\\lib\\site-packages (from matplotlib>=3.0.2->pingouin) (1.4.4)\n",
      "Requirement already satisfied: packaging>=20.0 in c:\\users\\vr3n\\codes\\upgrad-maryland-analytics\\upgrad_venv\\lib\\site-packages (from matplotlib>=3.0.2->pingouin) (23.1)\n",
      "Requirement already satisfied: pillow>=6.2.0 in c:\\users\\vr3n\\codes\\upgrad-maryland-analytics\\upgrad_venv\\lib\\site-packages (from matplotlib>=3.0.2->pingouin) (9.5.0)\n",
      "Requirement already satisfied: pyparsing<3.1,>=2.3.1 in c:\\users\\vr3n\\codes\\upgrad-maryland-analytics\\upgrad_venv\\lib\\site-packages (from matplotlib>=3.0.2->pingouin) (3.0.9)\n",
      "Requirement already satisfied: python-dateutil>=2.7 in c:\\users\\vr3n\\codes\\upgrad-maryland-analytics\\upgrad_venv\\lib\\site-packages (from matplotlib>=3.0.2->pingouin) (2.8.2)\n",
      "Requirement already satisfied: pytz>=2020.1 in c:\\users\\vr3n\\codes\\upgrad-maryland-analytics\\upgrad_venv\\lib\\site-packages (from pandas>=1.0->pingouin) (2023.3)\n",
      "Requirement already satisfied: tzdata>=2022.1 in c:\\users\\vr3n\\codes\\upgrad-maryland-analytics\\upgrad_venv\\lib\\site-packages (from pandas>=1.0->pingouin) (2023.3)\n",
      "Collecting xarray (from pandas-flavor>=0.2.0->pingouin)\n",
      "  Obtaining dependency information for xarray from https://files.pythonhosted.org/packages/c3/0a/56eadeb54f258e88f2f31e79fcb84079f8757298f4257d716cbbc674c460/xarray-2023.11.0-py3-none-any.whl.metadata\n",
      "  Downloading xarray-2023.11.0-py3-none-any.whl.metadata (11 kB)\n",
      "Collecting patsy>=0.5.2 (from statsmodels>=0.13->pingouin)\n",
      "  Downloading patsy-0.5.3-py2.py3-none-any.whl (233 kB)\n",
      "     ---------------------------------------- 0.0/233.8 kB ? eta -:--:--\n",
      "     --------------------------------- ---- 204.8/233.8 kB 6.3 MB/s eta 0:00:01\n",
      "     -------------------------------------- 233.8/233.8 kB 4.8 MB/s eta 0:00:00\n",
      "Requirement already satisfied: setuptools>=44 in c:\\users\\vr3n\\codes\\upgrad-maryland-analytics\\upgrad_venv\\lib\\site-packages (from outdated->pingouin) (65.5.0)\n",
      "Collecting littleutils (from outdated->pingouin)\n",
      "  Downloading littleutils-0.2.2.tar.gz (6.6 kB)\n",
      "  Installing build dependencies: started\n",
      "  Installing build dependencies: finished with status 'done'\n",
      "  Getting requirements to build wheel: started\n",
      "  Getting requirements to build wheel: finished with status 'done'\n",
      "  Preparing metadata (pyproject.toml): started\n",
      "  Preparing metadata (pyproject.toml): finished with status 'done'\n",
      "Requirement already satisfied: requests in c:\\users\\vr3n\\codes\\upgrad-maryland-analytics\\upgrad_venv\\lib\\site-packages (from outdated->pingouin) (2.31.0)\n",
      "Collecting joblib>=1.1.1 (from scikit-learn->pingouin)\n",
      "  Obtaining dependency information for joblib>=1.1.1 from https://files.pythonhosted.org/packages/10/40/d551139c85db202f1f384ba8bcf96aca2f329440a844f924c8a0040b6d02/joblib-1.3.2-py3-none-any.whl.metadata\n",
      "  Using cached joblib-1.3.2-py3-none-any.whl.metadata (5.4 kB)\n",
      "Collecting threadpoolctl>=2.0.0 (from scikit-learn->pingouin)\n",
      "  Obtaining dependency information for threadpoolctl>=2.0.0 from https://files.pythonhosted.org/packages/81/12/fd4dea011af9d69e1cad05c75f3f7202cdcbeac9b712eea58ca779a72865/threadpoolctl-3.2.0-py3-none-any.whl.metadata\n",
      "  Using cached threadpoolctl-3.2.0-py3-none-any.whl.metadata (10.0 kB)\n",
      "Requirement already satisfied: six in c:\\users\\vr3n\\codes\\upgrad-maryland-analytics\\upgrad_venv\\lib\\site-packages (from patsy>=0.5.2->statsmodels>=0.13->pingouin) (1.16.0)\n",
      "Requirement already satisfied: charset-normalizer<4,>=2 in c:\\users\\vr3n\\codes\\upgrad-maryland-analytics\\upgrad_venv\\lib\\site-packages (from requests->outdated->pingouin) (3.2.0)\n",
      "Requirement already satisfied: idna<4,>=2.5 in c:\\users\\vr3n\\codes\\upgrad-maryland-analytics\\upgrad_venv\\lib\\site-packages (from requests->outdated->pingouin) (3.4)\n",
      "Requirement already satisfied: urllib3<3,>=1.21.1 in c:\\users\\vr3n\\codes\\upgrad-maryland-analytics\\upgrad_venv\\lib\\site-packages (from requests->outdated->pingouin) (2.0.4)\n",
      "Requirement already satisfied: certifi>=2017.4.17 in c:\\users\\vr3n\\codes\\upgrad-maryland-analytics\\upgrad_venv\\lib\\site-packages (from requests->outdated->pingouin) (2023.7.22)\n",
      "Downloading pandas_flavor-0.6.0-py3-none-any.whl (7.2 kB)\n",
      "Using cached scikit_learn-1.3.2-cp310-cp310-win_amd64.whl (9.3 MB)\n",
      "Using cached joblib-1.3.2-py3-none-any.whl (302 kB)\n",
      "Using cached threadpoolctl-3.2.0-py3-none-any.whl (15 kB)\n",
      "Downloading xarray-2023.11.0-py3-none-any.whl (1.1 MB)\n",
      "   ---------------------------------------- 0.0/1.1 MB ? eta -:--:--\n",
      "   - -------------------------------------- 0.0/1.1 MB 991.0 kB/s eta 0:00:02\n",
      "   ---- ----------------------------------- 0.1/1.1 MB 1.4 MB/s eta 0:00:01\n",
      "   ------ --------------------------------- 0.2/1.1 MB 1.5 MB/s eta 0:00:01\n",
      "   ------- -------------------------------- 0.2/1.1 MB 1.2 MB/s eta 0:00:01\n",
      "   -------- ------------------------------- 0.2/1.1 MB 1.1 MB/s eta 0:00:01\n",
      "   --------- ------------------------------ 0.2/1.1 MB 1.0 MB/s eta 0:00:01\n",
      "   ---------- ----------------------------- 0.3/1.1 MB 896.4 kB/s eta 0:00:01\n",
      "   ------------ --------------------------- 0.3/1.1 MB 922.8 kB/s eta 0:00:01\n",
      "   -------------- ------------------------- 0.4/1.1 MB 971.5 kB/s eta 0:00:01\n",
      "   ----------------- ---------------------- 0.5/1.1 MB 972.0 kB/s eta 0:00:01\n",
      "   -------------------- ------------------- 0.5/1.1 MB 1.0 MB/s eta 0:00:01\n",
      "   ------------------------ --------------- 0.6/1.1 MB 1.1 MB/s eta 0:00:01\n",
      "   --------------------------- ------------ 0.7/1.1 MB 1.3 MB/s eta 0:00:01\n",
      "   ------------------------------- -------- 0.8/1.1 MB 1.3 MB/s eta 0:00:01\n",
      "   --------------------------------- ------ 0.9/1.1 MB 1.3 MB/s eta 0:00:01\n",
      "   ------------------------------------ --- 1.0/1.1 MB 1.3 MB/s eta 0:00:01\n",
      "   ------------------------------------- -- 1.0/1.1 MB 1.3 MB/s eta 0:00:01\n",
      "   ---------------------------------------  1.1/1.1 MB 1.3 MB/s eta 0:00:01\n",
      "   ---------------------------------------  1.1/1.1 MB 1.3 MB/s eta 0:00:01\n",
      "   ---------------------------------------- 1.1/1.1 MB 1.2 MB/s eta 0:00:00\n",
      "Building wheels for collected packages: littleutils\n",
      "  Building wheel for littleutils (pyproject.toml): started\n",
      "  Building wheel for littleutils (pyproject.toml): finished with status 'done'\n",
      "  Created wheel for littleutils: filename=littleutils-0.2.2-py3-none-any.whl size=7034 sha256=554f200a3ff401b4130b4c1d9101d528a8703c95ae2170b413280ab3f72c40a0\n",
      "  Stored in directory: c:\\users\\vr3n\\appdata\\local\\pip\\cache\\wheels\\3d\\fe\\b0\\27a9892da57472e538c7452a721a9cf463cc03cf7379889266\n",
      "Successfully built littleutils\n",
      "Installing collected packages: littleutils, threadpoolctl, tabulate, patsy, joblib, scikit-learn, outdated, xarray, statsmodels, pandas-flavor, pingouin\n",
      "Successfully installed joblib-1.3.2 littleutils-0.2.2 outdated-0.2.2 pandas-flavor-0.6.0 patsy-0.5.3 pingouin-0.5.3 scikit-learn-1.3.2 statsmodels-0.14.0 tabulate-0.9.0 threadpoolctl-3.2.0 xarray-2023.11.0\n"
     ]
    },
    {
     "name": "stderr",
     "output_type": "stream",
     "text": [
      "\n",
      "[notice] A new release of pip is available: 23.2.1 -> 23.3.1\n",
      "[notice] To update, run: python.exe -m pip install --upgrade pip\n"
     ]
    }
   ],
   "source": [
    "##Install pingouin if it's not already there in the system\n",
    "!pip install pingouin"
   ]
  },
  {
   "cell_type": "code",
   "execution_count": 97,
   "metadata": {
    "id": "Kxw3J6dx4LvQ"
   },
   "outputs": [],
   "source": [
    "##Import the library\n",
    "import pingouin as pg"
   ]
  },
  {
   "cell_type": "code",
   "execution_count": 99,
   "metadata": {
    "id": "MWGlwc_04LvR",
    "scrolled": true
   },
   "outputs": [
    {
     "data": {
      "text/plain": [
       "\u001b[1;31mSignature:\u001b[0m\n",
       "\u001b[0mpg\u001b[0m\u001b[1;33m.\u001b[0m\u001b[0mttest\u001b[0m\u001b[1;33m(\u001b[0m\u001b[1;33m\n",
       "\u001b[0m    \u001b[0mx\u001b[0m\u001b[1;33m,\u001b[0m\u001b[1;33m\n",
       "\u001b[0m    \u001b[0my\u001b[0m\u001b[1;33m,\u001b[0m\u001b[1;33m\n",
       "\u001b[0m    \u001b[0mpaired\u001b[0m\u001b[1;33m=\u001b[0m\u001b[1;32mFalse\u001b[0m\u001b[1;33m,\u001b[0m\u001b[1;33m\n",
       "\u001b[0m    \u001b[0malternative\u001b[0m\u001b[1;33m=\u001b[0m\u001b[1;34m'two-sided'\u001b[0m\u001b[1;33m,\u001b[0m\u001b[1;33m\n",
       "\u001b[0m    \u001b[0mcorrection\u001b[0m\u001b[1;33m=\u001b[0m\u001b[1;34m'auto'\u001b[0m\u001b[1;33m,\u001b[0m\u001b[1;33m\n",
       "\u001b[0m    \u001b[0mr\u001b[0m\u001b[1;33m=\u001b[0m\u001b[1;36m0.707\u001b[0m\u001b[1;33m,\u001b[0m\u001b[1;33m\n",
       "\u001b[0m    \u001b[0mconfidence\u001b[0m\u001b[1;33m=\u001b[0m\u001b[1;36m0.95\u001b[0m\u001b[1;33m,\u001b[0m\u001b[1;33m\n",
       "\u001b[0m\u001b[1;33m)\u001b[0m\u001b[1;33m\u001b[0m\u001b[1;33m\u001b[0m\u001b[0m\n",
       "\u001b[1;31mDocstring:\u001b[0m\n",
       "T-test.\n",
       "\n",
       "Parameters\n",
       "----------\n",
       "x : array_like\n",
       "    First set of observations.\n",
       "y : array_like or float\n",
       "    Second set of observations. If ``y`` is a single value, a one-sample\n",
       "    T-test is computed against that value (= \"mu\" in the t.test R\n",
       "    function).\n",
       "paired : boolean\n",
       "    Specify whether the two observations are related (i.e. repeated\n",
       "    measures) or independent.\n",
       "alternative : string\n",
       "    Defines the alternative hypothesis, or tail of the test. Must be one of\n",
       "    \"two-sided\" (default), \"greater\" or \"less\". Both \"greater\" and \"less\" return one-sided\n",
       "    p-values. \"greater\" tests against the alternative hypothesis that the mean of ``x``\n",
       "    is greater than the mean of ``y``.\n",
       "correction : string or boolean\n",
       "    For unpaired two sample T-tests, specify whether or not to correct for\n",
       "    unequal variances using Welch separate variances T-test. If 'auto', it\n",
       "    will automatically uses Welch T-test when the sample sizes are unequal,\n",
       "    as recommended by Zimmerman 2004.\n",
       "r : float\n",
       "    Cauchy scale factor for computing the Bayes Factor.\n",
       "    Smaller values of r (e.g. 0.5), may be appropriate when small effect\n",
       "    sizes are expected a priori; larger values of r are appropriate when\n",
       "    large effect sizes are expected (Rouder et al 2009).\n",
       "    The default is 0.707 (= :math:`\\sqrt{2} / 2`).\n",
       "confidence : float\n",
       "    Confidence level for the confidence intervals (0.95 = 95%)\n",
       "\n",
       "    .. versionadded:: 0.3.9\n",
       "\n",
       "Returns\n",
       "-------\n",
       "stats : :py:class:`pandas.DataFrame`\n",
       "\n",
       "    * ``'T'``: T-value\n",
       "    * ``'dof'``: degrees of freedom\n",
       "    * ``'alternative'``: alternative of the test\n",
       "    * ``'p-val'``: p-value\n",
       "    * ``'CI95%'``: confidence intervals of the difference in means\n",
       "    * ``'cohen-d'``: Cohen d effect size\n",
       "    * ``'BF10'``: Bayes Factor of the alternative hypothesis\n",
       "    * ``'power'``: achieved power of the test ( = 1 - type II error)\n",
       "\n",
       "See also\n",
       "--------\n",
       "mwu, wilcoxon, anova, rm_anova, pairwise_tests, compute_effsize\n",
       "\n",
       "Notes\n",
       "-----\n",
       "Missing values are automatically removed from the data. If ``x`` and\n",
       "``y`` are paired, the entire row is removed (= listwise deletion).\n",
       "\n",
       "The **T-value for unpaired samples** is defined as:\n",
       "\n",
       ".. math::\n",
       "\n",
       "    t = \\frac{\\overline{x} - \\overline{y}}\n",
       "    {\\sqrt{\\frac{s^{2}_{x}}{n_{x}} + \\frac{s^{2}_{y}}{n_{y}}}}\n",
       "\n",
       "where :math:`\\overline{x}` and :math:`\\overline{y}` are the sample means,\n",
       ":math:`n_{x}` and :math:`n_{y}` are the sample sizes, and\n",
       ":math:`s^{2}_{x}` and :math:`s^{2}_{y}` are the sample variances.\n",
       "The degrees of freedom :math:`v` are :math:`n_x + n_y - 2` when the sample\n",
       "sizes are equal. When the sample sizes are unequal or when\n",
       ":code:`correction=True`, the Welch–Satterthwaite equation is used to\n",
       "approximate the adjusted degrees of freedom:\n",
       "\n",
       ".. math::\n",
       "\n",
       "    v = \\frac{(\\frac{s^{2}_{x}}{n_{x}} + \\frac{s^{2}_{y}}{n_{y}})^{2}}\n",
       "    {\\frac{(\\frac{s^{2}_{x}}{n_{x}})^{2}}{(n_{x}-1)} +\n",
       "    \\frac{(\\frac{s^{2}_{y}}{n_{y}})^{2}}{(n_{y}-1)}}\n",
       "\n",
       "The p-value is then calculated using a T distribution with :math:`v`\n",
       "degrees of freedom.\n",
       "\n",
       "The T-value for **paired samples** is defined by:\n",
       "\n",
       ".. math:: t = \\frac{\\overline{x}_d}{s_{\\overline{x}}}\n",
       "\n",
       "where\n",
       "\n",
       ".. math:: s_{\\overline{x}} = \\frac{s_d}{\\sqrt n}\n",
       "\n",
       "where :math:`\\overline{x}_d` is the sample mean of the differences\n",
       "between the two paired samples, :math:`n` is the number of observations\n",
       "(sample size), :math:`s_d` is the sample standard deviation of the\n",
       "differences and :math:`s_{\\overline{x}}` is the estimated standard error\n",
       "of the mean of the differences. The p-value is then calculated using a\n",
       "T-distribution with :math:`n-1` degrees of freedom.\n",
       "\n",
       "The scaled Jeffrey-Zellner-Siow (JZS) Bayes Factor is approximated\n",
       "using the :py:func:`pingouin.bayesfactor_ttest` function.\n",
       "\n",
       "Results have been tested against JASP and the `t.test` R function.\n",
       "\n",
       "References\n",
       "----------\n",
       "* https://www.itl.nist.gov/div898/handbook/eda/section3/eda353.htm\n",
       "\n",
       "* Delacre, M., Lakens, D., & Leys, C. (2017). Why psychologists should\n",
       "  by default use Welch’s t-test instead of Student’s t-test.\n",
       "  International Review of Social Psychology, 30(1).\n",
       "\n",
       "* Zimmerman, D. W. (2004). A note on preliminary tests of equality of\n",
       "  variances. British Journal of Mathematical and Statistical\n",
       "  Psychology, 57(1), 173-181.\n",
       "\n",
       "* Rouder, J.N., Speckman, P.L., Sun, D., Morey, R.D., Iverson, G.,\n",
       "  2009. Bayesian t tests for accepting and rejecting the null\n",
       "  hypothesis. Psychon. Bull. Rev. 16, 225–237.\n",
       "  https://doi.org/10.3758/PBR.16.2.225\n",
       "\n",
       "Examples\n",
       "--------\n",
       "1. One-sample T-test.\n",
       "\n",
       ">>> from pingouin import ttest\n",
       ">>> x = [5.5, 2.4, 6.8, 9.6, 4.2]\n",
       ">>> ttest(x, 4).round(2)\n",
       "          T  dof alternative  p-val         CI95%  cohen-d   BF10  power\n",
       "T-test  1.4    4   two-sided   0.23  [2.32, 9.08]     0.62  0.766   0.19\n",
       "\n",
       "2. One sided paired T-test.\n",
       "\n",
       ">>> pre = [5.5, 2.4, 6.8, 9.6, 4.2]\n",
       ">>> post = [6.4, 3.4, 6.4, 11., 4.8]\n",
       ">>> ttest(pre, post, paired=True, alternative='less').round(2)\n",
       "           T  dof alternative  p-val          CI95%  cohen-d   BF10  power\n",
       "T-test -2.31    4        less   0.04  [-inf, -0.05]     0.25  3.122   0.12\n",
       "\n",
       "Now testing the opposite alternative hypothesis\n",
       "\n",
       ">>> ttest(pre, post, paired=True, alternative='greater').round(2)\n",
       "           T  dof alternative  p-val         CI95%  cohen-d  BF10  power\n",
       "T-test -2.31    4     greater   0.96  [-1.35, inf]     0.25  0.32   0.02\n",
       "\n",
       "3. Paired T-test with missing values.\n",
       "\n",
       ">>> import numpy as np\n",
       ">>> pre = [5.5, 2.4, np.nan, 9.6, 4.2]\n",
       ">>> post = [6.4, 3.4, 6.4, 11., 4.8]\n",
       ">>> ttest(pre, post, paired=True).round(3)\n",
       "            T  dof alternative  p-val          CI95%  cohen-d   BF10  power\n",
       "T-test -5.902    3   two-sided   0.01  [-1.5, -0.45]    0.306  7.169  0.073\n",
       "\n",
       "Compare with SciPy\n",
       "\n",
       ">>> from scipy.stats import ttest_rel\n",
       ">>> np.round(ttest_rel(pre, post, nan_policy=\"omit\"), 3)\n",
       "array([-5.902,  0.01 ])\n",
       "\n",
       "4. Independent two-sample T-test with equal sample size.\n",
       "\n",
       ">>> np.random.seed(123)\n",
       ">>> x = np.random.normal(loc=7, size=20)\n",
       ">>> y = np.random.normal(loc=4, size=20)\n",
       ">>> ttest(x, y)\n",
       "               T  dof alternative         p-val         CI95%   cohen-d       BF10  power\n",
       "T-test  9.106452   38   two-sided  4.306971e-11  [2.64, 4.15]  2.879713  1.366e+08    1.0\n",
       "\n",
       "5. Independent two-sample T-test with unequal sample size. A Welch's T-test is used.\n",
       "\n",
       ">>> np.random.seed(123)\n",
       ">>> y = np.random.normal(loc=6.5, size=15)\n",
       ">>> ttest(x, y)\n",
       "               T        dof alternative     p-val          CI95%   cohen-d   BF10     power\n",
       "T-test  1.996537  31.567592   two-sided  0.054561  [-0.02, 1.65]  0.673518  1.469  0.481867\n",
       "\n",
       "6. However, the Welch's correction can be disabled:\n",
       "\n",
       ">>> ttest(x, y, correction=False)\n",
       "               T  dof alternative     p-val          CI95%   cohen-d   BF10     power\n",
       "T-test  1.971859   33   two-sided  0.057056  [-0.03, 1.66]  0.673518  1.418  0.481867\n",
       "\n",
       "Compare with SciPy\n",
       "\n",
       ">>> from scipy.stats import ttest_ind\n",
       ">>> np.round(ttest_ind(x, y, equal_var=True), 6)  # T value and p-value\n",
       "array([1.971859, 0.057056])\n",
       "\u001b[1;31mFile:\u001b[0m      c:\\users\\vr3n\\codes\\upgrad-maryland-analytics\\upgrad_venv\\lib\\site-packages\\pingouin\\parametric.py\n",
       "\u001b[1;31mType:\u001b[0m      function"
      ]
     },
     "metadata": {},
     "output_type": "display_data"
    }
   ],
   "source": [
    "## Check the documentation for pg.ttest\n",
    "?pg.ttest"
   ]
  },
  {
   "cell_type": "markdown",
   "metadata": {
    "id": "iJcCCTBg4LvS"
   },
   "source": [
    "Out inputes"
   ]
  },
  {
   "cell_type": "code",
   "execution_count": 100,
   "metadata": {
    "id": "1rJK8Na54LvS"
   },
   "outputs": [
    {
     "data": {
      "text/html": [
       "<div>\n",
       "<style scoped>\n",
       "    .dataframe tbody tr th:only-of-type {\n",
       "        vertical-align: middle;\n",
       "    }\n",
       "\n",
       "    .dataframe tbody tr th {\n",
       "        vertical-align: top;\n",
       "    }\n",
       "\n",
       "    .dataframe thead th {\n",
       "        text-align: right;\n",
       "    }\n",
       "</style>\n",
       "<table border=\"1\" class=\"dataframe\">\n",
       "  <thead>\n",
       "    <tr style=\"text-align: right;\">\n",
       "      <th></th>\n",
       "      <th>T</th>\n",
       "      <th>dof</th>\n",
       "      <th>alternative</th>\n",
       "      <th>p-val</th>\n",
       "      <th>CI95%</th>\n",
       "      <th>cohen-d</th>\n",
       "      <th>BF10</th>\n",
       "      <th>power</th>\n",
       "    </tr>\n",
       "  </thead>\n",
       "  <tbody>\n",
       "    <tr>\n",
       "      <th>T-test</th>\n",
       "      <td>0.45</td>\n",
       "      <td>26</td>\n",
       "      <td>two-sided</td>\n",
       "      <td>0.66</td>\n",
       "      <td>[-293.73, 456.16]</td>\n",
       "      <td>0.17</td>\n",
       "      <td>0.381</td>\n",
       "      <td>0.07</td>\n",
       "    </tr>\n",
       "  </tbody>\n",
       "</table>\n",
       "</div>"
      ],
      "text/plain": [
       "          T  dof alternative  p-val              CI95%  cohen-d   BF10  power\n",
       "T-test 0.45   26   two-sided   0.66  [-293.73, 456.16]     0.17  0.381   0.07"
      ]
     },
     "execution_count": 100,
     "metadata": {},
     "output_type": "execute_result"
    }
   ],
   "source": [
    "## We can first conduct an unpaired test\n",
    "## To verify the results we got in the independent samples case\n",
    "pg.ttest(df['Andy'], df['Bob'])"
   ]
  },
  {
   "cell_type": "code",
   "execution_count": 103,
   "metadata": {
    "id": "5kM9NILY4LvT"
   },
   "outputs": [
    {
     "data": {
      "text/html": [
       "<div>\n",
       "<style scoped>\n",
       "    .dataframe tbody tr th:only-of-type {\n",
       "        vertical-align: middle;\n",
       "    }\n",
       "\n",
       "    .dataframe tbody tr th {\n",
       "        vertical-align: top;\n",
       "    }\n",
       "\n",
       "    .dataframe thead th {\n",
       "        text-align: right;\n",
       "    }\n",
       "</style>\n",
       "<table border=\"1\" class=\"dataframe\">\n",
       "  <thead>\n",
       "    <tr style=\"text-align: right;\">\n",
       "      <th></th>\n",
       "      <th>T</th>\n",
       "      <th>dof</th>\n",
       "      <th>alternative</th>\n",
       "      <th>p-val</th>\n",
       "      <th>CI95%</th>\n",
       "      <th>cohen-d</th>\n",
       "      <th>BF10</th>\n",
       "      <th>power</th>\n",
       "    </tr>\n",
       "  </thead>\n",
       "  <tbody>\n",
       "    <tr>\n",
       "      <th>T-test</th>\n",
       "      <td>10.28</td>\n",
       "      <td>13</td>\n",
       "      <td>two-sided</td>\n",
       "      <td>0.00</td>\n",
       "      <td>[64.14, 98.29]</td>\n",
       "      <td>0.17</td>\n",
       "      <td>1.082e+05</td>\n",
       "      <td>0.09</td>\n",
       "    </tr>\n",
       "  </tbody>\n",
       "</table>\n",
       "</div>"
      ],
      "text/plain": [
       "           T  dof alternative  p-val           CI95%  cohen-d       BF10  \\\n",
       "T-test 10.28   13   two-sided   0.00  [64.14, 98.29]     0.17  1.082e+05   \n",
       "\n",
       "        power  \n",
       "T-test   0.09  "
      ]
     },
     "execution_count": 103,
     "metadata": {},
     "output_type": "execute_result"
    }
   ],
   "source": [
    "## Now we can go ahead and conduct the paired test\n",
    "## Here, paired will be set to True\n",
    "pg.ttest(df['Andy'], df['Bob'], paired=True)"
   ]
  },
  {
   "cell_type": "markdown",
   "metadata": {
    "id": "k2eobX-r4LvU"
   },
   "source": [
    "We reject the null hypothesis of no difference in means. There is evidence of a difference in means."
   ]
  },
  {
   "cell_type": "code",
   "execution_count": 105,
   "metadata": {},
   "outputs": [],
   "source": [
    "!explorer.exe ."
   ]
  },
  {
   "cell_type": "code",
   "execution_count": null,
   "metadata": {},
   "outputs": [],
   "source": []
  }
 ],
 "metadata": {
  "colab": {
   "provenance": []
  },
  "kernelspec": {
   "display_name": "Python 3 (ipykernel)",
   "language": "python",
   "name": "python3"
  },
  "language_info": {
   "codemirror_mode": {
    "name": "ipython",
    "version": 3
   },
   "file_extension": ".py",
   "mimetype": "text/x-python",
   "name": "python",
   "nbconvert_exporter": "python",
   "pygments_lexer": "ipython3",
   "version": "3.10.11"
  }
 },
 "nbformat": 4,
 "nbformat_minor": 4
}
