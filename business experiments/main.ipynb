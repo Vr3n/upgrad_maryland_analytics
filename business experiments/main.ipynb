{
 "cells": [
  {
   "cell_type": "markdown",
   "id": "fd401ba5-338e-4edd-83f4-2cc95baff918",
   "metadata": {},
   "source": [
    "### App Design Experiment"
   ]
  },
  {
   "cell_type": "markdown",
   "id": "27ba789f-f586-49be-828b-d02bf9ea6971",
   "metadata": {},
   "source": [
    "#### Problem Statement\n",
    "\n",
    "A hotel chain \"Smith Hotels\" with properties including full-service hotels and resorts is considering whether to push a newly built app to its customers. \\\n",
    "In this course project, you are tasked with analyzing data from a live test to determine the effectiveness of a new mobile app that has been built. \\\n",
    "Help the organization get a deeper understanding of the impact that the mobile app will have on customers' purchare behaviour."
   ]
  },
  {
   "cell_type": "markdown",
   "id": "24dc203c-e9dc-4f3e-a18e-8e91a8bcb810",
   "metadata": {},
   "source": [
    "#### Experiment Design\n",
    "\n",
    "- Here's an overview of the experiment that was conducted. In this scenario, a before-after design of experiment was followed.\n",
    "- To determine the app's efficacy, the organization ran a live test with a beta version of app. \\\n",
    "- A subset of customers who had been enrolled in the loyalty program run by the hotel chain for at least one year was selected at random \\\n",
    "and assigned to one of two groups - ___Control and Treatment___, and the experiment was conducted as follows:"
   ]
  },
  {
   "cell_type": "markdown",
   "id": "eec2437c-c271-4aa1-ba99-03240980f4b2",
   "metadata": {},
   "source": [
    "#### Control Group\n",
    "\n",
    "- Number of customers: 2000 (n)\n",
    "- Before: Spending behaviour of all the customers in the control group was recorded for one-year.\n",
    "- Treatment: No changes were introduced to the control group.\n",
    "- After: The control group was tracked for another year, and their spending behaviours was recorded."
   ]
  },
  {
   "cell_type": "markdown",
   "id": "7b9878a6-bc5b-4575-9b79-4d201d0213cf",
   "metadata": {},
   "source": [
    "#### Treatment Group\n",
    "\n",
    "- Number of customers: 2000 (n)\n",
    "- Before: At the beginning of the experiment, the spending behaviour of all the customers in the treatment group was recorded for one year.\n",
    "- Treatment: A mail was sent to all the customers in the treatment group with a link to download the beta version of the app.\n",
    "- After: All the customers in the treatment group started using the app, and their spending behaviour was recorded for another year."
   ]
  },
  {
   "cell_type": "markdown",
   "id": "5ded1358-6204-4ebb-90e8-b2e1647fd845",
   "metadata": {},
   "source": [
    "#### Objectives\n",
    "\n",
    "To make an appropirate decision about launching the app, the hotel chain's management needs to find the answers to these questions:\n",
    "\n",
    "- will the app lead to increased spending on the part of customers?\n",
    "- How much of an increase in spending do you expect?\n",
    "- Do you expect the app's effect on spending to vary by customers' characteristics?"
   ]
  },
  {
   "cell_type": "markdown",
   "id": "8dfc1d7a-684d-42b9-9e9e-454dea02a1de",
   "metadata": {},
   "source": [
    "#### Data Overview\n",
    "\n",
    "- Adopt:\n",
    "  - For people who adopt the app (Adopt = 1), there is a post download period (Post = 1) and a pre-download period (Post = 0).\n",
    "  - For people who do not adopt the app (Adopt = 0) in both cases (Post = 0 and Post = 1)"
   ]
  },
  {
   "cell_type": "markdown",
   "id": "71d77efa-a713-4ba7-bacd-4cf2bf117423",
   "metadata": {},
   "source": [
    "<hr style=\"border:2px solid red;border-radius:50%\" />"
   ]
  },
  {
   "cell_type": "markdown",
   "id": "bcd8caa6-bad5-4d80-975b-13d2ab8c7449",
   "metadata": {},
   "source": [
    "## Importing necessary Libraries."
   ]
  },
  {
   "cell_type": "code",
   "execution_count": 1,
   "id": "dec61555-4ea6-477d-b7bd-d9fe92024752",
   "metadata": {},
   "outputs": [],
   "source": [
    "import pandas as pd\n",
    "import numpy as np\n",
    "import matplotlib.pyplot as plt\n",
    "import seaborn as sns\n",
    "import pingouin as pg\n",
    "from IPython.display import HTML"
   ]
  },
  {
   "cell_type": "code",
   "execution_count": 2,
   "id": "9f3ea45e-77a1-4a40-b3db-e0e853755c49",
   "metadata": {},
   "outputs": [],
   "source": [
    "sns.set(style=\"whitegrid\")"
   ]
  },
  {
   "cell_type": "markdown",
   "id": "3c59306d-b085-4aec-82dd-ae55cf5bf7c9",
   "metadata": {},
   "source": [
    "<hr style=\"border:1px dashed yellow;border-radius:50%\">"
   ]
  },
  {
   "cell_type": "markdown",
   "id": "7d32433a-ee28-4565-b09b-3baaa6a1d83e",
   "metadata": {},
   "source": [
    "## Importing the Dataset"
   ]
  },
  {
   "cell_type": "code",
   "execution_count": 3,
   "id": "cff43ada-cc73-4227-a799-a8893be0d160",
   "metadata": {},
   "outputs": [
    {
     "ename": "FileNotFoundError",
     "evalue": "[Errno 2] No such file or directory: 'data_app.csv'",
     "output_type": "error",
     "traceback": [
      "\u001b[1;31m---------------------------------------------------------------------------\u001b[0m",
      "\u001b[1;31mFileNotFoundError\u001b[0m                         Traceback (most recent call last)",
      "Cell \u001b[1;32mIn[3], line 1\u001b[0m\n\u001b[1;32m----> 1\u001b[0m df \u001b[38;5;241m=\u001b[39m \u001b[43mpd\u001b[49m\u001b[38;5;241;43m.\u001b[39;49m\u001b[43mread_csv\u001b[49m\u001b[43m(\u001b[49m\u001b[38;5;124;43m'\u001b[39;49m\u001b[38;5;124;43mdata_app.csv\u001b[39;49m\u001b[38;5;124;43m'\u001b[39;49m\u001b[43m)\u001b[49m\n",
      "File \u001b[1;32m~\\codes\\upgrad-maryland-analytics\\upgrad_venv\\lib\\site-packages\\pandas\\io\\parsers\\readers.py:912\u001b[0m, in \u001b[0;36mread_csv\u001b[1;34m(filepath_or_buffer, sep, delimiter, header, names, index_col, usecols, dtype, engine, converters, true_values, false_values, skipinitialspace, skiprows, skipfooter, nrows, na_values, keep_default_na, na_filter, verbose, skip_blank_lines, parse_dates, infer_datetime_format, keep_date_col, date_parser, date_format, dayfirst, cache_dates, iterator, chunksize, compression, thousands, decimal, lineterminator, quotechar, quoting, doublequote, escapechar, comment, encoding, encoding_errors, dialect, on_bad_lines, delim_whitespace, low_memory, memory_map, float_precision, storage_options, dtype_backend)\u001b[0m\n\u001b[0;32m    899\u001b[0m kwds_defaults \u001b[38;5;241m=\u001b[39m _refine_defaults_read(\n\u001b[0;32m    900\u001b[0m     dialect,\n\u001b[0;32m    901\u001b[0m     delimiter,\n\u001b[1;32m   (...)\u001b[0m\n\u001b[0;32m    908\u001b[0m     dtype_backend\u001b[38;5;241m=\u001b[39mdtype_backend,\n\u001b[0;32m    909\u001b[0m )\n\u001b[0;32m    910\u001b[0m kwds\u001b[38;5;241m.\u001b[39mupdate(kwds_defaults)\n\u001b[1;32m--> 912\u001b[0m \u001b[38;5;28;01mreturn\u001b[39;00m \u001b[43m_read\u001b[49m\u001b[43m(\u001b[49m\u001b[43mfilepath_or_buffer\u001b[49m\u001b[43m,\u001b[49m\u001b[43m \u001b[49m\u001b[43mkwds\u001b[49m\u001b[43m)\u001b[49m\n",
      "File \u001b[1;32m~\\codes\\upgrad-maryland-analytics\\upgrad_venv\\lib\\site-packages\\pandas\\io\\parsers\\readers.py:577\u001b[0m, in \u001b[0;36m_read\u001b[1;34m(filepath_or_buffer, kwds)\u001b[0m\n\u001b[0;32m    574\u001b[0m _validate_names(kwds\u001b[38;5;241m.\u001b[39mget(\u001b[38;5;124m\"\u001b[39m\u001b[38;5;124mnames\u001b[39m\u001b[38;5;124m\"\u001b[39m, \u001b[38;5;28;01mNone\u001b[39;00m))\n\u001b[0;32m    576\u001b[0m \u001b[38;5;66;03m# Create the parser.\u001b[39;00m\n\u001b[1;32m--> 577\u001b[0m parser \u001b[38;5;241m=\u001b[39m TextFileReader(filepath_or_buffer, \u001b[38;5;241m*\u001b[39m\u001b[38;5;241m*\u001b[39mkwds)\n\u001b[0;32m    579\u001b[0m \u001b[38;5;28;01mif\u001b[39;00m chunksize \u001b[38;5;129;01mor\u001b[39;00m iterator:\n\u001b[0;32m    580\u001b[0m     \u001b[38;5;28;01mreturn\u001b[39;00m parser\n",
      "File \u001b[1;32m~\\codes\\upgrad-maryland-analytics\\upgrad_venv\\lib\\site-packages\\pandas\\io\\parsers\\readers.py:1407\u001b[0m, in \u001b[0;36mTextFileReader.__init__\u001b[1;34m(self, f, engine, **kwds)\u001b[0m\n\u001b[0;32m   1404\u001b[0m     \u001b[38;5;28mself\u001b[39m\u001b[38;5;241m.\u001b[39moptions[\u001b[38;5;124m\"\u001b[39m\u001b[38;5;124mhas_index_names\u001b[39m\u001b[38;5;124m\"\u001b[39m] \u001b[38;5;241m=\u001b[39m kwds[\u001b[38;5;124m\"\u001b[39m\u001b[38;5;124mhas_index_names\u001b[39m\u001b[38;5;124m\"\u001b[39m]\n\u001b[0;32m   1406\u001b[0m \u001b[38;5;28mself\u001b[39m\u001b[38;5;241m.\u001b[39mhandles: IOHandles \u001b[38;5;241m|\u001b[39m \u001b[38;5;28;01mNone\u001b[39;00m \u001b[38;5;241m=\u001b[39m \u001b[38;5;28;01mNone\u001b[39;00m\n\u001b[1;32m-> 1407\u001b[0m \u001b[38;5;28mself\u001b[39m\u001b[38;5;241m.\u001b[39m_engine \u001b[38;5;241m=\u001b[39m \u001b[38;5;28;43mself\u001b[39;49m\u001b[38;5;241;43m.\u001b[39;49m\u001b[43m_make_engine\u001b[49m\u001b[43m(\u001b[49m\u001b[43mf\u001b[49m\u001b[43m,\u001b[49m\u001b[43m \u001b[49m\u001b[38;5;28;43mself\u001b[39;49m\u001b[38;5;241;43m.\u001b[39;49m\u001b[43mengine\u001b[49m\u001b[43m)\u001b[49m\n",
      "File \u001b[1;32m~\\codes\\upgrad-maryland-analytics\\upgrad_venv\\lib\\site-packages\\pandas\\io\\parsers\\readers.py:1661\u001b[0m, in \u001b[0;36mTextFileReader._make_engine\u001b[1;34m(self, f, engine)\u001b[0m\n\u001b[0;32m   1659\u001b[0m     \u001b[38;5;28;01mif\u001b[39;00m \u001b[38;5;124m\"\u001b[39m\u001b[38;5;124mb\u001b[39m\u001b[38;5;124m\"\u001b[39m \u001b[38;5;129;01mnot\u001b[39;00m \u001b[38;5;129;01min\u001b[39;00m mode:\n\u001b[0;32m   1660\u001b[0m         mode \u001b[38;5;241m+\u001b[39m\u001b[38;5;241m=\u001b[39m \u001b[38;5;124m\"\u001b[39m\u001b[38;5;124mb\u001b[39m\u001b[38;5;124m\"\u001b[39m\n\u001b[1;32m-> 1661\u001b[0m \u001b[38;5;28mself\u001b[39m\u001b[38;5;241m.\u001b[39mhandles \u001b[38;5;241m=\u001b[39m \u001b[43mget_handle\u001b[49m\u001b[43m(\u001b[49m\n\u001b[0;32m   1662\u001b[0m \u001b[43m    \u001b[49m\u001b[43mf\u001b[49m\u001b[43m,\u001b[49m\n\u001b[0;32m   1663\u001b[0m \u001b[43m    \u001b[49m\u001b[43mmode\u001b[49m\u001b[43m,\u001b[49m\n\u001b[0;32m   1664\u001b[0m \u001b[43m    \u001b[49m\u001b[43mencoding\u001b[49m\u001b[38;5;241;43m=\u001b[39;49m\u001b[38;5;28;43mself\u001b[39;49m\u001b[38;5;241;43m.\u001b[39;49m\u001b[43moptions\u001b[49m\u001b[38;5;241;43m.\u001b[39;49m\u001b[43mget\u001b[49m\u001b[43m(\u001b[49m\u001b[38;5;124;43m\"\u001b[39;49m\u001b[38;5;124;43mencoding\u001b[39;49m\u001b[38;5;124;43m\"\u001b[39;49m\u001b[43m,\u001b[49m\u001b[43m \u001b[49m\u001b[38;5;28;43;01mNone\u001b[39;49;00m\u001b[43m)\u001b[49m\u001b[43m,\u001b[49m\n\u001b[0;32m   1665\u001b[0m \u001b[43m    \u001b[49m\u001b[43mcompression\u001b[49m\u001b[38;5;241;43m=\u001b[39;49m\u001b[38;5;28;43mself\u001b[39;49m\u001b[38;5;241;43m.\u001b[39;49m\u001b[43moptions\u001b[49m\u001b[38;5;241;43m.\u001b[39;49m\u001b[43mget\u001b[49m\u001b[43m(\u001b[49m\u001b[38;5;124;43m\"\u001b[39;49m\u001b[38;5;124;43mcompression\u001b[39;49m\u001b[38;5;124;43m\"\u001b[39;49m\u001b[43m,\u001b[49m\u001b[43m \u001b[49m\u001b[38;5;28;43;01mNone\u001b[39;49;00m\u001b[43m)\u001b[49m\u001b[43m,\u001b[49m\n\u001b[0;32m   1666\u001b[0m \u001b[43m    \u001b[49m\u001b[43mmemory_map\u001b[49m\u001b[38;5;241;43m=\u001b[39;49m\u001b[38;5;28;43mself\u001b[39;49m\u001b[38;5;241;43m.\u001b[39;49m\u001b[43moptions\u001b[49m\u001b[38;5;241;43m.\u001b[39;49m\u001b[43mget\u001b[49m\u001b[43m(\u001b[49m\u001b[38;5;124;43m\"\u001b[39;49m\u001b[38;5;124;43mmemory_map\u001b[39;49m\u001b[38;5;124;43m\"\u001b[39;49m\u001b[43m,\u001b[49m\u001b[43m \u001b[49m\u001b[38;5;28;43;01mFalse\u001b[39;49;00m\u001b[43m)\u001b[49m\u001b[43m,\u001b[49m\n\u001b[0;32m   1667\u001b[0m \u001b[43m    \u001b[49m\u001b[43mis_text\u001b[49m\u001b[38;5;241;43m=\u001b[39;49m\u001b[43mis_text\u001b[49m\u001b[43m,\u001b[49m\n\u001b[0;32m   1668\u001b[0m \u001b[43m    \u001b[49m\u001b[43merrors\u001b[49m\u001b[38;5;241;43m=\u001b[39;49m\u001b[38;5;28;43mself\u001b[39;49m\u001b[38;5;241;43m.\u001b[39;49m\u001b[43moptions\u001b[49m\u001b[38;5;241;43m.\u001b[39;49m\u001b[43mget\u001b[49m\u001b[43m(\u001b[49m\u001b[38;5;124;43m\"\u001b[39;49m\u001b[38;5;124;43mencoding_errors\u001b[39;49m\u001b[38;5;124;43m\"\u001b[39;49m\u001b[43m,\u001b[49m\u001b[43m \u001b[49m\u001b[38;5;124;43m\"\u001b[39;49m\u001b[38;5;124;43mstrict\u001b[39;49m\u001b[38;5;124;43m\"\u001b[39;49m\u001b[43m)\u001b[49m\u001b[43m,\u001b[49m\n\u001b[0;32m   1669\u001b[0m \u001b[43m    \u001b[49m\u001b[43mstorage_options\u001b[49m\u001b[38;5;241;43m=\u001b[39;49m\u001b[38;5;28;43mself\u001b[39;49m\u001b[38;5;241;43m.\u001b[39;49m\u001b[43moptions\u001b[49m\u001b[38;5;241;43m.\u001b[39;49m\u001b[43mget\u001b[49m\u001b[43m(\u001b[49m\u001b[38;5;124;43m\"\u001b[39;49m\u001b[38;5;124;43mstorage_options\u001b[39;49m\u001b[38;5;124;43m\"\u001b[39;49m\u001b[43m,\u001b[49m\u001b[43m \u001b[49m\u001b[38;5;28;43;01mNone\u001b[39;49;00m\u001b[43m)\u001b[49m\u001b[43m,\u001b[49m\n\u001b[0;32m   1670\u001b[0m \u001b[43m\u001b[49m\u001b[43m)\u001b[49m\n\u001b[0;32m   1671\u001b[0m \u001b[38;5;28;01massert\u001b[39;00m \u001b[38;5;28mself\u001b[39m\u001b[38;5;241m.\u001b[39mhandles \u001b[38;5;129;01mis\u001b[39;00m \u001b[38;5;129;01mnot\u001b[39;00m \u001b[38;5;28;01mNone\u001b[39;00m\n\u001b[0;32m   1672\u001b[0m f \u001b[38;5;241m=\u001b[39m \u001b[38;5;28mself\u001b[39m\u001b[38;5;241m.\u001b[39mhandles\u001b[38;5;241m.\u001b[39mhandle\n",
      "File \u001b[1;32m~\\codes\\upgrad-maryland-analytics\\upgrad_venv\\lib\\site-packages\\pandas\\io\\common.py:859\u001b[0m, in \u001b[0;36mget_handle\u001b[1;34m(path_or_buf, mode, encoding, compression, memory_map, is_text, errors, storage_options)\u001b[0m\n\u001b[0;32m    854\u001b[0m \u001b[38;5;28;01melif\u001b[39;00m \u001b[38;5;28misinstance\u001b[39m(handle, \u001b[38;5;28mstr\u001b[39m):\n\u001b[0;32m    855\u001b[0m     \u001b[38;5;66;03m# Check whether the filename is to be opened in binary mode.\u001b[39;00m\n\u001b[0;32m    856\u001b[0m     \u001b[38;5;66;03m# Binary mode does not support 'encoding' and 'newline'.\u001b[39;00m\n\u001b[0;32m    857\u001b[0m     \u001b[38;5;28;01mif\u001b[39;00m ioargs\u001b[38;5;241m.\u001b[39mencoding \u001b[38;5;129;01mand\u001b[39;00m \u001b[38;5;124m\"\u001b[39m\u001b[38;5;124mb\u001b[39m\u001b[38;5;124m\"\u001b[39m \u001b[38;5;129;01mnot\u001b[39;00m \u001b[38;5;129;01min\u001b[39;00m ioargs\u001b[38;5;241m.\u001b[39mmode:\n\u001b[0;32m    858\u001b[0m         \u001b[38;5;66;03m# Encoding\u001b[39;00m\n\u001b[1;32m--> 859\u001b[0m         handle \u001b[38;5;241m=\u001b[39m \u001b[38;5;28;43mopen\u001b[39;49m\u001b[43m(\u001b[49m\n\u001b[0;32m    860\u001b[0m \u001b[43m            \u001b[49m\u001b[43mhandle\u001b[49m\u001b[43m,\u001b[49m\n\u001b[0;32m    861\u001b[0m \u001b[43m            \u001b[49m\u001b[43mioargs\u001b[49m\u001b[38;5;241;43m.\u001b[39;49m\u001b[43mmode\u001b[49m\u001b[43m,\u001b[49m\n\u001b[0;32m    862\u001b[0m \u001b[43m            \u001b[49m\u001b[43mencoding\u001b[49m\u001b[38;5;241;43m=\u001b[39;49m\u001b[43mioargs\u001b[49m\u001b[38;5;241;43m.\u001b[39;49m\u001b[43mencoding\u001b[49m\u001b[43m,\u001b[49m\n\u001b[0;32m    863\u001b[0m \u001b[43m            \u001b[49m\u001b[43merrors\u001b[49m\u001b[38;5;241;43m=\u001b[39;49m\u001b[43merrors\u001b[49m\u001b[43m,\u001b[49m\n\u001b[0;32m    864\u001b[0m \u001b[43m            \u001b[49m\u001b[43mnewline\u001b[49m\u001b[38;5;241;43m=\u001b[39;49m\u001b[38;5;124;43m\"\u001b[39;49m\u001b[38;5;124;43m\"\u001b[39;49m\u001b[43m,\u001b[49m\n\u001b[0;32m    865\u001b[0m \u001b[43m        \u001b[49m\u001b[43m)\u001b[49m\n\u001b[0;32m    866\u001b[0m     \u001b[38;5;28;01melse\u001b[39;00m:\n\u001b[0;32m    867\u001b[0m         \u001b[38;5;66;03m# Binary mode\u001b[39;00m\n\u001b[0;32m    868\u001b[0m         handle \u001b[38;5;241m=\u001b[39m \u001b[38;5;28mopen\u001b[39m(handle, ioargs\u001b[38;5;241m.\u001b[39mmode)\n",
      "\u001b[1;31mFileNotFoundError\u001b[0m: [Errno 2] No such file or directory: 'data_app.csv'"
     ]
    }
   ],
   "source": [
    "df = pd.read_csv('data_app.csv')"
   ]
  },
  {
   "cell_type": "markdown",
   "id": "dc04e8eb-acb2-4742-8871-7bceaedea0de",
   "metadata": {},
   "source": [
    "<hr style=\"border:1px dashed yellow;border-radius:50%\">"
   ]
  },
  {
   "cell_type": "markdown",
   "id": "0b02f6b1-e1f8-4749-9125-d5f336a50d2c",
   "metadata": {},
   "source": [
    "### Exploring the dataset."
   ]
  },
  {
   "cell_type": "code",
   "execution_count": null,
   "id": "dc3eee9b-f9d7-44e2-995f-a094cca3e788",
   "metadata": {},
   "outputs": [],
   "source": [
    "df.shape"
   ]
  },
  {
   "cell_type": "code",
   "execution_count": null,
   "id": "ae396113-9856-458f-b530-444a427f87e7",
   "metadata": {},
   "outputs": [],
   "source": [
    "df.columns"
   ]
  },
  {
   "cell_type": "code",
   "execution_count": null,
   "id": "842ca42c-8e11-45ca-a818-8c6092a29f6f",
   "metadata": {},
   "outputs": [],
   "source": [
    "df.head()"
   ]
  },
  {
   "cell_type": "code",
   "execution_count": null,
   "id": "c2fc036b-4509-4794-9667-059f3eb50511",
   "metadata": {},
   "outputs": [],
   "source": [
    "df.tail()"
   ]
  },
  {
   "cell_type": "code",
   "execution_count": null,
   "id": "560f3f7a-5f06-44a4-9686-074f1ec03ab1",
   "metadata": {},
   "outputs": [],
   "source": [
    "df.describe().T"
   ]
  },
  {
   "cell_type": "code",
   "execution_count": null,
   "id": "15d48817-a8e9-4f3b-bd3f-1d3aa767fa5d",
   "metadata": {},
   "outputs": [],
   "source": [
    "df.info()"
   ]
  },
  {
   "cell_type": "code",
   "execution_count": null,
   "id": "a23e5748-e06f-4101-9514-e124816add84",
   "metadata": {},
   "outputs": [],
   "source": [
    "def unique_values_description(data):\n",
    "    unique_values = pd.DataFrame({\n",
    "        'Column': data.columns,\n",
    "        'Unique_Values': [data[col].unique() for col in data.columns],\n",
    "        'Num_Unique': [len(data[col].unique()) for col in data.columns]\n",
    "    }).T\n",
    "\n",
    "    # Display the result in scrollable HTML\n",
    "    html_output = unique_values.to_html(classes='table table-striped', index=False)\n",
    "    html_with_scroll = f\"<div style='overflow-x: auto; max-height: 300px;'>{html_output}</div>\"\n",
    "\n",
    "    return HTML(html_with_scroll)"
   ]
  },
  {
   "cell_type": "code",
   "execution_count": null,
   "id": "e0d86f04-0d3e-48ca-b938-85c190de9971",
   "metadata": {},
   "outputs": [],
   "source": [
    "unique_values_description(df[['Adopt', 'Gender', 'Post', 'Nationality', 'Loyalty']])"
   ]
  },
  {
   "cell_type": "markdown",
   "id": "6e8bdee6-2663-419a-a893-571dbb0b2425",
   "metadata": {
    "id": "c6cd44d1"
   },
   "source": [
    "#### Observations\n",
    "\n",
    "1. No column has null values. (Shape shows 4000 rows and the Non-Null count also shows 4000 rows)\n",
    "2. Every Column is an Integer apart from the Gender.\n",
    "3. Gender, Adopt, Post, Nationality, Loyalty can be considered as Categorical Variables."
   ]
  },
  {
   "cell_type": "markdown",
   "id": "8993cc5d-7643-4297-ab9b-0e0a3040ccbb",
   "metadata": {},
   "source": [
    "<hr style=\"border:1px dashed yellow;border-radius:50%\">"
   ]
  },
  {
   "cell_type": "markdown",
   "id": "c08ebb3d-50b1-4156-aec0-8d217799b727",
   "metadata": {},
   "source": [
    "### Refactoring For Categorical Data.\n",
    "\n",
    "- Adopt, Post, Nationality, Loyalty are the numerical data which can be converted to categorical string for easy description when exploring Categorical data.\n",
    "- Gender can be mapped to integer for correlation matrix."
   ]
  },
  {
   "cell_type": "markdown",
   "id": "0bc29544-b2c6-4533-add3-95a4b5ff44d3",
   "metadata": {},
   "source": [
    "#### Data Mappings:\n",
    "\n",
    "1. Post: Whether an observation is before or after the app’s adoption:\r",
    "    -  1 = After the app’s adoptio\n",
    "    -   0 = Before the app’s adopti \n",
    "\n",
    "2. Adopt: Whether a customer is an adopter of the app\r",
    "    -  1 = App’s adopte\n",
    "    -   0 = Not an adopter of the a\n",
    "\n",
    "3. Nationality: Whether the customer is a US resident\n",
    "    -  1 = A US residen\n",
    "    -   0 = Not a US resideshipntleppon"
   ]
  },
  {
   "cell_type": "markdown",
   "id": "e0fb8e1d-6658-4fff-b588-f5b8c97db73b",
   "metadata": {},
   "source": [
    "4. Loyalty: Customer loyalty membership level\n",
    "    - 1 = Basic membership\n",
    "    - 2 = Silver membership\n",
    "    - 3 = Gold membership\n",
    "    - 4 = Platinum membership\n",
    "  \n",
    "5. Gender: Gender of the customer.\n",
    "   - 0 = Male\n",
    "   - 1 = Female"
   ]
  },
  {
   "cell_type": "code",
   "execution_count": null,
   "id": "9c48af74-1e4c-4c7f-844b-27272434bd67",
   "metadata": {},
   "outputs": [],
   "source": [
    "post_mapping = {\n",
    "    1: \"Post\",\n",
    "    0: \"Pre\"\n",
    "}\n",
    "\n",
    "adopt_mapping = {\n",
    "    1: \"Adopter\",\n",
    "    0: \"Not Adopter\"\n",
    "}\n",
    "\n",
    "notionality_mapping = {\n",
    "    1: \"USA\",\n",
    "    0: \"Non USA\"\n",
    "}\n",
    "\n",
    "loyalty_mapping = {\n",
    "    1: \"Basic\",\n",
    "    2: \"Silver\",\n",
    "    3: \"Gold\",\n",
    "    4: \"Platinum\"\n",
    "}\n",
    "\n",
    "gender_mapping = {\n",
    "    \"Male\": 0,\n",
    "    \"Female\": 1\n",
    "}"
   ]
  },
  {
   "cell_type": "code",
   "execution_count": null,
   "id": "54e76ccf-8290-431d-836a-8dfc40aa3fee",
   "metadata": {},
   "outputs": [],
   "source": [
    "df['post_cat'] = df['Post'].replace(post_mapping)\n",
    "df['adopt_cat'] = df['Adopt'].replace(adopt_mapping)\n",
    "df['nationality_cat'] = df['Nationality'].replace(notionality_mapping)\n",
    "df['loyalty_cat'] = df['Loyalty'].replace(loyalty_mapping)\n",
    "df['gender_int'] = df['Gender'].replace(gender_mapping)"
   ]
  },
  {
   "cell_type": "code",
   "execution_count": null,
   "id": "9330e11c-d73c-4652-8f2c-5d9f7512dadd",
   "metadata": {},
   "outputs": [],
   "source": [
    "df[['post_cat','adopt_cat', 'nationality_cat', 'loyalty_cat', 'gender_int']]"
   ]
  },
  {
   "cell_type": "markdown",
   "id": "8db6283a-9cf4-4eac-ba3a-640c3ac452a7",
   "metadata": {},
   "source": [
    "\n",
    "<hr style=\"border:1px dashed yellow;border-radius:50%\">"
   ]
  },
  {
   "cell_type": "markdown",
   "id": "35a345cb-50df-4f10-acab-3ea6a2aaf361",
   "metadata": {},
   "source": [
    "### Exploring Numerical Data."
   ]
  },
  {
   "cell_type": "code",
   "execution_count": null,
   "id": "54a9a621-1a45-4133-aaf1-2abeadaaec0b",
   "metadata": {},
   "outputs": [],
   "source": [
    "def describe_numerical_data(data):\n",
    "    \"\"\"\n",
    "    Helper function for describing numerical data.\n",
    "    \"\"\"\n",
    "    numerical_data = data.select_dtypes(include=[np.number])\n",
    "    description = numerical_data.describe()\n",
    "    return description"
   ]
  },
  {
   "cell_type": "code",
   "execution_count": null,
   "id": "18ad7645-1da6-4549-bf00-37831ae0ff22",
   "metadata": {},
   "outputs": [],
   "source": [
    "def display_description_as_html(description):\n",
    "    html_output = description.to_html()\n",
    "    html_with_scroll = f\"<div style='overflow-x: auto;'>{html_output}</div>\"\n",
    "    display(HTML(html_with_scroll))"
   ]
  },
  {
   "cell_type": "code",
   "execution_count": null,
   "id": "e17d3245-3311-4c4d-a121-20ff63a90884",
   "metadata": {},
   "outputs": [],
   "source": [
    "numerical_data_description = describe_numerical_data(df[['Age', 'Tenure', 'NumBookings', 'Spending']]).T"
   ]
  },
  {
   "cell_type": "code",
   "execution_count": null,
   "id": "0a4a90f2-7932-44b7-803a-1536606eaff9",
   "metadata": {},
   "outputs": [],
   "source": [
    "display_description_as_html(numerical_data_description)"
   ]
  },
  {
   "cell_type": "markdown",
   "id": "d01cf479-22ae-4214-96da-c692092e89c1",
   "metadata": {},
   "source": [
    "<hr style=\"border:1px dashed yellow;border-radius:50%\">"
   ]
  },
  {
   "cell_type": "markdown",
   "id": "6cbcf1b7-15fc-4214-ad00-3518e5832fe6",
   "metadata": {},
   "source": [
    "### Exploring Categorical Data"
   ]
  },
  {
   "cell_type": "code",
   "execution_count": null,
   "id": "65f24813-0652-4ce0-b3e1-6e523a790442",
   "metadata": {},
   "outputs": [],
   "source": [
    "def describe_categorical_data(data):\n",
    "    categorical_data = data.select_dtypes(include=['object'])\n",
    "    description = categorical_data.describe()\n",
    "    return description"
   ]
  },
  {
   "cell_type": "code",
   "execution_count": null,
   "id": "af06d967-00c1-4240-be41-c68c1fb2c861",
   "metadata": {},
   "outputs": [],
   "source": [
    "# Get the description of categorical data\n",
    "categorical_description = describe_categorical_data(df)\n",
    "\n",
    "# Display the description in HTML\n",
    "display_description_as_html(categorical_description.T)"
   ]
  },
  {
   "cell_type": "markdown",
   "id": "3cd9489e-c7e1-4ef4-a2df-c983895b2448",
   "metadata": {},
   "source": [
    "<hr style=\"border:1px dashed yellow;border-radius:50%\">"
   ]
  },
  {
   "cell_type": "markdown",
   "id": "ff938e4b-3e13-43c5-87ed-94902d8705dd",
   "metadata": {},
   "source": [
    "### Pre and Post download Filters"
   ]
  },
  {
   "cell_type": "code",
   "execution_count": null,
   "id": "83c067e7-29e2-4f39-a4e0-457ca789575f",
   "metadata": {},
   "outputs": [],
   "source": [
    "pre_download_df = df[df['Post'] == 0]\n",
    "post_download_df = df[df['Post'] == 1]"
   ]
  },
  {
   "cell_type": "code",
   "execution_count": null,
   "id": "80969c21-20a8-4e31-9e43-4cce1ecc2c0c",
   "metadata": {},
   "outputs": [],
   "source": [
    "assert (pre_download_df['Post'] == 0).all() == True\n",
    "assert (post_download_df['Post'] == 1).all() == True"
   ]
  },
  {
   "cell_type": "markdown",
   "id": "dba7d34c-cbc6-4f46-9342-a25270063ff1",
   "metadata": {},
   "source": [
    "<hr style=\"border:2px solid red;border-radius:50%\" />"
   ]
  },
  {
   "cell_type": "markdown",
   "id": "5afead9e-3c74-4a40-bd75-157f4d1af90a",
   "metadata": {},
   "source": [
    "## Analysing the Gender Variable."
   ]
  },
  {
   "cell_type": "code",
   "execution_count": null,
   "id": "d63606ca-e9d5-47c1-845c-06a3a66f1f83",
   "metadata": {},
   "outputs": [],
   "source": [
    "display_description_as_html(df[['Gender']].describe().T)"
   ]
  },
  {
   "cell_type": "code",
   "execution_count": null,
   "id": "247dee81-59d2-4598-ba60-c4d1c1dd96d3",
   "metadata": {},
   "outputs": [],
   "source": [
    "gender_counts = df['Gender'].value_counts()\n",
    "gender_counts_table = pd.DataFrame(gender_counts).rename(columns={'Gender': 'Count'})\n",
    "display_description_as_html(gender_counts_table)"
   ]
  },
  {
   "cell_type": "code",
   "execution_count": null,
   "id": "8490cba5-48a2-4cd2-a760-e2ac81db50ca",
   "metadata": {},
   "outputs": [],
   "source": [
    "plt.figure(figsize=(10, 10))\n",
    "plt.suptitle(\"Exploring Gender in Experiment.\", fontsize=\"18\")\n",
    "\n",
    "# Gender wise count plot.\n",
    "plt.subplot(2, 2, 1)\n",
    "count_plot = sns.countplot(df,x=\"Gender\")\n",
    "count_plot.set_title('Overall Customer Frequency by Gender')\n",
    "count_plot.set_ylabel(\"Frequency\")\n",
    "\n",
    "# Gender wise count plot for Pre and Post download stages.\n",
    "plt.subplot(2, 2, 2)\n",
    "count_plot = sns.countplot(df, x=\"Gender\", hue=\"post_cat\")\n",
    "count_plot.set_title('Post-Pre Customer Frequency by Gender')\n",
    "count_plot.set_ylabel(\"Frequency\")\n",
    "\n",
    "plt.tight_layout()\n",
    "plt.show()"
   ]
  },
  {
   "cell_type": "code",
   "execution_count": null,
   "id": "80e11762-3d92-4a28-8245-7c77ca855031",
   "metadata": {},
   "outputs": [],
   "source": [
    "gender_frequency_df = df[['Gender']].value_counts().reset_index()"
   ]
  },
  {
   "cell_type": "code",
   "execution_count": null,
   "id": "fa88537a-9407-4b5f-b40f-a30d74245577",
   "metadata": {},
   "outputs": [],
   "source": [
    "gender_frequency_df"
   ]
  },
  {
   "cell_type": "markdown",
   "id": "b9334bba-7122-46a1-8cea-11fb137c688b",
   "metadata": {},
   "source": [
    "<hr style=\"border:2px solid red;border-radius:50%\" />"
   ]
  },
  {
   "cell_type": "markdown",
   "id": "e23f0a6c-aefc-420f-97bd-2fadb9489454",
   "metadata": {},
   "source": [
    "### Analysing Nationality."
   ]
  },
  {
   "cell_type": "code",
   "execution_count": null,
   "id": "39d685c6-c778-4ac4-bc47-55513139ca6b",
   "metadata": {},
   "outputs": [],
   "source": [
    "display_description_as_html(df[['nationality_cat']].describe().T)"
   ]
  },
  {
   "cell_type": "code",
   "execution_count": null,
   "id": "dc9136b5-d164-4069-88f6-d62a2c237c55",
   "metadata": {},
   "outputs": [],
   "source": [
    "nationality_counts = df['nationality_cat'].value_counts()\n",
    "nationality_counts_table = pd.DataFrame(nationality_counts).rename(columns={'nationality_cat': 'Count'})\n",
    "display(HTML(nationality_counts_table.to_html()))"
   ]
  },
  {
   "cell_type": "code",
   "execution_count": null,
   "id": "4d3b4e53-89bf-4dfb-9191-0d5ae85433e5",
   "metadata": {},
   "outputs": [],
   "source": [
    "plt.figure(figsize=(10, 10))\n",
    "plt.suptitle(\"Distribution of Nationality\", fontsize=\"18\")\n",
    "\n",
    "# Gender wise count plot.\n",
    "plt.subplot(2, 2, 1)\n",
    "count_plot = sns.countplot(df,x=\"nationality_cat\")\n",
    "count_plot.set_title('Overall Customer Frequency by Nationality')\n",
    "count_plot.set_ylabel(\"Frequency\")\n",
    "\n",
    "# Gender wise count plot for Pre and Post download stages.\n",
    "plt.subplot(2, 2, 2)\n",
    "count_plot = sns.countplot(df, x=\"nationality_cat\", hue=\"post_cat\")\n",
    "count_plot.set_title('Post-Pre Customer Frequency by Nationality')\n",
    "count_plot.set_ylabel(\"Frequency\")\n",
    "\n",
    "plt.tight_layout()\n",
    "plt.show()"
   ]
  },
  {
   "cell_type": "markdown",
   "id": "5e5fa571-46eb-4e92-981a-8c123871c827",
   "metadata": {},
   "source": [
    "<hr style=\"border:2px solid red;border-radius:50%\" />"
   ]
  },
  {
   "cell_type": "markdown",
   "id": "82643eab-7881-433e-a39e-eff020301003",
   "metadata": {},
   "source": [
    "### Analysing Loyalty."
   ]
  },
  {
   "cell_type": "code",
   "execution_count": null,
   "id": "6af54a6f-36ea-46be-a998-06c7821adfc6",
   "metadata": {},
   "outputs": [],
   "source": [
    "display_description_as_html(df[['loyalty_cat']].describe().T)"
   ]
  },
  {
   "cell_type": "code",
   "execution_count": null,
   "id": "93763765-a7ba-4ea2-af5c-8db4c7596f19",
   "metadata": {},
   "outputs": [],
   "source": [
    "loyalty_counts = df['loyalty_cat'].value_counts()\n",
    "loyalty_counts_table = pd.DataFrame(loyalty_counts).rename(columns={'loyalty_cat': 'Count'}).reset_index()\n",
    "display(HTML(loyalty_counts_table.to_html()))"
   ]
  },
  {
   "cell_type": "code",
   "execution_count": null,
   "id": "77585e2e-fbde-482d-afa3-daf4b9664ea9",
   "metadata": {},
   "outputs": [],
   "source": [
    "ax = sns.barplot(loyalty_counts_table, x=\"loyalty_cat\", y=\"count\")\n",
    "ax.set_title(\"Loyalty Distribution\")\n",
    "ax.set_ylabel(\"Loyalty Category\")\n",
    "plt.show()"
   ]
  },
  {
   "cell_type": "code",
   "execution_count": null,
   "id": "6fa498e1-ad8d-4a25-8ef4-16a04e47458a",
   "metadata": {},
   "outputs": [],
   "source": [
    "count_plot = sns.countplot(df, x=\"loyalty_cat\", hue=\"post_cat\")\n",
    "count_plot.set_title('Post-Pre Customer Frequency by Loyalty')\n",
    "count_plot.set_ylabel(\"Frequency\")\n",
    "count_plot.set_xlabel('Loyalty Category')\n",
    "plt.show()"
   ]
  },
  {
   "cell_type": "markdown",
   "id": "d4cafad1-1058-4d45-835f-a965c43ee739",
   "metadata": {},
   "source": [
    "<hr style=\"border:2px solid red;border-radius:50%\" />"
   ]
  },
  {
   "cell_type": "markdown",
   "id": "66752920-acaf-43d6-b761-8abf9967cbfe",
   "metadata": {},
   "source": [
    "### Analysing AGE."
   ]
  },
  {
   "cell_type": "code",
   "execution_count": null,
   "id": "b5e59a8d-73c9-42f4-8541-da7bbb2a98f6",
   "metadata": {},
   "outputs": [],
   "source": [
    "df['Age'].describe()"
   ]
  },
  {
   "cell_type": "code",
   "execution_count": null,
   "id": "d4111c3e-46dc-40cc-b14d-339f2c97d959",
   "metadata": {},
   "outputs": [],
   "source": [
    "sns.boxplot(df, x=\"Age\")\n",
    "plt.show()"
   ]
  },
  {
   "cell_type": "code",
   "execution_count": null,
   "id": "2a2ec67a-776f-4cc4-8d26-10e07c267e3f",
   "metadata": {},
   "outputs": [],
   "source": [
    "ax = sns.histplot(df, x=\"Age\", kde=True)\n",
    "ax.set_title(\"Age Distribution\")\n",
    "ax.set_ylabel(\"Frequency\")\n",
    "plt.show()"
   ]
  },
  {
   "cell_type": "code",
   "execution_count": null,
   "id": "5ecd1fd1-fa86-47c1-a5bc-2780f021ab67",
   "metadata": {},
   "outputs": [],
   "source": [
    "ax = sns.histplot(df, x=\"Age\", multiple=\"stack\", hue=\"post_cat\", kde=True)\n",
    "ax.set_title(\"Age Post-Pre Distribution\")\n",
    "ax.set_ylabel(\"Frequency\")\n",
    "plt.show()"
   ]
  },
  {
   "cell_type": "markdown",
   "id": "7289cb6e-516e-403d-bc72-ec50189c61f6",
   "metadata": {},
   "source": [
    "<hr style=\"border:2px solid red;border-radius:50%\" />"
   ]
  },
  {
   "cell_type": "markdown",
   "id": "f24da01b-e52c-468d-a307-c79137ab1fbb",
   "metadata": {},
   "source": [
    "### Analysing Tenure."
   ]
  },
  {
   "cell_type": "code",
   "execution_count": null,
   "id": "e76c8861-c013-4a61-a549-36e8335ddf46",
   "metadata": {},
   "outputs": [],
   "source": [
    "ax = sns.histplot(df, x=\"Tenure\", kde=True)\n",
    "ax.set_title(\"Tenure Distribution\")\n",
    "ax.set_ylabel(\"Frequency\")\n",
    "plt.show()"
   ]
  },
  {
   "cell_type": "code",
   "execution_count": null,
   "id": "aeb1e4a4-c6cb-4030-87af-2f0dcaa8482c",
   "metadata": {},
   "outputs": [],
   "source": [
    "ax = sns.histplot(df, x=\"Tenure\", multiple=\"stack\", hue=\"post_cat\", kde=True)\n",
    "ax.set_title(\"Tenure Post-Pre Distribution\")\n",
    "ax.set_ylabel(\"Frequency\")\n",
    "plt.show()"
   ]
  },
  {
   "cell_type": "code",
   "execution_count": null,
   "id": "507228a5-033b-48d1-83a9-4ba84412d803",
   "metadata": {},
   "outputs": [],
   "source": [
    "ax = sns.boxplot(df, x=\"Tenure\")\n",
    "ax.set_title(\"Tenure Boxplot\")\n",
    "plt.show()"
   ]
  },
  {
   "cell_type": "markdown",
   "id": "402af7d4-82d5-4754-90ea-bea3faa25d73",
   "metadata": {},
   "source": [
    "<hr style=\"border:2px solid red;border-radius:50%\" />"
   ]
  },
  {
   "cell_type": "markdown",
   "id": "c6358e76-5c80-4585-8cd7-874b09eb38d5",
   "metadata": {},
   "source": [
    "## Purchase Behaviour of Customer."
   ]
  },
  {
   "cell_type": "markdown",
   "id": "3f3b2006-b812-43b0-a8dc-36c2c6e6e745",
   "metadata": {},
   "source": [
    "### Spending Habits of Customer."
   ]
  },
  {
   "cell_type": "code",
   "execution_count": null,
   "id": "b24c168e-3735-4dce-ba1d-5cf87978bf1b",
   "metadata": {},
   "outputs": [],
   "source": [
    "ax = sns.boxplot(df, y=\"Spending\", x=\"Gender\")\n",
    "ax.set_title(\"Spending by Gender\")\n",
    "plt.show()"
   ]
  },
  {
   "cell_type": "code",
   "execution_count": null,
   "id": "6612b2e1-5662-4e4b-8f64-c81f549da636",
   "metadata": {},
   "outputs": [],
   "source": [
    "fig, ax = plt.subplots(1, 2, figsize=(10, 5))\n",
    "fig.suptitle(\"Gender Spendings in Pre-Post download.\")\n",
    "\n",
    "box_plot1 = sns.boxplot(data=pre_download_df, x='Gender', y='Spending', ax=ax[0])\n",
    "box_plot1.set_title('Spendings by genders (Pre download)', fontsize=10)\n",
    "\n",
    "\n",
    "box_plot2 = sns.boxplot(data=post_download_df, x='Gender', y='Spending', ax=ax[1])\n",
    "box_plot2.set_title('Spendings by genders (Post download)', fontsize=10)\n",
    "box_plot2.set_ylabel(\"\")\n",
    "\n",
    "plt.show()"
   ]
  },
  {
   "cell_type": "code",
   "execution_count": null,
   "id": "52a9d6e6-2cbf-4526-acf3-53a0590b2a1f",
   "metadata": {},
   "outputs": [],
   "source": [
    "ax = sns.histplot(df, x=\"Spending\", hue=\"loyalty_cat\", multiple=\"stack\", kde=True)\n",
    "ax.set_title(\"Spendings by Loyalty Membership\")\n",
    "ax.set_ylabel(\"Frequency\")\n",
    "plt.show()"
   ]
  },
  {
   "cell_type": "code",
   "execution_count": null,
   "id": "343354ea-9874-4ae6-a80e-763f3fd1fef8",
   "metadata": {},
   "outputs": [],
   "source": [
    "fig, ax = plt.subplots(1, 2, figsize=(10, 5))\n",
    "fig.suptitle(\"Spendings in Pre-Post download.(Loyalty membership)\")\n",
    "\n",
    "box_plot1 = sns.histplot(pre_download_df, x=\"Spending\", hue=\"loyalty_cat\", multiple=\"stack\", kde=True, ax=ax[0])\n",
    "box_plot1.set_title('Spendings by Loyalty Membership (Pre download)', fontsize=10)\n",
    "box_plot1.set_ylabel(\"Frequency\")\n",
    "\n",
    "\n",
    "box_plot2 = sns.histplot(post_download_df, x=\"Spending\", hue=\"loyalty_cat\",multiple=\"stack\", kde=True, ax=ax[1])\n",
    "box_plot2.set_title('Spendings by Loyalty Membership (Post download)', fontsize=10)\n",
    "box_plot2.set_ylabel(\"\")\n",
    "\n",
    "plt.show()"
   ]
  },
  {
   "cell_type": "code",
   "execution_count": null,
   "id": "389850ba-3dbf-41ae-bdd6-1f204cc1f483",
   "metadata": {},
   "outputs": [],
   "source": [
    "fig, ax = plt.subplots(1, 2, figsize=(10, 5))\n",
    "fig.suptitle(\"Spendings in Pre-Post download.(Loyalty membership)\")\n",
    "\n",
    "box_plot1 = sns.histplot(pre_download_df, x=\"Spending\", y=\"Age\", ax=ax[0])\n",
    "box_plot1.set_title('Spendings by Loyalty Membership (Pre download)', fontsize=10)\n",
    "box_plot1.set_ylabel(\"Age\")\n",
    "\n",
    "\n",
    "box_plot2 = sns.histplot(post_download_df, x=\"Spending\", y=\"Age\", color=\"#e67e35\", ax=ax[1])\n",
    "box_plot2.set_title('Spendings by Loyalty Membership (Post download)', fontsize=10)\n",
    "box_plot2.set_ylabel(\"\")\n",
    "\n",
    "plt.show()"
   ]
  },
  {
   "cell_type": "code",
   "execution_count": null,
   "id": "49aa18fa-a0b2-440e-b992-88e35d43723b",
   "metadata": {},
   "outputs": [],
   "source": [
    "fig, ax = plt.subplots(1, 2, figsize=(10, 5))\n",
    "fig.suptitle(\"Spendings in Pre-Post download.(By Nationality)\")\n",
    "\n",
    "strip_plot1 = sns.stripplot(pre_download_df, y=\"Spending\", x=\"nationality_cat\", hue=\"nationality_cat\", alpha=0.15, ax=ax[0])\n",
    "point_plot1 = sns.pointplot(x=\"nationality_cat\", y=\"Spending\", hue='nationality_cat', data=pre_download_df, dodge=True, join=False, ax=ax[0])\n",
    "strip_plot1.set_title('Spendings by Loyalty Membership (Pre download)', fontsize=10)\n",
    "strip_plot1.set_xlabel(\"Nationality\")\n",
    "strip_plot1.set_ylabel(\"Spending\")\n",
    "\n",
    "strip_plot2 = sns.stripplot(post_download_df, y=\"Spending\", x=\"nationality_cat\", hue=\"nationality_cat\", alpha=0.25, ax=ax[1])\n",
    "strip_plot2.set_title('Spendings by Loyalty Membership (Post download)', fontsize=10)\n",
    "strip_plot1.set_xlabel(\"Nationality\")\n",
    "strip_plot2.set_ylabel(\"\")\n",
    "\n",
    "plt.show()"
   ]
  },
  {
   "cell_type": "markdown",
   "id": "97748ef0-dae9-4670-b820-6cfd9438ea14",
   "metadata": {},
   "source": [
    "<hr style=\"border:2px solid red;border-radius:50%\" />"
   ]
  },
  {
   "cell_type": "markdown",
   "id": "94965c10-a788-4b14-88cc-d6e6fe4463e9",
   "metadata": {},
   "source": [
    "## Analysing Number of bookings."
   ]
  },
  {
   "cell_type": "code",
   "execution_count": null,
   "id": "9e595c31-c773-48a9-ad62-f2871646fbb3",
   "metadata": {},
   "outputs": [],
   "source": [
    "jp = sns.jointplot(df, x=\"Spending\", y=\"NumBookings\", hue=\"post_cat\", alpha=0.5)\n",
    "jp.fig.suptitle(\"Spendings Vs Number of Bookings\")\n",
    "jp.fig.subplots_adjust(top=0.95)\n",
    "plt.show()"
   ]
  },
  {
   "cell_type": "code",
   "execution_count": null,
   "id": "4fdcfcca-eead-49e6-add6-c907505cb109",
   "metadata": {},
   "outputs": [],
   "source": [
    "ax = sns.histplot(df, x=\"NumBookings\", multiple=\"stack\", hue=\"post_cat\", kde=True)\n",
    "ax.set_title(\"Number of Bookings (Pre and Post adoption)\")\n",
    "ax.set_ylabel(\"Frequency\")\n",
    "plt.show()"
   ]
  },
  {
   "cell_type": "code",
   "execution_count": null,
   "id": "671abaf9-e719-44f6-b9e0-f4884252626d",
   "metadata": {},
   "outputs": [],
   "source": [
    "ax = sns.pointplot(df, y=\"NumBookings\", x=\"Gender\", hue=\"post_cat\")\n",
    "ax.set_title(\"Number of Bookings Gender Vise\")\n",
    "ax.set_xlabel(\"Gender\")\n",
    "plt.show()"
   ]
  },
  {
   "cell_type": "code",
   "execution_count": null,
   "id": "8ae53797-3402-427a-b8d2-ed1589d25b30",
   "metadata": {},
   "outputs": [],
   "source": [
    "ax = sns.pointplot(df, y=\"NumBookings\", x=\"nationality_cat\", hue=\"post_cat\")\n",
    "ax.set_title(\"Number of Bookings Nationality wise\")\n",
    "ax.set_xlabel(\"Nationality\")\n",
    "plt.show()"
   ]
  },
  {
   "cell_type": "markdown",
   "id": "651749d0-5312-4c12-aa4c-450549238c6e",
   "metadata": {},
   "source": [
    "<hr style=\"border:2px solid red;border-radius:50%\" />"
   ]
  },
  {
   "cell_type": "markdown",
   "id": "ca3e040f-9deb-4a84-9e96-d725a8db5cbd",
   "metadata": {},
   "source": [
    "## Analysing Adoption."
   ]
  },
  {
   "cell_type": "code",
   "execution_count": null,
   "id": "b4c0d5ed-915f-4daf-872d-71b4350cac5a",
   "metadata": {},
   "outputs": [],
   "source": [
    "correlation_filt_df = df[['Adopt', 'Post', 'gender_int', 'Spending', 'NumBookings', 'Tenure', 'Loyalty', 'Age']]"
   ]
  },
  {
   "cell_type": "code",
   "execution_count": null,
   "id": "9ba0c692-38e8-44f9-bf4c-58cdaea50e79",
   "metadata": {},
   "outputs": [],
   "source": [
    "corr_df = correlation_filt_df.corr().round(2)"
   ]
  },
  {
   "cell_type": "code",
   "execution_count": null,
   "id": "997f9243-ca0f-4f86-9689-2e8c629a1c90",
   "metadata": {},
   "outputs": [],
   "source": [
    "sns.heatmap(corr_df, cmap=sns.color_palette(\"Blues\", as_cmap=True), annot=True, fmt=\".2f\", linewidth=0.5)\n",
    "\n",
    "plt.show()"
   ]
  },
  {
   "cell_type": "code",
   "execution_count": null,
   "id": "758c2776-db06-4240-b64a-e7e913d96541",
   "metadata": {},
   "outputs": [],
   "source": [
    "ax = sns.barplot(df, x=\"adopt_cat\", y=\"Spending\", hue=\"post_cat\")\n",
    "ax.set_title(\"Spendings by Adopters and Non Adopters\")\n",
    "ax.set_xlabel(\"Adopt Status\")\n",
    "plt.show()"
   ]
  },
  {
   "cell_type": "markdown",
   "id": "d8737533-c0fa-4d66-8b4d-ae6c28b4561c",
   "metadata": {},
   "source": [
    "<hr style=\"border:2px solid red;border-radius:50%\" />"
   ]
  },
  {
   "cell_type": "markdown",
   "id": "80c5bbab-0393-4023-aa49-50c65913e34e",
   "metadata": {},
   "source": [
    "## Hypothesis Testing."
   ]
  },
  {
   "cell_type": "markdown",
   "id": "e0abb6c0-7990-458e-aa72-67c1667be2e6",
   "metadata": {},
   "source": [
    "Determine where there is a statistically significant difference between the avg spending of men and women (at a 5% significance level)?\n",
    "- Determine whether there is difference in means.\n",
    "- Construct a 95% confidence interval for difference in means.\n",
    "\n",
    "__NOTE: The above test is conducted for the entire dataset.__"
   ]
  },
  {
   "cell_type": "markdown",
   "id": "13b3c40b-6d6e-43b5-94b6-0e6bc2713be5",
   "metadata": {},
   "source": [
    "- We are taking a categorical (Gender) and numerical variable (Spending).\n",
    "- We will be applying t-test."
   ]
  },
  {
   "cell_type": "code",
   "execution_count": null,
   "id": "db90a0ad-ce69-463c-9a85-fcda17fe4bac",
   "metadata": {},
   "outputs": [],
   "source": [
    "df"
   ]
  },
  {
   "cell_type": "code",
   "execution_count": null,
   "id": "e9c53b44-b931-47d6-8310-aa914cf42906",
   "metadata": {},
   "outputs": [],
   "source": []
  }
 ],
 "metadata": {
  "kernelspec": {
   "display_name": "Python 3 (ipykernel)",
   "language": "python",
   "name": "python3"
  },
  "language_info": {
   "codemirror_mode": {
    "name": "ipython",
    "version": 3
   },
   "file_extension": ".py",
   "mimetype": "text/x-python",
   "name": "python",
   "nbconvert_exporter": "python",
   "pygments_lexer": "ipython3",
   "version": "3.10.11"
  }
 },
 "nbformat": 4,
 "nbformat_minor": 5
}
