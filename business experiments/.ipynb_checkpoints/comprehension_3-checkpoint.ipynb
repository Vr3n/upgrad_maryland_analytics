{
 "cells": [
  {
   "cell_type": "markdown",
   "id": "34a693b3-6e5f-40bd-b106-e19c527d3683",
   "metadata": {},
   "source": [
    "### StatTea Comprehension ☕\n",
    "\n",
    "Stat Tea Inc., a reputed tea company is using statistical analysis to test its new brand of tea among its customers.\r\n",
    "\r\n",
    "To understand which brand of tea works best, they surveyed 400 customers who would sample their old brand, along with other competitor brands and another 400 customers who would sample their new brand, along with other competitor brands.\r\n",
    "\r\n",
    "Here's how the control and treatment group look lik- e:\r\n",
    "\r\n",
    "Control Group: 400 people, sampling old - brand\r\n",
    "Treatment Group: 400 people, sampling new\n",
    "\n",
    " brand\r\n",
    "The current adoption rate is \n",
    "at 30%. They plan on using hypothesis testing to infer that on average there's an increase of 10% in adoption rate for customers who were provided with their new bran. of tea.\r\n",
    "\r\n",
    "Here are the results of th- e survey\r\n",
    "\r\n",
    "Control Group: Out of 400 people, 120 preferred th- e old brand\r\n",
    "Treatment Group: Out of 400 people, 170 preferred the new brand"
   ]
  },
  {
   "cell_type": "markdown",
   "id": "2a82c44b-1679-48de-940f-fa1125f87120",
   "metadata": {},
   "source": [
    "#### Importing Necessary libraries."
   ]
  },
  {
   "cell_type": "code",
   "execution_count": 17,
   "id": "6869c9e0-2054-41e5-a72e-74226c3dd50e",
   "metadata": {},
   "outputs": [],
   "source": [
    "import statsmodels.stats.api as sms\n",
    "import math"
   ]
  },
  {
   "cell_type": "markdown",
   "id": "fcdf81db-70fd-4fdc-9020-6b8138f4bbc1",
   "metadata": {},
   "source": [
    "#### Given Values."
   ]
  },
  {
   "cell_type": "code",
   "execution_count": 18,
   "id": "dca8ae94-ff6f-411d-b2dd-f0b9b025fb6c",
   "metadata": {},
   "outputs": [],
   "source": [
    "Pc = 0.3\n",
    "Pt = 0.4\n",
    "power = 0.8\n",
    "alpha = 0.05"
   ]
  },
  {
   "cell_type": "markdown",
   "id": "e767cba3-a41f-427d-8116-ac44e0193f6e",
   "metadata": {},
   "source": [
    "#### Question 1\n",
    "The company took a sample of 400 customres for both the control and the treatment groups to test a change of 10% from the initial adoption of 30%. \\\n",
    "Is the sample size sufficient in this case?"
   ]
  },
  {
   "cell_type": "code",
   "execution_count": 19,
   "id": "8075710d-6d8b-4f59-be93-33e66688dcd3",
   "metadata": {
    "scrolled": true
   },
   "outputs": [
    {
     "data": {
      "text/plain": [
       "\u001b[1;31mSignature:\u001b[0m \u001b[0msms\u001b[0m\u001b[1;33m.\u001b[0m\u001b[0mproportion_effectsize\u001b[0m\u001b[1;33m(\u001b[0m\u001b[0mprop1\u001b[0m\u001b[1;33m,\u001b[0m \u001b[0mprop2\u001b[0m\u001b[1;33m,\u001b[0m \u001b[0mmethod\u001b[0m\u001b[1;33m=\u001b[0m\u001b[1;34m'normal'\u001b[0m\u001b[1;33m)\u001b[0m\u001b[1;33m\u001b[0m\u001b[1;33m\u001b[0m\u001b[0m\n",
       "\u001b[1;31mDocstring:\u001b[0m\n",
       "Effect size for a test comparing two proportions\n",
       "\n",
       "for use in power function\n",
       "\n",
       "Parameters\n",
       "----------\n",
       "prop1, prop2 : float or array_like\n",
       "    The proportion value(s).\n",
       "\n",
       "Returns\n",
       "-------\n",
       "es : float or ndarray\n",
       "    effect size for (transformed) prop1 - prop2\n",
       "\n",
       "Notes\n",
       "-----\n",
       "only method='normal' is implemented to match pwr.p2.test\n",
       "see http://www.statmethods.net/stats/power.html\n",
       "\n",
       "Effect size for `normal` is defined as ::\n",
       "\n",
       "    2 * (arcsin(sqrt(prop1)) - arcsin(sqrt(prop2)))\n",
       "\n",
       "I think other conversions to normality can be used, but I need to check.\n",
       "\n",
       "Examples\n",
       "--------\n",
       ">>> import statsmodels.api as sm\n",
       ">>> sm.stats.proportion_effectsize(0.5, 0.4)\n",
       "0.20135792079033088\n",
       ">>> sm.stats.proportion_effectsize([0.3, 0.4, 0.5], 0.4)\n",
       "array([-0.21015893,  0.        ,  0.20135792])\n",
       "\u001b[1;31mFile:\u001b[0m      c:\\users\\vr3n\\codes\\upgrad-maryland-analytics\\upgrad_venv\\lib\\site-packages\\statsmodels\\stats\\proportion.py\n",
       "\u001b[1;31mType:\u001b[0m      function"
      ]
     },
     "metadata": {},
     "output_type": "display_data"
    }
   ],
   "source": [
    "?sms.proportion_effectsize"
   ]
  },
  {
   "cell_type": "markdown",
   "id": "710423af-af7f-4a97-a7ea-9eb2b4dcac99",
   "metadata": {},
   "source": [
    "##### We wil use the `proportion_effectsize` function from statsmodels package.\n",
    "The inputs will be the following\n",
    "\n",
    "- Pc (Proportion of the control group)\n",
    "- Pt (Proportion of the treatment group)"
   ]
  },
  {
   "cell_type": "code",
   "execution_count": 20,
   "id": "f2ab3c81-c84a-4ed5-952d-69ab73bcce08",
   "metadata": {},
   "outputs": [],
   "source": [
    "p_effect_size = sms.proportion_effectsize(Pc, Pt)"
   ]
  },
  {
   "cell_type": "code",
   "execution_count": 21,
   "id": "4a03a3c1-0b8b-4bb7-b9e8-624ec4257e19",
   "metadata": {},
   "outputs": [
    {
     "data": {
      "text/plain": [
       "-0.2101589252771574"
      ]
     },
     "execution_count": 21,
     "metadata": {},
     "output_type": "execute_result"
    }
   ],
   "source": [
    "p_effect_size"
   ]
  },
  {
   "cell_type": "code",
   "execution_count": 22,
   "id": "55d6d46c-7446-4091-9133-949e0d60e987",
   "metadata": {
    "scrolled": true
   },
   "outputs": [
    {
     "data": {
      "text/plain": [
       "\u001b[1;31mSignature:\u001b[0m\n",
       "\u001b[0msms\u001b[0m\u001b[1;33m.\u001b[0m\u001b[0mNormalIndPower\u001b[0m\u001b[1;33m.\u001b[0m\u001b[0msolve_power\u001b[0m\u001b[1;33m(\u001b[0m\u001b[1;33m\n",
       "\u001b[0m    \u001b[0mself\u001b[0m\u001b[1;33m,\u001b[0m\u001b[1;33m\n",
       "\u001b[0m    \u001b[0meffect_size\u001b[0m\u001b[1;33m=\u001b[0m\u001b[1;32mNone\u001b[0m\u001b[1;33m,\u001b[0m\u001b[1;33m\n",
       "\u001b[0m    \u001b[0mnobs1\u001b[0m\u001b[1;33m=\u001b[0m\u001b[1;32mNone\u001b[0m\u001b[1;33m,\u001b[0m\u001b[1;33m\n",
       "\u001b[0m    \u001b[0malpha\u001b[0m\u001b[1;33m=\u001b[0m\u001b[1;32mNone\u001b[0m\u001b[1;33m,\u001b[0m\u001b[1;33m\n",
       "\u001b[0m    \u001b[0mpower\u001b[0m\u001b[1;33m=\u001b[0m\u001b[1;32mNone\u001b[0m\u001b[1;33m,\u001b[0m\u001b[1;33m\n",
       "\u001b[0m    \u001b[0mratio\u001b[0m\u001b[1;33m=\u001b[0m\u001b[1;36m1.0\u001b[0m\u001b[1;33m,\u001b[0m\u001b[1;33m\n",
       "\u001b[0m    \u001b[0malternative\u001b[0m\u001b[1;33m=\u001b[0m\u001b[1;34m'two-sided'\u001b[0m\u001b[1;33m,\u001b[0m\u001b[1;33m\n",
       "\u001b[0m\u001b[1;33m)\u001b[0m\u001b[1;33m\u001b[0m\u001b[1;33m\u001b[0m\u001b[0m\n",
       "\u001b[1;31mDocstring:\u001b[0m\n",
       "solve for any one parameter of the power of a two sample z-test\n",
       "\n",
       "for z-test the keywords are:\n",
       "    effect_size, nobs1, alpha, power, ratio\n",
       "\n",
       "exactly one needs to be ``None``, all others need numeric values\n",
       "\n",
       "Parameters\n",
       "----------\n",
       "effect_size : float\n",
       "    standardized effect size, difference between the two means divided\n",
       "    by the standard deviation.\n",
       "    If ratio=0, then this is the standardized mean in the one sample\n",
       "    test.\n",
       "nobs1 : int or float\n",
       "    number of observations of sample 1. The number of observations of\n",
       "    sample two is ratio times the size of sample 1,\n",
       "    i.e. ``nobs2 = nobs1 * ratio``\n",
       "    ``ratio`` can be set to zero in order to get the power for a\n",
       "    one sample test.\n",
       "alpha : float in interval (0,1)\n",
       "    significance level, e.g. 0.05, is the probability of a type I\n",
       "    error, that is wrong rejections if the Null Hypothesis is true.\n",
       "power : float in interval (0,1)\n",
       "    power of the test, e.g. 0.8, is one minus the probability of a\n",
       "    type II error. Power is the probability that the test correctly\n",
       "    rejects the Null Hypothesis if the Alternative Hypothesis is true.\n",
       "ratio : float\n",
       "    ratio of the number of observations in sample 2 relative to\n",
       "    sample 1. see description of nobs1\n",
       "    The default for ratio is 1; to solve for ration given the other\n",
       "    arguments it has to be explicitly set to None.\n",
       "alternative : str, 'two-sided' (default), 'larger', 'smaller'\n",
       "    extra argument to choose whether the power is calculated for a\n",
       "    two-sided (default) or one sided test. The one-sided test can be\n",
       "    either 'larger', 'smaller'.\n",
       "\n",
       "Returns\n",
       "-------\n",
       "value : float\n",
       "    The value of the parameter that was set to None in the call. The\n",
       "    value solves the power equation given the remaining parameters.\n",
       "\n",
       "\n",
       "Notes\n",
       "-----\n",
       "The function uses scipy.optimize for finding the value that satisfies\n",
       "the power equation. It first uses ``brentq`` with a prior search for\n",
       "bounds. If this fails to find a root, ``fsolve`` is used. If ``fsolve``\n",
       "also fails, then, for ``alpha``, ``power`` and ``effect_size``,\n",
       "``brentq`` with fixed bounds is used. However, there can still be cases\n",
       "where this fails.\n",
       "\u001b[1;31mFile:\u001b[0m      c:\\users\\vr3n\\codes\\upgrad-maryland-analytics\\upgrad_venv\\lib\\site-packages\\statsmodels\\stats\\power.py\n",
       "\u001b[1;31mType:\u001b[0m      function"
      ]
     },
     "metadata": {},
     "output_type": "display_data"
    }
   ],
   "source": [
    "?sms.NormalIndPower.solve_power"
   ]
  },
  {
   "cell_type": "markdown",
   "id": "24ea14a9-671c-47f2-8e20-5f4651787e91",
   "metadata": {},
   "source": [
    "##### We will not use `sms.NormalIndPower.solve_power` function from statsmodels package.\n",
    "\n",
    "The inputs wil be following:\n",
    "- effect_size\n",
    "- alpha\n",
    "- power"
   ]
  },
  {
   "cell_type": "code",
   "execution_count": 23,
   "id": "5b4ba59f-ccca-4497-a00a-3258e6b84609",
   "metadata": {},
   "outputs": [],
   "source": [
    "required_n = sms.NormalIndPower().solve_power(effect_size=p_effect_size, alpha=alpha, power=power)"
   ]
  },
  {
   "cell_type": "code",
   "execution_count": 24,
   "id": "c6d752e3-78b9-4074-ab13-f5fcafff7ab2",
   "metadata": {},
   "outputs": [
    {
     "name": "stdout",
     "output_type": "stream",
     "text": [
      "The required sample size computed is 356\n"
     ]
    }
   ],
   "source": [
    "print(f\"The required sample size computed is {math.ceil(required_n)}\")"
   ]
  },
  {
   "cell_type": "markdown",
   "id": "2e8ab484-4c62-4fe8-84ab-83a869c2a03f",
   "metadata": {},
   "source": [
    "#### Question 2\n",
    "\n",
    "Now perform the hypothesis test for testing the difference in proportions between the control group and the treatment group. \\\n",
    "After that make a decision on the basis of p-value, on whether to reject or fail to reject the null hypothesis."
   ]
  },
  {
   "cell_type": "code",
   "execution_count": 25,
   "id": "a5c557cf-9f43-4b63-9a05-ed4d1559008f",
   "metadata": {},
   "outputs": [],
   "source": [
    "from statsmodels.stats.proportion import confint_proportions_2indep"
   ]
  },
  {
   "cell_type": "markdown",
   "id": "ac377236-aa2b-42dc-be15-9e4a4f41e1c3",
   "metadata": {},
   "source": [
    "##### We will be using `confint_proportions_2indep` for getting CI of proportions."
   ]
  },
  {
   "cell_type": "code",
   "execution_count": 26,
   "id": "5dba8a86-95e1-4295-b84b-a61105db7b14",
   "metadata": {},
   "outputs": [],
   "source": [
    "Cg = 400 # control group sample.\n",
    "Cn = 120 # control group member who prefer old brand.\n",
    "Tg = 400 # Test group sample.\n",
    "Tn = 170 # Test group member who prefer new brand.\n",
    "\n",
    "Pc = 0.3\n",
    "Pt = 0.4\n",
    "\n",
    "power = 0.8\n",
    "alpha = 0.05"
   ]
  },
  {
   "cell_type": "code",
   "execution_count": 28,
   "id": "61d5c359-bbb8-4134-b1d3-45a18b32f4e9",
   "metadata": {},
   "outputs": [],
   "source": [
    "(lower, upper) = confint_proportions_2indep(Cn, Cg, Tn, Tg, compare='diff', alpha=0.05)"
   ]
  },
  {
   "cell_type": "code",
   "execution_count": 29,
   "id": "2519ad25-9a2c-4e6b-ba3f-817ca7e73f23",
   "metadata": {},
   "outputs": [
    {
     "name": "stdout",
     "output_type": "stream",
     "text": [
      "The confidence intervals for proportion is: [-0.190, -0.058]\n"
     ]
    }
   ],
   "source": [
    "print(f\"The confidence intervals for proportion is: [{lower:.3f}, {upper:.3f}]\")"
   ]
  },
  {
   "cell_type": "code",
   "execution_count": null,
   "id": "f518c374-6405-4056-9a78-47aa9578c7bf",
   "metadata": {},
   "outputs": [],
   "source": []
  }
 ],
 "metadata": {
  "kernelspec": {
   "display_name": "Python 3 (ipykernel)",
   "language": "python",
   "name": "python3"
  },
  "language_info": {
   "codemirror_mode": {
    "name": "ipython",
    "version": 3
   },
   "file_extension": ".py",
   "mimetype": "text/x-python",
   "name": "python",
   "nbconvert_exporter": "python",
   "pygments_lexer": "ipython3",
   "version": "3.10.11"
  }
 },
 "nbformat": 4,
 "nbformat_minor": 5
}
