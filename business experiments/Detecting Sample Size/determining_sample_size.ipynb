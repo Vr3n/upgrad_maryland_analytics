{
 "cells": [
  {
   "cell_type": "code",
   "execution_count": 2,
   "id": "11cc9924-f8b0-4406-88f4-31e197366c8d",
   "metadata": {},
   "outputs": [],
   "source": [
    "# import the necessary libraries.\n",
    "import pandas as pd\n",
    "import scipy.stats as st\n",
    "import numpy as np\n",
    "from math import ceil ##For rounding off the values\n",
    "from statsmodels.stats.power import TTestPower"
   ]
  },
  {
   "cell_type": "markdown",
   "id": "749ad2b0-b05e-40e6-85f2-36ec971ce77b",
   "metadata": {},
   "source": [
    "### Test for Difference in Means"
   ]
  },
  {
   "cell_type": "code",
   "execution_count": 49,
   "id": "9106c925-23e1-4681-9f0f-1eb81dbed2e6",
   "metadata": {
    "scrolled": true
   },
   "outputs": [
    {
     "data": {
      "text/plain": [
       "\u001b[1;31mSignature:\u001b[0m\n",
       "\u001b[0mTTestPower\u001b[0m\u001b[1;33m.\u001b[0m\u001b[0msolve_power\u001b[0m\u001b[1;33m(\u001b[0m\u001b[1;33m\n",
       "\u001b[0m    \u001b[0mself\u001b[0m\u001b[1;33m,\u001b[0m\u001b[1;33m\n",
       "\u001b[0m    \u001b[0meffect_size\u001b[0m\u001b[1;33m=\u001b[0m\u001b[1;32mNone\u001b[0m\u001b[1;33m,\u001b[0m\u001b[1;33m\n",
       "\u001b[0m    \u001b[0mnobs\u001b[0m\u001b[1;33m=\u001b[0m\u001b[1;32mNone\u001b[0m\u001b[1;33m,\u001b[0m\u001b[1;33m\n",
       "\u001b[0m    \u001b[0malpha\u001b[0m\u001b[1;33m=\u001b[0m\u001b[1;32mNone\u001b[0m\u001b[1;33m,\u001b[0m\u001b[1;33m\n",
       "\u001b[0m    \u001b[0mpower\u001b[0m\u001b[1;33m=\u001b[0m\u001b[1;32mNone\u001b[0m\u001b[1;33m,\u001b[0m\u001b[1;33m\n",
       "\u001b[0m    \u001b[0malternative\u001b[0m\u001b[1;33m=\u001b[0m\u001b[1;34m'two-sided'\u001b[0m\u001b[1;33m,\u001b[0m\u001b[1;33m\n",
       "\u001b[0m\u001b[1;33m)\u001b[0m\u001b[1;33m\u001b[0m\u001b[1;33m\u001b[0m\u001b[0m\n",
       "\u001b[1;31mDocstring:\u001b[0m\n",
       "solve for any one parameter of the power of a one sample t-test\n",
       "\n",
       "for the one sample t-test the keywords are:\n",
       "    effect_size, nobs, alpha, power\n",
       "\n",
       "Exactly one needs to be ``None``, all others need numeric values.\n",
       "\n",
       "This test can also be used for a paired t-test, where effect size is\n",
       "defined in terms of the mean difference, and nobs is the number of\n",
       "pairs.\n",
       "\n",
       "Parameters\n",
       "----------\n",
       "effect_size : float\n",
       "    Standardized effect size.The effect size is here Cohen's f, square\n",
       "    root of \"f2\".\n",
       "nobs : int or float\n",
       "    sample size, number of observations.\n",
       "alpha : float in interval (0,1)\n",
       "    significance level, e.g. 0.05, is the probability of a type I\n",
       "    error, that is wrong rejections if the Null Hypothesis is true.\n",
       "power : float in interval (0,1)\n",
       "    power of the test, e.g. 0.8, is one minus the probability of a\n",
       "    type II error. Power is the probability that the test correctly\n",
       "    rejects the Null Hypothesis if the Alternative Hypothesis is true.\n",
       "alternative : str, 'two-sided' (default) or 'one-sided'\n",
       "    extra argument to choose whether the power is calculated for a\n",
       "    two-sided (default) or one sided test.\n",
       "    'one-sided' assumes we are in the relevant tail.\n",
       "\n",
       "Returns\n",
       "-------\n",
       "value : float\n",
       "    The value of the parameter that was set to None in the call. The\n",
       "    value solves the power equation given the remaining parameters.\n",
       "\n",
       "*attaches*\n",
       "\n",
       "cache_fit_res : list\n",
       "    Cache of the result of the root finding procedure for the latest\n",
       "    call to ``solve_power``, mainly for debugging purposes.\n",
       "    The first element is the success indicator, one if successful.\n",
       "    The remaining elements contain the return information of the up to\n",
       "    three solvers that have been tried.\n",
       "\n",
       "Notes\n",
       "-----\n",
       "The function uses scipy.optimize for finding the value that satisfies\n",
       "the power equation. It first uses ``brentq`` with a prior search for\n",
       "bounds. If this fails to find a root, ``fsolve`` is used. If ``fsolve``\n",
       "also fails, then, for ``alpha``, ``power`` and ``effect_size``,\n",
       "``brentq`` with fixed bounds is used. However, there can still be cases\n",
       "where this fails.\n",
       "\u001b[1;31mFile:\u001b[0m      c:\\users\\vr3n\\codes\\upgrad-maryland-analytics\\upgrad_venv\\lib\\site-packages\\statsmodels\\stats\\power.py\n",
       "\u001b[1;31mType:\u001b[0m      function"
      ]
     },
     "metadata": {},
     "output_type": "display_data"
    }
   ],
   "source": [
    "?TTestPower.solve_power"
   ]
  },
  {
   "cell_type": "markdown",
   "id": "7c4be0cb-403e-422b-8142-1fad7761a6b7",
   "metadata": {},
   "source": [
    "As you saw in the documentation, this method can work for both one-sample t-test as well as paired tests. \\\n",
    "You need to provide the following parameters to get the sample size:\n",
    "- Effect Size\n",
    "- Alpha\n",
    "- Power\n",
    "\n",
    "Using the abovevalues, it will calculate the sample size."
   ]
  },
  {
   "cell_type": "code",
   "execution_count": 50,
   "id": "7d4c97f8-019d-4a28-ae0e-720a67e95e3a",
   "metadata": {},
   "outputs": [],
   "source": [
    "## Example values to test the effect size.\n",
    "d = 10 # difference in means.\n",
    "sd = 20 # Standard deviation.\n",
    "effect_size = d / sd # Effect size.\n",
    "alpha = 0.05 # Level of significance\n",
    "power = 0.8"
   ]
  },
  {
   "cell_type": "code",
   "execution_count": 51,
   "id": "ee900dca-fa75-420a-96b1-8023d39ffa42",
   "metadata": {},
   "outputs": [],
   "source": [
    "p_analysis = TTestPower()\n",
    "sample_size = p_analysis.solve_power(effect_size=effect_size, alpha=alpha, power=power)"
   ]
  },
  {
   "cell_type": "code",
   "execution_count": 52,
   "id": "62913f09-4ee8-4b81-8a0d-83db35e0d46e",
   "metadata": {},
   "outputs": [
    {
     "name": "stdout",
     "output_type": "stream",
     "text": [
      "Required Sample size: 34\n"
     ]
    }
   ],
   "source": [
    "print(f\"Required Sample size: {ceil(sample_size)}\")"
   ]
  },
  {
   "cell_type": "markdown",
   "id": "ddaf0755-4e44-47d4-8fd2-d6e7cf491e6d",
   "metadata": {},
   "source": [
    "### Test for difference in Proportions."
   ]
  },
  {
   "cell_type": "code",
   "execution_count": 53,
   "id": "0c0c0762-1d2a-45cc-863b-72df692f5930",
   "metadata": {},
   "outputs": [],
   "source": [
    "## import the necessary libraries.\n",
    "import statsmodels.stats.api as sms"
   ]
  },
  {
   "cell_type": "markdown",
   "id": "f9db10e9-3b87-48c9-8650-07ae3bb6e2ed",
   "metadata": {},
   "source": [
    "We shall be using the following methods:\n",
    "- sms.proportion_effectsize()\n",
    "- sms.NormalIndPower.solve_power()"
   ]
  },
  {
   "cell_type": "code",
   "execution_count": 55,
   "id": "e570b700-287c-455b-86f7-917be65bdfab",
   "metadata": {
    "scrolled": true
   },
   "outputs": [
    {
     "data": {
      "text/plain": [
       "\u001b[1;31mSignature:\u001b[0m \u001b[0msms\u001b[0m\u001b[1;33m.\u001b[0m\u001b[0mproportion_effectsize\u001b[0m\u001b[1;33m(\u001b[0m\u001b[0mprop1\u001b[0m\u001b[1;33m,\u001b[0m \u001b[0mprop2\u001b[0m\u001b[1;33m,\u001b[0m \u001b[0mmethod\u001b[0m\u001b[1;33m=\u001b[0m\u001b[1;34m'normal'\u001b[0m\u001b[1;33m)\u001b[0m\u001b[1;33m\u001b[0m\u001b[1;33m\u001b[0m\u001b[0m\n",
       "\u001b[1;31mDocstring:\u001b[0m\n",
       "Effect size for a test comparing two proportions\n",
       "\n",
       "for use in power function\n",
       "\n",
       "Parameters\n",
       "----------\n",
       "prop1, prop2 : float or array_like\n",
       "    The proportion value(s).\n",
       "\n",
       "Returns\n",
       "-------\n",
       "es : float or ndarray\n",
       "    effect size for (transformed) prop1 - prop2\n",
       "\n",
       "Notes\n",
       "-----\n",
       "only method='normal' is implemented to match pwr.p2.test\n",
       "see http://www.statmethods.net/stats/power.html\n",
       "\n",
       "Effect size for `normal` is defined as ::\n",
       "\n",
       "    2 * (arcsin(sqrt(prop1)) - arcsin(sqrt(prop2)))\n",
       "\n",
       "I think other conversions to normality can be used, but I need to check.\n",
       "\n",
       "Examples\n",
       "--------\n",
       ">>> import statsmodels.api as sm\n",
       ">>> sm.stats.proportion_effectsize(0.5, 0.4)\n",
       "0.20135792079033088\n",
       ">>> sm.stats.proportion_effectsize([0.3, 0.4, 0.5], 0.4)\n",
       "array([-0.21015893,  0.        ,  0.20135792])\n",
       "\u001b[1;31mFile:\u001b[0m      c:\\users\\vr3n\\codes\\upgrad-maryland-analytics\\upgrad_venv\\lib\\site-packages\\statsmodels\\stats\\proportion.py\n",
       "\u001b[1;31mType:\u001b[0m      function"
      ]
     },
     "metadata": {},
     "output_type": "display_data"
    }
   ],
   "source": [
    "## Let's check the documentation for then\n",
    "?sms.proportion_effectsize"
   ]
  },
  {
   "cell_type": "code",
   "execution_count": 56,
   "id": "b613b8d7-b00c-41c2-a112-0ad88f14dd82",
   "metadata": {
    "scrolled": true
   },
   "outputs": [
    {
     "data": {
      "text/plain": [
       "\u001b[1;31mSignature:\u001b[0m\n",
       "\u001b[0msms\u001b[0m\u001b[1;33m.\u001b[0m\u001b[0mNormalIndPower\u001b[0m\u001b[1;33m.\u001b[0m\u001b[0msolve_power\u001b[0m\u001b[1;33m(\u001b[0m\u001b[1;33m\n",
       "\u001b[0m    \u001b[0mself\u001b[0m\u001b[1;33m,\u001b[0m\u001b[1;33m\n",
       "\u001b[0m    \u001b[0meffect_size\u001b[0m\u001b[1;33m=\u001b[0m\u001b[1;32mNone\u001b[0m\u001b[1;33m,\u001b[0m\u001b[1;33m\n",
       "\u001b[0m    \u001b[0mnobs1\u001b[0m\u001b[1;33m=\u001b[0m\u001b[1;32mNone\u001b[0m\u001b[1;33m,\u001b[0m\u001b[1;33m\n",
       "\u001b[0m    \u001b[0malpha\u001b[0m\u001b[1;33m=\u001b[0m\u001b[1;32mNone\u001b[0m\u001b[1;33m,\u001b[0m\u001b[1;33m\n",
       "\u001b[0m    \u001b[0mpower\u001b[0m\u001b[1;33m=\u001b[0m\u001b[1;32mNone\u001b[0m\u001b[1;33m,\u001b[0m\u001b[1;33m\n",
       "\u001b[0m    \u001b[0mratio\u001b[0m\u001b[1;33m=\u001b[0m\u001b[1;36m1.0\u001b[0m\u001b[1;33m,\u001b[0m\u001b[1;33m\n",
       "\u001b[0m    \u001b[0malternative\u001b[0m\u001b[1;33m=\u001b[0m\u001b[1;34m'two-sided'\u001b[0m\u001b[1;33m,\u001b[0m\u001b[1;33m\n",
       "\u001b[0m\u001b[1;33m)\u001b[0m\u001b[1;33m\u001b[0m\u001b[1;33m\u001b[0m\u001b[0m\n",
       "\u001b[1;31mDocstring:\u001b[0m\n",
       "solve for any one parameter of the power of a two sample z-test\n",
       "\n",
       "for z-test the keywords are:\n",
       "    effect_size, nobs1, alpha, power, ratio\n",
       "\n",
       "exactly one needs to be ``None``, all others need numeric values\n",
       "\n",
       "Parameters\n",
       "----------\n",
       "effect_size : float\n",
       "    standardized effect size, difference between the two means divided\n",
       "    by the standard deviation.\n",
       "    If ratio=0, then this is the standardized mean in the one sample\n",
       "    test.\n",
       "nobs1 : int or float\n",
       "    number of observations of sample 1. The number of observations of\n",
       "    sample two is ratio times the size of sample 1,\n",
       "    i.e. ``nobs2 = nobs1 * ratio``\n",
       "    ``ratio`` can be set to zero in order to get the power for a\n",
       "    one sample test.\n",
       "alpha : float in interval (0,1)\n",
       "    significance level, e.g. 0.05, is the probability of a type I\n",
       "    error, that is wrong rejections if the Null Hypothesis is true.\n",
       "power : float in interval (0,1)\n",
       "    power of the test, e.g. 0.8, is one minus the probability of a\n",
       "    type II error. Power is the probability that the test correctly\n",
       "    rejects the Null Hypothesis if the Alternative Hypothesis is true.\n",
       "ratio : float\n",
       "    ratio of the number of observations in sample 2 relative to\n",
       "    sample 1. see description of nobs1\n",
       "    The default for ratio is 1; to solve for ration given the other\n",
       "    arguments it has to be explicitly set to None.\n",
       "alternative : str, 'two-sided' (default), 'larger', 'smaller'\n",
       "    extra argument to choose whether the power is calculated for a\n",
       "    two-sided (default) or one sided test. The one-sided test can be\n",
       "    either 'larger', 'smaller'.\n",
       "\n",
       "Returns\n",
       "-------\n",
       "value : float\n",
       "    The value of the parameter that was set to None in the call. The\n",
       "    value solves the power equation given the remaining parameters.\n",
       "\n",
       "\n",
       "Notes\n",
       "-----\n",
       "The function uses scipy.optimize for finding the value that satisfies\n",
       "the power equation. It first uses ``brentq`` with a prior search for\n",
       "bounds. If this fails to find a root, ``fsolve`` is used. If ``fsolve``\n",
       "also fails, then, for ``alpha``, ``power`` and ``effect_size``,\n",
       "``brentq`` with fixed bounds is used. However, there can still be cases\n",
       "where this fails.\n",
       "\u001b[1;31mFile:\u001b[0m      c:\\users\\vr3n\\codes\\upgrad-maryland-analytics\\upgrad_venv\\lib\\site-packages\\statsmodels\\stats\\power.py\n",
       "\u001b[1;31mType:\u001b[0m      function"
      ]
     },
     "metadata": {},
     "output_type": "display_data"
    }
   ],
   "source": [
    "?sms.NormalIndPower.solve_power"
   ]
  },
  {
   "cell_type": "code",
   "execution_count": 58,
   "id": "a8fcaa42-8592-4a19-aa66-3401f8ea7bd8",
   "metadata": {},
   "outputs": [],
   "source": [
    "Pc = 0.04 # Proportion of control\n",
    "Pt = 0.05 # Proportion of treatment\n",
    "effect_size = sms.proportion_effectsize(Pc, Pt)"
   ]
  },
  {
   "cell_type": "code",
   "execution_count": 59,
   "id": "19269c74-a168-49e6-a9d6-a9a4ccbd2678",
   "metadata": {},
   "outputs": [
    {
     "name": "stdout",
     "output_type": "stream",
     "text": [
      "The effect size is: -0.048310970215600824\n"
     ]
    }
   ],
   "source": [
    "print(f\"The effect size is: {effect_size}\")"
   ]
  },
  {
   "cell_type": "code",
   "execution_count": 60,
   "id": "39b29504-06c6-4c75-9c4d-b40bf988bdc5",
   "metadata": {
    "scrolled": true
   },
   "outputs": [
    {
     "data": {
      "text/plain": [
       "\u001b[1;31mSignature:\u001b[0m\n",
       "\u001b[0msms\u001b[0m\u001b[1;33m.\u001b[0m\u001b[0mNormalIndPower\u001b[0m\u001b[1;33m.\u001b[0m\u001b[0msolve_power\u001b[0m\u001b[1;33m(\u001b[0m\u001b[1;33m\n",
       "\u001b[0m    \u001b[0mself\u001b[0m\u001b[1;33m,\u001b[0m\u001b[1;33m\n",
       "\u001b[0m    \u001b[0meffect_size\u001b[0m\u001b[1;33m=\u001b[0m\u001b[1;32mNone\u001b[0m\u001b[1;33m,\u001b[0m\u001b[1;33m\n",
       "\u001b[0m    \u001b[0mnobs1\u001b[0m\u001b[1;33m=\u001b[0m\u001b[1;32mNone\u001b[0m\u001b[1;33m,\u001b[0m\u001b[1;33m\n",
       "\u001b[0m    \u001b[0malpha\u001b[0m\u001b[1;33m=\u001b[0m\u001b[1;32mNone\u001b[0m\u001b[1;33m,\u001b[0m\u001b[1;33m\n",
       "\u001b[0m    \u001b[0mpower\u001b[0m\u001b[1;33m=\u001b[0m\u001b[1;32mNone\u001b[0m\u001b[1;33m,\u001b[0m\u001b[1;33m\n",
       "\u001b[0m    \u001b[0mratio\u001b[0m\u001b[1;33m=\u001b[0m\u001b[1;36m1.0\u001b[0m\u001b[1;33m,\u001b[0m\u001b[1;33m\n",
       "\u001b[0m    \u001b[0malternative\u001b[0m\u001b[1;33m=\u001b[0m\u001b[1;34m'two-sided'\u001b[0m\u001b[1;33m,\u001b[0m\u001b[1;33m\n",
       "\u001b[0m\u001b[1;33m)\u001b[0m\u001b[1;33m\u001b[0m\u001b[1;33m\u001b[0m\u001b[0m\n",
       "\u001b[1;31mDocstring:\u001b[0m\n",
       "solve for any one parameter of the power of a two sample z-test\n",
       "\n",
       "for z-test the keywords are:\n",
       "    effect_size, nobs1, alpha, power, ratio\n",
       "\n",
       "exactly one needs to be ``None``, all others need numeric values\n",
       "\n",
       "Parameters\n",
       "----------\n",
       "effect_size : float\n",
       "    standardized effect size, difference between the two means divided\n",
       "    by the standard deviation.\n",
       "    If ratio=0, then this is the standardized mean in the one sample\n",
       "    test.\n",
       "nobs1 : int or float\n",
       "    number of observations of sample 1. The number of observations of\n",
       "    sample two is ratio times the size of sample 1,\n",
       "    i.e. ``nobs2 = nobs1 * ratio``\n",
       "    ``ratio`` can be set to zero in order to get the power for a\n",
       "    one sample test.\n",
       "alpha : float in interval (0,1)\n",
       "    significance level, e.g. 0.05, is the probability of a type I\n",
       "    error, that is wrong rejections if the Null Hypothesis is true.\n",
       "power : float in interval (0,1)\n",
       "    power of the test, e.g. 0.8, is one minus the probability of a\n",
       "    type II error. Power is the probability that the test correctly\n",
       "    rejects the Null Hypothesis if the Alternative Hypothesis is true.\n",
       "ratio : float\n",
       "    ratio of the number of observations in sample 2 relative to\n",
       "    sample 1. see description of nobs1\n",
       "    The default for ratio is 1; to solve for ration given the other\n",
       "    arguments it has to be explicitly set to None.\n",
       "alternative : str, 'two-sided' (default), 'larger', 'smaller'\n",
       "    extra argument to choose whether the power is calculated for a\n",
       "    two-sided (default) or one sided test. The one-sided test can be\n",
       "    either 'larger', 'smaller'.\n",
       "\n",
       "Returns\n",
       "-------\n",
       "value : float\n",
       "    The value of the parameter that was set to None in the call. The\n",
       "    value solves the power equation given the remaining parameters.\n",
       "\n",
       "\n",
       "Notes\n",
       "-----\n",
       "The function uses scipy.optimize for finding the value that satisfies\n",
       "the power equation. It first uses ``brentq`` with a prior search for\n",
       "bounds. If this fails to find a root, ``fsolve`` is used. If ``fsolve``\n",
       "also fails, then, for ``alpha``, ``power`` and ``effect_size``,\n",
       "``brentq`` with fixed bounds is used. However, there can still be cases\n",
       "where this fails.\n",
       "\u001b[1;31mFile:\u001b[0m      c:\\users\\vr3n\\codes\\upgrad-maryland-analytics\\upgrad_venv\\lib\\site-packages\\statsmodels\\stats\\power.py\n",
       "\u001b[1;31mType:\u001b[0m      function"
      ]
     },
     "metadata": {},
     "output_type": "display_data"
    }
   ],
   "source": [
    "?sms.NormalIndPower.solve_power"
   ]
  },
  {
   "cell_type": "markdown",
   "id": "31e00248-bb1a-4fd5-9c9d-7d54c4ffadf3",
   "metadata": {},
   "source": [
    "As you saw in the documentation, this method is similar to the previous method where we calculated the sample size for difference in means \\\n",
    "You need to provide the following parameters to get the sample size:\n",
    "- effect size\n",
    "- alpha\n",
    "- power"
   ]
  },
  {
   "cell_type": "code",
   "execution_count": 64,
   "id": "5dbbe6b1-fb50-4bf5-9d6d-f6c6e91ed5a3",
   "metadata": {},
   "outputs": [],
   "source": [
    "required_n = sms.NormalIndPower().solve_power(effect_size, power=0.8, alpha=0.05)"
   ]
  },
  {
   "cell_type": "code",
   "execution_count": 65,
   "id": "49ce8742-80d0-4fe2-bde3-d96a62fe5bd4",
   "metadata": {},
   "outputs": [
    {
     "name": "stdout",
     "output_type": "stream",
     "text": [
      "The required sample size is: 6726\n"
     ]
    }
   ],
   "source": [
    "print(f\"The required sample size is: {ceil(required_n)}\")"
   ]
  },
  {
   "cell_type": "markdown",
   "id": "28864c54-3f9d-4941-aca8-e8a9a6a6b37f",
   "metadata": {},
   "source": [
    "### Additional Observation\n",
    "\n",
    "You will notice that\n",
    "\n",
    "- ___If the treatment effect is small, you will require more samples___ to detect a statistically significant treatment effect with a high probability of accuracy.\n",
    "- ___if the treatment effect is large, you will require less samples___ to detect a statistically significant treatment effect with a hight probability of accuracy.\n",
    "\n"
   ]
  },
  {
   "cell_type": "code",
   "execution_count": 96,
   "id": "e75f62bc-d136-4c4d-85d8-07e9efb237cc",
   "metadata": {},
   "outputs": [],
   "source": [
    "Pc = 0.04 # Proportion of control\n",
    "Pt = 0.1 # Proportion of treatment\n",
    "effect_size = sms.proportion_effectsize(Pc, Pt)"
   ]
  },
  {
   "cell_type": "code",
   "execution_count": 97,
   "id": "d5b82e3a-78e9-4427-8f03-8bfd8599a97f",
   "metadata": {},
   "outputs": [
    {
     "name": "stdout",
     "output_type": "stream",
     "text": [
      "The effect size is: -0.24078526721262278\n"
     ]
    }
   ],
   "source": [
    "print(f\"The effect size is: {effect_size}\")"
   ]
  },
  {
   "cell_type": "code",
   "execution_count": 98,
   "id": "8683bd5e-21e8-40d7-be78-8b5184df610a",
   "metadata": {},
   "outputs": [],
   "source": [
    "required_n = sms.NormalIndPower().solve_power(effect_size, power=0.8, alpha=0.05)"
   ]
  },
  {
   "cell_type": "code",
   "execution_count": 99,
   "id": "9e328d24-7ed1-4665-ada5-50293bb123b6",
   "metadata": {},
   "outputs": [
    {
     "name": "stdout",
     "output_type": "stream",
     "text": [
      "The required sample size is: 271\n"
     ]
    }
   ],
   "source": [
    "print(f\"The required sample size is: {ceil(required_n)}\")"
   ]
  }
 ],
 "metadata": {
  "kernelspec": {
   "display_name": "Python 3 (ipykernel)",
   "language": "python",
   "name": "python3"
  },
  "language_info": {
   "codemirror_mode": {
    "name": "ipython",
    "version": 3
   },
   "file_extension": ".py",
   "mimetype": "text/x-python",
   "name": "python",
   "nbconvert_exporter": "python",
   "pygments_lexer": "ipython3",
   "version": "3.10.11"
  }
 },
 "nbformat": 4,
 "nbformat_minor": 5
}
