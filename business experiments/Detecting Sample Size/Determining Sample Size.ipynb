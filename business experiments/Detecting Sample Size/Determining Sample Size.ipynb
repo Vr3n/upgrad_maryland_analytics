{
 "cells": [
  {
   "cell_type": "markdown",
   "id": "fb77f106",
   "metadata": {},
   "source": [
    "## Determining Sample Size"
   ]
  },
  {
   "cell_type": "markdown",
   "id": "c604da65",
   "metadata": {},
   "source": [
    "**Objective** : How large does the sample have to be to ensure that a test of hypothesis has a high probability of detecting a meaningful difference in the parameter\n",
    "\n",
    "**Example Problem Statement**\n",
    "\n",
    "-  For many customers do you need to run an A/B test to detect a 1% increase in conversion rate with a high probability at a 0.05 significance level?\n",
    "\n"
   ]
  },
  {
   "cell_type": "markdown",
   "id": "f46c9b3d",
   "metadata": {},
   "source": [
    "**Steps to Determine Sample Size**\n",
    "\n",
    "To determine the the sample size, we would require the following parameters:\n",
    "\n",
    "- Difference you want to detect ($\\Delta$): The difference between the means/proportions \n",
    "- Estimate of the Standard Deviation ($\\sigma$): An estimate of the standard deviation of the population. \n",
    "- Significance Level: $\\alpha$, which is usually set to 0.05\n",
    "- Power of the test: The probability of correctly detecting a treatment effect. Usually set as 0.8\n",
    "\n",
    "*Note*: Another parameter is useful to know is the **Effect Size** which is defined as $\\Large\\frac{\\Delta}{\\sigma}$\n",
    "\n",
    "There's a formula that connects the above parameters and the sample size. In this demonstration, we won't delve into that, but rather look at how to estimate the sample size using the Python for different types of Hypothesis Tests"
   ]
  },
  {
   "cell_type": "markdown",
   "id": "61c26e64",
   "metadata": {},
   "source": [
    "#### Test for Difference in Means \n",
    "\n",
    "For both independent and paired samples, you can use the same method for calculating the sample size to detect a difference in means"
   ]
  },
  {
   "cell_type": "code",
   "execution_count": 11,
   "id": "ee65e00e",
   "metadata": {},
   "outputs": [],
   "source": [
    "##Import the necessary libraries\n",
    "from math import ceil ##For rounding off the values\n",
    "from statsmodels.stats.power import TTestPower"
   ]
  },
  {
   "cell_type": "markdown",
   "id": "05785a33",
   "metadata": {},
   "source": [
    "We shall use the TTestPower.solve_power() method. Let's check it's documentation "
   ]
  },
  {
   "cell_type": "code",
   "execution_count": 19,
   "id": "4d2b612d",
   "metadata": {},
   "outputs": [],
   "source": [
    "?TTestPower.solve_power"
   ]
  },
  {
   "cell_type": "markdown",
   "id": "ec03dbe3",
   "metadata": {},
   "source": [
    "As you saw in the documentation, this method can work for both one-sample t-test as well as paired tests.\n",
    "\n",
    "You need to provide the following parameters to get the sample size\n",
    "\n",
    "- effect size\n",
    "- alpha\n",
    "- power\n",
    "\n",
    "Using the above values, it will calculate the sample size"
   ]
  },
  {
   "cell_type": "code",
   "execution_count": 14,
   "id": "9918ac5f",
   "metadata": {},
   "outputs": [],
   "source": [
    "## Some example values to test this\n",
    "d = 10 # Difference in Means that we want to detect\n",
    "sd = 30 ## Standard Deviation Estimate\n",
    "effect_size = d/sd\n",
    "alpha = 0.05\n",
    "power = 0.8"
   ]
  },
  {
   "cell_type": "code",
   "execution_count": 20,
   "id": "9116e691",
   "metadata": {},
   "outputs": [
    {
     "name": "stdout",
     "output_type": "stream",
     "text": [
      "Required Sample Size: 73\n"
     ]
    }
   ],
   "source": [
    "p_analysis = TTestPower()\n",
    "sample_size = p_analysis.solve_power(effect_size=effect_size, alpha=alpha, power=power)\n",
    "print(\"Required Sample Size: \" + str(ceil(sample_size)))"
   ]
  },
  {
   "cell_type": "markdown",
   "id": "c3d52d62",
   "metadata": {},
   "source": [
    "#### Test for Difference in Proportions"
   ]
  },
  {
   "cell_type": "code",
   "execution_count": 21,
   "id": "7218583f",
   "metadata": {},
   "outputs": [],
   "source": [
    "##Import the necessary libraries\n",
    "import statsmodels.stats.api as sms"
   ]
  },
  {
   "cell_type": "markdown",
   "id": "df9d6945",
   "metadata": {},
   "source": [
    "We shall be using the following methods\n",
    "- sms.proportion_effectsize()\n",
    "- sms.NormalIndPower.solve_power()"
   ]
  },
  {
   "cell_type": "code",
   "execution_count": null,
   "id": "d7e9c101",
   "metadata": {},
   "outputs": [],
   "source": [
    "##Let's check the documentation for them"
   ]
  },
  {
   "cell_type": "code",
   "execution_count": 23,
   "id": "463688e0",
   "metadata": {},
   "outputs": [],
   "source": [
    "?sms.proportion_effectsize"
   ]
  },
  {
   "cell_type": "markdown",
   "id": "21b5bb94",
   "metadata": {},
   "source": [
    "As you saw in the documentation the above method allows you to calculate the effect size from the given expected proportions"
   ]
  },
  {
   "cell_type": "code",
   "execution_count": 38,
   "id": "606d87fd",
   "metadata": {},
   "outputs": [],
   "source": [
    "##Let's see it in action\n",
    "Pc = 0.04 ##proportion of successes in control group\n",
    "Pt = 0.05 ##propotion of successes expected in treatment group\n",
    "effect_size = sms.proportion_effectsize(Pc,Pt)    # Calculating effect size based on our expected rates"
   ]
  },
  {
   "cell_type": "code",
   "execution_count": 39,
   "id": "df43bdab",
   "metadata": {},
   "outputs": [
    {
     "data": {
      "text/plain": [
       "-0.048310970215600824"
      ]
     },
     "execution_count": 39,
     "metadata": {},
     "output_type": "execute_result"
    }
   ],
   "source": [
    "effect_size"
   ]
  },
  {
   "cell_type": "code",
   "execution_count": 40,
   "id": "b51b34ec",
   "metadata": {},
   "outputs": [],
   "source": [
    "##Now let's check the documentation for the next method\n",
    "?sms.NormalIndPower.solve_power"
   ]
  },
  {
   "cell_type": "markdown",
   "id": "94651d46",
   "metadata": {},
   "source": [
    "As you saw in the documentation, this method is similar to the previous method where we calculated the sample size for difference in means\n",
    "\n",
    "You need to provide the following parameters to get the sample size\n",
    "\n",
    "- effect size\n",
    "- alpha\n",
    "- power"
   ]
  },
  {
   "cell_type": "code",
   "execution_count": 32,
   "id": "805f82a5",
   "metadata": {},
   "outputs": [
    {
     "name": "stdout",
     "output_type": "stream",
     "text": [
      "6726\n"
     ]
    }
   ],
   "source": [
    "required_n = sms.NormalIndPower().solve_power(\n",
    "    effect_size, \n",
    "    power=0.8, \n",
    "    alpha=0.05, \n",
    "    )                                                  # Calculating sample size needed\n",
    "\n",
    "required_n = ceil(required_n)                          # Rounding up to next whole number                          \n",
    "\n",
    "print(required_n)"
   ]
  },
  {
   "cell_type": "markdown",
   "id": "d883bcac",
   "metadata": {},
   "source": [
    "#### Additional Observation"
   ]
  },
  {
   "cell_type": "markdown",
   "id": "86c4a590",
   "metadata": {},
   "source": [
    "You will notice that \n",
    "\n",
    "- ***if the treatment effect is small, you will require more samples*** to detect a statistically significant treatment effect with a high probability of accuracy\n",
    "- ***if the treatment effect is large, you will require less samples*** to detect a statistically significant treatment effect with a high probability of accuracy"
   ]
  },
  {
   "cell_type": "code",
   "execution_count": 33,
   "id": "bdac0503",
   "metadata": {},
   "outputs": [],
   "source": [
    "##Let's change the effect size for the previous example\n",
    "## Instead of noticing a 1% difference, let's say we want to notice a 10% difference\n",
    "## Let's determine the number of samples required here"
   ]
  },
  {
   "cell_type": "code",
   "execution_count": 36,
   "id": "e47331b9",
   "metadata": {},
   "outputs": [],
   "source": [
    "Pc = 0.04 ##proportion of successes in control group\n",
    "Pt = 0.14 ##propotion of successes expected in treatment group\n",
    "effect_size = sms.proportion_effectsize(Pc,Pt)    # Calculating effect size based on our expected rates"
   ]
  },
  {
   "cell_type": "code",
   "execution_count": 37,
   "id": "79621d9b",
   "metadata": {},
   "outputs": [
    {
     "name": "stdout",
     "output_type": "stream",
     "text": [
      "119\n"
     ]
    }
   ],
   "source": [
    "##Let's calculate the number of samples\n",
    "\n",
    "required_n = sms.NormalIndPower().solve_power(\n",
    "    effect_size, \n",
    "    power=0.8, \n",
    "    alpha=0.05, \n",
    "    )                                                  # Calculating sample size needed\n",
    "\n",
    "required_n = ceil(required_n)                          # Rounding up to next whole number                          \n",
    "\n",
    "print(required_n)"
   ]
  },
  {
   "cell_type": "markdown",
   "id": "16a73477",
   "metadata": {},
   "source": [
    "As you can see, the sample size required to notice a 10% change is nearly 60 times smaller than the sample size required to successfully detect a 1% change"
   ]
  },
  {
   "cell_type": "code",
   "execution_count": null,
   "id": "becb2f11",
   "metadata": {},
   "outputs": [],
   "source": []
  }
 ],
 "metadata": {
  "kernelspec": {
   "display_name": "Python 3 (ipykernel)",
   "language": "python",
   "name": "python3"
  },
  "language_info": {
   "codemirror_mode": {
    "name": "ipython",
    "version": 3
   },
   "file_extension": ".py",
   "mimetype": "text/x-python",
   "name": "python",
   "nbconvert_exporter": "python",
   "pygments_lexer": "ipython3",
   "version": "3.10.11"
  }
 },
 "nbformat": 4,
 "nbformat_minor": 5
}
