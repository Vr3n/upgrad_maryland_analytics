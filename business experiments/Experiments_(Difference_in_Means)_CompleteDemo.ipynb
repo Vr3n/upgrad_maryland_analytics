{
 "cells": [
  {
   "cell_type": "markdown",
   "metadata": {
    "id": "9NAl4_XSZrRR"
   },
   "source": [
    "## Statistical Inference (two populations)\n",
    "\n",
    "In this demonstration, we'll understand how to draw statistical inferences with two samples drawn from different populations. \n",
    "We will be interested in:\n",
    "- Determining whether the population means are different.\n",
    "- Constructing confidence intervals for the difference in population means. \n",
    "---"
   ]
  },
  {
   "cell_type": "markdown",
   "metadata": {
    "id": "6mzT9LLygJ6R"
   },
   "source": [
    "## Demonstration Overview\n",
    "\n",
    "- Problem Statement Discussion\n",
    "- Data Preparation and Exploratory Data Analysis\n",
    "- Hypothesis Testing for Difference in Means\n",
    "    - Independent Samples\n",
    "        - Equal variances\n",
    "        - Unequal variances\n",
    "    - Paired Samples\n",
    "    \n",
    "---"
   ]
  },
  {
   "cell_type": "markdown",
   "metadata": {
    "id": "dGBn-i0oagq4"
   },
   "source": [
    "### Problem Statement\n",
    "\n",
    "A restaurant chain is interested in knowing whether a new storefront look and employee uniforms can improve sales. For conducting this experiment, 2 restaurant stores are chosen with similar location and similar performance for the treatment and the control groups. Here's an overview\n",
    "\n",
    "**Treatment Group**\n",
    "- *Store Owner*: Andy\n",
    "- *Changes made*: New Storefront look, employee uniforms\n",
    "\n",
    "**Control Group**\n",
    "- *Store Ower*: Bob\n",
    "- *Changes made*: No changes\n",
    "\n",
    "We use a 14 day testing period to estimate which storefront look does \"*better*\""
   ]
  },
  {
   "cell_type": "markdown",
   "metadata": {
    "id": "cJ4ypgALgFYF"
   },
   "source": [
    "Now let's go ahead and analyze the dataset \n",
    "\n",
    "---"
   ]
  },
  {
   "cell_type": "markdown",
   "metadata": {
    "id": "C-km18fqagA6"
   },
   "source": [
    "### Data Preparation and EDA"
   ]
  },
  {
   "cell_type": "code",
   "execution_count": 1,
   "metadata": {
    "executionInfo": {
     "elapsed": 1013,
     "status": "ok",
     "timestamp": 1665404344791,
     "user": {
      "displayName": "Akshar Gupta",
      "userId": "03393520324044557957"
     },
     "user_tz": -330
    },
    "id": "0paMpI-cAxwo"
   },
   "outputs": [],
   "source": [
    "### Import the libraries\n",
    "import pandas as pd\n",
    "import seaborn as sns"
   ]
  },
  {
   "cell_type": "code",
   "execution_count": 2,
   "metadata": {
    "colab": {
     "base_uri": "https://localhost:8080/",
     "height": 363
    },
    "executionInfo": {
     "elapsed": 57,
     "status": "error",
     "timestamp": 1665404344794,
     "user": {
      "displayName": "Akshar Gupta",
      "userId": "03393520324044557957"
     },
     "user_tz": -330
    },
    "id": "1S1Qs8fGaX70",
    "outputId": "fbbf7b53-509f-4166-df41-9ef7c42309f4"
   },
   "outputs": [
    {
     "data": {
      "text/html": [
       "<div>\n",
       "<style scoped>\n",
       "    .dataframe tbody tr th:only-of-type {\n",
       "        vertical-align: middle;\n",
       "    }\n",
       "\n",
       "    .dataframe tbody tr th {\n",
       "        vertical-align: top;\n",
       "    }\n",
       "\n",
       "    .dataframe thead th {\n",
       "        text-align: right;\n",
       "    }\n",
       "</style>\n",
       "<table border=\"1\" class=\"dataframe\">\n",
       "  <thead>\n",
       "    <tr style=\"text-align: right;\">\n",
       "      <th></th>\n",
       "      <th>Day</th>\n",
       "      <th>Andy</th>\n",
       "      <th>Bob</th>\n",
       "    </tr>\n",
       "  </thead>\n",
       "  <tbody>\n",
       "    <tr>\n",
       "      <th>0</th>\n",
       "      <td>Tuesday</td>\n",
       "      <td>981</td>\n",
       "      <td>933</td>\n",
       "    </tr>\n",
       "    <tr>\n",
       "      <th>1</th>\n",
       "      <td>Friday</td>\n",
       "      <td>1932</td>\n",
       "      <td>1827</td>\n",
       "    </tr>\n",
       "    <tr>\n",
       "      <th>2</th>\n",
       "      <td>Tuesday</td>\n",
       "      <td>873</td>\n",
       "      <td>825</td>\n",
       "    </tr>\n",
       "    <tr>\n",
       "      <th>3</th>\n",
       "      <td>Thursday</td>\n",
       "      <td>1338</td>\n",
       "      <td>1281</td>\n",
       "    </tr>\n",
       "    <tr>\n",
       "      <th>4</th>\n",
       "      <td>Sunday</td>\n",
       "      <td>1349</td>\n",
       "      <td>1267</td>\n",
       "    </tr>\n",
       "  </tbody>\n",
       "</table>\n",
       "</div>"
      ],
      "text/plain": [
       "        Day  Andy   Bob\n",
       "0   Tuesday   981   933\n",
       "1    Friday  1932  1827\n",
       "2   Tuesday   873   825\n",
       "3  Thursday  1338  1281\n",
       "4    Sunday  1349  1267"
      ]
     },
     "execution_count": 2,
     "metadata": {},
     "output_type": "execute_result"
    }
   ],
   "source": [
    "##Import the dataset\n",
    "df = pd.read_excel(\"TwoSample.xlsx\")\n",
    "df.head()"
   ]
  },
  {
   "cell_type": "markdown",
   "metadata": {
    "id": "rrWxxB241OsR"
   },
   "source": [
    "Let's prepare a few visualizations to analyze the data"
   ]
  },
  {
   "cell_type": "code",
   "execution_count": 3,
   "metadata": {
    "executionInfo": {
     "elapsed": 49,
     "status": "aborted",
     "timestamp": 1665404344798,
     "user": {
      "displayName": "Akshar Gupta",
      "userId": "03393520324044557957"
     },
     "user_tz": -330
    },
    "id": "TltNnhAuAxwt"
   },
   "outputs": [
    {
     "data": {
      "text/plain": [
       "<Axes: >"
      ]
     },
     "execution_count": 3,
     "metadata": {},
     "output_type": "execute_result"
    },
    {
     "data": {
      "image/png": "[encoded data removed]",
      "text/plain": [
       "<Figure size 640x480 with 1 Axes>"
      ]
     },
     "metadata": {},
     "output_type": "display_data"
    }
   ],
   "source": [
    "## We can observe the day wise trends for both Andy and Bob\n",
    "df.plot(kind = 'bar')"
   ]
  },
  {
   "cell_type": "markdown",
   "metadata": {
    "id": "B2uYNfF4Axwu"
   },
   "source": [
    "- The sales pattern is almost identical for both Andy's and Bob's stores\n",
    "- The peaks that we observe are during the Fri-Sun period\n",
    "- Also, for each of the days, we observe that Andy's store is always performing slightly better than Bob's. This gives an early indication that the treatment group is perfoming better than the control group\n"
   ]
  },
  {
   "cell_type": "markdown",
   "metadata": {
    "id": "HnDrhg6IAxwu"
   },
   "source": [
    "Next, let's compare the sales distributions for both the stores"
   ]
  },
  {
   "cell_type": "code",
   "execution_count": 4,
   "metadata": {
    "executionInfo": {
     "elapsed": 51,
     "status": "aborted",
     "timestamp": 1665404344801,
     "user": {
      "displayName": "Akshar Gupta",
      "userId": "03393520324044557957"
     },
     "user_tz": -330
    },
    "id": "UJKZ7LWXAxwv"
   },
   "outputs": [],
   "source": [
    "## We shall use a boxplot for this\n",
    "## You can directly pass the DataFrame as an argument and the sns.boxplot function would only consider the numeric columns\n",
    "## Which in this case are the columns 'Andy' and 'Bob'"
   ]
  },
  {
   "cell_type": "code",
   "execution_count": 5,
   "metadata": {
    "executionInfo": {
     "elapsed": 52,
     "status": "aborted",
     "timestamp": 1665404344804,
     "user": {
      "displayName": "Akshar Gupta",
      "userId": "03393520324044557957"
     },
     "user_tz": -330
    },
    "id": "V_cat5dFAxww"
   },
   "outputs": [
    {
     "data": {
      "text/plain": [
       "<Axes: >"
      ]
     },
     "execution_count": 5,
     "metadata": {},
     "output_type": "execute_result"
    },
    {
     "data": {
      "image/png": "[encoded data removed]",
      "text/plain": [
       "<Figure size 640x480 with 1 Axes>"
      ]
     },
     "metadata": {},
     "output_type": "display_data"
    }
   ],
   "source": [
    "sns.boxplot(data = df) "
   ]
  },
  {
   "cell_type": "markdown",
   "metadata": {
    "id": "30M3HYKUAxww"
   },
   "source": [
    "We can see that the median sales in Andy's store is slightly better than Bob's "
   ]
  },
  {
   "cell_type": "code",
   "execution_count": 6,
   "metadata": {
    "executionInfo": {
     "elapsed": 55,
     "status": "aborted",
     "timestamp": 1665404344809,
     "user": {
      "displayName": "Akshar Gupta",
      "userId": "03393520324044557957"
     },
     "user_tz": -330
    },
    "id": "nvzHUdUyAxww"
   },
   "outputs": [
    {
     "data": {
      "text/plain": [
       "81.21428571428578"
      ]
     },
     "execution_count": 6,
     "metadata": {},
     "output_type": "execute_result"
    }
   ],
   "source": [
    "#Quick calculation\n",
    "df['Andy'].mean() - df['Bob'].mean()"
   ]
  },
  {
   "cell_type": "markdown",
   "metadata": {
    "id": "7x49JaQ3Axwx"
   },
   "source": [
    "Average sales for Andy are about $81 more"
   ]
  },
  {
   "cell_type": "code",
   "execution_count": 7,
   "metadata": {
    "executionInfo": {
     "elapsed": 57,
     "status": "aborted",
     "timestamp": 1665404344812,
     "user": {
      "displayName": "Akshar Gupta",
      "userId": "03393520324044557957"
     },
     "user_tz": -330
    },
    "id": "Ogtz2K1FAxwx"
   },
   "outputs": [],
   "source": [
    "## We can also add a column that computes the pair-wise differences\n",
    "df['Difference'] = df['Andy'] - df['Bob']"
   ]
  },
  {
   "cell_type": "code",
   "execution_count": null,
   "metadata": {
    "executionInfo": {
     "elapsed": 58,
     "status": "aborted",
     "timestamp": 1665404344814,
     "user": {
      "displayName": "Akshar Gupta",
      "userId": "03393520324044557957"
     },
     "user_tz": -330
    },
    "id": "dwhup2weAxwy"
   },
   "outputs": [],
   "source": [
    "df.head()"
   ]
  },
  {
   "cell_type": "markdown",
   "metadata": {
    "id": "uoNOTkpTAxwy"
   },
   "source": [
    "Let's obtain some more descriptive statistics for both the restaurants"
   ]
  },
  {
   "cell_type": "code",
   "execution_count": null,
   "metadata": {
    "executionInfo": {
     "elapsed": 58,
     "status": "aborted",
     "timestamp": 1665404344816,
     "user": {
      "displayName": "Akshar Gupta",
      "userId": "03393520324044557957"
     },
     "user_tz": -330
    },
    "id": "mDdC_70DAxwz"
   },
   "outputs": [],
   "source": [
    "pd.options.display.float_format = \"{:,.2f}\".format ## to keep only upto 2 decimal points\n",
    "df.describe()"
   ]
  },
  {
   "cell_type": "markdown",
   "metadata": {
    "id": "8TJbvo4qAxwz"
   },
   "source": [
    "**Summary**\n",
    "\n",
    "- From the above analysis, it's clear that Andy's store is performing better than Bob's \n",
    "- On average, Andy's store earns **$81** more than Bob's store\n",
    "- Our next step is to check whether this difference is statistically significant or not\n",
    "\n",
    "---"
   ]
  },
  {
   "cell_type": "markdown",
   "metadata": {
    "id": "jZPEshaqAxw0"
   },
   "source": [
    "###  Hypothesis Testing for Difference in Means"
   ]
  },
  {
   "cell_type": "markdown",
   "metadata": {
    "id": "a8qRRlZBAxw0"
   },
   "source": [
    "**Independent Samples**\n",
    "- Equal variances"
   ]
  },
  {
   "cell_type": "markdown",
   "metadata": {
    "id": "V2KNaYDgAxw0"
   },
   "source": [
    "We shall start with conducting t-tests for difference in means using *scipy*. Assumes independent samples and equality of variance across populations. \n",
    "\n",
    "The hypotheses are as follows. \n",
    "\n",
    "> Let $\\mu_1$ be the mean for Andy and $\\mu_2$ the mean for Bob.\n",
    "\n",
    "$$H_0: \\mu_1-\\mu_2 = 0$$\n",
    "$$H_a: \\mu_1-\\mu_2 \\neq 0$$"
   ]
  },
  {
   "cell_type": "markdown",
   "metadata": {
    "id": "Ns8wJAbUAxw1"
   },
   "source": [
    "> This will be a two-sided test, with $\\alpha$ = 0.05"
   ]
  },
  {
   "cell_type": "code",
   "execution_count": null,
   "metadata": {
    "executionInfo": {
     "elapsed": 60,
     "status": "aborted",
     "timestamp": 1665404344819,
     "user": {
      "displayName": "Akshar Gupta",
      "userId": "03393520324044557957"
     },
     "user_tz": -330
    },
    "id": "iCk1YWxIAxw1"
   },
   "outputs": [],
   "source": [
    "from scipy.stats import ttest_ind"
   ]
  },
  {
   "cell_type": "code",
   "execution_count": null,
   "metadata": {
    "executionInfo": {
     "elapsed": 61,
     "status": "aborted",
     "timestamp": 1665404344822,
     "user": {
      "displayName": "Akshar Gupta",
      "userId": "03393520324044557957"
     },
     "user_tz": -330
    },
    "id": "-TDexEF8Axw1"
   },
   "outputs": [],
   "source": [
    "##A quick look at the documentation of the ttest_ind method\n",
    "?ttest_ind"
   ]
  },
  {
   "cell_type": "markdown",
   "metadata": {
    "id": "6s7cLXF1Axw1"
   },
   "source": [
    "*As shown in the documentation, we shall be providing the following inputs*\n",
    "\n",
    "- *Andy's sales*\n",
    "- *Bob's sales*\n",
    "- *equal_var* argument set to *True*"
   ]
  },
  {
   "cell_type": "code",
   "execution_count": null,
   "metadata": {
    "id": "btOljLWTAxw2",
    "outputId": "dc3e6ce9-e35b-4247-cdc4-88b1e66b0297"
   },
   "outputs": [
    {
     "data": {
      "text/plain": [
       "Ttest_indResult(statistic=0.44523214069369493, pvalue=0.6598369595940106)"
      ]
     },
     "execution_count": 42,
     "metadata": {},
     "output_type": "execute_result"
    }
   ],
   "source": [
    "## Run the t-test\n",
    "ttest_ind(df.Andy, df.Bob, equal_var=True)"
   ]
  },
  {
   "cell_type": "markdown",
   "metadata": {
    "id": "TOO6Zg_7Axw2"
   },
   "source": [
    "Since p-value for the given test comes out as 0.66 (which is greater than $\\alpha$), we fail to reject the null hypothesis, which states that there's no difference in the means of Andy's and Bob's store sales.\n",
    "\n",
    "---"
   ]
  },
  {
   "cell_type": "markdown",
   "metadata": {
    "id": "UaSIH9iBAxw2"
   },
   "source": [
    "- Unequal variances"
   ]
  },
  {
   "cell_type": "markdown",
   "metadata": {
    "id": "4-EMhMAqAxw2"
   },
   "source": [
    "Next, we can run the test, without the equal variance assumption"
   ]
  },
  {
   "cell_type": "code",
   "execution_count": null,
   "metadata": {
    "id": "tOv6M9I1Axw3",
    "outputId": "1dd31efd-d65d-4e5e-c8e4-0e750ed68555"
   },
   "outputs": [
    {
     "data": {
      "text/plain": [
       "Ttest_indResult(statistic=0.44523214069369493, pvalue=0.6598396576346227)"
      ]
     },
     "execution_count": 44,
     "metadata": {},
     "output_type": "execute_result"
    }
   ],
   "source": [
    "ttest_ind(df.Andy, df.Bob, equal_var=False)"
   ]
  },
  {
   "cell_type": "markdown",
   "metadata": {
    "id": "aauICOBvAxw3"
   },
   "source": [
    "We reach the same conclusion here as well"
   ]
  },
  {
   "cell_type": "code",
   "execution_count": null,
   "metadata": {
    "id": "-bgso4prAxw3",
    "outputId": "7faf7dac-9c85-4798-ee74-158b2240dace"
   },
   "outputs": [
    {
     "data": {
      "text/plain": [
       "BartlettResult(statistic=0.009225415343954173, pvalue=0.923481635617045)"
      ]
     },
     "execution_count": 45,
     "metadata": {},
     "output_type": "execute_result"
    }
   ],
   "source": [
    "### Additional Code\n",
    "### To test equality of variances\n",
    "\n",
    "from scipy.stats import bartlett\n",
    "\n",
    "# Bartlett's test of equality of variances\n",
    "bartlett(df.Andy, df.Bob)"
   ]
  },
  {
   "cell_type": "markdown",
   "metadata": {
    "id": "20QEoaTNAxw3"
   },
   "source": [
    "---"
   ]
  },
  {
   "cell_type": "markdown",
   "metadata": {
    "id": "NLroqN5FAxw4"
   },
   "source": [
    "**Paired Samples**"
   ]
  },
  {
   "cell_type": "code",
   "execution_count": null,
   "metadata": {
    "id": "43dDQKZtAxw4"
   },
   "outputs": [],
   "source": [
    "##Reiterating the need for using paired samples\n",
    "## Plot a scatterplot between Andy's sales and Bob's sales"
   ]
  },
  {
   "cell_type": "code",
   "execution_count": null,
   "metadata": {
    "id": "bdqEOv0BAxw4",
    "outputId": "dfd07610-cad3-4c8a-b3e6-2f7ad85a23aa"
   },
   "outputs": [
    {
     "data": {
      "text/plain": [
       "<AxesSubplot:xlabel='Bob', ylabel='Andy'>"
      ]
     },
     "execution_count": 56,
     "metadata": {},
     "output_type": "execute_result"
    },
    {
     "data": {
      "image/png": "[encoded data removed]",
      "text/plain": [
       "<Figure size 432x288 with 1 Axes>"
      ]
     },
     "metadata": {
      "needs_background": "light"
     },
     "output_type": "display_data"
    }
   ],
   "source": [
    "sns.scatterplot(y = df.Andy, x = df.Bob)"
   ]
  },
  {
   "cell_type": "markdown",
   "metadata": {
    "id": "yDBV1FGSAxw4"
   },
   "source": [
    "- We can clearly see that there is a nearly linear relationship between Andy's and Bob's sales \n",
    "\n",
    "- Hence we can conclude that they are highly correlated. This violates the independence assumption\n",
    "\n",
    "**Solution**: To get rid of the correlation, we can compute the pair-wise differences for Andy's and Bob's sales for each day of the week and then perform hypothesis tests\n",
    "\n",
    "In the next section, we shall look at multiple ways to perform the hypothesis tests for paired samples"
   ]
  },
  {
   "cell_type": "markdown",
   "metadata": {
    "id": "G8jh5v-fAxw4"
   },
   "source": [
    "##### Using one-sample t-test on the Difference column\n",
    "\n",
    "We already have computed the \"Difference\" column. We can use it to perform hypothesis tests.\n",
    "\n",
    "Our hypotheses changes *a little bit*\n",
    "\n",
    "> Let $\\mu_d$ denote the difference in means for sales in Andy's and Bob's restaurants \n",
    "\n",
    "> Our original hypotheses that was shown previously changes to \n",
    "\n",
    "$$H_0: \\mu_d = 0$$\n",
    "$$H_a: \\mu_d \\neq 0$$\n",
    "\n",
    "> This will still be a two-sided test, with $\\alpha$ = 0.05"
   ]
  },
  {
   "cell_type": "code",
   "execution_count": 5,
   "metadata": {
    "executionInfo": {
     "elapsed": 13,
     "status": "ok",
     "timestamp": 1665404367508,
     "user": {
      "displayName": "Akshar Gupta",
      "userId": "03393520324044557957"
     },
     "user_tz": -330
    },
    "id": "BEi_mPqMAxw4"
   },
   "outputs": [],
   "source": [
    "## We can peform a one-sample t-test on the 'Difference' column\n",
    "from scipy.stats import ttest_1samp"
   ]
  },
  {
   "cell_type": "code",
   "execution_count": 6,
   "metadata": {
    "executionInfo": {
     "elapsed": 11,
     "status": "ok",
     "timestamp": 1665404367511,
     "user": {
      "displayName": "Akshar Gupta",
      "userId": "03393520324044557957"
     },
     "user_tz": -330
    },
    "id": "FjVIpIUPAxw5"
   },
   "outputs": [],
   "source": [
    "##Let's check the documentation \n",
    "?ttest_1samp"
   ]
  },
  {
   "cell_type": "markdown",
   "metadata": {
    "id": "uZw3-37WAxw5"
   },
   "source": [
    "*As shown in the documentation, we shall be providing the following inputs*\n",
    "\n",
    "- *Difference in sales between Andy and Bob*\n",
    "- *Population mean for difference in sales as per null hypothesis*"
   ]
  },
  {
   "cell_type": "code",
   "execution_count": null,
   "metadata": {
    "id": "R3ocmGbrAxw5",
    "outputId": "6f1d61f2-3822-4c4e-8c1d-961ebce467a3"
   },
   "outputs": [
    {
     "data": {
      "text/plain": [
       "Ttest_1sampResult(statistic=10.275885788346828, pvalue=1.3108746661209956e-07)"
      ]
     },
     "execution_count": 61,
     "metadata": {},
     "output_type": "execute_result"
    }
   ],
   "source": [
    "ttest_1samp(df.Difference, popmean = 0)"
   ]
  },
  {
   "cell_type": "markdown",
   "metadata": {
    "id": "3vcrH782Axw5"
   },
   "source": [
    "The p-value is nearly 0, indicating that the null hypothesis can be rejected.\n",
    "\n",
    "Thus in the paired samples case, we can observe that there's significant evidence to suggest that Andy's restaurant performs better than Bob's"
   ]
  },
  {
   "cell_type": "markdown",
   "metadata": {
    "id": "wOHTpq23Axw5"
   },
   "source": [
    "###### Using two-sample t-test for paired samples"
   ]
  },
  {
   "cell_type": "code",
   "execution_count": null,
   "metadata": {
    "id": "gTt13JmuAxw5"
   },
   "outputs": [],
   "source": [
    "from scipy.stats import ttest_rel"
   ]
  },
  {
   "cell_type": "code",
   "execution_count": null,
   "metadata": {
    "id": "N9A1mTPIAxw6"
   },
   "outputs": [],
   "source": [
    "## A quick look at the ttest_rel method\n",
    "?ttest_rel"
   ]
  },
  {
   "cell_type": "markdown",
   "metadata": {
    "id": "_W3BWmsjAxw6"
   },
   "source": [
    "*As shown in the documentation, we shall be providing the following inputs*\n",
    "\n",
    "- *Andy's sales*\n",
    "- *Bob's sales*"
   ]
  },
  {
   "cell_type": "code",
   "execution_count": null,
   "metadata": {
    "id": "eBxv6vYSAxw6",
    "outputId": "2d54952c-2781-48d1-c152-7ff744cd1b7c"
   },
   "outputs": [
    {
     "data": {
      "text/plain": [
       "Ttest_relResult(statistic=10.275885788346828, pvalue=1.3108746661209956e-07)"
      ]
     },
     "execution_count": 64,
     "metadata": {},
     "output_type": "execute_result"
    }
   ],
   "source": [
    "# Paired sample t-test\n",
    "ttest_rel(df.Andy, df.Bob)"
   ]
  },
  {
   "cell_type": "markdown",
   "metadata": {
    "id": "lee86f_tAxw6"
   },
   "source": [
    "We observe the same result as seen previously"
   ]
  },
  {
   "cell_type": "markdown",
   "metadata": {
    "id": "6bWFlcDrAxw6"
   },
   "source": [
    "##### Using paired t-test in Pingouin"
   ]
  },
  {
   "cell_type": "markdown",
   "metadata": {
    "id": "5i-AgkoZAxw8"
   },
   "source": [
    "*Pingouin* is an open-source statistical package written in Python 3 and based mostly on Pandas and NumPy. It provides slightly more exhaustive statistical information by default as compared to the methods in the *scipy.stats* package\n",
    "\n",
    "Read more: https://pingouin-stats.org/"
   ]
  },
  {
   "cell_type": "code",
   "execution_count": null,
   "metadata": {
    "id": "c_NLYZ4_Axw8",
    "outputId": "039e2a9f-2932-44e4-fd83-3d6ad0b40a62"
   },
   "outputs": [
    {
     "name": "stdout",
     "output_type": "stream",
     "text": [
      "Requirement already satisfied: pingouin in c:\\users\\mahi1\\anaconda3\\lib\\site-packages (0.5.1)\n",
      "Requirement already satisfied: pandas>=1.0 in c:\\users\\mahi1\\anaconda3\\lib\\site-packages (from pingouin) (1.3.4)\n",
      "Requirement already satisfied: tabulate in c:\\users\\mahi1\\anaconda3\\lib\\site-packages (from pingouin) (0.8.9)\n",
      "Requirement already satisfied: numpy>=1.19 in c:\\users\\mahi1\\anaconda3\\lib\\site-packages (from pingouin) (1.20.3)\n",
      "Requirement already satisfied: statsmodels>=0.13 in c:\\users\\mahi1\\anaconda3\\lib\\site-packages (from pingouin) (0.13.2)\n",
      "Requirement already satisfied: seaborn>=0.11 in c:\\users\\mahi1\\anaconda3\\lib\\site-packages (from pingouin) (0.11.2)\n",
      "Requirement already satisfied: matplotlib>=3.0.2 in c:\\users\\mahi1\\anaconda3\\lib\\site-packages (from pingouin) (3.4.3)\n",
      "Requirement already satisfied: scipy>=1.7 in c:\\users\\mahi1\\anaconda3\\lib\\site-packages (from pingouin) (1.7.1)\n",
      "Requirement already satisfied: pandas-flavor>=0.2.0 in c:\\users\\mahi1\\anaconda3\\lib\\site-packages (from pingouin) (0.3.0)\n",
      "Requirement already satisfied: scikit-learn in c:\\users\\mahi1\\anaconda3\\lib\\site-packages (from pingouin) (1.1.1)\n",
      "Requirement already satisfied: outdated in c:\\users\\mahi1\\anaconda3\\lib\\site-packages (from pingouin) (0.2.1)\n",
      "Requirement already satisfied: pyparsing>=2.2.1 in c:\\users\\mahi1\\anaconda3\\lib\\site-packages (from matplotlib>=3.0.2->pingouin) (3.0.4)\n",
      "Requirement already satisfied: cycler>=0.10 in c:\\users\\mahi1\\anaconda3\\lib\\site-packages (from matplotlib>=3.0.2->pingouin) (0.10.0)\n",
      "Requirement already satisfied: kiwisolver>=1.0.1 in c:\\users\\mahi1\\anaconda3\\lib\\site-packages (from matplotlib>=3.0.2->pingouin) (1.3.1)\n",
      "Requirement already satisfied: python-dateutil>=2.7 in c:\\users\\mahi1\\anaconda3\\lib\\site-packages (from matplotlib>=3.0.2->pingouin) (2.8.2)\n",
      "Requirement already satisfied: pillow>=6.2.0 in c:\\users\\mahi1\\anaconda3\\lib\\site-packages (from matplotlib>=3.0.2->pingouin) (8.4.0)\n",
      "Requirement already satisfied: six in c:\\users\\mahi1\\anaconda3\\lib\\site-packages (from cycler>=0.10->matplotlib>=3.0.2->pingouin) (1.16.0)\n",
      "Requirement already satisfied: pytz>=2017.3 in c:\\users\\mahi1\\anaconda3\\lib\\site-packages (from pandas>=1.0->pingouin) (2021.3)\n",
      "Requirement already satisfied: lazy-loader==0.1rc2 in c:\\users\\mahi1\\anaconda3\\lib\\site-packages (from pandas-flavor>=0.2.0->pingouin) (0.1rc2)\n",
      "Requirement already satisfied: xarray in c:\\users\\mahi1\\anaconda3\\lib\\site-packages (from pandas-flavor>=0.2.0->pingouin) (2022.3.0)\n",
      "Requirement already satisfied: patsy>=0.5.2 in c:\\users\\mahi1\\anaconda3\\lib\\site-packages (from statsmodels>=0.13->pingouin) (0.5.2)\n",
      "Requirement already satisfied: packaging>=21.3 in c:\\users\\mahi1\\anaconda3\\lib\\site-packages (from statsmodels>=0.13->pingouin) (21.3)\n",
      "Requirement already satisfied: littleutils in c:\\users\\mahi1\\anaconda3\\lib\\site-packages (from outdated->pingouin) (0.2.2)\n",
      "Requirement already satisfied: requests in c:\\users\\mahi1\\anaconda3\\lib\\site-packages (from outdated->pingouin) (2.26.0)\n",
      "Requirement already satisfied: certifi>=2017.4.17 in c:\\users\\mahi1\\anaconda3\\lib\\site-packages (from requests->outdated->pingouin) (2021.10.8)\n",
      "Requirement already satisfied: idna<4,>=2.5 in c:\\users\\mahi1\\anaconda3\\lib\\site-packages (from requests->outdated->pingouin) (3.2)\n",
      "Requirement already satisfied: urllib3<1.27,>=1.21.1 in c:\\users\\mahi1\\anaconda3\\lib\\site-packages (from requests->outdated->pingouin) (1.26.7)\n",
      "Requirement already satisfied: charset-normalizer~=2.0.0 in c:\\users\\mahi1\\anaconda3\\lib\\site-packages (from requests->outdated->pingouin) (2.0.4)\n",
      "Requirement already satisfied: threadpoolctl>=2.0.0 in c:\\users\\mahi1\\anaconda3\\lib\\site-packages (from scikit-learn->pingouin) (2.2.0)\n",
      "Requirement already satisfied: joblib>=1.0.0 in c:\\users\\mahi1\\anaconda3\\lib\\site-packages (from scikit-learn->pingouin) (1.1.0)\n"
     ]
    }
   ],
   "source": [
    "##Install pingouin if it's not already there in the system\n",
    "!pip install pingouin"
   ]
  },
  {
   "cell_type": "code",
   "execution_count": 3,
   "metadata": {
    "colab": {
     "base_uri": "https://localhost:8080/",
     "height": 321
    },
    "executionInfo": {
     "elapsed": 577,
     "status": "error",
     "timestamp": 1665404358327,
     "user": {
      "displayName": "Akshar Gupta",
      "userId": "03393520324044557957"
     },
     "user_tz": -330
    },
    "id": "rC44JVOFAxw8",
    "outputId": "81382a6f-1b95-4982-ff5c-0f4a00cfbf56"
   },
   "outputs": [
    {
     "ename": "ModuleNotFoundError",
     "errorDetails": {
      "actions": [
       {
        "action": "open_url",
        "actionText": "Open Examples",
        "url": "/notebooks/snippets/importing_libraries.ipynb"
       }
      ]
     },
     "evalue": "ignored",
     "output_type": "error",
     "traceback": [
      "\u001b[0;31m---------------------------------------------------------------------------\u001b[0m",
      "\u001b[0;31mModuleNotFoundError\u001b[0m                       Traceback (most recent call last)",
      "\u001b[0;32m<ipython-input-3-dff547741c23>\u001b[0m in \u001b[0;36m<module>\u001b[0;34m\u001b[0m\n\u001b[1;32m      1\u001b[0m \u001b[0;31m##Import the library\u001b[0m\u001b[0;34m\u001b[0m\u001b[0;34m\u001b[0m\u001b[0;34m\u001b[0m\u001b[0m\n\u001b[0;32m----> 2\u001b[0;31m \u001b[0;32mimport\u001b[0m \u001b[0mpingouin\u001b[0m \u001b[0;32mas\u001b[0m \u001b[0mpg\u001b[0m\u001b[0;34m\u001b[0m\u001b[0;34m\u001b[0m\u001b[0m\n\u001b[0m",
      "\u001b[0;31mModuleNotFoundError\u001b[0m: No module named 'pingouin'",
      "",
      "\u001b[0;31m---------------------------------------------------------------------------\u001b[0;32m\nNOTE: If your import is failing due to a missing package, you can\nmanually install dependencies using either !pip or !apt.\n\nTo view examples of installing some common dependencies, click the\n\"Open Examples\" button below.\n\u001b[0;31m---------------------------------------------------------------------------\u001b[0m\n"
     ]
    }
   ],
   "source": [
    "##Import the library\n",
    "import pingouin as pg"
   ]
  },
  {
   "cell_type": "markdown",
   "metadata": {
    "id": "NyhZctLQAxw9"
   },
   "source": [
    "We shall be using the *pg.ttest* method. Let's check its documentation to understand the different arguments"
   ]
  },
  {
   "cell_type": "code",
   "execution_count": 4,
   "metadata": {
    "colab": {
     "base_uri": "https://localhost:8080/"
    },
    "executionInfo": {
     "elapsed": 7,
     "status": "ok",
     "timestamp": 1665404358783,
     "user": {
      "displayName": "Akshar Gupta",
      "userId": "03393520324044557957"
     },
     "user_tz": -330
    },
    "id": "yUZ7Sv0NAxw9",
    "outputId": "92709687-cf75-44c0-9f6e-92adbe046207"
   },
   "outputs": [
    {
     "name": "stdout",
     "output_type": "stream",
     "text": [
      "Object `pg.ttest` not found.\n"
     ]
    }
   ],
   "source": [
    "?pg.ttest"
   ]
  },
  {
   "cell_type": "markdown",
   "metadata": {
    "id": "uWJRVu24Axw9"
   },
   "source": [
    "*As shown in the documentation, we shall be providing the following inputs*\n",
    "\n",
    "- *Andy's sales*\n",
    "- *Bob's sales*\n",
    "- *paired* parameter set to *True* in case of paired, else *False* by default\n",
    "- *alternative* parameter set to two-sided by default"
   ]
  },
  {
   "cell_type": "code",
   "execution_count": null,
   "metadata": {
    "id": "MmssglQpAxw9",
    "outputId": "aead7c94-f7ef-47a9-b062-b74632acb149"
   },
   "outputs": [
    {
     "data": {
      "text/html": [
       "<div>\n",
       "<style scoped>\n",
       "    .dataframe tbody tr th:only-of-type {\n",
       "        vertical-align: middle;\n",
       "    }\n",
       "\n",
       "    .dataframe tbody tr th {\n",
       "        vertical-align: top;\n",
       "    }\n",
       "\n",
       "    .dataframe thead th {\n",
       "        text-align: right;\n",
       "    }\n",
       "</style>\n",
       "<table border=\"1\" class=\"dataframe\">\n",
       "  <thead>\n",
       "    <tr style=\"text-align: right;\">\n",
       "      <th></th>\n",
       "      <th>T</th>\n",
       "      <th>dof</th>\n",
       "      <th>alternative</th>\n",
       "      <th>p-val</th>\n",
       "      <th>CI95%</th>\n",
       "      <th>cohen-d</th>\n",
       "      <th>BF10</th>\n",
       "      <th>power</th>\n",
       "    </tr>\n",
       "  </thead>\n",
       "  <tbody>\n",
       "    <tr>\n",
       "      <th>T-test</th>\n",
       "      <td>0.45</td>\n",
       "      <td>26</td>\n",
       "      <td>two-sided</td>\n",
       "      <td>0.66</td>\n",
       "      <td>[-293.73, 456.16]</td>\n",
       "      <td>0.17</td>\n",
       "      <td>0.381</td>\n",
       "      <td>0.07</td>\n",
       "    </tr>\n",
       "  </tbody>\n",
       "</table>\n",
       "</div>"
      ],
      "text/plain": [
       "          T  dof alternative  p-val              CI95%  cohen-d   BF10  power\n",
       "T-test 0.45   26   two-sided   0.66  [-293.73, 456.16]     0.17  0.381   0.07"
      ]
     },
     "execution_count": 71,
     "metadata": {},
     "output_type": "execute_result"
    }
   ],
   "source": [
    "## We can first conduct an unpaired test\n",
    "## To verify the results we got in the independent samples case\n",
    "pg.ttest(df.Andy, df.Bob)"
   ]
  },
  {
   "cell_type": "markdown",
   "metadata": {
    "id": "RYRJMaB9Axw9"
   },
   "source": [
    "This is exactly the same Test Statistic (0.45) and p-value (0.66) that we got earlier when we conducted the test for independent samples.\n",
    "\n",
    "Also you can observe additional metrics along with the above two values, such as the **CI95%**(95% confidence interval), **power**, **cohen-d** and so on"
   ]
  },
  {
   "cell_type": "code",
   "execution_count": null,
   "metadata": {
    "id": "0Rt2tB32Axw9",
    "outputId": "832e52fa-c8ef-4b26-a529-e64ee1f1f61e"
   },
   "outputs": [
    {
     "data": {
      "text/html": [
       "<div>\n",
       "<style scoped>\n",
       "    .dataframe tbody tr th:only-of-type {\n",
       "        vertical-align: middle;\n",
       "    }\n",
       "\n",
       "    .dataframe tbody tr th {\n",
       "        vertical-align: top;\n",
       "    }\n",
       "\n",
       "    .dataframe thead th {\n",
       "        text-align: right;\n",
       "    }\n",
       "</style>\n",
       "<table border=\"1\" class=\"dataframe\">\n",
       "  <thead>\n",
       "    <tr style=\"text-align: right;\">\n",
       "      <th></th>\n",
       "      <th>T</th>\n",
       "      <th>dof</th>\n",
       "      <th>alternative</th>\n",
       "      <th>p-val</th>\n",
       "      <th>CI95%</th>\n",
       "      <th>cohen-d</th>\n",
       "      <th>BF10</th>\n",
       "      <th>power</th>\n",
       "    </tr>\n",
       "  </thead>\n",
       "  <tbody>\n",
       "    <tr>\n",
       "      <th>T-test</th>\n",
       "      <td>10.28</td>\n",
       "      <td>13</td>\n",
       "      <td>two-sided</td>\n",
       "      <td>0.00</td>\n",
       "      <td>[64.14, 98.29]</td>\n",
       "      <td>0.17</td>\n",
       "      <td>1.082e+05</td>\n",
       "      <td>0.09</td>\n",
       "    </tr>\n",
       "  </tbody>\n",
       "</table>\n",
       "</div>"
      ],
      "text/plain": [
       "           T  dof alternative  p-val           CI95%  cohen-d       BF10  \\\n",
       "T-test 10.28   13   two-sided   0.00  [64.14, 98.29]     0.17  1.082e+05   \n",
       "\n",
       "        power  \n",
       "T-test   0.09  "
      ]
     },
     "execution_count": 72,
     "metadata": {},
     "output_type": "execute_result"
    }
   ],
   "source": [
    "## Now we can go ahead and conduct the paired test\n",
    "## Here, paired will be set to True\n",
    "pg.ttest(df.Andy, df.Bob, paired=True, alternative='two-sided')"
   ]
  },
  {
   "cell_type": "markdown",
   "metadata": {
    "id": "cj1KfWyjAxw9"
   },
   "source": [
    "Here's a summary of some key output metrics\n",
    "\n",
    "- **Test statistic**: 10.28\n",
    "- **p-val**: 0.00 which is less than $\\alpha$ = 0.05, indicating we can reject the null hypothesis \n",
    "- **CI95%**: [64.14,98.29] - indicates that the difference is positive, or in other words, there's significant evidence to suggest that Andy's sales are higher than Bob's"
   ]
  },
  {
   "cell_type": "code",
   "execution_count": null,
   "metadata": {
    "id": "aHtqSFJlAxw-"
   },
   "outputs": [],
   "source": []
  }
 ],
 "metadata": {
  "colab": {
   "provenance": []
  },
  "kernelspec": {
   "display_name": "Python 3 (ipykernel)",
   "language": "python",
   "name": "python3"
  },
  "language_info": {
   "codemirror_mode": {
    "name": "ipython",
    "version": 3
   },
   "file_extension": ".py",
   "mimetype": "text/x-python",
   "name": "python",
   "nbconvert_exporter": "python",
   "pygments_lexer": "ipython3",
   "version": "3.10.11"
  }
 },
 "nbformat": 4,
 "nbformat_minor": 4
}
