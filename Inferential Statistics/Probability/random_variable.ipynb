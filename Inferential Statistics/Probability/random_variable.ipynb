{
 "cells": [
  {
   "cell_type": "code",
   "execution_count": 1,
   "id": "94e071ff-d5dd-4fb8-bb4f-334010e1ca30",
   "metadata": {},
   "outputs": [],
   "source": [
    "import pandas as pd\n",
    "import numpy as np\n",
    "import matplotlib.pyplot as plt"
   ]
  },
  {
   "cell_type": "code",
   "execution_count": 2,
   "id": "9fad4611-c478-4c28-8032-4357f4645c10",
   "metadata": {},
   "outputs": [],
   "source": [
    "df = pd.read_csv('EatingOutSurvey.csv', header=0)"
   ]
  },
  {
   "cell_type": "code",
   "execution_count": 3,
   "id": "df92607d-f5ac-4e95-a55c-894104ee9052",
   "metadata": {
    "scrolled": true
   },
   "outputs": [
    {
     "name": "stdout",
     "output_type": "stream",
     "text": [
      "     X = days eating out  Survey ID\n",
      "0                      2        486\n",
      "1                      6        195\n",
      "2                      5         46\n",
      "3                      5        894\n",
      "4                      1        893\n",
      "..                   ...        ...\n",
      "995                    5        346\n",
      "996                    5        554\n",
      "997                    1        979\n",
      "998                    3        208\n",
      "999                    0        658\n",
      "\n",
      "[1000 rows x 2 columns]\n",
      "2.336\n",
      "5.483103999999999\n",
      "2.3416028698308344\n"
     ]
    }
   ],
   "source": [
    "print (df)\n",
    "values = df.values\n",
    "days = values [:,0]\n",
    "print(np.mean(days))\n",
    "print(np.var(days))\n",
    "print(np.std(days))"
   ]
  },
  {
   "cell_type": "code",
   "execution_count": null,
   "id": "32844ad0-1491-4b6c-8f8e-20075ecdbc08",
   "metadata": {},
   "outputs": [],
   "source": []
  }
 ],
 "metadata": {
  "kernelspec": {
   "display_name": "Python 3 (ipykernel)",
   "language": "python",
   "name": "python3"
  },
  "language_info": {
   "codemirror_mode": {
    "name": "ipython",
    "version": 3
   },
   "file_extension": ".py",
   "mimetype": "text/x-python",
   "name": "python",
   "nbconvert_exporter": "python",
   "pygments_lexer": "ipython3",
   "version": "3.10.11"
  }
 },
 "nbformat": 4,
 "nbformat_minor": 5
}
