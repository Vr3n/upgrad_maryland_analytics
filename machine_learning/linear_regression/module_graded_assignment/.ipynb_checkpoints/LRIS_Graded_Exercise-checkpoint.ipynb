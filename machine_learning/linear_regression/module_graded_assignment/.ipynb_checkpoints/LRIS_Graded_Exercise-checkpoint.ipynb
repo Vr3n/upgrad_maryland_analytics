{
 "cells": [
  {
   "cell_type": "markdown",
   "id": "4f6ec312",
   "metadata": {},
   "source": [
    "# Task 1 - Setup and EDA\n",
    "In this section, you will: \n",
    "- Load the necessary packages required for executing the code\n",
    "- Load the data\n",
    "- Prepare the data for further analysis\n",
    "- Conduct EDA on the data"
   ]
  },
  {
   "cell_type": "code",
   "execution_count": null,
   "id": "33884073",
   "metadata": {},
   "outputs": [],
   "source": [
    "# Import 'numpy' and 'pandas' for working with numbers and dataframes\n",
    "import numpy as np\n",
    "import pandas as pd\n",
    "\n",
    "# Import 'matplotlib.pyplot' for visualizations\n",
    "from matplotlib import pyplot as plt\n",
    "import seaborn as sns\n",
    "\n",
    "# Import method for regression from 'statsmodels'\n",
    "import statsmodels.formula.api as smf\n",
    "\n",
    "# Import methods for regression diagnostic plots from 'statsmodels'\n",
    "from statsmodels.api import ProbPlot, qqplot"
   ]
  },
  {
   "cell_type": "code",
   "execution_count": null,
   "id": "f2d1d3c5",
   "metadata": {},
   "outputs": [],
   "source": [
    "# Load the data and take a look at it\n",
    "# Note: Make sure that the data is in the same folder as the Jupyter notebook or specify the address correctly\n",
    "df = pd.read_csv('Buffet_Details.csv', index_col = 0)\n",
    "df.head()"
   ]
  },
  {
   "cell_type": "code",
   "execution_count": null,
   "id": "8cbf5ba2",
   "metadata": {},
   "outputs": [],
   "source": [
    "# Study the description of the data\n",
    "with open('Buffet_Details_Feature_Description.txt', 'r') as f:\n",
    "    print(f.read())"
   ]
  },
  {
   "cell_type": "code",
   "execution_count": null,
   "id": "fa9b402e",
   "metadata": {},
   "outputs": [],
   "source": [
    "# Look at the specifics of the data frame using the '.info()' command\n",
    "##### CODE HERE #####"
   ]
  },
  {
   "cell_type": "code",
   "execution_count": null,
   "id": "06cc4cba",
   "metadata": {},
   "outputs": [],
   "source": [
    "# Drop the 'Name' feature from the data set using the '.drop()' command\n",
    "##### CODE HERE #####"
   ]
  },
  {
   "cell_type": "code",
   "execution_count": null,
   "id": "10242d3a",
   "metadata": {},
   "outputs": [],
   "source": [
    "# Convert the 'Cuisine' feature to the 'category' data type using the '.astype()' command\n",
    "##### CODE HERE #####"
   ]
  },
  {
   "cell_type": "code",
   "execution_count": null,
   "id": "d583a578",
   "metadata": {},
   "outputs": [],
   "source": [
    "# Take a look at the data\n",
    "df.head()"
   ]
  },
  {
   "cell_type": "code",
   "execution_count": null,
   "id": "23e67e47",
   "metadata": {},
   "outputs": [],
   "source": [
    "# Create histograms for the variables 'Age' and 'Expenditure'\n",
    "plt.figure(figsize = (12, 4))\n",
    "\n",
    "colorname = ['lightblue', 'lightgreen']\n",
    "fignum = 0\n",
    "for featurename in ['Age', 'Expenditure']:\n",
    "    fignum = fignum + 1\n",
    "    plt.subplot(1, 2, fignum)\n",
    "    sns.histplot(data = df, x = featurename, color = colorname[fignum - 1])\n",
    "\n",
    "plt.tight_layout();"
   ]
  },
  {
   "cell_type": "code",
   "execution_count": null,
   "id": "7fcef612",
   "metadata": {},
   "outputs": [],
   "source": [
    "# Create box plots for the variables 'Age' and 'Expenditure'\n",
    "plt.figure(figsize = (12, 4))\n",
    "\n",
    "colorname = ['lightblue', 'lightgreen']\n",
    "fignum = 0\n",
    "for featurename in ['Age', 'Expenditure']:\n",
    "    fignum = fignum + 1\n",
    "    plt.subplot(1, 2, fignum)\n",
    "    sns.boxplot(data = df, x = featurename, color = colorname[fignum - 1])\n",
    "\n",
    "plt.tight_layout();"
   ]
  },
  {
   "cell_type": "code",
   "execution_count": null,
   "id": "dd68d2a5",
   "metadata": {},
   "outputs": [],
   "source": [
    "# Create a count plot for the variables 'Cuisine'\n",
    "plt.figure(figsize = (8, 4))\n",
    "\n",
    "sns.countplot(data = df, x = 'Cuisine')\n",
    "    \n",
    "plt.tight_layout();"
   ]
  },
  {
   "cell_type": "code",
   "execution_count": null,
   "id": "0baf9669",
   "metadata": {},
   "outputs": [],
   "source": [
    "# Create a bar plot for the variable 'Cuisine' with 'Expenditure' on the Y-axis\n",
    "plt.figure(figsize = (8, 4))\n",
    "\n",
    "sns.barplot(x = df['Cuisine'], y = df['Expenditure'], ci = None)\n",
    "\n",
    "plt.tight_layout();"
   ]
  },
  {
   "cell_type": "code",
   "execution_count": null,
   "id": "14de6500",
   "metadata": {},
   "outputs": [],
   "source": [
    "# Create scatter plots of 'Expenditure' versus 'Age', one colored by 'Cuisine' and the other without any categorical division\n",
    "plt.figure(figsize = (14, 5))\n",
    "plt.subplot(1, 2, 1)\n",
    "sns.scatterplot(data = df, x = 'Age', y = 'Expenditure')\n",
    "plt.subplot(1, 2, 2)\n",
    "sns.scatterplot(data = df, x = 'Age', y = 'Expenditure', hue = 'Cuisine');"
   ]
  },
  {
   "cell_type": "code",
   "execution_count": null,
   "id": "8077b1a2",
   "metadata": {},
   "outputs": [],
   "source": [
    "# Create a pair plot for the data\n",
    "sns.pairplot(df);"
   ]
  },
  {
   "cell_type": "markdown",
   "id": "83b4dbf5",
   "metadata": {},
   "source": [
    "# Task 2 - Linear Regression Models\n",
    "In this section, you will create linear regression models for the data and evaluate them."
   ]
  },
  {
   "cell_type": "markdown",
   "id": "69ad5193",
   "metadata": {},
   "source": [
    "### Model 1"
   ]
  },
  {
   "cell_type": "code",
   "execution_count": null,
   "id": "71afda2b",
   "metadata": {},
   "outputs": [],
   "source": [
    "# Create and train a linear regression model for the data using the 'smf.ols()' method and view its summary\n",
    "# Note: The objective is to predict 'Expenditure' using 'Age'\n",
    "lr_model_1 = ##### CODE HERE #####\n",
    "lr_model_1 = lr_model_1.fit()\n",
    "print(lr_model_1.summary())"
   ]
  },
  {
   "cell_type": "markdown",
   "id": "3557bdb2",
   "metadata": {},
   "source": [
    "### Model 2"
   ]
  },
  {
   "cell_type": "code",
   "execution_count": null,
   "id": "3191246a",
   "metadata": {},
   "outputs": [],
   "source": [
    "# Create and train a linear regression model for the data using the 'smf.ols()' method and view its summary\n",
    "# Note: The objective is to predict 'Expenditure' using 'Cuisine'\n",
    "# Note: Set the base category of 'Cuisine' to 'Indian' using the '.cat.set_categories()' command\n",
    "df['Cuisine'] = ##### CODE HERE #####\n",
    "lr_model_2 = ##### CODE HERE #####\n",
    "lr_model_2 = lr_model_2.fit()\n",
    "print(lr_model_2.summary())"
   ]
  },
  {
   "cell_type": "markdown",
   "id": "774ab63f",
   "metadata": {},
   "source": [
    "### Model 3"
   ]
  },
  {
   "cell_type": "code",
   "execution_count": null,
   "id": "49772c92",
   "metadata": {},
   "outputs": [],
   "source": [
    "# Create and train a linear regression model for the data using the 'smf.ols()' method and view its summary\n",
    "# Note: The objective is to predict 'Expenditure' using 'Age' and 'Cuisine'\n",
    "# Note: Set the base category of 'Cuisine' to 'Indian' using the '.cat.set_categories()' command\n",
    "df['Cuisine'] = ##### CODE HERE #####\n",
    "lr_model_3 = ##### CODE HERE #####\n",
    "lr_model_3 = lr_model_3.fit()\n",
    "print(lr_model_3.summary())"
   ]
  },
  {
   "cell_type": "markdown",
   "id": "433358b5",
   "metadata": {},
   "source": [
    "# Task 3 - Diagnostic Plots\n",
    "In this section, you will create and analyze diagnostic plots for *lr_model_3*"
   ]
  },
  {
   "cell_type": "code",
   "execution_count": null,
   "id": "c1abb012",
   "metadata": {},
   "outputs": [],
   "source": [
    "# Create a scatter plot between the fitted and actual values of 'Expenditure'\n",
    "plt.figure(figsize = (6, 6))\n",
    "sns.scatterplot(x = lr_model_3.fittedvalues, y = df['Expenditure'])\n",
    "plt.axline((30, 30), slope = 1, linestyle = '--', linewidth = 1, color = 'r')\n",
    "plt.xlabel('Fitted Values of Expenditure')\n",
    "plt.ylabel('Actual Values of Expenditure');"
   ]
  },
  {
   "cell_type": "code",
   "execution_count": null,
   "id": "19b8c08e",
   "metadata": {},
   "outputs": [],
   "source": [
    "# Create a scatter plot between the fitted values of 'Expenditure' and the residuals\n",
    "plt.figure(figsize = (8, 4))\n",
    "sns.scatterplot(x = lr_model_3.fittedvalues, y = lr_model_3.resid)\n",
    "plt.axhline(y = 0, xmin = 0, xmax = 1, linewidth = 1, color = 'k')\n",
    "plt.xlabel('Fitted Values of Expenditure')\n",
    "plt.ylabel('Residuals');"
   ]
  },
  {
   "cell_type": "code",
   "execution_count": null,
   "id": "997e7d2b",
   "metadata": {},
   "outputs": [],
   "source": [
    "# Create a histogram of the residuals\n",
    "plt.figure(figsize = (8, 4))\n",
    "sns.histplot(data = df, x = lr_model_3.resid, color = 'lightgray')\n",
    "plt.xlabel('Residual Value')\n",
    "plt.ylabel('Frequency');"
   ]
  },
  {
   "cell_type": "code",
   "execution_count": null,
   "id": "a5e351dd",
   "metadata": {},
   "outputs": [],
   "source": [
    "# Create a QQ plot for the data\n",
    "QQ = ProbPlot(lr_model_3.get_influence().resid_studentized_internal)\n",
    "fig = QQ.qqplot(line = '45', alpha = 0.5, lw = 1)\n",
    "fig.set_size_inches(5, 5)\n",
    "fig.gca().set_title('Normal Q-Q')\n",
    "fig.gca().set_xlabel('Theoretical Quantiles')\n",
    "fig.gca().set_ylabel('Standardized Residuals');"
   ]
  },
  {
   "cell_type": "code",
   "execution_count": null,
   "id": "981c33a5",
   "metadata": {},
   "outputs": [],
   "source": []
  }
 ],
 "metadata": {
  "kernelspec": {
   "display_name": "Python 3 (ipykernel)",
   "language": "python",
   "name": "python3"
  },
  "language_info": {
   "codemirror_mode": {
    "name": "ipython",
    "version": 3
   },
   "file_extension": ".py",
   "mimetype": "text/x-python",
   "name": "python",
   "nbconvert_exporter": "python",
   "pygments_lexer": "ipython3",
   "version": "3.9.12"
  }
 },
 "nbformat": 4,
 "nbformat_minor": 5
}
