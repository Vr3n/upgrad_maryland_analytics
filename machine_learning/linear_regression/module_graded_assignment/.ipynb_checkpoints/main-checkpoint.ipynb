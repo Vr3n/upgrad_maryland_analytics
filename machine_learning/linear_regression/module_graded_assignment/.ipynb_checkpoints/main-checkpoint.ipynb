{
 "cells": [
  {
   "cell_type": "code",
   "execution_count": 2,
   "id": "3815d5d5-d263-49de-b718-c7b79669202d",
   "metadata": {},
   "outputs": [
    {
     "name": "stderr",
     "output_type": "stream",
     "text": [
      "  % Total    % Received % Xferd  Average Speed   Time    Time     Time  Current\n",
      "                                 Dload  Upload   Total   Spent    Left  Speed\n",
      "\n",
      "  0     0    0     0    0     0      0      0 --:--:-- --:--:-- --:--:--     0\n",
      "100   521  100   521    0     0   6390      0 --:--:-- --:--:-- --:--:--  6766\n"
     ]
    }
   ],
   "source": [
    "!curl https://cdn.upgrad.com/uploads/production/a24764de-edce-42aa-95e2-f1dcadcbc569/Buffet_Details_Feature_Description.txt -o Buffet_Details_Feature_Description.txt"
   ]
  },
  {
   "cell_type": "code",
   "execution_count": null,
   "id": "56076af6-1c65-45cf-9466-d88dda9bce31",
   "metadata": {},
   "outputs": [],
   "source": []
  }
 ],
 "metadata": {
  "kernelspec": {
   "display_name": "Python 3 (ipykernel)",
   "language": "python",
   "name": "python3"
  },
  "language_info": {
   "codemirror_mode": {
    "name": "ipython",
    "version": 3
   },
   "file_extension": ".py",
   "mimetype": "text/x-python",
   "name": "python",
   "nbconvert_exporter": "python",
   "pygments_lexer": "ipython3",
   "version": "3.10.11"
  }
 },
 "nbformat": 4,
 "nbformat_minor": 5
}
