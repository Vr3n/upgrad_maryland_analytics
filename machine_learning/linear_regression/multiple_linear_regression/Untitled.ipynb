{
 "cells": [
  {
   "cell_type": "code",
   "execution_count": 3,
   "id": "59d3b851-ed87-43c6-a787-47403af70102",
   "metadata": {},
   "outputs": [],
   "source": [
    "spend = 50.12 + (3.13 * 35) + (13.19 * )"
   ]
  },
  {
   "cell_type": "code",
   "execution_count": 4,
   "id": "a6072163-8ff2-40f3-94d4-5e1698945c36",
   "metadata": {},
   "outputs": [
    {
     "data": {
      "text/plain": [
       "655.97"
      ]
     },
     "execution_count": 4,
     "metadata": {},
     "output_type": "execute_result"
    }
   ],
   "source": [
    "spend"
   ]
  },
  {
   "cell_type": "code",
   "execution_count": null,
   "id": "504344c5-10e8-4e13-a963-fc9011dd8c22",
   "metadata": {},
   "outputs": [],
   "source": []
  }
 ],
 "metadata": {
  "kernelspec": {
   "display_name": "Python 3 (ipykernel)",
   "language": "python",
   "name": "python3"
  },
  "language_info": {
   "codemirror_mode": {
    "name": "ipython",
    "version": 3
   },
   "file_extension": ".py",
   "mimetype": "text/x-python",
   "name": "python",
   "nbconvert_exporter": "python",
   "pygments_lexer": "ipython3",
   "version": "3.10.11"
  }
 },
 "nbformat": 4,
 "nbformat_minor": 5
}
