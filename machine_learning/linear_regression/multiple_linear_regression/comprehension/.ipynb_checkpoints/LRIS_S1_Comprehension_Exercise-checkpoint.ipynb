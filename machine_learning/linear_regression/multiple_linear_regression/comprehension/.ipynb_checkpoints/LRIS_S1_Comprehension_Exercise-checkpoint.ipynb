{
  "cells": [
    {
      "cell_type": "markdown",
      "metadata": {
        "id": "HlGYkJEEhg6c"
      },
      "source": [
        "# Task 1 - Exploratory Data Analysis\n",
        "In this section, you will: \n",
        "- Load the necessary packages required for executing the code\n",
        "- Load the data\n",
        "- Summarize the features in the data set using descriptive statistics\n",
        "- Study the features and their interrelationships using various visualizations"
      ]
    },
    {
      "cell_type": "code",
      "execution_count": null,
      "metadata": {
        "id": "cDUQid21hZ95"
      },
      "outputs": [],
      "source": [
        "# Import 'numpy' and 'pandas' for working with numbers and dataframes\n",
        "import numpy as np\n",
        "import pandas as pd\n",
        "\n",
        "# Import 'matplotlib.pyplot' for visualizations\n",
        "from matplotlib import pyplot as plt\n",
        "import seaborn as sns\n",
        "\n",
        "# Import method for regression from 'statsmodels'\n",
        "import statsmodels.formula.api as smf\n",
        "\n",
        "# Import methods for regression diagnostic plots from 'statsmodels'\n",
        "from statsmodels.api import ProbPlot, qqplot"
      ]
    },
    {
      "cell_type": "code",
      "execution_count": null,
      "metadata": {
        "id": "4dA6hHsUl4pa"
      },
      "outputs": [],
      "source": [
        "# Load the data and take a look at it\n",
        "# Note: Make sure that the data is in the same folder as the Jupyter notebook or specify the address correctly\n",
        "df = pd.read_csv('Ames_Housing_Subset_1.csv', index_col = 'PID')\n",
        "df.head()"
      ]
    },
    {
      "cell_type": "markdown",
      "metadata": {
        "id": "Uz4anjGii-PD"
      },
      "source": [
        "Feature description:\n",
        "- PID: The unique identifier for a property\n",
        "- LotArea: The area in square feet of the lot on which the property is built\n",
        "- Age: The age of the property in years\n",
        "- TotalBsmtSF: The area of the basement of the property in square feet\n",
        "- SalePrice: The current selling price of the property in dollars"
      ]
    },
    {
      "cell_type": "code",
      "execution_count": null,
      "metadata": {
        "id": "Pd54iPq8mBjF"
      },
      "outputs": [],
      "source": [
        "# Look at the specifics of the data frame using the '.info()' command\n",
        "##### CODE HERE #####"
      ]
    },
    {
      "cell_type": "code",
      "execution_count": null,
      "metadata": {
        "id": "tK4Mpzo1mUHo"
      },
      "outputs": [],
      "source": [
        "# Summarize the features in the data set using descriptive statistics using the '.describe()' command\n",
        "##### CODE HERE #####"
      ]
    },
    {
      "cell_type": "code",
      "execution_count": null,
      "metadata": {
        "id": "qujOHtPPmWiX"
      },
      "outputs": [],
      "source": [
        "# Create histograms for the variables 'LotArea', 'Age', 'TotalBsmtSF' and 'SalePrice'\n",
        "plt.figure(figsize = (12, 6))\n",
        "\n",
        "colorname = ['lightblue', 'lightgreen', 'lightgray', 'lightcoral']\n",
        "fignum = 0\n",
        "for featurename in df.columns:\n",
        "    fignum = fignum + 1\n",
        "    plt.subplot(2, 2, fignum)\n",
        "    sns.histplot(data = df, x = featurename, color = colorname[fignum - 1])\n",
        "\n",
        "plt.tight_layout();"
      ]
    },
    {
      "cell_type": "code",
      "execution_count": null,
      "metadata": {
        "id": "2ZD25WzWnMEF"
      },
      "outputs": [],
      "source": [
        "# Create box plots for the variables 'LotArea', 'Age', 'TotalBsmtSF' and 'SalePrice'\n",
        "plt.figure(figsize = (12, 6))\n",
        "\n",
        "colorname = ['lightblue', 'lightgreen', 'lightgray', 'lightcoral']\n",
        "fignum = 0\n",
        "for featurename in df.columns:\n",
        "    fignum = fignum + 1\n",
        "    plt.subplot(2, 2, fignum)\n",
        "    sns.boxplot(data = df, x = featurename, color = colorname[fignum - 1])\n",
        "\n",
        "plt.tight_layout();"
      ]
    },
    {
      "cell_type": "code",
      "execution_count": null,
      "metadata": {
        "id": "uocuqMPSnlkB"
      },
      "outputs": [],
      "source": [
        "# Create a pair plot for the data\n",
        "sns.pairplot(df);"
      ]
    },
    {
      "cell_type": "markdown",
      "metadata": {
        "id": "KD0wxz-noBqw"
      },
      "source": [
        "# Task 2 : Simple Linear Regression\n",
        "In this section, you will train and evaluate the following simple linear regression models:\n",
        "- SalePrice vs LotArea\n",
        "- SalePrice vs Age\n",
        "- SalePrice vs TotalBsmtSF"
      ]
    },
    {
      "cell_type": "markdown",
      "metadata": {
        "id": "zrpIaVUyi-PM"
      },
      "source": [
        "### Model 1"
      ]
    },
    {
      "cell_type": "code",
      "execution_count": null,
      "metadata": {
        "id": "qTPhTxUyoOFU"
      },
      "outputs": [],
      "source": [
        "# Create and train a linear regression model for the data using the 'smf.ols()' method and view its summary\n",
        "# Note: The objective is to predict 'SalePrice' using 'LotArea'\n",
        "lr_model_1 = ##### CODE HERE #####\n",
        "lr_model_1 = ##### CODE HERE #####\n",
        "print(lr_model_1.summary())"
      ]
    },
    {
      "cell_type": "markdown",
      "metadata": {
        "id": "nzYk8FcVi-PP"
      },
      "source": [
        "### Model 2"
      ]
    },
    {
      "cell_type": "code",
      "execution_count": null,
      "metadata": {
        "id": "ogZekczfo3JV"
      },
      "outputs": [],
      "source": [
        "# Create and train a linear regression model for the data using the 'smf.ols()' method and view its summary\n",
        "# Note: The objective is to predict 'SalePrice' using 'Age'\n",
        "lr_model_2 = ##### CODE HERE #####\n",
        "lr_model_2 = ##### CODE HERE #####\n",
        "print(lr_model_2.summary())"
      ]
    },
    {
      "cell_type": "markdown",
      "metadata": {
        "id": "EsmWMIhii-PQ"
      },
      "source": [
        "### Model 3"
      ]
    },
    {
      "cell_type": "code",
      "execution_count": null,
      "metadata": {
        "id": "rL5kQtNYp_Hz"
      },
      "outputs": [],
      "source": [
        "# Create and train a linear regression model for the data using the 'smf.ols()' method and view its summary\n",
        "# Note: The objective is to predict 'SalePrice' using 'TotalBsmtSF'\n",
        "lr_model_3 = ##### CODE HERE #####\n",
        "lr_model_3 = ##### CODE HERE #####\n",
        "print(lr_model_3.summary())"
      ]
    },
    {
      "cell_type": "markdown",
      "metadata": {
        "id": "Ubr9PwXNqTKF"
      },
      "source": [
        "# Task 3 - Multiple Linear Regression\n",
        "In this section, you will train and evaluate the following multiple linear regression models:\n",
        "  - SalePrice vs LotArea and Age\n",
        "  - SalePrice vs LotArea and TotalBsmtSF\n",
        "  - SalePrice vs Age and TotalBsmtSF\n",
        "  - SalePrice vs LotArea, Age and TotalBsmtSF"
      ]
    },
    {
      "cell_type": "markdown",
      "metadata": {
        "id": "D4UwgkeXi-PT"
      },
      "source": [
        "### Model 4"
      ]
    },
    {
      "cell_type": "code",
      "execution_count": null,
      "metadata": {
        "id": "OLni_nNJqPTp"
      },
      "outputs": [],
      "source": [
        "# Create and train a linear regression model for the data using the 'smf.ols()' method and view its summary\n",
        "# Note: The objective is to predict 'SalePrice' using 'LotArea' and 'Age'\n",
        "lr_model_4 = ##### CODE HERE #####\n",
        "lr_model_4 = ##### CODE HERE #####\n",
        "print(lr_model_4.summary())"
      ]
    },
    {
      "cell_type": "markdown",
      "metadata": {
        "id": "sfRMdYgFi-PU"
      },
      "source": [
        "### Model 5"
      ]
    },
    {
      "cell_type": "code",
      "execution_count": null,
      "metadata": {
        "id": "Z3onJAyjsy_q"
      },
      "outputs": [],
      "source": [
        "# Create and train a linear regression model for the data using the 'smf.ols()' method and view its summary\n",
        "# Note: The objective is to predict 'SalePrice' using 'LotArea' and 'TotalBsmtSF'\n",
        "lr_model_5 = ##### CODE HERE #####\n",
        "lr_model_5 = ##### CODE HERE #####\n",
        "print(lr_model_5.summary())"
      ]
    },
    {
      "cell_type": "markdown",
      "metadata": {
        "id": "Anv4lyRLi-PW"
      },
      "source": [
        "### Model 6"
      ]
    },
    {
      "cell_type": "code",
      "execution_count": null,
      "metadata": {
        "id": "_4-YXdcGs95J"
      },
      "outputs": [],
      "source": [
        "# Create and train a linear regression model for the data using the 'smf.ols()' method and view its summary\n",
        "# Note: The objective is to predict 'SalePrice' using 'Age' and 'TotalBsmtSF'\n",
        "lr_model_6 = ##### CODE HERE #####\n",
        "lr_model_6 = ##### CODE HERE #####\n",
        "print(lr_model_6.summary())"
      ]
    },
    {
      "cell_type": "markdown",
      "metadata": {
        "id": "oQW_AkU5i-PY"
      },
      "source": [
        "### Model 7"
      ]
    },
    {
      "cell_type": "code",
      "execution_count": null,
      "metadata": {
        "id": "-i61Z8Fnth6w"
      },
      "outputs": [],
      "source": [
        "# Create and train a linear regression model for the data using the 'smf.ols()' method and view its summary\n",
        "# Note: The objective is to predict 'SalePrice' using 'LotArea', 'Age', and 'TotalBsmtSF'\n",
        "lr_model_7 = ##### CODE HERE #####\n",
        "lr_model_7 = ##### CODE HERE #####\n",
        "print(lr_model_7.summary())"
      ]
    },
    {
      "cell_type": "markdown",
      "metadata": {
        "id": "FXEQRPFFuWjX"
      },
      "source": [
        "# Task 4 - Diagnostic Plots\n",
        "\n",
        "In this section, we will create the following diagnostic plots for *lr_model_7*: \n",
        "- Fitted vs Actual values\n",
        "- Fitted values vs Residuals\n",
        "- QQ-plot"
      ]
    },
    {
      "cell_type": "code",
      "execution_count": null,
      "metadata": {
        "id": "Tef4C-0uude5"
      },
      "outputs": [],
      "source": [
        "# Create a scatter plot between the fitted and actual values of 'SalePrice'\n",
        "plt.figure(figsize = (8, 8))\n",
        "sns.scatterplot(x = lr_model_7.fittedvalues, y = df['SalePrice'])\n",
        "plt.axline((100,100), slope = 1, linestyle = '--', linewidth = 1, color = 'r')\n",
        "plt.xlabel('Fitted Values of SalePrice')\n",
        "plt.ylabel('Actual Values of SalePrice');"
      ]
    },
    {
      "cell_type": "code",
      "execution_count": null,
      "metadata": {
        "id": "qBeMnpAci-Pa"
      },
      "outputs": [],
      "source": [
        "# Create a scatter plot between the fitted values of 'SalePrice' and the residuals\n",
        "plt.figure(figsize = (8, 4))\n",
        "sns.scatterplot(x = lr_model_7.fittedvalues, y = lr_model_7.resid)\n",
        "plt.axhline(y = 0, xmin = 0, xmax = 1, linewidth = 1, color = 'k')\n",
        "plt.xlabel('Fitted Values of SalePrice')\n",
        "plt.ylabel('Residuals');"
      ]
    },
    {
      "cell_type": "code",
      "execution_count": null,
      "metadata": {
        "id": "ZzpWD6sSi-Pb"
      },
      "outputs": [],
      "source": [
        "# Create a histogram of the residuals\n",
        "plt.figure(figsize = (8, 4))\n",
        "sns.histplot(data = df, x = lr_model_7.resid, color = 'lightgray')\n",
        "plt.xlabel('Residual Value')\n",
        "plt.ylabel('Frequency');"
      ]
    },
    {
      "cell_type": "code",
      "execution_count": null,
      "metadata": {
        "id": "DGo2fOU4i-Pe"
      },
      "outputs": [],
      "source": [
        "# Create a QQ plot for the data\n",
        "QQ = ProbPlot(lr_model_7.get_influence().resid_studentized_internal)\n",
        "fig = QQ.qqplot(line = '45', alpha = 0.5, lw = 1)\n",
        "fig.set_size_inches(5, 5)\n",
        "fig.gca().set_title('Normal Q-Q')\n",
        "fig.gca().set_xlabel('Theoretical Quantiles')\n",
        "fig.gca().set_ylabel('Standardized Residuals');"
      ]
    },
    {
      "cell_type": "code",
      "execution_count": null,
      "metadata": {
        "id": "mIz_K1Uli-Pf"
      },
      "outputs": [],
      "source": []
    }
  ],
  "metadata": {
    "colab": {
      "provenance": []
    },
    "kernelspec": {
      "display_name": "Python 3 (ipykernel)",
      "language": "python",
      "name": "python3"
    },
    "language_info": {
      "codemirror_mode": {
        "name": "ipython",
        "version": 3
      },
      "file_extension": ".py",
      "mimetype": "text/x-python",
      "name": "python",
      "nbconvert_exporter": "python",
      "pygments_lexer": "ipython3",
      "version": "3.9.12"
    }
  },
  "nbformat": 4,
  "nbformat_minor": 0
}