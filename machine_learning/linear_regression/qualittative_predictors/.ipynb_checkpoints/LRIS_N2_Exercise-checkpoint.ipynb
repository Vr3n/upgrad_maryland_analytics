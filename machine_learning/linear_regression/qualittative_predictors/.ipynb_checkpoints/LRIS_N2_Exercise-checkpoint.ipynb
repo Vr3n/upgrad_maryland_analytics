{
 "cells": [
  {
   "cell_type": "markdown",
   "metadata": {
    "id": "PPuUFS_rAexT"
   },
   "source": [
    "# Part 1 - Exploratory Data Analysis\n",
    "In this section, we will:\n",
    "- Import necessary packages for executing the code\n",
    "- Load the data\n",
    "- Convert qualitative predictor variables to the *category* data type\n",
    "- Conduct EDA on the data set using various visualizations and pivot tables"
   ]
  },
  {
   "cell_type": "code",
   "execution_count": null,
   "metadata": {
    "executionInfo": {
     "elapsed": 339,
     "status": "ok",
     "timestamp": 1666951726823,
     "user": {
      "displayName": "Akshar Gupta",
      "userId": "03393520324044557957"
     },
     "user_tz": -330
    },
    "id": "Fycm4EiwAexY"
   },
   "outputs": [],
   "source": [
    "# Import 'numpy' and 'pandas' for working with numbers and data frames\n",
    "import numpy as np\n",
    "import pandas as pd\n",
    "\n",
    "# Import 'pyplot' from 'matplotlib' and 'seaborn' for visualizations\n",
    "from matplotlib import pyplot as plt\n",
    "import seaborn as sns"
   ]
  },
  {
   "cell_type": "code",
   "execution_count": null,
   "metadata": {
    "colab": {
     "base_uri": "https://localhost:8080/",
     "height": 206
    },
    "executionInfo": {
     "elapsed": 835,
     "status": "ok",
     "timestamp": 1666951728018,
     "user": {
      "displayName": "Akshar Gupta",
      "userId": "03393520324044557957"
     },
     "user_tz": -330
    },
    "id": "hsKaZh3iAexa",
    "outputId": "b3949ffc-df4d-49a1-87a4-e77386020727"
   },
   "outputs": [],
   "source": [
    "# Load the data and take a look at it\n",
    "df = pd.read_csv('health_nuts_data.csv')\n",
    "df.head()"
   ]
  },
  {
   "cell_type": "markdown",
   "metadata": {
    "id": "tnbWTWRlAexb"
   },
   "source": [
    "Note that the target variable here is *Spending* whereas the other variables are treated as predictors."
   ]
  },
  {
   "cell_type": "code",
   "execution_count": null,
   "metadata": {
    "colab": {
     "base_uri": "https://localhost:8080/"
    },
    "executionInfo": {
     "elapsed": 22,
     "status": "ok",
     "timestamp": 1666951728019,
     "user": {
      "displayName": "Akshar Gupta",
      "userId": "03393520324044557957"
     },
     "user_tz": -330
    },
    "id": "NGM2_PPoAexc",
    "outputId": "3a946063-5461-4b04-baec-2b8697aaa1ed"
   },
   "outputs": [],
   "source": [
    "# Look at the specifics of the data frame\n",
    "df.info()"
   ]
  },
  {
   "cell_type": "markdown",
   "metadata": {
    "id": "ClAo9_eSAtYX"
   },
   "source": [
    "Note that *Salary*, *Age* and *Spending* are numeric variables whereas the others are of the data type *object*."
   ]
  },
  {
   "cell_type": "code",
   "execution_count": null,
   "metadata": {
    "executionInfo": {
     "elapsed": 15,
     "status": "ok",
     "timestamp": 1666951728020,
     "user": {
      "displayName": "Akshar Gupta",
      "userId": "03393520324044557957"
     },
     "user_tz": -330
    },
    "id": "um_oXrWzAexd"
   },
   "outputs": [],
   "source": [
    "# Convert qualitative predictors to the 'category' data type\n",
    "categorical_columns = ['State', 'Gender', 'Marital Status', 'Repeat', 'Type', 'Coupon']\n",
    "df[categorical_columns] = df[categorical_columns].astype('category')"
   ]
  },
  {
   "cell_type": "code",
   "execution_count": null,
   "metadata": {
    "colab": {
     "base_uri": "https://localhost:8080/"
    },
    "executionInfo": {
     "elapsed": 14,
     "status": "ok",
     "timestamp": 1666951728020,
     "user": {
      "displayName": "Akshar Gupta",
      "userId": "03393520324044557957"
     },
     "user_tz": -330
    },
    "id": "AJcT7ZZzAexe",
    "outputId": "c27c7bb5-7f14-45d7-d89b-ac9a6a7d0adf"
   },
   "outputs": [],
   "source": [
    "# Look at the specifics of the data frame\n",
    "df.info()"
   ]
  },
  {
   "cell_type": "markdown",
   "metadata": {
    "id": "V7atVEYlAxiL"
   },
   "source": [
    "Note that the qualitative variables are now of the *category* data type."
   ]
  },
  {
   "cell_type": "markdown",
   "metadata": {
    "id": "Ei_u3FcBAexe"
   },
   "source": [
    "## EDA: Visualizations"
   ]
  },
  {
   "cell_type": "code",
   "execution_count": null,
   "metadata": {
    "colab": {
     "base_uri": "https://localhost:8080/",
     "height": 441
    },
    "executionInfo": {
     "elapsed": 926,
     "status": "ok",
     "timestamp": 1666951728938,
     "user": {
      "displayName": "Akshar Gupta",
      "userId": "03393520324044557957"
     },
     "user_tz": -330
    },
    "id": "gaLY5nWJAexf",
    "outputId": "991f11ab-d180-452a-daf5-7ddbeb085da6"
   },
   "outputs": [],
   "source": [
    "# Create count plots for the categorical variables\n",
    "plt.figure(figsize = (14, 6))\n",
    "\n",
    "fignum = 0\n",
    "for featurename in categorical_columns:\n",
    "    fignum = fignum + 1\n",
    "    plt.subplot(2, 3, fignum)\n",
    "    sns.countplot(data = df, x = featurename)\n",
    "    \n",
    "plt.tight_layout();"
   ]
  },
  {
   "cell_type": "markdown",
   "metadata": {
    "id": "EN4XmVo3A8aX"
   },
   "source": [
    "Count plots are useful to get a sense of the distribution of occurence of the different levels of categorical variables in the data set."
   ]
  },
  {
   "cell_type": "code",
   "execution_count": null,
   "metadata": {
    "colab": {
     "base_uri": "https://localhost:8080/",
     "height": 441
    },
    "executionInfo": {
     "elapsed": 714,
     "status": "ok",
     "timestamp": 1666951729648,
     "user": {
      "displayName": "Akshar Gupta",
      "userId": "03393520324044557957"
     },
     "user_tz": -330
    },
    "id": "gk7yt4OIAexg",
    "outputId": "ab33167c-58d2-46a7-9796-69a9a69a6508"
   },
   "outputs": [],
   "source": [
    "# Create bar plots for the categorical variables with 'Spending' on the Y-axis\n",
    "plt.figure(figsize = (14, 6))\n",
    "\n",
    "fignum = 0\n",
    "for featurename in categorical_columns:\n",
    "    fignum = fignum + 1\n",
    "    plt.subplot(2, 3, fignum)\n",
    "    sns.barplot(x = df[featurename], y = df['Spending'], ci = None)\n",
    "    \n",
    "plt.tight_layout();"
   ]
  },
  {
   "cell_type": "markdown",
   "metadata": {
    "id": "j9rQXnZKBBER"
   },
   "source": [
    "The bar plots here help us compare the value of the *Spending* variable between different levels of categorical variables."
   ]
  },
  {
   "cell_type": "code",
   "execution_count": null,
   "metadata": {
    "colab": {
     "base_uri": "https://localhost:8080/",
     "height": 550
    },
    "executionInfo": {
     "elapsed": 2565,
     "status": "ok",
     "timestamp": 1666951732209,
     "user": {
      "displayName": "Akshar Gupta",
      "userId": "03393520324044557957"
     },
     "user_tz": -330
    },
    "id": "q_rvUsb-Aexg",
    "outputId": "fd8d1756-b5ea-4e97-c299-3b286c042462"
   },
   "outputs": [],
   "source": [
    "# Create a pair plot for the numerical features in the data set\n",
    "sns.pairplot(df);"
   ]
  },
  {
   "cell_type": "code",
   "execution_count": null,
   "metadata": {
    "colab": {
     "base_uri": "https://localhost:8080/",
     "height": 334
    },
    "executionInfo": {
     "elapsed": 1482,
     "status": "ok",
     "timestamp": 1666951733687,
     "user": {
      "displayName": "Akshar Gupta",
      "userId": "03393520324044557957"
     },
     "user_tz": -330
    },
    "id": "KAXw8OBhAexh",
    "outputId": "19671098-7ab2-45fe-e46c-5936f9db1520"
   },
   "outputs": [],
   "source": [
    "# Create scatter plots of 'Spending' versus 'Salary', one colored by 'Gender' and the other by 'Repeat'\n",
    "plt.figure(figsize = (14, 5))\n",
    "plt.subplot(1, 2, 1)\n",
    "sns.scatterplot(data = df, x = 'Salary', y = 'Spending', hue = 'Gender')\n",
    "plt.subplot(1, 2, 2)\n",
    "sns.scatterplot(data = df, x = 'Salary', y = 'Spending', hue = 'Repeat');"
   ]
  },
  {
   "cell_type": "markdown",
   "metadata": {
    "id": "JZ2xmlFlBQN6"
   },
   "source": [
    "It is interesting to note that the people with higher salaries and lower spendings are men whereas the people with lower salaries and higher spendings are women."
   ]
  },
  {
   "cell_type": "markdown",
   "metadata": {
    "id": "yzAdvirqAexh"
   },
   "source": [
    "## EDA: Pivot Tables"
   ]
  },
  {
   "cell_type": "code",
   "execution_count": null,
   "metadata": {
    "colab": {
     "base_uri": "https://localhost:8080/",
     "height": 175
    },
    "executionInfo": {
     "elapsed": 46,
     "status": "ok",
     "timestamp": 1666951733688,
     "user": {
      "displayName": "Akshar Gupta",
      "userId": "03393520324044557957"
     },
     "user_tz": -330
    },
    "id": "yz60PVF5Aexh",
    "outputId": "21298504-9e3d-40cb-db0d-7f37f1a02975"
   },
   "outputs": [],
   "source": [
    "# Create a pivot table of count of 'Spending' with respect to 'Gender' and 'Repeat'\n",
    "pd.pivot_table(data = df, values = 'Spending', index = 'Gender', columns = 'Repeat', aggfunc = 'count', margins = True)"
   ]
  },
  {
   "cell_type": "markdown",
   "metadata": {
    "id": "_IS0DYxZBWU7"
   },
   "source": [
    "The entries in this pivot table are counts or frequencies of occurence of the different levels of the categorical variables *Gender* and *Repeat*."
   ]
  },
  {
   "cell_type": "code",
   "execution_count": null,
   "metadata": {
    "colab": {
     "base_uri": "https://localhost:8080/",
     "height": 175
    },
    "executionInfo": {
     "elapsed": 45,
     "status": "ok",
     "timestamp": 1666951733688,
     "user": {
      "displayName": "Akshar Gupta",
      "userId": "03393520324044557957"
     },
     "user_tz": -330
    },
    "id": "5pZgn7JVAexi",
    "outputId": "d730cefe-7d0e-4821-81c2-0ac2e8e2ee16"
   },
   "outputs": [],
   "source": [
    "# Create a pivot table of mean 'Spending' with respect to 'Gender' and 'Coupon'\n",
    "pd.pivot_table(data = df, values = 'Spending', index = 'Gender', columns = 'Coupon', aggfunc = 'mean', margins = True)"
   ]
  },
  {
   "cell_type": "markdown",
   "metadata": {
    "id": "S77_m255BY0w"
   },
   "source": [
    "The entries in this pivot table are mean *Spending* values for the different divisions in the table."
   ]
  },
  {
   "cell_type": "code",
   "execution_count": null,
   "metadata": {
    "colab": {
     "base_uri": "https://localhost:8080/",
     "height": 334
    },
    "executionInfo": {
     "elapsed": 45,
     "status": "ok",
     "timestamp": 1666951733689,
     "user": {
      "displayName": "Akshar Gupta",
      "userId": "03393520324044557957"
     },
     "user_tz": -330
    },
    "id": "WLyQFKAtAexi",
    "outputId": "0bca5d30-4bd5-4ec4-f698-741d8efa7394"
   },
   "outputs": [],
   "source": [
    "# Create a bar plot corresponding to the pivot table above\n",
    "plt.figure(figsize = (8, 4))\n",
    "sns.barplot(data = df, x = 'Gender', y = 'Spending', hue = 'Coupon', ci = None);"
   ]
  },
  {
   "cell_type": "markdown",
   "metadata": {
    "id": "J4HjzhpBAexj"
   },
   "source": [
    "# Part 2 - Linear Regression Models\n",
    "In this section, we will:\n",
    "- Import necessary packages for executing the code\n",
    "- Train and evaluate linear regression models for the data"
   ]
  },
  {
   "cell_type": "code",
   "execution_count": null,
   "metadata": {
    "executionInfo": {
     "elapsed": 43,
     "status": "ok",
     "timestamp": 1666951733689,
     "user": {
      "displayName": "Akshar Gupta",
      "userId": "03393520324044557957"
     },
     "user_tz": -330
    },
    "id": "BU-aUCn-Aexj"
   },
   "outputs": [],
   "source": [
    "# Import method for regression from 'statsmodels'\n",
    "import statsmodels.formula.api as smf"
   ]
  },
  {
   "cell_type": "markdown",
   "metadata": {
    "id": "kBst_dI-Aexj"
   },
   "source": [
    "## Model 1"
   ]
  },
  {
   "cell_type": "code",
   "execution_count": null,
   "metadata": {
    "colab": {
     "base_uri": "https://localhost:8080/"
    },
    "executionInfo": {
     "elapsed": 43,
     "status": "ok",
     "timestamp": 1666951733689,
     "user": {
      "displayName": "Akshar Gupta",
      "userId": "03393520324044557957"
     },
     "user_tz": -330
    },
    "id": "6mUdCzMwAexj",
    "outputId": "19648e61-3a1a-4dd1-f66c-1a1ecd156f89"
   },
   "outputs": [],
   "source": [
    "# Create and train a linear regression model for the data and view its summary\n",
    "# Note: The objective is to predict 'Spending' using 'Gender'\n",
    "lr_model_1 = ##### CODE HERE #####\n",
    "lr_model_1 = ##### CODE HERE #####\n",
    "print(##### CODE HERE #####)"
   ]
  },
  {
   "cell_type": "markdown",
   "metadata": {
    "id": "M99GQ3M4Aexj"
   },
   "source": [
    "According to this model:\n",
    "- Men spend 37 dollars less than women on average\n",
    "- The p-value for *Gender[T.Male]* here is less than 0.05, so *Gender* is statistically significant in explaining the variation in *Spending*\n",
    "- About 50% of the variation in *Spending* is explained by *Gender*\n",
    "\n",
    "Note that the base or reference category for this model is *Female*, so the average spending of women is recorded as the intercept of the model."
   ]
  },
  {
   "cell_type": "markdown",
   "metadata": {},
   "source": [
    "We can confirm the average spending values of men and women using the following pivot table."
   ]
  },
  {
   "cell_type": "code",
   "execution_count": null,
   "metadata": {
    "colab": {
     "base_uri": "https://localhost:8080/",
     "height": 175
    },
    "executionInfo": {
     "elapsed": 41,
     "status": "ok",
     "timestamp": 1666951733689,
     "user": {
      "displayName": "Akshar Gupta",
      "userId": "03393520324044557957"
     },
     "user_tz": -330
    },
    "id": "1dT7h1I9Aexk",
    "outputId": "355813a2-d197-4900-93e1-7d2a541ba3e5"
   },
   "outputs": [],
   "source": [
    "# Create a pivot table of mean 'Spending' with respect to 'Gender'\n",
    "table = pd.pivot_table(data = df, values = 'Spending', index = 'Gender', aggfunc = 'mean', margins = True)\n",
    "table"
   ]
  },
  {
   "cell_type": "code",
   "execution_count": null,
   "metadata": {
    "colab": {
     "base_uri": "https://localhost:8080/"
    },
    "executionInfo": {
     "elapsed": 41,
     "status": "ok",
     "timestamp": 1666951733690,
     "user": {
      "displayName": "Akshar Gupta",
      "userId": "03393520324044557957"
     },
     "user_tz": -330
    },
    "id": "Ooe7unxUAexk",
    "outputId": "417f0a58-86e4-404f-dee5-facb91007637"
   },
   "outputs": [],
   "source": [
    "# Compute the difference between the average spending of men and women\n",
    "table.Spending[0] - table.Spending[1]"
   ]
  },
  {
   "cell_type": "markdown",
   "metadata": {
    "id": "sPyHo8iAAexk"
   },
   "source": [
    "The difference between average spending of men and women is about 37.0708 dollars, which is the same as the value computed earlier."
   ]
  },
  {
   "cell_type": "markdown",
   "metadata": {
    "id": "zBRYUcM_Aexk"
   },
   "source": [
    "## Model 2"
   ]
  },
  {
   "cell_type": "code",
   "execution_count": null,
   "metadata": {},
   "outputs": [],
   "source": [
    "# Create a data frame with dummy variables for 'Gender' and take a look at it\n",
    "df_dummy = pd.get_dummies(df['Gender'])\n",
    "df_dummy['Spending'] = df['Spending']\n",
    "df_dummy.head()"
   ]
  },
  {
   "cell_type": "code",
   "execution_count": null,
   "metadata": {},
   "outputs": [],
   "source": [
    "# Create and train a linear regression model for the data and view its summary\n",
    "# Note: The objective is to predict 'Spending' using 'Male'\n",
    "lr_model_2 = ##### CODE HERE #####\n",
    "lr_model_2 = ##### CODE HERE #####\n",
    "print(##### CODE HERE #####)"
   ]
  },
  {
   "cell_type": "markdown",
   "metadata": {},
   "source": [
    "It is easy to see that *lr_model_2* is exactly the same as *lr_model_1*."
   ]
  },
  {
   "cell_type": "markdown",
   "metadata": {},
   "source": [
    "## Model 3"
   ]
  },
  {
   "cell_type": "code",
   "execution_count": null,
   "metadata": {},
   "outputs": [],
   "source": [
    "# Create and train a linear regression model for the data and view its summary\n",
    "# Note: The objective is to predict 'Spending' using 'Gender' with 'Male' as the reference category\n",
    "df['Gender'] = ##### CODE HERE #####\n",
    "lr_model_3 = ##### CODE HERE #####\n",
    "lr_model_3 = ##### CODE HERE #####\n",
    "print(##### CODE HERE #####)"
   ]
  },
  {
   "cell_type": "markdown",
   "metadata": {},
   "source": [
    "The models *lr_model_1* or (*lr_model_2*) and *lr_model_3* are essentially the same. The only difference lies in which category of the *Gender* variable was set as the reference category. The coefficient's value has remained the same while its sign has changed."
   ]
  },
  {
   "cell_type": "markdown",
   "metadata": {},
   "source": [
    "## Model 4"
   ]
  },
  {
   "cell_type": "code",
   "execution_count": null,
   "metadata": {},
   "outputs": [],
   "source": [
    "# Create a data frame with dummy variables for 'Gender' and take a look at it\n",
    "# Note: The base category for 'Gender' in the original data frame is currently 'Male'\n",
    "df_dummy = pd.get_dummies(df['Gender'])\n",
    "df_dummy['Spending'] = df['Spending']\n",
    "df_dummy.head()"
   ]
  },
  {
   "cell_type": "code",
   "execution_count": null,
   "metadata": {},
   "outputs": [],
   "source": [
    "# Create and train a linear regression model for the data and view its summary\n",
    "# Note: The objective is to predict 'Spending' using 'Male'\n",
    "lr_model_4 = ##### CODE HERE #####\n",
    "lr_model_4 = ##### CODE HERE #####\n",
    "print(##### CODE HERE #####)"
   ]
  },
  {
   "cell_type": "markdown",
   "metadata": {},
   "source": [
    "It is easy to see that *lr_model_4* is exactly the same as *lr_model_1* and *lr_model_2*."
   ]
  },
  {
   "cell_type": "markdown",
   "metadata": {},
   "source": [
    "Let's switch back to the original category ordering for the *Gender* feature."
   ]
  },
  {
   "cell_type": "code",
   "execution_count": null,
   "metadata": {},
   "outputs": [],
   "source": [
    "# Set the base category of 'Gender' to 'Female'\n",
    "df['Gender'] = ##### CODE HERE #####"
   ]
  },
  {
   "cell_type": "markdown",
   "metadata": {},
   "source": [
    "## Model 5"
   ]
  },
  {
   "cell_type": "code",
   "execution_count": null,
   "metadata": {},
   "outputs": [],
   "source": [
    "# Create and train a linear regression model for the data and view its summary\n",
    "# Note: The objective is to predict 'Spending' using 'Coupon' with 'None' as the reference category\n",
    "df['Coupon'] = ##### CODE HERE #####\n",
    "lr_model_5 = ##### CODE HERE #####\n",
    "lr_model_5 = ##### CODE HERE #####\n",
    "print(##### CODE HERE #####)"
   ]
  },
  {
   "cell_type": "markdown",
   "metadata": {},
   "source": [
    "According to this model:\n",
    "- People who did not receive or use a coupon spent about 124.53 dollars on average\n",
    "- People who used a coupon that arrived by the USPS spent on average about 9.35 dollars less than those who did not receive or use a coupon\n",
    "- People who used a coupon that arrived by email spent on average about 4.4 dollars more than those who did not receive or use a coupon\n",
    "- About 4% of the variation in *Spending* is explained by *Coupon*"
   ]
  },
  {
   "cell_type": "markdown",
   "metadata": {},
   "source": [
    "We can confirm the average spending values broken up by *Coupon* using the following pivot table."
   ]
  },
  {
   "cell_type": "code",
   "execution_count": null,
   "metadata": {},
   "outputs": [],
   "source": [
    "# Create a pivot table of mean 'Spending' with respect to 'Coupon'\n",
    "pd.pivot_table(data = df, values = 'Spending', index = 'Coupon', aggfunc = 'mean', margins = True)"
   ]
  },
  {
   "cell_type": "markdown",
   "metadata": {},
   "source": [
    "## Model 6"
   ]
  },
  {
   "cell_type": "code",
   "execution_count": null,
   "metadata": {},
   "outputs": [],
   "source": [
    "# Create and train a linear regression model for the data and view its summary\n",
    "# Note: The objective is to predict 'Spending' using 'Salary'\n",
    "lr_model_6 = ##### CODE HERE #####\n",
    "lr_model_6 = ##### CODE HERE #####\n",
    "print(##### CODE HERE #####)"
   ]
  },
  {
   "cell_type": "markdown",
   "metadata": {
    "id": "2jJHNUGRCBww"
   },
   "source": [
    "According to this model:\n",
    "- People with higher salaries generally spend less\n",
    "- *Salary* is statistically significant\n",
    "- About 23% of the variation in *Spending* is explained by *Salary*"
   ]
  },
  {
   "cell_type": "markdown",
   "metadata": {
    "id": "YKrnzSc-C6cE"
   },
   "source": [
    "## Model 7"
   ]
  },
  {
   "cell_type": "code",
   "execution_count": null,
   "metadata": {
    "colab": {
     "base_uri": "https://localhost:8080/"
    },
    "executionInfo": {
     "elapsed": 30,
     "status": "ok",
     "timestamp": 1666951733692,
     "user": {
      "displayName": "Akshar Gupta",
      "userId": "03393520324044557957"
     },
     "user_tz": -330
    },
    "id": "HvPK2MuIDJNS",
    "outputId": "c26e8bb2-d203-4279-a6f6-e2ca76652d06"
   },
   "outputs": [],
   "source": [
    "# Create and train a linear regression model for the data and view its summary\n",
    "# Note: The objective is to predict 'Spending' using 'Salary' and 'Gender'\n",
    "lr_model_7 = ##### CODE HERE #####\n",
    "lr_model_7 = ##### CODE HERE #####\n",
    "print(##### CODE HERE #####)"
   ]
  },
  {
   "cell_type": "markdown",
   "metadata": {
    "id": "FL4bCG8pAexl"
   },
   "source": [
    "According to this model:\n",
    "- Women in general spend more than men regardless of salary\n",
    "- *Gender* is statistically significant whereas *Salary* is not\n",
    "- About 50% of the variation in *Spending* is explained by *Salary* and *Gender*"
   ]
  },
  {
   "cell_type": "code",
   "execution_count": null,
   "metadata": {},
   "outputs": [],
   "source": [
    "# Create scatter plots of 'Spending' versus 'Salary', one colored by 'Gender' and the other without any categorical division\n",
    "plt.figure(figsize = (14, 5))\n",
    "plt.subplot(1, 2, 1)\n",
    "sns.scatterplot(data = df, x = 'Salary', y = 'Spending')\n",
    "plt.subplot(1, 2, 2)\n",
    "sns.scatterplot(data = df, x = 'Salary', y = 'Spending', hue = 'Gender');"
   ]
  },
  {
   "cell_type": "markdown",
   "metadata": {},
   "source": [
    "If *Gender* is not accounted for, there seems to be a negative correlation between *Salary* and *Spending*. But if *Gender* is accounted for, there seems to be no particular correlation between *Salary* and *Spending*."
   ]
  },
  {
   "cell_type": "markdown",
   "metadata": {},
   "source": [
    "## Model 8"
   ]
  },
  {
   "cell_type": "code",
   "execution_count": null,
   "metadata": {},
   "outputs": [],
   "source": [
    "# Create and train a linear regression model for the data and view its summary\n",
    "# Note: The objective is to predict 'Spending' using 'Age' and 'Gender'\n",
    "lr_model_8 = ##### CODE HERE #####\n",
    "lr_model_8 = ##### CODE HERE #####\n",
    "print(##### CODE HERE #####)"
   ]
  },
  {
   "cell_type": "markdown",
   "metadata": {},
   "source": [
    "According to this model:\n",
    "- Older people tend to spend less\n",
    "- Both *Age* and *Gender* are statistically significant\n",
    "- About 58% of the variation in *Spending* is explained by *Age* and *Gender*"
   ]
  },
  {
   "cell_type": "markdown",
   "metadata": {},
   "source": [
    "## Model 9"
   ]
  },
  {
   "cell_type": "code",
   "execution_count": null,
   "metadata": {},
   "outputs": [],
   "source": [
    "# Create and train a linear regression model for the data and view its summary\n",
    "# Note: The objective is to predict 'Spending' using all the predictor variables in the data set except 'State'\n",
    "lr_model_9 = ##### CODE HERE #####\n",
    "lr_model_9 = ##### CODE HERE #####\n",
    "print(##### CODE HERE #####)"
   ]
  },
  {
   "cell_type": "markdown",
   "metadata": {},
   "source": [
    "# Part 3 - Diagnostic Plots\n",
    "In this section, we will:\n",
    "- Import necessary packages for executing the code\n",
    "- Create and analyze diagnostic plots for *lr_model_9*"
   ]
  },
  {
   "cell_type": "code",
   "execution_count": null,
   "metadata": {},
   "outputs": [],
   "source": [
    "# Import methods for regression diagnostic plots from 'statsmodels'\n",
    "from statsmodels.api import ProbPlot, qqplot"
   ]
  },
  {
   "cell_type": "code",
   "execution_count": null,
   "metadata": {},
   "outputs": [],
   "source": [
    "# Create a scatter plot between the fitted and actual values of 'Spending'\n",
    "plt.figure(figsize = (5, 5))\n",
    "sns.scatterplot(x = lr_model_9.fittedvalues, y = df['Spending'])\n",
    "plt.axline((100,100), slope = 1, linestyle = '--', linewidth = 1, color = 'r')\n",
    "plt.xlabel('Fitted Values of Spending')\n",
    "plt.ylabel('Actual Values of Spending');"
   ]
  },
  {
   "cell_type": "code",
   "execution_count": null,
   "metadata": {},
   "outputs": [],
   "source": [
    "# Create a scatter plot between the fitted values of 'Spending' and the residuals\n",
    "plt.figure(figsize = (8, 4))\n",
    "sns.scatterplot(x = lr_model_9.fittedvalues, y = lr_model_9.resid)\n",
    "plt.axhline(y = 0, xmin = 0, xmax = 1, linewidth = 1, color = 'k')\n",
    "plt.xlabel('Fitted Values of Spending')\n",
    "plt.ylabel('Residuals');"
   ]
  },
  {
   "cell_type": "code",
   "execution_count": null,
   "metadata": {},
   "outputs": [],
   "source": [
    "# Create a histogram of the residuals\n",
    "plt.figure(figsize = (8, 4))\n",
    "sns.histplot(data = df, x = lr_model_9.resid, color = 'lightgray')\n",
    "plt.xlabel('Residual Value')\n",
    "plt.ylabel('Frequency');"
   ]
  },
  {
   "cell_type": "code",
   "execution_count": null,
   "metadata": {},
   "outputs": [],
   "source": [
    "# Create a QQ plot for the data\n",
    "QQ = ProbPlot(lr_model_9.get_influence().resid_studentized_internal)\n",
    "fig = QQ.qqplot(line = '45', alpha = 0.5, lw = 1)\n",
    "fig.set_size_inches(5, 5)\n",
    "fig.gca().set_title('Normal Q-Q')\n",
    "fig.gca().set_xlabel('Theoretical Quantiles')\n",
    "fig.gca().set_ylabel('Standardized Residuals');"
   ]
  },
  {
   "cell_type": "code",
   "execution_count": null,
   "metadata": {},
   "outputs": [],
   "source": []
  }
 ],
 "metadata": {
  "colab": {
   "provenance": []
  },
  "kernelspec": {
   "display_name": "Python 3 (ipykernel)",
   "language": "python",
   "name": "python3"
  },
  "language_info": {
   "codemirror_mode": {
    "name": "ipython",
    "version": 3
   },
   "file_extension": ".py",
   "mimetype": "text/x-python",
   "name": "python",
   "nbconvert_exporter": "python",
   "pygments_lexer": "ipython3",
   "version": "3.9.12"
  }
 },
 "nbformat": 4,
 "nbformat_minor": 1
}
