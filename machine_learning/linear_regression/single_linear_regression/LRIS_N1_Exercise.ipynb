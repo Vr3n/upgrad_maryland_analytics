{
 "cells": [
  {
   "cell_type": "markdown",
   "metadata": {
    "id": "CD9h3hCtsC-S"
   },
   "source": [
    "# Part 1 - Exploratory Data Analysis\n",
    "In this section, we will:\n",
    "- Import necessary packages for executing the code\n",
    "- Load the data\n",
    "- Summarize the features in the data using descriptive statistics\n",
    "- Study the features in the data set and their interrelationships using various visualizations"
   ]
  },
  {
   "cell_type": "code",
   "execution_count": null,
   "metadata": {},
   "outputs": [],
   "source": [
    "# Import 'numpy' and 'pandas' for working with numbers and data frames\n",
    "import numpy as np\n",
    "import pandas as pd\n",
    "\n",
    "# Import 'pyplot' from 'matplotlib' and 'seaborn' for visualizations\n",
    "from matplotlib import pyplot as plt\n",
    "import seaborn as sns"
   ]
  },
  {
   "cell_type": "code",
   "execution_count": null,
   "metadata": {},
   "outputs": [],
   "source": [
    "# Load the data and take a look at it\n",
    "df = pd.read_csv('kool_karma_data.csv', index_col = 'District')\n",
    "df.head()"
   ]
  },
  {
   "cell_type": "markdown",
   "metadata": {},
   "source": [
    "The features *ADVT*, *INCOME* and *SALES* are shown in units of thousands of dollars. Note that the target variable here is *SALES* whereas the *ADVT* and *INCOME* variables are treated as predictors."
   ]
  },
  {
   "cell_type": "code",
   "execution_count": null,
   "metadata": {},
   "outputs": [],
   "source": [
    "# Look at the specifics of the data frame\n",
    "df.info()"
   ]
  },
  {
   "cell_type": "code",
   "execution_count": null,
   "metadata": {
    "colab": {
     "base_uri": "https://localhost:8080/",
     "height": 300
    },
    "executionInfo": {
     "elapsed": 29,
     "status": "ok",
     "timestamp": 1666844860964,
     "user": {
      "displayName": "Akshar Gupta",
      "userId": "03393520324044557957"
     },
     "user_tz": -330
    },
    "id": "VpHp2FJPpzk6",
    "outputId": "e55a7b14-3c41-4254-9787-6922a06a3228"
   },
   "outputs": [],
   "source": [
    "# Summarize the features in the data set using descriptive statistics\n",
    "df.describe().transpose()"
   ]
  },
  {
   "cell_type": "code",
   "execution_count": null,
   "metadata": {
    "colab": {
     "base_uri": "https://localhost:8080/",
     "height": 296
    },
    "executionInfo": {
     "elapsed": 28,
     "status": "ok",
     "timestamp": 1666844860966,
     "user": {
      "displayName": "Akshar Gupta",
      "userId": "03393520324044557957"
     },
     "user_tz": -330
    },
    "id": "eXk4RYQXrA6w",
    "outputId": "916b6a86-a0b4-412e-b3d9-49fd0777505a"
   },
   "outputs": [],
   "source": [
    "# Create histograms for the variables 'ADVT', 'INCOME' and 'SALES'\n",
    "plt.figure(figsize = (12, 4))\n",
    "plt.subplot(1, 3, 1)\n",
    "sns.histplot(data = df, x = 'ADVT', color = 'lightblue')\n",
    "plt.subplot(1, 3, 2)\n",
    "sns.histplot(data = df, x = 'INCOME', color = 'lightgreen')\n",
    "plt.subplot(1, 3, 3)\n",
    "sns.histplot(data = df, x = 'SALES', color = 'lightgray')\n",
    "\n",
    "plt.tight_layout();"
   ]
  },
  {
   "cell_type": "markdown",
   "metadata": {},
   "source": [
    "The distribution of *SALES* (the dependent variable) looks somewhat normal."
   ]
  },
  {
   "cell_type": "code",
   "execution_count": null,
   "metadata": {},
   "outputs": [],
   "source": [
    "# Create box plots for the variables 'ADVT', 'INCOME' and 'SALES'\n",
    "plt.figure(figsize = (12, 4))\n",
    "plt.subplot(1, 3, 1)\n",
    "sns.boxplot(data = df, x = 'ADVT', color = 'lightblue')\n",
    "plt.subplot(1, 3, 2)\n",
    "sns.boxplot(data = df, x = 'INCOME', color = 'lightgreen')\n",
    "plt.subplot(1, 3, 3)\n",
    "sns.boxplot(data = df, x = 'SALES', color = 'lightgray')\n",
    "\n",
    "plt.tight_layout();"
   ]
  },
  {
   "cell_type": "markdown",
   "metadata": {},
   "source": [
    "The box plot of *SALES* also shows that the values are somewhat symmetrically distributed about the median value, whereas there is some skew in the box plots of *ADVT* and *INCOME*."
   ]
  },
  {
   "cell_type": "code",
   "execution_count": null,
   "metadata": {},
   "outputs": [],
   "source": [
    "# Create scatter plots for 'ADVT' versus 'SALES', 'INCOME' versus 'SALES' and 'INCOME' versus 'ADVT'\n",
    "plt.figure(figsize = (12, 4))\n",
    "plt.subplot(1, 3, 1)\n",
    "sns.scatterplot(data = df, x = 'ADVT', y = 'SALES')\n",
    "plt.subplot(1, 3, 2)\n",
    "sns.scatterplot(data = df, x = 'INCOME', y = 'SALES')\n",
    "plt.subplot(1, 3, 3)\n",
    "sns.scatterplot(data = df, x = 'INCOME', y = 'ADVT')\n",
    "\n",
    "plt.tight_layout();"
   ]
  },
  {
   "cell_type": "markdown",
   "metadata": {},
   "source": [
    "There appears to be greater advertising in districts with greater income."
   ]
  },
  {
   "cell_type": "code",
   "execution_count": null,
   "metadata": {
    "colab": {
     "base_uri": "https://localhost:8080/",
     "height": 300
    },
    "executionInfo": {
     "elapsed": 28,
     "status": "ok",
     "timestamp": 1666844861438,
     "user": {
      "displayName": "Akshar Gupta",
      "userId": "03393520324044557957"
     },
     "user_tz": -330
    },
    "id": "oNggQ8HztfFg",
    "outputId": "2046d327-c526-4269-a9ba-4157fbd1f93c"
   },
   "outputs": [],
   "source": [
    "# Create a scatter plot of 'ADVT' versus 'SALES'\n",
    "plt.figure(figsize = (8, 4))\n",
    "sns.scatterplot(data = df, x = 'ADVT', y = 'SALES')\n",
    "plt.xlim((7, 14))\n",
    "plt.ylim((60, 180));"
   ]
  },
  {
   "cell_type": "markdown",
   "metadata": {},
   "source": [
    "The scatter plot between *ADVT* and *SALES* shows a generally positive correlation between the two variables."
   ]
  },
  {
   "cell_type": "code",
   "execution_count": null,
   "metadata": {
    "colab": {
     "base_uri": "https://localhost:8080/",
     "height": 300
    },
    "executionInfo": {
     "elapsed": 705,
     "status": "ok",
     "timestamp": 1666844862122,
     "user": {
      "displayName": "Akshar Gupta",
      "userId": "03393520324044557957"
     },
     "user_tz": -330
    },
    "id": "uAahmiKcu7zP",
    "outputId": "61d5f34b-02a4-4c3f-b126-106ece83c819"
   },
   "outputs": [],
   "source": [
    "# Create a scatter plot of 'ADVT' versus 'SALES' and show the regression line\n",
    "plt.figure(figsize = (8, 4))\n",
    "sns.regplot(data = df, x = 'ADVT', y = 'SALES', line_kws = {'color': 'red'})\n",
    "plt.xlim((7, 14))\n",
    "plt.ylim((60, 180));"
   ]
  },
  {
   "cell_type": "markdown",
   "metadata": {},
   "source": [
    "Note the simple linear regression line that has been fit to the data points."
   ]
  },
  {
   "cell_type": "code",
   "execution_count": null,
   "metadata": {
    "colab": {
     "base_uri": "https://localhost:8080/",
     "height": 567
    },
    "executionInfo": {
     "elapsed": 2161,
     "status": "ok",
     "timestamp": 1666844864275,
     "user": {
      "displayName": "Akshar Gupta",
      "userId": "03393520324044557957"
     },
     "user_tz": -330
    },
    "id": "U8UZ_eaPTK7J",
    "outputId": "8f603e7f-b0f3-416d-92ba-75decb001748"
   },
   "outputs": [],
   "source": [
    "# Create a pair plot for the data\n",
    "sns.pairplot(df);"
   ]
  },
  {
   "cell_type": "markdown",
   "metadata": {},
   "source": [
    "Pair plots are useful in viewing a summary of all the numerical variables in a data set at a glance."
   ]
  },
  {
   "cell_type": "code",
   "execution_count": null,
   "metadata": {},
   "outputs": [],
   "source": [
    "# Compute the correlation matrix for the data set\n",
    "np.round(df.corr(), 2)"
   ]
  },
  {
   "cell_type": "code",
   "execution_count": null,
   "metadata": {},
   "outputs": [],
   "source": [
    "# Create a heatmap of the data set to study the correlation between the features\n",
    "fig, ax = plt.subplots(figsize = (8, 4))\n",
    "sns.heatmap(df.corr(), annot = True, cmap = 'Blues');"
   ]
  },
  {
   "cell_type": "markdown",
   "metadata": {},
   "source": [
    "The correlation matrix shows that all the features in data set are positively correlated with each other."
   ]
  },
  {
   "cell_type": "markdown",
   "metadata": {
    "id": "wqIpRZPSRSNE"
   },
   "source": [
    "# Part 2 - Simple Linear Regression\n",
    "In this section, we will:\n",
    "- Import necessary packages for executing the code\n",
    "- Train and evaluate simple linear regression models for the data"
   ]
  },
  {
   "cell_type": "code",
   "execution_count": null,
   "metadata": {},
   "outputs": [],
   "source": [
    "# Import method for regression from 'statsmodels'\n",
    "import statsmodels.formula.api as smf"
   ]
  },
  {
   "cell_type": "markdown",
   "metadata": {},
   "source": [
    "## Model 1"
   ]
  },
  {
   "cell_type": "code",
   "execution_count": null,
   "metadata": {
    "executionInfo": {
     "elapsed": 75,
     "status": "ok",
     "timestamp": 1666844864278,
     "user": {
      "displayName": "Akshar Gupta",
      "userId": "03393520324044557957"
     },
     "user_tz": -330
    },
    "id": "2MOfUYckLom0"
   },
   "outputs": [],
   "source": [
    "# Create and train a linear regression model for the data and view its summary\n",
    "# Note: The objective is to predict 'SALES' using 'ADVT'\n",
    "lr_model_1 = ##### CODE HERE #####\n",
    "lr_model_1 = ##### CODE HERE #####\n",
    "print(##### CODE HERE #####)"
   ]
  },
  {
   "cell_type": "markdown",
   "metadata": {},
   "source": [
    "The summary shows relevant metrics and values related to the regression model such as the coefficients, the standard error, goodness of fit measures, measures of significance, and so on.\n",
    "\n",
    "According to this model:\n",
    "- A unit increase in *ADVT* leads to an increase of about 7.5 units in *SALES* on average\n",
    "- The p-value for *ADVT* here is less than 0.05, so *ADVT* is statistically significant in explaining the variation in *SALES*\n",
    "- About 25% of the variation in *SALES* is explained by *ADVT*"
   ]
  },
  {
   "cell_type": "code",
   "execution_count": null,
   "metadata": {
    "colab": {
     "base_uri": "https://localhost:8080/"
    },
    "executionInfo": {
     "elapsed": 63,
     "status": "ok",
     "timestamp": 1666844864281,
     "user": {
      "displayName": "Akshar Gupta",
      "userId": "03393520324044557957"
     },
     "user_tz": -330
    },
    "id": "eRRTo4KxQE0q",
    "outputId": "34582a71-d9cc-4e81-a14d-a6f12b913dd8"
   },
   "outputs": [],
   "source": [
    "# Compute the residual standard error\n",
    "rse_1 = ##### CODE HERE #####\n",
    "print(np.round(rse_1, 2))"
   ]
  },
  {
   "cell_type": "markdown",
   "metadata": {},
   "source": [
    "The smaller the residual standard error is, the more tightly clustered the data points are about the regression line. It is also useful in detecting outliers in the data set."
   ]
  },
  {
   "cell_type": "markdown",
   "metadata": {},
   "source": [
    "## Model 2"
   ]
  },
  {
   "cell_type": "code",
   "execution_count": null,
   "metadata": {},
   "outputs": [],
   "source": [
    "# Create and train a linear regression model for the data and view its summary\n",
    "# Note: The objective is to predict 'SALES' using 'INCOME'\n",
    "lr_model_2 = ##### CODE HERE #####\n",
    "lr_model_2 = ##### CODE HERE #####\n",
    "print(##### CODE HERE #####)"
   ]
  },
  {
   "cell_type": "markdown",
   "metadata": {},
   "source": [
    "According to this model:\n",
    "- A unit increase in *INCOME* leads to an increase of about 1 unit in *SALES* on average\n",
    "- The p-value for *INCOME* here is less than 0.05, so *INCOME* is statistically significant in explaining the variation in *SALES*\n",
    "- About 35% of the variation in *SALES* is explained by *INCOME*"
   ]
  },
  {
   "cell_type": "code",
   "execution_count": null,
   "metadata": {},
   "outputs": [],
   "source": [
    "# Compute the residual standard error\n",
    "rse_2 = ##### CODE HERE #####\n",
    "print(np.round(rse_2, 2))"
   ]
  },
  {
   "cell_type": "markdown",
   "metadata": {
    "id": "pX1TbnhWGr5f"
   },
   "source": [
    "# Part 3 - Multiple Linear Regression\n",
    "In this section, we will train and evaluate a multiple linear regression model for the data."
   ]
  },
  {
   "cell_type": "markdown",
   "metadata": {},
   "source": [
    "## Model 3"
   ]
  },
  {
   "cell_type": "code",
   "execution_count": null,
   "metadata": {
    "executionInfo": {
     "elapsed": 54,
     "status": "ok",
     "timestamp": 1666844864282,
     "user": {
      "displayName": "Akshar Gupta",
      "userId": "03393520324044557957"
     },
     "user_tz": -330
    },
    "id": "mCXVN1K6GKXO"
   },
   "outputs": [],
   "source": [
    "# Create and train a linear regression model for the data and view its summary\n",
    "# Note: The objective is to predict 'SALES' using 'ADVT' and 'INCOME'\n",
    "lr_model_3 = ##### CODE HERE #####\n",
    "lr_model_3 = ##### CODE HERE #####\n",
    "print(##### CODE HERE #####)"
   ]
  },
  {
   "cell_type": "markdown",
   "metadata": {},
   "source": [
    "According to this model:\n",
    "- A unit increase in *ADVT* leads to an increase of about 5 units in *SALES* on average if *INCOME* is held constant\n",
    "- A unit increase in *INCOME* leads to an increase of about 0.8 units in *SALES* on average if *ADVT* is held constant\n",
    "- The p-value for *INCOME* here is less than 0.05, so *INCOME* is statistically significant in explaining the variation in *SALES*\n",
    "- The p-value for *ADVT* here is more than 0.05, so *ADVT* is not statistically significant in explaining the variation in *SALES*\n",
    "- About 45% of the variation in *SALES* is explained by *ADVT* and *INCOME*\n",
    "\n",
    "Once the variation in *INCOME* across districts is controlled for, *ADVT* does not explain much of the variation in *SALES*."
   ]
  },
  {
   "cell_type": "code",
   "execution_count": null,
   "metadata": {
    "colab": {
     "base_uri": "https://localhost:8080/"
    },
    "executionInfo": {
     "elapsed": 38,
     "status": "ok",
     "timestamp": 1666844864287,
     "user": {
      "displayName": "Akshar Gupta",
      "userId": "03393520324044557957"
     },
     "user_tz": -330
    },
    "id": "ovQoR5S-IfrS",
    "outputId": "c08b0783-e2f3-4671-e781-0b51c79035c4"
   },
   "outputs": [],
   "source": [
    "# Compute the residual standard error\n",
    "rse_3 = ##### CODE HERE #####\n",
    "print(np.round(rse_3, 2))"
   ]
  },
  {
   "cell_type": "markdown",
   "metadata": {
    "id": "F4ahqSMZP6fW"
   },
   "source": [
    "# Part 4 - Diagnostic Plots\n",
    "In this section, we will:\n",
    "- Import necessary packages for executing the code\n",
    "- Create and analyze diagnostic plots for *lr_model_3*"
   ]
  },
  {
   "cell_type": "code",
   "execution_count": null,
   "metadata": {},
   "outputs": [],
   "source": [
    "# Import methods for regression diagnostic plots from 'statsmodels'\n",
    "from statsmodels.api import ProbPlot, qqplot"
   ]
  },
  {
   "cell_type": "markdown",
   "metadata": {
    "id": "2jxvBXV_noxx"
   },
   "source": [
    "## Fitted Values vs Actual Values"
   ]
  },
  {
   "cell_type": "code",
   "execution_count": null,
   "metadata": {
    "colab": {
     "base_uri": "https://localhost:8080/",
     "height": 395
    },
    "executionInfo": {
     "elapsed": 56,
     "status": "ok",
     "timestamp": 1666844869041,
     "user": {
      "displayName": "Akshar Gupta",
      "userId": "03393520324044557957"
     },
     "user_tz": -330
    },
    "id": "7IsPYaiFktps",
    "outputId": "86678000-b259-42d8-bf50-5960bcc75df1"
   },
   "outputs": [],
   "source": [
    "# Create a scatter plot between the fitted and actual values of 'SALES'\n",
    "plt.figure(figsize = (5, 5))\n",
    "sns.scatterplot(x = lr_model_3.fittedvalues, y = df['SALES'])\n",
    "plt.axline((100,100), slope = 1, linestyle = '--', linewidth = 1, color = 'r')\n",
    "plt.xlim((100, 170))\n",
    "plt.ylim((100, 170))\n",
    "plt.xlabel('Fitted Values of SALES')\n",
    "plt.ylabel('Actual Values of SALES');"
   ]
  },
  {
   "cell_type": "markdown",
   "metadata": {},
   "source": [
    "If the predicted values are close to the actual values, then all the points should lie close to the diagonal line."
   ]
  },
  {
   "cell_type": "markdown",
   "metadata": {
    "id": "uIBhFsq5raZt"
   },
   "source": [
    "## Fitted Values vs Residuals"
   ]
  },
  {
   "cell_type": "code",
   "execution_count": null,
   "metadata": {
    "colab": {
     "base_uri": "https://localhost:8080/",
     "height": 391
    },
    "executionInfo": {
     "elapsed": 1153,
     "status": "ok",
     "timestamp": 1666844887251,
     "user": {
      "displayName": "Akshar Gupta",
      "userId": "03393520324044557957"
     },
     "user_tz": -330
    },
    "id": "4TJUomRgqg0h",
    "outputId": "5b72360e-be6e-4abb-d0b7-046a5c7fff25"
   },
   "outputs": [],
   "source": [
    "# Create a scatter plot between the fitted values of 'SALES' and the residuals\n",
    "plt.figure(figsize = (8, 4))\n",
    "sns.scatterplot(x = lr_model_3.fittedvalues, y = lr_model_3.resid)\n",
    "plt.axhline(y = 0, xmin = 0, xmax = 1, linewidth = 1, color = 'k')\n",
    "plt.axhline(y = 3 * rse_3, xmin = 0, xmax = 1, linewidth = 1, color = 'r')\n",
    "plt.axhline(y = -3 * rse_3, xmin = 0, xmax = 1, linewidth = 1, color = 'r')\n",
    "plt.xlabel('Fitted Values of SALES')\n",
    "plt.ylabel('Residuals');"
   ]
  },
  {
   "cell_type": "markdown",
   "metadata": {},
   "source": [
    "The plot should look like a patternless cloud, otherwise it indicates possible violations of the assumptions of linear regression and/or the existence of some unknown predictors that may not have not been accounted for in the model. Also note that if some residual points lie outside the 3 x SE lines on either side, then they could be declared as outliers."
   ]
  },
  {
   "cell_type": "markdown",
   "metadata": {
    "id": "_aGr185Ws6LH"
   },
   "source": [
    "## Histogram of Residuals"
   ]
  },
  {
   "cell_type": "code",
   "execution_count": null,
   "metadata": {
    "colab": {
     "base_uri": "https://localhost:8080/",
     "height": 386
    },
    "executionInfo": {
     "elapsed": 1124,
     "status": "ok",
     "timestamp": 1666844985620,
     "user": {
      "displayName": "Akshar Gupta",
      "userId": "03393520324044557957"
     },
     "user_tz": -330
    },
    "id": "RRJ7rpQ7sf-M",
    "outputId": "79027bf1-c91a-4260-c33b-0bd444846543"
   },
   "outputs": [],
   "source": [
    "# Create a histogram of the residuals\n",
    "plt.figure(figsize = (8, 4))\n",
    "sns.histplot(data = df, x = lr_model_3.resid, color = 'lightgray')\n",
    "plt.xlabel('Residual Value')\n",
    "plt.ylabel('Frequency');"
   ]
  },
  {
   "cell_type": "markdown",
   "metadata": {},
   "source": [
    "The distribution of residuals looks somewhat normal according to this histogram."
   ]
  },
  {
   "cell_type": "markdown",
   "metadata": {},
   "source": [
    "## QQ Plot"
   ]
  },
  {
   "cell_type": "code",
   "execution_count": null,
   "metadata": {
    "colab": {
     "base_uri": "https://localhost:8080/",
     "height": 459
    },
    "executionInfo": {
     "elapsed": 1546,
     "status": "ok",
     "timestamp": 1666846602144,
     "user": {
      "displayName": "Akshar Gupta",
      "userId": "03393520324044557957"
     },
     "user_tz": -330
    },
    "id": "OgQWMtPZvy0L",
    "outputId": "d3e97dcd-a54a-4b1e-9fb4-bd0766b1efe6"
   },
   "outputs": [],
   "source": [
    "# Create a QQ plot for the data\n",
    "QQ = ProbPlot(lr_model_2.get_influence().resid_studentized_internal)\n",
    "fig = QQ.qqplot(line = '45', alpha = 0.5, lw = 1)\n",
    "fig.set_size_inches(5, 5)\n",
    "fig.gca().set_title('Normal Q-Q')\n",
    "fig.gca().set_xlabel('Theoretical Quantiles')\n",
    "fig.gca().set_ylabel('Standardized Residuals');"
   ]
  },
  {
   "cell_type": "markdown",
   "metadata": {},
   "source": [
    "All the points should lie on the diagonal line. Any departure from the diagonal line indicates a departure from the assumption of normality."
   ]
  },
  {
   "cell_type": "code",
   "execution_count": null,
   "metadata": {},
   "outputs": [],
   "source": []
  }
 ],
 "metadata": {
  "colab": {
   "authorship_tag": "ABX9TyPaz5aBo4Hgu3DdMJwBESny",
   "collapsed_sections": [],
   "provenance": []
  },
  "kernelspec": {
   "display_name": "Python 3 (ipykernel)",
   "language": "python",
   "name": "python3"
  },
  "language_info": {
   "codemirror_mode": {
    "name": "ipython",
    "version": 3
   },
   "file_extension": ".py",
   "mimetype": "text/x-python",
   "name": "python",
   "nbconvert_exporter": "python",
   "pygments_lexer": "ipython3",
   "version": "3.9.12"
  }
 },
 "nbformat": 4,
 "nbformat_minor": 1
}
