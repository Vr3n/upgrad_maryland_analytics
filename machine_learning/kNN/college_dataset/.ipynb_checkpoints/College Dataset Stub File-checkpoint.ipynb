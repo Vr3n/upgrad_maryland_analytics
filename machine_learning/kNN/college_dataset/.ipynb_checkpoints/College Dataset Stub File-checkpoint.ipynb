{
 "cells": [
  {
   "cell_type": "code",
   "execution_count": null,
   "id": "f1a00e96",
   "metadata": {},
   "outputs": [],
   "source": [
    "##Import Libraries\n",
    "import pandas as pd\n",
    "import numpy as np\n",
    "from matplotlib import pyplot as plt\n",
    "\n",
    "from sklearn.model_selection import train_test_split\n",
    "from sklearn.preprocessing import StandardScaler\n",
    "from sklearn.model_selection import GridSearchCV\n",
    "from sklearn.metrics import f1_score, precision_score, recall_score, accuracy_score, mean_squared_error\n",
    "from sklearn.metrics import confusion_matrix, ConfusionMatrixDisplay\n",
    "from sklearn.neighbors import KNeighborsClassifier, KNeighborsRegressor"
   ]
  },
  {
   "cell_type": "code",
   "execution_count": null,
   "id": "fae7b87a",
   "metadata": {},
   "outputs": [],
   "source": [
    "college_df = pd.read_csv(\"College+Dataset.csv\")"
   ]
  },
  {
   "cell_type": "code",
   "execution_count": null,
   "id": "24f066b5",
   "metadata": {},
   "outputs": [],
   "source": [
    "college_df.head()"
   ]
  },
  {
   "cell_type": "code",
   "execution_count": null,
   "id": "55911b82",
   "metadata": {},
   "outputs": [],
   "source": [
    "##Convert 'Private' to a categorical column\n",
    "college_df['Private'] = pd.Categorical(college_df['Private'])"
   ]
  },
  {
   "cell_type": "code",
   "execution_count": null,
   "id": "25b8a1a9",
   "metadata": {},
   "outputs": [],
   "source": [
    "college_df.info()"
   ]
  },
  {
   "cell_type": "markdown",
   "id": "263059ab",
   "metadata": {},
   "source": [
    "#### Data Preparation"
   ]
  },
  {
   "cell_type": "code",
   "execution_count": null,
   "id": "ca296327",
   "metadata": {},
   "outputs": [],
   "source": [
    "## X-y split\n",
    "y = college_df['Grad.Rate']\n",
    "X = college_df.iloc[:, :-1]"
   ]
  },
  {
   "cell_type": "code",
   "execution_count": null,
   "id": "8fa1b0df",
   "metadata": {},
   "outputs": [],
   "source": [
    "# Use dummy variables for categorical variables\n",
    "X = pd.get_dummies(X, drop_first=True)"
   ]
  },
  {
   "cell_type": "code",
   "execution_count": null,
   "id": "495e12ef",
   "metadata": {},
   "outputs": [],
   "source": [
    "## Train-Test Split\n",
    "X_train, X_val, y_train, y_val = train_test_split(X, y, test_size=0.3, random_state = 100)"
   ]
  },
  {
   "cell_type": "code",
   "execution_count": null,
   "id": "34d73daf",
   "metadata": {},
   "outputs": [],
   "source": [
    "# Standardize our non-dummy variables\n",
    "scaler = StandardScaler()\n",
    "numeric_vars = ['Apps', 'Accept', 'Enroll', 'Top10perc', 'Top25perc', 'F.Undergrad', \n",
    "                'P.Undergrad', 'Outstate', 'Room.Board', 'Books', 'Personal', 'PhD', \n",
    "                'Terminal', 'S.F.Ratio', 'perc.alumni', 'Expend']\n",
    "X_train[numeric_vars]= scaler.fit_transform(X_train[numeric_vars])\n",
    "X_val[numeric_vars]= scaler.transform(X_val[numeric_vars])"
   ]
  },
  {
   "cell_type": "markdown",
   "id": "ca36f7f0",
   "metadata": {},
   "source": [
    "### Fitting the k-NN Model"
   ]
  },
  {
   "cell_type": "markdown",
   "id": "81d25935",
   "metadata": {},
   "source": [
    "### Q1. Number of Nearest Neighbors\n",
    "\n",
    "\n",
    "What is the optimal value of the number of nearest neighbors obtained based on the cross-validation approach?"
   ]
  },
  {
   "cell_type": "code",
   "execution_count": null,
   "id": "86682a0a",
   "metadata": {},
   "outputs": [],
   "source": [
    "knn_reg = KNeighborsRegressor()\n",
    "param_grid = {'n_neighbors': np.arange(1,31)} # Parameter range\n",
    "  \n",
    "### Write the code for identifying best k"
   ]
  },
  {
   "cell_type": "markdown",
   "id": "a898887d",
   "metadata": {},
   "source": [
    "### Q2. RMSE\n",
    "\n",
    "What is the RMSE obtained on the validation set using the optimal k obtained in the previous question?"
   ]
  },
  {
   "cell_type": "code",
   "execution_count": null,
   "id": "e8ea0f8f",
   "metadata": {},
   "outputs": [],
   "source": [
    "#rmse function \n",
    "def rmse(y_train, y_pred):\n",
    "  return np.sqrt(mean_squared_error(y_train, y_pred))"
   ]
  },
  {
   "cell_type": "code",
   "execution_count": null,
   "id": "ae7632bb",
   "metadata": {},
   "outputs": [],
   "source": [
    "##RMSE on the validation set\n",
    "## Write code to obtain the RMSE on the best value of K\n"
   ]
  }
 ],
 "metadata": {
  "kernelspec": {
   "display_name": "Python 3 (ipykernel)",
   "language": "python",
   "name": "python3"
  },
  "language_info": {
   "codemirror_mode": {
    "name": "ipython",
    "version": 3
   },
   "file_extension": ".py",
   "mimetype": "text/x-python",
   "name": "python",
   "nbconvert_exporter": "python",
   "pygments_lexer": "ipython3",
   "version": "3.9.7"
  }
 },
 "nbformat": 4,
 "nbformat_minor": 5
}
