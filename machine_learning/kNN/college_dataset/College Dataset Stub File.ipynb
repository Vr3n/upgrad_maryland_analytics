{
 "cells": [
  {
   "cell_type": "code",
   "execution_count": 31,
   "id": "f1a00e96",
   "metadata": {},
   "outputs": [],
   "source": [
    "##Import Libraries\n",
    "import pandas as pd\n",
    "import numpy as np\n",
    "from matplotlib import pyplot as plt\n",
    "\n",
    "from sklearn.model_selection import train_test_split\n",
    "from sklearn.preprocessing import StandardScaler\n",
    "from sklearn.model_selection import GridSearchCV\n",
    "from sklearn.metrics import f1_score, precision_score, recall_score, accuracy_score, mean_squared_error\n",
    "from sklearn.metrics import confusion_matrix, ConfusionMatrixDisplay\n",
    "from sklearn.neighbors import KNeighborsClassifier, KNeighborsRegressor"
   ]
  },
  {
   "cell_type": "code",
   "execution_count": 32,
   "id": "fae7b87a",
   "metadata": {},
   "outputs": [],
   "source": [
    "college_df = pd.read_csv(\"College+Dataset.csv\")"
   ]
  },
  {
   "cell_type": "code",
   "execution_count": 33,
   "id": "24f066b5",
   "metadata": {},
   "outputs": [
    {
     "data": {
      "text/html": [
       "<div>\n",
       "<style scoped>\n",
       "    .dataframe tbody tr th:only-of-type {\n",
       "        vertical-align: middle;\n",
       "    }\n",
       "\n",
       "    .dataframe tbody tr th {\n",
       "        vertical-align: top;\n",
       "    }\n",
       "\n",
       "    .dataframe thead th {\n",
       "        text-align: right;\n",
       "    }\n",
       "</style>\n",
       "<table border=\"1\" class=\"dataframe\">\n",
       "  <thead>\n",
       "    <tr style=\"text-align: right;\">\n",
       "      <th></th>\n",
       "      <th>Private</th>\n",
       "      <th>Apps</th>\n",
       "      <th>Accept</th>\n",
       "      <th>Enroll</th>\n",
       "      <th>Top10perc</th>\n",
       "      <th>Top25perc</th>\n",
       "      <th>F.Undergrad</th>\n",
       "      <th>P.Undergrad</th>\n",
       "      <th>Outstate</th>\n",
       "      <th>Room.Board</th>\n",
       "      <th>Books</th>\n",
       "      <th>Personal</th>\n",
       "      <th>PhD</th>\n",
       "      <th>Terminal</th>\n",
       "      <th>S.F.Ratio</th>\n",
       "      <th>perc.alumni</th>\n",
       "      <th>Expend</th>\n",
       "      <th>Grad.Rate</th>\n",
       "    </tr>\n",
       "  </thead>\n",
       "  <tbody>\n",
       "    <tr>\n",
       "      <th>0</th>\n",
       "      <td>1</td>\n",
       "      <td>1660</td>\n",
       "      <td>1232</td>\n",
       "      <td>721</td>\n",
       "      <td>23</td>\n",
       "      <td>52</td>\n",
       "      <td>2885</td>\n",
       "      <td>537</td>\n",
       "      <td>7440</td>\n",
       "      <td>3300</td>\n",
       "      <td>450</td>\n",
       "      <td>2200</td>\n",
       "      <td>70</td>\n",
       "      <td>78</td>\n",
       "      <td>18.1</td>\n",
       "      <td>12</td>\n",
       "      <td>7041</td>\n",
       "      <td>60</td>\n",
       "    </tr>\n",
       "    <tr>\n",
       "      <th>1</th>\n",
       "      <td>1</td>\n",
       "      <td>2186</td>\n",
       "      <td>1924</td>\n",
       "      <td>512</td>\n",
       "      <td>16</td>\n",
       "      <td>29</td>\n",
       "      <td>2683</td>\n",
       "      <td>1227</td>\n",
       "      <td>12280</td>\n",
       "      <td>6450</td>\n",
       "      <td>750</td>\n",
       "      <td>1500</td>\n",
       "      <td>29</td>\n",
       "      <td>30</td>\n",
       "      <td>12.2</td>\n",
       "      <td>16</td>\n",
       "      <td>10527</td>\n",
       "      <td>56</td>\n",
       "    </tr>\n",
       "    <tr>\n",
       "      <th>2</th>\n",
       "      <td>1</td>\n",
       "      <td>1428</td>\n",
       "      <td>1097</td>\n",
       "      <td>336</td>\n",
       "      <td>22</td>\n",
       "      <td>50</td>\n",
       "      <td>1036</td>\n",
       "      <td>99</td>\n",
       "      <td>11250</td>\n",
       "      <td>3750</td>\n",
       "      <td>400</td>\n",
       "      <td>1165</td>\n",
       "      <td>53</td>\n",
       "      <td>66</td>\n",
       "      <td>12.9</td>\n",
       "      <td>30</td>\n",
       "      <td>8735</td>\n",
       "      <td>54</td>\n",
       "    </tr>\n",
       "    <tr>\n",
       "      <th>3</th>\n",
       "      <td>1</td>\n",
       "      <td>417</td>\n",
       "      <td>349</td>\n",
       "      <td>137</td>\n",
       "      <td>60</td>\n",
       "      <td>89</td>\n",
       "      <td>510</td>\n",
       "      <td>63</td>\n",
       "      <td>12960</td>\n",
       "      <td>5450</td>\n",
       "      <td>450</td>\n",
       "      <td>875</td>\n",
       "      <td>92</td>\n",
       "      <td>97</td>\n",
       "      <td>7.7</td>\n",
       "      <td>37</td>\n",
       "      <td>19016</td>\n",
       "      <td>59</td>\n",
       "    </tr>\n",
       "    <tr>\n",
       "      <th>4</th>\n",
       "      <td>1</td>\n",
       "      <td>193</td>\n",
       "      <td>146</td>\n",
       "      <td>55</td>\n",
       "      <td>16</td>\n",
       "      <td>44</td>\n",
       "      <td>249</td>\n",
       "      <td>869</td>\n",
       "      <td>7560</td>\n",
       "      <td>4120</td>\n",
       "      <td>800</td>\n",
       "      <td>1500</td>\n",
       "      <td>76</td>\n",
       "      <td>72</td>\n",
       "      <td>11.9</td>\n",
       "      <td>2</td>\n",
       "      <td>10922</td>\n",
       "      <td>15</td>\n",
       "    </tr>\n",
       "  </tbody>\n",
       "</table>\n",
       "</div>"
      ],
      "text/plain": [
       "   Private  Apps  Accept  Enroll  Top10perc  Top25perc  F.Undergrad  \\\n",
       "0        1  1660    1232     721         23         52         2885   \n",
       "1        1  2186    1924     512         16         29         2683   \n",
       "2        1  1428    1097     336         22         50         1036   \n",
       "3        1   417     349     137         60         89          510   \n",
       "4        1   193     146      55         16         44          249   \n",
       "\n",
       "   P.Undergrad  Outstate  Room.Board  Books  Personal  PhD  Terminal  \\\n",
       "0          537      7440        3300    450      2200   70        78   \n",
       "1         1227     12280        6450    750      1500   29        30   \n",
       "2           99     11250        3750    400      1165   53        66   \n",
       "3           63     12960        5450    450       875   92        97   \n",
       "4          869      7560        4120    800      1500   76        72   \n",
       "\n",
       "   S.F.Ratio  perc.alumni  Expend  Grad.Rate  \n",
       "0       18.1           12    7041         60  \n",
       "1       12.2           16   10527         56  \n",
       "2       12.9           30    8735         54  \n",
       "3        7.7           37   19016         59  \n",
       "4       11.9            2   10922         15  "
      ]
     },
     "execution_count": 33,
     "metadata": {},
     "output_type": "execute_result"
    }
   ],
   "source": [
    "college_df.head()"
   ]
  },
  {
   "cell_type": "code",
   "execution_count": 34,
   "id": "55911b82",
   "metadata": {},
   "outputs": [],
   "source": [
    "##Convert 'Private' to a categorical column\n",
    "college_df['Private'] = pd.Categorical(college_df['Private'])"
   ]
  },
  {
   "cell_type": "code",
   "execution_count": 35,
   "id": "25b8a1a9",
   "metadata": {},
   "outputs": [
    {
     "name": "stdout",
     "output_type": "stream",
     "text": [
      "<class 'pandas.core.frame.DataFrame'>\n",
      "RangeIndex: 777 entries, 0 to 776\n",
      "Data columns (total 18 columns):\n",
      " #   Column       Non-Null Count  Dtype   \n",
      "---  ------       --------------  -----   \n",
      " 0   Private      777 non-null    category\n",
      " 1   Apps         777 non-null    int64   \n",
      " 2   Accept       777 non-null    int64   \n",
      " 3   Enroll       777 non-null    int64   \n",
      " 4   Top10perc    777 non-null    int64   \n",
      " 5   Top25perc    777 non-null    int64   \n",
      " 6   F.Undergrad  777 non-null    int64   \n",
      " 7   P.Undergrad  777 non-null    int64   \n",
      " 8   Outstate     777 non-null    int64   \n",
      " 9   Room.Board   777 non-null    int64   \n",
      " 10  Books        777 non-null    int64   \n",
      " 11  Personal     777 non-null    int64   \n",
      " 12  PhD          777 non-null    int64   \n",
      " 13  Terminal     777 non-null    int64   \n",
      " 14  S.F.Ratio    777 non-null    float64 \n",
      " 15  perc.alumni  777 non-null    int64   \n",
      " 16  Expend       777 non-null    int64   \n",
      " 17  Grad.Rate    777 non-null    int64   \n",
      "dtypes: category(1), float64(1), int64(16)\n",
      "memory usage: 104.2 KB\n"
     ]
    }
   ],
   "source": [
    "college_df.info()"
   ]
  },
  {
   "cell_type": "markdown",
   "id": "263059ab",
   "metadata": {},
   "source": [
    "#### Data Preparation"
   ]
  },
  {
   "cell_type": "code",
   "execution_count": 36,
   "id": "ca296327",
   "metadata": {},
   "outputs": [],
   "source": [
    "## X-y split\n",
    "y = college_df['Grad.Rate']\n",
    "X = college_df.iloc[:, :-1]"
   ]
  },
  {
   "cell_type": "code",
   "execution_count": 37,
   "id": "8fa1b0df",
   "metadata": {},
   "outputs": [],
   "source": [
    "# Use dummy variables for categorical variables\n",
    "X = pd.get_dummies(X, drop_first=True)"
   ]
  },
  {
   "cell_type": "code",
   "execution_count": 38,
   "id": "495e12ef",
   "metadata": {},
   "outputs": [],
   "source": [
    "## Train-Test Split\n",
    "X_train, X_val, y_train, y_val = train_test_split(X, y, test_size=0.3, random_state = 100)"
   ]
  },
  {
   "cell_type": "code",
   "execution_count": 39,
   "id": "34d73daf",
   "metadata": {},
   "outputs": [],
   "source": [
    "# Standardize our non-dummy variables\n",
    "scaler = StandardScaler()\n",
    "numeric_vars = ['Apps', 'Accept', 'Enroll', 'Top10perc', 'Top25perc', 'F.Undergrad', \n",
    "                'P.Undergrad', 'Outstate', 'Room.Board', 'Books', 'Personal', 'PhD', \n",
    "                'Terminal', 'S.F.Ratio', 'perc.alumni', 'Expend']\n",
    "X_train[numeric_vars]= scaler.fit_transform(X_train[numeric_vars])\n",
    "X_val[numeric_vars]= scaler.transform(X_val[numeric_vars])"
   ]
  },
  {
   "cell_type": "markdown",
   "id": "ca36f7f0",
   "metadata": {},
   "source": [
    "### Fitting the k-NN Model"
   ]
  },
  {
   "cell_type": "markdown",
   "id": "81d25935",
   "metadata": {},
   "source": [
    "### Q1. Number of Nearest Neighbors\n",
    "\n",
    "\n",
    "What is the optimal value of the number of nearest neighbors obtained based on the cross-validation approach?"
   ]
  },
  {
   "cell_type": "code",
   "execution_count": 40,
   "id": "86682a0a",
   "metadata": {},
   "outputs": [],
   "source": [
    "knn_reg = KNeighborsRegressor()\n",
    "param_grid = {'n_neighbors': np.arange(1,31)} # Parameter range\n",
    "  \n",
    "### Write the code for identifying best k"
   ]
  },
  {
   "cell_type": "markdown",
   "id": "a898887d",
   "metadata": {},
   "source": [
    "### Q2. RMSE\n",
    "\n",
    "What is the RMSE obtained on the validation set using the optimal k obtained in the previous question?"
   ]
  },
  {
   "cell_type": "code",
   "execution_count": 41,
   "id": "e8ea0f8f",
   "metadata": {},
   "outputs": [],
   "source": [
    "#rmse function \n",
    "def rmse(y_train, y_pred):\n",
    "  return np.sqrt(mean_squared_error(y_train, y_pred))"
   ]
  },
  {
   "cell_type": "code",
   "execution_count": 42,
   "id": "69025845-0803-4587-b081-17dfb630ee96",
   "metadata": {},
   "outputs": [],
   "source": [
    "knn_reg2 = KNeighborsRegressor()\n",
    "param_grid = { 'n_neighbors': np.arange(1, 31) }"
   ]
  },
  {
   "cell_type": "code",
   "execution_count": 43,
   "id": "5ffccac5-e770-48fd-be36-b5b7aa5de24f",
   "metadata": {},
   "outputs": [
    {
     "name": "stdout",
     "output_type": "stream",
     "text": [
      "Fitting 5 folds for each of 30 candidates, totalling 150 fits\n"
     ]
    }
   ],
   "source": [
    "# specify the searchand find the best k.\n",
    "grid = GridSearchCV(knn_reg2, param_grid, cv=5, scoring='neg_mean_squared_error', return_train_score=True, verbose=1)\n",
    "grid_search = grid.fit(X_train, y_train)"
   ]
  },
  {
   "cell_type": "code",
   "execution_count": 44,
   "id": "ae7a76ca-ecd9-465e-b45e-eb7c2af2b421",
   "metadata": {},
   "outputs": [
    {
     "data": {
      "text/plain": [
       "{'n_neighbors': 19}"
      ]
     },
     "execution_count": 44,
     "metadata": {},
     "output_type": "execute_result"
    }
   ],
   "source": [
    "grid_search.best_params_"
   ]
  },
  {
   "cell_type": "code",
   "execution_count": 51,
   "id": "1603bd08-4f72-42aa-80db-269dbca51d05",
   "metadata": {},
   "outputs": [
    {
     "data": {
      "image/png": "[encoded data removed]",
      "text/plain": [
       "<Figure size 2000x1000 with 1 Axes>"
      ]
     },
     "metadata": {},
     "output_type": "display_data"
    }
   ],
   "source": [
    "plt.rcParams['figure.figsize'] = [20, 10]\n",
    "fig = plt.figure() \n",
    "ax = fig.add_subplot(111) \n",
    "plt.plot(param_grid['n_neighbors'], grid_search.cv_results_['mean_test_score'],marker='o') \n",
    "plt.xlabel(\"k\")\n",
    "plt.ylabel(\"Accuracy\") \n",
    "plt.grid()\n",
    "for i,j in zip(param_grid['n_neighbors'],grid_search.cv_results_['mean_test_score']):\n",
    "    ax.annotate('%.2f' % j,xy=(i-0.5,j+0.01))\n",
    "    # print(\"The maximum accuracy is obtained at k = \" + str(np.argmax(val_acc)+1))"
   ]
  },
  {
   "cell_type": "code",
   "execution_count": 57,
   "id": "01f3517b-0f2c-4e0e-854a-48168a5609da",
   "metadata": {},
   "outputs": [
    {
     "name": "stdout",
     "output_type": "stream",
     "text": [
      "The best value of k is:  18\n"
     ]
    }
   ],
   "source": [
    "print(\"The best value of k is: \", str(np.argmax(grid_search.cv_results_['mean_test_score']+1)))"
   ]
  },
  {
   "cell_type": "code",
   "execution_count": 60,
   "id": "8a022161-6e94-41e0-8fd5-c1e595cf6d14",
   "metadata": {},
   "outputs": [],
   "source": [
    "knn_reg_best = KNeighborsRegressor(n_neighbors=grid_search.best_params_['n_neighbors'])\n",
    "knn_reg_best.fit(X_train, y_train)\n",
    "y_pred = knn_reg_best.predict(X_val)"
   ]
  },
  {
   "cell_type": "code",
   "execution_count": 61,
   "id": "035220ef-fc06-4ee3-8aca-abba07f474d4",
   "metadata": {},
   "outputs": [
    {
     "name": "stdout",
     "output_type": "stream",
     "text": [
      "RMSE on the validation data:  12.516\n"
     ]
    }
   ],
   "source": [
    "print(\"RMSE on the validation data: \", round(rmse(y_val, y_pred), 3))"
   ]
  },
  {
   "cell_type": "code",
   "execution_count": 62,
   "id": "5ccab8a2-5897-4a2a-8963-729069448164",
   "metadata": {},
   "outputs": [
    {
     "name": "stdout",
     "output_type": "stream",
     "text": [
      "RMSE test set: 15.356\n"
     ]
    }
   ],
   "source": [
    "def rmse(y_train, y_pred):\n",
    "    return np.sqrt(mean_squared_error(y_train, y_pred))\n",
    "\n",
    "knn_reg_best = KNeighborsClassifier(n_neighbors=grid_search.best_params_['n_neighbors'])\n",
    "knn_reg_best.fit(X_train, y_train)\n",
    "print('RMSE test set:', round(rmse(y_val, knn_reg_best.predict(X_val)), 3))"
   ]
  },
  {
   "cell_type": "code",
   "execution_count": null,
   "id": "cde92658-8148-4fe7-9174-cafdbc018969",
   "metadata": {},
   "outputs": [],
   "source": []
  }
 ],
 "metadata": {
  "kernelspec": {
   "display_name": "Python 3 (ipykernel)",
   "language": "python",
   "name": "python3"
  },
  "language_info": {
   "codemirror_mode": {
    "name": "ipython",
    "version": 3
   },
   "file_extension": ".py",
   "mimetype": "text/x-python",
   "name": "python",
   "nbconvert_exporter": "python",
   "pygments_lexer": "ipython3",
   "version": "3.10.11"
  }
 },
 "nbformat": 4,
 "nbformat_minor": 5
}
