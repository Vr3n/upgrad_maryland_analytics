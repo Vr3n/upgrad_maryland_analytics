{
  "cells": [
    {
      "cell_type": "code",
      "execution_count": null,
      "id": "b506c2cd",
      "metadata": {
        "id": "b506c2cd"
      },
      "outputs": [],
      "source": [
        "##Import Libraries\n",
        "import pandas as pd\n",
        "import numpy as np\n",
        "from matplotlib import pyplot as plt\n",
        "\n",
        "from sklearn.model_selection import train_test_split\n",
        "from sklearn.preprocessing import StandardScaler\n",
        "from sklearn.model_selection import GridSearchCV\n",
        "from sklearn.metrics import f1_score, precision_score, recall_score, accuracy_score, mean_squared_error\n",
        "from sklearn.metrics import confusion_matrix, ConfusionMatrixDisplay\n",
        "from sklearn.neighbors import KNeighborsClassifier, KNeighborsRegressor"
      ]
    },
    {
      "cell_type": "code",
      "execution_count": null,
      "id": "3014fe36",
      "metadata": {
        "id": "3014fe36"
      },
      "outputs": [],
      "source": [
        "##Filter warnings\n",
        "import warnings\n",
        "warnings.filterwarnings('ignore')"
      ]
    },
    {
      "cell_type": "markdown",
      "source": [
        "### Previous Code\n",
        "\n",
        "The following code is from Session 2. Since this exercise is a continuation of the same problem statement, we have provided the code for building the k-NN model. Simply run the cells present below and then start attempting the questions from the `Session 3 - Model Selection` section."
      ],
      "metadata": {
        "id": "K0a-Sj5AQXpI"
      },
      "id": "K0a-Sj5AQXpI"
    },
    {
      "cell_type": "code",
      "execution_count": null,
      "id": "ac34c75a",
      "metadata": {
        "id": "ac34c75a"
      },
      "outputs": [],
      "source": [
        "##Load the dataset and check the top 5 rows\n",
        "fraud_df = pd.read_csv(\"fraud_detection_data_final.csv\")"
      ]
    },
    {
      "cell_type": "code",
      "execution_count": null,
      "id": "03c920d3",
      "metadata": {
        "id": "03c920d3"
      },
      "outputs": [],
      "source": [
        "## Write your code here\n",
        "non_categorical_columns = ['amt','trans_hour']\n",
        "for column in fraud_df.columns:\n",
        "    if column not in non_categorical_columns:\n",
        "        fraud_df[column] = pd.Categorical(fraud_df[column])"
      ]
    },
    {
      "cell_type": "code",
      "execution_count": null,
      "id": "18a5a666",
      "metadata": {
        "id": "18a5a666"
      },
      "outputs": [],
      "source": [
        "y = fraud_df['is_fraud']\n",
        "X = fraud_df.iloc[:, :-1]"
      ]
    },
    {
      "cell_type": "code",
      "execution_count": null,
      "id": "aa01dd49",
      "metadata": {
        "id": "aa01dd49"
      },
      "outputs": [],
      "source": [
        "X_train, X_val, y_train, y_val = train_test_split(X, y, test_size=0.3, random_state = 100)"
      ]
    },
    {
      "cell_type": "code",
      "execution_count": null,
      "id": "b92c861e",
      "metadata": {
        "id": "b92c861e"
      },
      "outputs": [],
      "source": [
        "scaler = StandardScaler()"
      ]
    },
    {
      "cell_type": "code",
      "execution_count": null,
      "id": "fa496f55",
      "metadata": {
        "id": "fa496f55"
      },
      "outputs": [],
      "source": [
        "##Scale the numerical data\n",
        "\n",
        "X_train[['amt','trans_hour']]= scaler.fit_transform(X_train[['amt','trans_hour']])\n",
        "X_val[['amt','trans_hour']]= scaler.transform(X_val[['amt','trans_hour']])"
      ]
    },
    {
      "cell_type": "code",
      "execution_count": null,
      "id": "f03c68c8",
      "metadata": {
        "scrolled": true,
        "id": "f03c68c8"
      },
      "outputs": [],
      "source": [
        "knn_clf = KNeighborsClassifier()\n",
        "param_grid = {'n_neighbors': np.arange(1,31)} # Parameter range\n",
        "\n",
        "# defining parameter range\n",
        "grid = GridSearchCV(knn_clf, param_grid, cv=5, scoring='accuracy', return_train_score=True, verbose=1)\n",
        "grid_search = grid.fit(X_train, y_train)\n",
        "\n",
        "grid_search.best_params_"
      ]
    },
    {
      "cell_type": "code",
      "execution_count": null,
      "id": "9162eabb",
      "metadata": {
        "id": "9162eabb"
      },
      "outputs": [],
      "source": [
        "knn_clf_best = KNeighborsClassifier(n_neighbors=grid_search.best_params_['n_neighbors'])\n",
        "knn_clf_best.fit(X_train, y_train)\n",
        "y_pred = knn_clf_best.predict(X_val)"
      ]
    },
    {
      "cell_type": "code",
      "execution_count": null,
      "id": "b96c0f31",
      "metadata": {
        "id": "b96c0f31"
      },
      "outputs": [],
      "source": [
        "print('Validation data Accuracy Score: %.4f' % accuracy_score(y_val, y_pred))"
      ]
    },
    {
      "cell_type": "markdown",
      "id": "e855c77a",
      "metadata": {
        "id": "e855c77a"
      },
      "source": [
        "### Session 3 - Model Selection\n",
        "\n",
        "\n",
        "\n",
        "\n",
        "\n"
      ]
    },
    {
      "cell_type": "markdown",
      "source": [
        "#### Segment: Classification Model Selection"
      ],
      "metadata": {
        "id": "17t1jQ7lR3ne"
      },
      "id": "17t1jQ7lR3ne"
    },
    {
      "cell_type": "code",
      "execution_count": null,
      "id": "8b378e10",
      "metadata": {
        "id": "8b378e10"
      },
      "outputs": [],
      "source": [
        "##Import Additional Libraries\n",
        "from sklearn.linear_model import Lasso, LassoCV, LogisticRegression\n",
        "from sklearn.tree import DecisionTreeClassifier, DecisionTreeRegressor\n",
        "from sklearn import tree"
      ]
    },
    {
      "cell_type": "markdown",
      "id": "71c72a49",
      "metadata": {
        "id": "71c72a49"
      },
      "source": [
        "#### Q1 Tree Model Validation Accuracy\n",
        "What is the validation set accuracy obtained from fitting a classification tree model on the training data? (Use ccp_alpha as 0.004 and the random state as 0)"
      ]
    },
    {
      "cell_type": "code",
      "execution_count": null,
      "id": "c2bf8d51",
      "metadata": {
        "id": "c2bf8d51"
      },
      "outputs": [],
      "source": [
        "#Write your code to build the Tree Model Here\n"
      ]
    },
    {
      "cell_type": "code",
      "execution_count": null,
      "id": "41fc03cb",
      "metadata": {
        "id": "41fc03cb"
      },
      "outputs": [],
      "source": [
        "#Calculate the validation accuracy\n"
      ]
    },
    {
      "cell_type": "markdown",
      "id": "95827443",
      "metadata": {
        "id": "95827443"
      },
      "source": [
        "#### Q2 Compare the Accuracies\n",
        "\n",
        "Now that you have built 2 models on the Credit Dataset (the k-NN model in the previous session and the classification tree model in the previous question), go head and build the final classification model - a logistic regression model and compute the validation accuracy. Take random state = 0, solver = lbfgs and keep the model unregularized\n",
        "\n",
        "After that Choose the correct sequence of the validation accuracies for the models."
      ]
    },
    {
      "cell_type": "code",
      "execution_count": null,
      "id": "effe6698",
      "metadata": {
        "id": "effe6698"
      },
      "outputs": [],
      "source": [
        "## Write the code to build the logistic Regression Model\n"
      ]
    },
    {
      "cell_type": "code",
      "execution_count": null,
      "id": "50af5139",
      "metadata": {
        "id": "50af5139"
      },
      "outputs": [],
      "source": [
        "## Calculate its validation accuracy"
      ]
    },
    {
      "cell_type": "code",
      "execution_count": null,
      "id": "8cf33fb2",
      "metadata": {
        "id": "8cf33fb2"
      },
      "outputs": [],
      "source": []
    },
    {
      "cell_type": "markdown",
      "source": [
        "The next question is from a future segment. Attempt it only after reaching that segment on the platform."
      ],
      "metadata": {
        "id": "ZG8FHck-SEsk"
      },
      "id": "ZG8FHck-SEsk"
    },
    {
      "cell_type": "markdown",
      "id": "c59227b6",
      "metadata": {
        "id": "c59227b6"
      },
      "source": [
        "### Segment: Selecting the Best Credit Model IV\n",
        "\n",
        "#### Misclassification Cost"
      ]
    },
    {
      "cell_type": "markdown",
      "id": "29f939b5",
      "metadata": {
        "id": "29f939b5"
      },
      "source": [
        "We will continue with the Credit Card Fraud Detection dataset. We will now look at the model performances in terms of their business impact. In this case, there are certain business criteria that we have to consider to base our model selection on.\n",
        "\n",
        "\n",
        "If our model is able to predict the fraudulent transactions accurately, it will potentially save the bank the entire transaction amount. Therefore, the average transaction amount for all the fraudulent transactions will be the false negative cost.\n",
        "\n",
        "\n",
        "If our model is predicting non-fraudulent transactions as fraudulent, the bank has to spend additional cost for verifying the transaction. Let's say this amount comes out to be $150. This value will be the false positive cost.\n",
        "\n",
        "\n",
        "We want to minimize the misclassification cost by minimizing the number of fraudulent transactions. In the following guided assessment, you'll be calculating the misclassification cost for all the three models and then identifying the model that gives the least misclassification cost."
      ]
    },
    {
      "cell_type": "code",
      "execution_count": null,
      "id": "972d9d70",
      "metadata": {
        "id": "972d9d70"
      },
      "outputs": [],
      "source": [
        "## Calculate the false negative cost\n",
        "## This is the average of the 'amt' column for all the fraudulent transactions\n",
        "fn_cost = np.mean(fraud_df[fraud_df['is_fraud']==1]['amt'])"
      ]
    },
    {
      "cell_type": "code",
      "execution_count": null,
      "id": "4a5af813",
      "metadata": {
        "id": "4a5af813"
      },
      "outputs": [],
      "source": [
        "##Take the value of false positive cost\n",
        "fp_cost = 150"
      ]
    },
    {
      "cell_type": "markdown",
      "id": "a07e3036",
      "metadata": {
        "id": "a07e3036"
      },
      "source": [
        "##### Calculating the misclassification cost for all three models"
      ]
    },
    {
      "cell_type": "markdown",
      "id": "8a9a1728",
      "metadata": {
        "id": "8a9a1728"
      },
      "source": [
        "##Q - Run the following code and identify the model with the least misclassification cost\n",
        "\n",
        "Note - In the first line of the code, we have taken the names of the 3 models as `log_clf_best`, `tree_clf_best` and `knn_clf_best` for the best performing logistic regression, tree model and knn model respectively. In case you have chosen a different name for any of the models, change the name in the below code accordingly."
      ]
    },
    {
      "cell_type": "code",
      "execution_count": null,
      "id": "abe5ae3f",
      "metadata": {
        "id": "abe5ae3f"
      },
      "outputs": [],
      "source": [
        "for clf_model in [log_clf_best, tree_clf_best, knn_clf_best]:\n",
        "    cost_train = []\n",
        "    cost_val=[]\n",
        "    probs_train = clf_model.predict_proba(X_train)[:, 1]\n",
        "    probs_val = clf_model.predict_proba(X_val)[:, 1]\n",
        "    ##Code for misclassification cost\n",
        "    for cutoff in np.arange(0, 1, 0.01):\n",
        "        curr_preds = np.where(probs_train > cutoff, 1, 0)\n",
        "        curr_cf = confusion_matrix(y_train, curr_preds)\n",
        "        curr_fp_count = curr_cf[0,1]\n",
        "        curr_fn_count = curr_cf[1,0]\n",
        "        curr_misclassification_cost = curr_fp_count * fp_cost + curr_fn_count * fn_cost\n",
        "        cost_train.append(curr_misclassification_cost)\n",
        "        curr_preds = np.where(probs_val > cutoff, 1, 0)\n",
        "        curr_cf = confusion_matrix(y_val, curr_preds)\n",
        "        curr_fp_count = curr_cf[0,1]\n",
        "        curr_fn_count = curr_cf[1,0]\n",
        "        curr_misclassification_cost = curr_fp_count * fp_cost + curr_fn_count * fn_cost\n",
        "        cost_val.append(curr_misclassification_cost)\n",
        "\n",
        "    # Get the X values (cut-off values)\n",
        "    cutoffs = np.arange(0, 1, 0.01)\n",
        "\n",
        "    # Plot misclassification cost against cut-off value\n",
        "    plt.plot(cutoffs,cost_train, label='Training')\n",
        "    plt.plot(cutoffs,cost_val, label='Validaiton')\n",
        "    plt.xlabel('Cut-off')\n",
        "    plt.ylabel('Misclassification Cost')\n",
        "    plt.legend()\n",
        "    plt.show()\n",
        "\n",
        "    # Find the minimum misclassification cost and its associated cut-off value based on the training data\n",
        "    best_cost = min(cost_train)\n",
        "    best_cutoff = cutoffs[cost_train.index(best_cost)]\n",
        "\n",
        "    #apply the cut-off value to the validation data\n",
        "    best_valcost=cost_val[cost_train.index(best_cost)]\n",
        "\n",
        "\n",
        "    print('Best Misclassification Cost for {model} on the training is {best_cost} at Cut-off {best_cutoff}'.format(model = clf_model,best_cost = best_cost, best_cutoff=best_cutoff));\n",
        "    print('Applying that cut-off to the validation data results in Misclassification Cost of %.2f ' % best_valcost);"
      ]
    },
    {
      "cell_type": "code",
      "execution_count": null,
      "id": "cc45a798",
      "metadata": {
        "id": "cc45a798"
      },
      "outputs": [],
      "source": []
    }
  ],
  "metadata": {
    "kernelspec": {
      "display_name": "Python 3 (ipykernel)",
      "language": "python",
      "name": "python3"
    },
    "language_info": {
      "codemirror_mode": {
        "name": "ipython",
        "version": 3
      },
      "file_extension": ".py",
      "mimetype": "text/x-python",
      "name": "python",
      "nbconvert_exporter": "python",
      "pygments_lexer": "ipython3",
      "version": "3.9.7"
    },
    "colab": {
      "provenance": []
    }
  },
  "nbformat": 4,
  "nbformat_minor": 5
}