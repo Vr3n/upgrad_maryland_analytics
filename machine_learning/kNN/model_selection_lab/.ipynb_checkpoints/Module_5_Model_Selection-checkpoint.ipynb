{
  "cells": [
    {
      "cell_type": "markdown",
      "id": "b6ba6fd1",
      "metadata": {
        "id": "b6ba6fd1"
      },
      "source": [
        "# Part 1 - Data Preparation\n",
        "\n",
        "In this notebook, we will try to find the best model that helps kMeans Bank decide whether to extend credit to a customer or not. You have seen this problem before when you were training kNN models. To find the best model, we will run and evaluate 6 different models. The 6 models are:\n",
        "- Linear regression model\n",
        "- Decision tree regressor\n",
        "- kNN regression model\n",
        "- Logistic regression model\n",
        "- Decision tree classifier\n",
        "- kNN classification model\n",
        "\n",
        "We will start with importing the required packages. These include modules that are needed to handle and manipulate data, metrics that are used to evaluate models, and the models themselves.\n",
        "\n",
        "**Note for Jupyter Notebook**: \n",
        "\n",
        "All the libraries/packages need to be updated to the latest version for the code to execute without any errors. Kindly check whether the *scikit-learn* library has been updated to the newest version, 1.1."
      ]
    },
    {
      "cell_type": "code",
      "execution_count": null,
      "id": "91e16376",
      "metadata": {
        "id": "91e16376"
      },
      "outputs": [],
      "source": [
        "# Import numpy and pandas to work with numbers and dataframes\n",
        "import pandas as pd\n",
        "import numpy as np\n",
        "\n",
        "# Import matplotlib.pyplot to create visualizations\n",
        "from matplotlib import pyplot as plt\n",
        "\n",
        "# Import libraries used in basic data manipulation\n",
        "from sklearn.model_selection import train_test_split\n",
        "from sklearn.preprocessing import StandardScaler\n",
        "\n",
        "# Import GridSearchCV to perform cross validation\n",
        "from sklearn.model_selection import GridSearchCV\n",
        "\n",
        "# Import different metrics used to evaluate models\n",
        "from sklearn.metrics import f1_score, precision_score, recall_score, accuracy_score, mean_squared_error\n",
        "from sklearn.metrics import confusion_matrix, ConfusionMatrixDisplay\n",
        "\n",
        "# Import modules needed to train different models\n",
        "from sklearn.neighbors import KNeighborsClassifier, KNeighborsRegressor\n",
        "from sklearn.linear_model import Lasso, LassoCV, LogisticRegression\n",
        "from sklearn.tree import DecisionTreeClassifier, DecisionTreeRegressor\n",
        "from sklearn import tree"
      ]
    },
    {
      "cell_type": "code",
      "execution_count": null,
      "id": "2d0b9f80",
      "metadata": {
        "id": "2d0b9f80"
      },
      "outputs": [],
      "source": [
        "# Filter warnings\n",
        "import warnings \n",
        "warnings.filterwarnings('ignore')"
      ]
    },
    {
      "cell_type": "markdown",
      "source": [
        "After importing the required libraries, we load the data and take a look at the first few rows of the data set. For this step, make sure that the CSV file is in the same folder as the notebook, or you have specified the complete address."
      ],
      "metadata": {
        "id": "0DNQs-TeZt1Z"
      },
      "id": "0DNQs-TeZt1Z"
    },
    {
      "cell_type": "code",
      "execution_count": null,
      "id": "1ecb7445",
      "metadata": {
        "colab": {
          "base_uri": "https://localhost:8080/",
          "height": 300
        },
        "id": "1ecb7445",
        "outputId": "f31c25f9-818a-4dd6-a5f4-32379fbc9f81"
      },
      "outputs": [
        {
          "output_type": "execute_result",
          "data": {
            "text/plain": [
              "   checking_account  duration  credit_history  purpose  amount  \\\n",
              "0                 3        18               0        2    1049   \n",
              "1                 3         9               0        5    2799   \n",
              "2                 0        12               4        8     841   \n",
              "3                 3        12               0        5    2122   \n",
              "4                 3        12               0        5    2171   \n",
              "\n",
              "   savings_account  employment_duration  installment_rate  other_debtors  \\\n",
              "0                4                    2                 2              2   \n",
              "1                4                    0                 1              2   \n",
              "2                0                    1                 1              2   \n",
              "3                4                    0                 0              2   \n",
              "4                4                    0                 2              2   \n",
              "\n",
              "   present_residence  ...  age  other_installment_plans  housing  \\\n",
              "0                  3  ...   21                        1        0   \n",
              "1                  0  ...   36                        1        0   \n",
              "2                  3  ...   23                        1        0   \n",
              "3                  0  ...   39                        1        0   \n",
              "4                  3  ...   38                        0        2   \n",
              "\n",
              "   number_credits  job  people_liable  telephone  foreign_worker  gender  \\\n",
              "0               0    1              0          0               0  female   \n",
              "1               1    1              1          0               0    male   \n",
              "2               0    3              0          0               0  female   \n",
              "3               1    3              1          0               1    male   \n",
              "4               1    3              0          0               1    male   \n",
              "\n",
              "  profit  \n",
              "0    242  \n",
              "1    596  \n",
              "2     25  \n",
              "3    568  \n",
              "4    782  \n",
              "\n",
              "[5 rows x 21 columns]"
            ],
            "text/html": [
              "\n",
              "  <div id=\"df-53fa480f-3307-40af-8bd4-1a067a19e73f\">\n",
              "    <div class=\"colab-df-container\">\n",
              "      <div>\n",
              "<style scoped>\n",
              "    .dataframe tbody tr th:only-of-type {\n",
              "        vertical-align: middle;\n",
              "    }\n",
              "\n",
              "    .dataframe tbody tr th {\n",
              "        vertical-align: top;\n",
              "    }\n",
              "\n",
              "    .dataframe thead th {\n",
              "        text-align: right;\n",
              "    }\n",
              "</style>\n",
              "<table border=\"1\" class=\"dataframe\">\n",
              "  <thead>\n",
              "    <tr style=\"text-align: right;\">\n",
              "      <th></th>\n",
              "      <th>checking_account</th>\n",
              "      <th>duration</th>\n",
              "      <th>credit_history</th>\n",
              "      <th>purpose</th>\n",
              "      <th>amount</th>\n",
              "      <th>savings_account</th>\n",
              "      <th>employment_duration</th>\n",
              "      <th>installment_rate</th>\n",
              "      <th>other_debtors</th>\n",
              "      <th>present_residence</th>\n",
              "      <th>...</th>\n",
              "      <th>age</th>\n",
              "      <th>other_installment_plans</th>\n",
              "      <th>housing</th>\n",
              "      <th>number_credits</th>\n",
              "      <th>job</th>\n",
              "      <th>people_liable</th>\n",
              "      <th>telephone</th>\n",
              "      <th>foreign_worker</th>\n",
              "      <th>gender</th>\n",
              "      <th>profit</th>\n",
              "    </tr>\n",
              "  </thead>\n",
              "  <tbody>\n",
              "    <tr>\n",
              "      <th>0</th>\n",
              "      <td>3</td>\n",
              "      <td>18</td>\n",
              "      <td>0</td>\n",
              "      <td>2</td>\n",
              "      <td>1049</td>\n",
              "      <td>4</td>\n",
              "      <td>2</td>\n",
              "      <td>2</td>\n",
              "      <td>2</td>\n",
              "      <td>3</td>\n",
              "      <td>...</td>\n",
              "      <td>21</td>\n",
              "      <td>1</td>\n",
              "      <td>0</td>\n",
              "      <td>0</td>\n",
              "      <td>1</td>\n",
              "      <td>0</td>\n",
              "      <td>0</td>\n",
              "      <td>0</td>\n",
              "      <td>female</td>\n",
              "      <td>242</td>\n",
              "    </tr>\n",
              "    <tr>\n",
              "      <th>1</th>\n",
              "      <td>3</td>\n",
              "      <td>9</td>\n",
              "      <td>0</td>\n",
              "      <td>5</td>\n",
              "      <td>2799</td>\n",
              "      <td>4</td>\n",
              "      <td>0</td>\n",
              "      <td>1</td>\n",
              "      <td>2</td>\n",
              "      <td>0</td>\n",
              "      <td>...</td>\n",
              "      <td>36</td>\n",
              "      <td>1</td>\n",
              "      <td>0</td>\n",
              "      <td>1</td>\n",
              "      <td>1</td>\n",
              "      <td>1</td>\n",
              "      <td>0</td>\n",
              "      <td>0</td>\n",
              "      <td>male</td>\n",
              "      <td>596</td>\n",
              "    </tr>\n",
              "    <tr>\n",
              "      <th>2</th>\n",
              "      <td>0</td>\n",
              "      <td>12</td>\n",
              "      <td>4</td>\n",
              "      <td>8</td>\n",
              "      <td>841</td>\n",
              "      <td>0</td>\n",
              "      <td>1</td>\n",
              "      <td>1</td>\n",
              "      <td>2</td>\n",
              "      <td>3</td>\n",
              "      <td>...</td>\n",
              "      <td>23</td>\n",
              "      <td>1</td>\n",
              "      <td>0</td>\n",
              "      <td>0</td>\n",
              "      <td>3</td>\n",
              "      <td>0</td>\n",
              "      <td>0</td>\n",
              "      <td>0</td>\n",
              "      <td>female</td>\n",
              "      <td>25</td>\n",
              "    </tr>\n",
              "    <tr>\n",
              "      <th>3</th>\n",
              "      <td>3</td>\n",
              "      <td>12</td>\n",
              "      <td>0</td>\n",
              "      <td>5</td>\n",
              "      <td>2122</td>\n",
              "      <td>4</td>\n",
              "      <td>0</td>\n",
              "      <td>0</td>\n",
              "      <td>2</td>\n",
              "      <td>0</td>\n",
              "      <td>...</td>\n",
              "      <td>39</td>\n",
              "      <td>1</td>\n",
              "      <td>0</td>\n",
              "      <td>1</td>\n",
              "      <td>3</td>\n",
              "      <td>1</td>\n",
              "      <td>0</td>\n",
              "      <td>1</td>\n",
              "      <td>male</td>\n",
              "      <td>568</td>\n",
              "    </tr>\n",
              "    <tr>\n",
              "      <th>4</th>\n",
              "      <td>3</td>\n",
              "      <td>12</td>\n",
              "      <td>0</td>\n",
              "      <td>5</td>\n",
              "      <td>2171</td>\n",
              "      <td>4</td>\n",
              "      <td>0</td>\n",
              "      <td>2</td>\n",
              "      <td>2</td>\n",
              "      <td>3</td>\n",
              "      <td>...</td>\n",
              "      <td>38</td>\n",
              "      <td>0</td>\n",
              "      <td>2</td>\n",
              "      <td>1</td>\n",
              "      <td>3</td>\n",
              "      <td>0</td>\n",
              "      <td>0</td>\n",
              "      <td>1</td>\n",
              "      <td>male</td>\n",
              "      <td>782</td>\n",
              "    </tr>\n",
              "  </tbody>\n",
              "</table>\n",
              "<p>5 rows × 21 columns</p>\n",
              "</div>\n",
              "      <button class=\"colab-df-convert\" onclick=\"convertToInteractive('df-53fa480f-3307-40af-8bd4-1a067a19e73f')\"\n",
              "              title=\"Convert this dataframe to an interactive table.\"\n",
              "              style=\"display:none;\">\n",
              "        \n",
              "  <svg xmlns=\"http://www.w3.org/2000/svg\" height=\"24px\"viewBox=\"0 0 24 24\"\n",
              "       width=\"24px\">\n",
              "    <path d=\"M0 0h24v24H0V0z\" fill=\"none\"/>\n",
              "    <path d=\"M18.56 5.44l.94 2.06.94-2.06 2.06-.94-2.06-.94-.94-2.06-.94 2.06-2.06.94zm-11 1L8.5 8.5l.94-2.06 2.06-.94-2.06-.94L8.5 2.5l-.94 2.06-2.06.94zm10 10l.94 2.06.94-2.06 2.06-.94-2.06-.94-.94-2.06-.94 2.06-2.06.94z\"/><path d=\"M17.41 7.96l-1.37-1.37c-.4-.4-.92-.59-1.43-.59-.52 0-1.04.2-1.43.59L10.3 9.45l-7.72 7.72c-.78.78-.78 2.05 0 2.83L4 21.41c.39.39.9.59 1.41.59.51 0 1.02-.2 1.41-.59l7.78-7.78 2.81-2.81c.8-.78.8-2.07 0-2.86zM5.41 20L4 18.59l7.72-7.72 1.47 1.35L5.41 20z\"/>\n",
              "  </svg>\n",
              "      </button>\n",
              "      \n",
              "  <style>\n",
              "    .colab-df-container {\n",
              "      display:flex;\n",
              "      flex-wrap:wrap;\n",
              "      gap: 12px;\n",
              "    }\n",
              "\n",
              "    .colab-df-convert {\n",
              "      background-color: #E8F0FE;\n",
              "      border: none;\n",
              "      border-radius: 50%;\n",
              "      cursor: pointer;\n",
              "      display: none;\n",
              "      fill: #1967D2;\n",
              "      height: 32px;\n",
              "      padding: 0 0 0 0;\n",
              "      width: 32px;\n",
              "    }\n",
              "\n",
              "    .colab-df-convert:hover {\n",
              "      background-color: #E2EBFA;\n",
              "      box-shadow: 0px 1px 2px rgba(60, 64, 67, 0.3), 0px 1px 3px 1px rgba(60, 64, 67, 0.15);\n",
              "      fill: #174EA6;\n",
              "    }\n",
              "\n",
              "    [theme=dark] .colab-df-convert {\n",
              "      background-color: #3B4455;\n",
              "      fill: #D2E3FC;\n",
              "    }\n",
              "\n",
              "    [theme=dark] .colab-df-convert:hover {\n",
              "      background-color: #434B5C;\n",
              "      box-shadow: 0px 1px 3px 1px rgba(0, 0, 0, 0.15);\n",
              "      filter: drop-shadow(0px 1px 2px rgba(0, 0, 0, 0.3));\n",
              "      fill: #FFFFFF;\n",
              "    }\n",
              "  </style>\n",
              "\n",
              "      <script>\n",
              "        const buttonEl =\n",
              "          document.querySelector('#df-53fa480f-3307-40af-8bd4-1a067a19e73f button.colab-df-convert');\n",
              "        buttonEl.style.display =\n",
              "          google.colab.kernel.accessAllowed ? 'block' : 'none';\n",
              "\n",
              "        async function convertToInteractive(key) {\n",
              "          const element = document.querySelector('#df-53fa480f-3307-40af-8bd4-1a067a19e73f');\n",
              "          const dataTable =\n",
              "            await google.colab.kernel.invokeFunction('convertToInteractive',\n",
              "                                                     [key], {});\n",
              "          if (!dataTable) return;\n",
              "\n",
              "          const docLinkHtml = 'Like what you see? Visit the ' +\n",
              "            '<a target=\"_blank\" href=https://colab.research.google.com/notebooks/data_table.ipynb>data table notebook</a>'\n",
              "            + ' to learn more about interactive tables.';\n",
              "          element.innerHTML = '';\n",
              "          dataTable['output_type'] = 'display_data';\n",
              "          await google.colab.output.renderOutput(dataTable, element);\n",
              "          const docLink = document.createElement('div');\n",
              "          docLink.innerHTML = docLinkHtml;\n",
              "          element.appendChild(docLink);\n",
              "        }\n",
              "      </script>\n",
              "    </div>\n",
              "  </div>\n",
              "  "
            ]
          },
          "metadata": {},
          "execution_count": 25
        }
      ],
      "source": [
        "# Load the data and take a look at it\n",
        "# Note: Make sure that the data is in the same folder as the Jupyter notebook or specify the address correctly\n",
        "credit_df = pd.read_csv(\"MyCreditData.csv\")\n",
        "credit_df.head()"
      ]
    },
    {
      "cell_type": "markdown",
      "source": [
        "We need to perform the following data manipulation steps before training models on the data:\n",
        "- Convert categorical columns into the *categorical* data type\n",
        "- Create a new binary column called *is_profitable* which will be used to train classification models\n",
        "- Create separate input and output variables\n",
        "- Create dummy variables in input variables\n",
        "  - with the first column for regression models\n",
        "  - without the first column for kNN and decision tree models\n",
        "- Perform train-validation split on the input and output variables\n",
        "- Scale non-dummy variables\n"
      ],
      "metadata": {
        "id": "GYHK7xgqb5VV"
      },
      "id": "GYHK7xgqb5VV"
    },
    {
      "cell_type": "code",
      "execution_count": null,
      "id": "061b18bc",
      "metadata": {
        "id": "061b18bc"
      },
      "outputs": [],
      "source": [
        "# Ensure Python reads the categorical variables as categorical\n",
        "non_categorical_columns = ['duration', 'amount', 'age', 'profit']\n",
        "for column in credit_df.columns:\n",
        "    if column not in non_categorical_columns:\n",
        "        credit_df[column] = pd.Categorical(credit_df[column])\n",
        "\n",
        "# Create binary dependent variable for classification models\n",
        "credit_df[\"is_profitable\"] = np.where(credit_df['profit'] > 0, 1, 0)"
      ]
    },
    {
      "cell_type": "code",
      "execution_count": null,
      "id": "4f5e20a5",
      "metadata": {
        "id": "4f5e20a5"
      },
      "outputs": [],
      "source": [
        "# Create separate variables for input and output \n",
        "y = credit_df['profit'] # Dependent variable for regression models\n",
        "X = credit_df.iloc[:, :-2] # Independent variables: all columns but the last two: profit and is_profitable\n",
        "\n",
        "# Use dummy variables for categorical variables \n",
        "X = pd.get_dummies(X, drop_first=False) #for kNN and trees\n",
        "X2 = pd.get_dummies(X, drop_first=True) #for regression\n",
        "\n",
        "# Perform the train validation split on all three data sets\n",
        "X_train, X_val, X2_train, X2_val, y_train, y_val = train_test_split(X, X2, y, test_size=0.3, random_state = 1)\n",
        "\n",
        "# Scale the non-dummy variables\n",
        "scaler = StandardScaler()\n",
        "X_train[['duration', 'amount', 'age']]= scaler.fit_transform(X_train[['duration', 'amount', 'age']])\n",
        "X2_train[['duration', 'amount', 'age']]= scaler.transform(X2_train[['duration', 'amount', 'age']])\n",
        "\n",
        "X_val[['duration', 'amount', 'age']]= scaler.transform(X_val[['duration', 'amount', 'age']])\n",
        "X2_val[['duration', 'amount', 'age']]= scaler.transform(X2_val[['duration', 'amount', 'age']])"
      ]
    },
    {
      "cell_type": "markdown",
      "source": [
        "Recall that we don't drop the base value of the categorical variables for decision trees and kNN models. That is why we needed to create two input variables: X and X2.\n",
        "\n",
        "Another thing to note here is that we need to fit the scaler only once as the mean and standard deviation as calculated on the training data are used to scale the validation data as well. Also, because the *duration*, *amount*, and *age* columns X_train and X_val are identical to those in X2_train and X2_val respectively, we can reuse the same scaler for all 4 data sets."
      ],
      "metadata": {
        "id": "wQwqnzWwhjUg"
      },
      "id": "wQwqnzWwhjUg"
    },
    {
      "cell_type": "markdown",
      "id": "55ee1409",
      "metadata": {
        "id": "55ee1409"
      },
      "source": [
        "# Part 2 - Model Selection"
      ]
    },
    {
      "cell_type": "markdown",
      "id": "9fa37af5",
      "metadata": {
        "id": "9fa37af5"
      },
      "source": [
        "Now that we have performed data manipulation required to train the models, we will select the best model based on two criteria:\n",
        "- Statistical measures\n",
        "- Business impact\n",
        "\n",
        "First, we will evaluate the prediction (regression) models based on the statistical measure of root mean squared error. For that, we need to define a function that calculates the RMSE, given the training and predicted outputs."
      ]
    },
    {
      "cell_type": "code",
      "execution_count": null,
      "id": "NNxTX0QBWVXh",
      "metadata": {
        "id": "NNxTX0QBWVXh"
      },
      "outputs": [],
      "source": [
        "# Define a function to calculate RMSE\n",
        "def rmse(y_train, y_pred):\n",
        "  return np.sqrt(mean_squared_error(y_train, y_pred))"
      ]
    },
    {
      "cell_type": "markdown",
      "id": "T8DFIzxAWYm4",
      "metadata": {
        "id": "T8DFIzxAWYm4"
      },
      "source": [
        "## 2.1 Fitting and evaluating prediction models using statistical measures\n",
        "\n",
        "In this section, we will train the three prediction models and evaluate them using the statistical measure of RMSE. We will start by training and evaluating a linear regression model with lasso regularization. For that, we will need to find the optimal value of alpha using the *LassoCV()* function. Note that this is a linear regression model, hence we will use X2_train to train the model."
      ]
    },
    {
      "cell_type": "code",
      "execution_count": null,
      "id": "I059clKqFP5y",
      "metadata": {
        "id": "I059clKqFP5y"
      },
      "outputs": [],
      "source": [
        "# Check all alphas from .01 to 10 in steps of size 0.25\n",
        "alphas = np.arange(.01, 25, .25)\n",
        "lasso_cv_model = LassoCV(alphas= alphas, cv=5, max_iter=50000)\n",
        "lasso_cv_model.fit(X2_train, y_train)\n",
        "\n",
        "# Train the lasso regression model with the best value of alpha\n",
        "lin_reg_best = Lasso(alpha=lasso_cv_model.alpha_)\n",
        "lin_reg_best.fit(X2_train, y_train)\n",
        "\n",
        "# Calculate RMSE for the lasso regression model on train and validation sets\n",
        "lin_train_rmse = rmse(y_train, lin_reg_best.predict(X2_train))\n",
        "lin_val_rmse = rmse(y_val, lin_reg_best.predict(X2_val))"
      ]
    },
    {
      "cell_type": "markdown",
      "source": [
        "After training the linear regression model with the optimal value of alpha, we have calculated the value of RMSE over the training and validation data using the *rmse()* function that we defined earlier. \n",
        "\n",
        "Next, we will train a decision tree regressor. But here again, we need to find the optimal value for the *ccp_alpha* parameter. So we will train multiple decision tree regressors and using different values of ccp alpha that we obtain using the *cost_complexity_pruning_path()* function."
      ],
      "metadata": {
        "id": "Xatt8b6y9lwi"
      },
      "id": "Xatt8b6y9lwi"
    },
    {
      "cell_type": "code",
      "execution_count": null,
      "id": "070ac45a",
      "metadata": {
        "id": "070ac45a"
      },
      "outputs": [],
      "source": [
        "# Get the different values of ccp alphas\n",
        "tree_reg = DecisionTreeRegressor()\n",
        "path= tree_reg.cost_complexity_pruning_path(X_train,y_train)\n",
        "ccp_alphas = path.ccp_alphas\n",
        "\n",
        "# Train decision tree regressor models for different values of ccp_alpha\n",
        "\n",
        "# Create a list to store the different tree models\n",
        "regs=[]\n",
        "\n",
        "# Iterate through different ccp alpha values and train models for each of them\n",
        "for ccp_alpha in ccp_alphas:\n",
        "  # Create and train the model\n",
        "  curr_reg = DecisionTreeRegressor(random_state=0, ccp_alpha = ccp_alpha)\n",
        "  curr_reg.fit(X_train,y_train)\n",
        "\n",
        "  # Save the model in the list\n",
        "  regs.append(curr_reg)\n",
        "\n",
        "# Calculate the RMSE for all the tree models\n",
        "\n",
        "# Create lists to store RMSE on training and validation data sets\n",
        "train_rmse=[]\n",
        "val_rmse=[]\n",
        "\n",
        "# Iterate through the models and calculate RMSE\n",
        "for r in regs:\n",
        "  y_train_pred=r.predict(X_train)\n",
        "  y_val_pred = r.predict(X_val)\n",
        "\n",
        "  train_rmse.append(rmse(y_train_pred,y_train))\n",
        "  val_rmse.append(rmse(y_val_pred,y_val))\n",
        "\n",
        "# Pick the best ccp alpha\n",
        "best_ccp_alpha = ccp_alphas[val_rmse.index(min(val_rmse))]\n",
        "\n",
        "# Train the corresponding tree\n",
        "tree_reg_best = tree.DecisionTreeRegressor(random_state=0, ccp_alpha=best_ccp_alpha)\n",
        "tree_reg_best.fit(X_train,y_train)\n",
        "\n",
        "# Calculate RMSE for the best tree\n",
        "tree_train_rmse = rmse(y_train, tree_reg_best.predict(X_train))\n",
        "tree_val_rmse = rmse(y_val, tree_reg_best.predict(X_val))"
      ]
    },
    {
      "cell_type": "markdown",
      "source": [
        "We have now trained a decision tree regressor model using the value of ccp alpha that minimizes the RMSE on the validation data set. Then we trained a tree using that value of ccp alpha and calculated its RMSE over the training and validation data sets.\n",
        "\n",
        "Next, we will train a kNN regression model, but instead of performing hyperparameter tuning as we have done in the previous two cases, we can simply use the optimal value *n_neighbors=16* that we calculated earlier."
      ],
      "metadata": {
        "id": "l5N2ONNA_yj6"
      },
      "id": "l5N2ONNA_yj6"
    },
    {
      "cell_type": "code",
      "execution_count": null,
      "id": "9PZqyZJyFaRY",
      "metadata": {
        "id": "9PZqyZJyFaRY"
      },
      "outputs": [],
      "source": [
        "# KNN Model (using our previous knowledge about the best k!)\n",
        "knn_reg_best = KNeighborsRegressor(n_neighbors=16)\n",
        "knn_reg_best.fit(X_train, y_train)\n",
        "\n",
        "knn_train_rmse = rmse(y_train, knn_reg_best.predict(X_train))\n",
        "knn_val_rmse = rmse(y_val, knn_reg_best.predict(X_val))"
      ]
    },
    {
      "cell_type": "markdown",
      "source": [
        "Finally, after training the three models and calculating their RMSE on the trianing and validation data sets, we will arrange them in a dataframe to display them properly in a table."
      ],
      "metadata": {
        "id": "zJn3mwgeA3-o"
      },
      "id": "zJn3mwgeA3-o"
    },
    {
      "cell_type": "code",
      "execution_count": null,
      "id": "krZn8fW4LNWl",
      "metadata": {
        "colab": {
          "base_uri": "https://localhost:8080/",
          "height": 143
        },
        "id": "krZn8fW4LNWl",
        "outputId": "bfb4ad16-3860-41cc-9f65-2ea07f35bc9a"
      },
      "outputs": [
        {
          "output_type": "execute_result",
          "data": {
            "text/plain": [
              "         RMSE Train  RMSE Validation\n",
              "Linear  1062.634646      1131.096301\n",
              "Tree    1112.240830      1096.454554\n",
              "kNN     1041.998782      1195.489711"
            ],
            "text/html": [
              "\n",
              "  <div id=\"df-75b6a37d-c917-458e-95d6-c9bfae9cfc1c\">\n",
              "    <div class=\"colab-df-container\">\n",
              "      <div>\n",
              "<style scoped>\n",
              "    .dataframe tbody tr th:only-of-type {\n",
              "        vertical-align: middle;\n",
              "    }\n",
              "\n",
              "    .dataframe tbody tr th {\n",
              "        vertical-align: top;\n",
              "    }\n",
              "\n",
              "    .dataframe thead th {\n",
              "        text-align: right;\n",
              "    }\n",
              "</style>\n",
              "<table border=\"1\" class=\"dataframe\">\n",
              "  <thead>\n",
              "    <tr style=\"text-align: right;\">\n",
              "      <th></th>\n",
              "      <th>RMSE Train</th>\n",
              "      <th>RMSE Validation</th>\n",
              "    </tr>\n",
              "  </thead>\n",
              "  <tbody>\n",
              "    <tr>\n",
              "      <th>Linear</th>\n",
              "      <td>1062.634646</td>\n",
              "      <td>1131.096301</td>\n",
              "    </tr>\n",
              "    <tr>\n",
              "      <th>Tree</th>\n",
              "      <td>1112.240830</td>\n",
              "      <td>1096.454554</td>\n",
              "    </tr>\n",
              "    <tr>\n",
              "      <th>kNN</th>\n",
              "      <td>1041.998782</td>\n",
              "      <td>1195.489711</td>\n",
              "    </tr>\n",
              "  </tbody>\n",
              "</table>\n",
              "</div>\n",
              "      <button class=\"colab-df-convert\" onclick=\"convertToInteractive('df-75b6a37d-c917-458e-95d6-c9bfae9cfc1c')\"\n",
              "              title=\"Convert this dataframe to an interactive table.\"\n",
              "              style=\"display:none;\">\n",
              "        \n",
              "  <svg xmlns=\"http://www.w3.org/2000/svg\" height=\"24px\"viewBox=\"0 0 24 24\"\n",
              "       width=\"24px\">\n",
              "    <path d=\"M0 0h24v24H0V0z\" fill=\"none\"/>\n",
              "    <path d=\"M18.56 5.44l.94 2.06.94-2.06 2.06-.94-2.06-.94-.94-2.06-.94 2.06-2.06.94zm-11 1L8.5 8.5l.94-2.06 2.06-.94-2.06-.94L8.5 2.5l-.94 2.06-2.06.94zm10 10l.94 2.06.94-2.06 2.06-.94-2.06-.94-.94-2.06-.94 2.06-2.06.94z\"/><path d=\"M17.41 7.96l-1.37-1.37c-.4-.4-.92-.59-1.43-.59-.52 0-1.04.2-1.43.59L10.3 9.45l-7.72 7.72c-.78.78-.78 2.05 0 2.83L4 21.41c.39.39.9.59 1.41.59.51 0 1.02-.2 1.41-.59l7.78-7.78 2.81-2.81c.8-.78.8-2.07 0-2.86zM5.41 20L4 18.59l7.72-7.72 1.47 1.35L5.41 20z\"/>\n",
              "  </svg>\n",
              "      </button>\n",
              "      \n",
              "  <style>\n",
              "    .colab-df-container {\n",
              "      display:flex;\n",
              "      flex-wrap:wrap;\n",
              "      gap: 12px;\n",
              "    }\n",
              "\n",
              "    .colab-df-convert {\n",
              "      background-color: #E8F0FE;\n",
              "      border: none;\n",
              "      border-radius: 50%;\n",
              "      cursor: pointer;\n",
              "      display: none;\n",
              "      fill: #1967D2;\n",
              "      height: 32px;\n",
              "      padding: 0 0 0 0;\n",
              "      width: 32px;\n",
              "    }\n",
              "\n",
              "    .colab-df-convert:hover {\n",
              "      background-color: #E2EBFA;\n",
              "      box-shadow: 0px 1px 2px rgba(60, 64, 67, 0.3), 0px 1px 3px 1px rgba(60, 64, 67, 0.15);\n",
              "      fill: #174EA6;\n",
              "    }\n",
              "\n",
              "    [theme=dark] .colab-df-convert {\n",
              "      background-color: #3B4455;\n",
              "      fill: #D2E3FC;\n",
              "    }\n",
              "\n",
              "    [theme=dark] .colab-df-convert:hover {\n",
              "      background-color: #434B5C;\n",
              "      box-shadow: 0px 1px 3px 1px rgba(0, 0, 0, 0.15);\n",
              "      filter: drop-shadow(0px 1px 2px rgba(0, 0, 0, 0.3));\n",
              "      fill: #FFFFFF;\n",
              "    }\n",
              "  </style>\n",
              "\n",
              "      <script>\n",
              "        const buttonEl =\n",
              "          document.querySelector('#df-75b6a37d-c917-458e-95d6-c9bfae9cfc1c button.colab-df-convert');\n",
              "        buttonEl.style.display =\n",
              "          google.colab.kernel.accessAllowed ? 'block' : 'none';\n",
              "\n",
              "        async function convertToInteractive(key) {\n",
              "          const element = document.querySelector('#df-75b6a37d-c917-458e-95d6-c9bfae9cfc1c');\n",
              "          const dataTable =\n",
              "            await google.colab.kernel.invokeFunction('convertToInteractive',\n",
              "                                                     [key], {});\n",
              "          if (!dataTable) return;\n",
              "\n",
              "          const docLinkHtml = 'Like what you see? Visit the ' +\n",
              "            '<a target=\"_blank\" href=https://colab.research.google.com/notebooks/data_table.ipynb>data table notebook</a>'\n",
              "            + ' to learn more about interactive tables.';\n",
              "          element.innerHTML = '';\n",
              "          dataTable['output_type'] = 'display_data';\n",
              "          await google.colab.output.renderOutput(dataTable, element);\n",
              "          const docLink = document.createElement('div');\n",
              "          docLink.innerHTML = docLinkHtml;\n",
              "          element.appendChild(docLink);\n",
              "        }\n",
              "      </script>\n",
              "    </div>\n",
              "  </div>\n",
              "  "
            ]
          },
          "metadata": {},
          "execution_count": 32
        }
      ],
      "source": [
        "# Create a dataframe to display the RMSE values for the three models\n",
        "pd.DataFrame([[lin_train_rmse, lin_val_rmse],[tree_train_rmse, tree_val_rmse], \n",
        "              [knn_train_rmse, knn_val_rmse]], columns=['RMSE Train', 'RMSE Validation'], \n",
        "              index = ['Linear', 'Tree', 'kNN'])"
      ]
    },
    {
      "cell_type": "markdown",
      "source": [
        "From this table, we can see that although the decision tree model had the worst performance (highest RMSE) on the training data, its performance is best (lowest RMSE) among the three models on the validation data set.\n",
        "\n",
        "Next, we will train and evaluate classification models."
      ],
      "metadata": {
        "id": "DiLYGI8zBWy2"
      },
      "id": "DiLYGI8zBWy2"
    },
    {
      "cell_type": "markdown",
      "id": "99b302e5",
      "metadata": {
        "id": "99b302e5"
      },
      "source": [
        "## 2.2 Model selection for classification using statistical measures\n",
        "\n",
        "So far, we have trained and evaluated the three regression models. Now, we will train the three classification models and evaluate them based on their validation accuracy. \n",
        "\n",
        "Note that we first need to change the independent variable in the training and validation data set. Recall that we created a binary variable in the column *is_profitable*. That is the column that we will use as the independent variable while training classification models. As we are creating a new independent variable, we need to perform a train validation split again. But remember to use the same value for the *random_state* parameter, otherwise the input and output values may not match."
      ]
    },
    {
      "cell_type": "code",
      "execution_count": null,
      "id": "627b73c6",
      "metadata": {
        "id": "627b73c6"
      },
      "outputs": [],
      "source": [
        "# Create the variable for output in case of classification\n",
        "y = credit_df['is_profitable']\n",
        "\n",
        "# Perform train-validation split on the new independent variable\n",
        "y_train, y_val = train_test_split(y, test_size=0.3, random_state = 1)"
      ]
    },
    {
      "cell_type": "markdown",
      "source": [
        "After preparing the independent variable, we need to train the three classification models. This time, we will use the optimal hyperparameters for all three models using our knowledge from previous modules. Therefore, the value of the *solver* and *max_iter* parameters in *LogisticRegression()*, the value of *ccp_alpha* in *DecisionTreeClassifier()*, and the value of *n_neighbors* in *KNeighborsClassifier()* are obtained from our previous analysis.\n",
        "\n",
        "Finally, after training the models, we will evaluate them using validation accuracy and training accuracy and store those values in a dataframe."
      ],
      "metadata": {
        "id": "B8dOCIRqOPFD"
      },
      "id": "B8dOCIRqOPFD"
    },
    {
      "cell_type": "code",
      "execution_count": null,
      "id": "426de96d",
      "metadata": {
        "id": "426de96d",
        "colab": {
          "base_uri": "https://localhost:8080/",
          "height": 143
        },
        "outputId": "7f022dd9-5b8a-4a89-eff9-317bc8ffd44a"
      },
      "outputs": [
        {
          "output_type": "execute_result",
          "data": {
            "text/plain": [
              "          Training Acc  Validation Acc\n",
              "Logistic      0.787143        0.766667\n",
              "Tree          0.792857        0.726667\n",
              "kNN           0.790000        0.730000"
            ],
            "text/html": [
              "\n",
              "  <div id=\"df-e3038778-1c45-4206-8b11-c6f89776b6ed\">\n",
              "    <div class=\"colab-df-container\">\n",
              "      <div>\n",
              "<style scoped>\n",
              "    .dataframe tbody tr th:only-of-type {\n",
              "        vertical-align: middle;\n",
              "    }\n",
              "\n",
              "    .dataframe tbody tr th {\n",
              "        vertical-align: top;\n",
              "    }\n",
              "\n",
              "    .dataframe thead th {\n",
              "        text-align: right;\n",
              "    }\n",
              "</style>\n",
              "<table border=\"1\" class=\"dataframe\">\n",
              "  <thead>\n",
              "    <tr style=\"text-align: right;\">\n",
              "      <th></th>\n",
              "      <th>Training Acc</th>\n",
              "      <th>Validation Acc</th>\n",
              "    </tr>\n",
              "  </thead>\n",
              "  <tbody>\n",
              "    <tr>\n",
              "      <th>Logistic</th>\n",
              "      <td>0.787143</td>\n",
              "      <td>0.766667</td>\n",
              "    </tr>\n",
              "    <tr>\n",
              "      <th>Tree</th>\n",
              "      <td>0.792857</td>\n",
              "      <td>0.726667</td>\n",
              "    </tr>\n",
              "    <tr>\n",
              "      <th>kNN</th>\n",
              "      <td>0.790000</td>\n",
              "      <td>0.730000</td>\n",
              "    </tr>\n",
              "  </tbody>\n",
              "</table>\n",
              "</div>\n",
              "      <button class=\"colab-df-convert\" onclick=\"convertToInteractive('df-e3038778-1c45-4206-8b11-c6f89776b6ed')\"\n",
              "              title=\"Convert this dataframe to an interactive table.\"\n",
              "              style=\"display:none;\">\n",
              "        \n",
              "  <svg xmlns=\"http://www.w3.org/2000/svg\" height=\"24px\"viewBox=\"0 0 24 24\"\n",
              "       width=\"24px\">\n",
              "    <path d=\"M0 0h24v24H0V0z\" fill=\"none\"/>\n",
              "    <path d=\"M18.56 5.44l.94 2.06.94-2.06 2.06-.94-2.06-.94-.94-2.06-.94 2.06-2.06.94zm-11 1L8.5 8.5l.94-2.06 2.06-.94-2.06-.94L8.5 2.5l-.94 2.06-2.06.94zm10 10l.94 2.06.94-2.06 2.06-.94-2.06-.94-.94-2.06-.94 2.06-2.06.94z\"/><path d=\"M17.41 7.96l-1.37-1.37c-.4-.4-.92-.59-1.43-.59-.52 0-1.04.2-1.43.59L10.3 9.45l-7.72 7.72c-.78.78-.78 2.05 0 2.83L4 21.41c.39.39.9.59 1.41.59.51 0 1.02-.2 1.41-.59l7.78-7.78 2.81-2.81c.8-.78.8-2.07 0-2.86zM5.41 20L4 18.59l7.72-7.72 1.47 1.35L5.41 20z\"/>\n",
              "  </svg>\n",
              "      </button>\n",
              "      \n",
              "  <style>\n",
              "    .colab-df-container {\n",
              "      display:flex;\n",
              "      flex-wrap:wrap;\n",
              "      gap: 12px;\n",
              "    }\n",
              "\n",
              "    .colab-df-convert {\n",
              "      background-color: #E8F0FE;\n",
              "      border: none;\n",
              "      border-radius: 50%;\n",
              "      cursor: pointer;\n",
              "      display: none;\n",
              "      fill: #1967D2;\n",
              "      height: 32px;\n",
              "      padding: 0 0 0 0;\n",
              "      width: 32px;\n",
              "    }\n",
              "\n",
              "    .colab-df-convert:hover {\n",
              "      background-color: #E2EBFA;\n",
              "      box-shadow: 0px 1px 2px rgba(60, 64, 67, 0.3), 0px 1px 3px 1px rgba(60, 64, 67, 0.15);\n",
              "      fill: #174EA6;\n",
              "    }\n",
              "\n",
              "    [theme=dark] .colab-df-convert {\n",
              "      background-color: #3B4455;\n",
              "      fill: #D2E3FC;\n",
              "    }\n",
              "\n",
              "    [theme=dark] .colab-df-convert:hover {\n",
              "      background-color: #434B5C;\n",
              "      box-shadow: 0px 1px 3px 1px rgba(0, 0, 0, 0.15);\n",
              "      filter: drop-shadow(0px 1px 2px rgba(0, 0, 0, 0.3));\n",
              "      fill: #FFFFFF;\n",
              "    }\n",
              "  </style>\n",
              "\n",
              "      <script>\n",
              "        const buttonEl =\n",
              "          document.querySelector('#df-e3038778-1c45-4206-8b11-c6f89776b6ed button.colab-df-convert');\n",
              "        buttonEl.style.display =\n",
              "          google.colab.kernel.accessAllowed ? 'block' : 'none';\n",
              "\n",
              "        async function convertToInteractive(key) {\n",
              "          const element = document.querySelector('#df-e3038778-1c45-4206-8b11-c6f89776b6ed');\n",
              "          const dataTable =\n",
              "            await google.colab.kernel.invokeFunction('convertToInteractive',\n",
              "                                                     [key], {});\n",
              "          if (!dataTable) return;\n",
              "\n",
              "          const docLinkHtml = 'Like what you see? Visit the ' +\n",
              "            '<a target=\"_blank\" href=https://colab.research.google.com/notebooks/data_table.ipynb>data table notebook</a>'\n",
              "            + ' to learn more about interactive tables.';\n",
              "          element.innerHTML = '';\n",
              "          dataTable['output_type'] = 'display_data';\n",
              "          await google.colab.output.renderOutput(dataTable, element);\n",
              "          const docLink = document.createElement('div');\n",
              "          docLink.innerHTML = docLinkHtml;\n",
              "          element.appendChild(docLink);\n",
              "        }\n",
              "      </script>\n",
              "    </div>\n",
              "  </div>\n",
              "  "
            ]
          },
          "metadata": {},
          "execution_count": 34
        }
      ],
      "source": [
        "# Create and train the logistic regression model\n",
        "log_clf_best = LogisticRegression(penalty='none', solver='lbfgs', random_state=0, \n",
        "                                     max_iter=200).fit(X2_train, y_train)\n",
        "\n",
        "# Calculate the logistic regression model's accuracy on the training and validation sets\n",
        "log_train_acc = log_clf_best.score(X2_train, y_train)\n",
        "log_val_acc = log_clf_best.score(X2_val, y_val)\n",
        "\n",
        "# Create and train the decision tree classifier model\n",
        "best_ccp_alpha = 0.004801587301587302 # from Module 4\n",
        "tree_clf_best = DecisionTreeClassifier(random_state=0, ccp_alpha=best_ccp_alpha)\n",
        "tree_clf_best.fit(X_train,y_train)\n",
        "\n",
        "# Calculate the decision tree classifier model's accuracy on the training and validation sets\n",
        "tree_train_acc = tree_clf_best.score(X_train, y_train)\n",
        "tree_val_acc = tree_clf_best.score(X_val, y_val)\n",
        "\n",
        "# Create and train the kNN model\n",
        "knn_clf_best = KNeighborsClassifier(n_neighbors=14)\n",
        "knn_clf_best.fit(X_train, y_train)\n",
        "\n",
        "# Calculate the kNN model's accuracy on the training and validation sets\n",
        "knn_train_acc = knn_clf_best.score(X_train, y_train)\n",
        "knn_val_acc = knn_clf_best.score(X_val, y_val)\n",
        "\n",
        "# Create a dataframe to display the accuracy values for the three models\n",
        "pd.DataFrame([[log_train_acc, log_val_acc], [tree_train_acc, tree_val_acc], \n",
        "              [knn_train_acc, knn_val_acc]], columns=['Training Acc', 'Validation Acc'], \n",
        "              index = ['Logistic', 'Tree', 'kNN'])"
      ]
    },
    {
      "cell_type": "markdown",
      "source": [
        "You can see that the logistic regression model has the best validation accuracy. Also, the performance of the models doesn't vary greatly between the training and validation data sets.\n",
        "\n",
        "We have now evaluated all 6 models on the basis of statistical measures such as RMSE and accuracy. But this kind of analysis may not necessarily result in the best results according to the business' bottom line. Hence, the next analysis we perform will be on the basis of the profit that different models earn for the business."
      ],
      "metadata": {
        "id": "XGa2JC4gPGk0"
      },
      "id": "XGa2JC4gPGk0"
    },
    {
      "cell_type": "markdown",
      "id": "3cfd060c",
      "metadata": {
        "id": "3cfd060c"
      },
      "source": [
        "## 2.3 Best credit model according to business impact\n",
        "\n",
        "We will now find the model that is best according to its business impact, that is, on the basis of the amount of profit it can earn for the business. Let's first look at how we will do this for classification models.\n",
        "\n",
        "As the output of the classification models is the probability of a customer being profitable, we need to decide a cutoff probability beyond which we will extend credit. In other words, if we select a cutoff probability of 0.6, we will extend credit to all the customers whose probability of being profitable is greater than 0.6.\n",
        "\n",
        "We will choose the best cutoff probability for each model that maximizes the profit earned by the bank on the validation data set. Once we have calculated the best cutoff probability and hence the highest profit on the validation data set for all three models, we can choose the model that produces the highest profit.\n",
        "\n",
        "Let's take this step by step."
      ]
    },
    {
      "cell_type": "code",
      "execution_count": null,
      "id": "2d2044e3",
      "metadata": {
        "id": "2d2044e3"
      },
      "outputs": [],
      "source": [
        "# Set potential cutoff values\n",
        "clf_cutoffs = np.arange(0,1.01,0.01)\n",
        "\n",
        "# Recover profit for training and testing data\n",
        "profit_arr = np.array(credit_df['profit'])\n",
        "profit_train, profit_val = train_test_split(profit_arr, test_size=0.3, random_state = 1)\n",
        "\n",
        "# For each model obtain the predicted probabilities and then save the total profit for different cutoffs\n",
        "table = []\n",
        "for clf_model in [log_clf_best, tree_clf_best, knn_clf_best]:\n",
        "    \n",
        "    # In case of logistic regression, use X2\n",
        "    if clf_model == log_clf_best:\n",
        "      probs_train = clf_model.predict_proba(X2_train)[:, 1]\n",
        "      probs_val = clf_model.predict_proba(X2_val)[:, 1]\n",
        "    \n",
        "    # In case of decision tree or kNN, use X\n",
        "    else:\n",
        "      probs_train = clf_model.predict_proba(X_train)[:, 1]\n",
        "      probs_val = clf_model.predict_proba(X_val)[:, 1]\n",
        "    \n",
        "    # Add the profits for all models which satisfy the cutoff for different values of cutoff\n",
        "    clf_profits = []\n",
        "    for cutoff in clf_cutoffs:\n",
        "        clf_profits.append(sum(profit_train[probs_train > cutoff]))\n",
        "\n",
        "    # Calculating the best cutoff\n",
        "    best_profit_train = max(clf_profits)\n",
        "    best_cutoff = clf_cutoffs[clf_profits.index(best_profit_train)]\n",
        "    best_profit_val = sum(profit_val[probs_val > best_cutoff])\n",
        "    table.append([best_cutoff, best_profit_train, best_profit_val])"
      ]
    },
    {
      "cell_type": "markdown",
      "source": [
        "You can see that we first created a list of cutoffs called *clf_cutoffs*. We then iterated through the three models calculating their best cutoff value (the value that maximizes profit on the validation data set). Finally, we have appended the cutoff, profit on the train data set, and the profit on the validation data set in a table.\n",
        "\n",
        "After calculating these values for the classification models, we will repeat the same process for the regression models, except, this time we will use different values of profit instead of probabilities as cutoff."
      ],
      "metadata": {
        "id": "_S3bsWXgWha9"
      },
      "id": "_S3bsWXgWha9"
    },
    {
      "cell_type": "code",
      "source": [
        "# Set potential cutoff values\n",
        "reg_cutoffs = np.arange(-5000, 2000)\n",
        "\n",
        "# For each model obtain the predicted profit and then save the total profit for different cutoffs\n",
        "for reg_model in [lin_reg_best, tree_reg_best, knn_reg_best]:\n",
        "    \n",
        "    # In case of linear regression, use X2\n",
        "    if reg_model == lin_reg_best:\n",
        "      pred_train = reg_model.predict(X2_train) \n",
        "      pred_val = reg_model.predict(X2_val)\n",
        "    \n",
        "    # In case of decision tree or kNN, use X\n",
        "    else:\n",
        "      pred_train = reg_model.predict(X_train) \n",
        "      pred_val = reg_model.predict(X_val)\n",
        "\n",
        "    # Add the profits for all models which satisfy the cutoff for different values of cutoff     \n",
        "    reg_profits = []\n",
        "    for cutoff in reg_cutoffs:\n",
        "        reg_profits.append(sum(profit_train[pred_train > cutoff]))\n",
        "\n",
        "    # Calculating the best cutoff\n",
        "    best_profit_train = max(reg_profits)\n",
        "    best_cutoff = reg_cutoffs[reg_profits.index(best_profit_train)]\n",
        "    best_profit_val = sum(profit_val[pred_val > best_cutoff])\n",
        "    table.append([best_cutoff, best_profit_train, best_profit_val])"
      ],
      "metadata": {
        "id": "w4JhOBzNbsLX"
      },
      "id": "w4JhOBzNbsLX",
      "execution_count": null,
      "outputs": []
    },
    {
      "cell_type": "markdown",
      "id": "4bbc4ae9",
      "metadata": {
        "id": "4bbc4ae9"
      },
      "source": [
        "To view the results of this analysis, we will arrange the values in a dataframe *table_df* and display it.\n",
        "\n"
      ]
    },
    {
      "cell_type": "code",
      "execution_count": null,
      "id": "02b6e638",
      "metadata": {
        "colab": {
          "base_uri": "https://localhost:8080/",
          "height": 238
        },
        "id": "02b6e638",
        "outputId": "6c6a1843-5b4a-4189-a60f-f63b5cc8d2fb"
      },
      "outputs": [
        {
          "output_type": "execute_result",
          "data": {
            "text/plain": [
              "              Cutoff Value  Train Profit  Validation Profit\n",
              "Logistic Clf          0.62        135590              51690\n",
              "Tree Clf              0.32        113807              33949\n",
              "KNN Clf               0.65        124283              35622\n",
              "Linear Reg         -292.00        115896              34703\n",
              " Tree Reg         -2715.00         49394              18923\n",
              "KNN Reg              23.00        133572              35107"
            ],
            "text/html": [
              "\n",
              "  <div id=\"df-a37019c5-502b-4eb4-9053-1d31fec8df1f\">\n",
              "    <div class=\"colab-df-container\">\n",
              "      <div>\n",
              "<style scoped>\n",
              "    .dataframe tbody tr th:only-of-type {\n",
              "        vertical-align: middle;\n",
              "    }\n",
              "\n",
              "    .dataframe tbody tr th {\n",
              "        vertical-align: top;\n",
              "    }\n",
              "\n",
              "    .dataframe thead th {\n",
              "        text-align: right;\n",
              "    }\n",
              "</style>\n",
              "<table border=\"1\" class=\"dataframe\">\n",
              "  <thead>\n",
              "    <tr style=\"text-align: right;\">\n",
              "      <th></th>\n",
              "      <th>Cutoff Value</th>\n",
              "      <th>Train Profit</th>\n",
              "      <th>Validation Profit</th>\n",
              "    </tr>\n",
              "  </thead>\n",
              "  <tbody>\n",
              "    <tr>\n",
              "      <th>Logistic Clf</th>\n",
              "      <td>0.62</td>\n",
              "      <td>135590</td>\n",
              "      <td>51690</td>\n",
              "    </tr>\n",
              "    <tr>\n",
              "      <th>Tree Clf</th>\n",
              "      <td>0.32</td>\n",
              "      <td>113807</td>\n",
              "      <td>33949</td>\n",
              "    </tr>\n",
              "    <tr>\n",
              "      <th>KNN Clf</th>\n",
              "      <td>0.65</td>\n",
              "      <td>124283</td>\n",
              "      <td>35622</td>\n",
              "    </tr>\n",
              "    <tr>\n",
              "      <th>Linear Reg</th>\n",
              "      <td>-292.00</td>\n",
              "      <td>115896</td>\n",
              "      <td>34703</td>\n",
              "    </tr>\n",
              "    <tr>\n",
              "      <th>Tree Reg</th>\n",
              "      <td>-2715.00</td>\n",
              "      <td>49394</td>\n",
              "      <td>18923</td>\n",
              "    </tr>\n",
              "    <tr>\n",
              "      <th>KNN Reg</th>\n",
              "      <td>23.00</td>\n",
              "      <td>133572</td>\n",
              "      <td>35107</td>\n",
              "    </tr>\n",
              "  </tbody>\n",
              "</table>\n",
              "</div>\n",
              "      <button class=\"colab-df-convert\" onclick=\"convertToInteractive('df-a37019c5-502b-4eb4-9053-1d31fec8df1f')\"\n",
              "              title=\"Convert this dataframe to an interactive table.\"\n",
              "              style=\"display:none;\">\n",
              "        \n",
              "  <svg xmlns=\"http://www.w3.org/2000/svg\" height=\"24px\"viewBox=\"0 0 24 24\"\n",
              "       width=\"24px\">\n",
              "    <path d=\"M0 0h24v24H0V0z\" fill=\"none\"/>\n",
              "    <path d=\"M18.56 5.44l.94 2.06.94-2.06 2.06-.94-2.06-.94-.94-2.06-.94 2.06-2.06.94zm-11 1L8.5 8.5l.94-2.06 2.06-.94-2.06-.94L8.5 2.5l-.94 2.06-2.06.94zm10 10l.94 2.06.94-2.06 2.06-.94-2.06-.94-.94-2.06-.94 2.06-2.06.94z\"/><path d=\"M17.41 7.96l-1.37-1.37c-.4-.4-.92-.59-1.43-.59-.52 0-1.04.2-1.43.59L10.3 9.45l-7.72 7.72c-.78.78-.78 2.05 0 2.83L4 21.41c.39.39.9.59 1.41.59.51 0 1.02-.2 1.41-.59l7.78-7.78 2.81-2.81c.8-.78.8-2.07 0-2.86zM5.41 20L4 18.59l7.72-7.72 1.47 1.35L5.41 20z\"/>\n",
              "  </svg>\n",
              "      </button>\n",
              "      \n",
              "  <style>\n",
              "    .colab-df-container {\n",
              "      display:flex;\n",
              "      flex-wrap:wrap;\n",
              "      gap: 12px;\n",
              "    }\n",
              "\n",
              "    .colab-df-convert {\n",
              "      background-color: #E8F0FE;\n",
              "      border: none;\n",
              "      border-radius: 50%;\n",
              "      cursor: pointer;\n",
              "      display: none;\n",
              "      fill: #1967D2;\n",
              "      height: 32px;\n",
              "      padding: 0 0 0 0;\n",
              "      width: 32px;\n",
              "    }\n",
              "\n",
              "    .colab-df-convert:hover {\n",
              "      background-color: #E2EBFA;\n",
              "      box-shadow: 0px 1px 2px rgba(60, 64, 67, 0.3), 0px 1px 3px 1px rgba(60, 64, 67, 0.15);\n",
              "      fill: #174EA6;\n",
              "    }\n",
              "\n",
              "    [theme=dark] .colab-df-convert {\n",
              "      background-color: #3B4455;\n",
              "      fill: #D2E3FC;\n",
              "    }\n",
              "\n",
              "    [theme=dark] .colab-df-convert:hover {\n",
              "      background-color: #434B5C;\n",
              "      box-shadow: 0px 1px 3px 1px rgba(0, 0, 0, 0.15);\n",
              "      filter: drop-shadow(0px 1px 2px rgba(0, 0, 0, 0.3));\n",
              "      fill: #FFFFFF;\n",
              "    }\n",
              "  </style>\n",
              "\n",
              "      <script>\n",
              "        const buttonEl =\n",
              "          document.querySelector('#df-a37019c5-502b-4eb4-9053-1d31fec8df1f button.colab-df-convert');\n",
              "        buttonEl.style.display =\n",
              "          google.colab.kernel.accessAllowed ? 'block' : 'none';\n",
              "\n",
              "        async function convertToInteractive(key) {\n",
              "          const element = document.querySelector('#df-a37019c5-502b-4eb4-9053-1d31fec8df1f');\n",
              "          const dataTable =\n",
              "            await google.colab.kernel.invokeFunction('convertToInteractive',\n",
              "                                                     [key], {});\n",
              "          if (!dataTable) return;\n",
              "\n",
              "          const docLinkHtml = 'Like what you see? Visit the ' +\n",
              "            '<a target=\"_blank\" href=https://colab.research.google.com/notebooks/data_table.ipynb>data table notebook</a>'\n",
              "            + ' to learn more about interactive tables.';\n",
              "          element.innerHTML = '';\n",
              "          dataTable['output_type'] = 'display_data';\n",
              "          await google.colab.output.renderOutput(dataTable, element);\n",
              "          const docLink = document.createElement('div');\n",
              "          docLink.innerHTML = docLinkHtml;\n",
              "          element.appendChild(docLink);\n",
              "        }\n",
              "      </script>\n",
              "    </div>\n",
              "  </div>\n",
              "  "
            ]
          },
          "metadata": {},
          "execution_count": 37
        }
      ],
      "source": [
        "table_df = pd.DataFrame(table, columns=['Cutoff Value', 'Train Profit', 'Validation Profit'], \n",
        "                        index=['Logistic Clf','Tree Clf','KNN Clf','Linear Reg',' Tree Reg', 'KNN Reg'])\n",
        "table_df"
      ]
    },
    {
      "cell_type": "markdown",
      "id": "a560c34f",
      "metadata": {
        "id": "a560c34f"
      },
      "source": [
        "We can see that the logistic regression model with a cutoff value 0.62 maximizes the profit at $51,690."
      ]
    },
    {
      "cell_type": "markdown",
      "id": "3d0cb5c3",
      "metadata": {
        "id": "3d0cb5c3"
      },
      "source": [
        "## 2.4 How does cutoff influence profit?\n",
        "\n",
        "We also want to understand how profit varies with cutoff values. For this, in case of classification model, we can calculate the total profit on the training and validation data sets for each cutoff value and plot it against the cutoff value. \n",
        "\n",
        "Let's do this for the kNN model first. Similar analysis can be repeated for the other models."
      ]
    },
    {
      "cell_type": "code",
      "execution_count": null,
      "id": "99ce01a0",
      "metadata": {
        "colab": {
          "base_uri": "https://localhost:8080/",
          "height": 279
        },
        "id": "99ce01a0",
        "outputId": "3c1d9f41-6858-4879-d96a-3264fbb37903"
      },
      "outputs": [
        {
          "output_type": "display_data",
          "data": {
            "text/plain": [
              "<Figure size 432x288 with 1 Axes>"
            ],
            "image/png": "[encoded data removed]"
          },
          "metadata": {
            "needs_background": "light"
          }
        }
      ],
      "source": [
        "# Calculate the predicted probability using the best kNN model on the training and validation data sets\n",
        "probs_train = knn_clf_best.predict_proba(X_train)[:, 1]\n",
        "probs_val = knn_clf_best.predict_proba(X_val)[:, 1]\n",
        "\n",
        "# Saving profits for different cutoffs\n",
        "train_profits_by_cutoff, val_profits_by_cutoff = [], []\n",
        "for cutoff in clf_cutoffs:\n",
        "    train_profits_by_cutoff.append(sum(profit_train[probs_train > cutoff]))\n",
        "    val_profits_by_cutoff.append(sum(profit_val[probs_val > cutoff]))\n",
        "\n",
        "# Plotting training and validation profts against cutoffs \n",
        "plt.plot(clf_cutoffs, train_profits_by_cutoff)\n",
        "plt.plot(clf_cutoffs, val_profits_by_cutoff)\n",
        "plt.xlabel('Cutoff')\n",
        "plt.ylabel('Profit')\n",
        "plt.show()"
      ]
    },
    {
      "cell_type": "markdown",
      "id": "6c5d2b1c",
      "metadata": {
        "id": "6c5d2b1c"
      },
      "source": [
        "We can see the profit is maximized at similar cutoffs for train and validation. But is that true for all the models? For that, we will have to plot the best cutoff based on the training data along with the cutoff vs profit on validation data. That is what we will do next.\n",
        "\n",
        "## 2.5 Comparing best cutoff on training data with profit on validation data for classification models\n",
        "\n",
        "So now we want to check whether the best cutoff that we calculated using the training data is close to the cutoff value that maximizes profit on the validation data. \n",
        "\n",
        "We already know the best cutoff values on the training data, so we will represent them using vertical lines with different colors for different models. While on the same graph, we will plot the total profit on the validation data set for each cutoff value. "
      ]
    },
    {
      "cell_type": "code",
      "execution_count": null,
      "id": "1fd936de",
      "metadata": {
        "colab": {
          "base_uri": "https://localhost:8080/",
          "height": 296
        },
        "id": "1fd936de",
        "outputId": "d934190a-63a8-45f4-dcb3-c9318ea5a746"
      },
      "outputs": [
        {
          "output_type": "execute_result",
          "data": {
            "text/plain": [
              "<matplotlib.legend.Legend at 0x7f26851c6400>"
            ]
          },
          "metadata": {},
          "execution_count": 39
        },
        {
          "output_type": "display_data",
          "data": {
            "text/plain": [
              "<Figure size 432x288 with 1 Axes>"
            ],
            "image/png": "[encoded data removed]"
          },
          "metadata": {
            "needs_background": "light"
          }
        }
      ],
      "source": [
        "# Create a list to specify colors for the three different models\n",
        "colors = ['tab:blue', 'tab:orange', 'tab:green']\n",
        "\n",
        "# Create cutoff vs validation profit graphs along with the best train cutoff value for the three classification models\n",
        "for i, clf_model in enumerate([log_clf_best, tree_clf_best, knn_clf_best]):\n",
        "    \n",
        "    # In case of logistic regression, use X2\n",
        "    if i==1:\n",
        "      probs_val = clf_model.predict_proba(X2_val)[:, 1]\n",
        "    \n",
        "    # In case of decision tree or kNN, use X\n",
        "    else:\n",
        "      probs_val = clf_model.predict_proba(X_val)[:, 1]\n",
        "    \n",
        "    # Create a list of total profit values for different cutoff values\n",
        "    val_profits_by_cutoff = []\n",
        "    for cutoff in clf_cutoffs:\n",
        "        val_profits_by_cutoff.append(sum(profit_val[probs_val > cutoff]))\n",
        "    \n",
        "    # Get the name of the classification model\n",
        "    model_name = table_df.index[i]\n",
        "    \n",
        "    # Add the current model's validation profit to the plot\n",
        "    plt.plot(clf_cutoffs, val_profits_by_cutoff, label=model_name, color=colors[i])\n",
        "    \n",
        "    # Add the current model's best train cutoff to the plot\n",
        "    best_train_cutoff = table_df['Cutoff Value'][i]\n",
        "    plt.axvline(x=best_train_cutoff, color=colors[i], linestyle='dashed')\n",
        "plt.xlabel('Cutoff')\n",
        "plt.ylabel('Validation Profit')\n",
        "plt.legend()"
      ]
    },
    {
      "cell_type": "markdown",
      "id": "51799490",
      "metadata": {
        "id": "51799490"
      },
      "source": [
        "You can see that the optimal cutoff value obtained using the train data (represented by the vertical lines) is close to the optimal cutoff value that we observe using the validation data (represented by the point where the graph achieves the maximum value) for all three models.\n",
        "\n",
        "We can generate the same plot for the prediction models."
      ]
    },
    {
      "cell_type": "code",
      "execution_count": null,
      "id": "01ed0109",
      "metadata": {
        "colab": {
          "base_uri": "https://localhost:8080/",
          "height": 296
        },
        "id": "01ed0109",
        "outputId": "85a9ed48-bf0a-4e2d-d6d3-04c720325936"
      },
      "outputs": [
        {
          "output_type": "execute_result",
          "data": {
            "text/plain": [
              "<matplotlib.legend.Legend at 0x7f2685186940>"
            ]
          },
          "metadata": {},
          "execution_count": 40
        },
        {
          "output_type": "display_data",
          "data": {
            "text/plain": [
              "<Figure size 432x288 with 1 Axes>"
            ],
            "image/png": "[encoded data removed]"
          },
          "metadata": {
            "needs_background": "light"
          }
        }
      ],
      "source": [
        "# Create a list to specify colors for the three different models\n",
        "colors = ['tab:blue', 'tab:orange', 'tab:green']\n",
        "\n",
        "# Create cutoff vs validation profit graphs along with the best train cutoff value for the three regression models\n",
        "for i, reg_model in enumerate([lin_reg_best, tree_reg_best, knn_reg_best]):\n",
        "\n",
        "    # In case of linear regression, use X2\n",
        "    if i==1:\n",
        "      pred_val = reg_model.predict(X2_val)\n",
        "    \n",
        "    # In case of regression tree and kNN, use X\n",
        "    else:\n",
        "      pred_val = reg_model.predict(X_val)\n",
        "\n",
        "    # Create a list of total profit values for different cutoff values\n",
        "    val_profits_by_cutoff = []\n",
        "    for cutoff in reg_cutoffs:\n",
        "        val_profits_by_cutoff.append(sum(profit_val[pred_val > cutoff]))\n",
        "    \n",
        "    # Get the name of the regression model\n",
        "    model_name = table_df.index[i+3]\n",
        "\n",
        "    # Add the current model's validation profit to the plot\n",
        "    plt.plot(reg_cutoffs, val_profits_by_cutoff, label=model_name, color=colors[i])\n",
        "    \n",
        "    # Add the current model's best train cutoff to the plot\n",
        "    train_cutoff = table_df['Cutoff Value'][i+3]\n",
        "    plt.axvline(x=train_cutoff, color=colors[i],linestyle='dashed')\n",
        "plt.xlabel('Cutoff')\n",
        "plt.ylabel('Validation Profit')\n",
        "plt.legend()\n"
      ]
    },
    {
      "cell_type": "markdown",
      "source": [
        "Here again, you can see that the optimal cutoff value obtained using the train data (represented by the vertical lines) is close to the optimal cutoff value that we observe using the validation data (represented by the point where the graph achieves the maximum value) for all three models."
      ],
      "metadata": {
        "id": "fGnlkAFFApud"
      },
      "id": "fGnlkAFFApud"
    }
  ],
  "metadata": {
    "colab": {
      "provenance": []
    },
    "kernelspec": {
      "display_name": "Python 3 (ipykernel)",
      "language": "python",
      "name": "python3"
    },
    "language_info": {
      "codemirror_mode": {
        "name": "ipython",
        "version": 3
      },
      "file_extension": ".py",
      "mimetype": "text/x-python",
      "name": "python",
      "nbconvert_exporter": "python",
      "pygments_lexer": "ipython3",
      "version": "3.9.7"
    }
  },
  "nbformat": 4,
  "nbformat_minor": 5
}