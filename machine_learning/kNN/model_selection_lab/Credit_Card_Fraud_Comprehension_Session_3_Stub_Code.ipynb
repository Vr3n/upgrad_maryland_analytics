{
 "cells": [
  {
   "cell_type": "code",
   "execution_count": 1,
   "id": "b506c2cd",
   "metadata": {
    "id": "b506c2cd"
   },
   "outputs": [],
   "source": [
    "##Import Libraries\n",
    "import pandas as pd\n",
    "import numpy as np\n",
    "from matplotlib import pyplot as plt\n",
    "\n",
    "from sklearn.model_selection import train_test_split\n",
    "from sklearn.preprocessing import StandardScaler\n",
    "from sklearn.model_selection import GridSearchCV\n",
    "from sklearn.metrics import f1_score, precision_score, recall_score, accuracy_score, mean_squared_error\n",
    "from sklearn.metrics import confusion_matrix, ConfusionMatrixDisplay\n",
    "from sklearn.neighbors import KNeighborsClassifier, KNeighborsRegressor"
   ]
  },
  {
   "cell_type": "code",
   "execution_count": 2,
   "id": "3014fe36",
   "metadata": {
    "id": "3014fe36"
   },
   "outputs": [],
   "source": [
    "##Filter warnings\n",
    "import warnings\n",
    "warnings.filterwarnings('ignore')"
   ]
  },
  {
   "cell_type": "markdown",
   "id": "K0a-Sj5AQXpI",
   "metadata": {
    "id": "K0a-Sj5AQXpI"
   },
   "source": [
    "### Previous Code\n",
    "\n",
    "The following code is from Session 2. Since this exercise is a continuation of the same problem statement, we have provided the code for building the k-NN model. Simply run the cells present below and then start attempting the questions from the `Session 3 - Model Selection` section."
   ]
  },
  {
   "cell_type": "code",
   "execution_count": 3,
   "id": "ac34c75a",
   "metadata": {
    "id": "ac34c75a"
   },
   "outputs": [],
   "source": [
    "##Load the dataset and check the top 5 rows\n",
    "fraud_df = pd.read_csv(\"fraud_detection_data_final.csv\")"
   ]
  },
  {
   "cell_type": "code",
   "execution_count": 4,
   "id": "03c920d3",
   "metadata": {
    "id": "03c920d3"
   },
   "outputs": [],
   "source": [
    "## Write your code here\n",
    "non_categorical_columns = ['amt','trans_hour']\n",
    "for column in fraud_df.columns:\n",
    "    if column not in non_categorical_columns:\n",
    "        fraud_df[column] = pd.Categorical(fraud_df[column])"
   ]
  },
  {
   "cell_type": "code",
   "execution_count": 5,
   "id": "18a5a666",
   "metadata": {
    "id": "18a5a666"
   },
   "outputs": [],
   "source": [
    "y = fraud_df['is_fraud']\n",
    "X = fraud_df.iloc[:, :-1]"
   ]
  },
  {
   "cell_type": "code",
   "execution_count": 6,
   "id": "aa01dd49",
   "metadata": {
    "id": "aa01dd49"
   },
   "outputs": [],
   "source": [
    "X_train, X_val, y_train, y_val = train_test_split(X, y, test_size=0.3, random_state = 100)"
   ]
  },
  {
   "cell_type": "code",
   "execution_count": 7,
   "id": "b92c861e",
   "metadata": {
    "id": "b92c861e"
   },
   "outputs": [],
   "source": [
    "scaler = StandardScaler()"
   ]
  },
  {
   "cell_type": "code",
   "execution_count": 8,
   "id": "fa496f55",
   "metadata": {
    "id": "fa496f55"
   },
   "outputs": [],
   "source": [
    "##Scale the numerical data\n",
    "\n",
    "X_train[['amt','trans_hour']]= scaler.fit_transform(X_train[['amt','trans_hour']])\n",
    "X_val[['amt','trans_hour']]= scaler.transform(X_val[['amt','trans_hour']])"
   ]
  },
  {
   "cell_type": "code",
   "execution_count": null,
   "id": "f03c68c8",
   "metadata": {
    "id": "f03c68c8",
    "scrolled": true
   },
   "outputs": [
    {
     "name": "stdout",
     "output_type": "stream",
     "text": [
      "Fitting 5 folds for each of 34 candidates, totalling 170 fits\n"
     ]
    }
   ],
   "source": [
    "knn_clf = KNeighborsClassifier()\n",
    "param_grid = {'n_neighbors': np.arange(1,35)} # Parameter range\n",
    "\n",
    "# defining parameter range\n",
    "grid = GridSearchCV(knn_clf, param_grid, cv=5, scoring='accuracy', return_train_score=True, verbose=1)\n",
    "grid_search = grid.fit(X_train, y_train)\n",
    "\n",
    "grid_search.best_params_"
   ]
  },
  {
   "cell_type": "code",
   "execution_count": 10,
   "id": "9162eabb",
   "metadata": {
    "id": "9162eabb"
   },
   "outputs": [],
   "source": [
    "knn_clf_best = KNeighborsClassifier(n_neighbors=grid_search.best_params_['n_neighbors'])\n",
    "knn_clf_best.fit(X_train, y_train)\n",
    "y_pred = knn_clf_best.predict(X_val)"
   ]
  },
  {
   "cell_type": "code",
   "execution_count": 11,
   "id": "149f72bc-0704-457b-b521-1aa3a9a8aaaa",
   "metadata": {},
   "outputs": [],
   "source": [
    "knn_acc = accuracy_score(y_val, y_pred)"
   ]
  },
  {
   "cell_type": "code",
   "execution_count": 12,
   "id": "b96c0f31",
   "metadata": {
    "id": "b96c0f31"
   },
   "outputs": [
    {
     "name": "stdout",
     "output_type": "stream",
     "text": [
      "Validation data Accuracy Score: 0.8675\n"
     ]
    }
   ],
   "source": [
    "print('Validation data Accuracy Score: %.4f' % knn_acc)"
   ]
  },
  {
   "cell_type": "markdown",
   "id": "e855c77a",
   "metadata": {
    "id": "e855c77a"
   },
   "source": [
    "### Session 3 - Model Selection\n",
    "\n",
    "\n",
    "\n",
    "\n",
    "\n"
   ]
  },
  {
   "cell_type": "markdown",
   "id": "17t1jQ7lR3ne",
   "metadata": {
    "id": "17t1jQ7lR3ne"
   },
   "source": [
    "#### Segment: Classification Model Selection"
   ]
  },
  {
   "cell_type": "code",
   "execution_count": 13,
   "id": "8b378e10",
   "metadata": {
    "id": "8b378e10"
   },
   "outputs": [],
   "source": [
    "##Import Additional Libraries\n",
    "from sklearn.linear_model import Lasso, LassoCV, LogisticRegression\n",
    "from sklearn.tree import DecisionTreeClassifier, DecisionTreeRegressor\n",
    "from sklearn import tree"
   ]
  },
  {
   "cell_type": "markdown",
   "id": "71c72a49",
   "metadata": {
    "id": "71c72a49"
   },
   "source": [
    "#### Q1 Tree Model Validation Accuracy\n",
    "What is the validation set accuracy obtained from fitting a classification tree model on the training data? (Use ccp_alpha as 0.004 and the random state as 0)"
   ]
  },
  {
   "cell_type": "code",
   "execution_count": 14,
   "id": "c2bf8d51",
   "metadata": {
    "id": "c2bf8d51"
   },
   "outputs": [
    {
     "data": {
      "text/html": [
       "<style>#sk-container-id-1 {color: black;}#sk-container-id-1 pre{padding: 0;}#sk-container-id-1 div.sk-toggleable {background-color: white;}#sk-container-id-1 label.sk-toggleable__label {cursor: pointer;display: block;width: 100%;margin-bottom: 0;padding: 0.3em;box-sizing: border-box;text-align: center;}#sk-container-id-1 label.sk-toggleable__label-arrow:before {content: \"▸\";float: left;margin-right: 0.25em;color: #696969;}#sk-container-id-1 label.sk-toggleable__label-arrow:hover:before {color: black;}#sk-container-id-1 div.sk-estimator:hover label.sk-toggleable__label-arrow:before {color: black;}#sk-container-id-1 div.sk-toggleable__content {max-height: 0;max-width: 0;overflow: hidden;text-align: left;background-color: #f0f8ff;}#sk-container-id-1 div.sk-toggleable__content pre {margin: 0.2em;color: black;border-radius: 0.25em;background-color: #f0f8ff;}#sk-container-id-1 input.sk-toggleable__control:checked~div.sk-toggleable__content {max-height: 200px;max-width: 100%;overflow: auto;}#sk-container-id-1 input.sk-toggleable__control:checked~label.sk-toggleable__label-arrow:before {content: \"▾\";}#sk-container-id-1 div.sk-estimator input.sk-toggleable__control:checked~label.sk-toggleable__label {background-color: #d4ebff;}#sk-container-id-1 div.sk-label input.sk-toggleable__control:checked~label.sk-toggleable__label {background-color: #d4ebff;}#sk-container-id-1 input.sk-hidden--visually {border: 0;clip: rect(1px 1px 1px 1px);clip: rect(1px, 1px, 1px, 1px);height: 1px;margin: -1px;overflow: hidden;padding: 0;position: absolute;width: 1px;}#sk-container-id-1 div.sk-estimator {font-family: monospace;background-color: #f0f8ff;border: 1px dotted black;border-radius: 0.25em;box-sizing: border-box;margin-bottom: 0.5em;}#sk-container-id-1 div.sk-estimator:hover {background-color: #d4ebff;}#sk-container-id-1 div.sk-parallel-item::after {content: \"\";width: 100%;border-bottom: 1px solid gray;flex-grow: 1;}#sk-container-id-1 div.sk-label:hover label.sk-toggleable__label {background-color: #d4ebff;}#sk-container-id-1 div.sk-serial::before {content: \"\";position: absolute;border-left: 1px solid gray;box-sizing: border-box;top: 0;bottom: 0;left: 50%;z-index: 0;}#sk-container-id-1 div.sk-serial {display: flex;flex-direction: column;align-items: center;background-color: white;padding-right: 0.2em;padding-left: 0.2em;position: relative;}#sk-container-id-1 div.sk-item {position: relative;z-index: 1;}#sk-container-id-1 div.sk-parallel {display: flex;align-items: stretch;justify-content: center;background-color: white;position: relative;}#sk-container-id-1 div.sk-item::before, #sk-container-id-1 div.sk-parallel-item::before {content: \"\";position: absolute;border-left: 1px solid gray;box-sizing: border-box;top: 0;bottom: 0;left: 50%;z-index: -1;}#sk-container-id-1 div.sk-parallel-item {display: flex;flex-direction: column;z-index: 1;position: relative;background-color: white;}#sk-container-id-1 div.sk-parallel-item:first-child::after {align-self: flex-end;width: 50%;}#sk-container-id-1 div.sk-parallel-item:last-child::after {align-self: flex-start;width: 50%;}#sk-container-id-1 div.sk-parallel-item:only-child::after {width: 0;}#sk-container-id-1 div.sk-dashed-wrapped {border: 1px dashed gray;margin: 0 0.4em 0.5em 0.4em;box-sizing: border-box;padding-bottom: 0.4em;background-color: white;}#sk-container-id-1 div.sk-label label {font-family: monospace;font-weight: bold;display: inline-block;line-height: 1.2em;}#sk-container-id-1 div.sk-label-container {text-align: center;}#sk-container-id-1 div.sk-container {/* jupyter's `normalize.less` sets `[hidden] { display: none; }` but bootstrap.min.css set `[hidden] { display: none !important; }` so we also need the `!important` here to be able to override the default hidden behavior on the sphinx rendered scikit-learn.org. See: https://github.com/scikit-learn/scikit-learn/issues/21755 */display: inline-block !important;position: relative;}#sk-container-id-1 div.sk-text-repr-fallback {display: none;}</style><div id=\"sk-container-id-1\" class=\"sk-top-container\"><div class=\"sk-text-repr-fallback\"><pre>DecisionTreeClassifier(ccp_alpha=0.004, random_state=0)</pre><b>In a Jupyter environment, please rerun this cell to show the HTML representation or trust the notebook. <br />On GitHub, the HTML representation is unable to render, please try loading this page with nbviewer.org.</b></div><div class=\"sk-container\" hidden><div class=\"sk-item\"><div class=\"sk-estimator sk-toggleable\"><input class=\"sk-toggleable__control sk-hidden--visually\" id=\"sk-estimator-id-1\" type=\"checkbox\" checked><label for=\"sk-estimator-id-1\" class=\"sk-toggleable__label sk-toggleable__label-arrow\">DecisionTreeClassifier</label><div class=\"sk-toggleable__content\"><pre>DecisionTreeClassifier(ccp_alpha=0.004, random_state=0)</pre></div></div></div></div></div>"
      ],
      "text/plain": [
       "DecisionTreeClassifier(ccp_alpha=0.004, random_state=0)"
      ]
     },
     "execution_count": 14,
     "metadata": {},
     "output_type": "execute_result"
    }
   ],
   "source": [
    "#Write your code to build the Tree Model Here\n",
    "tree_clf = DecisionTreeClassifier(random_state=0, ccp_alpha=0.004)\n",
    "tree_clf.fit(X_train, y_train)"
   ]
  },
  {
   "cell_type": "code",
   "execution_count": 15,
   "id": "41fc03cb",
   "metadata": {
    "id": "41fc03cb"
   },
   "outputs": [],
   "source": [
    "#Calculate the validation accuracy\n",
    "tree_train_acc = tree_clf.score(X_train, y_train)\n",
    "tree_val_acc = tree_clf.score(X_val, y_val)"
   ]
  },
  {
   "cell_type": "code",
   "execution_count": 16,
   "id": "44c7ea12-cf5e-4161-967a-e8982b5a3880",
   "metadata": {},
   "outputs": [
    {
     "data": {
      "text/plain": [
       "0.9401812688821752"
      ]
     },
     "execution_count": 16,
     "metadata": {},
     "output_type": "execute_result"
    }
   ],
   "source": [
    "tree_train_acc"
   ]
  },
  {
   "cell_type": "code",
   "execution_count": 17,
   "id": "58af73ec-af1a-43cb-9fa6-636e7db54e9a",
   "metadata": {},
   "outputs": [
    {
     "data": {
      "text/plain": [
       "0.9337561663143058"
      ]
     },
     "execution_count": 17,
     "metadata": {},
     "output_type": "execute_result"
    }
   ],
   "source": [
    "tree_val_acc"
   ]
  },
  {
   "cell_type": "code",
   "execution_count": 18,
   "id": "9f886d4d-86a5-44b4-a197-f9e8043aa0b1",
   "metadata": {},
   "outputs": [],
   "source": [
    "tree_clf_best = DecisionTreeClassifier(random_state=0, ccp_alpha=0.004)\n",
    "tree_clf_best.fit(X_train,y_train)\n",
    "\n",
    "tree_val_acc = tree_clf_best.score(X_val, y_val)"
   ]
  },
  {
   "cell_type": "code",
   "execution_count": 19,
   "id": "a6c82c06-3742-4fa0-8ec1-512bd1384b36",
   "metadata": {},
   "outputs": [
    {
     "data": {
      "text/plain": [
       "0.93"
      ]
     },
     "execution_count": 19,
     "metadata": {},
     "output_type": "execute_result"
    }
   ],
   "source": [
    "round(tree_val_acc, 2)"
   ]
  },
  {
   "cell_type": "markdown",
   "id": "95827443",
   "metadata": {
    "id": "95827443"
   },
   "source": [
    "#### Q2 Compare the Accuracies\n",
    "\n",
    "Now that you have built 2 models on the Credit Dataset (the k-NN model in the previous session and the classification tree model in the previous question), go head and build the final classification model - a logistic regression model and compute the validation accuracy. Take random state = 0, solver = lbfgs and keep the model unregularized\n",
    "\n",
    "After that Choose the correct sequence of the validation accuracies for the models."
   ]
  },
  {
   "cell_type": "code",
   "execution_count": 20,
   "id": "effe6698",
   "metadata": {
    "id": "effe6698"
   },
   "outputs": [],
   "source": [
    "## Write the code to build the logistic Regression Model\n",
    "log_clf_best = LogisticRegression(random_state=0, solver='lbfgs')\n",
    "log_clf_best.fit(X_train, y_train)\n",
    "y_pred = log_clf_best.predict(X_val)"
   ]
  },
  {
   "cell_type": "code",
   "execution_count": 21,
   "id": "50af5139",
   "metadata": {
    "id": "50af5139"
   },
   "outputs": [],
   "source": [
    "## Calculate its validation accuracy\n",
    "log_reg_acc = log_clf_best.score(X_val, y_val)"
   ]
  },
  {
   "cell_type": "code",
   "execution_count": 22,
   "id": "e13d4573-c8b9-48fd-81cb-b4ff61df8499",
   "metadata": {},
   "outputs": [
    {
     "data": {
      "text/plain": [
       "0.8202959830866807"
      ]
     },
     "execution_count": 22,
     "metadata": {},
     "output_type": "execute_result"
    }
   ],
   "source": [
    "accuracy_score(y_val, y_pred)"
   ]
  },
  {
   "cell_type": "code",
   "execution_count": 23,
   "id": "8cf33fb2",
   "metadata": {
    "id": "8cf33fb2"
   },
   "outputs": [
    {
     "data": {
      "text/html": [
       "<div>\n",
       "<style scoped>\n",
       "    .dataframe tbody tr th:only-of-type {\n",
       "        vertical-align: middle;\n",
       "    }\n",
       "\n",
       "    .dataframe tbody tr th {\n",
       "        vertical-align: top;\n",
       "    }\n",
       "\n",
       "    .dataframe thead th {\n",
       "        text-align: right;\n",
       "    }\n",
       "</style>\n",
       "<table border=\"1\" class=\"dataframe\">\n",
       "  <thead>\n",
       "    <tr style=\"text-align: right;\">\n",
       "      <th></th>\n",
       "      <th>Validation accuracy</th>\n",
       "    </tr>\n",
       "  </thead>\n",
       "  <tbody>\n",
       "    <tr>\n",
       "      <th>Linear</th>\n",
       "      <td>LogisticRegression(random_state=0)</td>\n",
       "    </tr>\n",
       "    <tr>\n",
       "      <th>Tree</th>\n",
       "      <td>0.933756</td>\n",
       "    </tr>\n",
       "    <tr>\n",
       "      <th>kNN</th>\n",
       "      <td>0.867512</td>\n",
       "    </tr>\n",
       "  </tbody>\n",
       "</table>\n",
       "</div>"
      ],
      "text/plain": [
       "                       Validation accuracy\n",
       "Linear  LogisticRegression(random_state=0)\n",
       "Tree                              0.933756\n",
       "kNN                               0.867512"
      ]
     },
     "execution_count": 23,
     "metadata": {},
     "output_type": "execute_result"
    }
   ],
   "source": [
    "pd.DataFrame([[log_clf_best],[tree_val_acc], \n",
    "              [knn_acc]], columns=['Validation accuracy'], \n",
    "              index = ['Linear', 'Tree', 'kNN'])"
   ]
  },
  {
   "cell_type": "markdown",
   "id": "ZG8FHck-SEsk",
   "metadata": {
    "id": "ZG8FHck-SEsk"
   },
   "source": [
    "The next question is from a future segment. Attempt it only after reaching that segment on the platform."
   ]
  },
  {
   "cell_type": "markdown",
   "id": "c59227b6",
   "metadata": {
    "id": "c59227b6"
   },
   "source": [
    "### Segment: Selecting the Best Credit Model IV\n",
    "\n",
    "#### Misclassification Cost"
   ]
  },
  {
   "cell_type": "markdown",
   "id": "29f939b5",
   "metadata": {
    "id": "29f939b5"
   },
   "source": [
    "We will continue with the Credit Card Fraud Detection dataset. We will now look at the model performances in terms of their business impact. In this case, there are certain business criteria that we have to consider to base our model selection on.\n",
    "\n",
    "\n",
    "If our model is able to predict the fraudulent transactions accurately, it will potentially save the bank the entire transaction amount. Therefore, the average transaction amount for all the fraudulent transactions will be the false negative cost.\n",
    "\n",
    "\n",
    "If our model is predicting non-fraudulent transactions as fraudulent, the bank has to spend additional cost for verifying the transaction. Let's say this amount comes out to be $150. This value will be the false positive cost.\n",
    "\n",
    "\n",
    "We want to minimize the misclassification cost by minimizing the number of fraudulent transactions. In the following guided assessment, you'll be calculating the misclassification cost for all the three models and then identifying the model that gives the least misclassification cost."
   ]
  },
  {
   "cell_type": "code",
   "execution_count": 24,
   "id": "972d9d70",
   "metadata": {
    "id": "972d9d70"
   },
   "outputs": [],
   "source": [
    "## Calculate the false negative cost\n",
    "## This is the average of the 'amt' column for all the fraudulent transactions\n",
    "fn_cost = np.mean(fraud_df[fraud_df['is_fraud']==1]['amt'])"
   ]
  },
  {
   "cell_type": "code",
   "execution_count": 25,
   "id": "4a5af813",
   "metadata": {
    "id": "4a5af813"
   },
   "outputs": [],
   "source": [
    "##Take the value of false positive cost\n",
    "fp_cost = 150"
   ]
  },
  {
   "cell_type": "markdown",
   "id": "a07e3036",
   "metadata": {
    "id": "a07e3036"
   },
   "source": [
    "##### Calculating the misclassification cost for all three models"
   ]
  },
  {
   "cell_type": "markdown",
   "id": "8a9a1728",
   "metadata": {
    "id": "8a9a1728"
   },
   "source": [
    "##Q - Run the following code and identify the model with the least misclassification cost\n",
    "\n",
    "Note - In the first line of the code, we have taken the names of the 3 models as `log_clf_best`, `tree_clf_best` and `knn_clf_best` for the best performing logistic regression, tree model and knn model respectively. In case you have chosen a different name for any of the models, change the name in the below code accordingly."
   ]
  },
  {
   "cell_type": "code",
   "execution_count": 26,
   "id": "abe5ae3f",
   "metadata": {
    "id": "abe5ae3f"
   },
   "outputs": [
    {
     "data": {
      "image/png": "[encoded data removed]",
      "text/plain": [
       "<Figure size 640x480 with 1 Axes>"
      ]
     },
     "metadata": {},
     "output_type": "display_data"
    },
    {
     "name": "stdout",
     "output_type": "stream",
     "text": [
      "Best Misclassification Cost for LogisticRegression(random_state=0) on the training is 145578.05931501056 at Cut-off 0.2\n",
      "Applying that cut-off to the validation data results in Misclassification Cost of 56701.10 \n"
     ]
    },
    {
     "data": {
      "image/png": "[encoded data removed]",
      "text/plain": [
       "<Figure size 640x480 with 1 Axes>"
      ]
     },
     "metadata": {},
     "output_type": "display_data"
    },
    {
     "name": "stdout",
     "output_type": "stream",
     "text": [
      "Best Misclassification Cost for DecisionTreeClassifier(ccp_alpha=0.004, random_state=0) on the training is 59405.4910782241 at Cut-off 0.2\n",
      "Applying that cut-off to the validation data results in Misclassification Cost of 28427.75 \n"
     ]
    },
    {
     "data": {
      "image/png": "[encoded data removed]",
      "text/plain": [
       "<Figure size 640x480 with 1 Axes>"
      ]
     },
     "metadata": {},
     "output_type": "display_data"
    },
    {
     "name": "stdout",
     "output_type": "stream",
     "text": [
      "Best Misclassification Cost for KNeighborsClassifier(n_neighbors=14) on the training is 99006.43240591965 at Cut-off 0.29\n",
      "Applying that cut-off to the validation data results in Misclassification Cost of 54979.16 \n"
     ]
    }
   ],
   "source": [
    "for clf_model in [log_clf_best, tree_clf_best, knn_clf_best]:\n",
    "    cost_train = []\n",
    "    cost_val=[]\n",
    "    probs_train = clf_model.predict_proba(X_train)[:, 1]\n",
    "    probs_val = clf_model.predict_proba(X_val)[:, 1]\n",
    "    ##Code for misclassification cost\n",
    "    for cutoff in np.arange(0, 1, 0.01):\n",
    "        curr_preds = np.where(probs_train > cutoff, 1, 0)\n",
    "        curr_cf = confusion_matrix(y_train, curr_preds)\n",
    "        curr_fp_count = curr_cf[0,1]\n",
    "        curr_fn_count = curr_cf[1,0]\n",
    "        curr_misclassification_cost = curr_fp_count * fp_cost + curr_fn_count * fn_cost\n",
    "        cost_train.append(curr_misclassification_cost)\n",
    "        curr_preds = np.where(probs_val > cutoff, 1, 0)\n",
    "        curr_cf = confusion_matrix(y_val, curr_preds)\n",
    "        curr_fp_count = curr_cf[0,1]\n",
    "        curr_fn_count = curr_cf[1,0]\n",
    "        curr_misclassification_cost = curr_fp_count * fp_cost + curr_fn_count * fn_cost\n",
    "        cost_val.append(curr_misclassification_cost)\n",
    "\n",
    "    # Get the X values (cut-off values)\n",
    "    cutoffs = np.arange(0, 1, 0.01)\n",
    "\n",
    "    # Plot misclassification cost against cut-off value\n",
    "    plt.plot(cutoffs,cost_train, label='Training')\n",
    "    plt.plot(cutoffs,cost_val, label='Validaiton')\n",
    "    plt.xlabel('Cut-off')\n",
    "    plt.ylabel('Misclassification Cost')\n",
    "    plt.legend()\n",
    "    plt.show()\n",
    "\n",
    "    # Find the minimum misclassification cost and its associated cut-off value based on the training data\n",
    "    best_cost = min(cost_train)\n",
    "    best_cutoff = cutoffs[cost_train.index(best_cost)]\n",
    "\n",
    "    #apply the cut-off value to the validation data\n",
    "    best_valcost=cost_val[cost_train.index(best_cost)]\n",
    "\n",
    "\n",
    "    print('Best Misclassification Cost for {model} on the training is {best_cost} at Cut-off {best_cutoff}'.format(model = clf_model,best_cost = best_cost, best_cutoff=best_cutoff));\n",
    "    print('Applying that cut-off to the validation data results in Misclassification Cost of %.2f ' % best_valcost);"
   ]
  },
  {
   "cell_type": "code",
   "execution_count": null,
   "id": "cc45a798",
   "metadata": {
    "id": "cc45a798"
   },
   "outputs": [],
   "source": []
  },
  {
   "cell_type": "code",
   "execution_count": null,
   "id": "622bec52-d135-43b4-8aac-dd839fb90919",
   "metadata": {},
   "outputs": [],
   "source": []
  }
 ],
 "metadata": {
  "colab": {
   "provenance": []
  },
  "kernelspec": {
   "display_name": "Python 3 (ipykernel)",
   "language": "python",
   "name": "python3"
  },
  "language_info": {
   "codemirror_mode": {
    "name": "ipython",
    "version": 3
   },
   "file_extension": ".py",
   "mimetype": "text/x-python",
   "name": "python",
   "nbconvert_exporter": "python",
   "pygments_lexer": "ipython3",
   "version": "3.10.11"
  }
 },
 "nbformat": 4,
 "nbformat_minor": 5
}
