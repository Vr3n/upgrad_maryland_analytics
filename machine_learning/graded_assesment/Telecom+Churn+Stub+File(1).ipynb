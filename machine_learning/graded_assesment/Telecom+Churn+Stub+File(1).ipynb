{
 "cells": [
  {
   "cell_type": "markdown",
   "id": "a8885505",
   "metadata": {},
   "source": [
    "[Note: Just run the cells for the Data Preparation part and start answering the questions after that]"
   ]
  },
  {
   "cell_type": "markdown",
   "id": "b5e15d77",
   "metadata": {},
   "source": [
    "### Data Preparation\n",
    "For this task, you will perform the following steps:\n",
    "- Load all the necessary packages for this exercise\n",
    "- Load the data\n",
    "- Split the data into input features and the target variable\n",
    "- Set cateogorical columns as \"Categorical\" in the input dataset\n",
    "- Split the data into training and validation datasets\n",
    "- Standardize numeric variables in the datasets"
   ]
  },
  {
   "cell_type": "code",
   "execution_count": 1,
   "id": "0421d57a",
   "metadata": {},
   "outputs": [],
   "source": [
    "import pandas as pd\n",
    "import numpy as np\n",
    "from matplotlib import pyplot as plt\n",
    "\n",
    "from sklearn.model_selection import train_test_split\n",
    "from sklearn.preprocessing import StandardScaler\n",
    "from sklearn.model_selection import GridSearchCV\n",
    "from sklearn.metrics import f1_score, precision_score, recall_score, accuracy_score, mean_squared_error\n",
    "\n",
    "from sklearn.linear_model import LogisticRegression\n",
    "from sklearn.neighbors import KNeighborsClassifier\n",
    "from sklearn.tree import DecisionTreeClassifier\n",
    "\n",
    "# Suppressing Warnings\n",
    "import warnings\n",
    "warnings.filterwarnings('ignore')"
   ]
  },
  {
   "cell_type": "code",
   "execution_count": 2,
   "id": "4efeec90",
   "metadata": {},
   "outputs": [],
   "source": [
    "# Importing the dataset\n",
    "telecom = pd.read_csv(\"telecom_churn_dataset.csv\")"
   ]
  },
  {
   "cell_type": "code",
   "execution_count": 3,
   "id": "a2aee632",
   "metadata": {},
   "outputs": [
    {
     "data": {
      "text/plain": [
       "(7032, 21)"
      ]
     },
     "execution_count": 3,
     "metadata": {},
     "output_type": "execute_result"
    }
   ],
   "source": [
    "##Random Delete later\n",
    "telecom.shape"
   ]
  },
  {
   "cell_type": "code",
   "execution_count": 4,
   "id": "59c7f1ba",
   "metadata": {},
   "outputs": [],
   "source": [
    "non_categorical_columns = ['tenure','MonthlyCharges','TotalCharges']\n",
    "for column in telecom.columns:\n",
    "    if column not in non_categorical_columns:\n",
    "        telecom[column] = pd.Categorical(telecom[column])"
   ]
  },
  {
   "cell_type": "code",
   "execution_count": 5,
   "id": "1cbbbab9",
   "metadata": {},
   "outputs": [],
   "source": [
    "X = telecom.drop(['Churn','customerID'], axis=1)\n",
    "y = telecom['Churn']\n",
    "\n",
    "X = pd.get_dummies(X, drop_first=False) #for kNN and trees\n",
    "X2 = pd.get_dummies(X, drop_first=True) #for logistic regression\n",
    "\n",
    "X_train, X_val, X2_train, X2_val, y_train, y_val = train_test_split(X, X2, y, test_size=0.3, random_state = 1)\n",
    "\n",
    "# Standardize our non-dummy variables\n",
    "scaler = StandardScaler()\n",
    "X_train[['tenure','MonthlyCharges','TotalCharges']]= scaler.fit_transform(X_train[['tenure','MonthlyCharges','TotalCharges']])\n",
    "X_val[['tenure','MonthlyCharges','TotalCharges']]= scaler.transform(X_val[['tenure','MonthlyCharges','TotalCharges']])\n",
    "\n",
    "X2_train[['tenure','MonthlyCharges','TotalCharges']]= scaler.fit_transform(X2_train[['tenure','MonthlyCharges','TotalCharges']])\n",
    "X2_val[['tenure','MonthlyCharges','TotalCharges']]= scaler.transform(X2_val[['tenure','MonthlyCharges','TotalCharges']])"
   ]
  },
  {
   "cell_type": "markdown",
   "id": "8dc890f5",
   "metadata": {},
   "source": [
    "### Q1 - Value of k: Validation Set\n",
    "\n",
    "First, we will build a k-NN model for this problem statement. What is the optimal k for fitting a k-NN model using the validation set? (Iterate the k value from 1 to 35)"
   ]
  },
  {
   "cell_type": "markdown",
   "id": "4c59f567",
   "metadata": {},
   "source": [
    "\n",
    "For this task, you will perform the following steps:\n",
    "- Find the optimal k value for which the kNN model gives the maximum validation set accuracy"
   ]
  },
  {
   "cell_type": "code",
   "execution_count": 8,
   "id": "fc58c511",
   "metadata": {},
   "outputs": [
    {
     "name": "stdout",
     "output_type": "stream",
     "text": [
      "The maximum accuracy is at k=26\n"
     ]
    }
   ],
   "source": [
    "# Define the parameter range of k from 1 to 35\n",
    "knn_clf = KNeighborsClassifier()\n",
    "param_grid = { 'n_neighbors': np.arange(1, 35) } # Parameter range.\n",
    "\n",
    "val_acc = []\n",
    "\n",
    "# Fit a kNN model for each k value, find the validation set accuracy and store them in a list\n",
    "for k in param_grid['n_neighbors']:\n",
    "    knn_clf = KNeighborsClassifier(n_neighbors=k)\n",
    "    knn_clf.fit(X_train, y_train)\n",
    "    y_pred = knn_clf.predict(X_val)\n",
    "    val_acc.append(accuracy_score(y_val, y_pred))\n",
    "\n",
    "\n",
    "# Find the k value which gives the maximum validation set accuracy in the list\n",
    "print(\"The maximum accuracy is at k=\" + str(np.argmax(val_acc)+1))\n",
    "max_acc = np.argmax(val_acc)+1"
   ]
  },
  {
   "cell_type": "markdown",
   "id": "5ecb5716",
   "metadata": {},
   "source": [
    "### Q2 - Value of k: Cross Validation\n",
    "\n",
    "What is the optimal k for fitting a k-NN model using cross validation? (Iterate the k value from 1 to 35 and use 5 folds of cross validation)\n",
    "\n",
    "For this task, you will perform the following steps:\n",
    "- Find the optimal k value for which the kNN model gives the maximum mean test accuracy using GridSearchCV"
   ]
  },
  {
   "cell_type": "code",
   "execution_count": 9,
   "id": "003f581d",
   "metadata": {},
   "outputs": [
    {
     "name": "stdout",
     "output_type": "stream",
     "text": [
      "Fitting 5 folds for each of 34 candidates, totalling 170 fits\n"
     ]
    },
    {
     "data": {
      "text/plain": [
       "{'n_neighbors': 34}"
      ]
     },
     "execution_count": 9,
     "metadata": {},
     "output_type": "execute_result"
    }
   ],
   "source": [
    "# Initialize the kNN classifier model\n",
    "knn_clf = KNeighborsClassifier()\n",
    "\n",
    "# defining Grid search cv with parameter range\n",
    "grid = GridSearchCV(knn_clf, param_grid, cv=5, scoring='accuracy', return_train_score=True, verbose=1)\n",
    "grid_search = grid.fit(X_train, y_train)\n",
    "grid_search.best_params_\n"
   ]
  },
  {
   "cell_type": "markdown",
   "id": "82b0f43e",
   "metadata": {},
   "source": [
    "### Q3. Accuracy\n",
    "\n",
    "From the optimal k found using the validation set and using cross validation, which one gives the highest accuracy on the validation set?\n",
    "\n",
    "For this task, you will perform the following steps:\n",
    "- Find the approach whose optimal k gives the maximum validation set accuracy"
   ]
  },
  {
   "cell_type": "code",
   "execution_count": 29,
   "id": "458759cc",
   "metadata": {},
   "outputs": [
    {
     "name": "stdout",
     "output_type": "stream",
     "text": [
      "Validation data Accuracy Score: 0.796\n",
      "CV data Accuracy Score: 0.789\n"
     ]
    }
   ],
   "source": [
    "# Fit a kNN model using the optimal k value obtained in Q1 and find the validation set accuracy\n",
    "knn_clf_best_val_set = KNeighborsClassifier(n_neighbors=max_acc)\n",
    "knn_clf_best_val_set.fit(X_train, y_train)\n",
    "y_pred_val_set = knn_clf_best_val_set.predict(X_val)\n",
    "y_pred_train_set = knn_clf_best_val_set.predict(X_train)\n",
    "\n",
    "# Fit a kNN model using the optimal k value obtained in Q2 and find the validation set accuracy\n",
    "knn_clf_best_cv_set = KNeighborsClassifier(n_neighbors=grid_search.best_params_['n_neighbors'])\n",
    "knn_clf_best_cv_set.fit(X_train, y_train)\n",
    "y_pred_cv_set = knn_clf_best_cv_set.predict(X_val)\n",
    "\n",
    "# Find which task's optimal k gives the highest validation set accuracy\n",
    "print(\"Validation data Accuracy Score: %.3f\" % accuracy_score(y_val, y_pred_val_set))\n",
    "print(\"CV data Accuracy Score: %.3f\" % accuracy_score(y_val, y_pred_cv_set))"
   ]
  },
  {
   "cell_type": "markdown",
   "id": "af23c33a",
   "metadata": {},
   "source": [
    "### Q4 - Model Performance\n",
    "\n",
    "Explore the performance of a logistic regression model and a decision tree model for this dataset and select the correct statements from the options given below.\n",
    "\n",
    "Note - \n",
    "\n",
    "    Use the optimal k obtained using the validation set for the kNN model\n",
    "    Use the CCP alpha as 0.0048016 for the decision tree model\n",
    "    Use no penalty, lbfgs solver, random state as 0 and maximum iteration as 200 for the logistic regression model"
   ]
  },
  {
   "cell_type": "markdown",
   "id": "6726c752",
   "metadata": {},
   "source": [
    "For this task, you will perform the following steps:\n",
    "- Analyzing the training and validation accuracies obtained for the logistic regression model, decision tree model and k-NN model"
   ]
  },
  {
   "cell_type": "markdown",
   "id": "f16a964a",
   "metadata": {},
   "source": [
    "#### Logistic Regression Model"
   ]
  },
  {
   "cell_type": "code",
   "execution_count": 16,
   "id": "c4bc6cac",
   "metadata": {},
   "outputs": [],
   "source": [
    "# Fit a logistic regression model on the training dataset and find the accuracy for training and validation datasets\n",
    "# Hint: You need to set the 'penalty' parameter to 'none' and 'solver' to 'lbfgs'\n",
    "# Note: Use 'max_iter = 200' and 'random_state = 0' for the model\n",
    "# Note: Use X2_train and X2_val for logistic regression\n",
    "log_cls = LogisticRegression(random_state=0, max_iter=200, penalty=None, solver='lbfgs')\n",
    "log_cls.fit(X2_train, y_train)\n",
    "y_pred = log_cls.predict(X2_val)\n"
   ]
  },
  {
   "cell_type": "code",
   "execution_count": 18,
   "id": "84f571c3",
   "metadata": {},
   "outputs": [],
   "source": [
    "#Compute the training accuracy\n",
    "log_cls_train_acc = log_cls.score(X2_train, y_train)"
   ]
  },
  {
   "cell_type": "code",
   "execution_count": 19,
   "id": "e1c7bbdc",
   "metadata": {},
   "outputs": [],
   "source": [
    "#Compute the validation accuracy\n",
    "log_cls_val_acc = log_cls.score(X2_val, y_val)"
   ]
  },
  {
   "cell_type": "code",
   "execution_count": 20,
   "id": "a1025905-7537-4188-a26b-1f78218afa4e",
   "metadata": {},
   "outputs": [
    {
     "data": {
      "text/plain": [
       "(0.8086143843965867, 0.7981042654028436)"
      ]
     },
     "execution_count": 20,
     "metadata": {},
     "output_type": "execute_result"
    }
   ],
   "source": [
    "(log_cls_train_acc, log_cls_val_acc)"
   ]
  },
  {
   "cell_type": "markdown",
   "id": "9d61008c",
   "metadata": {},
   "source": [
    "#### Decision Tree Model"
   ]
  },
  {
   "cell_type": "code",
   "execution_count": 24,
   "id": "56cd1653",
   "metadata": {},
   "outputs": [
    {
     "data": {
      "text/plain": [
       "(0.7878911011783828, 0.7976303317535545)"
      ]
     },
     "execution_count": 24,
     "metadata": {},
     "output_type": "execute_result"
    }
   ],
   "source": [
    "# Fit a decision tree model on the training dataset and find the accuracy for training and validation datasets\n",
    "# Note: Use 'ccp_alpha = 0.0048016' and 'random_state = 0' for the model\n",
    "tree_clf = DecisionTreeClassifier(random_state=0, ccp_alpha=0.0048016)\n",
    "tree_clf.fit(X_train, y_train)\n",
    "# Fit a decision tree model on the training dataset and find the accuracy for training and validation datasets\n",
    "# Note: Use optimal k value obtained using the validation dataset in Task 2\n",
    "tree_train_acc = tree_clf.score(X_train, y_train)\n",
    "tree_val_acc = tree_clf.score(X_val, y_val)\n",
    "\n",
    "# Tabulate your results and answer the question\n",
    "(tree_train_acc, tree_val_acc)"
   ]
  },
  {
   "cell_type": "code",
   "execution_count": 31,
   "id": "7ffb3ced-33ad-42f7-9445-b86f4896ffd9",
   "metadata": {},
   "outputs": [],
   "source": [
    "results = pd.DataFrame([[log_cls_val_acc, log_cls_train_acc],[tree_val_acc, tree_train_acc], \n",
    "              [accuracy_score(y_val, y_pred_val_set), accuracy_score(y_train, y_pred_train_set)]], columns=['Validation accuracy', 'Training accuracy'], \n",
    "              index = ['Linear', 'Tree', 'kNN'])"
   ]
  },
  {
   "cell_type": "code",
   "execution_count": 33,
   "id": "b363434b-4aa0-4dfe-a7a8-09aaa13e3091",
   "metadata": {},
   "outputs": [
    {
     "data": {
      "text/html": [
       "<div>\n",
       "<style scoped>\n",
       "    .dataframe tbody tr th:only-of-type {\n",
       "        vertical-align: middle;\n",
       "    }\n",
       "\n",
       "    .dataframe tbody tr th {\n",
       "        vertical-align: top;\n",
       "    }\n",
       "\n",
       "    .dataframe thead th {\n",
       "        text-align: right;\n",
       "    }\n",
       "</style>\n",
       "<table border=\"1\" class=\"dataframe\">\n",
       "  <thead>\n",
       "    <tr style=\"text-align: right;\">\n",
       "      <th></th>\n",
       "      <th>Validation accuracy</th>\n",
       "      <th>Training accuracy</th>\n",
       "    </tr>\n",
       "  </thead>\n",
       "  <tbody>\n",
       "    <tr>\n",
       "      <th>Linear</th>\n",
       "      <td>0.798104</td>\n",
       "      <td>0.808614</td>\n",
       "    </tr>\n",
       "    <tr>\n",
       "      <th>Tree</th>\n",
       "      <td>0.797630</td>\n",
       "      <td>0.787891</td>\n",
       "    </tr>\n",
       "    <tr>\n",
       "      <th>kNN</th>\n",
       "      <td>0.795735</td>\n",
       "      <td>0.809224</td>\n",
       "    </tr>\n",
       "  </tbody>\n",
       "</table>\n",
       "</div>"
      ],
      "text/plain": [
       "        Validation accuracy  Training accuracy\n",
       "Linear             0.798104           0.808614\n",
       "Tree               0.797630           0.787891\n",
       "kNN                0.795735           0.809224"
      ]
     },
     "execution_count": 33,
     "metadata": {},
     "output_type": "execute_result"
    }
   ],
   "source": [
    "results.sort_values(by=[\"Validation accuracy\", \"Training accuracy\"], ascending=False)"
   ]
  },
  {
   "cell_type": "code",
   "execution_count": null,
   "id": "6ff81d5c",
   "metadata": {},
   "outputs": [],
   "source": [
    "#Write your code to build the Tree Model Here\n"
   ]
  },
  {
   "cell_type": "code",
   "execution_count": null,
   "id": "5ba06fb5",
   "metadata": {},
   "outputs": [],
   "source": [
    "##Compute the training accuracy\n"
   ]
  },
  {
   "cell_type": "code",
   "execution_count": null,
   "id": "a88b00b5",
   "metadata": {},
   "outputs": [],
   "source": [
    "##Compute the validation accuracy\n"
   ]
  },
  {
   "cell_type": "code",
   "execution_count": null,
   "id": "804400b5",
   "metadata": {},
   "outputs": [],
   "source": []
  },
  {
   "cell_type": "code",
   "execution_count": null,
   "id": "395d97b3",
   "metadata": {},
   "outputs": [],
   "source": []
  }
 ],
 "metadata": {
  "kernelspec": {
   "display_name": "Python 3 (ipykernel)",
   "language": "python",
   "name": "python3"
  },
  "language_info": {
   "codemirror_mode": {
    "name": "ipython",
    "version": 3
   },
   "file_extension": ".py",
   "mimetype": "text/x-python",
   "name": "python",
   "nbconvert_exporter": "python",
   "pygments_lexer": "ipython3",
   "version": "3.10.11"
  }
 },
 "nbformat": 4,
 "nbformat_minor": 5
}
