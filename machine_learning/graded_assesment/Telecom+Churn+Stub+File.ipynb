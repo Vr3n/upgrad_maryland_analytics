{
 "cells": [
  {
   "cell_type": "markdown",
   "id": "a8885505",
   "metadata": {},
   "source": [
    "[Note: Just run the cells for the Data Preparation part and start answering the questions after that]"
   ]
  },
  {
   "cell_type": "markdown",
   "id": "b5e15d77",
   "metadata": {},
   "source": [
    "### Data Preparation\n",
    "For this task, you will perform the following steps:\n",
    "- Load all the necessary packages for this exercise\n",
    "- Load the data\n",
    "- Split the data into input features and the target variable\n",
    "- Set cateogorical columns as \"Categorical\" in the input dataset\n",
    "- Split the data into training and validation datasets\n",
    "- Standardize numeric variables in the datasets"
   ]
  },
  {
   "cell_type": "code",
   "execution_count": null,
   "id": "0421d57a",
   "metadata": {},
   "outputs": [],
   "source": [
    "import pandas as pd\n",
    "import numpy as np\n",
    "from matplotlib import pyplot as plt\n",
    "\n",
    "from sklearn.model_selection import train_test_split\n",
    "from sklearn.preprocessing import StandardScaler\n",
    "from sklearn.model_selection import GridSearchCV\n",
    "from sklearn.metrics import f1_score, precision_score, recall_score, accuracy_score, mean_squared_error\n",
    "\n",
    "from sklearn.linear_model import LogisticRegression\n",
    "from sklearn.neighbors import KNeighborsClassifier\n",
    "from sklearn.tree import DecisionTreeClassifier\n",
    "\n",
    "# Suppressing Warnings\n",
    "import warnings\n",
    "warnings.filterwarnings('ignore')"
   ]
  },
  {
   "cell_type": "code",
   "execution_count": null,
   "id": "4efeec90",
   "metadata": {},
   "outputs": [],
   "source": [
    "# Importing the dataset\n",
    "telecom = pd.read_csv(\"telecom_churn_dataset.csv\")"
   ]
  },
  {
   "cell_type": "code",
   "execution_count": null,
   "id": "a2aee632",
   "metadata": {},
   "outputs": [],
   "source": [
    "##Random Delete later\n",
    "telecom.shape"
   ]
  },
  {
   "cell_type": "code",
   "execution_count": null,
   "id": "59c7f1ba",
   "metadata": {},
   "outputs": [],
   "source": [
    "non_categorical_columns = ['tenure','MonthlyCharges','TotalCharges']\n",
    "for column in telecom.columns:\n",
    "    if column not in non_categorical_columns:\n",
    "        telecom[column] = pd.Categorical(telecom[column])"
   ]
  },
  {
   "cell_type": "code",
   "execution_count": null,
   "id": "1cbbbab9",
   "metadata": {},
   "outputs": [],
   "source": [
    "X = telecom.drop(['Churn','customerID'], axis=1)\n",
    "y = telecom['Churn']\n",
    "\n",
    "X = pd.get_dummies(X, drop_first=False) #for kNN and trees\n",
    "X2 = pd.get_dummies(X, drop_first=True) #for logistic regression\n",
    "\n",
    "X_train, X_val, X2_train, X2_val, y_train, y_val = train_test_split(X, X2, y, test_size=0.3, random_state = 1)\n",
    "\n",
    "# Standardize our non-dummy variables\n",
    "scaler = StandardScaler()\n",
    "X_train[['tenure','MonthlyCharges','TotalCharges']]= scaler.fit_transform(X_train[['tenure','MonthlyCharges','TotalCharges']])\n",
    "X_val[['tenure','MonthlyCharges','TotalCharges']]= scaler.transform(X_val[['tenure','MonthlyCharges','TotalCharges']])\n",
    "\n",
    "X2_train[['tenure','MonthlyCharges','TotalCharges']]= scaler.fit_transform(X2_train[['tenure','MonthlyCharges','TotalCharges']])\n",
    "X2_val[['tenure','MonthlyCharges','TotalCharges']]= scaler.transform(X2_val[['tenure','MonthlyCharges','TotalCharges']])"
   ]
  },
  {
   "cell_type": "markdown",
   "id": "8dc890f5",
   "metadata": {},
   "source": [
    "### Q1 - Value of k: Validation Set\n",
    "\n",
    "First, we will build a k-NN model for this problem statement. What is the optimal k for fitting a k-NN model using the validation set? (Iterate the k value from 1 to 35)"
   ]
  },
  {
   "cell_type": "markdown",
   "id": "4c59f567",
   "metadata": {},
   "source": [
    "\n",
    "For this task, you will perform the following steps:\n",
    "- Find the optimal k value for which the kNN model gives the maximum validation set accuracy"
   ]
  },
  {
   "cell_type": "code",
   "execution_count": null,
   "id": "fc58c511",
   "metadata": {},
   "outputs": [],
   "source": [
    "# Define the parameter range of k from 1 to 35\n",
    "\n",
    "# Fit a kNN model for each k value, find the validation set accuracy and store them in a list\n",
    "\n",
    "\n",
    "# Find the k value which gives the maximum validation set accuracy in the list\n"
   ]
  },
  {
   "cell_type": "markdown",
   "id": "5ecb5716",
   "metadata": {},
   "source": [
    "### Q2 - Value of k: Cross Validation\n",
    "\n",
    "What is the optimal k for fitting a k-NN model using cross validation? (Iterate the k value from 1 to 35 and use 5 folds of cross validation)\n",
    "\n",
    "For this task, you will perform the following steps:\n",
    "- Find the optimal k value for which the kNN model gives the maximum mean test accuracy using GridSearchCV"
   ]
  },
  {
   "cell_type": "code",
   "execution_count": null,
   "id": "003f581d",
   "metadata": {},
   "outputs": [],
   "source": [
    "# Initialize the kNN classifier model\n",
    "\n",
    "\n",
    "# defining Grid search cv with parameter range\n",
    "\n",
    "\n",
    "# Define the parameter range of k from 1 to 35\n",
    "\n",
    "# Define the GridSearchCV with the parameter range, kNN model and 5 folds of cross validation\n",
    "\n",
    "# Fit the GridSearchCV on the training dataset\n",
    "\n",
    "# Find the best k value from the grid search\n"
   ]
  },
  {
   "cell_type": "markdown",
   "id": "82b0f43e",
   "metadata": {},
   "source": [
    "### Q3. Accuracy\n",
    "\n",
    "From the optimal k found using the validation set and using cross validation, which one gives the highest accuracy on the validation set?\n",
    "\n",
    "For this task, you will perform the following steps:\n",
    "- Find the approach whose optimal k gives the maximum validation set accuracy"
   ]
  },
  {
   "cell_type": "code",
   "execution_count": null,
   "id": "458759cc",
   "metadata": {},
   "outputs": [],
   "source": [
    "# Fit a kNN model using the optimal k value obtained in Q1 and find the validation set accuracy\n",
    "\n",
    "# Fit a kNN model using the optimal k value obtained in Q2 and find the validation set accuracy\n",
    "\n",
    "# Find which task's optimal k gives the highest validation set accuracy\n"
   ]
  },
  {
   "cell_type": "markdown",
   "id": "af23c33a",
   "metadata": {},
   "source": [
    "### Q4 - Model Performance\n",
    "\n",
    "Explore the performance of a logistic regression model and a decision tree model for this dataset and select the correct statements from the options given below.\n",
    "\n",
    "Note - \n",
    "\n",
    "    Use the optimal k obtained using the validation set for the kNN model\n",
    "    Use the CCP alpha as 0.0048016 for the decision tree model\n",
    "    Use no penalty, lbfgs solver, random state as 0 and maximum iteration as 200 for the logistic regression model"
   ]
  },
  {
   "cell_type": "markdown",
   "id": "6726c752",
   "metadata": {},
   "source": [
    "For this task, you will perform the following steps:\n",
    "- Analyzing the training and validation accuracies obtained for the logistic regression model, decision tree model and k-NN model"
   ]
  },
  {
   "cell_type": "markdown",
   "id": "f16a964a",
   "metadata": {},
   "source": [
    "#### Logistic Regression Model"
   ]
  },
  {
   "cell_type": "code",
   "execution_count": null,
   "id": "c4bc6cac",
   "metadata": {},
   "outputs": [],
   "source": [
    "# Fit a logistic regression model on the training dataset and find the accuracy for training and validation datasets\n",
    "# Hint: You need to set the 'penalty' parameter to 'none' and 'solver' to 'lbfgs'\n",
    "# Note: Use 'max_iter = 200' and 'random_state = 0' for the model\n",
    "# Note: Use X2_train and X2_val for logistic regression\n",
    "\n"
   ]
  },
  {
   "cell_type": "code",
   "execution_count": null,
   "id": "84f571c3",
   "metadata": {},
   "outputs": [],
   "source": [
    "#Compute the training accuracy\n"
   ]
  },
  {
   "cell_type": "code",
   "execution_count": null,
   "id": "e1c7bbdc",
   "metadata": {},
   "outputs": [],
   "source": [
    "#Compute the validation accuracy\n"
   ]
  },
  {
   "cell_type": "markdown",
   "id": "9d61008c",
   "metadata": {},
   "source": [
    "#### Decision Tree Model"
   ]
  },
  {
   "cell_type": "code",
   "execution_count": null,
   "id": "56cd1653",
   "metadata": {},
   "outputs": [],
   "source": [
    "# Fit a decision tree model on the training dataset and find the accuracy for training and validation datasets\n",
    "# Note: Use 'ccp_alpha = 0.0048016' and 'random_state = 0' for the model\n",
    "\n",
    "# Fit a decision tree model on the training dataset and find the accuracy for training and validation datasets\n",
    "# Note: Use optimal k value obtained using the validation dataset in Task 2\n",
    "\n",
    "# Tabulate your results and answer the question"
   ]
  },
  {
   "cell_type": "code",
   "execution_count": null,
   "id": "6ff81d5c",
   "metadata": {},
   "outputs": [],
   "source": [
    "#Write your code to build the Tree Model Here\n"
   ]
  },
  {
   "cell_type": "code",
   "execution_count": null,
   "id": "5ba06fb5",
   "metadata": {},
   "outputs": [],
   "source": [
    "##Compute the training accuracy\n"
   ]
  },
  {
   "cell_type": "code",
   "execution_count": null,
   "id": "a88b00b5",
   "metadata": {},
   "outputs": [],
   "source": [
    "##Compute the validation accuracy\n"
   ]
  },
  {
   "cell_type": "code",
   "execution_count": null,
   "id": "804400b5",
   "metadata": {},
   "outputs": [],
   "source": []
  },
  {
   "cell_type": "code",
   "execution_count": null,
   "id": "395d97b3",
   "metadata": {},
   "outputs": [],
   "source": []
  }
 ],
 "metadata": {
  "kernelspec": {
   "display_name": "Python 3 (ipykernel)",
   "language": "python",
   "name": "python3"
  },
  "language_info": {
   "codemirror_mode": {
    "name": "ipython",
    "version": 3
   },
   "file_extension": ".py",
   "mimetype": "text/x-python",
   "name": "python",
   "nbconvert_exporter": "python",
   "pygments_lexer": "ipython3",
   "version": "3.9.7"
  }
 },
 "nbformat": 4,
 "nbformat_minor": 5
}
