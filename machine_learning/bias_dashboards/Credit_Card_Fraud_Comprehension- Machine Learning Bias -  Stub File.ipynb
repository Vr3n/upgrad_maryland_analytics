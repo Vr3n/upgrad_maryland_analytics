{
 "cells": [
  {
   "cell_type": "code",
   "execution_count": 5,
   "id": "b506c2cd",
   "metadata": {},
   "outputs": [],
   "source": [
    "##Import Libraries\n",
    "import pandas as pd\n",
    "import numpy as np\n",
    "from matplotlib import pyplot as plt\n",
    "from sklearn.linear_model import LogisticRegression\n",
    "from sklearn.model_selection import train_test_split\n",
    "from sklearn.preprocessing import StandardScaler\n",
    "from sklearn.model_selection import GridSearchCV\n",
    "from sklearn.metrics import f1_score, precision_score, recall_score, accuracy_score, mean_squared_error\n",
    "from sklearn.metrics import confusion_matrix, ConfusionMatrixDisplay\n",
    "from sklearn.neighbors import KNeighborsClassifier, KNeighborsRegressor"
   ]
  },
  {
   "cell_type": "code",
   "execution_count": 6,
   "id": "3014fe36",
   "metadata": {},
   "outputs": [],
   "source": [
    "##Filter warnings\n",
    "import warnings \n",
    "warnings.filterwarnings('ignore')"
   ]
  },
  {
   "cell_type": "code",
   "execution_count": 7,
   "id": "ac34c75a",
   "metadata": {},
   "outputs": [
    {
     "data": {
      "text/html": [
       "<div>\n",
       "<style scoped>\n",
       "    .dataframe tbody tr th:only-of-type {\n",
       "        vertical-align: middle;\n",
       "    }\n",
       "\n",
       "    .dataframe tbody tr th {\n",
       "        vertical-align: top;\n",
       "    }\n",
       "\n",
       "    .dataframe thead th {\n",
       "        text-align: right;\n",
       "    }\n",
       "</style>\n",
       "<table border=\"1\" class=\"dataframe\">\n",
       "  <thead>\n",
       "    <tr style=\"text-align: right;\">\n",
       "      <th></th>\n",
       "      <th>amt</th>\n",
       "      <th>trans_hour</th>\n",
       "      <th>category_food_dining</th>\n",
       "      <th>category_gas_transport</th>\n",
       "      <th>category_grocery_net</th>\n",
       "      <th>category_grocery_pos</th>\n",
       "      <th>category_health_fitness</th>\n",
       "      <th>category_home</th>\n",
       "      <th>category_kids_pets</th>\n",
       "      <th>category_misc_net</th>\n",
       "      <th>...</th>\n",
       "      <th>day_Saturday</th>\n",
       "      <th>day_Sunday</th>\n",
       "      <th>day_Thursday</th>\n",
       "      <th>day_Tuesday</th>\n",
       "      <th>day_Wednesday</th>\n",
       "      <th>age_46-60</th>\n",
       "      <th>age_61-75</th>\n",
       "      <th>age_&lt; 30</th>\n",
       "      <th>age_&gt; 75</th>\n",
       "      <th>is_fraud</th>\n",
       "    </tr>\n",
       "  </thead>\n",
       "  <tbody>\n",
       "    <tr>\n",
       "      <th>0</th>\n",
       "      <td>134.62</td>\n",
       "      <td>23</td>\n",
       "      <td>1</td>\n",
       "      <td>0</td>\n",
       "      <td>0</td>\n",
       "      <td>0</td>\n",
       "      <td>0</td>\n",
       "      <td>0</td>\n",
       "      <td>0</td>\n",
       "      <td>0</td>\n",
       "      <td>...</td>\n",
       "      <td>0</td>\n",
       "      <td>0</td>\n",
       "      <td>0</td>\n",
       "      <td>0</td>\n",
       "      <td>0</td>\n",
       "      <td>0</td>\n",
       "      <td>0</td>\n",
       "      <td>1</td>\n",
       "      <td>0</td>\n",
       "      <td>1</td>\n",
       "    </tr>\n",
       "    <tr>\n",
       "      <th>1</th>\n",
       "      <td>109.95</td>\n",
       "      <td>5</td>\n",
       "      <td>1</td>\n",
       "      <td>0</td>\n",
       "      <td>0</td>\n",
       "      <td>0</td>\n",
       "      <td>0</td>\n",
       "      <td>0</td>\n",
       "      <td>0</td>\n",
       "      <td>0</td>\n",
       "      <td>...</td>\n",
       "      <td>0</td>\n",
       "      <td>0</td>\n",
       "      <td>0</td>\n",
       "      <td>1</td>\n",
       "      <td>0</td>\n",
       "      <td>1</td>\n",
       "      <td>0</td>\n",
       "      <td>0</td>\n",
       "      <td>0</td>\n",
       "      <td>0</td>\n",
       "    </tr>\n",
       "    <tr>\n",
       "      <th>2</th>\n",
       "      <td>20.17</td>\n",
       "      <td>0</td>\n",
       "      <td>0</td>\n",
       "      <td>1</td>\n",
       "      <td>0</td>\n",
       "      <td>0</td>\n",
       "      <td>0</td>\n",
       "      <td>0</td>\n",
       "      <td>0</td>\n",
       "      <td>0</td>\n",
       "      <td>...</td>\n",
       "      <td>0</td>\n",
       "      <td>0</td>\n",
       "      <td>0</td>\n",
       "      <td>0</td>\n",
       "      <td>1</td>\n",
       "      <td>1</td>\n",
       "      <td>0</td>\n",
       "      <td>0</td>\n",
       "      <td>0</td>\n",
       "      <td>1</td>\n",
       "    </tr>\n",
       "    <tr>\n",
       "      <th>3</th>\n",
       "      <td>839.06</td>\n",
       "      <td>22</td>\n",
       "      <td>0</td>\n",
       "      <td>0</td>\n",
       "      <td>0</td>\n",
       "      <td>0</td>\n",
       "      <td>0</td>\n",
       "      <td>0</td>\n",
       "      <td>0</td>\n",
       "      <td>0</td>\n",
       "      <td>...</td>\n",
       "      <td>1</td>\n",
       "      <td>0</td>\n",
       "      <td>0</td>\n",
       "      <td>0</td>\n",
       "      <td>0</td>\n",
       "      <td>1</td>\n",
       "      <td>0</td>\n",
       "      <td>0</td>\n",
       "      <td>0</td>\n",
       "      <td>1</td>\n",
       "    </tr>\n",
       "    <tr>\n",
       "      <th>4</th>\n",
       "      <td>4.33</td>\n",
       "      <td>10</td>\n",
       "      <td>0</td>\n",
       "      <td>0</td>\n",
       "      <td>0</td>\n",
       "      <td>0</td>\n",
       "      <td>0</td>\n",
       "      <td>0</td>\n",
       "      <td>0</td>\n",
       "      <td>0</td>\n",
       "      <td>...</td>\n",
       "      <td>0</td>\n",
       "      <td>0</td>\n",
       "      <td>0</td>\n",
       "      <td>1</td>\n",
       "      <td>0</td>\n",
       "      <td>0</td>\n",
       "      <td>1</td>\n",
       "      <td>0</td>\n",
       "      <td>0</td>\n",
       "      <td>0</td>\n",
       "    </tr>\n",
       "  </tbody>\n",
       "</table>\n",
       "<p>5 rows × 27 columns</p>\n",
       "</div>"
      ],
      "text/plain": [
       "      amt  trans_hour  category_food_dining  category_gas_transport  \\\n",
       "0  134.62          23                     1                       0   \n",
       "1  109.95           5                     1                       0   \n",
       "2   20.17           0                     0                       1   \n",
       "3  839.06          22                     0                       0   \n",
       "4    4.33          10                     0                       0   \n",
       "\n",
       "   category_grocery_net  category_grocery_pos  category_health_fitness  \\\n",
       "0                     0                     0                        0   \n",
       "1                     0                     0                        0   \n",
       "2                     0                     0                        0   \n",
       "3                     0                     0                        0   \n",
       "4                     0                     0                        0   \n",
       "\n",
       "   category_home  category_kids_pets  category_misc_net  ...  day_Saturday  \\\n",
       "0              0                   0                  0  ...             0   \n",
       "1              0                   0                  0  ...             0   \n",
       "2              0                   0                  0  ...             0   \n",
       "3              0                   0                  0  ...             1   \n",
       "4              0                   0                  0  ...             0   \n",
       "\n",
       "   day_Sunday  day_Thursday  day_Tuesday  day_Wednesday  age_46-60  age_61-75  \\\n",
       "0           0             0            0              0          0          0   \n",
       "1           0             0            1              0          1          0   \n",
       "2           0             0            0              1          1          0   \n",
       "3           0             0            0              0          1          0   \n",
       "4           0             0            1              0          0          1   \n",
       "\n",
       "   age_< 30  age_> 75  is_fraud  \n",
       "0         1         0         1  \n",
       "1         0         0         0  \n",
       "2         0         0         1  \n",
       "3         0         0         1  \n",
       "4         0         0         0  \n",
       "\n",
       "[5 rows x 27 columns]"
      ]
     },
     "execution_count": 7,
     "metadata": {},
     "output_type": "execute_result"
    }
   ],
   "source": [
    "##Load the dataset and check the top 5 rows\n",
    "fraud_df = pd.read_csv(\"fraud_detection_data_final.csv\")\n",
    "fraud_df.head()"
   ]
  },
  {
   "cell_type": "code",
   "execution_count": 8,
   "id": "89a0f575",
   "metadata": {},
   "outputs": [
    {
     "name": "stdout",
     "output_type": "stream",
     "text": [
      "<class 'pandas.core.frame.DataFrame'>\n",
      "RangeIndex: 4729 entries, 0 to 4728\n",
      "Data columns (total 27 columns):\n",
      " #   Column                   Non-Null Count  Dtype  \n",
      "---  ------                   --------------  -----  \n",
      " 0   amt                      4729 non-null   float64\n",
      " 1   trans_hour               4729 non-null   int64  \n",
      " 2   category_food_dining     4729 non-null   int64  \n",
      " 3   category_gas_transport   4729 non-null   int64  \n",
      " 4   category_grocery_net     4729 non-null   int64  \n",
      " 5   category_grocery_pos     4729 non-null   int64  \n",
      " 6   category_health_fitness  4729 non-null   int64  \n",
      " 7   category_home            4729 non-null   int64  \n",
      " 8   category_kids_pets       4729 non-null   int64  \n",
      " 9   category_misc_net        4729 non-null   int64  \n",
      " 10  category_misc_pos        4729 non-null   int64  \n",
      " 11  category_personal_care   4729 non-null   int64  \n",
      " 12  category_shopping_net    4729 non-null   int64  \n",
      " 13  category_shopping_pos    4729 non-null   int64  \n",
      " 14  category_travel          4729 non-null   int64  \n",
      " 15  gender_M                 4729 non-null   int64  \n",
      " 16  day_Monday               4729 non-null   int64  \n",
      " 17  day_Saturday             4729 non-null   int64  \n",
      " 18  day_Sunday               4729 non-null   int64  \n",
      " 19  day_Thursday             4729 non-null   int64  \n",
      " 20  day_Tuesday              4729 non-null   int64  \n",
      " 21  day_Wednesday            4729 non-null   int64  \n",
      " 22  age_46-60                4729 non-null   int64  \n",
      " 23  age_61-75                4729 non-null   int64  \n",
      " 24  age_< 30                 4729 non-null   int64  \n",
      " 25  age_> 75                 4729 non-null   int64  \n",
      " 26  is_fraud                 4729 non-null   int64  \n",
      "dtypes: float64(1), int64(26)\n",
      "memory usage: 997.6 KB\n"
     ]
    }
   ],
   "source": [
    "#Check the datatypes of the columns\n",
    "fraud_df.info()"
   ]
  },
  {
   "cell_type": "code",
   "execution_count": 10,
   "id": "40f8190f-9da6-4769-af02-6a0a5ba49a18",
   "metadata": {},
   "outputs": [],
   "source": [
    "y = fraud_df['is_fraud']\n",
    "X = fraud_df.iloc[:, :-1]\n",
    "gender_arr = X['gender_M']\n",
    "X.drop(columns=['gender_M'], inplace=True)"
   ]
  },
  {
   "cell_type": "code",
   "execution_count": 12,
   "id": "63b397d9-2470-4a06-ac6b-9d229d4a65cd",
   "metadata": {},
   "outputs": [],
   "source": [
    "X_test, X_val, y_test, y_val, gender_test, gender_val = train_test_split(X, y, gender_arr, random_state=1, test_size=0.3)"
   ]
  },
  {
   "cell_type": "code",
   "execution_count": 13,
   "id": "6e390659-6aeb-4535-8b5d-6976b7e261ea",
   "metadata": {},
   "outputs": [],
   "source": [
    "log_reg = LogisticRegression(penalty='none', solver='lbfgs', random_state=0, max_iter=500)"
   ]
  },
  {
   "cell_type": "code",
   "execution_count": 14,
   "id": "46adba90-d5f9-4b68-8588-95e27856d7e0",
   "metadata": {},
   "outputs": [
    {
     "data": {
      "text/html": [
       "<style>#sk-container-id-1 {color: black;}#sk-container-id-1 pre{padding: 0;}#sk-container-id-1 div.sk-toggleable {background-color: white;}#sk-container-id-1 label.sk-toggleable__label {cursor: pointer;display: block;width: 100%;margin-bottom: 0;padding: 0.3em;box-sizing: border-box;text-align: center;}#sk-container-id-1 label.sk-toggleable__label-arrow:before {content: \"▸\";float: left;margin-right: 0.25em;color: #696969;}#sk-container-id-1 label.sk-toggleable__label-arrow:hover:before {color: black;}#sk-container-id-1 div.sk-estimator:hover label.sk-toggleable__label-arrow:before {color: black;}#sk-container-id-1 div.sk-toggleable__content {max-height: 0;max-width: 0;overflow: hidden;text-align: left;background-color: #f0f8ff;}#sk-container-id-1 div.sk-toggleable__content pre {margin: 0.2em;color: black;border-radius: 0.25em;background-color: #f0f8ff;}#sk-container-id-1 input.sk-toggleable__control:checked~div.sk-toggleable__content {max-height: 200px;max-width: 100%;overflow: auto;}#sk-container-id-1 input.sk-toggleable__control:checked~label.sk-toggleable__label-arrow:before {content: \"▾\";}#sk-container-id-1 div.sk-estimator input.sk-toggleable__control:checked~label.sk-toggleable__label {background-color: #d4ebff;}#sk-container-id-1 div.sk-label input.sk-toggleable__control:checked~label.sk-toggleable__label {background-color: #d4ebff;}#sk-container-id-1 input.sk-hidden--visually {border: 0;clip: rect(1px 1px 1px 1px);clip: rect(1px, 1px, 1px, 1px);height: 1px;margin: -1px;overflow: hidden;padding: 0;position: absolute;width: 1px;}#sk-container-id-1 div.sk-estimator {font-family: monospace;background-color: #f0f8ff;border: 1px dotted black;border-radius: 0.25em;box-sizing: border-box;margin-bottom: 0.5em;}#sk-container-id-1 div.sk-estimator:hover {background-color: #d4ebff;}#sk-container-id-1 div.sk-parallel-item::after {content: \"\";width: 100%;border-bottom: 1px solid gray;flex-grow: 1;}#sk-container-id-1 div.sk-label:hover label.sk-toggleable__label {background-color: #d4ebff;}#sk-container-id-1 div.sk-serial::before {content: \"\";position: absolute;border-left: 1px solid gray;box-sizing: border-box;top: 0;bottom: 0;left: 50%;z-index: 0;}#sk-container-id-1 div.sk-serial {display: flex;flex-direction: column;align-items: center;background-color: white;padding-right: 0.2em;padding-left: 0.2em;position: relative;}#sk-container-id-1 div.sk-item {position: relative;z-index: 1;}#sk-container-id-1 div.sk-parallel {display: flex;align-items: stretch;justify-content: center;background-color: white;position: relative;}#sk-container-id-1 div.sk-item::before, #sk-container-id-1 div.sk-parallel-item::before {content: \"\";position: absolute;border-left: 1px solid gray;box-sizing: border-box;top: 0;bottom: 0;left: 50%;z-index: -1;}#sk-container-id-1 div.sk-parallel-item {display: flex;flex-direction: column;z-index: 1;position: relative;background-color: white;}#sk-container-id-1 div.sk-parallel-item:first-child::after {align-self: flex-end;width: 50%;}#sk-container-id-1 div.sk-parallel-item:last-child::after {align-self: flex-start;width: 50%;}#sk-container-id-1 div.sk-parallel-item:only-child::after {width: 0;}#sk-container-id-1 div.sk-dashed-wrapped {border: 1px dashed gray;margin: 0 0.4em 0.5em 0.4em;box-sizing: border-box;padding-bottom: 0.4em;background-color: white;}#sk-container-id-1 div.sk-label label {font-family: monospace;font-weight: bold;display: inline-block;line-height: 1.2em;}#sk-container-id-1 div.sk-label-container {text-align: center;}#sk-container-id-1 div.sk-container {/* jupyter's `normalize.less` sets `[hidden] { display: none; }` but bootstrap.min.css set `[hidden] { display: none !important; }` so we also need the `!important` here to be able to override the default hidden behavior on the sphinx rendered scikit-learn.org. See: https://github.com/scikit-learn/scikit-learn/issues/21755 */display: inline-block !important;position: relative;}#sk-container-id-1 div.sk-text-repr-fallback {display: none;}</style><div id=\"sk-container-id-1\" class=\"sk-top-container\"><div class=\"sk-text-repr-fallback\"><pre>LogisticRegression(max_iter=500, penalty=&#x27;none&#x27;, random_state=0)</pre><b>In a Jupyter environment, please rerun this cell to show the HTML representation or trust the notebook. <br />On GitHub, the HTML representation is unable to render, please try loading this page with nbviewer.org.</b></div><div class=\"sk-container\" hidden><div class=\"sk-item\"><div class=\"sk-estimator sk-toggleable\"><input class=\"sk-toggleable__control sk-hidden--visually\" id=\"sk-estimator-id-1\" type=\"checkbox\" checked><label for=\"sk-estimator-id-1\" class=\"sk-toggleable__label sk-toggleable__label-arrow\">LogisticRegression</label><div class=\"sk-toggleable__content\"><pre>LogisticRegression(max_iter=500, penalty=&#x27;none&#x27;, random_state=0)</pre></div></div></div></div></div>"
      ],
      "text/plain": [
       "LogisticRegression(max_iter=500, penalty='none', random_state=0)"
      ]
     },
     "execution_count": 14,
     "metadata": {},
     "output_type": "execute_result"
    }
   ],
   "source": [
    "log_reg.fit(X_test, y_test)"
   ]
  },
  {
   "cell_type": "markdown",
   "id": "64e42646",
   "metadata": {},
   "source": [
    "### Q1. Logistic Regression: Fraud Transactions"
   ]
  },
  {
   "cell_type": "markdown",
   "id": "762a77e9",
   "metadata": {},
   "source": [
    "What are the percentages of transactions labeled fraudulent for the male and female gender groups respectively?\n",
    "\n",
    "**Note**: You can reuse the code that you wrote in the previous module or you can go ahead and retrain the logistic regression model on the data\n",
    "\n",
    "- Use penalty='none', solver='lbfgs', random_state=0, max_iter=500 for the model.\n",
    "\n",
    "- Use test_size=0.3, random_state = 1 for splitting the data."
   ]
  },
  {
   "cell_type": "code",
   "execution_count": 15,
   "id": "e9567dfe-b8b1-4d4a-9cbd-5cfe09dd165f",
   "metadata": {},
   "outputs": [],
   "source": [
    "genders = list(set(gender_arr))"
   ]
  },
  {
   "cell_type": "code",
   "execution_count": 16,
   "id": "97c34304-8c51-4aed-babe-22fbab2957f8",
   "metadata": {},
   "outputs": [
    {
     "data": {
      "text/plain": [
       "[0, 1]"
      ]
     },
     "execution_count": 16,
     "metadata": {},
     "output_type": "execute_result"
    }
   ],
   "source": [
    "genders"
   ]
  },
  {
   "cell_type": "code",
   "execution_count": 34,
   "id": "03c920d3",
   "metadata": {},
   "outputs": [],
   "source": [
    "## Write your code here\n",
    "gender_table = []\n",
    "\n",
    "for gender in genders:\n",
    "    curr_gender_X_val = X_val[gender_val == gender]\n",
    "    curr_gender_y_val = y_val[gender_val == gender]\n",
    "\n",
    "    curr_gender_score = log_reg.score(curr_gender_X_val, curr_gender_y_val)\n",
    "\n",
    "    # CUurr gender fraudlent.\n",
    "    curr_gender_fraud = log_reg.predict(curr_gender_X_val)==1\n",
    "    curr_gender_fraud_percentage = sum(curr_gender_fraud)/len(curr_gender_y_val)\n",
    "    \n",
    "    # CUurr gender non fraudlent.\n",
    "    curr_gender_non_fraud = log_reg.predict(curr_gender_X_val)==0\n",
    "    curr_gender_non_fraud_percentage = sum(curr_gender_non_fraud)/len(curr_gender_y_val)\n",
    "\n",
    "    curr_cf = confusion_matrix(curr_gender_y_val, log_reg.predict(curr_gender_X_val))\n",
    "    curr_fn_count = curr_cf[1,0]\n",
    "    curr_fp_count = curr_cf[0,1]\n",
    "    fn_count_percentage = curr_fn_count/sum(curr_gender_y_val)\n",
    "    fp_count_percentage = curr_fp_count/sum(curr_gender_y_val)\n",
    "    \n",
    "    gender_table.append([curr_gender_score, curr_gender_fraud_percentage, curr_gender_non_fraud_percentage, fn_count_percentage, fp_count_percentage])"
   ]
  },
  {
   "cell_type": "code",
   "execution_count": 35,
   "id": "3e83cf40-705e-4e6b-a753-6e1dcbb328fb",
   "metadata": {},
   "outputs": [
    {
     "data": {
      "text/html": [
       "<div>\n",
       "<style scoped>\n",
       "    .dataframe tbody tr th:only-of-type {\n",
       "        vertical-align: middle;\n",
       "    }\n",
       "\n",
       "    .dataframe tbody tr th {\n",
       "        vertical-align: top;\n",
       "    }\n",
       "\n",
       "    .dataframe thead th {\n",
       "        text-align: right;\n",
       "    }\n",
       "</style>\n",
       "<table border=\"1\" class=\"dataframe\">\n",
       "  <thead>\n",
       "    <tr style=\"text-align: right;\">\n",
       "      <th></th>\n",
       "      <th>Accuracy</th>\n",
       "      <th>Fraug Percentage</th>\n",
       "      <th>Non fraud Percentage</th>\n",
       "      <th>FN</th>\n",
       "      <th>FP</th>\n",
       "    </tr>\n",
       "  </thead>\n",
       "  <tbody>\n",
       "    <tr>\n",
       "      <th>0</th>\n",
       "      <td>0.792633</td>\n",
       "      <td>0.444748</td>\n",
       "      <td>0.555252</td>\n",
       "      <td>0.251429</td>\n",
       "      <td>0.182857</td>\n",
       "    </tr>\n",
       "    <tr>\n",
       "      <th>1</th>\n",
       "      <td>0.835277</td>\n",
       "      <td>0.501458</td>\n",
       "      <td>0.498542</td>\n",
       "      <td>0.183562</td>\n",
       "      <td>0.126027</td>\n",
       "    </tr>\n",
       "  </tbody>\n",
       "</table>\n",
       "</div>"
      ],
      "text/plain": [
       "   Accuracy  Fraug Percentage  Non fraud Percentage        FN        FP\n",
       "0  0.792633          0.444748              0.555252  0.251429  0.182857\n",
       "1  0.835277          0.501458              0.498542  0.183562  0.126027"
      ]
     },
     "execution_count": 35,
     "metadata": {},
     "output_type": "execute_result"
    }
   ],
   "source": [
    "pd.DataFrame(gender_table, columns=['Accuracy', 'Fraug Percentage', 'Non fraud Percentage', 'FN', 'FP'], index=genders)"
   ]
  },
  {
   "cell_type": "markdown",
   "id": "7eb31270",
   "metadata": {},
   "source": [
    "### Q2. Logistic Regression: Non-Fraud Transactions"
   ]
  },
  {
   "cell_type": "markdown",
   "id": "e282002b",
   "metadata": {},
   "source": [
    "What are the percentages of fraudulent transactions that were classified as non-fraud for the male and female gender groups respectively?"
   ]
  },
  {
   "cell_type": "code",
   "execution_count": null,
   "id": "04e8ae6c-9683-404e-bec6-848b46f2d971",
   "metadata": {},
   "outputs": [],
   "source": []
  },
  {
   "cell_type": "code",
   "execution_count": null,
   "id": "63257502-208b-4c89-8d20-27ef50ec8f92",
   "metadata": {},
   "outputs": [],
   "source": []
  },
  {
   "cell_type": "code",
   "execution_count": null,
   "id": "b027dbd0-91a5-4d1d-b0af-c8007d5b5f8b",
   "metadata": {},
   "outputs": [],
   "source": []
  },
  {
   "cell_type": "code",
   "execution_count": null,
   "id": "18a5a666",
   "metadata": {},
   "outputs": [],
   "source": [
    "## Write your code here\n"
   ]
  },
  {
   "cell_type": "markdown",
   "id": "cba5fe63",
   "metadata": {},
   "source": [
    "### Q3. Logistic Regression\n",
    "\n",
    "Which of the following statements are true about this model?\n",
    "\n",
    "- The fraction of fraudulent transactions that were classified as non-fraud is higher for the male gender group compared to the female gender group\n",
    "- The model classifies a larger fraction of the male gender group transactions as fraudulent transactions compared to the female gender group dataset\n",
    "- There is a higher chance of incorrectly classifying a fraudulent transaction as non-fraud by a female customer compared to a fraudulent transaction by a male customer\n",
    "- There is a higher chance of correctly classifying a fraudulent transaction as non-fraud by a female customer compared to a fraudulent transaction by a male customer"
   ]
  }
 ],
 "metadata": {
  "kernelspec": {
   "display_name": "Python 3 (ipykernel)",
   "language": "python",
   "name": "python3"
  },
  "language_info": {
   "codemirror_mode": {
    "name": "ipython",
    "version": 3
   },
   "file_extension": ".py",
   "mimetype": "text/x-python",
   "name": "python",
   "nbconvert_exporter": "python",
   "pygments_lexer": "ipython3",
   "version": "3.10.11"
  }
 },
 "nbformat": 4,
 "nbformat_minor": 5
}
