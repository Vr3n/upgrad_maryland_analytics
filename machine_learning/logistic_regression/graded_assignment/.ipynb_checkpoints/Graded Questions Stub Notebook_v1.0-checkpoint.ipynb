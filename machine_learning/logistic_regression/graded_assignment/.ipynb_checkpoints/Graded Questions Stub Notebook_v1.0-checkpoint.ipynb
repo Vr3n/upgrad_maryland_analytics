{
 "cells": [
  {
   "cell_type": "code",
   "execution_count": null,
   "id": "4c3083b8",
   "metadata": {},
   "outputs": [],
   "source": [
    "##Import the necessary libraries\n",
    "import pandas as pd\n",
    "import numpy as np\n",
    "from sklearn.model_selection import train_test_split\n",
    "from matplotlib import pyplot as plt\n",
    "from sklearn.linear_model import LogisticRegression, LogisticRegressionCV\n",
    "import statsmodels.api as sm"
   ]
  },
  {
   "cell_type": "code",
   "execution_count": null,
   "id": "7f94fa4c",
   "metadata": {},
   "outputs": [],
   "source": [
    "##Read the dataset\n",
    "telecom = pd.read_csv('telecom.csv')"
   ]
  },
  {
   "cell_type": "code",
   "execution_count": null,
   "id": "2602d3a9",
   "metadata": {},
   "outputs": [],
   "source": [
    "##Check the top rows\n",
    "telecom.head()"
   ]
  },
  {
   "cell_type": "code",
   "execution_count": null,
   "id": "648cea88",
   "metadata": {},
   "outputs": [],
   "source": [
    "### Split the dataset to y and X\n",
    "y = telecom['Churn']\n",
    "X = telecom.iloc[:, :-1]"
   ]
  },
  {
   "cell_type": "markdown",
   "id": "a43a7a44",
   "metadata": {},
   "source": [
    "### Question 1\n",
    "\n",
    "Split the dataset into training and validation sets in a 70:30 ratio(use the random state to be 100). After that, please fit a logistic regression model using statsmodel.api . Once the model is fit on the dataset, find the constant coefficient. Which of the following values corresponds to the constant coefficient?"
   ]
  },
  {
   "cell_type": "code",
   "execution_count": null,
   "id": "8971cc07",
   "metadata": {},
   "outputs": [],
   "source": [
    "# split into 70% training 30% validation\n",
    "\n"
   ]
  },
  {
   "cell_type": "code",
   "execution_count": null,
   "id": "d241d75a",
   "metadata": {},
   "outputs": [],
   "source": [
    "##Build a logistic regression model using statsmodel.api\n"
   ]
  },
  {
   "cell_type": "code",
   "execution_count": null,
   "id": "c6930be1",
   "metadata": {
    "scrolled": true
   },
   "outputs": [],
   "source": [
    "##Print the summary\n"
   ]
  },
  {
   "cell_type": "markdown",
   "id": "b6e6b2d5",
   "metadata": {},
   "source": [
    "#### Note - Questions 2 and 3 are theoretical and interpretation based and hence they have been skipped in the stub notebook\n"
   ]
  },
  {
   "cell_type": "markdown",
   "id": "49f7d253",
   "metadata": {},
   "source": [
    "### Question 4\n",
    "Now, build another logistic regression model, this time using the sklearn libary. Take random state as 0. What is the overall accuracy of the model?"
   ]
  },
  {
   "cell_type": "code",
   "execution_count": null,
   "id": "fff01908",
   "metadata": {},
   "outputs": [],
   "source": [
    "##Build the logistic regression model using the sklearn library"
   ]
  },
  {
   "cell_type": "code",
   "execution_count": null,
   "id": "1b70a9ae",
   "metadata": {
    "scrolled": true
   },
   "outputs": [],
   "source": [
    "## Calculate the accuracy score on the validation set\n"
   ]
  },
  {
   "cell_type": "markdown",
   "id": "2bb3ddd6",
   "metadata": {},
   "source": [
    "### Question 5"
   ]
  },
  {
   "cell_type": "markdown",
   "id": "6badac98",
   "metadata": {},
   "source": [
    "What is the best C_value that is obtained if Lasso regression is used on this dataset? (Use the list of C values generated from the following array: C_list = np.arange(0.01,2,0.01))\n",
    "\n",
    "Take random state as 0"
   ]
  },
  {
   "cell_type": "code",
   "execution_count": null,
   "id": "5e072ec7",
   "metadata": {},
   "outputs": [],
   "source": [
    "C_list = np.arange(0.01,2,0.01)\n",
    "##Run the lasso regression across the different values in C_list and obtain the best C_value"
   ]
  },
  {
   "cell_type": "markdown",
   "id": "283b7082",
   "metadata": {},
   "source": [
    "### Question 6"
   ]
  },
  {
   "cell_type": "markdown",
   "id": "078903b7",
   "metadata": {},
   "source": [
    "\n",
    "Obtain the best C_value for Ridge regression for this dataset.Use the list of C_values generated from the following array: C_list = np.arange(0.01,2,0.01)) Use random state as 0\n",
    "\n",
    "Now, perform Ridge regression using the best C_value and the fit the model on the training data.Again use random state as 0. After that, compute the accuracy score on the validation data. What is the accuracy score on the validation set now?\n"
   ]
  },
  {
   "cell_type": "code",
   "execution_count": null,
   "id": "9bd34411",
   "metadata": {},
   "outputs": [],
   "source": [
    "C_list = np.arange(0.01,2,0.01)\n",
    "##Run the Ridge regression across the different values in C_list and obtain the best C_value\n"
   ]
  },
  {
   "cell_type": "code",
   "execution_count": null,
   "id": "5eef1e34",
   "metadata": {},
   "outputs": [],
   "source": [
    "##Perform Ridge regression using the best C_value."
   ]
  },
  {
   "cell_type": "code",
   "execution_count": null,
   "id": "1962f5bd",
   "metadata": {},
   "outputs": [],
   "source": [
    "##Calculate the accuracy score on the validation set"
   ]
  }
 ],
 "metadata": {
  "kernelspec": {
   "display_name": "Python 3 (ipykernel)",
   "language": "python",
   "name": "python3"
  },
  "language_info": {
   "codemirror_mode": {
    "name": "ipython",
    "version": 3
   },
   "file_extension": ".py",
   "mimetype": "text/x-python",
   "name": "python",
   "nbconvert_exporter": "python",
   "pygments_lexer": "ipython3",
   "version": "3.9.7"
  }
 },
 "nbformat": 4,
 "nbformat_minor": 5
}
