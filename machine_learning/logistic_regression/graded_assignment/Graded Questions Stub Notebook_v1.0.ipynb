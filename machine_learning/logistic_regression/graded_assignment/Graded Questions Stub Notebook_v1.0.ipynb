{
 "cells": [
  {
   "cell_type": "code",
   "execution_count": 1,
   "id": "4c3083b8",
   "metadata": {},
   "outputs": [],
   "source": [
    "##Import the necessary libraries\n",
    "import pandas as pd\n",
    "import numpy as np\n",
    "from sklearn.model_selection import train_test_split\n",
    "from matplotlib import pyplot as plt\n",
    "from sklearn.linear_model import LogisticRegression, LogisticRegressionCV\n",
    "import statsmodels.api as sm"
   ]
  },
  {
   "cell_type": "code",
   "execution_count": 2,
   "id": "7f94fa4c",
   "metadata": {},
   "outputs": [],
   "source": [
    "##Read the dataset\n",
    "telecom = pd.read_csv('telecom.csv')"
   ]
  },
  {
   "cell_type": "code",
   "execution_count": 3,
   "id": "2602d3a9",
   "metadata": {},
   "outputs": [
    {
     "data": {
      "text/html": [
       "<div>\n",
       "<style scoped>\n",
       "    .dataframe tbody tr th:only-of-type {\n",
       "        vertical-align: middle;\n",
       "    }\n",
       "\n",
       "    .dataframe tbody tr th {\n",
       "        vertical-align: top;\n",
       "    }\n",
       "\n",
       "    .dataframe thead th {\n",
       "        text-align: right;\n",
       "    }\n",
       "</style>\n",
       "<table border=\"1\" class=\"dataframe\">\n",
       "  <thead>\n",
       "    <tr style=\"text-align: right;\">\n",
       "      <th></th>\n",
       "      <th>tenure</th>\n",
       "      <th>MonthlyCharges</th>\n",
       "      <th>TotalCharges</th>\n",
       "      <th>Partner</th>\n",
       "      <th>gender_Male</th>\n",
       "      <th>MultipleLines_Yes</th>\n",
       "      <th>Churn</th>\n",
       "    </tr>\n",
       "  </thead>\n",
       "  <tbody>\n",
       "    <tr>\n",
       "      <th>0</th>\n",
       "      <td>-1.280248</td>\n",
       "      <td>-1.161694</td>\n",
       "      <td>-0.994194</td>\n",
       "      <td>1</td>\n",
       "      <td>0</td>\n",
       "      <td>0</td>\n",
       "      <td>0</td>\n",
       "    </tr>\n",
       "    <tr>\n",
       "      <th>1</th>\n",
       "      <td>0.064303</td>\n",
       "      <td>-0.260878</td>\n",
       "      <td>-0.173740</td>\n",
       "      <td>0</td>\n",
       "      <td>1</td>\n",
       "      <td>0</td>\n",
       "      <td>0</td>\n",
       "    </tr>\n",
       "    <tr>\n",
       "      <th>2</th>\n",
       "      <td>-1.239504</td>\n",
       "      <td>-0.363923</td>\n",
       "      <td>-0.959649</td>\n",
       "      <td>0</td>\n",
       "      <td>1</td>\n",
       "      <td>0</td>\n",
       "      <td>1</td>\n",
       "    </tr>\n",
       "    <tr>\n",
       "      <th>3</th>\n",
       "      <td>0.512486</td>\n",
       "      <td>-0.747850</td>\n",
       "      <td>-0.195248</td>\n",
       "      <td>0</td>\n",
       "      <td>1</td>\n",
       "      <td>0</td>\n",
       "      <td>0</td>\n",
       "    </tr>\n",
       "    <tr>\n",
       "      <th>4</th>\n",
       "      <td>-1.239504</td>\n",
       "      <td>0.196178</td>\n",
       "      <td>-0.940457</td>\n",
       "      <td>0</td>\n",
       "      <td>0</td>\n",
       "      <td>0</td>\n",
       "      <td>1</td>\n",
       "    </tr>\n",
       "  </tbody>\n",
       "</table>\n",
       "</div>"
      ],
      "text/plain": [
       "     tenure  MonthlyCharges  TotalCharges  Partner  gender_Male  \\\n",
       "0 -1.280248       -1.161694     -0.994194        1            0   \n",
       "1  0.064303       -0.260878     -0.173740        0            1   \n",
       "2 -1.239504       -0.363923     -0.959649        0            1   \n",
       "3  0.512486       -0.747850     -0.195248        0            1   \n",
       "4 -1.239504        0.196178     -0.940457        0            0   \n",
       "\n",
       "   MultipleLines_Yes  Churn  \n",
       "0                  0      0  \n",
       "1                  0      0  \n",
       "2                  0      1  \n",
       "3                  0      0  \n",
       "4                  0      1  "
      ]
     },
     "execution_count": 3,
     "metadata": {},
     "output_type": "execute_result"
    }
   ],
   "source": [
    "##Check the top rows\n",
    "telecom.head()"
   ]
  },
  {
   "cell_type": "code",
   "execution_count": 4,
   "id": "648cea88",
   "metadata": {},
   "outputs": [],
   "source": [
    "### Split the dataset to y and X\n",
    "y = telecom['Churn']\n",
    "X = telecom.iloc[:, :-1]"
   ]
  },
  {
   "cell_type": "markdown",
   "id": "a43a7a44",
   "metadata": {},
   "source": [
    "### Question 1\n",
    "\n",
    "Split the dataset into training and validation sets in a 70:30 ratio(use the random state to be 100). After that, please fit a logistic regression model using statsmodel.api . Once the model is fit on the dataset, find the constant coefficient. Which of the following values corresponds to the constant coefficient?"
   ]
  },
  {
   "cell_type": "code",
   "execution_count": 6,
   "id": "8971cc07",
   "metadata": {},
   "outputs": [],
   "source": [
    "# split into 70% training 30% validation\n",
    "# Standardize our non-dummy variables\n",
    "from sklearn.preprocessing import StandardScaler\n",
    "# split into 70% training 30% validation\n",
    "from sklearn.model_selection import train_test_split\n",
    "X_train, X_val, y_train, y_val = train_test_split(X, y, test_size=0.3, random_state = 100)\n"
   ]
  },
  {
   "cell_type": "code",
   "execution_count": 8,
   "id": "d241d75a",
   "metadata": {},
   "outputs": [
    {
     "name": "stdout",
     "output_type": "stream",
     "text": [
      "Optimization terminated successfully.\n",
      "         Current function value: 0.445808\n",
      "         Iterations 7\n"
     ]
    }
   ],
   "source": [
    "##Build a logistic regression model using statsmodel.api\n",
    "import statsmodels.api as sm\n",
    "log_reg_sm = sm.Logit(y_train, sm.add_constant(X_train.astype(float))).fit()\n"
   ]
  },
  {
   "cell_type": "code",
   "execution_count": 9,
   "id": "c6930be1",
   "metadata": {
    "scrolled": true
   },
   "outputs": [
    {
     "data": {
      "text/html": [
       "<table class=\"simpletable\">\n",
       "<caption>Logit Regression Results</caption>\n",
       "<tr>\n",
       "  <th>Dep. Variable:</th>         <td>Churn</td>      <th>  No. Observations:  </th>   <td>  4922</td>  \n",
       "</tr>\n",
       "<tr>\n",
       "  <th>Model:</th>                 <td>Logit</td>      <th>  Df Residuals:      </th>   <td>  4915</td>  \n",
       "</tr>\n",
       "<tr>\n",
       "  <th>Method:</th>                 <td>MLE</td>       <th>  Df Model:          </th>   <td>     6</td>  \n",
       "</tr>\n",
       "<tr>\n",
       "  <th>Date:</th>            <td>Wed, 27 Dec 2023</td> <th>  Pseudo R-squ.:     </th>   <td>0.2241</td>  \n",
       "</tr>\n",
       "<tr>\n",
       "  <th>Time:</th>                <td>22:38:31</td>     <th>  Log-Likelihood:    </th>  <td> -2194.3</td> \n",
       "</tr>\n",
       "<tr>\n",
       "  <th>converged:</th>             <td>True</td>       <th>  LL-Null:           </th>  <td> -2828.2</td> \n",
       "</tr>\n",
       "<tr>\n",
       "  <th>Covariance Type:</th>     <td>nonrobust</td>    <th>  LLR p-value:       </th> <td>1.006e-270</td>\n",
       "</tr>\n",
       "</table>\n",
       "<table class=\"simpletable\">\n",
       "<tr>\n",
       "          <td></td>             <th>coef</th>     <th>std err</th>      <th>z</th>      <th>P>|z|</th>  <th>[0.025</th>    <th>0.975]</th>  \n",
       "</tr>\n",
       "<tr>\n",
       "  <th>const</th>             <td>   -1.5896</td> <td>    0.084</td> <td>  -18.843</td> <td> 0.000</td> <td>   -1.755</td> <td>   -1.424</td>\n",
       "</tr>\n",
       "<tr>\n",
       "  <th>tenure</th>            <td>   -1.5915</td> <td>    0.164</td> <td>   -9.685</td> <td> 0.000</td> <td>   -1.914</td> <td>   -1.269</td>\n",
       "</tr>\n",
       "<tr>\n",
       "  <th>MonthlyCharges</th>    <td>    0.9289</td> <td>    0.066</td> <td>   14.121</td> <td> 0.000</td> <td>    0.800</td> <td>    1.058</td>\n",
       "</tr>\n",
       "<tr>\n",
       "  <th>TotalCharges</th>      <td>    0.2141</td> <td>    0.170</td> <td>    1.260</td> <td> 0.208</td> <td>   -0.119</td> <td>    0.547</td>\n",
       "</tr>\n",
       "<tr>\n",
       "  <th>Partner</th>           <td>   -0.0086</td> <td>    0.081</td> <td>   -0.106</td> <td> 0.916</td> <td>   -0.168</td> <td>    0.151</td>\n",
       "</tr>\n",
       "<tr>\n",
       "  <th>gender_Male</th>       <td>   -0.0306</td> <td>    0.075</td> <td>   -0.409</td> <td> 0.682</td> <td>   -0.177</td> <td>    0.116</td>\n",
       "</tr>\n",
       "<tr>\n",
       "  <th>MultipleLines_Yes</th> <td>    0.2352</td> <td>    0.090</td> <td>    2.602</td> <td> 0.009</td> <td>    0.058</td> <td>    0.412</td>\n",
       "</tr>\n",
       "</table>"
      ],
      "text/latex": [
       "\\begin{center}\n",
       "\\begin{tabular}{lclc}\n",
       "\\toprule\n",
       "\\textbf{Dep. Variable:}     &      Churn       & \\textbf{  No. Observations:  } &     4922    \\\\\n",
       "\\textbf{Model:}             &      Logit       & \\textbf{  Df Residuals:      } &     4915    \\\\\n",
       "\\textbf{Method:}            &       MLE        & \\textbf{  Df Model:          } &        6    \\\\\n",
       "\\textbf{Date:}              & Wed, 27 Dec 2023 & \\textbf{  Pseudo R-squ.:     } &   0.2241    \\\\\n",
       "\\textbf{Time:}              &     22:38:31     & \\textbf{  Log-Likelihood:    } &   -2194.3   \\\\\n",
       "\\textbf{converged:}         &       True       & \\textbf{  LL-Null:           } &   -2828.2   \\\\\n",
       "\\textbf{Covariance Type:}   &    nonrobust     & \\textbf{  LLR p-value:       } & 1.006e-270  \\\\\n",
       "\\bottomrule\n",
       "\\end{tabular}\n",
       "\\begin{tabular}{lcccccc}\n",
       "                            & \\textbf{coef} & \\textbf{std err} & \\textbf{z} & \\textbf{P$> |$z$|$} & \\textbf{[0.025} & \\textbf{0.975]}  \\\\\n",
       "\\midrule\n",
       "\\textbf{const}              &      -1.5896  &        0.084     &   -18.843  &         0.000        &       -1.755    &       -1.424     \\\\\n",
       "\\textbf{tenure}             &      -1.5915  &        0.164     &    -9.685  &         0.000        &       -1.914    &       -1.269     \\\\\n",
       "\\textbf{MonthlyCharges}     &       0.9289  &        0.066     &    14.121  &         0.000        &        0.800    &        1.058     \\\\\n",
       "\\textbf{TotalCharges}       &       0.2141  &        0.170     &     1.260  &         0.208        &       -0.119    &        0.547     \\\\\n",
       "\\textbf{Partner}            &      -0.0086  &        0.081     &    -0.106  &         0.916        &       -0.168    &        0.151     \\\\\n",
       "\\textbf{gender\\_Male}       &      -0.0306  &        0.075     &    -0.409  &         0.682        &       -0.177    &        0.116     \\\\\n",
       "\\textbf{MultipleLines\\_Yes} &       0.2352  &        0.090     &     2.602  &         0.009        &        0.058    &        0.412     \\\\\n",
       "\\bottomrule\n",
       "\\end{tabular}\n",
       "%\\caption{Logit Regression Results}\n",
       "\\end{center}"
      ],
      "text/plain": [
       "<class 'statsmodels.iolib.summary.Summary'>\n",
       "\"\"\"\n",
       "                           Logit Regression Results                           \n",
       "==============================================================================\n",
       "Dep. Variable:                  Churn   No. Observations:                 4922\n",
       "Model:                          Logit   Df Residuals:                     4915\n",
       "Method:                           MLE   Df Model:                            6\n",
       "Date:                Wed, 27 Dec 2023   Pseudo R-squ.:                  0.2241\n",
       "Time:                        22:38:31   Log-Likelihood:                -2194.3\n",
       "converged:                       True   LL-Null:                       -2828.2\n",
       "Covariance Type:            nonrobust   LLR p-value:                1.006e-270\n",
       "=====================================================================================\n",
       "                        coef    std err          z      P>|z|      [0.025      0.975]\n",
       "-------------------------------------------------------------------------------------\n",
       "const                -1.5896      0.084    -18.843      0.000      -1.755      -1.424\n",
       "tenure               -1.5915      0.164     -9.685      0.000      -1.914      -1.269\n",
       "MonthlyCharges        0.9289      0.066     14.121      0.000       0.800       1.058\n",
       "TotalCharges          0.2141      0.170      1.260      0.208      -0.119       0.547\n",
       "Partner              -0.0086      0.081     -0.106      0.916      -0.168       0.151\n",
       "gender_Male          -0.0306      0.075     -0.409      0.682      -0.177       0.116\n",
       "MultipleLines_Yes     0.2352      0.090      2.602      0.009       0.058       0.412\n",
       "=====================================================================================\n",
       "\"\"\""
      ]
     },
     "execution_count": 9,
     "metadata": {},
     "output_type": "execute_result"
    }
   ],
   "source": [
    "##Print the summary\n",
    "log_reg_sm.summary()"
   ]
  },
  {
   "cell_type": "markdown",
   "id": "b6e6b2d5",
   "metadata": {},
   "source": [
    "#### Note - Questions 2 and 3 are theoretical and interpretation based and hence they have been skipped in the stub notebook\n"
   ]
  },
  {
   "cell_type": "markdown",
   "id": "49f7d253",
   "metadata": {},
   "source": [
    "### Question 4\n",
    "Now, build another logistic regression model, this time using the sklearn libary. Take random state as 0. What is the overall accuracy of the model?"
   ]
  },
  {
   "cell_type": "code",
   "execution_count": 13,
   "id": "1b70a9ae",
   "metadata": {
    "scrolled": true
   },
   "outputs": [
    {
     "data": {
      "text/plain": [
       "0.7800947867298578"
      ]
     },
     "execution_count": 13,
     "metadata": {},
     "output_type": "execute_result"
    }
   ],
   "source": [
    "## Calculate the accuracy score on the validation set\n",
    "y_pred = np.round(log_reg_sm.predict(sm.add_constant(X_val.astype('float'))))\n",
    "score = sum(y_pred == y_val) / len(y_val)\n",
    "score"
   ]
  },
  {
   "cell_type": "markdown",
   "id": "2bb3ddd6",
   "metadata": {},
   "source": [
    "### Question 5"
   ]
  },
  {
   "cell_type": "markdown",
   "id": "6badac98",
   "metadata": {},
   "source": [
    "What is the best C_value that is obtained if Lasso regression is used on this dataset? (Use the list of C values generated from the following array: C_list = np.arange(0.01,2,0.01))\n",
    "\n",
    "Take random state as 0"
   ]
  },
  {
   "cell_type": "code",
   "execution_count": 21,
   "id": "5e072ec7",
   "metadata": {},
   "outputs": [
    {
     "data": {
      "text/plain": [
       "array([0.01])"
      ]
     },
     "execution_count": 21,
     "metadata": {},
     "output_type": "execute_result"
    }
   ],
   "source": [
    "C_list = np.arange(0.01,2,0.01)\n",
    "##Run the lasso regression across the different values in C_list and obtain the best C_value\n",
    "lasso_reg_cv = LogisticRegressionCV(Cs=C_list, penalty='l1', solver='liblinear', \n",
    "                                    random_state=0)\n",
    "lasso_reg_cv.fit(X_train, y_train)\n",
    "lasso_reg_cv.C_"
   ]
  },
  {
   "cell_type": "code",
   "execution_count": 20,
   "id": "96990a4f-e306-4e25-a2b4-db0055299816",
   "metadata": {},
   "outputs": [
    {
     "data": {
      "text/plain": [
       "0.7805687203791469"
      ]
     },
     "execution_count": 20,
     "metadata": {},
     "output_type": "execute_result"
    }
   ],
   "source": [
    "lasso_reg = LogisticRegression(penalty='l1', solver='liblinear', C=lasso_reg_cv.C_[0],\n",
    "                               random_state=0).fit(X_train, y_train)\n",
    "lasso_reg.score(X_val, y_val)"
   ]
  },
  {
   "cell_type": "markdown",
   "id": "283b7082",
   "metadata": {},
   "source": [
    "### Question 6"
   ]
  },
  {
   "cell_type": "markdown",
   "id": "078903b7",
   "metadata": {},
   "source": [
    "\n",
    "Obtain the best C_value for Ridge regression for this dataset.Use the list of C_values generated from the following array: C_list = np.arange(0.01,2,0.01)) Use random state as 0\n",
    "\n",
    "Now, perform Ridge regression using the best C_value and the fit the model on the training data.Again use random state as 0. After that, compute the accuracy score on the validation data. What is the accuracy score on the validation set now?\n"
   ]
  },
  {
   "cell_type": "code",
   "execution_count": null,
   "id": "9bd34411",
   "metadata": {},
   "outputs": [],
   "source": [
    "C_list = np.arange(0.01,2,0.01)\n",
    "##Run the Ridge regression across the different values in C_list and obtain the best C_value\n",
    "ridge_reg_cv = LogisticRegressionCV(Cs=C_list, penalty='l2', solver='lbfgs', max_iter=100,\n",
    "                                    random_state=0).fit(X_train, y_train)\n",
    "ridge_reg_cv.C_"
   ]
  },
  {
   "cell_type": "code",
   "execution_count": null,
   "id": "5eef1e34",
   "metadata": {},
   "outputs": [],
   "source": [
    "##Perform Ridge regression using the best C_value."
   ]
  },
  {
   "cell_type": "code",
   "execution_count": null,
   "id": "1962f5bd",
   "metadata": {},
   "outputs": [],
   "source": [
    "##Calculate the accuracy score on the validation set"
   ]
  },
  {
   "cell_type": "code",
   "execution_count": 12,
   "id": "5b0dd768-7171-42cc-a66f-5917bae297f2",
   "metadata": {},
   "outputs": [
    {
     "data": {
      "text/plain": [
       "1.2387465232522514"
      ]
     },
     "execution_count": 12,
     "metadata": {},
     "output_type": "execute_result"
    }
   ],
   "source": [
    "np.exp(0.2141)"
   ]
  },
  {
   "cell_type": "code",
   "execution_count": null,
   "id": "661b0850-e2ac-4009-8c8f-4cf3f0b96559",
   "metadata": {},
   "outputs": [],
   "source": []
  }
 ],
 "metadata": {
  "kernelspec": {
   "display_name": "Python 3 (ipykernel)",
   "language": "python",
   "name": "python3"
  },
  "language_info": {
   "codemirror_mode": {
    "name": "ipython",
    "version": 3
   },
   "file_extension": ".py",
   "mimetype": "text/x-python",
   "name": "python",
   "nbconvert_exporter": "python",
   "pygments_lexer": "ipython3",
   "version": "3.10.11"
  }
 },
 "nbformat": 4,
 "nbformat_minor": 5
}
