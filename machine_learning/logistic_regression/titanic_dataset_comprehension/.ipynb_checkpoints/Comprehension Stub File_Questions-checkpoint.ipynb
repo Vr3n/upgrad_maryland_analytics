{
 "cells": [
  {
   "cell_type": "code",
   "execution_count": null,
   "id": "b716a695",
   "metadata": {},
   "outputs": [],
   "source": [
    "import pandas as pd\n",
    "titanic_df = pd.read_csv(\"titanic_v2.csv\")"
   ]
  },
  {
   "cell_type": "code",
   "execution_count": null,
   "id": "8f6f9fd5",
   "metadata": {},
   "outputs": [],
   "source": [
    "titanic_df.head()"
   ]
  },
  {
   "cell_type": "code",
   "execution_count": null,
   "id": "b2b0057c",
   "metadata": {},
   "outputs": [],
   "source": [
    "non_categorical_columns = ['Age', 'SibSp', 'Fare', 'Parch']"
   ]
  },
  {
   "cell_type": "code",
   "execution_count": null,
   "id": "2d5aee9e",
   "metadata": {},
   "outputs": [],
   "source": [
    "for column in titanic_df.columns:\n",
    "    if column not in non_categorical_columns:\n",
    "        titanic_df[column] = pd.Categorical(titanic_df[column])"
   ]
  },
  {
   "cell_type": "code",
   "execution_count": null,
   "id": "1d9e7d29",
   "metadata": {},
   "outputs": [],
   "source": [
    "##Splitting the dataset\n",
    "y = titanic_df['Survived']\n",
    "X = titanic_df.iloc[:, :-1] "
   ]
  },
  {
   "cell_type": "code",
   "execution_count": null,
   "id": "8defc030",
   "metadata": {},
   "outputs": [],
   "source": [
    "X = pd.get_dummies(X, drop_first=True)"
   ]
  },
  {
   "cell_type": "code",
   "execution_count": null,
   "id": "2bbf4505",
   "metadata": {},
   "outputs": [],
   "source": [
    "# Standardize our non-dummy variables\n",
    "from sklearn.preprocessing import StandardScaler\n",
    "scaler = StandardScaler()\n",
    "X[['Age', 'SibSp', 'Fare', 'Parch']]= scaler.fit_transform(X[['Age', 'SibSp', 'Fare', 'Parch']])"
   ]
  },
  {
   "cell_type": "markdown",
   "id": "f393972f",
   "metadata": {},
   "source": [
    "### Question 1\n",
    "\n",
    "Split the dataset into training and validation sets in a 70:30 ratio(use the random state to be 100). After that, please fit a logistic regression model using statsmodel.api . Once the model is fit on the dataset, find the constant coefficient. Which of the following values corresponds to the constant coefficient?"
   ]
  },
  {
   "cell_type": "code",
   "execution_count": null,
   "id": "05b3259b",
   "metadata": {},
   "outputs": [],
   "source": []
  },
  {
   "cell_type": "code",
   "execution_count": null,
   "id": "8971cc07",
   "metadata": {},
   "outputs": [],
   "source": [
    "# split into 70% training 30% validation\n",
    "\n"
   ]
  },
  {
   "cell_type": "code",
   "execution_count": null,
   "id": "d241d75a",
   "metadata": {},
   "outputs": [],
   "source": [
    "##Build a logistic regression model using statsmodel.api\n"
   ]
  },
  {
   "cell_type": "code",
   "execution_count": null,
   "id": "c6930be1",
   "metadata": {
    "scrolled": true
   },
   "outputs": [],
   "source": [
    "##Print the summary\n"
   ]
  },
  {
   "cell_type": "markdown",
   "id": "a0ccf30b",
   "metadata": {},
   "source": [
    "#### Note - Questions 2 and 3 are theoretical and interpretation based and hence they have been skipped in the stub notebook\n"
   ]
  },
  {
   "cell_type": "markdown",
   "id": "49f7d253",
   "metadata": {},
   "source": [
    "### Question 4\n",
    "Rebuild the logistic regression model using the sklearn library. Take random state as 0. What is the approximate value for accuracy obtained on the validation set?"
   ]
  },
  {
   "cell_type": "code",
   "execution_count": null,
   "id": "fff01908",
   "metadata": {},
   "outputs": [],
   "source": [
    "##Build the logistic regression model using the sklearn library\n"
   ]
  },
  {
   "cell_type": "code",
   "execution_count": null,
   "id": "1b70a9ae",
   "metadata": {
    "scrolled": true
   },
   "outputs": [],
   "source": [
    "## Calculate the accuracy score on the validation set\n"
   ]
  },
  {
   "cell_type": "markdown",
   "id": "2bb3ddd6",
   "metadata": {},
   "source": [
    "### Question 5"
   ]
  },
  {
   "cell_type": "markdown",
   "id": "6badac98",
   "metadata": {},
   "source": [
    "What is the best C_value that is obtained if Lasso regression is used on this dataset? (Use the list of C values generated from the following array:\n",
    "\n",
    "C_list = np.arange(0.01,2,0.01))\n",
    "\n",
    "Also, take the random state as 0."
   ]
  },
  {
   "cell_type": "code",
   "execution_count": null,
   "id": "5e072ec7",
   "metadata": {},
   "outputs": [],
   "source": [
    "import numpy as np\n",
    "C_list = np.arange(0.01,2,0.01)\n",
    "##Run the Lasso regression across the different values in C_list and obtain the best C_value\n"
   ]
  },
  {
   "cell_type": "markdown",
   "id": "283b7082",
   "metadata": {},
   "source": [
    "### Question 6"
   ]
  },
  {
   "cell_type": "markdown",
   "id": "078903b7",
   "metadata": {},
   "source": [
    "Now, perform Lasso regression using the best C_value and the fit the model on the training data. After that, compute the accuracy score on the validation data. What is the accuracy score on the validation set now?\n",
    "\n",
    "Take random state as 0."
   ]
  },
  {
   "cell_type": "code",
   "execution_count": null,
   "id": "5eef1e34",
   "metadata": {},
   "outputs": [],
   "source": [
    "##Perform Lasso regression using the best C_value.\n"
   ]
  },
  {
   "cell_type": "code",
   "execution_count": null,
   "id": "1962f5bd",
   "metadata": {},
   "outputs": [],
   "source": [
    "##Calculate the accuracy score on the validation set\n"
   ]
  },
  {
   "cell_type": "code",
   "execution_count": null,
   "id": "f83aa2f8",
   "metadata": {},
   "outputs": [],
   "source": []
  }
 ],
 "metadata": {
  "kernelspec": {
   "display_name": "Python 3 (ipykernel)",
   "language": "python",
   "name": "python3"
  },
  "language_info": {
   "codemirror_mode": {
    "name": "ipython",
    "version": 3
   },
   "file_extension": ".py",
   "mimetype": "text/x-python",
   "name": "python",
   "nbconvert_exporter": "python",
   "pygments_lexer": "ipython3",
   "version": "3.9.7"
  }
 },
 "nbformat": 4,
 "nbformat_minor": 5
}
