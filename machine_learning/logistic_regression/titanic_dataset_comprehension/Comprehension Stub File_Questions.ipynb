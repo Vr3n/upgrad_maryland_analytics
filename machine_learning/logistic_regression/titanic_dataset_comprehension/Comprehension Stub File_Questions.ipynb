{
 "cells": [
  {
   "cell_type": "code",
   "execution_count": 66,
   "id": "b716a695",
   "metadata": {},
   "outputs": [],
   "source": [
    "import pandas as pd\n",
    "import numpy as np\n",
    "titanic_df = pd.read_csv(\"titanic_v2.csv\")"
   ]
  },
  {
   "cell_type": "code",
   "execution_count": 67,
   "id": "8f6f9fd5",
   "metadata": {},
   "outputs": [
    {
     "data": {
      "text/html": [
       "<div>\n",
       "<style scoped>\n",
       "    .dataframe tbody tr th:only-of-type {\n",
       "        vertical-align: middle;\n",
       "    }\n",
       "\n",
       "    .dataframe tbody tr th {\n",
       "        vertical-align: top;\n",
       "    }\n",
       "\n",
       "    .dataframe thead th {\n",
       "        text-align: right;\n",
       "    }\n",
       "</style>\n",
       "<table border=\"1\" class=\"dataframe\">\n",
       "  <thead>\n",
       "    <tr style=\"text-align: right;\">\n",
       "      <th></th>\n",
       "      <th>Pclass</th>\n",
       "      <th>Sex</th>\n",
       "      <th>Age</th>\n",
       "      <th>SibSp</th>\n",
       "      <th>Parch</th>\n",
       "      <th>Fare</th>\n",
       "      <th>Survived</th>\n",
       "    </tr>\n",
       "  </thead>\n",
       "  <tbody>\n",
       "    <tr>\n",
       "      <th>0</th>\n",
       "      <td>3</td>\n",
       "      <td>male</td>\n",
       "      <td>22.0</td>\n",
       "      <td>1</td>\n",
       "      <td>0</td>\n",
       "      <td>7.2500</td>\n",
       "      <td>0</td>\n",
       "    </tr>\n",
       "    <tr>\n",
       "      <th>1</th>\n",
       "      <td>1</td>\n",
       "      <td>female</td>\n",
       "      <td>38.0</td>\n",
       "      <td>1</td>\n",
       "      <td>0</td>\n",
       "      <td>71.2833</td>\n",
       "      <td>1</td>\n",
       "    </tr>\n",
       "    <tr>\n",
       "      <th>2</th>\n",
       "      <td>3</td>\n",
       "      <td>female</td>\n",
       "      <td>26.0</td>\n",
       "      <td>0</td>\n",
       "      <td>0</td>\n",
       "      <td>7.9250</td>\n",
       "      <td>1</td>\n",
       "    </tr>\n",
       "    <tr>\n",
       "      <th>3</th>\n",
       "      <td>1</td>\n",
       "      <td>female</td>\n",
       "      <td>35.0</td>\n",
       "      <td>1</td>\n",
       "      <td>0</td>\n",
       "      <td>53.1000</td>\n",
       "      <td>1</td>\n",
       "    </tr>\n",
       "    <tr>\n",
       "      <th>4</th>\n",
       "      <td>3</td>\n",
       "      <td>male</td>\n",
       "      <td>35.0</td>\n",
       "      <td>0</td>\n",
       "      <td>0</td>\n",
       "      <td>8.0500</td>\n",
       "      <td>0</td>\n",
       "    </tr>\n",
       "  </tbody>\n",
       "</table>\n",
       "</div>"
      ],
      "text/plain": [
       "   Pclass     Sex   Age  SibSp  Parch     Fare  Survived\n",
       "0       3    male  22.0      1      0   7.2500         0\n",
       "1       1  female  38.0      1      0  71.2833         1\n",
       "2       3  female  26.0      0      0   7.9250         1\n",
       "3       1  female  35.0      1      0  53.1000         1\n",
       "4       3    male  35.0      0      0   8.0500         0"
      ]
     },
     "execution_count": 67,
     "metadata": {},
     "output_type": "execute_result"
    }
   ],
   "source": [
    "titanic_df.head()"
   ]
  },
  {
   "cell_type": "code",
   "execution_count": 68,
   "id": "b2b0057c",
   "metadata": {},
   "outputs": [],
   "source": [
    "non_categorical_columns = ['Age', 'SibSp', 'Fare', 'Parch']"
   ]
  },
  {
   "cell_type": "code",
   "execution_count": 69,
   "id": "2d5aee9e",
   "metadata": {},
   "outputs": [],
   "source": [
    "for column in titanic_df.columns:\n",
    "    if column not in non_categorical_columns:\n",
    "        titanic_df[column] = pd.Categorical(titanic_df[column])"
   ]
  },
  {
   "cell_type": "code",
   "execution_count": 70,
   "id": "1d9e7d29",
   "metadata": {},
   "outputs": [],
   "source": [
    "##Splitting the dataset\n",
    "y = titanic_df['Survived']\n",
    "X = titanic_df.iloc[:, :-1] "
   ]
  },
  {
   "cell_type": "code",
   "execution_count": 71,
   "id": "8defc030",
   "metadata": {},
   "outputs": [],
   "source": [
    "X = pd.get_dummies(X, drop_first=True)"
   ]
  },
  {
   "cell_type": "code",
   "execution_count": 72,
   "id": "2bbf4505",
   "metadata": {},
   "outputs": [],
   "source": [
    "# Standardize our non-dummy variables\n",
    "from sklearn.preprocessing import StandardScaler\n",
    "scaler = StandardScaler()\n",
    "X[['Age', 'SibSp', 'Fare', 'Parch']]= scaler.fit_transform(X[['Age', 'SibSp', 'Fare', 'Parch']])"
   ]
  },
  {
   "cell_type": "markdown",
   "id": "f393972f",
   "metadata": {},
   "source": [
    "### Question 1\n",
    "\n",
    "Split the dataset into training and validation sets in a 70:30 ratio(use the random state to be 100). After that, please fit a logistic regression model using statsmodel.api . Once the model is fit on the dataset, find the constant coefficient. Which of the following values corresponds to the constant coefficient?"
   ]
  },
  {
   "cell_type": "code",
   "execution_count": 73,
   "id": "8971cc07",
   "metadata": {},
   "outputs": [],
   "source": [
    "# split into 70% training 30% validation\n",
    "from sklearn.model_selection import train_test_split\n",
    "\n",
    "X_train, X_val, y_train, y_val = train_test_split(X, y, test_size=0.3, random_state=100)\n"
   ]
  },
  {
   "cell_type": "code",
   "execution_count": 74,
   "id": "d241d75a",
   "metadata": {},
   "outputs": [
    {
     "name": "stdout",
     "output_type": "stream",
     "text": [
      "Optimization terminated successfully.\n",
      "         Current function value: 0.442155\n",
      "         Iterations 6\n"
     ]
    }
   ],
   "source": [
    "##Build a logistic regression model using statsmodel.api\n",
    "import statsmodels.api as sm\n",
    "log_reg_sm = sm.Logit(y_train, sm.add_constant(X_train.astype(float))).fit()"
   ]
  },
  {
   "cell_type": "code",
   "execution_count": 75,
   "id": "c6930be1",
   "metadata": {
    "scrolled": true
   },
   "outputs": [
    {
     "data": {
      "text/html": [
       "<table class=\"simpletable\">\n",
       "<caption>Logit Regression Results</caption>\n",
       "<tr>\n",
       "  <th>Dep. Variable:</th>       <td>Survived</td>     <th>  No. Observations:  </th>  <td>   499</td>  \n",
       "</tr>\n",
       "<tr>\n",
       "  <th>Model:</th>                 <td>Logit</td>      <th>  Df Residuals:      </th>  <td>   491</td>  \n",
       "</tr>\n",
       "<tr>\n",
       "  <th>Method:</th>                 <td>MLE</td>       <th>  Df Model:          </th>  <td>     7</td>  \n",
       "</tr>\n",
       "<tr>\n",
       "  <th>Date:</th>            <td>Wed, 27 Dec 2023</td> <th>  Pseudo R-squ.:     </th>  <td>0.3515</td>  \n",
       "</tr>\n",
       "<tr>\n",
       "  <th>Time:</th>                <td>20:51:28</td>     <th>  Log-Likelihood:    </th> <td> -220.64</td> \n",
       "</tr>\n",
       "<tr>\n",
       "  <th>converged:</th>             <td>True</td>       <th>  LL-Null:           </th> <td> -340.22</td> \n",
       "</tr>\n",
       "<tr>\n",
       "  <th>Covariance Type:</th>     <td>nonrobust</td>    <th>  LLR p-value:       </th> <td>5.567e-48</td>\n",
       "</tr>\n",
       "</table>\n",
       "<table class=\"simpletable\">\n",
       "<tr>\n",
       "      <td></td>        <th>coef</th>     <th>std err</th>      <th>z</th>      <th>P>|z|</th>  <th>[0.025</th>    <th>0.975]</th>  \n",
       "</tr>\n",
       "<tr>\n",
       "  <th>const</th>    <td>    3.0321</td> <td>    0.362</td> <td>    8.379</td> <td> 0.000</td> <td>    2.323</td> <td>    3.741</td>\n",
       "</tr>\n",
       "<tr>\n",
       "  <th>Age</th>      <td>   -0.5266</td> <td>    0.142</td> <td>   -3.719</td> <td> 0.000</td> <td>   -0.804</td> <td>   -0.249</td>\n",
       "</tr>\n",
       "<tr>\n",
       "  <th>SibSp</th>    <td>   -0.3256</td> <td>    0.137</td> <td>   -2.372</td> <td> 0.018</td> <td>   -0.595</td> <td>   -0.057</td>\n",
       "</tr>\n",
       "<tr>\n",
       "  <th>Parch</th>    <td>   -0.0804</td> <td>    0.129</td> <td>   -0.625</td> <td> 0.532</td> <td>   -0.333</td> <td>    0.172</td>\n",
       "</tr>\n",
       "<tr>\n",
       "  <th>Fare</th>     <td>    0.0550</td> <td>    0.141</td> <td>    0.391</td> <td> 0.696</td> <td>   -0.221</td> <td>    0.331</td>\n",
       "</tr>\n",
       "<tr>\n",
       "  <th>Pclass_2</th> <td>   -1.4682</td> <td>    0.377</td> <td>   -3.900</td> <td> 0.000</td> <td>   -2.206</td> <td>   -0.730</td>\n",
       "</tr>\n",
       "<tr>\n",
       "  <th>Pclass_3</th> <td>   -2.6433</td> <td>    0.397</td> <td>   -6.654</td> <td> 0.000</td> <td>   -3.422</td> <td>   -1.865</td>\n",
       "</tr>\n",
       "<tr>\n",
       "  <th>Sex_male</th> <td>   -2.7399</td> <td>    0.276</td> <td>   -9.923</td> <td> 0.000</td> <td>   -3.281</td> <td>   -2.199</td>\n",
       "</tr>\n",
       "</table>"
      ],
      "text/latex": [
       "\\begin{center}\n",
       "\\begin{tabular}{lclc}\n",
       "\\toprule\n",
       "\\textbf{Dep. Variable:}   &     Survived     & \\textbf{  No. Observations:  } &      499    \\\\\n",
       "\\textbf{Model:}           &      Logit       & \\textbf{  Df Residuals:      } &      491    \\\\\n",
       "\\textbf{Method:}          &       MLE        & \\textbf{  Df Model:          } &        7    \\\\\n",
       "\\textbf{Date:}            & Wed, 27 Dec 2023 & \\textbf{  Pseudo R-squ.:     } &   0.3515    \\\\\n",
       "\\textbf{Time:}            &     20:51:28     & \\textbf{  Log-Likelihood:    } &   -220.64   \\\\\n",
       "\\textbf{converged:}       &       True       & \\textbf{  LL-Null:           } &   -340.22   \\\\\n",
       "\\textbf{Covariance Type:} &    nonrobust     & \\textbf{  LLR p-value:       } & 5.567e-48   \\\\\n",
       "\\bottomrule\n",
       "\\end{tabular}\n",
       "\\begin{tabular}{lcccccc}\n",
       "                   & \\textbf{coef} & \\textbf{std err} & \\textbf{z} & \\textbf{P$> |$z$|$} & \\textbf{[0.025} & \\textbf{0.975]}  \\\\\n",
       "\\midrule\n",
       "\\textbf{const}     &       3.0321  &        0.362     &     8.379  &         0.000        &        2.323    &        3.741     \\\\\n",
       "\\textbf{Age}       &      -0.5266  &        0.142     &    -3.719  &         0.000        &       -0.804    &       -0.249     \\\\\n",
       "\\textbf{SibSp}     &      -0.3256  &        0.137     &    -2.372  &         0.018        &       -0.595    &       -0.057     \\\\\n",
       "\\textbf{Parch}     &      -0.0804  &        0.129     &    -0.625  &         0.532        &       -0.333    &        0.172     \\\\\n",
       "\\textbf{Fare}      &       0.0550  &        0.141     &     0.391  &         0.696        &       -0.221    &        0.331     \\\\\n",
       "\\textbf{Pclass\\_2} &      -1.4682  &        0.377     &    -3.900  &         0.000        &       -2.206    &       -0.730     \\\\\n",
       "\\textbf{Pclass\\_3} &      -2.6433  &        0.397     &    -6.654  &         0.000        &       -3.422    &       -1.865     \\\\\n",
       "\\textbf{Sex\\_male} &      -2.7399  &        0.276     &    -9.923  &         0.000        &       -3.281    &       -2.199     \\\\\n",
       "\\bottomrule\n",
       "\\end{tabular}\n",
       "%\\caption{Logit Regression Results}\n",
       "\\end{center}"
      ],
      "text/plain": [
       "<class 'statsmodels.iolib.summary.Summary'>\n",
       "\"\"\"\n",
       "                           Logit Regression Results                           \n",
       "==============================================================================\n",
       "Dep. Variable:               Survived   No. Observations:                  499\n",
       "Model:                          Logit   Df Residuals:                      491\n",
       "Method:                           MLE   Df Model:                            7\n",
       "Date:                Wed, 27 Dec 2023   Pseudo R-squ.:                  0.3515\n",
       "Time:                        20:51:28   Log-Likelihood:                -220.64\n",
       "converged:                       True   LL-Null:                       -340.22\n",
       "Covariance Type:            nonrobust   LLR p-value:                 5.567e-48\n",
       "==============================================================================\n",
       "                 coef    std err          z      P>|z|      [0.025      0.975]\n",
       "------------------------------------------------------------------------------\n",
       "const          3.0321      0.362      8.379      0.000       2.323       3.741\n",
       "Age           -0.5266      0.142     -3.719      0.000      -0.804      -0.249\n",
       "SibSp         -0.3256      0.137     -2.372      0.018      -0.595      -0.057\n",
       "Parch         -0.0804      0.129     -0.625      0.532      -0.333       0.172\n",
       "Fare           0.0550      0.141      0.391      0.696      -0.221       0.331\n",
       "Pclass_2      -1.4682      0.377     -3.900      0.000      -2.206      -0.730\n",
       "Pclass_3      -2.6433      0.397     -6.654      0.000      -3.422      -1.865\n",
       "Sex_male      -2.7399      0.276     -9.923      0.000      -3.281      -2.199\n",
       "==============================================================================\n",
       "\"\"\""
      ]
     },
     "execution_count": 75,
     "metadata": {},
     "output_type": "execute_result"
    }
   ],
   "source": [
    "##Print the summary\n",
    "log_reg_sm.summary()"
   ]
  },
  {
   "cell_type": "markdown",
   "id": "a0ccf30b",
   "metadata": {},
   "source": [
    "#### Note - Questions 2 and 3 are theoretical and interpretation based and hence they have been skipped in the stub notebook\n"
   ]
  },
  {
   "cell_type": "markdown",
   "id": "49f7d253",
   "metadata": {},
   "source": [
    "### Question 4\n",
    "Rebuild the logistic regression model using the sklearn library. Take random state as 0. What is the approximate value for accuracy obtained on the validation set?"
   ]
  },
  {
   "cell_type": "code",
   "execution_count": 76,
   "id": "fff01908",
   "metadata": {},
   "outputs": [
    {
     "name": "stdout",
     "output_type": "stream",
     "text": [
      "Optimization terminated successfully.\n",
      "         Current function value: 0.445713\n",
      "         Iterations 6\n"
     ]
    }
   ],
   "source": [
    "##Build the logistic regression model using the sklearn library\n",
    "X_train, X_val, y_train, y_val = train_test_split(X, y, test_size=0.3, random_state=0)\n",
    "log_reg_sm = sm.Logit(y_train, sm.add_constant(X_train.astype(float))).fit()"
   ]
  },
  {
   "cell_type": "code",
   "execution_count": 77,
   "id": "1b70a9ae",
   "metadata": {
    "scrolled": true
   },
   "outputs": [
    {
     "name": "stdout",
     "output_type": "stream",
     "text": [
      "0.827906976744186\n"
     ]
    },
    {
     "name": "stderr",
     "output_type": "stream",
     "text": [
      "C:\\Users\\Vr3n\\codes\\upgrad-maryland-analytics\\upgrad_venv\\lib\\site-packages\\sklearn\\linear_model\\_logistic.py:1183: FutureWarning: `penalty='none'`has been deprecated in 1.2 and will be removed in 1.4. To keep the past behaviour, set `penalty=None`.\n",
      "  warnings.warn(\n"
     ]
    }
   ],
   "source": [
    "## Calculate the accuracy score on the validation set\n",
    "from sklearn.linear_model import LogisticRegression, LogisticRegressionCV\n",
    "log_reg_sklearn = LogisticRegression(penalty='none', solver='lbfgs', \n",
    "                                     max_iter=200)\n",
    "## Calculate the accuracy score on the validation set\n",
    "log_reg_sklearn.fit(X_train, y_train)\n",
    "log_reg_sklearn.score(X_val, y_val)\n",
    "print(log_reg_sklearn.score(X_val, y_val))"
   ]
  },
  {
   "cell_type": "markdown",
   "id": "2bb3ddd6",
   "metadata": {},
   "source": [
    "### Question 5"
   ]
  },
  {
   "cell_type": "markdown",
   "id": "6badac98",
   "metadata": {},
   "source": [
    "What is the best C_value that is obtained if Lasso regression is used on this dataset? (Use the list of C values generated from the following array:\n",
    "\n",
    "C_list = np.arange(0.01,2,0.01))\n",
    "\n",
    "Also, take the random state as 0."
   ]
  },
  {
   "cell_type": "code",
   "execution_count": 83,
   "id": "5e072ec7",
   "metadata": {},
   "outputs": [
    {
     "data": {
      "text/plain": [
       "array([0.11])"
      ]
     },
     "execution_count": 83,
     "metadata": {},
     "output_type": "execute_result"
    }
   ],
   "source": [
    "import numpy as np\n",
    "C_list = np.arange(0.01,2,0.01)\n",
    "##Run the Lasso regression across the different values in C_list and obtain the best C_value\n",
    "\n",
    "lasso_reg_cv = LogisticRegressionCV(Cs=C_list, penalty='l1', solver='liblinear', \n",
    "                                    random_state=0)\n",
    "lasso_reg_cv.fit(X_train, y_train)\n",
    "lasso_reg_cv.C_"
   ]
  },
  {
   "cell_type": "code",
   "execution_count": 84,
   "id": "58fa19af-be42-4b5c-a6e2-d104abc94c2f",
   "metadata": {},
   "outputs": [
    {
     "data": {
      "text/plain": [
       "0.813953488372093"
      ]
     },
     "execution_count": 84,
     "metadata": {},
     "output_type": "execute_result"
    }
   ],
   "source": [
    "lasso_reg = LogisticRegression(penalty='l1', solver='liblinear', C=lasso_reg_cv.C_[0],\n",
    "                               random_state=0).fit(X_train, y_train)\n",
    "lasso_reg.score(X_val, y_val)"
   ]
  },
  {
   "cell_type": "markdown",
   "id": "283b7082",
   "metadata": {},
   "source": [
    "### Question 6"
   ]
  },
  {
   "cell_type": "markdown",
   "id": "078903b7",
   "metadata": {},
   "source": [
    "Now, perform Lasso regression using the best C_value and the fit the model on the training data. After that, compute the accuracy score on the validation data. What is the accuracy score on the validation set now?\n",
    "\n",
    "Take random state as 0."
   ]
  },
  {
   "cell_type": "code",
   "execution_count": null,
   "id": "5eef1e34",
   "metadata": {},
   "outputs": [],
   "source": [
    "##Perform Lasso regression using the best C_value.\n"
   ]
  },
  {
   "cell_type": "code",
   "execution_count": null,
   "id": "1962f5bd",
   "metadata": {},
   "outputs": [],
   "source": [
    "##Calculate the accuracy score on the validation set\n"
   ]
  },
  {
   "cell_type": "code",
   "execution_count": null,
   "id": "f83aa2f8",
   "metadata": {},
   "outputs": [],
   "source": []
  }
 ],
 "metadata": {
  "kernelspec": {
   "display_name": "Python 3 (ipykernel)",
   "language": "python",
   "name": "python3"
  },
  "language_info": {
   "codemirror_mode": {
    "name": "ipython",
    "version": 3
   },
   "file_extension": ".py",
   "mimetype": "text/x-python",
   "name": "python",
   "nbconvert_exporter": "python",
   "pygments_lexer": "ipython3",
   "version": "3.11.8"
  }
 },
 "nbformat": 4,
 "nbformat_minor": 5
}
