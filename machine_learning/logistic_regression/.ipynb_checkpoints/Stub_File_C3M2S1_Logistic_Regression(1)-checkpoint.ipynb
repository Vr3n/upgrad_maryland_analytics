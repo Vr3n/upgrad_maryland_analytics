{
 "cells": [
  {
   "cell_type": "code",
   "execution_count": null,
   "metadata": {
    "id": "8s8Mzj3uaiWd"
   },
   "outputs": [],
   "source": [
    "# Session 1: Logistic Regression\n",
    "# Segment 5: Introduction to Logistic Regression\n",
    "\n",
    "# Question 2: Predict the Probability\n",
    "\n",
    "import numpy as np\n",
    "\n",
    "# Enter the respective values given in the question over here\n",
    "AGE =\n",
    "EXP =\n",
    "DAILYKM =\n",
    "\n",
    "B0 =\n",
    "B1 =\n",
    "B2 =\n",
    "B3 =\n",
    "\n",
    "# Execute the cell to get the output\n",
    "X = B0 + (B1*AGE) + (B2*EXP) + (B3*DAILYKM)\n",
    "P = 1/(1+np.exp(-X))\n",
    "print(P)"
   ]
  },
  {
   "cell_type": "code",
   "execution_count": null,
   "metadata": {
    "id": "Vts9srJBblXj"
   },
   "outputs": [],
   "source": [
    "# Session 1: Logistic Regression\n",
    "# Segment 8: Using a Model for Prediction\n",
    "\n",
    "# Question 1: Predicted Probability\n",
    "\n",
    "import numpy as np\n",
    "\n",
    "# Enter the respective values given in the question over here\n",
    "Gender =\n",
    "Married =\n",
    "Income =\n",
    "Age = \n",
    "\n",
    "B_constant = \n",
    "B_gender = \n",
    "B_married = \n",
    "B_income = \n",
    "B_age = \n",
    "\n",
    "# Execute the cell to get the output\n",
    "X = B_constant + (B_gender*Gender) + (B_married*Married) + (B_income*Income) + (B_age*Age)\n",
    "P = 1/(1+np.exp(-X))\n",
    "print(P)"
   ]
  },
  {
   "cell_type": "code",
   "execution_count": null,
   "metadata": {
    "id": "IcWXw8dCdhbp"
   },
   "outputs": [],
   "source": [
    "# Session 1: Logistic Regression\n",
    "# Segment 9: Practice Exercise\n",
    "\n",
    "# Question 1: Difference in Predicted Probability I\n",
    "\n",
    "import numpy as np\n",
    "\n",
    "# Enter the respective values given in the question over here\n",
    "Gender = \n",
    "Married = \n",
    "Income = \n",
    "\n",
    "Age_A = \n",
    "Age_B = \n",
    "\n",
    "B_constant = \n",
    "B_gender = \n",
    "B_married = \n",
    "B_income = \n",
    "B_age = \n",
    "\n",
    "# Execute the cell to get the output\n",
    "X_A = B_constant + (B_gender*Gender) + (B_married*Married) + (B_income*Income) + (B_age*Age_A)\n",
    "X_B = B_constant + (B_gender*Gender) + (B_married*Married) + (B_income*Income) + (B_age*Age_B)\n",
    "P_A = 1/(1+np.exp(-X_A))\n",
    "P_B = 1/(1+np.exp(-X_B))\n",
    "print(abs(P_A - P_B))"
   ]
  },
  {
   "cell_type": "code",
   "execution_count": null,
   "metadata": {
    "id": "9mMON6U9eVaL"
   },
   "outputs": [],
   "source": [
    "# Session 1: Logistic Regression\n",
    "# Segment 9: Practice Exercise\n",
    "\n",
    "# Question 2: Difference in Predicted Probability II\n",
    "\n",
    "import numpy as np\n",
    "\n",
    "# Enter the respective values given in the question over here\n",
    "Gender = \n",
    "Married = \n",
    "Income = \n",
    "\n",
    "Age_A = \n",
    "Age_B = \n",
    "\n",
    "B_constant = \n",
    "B_gender = \n",
    "B_married = \n",
    "B_income = \n",
    "B_age = \n",
    "\n",
    "# Execute the cell to get the output\n",
    "X_A = B_constant + (B_gender*Gender) + (B_married*Married) + (B_income*Income) + (B_age*Age_A)\n",
    "X_B = B_constant + (B_gender*Gender) + (B_married*Married) + (B_income*Income) + (B_age*Age_B)\n",
    "P_A = 1/(1+np.exp(-X_A))\n",
    "P_B = 1/(1+np.exp(-X_B))\n",
    "print(abs(P_A - P_B))"
   ]
  }
 ],
 "metadata": {
  "colab": {
   "provenance": []
  },
  "kernelspec": {
   "display_name": "Python 3 (ipykernel)",
   "language": "python",
   "name": "python3"
  },
  "language_info": {
   "codemirror_mode": {
    "name": "ipython",
    "version": 3
   },
   "file_extension": ".py",
   "mimetype": "text/x-python",
   "name": "python",
   "nbconvert_exporter": "python",
   "pygments_lexer": "ipython3",
   "version": "3.9.7"
  }
 },
 "nbformat": 4,
 "nbformat_minor": 1
}
