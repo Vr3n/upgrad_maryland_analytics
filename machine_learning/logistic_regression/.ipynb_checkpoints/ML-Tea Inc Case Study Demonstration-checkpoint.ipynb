{
 "cells": [
  {
   "cell_type": "markdown",
   "metadata": {
    "id": "16IsbQrPOlrA"
   },
   "source": [
    "## ML-Tea Inc Case Study Demonstration\n",
    "\n",
    "ML-Tea Inc is fictional bottled tea maker that uses machine learning to gain an edge in their target market. It has collected data on tea preferences (sweetened / unsweetened) and demographic characteristics\n",
    "\n",
    "***Goal***: Determine demographic factors for preferring unsweetened tea to support their targeted add campaign\n"
   ]
  },
  {
   "cell_type": "code",
   "execution_count": 2,
   "metadata": {
    "colab": {
     "base_uri": "https://localhost:8080/",
     "height": 206
    },
    "id": "0amsEohzOe-0",
    "outputId": "a085e261-4915-46e4-c8e8-396cc52546de"
   },
   "outputs": [
    {
     "data": {
      "text/html": [
       "<div>\n",
       "<style scoped>\n",
       "    .dataframe tbody tr th:only-of-type {\n",
       "        vertical-align: middle;\n",
       "    }\n",
       "\n",
       "    .dataframe tbody tr th {\n",
       "        vertical-align: top;\n",
       "    }\n",
       "\n",
       "    .dataframe thead th {\n",
       "        text-align: right;\n",
       "    }\n",
       "</style>\n",
       "<table border=\"1\" class=\"dataframe\">\n",
       "  <thead>\n",
       "    <tr style=\"text-align: right;\">\n",
       "      <th></th>\n",
       "      <th>Gender</th>\n",
       "      <th>Married</th>\n",
       "      <th>Income</th>\n",
       "      <th>Age</th>\n",
       "      <th>Preference</th>\n",
       "    </tr>\n",
       "  </thead>\n",
       "  <tbody>\n",
       "    <tr>\n",
       "      <th>0</th>\n",
       "      <td>0</td>\n",
       "      <td>0</td>\n",
       "      <td>31779</td>\n",
       "      <td>46</td>\n",
       "      <td>Sweetened</td>\n",
       "    </tr>\n",
       "    <tr>\n",
       "      <th>1</th>\n",
       "      <td>1</td>\n",
       "      <td>1</td>\n",
       "      <td>32739</td>\n",
       "      <td>50</td>\n",
       "      <td>Sweetened</td>\n",
       "    </tr>\n",
       "    <tr>\n",
       "      <th>2</th>\n",
       "      <td>1</td>\n",
       "      <td>1</td>\n",
       "      <td>24302</td>\n",
       "      <td>46</td>\n",
       "      <td>Sweetened</td>\n",
       "    </tr>\n",
       "    <tr>\n",
       "      <th>3</th>\n",
       "      <td>1</td>\n",
       "      <td>1</td>\n",
       "      <td>64709</td>\n",
       "      <td>70</td>\n",
       "      <td>Sweetened</td>\n",
       "    </tr>\n",
       "    <tr>\n",
       "      <th>4</th>\n",
       "      <td>1</td>\n",
       "      <td>1</td>\n",
       "      <td>41882</td>\n",
       "      <td>54</td>\n",
       "      <td>Sweetened</td>\n",
       "    </tr>\n",
       "  </tbody>\n",
       "</table>\n",
       "</div>"
      ],
      "text/plain": [
       "   Gender  Married  Income  Age Preference\n",
       "0       0        0   31779   46  Sweetened\n",
       "1       1        1   32739   50  Sweetened\n",
       "2       1        1   24302   46  Sweetened\n",
       "3       1        1   64709   70  Sweetened\n",
       "4       1        1   41882   54  Sweetened"
      ]
     },
     "execution_count": 2,
     "metadata": {},
     "output_type": "execute_result"
    }
   ],
   "source": [
    "## Import libraries and load the dataset\n",
    "import pandas as pd\n",
    "tea_df = pd.read_csv(\"MLTeaInc.csv\")\n",
    "tea_df.head()"
   ]
  },
  {
   "cell_type": "markdown",
   "metadata": {
    "id": "eCQjnlDFOrgp"
   },
   "source": [
    "Let's fit a simple logistic regression model"
   ]
  },
  {
   "cell_type": "code",
   "execution_count": 3,
   "metadata": {},
   "outputs": [],
   "source": [
    "##To filter out any warnings\n",
    "import warnings \n",
    "warnings.filterwarnings('ignore')"
   ]
  },
  {
   "cell_type": "code",
   "execution_count": 4,
   "metadata": {
    "colab": {
     "base_uri": "https://localhost:8080/",
     "height": 403
    },
    "id": "5nmfGb4dOqp0",
    "outputId": "16705607-ea42-4c7d-9220-31860763c057"
   },
   "outputs": [
    {
     "name": "stdout",
     "output_type": "stream",
     "text": [
      "Optimization terminated successfully.\n",
      "         Current function value: 0.282249\n",
      "         Iterations 8\n"
     ]
    },
    {
     "data": {
      "text/html": [
       "<table class=\"simpletable\">\n",
       "<caption>Logit Regression Results</caption>\n",
       "<tr>\n",
       "  <th>Dep. Variable:</th>      <td>Preference</td>    <th>  No. Observations:  </th>  <td>   100</td>  \n",
       "</tr>\n",
       "<tr>\n",
       "  <th>Model:</th>                 <td>Logit</td>      <th>  Df Residuals:      </th>  <td>    95</td>  \n",
       "</tr>\n",
       "<tr>\n",
       "  <th>Method:</th>                 <td>MLE</td>       <th>  Df Model:          </th>  <td>     4</td>  \n",
       "</tr>\n",
       "<tr>\n",
       "  <th>Date:</th>            <td>Sun, 19 Jun 2022</td> <th>  Pseudo R-squ.:     </th>  <td>0.5928</td>  \n",
       "</tr>\n",
       "<tr>\n",
       "  <th>Time:</th>                <td>13:48:20</td>     <th>  Log-Likelihood:    </th> <td> -28.225</td> \n",
       "</tr>\n",
       "<tr>\n",
       "  <th>converged:</th>             <td>True</td>       <th>  LL-Null:           </th> <td> -69.315</td> \n",
       "</tr>\n",
       "<tr>\n",
       "  <th>Covariance Type:</th>     <td>nonrobust</td>    <th>  LLR p-value:       </th> <td>6.013e-17</td>\n",
       "</tr>\n",
       "</table>\n",
       "<table class=\"simpletable\">\n",
       "<tr>\n",
       "     <td></td>        <th>coef</th>     <th>std err</th>      <th>z</th>      <th>P>|z|</th>  <th>[0.025</th>    <th>0.975]</th>  \n",
       "</tr>\n",
       "<tr>\n",
       "  <th>const</th>   <td>   -0.6819</td> <td>    1.931</td> <td>   -0.353</td> <td> 0.724</td> <td>   -4.466</td> <td>    3.102</td>\n",
       "</tr>\n",
       "<tr>\n",
       "  <th>Gender</th>  <td>   -0.7779</td> <td>    0.717</td> <td>   -1.085</td> <td> 0.278</td> <td>   -2.182</td> <td>    0.627</td>\n",
       "</tr>\n",
       "<tr>\n",
       "  <th>Married</th> <td>    0.1697</td> <td>    0.794</td> <td>    0.214</td> <td> 0.831</td> <td>   -1.387</td> <td>    1.727</td>\n",
       "</tr>\n",
       "<tr>\n",
       "  <th>Income</th>  <td>    0.0003</td> <td> 6.33e-05</td> <td>    4.396</td> <td> 0.000</td> <td>    0.000</td> <td>    0.000</td>\n",
       "</tr>\n",
       "<tr>\n",
       "  <th>Age</th>     <td>   -0.2282</td> <td>    0.052</td> <td>   -4.356</td> <td> 0.000</td> <td>   -0.331</td> <td>   -0.126</td>\n",
       "</tr>\n",
       "</table>"
      ],
      "text/plain": [
       "<class 'statsmodels.iolib.summary.Summary'>\n",
       "\"\"\"\n",
       "                           Logit Regression Results                           \n",
       "==============================================================================\n",
       "Dep. Variable:             Preference   No. Observations:                  100\n",
       "Model:                          Logit   Df Residuals:                       95\n",
       "Method:                           MLE   Df Model:                            4\n",
       "Date:                Sun, 19 Jun 2022   Pseudo R-squ.:                  0.5928\n",
       "Time:                        13:48:20   Log-Likelihood:                -28.225\n",
       "converged:                       True   LL-Null:                       -69.315\n",
       "Covariance Type:            nonrobust   LLR p-value:                 6.013e-17\n",
       "==============================================================================\n",
       "                 coef    std err          z      P>|z|      [0.025      0.975]\n",
       "------------------------------------------------------------------------------\n",
       "const         -0.6819      1.931     -0.353      0.724      -4.466       3.102\n",
       "Gender        -0.7779      0.717     -1.085      0.278      -2.182       0.627\n",
       "Married        0.1697      0.794      0.214      0.831      -1.387       1.727\n",
       "Income         0.0003   6.33e-05      4.396      0.000       0.000       0.000\n",
       "Age           -0.2282      0.052     -4.356      0.000      -0.331      -0.126\n",
       "==============================================================================\n",
       "\"\"\""
      ]
     },
     "execution_count": 4,
     "metadata": {},
     "output_type": "execute_result"
    }
   ],
   "source": [
    "#Update our perference value to binary:\n",
    "import numpy as np\n",
    "tea_df['Preference'] = np.where(tea_df['Preference'] == \"Sweetened\", 0, 1)\n",
    "\n",
    "#lets divide our data frame into the independent variables and the dependent varible \n",
    "y = tea_df['Preference']\n",
    "X = tea_df.iloc[:, :-1] # All columns but the last Preference\n",
    "\n",
    "#run a logisitic regression model and summarize it \n",
    "import statsmodels.api as sm\n",
    "log_reg_sm = sm.Logit(y, sm.add_constant(X)).fit()\n",
    "log_reg_sm.summary()"
   ]
  },
  {
   "cell_type": "code",
   "execution_count": null,
   "metadata": {},
   "outputs": [],
   "source": []
  }
 ],
 "metadata": {
  "colab": {
   "name": "tea inc",
   "provenance": []
  },
  "kernelspec": {
   "display_name": "Python 3 (ipykernel)",
   "language": "python",
   "name": "python3"
  },
  "language_info": {
   "codemirror_mode": {
    "name": "ipython",
    "version": 3
   },
   "file_extension": ".py",
   "mimetype": "text/x-python",
   "name": "python",
   "nbconvert_exporter": "python",
   "pygments_lexer": "ipython3",
   "version": "3.9.7"
  }
 },
 "nbformat": 4,
 "nbformat_minor": 1
}
