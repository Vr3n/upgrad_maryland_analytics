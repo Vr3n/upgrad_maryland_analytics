{
 "cells": [
  {
   "cell_type": "code",
   "execution_count": 1,
   "id": "1c22e410-56be-479c-a3e6-802f7dee99ac",
   "metadata": {},
   "outputs": [],
   "source": [
    "import numpy as np"
   ]
  },
  {
   "cell_type": "markdown",
   "id": "8e03b813-74d1-490f-967d-da1c1c80e263",
   "metadata": {},
   "source": [
    "1 - Yes\n",
    "0 - No\n",
    "\n",
    "1 - S\n",
    "0 - H"
   ]
  },
  {
   "cell_type": "code",
   "execution_count": 2,
   "id": "b3df15c7-5527-4562-b2cd-927940906b29",
   "metadata": {},
   "outputs": [],
   "source": [
    "outdated_data = [1, 0, 0, 1, 1, 0, 0, 1, 0, 0]"
   ]
  },
  {
   "cell_type": "code",
   "execution_count": null,
   "id": "6f1333b9-b6ca-4d7a-8377-2b751312fb23",
   "metadata": {},
   "outputs": [],
   "source": []
  }
 ],
 "metadata": {
  "kernelspec": {
   "display_name": "Python 3 (ipykernel)",
   "language": "python",
   "name": "python3"
  },
  "language_info": {
   "codemirror_mode": {
    "name": "ipython",
    "version": 3
   },
   "file_extension": ".py",
   "mimetype": "text/x-python",
   "name": "python",
   "nbconvert_exporter": "python",
   "pygments_lexer": "ipython3",
   "version": "3.10.11"
  }
 },
 "nbformat": 4,
 "nbformat_minor": 5
}
