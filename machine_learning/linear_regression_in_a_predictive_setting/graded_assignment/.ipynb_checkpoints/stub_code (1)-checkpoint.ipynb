{
 "cells": [
  {
   "cell_type": "markdown",
   "metadata": {},
   "source": [
    "# Graded Quizzes - Exercise Notebook"
   ]
  },
  {
   "cell_type": "code",
   "execution_count": 1,
   "metadata": {},
   "outputs": [],
   "source": [
    "# Import the relevant libraries and load the data set\n",
    "import numpy as np\n",
    "import pandas as pd\n",
    "from sklearn.linear_model import LinearRegression\n",
    "from sklearn.linear_model import RidgeCV\n",
    "from sklearn.linear_model import LassoCV\n",
    "from sklearn.model_selection import train_test_split\n",
    "from sklearn.metrics import mean_squared_error\n",
    "from sklearn.preprocessing import StandardScaler\n",
    "\n",
    "college = pd.read_csv('College.csv')"
   ]
  },
  {
   "cell_type": "code",
   "execution_count": null,
   "metadata": {},
   "outputs": [],
   "source": [
    "# Define X and y here\n",
    "X = ##### CODE HERE ######\n",
    "y = ##### CODE HERE ######"
   ]
  },
  {
   "cell_type": "code",
   "execution_count": null,
   "metadata": {},
   "outputs": [],
   "source": [
    "# Scale the X values and split the data into training and test sets\n",
    "scaler = StandardScaler()\n",
    "X_scaled = ##### CODE HERE ######\n",
    "X_train, X_test, y_train, y_test = train_test_split(X_scaled, y, test_size=0.3, random_state = 1)"
   ]
  },
  {
   "cell_type": "code",
   "execution_count": null,
   "metadata": {},
   "outputs": [],
   "source": [
    "# Define a function to return the RMSE value given a set of actual y values and predicted y values\n",
    "def rmse(y_train, y_pred):\n",
    "    return np.sqrt(mean_squared_error(y_train, y_pred))"
   ]
  },
  {
   "cell_type": "markdown",
   "metadata": {},
   "source": [
    "## Linear Model"
   ]
  },
  {
   "cell_type": "code",
   "execution_count": null,
   "metadata": {},
   "outputs": [],
   "source": [
    "# Create the basic linear regression model here, that is, a linear regression model without regularization\n",
    "lr = ##### CODE HERE #####"
   ]
  },
  {
   "cell_type": "code",
   "execution_count": null,
   "metadata": {},
   "outputs": [],
   "source": [
    "print(\"RMSE on train:\", round(rmse(y_train,lr.predict(X_train)), 3))\n",
    "print(\"RMSE on test:\", round(rmse(y_test,lr.predict(X_test)), 3))"
   ]
  },
  {
   "cell_type": "markdown",
   "metadata": {},
   "source": [
    "## LassoCV"
   ]
  },
  {
   "cell_type": "code",
   "execution_count": null,
   "metadata": {},
   "outputs": [],
   "source": [
    "# Train a LASSO model on the data using LassoCV for different alphas and find best alpha\n",
    "# Note: Use cv = 5\n",
    "lassocv = ##### CODE HERE #####"
   ]
  },
  {
   "cell_type": "code",
   "execution_count": null,
   "metadata": {},
   "outputs": [],
   "source": [
    "print(\"RMSE on train:\", round(rmse(y_train,lassocv.predict(X_train)), 4))\n",
    "print(\"RMSE on test:\", round(rmse(y_test,lassocv.predict(X_test)), 4))"
   ]
  },
  {
   "cell_type": "markdown",
   "metadata": {},
   "source": [
    "## RidgeCV"
   ]
  },
  {
   "cell_type": "code",
   "execution_count": null,
   "metadata": {},
   "outputs": [],
   "source": [
    "# Train a Ridge model on the data using RidgeCV for different alphas and find best alpha\n",
    "# Note: Use cv = 5\n",
    "ridgecv = ##### CODE HERE #####"
   ]
  },
  {
   "cell_type": "code",
   "execution_count": null,
   "metadata": {},
   "outputs": [],
   "source": [
    "print(\"RMSE on train:\", round(rmse(y_train,ridgecv.predict(X_train)), 4))\n",
    "print(\"RMSE on test:\", round(rmse(y_test,ridgecv.predict(X_test)), 4))"
   ]
  },
  {
   "cell_type": "markdown",
   "metadata": {},
   "source": [
    "## Predicting the value of the target variable for the first observation in the test set"
   ]
  },
  {
   "cell_type": "code",
   "execution_count": null,
   "metadata": {},
   "outputs": [],
   "source": [
    "# Split the first observation in the test set into X and y values\n",
    "X_true = X_test[0]\n",
    "y_true = y_test[0]"
   ]
  },
  {
   "cell_type": "markdown",
   "metadata": {},
   "source": [
    "Note: If you recieve \"ValueError: Expected 2D array, got 1D array instead\" during prediction, just refer to the following link - https://stackoverflow.com/questions/51150153/valueerror-expected-2d-array-got-1d-array-instead"
   ]
  },
  {
   "cell_type": "code",
   "execution_count": null,
   "metadata": {},
   "outputs": [],
   "source": [
    "# Predict the value of graduation rate for the first observation in the test set using the basic linear regression model\n",
    "y_pred_lr = ##### CODE HERE #####"
   ]
  },
  {
   "cell_type": "code",
   "execution_count": null,
   "metadata": {},
   "outputs": [],
   "source": [
    "# Predict the value of graduation rate for the first observation in the test set using the best LASSO model\n",
    "# Note: Use the best alpha that was obtained in the list of alpha values provided in the corresponding questions in the quiz\n",
    "y_pred_lasso = ##### CODE HERE #####"
   ]
  },
  {
   "cell_type": "code",
   "execution_count": null,
   "metadata": {},
   "outputs": [],
   "source": [
    "# Predict the value of graduation rate for the first observation in the test set using the best Ridge model\n",
    "# Note: Use the best alpha that was obtained in the list of alpha values provided in the corresponding questions in the quiz\n",
    "y_pred_ridge = ##### CODE HERE #####"
   ]
  }
 ],
 "metadata": {
  "kernelspec": {
   "display_name": "Python 3 (ipykernel)",
   "language": "python",
   "name": "python3"
  },
  "language_info": {
   "codemirror_mode": {
    "name": "ipython",
    "version": 3
   },
   "file_extension": ".py",
   "mimetype": "text/x-python",
   "name": "python",
   "nbconvert_exporter": "python",
   "pygments_lexer": "ipython3",
   "version": "3.9.12"
  }
 },
 "nbformat": 4,
 "nbformat_minor": 2
}
