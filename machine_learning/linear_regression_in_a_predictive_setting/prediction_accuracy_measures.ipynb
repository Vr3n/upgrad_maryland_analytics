{
 "cells": [
  {
   "cell_type": "markdown",
   "id": "60e9aa83-16bb-4920-8ec1-877e98267674",
   "metadata": {},
   "source": [
    "### Calculating RMSE"
   ]
  },
  {
   "cell_type": "code",
   "execution_count": 66,
   "id": "0e054b1a-cff4-42e9-adba-668c6283ea90",
   "metadata": {},
   "outputs": [],
   "source": [
    "import numpy as np"
   ]
  },
  {
   "cell_type": "code",
   "execution_count": 67,
   "id": "3f494fb6-fa8c-493c-9bbf-f440839230e1",
   "metadata": {},
   "outputs": [],
   "source": [
    "data = {\n",
    "    'trend': [1, 0],\n",
    "    'marketing': [5_000, 10_000],\n",
    "    'sales': [2_349, 2_600]\n",
    "}"
   ]
  },
  {
   "cell_type": "code",
   "execution_count": 68,
   "id": "a2af918e-582c-4775-9afc-690a4afb4a34",
   "metadata": {},
   "outputs": [],
   "source": [
    "predicted_sales_1 = 459.75 + 487.45 * data['trend'][0] + 0.2344 * data['marketing'][0]"
   ]
  },
  {
   "cell_type": "code",
   "execution_count": 69,
   "id": "115b287b-78c4-4162-bb49-dc2b67d6e67a",
   "metadata": {},
   "outputs": [
    {
     "data": {
      "text/plain": [
       "2119.2"
      ]
     },
     "execution_count": 69,
     "metadata": {},
     "output_type": "execute_result"
    }
   ],
   "source": [
    "predicted_sales_1"
   ]
  },
  {
   "cell_type": "code",
   "execution_count": 70,
   "id": "287ff96e-6a8b-4e2f-8a1d-c7c7f09e12b4",
   "metadata": {},
   "outputs": [],
   "source": [
    "predicted_sales_2 = 459.75 + 487.45 * data['trend'][1] + 0.2344 * data['marketing'][1]"
   ]
  },
  {
   "cell_type": "code",
   "execution_count": 71,
   "id": "3def43cb-33c5-4715-bb2f-8e41356996fe",
   "metadata": {},
   "outputs": [
    {
     "data": {
      "text/plain": [
       "2803.75"
      ]
     },
     "execution_count": 71,
     "metadata": {},
     "output_type": "execute_result"
    }
   ],
   "source": [
    "predicted_sales_2"
   ]
  },
  {
   "cell_type": "code",
   "execution_count": 72,
   "id": "d87b2647-58dd-4681-8c15-c349e6676eda",
   "metadata": {},
   "outputs": [],
   "source": [
    "sales_predictions = [predicted_sales_1, predicted_sales_2]"
   ]
  },
  {
   "cell_type": "code",
   "execution_count": 73,
   "id": "4a3665f1-a280-4757-b1d6-628d8a91d056",
   "metadata": {},
   "outputs": [],
   "source": [
    "errors = []\n",
    "\n",
    "for i in range(len(sales_predictions)):\n",
    "    errors.append(data['sales'][i] - sales_predictions[i])"
   ]
  },
  {
   "cell_type": "code",
   "execution_count": 74,
   "id": "3fac17b7-9e41-4645-9a46-34a2107a944f",
   "metadata": {},
   "outputs": [
    {
     "data": {
      "text/plain": [
       "217.16595324774102"
      ]
     },
     "execution_count": 74,
     "metadata": {},
     "output_type": "execute_result"
    }
   ],
   "source": [
    "np.sqrt(1/len(errors) * (np.sum([error ** 2 for error in errors])))"
   ]
  }
 ],
 "metadata": {
  "kernelspec": {
   "display_name": "Python 3 (ipykernel)",
   "language": "python",
   "name": "python3"
  },
  "language_info": {
   "codemirror_mode": {
    "name": "ipython",
    "version": 3
   },
   "file_extension": ".py",
   "mimetype": "text/x-python",
   "name": "python",
   "nbconvert_exporter": "python",
   "pygments_lexer": "ipython3",
   "version": "3.10.11"
  }
 },
 "nbformat": 4,
 "nbformat_minor": 5
}
