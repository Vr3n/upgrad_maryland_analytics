{
 "cells": [
  {
   "cell_type": "markdown",
   "id": "1bc9131b",
   "metadata": {
    "id": "1bc9131b"
   },
   "source": [
    "Read in the data:"
   ]
  },
  {
   "cell_type": "code",
   "execution_count": 1,
   "id": "b270142b",
   "metadata": {
    "colab": {
     "base_uri": "https://localhost:8080/",
     "height": 280
    },
    "id": "b270142b",
    "outputId": "8fcfd8c4-6904-462f-d9f8-07e7a558a40f"
   },
   "outputs": [
    {
     "data": {
      "text/html": [
       "<div>\n",
       "<style scoped>\n",
       "    .dataframe tbody tr th:only-of-type {\n",
       "        vertical-align: middle;\n",
       "    }\n",
       "\n",
       "    .dataframe tbody tr th {\n",
       "        vertical-align: top;\n",
       "    }\n",
       "\n",
       "    .dataframe thead th {\n",
       "        text-align: right;\n",
       "    }\n",
       "</style>\n",
       "<table border=\"1\" class=\"dataframe\">\n",
       "  <thead>\n",
       "    <tr style=\"text-align: right;\">\n",
       "      <th></th>\n",
       "      <th>checking_account</th>\n",
       "      <th>duration</th>\n",
       "      <th>credit_history</th>\n",
       "      <th>purpose</th>\n",
       "      <th>amount</th>\n",
       "      <th>savings_account</th>\n",
       "      <th>employment_duration</th>\n",
       "      <th>installment_rate</th>\n",
       "      <th>other_debtors</th>\n",
       "      <th>present_residence</th>\n",
       "      <th>...</th>\n",
       "      <th>age</th>\n",
       "      <th>other_installment_plans</th>\n",
       "      <th>housing</th>\n",
       "      <th>number_credits</th>\n",
       "      <th>job</th>\n",
       "      <th>people_liable</th>\n",
       "      <th>telephone</th>\n",
       "      <th>foreign_worker</th>\n",
       "      <th>gender</th>\n",
       "      <th>profit</th>\n",
       "    </tr>\n",
       "  </thead>\n",
       "  <tbody>\n",
       "    <tr>\n",
       "      <th>0</th>\n",
       "      <td>3</td>\n",
       "      <td>18</td>\n",
       "      <td>0</td>\n",
       "      <td>2</td>\n",
       "      <td>1049</td>\n",
       "      <td>4</td>\n",
       "      <td>2</td>\n",
       "      <td>2</td>\n",
       "      <td>2</td>\n",
       "      <td>3</td>\n",
       "      <td>...</td>\n",
       "      <td>21</td>\n",
       "      <td>1</td>\n",
       "      <td>0</td>\n",
       "      <td>0</td>\n",
       "      <td>1</td>\n",
       "      <td>0</td>\n",
       "      <td>0</td>\n",
       "      <td>0</td>\n",
       "      <td>female</td>\n",
       "      <td>242</td>\n",
       "    </tr>\n",
       "    <tr>\n",
       "      <th>1</th>\n",
       "      <td>3</td>\n",
       "      <td>9</td>\n",
       "      <td>0</td>\n",
       "      <td>5</td>\n",
       "      <td>2799</td>\n",
       "      <td>4</td>\n",
       "      <td>0</td>\n",
       "      <td>1</td>\n",
       "      <td>2</td>\n",
       "      <td>0</td>\n",
       "      <td>...</td>\n",
       "      <td>36</td>\n",
       "      <td>1</td>\n",
       "      <td>0</td>\n",
       "      <td>1</td>\n",
       "      <td>1</td>\n",
       "      <td>1</td>\n",
       "      <td>0</td>\n",
       "      <td>0</td>\n",
       "      <td>male</td>\n",
       "      <td>596</td>\n",
       "    </tr>\n",
       "    <tr>\n",
       "      <th>2</th>\n",
       "      <td>0</td>\n",
       "      <td>12</td>\n",
       "      <td>4</td>\n",
       "      <td>8</td>\n",
       "      <td>841</td>\n",
       "      <td>0</td>\n",
       "      <td>1</td>\n",
       "      <td>1</td>\n",
       "      <td>2</td>\n",
       "      <td>3</td>\n",
       "      <td>...</td>\n",
       "      <td>23</td>\n",
       "      <td>1</td>\n",
       "      <td>0</td>\n",
       "      <td>0</td>\n",
       "      <td>3</td>\n",
       "      <td>0</td>\n",
       "      <td>0</td>\n",
       "      <td>0</td>\n",
       "      <td>female</td>\n",
       "      <td>25</td>\n",
       "    </tr>\n",
       "    <tr>\n",
       "      <th>3</th>\n",
       "      <td>3</td>\n",
       "      <td>12</td>\n",
       "      <td>0</td>\n",
       "      <td>5</td>\n",
       "      <td>2122</td>\n",
       "      <td>4</td>\n",
       "      <td>0</td>\n",
       "      <td>0</td>\n",
       "      <td>2</td>\n",
       "      <td>0</td>\n",
       "      <td>...</td>\n",
       "      <td>39</td>\n",
       "      <td>1</td>\n",
       "      <td>0</td>\n",
       "      <td>1</td>\n",
       "      <td>3</td>\n",
       "      <td>1</td>\n",
       "      <td>0</td>\n",
       "      <td>1</td>\n",
       "      <td>male</td>\n",
       "      <td>568</td>\n",
       "    </tr>\n",
       "    <tr>\n",
       "      <th>4</th>\n",
       "      <td>3</td>\n",
       "      <td>12</td>\n",
       "      <td>0</td>\n",
       "      <td>5</td>\n",
       "      <td>2171</td>\n",
       "      <td>4</td>\n",
       "      <td>0</td>\n",
       "      <td>2</td>\n",
       "      <td>2</td>\n",
       "      <td>3</td>\n",
       "      <td>...</td>\n",
       "      <td>38</td>\n",
       "      <td>0</td>\n",
       "      <td>2</td>\n",
       "      <td>1</td>\n",
       "      <td>3</td>\n",
       "      <td>0</td>\n",
       "      <td>0</td>\n",
       "      <td>1</td>\n",
       "      <td>male</td>\n",
       "      <td>782</td>\n",
       "    </tr>\n",
       "  </tbody>\n",
       "</table>\n",
       "<p>5 rows × 21 columns</p>\n",
       "</div>"
      ],
      "text/plain": [
       "   checking_account  duration  credit_history  purpose  amount  \\\n",
       "0                 3        18               0        2    1049   \n",
       "1                 3         9               0        5    2799   \n",
       "2                 0        12               4        8     841   \n",
       "3                 3        12               0        5    2122   \n",
       "4                 3        12               0        5    2171   \n",
       "\n",
       "   savings_account  employment_duration  installment_rate  other_debtors  \\\n",
       "0                4                    2                 2              2   \n",
       "1                4                    0                 1              2   \n",
       "2                0                    1                 1              2   \n",
       "3                4                    0                 0              2   \n",
       "4                4                    0                 2              2   \n",
       "\n",
       "   present_residence  ...  age  other_installment_plans  housing  \\\n",
       "0                  3  ...   21                        1        0   \n",
       "1                  0  ...   36                        1        0   \n",
       "2                  3  ...   23                        1        0   \n",
       "3                  0  ...   39                        1        0   \n",
       "4                  3  ...   38                        0        2   \n",
       "\n",
       "   number_credits  job  people_liable  telephone  foreign_worker  gender  \\\n",
       "0               0    1              0          0               0  female   \n",
       "1               1    1              1          0               0    male   \n",
       "2               0    3              0          0               0  female   \n",
       "3               1    3              1          0               1    male   \n",
       "4               1    3              0          0               1    male   \n",
       "\n",
       "  profit  \n",
       "0    242  \n",
       "1    596  \n",
       "2     25  \n",
       "3    568  \n",
       "4    782  \n",
       "\n",
       "[5 rows x 21 columns]"
      ]
     },
     "execution_count": 1,
     "metadata": {},
     "output_type": "execute_result"
    }
   ],
   "source": [
    "import pandas as pd\n",
    "credit_df = pd.read_csv(\"MyCreditData.csv\")\n",
    "credit_df.head()"
   ]
  },
  {
   "cell_type": "code",
   "execution_count": 11,
   "id": "95cc7c43-989a-4ce8-a8d7-25c57bfe95b4",
   "metadata": {},
   "outputs": [
    {
     "data": {
      "text/plain": [
       "0      female\n",
       "1        male\n",
       "2      female\n",
       "3        male\n",
       "4        male\n",
       "        ...  \n",
       "995      male\n",
       "996      male\n",
       "997      male\n",
       "998      male\n",
       "999      male\n",
       "Name: gender, Length: 1000, dtype: category\n",
       "Categories (3, object): ['female', 'male', 'nonbinary/notreported']"
      ]
     },
     "execution_count": 11,
     "metadata": {},
     "output_type": "execute_result"
    }
   ],
   "source": [
    "credit_df['gender']"
   ]
  },
  {
   "cell_type": "markdown",
   "id": "920a5a22",
   "metadata": {
    "id": "920a5a22"
   },
   "source": [
    "Let's take care of the necessary data manipulations:"
   ]
  },
  {
   "cell_type": "code",
   "execution_count": 2,
   "id": "ef70fe02",
   "metadata": {
    "id": "ef70fe02"
   },
   "outputs": [],
   "source": [
    "# ensure Python reads the categorical variables as categorical (instead of as int)\n",
    "non_categorical_columns = ['duration', 'amount', 'age', 'profit']\n",
    "for column in credit_df.columns:\n",
    "    if column not in non_categorical_columns:\n",
    "        credit_df[column] = pd.Categorical(credit_df[column])"
   ]
  },
  {
   "cell_type": "markdown",
   "id": "704fd596",
   "metadata": {
    "id": "704fd596"
   },
   "source": [
    "Our goal is to predict *profit* using all available information. We first split up the credit data into independent and dependent variables, and 70% training and 30% testing data:"
   ]
  },
  {
   "cell_type": "code",
   "execution_count": 3,
   "id": "1831b1db",
   "metadata": {
    "id": "1831b1db"
   },
   "outputs": [],
   "source": [
    "y = credit_df['profit']\n",
    "X = credit_df.iloc[:, :-1] # All columns but the last one, profit\n",
    "\n",
    "# Use dummy variables for categorical variables\n",
    "X = pd.get_dummies(X, drop_first=True)\n",
    "\n",
    "from sklearn.model_selection import train_test_split\n",
    "X_train, X_val, y_train, y_val = train_test_split(X, y, test_size=0.3, random_state = 1)\n",
    "\n"
   ]
  },
  {
   "cell_type": "markdown",
   "id": "Zenghe8SOz_g",
   "metadata": {
    "id": "Zenghe8SOz_g"
   },
   "source": [
    "End of video challenge: Lets double check that we have the right number of records in the training and validation sets"
   ]
  },
  {
   "cell_type": "code",
   "execution_count": 8,
   "id": "udoCpkFuOzxT",
   "metadata": {
    "colab": {
     "base_uri": "https://localhost:8080/"
    },
    "id": "udoCpkFuOzxT",
    "outputId": "a66c7914-070c-43df-dfd9-4751f9185057"
   },
   "outputs": [
    {
     "data": {
      "text/plain": [
       "300"
      ]
     },
     "execution_count": 8,
     "metadata": {},
     "output_type": "execute_result"
    }
   ],
   "source": [
    "len(X_train.index)\n",
    "len(X_val.index)"
   ]
  },
  {
   "cell_type": "markdown",
   "id": "04bc6661",
   "metadata": {
    "id": "04bc6661"
   },
   "source": [
    " We run a full linear regression:"
   ]
  },
  {
   "cell_type": "code",
   "execution_count": 9,
   "id": "b178547a",
   "metadata": {
    "colab": {
     "base_uri": "https://localhost:8080/",
     "height": 1000
    },
    "id": "b178547a",
    "outputId": "ca2a9e14-555a-4d4b-d068-e8c5eaabd292"
   },
   "outputs": [
    {
     "ename": "ValueError",
     "evalue": "Pandas data cast to numpy dtype of object. Check input data with np.asarray(data).",
     "output_type": "error",
     "traceback": [
      "\u001b[1;31m---------------------------------------------------------------------------\u001b[0m",
      "\u001b[1;31mValueError\u001b[0m                                Traceback (most recent call last)",
      "Cell \u001b[1;32mIn[9], line 2\u001b[0m\n\u001b[0;32m      1\u001b[0m \u001b[38;5;28;01mimport\u001b[39;00m \u001b[38;5;21;01mstatsmodels\u001b[39;00m\u001b[38;5;21;01m.\u001b[39;00m\u001b[38;5;21;01mapi\u001b[39;00m \u001b[38;5;28;01mas\u001b[39;00m \u001b[38;5;21;01msm\u001b[39;00m\n\u001b[1;32m----> 2\u001b[0m lin_reg_model \u001b[38;5;241m=\u001b[39m \u001b[43msm\u001b[49m\u001b[38;5;241;43m.\u001b[39;49m\u001b[43mOLS\u001b[49m\u001b[43m(\u001b[49m\u001b[43my_train\u001b[49m\u001b[43m,\u001b[49m\u001b[43m \u001b[49m\u001b[43msm\u001b[49m\u001b[38;5;241;43m.\u001b[39;49m\u001b[43madd_constant\u001b[49m\u001b[43m(\u001b[49m\u001b[43mX_train\u001b[49m\u001b[43m)\u001b[49m\u001b[43m)\u001b[49m \u001b[38;5;66;03m# This package requires explicit adding of a constant term\u001b[39;00m\n\u001b[0;32m      3\u001b[0m lin_reg_results \u001b[38;5;241m=\u001b[39m lin_reg_model\u001b[38;5;241m.\u001b[39mfit()\n\u001b[0;32m      4\u001b[0m lin_reg_results\u001b[38;5;241m.\u001b[39msummary()\n",
      "File \u001b[1;32m~\\codes\\upgrad-maryland-analytics\\upgrad_venv\\lib\\site-packages\\statsmodels\\regression\\linear_model.py:922\u001b[0m, in \u001b[0;36mOLS.__init__\u001b[1;34m(self, endog, exog, missing, hasconst, **kwargs)\u001b[0m\n\u001b[0;32m    919\u001b[0m     msg \u001b[38;5;241m=\u001b[39m (\u001b[38;5;124m\"\u001b[39m\u001b[38;5;124mWeights are not supported in OLS and will be ignored\u001b[39m\u001b[38;5;124m\"\u001b[39m\n\u001b[0;32m    920\u001b[0m            \u001b[38;5;124m\"\u001b[39m\u001b[38;5;124mAn exception will be raised in the next version.\u001b[39m\u001b[38;5;124m\"\u001b[39m)\n\u001b[0;32m    921\u001b[0m     warnings\u001b[38;5;241m.\u001b[39mwarn(msg, ValueWarning)\n\u001b[1;32m--> 922\u001b[0m \u001b[38;5;28msuper\u001b[39m(OLS, \u001b[38;5;28mself\u001b[39m)\u001b[38;5;241m.\u001b[39m\u001b[38;5;21m__init__\u001b[39m(endog, exog, missing\u001b[38;5;241m=\u001b[39mmissing,\n\u001b[0;32m    923\u001b[0m                           hasconst\u001b[38;5;241m=\u001b[39mhasconst, \u001b[38;5;241m*\u001b[39m\u001b[38;5;241m*\u001b[39mkwargs)\n\u001b[0;32m    924\u001b[0m \u001b[38;5;28;01mif\u001b[39;00m \u001b[38;5;124m\"\u001b[39m\u001b[38;5;124mweights\u001b[39m\u001b[38;5;124m\"\u001b[39m \u001b[38;5;129;01min\u001b[39;00m \u001b[38;5;28mself\u001b[39m\u001b[38;5;241m.\u001b[39m_init_keys:\n\u001b[0;32m    925\u001b[0m     \u001b[38;5;28mself\u001b[39m\u001b[38;5;241m.\u001b[39m_init_keys\u001b[38;5;241m.\u001b[39mremove(\u001b[38;5;124m\"\u001b[39m\u001b[38;5;124mweights\u001b[39m\u001b[38;5;124m\"\u001b[39m)\n",
      "File \u001b[1;32m~\\codes\\upgrad-maryland-analytics\\upgrad_venv\\lib\\site-packages\\statsmodels\\regression\\linear_model.py:748\u001b[0m, in \u001b[0;36mWLS.__init__\u001b[1;34m(self, endog, exog, weights, missing, hasconst, **kwargs)\u001b[0m\n\u001b[0;32m    746\u001b[0m \u001b[38;5;28;01melse\u001b[39;00m:\n\u001b[0;32m    747\u001b[0m     weights \u001b[38;5;241m=\u001b[39m weights\u001b[38;5;241m.\u001b[39msqueeze()\n\u001b[1;32m--> 748\u001b[0m \u001b[38;5;28msuper\u001b[39m(WLS, \u001b[38;5;28mself\u001b[39m)\u001b[38;5;241m.\u001b[39m\u001b[38;5;21m__init__\u001b[39m(endog, exog, missing\u001b[38;5;241m=\u001b[39mmissing,\n\u001b[0;32m    749\u001b[0m                           weights\u001b[38;5;241m=\u001b[39mweights, hasconst\u001b[38;5;241m=\u001b[39mhasconst, \u001b[38;5;241m*\u001b[39m\u001b[38;5;241m*\u001b[39mkwargs)\n\u001b[0;32m    750\u001b[0m nobs \u001b[38;5;241m=\u001b[39m \u001b[38;5;28mself\u001b[39m\u001b[38;5;241m.\u001b[39mexog\u001b[38;5;241m.\u001b[39mshape[\u001b[38;5;241m0\u001b[39m]\n\u001b[0;32m    751\u001b[0m weights \u001b[38;5;241m=\u001b[39m \u001b[38;5;28mself\u001b[39m\u001b[38;5;241m.\u001b[39mweights\n",
      "File \u001b[1;32m~\\codes\\upgrad-maryland-analytics\\upgrad_venv\\lib\\site-packages\\statsmodels\\regression\\linear_model.py:202\u001b[0m, in \u001b[0;36mRegressionModel.__init__\u001b[1;34m(self, endog, exog, **kwargs)\u001b[0m\n\u001b[0;32m    201\u001b[0m \u001b[38;5;28;01mdef\u001b[39;00m \u001b[38;5;21m__init__\u001b[39m(\u001b[38;5;28mself\u001b[39m, endog, exog, \u001b[38;5;241m*\u001b[39m\u001b[38;5;241m*\u001b[39mkwargs):\n\u001b[1;32m--> 202\u001b[0m     \u001b[38;5;28msuper\u001b[39m(RegressionModel, \u001b[38;5;28mself\u001b[39m)\u001b[38;5;241m.\u001b[39m\u001b[38;5;21m__init__\u001b[39m(endog, exog, \u001b[38;5;241m*\u001b[39m\u001b[38;5;241m*\u001b[39mkwargs)\n\u001b[0;32m    203\u001b[0m     \u001b[38;5;28mself\u001b[39m\u001b[38;5;241m.\u001b[39mpinv_wexog: Float64Array \u001b[38;5;241m|\u001b[39m \u001b[38;5;28;01mNone\u001b[39;00m \u001b[38;5;241m=\u001b[39m \u001b[38;5;28;01mNone\u001b[39;00m\n\u001b[0;32m    204\u001b[0m     \u001b[38;5;28mself\u001b[39m\u001b[38;5;241m.\u001b[39m_data_attr\u001b[38;5;241m.\u001b[39mextend([\u001b[38;5;124m'\u001b[39m\u001b[38;5;124mpinv_wexog\u001b[39m\u001b[38;5;124m'\u001b[39m, \u001b[38;5;124m'\u001b[39m\u001b[38;5;124mwendog\u001b[39m\u001b[38;5;124m'\u001b[39m, \u001b[38;5;124m'\u001b[39m\u001b[38;5;124mwexog\u001b[39m\u001b[38;5;124m'\u001b[39m, \u001b[38;5;124m'\u001b[39m\u001b[38;5;124mweights\u001b[39m\u001b[38;5;124m'\u001b[39m])\n",
      "File \u001b[1;32m~\\codes\\upgrad-maryland-analytics\\upgrad_venv\\lib\\site-packages\\statsmodels\\base\\model.py:270\u001b[0m, in \u001b[0;36mLikelihoodModel.__init__\u001b[1;34m(self, endog, exog, **kwargs)\u001b[0m\n\u001b[0;32m    269\u001b[0m \u001b[38;5;28;01mdef\u001b[39;00m \u001b[38;5;21m__init__\u001b[39m(\u001b[38;5;28mself\u001b[39m, endog, exog\u001b[38;5;241m=\u001b[39m\u001b[38;5;28;01mNone\u001b[39;00m, \u001b[38;5;241m*\u001b[39m\u001b[38;5;241m*\u001b[39mkwargs):\n\u001b[1;32m--> 270\u001b[0m     \u001b[38;5;28msuper\u001b[39m()\u001b[38;5;241m.\u001b[39m\u001b[38;5;21m__init__\u001b[39m(endog, exog, \u001b[38;5;241m*\u001b[39m\u001b[38;5;241m*\u001b[39mkwargs)\n\u001b[0;32m    271\u001b[0m     \u001b[38;5;28mself\u001b[39m\u001b[38;5;241m.\u001b[39minitialize()\n",
      "File \u001b[1;32m~\\codes\\upgrad-maryland-analytics\\upgrad_venv\\lib\\site-packages\\statsmodels\\base\\model.py:95\u001b[0m, in \u001b[0;36mModel.__init__\u001b[1;34m(self, endog, exog, **kwargs)\u001b[0m\n\u001b[0;32m     93\u001b[0m missing \u001b[38;5;241m=\u001b[39m kwargs\u001b[38;5;241m.\u001b[39mpop(\u001b[38;5;124m'\u001b[39m\u001b[38;5;124mmissing\u001b[39m\u001b[38;5;124m'\u001b[39m, \u001b[38;5;124m'\u001b[39m\u001b[38;5;124mnone\u001b[39m\u001b[38;5;124m'\u001b[39m)\n\u001b[0;32m     94\u001b[0m hasconst \u001b[38;5;241m=\u001b[39m kwargs\u001b[38;5;241m.\u001b[39mpop(\u001b[38;5;124m'\u001b[39m\u001b[38;5;124mhasconst\u001b[39m\u001b[38;5;124m'\u001b[39m, \u001b[38;5;28;01mNone\u001b[39;00m)\n\u001b[1;32m---> 95\u001b[0m \u001b[38;5;28mself\u001b[39m\u001b[38;5;241m.\u001b[39mdata \u001b[38;5;241m=\u001b[39m \u001b[38;5;28mself\u001b[39m\u001b[38;5;241m.\u001b[39m_handle_data(endog, exog, missing, hasconst,\n\u001b[0;32m     96\u001b[0m                               \u001b[38;5;241m*\u001b[39m\u001b[38;5;241m*\u001b[39mkwargs)\n\u001b[0;32m     97\u001b[0m \u001b[38;5;28mself\u001b[39m\u001b[38;5;241m.\u001b[39mk_constant \u001b[38;5;241m=\u001b[39m \u001b[38;5;28mself\u001b[39m\u001b[38;5;241m.\u001b[39mdata\u001b[38;5;241m.\u001b[39mk_constant\n\u001b[0;32m     98\u001b[0m \u001b[38;5;28mself\u001b[39m\u001b[38;5;241m.\u001b[39mexog \u001b[38;5;241m=\u001b[39m \u001b[38;5;28mself\u001b[39m\u001b[38;5;241m.\u001b[39mdata\u001b[38;5;241m.\u001b[39mexog\n",
      "File \u001b[1;32m~\\codes\\upgrad-maryland-analytics\\upgrad_venv\\lib\\site-packages\\statsmodels\\base\\model.py:135\u001b[0m, in \u001b[0;36mModel._handle_data\u001b[1;34m(self, endog, exog, missing, hasconst, **kwargs)\u001b[0m\n\u001b[0;32m    134\u001b[0m \u001b[38;5;28;01mdef\u001b[39;00m \u001b[38;5;21m_handle_data\u001b[39m(\u001b[38;5;28mself\u001b[39m, endog, exog, missing, hasconst, \u001b[38;5;241m*\u001b[39m\u001b[38;5;241m*\u001b[39mkwargs):\n\u001b[1;32m--> 135\u001b[0m     data \u001b[38;5;241m=\u001b[39m handle_data(endog, exog, missing, hasconst, \u001b[38;5;241m*\u001b[39m\u001b[38;5;241m*\u001b[39mkwargs)\n\u001b[0;32m    136\u001b[0m     \u001b[38;5;66;03m# kwargs arrays could have changed, easier to just attach here\u001b[39;00m\n\u001b[0;32m    137\u001b[0m     \u001b[38;5;28;01mfor\u001b[39;00m key \u001b[38;5;129;01min\u001b[39;00m kwargs:\n",
      "File \u001b[1;32m~\\codes\\upgrad-maryland-analytics\\upgrad_venv\\lib\\site-packages\\statsmodels\\base\\data.py:675\u001b[0m, in \u001b[0;36mhandle_data\u001b[1;34m(endog, exog, missing, hasconst, **kwargs)\u001b[0m\n\u001b[0;32m    672\u001b[0m     exog \u001b[38;5;241m=\u001b[39m np\u001b[38;5;241m.\u001b[39masarray(exog)\n\u001b[0;32m    674\u001b[0m klass \u001b[38;5;241m=\u001b[39m handle_data_class_factory(endog, exog)\n\u001b[1;32m--> 675\u001b[0m \u001b[38;5;28;01mreturn\u001b[39;00m klass(endog, exog\u001b[38;5;241m=\u001b[39mexog, missing\u001b[38;5;241m=\u001b[39mmissing, hasconst\u001b[38;5;241m=\u001b[39mhasconst,\n\u001b[0;32m    676\u001b[0m              \u001b[38;5;241m*\u001b[39m\u001b[38;5;241m*\u001b[39mkwargs)\n",
      "File \u001b[1;32m~\\codes\\upgrad-maryland-analytics\\upgrad_venv\\lib\\site-packages\\statsmodels\\base\\data.py:84\u001b[0m, in \u001b[0;36mModelData.__init__\u001b[1;34m(self, endog, exog, missing, hasconst, **kwargs)\u001b[0m\n\u001b[0;32m     82\u001b[0m     \u001b[38;5;28mself\u001b[39m\u001b[38;5;241m.\u001b[39morig_endog \u001b[38;5;241m=\u001b[39m endog\n\u001b[0;32m     83\u001b[0m     \u001b[38;5;28mself\u001b[39m\u001b[38;5;241m.\u001b[39morig_exog \u001b[38;5;241m=\u001b[39m exog\n\u001b[1;32m---> 84\u001b[0m     \u001b[38;5;28mself\u001b[39m\u001b[38;5;241m.\u001b[39mendog, \u001b[38;5;28mself\u001b[39m\u001b[38;5;241m.\u001b[39mexog \u001b[38;5;241m=\u001b[39m \u001b[38;5;28;43mself\u001b[39;49m\u001b[38;5;241;43m.\u001b[39;49m\u001b[43m_convert_endog_exog\u001b[49m\u001b[43m(\u001b[49m\u001b[43mendog\u001b[49m\u001b[43m,\u001b[49m\u001b[43m \u001b[49m\u001b[43mexog\u001b[49m\u001b[43m)\u001b[49m\n\u001b[0;32m     86\u001b[0m \u001b[38;5;28mself\u001b[39m\u001b[38;5;241m.\u001b[39mconst_idx \u001b[38;5;241m=\u001b[39m \u001b[38;5;28;01mNone\u001b[39;00m\n\u001b[0;32m     87\u001b[0m \u001b[38;5;28mself\u001b[39m\u001b[38;5;241m.\u001b[39mk_constant \u001b[38;5;241m=\u001b[39m \u001b[38;5;241m0\u001b[39m\n",
      "File \u001b[1;32m~\\codes\\upgrad-maryland-analytics\\upgrad_venv\\lib\\site-packages\\statsmodels\\base\\data.py:509\u001b[0m, in \u001b[0;36mPandasData._convert_endog_exog\u001b[1;34m(self, endog, exog)\u001b[0m\n\u001b[0;32m    507\u001b[0m exog \u001b[38;5;241m=\u001b[39m exog \u001b[38;5;28;01mif\u001b[39;00m exog \u001b[38;5;129;01mis\u001b[39;00m \u001b[38;5;28;01mNone\u001b[39;00m \u001b[38;5;28;01melse\u001b[39;00m np\u001b[38;5;241m.\u001b[39masarray(exog)\n\u001b[0;32m    508\u001b[0m \u001b[38;5;28;01mif\u001b[39;00m endog\u001b[38;5;241m.\u001b[39mdtype \u001b[38;5;241m==\u001b[39m \u001b[38;5;28mobject\u001b[39m \u001b[38;5;129;01mor\u001b[39;00m exog \u001b[38;5;129;01mis\u001b[39;00m \u001b[38;5;129;01mnot\u001b[39;00m \u001b[38;5;28;01mNone\u001b[39;00m \u001b[38;5;129;01mand\u001b[39;00m exog\u001b[38;5;241m.\u001b[39mdtype \u001b[38;5;241m==\u001b[39m \u001b[38;5;28mobject\u001b[39m:\n\u001b[1;32m--> 509\u001b[0m     \u001b[38;5;28;01mraise\u001b[39;00m \u001b[38;5;167;01mValueError\u001b[39;00m(\u001b[38;5;124m\"\u001b[39m\u001b[38;5;124mPandas data cast to numpy dtype of object. \u001b[39m\u001b[38;5;124m\"\u001b[39m\n\u001b[0;32m    510\u001b[0m                      \u001b[38;5;124m\"\u001b[39m\u001b[38;5;124mCheck input data with np.asarray(data).\u001b[39m\u001b[38;5;124m\"\u001b[39m)\n\u001b[0;32m    511\u001b[0m \u001b[38;5;28;01mreturn\u001b[39;00m \u001b[38;5;28msuper\u001b[39m(PandasData, \u001b[38;5;28mself\u001b[39m)\u001b[38;5;241m.\u001b[39m_convert_endog_exog(endog, exog)\n",
      "\u001b[1;31mValueError\u001b[0m: Pandas data cast to numpy dtype of object. Check input data with np.asarray(data)."
     ]
    }
   ],
   "source": [
    "import statsmodels.api as sm\n",
    "lin_reg_model = sm.OLS(y_train, sm.add_constant(X_train)) # This package requires explicit adding of a constant term\n",
    "lin_reg_results = lin_reg_model.fit()\n",
    "lin_reg_results.summary()"
   ]
  },
  {
   "cell_type": "markdown",
   "id": "9b4f8982",
   "metadata": {
    "id": "9b4f8982"
   },
   "source": [
    "Define our scoring function (sklearn doesn't have RMSE, just MSE):"
   ]
  },
  {
   "cell_type": "code",
   "execution_count": null,
   "id": "297f6da0",
   "metadata": {
    "id": "297f6da0"
   },
   "outputs": [],
   "source": [
    "from sklearn.metrics import mean_squared_error\n",
    "import numpy as np\n",
    "def rmse(y_train, y_pred):\n",
    "    return np.sqrt(mean_squared_error(y_train, y_pred))"
   ]
  },
  {
   "cell_type": "markdown",
   "id": "26699546",
   "metadata": {
    "id": "26699546"
   },
   "source": [
    "And see how well the model performed:"
   ]
  },
  {
   "cell_type": "code",
   "execution_count": null,
   "id": "fb6bc232",
   "metadata": {
    "colab": {
     "base_uri": "https://localhost:8080/"
    },
    "id": "fb6bc232",
    "outputId": "7ddcc59d-f485-4a9c-9299-900e90ef4020"
   },
   "outputs": [
    {
     "name": "stdout",
     "output_type": "stream",
     "text": [
      "RMSE training set: 1037.368\n",
      "RMSE validation set: 1137.869\n"
     ]
    },
    {
     "name": "stderr",
     "output_type": "stream",
     "text": [
      "/usr/local/lib/python3.7/dist-packages/statsmodels/tsa/tsatools.py:117: FutureWarning: In a future version of pandas all arguments of concat except for the argument 'objs' will be keyword-only\n",
      "  x = pd.concat(x[::order], 1)\n",
      "/usr/local/lib/python3.7/dist-packages/statsmodels/tsa/tsatools.py:117: FutureWarning: In a future version of pandas all arguments of concat except for the argument 'objs' will be keyword-only\n",
      "  x = pd.concat(x[::order], 1)\n"
     ]
    }
   ],
   "source": [
    "print('RMSE training set:', round(rmse(y_train, lin_reg_results.predict(sm.add_constant(X_train))), 3))\n",
    "print('RMSE validation set:', round(rmse(y_val, lin_reg_results.predict(sm.add_constant(X_val))), 3))"
   ]
  },
  {
   "cell_type": "markdown",
   "id": "2546d847",
   "metadata": {
    "id": "2546d847"
   },
   "source": [
    "We see that there are many features with high p-values, indicating low statistical significance – perhaps regularization could help the model focus on just the \"useful\" features.\n",
    "\n",
    "We now try out the Lasso regression model, which uses $l1$ regularization, starting with normalizing the independent variables."
   ]
  },
  {
   "cell_type": "code",
   "execution_count": null,
   "id": "J-t4NZ0J-ybP",
   "metadata": {
    "id": "J-t4NZ0J-ybP"
   },
   "outputs": [],
   "source": [
    "#in preparation for LASSO/Ridge lets scale our X\n",
    "from sklearn.preprocessing import StandardScaler\n",
    "scaler = StandardScaler()\n",
    "X_scaled = scaler.fit_transform(X)\n",
    "\n",
    "#lets repeat the datasplit, using the same random state to split the scaled data\n",
    "Xsc_train, Xsc_val, y_train, y_val = train_test_split(X_scaled, y, test_size=0.3, random_state = 1)"
   ]
  },
  {
   "cell_type": "markdown",
   "id": "qv2WglnG_C-_",
   "metadata": {
    "id": "qv2WglnG_C-_"
   },
   "source": [
    "Now we are ready to run our first Lasso model"
   ]
  },
  {
   "cell_type": "code",
   "execution_count": null,
   "id": "5f95fa75",
   "metadata": {
    "colab": {
     "base_uri": "https://localhost:8080/"
    },
    "id": "5f95fa75",
    "outputId": "ad66c00d-d467-4cc2-fd42-9ebbe5f948a9"
   },
   "outputs": [
    {
     "data": {
      "text/plain": [
       "Lasso(alpha=1)"
      ]
     },
     "execution_count": 11,
     "metadata": {},
     "output_type": "execute_result"
    }
   ],
   "source": [
    "from sklearn.linear_model import Lasso, LassoCV, Ridge, RidgeCV\n",
    "\n",
    "lasso_model = Lasso(alpha=1)\n",
    "lasso_model.fit(Xsc_train, y_train)"
   ]
  },
  {
   "cell_type": "markdown",
   "id": "4b68dfee",
   "metadata": {
    "id": "4b68dfee"
   },
   "source": [
    "We see that validation performance has improved on the margin"
   ]
  },
  {
   "cell_type": "code",
   "execution_count": null,
   "id": "e8f35333",
   "metadata": {
    "colab": {
     "base_uri": "https://localhost:8080/"
    },
    "id": "e8f35333",
    "outputId": "eeaae6cb-09f4-464a-94ee-6e71a337d796"
   },
   "outputs": [
    {
     "name": "stdout",
     "output_type": "stream",
     "text": [
      "RMSE training set 1037.549\n",
      "RMSE validation set 1136.792\n"
     ]
    }
   ],
   "source": [
    "print('RMSE training set', round(rmse(y_train, lasso_model.predict(Xsc_train)), 3))\n",
    "print('RMSE validation set', round(rmse(y_val, lasso_model.predict(Xsc_val)), 3))"
   ]
  },
  {
   "cell_type": "markdown",
   "id": "e96d7ba1",
   "metadata": {
    "id": "e96d7ba1"
   },
   "source": [
    "We check to see the effect of this regularization on the coefficients:"
   ]
  },
  {
   "cell_type": "code",
   "execution_count": null,
   "id": "7f874bcd",
   "metadata": {
    "colab": {
     "base_uri": "https://localhost:8080/",
     "height": 1000
    },
    "id": "7f874bcd",
    "outputId": "84325ace-c882-4600-a599-c75a8211ce61",
    "scrolled": true
   },
   "outputs": [
    {
     "data": {
      "text/html": [
       "\n",
       "  <div id=\"df-cb818db4-4988-4c1b-bc54-c867b4882194\">\n",
       "    <div class=\"colab-df-container\">\n",
       "      <div>\n",
       "<style scoped>\n",
       "    .dataframe tbody tr th:only-of-type {\n",
       "        vertical-align: middle;\n",
       "    }\n",
       "\n",
       "    .dataframe tbody tr th {\n",
       "        vertical-align: top;\n",
       "    }\n",
       "\n",
       "    .dataframe thead th {\n",
       "        text-align: right;\n",
       "    }\n",
       "</style>\n",
       "<table border=\"1\" class=\"dataframe\">\n",
       "  <thead>\n",
       "    <tr style=\"text-align: right;\">\n",
       "      <th></th>\n",
       "      <th>Coefficient</th>\n",
       "    </tr>\n",
       "    <tr>\n",
       "      <th></th>\n",
       "      <th></th>\n",
       "    </tr>\n",
       "  </thead>\n",
       "  <tbody>\n",
       "    <tr>\n",
       "      <th>duration</th>\n",
       "      <td>67.829586</td>\n",
       "    </tr>\n",
       "    <tr>\n",
       "      <th>amount</th>\n",
       "      <td>-461.815112</td>\n",
       "    </tr>\n",
       "    <tr>\n",
       "      <th>age</th>\n",
       "      <td>-51.106541</td>\n",
       "    </tr>\n",
       "    <tr>\n",
       "      <th>checking_account_1</th>\n",
       "      <td>186.174855</td>\n",
       "    </tr>\n",
       "    <tr>\n",
       "      <th>checking_account_2</th>\n",
       "      <td>65.114807</td>\n",
       "    </tr>\n",
       "    <tr>\n",
       "      <th>checking_account_3</th>\n",
       "      <td>-0.000000</td>\n",
       "    </tr>\n",
       "    <tr>\n",
       "      <th>credit_history_1</th>\n",
       "      <td>-89.232401</td>\n",
       "    </tr>\n",
       "    <tr>\n",
       "      <th>credit_history_2</th>\n",
       "      <td>-68.180693</td>\n",
       "    </tr>\n",
       "    <tr>\n",
       "      <th>credit_history_3</th>\n",
       "      <td>61.023047</td>\n",
       "    </tr>\n",
       "    <tr>\n",
       "      <th>credit_history_4</th>\n",
       "      <td>-138.134399</td>\n",
       "    </tr>\n",
       "    <tr>\n",
       "      <th>purpose_1</th>\n",
       "      <td>196.206168</td>\n",
       "    </tr>\n",
       "    <tr>\n",
       "      <th>purpose_2</th>\n",
       "      <td>113.758684</td>\n",
       "    </tr>\n",
       "    <tr>\n",
       "      <th>purpose_3</th>\n",
       "      <td>-17.085048</td>\n",
       "    </tr>\n",
       "    <tr>\n",
       "      <th>purpose_4</th>\n",
       "      <td>80.725100</td>\n",
       "    </tr>\n",
       "    <tr>\n",
       "      <th>purpose_5</th>\n",
       "      <td>0.000000</td>\n",
       "    </tr>\n",
       "    <tr>\n",
       "      <th>purpose_6</th>\n",
       "      <td>13.139171</td>\n",
       "    </tr>\n",
       "    <tr>\n",
       "      <th>purpose_7</th>\n",
       "      <td>-20.028165</td>\n",
       "    </tr>\n",
       "    <tr>\n",
       "      <th>purpose_8</th>\n",
       "      <td>12.527799</td>\n",
       "    </tr>\n",
       "    <tr>\n",
       "      <th>purpose_9</th>\n",
       "      <td>6.607992</td>\n",
       "    </tr>\n",
       "    <tr>\n",
       "      <th>savings_account_1</th>\n",
       "      <td>117.929279</td>\n",
       "    </tr>\n",
       "    <tr>\n",
       "      <th>savings_account_2</th>\n",
       "      <td>-44.236456</td>\n",
       "    </tr>\n",
       "    <tr>\n",
       "      <th>savings_account_3</th>\n",
       "      <td>9.758391</td>\n",
       "    </tr>\n",
       "    <tr>\n",
       "      <th>savings_account_4</th>\n",
       "      <td>-33.731066</td>\n",
       "    </tr>\n",
       "    <tr>\n",
       "      <th>employment_duration_1</th>\n",
       "      <td>113.077323</td>\n",
       "    </tr>\n",
       "    <tr>\n",
       "      <th>employment_duration_2</th>\n",
       "      <td>-6.946625</td>\n",
       "    </tr>\n",
       "    <tr>\n",
       "      <th>employment_duration_3</th>\n",
       "      <td>-32.228871</td>\n",
       "    </tr>\n",
       "    <tr>\n",
       "      <th>employment_duration_4</th>\n",
       "      <td>30.863063</td>\n",
       "    </tr>\n",
       "    <tr>\n",
       "      <th>installment_rate_1</th>\n",
       "      <td>42.699511</td>\n",
       "    </tr>\n",
       "    <tr>\n",
       "      <th>installment_rate_2</th>\n",
       "      <td>-65.955456</td>\n",
       "    </tr>\n",
       "    <tr>\n",
       "      <th>installment_rate_3</th>\n",
       "      <td>1.878521</td>\n",
       "    </tr>\n",
       "    <tr>\n",
       "      <th>other_debtors_1</th>\n",
       "      <td>20.136035</td>\n",
       "    </tr>\n",
       "    <tr>\n",
       "      <th>other_debtors_2</th>\n",
       "      <td>-12.740610</td>\n",
       "    </tr>\n",
       "    <tr>\n",
       "      <th>present_residence_1</th>\n",
       "      <td>74.948181</td>\n",
       "    </tr>\n",
       "    <tr>\n",
       "      <th>present_residence_2</th>\n",
       "      <td>13.160829</td>\n",
       "    </tr>\n",
       "    <tr>\n",
       "      <th>present_residence_3</th>\n",
       "      <td>78.912887</td>\n",
       "    </tr>\n",
       "    <tr>\n",
       "      <th>property_1</th>\n",
       "      <td>-60.098265</td>\n",
       "    </tr>\n",
       "    <tr>\n",
       "      <th>property_2</th>\n",
       "      <td>-236.715115</td>\n",
       "    </tr>\n",
       "    <tr>\n",
       "      <th>property_3</th>\n",
       "      <td>-73.894788</td>\n",
       "    </tr>\n",
       "    <tr>\n",
       "      <th>other_installment_plans_1</th>\n",
       "      <td>28.266039</td>\n",
       "    </tr>\n",
       "    <tr>\n",
       "      <th>other_installment_plans_2</th>\n",
       "      <td>-9.764625</td>\n",
       "    </tr>\n",
       "    <tr>\n",
       "      <th>housing_1</th>\n",
       "      <td>127.269182</td>\n",
       "    </tr>\n",
       "    <tr>\n",
       "      <th>housing_2</th>\n",
       "      <td>61.985845</td>\n",
       "    </tr>\n",
       "    <tr>\n",
       "      <th>number_credits_1</th>\n",
       "      <td>-86.795583</td>\n",
       "    </tr>\n",
       "    <tr>\n",
       "      <th>number_credits_2</th>\n",
       "      <td>-24.806692</td>\n",
       "    </tr>\n",
       "    <tr>\n",
       "      <th>number_credits_3</th>\n",
       "      <td>-60.694497</td>\n",
       "    </tr>\n",
       "    <tr>\n",
       "      <th>job_1</th>\n",
       "      <td>-76.778233</td>\n",
       "    </tr>\n",
       "    <tr>\n",
       "      <th>job_2</th>\n",
       "      <td>-29.139716</td>\n",
       "    </tr>\n",
       "    <tr>\n",
       "      <th>job_3</th>\n",
       "      <td>-61.255069</td>\n",
       "    </tr>\n",
       "    <tr>\n",
       "      <th>people_liable_1</th>\n",
       "      <td>59.105371</td>\n",
       "    </tr>\n",
       "    <tr>\n",
       "      <th>telephone_1</th>\n",
       "      <td>-67.015166</td>\n",
       "    </tr>\n",
       "    <tr>\n",
       "      <th>foreign_worker_1</th>\n",
       "      <td>-2.816270</td>\n",
       "    </tr>\n",
       "    <tr>\n",
       "      <th>gender_male</th>\n",
       "      <td>181.940959</td>\n",
       "    </tr>\n",
       "    <tr>\n",
       "      <th>gender_nonbinary/notreported</th>\n",
       "      <td>146.509630</td>\n",
       "    </tr>\n",
       "  </tbody>\n",
       "</table>\n",
       "</div>\n",
       "      <button class=\"colab-df-convert\" onclick=\"convertToInteractive('df-cb818db4-4988-4c1b-bc54-c867b4882194')\"\n",
       "              title=\"Convert this dataframe to an interactive table.\"\n",
       "              style=\"display:none;\">\n",
       "        \n",
       "  <svg xmlns=\"http://www.w3.org/2000/svg\" height=\"24px\"viewBox=\"0 0 24 24\"\n",
       "       width=\"24px\">\n",
       "    <path d=\"M0 0h24v24H0V0z\" fill=\"none\"/>\n",
       "    <path d=\"M18.56 5.44l.94 2.06.94-2.06 2.06-.94-2.06-.94-.94-2.06-.94 2.06-2.06.94zm-11 1L8.5 8.5l.94-2.06 2.06-.94-2.06-.94L8.5 2.5l-.94 2.06-2.06.94zm10 10l.94 2.06.94-2.06 2.06-.94-2.06-.94-.94-2.06-.94 2.06-2.06.94z\"/><path d=\"M17.41 7.96l-1.37-1.37c-.4-.4-.92-.59-1.43-.59-.52 0-1.04.2-1.43.59L10.3 9.45l-7.72 7.72c-.78.78-.78 2.05 0 2.83L4 21.41c.39.39.9.59 1.41.59.51 0 1.02-.2 1.41-.59l7.78-7.78 2.81-2.81c.8-.78.8-2.07 0-2.86zM5.41 20L4 18.59l7.72-7.72 1.47 1.35L5.41 20z\"/>\n",
       "  </svg>\n",
       "      </button>\n",
       "      \n",
       "  <style>\n",
       "    .colab-df-container {\n",
       "      display:flex;\n",
       "      flex-wrap:wrap;\n",
       "      gap: 12px;\n",
       "    }\n",
       "\n",
       "    .colab-df-convert {\n",
       "      background-color: #E8F0FE;\n",
       "      border: none;\n",
       "      border-radius: 50%;\n",
       "      cursor: pointer;\n",
       "      display: none;\n",
       "      fill: #1967D2;\n",
       "      height: 32px;\n",
       "      padding: 0 0 0 0;\n",
       "      width: 32px;\n",
       "    }\n",
       "\n",
       "    .colab-df-convert:hover {\n",
       "      background-color: #E2EBFA;\n",
       "      box-shadow: 0px 1px 2px rgba(60, 64, 67, 0.3), 0px 1px 3px 1px rgba(60, 64, 67, 0.15);\n",
       "      fill: #174EA6;\n",
       "    }\n",
       "\n",
       "    [theme=dark] .colab-df-convert {\n",
       "      background-color: #3B4455;\n",
       "      fill: #D2E3FC;\n",
       "    }\n",
       "\n",
       "    [theme=dark] .colab-df-convert:hover {\n",
       "      background-color: #434B5C;\n",
       "      box-shadow: 0px 1px 3px 1px rgba(0, 0, 0, 0.15);\n",
       "      filter: drop-shadow(0px 1px 2px rgba(0, 0, 0, 0.3));\n",
       "      fill: #FFFFFF;\n",
       "    }\n",
       "  </style>\n",
       "\n",
       "      <script>\n",
       "        const buttonEl =\n",
       "          document.querySelector('#df-cb818db4-4988-4c1b-bc54-c867b4882194 button.colab-df-convert');\n",
       "        buttonEl.style.display =\n",
       "          google.colab.kernel.accessAllowed ? 'block' : 'none';\n",
       "\n",
       "        async function convertToInteractive(key) {\n",
       "          const element = document.querySelector('#df-cb818db4-4988-4c1b-bc54-c867b4882194');\n",
       "          const dataTable =\n",
       "            await google.colab.kernel.invokeFunction('convertToInteractive',\n",
       "                                                     [key], {});\n",
       "          if (!dataTable) return;\n",
       "\n",
       "          const docLinkHtml = 'Like what you see? Visit the ' +\n",
       "            '<a target=\"_blank\" href=https://colab.research.google.com/notebooks/data_table.ipynb>data table notebook</a>'\n",
       "            + ' to learn more about interactive tables.';\n",
       "          element.innerHTML = '';\n",
       "          dataTable['output_type'] = 'display_data';\n",
       "          await google.colab.output.renderOutput(dataTable, element);\n",
       "          const docLink = document.createElement('div');\n",
       "          docLink.innerHTML = docLinkHtml;\n",
       "          element.appendChild(docLink);\n",
       "        }\n",
       "      </script>\n",
       "    </div>\n",
       "  </div>\n",
       "  "
      ],
      "text/plain": [
       "                              Coefficient\n",
       "                                         \n",
       "duration                        67.829586\n",
       "amount                        -461.815112\n",
       "age                            -51.106541\n",
       "checking_account_1             186.174855\n",
       "checking_account_2              65.114807\n",
       "checking_account_3              -0.000000\n",
       "credit_history_1               -89.232401\n",
       "credit_history_2               -68.180693\n",
       "credit_history_3                61.023047\n",
       "credit_history_4              -138.134399\n",
       "purpose_1                      196.206168\n",
       "purpose_2                      113.758684\n",
       "purpose_3                      -17.085048\n",
       "purpose_4                       80.725100\n",
       "purpose_5                        0.000000\n",
       "purpose_6                       13.139171\n",
       "purpose_7                      -20.028165\n",
       "purpose_8                       12.527799\n",
       "purpose_9                        6.607992\n",
       "savings_account_1              117.929279\n",
       "savings_account_2              -44.236456\n",
       "savings_account_3                9.758391\n",
       "savings_account_4              -33.731066\n",
       "employment_duration_1          113.077323\n",
       "employment_duration_2           -6.946625\n",
       "employment_duration_3          -32.228871\n",
       "employment_duration_4           30.863063\n",
       "installment_rate_1              42.699511\n",
       "installment_rate_2             -65.955456\n",
       "installment_rate_3               1.878521\n",
       "other_debtors_1                 20.136035\n",
       "other_debtors_2                -12.740610\n",
       "present_residence_1             74.948181\n",
       "present_residence_2             13.160829\n",
       "present_residence_3             78.912887\n",
       "property_1                     -60.098265\n",
       "property_2                    -236.715115\n",
       "property_3                     -73.894788\n",
       "other_installment_plans_1       28.266039\n",
       "other_installment_plans_2       -9.764625\n",
       "housing_1                      127.269182\n",
       "housing_2                       61.985845\n",
       "number_credits_1               -86.795583\n",
       "number_credits_2               -24.806692\n",
       "number_credits_3               -60.694497\n",
       "job_1                          -76.778233\n",
       "job_2                          -29.139716\n",
       "job_3                          -61.255069\n",
       "people_liable_1                 59.105371\n",
       "telephone_1                    -67.015166\n",
       "foreign_worker_1                -2.816270\n",
       "gender_male                    181.940959\n",
       "gender_nonbinary/notreported   146.509630"
      ]
     },
     "execution_count": 20,
     "metadata": {},
     "output_type": "execute_result"
    }
   ],
   "source": [
    "coef_table = pd.concat([pd.DataFrame(X.columns),pd.DataFrame(np.transpose(lasso_model.coef_))], axis = 1)\n",
    "coef_table.columns = ['', 'Coefficient']\n",
    "coef_table.set_index('', inplace=True)\n",
    "coef_table"
   ]
  },
  {
   "cell_type": "markdown",
   "id": "477fb892",
   "metadata": {
    "id": "477fb892"
   },
   "source": [
    "Perhaps more regularization could further help – we use cross validation to find the best sparsity penalty (alpha)"
   ]
  },
  {
   "cell_type": "code",
   "execution_count": null,
   "id": "fdee8184",
   "metadata": {
    "colab": {
     "base_uri": "https://localhost:8080/"
    },
    "id": "fdee8184",
    "outputId": "b460ee08-48d8-4f4b-b058-123fa52b2726"
   },
   "outputs": [
    {
     "name": "stdout",
     "output_type": "stream",
     "text": [
      "alpha: 45.510000\n"
     ]
    }
   ],
   "source": [
    "alphas = np.arange(.01, 50, .5) # Check all alphas from .01 to 10 in steps of size 0.25\n",
    "lasso_cv_model = LassoCV(alphas= alphas , cv=5, max_iter=5e4)\n",
    "# fit model\n",
    "lasso_cv_model.fit(Xsc_train, y_train)\n",
    "# summarize chosen configuration\n",
    "print('alpha: %f' % lasso_cv_model.alpha_)"
   ]
  },
  {
   "cell_type": "markdown",
   "id": "f0d931a3",
   "metadata": {
    "id": "f0d931a3"
   },
   "source": [
    "With a new alpha of 45.51, we have our improved lasso model, where the testing set RMSE indeed decreases:"
   ]
  },
  {
   "cell_type": "code",
   "execution_count": null,
   "id": "f0c3f5cb",
   "metadata": {
    "colab": {
     "base_uri": "https://localhost:8080/"
    },
    "id": "f0c3f5cb",
    "outputId": "d1a008d2-3f3f-42ef-b341-f574cf9513da"
   },
   "outputs": [
    {
     "name": "stdout",
     "output_type": "stream",
     "text": [
      "RMSE training set 1073.468\n",
      "RMSE validation set 1130.166\n"
     ]
    }
   ],
   "source": [
    "# Set best alpha\n",
    "lasso_best_model = Lasso(alpha=lasso_cv_model.alpha_)\n",
    "lasso_best_model.fit(Xsc_train, y_train)\n",
    "\n",
    "print('RMSE training set', round(rmse(y_train, lasso_best_model.predict(Xsc_train)), 3))\n",
    "print('RMSE validation set', round(rmse(y_val, lasso_best_model.predict(Xsc_val)), 3))"
   ]
  },
  {
   "cell_type": "markdown",
   "id": "0a6bef80",
   "metadata": {
    "id": "0a6bef80"
   },
   "source": [
    "We also try using Ridge Regression, which uses the $l2$ penalty. We repeat the same code as for Lasso, except plugging in Ridge:"
   ]
  },
  {
   "cell_type": "code",
   "execution_count": null,
   "id": "817d858a",
   "metadata": {
    "colab": {
     "base_uri": "https://localhost:8080/"
    },
    "id": "817d858a",
    "outputId": "8f6af666-66f9-42b2-b7dd-452a5bf5587c"
   },
   "outputs": [
    {
     "data": {
      "text/plain": [
       "Ridge(alpha=1)"
      ]
     },
     "execution_count": 25,
     "metadata": {},
     "output_type": "execute_result"
    }
   ],
   "source": [
    "ridge_model = Ridge(alpha=1)\n",
    "ridge_model.fit(Xsc_train, y_train)"
   ]
  },
  {
   "cell_type": "code",
   "execution_count": null,
   "id": "b1524578",
   "metadata": {
    "colab": {
     "base_uri": "https://localhost:8080/"
    },
    "id": "b1524578",
    "outputId": "2bc97a17-8a9f-4fd4-dbbb-0200e87ce3cd"
   },
   "outputs": [
    {
     "name": "stdout",
     "output_type": "stream",
     "text": [
      "RMSE training set 1037.375\n",
      "RMSE validation set 1137.643\n"
     ]
    }
   ],
   "source": [
    "print('RMSE training set', round(rmse(y_train, ridge_model.predict(Xsc_train)), 3))\n",
    "print('RMSE validation set', round(rmse(y_val, ridge_model.predict(Xsc_val)), 3))"
   ]
  },
  {
   "cell_type": "code",
   "execution_count": null,
   "id": "1777a740",
   "metadata": {
    "colab": {
     "base_uri": "https://localhost:8080/"
    },
    "id": "1777a740",
    "outputId": "383e1031-6bb8-423f-e7ac-11babf5c24a4"
   },
   "outputs": [
    {
     "name": "stdout",
     "output_type": "stream",
     "text": [
      "alpha: 298.010000\n"
     ]
    }
   ],
   "source": [
    "alphas = np.arange(.01, 500, 2)\n",
    "ridge_cv_model = RidgeCV(alphas= alphas, cv=5)\n",
    "# fit model\n",
    "ridge_cv_model.fit(Xsc_train, y_train)\n",
    "# summarize chosen configuration\n",
    "print('alpha: %f' % ridge_cv_model.alpha_)"
   ]
  },
  {
   "cell_type": "code",
   "execution_count": null,
   "id": "ea1e6fc1",
   "metadata": {
    "colab": {
     "base_uri": "https://localhost:8080/"
    },
    "id": "ea1e6fc1",
    "outputId": "1704b59a-d4b5-4a4d-db6c-f57ad2e7798f"
   },
   "outputs": [
    {
     "name": "stdout",
     "output_type": "stream",
     "text": [
      "RMSE training set 1062.558\n",
      "RMSE validation set 1136.92\n"
     ]
    }
   ],
   "source": [
    "# Set best alpha\n",
    "ridge_best_model = Ridge(alpha=ridge_cv_model.alpha_)\n",
    "ridge_best_model.fit(Xsc_train, y_train)\n",
    "\n",
    "print('RMSE training set', round(rmse(y_train, ridge_best_model.predict(Xsc_train)), 3))\n",
    "print('RMSE validation set', round(rmse(y_val, ridge_best_model.predict(Xsc_val)), 3))"
   ]
  },
  {
   "cell_type": "markdown",
   "id": "eb66fe96",
   "metadata": {
    "id": "eb66fe96"
   },
   "source": [
    "We compare the coefficients from the best model for each setting:"
   ]
  },
  {
   "cell_type": "code",
   "execution_count": null,
   "id": "736b247d",
   "metadata": {
    "colab": {
     "base_uri": "https://localhost:8080/",
     "height": 1000
    },
    "id": "736b247d",
    "outputId": "80909205-df5c-499b-ab73-02825ceadabb",
    "scrolled": true
   },
   "outputs": [
    {
     "data": {
      "text/html": [
       "\n",
       "  <div id=\"df-1ff67f63-7bef-401e-a215-8f9e1883cb5b\">\n",
       "    <div class=\"colab-df-container\">\n",
       "      <div>\n",
       "<style scoped>\n",
       "    .dataframe tbody tr th:only-of-type {\n",
       "        vertical-align: middle;\n",
       "    }\n",
       "\n",
       "    .dataframe tbody tr th {\n",
       "        vertical-align: top;\n",
       "    }\n",
       "\n",
       "    .dataframe thead th {\n",
       "        text-align: right;\n",
       "    }\n",
       "</style>\n",
       "<table border=\"1\" class=\"dataframe\">\n",
       "  <thead>\n",
       "    <tr style=\"text-align: right;\">\n",
       "      <th></th>\n",
       "      <th>Full</th>\n",
       "      <th>Lasso</th>\n",
       "      <th>Ridge</th>\n",
       "    </tr>\n",
       "    <tr>\n",
       "      <th></th>\n",
       "      <th></th>\n",
       "      <th></th>\n",
       "      <th></th>\n",
       "    </tr>\n",
       "  </thead>\n",
       "  <tbody>\n",
       "    <tr>\n",
       "      <th>duration</th>\n",
       "      <td>5.924870</td>\n",
       "      <td>0.000000</td>\n",
       "      <td>-39.467825</td>\n",
       "    </tr>\n",
       "    <tr>\n",
       "      <th>amount</th>\n",
       "      <td>-0.164496</td>\n",
       "      <td>-338.945613</td>\n",
       "      <td>-236.709307</td>\n",
       "    </tr>\n",
       "    <tr>\n",
       "      <th>age</th>\n",
       "      <td>-4.735370</td>\n",
       "      <td>-0.000000</td>\n",
       "      <td>-30.666988</td>\n",
       "    </tr>\n",
       "    <tr>\n",
       "      <th>checking_account_1</th>\n",
       "      <td>383.534691</td>\n",
       "      <td>145.598553</td>\n",
       "      <td>121.318413</td>\n",
       "    </tr>\n",
       "    <tr>\n",
       "      <th>checking_account_2</th>\n",
       "      <td>272.955877</td>\n",
       "      <td>12.407411</td>\n",
       "      <td>40.983043</td>\n",
       "    </tr>\n",
       "    <tr>\n",
       "      <th>checking_account_3</th>\n",
       "      <td>-0.315925</td>\n",
       "      <td>-0.000000</td>\n",
       "      <td>-23.545768</td>\n",
       "    </tr>\n",
       "    <tr>\n",
       "      <th>credit_history_1</th>\n",
       "      <td>-425.282569</td>\n",
       "      <td>-21.665397</td>\n",
       "      <td>-49.259250</td>\n",
       "    </tr>\n",
       "    <tr>\n",
       "      <th>credit_history_2</th>\n",
       "      <td>-355.770839</td>\n",
       "      <td>-33.485478</td>\n",
       "      <td>-61.623434</td>\n",
       "    </tr>\n",
       "    <tr>\n",
       "      <th>credit_history_3</th>\n",
       "      <td>214.691377</td>\n",
       "      <td>38.799652</td>\n",
       "      <td>49.471027</td>\n",
       "    </tr>\n",
       "    <tr>\n",
       "      <th>credit_history_4</th>\n",
       "      <td>-288.125834</td>\n",
       "      <td>-6.952841</td>\n",
       "      <td>-56.087800</td>\n",
       "    </tr>\n",
       "    <tr>\n",
       "      <th>purpose_1</th>\n",
       "      <td>795.423341</td>\n",
       "      <td>132.175563</td>\n",
       "      <td>103.885872</td>\n",
       "    </tr>\n",
       "    <tr>\n",
       "      <th>purpose_2</th>\n",
       "      <td>453.938780</td>\n",
       "      <td>20.854277</td>\n",
       "      <td>39.263065</td>\n",
       "    </tr>\n",
       "    <tr>\n",
       "      <th>purpose_3</th>\n",
       "      <td>38.829960</td>\n",
       "      <td>-0.000000</td>\n",
       "      <td>-32.589830</td>\n",
       "    </tr>\n",
       "    <tr>\n",
       "      <th>purpose_4</th>\n",
       "      <td>337.947524</td>\n",
       "      <td>0.000000</td>\n",
       "      <td>16.774610</td>\n",
       "    </tr>\n",
       "    <tr>\n",
       "      <th>purpose_5</th>\n",
       "      <td>156.068571</td>\n",
       "      <td>-11.536894</td>\n",
       "      <td>-44.792052</td>\n",
       "    </tr>\n",
       "    <tr>\n",
       "      <th>purpose_6</th>\n",
       "      <td>290.495945</td>\n",
       "      <td>-0.000000</td>\n",
       "      <td>-2.405323</td>\n",
       "    </tr>\n",
       "    <tr>\n",
       "      <th>purpose_7</th>\n",
       "      <td>58.963139</td>\n",
       "      <td>-0.000000</td>\n",
       "      <td>-39.189087</td>\n",
       "    </tr>\n",
       "    <tr>\n",
       "      <th>purpose_8</th>\n",
       "      <td>201.984803</td>\n",
       "      <td>-0.000000</td>\n",
       "      <td>-23.691857</td>\n",
       "    </tr>\n",
       "    <tr>\n",
       "      <th>purpose_9</th>\n",
       "      <td>237.450804</td>\n",
       "      <td>-0.000000</td>\n",
       "      <td>-3.076045</td>\n",
       "    </tr>\n",
       "    <tr>\n",
       "      <th>savings_account_1</th>\n",
       "      <td>306.993295</td>\n",
       "      <td>81.083130</td>\n",
       "      <td>75.283302</td>\n",
       "    </tr>\n",
       "    <tr>\n",
       "      <th>savings_account_2</th>\n",
       "      <td>-191.412992</td>\n",
       "      <td>-0.000000</td>\n",
       "      <td>-19.341226</td>\n",
       "    </tr>\n",
       "    <tr>\n",
       "      <th>savings_account_3</th>\n",
       "      <td>52.114544</td>\n",
       "      <td>0.000000</td>\n",
       "      <td>0.162560</td>\n",
       "    </tr>\n",
       "    <tr>\n",
       "      <th>savings_account_4</th>\n",
       "      <td>-71.250901</td>\n",
       "      <td>-0.000000</td>\n",
       "      <td>-33.145010</td>\n",
       "    </tr>\n",
       "    <tr>\n",
       "      <th>employment_duration_1</th>\n",
       "      <td>292.428944</td>\n",
       "      <td>93.482760</td>\n",
       "      <td>83.803355</td>\n",
       "    </tr>\n",
       "    <tr>\n",
       "      <th>employment_duration_2</th>\n",
       "      <td>-24.906687</td>\n",
       "      <td>-0.000000</td>\n",
       "      <td>-30.401989</td>\n",
       "    </tr>\n",
       "    <tr>\n",
       "      <th>employment_duration_3</th>\n",
       "      <td>-80.071483</td>\n",
       "      <td>-0.000000</td>\n",
       "      <td>-14.887821</td>\n",
       "    </tr>\n",
       "    <tr>\n",
       "      <th>employment_duration_4</th>\n",
       "      <td>128.346948</td>\n",
       "      <td>0.000000</td>\n",
       "      <td>18.898710</td>\n",
       "    </tr>\n",
       "    <tr>\n",
       "      <th>installment_rate_1</th>\n",
       "      <td>102.428144</td>\n",
       "      <td>41.543084</td>\n",
       "      <td>33.928125</td>\n",
       "    </tr>\n",
       "    <tr>\n",
       "      <th>installment_rate_2</th>\n",
       "      <td>-136.734521</td>\n",
       "      <td>-0.000000</td>\n",
       "      <td>-19.339055</td>\n",
       "    </tr>\n",
       "    <tr>\n",
       "      <th>installment_rate_3</th>\n",
       "      <td>11.680295</td>\n",
       "      <td>-0.000000</td>\n",
       "      <td>-30.176502</td>\n",
       "    </tr>\n",
       "    <tr>\n",
       "      <th>other_debtors_1</th>\n",
       "      <td>84.210357</td>\n",
       "      <td>0.000000</td>\n",
       "      <td>12.192709</td>\n",
       "    </tr>\n",
       "    <tr>\n",
       "      <th>other_debtors_2</th>\n",
       "      <td>-60.382108</td>\n",
       "      <td>-0.000000</td>\n",
       "      <td>12.257815</td>\n",
       "    </tr>\n",
       "    <tr>\n",
       "      <th>present_residence_1</th>\n",
       "      <td>226.713403</td>\n",
       "      <td>0.000000</td>\n",
       "      <td>37.317663</td>\n",
       "    </tr>\n",
       "    <tr>\n",
       "      <th>present_residence_2</th>\n",
       "      <td>50.112694</td>\n",
       "      <td>-0.000000</td>\n",
       "      <td>-4.942272</td>\n",
       "    </tr>\n",
       "    <tr>\n",
       "      <th>present_residence_3</th>\n",
       "      <td>172.783275</td>\n",
       "      <td>0.000000</td>\n",
       "      <td>31.924601</td>\n",
       "    </tr>\n",
       "    <tr>\n",
       "      <th>property_1</th>\n",
       "      <td>-151.303506</td>\n",
       "      <td>-0.000000</td>\n",
       "      <td>-18.625981</td>\n",
       "    </tr>\n",
       "    <tr>\n",
       "      <th>property_2</th>\n",
       "      <td>-676.649030</td>\n",
       "      <td>-107.595553</td>\n",
       "      <td>-106.886285</td>\n",
       "    </tr>\n",
       "    <tr>\n",
       "      <th>property_3</th>\n",
       "      <td>-171.842403</td>\n",
       "      <td>-0.000000</td>\n",
       "      <td>-20.764782</td>\n",
       "    </tr>\n",
       "    <tr>\n",
       "      <th>other_installment_plans_1</th>\n",
       "      <td>63.796054</td>\n",
       "      <td>8.765240</td>\n",
       "      <td>36.814309</td>\n",
       "    </tr>\n",
       "    <tr>\n",
       "      <th>other_installment_plans_2</th>\n",
       "      <td>-59.103733</td>\n",
       "      <td>-0.000000</td>\n",
       "      <td>-3.382548</td>\n",
       "    </tr>\n",
       "    <tr>\n",
       "      <th>housing_1</th>\n",
       "      <td>437.128346</td>\n",
       "      <td>0.000000</td>\n",
       "      <td>19.929590</td>\n",
       "    </tr>\n",
       "    <tr>\n",
       "      <th>housing_2</th>\n",
       "      <td>143.318476</td>\n",
       "      <td>0.000000</td>\n",
       "      <td>49.054541</td>\n",
       "    </tr>\n",
       "    <tr>\n",
       "      <th>number_credits_1</th>\n",
       "      <td>-191.854019</td>\n",
       "      <td>0.000000</td>\n",
       "      <td>-17.487764</td>\n",
       "    </tr>\n",
       "    <tr>\n",
       "      <th>number_credits_2</th>\n",
       "      <td>-169.035739</td>\n",
       "      <td>-0.000000</td>\n",
       "      <td>-2.525559</td>\n",
       "    </tr>\n",
       "    <tr>\n",
       "      <th>number_credits_3</th>\n",
       "      <td>-807.259049</td>\n",
       "      <td>-13.913275</td>\n",
       "      <td>-38.230462</td>\n",
       "    </tr>\n",
       "    <tr>\n",
       "      <th>job_1</th>\n",
       "      <td>-182.534283</td>\n",
       "      <td>0.000000</td>\n",
       "      <td>-0.677846</td>\n",
       "    </tr>\n",
       "    <tr>\n",
       "      <th>job_2</th>\n",
       "      <td>-214.567189</td>\n",
       "      <td>-0.000000</td>\n",
       "      <td>-10.584244</td>\n",
       "    </tr>\n",
       "    <tr>\n",
       "      <th>job_3</th>\n",
       "      <td>-177.571310</td>\n",
       "      <td>-0.000000</td>\n",
       "      <td>-5.565242</td>\n",
       "    </tr>\n",
       "    <tr>\n",
       "      <th>people_liable_1</th>\n",
       "      <td>166.622540</td>\n",
       "      <td>8.223252</td>\n",
       "      <td>51.629217</td>\n",
       "    </tr>\n",
       "    <tr>\n",
       "      <th>telephone_1</th>\n",
       "      <td>-141.217983</td>\n",
       "      <td>-1.281068</td>\n",
       "      <td>-49.470865</td>\n",
       "    </tr>\n",
       "    <tr>\n",
       "      <th>foreign_worker_1</th>\n",
       "      <td>-15.652146</td>\n",
       "      <td>-0.000000</td>\n",
       "      <td>-6.368133</td>\n",
       "    </tr>\n",
       "    <tr>\n",
       "      <th>gender_male</th>\n",
       "      <td>370.682156</td>\n",
       "      <td>114.060858</td>\n",
       "      <td>97.955493</td>\n",
       "    </tr>\n",
       "    <tr>\n",
       "      <th>gender_nonbinary/notreported</th>\n",
       "      <td>675.352557</td>\n",
       "      <td>104.993219</td>\n",
       "      <td>99.170742</td>\n",
       "    </tr>\n",
       "  </tbody>\n",
       "</table>\n",
       "</div>\n",
       "      <button class=\"colab-df-convert\" onclick=\"convertToInteractive('df-1ff67f63-7bef-401e-a215-8f9e1883cb5b')\"\n",
       "              title=\"Convert this dataframe to an interactive table.\"\n",
       "              style=\"display:none;\">\n",
       "        \n",
       "  <svg xmlns=\"http://www.w3.org/2000/svg\" height=\"24px\"viewBox=\"0 0 24 24\"\n",
       "       width=\"24px\">\n",
       "    <path d=\"M0 0h24v24H0V0z\" fill=\"none\"/>\n",
       "    <path d=\"M18.56 5.44l.94 2.06.94-2.06 2.06-.94-2.06-.94-.94-2.06-.94 2.06-2.06.94zm-11 1L8.5 8.5l.94-2.06 2.06-.94-2.06-.94L8.5 2.5l-.94 2.06-2.06.94zm10 10l.94 2.06.94-2.06 2.06-.94-2.06-.94-.94-2.06-.94 2.06-2.06.94z\"/><path d=\"M17.41 7.96l-1.37-1.37c-.4-.4-.92-.59-1.43-.59-.52 0-1.04.2-1.43.59L10.3 9.45l-7.72 7.72c-.78.78-.78 2.05 0 2.83L4 21.41c.39.39.9.59 1.41.59.51 0 1.02-.2 1.41-.59l7.78-7.78 2.81-2.81c.8-.78.8-2.07 0-2.86zM5.41 20L4 18.59l7.72-7.72 1.47 1.35L5.41 20z\"/>\n",
       "  </svg>\n",
       "      </button>\n",
       "      \n",
       "  <style>\n",
       "    .colab-df-container {\n",
       "      display:flex;\n",
       "      flex-wrap:wrap;\n",
       "      gap: 12px;\n",
       "    }\n",
       "\n",
       "    .colab-df-convert {\n",
       "      background-color: #E8F0FE;\n",
       "      border: none;\n",
       "      border-radius: 50%;\n",
       "      cursor: pointer;\n",
       "      display: none;\n",
       "      fill: #1967D2;\n",
       "      height: 32px;\n",
       "      padding: 0 0 0 0;\n",
       "      width: 32px;\n",
       "    }\n",
       "\n",
       "    .colab-df-convert:hover {\n",
       "      background-color: #E2EBFA;\n",
       "      box-shadow: 0px 1px 2px rgba(60, 64, 67, 0.3), 0px 1px 3px 1px rgba(60, 64, 67, 0.15);\n",
       "      fill: #174EA6;\n",
       "    }\n",
       "\n",
       "    [theme=dark] .colab-df-convert {\n",
       "      background-color: #3B4455;\n",
       "      fill: #D2E3FC;\n",
       "    }\n",
       "\n",
       "    [theme=dark] .colab-df-convert:hover {\n",
       "      background-color: #434B5C;\n",
       "      box-shadow: 0px 1px 3px 1px rgba(0, 0, 0, 0.15);\n",
       "      filter: drop-shadow(0px 1px 2px rgba(0, 0, 0, 0.3));\n",
       "      fill: #FFFFFF;\n",
       "    }\n",
       "  </style>\n",
       "\n",
       "      <script>\n",
       "        const buttonEl =\n",
       "          document.querySelector('#df-1ff67f63-7bef-401e-a215-8f9e1883cb5b button.colab-df-convert');\n",
       "        buttonEl.style.display =\n",
       "          google.colab.kernel.accessAllowed ? 'block' : 'none';\n",
       "\n",
       "        async function convertToInteractive(key) {\n",
       "          const element = document.querySelector('#df-1ff67f63-7bef-401e-a215-8f9e1883cb5b');\n",
       "          const dataTable =\n",
       "            await google.colab.kernel.invokeFunction('convertToInteractive',\n",
       "                                                     [key], {});\n",
       "          if (!dataTable) return;\n",
       "\n",
       "          const docLinkHtml = 'Like what you see? Visit the ' +\n",
       "            '<a target=\"_blank\" href=https://colab.research.google.com/notebooks/data_table.ipynb>data table notebook</a>'\n",
       "            + ' to learn more about interactive tables.';\n",
       "          element.innerHTML = '';\n",
       "          dataTable['output_type'] = 'display_data';\n",
       "          await google.colab.output.renderOutput(dataTable, element);\n",
       "          const docLink = document.createElement('div');\n",
       "          docLink.innerHTML = docLinkHtml;\n",
       "          element.appendChild(docLink);\n",
       "        }\n",
       "      </script>\n",
       "    </div>\n",
       "  </div>\n",
       "  "
      ],
      "text/plain": [
       "                                    Full       Lasso       Ridge\n",
       "                                                                \n",
       "duration                        5.924870    0.000000  -39.467825\n",
       "amount                         -0.164496 -338.945613 -236.709307\n",
       "age                            -4.735370   -0.000000  -30.666988\n",
       "checking_account_1            383.534691  145.598553  121.318413\n",
       "checking_account_2            272.955877   12.407411   40.983043\n",
       "checking_account_3             -0.315925   -0.000000  -23.545768\n",
       "credit_history_1             -425.282569  -21.665397  -49.259250\n",
       "credit_history_2             -355.770839  -33.485478  -61.623434\n",
       "credit_history_3              214.691377   38.799652   49.471027\n",
       "credit_history_4             -288.125834   -6.952841  -56.087800\n",
       "purpose_1                     795.423341  132.175563  103.885872\n",
       "purpose_2                     453.938780   20.854277   39.263065\n",
       "purpose_3                      38.829960   -0.000000  -32.589830\n",
       "purpose_4                     337.947524    0.000000   16.774610\n",
       "purpose_5                     156.068571  -11.536894  -44.792052\n",
       "purpose_6                     290.495945   -0.000000   -2.405323\n",
       "purpose_7                      58.963139   -0.000000  -39.189087\n",
       "purpose_8                     201.984803   -0.000000  -23.691857\n",
       "purpose_9                     237.450804   -0.000000   -3.076045\n",
       "savings_account_1             306.993295   81.083130   75.283302\n",
       "savings_account_2            -191.412992   -0.000000  -19.341226\n",
       "savings_account_3              52.114544    0.000000    0.162560\n",
       "savings_account_4             -71.250901   -0.000000  -33.145010\n",
       "employment_duration_1         292.428944   93.482760   83.803355\n",
       "employment_duration_2         -24.906687   -0.000000  -30.401989\n",
       "employment_duration_3         -80.071483   -0.000000  -14.887821\n",
       "employment_duration_4         128.346948    0.000000   18.898710\n",
       "installment_rate_1            102.428144   41.543084   33.928125\n",
       "installment_rate_2           -136.734521   -0.000000  -19.339055\n",
       "installment_rate_3             11.680295   -0.000000  -30.176502\n",
       "other_debtors_1                84.210357    0.000000   12.192709\n",
       "other_debtors_2               -60.382108   -0.000000   12.257815\n",
       "present_residence_1           226.713403    0.000000   37.317663\n",
       "present_residence_2            50.112694   -0.000000   -4.942272\n",
       "present_residence_3           172.783275    0.000000   31.924601\n",
       "property_1                   -151.303506   -0.000000  -18.625981\n",
       "property_2                   -676.649030 -107.595553 -106.886285\n",
       "property_3                   -171.842403   -0.000000  -20.764782\n",
       "other_installment_plans_1      63.796054    8.765240   36.814309\n",
       "other_installment_plans_2     -59.103733   -0.000000   -3.382548\n",
       "housing_1                     437.128346    0.000000   19.929590\n",
       "housing_2                     143.318476    0.000000   49.054541\n",
       "number_credits_1             -191.854019    0.000000  -17.487764\n",
       "number_credits_2             -169.035739   -0.000000   -2.525559\n",
       "number_credits_3             -807.259049  -13.913275  -38.230462\n",
       "job_1                        -182.534283    0.000000   -0.677846\n",
       "job_2                        -214.567189   -0.000000  -10.584244\n",
       "job_3                        -177.571310   -0.000000   -5.565242\n",
       "people_liable_1               166.622540    8.223252   51.629217\n",
       "telephone_1                  -141.217983   -1.281068  -49.470865\n",
       "foreign_worker_1              -15.652146   -0.000000   -6.368133\n",
       "gender_male                   370.682156  114.060858   97.955493\n",
       "gender_nonbinary/notreported  675.352557  104.993219   99.170742"
      ]
     },
     "execution_count": 36,
     "metadata": {},
     "output_type": "execute_result"
    }
   ],
   "source": [
    "coef_table = pd.concat([pd.DataFrame(X.columns),pd.DataFrame(np.transpose(lasso_best_model.coef_)), pd.DataFrame(np.transpose(ridge_best_model.coef_))], \n",
    "                       axis = 1)\n",
    "coef_table.columns = ['', 'Lasso', 'Ridge']\n",
    "coef_table.set_index('', inplace=True)\n",
    "coef_table"
   ]
  },
  {
   "cell_type": "markdown",
   "id": "9d6848bd",
   "metadata": {
    "id": "9d6848bd"
   },
   "source": [
    "And we plot the actual y-values versus the predicted y-values for the ridge model"
   ]
  },
  {
   "cell_type": "code",
   "execution_count": null,
   "id": "8b61f049",
   "metadata": {
    "colab": {
     "base_uri": "https://localhost:8080/",
     "height": 334
    },
    "id": "8b61f049",
    "outputId": "8e83f3c1-3a39-46f3-9a48-f2649ec01fae"
   },
   "outputs": [
    {
     "data": {
      "image/png": "[encoded data removed]",
      "text/plain": [
       "<Figure size 576x360 with 1 Axes>"
      ]
     },
     "metadata": {
      "needs_background": "light"
     },
     "output_type": "display_data"
    }
   ],
   "source": [
    "from matplotlib import pyplot as plt\n",
    "plt.figure(figsize=(8,5))\n",
    "plt.plot(y_val, lasso_best_model.predict(Xsc_val), 'o')\n",
    "plt.xlabel('Actual Profit')\n",
    "plt.ylabel('Predicted Profit')\n",
    "plt.grid()"
   ]
  },
  {
   "cell_type": "markdown",
   "id": "17a4e473",
   "metadata": {
    "id": "17a4e473"
   },
   "source": [
    "# **Bonus material: Creating Coefficient Plots**\n",
    "We see some of the coefficients have decreased in absolute size and others have fully gone to 0. This is good to see, especially for features with high p-values (low statistical significance). We see what happens to coefficients as regularization increases:"
   ]
  },
  {
   "cell_type": "code",
   "execution_count": 78,
   "id": "79164454",
   "metadata": {
    "colab": {
     "base_uri": "https://localhost:8080/",
     "height": 518
    },
    "id": "79164454",
    "outputId": "ad7868cd-9669-425c-c7e4-ee7795a4bc6f"
   },
   "outputs": [
    {
     "ename": "TypeError",
     "evalue": "ignored",
     "output_type": "error",
     "traceback": [
      "\u001b[0;31m---------------------------------------------------------------------------\u001b[0m",
      "\u001b[0;31mTypeError\u001b[0m                                 Traceback (most recent call last)",
      "\u001b[0;32m<ipython-input-78-710913fae1ca>\u001b[0m in \u001b[0;36m<module>\u001b[0;34m()\u001b[0m\n\u001b[1;32m     16\u001b[0m \u001b[0mplt\u001b[0m\u001b[0;34m.\u001b[0m\u001b[0mxlabel\u001b[0m\u001b[0;34m(\u001b[0m\u001b[0;34m'log(alpha)'\u001b[0m\u001b[0;34m)\u001b[0m\u001b[0;34m\u001b[0m\u001b[0;34m\u001b[0m\u001b[0m\n\u001b[1;32m     17\u001b[0m \u001b[0mplt\u001b[0m\u001b[0;34m.\u001b[0m\u001b[0mylabel\u001b[0m\u001b[0;34m(\u001b[0m\u001b[0;34m'Coefficient value'\u001b[0m\u001b[0;34m)\u001b[0m\u001b[0;34m\u001b[0m\u001b[0;34m\u001b[0m\u001b[0m\n\u001b[0;32m---> 18\u001b[0;31m \u001b[0mplt\u001b[0m\u001b[0;34m.\u001b[0m\u001b[0mlegend\u001b[0m\u001b[0;34m(\u001b[0m\u001b[0;34m)\u001b[0m\u001b[0;34m;\u001b[0m\u001b[0;34m\u001b[0m\u001b[0;34m\u001b[0m\u001b[0m\n\u001b[0m",
      "\u001b[0;31mTypeError\u001b[0m: 'Legend' object is not callable"
     ]
    },
    {
     "data": {
      "image/png": "[encoded data removed]",
      "text/plain": [
       "<Figure size 576x360 with 1 Axes>"
      ]
     },
     "metadata": {
      "needs_background": "light"
     },
     "output_type": "display_data"
    }
   ],
   "source": [
    "alphas = [0.05,0.01,0.05] + list(np.arange(0.1,200.5,0.5))\n",
    "features = ['checking_account_3','purpose_6','employment_duration_1', 'property_1', 'gender_male']\n",
    "feature_dicts = {feature: {} for feature in features}\n",
    "for alpha in alphas:\n",
    "    lasso_model_ = Lasso(alpha=alpha)\n",
    "    lasso_model_.fit(Xsc_train, y_train)\n",
    "    coefs = dict(zip(X.columns, lasso_model_.coef_))\n",
    "    for feature in features:\n",
    "        feature_dicts[feature][alpha] = coefs[feature]\n",
    "        \n",
    "plt.figure(figsize=(8,5))\n",
    "for feature, feature_dict in feature_dicts.items():\n",
    "    plot_x = sorted(list(feature_dict.keys()))\n",
    "    plot_y = [feature_dict[x_i] for x_i in plot_x]\n",
    "    plt.plot(np.log(plot_x), plot_y, label=feature)\n",
    "plt.xlabel('log(alpha)')\n",
    "plt.ylabel('Coefficient value')\n",
    "plt.legend();"
   ]
  },
  {
   "cell_type": "code",
   "execution_count": 77,
   "id": "98582172",
   "metadata": {
    "colab": {
     "base_uri": "https://localhost:8080/",
     "height": 381
    },
    "id": "98582172",
    "outputId": "0feb57a4-60a5-4710-815a-1af63cee5194"
   },
   "outputs": [
    {
     "ename": "KeyboardInterrupt",
     "evalue": "ignored",
     "output_type": "error",
     "traceback": [
      "\u001b[0;31m---------------------------------------------------------------------------\u001b[0m",
      "\u001b[0;31mKeyboardInterrupt\u001b[0m                         Traceback (most recent call last)",
      "\u001b[0;32m<ipython-input-77-960f46a4dd95>\u001b[0m in \u001b[0;36m<module>\u001b[0;34m()\u001b[0m\n\u001b[1;32m      4\u001b[0m \u001b[0;32mfor\u001b[0m \u001b[0malpha\u001b[0m \u001b[0;32min\u001b[0m \u001b[0malphas\u001b[0m\u001b[0;34m:\u001b[0m\u001b[0;34m\u001b[0m\u001b[0;34m\u001b[0m\u001b[0m\n\u001b[1;32m      5\u001b[0m     \u001b[0mridge_model_\u001b[0m \u001b[0;34m=\u001b[0m \u001b[0mRidge\u001b[0m\u001b[0;34m(\u001b[0m\u001b[0malpha\u001b[0m\u001b[0;34m=\u001b[0m\u001b[0malpha\u001b[0m\u001b[0;34m)\u001b[0m\u001b[0;34m\u001b[0m\u001b[0;34m\u001b[0m\u001b[0m\n\u001b[0;32m----> 6\u001b[0;31m     \u001b[0mridge_model_\u001b[0m\u001b[0;34m.\u001b[0m\u001b[0mfit\u001b[0m\u001b[0;34m(\u001b[0m\u001b[0mXsc_train\u001b[0m\u001b[0;34m,\u001b[0m \u001b[0my_train\u001b[0m\u001b[0;34m)\u001b[0m\u001b[0;34m\u001b[0m\u001b[0;34m\u001b[0m\u001b[0m\n\u001b[0m\u001b[1;32m      7\u001b[0m     \u001b[0mcoefs\u001b[0m \u001b[0;34m=\u001b[0m \u001b[0mdict\u001b[0m\u001b[0;34m(\u001b[0m\u001b[0mzip\u001b[0m\u001b[0;34m(\u001b[0m\u001b[0mX\u001b[0m\u001b[0;34m.\u001b[0m\u001b[0mcolumns\u001b[0m\u001b[0;34m,\u001b[0m \u001b[0mridge_model_\u001b[0m\u001b[0;34m.\u001b[0m\u001b[0mcoef_\u001b[0m\u001b[0;34m)\u001b[0m\u001b[0;34m)\u001b[0m\u001b[0;34m\u001b[0m\u001b[0;34m\u001b[0m\u001b[0m\n\u001b[1;32m      8\u001b[0m     \u001b[0;32mfor\u001b[0m \u001b[0mfeature\u001b[0m \u001b[0;32min\u001b[0m \u001b[0mfeatures\u001b[0m\u001b[0;34m:\u001b[0m\u001b[0;34m\u001b[0m\u001b[0;34m\u001b[0m\u001b[0m\n",
      "\u001b[0;32m/usr/local/lib/python3.7/dist-packages/sklearn/linear_model/_ridge.py\u001b[0m in \u001b[0;36mfit\u001b[0;34m(self, X, y, sample_weight)\u001b[0m\n\u001b[1;32m   1009\u001b[0m             \u001b[0my_numeric\u001b[0m\u001b[0;34m=\u001b[0m\u001b[0;32mTrue\u001b[0m\u001b[0;34m,\u001b[0m\u001b[0;34m\u001b[0m\u001b[0;34m\u001b[0m\u001b[0m\n\u001b[1;32m   1010\u001b[0m         )\n\u001b[0;32m-> 1011\u001b[0;31m         \u001b[0;32mreturn\u001b[0m \u001b[0msuper\u001b[0m\u001b[0;34m(\u001b[0m\u001b[0;34m)\u001b[0m\u001b[0;34m.\u001b[0m\u001b[0mfit\u001b[0m\u001b[0;34m(\u001b[0m\u001b[0mX\u001b[0m\u001b[0;34m,\u001b[0m \u001b[0my\u001b[0m\u001b[0;34m,\u001b[0m \u001b[0msample_weight\u001b[0m\u001b[0;34m=\u001b[0m\u001b[0msample_weight\u001b[0m\u001b[0;34m)\u001b[0m\u001b[0;34m\u001b[0m\u001b[0;34m\u001b[0m\u001b[0m\n\u001b[0m\u001b[1;32m   1012\u001b[0m \u001b[0;34m\u001b[0m\u001b[0m\n\u001b[1;32m   1013\u001b[0m \u001b[0;34m\u001b[0m\u001b[0m\n",
      "\u001b[0;32m/usr/local/lib/python3.7/dist-packages/sklearn/linear_model/_ridge.py\u001b[0m in \u001b[0;36mfit\u001b[0;34m(self, X, y, sample_weight)\u001b[0m\n\u001b[1;32m    793\u001b[0m                 \u001b[0mreturn_intercept\u001b[0m\u001b[0;34m=\u001b[0m\u001b[0;32mFalse\u001b[0m\u001b[0;34m,\u001b[0m\u001b[0;34m\u001b[0m\u001b[0;34m\u001b[0m\u001b[0m\n\u001b[1;32m    794\u001b[0m                 \u001b[0mcheck_input\u001b[0m\u001b[0;34m=\u001b[0m\u001b[0;32mFalse\u001b[0m\u001b[0;34m,\u001b[0m\u001b[0;34m\u001b[0m\u001b[0;34m\u001b[0m\u001b[0m\n\u001b[0;32m--> 795\u001b[0;31m                 \u001b[0;34m**\u001b[0m\u001b[0mparams\u001b[0m\u001b[0;34m,\u001b[0m\u001b[0;34m\u001b[0m\u001b[0;34m\u001b[0m\u001b[0m\n\u001b[0m\u001b[1;32m    796\u001b[0m             )\n\u001b[1;32m    797\u001b[0m             \u001b[0mself\u001b[0m\u001b[0;34m.\u001b[0m\u001b[0m_set_intercept\u001b[0m\u001b[0;34m(\u001b[0m\u001b[0mX_offset\u001b[0m\u001b[0;34m,\u001b[0m \u001b[0my_offset\u001b[0m\u001b[0;34m,\u001b[0m \u001b[0mX_scale\u001b[0m\u001b[0;34m)\u001b[0m\u001b[0;34m\u001b[0m\u001b[0;34m\u001b[0m\u001b[0m\n",
      "\u001b[0;32m/usr/local/lib/python3.7/dist-packages/sklearn/linear_model/_ridge.py\u001b[0m in \u001b[0;36m_ridge_regression\u001b[0;34m(X, y, alpha, sample_weight, solver, max_iter, tol, verbose, positive, random_state, return_n_iter, return_intercept, X_scale, X_offset, check_input)\u001b[0m\n\u001b[1;32m    597\u001b[0m         \u001b[0;32melse\u001b[0m\u001b[0;34m:\u001b[0m\u001b[0;34m\u001b[0m\u001b[0;34m\u001b[0m\u001b[0m\n\u001b[1;32m    598\u001b[0m             \u001b[0;32mtry\u001b[0m\u001b[0;34m:\u001b[0m\u001b[0;34m\u001b[0m\u001b[0;34m\u001b[0m\u001b[0m\n\u001b[0;32m--> 599\u001b[0;31m                 \u001b[0mcoef\u001b[0m \u001b[0;34m=\u001b[0m \u001b[0m_solve_cholesky\u001b[0m\u001b[0;34m(\u001b[0m\u001b[0mX\u001b[0m\u001b[0;34m,\u001b[0m \u001b[0my\u001b[0m\u001b[0;34m,\u001b[0m \u001b[0malpha\u001b[0m\u001b[0;34m)\u001b[0m\u001b[0;34m\u001b[0m\u001b[0;34m\u001b[0m\u001b[0m\n\u001b[0m\u001b[1;32m    600\u001b[0m             \u001b[0;32mexcept\u001b[0m \u001b[0mlinalg\u001b[0m\u001b[0;34m.\u001b[0m\u001b[0mLinAlgError\u001b[0m\u001b[0;34m:\u001b[0m\u001b[0;34m\u001b[0m\u001b[0;34m\u001b[0m\u001b[0m\n\u001b[1;32m    601\u001b[0m                 \u001b[0;31m# use SVD solver if matrix is singular\u001b[0m\u001b[0;34m\u001b[0m\u001b[0;34m\u001b[0m\u001b[0;34m\u001b[0m\u001b[0m\n",
      "\u001b[0;32m/usr/local/lib/python3.7/dist-packages/sklearn/linear_model/_ridge.py\u001b[0m in \u001b[0;36m_solve_cholesky\u001b[0;34m(X, y, alpha)\u001b[0m\n\u001b[1;32m    149\u001b[0m \u001b[0;34m\u001b[0m\u001b[0m\n\u001b[1;32m    150\u001b[0m     \u001b[0mA\u001b[0m \u001b[0;34m=\u001b[0m \u001b[0msafe_sparse_dot\u001b[0m\u001b[0;34m(\u001b[0m\u001b[0mX\u001b[0m\u001b[0;34m.\u001b[0m\u001b[0mT\u001b[0m\u001b[0;34m,\u001b[0m \u001b[0mX\u001b[0m\u001b[0;34m,\u001b[0m \u001b[0mdense_output\u001b[0m\u001b[0;34m=\u001b[0m\u001b[0;32mTrue\u001b[0m\u001b[0;34m)\u001b[0m\u001b[0;34m\u001b[0m\u001b[0;34m\u001b[0m\u001b[0m\n\u001b[0;32m--> 151\u001b[0;31m     \u001b[0mXy\u001b[0m \u001b[0;34m=\u001b[0m \u001b[0msafe_sparse_dot\u001b[0m\u001b[0;34m(\u001b[0m\u001b[0mX\u001b[0m\u001b[0;34m.\u001b[0m\u001b[0mT\u001b[0m\u001b[0;34m,\u001b[0m \u001b[0my\u001b[0m\u001b[0;34m,\u001b[0m \u001b[0mdense_output\u001b[0m\u001b[0;34m=\u001b[0m\u001b[0;32mTrue\u001b[0m\u001b[0;34m)\u001b[0m\u001b[0;34m\u001b[0m\u001b[0;34m\u001b[0m\u001b[0m\n\u001b[0m\u001b[1;32m    152\u001b[0m \u001b[0;34m\u001b[0m\u001b[0m\n\u001b[1;32m    153\u001b[0m     \u001b[0mone_alpha\u001b[0m \u001b[0;34m=\u001b[0m \u001b[0mnp\u001b[0m\u001b[0;34m.\u001b[0m\u001b[0marray_equal\u001b[0m\u001b[0;34m(\u001b[0m\u001b[0malpha\u001b[0m\u001b[0;34m,\u001b[0m \u001b[0mlen\u001b[0m\u001b[0;34m(\u001b[0m\u001b[0malpha\u001b[0m\u001b[0;34m)\u001b[0m \u001b[0;34m*\u001b[0m \u001b[0;34m[\u001b[0m\u001b[0malpha\u001b[0m\u001b[0;34m[\u001b[0m\u001b[0;36m0\u001b[0m\u001b[0;34m]\u001b[0m\u001b[0;34m]\u001b[0m\u001b[0;34m)\u001b[0m\u001b[0;34m\u001b[0m\u001b[0;34m\u001b[0m\u001b[0m\n",
      "\u001b[0;32m/usr/local/lib/python3.7/dist-packages/sklearn/utils/extmath.py\u001b[0m in \u001b[0;36msafe_sparse_dot\u001b[0;34m(a, b, dense_output)\u001b[0m\n\u001b[1;32m    151\u001b[0m             \u001b[0mret\u001b[0m \u001b[0;34m=\u001b[0m \u001b[0mnp\u001b[0m\u001b[0;34m.\u001b[0m\u001b[0mdot\u001b[0m\u001b[0;34m(\u001b[0m\u001b[0ma\u001b[0m\u001b[0;34m,\u001b[0m \u001b[0mb\u001b[0m\u001b[0;34m)\u001b[0m\u001b[0;34m\u001b[0m\u001b[0;34m\u001b[0m\u001b[0m\n\u001b[1;32m    152\u001b[0m     \u001b[0;32melse\u001b[0m\u001b[0;34m:\u001b[0m\u001b[0;34m\u001b[0m\u001b[0;34m\u001b[0m\u001b[0m\n\u001b[0;32m--> 153\u001b[0;31m         \u001b[0mret\u001b[0m \u001b[0;34m=\u001b[0m \u001b[0ma\u001b[0m \u001b[0;34m@\u001b[0m \u001b[0mb\u001b[0m\u001b[0;34m\u001b[0m\u001b[0;34m\u001b[0m\u001b[0m\n\u001b[0m\u001b[1;32m    154\u001b[0m \u001b[0;34m\u001b[0m\u001b[0m\n\u001b[1;32m    155\u001b[0m     if (\n",
      "\u001b[0;31mKeyboardInterrupt\u001b[0m: "
     ]
    }
   ],
   "source": [
    "alphas = [0.05,0.01,0.05,0.1,0.5] + list(np.arange(1,25000,5))\n",
    "features = ['checking_account_3','purpose_6','employment_duration_1', 'property_1', 'gender_male']\n",
    "feature_dicts = {feature: {} for feature in features}\n",
    "for alpha in alphas:\n",
    "    ridge_model_ = Ridge(alpha=alpha)\n",
    "    ridge_model_.fit(Xsc_train, y_train)\n",
    "    coefs = dict(zip(X.columns, ridge_model_.coef_))\n",
    "    for feature in features:\n",
    "        feature_dicts[feature][alpha] = coefs[feature]\n",
    "        \n",
    "plt.figure(figsize=(8,5))\n",
    "for feature, feature_dict in feature_dicts.items():\n",
    "    plot_x = sorted(list(feature_dict.keys()))\n",
    "    plot_y = [feature_dict[x_i] for x_i in plot_x]\n",
    "    plt.plot(np.log(plot_x), plot_y, label=feature)\n",
    "plt.xlabel('log(alpha)')\n",
    "plt.ylabel('Coefficient value')\n",
    "plt.legend(loc='upper left', frameon=False)\n",
    "#plt.legend()"
   ]
  }
 ],
 "metadata": {
  "colab": {
   "collapsed_sections": [],
   "name": "Module_1_LinRegFull.ipynb",
   "provenance": []
  },
  "kernelspec": {
   "display_name": "Python 3 (ipykernel)",
   "language": "python",
   "name": "python3"
  },
  "language_info": {
   "codemirror_mode": {
    "name": "ipython",
    "version": 3
   },
   "file_extension": ".py",
   "mimetype": "text/x-python",
   "name": "python",
   "nbconvert_exporter": "python",
   "pygments_lexer": "ipython3",
   "version": "3.10.11"
  }
 },
 "nbformat": 4,
 "nbformat_minor": 5
}
