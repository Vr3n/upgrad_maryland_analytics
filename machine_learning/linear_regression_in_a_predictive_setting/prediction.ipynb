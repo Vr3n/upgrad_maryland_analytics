{
 "cells": [
  {
   "cell_type": "markdown",
   "id": "769c3ae6-80c2-44c8-875e-8778883ea625",
   "metadata": {},
   "source": [
    "### Importing the dataset"
   ]
  },
  {
   "cell_type": "code",
   "execution_count": 1,
   "id": "ff67eb3a-31cd-4d2b-8e38-ac669984c282",
   "metadata": {},
   "outputs": [],
   "source": [
    "import pandas as pd\n",
    "import numpy as np"
   ]
  },
  {
   "cell_type": "code",
   "execution_count": 2,
   "id": "3b524aa1-ae71-4b3c-9a4c-6c9ec0826423",
   "metadata": {},
   "outputs": [],
   "source": [
    "df = pd.read_csv('MyCreditData.csv')"
   ]
  },
  {
   "cell_type": "code",
   "execution_count": 4,
   "id": "dbb7c3ca-b792-4f0a-a61a-269a143db964",
   "metadata": {},
   "outputs": [
    {
     "data": {
      "text/html": [
       "<div>\n",
       "<style scoped>\n",
       "    .dataframe tbody tr th:only-of-type {\n",
       "        vertical-align: middle;\n",
       "    }\n",
       "\n",
       "    .dataframe tbody tr th {\n",
       "        vertical-align: top;\n",
       "    }\n",
       "\n",
       "    .dataframe thead th {\n",
       "        text-align: right;\n",
       "    }\n",
       "</style>\n",
       "<table border=\"1\" class=\"dataframe\">\n",
       "  <thead>\n",
       "    <tr style=\"text-align: right;\">\n",
       "      <th></th>\n",
       "      <th>checking_account</th>\n",
       "      <th>duration</th>\n",
       "      <th>credit_history</th>\n",
       "      <th>purpose</th>\n",
       "      <th>amount</th>\n",
       "      <th>savings_account</th>\n",
       "      <th>employment_duration</th>\n",
       "      <th>installment_rate</th>\n",
       "      <th>other_debtors</th>\n",
       "      <th>present_residence</th>\n",
       "      <th>...</th>\n",
       "      <th>age</th>\n",
       "      <th>other_installment_plans</th>\n",
       "      <th>housing</th>\n",
       "      <th>number_credits</th>\n",
       "      <th>job</th>\n",
       "      <th>people_liable</th>\n",
       "      <th>telephone</th>\n",
       "      <th>foreign_worker</th>\n",
       "      <th>gender</th>\n",
       "      <th>profit</th>\n",
       "    </tr>\n",
       "  </thead>\n",
       "  <tbody>\n",
       "    <tr>\n",
       "      <th>0</th>\n",
       "      <td>3</td>\n",
       "      <td>18</td>\n",
       "      <td>0</td>\n",
       "      <td>2</td>\n",
       "      <td>1049</td>\n",
       "      <td>4</td>\n",
       "      <td>2</td>\n",
       "      <td>2</td>\n",
       "      <td>2</td>\n",
       "      <td>3</td>\n",
       "      <td>...</td>\n",
       "      <td>21</td>\n",
       "      <td>1</td>\n",
       "      <td>0</td>\n",
       "      <td>0</td>\n",
       "      <td>1</td>\n",
       "      <td>0</td>\n",
       "      <td>0</td>\n",
       "      <td>0</td>\n",
       "      <td>female</td>\n",
       "      <td>242</td>\n",
       "    </tr>\n",
       "    <tr>\n",
       "      <th>1</th>\n",
       "      <td>3</td>\n",
       "      <td>9</td>\n",
       "      <td>0</td>\n",
       "      <td>5</td>\n",
       "      <td>2799</td>\n",
       "      <td>4</td>\n",
       "      <td>0</td>\n",
       "      <td>1</td>\n",
       "      <td>2</td>\n",
       "      <td>0</td>\n",
       "      <td>...</td>\n",
       "      <td>36</td>\n",
       "      <td>1</td>\n",
       "      <td>0</td>\n",
       "      <td>1</td>\n",
       "      <td>1</td>\n",
       "      <td>1</td>\n",
       "      <td>0</td>\n",
       "      <td>0</td>\n",
       "      <td>male</td>\n",
       "      <td>596</td>\n",
       "    </tr>\n",
       "    <tr>\n",
       "      <th>2</th>\n",
       "      <td>0</td>\n",
       "      <td>12</td>\n",
       "      <td>4</td>\n",
       "      <td>8</td>\n",
       "      <td>841</td>\n",
       "      <td>0</td>\n",
       "      <td>1</td>\n",
       "      <td>1</td>\n",
       "      <td>2</td>\n",
       "      <td>3</td>\n",
       "      <td>...</td>\n",
       "      <td>23</td>\n",
       "      <td>1</td>\n",
       "      <td>0</td>\n",
       "      <td>0</td>\n",
       "      <td>3</td>\n",
       "      <td>0</td>\n",
       "      <td>0</td>\n",
       "      <td>0</td>\n",
       "      <td>female</td>\n",
       "      <td>25</td>\n",
       "    </tr>\n",
       "    <tr>\n",
       "      <th>3</th>\n",
       "      <td>3</td>\n",
       "      <td>12</td>\n",
       "      <td>0</td>\n",
       "      <td>5</td>\n",
       "      <td>2122</td>\n",
       "      <td>4</td>\n",
       "      <td>0</td>\n",
       "      <td>0</td>\n",
       "      <td>2</td>\n",
       "      <td>0</td>\n",
       "      <td>...</td>\n",
       "      <td>39</td>\n",
       "      <td>1</td>\n",
       "      <td>0</td>\n",
       "      <td>1</td>\n",
       "      <td>3</td>\n",
       "      <td>1</td>\n",
       "      <td>0</td>\n",
       "      <td>1</td>\n",
       "      <td>male</td>\n",
       "      <td>568</td>\n",
       "    </tr>\n",
       "    <tr>\n",
       "      <th>4</th>\n",
       "      <td>3</td>\n",
       "      <td>12</td>\n",
       "      <td>0</td>\n",
       "      <td>5</td>\n",
       "      <td>2171</td>\n",
       "      <td>4</td>\n",
       "      <td>0</td>\n",
       "      <td>2</td>\n",
       "      <td>2</td>\n",
       "      <td>3</td>\n",
       "      <td>...</td>\n",
       "      <td>38</td>\n",
       "      <td>0</td>\n",
       "      <td>2</td>\n",
       "      <td>1</td>\n",
       "      <td>3</td>\n",
       "      <td>0</td>\n",
       "      <td>0</td>\n",
       "      <td>1</td>\n",
       "      <td>male</td>\n",
       "      <td>782</td>\n",
       "    </tr>\n",
       "  </tbody>\n",
       "</table>\n",
       "<p>5 rows × 21 columns</p>\n",
       "</div>"
      ],
      "text/plain": [
       "   checking_account  duration  credit_history  purpose  amount  \\\n",
       "0                 3        18               0        2    1049   \n",
       "1                 3         9               0        5    2799   \n",
       "2                 0        12               4        8     841   \n",
       "3                 3        12               0        5    2122   \n",
       "4                 3        12               0        5    2171   \n",
       "\n",
       "   savings_account  employment_duration  installment_rate  other_debtors  \\\n",
       "0                4                    2                 2              2   \n",
       "1                4                    0                 1              2   \n",
       "2                0                    1                 1              2   \n",
       "3                4                    0                 0              2   \n",
       "4                4                    0                 2              2   \n",
       "\n",
       "   present_residence  ...  age  other_installment_plans  housing  \\\n",
       "0                  3  ...   21                        1        0   \n",
       "1                  0  ...   36                        1        0   \n",
       "2                  3  ...   23                        1        0   \n",
       "3                  0  ...   39                        1        0   \n",
       "4                  3  ...   38                        0        2   \n",
       "\n",
       "   number_credits  job  people_liable  telephone  foreign_worker  gender  \\\n",
       "0               0    1              0          0               0  female   \n",
       "1               1    1              1          0               0    male   \n",
       "2               0    3              0          0               0  female   \n",
       "3               1    3              1          0               1    male   \n",
       "4               1    3              0          0               1    male   \n",
       "\n",
       "  profit  \n",
       "0    242  \n",
       "1    596  \n",
       "2     25  \n",
       "3    568  \n",
       "4    782  \n",
       "\n",
       "[5 rows x 21 columns]"
      ]
     },
     "execution_count": 4,
     "metadata": {},
     "output_type": "execute_result"
    }
   ],
   "source": [
    "df.head()"
   ]
  },
  {
   "cell_type": "code",
   "execution_count": 5,
   "id": "d38b912a-c2af-4bab-8a23-55b947495810",
   "metadata": {},
   "outputs": [
    {
     "data": {
      "text/plain": [
       "Index(['checking_account', 'duration', 'credit_history', 'purpose', 'amount',\n",
       "       'savings_account', 'employment_duration', 'installment_rate',\n",
       "       'other_debtors', 'present_residence', 'property', 'age',\n",
       "       'other_installment_plans', 'housing', 'number_credits', 'job',\n",
       "       'people_liable', 'telephone', 'foreign_worker', 'gender', 'profit'],\n",
       "      dtype='object')"
      ]
     },
     "execution_count": 5,
     "metadata": {},
     "output_type": "execute_result"
    }
   ],
   "source": [
    "df.columns"
   ]
  },
  {
   "cell_type": "code",
   "execution_count": 6,
   "id": "d6094a30-d675-4ee7-96fd-9db89d63e4c0",
   "metadata": {},
   "outputs": [
    {
     "name": "stdout",
     "output_type": "stream",
     "text": [
      "<class 'pandas.core.frame.DataFrame'>\n",
      "RangeIndex: 1000 entries, 0 to 999\n",
      "Data columns (total 21 columns):\n",
      " #   Column                   Non-Null Count  Dtype \n",
      "---  ------                   --------------  ----- \n",
      " 0   checking_account         1000 non-null   int64 \n",
      " 1   duration                 1000 non-null   int64 \n",
      " 2   credit_history           1000 non-null   int64 \n",
      " 3   purpose                  1000 non-null   int64 \n",
      " 4   amount                   1000 non-null   int64 \n",
      " 5   savings_account          1000 non-null   int64 \n",
      " 6   employment_duration      1000 non-null   int64 \n",
      " 7   installment_rate         1000 non-null   int64 \n",
      " 8   other_debtors            1000 non-null   int64 \n",
      " 9   present_residence        1000 non-null   int64 \n",
      " 10  property                 1000 non-null   int64 \n",
      " 11  age                      1000 non-null   int64 \n",
      " 12  other_installment_plans  1000 non-null   int64 \n",
      " 13  housing                  1000 non-null   int64 \n",
      " 14  number_credits           1000 non-null   int64 \n",
      " 15  job                      1000 non-null   int64 \n",
      " 16  people_liable            1000 non-null   int64 \n",
      " 17  telephone                1000 non-null   int64 \n",
      " 18  foreign_worker           1000 non-null   int64 \n",
      " 19  gender                   1000 non-null   object\n",
      " 20  profit                   1000 non-null   int64 \n",
      "dtypes: int64(20), object(1)\n",
      "memory usage: 164.2+ KB\n"
     ]
    }
   ],
   "source": [
    "df.info()"
   ]
  },
  {
   "cell_type": "markdown",
   "id": "5b3e63ff-77d4-4663-9ada-ec6f763f72c9",
   "metadata": {},
   "source": [
    "### Refactoring Categorical Variables."
   ]
  },
  {
   "cell_type": "code",
   "execution_count": 7,
   "id": "11bb3c36-d5cd-4756-b1cd-9d138028553c",
   "metadata": {},
   "outputs": [],
   "source": [
    "non_categorical_columns = ['duration', 'amount', 'age', 'profit']\n",
    "\n",
    "for column in df.columns:\n",
    "    if column not in non_categorical_columns:\n",
    "        df[column] = pd.Categorical(df[column])"
   ]
  },
  {
   "cell_type": "code",
   "execution_count": 9,
   "id": "2acfe480-8a5a-41da-ae50-da4b1081507f",
   "metadata": {},
   "outputs": [
    {
     "name": "stdout",
     "output_type": "stream",
     "text": [
      "<class 'pandas.core.frame.DataFrame'>\n",
      "RangeIndex: 1000 entries, 0 to 999\n",
      "Data columns (total 21 columns):\n",
      " #   Column                   Non-Null Count  Dtype   \n",
      "---  ------                   --------------  -----   \n",
      " 0   checking_account         1000 non-null   category\n",
      " 1   duration                 1000 non-null   int64   \n",
      " 2   credit_history           1000 non-null   category\n",
      " 3   purpose                  1000 non-null   category\n",
      " 4   amount                   1000 non-null   int64   \n",
      " 5   savings_account          1000 non-null   category\n",
      " 6   employment_duration      1000 non-null   category\n",
      " 7   installment_rate         1000 non-null   category\n",
      " 8   other_debtors            1000 non-null   category\n",
      " 9   present_residence        1000 non-null   category\n",
      " 10  property                 1000 non-null   category\n",
      " 11  age                      1000 non-null   int64   \n",
      " 12  other_installment_plans  1000 non-null   category\n",
      " 13  housing                  1000 non-null   category\n",
      " 14  number_credits           1000 non-null   category\n",
      " 15  job                      1000 non-null   category\n",
      " 16  people_liable            1000 non-null   category\n",
      " 17  telephone                1000 non-null   category\n",
      " 18  foreign_worker           1000 non-null   category\n",
      " 19  gender                   1000 non-null   category\n",
      " 20  profit                   1000 non-null   int64   \n",
      "dtypes: category(17), int64(4)\n",
      "memory usage: 51.0 KB\n"
     ]
    }
   ],
   "source": [
    "df.info()"
   ]
  },
  {
   "cell_type": "markdown",
   "id": "ea96b5b2-653f-45c3-817b-b3aa4f99ce1f",
   "metadata": {},
   "source": [
    "### Linear Regression"
   ]
  },
  {
   "cell_type": "code",
   "execution_count": 10,
   "id": "02b777c5-eaaf-442d-a4cb-473b88a5d38e",
   "metadata": {},
   "outputs": [],
   "source": [
    "y = df['profit'] # dependent\n",
    "x = df.iloc[:, :-1] # independent"
   ]
  },
  {
   "cell_type": "markdown",
   "id": "540f4790-ea96-431c-82cd-8479fdee97a1",
   "metadata": {},
   "source": [
    "#### Creating dummies."
   ]
  },
  {
   "cell_type": "code",
   "execution_count": 11,
   "id": "d6756e41-d850-4451-8c03-a76e39bd41be",
   "metadata": {},
   "outputs": [],
   "source": [
    "x = pd.get_dummies(x, drop_first=True)"
   ]
  },
  {
   "cell_type": "code",
   "execution_count": 13,
   "id": "710c54e6-836d-43d4-bde1-e9c601de6027",
   "metadata": {},
   "outputs": [
    {
     "data": {
      "text/html": [
       "<div>\n",
       "<style scoped>\n",
       "    .dataframe tbody tr th:only-of-type {\n",
       "        vertical-align: middle;\n",
       "    }\n",
       "\n",
       "    .dataframe tbody tr th {\n",
       "        vertical-align: top;\n",
       "    }\n",
       "\n",
       "    .dataframe thead th {\n",
       "        text-align: right;\n",
       "    }\n",
       "</style>\n",
       "<table border=\"1\" class=\"dataframe\">\n",
       "  <thead>\n",
       "    <tr style=\"text-align: right;\">\n",
       "      <th></th>\n",
       "      <th>duration</th>\n",
       "      <th>amount</th>\n",
       "      <th>age</th>\n",
       "      <th>checking_account_1</th>\n",
       "      <th>checking_account_2</th>\n",
       "      <th>checking_account_3</th>\n",
       "      <th>credit_history_1</th>\n",
       "      <th>credit_history_2</th>\n",
       "      <th>credit_history_3</th>\n",
       "      <th>credit_history_4</th>\n",
       "      <th>...</th>\n",
       "      <th>number_credits_2</th>\n",
       "      <th>number_credits_3</th>\n",
       "      <th>job_1</th>\n",
       "      <th>job_2</th>\n",
       "      <th>job_3</th>\n",
       "      <th>people_liable_1</th>\n",
       "      <th>telephone_1</th>\n",
       "      <th>foreign_worker_1</th>\n",
       "      <th>gender_male</th>\n",
       "      <th>gender_nonbinary/notreported</th>\n",
       "    </tr>\n",
       "  </thead>\n",
       "  <tbody>\n",
       "    <tr>\n",
       "      <th>0</th>\n",
       "      <td>18</td>\n",
       "      <td>1049</td>\n",
       "      <td>21</td>\n",
       "      <td>False</td>\n",
       "      <td>False</td>\n",
       "      <td>True</td>\n",
       "      <td>False</td>\n",
       "      <td>False</td>\n",
       "      <td>False</td>\n",
       "      <td>False</td>\n",
       "      <td>...</td>\n",
       "      <td>False</td>\n",
       "      <td>False</td>\n",
       "      <td>True</td>\n",
       "      <td>False</td>\n",
       "      <td>False</td>\n",
       "      <td>False</td>\n",
       "      <td>False</td>\n",
       "      <td>False</td>\n",
       "      <td>False</td>\n",
       "      <td>False</td>\n",
       "    </tr>\n",
       "    <tr>\n",
       "      <th>1</th>\n",
       "      <td>9</td>\n",
       "      <td>2799</td>\n",
       "      <td>36</td>\n",
       "      <td>False</td>\n",
       "      <td>False</td>\n",
       "      <td>True</td>\n",
       "      <td>False</td>\n",
       "      <td>False</td>\n",
       "      <td>False</td>\n",
       "      <td>False</td>\n",
       "      <td>...</td>\n",
       "      <td>False</td>\n",
       "      <td>False</td>\n",
       "      <td>True</td>\n",
       "      <td>False</td>\n",
       "      <td>False</td>\n",
       "      <td>True</td>\n",
       "      <td>False</td>\n",
       "      <td>False</td>\n",
       "      <td>True</td>\n",
       "      <td>False</td>\n",
       "    </tr>\n",
       "    <tr>\n",
       "      <th>2</th>\n",
       "      <td>12</td>\n",
       "      <td>841</td>\n",
       "      <td>23</td>\n",
       "      <td>False</td>\n",
       "      <td>False</td>\n",
       "      <td>False</td>\n",
       "      <td>False</td>\n",
       "      <td>False</td>\n",
       "      <td>False</td>\n",
       "      <td>True</td>\n",
       "      <td>...</td>\n",
       "      <td>False</td>\n",
       "      <td>False</td>\n",
       "      <td>False</td>\n",
       "      <td>False</td>\n",
       "      <td>True</td>\n",
       "      <td>False</td>\n",
       "      <td>False</td>\n",
       "      <td>False</td>\n",
       "      <td>False</td>\n",
       "      <td>False</td>\n",
       "    </tr>\n",
       "    <tr>\n",
       "      <th>3</th>\n",
       "      <td>12</td>\n",
       "      <td>2122</td>\n",
       "      <td>39</td>\n",
       "      <td>False</td>\n",
       "      <td>False</td>\n",
       "      <td>True</td>\n",
       "      <td>False</td>\n",
       "      <td>False</td>\n",
       "      <td>False</td>\n",
       "      <td>False</td>\n",
       "      <td>...</td>\n",
       "      <td>False</td>\n",
       "      <td>False</td>\n",
       "      <td>False</td>\n",
       "      <td>False</td>\n",
       "      <td>True</td>\n",
       "      <td>True</td>\n",
       "      <td>False</td>\n",
       "      <td>True</td>\n",
       "      <td>True</td>\n",
       "      <td>False</td>\n",
       "    </tr>\n",
       "    <tr>\n",
       "      <th>4</th>\n",
       "      <td>12</td>\n",
       "      <td>2171</td>\n",
       "      <td>38</td>\n",
       "      <td>False</td>\n",
       "      <td>False</td>\n",
       "      <td>True</td>\n",
       "      <td>False</td>\n",
       "      <td>False</td>\n",
       "      <td>False</td>\n",
       "      <td>False</td>\n",
       "      <td>...</td>\n",
       "      <td>False</td>\n",
       "      <td>False</td>\n",
       "      <td>False</td>\n",
       "      <td>False</td>\n",
       "      <td>True</td>\n",
       "      <td>False</td>\n",
       "      <td>False</td>\n",
       "      <td>True</td>\n",
       "      <td>True</td>\n",
       "      <td>False</td>\n",
       "    </tr>\n",
       "  </tbody>\n",
       "</table>\n",
       "<p>5 rows × 53 columns</p>\n",
       "</div>"
      ],
      "text/plain": [
       "   duration  amount  age  checking_account_1  checking_account_2  \\\n",
       "0        18    1049   21               False               False   \n",
       "1         9    2799   36               False               False   \n",
       "2        12     841   23               False               False   \n",
       "3        12    2122   39               False               False   \n",
       "4        12    2171   38               False               False   \n",
       "\n",
       "   checking_account_3  credit_history_1  credit_history_2  credit_history_3  \\\n",
       "0                True             False             False             False   \n",
       "1                True             False             False             False   \n",
       "2               False             False             False             False   \n",
       "3                True             False             False             False   \n",
       "4                True             False             False             False   \n",
       "\n",
       "   credit_history_4  ...  number_credits_2  number_credits_3  job_1  job_2  \\\n",
       "0             False  ...             False             False   True  False   \n",
       "1             False  ...             False             False   True  False   \n",
       "2              True  ...             False             False  False  False   \n",
       "3             False  ...             False             False  False  False   \n",
       "4             False  ...             False             False  False  False   \n",
       "\n",
       "   job_3  people_liable_1  telephone_1  foreign_worker_1  gender_male  \\\n",
       "0  False            False        False             False        False   \n",
       "1  False             True        False             False         True   \n",
       "2   True            False        False             False        False   \n",
       "3   True             True        False              True         True   \n",
       "4   True            False        False              True         True   \n",
       "\n",
       "   gender_nonbinary/notreported  \n",
       "0                         False  \n",
       "1                         False  \n",
       "2                         False  \n",
       "3                         False  \n",
       "4                         False  \n",
       "\n",
       "[5 rows x 53 columns]"
      ]
     },
     "execution_count": 13,
     "metadata": {},
     "output_type": "execute_result"
    }
   ],
   "source": [
    "x.head()"
   ]
  },
  {
   "cell_type": "code",
   "execution_count": 14,
   "id": "a5acce00-2ddd-4d77-89e4-4e43b125e24e",
   "metadata": {},
   "outputs": [
    {
     "data": {
      "text/plain": [
       "0    242\n",
       "1    596\n",
       "2     25\n",
       "3    568\n",
       "4    782\n",
       "Name: profit, dtype: int64"
      ]
     },
     "execution_count": 14,
     "metadata": {},
     "output_type": "execute_result"
    }
   ],
   "source": [
    "y.head()"
   ]
  },
  {
   "cell_type": "markdown",
   "id": "2840f64b-b61f-479a-8dde-5fa4cc602845",
   "metadata": {},
   "source": [
    "### Model Selection"
   ]
  },
  {
   "cell_type": "code",
   "execution_count": 15,
   "id": "4778bd67-e61e-4f58-952e-643f45ef7e86",
   "metadata": {},
   "outputs": [],
   "source": [
    "from sklearn.model_selection import train_test_split"
   ]
  },
  {
   "cell_type": "code",
   "execution_count": 16,
   "id": "af91438c-3e5b-4a6f-941e-c62d0b233704",
   "metadata": {},
   "outputs": [],
   "source": [
    "x_train, x_val, y_train, y_val = train_test_split(x, y, test_size=0.3, random_state=1)"
   ]
  },
  {
   "cell_type": "code",
   "execution_count": 22,
   "id": "680608f2-26e1-41b6-8556-fd0e6404416e",
   "metadata": {},
   "outputs": [
    {
     "data": {
      "text/plain": [
       "(700, 53)"
      ]
     },
     "execution_count": 22,
     "metadata": {},
     "output_type": "execute_result"
    }
   ],
   "source": [
    "x_train.shape"
   ]
  },
  {
   "cell_type": "code",
   "execution_count": 23,
   "id": "c9ca21d6-ac4e-477a-91c9-affca5db0dca",
   "metadata": {},
   "outputs": [
    {
     "data": {
      "text/plain": [
       "(700,)"
      ]
     },
     "execution_count": 23,
     "metadata": {},
     "output_type": "execute_result"
    }
   ],
   "source": [
    "y_train.shape"
   ]
  },
  {
   "cell_type": "code",
   "execution_count": 26,
   "id": "d95e5bed-7888-4f15-931b-5633679bbeb2",
   "metadata": {},
   "outputs": [],
   "source": [
    "import statsmodels.api as sm"
   ]
  },
  {
   "cell_type": "code",
   "execution_count": 40,
   "id": "2c1a7090-dedf-4b88-b73c-d78e8dc71b32",
   "metadata": {},
   "outputs": [
    {
     "data": {
      "text/html": [
       "<table class=\"simpletable\">\n",
       "<caption>OLS Regression Results</caption>\n",
       "<tr>\n",
       "  <th>Dep. Variable:</th>         <td>profit</td>      <th>  R-squared:         </th> <td>   0.270</td> \n",
       "</tr>\n",
       "<tr>\n",
       "  <th>Model:</th>                   <td>OLS</td>       <th>  Adj. R-squared:    </th> <td>   0.210</td> \n",
       "</tr>\n",
       "<tr>\n",
       "  <th>Method:</th>             <td>Least Squares</td>  <th>  F-statistic:       </th> <td>   4.504</td> \n",
       "</tr>\n",
       "<tr>\n",
       "  <th>Date:</th>             <td>Wed, 20 Dec 2023</td> <th>  Prob (F-statistic):</th> <td>1.04e-20</td> \n",
       "</tr>\n",
       "<tr>\n",
       "  <th>Time:</th>                 <td>23:07:32</td>     <th>  Log-Likelihood:    </th> <td> -5854.4</td> \n",
       "</tr>\n",
       "<tr>\n",
       "  <th>No. Observations:</th>      <td>   700</td>      <th>  AIC:               </th> <td>1.182e+04</td>\n",
       "</tr>\n",
       "<tr>\n",
       "  <th>Df Residuals:</th>          <td>   646</td>      <th>  BIC:               </th> <td>1.206e+04</td>\n",
       "</tr>\n",
       "<tr>\n",
       "  <th>Df Model:</th>              <td>    53</td>      <th>                     </th>     <td> </td>    \n",
       "</tr>\n",
       "<tr>\n",
       "  <th>Covariance Type:</th>      <td>nonrobust</td>    <th>                     </th>     <td> </td>    \n",
       "</tr>\n",
       "</table>\n",
       "<table class=\"simpletable\">\n",
       "<tr>\n",
       "                <td></td>                  <th>coef</th>     <th>std err</th>      <th>t</th>      <th>P>|t|</th>  <th>[0.025</th>    <th>0.975]</th>  \n",
       "</tr>\n",
       "<tr>\n",
       "  <th>const</th>                        <td>  177.0458</td> <td>  521.753</td> <td>    0.339</td> <td> 0.734</td> <td> -847.491</td> <td> 1201.582</td>\n",
       "</tr>\n",
       "<tr>\n",
       "  <th>duration</th>                     <td>    5.9249</td> <td>    4.992</td> <td>    1.187</td> <td> 0.236</td> <td>   -3.878</td> <td>   15.728</td>\n",
       "</tr>\n",
       "<tr>\n",
       "  <th>amount</th>                       <td>   -0.1645</td> <td>    0.023</td> <td>   -7.067</td> <td> 0.000</td> <td>   -0.210</td> <td>   -0.119</td>\n",
       "</tr>\n",
       "<tr>\n",
       "  <th>age</th>                          <td>   -4.7354</td> <td>    4.426</td> <td>   -1.070</td> <td> 0.285</td> <td>  -13.426</td> <td>    3.955</td>\n",
       "</tr>\n",
       "<tr>\n",
       "  <th>checking_account_1</th>           <td>  383.5347</td> <td>  109.809</td> <td>    3.493</td> <td> 0.001</td> <td>  167.909</td> <td>  599.160</td>\n",
       "</tr>\n",
       "<tr>\n",
       "  <th>checking_account_2</th>           <td>  272.9559</td> <td>  194.404</td> <td>    1.404</td> <td> 0.161</td> <td> -108.783</td> <td>  654.695</td>\n",
       "</tr>\n",
       "<tr>\n",
       "  <th>checking_account_3</th>           <td>   -0.3159</td> <td>  120.379</td> <td>   -0.003</td> <td> 0.998</td> <td> -236.697</td> <td>  236.065</td>\n",
       "</tr>\n",
       "<tr>\n",
       "  <th>credit_history_1</th>             <td> -425.2826</td> <td>  231.296</td> <td>   -1.839</td> <td> 0.066</td> <td> -879.465</td> <td>   28.899</td>\n",
       "</tr>\n",
       "<tr>\n",
       "  <th>credit_history_2</th>             <td> -355.7708</td> <td>  225.001</td> <td>   -1.581</td> <td> 0.114</td> <td> -797.592</td> <td>   86.050</td>\n",
       "</tr>\n",
       "<tr>\n",
       "  <th>credit_history_3</th>             <td>  214.6914</td> <td>  163.793</td> <td>    1.311</td> <td> 0.190</td> <td> -106.940</td> <td>  536.322</td>\n",
       "</tr>\n",
       "<tr>\n",
       "  <th>credit_history_4</th>             <td> -288.1258</td> <td>  123.738</td> <td>   -2.329</td> <td> 0.020</td> <td> -531.103</td> <td>  -45.148</td>\n",
       "</tr>\n",
       "<tr>\n",
       "  <th>purpose_1</th>                    <td>  795.4233</td> <td>  408.957</td> <td>    1.945</td> <td> 0.052</td> <td>   -7.622</td> <td> 1598.468</td>\n",
       "</tr>\n",
       "<tr>\n",
       "  <th>purpose_2</th>                    <td>  453.9388</td> <td>  409.175</td> <td>    1.109</td> <td> 0.268</td> <td> -349.535</td> <td> 1257.412</td>\n",
       "</tr>\n",
       "<tr>\n",
       "  <th>purpose_3</th>                    <td>   38.8300</td> <td>  488.921</td> <td>    0.079</td> <td> 0.937</td> <td> -921.237</td> <td>  998.897</td>\n",
       "</tr>\n",
       "<tr>\n",
       "  <th>purpose_4</th>                    <td>  337.9475</td> <td>  408.479</td> <td>    0.827</td> <td> 0.408</td> <td> -464.159</td> <td> 1140.054</td>\n",
       "</tr>\n",
       "<tr>\n",
       "  <th>purpose_5</th>                    <td>  156.0686</td> <td>  402.992</td> <td>    0.387</td> <td> 0.699</td> <td> -635.263</td> <td>  947.400</td>\n",
       "</tr>\n",
       "<tr>\n",
       "  <th>purpose_6</th>                    <td>  290.4959</td> <td>  560.814</td> <td>    0.518</td> <td> 0.605</td> <td> -810.743</td> <td> 1391.735</td>\n",
       "</tr>\n",
       "<tr>\n",
       "  <th>purpose_7</th>                    <td>   58.9631</td> <td>  446.982</td> <td>    0.132</td> <td> 0.895</td> <td> -818.751</td> <td>  936.677</td>\n",
       "</tr>\n",
       "<tr>\n",
       "  <th>purpose_8</th>                    <td>  201.9848</td> <td>  418.864</td> <td>    0.482</td> <td> 0.630</td> <td> -620.514</td> <td> 1024.483</td>\n",
       "</tr>\n",
       "<tr>\n",
       "  <th>purpose_9</th>                    <td>  237.4508</td> <td>  548.159</td> <td>    0.433</td> <td> 0.665</td> <td> -838.938</td> <td> 1313.840</td>\n",
       "</tr>\n",
       "<tr>\n",
       "  <th>savings_account_1</th>            <td>  306.9933</td> <td>  164.222</td> <td>    1.869</td> <td> 0.062</td> <td>  -15.479</td> <td>  629.466</td>\n",
       "</tr>\n",
       "<tr>\n",
       "  <th>savings_account_2</th>            <td> -191.4130</td> <td>  216.874</td> <td>   -0.883</td> <td> 0.378</td> <td> -617.275</td> <td>  234.449</td>\n",
       "</tr>\n",
       "<tr>\n",
       "  <th>savings_account_3</th>            <td>   52.1145</td> <td>  233.507</td> <td>    0.223</td> <td> 0.823</td> <td> -406.410</td> <td>  510.639</td>\n",
       "</tr>\n",
       "<tr>\n",
       "  <th>savings_account_4</th>            <td>  -71.2509</td> <td>  144.841</td> <td>   -0.492</td> <td> 0.623</td> <td> -355.666</td> <td>  213.165</td>\n",
       "</tr>\n",
       "<tr>\n",
       "  <th>employment_duration_1</th>        <td>  292.4289</td> <td>  126.496</td> <td>    2.312</td> <td> 0.021</td> <td>   44.036</td> <td>  540.822</td>\n",
       "</tr>\n",
       "<tr>\n",
       "  <th>employment_duration_2</th>        <td>  -24.9067</td> <td>  129.955</td> <td>   -0.192</td> <td> 0.848</td> <td> -280.092</td> <td>  230.279</td>\n",
       "</tr>\n",
       "<tr>\n",
       "  <th>employment_duration_3</th>        <td>  -80.0715</td> <td>  127.756</td> <td>   -0.627</td> <td> 0.531</td> <td> -330.939</td> <td>  170.797</td>\n",
       "</tr>\n",
       "<tr>\n",
       "  <th>employment_duration_4</th>        <td>  128.3469</td> <td>  210.097</td> <td>    0.611</td> <td> 0.541</td> <td> -284.209</td> <td>  540.903</td>\n",
       "</tr>\n",
       "<tr>\n",
       "  <th>installment_rate_1</th>           <td>  102.4281</td> <td>  140.592</td> <td>    0.729</td> <td> 0.467</td> <td> -173.644</td> <td>  378.500</td>\n",
       "</tr>\n",
       "<tr>\n",
       "  <th>installment_rate_2</th>           <td> -136.7345</td> <td>  129.552</td> <td>   -1.055</td> <td> 0.292</td> <td> -391.128</td> <td>  117.659</td>\n",
       "</tr>\n",
       "<tr>\n",
       "  <th>installment_rate_3</th>           <td>   11.6803</td> <td>  164.502</td> <td>    0.071</td> <td> 0.943</td> <td> -311.343</td> <td>  334.703</td>\n",
       "</tr>\n",
       "<tr>\n",
       "  <th>other_debtors_1</th>              <td>   84.2104</td> <td>  280.378</td> <td>    0.300</td> <td> 0.764</td> <td> -466.352</td> <td>  634.772</td>\n",
       "</tr>\n",
       "<tr>\n",
       "  <th>other_debtors_2</th>              <td>  -60.3821</td> <td>  209.787</td> <td>   -0.288</td> <td> 0.774</td> <td> -472.328</td> <td>  351.564</td>\n",
       "</tr>\n",
       "<tr>\n",
       "  <th>present_residence_1</th>          <td>  226.7134</td> <td>  139.167</td> <td>    1.629</td> <td> 0.104</td> <td>  -46.560</td> <td>  499.987</td>\n",
       "</tr>\n",
       "<tr>\n",
       "  <th>present_residence_2</th>          <td>   50.1127</td> <td>  139.713</td> <td>    0.359</td> <td> 0.720</td> <td> -224.234</td> <td>  324.459</td>\n",
       "</tr>\n",
       "<tr>\n",
       "  <th>present_residence_3</th>          <td>  172.7833</td> <td>  114.385</td> <td>    1.511</td> <td> 0.131</td> <td>  -51.829</td> <td>  397.395</td>\n",
       "</tr>\n",
       "<tr>\n",
       "  <th>property_1</th>                   <td> -151.3035</td> <td>  118.792</td> <td>   -1.274</td> <td> 0.203</td> <td> -384.568</td> <td>   81.961</td>\n",
       "</tr>\n",
       "<tr>\n",
       "  <th>property_2</th>                   <td> -676.6490</td> <td>  197.289</td> <td>   -3.430</td> <td> 0.001</td> <td>-1064.055</td> <td> -289.243</td>\n",
       "</tr>\n",
       "<tr>\n",
       "  <th>property_3</th>                   <td> -171.8424</td> <td>  115.834</td> <td>   -1.484</td> <td> 0.138</td> <td> -399.300</td> <td>   55.615</td>\n",
       "</tr>\n",
       "<tr>\n",
       "  <th>other_installment_plans_1</th>    <td>   63.7961</td> <td>  130.149</td> <td>    0.490</td> <td> 0.624</td> <td> -191.769</td> <td>  319.361</td>\n",
       "</tr>\n",
       "<tr>\n",
       "  <th>other_installment_plans_2</th>    <td>  -59.1037</td> <td>  232.899</td> <td>   -0.254</td> <td> 0.800</td> <td> -516.435</td> <td>  398.227</td>\n",
       "</tr>\n",
       "<tr>\n",
       "  <th>housing_1</th>                    <td>  437.1283</td> <td>  236.043</td> <td>    1.852</td> <td> 0.064</td> <td>  -26.377</td> <td>  900.633</td>\n",
       "</tr>\n",
       "<tr>\n",
       "  <th>housing_2</th>                    <td>  143.3185</td> <td>  123.249</td> <td>    1.163</td> <td> 0.245</td> <td>  -98.699</td> <td>  385.336</td>\n",
       "</tr>\n",
       "<tr>\n",
       "  <th>number_credits_1</th>             <td> -191.8540</td> <td>  117.555</td> <td>   -1.632</td> <td> 0.103</td> <td> -422.691</td> <td>   38.983</td>\n",
       "</tr>\n",
       "<tr>\n",
       "  <th>number_credits_2</th>             <td> -169.0357</td> <td>  265.290</td> <td>   -0.637</td> <td> 0.524</td> <td> -689.971</td> <td>  351.899</td>\n",
       "</tr>\n",
       "<tr>\n",
       "  <th>number_credits_3</th>             <td> -807.2590</td> <td>  512.023</td> <td>   -1.577</td> <td> 0.115</td> <td>-1812.690</td> <td>  198.172</td>\n",
       "</tr>\n",
       "<tr>\n",
       "  <th>job_1</th>                        <td> -182.5343</td> <td>  145.717</td> <td>   -1.253</td> <td> 0.211</td> <td> -468.670</td> <td>  103.602</td>\n",
       "</tr>\n",
       "<tr>\n",
       "  <th>job_2</th>                        <td> -214.5672</td> <td>  319.986</td> <td>   -0.671</td> <td> 0.503</td> <td> -842.906</td> <td>  413.771</td>\n",
       "</tr>\n",
       "<tr>\n",
       "  <th>job_3</th>                        <td> -177.5713</td> <td>  176.659</td> <td>   -1.005</td> <td> 0.315</td> <td> -524.466</td> <td>  169.323</td>\n",
       "</tr>\n",
       "<tr>\n",
       "  <th>people_liable_1</th>              <td>  166.6225</td> <td>  125.221</td> <td>    1.331</td> <td> 0.184</td> <td>  -79.267</td> <td>  412.512</td>\n",
       "</tr>\n",
       "<tr>\n",
       "  <th>telephone_1</th>                  <td> -141.2180</td> <td>   96.932</td> <td>   -1.457</td> <td> 0.146</td> <td> -331.557</td> <td>   49.121</td>\n",
       "</tr>\n",
       "<tr>\n",
       "  <th>foreign_worker_1</th>             <td>  -15.6521</td> <td>  226.318</td> <td>   -0.069</td> <td> 0.945</td> <td> -460.059</td> <td>  428.755</td>\n",
       "</tr>\n",
       "<tr>\n",
       "  <th>gender_male</th>                  <td>  370.6822</td> <td>   98.098</td> <td>    3.779</td> <td> 0.000</td> <td>  178.053</td> <td>  563.312</td>\n",
       "</tr>\n",
       "<tr>\n",
       "  <th>gender_nonbinary/notreported</th> <td>  675.3526</td> <td>  198.087</td> <td>    3.409</td> <td> 0.001</td> <td>  286.380</td> <td> 1064.325</td>\n",
       "</tr>\n",
       "</table>\n",
       "<table class=\"simpletable\">\n",
       "<tr>\n",
       "  <th>Omnibus:</th>       <td>144.792</td> <th>  Durbin-Watson:     </th> <td>   2.062</td> \n",
       "</tr>\n",
       "<tr>\n",
       "  <th>Prob(Omnibus):</th> <td> 0.000</td>  <th>  Jarque-Bera (JB):  </th> <td>1025.697</td> \n",
       "</tr>\n",
       "<tr>\n",
       "  <th>Skew:</th>          <td>-0.723</td>  <th>  Prob(JB):          </th> <td>1.87e-223</td>\n",
       "</tr>\n",
       "<tr>\n",
       "  <th>Kurtosis:</th>      <td> 8.751</td>  <th>  Cond. No.          </th> <td>1.33e+05</td> \n",
       "</tr>\n",
       "</table><br/><br/>Notes:<br/>[1] Standard Errors assume that the covariance matrix of the errors is correctly specified.<br/>[2] The condition number is large, 1.33e+05. This might indicate that there are<br/>strong multicollinearity or other numerical problems."
      ],
      "text/latex": [
       "\\begin{center}\n",
       "\\begin{tabular}{lclc}\n",
       "\\toprule\n",
       "\\textbf{Dep. Variable:}                &      profit      & \\textbf{  R-squared:         } &     0.270   \\\\\n",
       "\\textbf{Model:}                        &       OLS        & \\textbf{  Adj. R-squared:    } &     0.210   \\\\\n",
       "\\textbf{Method:}                       &  Least Squares   & \\textbf{  F-statistic:       } &     4.504   \\\\\n",
       "\\textbf{Date:}                         & Wed, 20 Dec 2023 & \\textbf{  Prob (F-statistic):} &  1.04e-20   \\\\\n",
       "\\textbf{Time:}                         &     23:07:32     & \\textbf{  Log-Likelihood:    } &   -5854.4   \\\\\n",
       "\\textbf{No. Observations:}             &         700      & \\textbf{  AIC:               } & 1.182e+04   \\\\\n",
       "\\textbf{Df Residuals:}                 &         646      & \\textbf{  BIC:               } & 1.206e+04   \\\\\n",
       "\\textbf{Df Model:}                     &          53      & \\textbf{                     } &             \\\\\n",
       "\\textbf{Covariance Type:}              &    nonrobust     & \\textbf{                     } &             \\\\\n",
       "\\bottomrule\n",
       "\\end{tabular}\n",
       "\\begin{tabular}{lcccccc}\n",
       "                                       & \\textbf{coef} & \\textbf{std err} & \\textbf{t} & \\textbf{P$> |$t$|$} & \\textbf{[0.025} & \\textbf{0.975]}  \\\\\n",
       "\\midrule\n",
       "\\textbf{const}                         &     177.0458  &      521.753     &     0.339  &         0.734        &     -847.491    &     1201.582     \\\\\n",
       "\\textbf{duration}                      &       5.9249  &        4.992     &     1.187  &         0.236        &       -3.878    &       15.728     \\\\\n",
       "\\textbf{amount}                        &      -0.1645  &        0.023     &    -7.067  &         0.000        &       -0.210    &       -0.119     \\\\\n",
       "\\textbf{age}                           &      -4.7354  &        4.426     &    -1.070  &         0.285        &      -13.426    &        3.955     \\\\\n",
       "\\textbf{checking\\_account\\_1}          &     383.5347  &      109.809     &     3.493  &         0.001        &      167.909    &      599.160     \\\\\n",
       "\\textbf{checking\\_account\\_2}          &     272.9559  &      194.404     &     1.404  &         0.161        &     -108.783    &      654.695     \\\\\n",
       "\\textbf{checking\\_account\\_3}          &      -0.3159  &      120.379     &    -0.003  &         0.998        &     -236.697    &      236.065     \\\\\n",
       "\\textbf{credit\\_history\\_1}            &    -425.2826  &      231.296     &    -1.839  &         0.066        &     -879.465    &       28.899     \\\\\n",
       "\\textbf{credit\\_history\\_2}            &    -355.7708  &      225.001     &    -1.581  &         0.114        &     -797.592    &       86.050     \\\\\n",
       "\\textbf{credit\\_history\\_3}            &     214.6914  &      163.793     &     1.311  &         0.190        &     -106.940    &      536.322     \\\\\n",
       "\\textbf{credit\\_history\\_4}            &    -288.1258  &      123.738     &    -2.329  &         0.020        &     -531.103    &      -45.148     \\\\\n",
       "\\textbf{purpose\\_1}                    &     795.4233  &      408.957     &     1.945  &         0.052        &       -7.622    &     1598.468     \\\\\n",
       "\\textbf{purpose\\_2}                    &     453.9388  &      409.175     &     1.109  &         0.268        &     -349.535    &     1257.412     \\\\\n",
       "\\textbf{purpose\\_3}                    &      38.8300  &      488.921     &     0.079  &         0.937        &     -921.237    &      998.897     \\\\\n",
       "\\textbf{purpose\\_4}                    &     337.9475  &      408.479     &     0.827  &         0.408        &     -464.159    &     1140.054     \\\\\n",
       "\\textbf{purpose\\_5}                    &     156.0686  &      402.992     &     0.387  &         0.699        &     -635.263    &      947.400     \\\\\n",
       "\\textbf{purpose\\_6}                    &     290.4959  &      560.814     &     0.518  &         0.605        &     -810.743    &     1391.735     \\\\\n",
       "\\textbf{purpose\\_7}                    &      58.9631  &      446.982     &     0.132  &         0.895        &     -818.751    &      936.677     \\\\\n",
       "\\textbf{purpose\\_8}                    &     201.9848  &      418.864     &     0.482  &         0.630        &     -620.514    &     1024.483     \\\\\n",
       "\\textbf{purpose\\_9}                    &     237.4508  &      548.159     &     0.433  &         0.665        &     -838.938    &     1313.840     \\\\\n",
       "\\textbf{savings\\_account\\_1}           &     306.9933  &      164.222     &     1.869  &         0.062        &      -15.479    &      629.466     \\\\\n",
       "\\textbf{savings\\_account\\_2}           &    -191.4130  &      216.874     &    -0.883  &         0.378        &     -617.275    &      234.449     \\\\\n",
       "\\textbf{savings\\_account\\_3}           &      52.1145  &      233.507     &     0.223  &         0.823        &     -406.410    &      510.639     \\\\\n",
       "\\textbf{savings\\_account\\_4}           &     -71.2509  &      144.841     &    -0.492  &         0.623        &     -355.666    &      213.165     \\\\\n",
       "\\textbf{employment\\_duration\\_1}       &     292.4289  &      126.496     &     2.312  &         0.021        &       44.036    &      540.822     \\\\\n",
       "\\textbf{employment\\_duration\\_2}       &     -24.9067  &      129.955     &    -0.192  &         0.848        &     -280.092    &      230.279     \\\\\n",
       "\\textbf{employment\\_duration\\_3}       &     -80.0715  &      127.756     &    -0.627  &         0.531        &     -330.939    &      170.797     \\\\\n",
       "\\textbf{employment\\_duration\\_4}       &     128.3469  &      210.097     &     0.611  &         0.541        &     -284.209    &      540.903     \\\\\n",
       "\\textbf{installment\\_rate\\_1}          &     102.4281  &      140.592     &     0.729  &         0.467        &     -173.644    &      378.500     \\\\\n",
       "\\textbf{installment\\_rate\\_2}          &    -136.7345  &      129.552     &    -1.055  &         0.292        &     -391.128    &      117.659     \\\\\n",
       "\\textbf{installment\\_rate\\_3}          &      11.6803  &      164.502     &     0.071  &         0.943        &     -311.343    &      334.703     \\\\\n",
       "\\textbf{other\\_debtors\\_1}             &      84.2104  &      280.378     &     0.300  &         0.764        &     -466.352    &      634.772     \\\\\n",
       "\\textbf{other\\_debtors\\_2}             &     -60.3821  &      209.787     &    -0.288  &         0.774        &     -472.328    &      351.564     \\\\\n",
       "\\textbf{present\\_residence\\_1}         &     226.7134  &      139.167     &     1.629  &         0.104        &      -46.560    &      499.987     \\\\\n",
       "\\textbf{present\\_residence\\_2}         &      50.1127  &      139.713     &     0.359  &         0.720        &     -224.234    &      324.459     \\\\\n",
       "\\textbf{present\\_residence\\_3}         &     172.7833  &      114.385     &     1.511  &         0.131        &      -51.829    &      397.395     \\\\\n",
       "\\textbf{property\\_1}                   &    -151.3035  &      118.792     &    -1.274  &         0.203        &     -384.568    &       81.961     \\\\\n",
       "\\textbf{property\\_2}                   &    -676.6490  &      197.289     &    -3.430  &         0.001        &    -1064.055    &     -289.243     \\\\\n",
       "\\textbf{property\\_3}                   &    -171.8424  &      115.834     &    -1.484  &         0.138        &     -399.300    &       55.615     \\\\\n",
       "\\textbf{other\\_installment\\_plans\\_1}  &      63.7961  &      130.149     &     0.490  &         0.624        &     -191.769    &      319.361     \\\\\n",
       "\\textbf{other\\_installment\\_plans\\_2}  &     -59.1037  &      232.899     &    -0.254  &         0.800        &     -516.435    &      398.227     \\\\\n",
       "\\textbf{housing\\_1}                    &     437.1283  &      236.043     &     1.852  &         0.064        &      -26.377    &      900.633     \\\\\n",
       "\\textbf{housing\\_2}                    &     143.3185  &      123.249     &     1.163  &         0.245        &      -98.699    &      385.336     \\\\\n",
       "\\textbf{number\\_credits\\_1}            &    -191.8540  &      117.555     &    -1.632  &         0.103        &     -422.691    &       38.983     \\\\\n",
       "\\textbf{number\\_credits\\_2}            &    -169.0357  &      265.290     &    -0.637  &         0.524        &     -689.971    &      351.899     \\\\\n",
       "\\textbf{number\\_credits\\_3}            &    -807.2590  &      512.023     &    -1.577  &         0.115        &    -1812.690    &      198.172     \\\\\n",
       "\\textbf{job\\_1}                        &    -182.5343  &      145.717     &    -1.253  &         0.211        &     -468.670    &      103.602     \\\\\n",
       "\\textbf{job\\_2}                        &    -214.5672  &      319.986     &    -0.671  &         0.503        &     -842.906    &      413.771     \\\\\n",
       "\\textbf{job\\_3}                        &    -177.5713  &      176.659     &    -1.005  &         0.315        &     -524.466    &      169.323     \\\\\n",
       "\\textbf{people\\_liable\\_1}             &     166.6225  &      125.221     &     1.331  &         0.184        &      -79.267    &      412.512     \\\\\n",
       "\\textbf{telephone\\_1}                  &    -141.2180  &       96.932     &    -1.457  &         0.146        &     -331.557    &       49.121     \\\\\n",
       "\\textbf{foreign\\_worker\\_1}            &     -15.6521  &      226.318     &    -0.069  &         0.945        &     -460.059    &      428.755     \\\\\n",
       "\\textbf{gender\\_male}                  &     370.6822  &       98.098     &     3.779  &         0.000        &      178.053    &      563.312     \\\\\n",
       "\\textbf{gender\\_nonbinary/notreported} &     675.3526  &      198.087     &     3.409  &         0.001        &      286.380    &     1064.325     \\\\\n",
       "\\bottomrule\n",
       "\\end{tabular}\n",
       "\\begin{tabular}{lclc}\n",
       "\\textbf{Omnibus:}       & 144.792 & \\textbf{  Durbin-Watson:     } &     2.062  \\\\\n",
       "\\textbf{Prob(Omnibus):} &   0.000 & \\textbf{  Jarque-Bera (JB):  } &  1025.697  \\\\\n",
       "\\textbf{Skew:}          &  -0.723 & \\textbf{  Prob(JB):          } & 1.87e-223  \\\\\n",
       "\\textbf{Kurtosis:}      &   8.751 & \\textbf{  Cond. No.          } &  1.33e+05  \\\\\n",
       "\\bottomrule\n",
       "\\end{tabular}\n",
       "%\\caption{OLS Regression Results}\n",
       "\\end{center}\n",
       "\n",
       "Notes: \\newline\n",
       " [1] Standard Errors assume that the covariance matrix of the errors is correctly specified. \\newline\n",
       " [2] The condition number is large, 1.33e+05. This might indicate that there are \\newline\n",
       " strong multicollinearity or other numerical problems."
      ],
      "text/plain": [
       "<class 'statsmodels.iolib.summary.Summary'>\n",
       "\"\"\"\n",
       "                            OLS Regression Results                            \n",
       "==============================================================================\n",
       "Dep. Variable:                 profit   R-squared:                       0.270\n",
       "Model:                            OLS   Adj. R-squared:                  0.210\n",
       "Method:                 Least Squares   F-statistic:                     4.504\n",
       "Date:                Wed, 20 Dec 2023   Prob (F-statistic):           1.04e-20\n",
       "Time:                        23:07:32   Log-Likelihood:                -5854.4\n",
       "No. Observations:                 700   AIC:                         1.182e+04\n",
       "Df Residuals:                     646   BIC:                         1.206e+04\n",
       "Df Model:                          53                                         \n",
       "Covariance Type:            nonrobust                                         \n",
       "================================================================================================\n",
       "                                   coef    std err          t      P>|t|      [0.025      0.975]\n",
       "------------------------------------------------------------------------------------------------\n",
       "const                          177.0458    521.753      0.339      0.734    -847.491    1201.582\n",
       "duration                         5.9249      4.992      1.187      0.236      -3.878      15.728\n",
       "amount                          -0.1645      0.023     -7.067      0.000      -0.210      -0.119\n",
       "age                             -4.7354      4.426     -1.070      0.285     -13.426       3.955\n",
       "checking_account_1             383.5347    109.809      3.493      0.001     167.909     599.160\n",
       "checking_account_2             272.9559    194.404      1.404      0.161    -108.783     654.695\n",
       "checking_account_3              -0.3159    120.379     -0.003      0.998    -236.697     236.065\n",
       "credit_history_1              -425.2826    231.296     -1.839      0.066    -879.465      28.899\n",
       "credit_history_2              -355.7708    225.001     -1.581      0.114    -797.592      86.050\n",
       "credit_history_3               214.6914    163.793      1.311      0.190    -106.940     536.322\n",
       "credit_history_4              -288.1258    123.738     -2.329      0.020    -531.103     -45.148\n",
       "purpose_1                      795.4233    408.957      1.945      0.052      -7.622    1598.468\n",
       "purpose_2                      453.9388    409.175      1.109      0.268    -349.535    1257.412\n",
       "purpose_3                       38.8300    488.921      0.079      0.937    -921.237     998.897\n",
       "purpose_4                      337.9475    408.479      0.827      0.408    -464.159    1140.054\n",
       "purpose_5                      156.0686    402.992      0.387      0.699    -635.263     947.400\n",
       "purpose_6                      290.4959    560.814      0.518      0.605    -810.743    1391.735\n",
       "purpose_7                       58.9631    446.982      0.132      0.895    -818.751     936.677\n",
       "purpose_8                      201.9848    418.864      0.482      0.630    -620.514    1024.483\n",
       "purpose_9                      237.4508    548.159      0.433      0.665    -838.938    1313.840\n",
       "savings_account_1              306.9933    164.222      1.869      0.062     -15.479     629.466\n",
       "savings_account_2             -191.4130    216.874     -0.883      0.378    -617.275     234.449\n",
       "savings_account_3               52.1145    233.507      0.223      0.823    -406.410     510.639\n",
       "savings_account_4              -71.2509    144.841     -0.492      0.623    -355.666     213.165\n",
       "employment_duration_1          292.4289    126.496      2.312      0.021      44.036     540.822\n",
       "employment_duration_2          -24.9067    129.955     -0.192      0.848    -280.092     230.279\n",
       "employment_duration_3          -80.0715    127.756     -0.627      0.531    -330.939     170.797\n",
       "employment_duration_4          128.3469    210.097      0.611      0.541    -284.209     540.903\n",
       "installment_rate_1             102.4281    140.592      0.729      0.467    -173.644     378.500\n",
       "installment_rate_2            -136.7345    129.552     -1.055      0.292    -391.128     117.659\n",
       "installment_rate_3              11.6803    164.502      0.071      0.943    -311.343     334.703\n",
       "other_debtors_1                 84.2104    280.378      0.300      0.764    -466.352     634.772\n",
       "other_debtors_2                -60.3821    209.787     -0.288      0.774    -472.328     351.564\n",
       "present_residence_1            226.7134    139.167      1.629      0.104     -46.560     499.987\n",
       "present_residence_2             50.1127    139.713      0.359      0.720    -224.234     324.459\n",
       "present_residence_3            172.7833    114.385      1.511      0.131     -51.829     397.395\n",
       "property_1                    -151.3035    118.792     -1.274      0.203    -384.568      81.961\n",
       "property_2                    -676.6490    197.289     -3.430      0.001   -1064.055    -289.243\n",
       "property_3                    -171.8424    115.834     -1.484      0.138    -399.300      55.615\n",
       "other_installment_plans_1       63.7961    130.149      0.490      0.624    -191.769     319.361\n",
       "other_installment_plans_2      -59.1037    232.899     -0.254      0.800    -516.435     398.227\n",
       "housing_1                      437.1283    236.043      1.852      0.064     -26.377     900.633\n",
       "housing_2                      143.3185    123.249      1.163      0.245     -98.699     385.336\n",
       "number_credits_1              -191.8540    117.555     -1.632      0.103    -422.691      38.983\n",
       "number_credits_2              -169.0357    265.290     -0.637      0.524    -689.971     351.899\n",
       "number_credits_3              -807.2590    512.023     -1.577      0.115   -1812.690     198.172\n",
       "job_1                         -182.5343    145.717     -1.253      0.211    -468.670     103.602\n",
       "job_2                         -214.5672    319.986     -0.671      0.503    -842.906     413.771\n",
       "job_3                         -177.5713    176.659     -1.005      0.315    -524.466     169.323\n",
       "people_liable_1                166.6225    125.221      1.331      0.184     -79.267     412.512\n",
       "telephone_1                   -141.2180     96.932     -1.457      0.146    -331.557      49.121\n",
       "foreign_worker_1               -15.6521    226.318     -0.069      0.945    -460.059     428.755\n",
       "gender_male                    370.6822     98.098      3.779      0.000     178.053     563.312\n",
       "gender_nonbinary/notreported   675.3526    198.087      3.409      0.001     286.380    1064.325\n",
       "==============================================================================\n",
       "Omnibus:                      144.792   Durbin-Watson:                   2.062\n",
       "Prob(Omnibus):                  0.000   Jarque-Bera (JB):             1025.697\n",
       "Skew:                          -0.723   Prob(JB):                    1.87e-223\n",
       "Kurtosis:                       8.751   Cond. No.                     1.33e+05\n",
       "==============================================================================\n",
       "\n",
       "Notes:\n",
       "[1] Standard Errors assume that the covariance matrix of the errors is correctly specified.\n",
       "[2] The condition number is large, 1.33e+05. This might indicate that there are\n",
       "strong multicollinearity or other numerical problems.\n",
       "\"\"\""
      ]
     },
     "execution_count": 40,
     "metadata": {},
     "output_type": "execute_result"
    }
   ],
   "source": [
    "lin_reg_model = sm.OLS(y_train.astype(float), sm.add_constant(x_train).astype(float))\n",
    "lin_reg_model_results = lin_reg_model.fit()\n",
    "lin_reg_model_results.summary()"
   ]
  },
  {
   "cell_type": "markdown",
   "id": "4dbbe854-d47f-4294-a43a-cea5e04acfe3",
   "metadata": {},
   "source": [
    "### Using RMSE (Root Mean Square Error)"
   ]
  },
  {
   "cell_type": "code",
   "execution_count": 41,
   "id": "85e11bf2-9e5e-4efc-8b79-513b52b24ca9",
   "metadata": {},
   "outputs": [],
   "source": [
    "from sklearn.metrics import mean_squared_error"
   ]
  },
  {
   "cell_type": "code",
   "execution_count": 44,
   "id": "10316228-6745-45e9-89b9-3ef22d18ce20",
   "metadata": {},
   "outputs": [],
   "source": [
    "def root_mean_squared_error(y_train, y_pred):\n",
    "    return np.sqrt(mean_squared_error(y_train, y_pred))"
   ]
  },
  {
   "cell_type": "markdown",
   "id": "ac1adcd7-07ba-4d08-8100-9890954f8018",
   "metadata": {},
   "source": [
    "### Training Data"
   ]
  },
  {
   "cell_type": "code",
   "execution_count": 58,
   "id": "d0ec9654-6dfe-41be-a85f-10c20b03e624",
   "metadata": {},
   "outputs": [],
   "source": [
    "predictions_training = lin_reg_model_results.predict(sm.add_constant(x_train))\n",
    "predictions_validation = lin_reg_model_results.predict(sm.add_constant(x_val))"
   ]
  },
  {
   "cell_type": "code",
   "execution_count": 60,
   "id": "43116e21-7aba-49dc-a2de-69231c1bce4b",
   "metadata": {},
   "outputs": [],
   "source": [
    "rmse_training = round(root_mean_squared_error(y_train, predictions_training), 1)\n",
    "rmse_val = round(root_mean_squared_error(y_val, predictions_validation), 1)"
   ]
  },
  {
   "cell_type": "code",
   "execution_count": 61,
   "id": "222cbc1b-2d1b-4c8b-9714-75154b6e7b71",
   "metadata": {},
   "outputs": [
    {
     "name": "stdout",
     "output_type": "stream",
     "text": [
      "RMSE on the training data: 1037.4\n",
      "RMSE on the validation data: 1137.9\n"
     ]
    }
   ],
   "source": [
    "print(f\"RMSE on the training data: {rmse_training}\")\n",
    "print(f\"RMSE on the validation data: {rmse_val}\")"
   ]
  },
  {
   "cell_type": "markdown",
   "id": "d4b38022-cdfd-4de9-b979-f75b60f9bcf1",
   "metadata": {},
   "source": [
    "### LASSO Regulation"
   ]
  },
  {
   "cell_type": "markdown",
   "id": "d9ae894b-1c49-463d-b0c1-10b549f60915",
   "metadata": {},
   "source": [
    "#### Normalizing the data."
   ]
  },
  {
   "cell_type": "code",
   "execution_count": 62,
   "id": "c4112afb-bea4-4e6b-80e7-88c7b544c1ee",
   "metadata": {},
   "outputs": [],
   "source": [
    "from sklearn.preprocessing import StandardScaler"
   ]
  },
  {
   "cell_type": "code",
   "execution_count": 63,
   "id": "d5fa10cd-6ca6-4146-895b-50639ba033ea",
   "metadata": {},
   "outputs": [],
   "source": [
    "scaler = StandardScaler()"
   ]
  },
  {
   "cell_type": "code",
   "execution_count": 64,
   "id": "c7433a8a-68c2-4c0c-b8cd-9dabfe64d26b",
   "metadata": {},
   "outputs": [],
   "source": [
    "x_scaled = scaler.fit_transform(x)"
   ]
  },
  {
   "cell_type": "code",
   "execution_count": 75,
   "id": "32218184-0e31-44e9-be53-99fb65fe2ce5",
   "metadata": {},
   "outputs": [],
   "source": [
    "x_scaled_train, x_scaled_val = train_test_split(x_scaled, test_size=0.3, random_state=1)"
   ]
  },
  {
   "cell_type": "markdown",
   "id": "4ab3991c-175d-45a1-8057-f634493f8b50",
   "metadata": {},
   "source": [
    "#### Running the lasso model"
   ]
  },
  {
   "cell_type": "code",
   "execution_count": 76,
   "id": "8e3583cd-229b-4246-bae0-5e9b9b43b091",
   "metadata": {},
   "outputs": [],
   "source": [
    "from sklearn.linear_model import Lasso, LassoCV, Ridge, RidgeCV"
   ]
  },
  {
   "cell_type": "code",
   "execution_count": 77,
   "id": "c0519279-c180-45da-affc-6fce6a5a41b0",
   "metadata": {},
   "outputs": [
    {
     "data": {
      "text/html": [
       "<style>#sk-container-id-3 {color: black;}#sk-container-id-3 pre{padding: 0;}#sk-container-id-3 div.sk-toggleable {background-color: white;}#sk-container-id-3 label.sk-toggleable__label {cursor: pointer;display: block;width: 100%;margin-bottom: 0;padding: 0.3em;box-sizing: border-box;text-align: center;}#sk-container-id-3 label.sk-toggleable__label-arrow:before {content: \"▸\";float: left;margin-right: 0.25em;color: #696969;}#sk-container-id-3 label.sk-toggleable__label-arrow:hover:before {color: black;}#sk-container-id-3 div.sk-estimator:hover label.sk-toggleable__label-arrow:before {color: black;}#sk-container-id-3 div.sk-toggleable__content {max-height: 0;max-width: 0;overflow: hidden;text-align: left;background-color: #f0f8ff;}#sk-container-id-3 div.sk-toggleable__content pre {margin: 0.2em;color: black;border-radius: 0.25em;background-color: #f0f8ff;}#sk-container-id-3 input.sk-toggleable__control:checked~div.sk-toggleable__content {max-height: 200px;max-width: 100%;overflow: auto;}#sk-container-id-3 input.sk-toggleable__control:checked~label.sk-toggleable__label-arrow:before {content: \"▾\";}#sk-container-id-3 div.sk-estimator input.sk-toggleable__control:checked~label.sk-toggleable__label {background-color: #d4ebff;}#sk-container-id-3 div.sk-label input.sk-toggleable__control:checked~label.sk-toggleable__label {background-color: #d4ebff;}#sk-container-id-3 input.sk-hidden--visually {border: 0;clip: rect(1px 1px 1px 1px);clip: rect(1px, 1px, 1px, 1px);height: 1px;margin: -1px;overflow: hidden;padding: 0;position: absolute;width: 1px;}#sk-container-id-3 div.sk-estimator {font-family: monospace;background-color: #f0f8ff;border: 1px dotted black;border-radius: 0.25em;box-sizing: border-box;margin-bottom: 0.5em;}#sk-container-id-3 div.sk-estimator:hover {background-color: #d4ebff;}#sk-container-id-3 div.sk-parallel-item::after {content: \"\";width: 100%;border-bottom: 1px solid gray;flex-grow: 1;}#sk-container-id-3 div.sk-label:hover label.sk-toggleable__label {background-color: #d4ebff;}#sk-container-id-3 div.sk-serial::before {content: \"\";position: absolute;border-left: 1px solid gray;box-sizing: border-box;top: 0;bottom: 0;left: 50%;z-index: 0;}#sk-container-id-3 div.sk-serial {display: flex;flex-direction: column;align-items: center;background-color: white;padding-right: 0.2em;padding-left: 0.2em;position: relative;}#sk-container-id-3 div.sk-item {position: relative;z-index: 1;}#sk-container-id-3 div.sk-parallel {display: flex;align-items: stretch;justify-content: center;background-color: white;position: relative;}#sk-container-id-3 div.sk-item::before, #sk-container-id-3 div.sk-parallel-item::before {content: \"\";position: absolute;border-left: 1px solid gray;box-sizing: border-box;top: 0;bottom: 0;left: 50%;z-index: -1;}#sk-container-id-3 div.sk-parallel-item {display: flex;flex-direction: column;z-index: 1;position: relative;background-color: white;}#sk-container-id-3 div.sk-parallel-item:first-child::after {align-self: flex-end;width: 50%;}#sk-container-id-3 div.sk-parallel-item:last-child::after {align-self: flex-start;width: 50%;}#sk-container-id-3 div.sk-parallel-item:only-child::after {width: 0;}#sk-container-id-3 div.sk-dashed-wrapped {border: 1px dashed gray;margin: 0 0.4em 0.5em 0.4em;box-sizing: border-box;padding-bottom: 0.4em;background-color: white;}#sk-container-id-3 div.sk-label label {font-family: monospace;font-weight: bold;display: inline-block;line-height: 1.2em;}#sk-container-id-3 div.sk-label-container {text-align: center;}#sk-container-id-3 div.sk-container {/* jupyter's `normalize.less` sets `[hidden] { display: none; }` but bootstrap.min.css set `[hidden] { display: none !important; }` so we also need the `!important` here to be able to override the default hidden behavior on the sphinx rendered scikit-learn.org. See: https://github.com/scikit-learn/scikit-learn/issues/21755 */display: inline-block !important;position: relative;}#sk-container-id-3 div.sk-text-repr-fallback {display: none;}</style><div id=\"sk-container-id-3\" class=\"sk-top-container\"><div class=\"sk-text-repr-fallback\"><pre>Lasso(alpha=1)</pre><b>In a Jupyter environment, please rerun this cell to show the HTML representation or trust the notebook. <br />On GitHub, the HTML representation is unable to render, please try loading this page with nbviewer.org.</b></div><div class=\"sk-container\" hidden><div class=\"sk-item\"><div class=\"sk-estimator sk-toggleable\"><input class=\"sk-toggleable__control sk-hidden--visually\" id=\"sk-estimator-id-3\" type=\"checkbox\" checked><label for=\"sk-estimator-id-3\" class=\"sk-toggleable__label sk-toggleable__label-arrow\">Lasso</label><div class=\"sk-toggleable__content\"><pre>Lasso(alpha=1)</pre></div></div></div></div></div>"
      ],
      "text/plain": [
       "Lasso(alpha=1)"
      ]
     },
     "execution_count": 77,
     "metadata": {},
     "output_type": "execute_result"
    }
   ],
   "source": [
    "lasso_model = Lasso(alpha=1)\n",
    "lasso_model.fit(x_scaled_train, y_train)"
   ]
  },
  {
   "cell_type": "code",
   "execution_count": 78,
   "id": "63dfa6d6-61f9-4ca8-b784-e56d20bbade3",
   "metadata": {},
   "outputs": [],
   "source": [
    "lasso_rmse_training = round(root_mean_squared_error(y_train, lasso_model.predict(x_scaled_train)), 1)\n",
    "lasso_rmse_val = round(root_mean_squared_error(y_val, lasso_model.predict(x_scaled_val)), 1)"
   ]
  },
  {
   "cell_type": "code",
   "execution_count": 81,
   "id": "863b4010-a59c-4d21-8926-889977ade4ac",
   "metadata": {},
   "outputs": [
    {
     "name": "stdout",
     "output_type": "stream",
     "text": [
      "RMSE on the training data: 1037.5\n",
      "RMSE on the validation data: 1136.8\n"
     ]
    }
   ],
   "source": [
    "print(f\"RMSE on the training data: {lasso_rmse_training}\")\n",
    "print(f\"RMSE on the validation data: {lasso_rmse_val}\")"
   ]
  },
  {
   "cell_type": "code",
   "execution_count": 82,
   "id": "3050c240-44a9-4d08-a1c6-45573ff03a60",
   "metadata": {},
   "outputs": [
    {
     "data": {
      "text/html": [
       "<div>\n",
       "<style scoped>\n",
       "    .dataframe tbody tr th:only-of-type {\n",
       "        vertical-align: middle;\n",
       "    }\n",
       "\n",
       "    .dataframe tbody tr th {\n",
       "        vertical-align: top;\n",
       "    }\n",
       "\n",
       "    .dataframe thead th {\n",
       "        text-align: right;\n",
       "    }\n",
       "</style>\n",
       "<table border=\"1\" class=\"dataframe\">\n",
       "  <thead>\n",
       "    <tr style=\"text-align: right;\">\n",
       "      <th></th>\n",
       "      <th>Coefficient</th>\n",
       "    </tr>\n",
       "    <tr>\n",
       "      <th></th>\n",
       "      <th></th>\n",
       "    </tr>\n",
       "  </thead>\n",
       "  <tbody>\n",
       "    <tr>\n",
       "      <th>duration</th>\n",
       "      <td>67.829586</td>\n",
       "    </tr>\n",
       "    <tr>\n",
       "      <th>amount</th>\n",
       "      <td>-461.815112</td>\n",
       "    </tr>\n",
       "    <tr>\n",
       "      <th>age</th>\n",
       "      <td>-51.106541</td>\n",
       "    </tr>\n",
       "    <tr>\n",
       "      <th>checking_account_1</th>\n",
       "      <td>186.174855</td>\n",
       "    </tr>\n",
       "    <tr>\n",
       "      <th>checking_account_2</th>\n",
       "      <td>65.114807</td>\n",
       "    </tr>\n",
       "    <tr>\n",
       "      <th>checking_account_3</th>\n",
       "      <td>-0.000000</td>\n",
       "    </tr>\n",
       "    <tr>\n",
       "      <th>credit_history_1</th>\n",
       "      <td>-89.232401</td>\n",
       "    </tr>\n",
       "    <tr>\n",
       "      <th>credit_history_2</th>\n",
       "      <td>-68.180693</td>\n",
       "    </tr>\n",
       "    <tr>\n",
       "      <th>credit_history_3</th>\n",
       "      <td>61.023047</td>\n",
       "    </tr>\n",
       "    <tr>\n",
       "      <th>credit_history_4</th>\n",
       "      <td>-138.134399</td>\n",
       "    </tr>\n",
       "    <tr>\n",
       "      <th>purpose_1</th>\n",
       "      <td>196.206168</td>\n",
       "    </tr>\n",
       "    <tr>\n",
       "      <th>purpose_2</th>\n",
       "      <td>113.758684</td>\n",
       "    </tr>\n",
       "    <tr>\n",
       "      <th>purpose_3</th>\n",
       "      <td>-17.085048</td>\n",
       "    </tr>\n",
       "    <tr>\n",
       "      <th>purpose_4</th>\n",
       "      <td>80.725100</td>\n",
       "    </tr>\n",
       "    <tr>\n",
       "      <th>purpose_5</th>\n",
       "      <td>0.000000</td>\n",
       "    </tr>\n",
       "    <tr>\n",
       "      <th>purpose_6</th>\n",
       "      <td>13.139171</td>\n",
       "    </tr>\n",
       "    <tr>\n",
       "      <th>purpose_7</th>\n",
       "      <td>-20.028165</td>\n",
       "    </tr>\n",
       "    <tr>\n",
       "      <th>purpose_8</th>\n",
       "      <td>12.527799</td>\n",
       "    </tr>\n",
       "    <tr>\n",
       "      <th>purpose_9</th>\n",
       "      <td>6.607992</td>\n",
       "    </tr>\n",
       "    <tr>\n",
       "      <th>savings_account_1</th>\n",
       "      <td>117.929279</td>\n",
       "    </tr>\n",
       "    <tr>\n",
       "      <th>savings_account_2</th>\n",
       "      <td>-44.236456</td>\n",
       "    </tr>\n",
       "    <tr>\n",
       "      <th>savings_account_3</th>\n",
       "      <td>9.758391</td>\n",
       "    </tr>\n",
       "    <tr>\n",
       "      <th>savings_account_4</th>\n",
       "      <td>-33.731066</td>\n",
       "    </tr>\n",
       "    <tr>\n",
       "      <th>employment_duration_1</th>\n",
       "      <td>113.077323</td>\n",
       "    </tr>\n",
       "    <tr>\n",
       "      <th>employment_duration_2</th>\n",
       "      <td>-6.946625</td>\n",
       "    </tr>\n",
       "    <tr>\n",
       "      <th>employment_duration_3</th>\n",
       "      <td>-32.228871</td>\n",
       "    </tr>\n",
       "    <tr>\n",
       "      <th>employment_duration_4</th>\n",
       "      <td>30.863063</td>\n",
       "    </tr>\n",
       "    <tr>\n",
       "      <th>installment_rate_1</th>\n",
       "      <td>42.699511</td>\n",
       "    </tr>\n",
       "    <tr>\n",
       "      <th>installment_rate_2</th>\n",
       "      <td>-65.955456</td>\n",
       "    </tr>\n",
       "    <tr>\n",
       "      <th>installment_rate_3</th>\n",
       "      <td>1.878521</td>\n",
       "    </tr>\n",
       "    <tr>\n",
       "      <th>other_debtors_1</th>\n",
       "      <td>20.136035</td>\n",
       "    </tr>\n",
       "    <tr>\n",
       "      <th>other_debtors_2</th>\n",
       "      <td>-12.740610</td>\n",
       "    </tr>\n",
       "    <tr>\n",
       "      <th>present_residence_1</th>\n",
       "      <td>74.948181</td>\n",
       "    </tr>\n",
       "    <tr>\n",
       "      <th>present_residence_2</th>\n",
       "      <td>13.160829</td>\n",
       "    </tr>\n",
       "    <tr>\n",
       "      <th>present_residence_3</th>\n",
       "      <td>78.912887</td>\n",
       "    </tr>\n",
       "    <tr>\n",
       "      <th>property_1</th>\n",
       "      <td>-60.098265</td>\n",
       "    </tr>\n",
       "    <tr>\n",
       "      <th>property_2</th>\n",
       "      <td>-236.715115</td>\n",
       "    </tr>\n",
       "    <tr>\n",
       "      <th>property_3</th>\n",
       "      <td>-73.894788</td>\n",
       "    </tr>\n",
       "    <tr>\n",
       "      <th>other_installment_plans_1</th>\n",
       "      <td>28.266039</td>\n",
       "    </tr>\n",
       "    <tr>\n",
       "      <th>other_installment_plans_2</th>\n",
       "      <td>-9.764625</td>\n",
       "    </tr>\n",
       "    <tr>\n",
       "      <th>housing_1</th>\n",
       "      <td>127.269182</td>\n",
       "    </tr>\n",
       "    <tr>\n",
       "      <th>housing_2</th>\n",
       "      <td>61.985845</td>\n",
       "    </tr>\n",
       "    <tr>\n",
       "      <th>number_credits_1</th>\n",
       "      <td>-86.795583</td>\n",
       "    </tr>\n",
       "    <tr>\n",
       "      <th>number_credits_2</th>\n",
       "      <td>-24.806692</td>\n",
       "    </tr>\n",
       "    <tr>\n",
       "      <th>number_credits_3</th>\n",
       "      <td>-60.694497</td>\n",
       "    </tr>\n",
       "    <tr>\n",
       "      <th>job_1</th>\n",
       "      <td>-76.778233</td>\n",
       "    </tr>\n",
       "    <tr>\n",
       "      <th>job_2</th>\n",
       "      <td>-29.139716</td>\n",
       "    </tr>\n",
       "    <tr>\n",
       "      <th>job_3</th>\n",
       "      <td>-61.255069</td>\n",
       "    </tr>\n",
       "    <tr>\n",
       "      <th>people_liable_1</th>\n",
       "      <td>59.105371</td>\n",
       "    </tr>\n",
       "    <tr>\n",
       "      <th>telephone_1</th>\n",
       "      <td>-67.015166</td>\n",
       "    </tr>\n",
       "    <tr>\n",
       "      <th>foreign_worker_1</th>\n",
       "      <td>-2.816270</td>\n",
       "    </tr>\n",
       "    <tr>\n",
       "      <th>gender_male</th>\n",
       "      <td>181.940959</td>\n",
       "    </tr>\n",
       "    <tr>\n",
       "      <th>gender_nonbinary/notreported</th>\n",
       "      <td>146.509630</td>\n",
       "    </tr>\n",
       "  </tbody>\n",
       "</table>\n",
       "</div>"
      ],
      "text/plain": [
       "                              Coefficient\n",
       "                                         \n",
       "duration                        67.829586\n",
       "amount                        -461.815112\n",
       "age                            -51.106541\n",
       "checking_account_1             186.174855\n",
       "checking_account_2              65.114807\n",
       "checking_account_3              -0.000000\n",
       "credit_history_1               -89.232401\n",
       "credit_history_2               -68.180693\n",
       "credit_history_3                61.023047\n",
       "credit_history_4              -138.134399\n",
       "purpose_1                      196.206168\n",
       "purpose_2                      113.758684\n",
       "purpose_3                      -17.085048\n",
       "purpose_4                       80.725100\n",
       "purpose_5                        0.000000\n",
       "purpose_6                       13.139171\n",
       "purpose_7                      -20.028165\n",
       "purpose_8                       12.527799\n",
       "purpose_9                        6.607992\n",
       "savings_account_1              117.929279\n",
       "savings_account_2              -44.236456\n",
       "savings_account_3                9.758391\n",
       "savings_account_4              -33.731066\n",
       "employment_duration_1          113.077323\n",
       "employment_duration_2           -6.946625\n",
       "employment_duration_3          -32.228871\n",
       "employment_duration_4           30.863063\n",
       "installment_rate_1              42.699511\n",
       "installment_rate_2             -65.955456\n",
       "installment_rate_3               1.878521\n",
       "other_debtors_1                 20.136035\n",
       "other_debtors_2                -12.740610\n",
       "present_residence_1             74.948181\n",
       "present_residence_2             13.160829\n",
       "present_residence_3             78.912887\n",
       "property_1                     -60.098265\n",
       "property_2                    -236.715115\n",
       "property_3                     -73.894788\n",
       "other_installment_plans_1       28.266039\n",
       "other_installment_plans_2       -9.764625\n",
       "housing_1                      127.269182\n",
       "housing_2                       61.985845\n",
       "number_credits_1               -86.795583\n",
       "number_credits_2               -24.806692\n",
       "number_credits_3               -60.694497\n",
       "job_1                          -76.778233\n",
       "job_2                          -29.139716\n",
       "job_3                          -61.255069\n",
       "people_liable_1                 59.105371\n",
       "telephone_1                    -67.015166\n",
       "foreign_worker_1                -2.816270\n",
       "gender_male                    181.940959\n",
       "gender_nonbinary/notreported   146.509630"
      ]
     },
     "execution_count": 82,
     "metadata": {},
     "output_type": "execute_result"
    }
   ],
   "source": [
    "coef_table = pd.concat([pd.DataFrame(x.columns), pd.DataFrame(np.transpose(lasso_model.coef_))], axis=1)\n",
    "coef_table.columns = [\"\", \"Coefficient\"]\n",
    "coef_table.set_index('', inplace=True)\n",
    "coef_table"
   ]
  },
  {
   "cell_type": "markdown",
   "id": "bae9d7b6-c3f2-43e1-9f36-e7884d117f66",
   "metadata": {},
   "source": [
    "#### Finding the best Lambda value."
   ]
  },
  {
   "cell_type": "code",
   "execution_count": 112,
   "id": "0e687ab9-020c-45c7-84fd-51758aef215b",
   "metadata": {},
   "outputs": [],
   "source": [
    "alphas = np.arange(0.01, 50, .5)\n",
    "lasso_cv_model = LassoCV(alphas=alphas, cv=5, max_iter=50000)"
   ]
  },
  {
   "cell_type": "code",
   "execution_count": 113,
   "id": "efde04ba-00e2-421c-ac11-ede38c360711",
   "metadata": {},
   "outputs": [
    {
     "name": "stdout",
     "output_type": "stream",
     "text": [
      "alpha: 45.510000\n"
     ]
    }
   ],
   "source": [
    "lasso_cv_model.fit(x_scaled_train, y_train)\n",
    "print('alpha: %f' % lasso_cv_model.alpha_)"
   ]
  },
  {
   "cell_type": "code",
   "execution_count": 121,
   "id": "af025d42-7b0b-485b-8d83-533ce1e7e927",
   "metadata": {},
   "outputs": [
    {
     "data": {
      "text/plain": [
       "53"
      ]
     },
     "execution_count": 121,
     "metadata": {},
     "output_type": "execute_result"
    }
   ],
   "source": [
    "lasso_cv_model.n_features_in_"
   ]
  },
  {
   "cell_type": "code",
   "execution_count": 123,
   "id": "16cd2176-fbd5-462b-887b-5bc10fac4815",
   "metadata": {},
   "outputs": [
    {
     "data": {
      "text/plain": [
       "53"
      ]
     },
     "execution_count": 123,
     "metadata": {},
     "output_type": "execute_result"
    }
   ],
   "source": []
  },
  {
   "cell_type": "markdown",
   "id": "8db47158-bfb5-412c-9b43-a65139288d94",
   "metadata": {},
   "source": [
    "#### Fit the best lasso model"
   ]
  },
  {
   "cell_type": "code",
   "execution_count": 114,
   "id": "4bbcffb8-c2cd-4050-8e98-e851e53c2f49",
   "metadata": {},
   "outputs": [
    {
     "data": {
      "text/html": [
       "<style>#sk-container-id-5 {color: black;}#sk-container-id-5 pre{padding: 0;}#sk-container-id-5 div.sk-toggleable {background-color: white;}#sk-container-id-5 label.sk-toggleable__label {cursor: pointer;display: block;width: 100%;margin-bottom: 0;padding: 0.3em;box-sizing: border-box;text-align: center;}#sk-container-id-5 label.sk-toggleable__label-arrow:before {content: \"▸\";float: left;margin-right: 0.25em;color: #696969;}#sk-container-id-5 label.sk-toggleable__label-arrow:hover:before {color: black;}#sk-container-id-5 div.sk-estimator:hover label.sk-toggleable__label-arrow:before {color: black;}#sk-container-id-5 div.sk-toggleable__content {max-height: 0;max-width: 0;overflow: hidden;text-align: left;background-color: #f0f8ff;}#sk-container-id-5 div.sk-toggleable__content pre {margin: 0.2em;color: black;border-radius: 0.25em;background-color: #f0f8ff;}#sk-container-id-5 input.sk-toggleable__control:checked~div.sk-toggleable__content {max-height: 200px;max-width: 100%;overflow: auto;}#sk-container-id-5 input.sk-toggleable__control:checked~label.sk-toggleable__label-arrow:before {content: \"▾\";}#sk-container-id-5 div.sk-estimator input.sk-toggleable__control:checked~label.sk-toggleable__label {background-color: #d4ebff;}#sk-container-id-5 div.sk-label input.sk-toggleable__control:checked~label.sk-toggleable__label {background-color: #d4ebff;}#sk-container-id-5 input.sk-hidden--visually {border: 0;clip: rect(1px 1px 1px 1px);clip: rect(1px, 1px, 1px, 1px);height: 1px;margin: -1px;overflow: hidden;padding: 0;position: absolute;width: 1px;}#sk-container-id-5 div.sk-estimator {font-family: monospace;background-color: #f0f8ff;border: 1px dotted black;border-radius: 0.25em;box-sizing: border-box;margin-bottom: 0.5em;}#sk-container-id-5 div.sk-estimator:hover {background-color: #d4ebff;}#sk-container-id-5 div.sk-parallel-item::after {content: \"\";width: 100%;border-bottom: 1px solid gray;flex-grow: 1;}#sk-container-id-5 div.sk-label:hover label.sk-toggleable__label {background-color: #d4ebff;}#sk-container-id-5 div.sk-serial::before {content: \"\";position: absolute;border-left: 1px solid gray;box-sizing: border-box;top: 0;bottom: 0;left: 50%;z-index: 0;}#sk-container-id-5 div.sk-serial {display: flex;flex-direction: column;align-items: center;background-color: white;padding-right: 0.2em;padding-left: 0.2em;position: relative;}#sk-container-id-5 div.sk-item {position: relative;z-index: 1;}#sk-container-id-5 div.sk-parallel {display: flex;align-items: stretch;justify-content: center;background-color: white;position: relative;}#sk-container-id-5 div.sk-item::before, #sk-container-id-5 div.sk-parallel-item::before {content: \"\";position: absolute;border-left: 1px solid gray;box-sizing: border-box;top: 0;bottom: 0;left: 50%;z-index: -1;}#sk-container-id-5 div.sk-parallel-item {display: flex;flex-direction: column;z-index: 1;position: relative;background-color: white;}#sk-container-id-5 div.sk-parallel-item:first-child::after {align-self: flex-end;width: 50%;}#sk-container-id-5 div.sk-parallel-item:last-child::after {align-self: flex-start;width: 50%;}#sk-container-id-5 div.sk-parallel-item:only-child::after {width: 0;}#sk-container-id-5 div.sk-dashed-wrapped {border: 1px dashed gray;margin: 0 0.4em 0.5em 0.4em;box-sizing: border-box;padding-bottom: 0.4em;background-color: white;}#sk-container-id-5 div.sk-label label {font-family: monospace;font-weight: bold;display: inline-block;line-height: 1.2em;}#sk-container-id-5 div.sk-label-container {text-align: center;}#sk-container-id-5 div.sk-container {/* jupyter's `normalize.less` sets `[hidden] { display: none; }` but bootstrap.min.css set `[hidden] { display: none !important; }` so we also need the `!important` here to be able to override the default hidden behavior on the sphinx rendered scikit-learn.org. See: https://github.com/scikit-learn/scikit-learn/issues/21755 */display: inline-block !important;position: relative;}#sk-container-id-5 div.sk-text-repr-fallback {display: none;}</style><div id=\"sk-container-id-5\" class=\"sk-top-container\"><div class=\"sk-text-repr-fallback\"><pre>Lasso(alpha=45.51)</pre><b>In a Jupyter environment, please rerun this cell to show the HTML representation or trust the notebook. <br />On GitHub, the HTML representation is unable to render, please try loading this page with nbviewer.org.</b></div><div class=\"sk-container\" hidden><div class=\"sk-item\"><div class=\"sk-estimator sk-toggleable\"><input class=\"sk-toggleable__control sk-hidden--visually\" id=\"sk-estimator-id-5\" type=\"checkbox\" checked><label for=\"sk-estimator-id-5\" class=\"sk-toggleable__label sk-toggleable__label-arrow\">Lasso</label><div class=\"sk-toggleable__content\"><pre>Lasso(alpha=45.51)</pre></div></div></div></div></div>"
      ],
      "text/plain": [
       "Lasso(alpha=45.51)"
      ]
     },
     "execution_count": 114,
     "metadata": {},
     "output_type": "execute_result"
    }
   ],
   "source": [
    "lasso_best_model = Lasso(alpha=lasso_cv_model.alpha_)\n",
    "lasso_best_model.fit(x_scaled_train, y_train)"
   ]
  },
  {
   "cell_type": "code",
   "execution_count": 118,
   "id": "3742dddf-576e-4253-83c2-1a587baf55f6",
   "metadata": {},
   "outputs": [],
   "source": [
    "lasso_best_rmse_training = round(root_mean_squared_error(y_train, lasso_best_model.predict(x_scaled_train)), 1)\n",
    "lasso_best_rmse_val = round(root_mean_squared_error(y_val, lasso_best_model.predict(x_scaled_val)), 1)"
   ]
  },
  {
   "cell_type": "code",
   "execution_count": 119,
   "id": "123d6e79-61fa-43cd-beae-a24e9e5df249",
   "metadata": {},
   "outputs": [
    {
     "name": "stdout",
     "output_type": "stream",
     "text": [
      "RMSE on the training data: 1073.5\n",
      "RMSE on the validation data: 1130.2\n"
     ]
    }
   ],
   "source": [
    "print(f\"RMSE on the training data: {lasso_best_rmse_training}\")\n",
    "print(f\"RMSE on the validation data: {lasso_best_rmse_val}\")"
   ]
  },
  {
   "cell_type": "markdown",
   "id": "d5f8f6fd-9bca-411c-a35a-4f025029ea1d",
   "metadata": {},
   "source": [
    "#### Checking the Eliminated fetaures."
   ]
  },
  {
   "cell_type": "code",
   "execution_count": 124,
   "id": "90bb2e50-0f9d-411f-8f1d-bde849e42180",
   "metadata": {},
   "outputs": [],
   "source": [
    "eliminated_features = sum(lasso_best_model.coef_ == 0)"
   ]
  },
  {
   "cell_type": "code",
   "execution_count": 125,
   "id": "1f4942d1-3aba-4131-9a08-dba09e736bbb",
   "metadata": {},
   "outputs": [
    {
     "data": {
      "text/plain": [
       "33"
      ]
     },
     "execution_count": 125,
     "metadata": {},
     "output_type": "execute_result"
    }
   ],
   "source": [
    "eliminated_features"
   ]
  },
  {
   "cell_type": "code",
   "execution_count": 128,
   "id": "3169c64d-0292-4ced-8525-b6490c97f6cc",
   "metadata": {},
   "outputs": [
    {
     "name": "stdout",
     "output_type": "stream",
     "text": [
      "Surviving Features: 19\n"
     ]
    }
   ],
   "source": [
    "surviving_features = [feature for feature, coef in zip(df.columns, lasso_model.coef_) if coef != 0]\n",
    "print(\"Surviving Features:\", len(surviving_features))"
   ]
  },
  {
   "cell_type": "markdown",
   "id": "b6dcf27f-23d1-49f6-8cb8-68208a5addb0",
   "metadata": {},
   "source": [
    "### Applying Ridge Model"
   ]
  },
  {
   "cell_type": "code",
   "execution_count": 130,
   "id": "07113715-8ced-4865-bb3a-2fe5e0d35442",
   "metadata": {},
   "outputs": [
    {
     "data": {
      "text/html": [
       "<style>#sk-container-id-7 {color: black;}#sk-container-id-7 pre{padding: 0;}#sk-container-id-7 div.sk-toggleable {background-color: white;}#sk-container-id-7 label.sk-toggleable__label {cursor: pointer;display: block;width: 100%;margin-bottom: 0;padding: 0.3em;box-sizing: border-box;text-align: center;}#sk-container-id-7 label.sk-toggleable__label-arrow:before {content: \"▸\";float: left;margin-right: 0.25em;color: #696969;}#sk-container-id-7 label.sk-toggleable__label-arrow:hover:before {color: black;}#sk-container-id-7 div.sk-estimator:hover label.sk-toggleable__label-arrow:before {color: black;}#sk-container-id-7 div.sk-toggleable__content {max-height: 0;max-width: 0;overflow: hidden;text-align: left;background-color: #f0f8ff;}#sk-container-id-7 div.sk-toggleable__content pre {margin: 0.2em;color: black;border-radius: 0.25em;background-color: #f0f8ff;}#sk-container-id-7 input.sk-toggleable__control:checked~div.sk-toggleable__content {max-height: 200px;max-width: 100%;overflow: auto;}#sk-container-id-7 input.sk-toggleable__control:checked~label.sk-toggleable__label-arrow:before {content: \"▾\";}#sk-container-id-7 div.sk-estimator input.sk-toggleable__control:checked~label.sk-toggleable__label {background-color: #d4ebff;}#sk-container-id-7 div.sk-label input.sk-toggleable__control:checked~label.sk-toggleable__label {background-color: #d4ebff;}#sk-container-id-7 input.sk-hidden--visually {border: 0;clip: rect(1px 1px 1px 1px);clip: rect(1px, 1px, 1px, 1px);height: 1px;margin: -1px;overflow: hidden;padding: 0;position: absolute;width: 1px;}#sk-container-id-7 div.sk-estimator {font-family: monospace;background-color: #f0f8ff;border: 1px dotted black;border-radius: 0.25em;box-sizing: border-box;margin-bottom: 0.5em;}#sk-container-id-7 div.sk-estimator:hover {background-color: #d4ebff;}#sk-container-id-7 div.sk-parallel-item::after {content: \"\";width: 100%;border-bottom: 1px solid gray;flex-grow: 1;}#sk-container-id-7 div.sk-label:hover label.sk-toggleable__label {background-color: #d4ebff;}#sk-container-id-7 div.sk-serial::before {content: \"\";position: absolute;border-left: 1px solid gray;box-sizing: border-box;top: 0;bottom: 0;left: 50%;z-index: 0;}#sk-container-id-7 div.sk-serial {display: flex;flex-direction: column;align-items: center;background-color: white;padding-right: 0.2em;padding-left: 0.2em;position: relative;}#sk-container-id-7 div.sk-item {position: relative;z-index: 1;}#sk-container-id-7 div.sk-parallel {display: flex;align-items: stretch;justify-content: center;background-color: white;position: relative;}#sk-container-id-7 div.sk-item::before, #sk-container-id-7 div.sk-parallel-item::before {content: \"\";position: absolute;border-left: 1px solid gray;box-sizing: border-box;top: 0;bottom: 0;left: 50%;z-index: -1;}#sk-container-id-7 div.sk-parallel-item {display: flex;flex-direction: column;z-index: 1;position: relative;background-color: white;}#sk-container-id-7 div.sk-parallel-item:first-child::after {align-self: flex-end;width: 50%;}#sk-container-id-7 div.sk-parallel-item:last-child::after {align-self: flex-start;width: 50%;}#sk-container-id-7 div.sk-parallel-item:only-child::after {width: 0;}#sk-container-id-7 div.sk-dashed-wrapped {border: 1px dashed gray;margin: 0 0.4em 0.5em 0.4em;box-sizing: border-box;padding-bottom: 0.4em;background-color: white;}#sk-container-id-7 div.sk-label label {font-family: monospace;font-weight: bold;display: inline-block;line-height: 1.2em;}#sk-container-id-7 div.sk-label-container {text-align: center;}#sk-container-id-7 div.sk-container {/* jupyter's `normalize.less` sets `[hidden] { display: none; }` but bootstrap.min.css set `[hidden] { display: none !important; }` so we also need the `!important` here to be able to override the default hidden behavior on the sphinx rendered scikit-learn.org. See: https://github.com/scikit-learn/scikit-learn/issues/21755 */display: inline-block !important;position: relative;}#sk-container-id-7 div.sk-text-repr-fallback {display: none;}</style><div id=\"sk-container-id-7\" class=\"sk-top-container\"><div class=\"sk-text-repr-fallback\"><pre>Ridge(alpha=1)</pre><b>In a Jupyter environment, please rerun this cell to show the HTML representation or trust the notebook. <br />On GitHub, the HTML representation is unable to render, please try loading this page with nbviewer.org.</b></div><div class=\"sk-container\" hidden><div class=\"sk-item\"><div class=\"sk-estimator sk-toggleable\"><input class=\"sk-toggleable__control sk-hidden--visually\" id=\"sk-estimator-id-7\" type=\"checkbox\" checked><label for=\"sk-estimator-id-7\" class=\"sk-toggleable__label sk-toggleable__label-arrow\">Ridge</label><div class=\"sk-toggleable__content\"><pre>Ridge(alpha=1)</pre></div></div></div></div></div>"
      ],
      "text/plain": [
       "Ridge(alpha=1)"
      ]
     },
     "execution_count": 130,
     "metadata": {},
     "output_type": "execute_result"
    }
   ],
   "source": [
    "ridge_model = Ridge(alpha=1)\n",
    "ridge_model.fit(x_scaled_train, y_train)"
   ]
  },
  {
   "cell_type": "code",
   "execution_count": 131,
   "id": "00e07556-6ac4-4ca8-bffe-b75dc17637fa",
   "metadata": {},
   "outputs": [],
   "source": [
    "ridge_rmse_training = round(root_mean_squared_error(y_train, ridge_model.predict(x_scaled_train)), 1)\n",
    "ridge_rmse_val = round(root_mean_squared_error(y_val, ridge_model.predict(x_scaled_val)), 1)"
   ]
  },
  {
   "cell_type": "code",
   "execution_count": 132,
   "id": "16d12e8e-f8b6-4131-bee2-25340ed8bec0",
   "metadata": {},
   "outputs": [
    {
     "name": "stdout",
     "output_type": "stream",
     "text": [
      "RMSE on the training data: 1037.4\n",
      "RMSE on the validation data: 1137.6\n"
     ]
    }
   ],
   "source": [
    "print(f\"RMSE on the training data: {ridge_rmse_training}\")\n",
    "print(f\"RMSE on the validation data: {ridge_rmse_val}\")"
   ]
  },
  {
   "cell_type": "code",
   "execution_count": 148,
   "id": "57a3865f-2167-46fc-8254-562511ba6f6d",
   "metadata": {},
   "outputs": [],
   "source": [
    "alphas = np.arange(200, 400, 1)\n",
    "ridge_cv_model = RidgeCV(alphas=alphas, cv=5)"
   ]
  },
  {
   "cell_type": "code",
   "execution_count": 149,
   "id": "754d2155-becc-4dcd-bc36-2231c03975cb",
   "metadata": {},
   "outputs": [
    {
     "name": "stdout",
     "output_type": "stream",
     "text": [
      "alpha: 298.000000\n"
     ]
    }
   ],
   "source": [
    "ridge_cv_model.fit(x_scaled_train, y_train)\n",
    "print('alpha: %f' % ridge_cv_model.alpha_)"
   ]
  },
  {
   "cell_type": "code",
   "execution_count": 150,
   "id": "dcec0c07-6345-4df5-b93a-c875b028830c",
   "metadata": {},
   "outputs": [
    {
     "data": {
      "text/html": [
       "<style>#sk-container-id-9 {color: black;}#sk-container-id-9 pre{padding: 0;}#sk-container-id-9 div.sk-toggleable {background-color: white;}#sk-container-id-9 label.sk-toggleable__label {cursor: pointer;display: block;width: 100%;margin-bottom: 0;padding: 0.3em;box-sizing: border-box;text-align: center;}#sk-container-id-9 label.sk-toggleable__label-arrow:before {content: \"▸\";float: left;margin-right: 0.25em;color: #696969;}#sk-container-id-9 label.sk-toggleable__label-arrow:hover:before {color: black;}#sk-container-id-9 div.sk-estimator:hover label.sk-toggleable__label-arrow:before {color: black;}#sk-container-id-9 div.sk-toggleable__content {max-height: 0;max-width: 0;overflow: hidden;text-align: left;background-color: #f0f8ff;}#sk-container-id-9 div.sk-toggleable__content pre {margin: 0.2em;color: black;border-radius: 0.25em;background-color: #f0f8ff;}#sk-container-id-9 input.sk-toggleable__control:checked~div.sk-toggleable__content {max-height: 200px;max-width: 100%;overflow: auto;}#sk-container-id-9 input.sk-toggleable__control:checked~label.sk-toggleable__label-arrow:before {content: \"▾\";}#sk-container-id-9 div.sk-estimator input.sk-toggleable__control:checked~label.sk-toggleable__label {background-color: #d4ebff;}#sk-container-id-9 div.sk-label input.sk-toggleable__control:checked~label.sk-toggleable__label {background-color: #d4ebff;}#sk-container-id-9 input.sk-hidden--visually {border: 0;clip: rect(1px 1px 1px 1px);clip: rect(1px, 1px, 1px, 1px);height: 1px;margin: -1px;overflow: hidden;padding: 0;position: absolute;width: 1px;}#sk-container-id-9 div.sk-estimator {font-family: monospace;background-color: #f0f8ff;border: 1px dotted black;border-radius: 0.25em;box-sizing: border-box;margin-bottom: 0.5em;}#sk-container-id-9 div.sk-estimator:hover {background-color: #d4ebff;}#sk-container-id-9 div.sk-parallel-item::after {content: \"\";width: 100%;border-bottom: 1px solid gray;flex-grow: 1;}#sk-container-id-9 div.sk-label:hover label.sk-toggleable__label {background-color: #d4ebff;}#sk-container-id-9 div.sk-serial::before {content: \"\";position: absolute;border-left: 1px solid gray;box-sizing: border-box;top: 0;bottom: 0;left: 50%;z-index: 0;}#sk-container-id-9 div.sk-serial {display: flex;flex-direction: column;align-items: center;background-color: white;padding-right: 0.2em;padding-left: 0.2em;position: relative;}#sk-container-id-9 div.sk-item {position: relative;z-index: 1;}#sk-container-id-9 div.sk-parallel {display: flex;align-items: stretch;justify-content: center;background-color: white;position: relative;}#sk-container-id-9 div.sk-item::before, #sk-container-id-9 div.sk-parallel-item::before {content: \"\";position: absolute;border-left: 1px solid gray;box-sizing: border-box;top: 0;bottom: 0;left: 50%;z-index: -1;}#sk-container-id-9 div.sk-parallel-item {display: flex;flex-direction: column;z-index: 1;position: relative;background-color: white;}#sk-container-id-9 div.sk-parallel-item:first-child::after {align-self: flex-end;width: 50%;}#sk-container-id-9 div.sk-parallel-item:last-child::after {align-self: flex-start;width: 50%;}#sk-container-id-9 div.sk-parallel-item:only-child::after {width: 0;}#sk-container-id-9 div.sk-dashed-wrapped {border: 1px dashed gray;margin: 0 0.4em 0.5em 0.4em;box-sizing: border-box;padding-bottom: 0.4em;background-color: white;}#sk-container-id-9 div.sk-label label {font-family: monospace;font-weight: bold;display: inline-block;line-height: 1.2em;}#sk-container-id-9 div.sk-label-container {text-align: center;}#sk-container-id-9 div.sk-container {/* jupyter's `normalize.less` sets `[hidden] { display: none; }` but bootstrap.min.css set `[hidden] { display: none !important; }` so we also need the `!important` here to be able to override the default hidden behavior on the sphinx rendered scikit-learn.org. See: https://github.com/scikit-learn/scikit-learn/issues/21755 */display: inline-block !important;position: relative;}#sk-container-id-9 div.sk-text-repr-fallback {display: none;}</style><div id=\"sk-container-id-9\" class=\"sk-top-container\"><div class=\"sk-text-repr-fallback\"><pre>Ridge(alpha=298)</pre><b>In a Jupyter environment, please rerun this cell to show the HTML representation or trust the notebook. <br />On GitHub, the HTML representation is unable to render, please try loading this page with nbviewer.org.</b></div><div class=\"sk-container\" hidden><div class=\"sk-item\"><div class=\"sk-estimator sk-toggleable\"><input class=\"sk-toggleable__control sk-hidden--visually\" id=\"sk-estimator-id-9\" type=\"checkbox\" checked><label for=\"sk-estimator-id-9\" class=\"sk-toggleable__label sk-toggleable__label-arrow\">Ridge</label><div class=\"sk-toggleable__content\"><pre>Ridge(alpha=298)</pre></div></div></div></div></div>"
      ],
      "text/plain": [
       "Ridge(alpha=298)"
      ]
     },
     "execution_count": 150,
     "metadata": {},
     "output_type": "execute_result"
    }
   ],
   "source": [
    "ridge_best_model = Ridge(alpha=ridge_cv_model.alpha_)\n",
    "ridge_best_model.fit(x_scaled_train, y_train)"
   ]
  },
  {
   "cell_type": "code",
   "execution_count": 151,
   "id": "6bf64777-7296-4d87-9de6-ea72b5903c32",
   "metadata": {},
   "outputs": [],
   "source": [
    "ridge_best_rmse_training = round(root_mean_squared_error(y_train, ridge_best_model.predict(x_scaled_train)), 1)\n",
    "ridge_best_rmse_val = round(root_mean_squared_error(y_val, ridge_best_model.predict(x_scaled_val)), 1)"
   ]
  },
  {
   "cell_type": "code",
   "execution_count": 153,
   "id": "39051f01-7af2-429f-9561-74792a620baa",
   "metadata": {},
   "outputs": [
    {
     "name": "stdout",
     "output_type": "stream",
     "text": [
      "RMSE on the training data: 1062.6\n",
      "RMSE on the validation data: 1136.9\n"
     ]
    }
   ],
   "source": [
    "print(f\"RMSE on the training data: {ridge_best_rmse_training}\")\n",
    "print(f\"RMSE on the validation data: {ridge_best_rmse_val}\")"
   ]
  },
  {
   "cell_type": "markdown",
   "id": "30b979cc-2f31-4b56-b9a9-7200b86061d8",
   "metadata": {},
   "source": [
    "### Plotting the regression coefficients."
   ]
  },
  {
   "cell_type": "code",
   "execution_count": 156,
   "id": "1a9ffd6a-ea30-4f98-b8c2-cbf87e15e12d",
   "metadata": {},
   "outputs": [],
   "source": [
    "coef_table = pd.concat([pd.DataFrame(x.columns), pd.DataFrame(np.transpose(lasso_best_model.coef_)), pd.DataFrame(np.transpose(ridge_best_model.coef_))], axis=1)\n",
    "coef_table.columns = [\"\", \"Lasso\", \"Ridge\"]\n",
    "coef_table.set_index('', inplace=True)"
   ]
  },
  {
   "cell_type": "code",
   "execution_count": 157,
   "id": "f3616147-534e-4094-984c-6e8739a651ae",
   "metadata": {
    "scrolled": true
   },
   "outputs": [
    {
     "data": {
      "text/html": [
       "<div>\n",
       "<style scoped>\n",
       "    .dataframe tbody tr th:only-of-type {\n",
       "        vertical-align: middle;\n",
       "    }\n",
       "\n",
       "    .dataframe tbody tr th {\n",
       "        vertical-align: top;\n",
       "    }\n",
       "\n",
       "    .dataframe thead th {\n",
       "        text-align: right;\n",
       "    }\n",
       "</style>\n",
       "<table border=\"1\" class=\"dataframe\">\n",
       "  <thead>\n",
       "    <tr style=\"text-align: right;\">\n",
       "      <th></th>\n",
       "      <th>Lasso</th>\n",
       "      <th>Ridge</th>\n",
       "    </tr>\n",
       "    <tr>\n",
       "      <th></th>\n",
       "      <th></th>\n",
       "      <th></th>\n",
       "    </tr>\n",
       "  </thead>\n",
       "  <tbody>\n",
       "    <tr>\n",
       "      <th>duration</th>\n",
       "      <td>0.000000</td>\n",
       "      <td>-39.467001</td>\n",
       "    </tr>\n",
       "    <tr>\n",
       "      <th>amount</th>\n",
       "      <td>-338.945613</td>\n",
       "      <td>-236.712634</td>\n",
       "    </tr>\n",
       "    <tr>\n",
       "      <th>age</th>\n",
       "      <td>-0.000000</td>\n",
       "      <td>-30.667401</td>\n",
       "    </tr>\n",
       "    <tr>\n",
       "      <th>checking_account_1</th>\n",
       "      <td>145.598553</td>\n",
       "      <td>121.319595</td>\n",
       "    </tr>\n",
       "    <tr>\n",
       "      <th>checking_account_2</th>\n",
       "      <td>12.407411</td>\n",
       "      <td>40.983555</td>\n",
       "    </tr>\n",
       "    <tr>\n",
       "      <th>checking_account_3</th>\n",
       "      <td>-0.000000</td>\n",
       "      <td>-23.545514</td>\n",
       "    </tr>\n",
       "    <tr>\n",
       "      <th>credit_history_1</th>\n",
       "      <td>-21.665397</td>\n",
       "      <td>-49.259781</td>\n",
       "    </tr>\n",
       "    <tr>\n",
       "      <th>credit_history_2</th>\n",
       "      <td>-33.485478</td>\n",
       "      <td>-61.623683</td>\n",
       "    </tr>\n",
       "    <tr>\n",
       "      <th>credit_history_3</th>\n",
       "      <td>38.799652</td>\n",
       "      <td>49.471488</td>\n",
       "    </tr>\n",
       "    <tr>\n",
       "      <th>credit_history_4</th>\n",
       "      <td>-6.952841</td>\n",
       "      <td>-56.088847</td>\n",
       "    </tr>\n",
       "    <tr>\n",
       "      <th>purpose_1</th>\n",
       "      <td>132.175563</td>\n",
       "      <td>103.887106</td>\n",
       "    </tr>\n",
       "    <tr>\n",
       "      <th>purpose_2</th>\n",
       "      <td>20.854277</td>\n",
       "      <td>39.263567</td>\n",
       "    </tr>\n",
       "    <tr>\n",
       "      <th>purpose_3</th>\n",
       "      <td>-0.000000</td>\n",
       "      <td>-32.590127</td>\n",
       "    </tr>\n",
       "    <tr>\n",
       "      <th>purpose_4</th>\n",
       "      <td>0.000000</td>\n",
       "      <td>16.774690</td>\n",
       "    </tr>\n",
       "    <tr>\n",
       "      <th>purpose_5</th>\n",
       "      <td>-11.536894</td>\n",
       "      <td>-44.792381</td>\n",
       "    </tr>\n",
       "    <tr>\n",
       "      <th>purpose_6</th>\n",
       "      <td>-0.000000</td>\n",
       "      <td>-2.405303</td>\n",
       "    </tr>\n",
       "    <tr>\n",
       "      <th>purpose_7</th>\n",
       "      <td>-0.000000</td>\n",
       "      <td>-39.189424</td>\n",
       "    </tr>\n",
       "    <tr>\n",
       "      <th>purpose_8</th>\n",
       "      <td>-0.000000</td>\n",
       "      <td>-23.691960</td>\n",
       "    </tr>\n",
       "    <tr>\n",
       "      <th>purpose_9</th>\n",
       "      <td>-0.000000</td>\n",
       "      <td>-3.076156</td>\n",
       "    </tr>\n",
       "    <tr>\n",
       "      <th>savings_account_1</th>\n",
       "      <td>81.083130</td>\n",
       "      <td>75.284090</td>\n",
       "    </tr>\n",
       "    <tr>\n",
       "      <th>savings_account_2</th>\n",
       "      <td>-0.000000</td>\n",
       "      <td>-19.341670</td>\n",
       "    </tr>\n",
       "    <tr>\n",
       "      <th>savings_account_3</th>\n",
       "      <td>0.000000</td>\n",
       "      <td>0.162577</td>\n",
       "    </tr>\n",
       "    <tr>\n",
       "      <th>savings_account_4</th>\n",
       "      <td>-0.000000</td>\n",
       "      <td>-33.145126</td>\n",
       "    </tr>\n",
       "    <tr>\n",
       "      <th>employment_duration_1</th>\n",
       "      <td>93.482760</td>\n",
       "      <td>83.804121</td>\n",
       "    </tr>\n",
       "    <tr>\n",
       "      <th>employment_duration_2</th>\n",
       "      <td>-0.000000</td>\n",
       "      <td>-30.401796</td>\n",
       "    </tr>\n",
       "    <tr>\n",
       "      <th>employment_duration_3</th>\n",
       "      <td>-0.000000</td>\n",
       "      <td>-14.888087</td>\n",
       "    </tr>\n",
       "    <tr>\n",
       "      <th>employment_duration_4</th>\n",
       "      <td>0.000000</td>\n",
       "      <td>18.899039</td>\n",
       "    </tr>\n",
       "    <tr>\n",
       "      <th>installment_rate_1</th>\n",
       "      <td>41.543084</td>\n",
       "      <td>33.928389</td>\n",
       "    </tr>\n",
       "    <tr>\n",
       "      <th>installment_rate_2</th>\n",
       "      <td>-0.000000</td>\n",
       "      <td>-19.339560</td>\n",
       "    </tr>\n",
       "    <tr>\n",
       "      <th>installment_rate_3</th>\n",
       "      <td>-0.000000</td>\n",
       "      <td>-30.176344</td>\n",
       "    </tr>\n",
       "    <tr>\n",
       "      <th>other_debtors_1</th>\n",
       "      <td>0.000000</td>\n",
       "      <td>12.193024</td>\n",
       "    </tr>\n",
       "    <tr>\n",
       "      <th>other_debtors_2</th>\n",
       "      <td>-0.000000</td>\n",
       "      <td>12.257723</td>\n",
       "    </tr>\n",
       "    <tr>\n",
       "      <th>present_residence_1</th>\n",
       "      <td>0.000000</td>\n",
       "      <td>37.318175</td>\n",
       "    </tr>\n",
       "    <tr>\n",
       "      <th>present_residence_2</th>\n",
       "      <td>-0.000000</td>\n",
       "      <td>-4.942089</td>\n",
       "    </tr>\n",
       "    <tr>\n",
       "      <th>present_residence_3</th>\n",
       "      <td>0.000000</td>\n",
       "      <td>31.925346</td>\n",
       "    </tr>\n",
       "    <tr>\n",
       "      <th>property_1</th>\n",
       "      <td>-0.000000</td>\n",
       "      <td>-18.626511</td>\n",
       "    </tr>\n",
       "    <tr>\n",
       "      <th>property_2</th>\n",
       "      <td>-107.595553</td>\n",
       "      <td>-106.887781</td>\n",
       "    </tr>\n",
       "    <tr>\n",
       "      <th>property_3</th>\n",
       "      <td>-0.000000</td>\n",
       "      <td>-20.765532</td>\n",
       "    </tr>\n",
       "    <tr>\n",
       "      <th>other_installment_plans_1</th>\n",
       "      <td>8.765240</td>\n",
       "      <td>36.814432</td>\n",
       "    </tr>\n",
       "    <tr>\n",
       "      <th>other_installment_plans_2</th>\n",
       "      <td>-0.000000</td>\n",
       "      <td>-3.382576</td>\n",
       "    </tr>\n",
       "    <tr>\n",
       "      <th>housing_1</th>\n",
       "      <td>0.000000</td>\n",
       "      <td>19.930717</td>\n",
       "    </tr>\n",
       "    <tr>\n",
       "      <th>housing_2</th>\n",
       "      <td>0.000000</td>\n",
       "      <td>49.054836</td>\n",
       "    </tr>\n",
       "    <tr>\n",
       "      <th>number_credits_1</th>\n",
       "      <td>0.000000</td>\n",
       "      <td>-17.488611</td>\n",
       "    </tr>\n",
       "    <tr>\n",
       "      <th>number_credits_2</th>\n",
       "      <td>-0.000000</td>\n",
       "      <td>-2.525787</td>\n",
       "    </tr>\n",
       "    <tr>\n",
       "      <th>number_credits_3</th>\n",
       "      <td>-13.913275</td>\n",
       "      <td>-38.230885</td>\n",
       "    </tr>\n",
       "    <tr>\n",
       "      <th>job_1</th>\n",
       "      <td>0.000000</td>\n",
       "      <td>-0.678383</td>\n",
       "    </tr>\n",
       "    <tr>\n",
       "      <th>job_2</th>\n",
       "      <td>-0.000000</td>\n",
       "      <td>-10.584386</td>\n",
       "    </tr>\n",
       "    <tr>\n",
       "      <th>job_3</th>\n",
       "      <td>-0.000000</td>\n",
       "      <td>-5.565641</td>\n",
       "    </tr>\n",
       "    <tr>\n",
       "      <th>people_liable_1</th>\n",
       "      <td>8.223252</td>\n",
       "      <td>51.629621</td>\n",
       "    </tr>\n",
       "    <tr>\n",
       "      <th>telephone_1</th>\n",
       "      <td>-1.281068</td>\n",
       "      <td>-49.471275</td>\n",
       "    </tr>\n",
       "    <tr>\n",
       "      <th>foreign_worker_1</th>\n",
       "      <td>-0.000000</td>\n",
       "      <td>-6.368153</td>\n",
       "    </tr>\n",
       "    <tr>\n",
       "      <th>gender_male</th>\n",
       "      <td>114.060858</td>\n",
       "      <td>97.956968</td>\n",
       "    </tr>\n",
       "    <tr>\n",
       "      <th>gender_nonbinary/notreported</th>\n",
       "      <td>104.993219</td>\n",
       "      <td>99.171788</td>\n",
       "    </tr>\n",
       "  </tbody>\n",
       "</table>\n",
       "</div>"
      ],
      "text/plain": [
       "                                   Lasso       Ridge\n",
       "                                                    \n",
       "duration                        0.000000  -39.467001\n",
       "amount                       -338.945613 -236.712634\n",
       "age                            -0.000000  -30.667401\n",
       "checking_account_1            145.598553  121.319595\n",
       "checking_account_2             12.407411   40.983555\n",
       "checking_account_3             -0.000000  -23.545514\n",
       "credit_history_1              -21.665397  -49.259781\n",
       "credit_history_2              -33.485478  -61.623683\n",
       "credit_history_3               38.799652   49.471488\n",
       "credit_history_4               -6.952841  -56.088847\n",
       "purpose_1                     132.175563  103.887106\n",
       "purpose_2                      20.854277   39.263567\n",
       "purpose_3                      -0.000000  -32.590127\n",
       "purpose_4                       0.000000   16.774690\n",
       "purpose_5                     -11.536894  -44.792381\n",
       "purpose_6                      -0.000000   -2.405303\n",
       "purpose_7                      -0.000000  -39.189424\n",
       "purpose_8                      -0.000000  -23.691960\n",
       "purpose_9                      -0.000000   -3.076156\n",
       "savings_account_1              81.083130   75.284090\n",
       "savings_account_2              -0.000000  -19.341670\n",
       "savings_account_3               0.000000    0.162577\n",
       "savings_account_4              -0.000000  -33.145126\n",
       "employment_duration_1          93.482760   83.804121\n",
       "employment_duration_2          -0.000000  -30.401796\n",
       "employment_duration_3          -0.000000  -14.888087\n",
       "employment_duration_4           0.000000   18.899039\n",
       "installment_rate_1             41.543084   33.928389\n",
       "installment_rate_2             -0.000000  -19.339560\n",
       "installment_rate_3             -0.000000  -30.176344\n",
       "other_debtors_1                 0.000000   12.193024\n",
       "other_debtors_2                -0.000000   12.257723\n",
       "present_residence_1             0.000000   37.318175\n",
       "present_residence_2            -0.000000   -4.942089\n",
       "present_residence_3             0.000000   31.925346\n",
       "property_1                     -0.000000  -18.626511\n",
       "property_2                   -107.595553 -106.887781\n",
       "property_3                     -0.000000  -20.765532\n",
       "other_installment_plans_1       8.765240   36.814432\n",
       "other_installment_plans_2      -0.000000   -3.382576\n",
       "housing_1                       0.000000   19.930717\n",
       "housing_2                       0.000000   49.054836\n",
       "number_credits_1                0.000000  -17.488611\n",
       "number_credits_2               -0.000000   -2.525787\n",
       "number_credits_3              -13.913275  -38.230885\n",
       "job_1                           0.000000   -0.678383\n",
       "job_2                          -0.000000  -10.584386\n",
       "job_3                          -0.000000   -5.565641\n",
       "people_liable_1                 8.223252   51.629621\n",
       "telephone_1                    -1.281068  -49.471275\n",
       "foreign_worker_1               -0.000000   -6.368153\n",
       "gender_male                   114.060858   97.956968\n",
       "gender_nonbinary/notreported  104.993219   99.171788"
      ]
     },
     "execution_count": 157,
     "metadata": {},
     "output_type": "execute_result"
    }
   ],
   "source": [
    "coef_table"
   ]
  },
  {
   "cell_type": "code",
   "execution_count": 159,
   "id": "0ff13b7e-b3cb-41a4-aa87-b3139df97126",
   "metadata": {},
   "outputs": [],
   "source": [
    "import matplotlib.pyplot as plt"
   ]
  },
  {
   "cell_type": "code",
   "execution_count": 160,
   "id": "ac9e46e5-f422-47a7-a4aa-c82abdf6a33d",
   "metadata": {},
   "outputs": [
    {
     "data": {
      "image/png": "[encoded data removed]",
      "text/plain": [
       "<Figure size 800x500 with 1 Axes>"
      ]
     },
     "metadata": {},
     "output_type": "display_data"
    }
   ],
   "source": [
    "plt.figure(figsize=(8, 5))\n",
    "plt.plot(y_val, lasso_best_model.predict(x_scaled_val), 'o')\n",
    "plt.xlabel(\"Actual Profit\")\n",
    "plt.ylabel(\"Predicted Profit\")\n",
    "plt.grid()"
   ]
  },
  {
   "cell_type": "code",
   "execution_count": null,
   "id": "0ad97716-b9ac-498f-a4e7-1ae91237a8fb",
   "metadata": {},
   "outputs": [],
   "source": []
  }
 ],
 "metadata": {
  "kernelspec": {
   "display_name": "Python 3 (ipykernel)",
   "language": "python",
   "name": "python3"
  },
  "language_info": {
   "codemirror_mode": {
    "name": "ipython",
    "version": 3
   },
   "file_extension": ".py",
   "mimetype": "text/x-python",
   "name": "python",
   "nbconvert_exporter": "python",
   "pygments_lexer": "ipython3",
   "version": "3.10.11"
  }
 },
 "nbformat": 4,
 "nbformat_minor": 5
}
