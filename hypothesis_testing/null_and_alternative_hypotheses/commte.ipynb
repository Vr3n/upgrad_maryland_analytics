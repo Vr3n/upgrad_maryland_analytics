{
 "cells": [
  {
   "cell_type": "code",
   "execution_count": 1,
   "id": "8d56eb5b-7525-440f-8594-8d5d1ccc30d1",
   "metadata": {},
   "outputs": [],
   "source": [
    "import pandas as pd\n",
    "import numpy as np\n",
    "import scipy.stats as st"
   ]
  },
  {
   "cell_type": "code",
   "execution_count": 2,
   "id": "66d97983-2747-4a5a-80ae-1b018e082620",
   "metadata": {},
   "outputs": [],
   "source": [
    "df = pd.read_csv('Commute_Time.csv')"
   ]
  },
  {
   "cell_type": "code",
   "execution_count": 15,
   "id": "4b1f6fd8-8742-434a-815d-dc69108aed1c",
   "metadata": {},
   "outputs": [],
   "source": [
    "day_1 = df['Day_1'].values\n",
    "day_2 = df['Day_2'].values"
   ]
  },
  {
   "cell_type": "code",
   "execution_count": 16,
   "id": "6daed4f6-dcfa-4a83-87b7-fc40eb4b13c6",
   "metadata": {},
   "outputs": [
    {
     "data": {
      "text/plain": [
       "array([27, 43, 34, 24, 31, 46, 44, 42, 32, 49, 16, 23, 18, 42, 23, 53, 54,\n",
       "       32, 30, 49, 44, 38, 29, 42, 38, 23, 29, 19, 15, 22, 39, 38],\n",
       "      dtype=int64)"
      ]
     },
     "execution_count": 16,
     "metadata": {},
     "output_type": "execute_result"
    }
   ],
   "source": [
    "day_1"
   ]
  },
  {
   "cell_type": "code",
   "execution_count": 17,
   "id": "c018908b-de83-4898-aea6-e5a08ea6dc26",
   "metadata": {},
   "outputs": [
    {
     "data": {
      "text/plain": [
       "array([23, 42, 39, 23, 37, 53, 44, 38, 30, 50, 12, 18, 24, 47, 26, 54, 58,\n",
       "       33, 34, 41, 41, 32, 32, 38, 31, 18, 23, 19, 17, 24, 43, 31],\n",
       "      dtype=int64)"
      ]
     },
     "execution_count": 17,
     "metadata": {},
     "output_type": "execute_result"
    }
   ],
   "source": [
    "day_2"
   ]
  },
  {
   "cell_type": "code",
   "execution_count": 23,
   "id": "738190ee-57f4-4da9-9834-99c9be180f6a",
   "metadata": {},
   "outputs": [],
   "source": [
    "t_statistic, p_value = st.ttest_ind(day_1, day_2, equal_var=True, alternative=\"two-sided\")\n"
   ]
  },
  {
   "cell_type": "code",
   "execution_count": 24,
   "id": "3f4f057e-c816-41ff-ad33-6390409772e0",
   "metadata": {},
   "outputs": [
    {
     "data": {
      "text/plain": [
       "0.14171787003575112"
      ]
     },
     "execution_count": 24,
     "metadata": {},
     "output_type": "execute_result"
    }
   ],
   "source": [
    "t_statistic"
   ]
  },
  {
   "cell_type": "code",
   "execution_count": 28,
   "id": "54f6ba83-f68d-463b-8693-bda662226b55",
   "metadata": {},
   "outputs": [],
   "source": [
    "alpha = 0.10"
   ]
  },
  {
   "cell_type": "code",
   "execution_count": 29,
   "id": "30b67ccd-4727-4e3b-9de0-0ca36b2e309f",
   "metadata": {},
   "outputs": [
    {
     "name": "stdout",
     "output_type": "stream",
     "text": [
      "Fail to reject the null hypothesis.\n"
     ]
    }
   ],
   "source": [
    "if p_value <= alpha:\n",
    "    print(\"Reject the null hypothesis.\")\n",
    "else:\n",
    "    print(\"Fail to reject the null hypothesis.\")"
   ]
  },
  {
   "cell_type": "code",
   "execution_count": null,
   "id": "5a4a7e47-de87-419e-b83e-27bde407fb9d",
   "metadata": {},
   "outputs": [],
   "source": []
  }
 ],
 "metadata": {
  "kernelspec": {
   "display_name": "Python 3 (ipykernel)",
   "language": "python",
   "name": "python3"
  },
  "language_info": {
   "codemirror_mode": {
    "name": "ipython",
    "version": 3
   },
   "file_extension": ".py",
   "mimetype": "text/x-python",
   "name": "python",
   "nbconvert_exporter": "python",
   "pygments_lexer": "ipython3",
   "version": "3.10.11"
  }
 },
 "nbformat": 4,
 "nbformat_minor": 5
}
