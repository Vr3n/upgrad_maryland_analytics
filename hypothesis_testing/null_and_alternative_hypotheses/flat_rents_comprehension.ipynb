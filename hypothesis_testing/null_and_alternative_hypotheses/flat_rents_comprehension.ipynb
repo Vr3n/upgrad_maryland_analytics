{
 "cells": [
  {
   "cell_type": "code",
   "execution_count": 1,
   "id": "a9f60a89-df66-4b2f-95c4-4df22e3eac1b",
   "metadata": {},
   "outputs": [],
   "source": [
    "import numpy as np\n",
    "import pandas as pd\n",
    "import scipy.stats as st"
   ]
  },
  {
   "cell_type": "code",
   "execution_count": 2,
   "id": "522e90bf-abe9-4deb-b90f-d890cf920396",
   "metadata": {},
   "outputs": [],
   "source": [
    "df = pd.read_csv('Flats+Rent.csv')"
   ]
  },
  {
   "cell_type": "code",
   "execution_count": 8,
   "id": "83004f2d-a570-4295-bff3-8ee4a4c08857",
   "metadata": {},
   "outputs": [],
   "source": [
    "df.columns = ['monthly_rent']"
   ]
  },
  {
   "cell_type": "code",
   "execution_count": 12,
   "id": "add044f0-5a07-4b40-880e-0862ac2f891a",
   "metadata": {},
   "outputs": [],
   "source": [
    "data = df['monthly_rent'].values"
   ]
  },
  {
   "cell_type": "code",
   "execution_count": 28,
   "id": "580a59c4-aa7e-447b-b2b2-8d7ea3d9c860",
   "metadata": {},
   "outputs": [
    {
     "data": {
      "text/plain": [
       "array([4400, 4980, 4540, 4070, 4390, 4640, 3100, 4500, 3730, 4290, 3660,\n",
       "       4310, 4090, 4480, 3420, 3870, 3890, 3220, 4460, 4380, 4260, 4860,\n",
       "       3510, 3830, 5120, 4550, 5260, 5860, 4690, 4310, 5060, 4250, 5820,\n",
       "       4810, 5500, 5980, 4460, 4140, 4690, 5170, 4880, 4130, 4170, 5430,\n",
       "       4780, 4050, 5890, 4110, 5110, 4340, 4390, 4420, 4260, 4000, 3090,\n",
       "       4650, 3270, 3360, 4940, 3190, 4540, 4870, 4490, 4530, 4920, 3710,\n",
       "       3010, 3600, 4940, 4390, 4230, 4970, 3440, 5960, 5780, 5860, 4540,\n",
       "       5190, 5540, 4950, 5890, 4160, 5500, 5040, 4960, 5980, 4690, 5390,\n",
       "       4480, 5310, 4140, 5160, 5860, 5260, 4900, 4990, 5130, 5890, 3290,\n",
       "       4730, 4010, 4770, 3820, 3100, 4750, 3910, 4580, 4100, 4970, 3310,\n",
       "       3440, 4500, 4460, 3780, 4710, 3410, 4680, 4900, 4100, 3820, 3090,\n",
       "       4370, 4190, 4690, 4460, 5580, 4700, 5690, 5520, 4370, 5770, 4160,\n",
       "       4390, 4440, 4190, 4550, 5800, 5180, 5910, 5320, 4460, 4230, 5200,\n",
       "       5820, 5720, 4210, 4550, 5510, 3320, 4270, 4730, 3920, 4780, 4150,\n",
       "       4070, 3320, 4220, 3250, 4380, 3300, 3340, 3420, 3570, 4710, 4810,\n",
       "       3050, 4300, 3790, 4170, 4800, 4830, 4890, 4200, 4040, 5770, 4430,\n",
       "       4670, 5390, 4010, 4050, 4550, 4440, 4230, 5980, 4460, 5830, 4260,\n",
       "       5720, 5850, 4180, 4810, 5070, 4860, 4080, 4470, 4980, 5190, 5570,\n",
       "       4580, 5950], dtype=int64)"
      ]
     },
     "execution_count": 28,
     "metadata": {},
     "output_type": "execute_result"
    }
   ],
   "source": [
    "data"
   ]
  },
  {
   "cell_type": "code",
   "execution_count": 18,
   "id": "f885b8a9-3a1d-4a3c-8f21-a6c636f13882",
   "metadata": {},
   "outputs": [],
   "source": [
    "mean = np.mean(data)\n",
    "std_deviation = np.std(data, ddof=1)"
   ]
  },
  {
   "cell_type": "markdown",
   "id": "5b05fc87-3c68-4df8-b591-5880e29faea9",
   "metadata": {},
   "source": [
    "### What is the 90% confidence interval for the monthly rent in US dollars?"
   ]
  },
  {
   "cell_type": "code",
   "execution_count": 31,
   "id": "660ff199-99cd-40c0-9116-3551ce0540b8",
   "metadata": {},
   "outputs": [],
   "source": [
    "confidence_interval = st.t.interval(0.90, df=len(data)-1, loc=np.mean(data), scale=np.std(data, ddof=1) / np.sqrt(len(data)))"
   ]
  },
  {
   "cell_type": "code",
   "execution_count": 32,
   "id": "d3d41f69-7152-40ed-a6ec-701984e3c271",
   "metadata": {},
   "outputs": [
    {
     "data": {
      "text/plain": [
       "(4469.956842859388, 4644.243157140612)"
      ]
     },
     "execution_count": 32,
     "metadata": {},
     "output_type": "execute_result"
    }
   ],
   "source": [
    "confidence_interval"
   ]
  },
  {
   "cell_type": "markdown",
   "id": "33d2e8f8-dd25-4a3a-b868-ad1e7cad9310",
   "metadata": {},
   "source": [
    "### What is the 99% confidence interval for the monthly rent in US dollars?"
   ]
  },
  {
   "cell_type": "code",
   "execution_count": 33,
   "id": "b6a9d322-98cc-4151-973e-051a8e39fe67",
   "metadata": {},
   "outputs": [],
   "source": [
    "confidence_interval = st.t.interval(0.99, df=len(data)-1, loc=np.mean(data), scale=np.std(data, ddof=1) / np.sqrt(len(data)))"
   ]
  },
  {
   "cell_type": "code",
   "execution_count": 35,
   "id": "81deeb42-76d3-4599-9796-0e51be918fbd",
   "metadata": {},
   "outputs": [
    {
     "data": {
      "text/plain": [
       "(4419.955040732439, 4694.244959267562)"
      ]
     },
     "execution_count": 35,
     "metadata": {},
     "output_type": "execute_result"
    }
   ],
   "source": [
    "confidence_interval"
   ]
  },
  {
   "cell_type": "code",
   "execution_count": 36,
   "id": "c8271313-a8a9-4409-9eaa-8439e97d8413",
   "metadata": {},
   "outputs": [],
   "source": [
    "confidence_interval = st.t.interval(0.95, df=len(data)-1, loc=np.mean(data), scale=np.std(data, ddof=1) / np.sqrt(len(data)))"
   ]
  },
  {
   "cell_type": "code",
   "execution_count": 37,
   "id": "6d9765fa-585e-41bd-90d6-b2f22c8b341f",
   "metadata": {},
   "outputs": [
    {
     "data": {
      "text/plain": [
       "(4453.113520096376, 4661.086479903624)"
      ]
     },
     "execution_count": 37,
     "metadata": {},
     "output_type": "execute_result"
    }
   ],
   "source": [
    "confidence_interval"
   ]
  },
  {
   "cell_type": "code",
   "execution_count": 40,
   "id": "2c0013b3-9fd7-42ad-a289-01f2de3ec55e",
   "metadata": {},
   "outputs": [
    {
     "ename": "ModuleNotFoundError",
     "evalue": "No module named 'statsmodels'",
     "output_type": "error",
     "traceback": [
      "\u001b[1;31m---------------------------------------------------------------------------\u001b[0m",
      "\u001b[1;31mModuleNotFoundError\u001b[0m                       Traceback (most recent call last)",
      "Cell \u001b[1;32mIn[40], line 1\u001b[0m\n\u001b[1;32m----> 1\u001b[0m \u001b[38;5;28;01mfrom\u001b[39;00m \u001b[38;5;21;01mstatsmodels\u001b[39;00m\u001b[38;5;21;01m.\u001b[39;00m\u001b[38;5;21;01mstats\u001b[39;00m\u001b[38;5;21;01m.\u001b[39;00m\u001b[38;5;21;01mproportion\u001b[39;00m \u001b[38;5;28;01mimport\u001b[39;00m proportions_ztest\n\u001b[0;32m      2\u001b[0m \u001b[38;5;66;03m# Given data\u001b[39;00m\n\u001b[0;32m      3\u001b[0m sample_proportion \u001b[38;5;241m=\u001b[39m \u001b[38;5;241m85\u001b[39m \u001b[38;5;241m/\u001b[39m \u001b[38;5;241m100\u001b[39m  \u001b[38;5;66;03m# 85 out of 100 favor Candidate A\u001b[39;00m\n",
      "\u001b[1;31mModuleNotFoundError\u001b[0m: No module named 'statsmodels'"
     ]
    }
   ],
   "source": [
    "from statsmodels.stats.proportion import proportions_ztest\n",
    "# Given data\n",
    "sample_proportion = 85 / 100  # 85 out of 100 favor Candidate A\n",
    "null_hypothesis_proportion = 0.8  # Null hypothesis proportion\n",
    "\n",
    "# Perform a one-sample z-test for proportions\n",
    "z_stat, p_value = proportions_ztest(count=85, nobs=100, value=null_hypothesis_proportion, alternative='larger')\n",
    "\n",
    "# Significance level (alpha)\n",
    "alpha = 0.05\n",
    "\n",
    "# Compare the p-value with the significance level\n",
    "if p_value < alpha:\n",
    "    print(f\"At a {1 - alpha:.0%} confidence level, we reject the null hypothesis.\")\n",
    "else:\n",
    "    print(f\"At a {1 - alpha:.0%} confidence level, we fail to reject the null hypothesis.\")\n",
    "\n",
    "# Print the p-value for reference\n",
    "print(f\"P-value: {p_value}\")"
   ]
  },
  {
   "cell_type": "code",
   "execution_count": 44,
   "id": "7510149d-48b0-44f1-be6c-c40b927aa118",
   "metadata": {},
   "outputs": [
    {
     "name": "stdout",
     "output_type": "stream",
     "text": [
      "At a 95% confidence level, we fail to reject the null hypothesis.\n",
      "P-value: 0.10564977366685557\n"
     ]
    }
   ],
   "source": [
    "# Given data\n",
    "sample_proportion = 85 / 100  # 85 out of 100 favor Candidate A\n",
    "null_hypothesis_proportion = 0.8  # Null hypothesis proportion\n",
    "\n",
    "# Sample size\n",
    "sample_size = 100\n",
    "\n",
    "# Calculate the standard error of the proportion\n",
    "standard_error = np.sqrt((null_hypothesis_proportion * (1 - null_hypothesis_proportion)) / sample_size)\n",
    "\n",
    "# Calculate the z-statistic\n",
    "z_stat = (sample_proportion - null_hypothesis_proportion) / standard_error\n",
    "\n",
    "# Calculate the p-value (assuming a two-tailed test)\n",
    "p_value = 1 - st.norm.cdf(z_stat)\n",
    "\n",
    "# Significance level (alpha)\n",
    "alpha = 0.05\n",
    "\n",
    "# Compare the p-value with the significance level\n",
    "if p_value < alpha:\n",
    "    print(f\"At a {1 - alpha:.0%} confidence level, we reject the null hypothesis.\")\n",
    "else:\n",
    "    print(f\"At a {1 - alpha:.0%} confidence level, we fail to reject the null hypothesis.\")\n",
    "\n",
    "# Print the p-value for reference\n",
    "print(f\"P-value: {p_value}\")"
   ]
  },
  {
   "cell_type": "code",
   "execution_count": null,
   "id": "ab164e19-ae4a-4036-92cb-47db8bffa809",
   "metadata": {},
   "outputs": [],
   "source": []
  }
 ],
 "metadata": {
  "kernelspec": {
   "display_name": "Python 3 (ipykernel)",
   "language": "python",
   "name": "python3"
  },
  "language_info": {
   "codemirror_mode": {
    "name": "ipython",
    "version": 3
   },
   "file_extension": ".py",
   "mimetype": "text/x-python",
   "name": "python",
   "nbconvert_exporter": "python",
   "pygments_lexer": "ipython3",
   "version": "3.10.11"
  }
 },
 "nbformat": 4,
 "nbformat_minor": 5
}
