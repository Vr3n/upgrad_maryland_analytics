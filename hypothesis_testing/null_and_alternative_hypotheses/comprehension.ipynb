{
 "cells": [
  {
   "cell_type": "code",
   "execution_count": 3,
   "id": "3a35f706-0b83-4554-8a5f-4b07c6118c7e",
   "metadata": {},
   "outputs": [],
   "source": [
    "import numpy as np\n",
    "import scipy.stats as st"
   ]
  },
  {
   "cell_type": "code",
   "execution_count": 4,
   "id": "2320a1d9-3433-4cc0-aeb1-4b3af717e4d5",
   "metadata": {},
   "outputs": [],
   "source": [
    "data = [10.2, 9.7, 10.1, 10.3, 10.1, 9.8, 9.9, 10.4, 10.3, 9.8]"
   ]
  },
  {
   "cell_type": "code",
   "execution_count": 5,
   "id": "353c4d94-2ad3-4423-bc35-0e363d7cfc5c",
   "metadata": {},
   "outputs": [
    {
     "name": "stdout",
     "output_type": "stream",
     "text": [
      "Standard Deviation: 0.24585451886114376\n"
     ]
    }
   ],
   "source": [
    "std_deviation = np.std(data, ddof=1)\n",
    "print(\"Standard Deviation:\", std_deviation)"
   ]
  },
  {
   "cell_type": "code",
   "execution_count": 6,
   "id": "669769c5-ef98-4c5c-ba9b-cc711cce12e3",
   "metadata": {},
   "outputs": [],
   "source": [
    "mu_0 = 10.0  # specified population mean under the null hypothesis"
   ]
  },
  {
   "cell_type": "code",
   "execution_count": 7,
   "id": "2adf069e-53d1-4eec-afe8-be01e1175df1",
   "metadata": {},
   "outputs": [],
   "source": [
    "mean_value = np.mean(data)\n",
    "sample_size = len(data)"
   ]
  },
  {
   "cell_type": "code",
   "execution_count": 8,
   "id": "5fa27d6a-9b2d-4669-8a74-ee215e848e65",
   "metadata": {},
   "outputs": [],
   "source": [
    "t_statistic = (mean_value - mu_0) / (std_deviation / np.sqrt(sample_size))"
   ]
  },
  {
   "cell_type": "code",
   "execution_count": 9,
   "id": "3359291e-bed6-41b4-a92b-20708456015d",
   "metadata": {},
   "outputs": [
    {
     "data": {
      "text/plain": [
       "0.771743633141273"
      ]
     },
     "execution_count": 9,
     "metadata": {},
     "output_type": "execute_result"
    }
   ],
   "source": [
    "t_statistic"
   ]
  },
  {
   "cell_type": "code",
   "execution_count": 10,
   "id": "5cac93a2-34da-46a5-811d-a2dd011eceae",
   "metadata": {},
   "outputs": [],
   "source": [
    "degrees_of_freedom = sample_size - 1"
   ]
  },
  {
   "cell_type": "code",
   "execution_count": 11,
   "id": "dc564118-0cea-4f72-a122-7c58b582bf53",
   "metadata": {},
   "outputs": [
    {
     "data": {
      "text/plain": [
       "9"
      ]
     },
     "execution_count": 11,
     "metadata": {},
     "output_type": "execute_result"
    }
   ],
   "source": [
    "degrees_of_freedom"
   ]
  },
  {
   "cell_type": "code",
   "execution_count": 12,
   "id": "332d4ddf-d09b-4722-bea0-75a89b61f33f",
   "metadata": {},
   "outputs": [
    {
     "ename": "NameError",
     "evalue": "name 'alpha' is not defined",
     "output_type": "error",
     "traceback": [
      "\u001b[1;31m---------------------------------------------------------------------------\u001b[0m",
      "\u001b[1;31mNameError\u001b[0m                                 Traceback (most recent call last)",
      "Cell \u001b[1;32mIn[12], line 1\u001b[0m\n\u001b[1;32m----> 1\u001b[0m critical_value \u001b[38;5;241m=\u001b[39m st\u001b[38;5;241m.\u001b[39mt\u001b[38;5;241m.\u001b[39mppf(\u001b[38;5;241m1\u001b[39m \u001b[38;5;241m-\u001b[39m \u001b[43malpha\u001b[49m \u001b[38;5;241m/\u001b[39m\u001b[38;5;241m2\u001b[39m, degrees_of_freedom)\n",
      "\u001b[1;31mNameError\u001b[0m: name 'alpha' is not defined"
     ]
    }
   ],
   "source": [
    "critical_value = st.t.ppf(1 - alpha /2, degrees_of_freedom)"
   ]
  },
  {
   "cell_type": "code",
   "execution_count": 13,
   "id": "52f35f39-23cc-4112-9576-9a3fa50da105",
   "metadata": {},
   "outputs": [
    {
     "ename": "NameError",
     "evalue": "name 'critical_value' is not defined",
     "output_type": "error",
     "traceback": [
      "\u001b[1;31m---------------------------------------------------------------------------\u001b[0m",
      "\u001b[1;31mNameError\u001b[0m                                 Traceback (most recent call last)",
      "Cell \u001b[1;32mIn[13], line 1\u001b[0m\n\u001b[1;32m----> 1\u001b[0m \u001b[43mcritical_value\u001b[49m\n",
      "\u001b[1;31mNameError\u001b[0m: name 'critical_value' is not defined"
     ]
    }
   ],
   "source": [
    "critical_value"
   ]
  },
  {
   "cell_type": "code",
   "execution_count": 14,
   "id": "31863c29-8997-4101-92b5-2ca00d262499",
   "metadata": {},
   "outputs": [
    {
     "ename": "NameError",
     "evalue": "name 'critical_value' is not defined",
     "output_type": "error",
     "traceback": [
      "\u001b[1;31m---------------------------------------------------------------------------\u001b[0m",
      "\u001b[1;31mNameError\u001b[0m                                 Traceback (most recent call last)",
      "Cell \u001b[1;32mIn[14], line 1\u001b[0m\n\u001b[1;32m----> 1\u001b[0m t_statistic \u001b[38;5;241m>\u001b[39m \u001b[43mcritical_value\u001b[49m\n",
      "\u001b[1;31mNameError\u001b[0m: name 'critical_value' is not defined"
     ]
    }
   ],
   "source": [
    "t_statistic > critical_value"
   ]
  },
  {
   "cell_type": "code",
   "execution_count": 15,
   "id": "f9cc24e4-286c-4383-a995-bca90d6b1694",
   "metadata": {},
   "outputs": [],
   "source": [
    "p_value = 2 * (1 - st.t.cdf(abs(t_statistic), degrees_of_freedom))"
   ]
  },
  {
   "cell_type": "code",
   "execution_count": 16,
   "id": "e70188bd-0d06-45b0-b17b-e6574f68a2ab",
   "metadata": {},
   "outputs": [
    {
     "ename": "NameError",
     "evalue": "name 'alpha' is not defined",
     "output_type": "error",
     "traceback": [
      "\u001b[1;31m---------------------------------------------------------------------------\u001b[0m",
      "\u001b[1;31mNameError\u001b[0m                                 Traceback (most recent call last)",
      "Cell \u001b[1;32mIn[16], line 1\u001b[0m\n\u001b[1;32m----> 1\u001b[0m p_value \u001b[38;5;241m<\u001b[39m \u001b[43malpha\u001b[49m\n",
      "\u001b[1;31mNameError\u001b[0m: name 'alpha' is not defined"
     ]
    }
   ],
   "source": [
    "p_value < alpha"
   ]
  },
  {
   "cell_type": "markdown",
   "id": "5877816f-31e1-4553-a5ff-008ab8e1e0a3",
   "metadata": {},
   "source": [
    "### Question 2\n",
    "\n",
    "- households with negative assets had an average of \\\\$15,528 in debt in 2002.\n",
    "- this mean was based on a random sample of 400 households\n",
    "- standard deviation of debts for households in this sample was \\\\$4,200.\n",
    "- 99% confidence interval for the 2002 mean debt for all these households.\n",
    "- Note: Take the z-score for 99% confidence as 2.576."
   ]
  },
  {
   "cell_type": "code",
   "execution_count": 17,
   "id": "81cbd810-3a57-4816-b8e1-7438b25d23e8",
   "metadata": {},
   "outputs": [],
   "source": [
    "avg_debt = 15_528\n",
    "n = 400\n",
    "sd = 4_200\n",
    "cl = 0.99\n",
    "z_score = 2.576"
   ]
  },
  {
   "cell_type": "code",
   "execution_count": 18,
   "id": "3c3897f7-72d5-40df-86a1-c68f60519015",
   "metadata": {},
   "outputs": [
    {
     "data": {
      "text/plain": [
       "(14987.075846254731, 16068.924153745269)"
      ]
     },
     "execution_count": 18,
     "metadata": {},
     "output_type": "execute_result"
    }
   ],
   "source": [
    "st.norm.interval(cl, loc=avg_debt, scale=sd/np.sqrt(n))"
   ]
  },
  {
   "cell_type": "code",
   "execution_count": null,
   "id": "ae77d0fb-5711-43a6-8fbc-23dbeaca3f30",
   "metadata": {},
   "outputs": [],
   "source": []
  }
 ],
 "metadata": {
  "kernelspec": {
   "display_name": "Python 3 (ipykernel)",
   "language": "python",
   "name": "python3"
  },
  "language_info": {
   "codemirror_mode": {
    "name": "ipython",
    "version": 3
   },
   "file_extension": ".py",
   "mimetype": "text/x-python",
   "name": "python",
   "nbconvert_exporter": "python",
   "pygments_lexer": "ipython3",
   "version": "3.10.11"
  }
 },
 "nbformat": 4,
 "nbformat_minor": 5
}
