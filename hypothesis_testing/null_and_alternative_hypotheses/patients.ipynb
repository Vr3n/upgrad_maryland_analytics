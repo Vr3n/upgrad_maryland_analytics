{
 "cells": [
  {
   "cell_type": "code",
   "execution_count": 13,
   "id": "60bce08c-903c-4cf9-a93f-dc437d37f131",
   "metadata": {},
   "outputs": [],
   "source": [
    "import numpy as np\n",
    "import pandas as pd\n",
    "import scipy.stats as st"
   ]
  },
  {
   "cell_type": "code",
   "execution_count": 14,
   "id": "b258d3b9-e3d1-4402-bc99-ff0e26897570",
   "metadata": {},
   "outputs": [],
   "source": [
    "df = pd.read_csv('patients.csv')"
   ]
  },
  {
   "cell_type": "code",
   "execution_count": 15,
   "id": "16c3b1b2-17d7-4bf7-95e3-38663278809f",
   "metadata": {},
   "outputs": [],
   "source": [
    "data_1 = df['group1'].values"
   ]
  },
  {
   "cell_type": "code",
   "execution_count": 16,
   "id": "ef069ddb-9813-4589-8673-9efa93a1c591",
   "metadata": {},
   "outputs": [],
   "source": [
    "data_2 = df['group2'].values"
   ]
  },
  {
   "cell_type": "code",
   "execution_count": 17,
   "id": "98144d0c-4473-42b0-afb7-bbc131c3e060",
   "metadata": {},
   "outputs": [
    {
     "data": {
      "text/plain": [
       "array([39, 47, 84, 82, 34, 53, 57, 64, 78, 82, 41, 51, 40, 77, 72, 70, 77,\n",
       "       60, 64, 63, 78, 57, 54, 78, 71, 45, 85, 40, 56, 80, 69, 50],\n",
       "      dtype=int64)"
      ]
     },
     "execution_count": 17,
     "metadata": {},
     "output_type": "execute_result"
    }
   ],
   "source": [
    "data_2"
   ]
  },
  {
   "cell_type": "code",
   "execution_count": 18,
   "id": "e587eba4-0815-43a1-b858-861e71f2cb17",
   "metadata": {},
   "outputs": [
    {
     "data": {
      "text/plain": [
       "array([48, 63, 55, 44, 52, 66, 65, 63, 52, 69, 36, 44, 38, 62, 43, 74, 75,\n",
       "       52, 50, 70, 64, 59, 50, 62, 59, 44, 50, 40, 36, 43, 60, 59],\n",
       "      dtype=int64)"
      ]
     },
     "execution_count": 18,
     "metadata": {},
     "output_type": "execute_result"
    }
   ],
   "source": [
    "data_1"
   ]
  },
  {
   "cell_type": "code",
   "execution_count": 19,
   "id": "61cc4acf-7e2a-4bd2-8567-788fedad8e83",
   "metadata": {},
   "outputs": [],
   "source": [
    "mu_1 = np.mean(data_1)"
   ]
  },
  {
   "cell_type": "code",
   "execution_count": 20,
   "id": "8f5ac632-85c9-4012-a7a8-e6fd62d4d8e3",
   "metadata": {},
   "outputs": [],
   "source": [
    "mu_2 = np.mean(data_2)"
   ]
  },
  {
   "cell_type": "code",
   "execution_count": 21,
   "id": "ad38492f-770a-4816-91dc-1e3a0406abfb",
   "metadata": {},
   "outputs": [],
   "source": [
    "t_statistic, p_value = st.ttest_ind(data_1, data_2)"
   ]
  },
  {
   "cell_type": "code",
   "execution_count": 22,
   "id": "7a48ba58-0f13-49e9-8444-7e9f62e74788",
   "metadata": {},
   "outputs": [
    {
     "data": {
      "text/plain": [
       "-2.334000275259489"
      ]
     },
     "execution_count": 22,
     "metadata": {},
     "output_type": "execute_result"
    }
   ],
   "source": [
    "t_statistic"
   ]
  },
  {
   "cell_type": "code",
   "execution_count": 23,
   "id": "8dc9592c-e6d5-4450-a211-0aa4092431eb",
   "metadata": {},
   "outputs": [
    {
     "data": {
      "text/plain": [
       "0.022851618673949407"
      ]
     },
     "execution_count": 23,
     "metadata": {},
     "output_type": "execute_result"
    }
   ],
   "source": [
    "p_value"
   ]
  },
  {
   "cell_type": "code",
   "execution_count": 24,
   "id": "a8b29850-8cbc-4b13-baea-30a3447e5b2c",
   "metadata": {},
   "outputs": [
    {
     "name": "stdout",
     "output_type": "stream",
     "text": [
      "T-test Statistic: -2.334000275259489\n",
      "P-value: 0.022851618673949407\n"
     ]
    }
   ],
   "source": [
    "print(f\"T-test Statistic: {t_statistic}\")\n",
    "print(f\"P-value: {p_value}\")"
   ]
  },
  {
   "cell_type": "code",
   "execution_count": 25,
   "id": "00c274e2-ceb7-4633-b6b3-c675b0ff324b",
   "metadata": {},
   "outputs": [
    {
     "name": "stdout",
     "output_type": "stream",
     "text": [
      "Reject the null hypothesis.\n"
     ]
    }
   ],
   "source": [
    "# Given significance level\n",
    "alpha = 0.05\n",
    "\n",
    "# Compare the p-value with the significance level\n",
    "if p_value < alpha:\n",
    "    print(\"Reject the null hypothesis.\")\n",
    "else:\n",
    "    print(\"Do not reject the null hypothesis.\")"
   ]
  },
  {
   "cell_type": "code",
   "execution_count": null,
   "id": "34f06330-50a7-4a53-88b5-591b94937bbf",
   "metadata": {},
   "outputs": [],
   "source": []
  }
 ],
 "metadata": {
  "kernelspec": {
   "display_name": "Python 3 (ipykernel)",
   "language": "python",
   "name": "python3"
  },
  "language_info": {
   "codemirror_mode": {
    "name": "ipython",
    "version": 3
   },
   "file_extension": ".py",
   "mimetype": "text/x-python",
   "name": "python",
   "nbconvert_exporter": "python",
   "pygments_lexer": "ipython3",
   "version": "3.10.11"
  }
 },
 "nbformat": 4,
 "nbformat_minor": 5
}
