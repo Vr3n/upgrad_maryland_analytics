{
 "cells": [
  {
   "cell_type": "code",
   "execution_count": 1,
   "id": "4f8f8caa-d643-4277-9f75-b2f27c9b4f02",
   "metadata": {},
   "outputs": [],
   "source": [
    "import pandas as pd\n",
    "import numpy as np\n",
    "import scipy.stats as st"
   ]
  },
  {
   "cell_type": "code",
   "execution_count": 2,
   "id": "ab6c0c0a-3152-4c66-a471-4fa061777848",
   "metadata": {},
   "outputs": [],
   "source": [
    "df = pd.read_csv('Commute_Time_tdist.csv')"
   ]
  },
  {
   "cell_type": "code",
   "execution_count": 5,
   "id": "cc4499e8-1253-47f6-964e-83ab86038c17",
   "metadata": {},
   "outputs": [],
   "source": [
    "day_1 = df['Day_1'].values\n",
    "day_2 = df['Day_2'].values"
   ]
  },
  {
   "cell_type": "code",
   "execution_count": 6,
   "id": "30f2ed77-b3ae-4c0c-985d-1a56fc29f9c1",
   "metadata": {},
   "outputs": [
    {
     "data": {
      "text/plain": [
       "array([27, 43, 34, 24, 31, 46, 44, 42, 32, 49, 16, 23, 18, 42, 23, 53, 54,\n",
       "       32, 30, 49, 44, 38, 29, 42, 38], dtype=int64)"
      ]
     },
     "execution_count": 6,
     "metadata": {},
     "output_type": "execute_result"
    }
   ],
   "source": [
    "day_1"
   ]
  },
  {
   "cell_type": "code",
   "execution_count": 7,
   "id": "9bb5ca5f-8496-4925-8aec-83a303bd60c8",
   "metadata": {},
   "outputs": [
    {
     "data": {
      "text/plain": [
       "array([23, 42, 39, 23, 37, 53, 44, 38, 30, 50, 12, 18, 24, 47, 26, 54, 58,\n",
       "       33, 34, 41, 41, 32, 32, 38, 31], dtype=int64)"
      ]
     },
     "execution_count": 7,
     "metadata": {},
     "output_type": "execute_result"
    }
   ],
   "source": [
    "day_2"
   ]
  },
  {
   "cell_type": "code",
   "execution_count": 9,
   "id": "bc51eef3-eae2-44fc-b4d2-6108b49b9c4b",
   "metadata": {},
   "outputs": [],
   "source": [
    "mean_1 = np.mean(day_1)\n",
    "mean_2 = np.mean(day_2)"
   ]
  },
  {
   "cell_type": "code",
   "execution_count": 23,
   "id": "33433c24-a94b-4921-aab8-08a3de28092a",
   "metadata": {},
   "outputs": [],
   "source": [
    "sd = st.sem(day_1) # standard error"
   ]
  },
  {
   "cell_type": "code",
   "execution_count": 26,
   "id": "a88a3ec9-94f3-4bfc-becd-7faa659590ff",
   "metadata": {},
   "outputs": [],
   "source": [
    "ci = st.t.interval(0.95, df=len(day_1) - 1, loc=mean_1, scale=sd)"
   ]
  },
  {
   "cell_type": "code",
   "execution_count": 27,
   "id": "6db1000e-2b48-4a98-8cc5-bffbcb682c46",
   "metadata": {},
   "outputs": [
    {
     "data": {
      "text/plain": [
       "(31.68010692650477, 40.559893073495225)"
      ]
     },
     "execution_count": 27,
     "metadata": {},
     "output_type": "execute_result"
    }
   ],
   "source": [
    "ci"
   ]
  },
  {
   "cell_type": "code",
   "execution_count": 28,
   "id": "c0cdd805-f977-4514-8c68-b2f81fd92f5f",
   "metadata": {},
   "outputs": [
    {
     "data": {
      "text/plain": [
       "2.151216709988404"
      ]
     },
     "execution_count": 28,
     "metadata": {},
     "output_type": "execute_result"
    }
   ],
   "source": [
    "sd"
   ]
  },
  {
   "cell_type": "code",
   "execution_count": null,
   "id": "c70fc82f-83bd-48d8-a089-3a00993f3b86",
   "metadata": {},
   "outputs": [],
   "source": []
  }
 ],
 "metadata": {
  "kernelspec": {
   "display_name": "Python 3 (ipykernel)",
   "language": "python",
   "name": "python3"
  },
  "language_info": {
   "codemirror_mode": {
    "name": "ipython",
    "version": 3
   },
   "file_extension": ".py",
   "mimetype": "text/x-python",
   "name": "python",
   "nbconvert_exporter": "python",
   "pygments_lexer": "ipython3",
   "version": "3.10.11"
  }
 },
 "nbformat": 4,
 "nbformat_minor": 5
}
