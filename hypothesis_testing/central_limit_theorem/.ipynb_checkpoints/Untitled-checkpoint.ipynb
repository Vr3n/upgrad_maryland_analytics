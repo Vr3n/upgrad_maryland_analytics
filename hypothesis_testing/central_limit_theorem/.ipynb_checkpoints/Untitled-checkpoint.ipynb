{
 "cells": [
  {
   "cell_type": "code",
   "execution_count": 1,
   "id": "096a1c14-2580-4f3f-bae3-05f40c9fd152",
   "metadata": {},
   "outputs": [],
   "source": [
    "import pandas as pd\n",
    "import numpy as np\n",
    "import scipy.stats as st"
   ]
  },
  {
   "cell_type": "code",
   "execution_count": 7,
   "id": "cb3b90ca-9bba-4167-9946-50739042a325",
   "metadata": {},
   "outputs": [],
   "source": [
    "n = 25\n",
    "df = n - 1\n",
    "sd = 12\n",
    "cl = 0.95\n",
    "sample_mean = 186"
   ]
  },
  {
   "cell_type": "code",
   "execution_count": 8,
   "id": "238ce4d1-2b3a-48b0-b2ef-ada4d0861310",
   "metadata": {},
   "outputs": [],
   "source": [
    "std_err = sd / np.sqrt(n)"
   ]
  },
  {
   "cell_type": "code",
   "execution_count": 9,
   "id": "19f92843-2990-4131-89b5-5fa8bd245688",
   "metadata": {},
   "outputs": [
    {
     "data": {
      "text/plain": [
       "(181.04664345209275, 190.95335654790725)"
      ]
     },
     "execution_count": 9,
     "metadata": {},
     "output_type": "execute_result"
    }
   ],
   "source": [
    "st.t.interval(cl, df=df, loc=sample_mean, scale=std_err)"
   ]
  },
  {
   "cell_type": "code",
   "execution_count": null,
   "id": "ac72f2b5-3538-4119-b1d3-9b5fb2c13882",
   "metadata": {},
   "outputs": [],
   "source": []
  }
 ],
 "metadata": {
  "kernelspec": {
   "display_name": "Python 3 (ipykernel)",
   "language": "python",
   "name": "python3"
  },
  "language_info": {
   "codemirror_mode": {
    "name": "ipython",
    "version": 3
   },
   "file_extension": ".py",
   "mimetype": "text/x-python",
   "name": "python",
   "nbconvert_exporter": "python",
   "pygments_lexer": "ipython3",
   "version": "3.10.11"
  }
 },
 "nbformat": 4,
 "nbformat_minor": 5
}
