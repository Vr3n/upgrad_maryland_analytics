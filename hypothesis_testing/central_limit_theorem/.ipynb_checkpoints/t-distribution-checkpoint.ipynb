{
 "cells": [
  {
   "cell_type": "code",
   "execution_count": 1,
   "id": "281b6ea5-52b8-4cd4-9811-a7ac6b58bb3d",
   "metadata": {},
   "outputs": [],
   "source": [
    "import numpy as np\n",
    "import scipy.stats as st"
   ]
  },
  {
   "cell_type": "code",
   "execution_count": 2,
   "id": "db9ad077-5afb-4b7e-8a47-2b020b249c8f",
   "metadata": {},
   "outputs": [],
   "source": [
    "data = [\n",
    "    45, 55, 67, 45, 68, 79, 98, 87, 84, 82,\n",
    "                67, 87, 45, 56, 67, 54, 67, 54, 53, 74\n",
    "]"
   ]
  },
  {
   "cell_type": "code",
   "execution_count": 3,
   "id": "5561500b-b0e4-41e3-9388-013ccd6bc750",
   "metadata": {},
   "outputs": [],
   "source": [
    "cl = 0.95 # confidence level\n",
    "degrees_freedom = len(data) - 1\n",
    "sample_mean = np.mean(data)\n",
    "sample_sde = st.sem(data) # sample standard error."
   ]
  },
  {
   "cell_type": "code",
   "execution_count": 5,
   "id": "2e9469bf-bb7f-44a1-8d8f-b726155906cf",
   "metadata": {},
   "outputs": [],
   "source": [
    "ci = st.t.interval(cl, df=degrees_freedom, loc=sample_mean, scale=sample_sde)"
   ]
  },
  {
   "cell_type": "code",
   "execution_count": 6,
   "id": "50b8acd7-345f-470c-9aad-141b9d346923",
   "metadata": {},
   "outputs": [
    {
     "data": {
      "text/plain": [
       "(59.32485447095253, 74.07514552904748)"
      ]
     },
     "execution_count": 6,
     "metadata": {},
     "output_type": "execute_result"
    }
   ],
   "source": [
    "ci"
   ]
  },
  {
   "cell_type": "code",
   "execution_count": null,
   "id": "6229ff59-ec8d-4890-b390-b5f9afadf419",
   "metadata": {},
   "outputs": [],
   "source": []
  }
 ],
 "metadata": {
  "kernelspec": {
   "display_name": "Python 3 (ipykernel)",
   "language": "python",
   "name": "python3"
  },
  "language_info": {
   "codemirror_mode": {
    "name": "ipython",
    "version": 3
   },
   "file_extension": ".py",
   "mimetype": "text/x-python",
   "name": "python",
   "nbconvert_exporter": "python",
   "pygments_lexer": "ipython3",
   "version": "3.10.11"
  }
 },
 "nbformat": 4,
 "nbformat_minor": 5
}
