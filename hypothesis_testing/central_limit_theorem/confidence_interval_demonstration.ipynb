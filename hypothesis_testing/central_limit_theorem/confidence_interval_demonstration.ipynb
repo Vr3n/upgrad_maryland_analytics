{
 "cells": [
  {
   "cell_type": "markdown",
   "id": "8dad693f-b72e-43b3-804e-4ea37c793f7c",
   "metadata": {},
   "source": [
    "## Confidence Interval in Python"
   ]
  },
  {
   "cell_type": "code",
   "execution_count": 1,
   "id": "0e1687b1-2f08-4409-96e5-7cad32efd059",
   "metadata": {},
   "outputs": [],
   "source": [
    "import numpy as np\n",
    "import scipy.stats as st"
   ]
  },
  {
   "cell_type": "code",
   "execution_count": 2,
   "id": "6a828fe2-64bd-4480-ba96-5293effee9ed",
   "metadata": {},
   "outputs": [],
   "source": [
    "sample_mean = 17.4\n",
    "standard_error = 0.59"
   ]
  },
  {
   "cell_type": "code",
   "execution_count": 3,
   "id": "f078c3b1-14c0-4bc6-92ee-72a3b1d2ca7f",
   "metadata": {},
   "outputs": [
    {
     "data": {
      "text/plain": [
       "(16.243621249121368, 18.55637875087863)"
      ]
     },
     "execution_count": 3,
     "metadata": {},
     "output_type": "execute_result"
    }
   ],
   "source": [
    "st.norm.interval(confidence=0.95, loc=sample_mean, scale=standard_error)"
   ]
  },
  {
   "cell_type": "code",
   "execution_count": null,
   "id": "01316ce4-8a92-40d9-9606-809718d93cdc",
   "metadata": {},
   "outputs": [],
   "source": []
  }
 ],
 "metadata": {
  "kernelspec": {
   "display_name": "Python 3 (ipykernel)",
   "language": "python",
   "name": "python3"
  },
  "language_info": {
   "codemirror_mode": {
    "name": "ipython",
    "version": 3
   },
   "file_extension": ".py",
   "mimetype": "text/x-python",
   "name": "python",
   "nbconvert_exporter": "python",
   "pygments_lexer": "ipython3",
   "version": "3.10.11"
  }
 },
 "nbformat": 4,
 "nbformat_minor": 5
}
