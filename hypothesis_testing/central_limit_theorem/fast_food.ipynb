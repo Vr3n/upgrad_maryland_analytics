{
 "cells": [
  {
   "cell_type": "code",
   "execution_count": 3,
   "id": "2ef0cb93-4053-4bbc-96e6-c37cd77ef66e",
   "metadata": {},
   "outputs": [],
   "source": [
    "import pandas as pd\n",
    "import scipy.stats as st\n",
    "import numpy as np\n",
    "import matplotlib.pyplot as plt"
   ]
  },
  {
   "cell_type": "code",
   "execution_count": 4,
   "id": "408ae754-21ac-4ad2-b9a5-729837508c01",
   "metadata": {},
   "outputs": [],
   "source": [
    "df = pd.read_csv('FastFoodSampleData.csv',header=0)"
   ]
  },
  {
   "cell_type": "code",
   "execution_count": 7,
   "id": "32857bac-2d64-4adf-adc2-9b4d3530f29f",
   "metadata": {},
   "outputs": [],
   "source": [
    "values = df.values"
   ]
  },
  {
   "cell_type": "code",
   "execution_count": 9,
   "id": "fbcfad21-6275-421a-b02e-60292d58ebc5",
   "metadata": {},
   "outputs": [],
   "source": [
    "time = values[:,1]\n",
    "satisfactory = values[:,2]"
   ]
  },
  {
   "cell_type": "code",
   "execution_count": 10,
   "id": "414cd483-ba31-4a90-9252-99a1036c98b0",
   "metadata": {},
   "outputs": [
    {
     "name": "stdout",
     "output_type": "stream",
     "text": [
      "49.766666666666666\n",
      "464.9122222222222\n",
      "21.561823258301285\n",
      "0.8\n",
      "0.16\n",
      "0.4\n"
     ]
    }
   ],
   "source": [
    "print(np.mean(time))\n",
    "print(np.var(time))\n",
    "print(np.std(time))\n",
    "print(np.mean(satisfactory))\n",
    "print(np.var(satisfactory))\n",
    "print(np.std(satisfactory))"
   ]
  },
  {
   "cell_type": "code",
   "execution_count": 12,
   "id": "c3276116-8b0c-4db4-b3cb-b568e3973f94",
   "metadata": {},
   "outputs": [],
   "source": [
    "ci = st.norm.interval(0.95, loc=np.mean(time), scale=st.sem(time))"
   ]
  },
  {
   "cell_type": "code",
   "execution_count": 13,
   "id": "ddec619f-3def-405b-962d-69c75543c45d",
   "metadata": {},
   "outputs": [
    {
     "data": {
      "text/plain": [
       "(41.91910794918783, 57.6142253841455)"
      ]
     },
     "execution_count": 13,
     "metadata": {},
     "output_type": "execute_result"
    }
   ],
   "source": [
    "ci"
   ]
  },
  {
   "cell_type": "code",
   "execution_count": 16,
   "id": "1af43ec8-e9ae-42fb-ae30-a01c29909d61",
   "metadata": {},
   "outputs": [],
   "source": [
    "pci = st.norm.interval(0.95, loc=np.mean(satisfactory), scale=st.sem(satisfactory))"
   ]
  },
  {
   "cell_type": "code",
   "execution_count": 17,
   "id": "00608247-64b7-4e53-ba82-14b5d378f140",
   "metadata": {},
   "outputs": [
    {
     "data": {
      "text/plain": [
       "(0.654417530030397, 0.945582469969603)"
      ]
     },
     "execution_count": 17,
     "metadata": {},
     "output_type": "execute_result"
    }
   ],
   "source": [
    "pci"
   ]
  },
  {
   "cell_type": "code",
   "execution_count": null,
   "id": "04cc8c3d-66b6-42ee-8cc6-003c89ea1ac3",
   "metadata": {},
   "outputs": [],
   "source": []
  }
 ],
 "metadata": {
  "kernelspec": {
   "display_name": "Python 3 (ipykernel)",
   "language": "python",
   "name": "python3"
  },
  "language_info": {
   "codemirror_mode": {
    "name": "ipython",
    "version": 3
   },
   "file_extension": ".py",
   "mimetype": "text/x-python",
   "name": "python",
   "nbconvert_exporter": "python",
   "pygments_lexer": "ipython3",
   "version": "3.10.11"
  }
 },
 "nbformat": 4,
 "nbformat_minor": 5
}
