{
 "cells": [
  {
   "cell_type": "code",
   "execution_count": 94,
   "id": "3077e325-d3fc-4b74-8576-fcc2d6e6b6c6",
   "metadata": {},
   "outputs": [],
   "source": [
    "import numpy as np\n",
    "import math\n",
    "import scipy.stats as st\n",
    "import seaborn as sns"
   ]
  },
  {
   "cell_type": "code",
   "execution_count": 32,
   "id": "0c35078b-f446-41c1-a676-0930e2640072",
   "metadata": {},
   "outputs": [],
   "source": [
    "p = 0.58\n",
    "n = 100\n",
    "confidence = 0.95\n",
    "sd = 0.496"
   ]
  },
  {
   "cell_type": "code",
   "execution_count": 33,
   "id": "0616e21f-ebc4-42c1-8ec9-3942986eda1c",
   "metadata": {},
   "outputs": [],
   "source": [
    "margin_of_error = (1.96 * 0.496)/math.sqrt(n)"
   ]
  },
  {
   "cell_type": "code",
   "execution_count": 34,
   "id": "b3a815f4-a3d5-4af4-a7e8-fc0d8c404022",
   "metadata": {},
   "outputs": [
    {
     "data": {
      "text/plain": [
       "9.7216"
      ]
     },
     "execution_count": 34,
     "metadata": {},
     "output_type": "execute_result"
    }
   ],
   "source": [
    "margin_of_error * 100"
   ]
  },
  {
   "cell_type": "code",
   "execution_count": 45,
   "id": "18679ad7-b365-4f94-adfb-c808d7c2b2fc",
   "metadata": {},
   "outputs": [],
   "source": [
    "standard_error = math.sqrt((p*(1-p))/n)"
   ]
  },
  {
   "cell_type": "code",
   "execution_count": 47,
   "id": "4710e1e3-f568-44cf-988e-bec2aec49ac3",
   "metadata": {},
   "outputs": [
    {
     "data": {
      "text/plain": [
       "0.04935585071701227"
      ]
     },
     "execution_count": 47,
     "metadata": {},
     "output_type": "execute_result"
    }
   ],
   "source": [
    "standard_error"
   ]
  },
  {
   "cell_type": "code",
   "execution_count": 57,
   "id": "65726b53-0842-4ca6-873e-fac466b9bc5c",
   "metadata": {},
   "outputs": [],
   "source": [
    "def get_ci(p, confidence, standard_error):\n",
    "    upper_bound = p + confidence * standard_error\n",
    "    lower_bound = p - confidence * standard_error\n",
    "\n",
    "    return (lower_bound, upper_bound)"
   ]
  },
  {
   "cell_type": "markdown",
   "id": "72b1cafc-b52c-47f6-bf31-ca8f182b12cc",
   "metadata": {},
   "source": [
    "## Exit poll confidence interval\n",
    "\n",
    "What is the 95% confidence interval for X, the proportion of people who voted for DefJam?"
   ]
  },
  {
   "cell_type": "code",
   "execution_count": 63,
   "id": "db499a91-faad-4dea-ab04-5df104593100",
   "metadata": {},
   "outputs": [],
   "source": [
    "defjam = get_ci(p, 1.96, standard_error)"
   ]
  },
  {
   "cell_type": "code",
   "execution_count": 59,
   "id": "c89fcd16-d2d5-48c2-b4d9-f9fd13c63689",
   "metadata": {},
   "outputs": [
    {
     "data": {
      "text/plain": [
       "(0.4832643101683205, 0.6767356898316794)"
      ]
     },
     "execution_count": 59,
     "metadata": {},
     "output_type": "execute_result"
    }
   ],
   "source": [
    "st.norm.interval(confidence=confidence, loc=p, scale=standard_error)"
   ]
  },
  {
   "cell_type": "markdown",
   "id": "adb0a6a8-091a-493c-a675-f3c478d46e30",
   "metadata": {},
   "source": [
    "## Exit poll confidence interval\n",
    "\n",
    "What is the 95% confidence interval for Y, the proportion of people who voted for DreamVille?"
   ]
  },
  {
   "cell_type": "code",
   "execution_count": 55,
   "id": "aa64c47d-2df0-4b10-96c9-8288260438ba",
   "metadata": {},
   "outputs": [],
   "source": [
    "p2 = 0.42\n",
    "sd2 = 0.496"
   ]
  },
  {
   "cell_type": "code",
   "execution_count": 60,
   "id": "e4f252d1-dd31-4e7a-8cbd-c5cb327a86cf",
   "metadata": {},
   "outputs": [],
   "source": [
    "se2 = math.sqrt((p2 * (1 - p2))/n)"
   ]
  },
  {
   "cell_type": "code",
   "execution_count": 72,
   "id": "7d027b21-13c7-4afa-ae1f-e50ccdea3035",
   "metadata": {},
   "outputs": [],
   "source": [
    "dreamville = get_ci(p2, 1.96, se2)"
   ]
  },
  {
   "cell_type": "code",
   "execution_count": 62,
   "id": "75f0d4ea-f1c6-4cda-9882-bfc752fac64d",
   "metadata": {},
   "outputs": [
    {
     "data": {
      "text/plain": [
       "(0.3232643101683205, 0.5167356898316794)"
      ]
     },
     "execution_count": 62,
     "metadata": {},
     "output_type": "execute_result"
    }
   ],
   "source": [
    "st.norm.interval(confidence=confidence, loc=p2, scale=se2)"
   ]
  },
  {
   "cell_type": "code",
   "execution_count": 92,
   "id": "0c3ad408-e9a3-4893-912f-aa910cbf26f9",
   "metadata": {},
   "outputs": [],
   "source": [
    "both_ci = ([(de * 100) for de in defjam], [dv * 100 for dv in dreamville])"
   ]
  },
  {
   "cell_type": "code",
   "execution_count": 93,
   "id": "45595e1c-c9c4-4639-b1ae-daf7bfdd90c2",
   "metadata": {},
   "outputs": [
    {
     "data": {
      "text/plain": [
       "([48.32625325946559, 67.6737467405344], [32.326253259465595, 51.6737467405344])"
      ]
     },
     "execution_count": 93,
     "metadata": {},
     "output_type": "execute_result"
    }
   ],
   "source": [
    "both_ci"
   ]
  },
  {
   "cell_type": "code",
   "execution_count": 96,
   "id": "c85494bd-d053-44be-8a00-28078925c65b",
   "metadata": {},
   "outputs": [
    {
     "data": {
      "image/png": "[encoded data removed]",
      "text/plain": [
       "<Figure size 640x480 with 1 Axes>"
      ]
     },
     "metadata": {},
     "output_type": "display_data"
    }
   ],
   "source": [
    "ax = sns.pointplot(data=both_ci)\n",
    "ax.grid()"
   ]
  },
  {
   "cell_type": "code",
   "execution_count": null,
   "id": "fba1485f-b6cc-40a7-9606-982808996728",
   "metadata": {},
   "outputs": [],
   "source": []
  }
 ],
 "metadata": {
  "kernelspec": {
   "display_name": "Python 3 (ipykernel)",
   "language": "python",
   "name": "python3"
  },
  "language_info": {
   "codemirror_mode": {
    "name": "ipython",
    "version": 3
   },
   "file_extension": ".py",
   "mimetype": "text/x-python",
   "name": "python",
   "nbconvert_exporter": "python",
   "pygments_lexer": "ipython3",
   "version": "3.10.11"
  }
 },
 "nbformat": 4,
 "nbformat_minor": 5
}
