{
 "cells": [
  {
   "cell_type": "markdown",
   "id": "01ca3983",
   "metadata": {},
   "source": [
    "# Task 1 - Data Preparation\n",
    "For this task, you will perform the following steps:\n",
    "- Load all the necessary packages for this exercise\n",
    "- Load the data"
   ]
  },
  {
   "cell_type": "code",
   "execution_count": null,
   "id": "e2af6b09",
   "metadata": {},
   "outputs": [],
   "source": [
    "# Import 'numpy' and 'pandas' to work with numbers and dataframes\n",
    "import numpy as np\n",
    "import pandas as pd\n",
    "\n",
    "# Import 'matplotlib.pyplot' and 'seaborn' for visualizations\n",
    "from matplotlib import pyplot as plt\n",
    "import seaborn as sns\n",
    "\n",
    "# Import 'apriori' and 'association_rules' from 'mlxtend' for working with association rules\n",
    "from mlxtend.frequent_patterns import apriori\n",
    "from mlxtend.frequent_patterns import association_rules"
   ]
  },
  {
   "cell_type": "code",
   "execution_count": null,
   "id": "dab04dbc",
   "metadata": {},
   "outputs": [],
   "source": [
    "# Load the data and take a look at it\n",
    "# Note: The data needs to be in binary matrix format\n",
    "df = pd.read_csv('supermarket_binarymat.csv', index_col = 'transID')\n",
    "df.head()"
   ]
  },
  {
   "cell_type": "code",
   "execution_count": null,
   "id": "aae95c98",
   "metadata": {},
   "outputs": [],
   "source": [
    "# Convert the data into the Boolean data type\n",
    "# Note: Converting data types to Boolean is not absolutely essential but it is computationally faster\n",
    "df = df.astype(bool)\n",
    "df.head()"
   ]
  },
  {
   "cell_type": "markdown",
   "id": "5b10121b",
   "metadata": {},
   "source": [
    "# Task 2 - Build a Collection of Frequent Itemsets\n",
    "For this task, you will generate a collections of frequent itemsets for a specific minimum support threshold value"
   ]
  },
  {
   "cell_type": "code",
   "execution_count": null,
   "id": "cb9aca2b",
   "metadata": {},
   "outputs": [],
   "source": [
    "# Obtain frequent itemsets for the data using the 'apriori()' method\n",
    "# Hint: Study the documentation of the 'apriori()' method\n",
    "# Hint: Set the 'min_support' parameter to 0.05\n",
    "# Note: Set the 'use_colnames' parameter to 'True'\n",
    "frequent_itemsets = ########## CODE HERE ##########\n",
    "frequent_itemsets"
   ]
  },
  {
   "cell_type": "markdown",
   "id": "825057ee",
   "metadata": {},
   "source": [
    "# Task 3 - Build and Analyze Association Rules\n",
    "For this task, you will explore the rules generated from the collection of itemsets for different performance metrics and threshold values"
   ]
  },
  {
   "cell_type": "code",
   "execution_count": null,
   "id": "5cad0289",
   "metadata": {},
   "outputs": [],
   "source": [
    "# Generate association rules for the collection of itemsets 'frequent_itemsets' using the 'association_rules()' method\n",
    "# Hint: Study the documentation of the 'association_rules()' method\n",
    "# Note: Use support as the metric and a minimum threshold of 0.05\n",
    "rules1 = ########## CODE HERE ##########\n",
    "rules1"
   ]
  },
  {
   "cell_type": "code",
   "execution_count": null,
   "id": "cfc72722",
   "metadata": {},
   "outputs": [],
   "source": [
    "# Generate association rules for the collection of itemsets 'frequent_itemsets' using the 'association_rules()' method\n",
    "# Hint: Study the documentation of the 'association_rules()' method\n",
    "# Note: Use confidence as the metric and a minimum threshold of 0.3\n",
    "rules2 = ########## CODE HERE ##########\n",
    "rules2"
   ]
  },
  {
   "cell_type": "code",
   "execution_count": null,
   "id": "ecfbacc9",
   "metadata": {},
   "outputs": [],
   "source": [
    "# Generate association rules for the collection of itemsets 'frequent_itemsets' using the 'association_rules()' method\n",
    "# Hint: Study the documentation of the 'association_rules()' method\n",
    "# Note: Use lift as the metric and a minimum threshold of 1.2\n",
    "rules3 = ########## CODE HERE ##########\n",
    "rules3"
   ]
  },
  {
   "cell_type": "markdown",
   "id": "30251cb2",
   "metadata": {},
   "source": [
    "# Task 4 - Identify Strong Rules\n",
    "For this task, you will perform the following steps:\n",
    "- Obtain a collection of rules that satisfy a minimum lift threshold\n",
    "  - Sort the selected collection of rules by support, confidence and lift and see which rules come up at the top\n",
    "  - Select rules with high support and confidence"
   ]
  },
  {
   "cell_type": "code",
   "execution_count": null,
   "id": "0bb4015d",
   "metadata": {},
   "outputs": [],
   "source": [
    "# Generate association rules for the collection of itemsets 'frequent_itemsets' using the 'association_rules()' method\n",
    "# Hint: Study the documentation of the 'association_rules()' method\n",
    "# Note: Use lift as the metric and a minimum threshold of 1.5\n",
    "rules4 = ########## CODE HERE ##########\n",
    "rules4"
   ]
  },
  {
   "cell_type": "code",
   "execution_count": null,
   "id": "d7c0d8a2",
   "metadata": {},
   "outputs": [],
   "source": [
    "# Sort the collection 'rules4' by 'support' using the 'sort_values()' method\n",
    "# Note: Set 'ascending' to 'False'\n",
    "rules4.########## CODE HERE ##########"
   ]
  },
  {
   "cell_type": "code",
   "execution_count": null,
   "id": "1b903ddb",
   "metadata": {},
   "outputs": [],
   "source": [
    "# Sort the collection 'rules4' by 'confidence' using the 'sort_values()' method\n",
    "# Note: Set 'ascending' to 'False'\n",
    "rules4.########## CODE HERE ##########"
   ]
  },
  {
   "cell_type": "code",
   "execution_count": null,
   "id": "d6b893ab",
   "metadata": {},
   "outputs": [],
   "source": [
    "# Sort the collection 'rules4' by 'lift' using the 'sort_values()' method\n",
    "# Note: Set 'ascending' to 'False'\n",
    "rules4.########## CODE HERE ##########"
   ]
  },
  {
   "cell_type": "code",
   "execution_count": null,
   "id": "13561fd7",
   "metadata": {},
   "outputs": [],
   "source": [
    "# Extract rules that have a support of more than 0.05 and a confidence of more than 0.4\n",
    "rules4[########## CODE HERE ##########]"
   ]
  },
  {
   "cell_type": "code",
   "execution_count": null,
   "id": "d1011257",
   "metadata": {},
   "outputs": [],
   "source": []
  }
 ],
 "metadata": {
  "kernelspec": {
   "display_name": "Python 3 (ipykernel)",
   "language": "python",
   "name": "python3"
  },
  "language_info": {
   "codemirror_mode": {
    "name": "ipython",
    "version": 3
   },
   "file_extension": ".py",
   "mimetype": "text/x-python",
   "name": "python",
   "nbconvert_exporter": "python",
   "pygments_lexer": "ipython3",
   "version": "3.9.12"
  }
 },
 "nbformat": 4,
 "nbformat_minor": 5
}
