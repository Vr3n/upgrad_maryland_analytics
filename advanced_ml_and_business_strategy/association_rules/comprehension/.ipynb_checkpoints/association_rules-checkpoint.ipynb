{
 "cells": [
  {
   "cell_type": "code",
   "execution_count": 1,
   "id": "74c24618-cfb7-4c2b-9a18-cb8a2416f77a",
   "metadata": {},
   "outputs": [],
   "source": [
    "import pandas as pd\n",
    "import numpy as np\n",
    "import seaborn as sns\n",
    "import matplotlib.pyplot as plt\n",
    "\n",
    "from mlxtend.frequent_patterns import apriori, association_rules"
   ]
  },
  {
   "cell_type": "code",
   "execution_count": null,
   "id": "26f215f6-05d0-4095-b000-6917d458f63f",
   "metadata": {},
   "outputs": [],
   "source": [
    "pd.DataFrame({\n",
    "    'ID': [1, 2, 3, 4, 5],\n",
    "    'Pens': [1, 0, 0, 1, 1],\n",
    "    'Crayons': [1, 0, 1, 0, 1],\n",
    "    'Paper Sheets': [1, 0, 1, 1, 1],\n",
    "    'Notebooks': [0, 1, 1, 0, 0],\n",
    "    'Erasers': [0, 1, 0, 0, 0]\n",
    "})"
   ]
  }
 ],
 "metadata": {
  "kernelspec": {
   "display_name": "Python 3 (ipykernel)",
   "language": "python",
   "name": "python3"
  },
  "language_info": {
   "codemirror_mode": {
    "name": "ipython",
    "version": 3
   },
   "file_extension": ".py",
   "mimetype": "text/x-python",
   "name": "python",
   "nbconvert_exporter": "python",
   "pygments_lexer": "ipython3",
   "version": "3.11.8"
  }
 },
 "nbformat": 4,
 "nbformat_minor": 5
}
