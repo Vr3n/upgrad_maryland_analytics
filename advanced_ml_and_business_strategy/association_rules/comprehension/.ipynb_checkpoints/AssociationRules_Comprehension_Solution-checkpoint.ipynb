{
 "cells": [
  {
   "cell_type": "markdown",
   "id": "01ca3983",
   "metadata": {},
   "source": [
    "# Task 1 - Data Preparation\n",
    "For this task, you will perform the following steps:\n",
    "- Load all the necessary packages for this exercise\n",
    "- Load the data"
   ]
  },
  {
   "cell_type": "code",
   "execution_count": null,
   "id": "e2af6b09",
   "metadata": {},
   "outputs": [],
   "source": [
    "# Import 'numpy' and 'pandas' to work with numbers and dataframes\n",
    "import numpy as np\n",
    "import pandas as pd\n",
    "\n",
    "# Import 'matplotlib.pyplot' and 'seaborn' for visualizations\n",
    "from matplotlib import pyplot as plt\n",
    "import seaborn as sns\n",
    "\n",
    "# Import 'apriori' and 'association_rules' from 'mlxtend' for working with association rules\n",
    "from mlxtend.frequent_patterns import apriori\n",
    "from mlxtend.frequent_patterns import association_rules"
   ]
  },
  {
   "cell_type": "code",
   "execution_count": null,
   "id": "dab04dbc",
   "metadata": {},
   "outputs": [],
   "source": [
    "# Load the data and take a look at it\n",
    "# Note: The data needs to be in binary matrix format\n",
    "df = pd.read_csv('supermarket_binarymat.csv', index_col = 'transID')\n",
    "df.head()"
   ]
  },
  {
   "cell_type": "code",
   "execution_count": null,
   "id": "aae95c98",
   "metadata": {},
   "outputs": [],
   "source": [
    "# Convert the data into the Boolean data type\n",
    "# Note: Converting data types to Boolean is not absolutely essential but it is computationally faster\n",
    "df = df.astype(bool)\n",
    "df.head()"
   ]
  },
  {
   "cell_type": "markdown",
   "id": "5b10121b",
   "metadata": {},
   "source": [
    "# Task 2 - Build and Analyze Frequent Itemsets\n",
    "For this task, you will perform the following steps:\n",
    "- Generate collections of frequent itemsets for different minimum support threshold values\n",
    "  - Analyze how the number of itemsets in these collections varies as the minimum support threshold is altered\n",
    "  - Analyze how the mean support of the itemsets in these collections varies as the minimum support threshold is increased\n",
    "  - Choose a single collection of itemsets on which to build rules"
   ]
  },
  {
   "cell_type": "code",
   "execution_count": null,
   "id": "b0cd5f8d",
   "metadata": {},
   "outputs": [],
   "source": [
    "# Obtain frequent itemsets for the data using the 'apriori()' method\n",
    "# Hint: Study the documentation of the 'apriori()' method\n",
    "# Hint: Set the 'min_support' parameter to 0.01\n",
    "# Note: Set the 'use_colnames' parameter to 'True'\n",
    "frequent_itemsets1 = apriori(df, min_support = 0.01, use_colnames = True)\n",
    "frequent_itemsets1"
   ]
  },
  {
   "cell_type": "code",
   "execution_count": null,
   "id": "3846c016",
   "metadata": {},
   "outputs": [],
   "source": [
    "# Find the number of itemsets in 'frequent_itemsets1' using the 'len()' method\n",
    "len(frequent_itemsets1)"
   ]
  },
  {
   "cell_type": "code",
   "execution_count": null,
   "id": "cb9aca2b",
   "metadata": {},
   "outputs": [],
   "source": [
    "# Obtain frequent itemsets for the data using the 'apriori()' method\n",
    "# Hint: Study the documentation of the 'apriori()' method\n",
    "# Hint: Set the 'min_support' parameter to 0.05\n",
    "# Note: Set the 'use_colnames' parameter to 'True'\n",
    "frequent_itemsets2 = apriori(df, min_support = 0.05, use_colnames = True)\n",
    "frequent_itemsets2"
   ]
  },
  {
   "cell_type": "code",
   "execution_count": null,
   "id": "7778da71",
   "metadata": {},
   "outputs": [],
   "source": [
    "# Find the number of itemsets in 'frequent_itemsets2' using the 'len()' method\n",
    "len(frequent_itemsets2)"
   ]
  },
  {
   "cell_type": "code",
   "execution_count": null,
   "id": "393d204b",
   "metadata": {},
   "outputs": [],
   "source": [
    "# Obtain frequent itemsets for the data using the 'apriori()' method\n",
    "# Hint: Study the documentation of the 'apriori()' method\n",
    "# Hint: Set the 'min_support' parameter to 0.1\n",
    "# Note: Set the 'use_colnames' parameter to 'True'\n",
    "frequent_itemsets3 = apriori(df, min_support = 0.1, use_colnames = True)\n",
    "frequent_itemsets3"
   ]
  },
  {
   "cell_type": "code",
   "execution_count": null,
   "id": "0815a9f8",
   "metadata": {},
   "outputs": [],
   "source": [
    "# Find the number of itemsets in 'frequent_itemsets3' using the 'len()' method\n",
    "len(frequent_itemsets3)"
   ]
  },
  {
   "cell_type": "code",
   "execution_count": null,
   "id": "b709fb36",
   "metadata": {},
   "outputs": [],
   "source": [
    "# Obtain collections of itemsets from the data for different values of 'min_support' using the 'apriori()' method\n",
    "\n",
    "# Declare the list of minimum support values to iterate over\n",
    "suplist = np.arange(0.01, 1, 0.01)\n",
    "\n",
    "# Initiate lists to store the different collections of itemsets, the number of itemsets in each collection, and the mean support of the itemsets in each collection\n",
    "itemsetcollections = []\n",
    "nitemsets = []\n",
    "meansuplist = []\n",
    "\n",
    "# Iterate over the list of minimum support threshold values\n",
    "# Hint: The 'min_support' parameter for the 'apriori()' method should be set to the current value of minimum support threshold\n",
    "for supvalue in suplist:\n",
    "    tempitemsetcollection = apriori(df, min_support = supvalue, use_colnames = True)\n",
    "    \n",
    "    # Store the current collection of itemsets in the list 'itemsetcollections'\n",
    "    itemsetcollections.append(tempitemsetcollection)\n",
    "    \n",
    "    # Store the number of itemsets in the current collection of itemsets in the list 'nitemsets'\n",
    "    nitemsets.append(len(tempitemsetcollection))\n",
    "    \n",
    "    # Store the mean support of the itemsets in the current collection of itemsets in the list 'meansuplist'\n",
    "    meansuplist.append(tempitemsetcollection['support'].mean())\n",
    "\n",
    "# Create and display a data frame that shows various attributes of the collections of itemsets for different values of minimum support\n",
    "itemsetsummary = pd.DataFrame(data = {'minimum support': suplist,\n",
    "                                      'number of itemsets': nitemsets,\n",
    "                                      'mean support': meansuplist})\n",
    "\n",
    "# Fill missing values in the data frame with 0\n",
    "# Note: If the number of itemsets in a collection is 0, then the mean support is 0 for all practical purposes\n",
    "itemsetsummary.fillna(0, inplace = True)\n",
    "itemsetsummary"
   ]
  },
  {
   "cell_type": "code",
   "execution_count": null,
   "id": "660f0b0e",
   "metadata": {},
   "outputs": [],
   "source": [
    "# Visualize how the collections of itemsets vary as the minimum support threshold is increased\n",
    "plt.figure(figsize = (16, 8))\n",
    "plt.subplot(2, 2, 1)\n",
    "sns.lineplot(data = itemsetsummary,\n",
    "             x = itemsetsummary['minimum support'].apply(lambda x: np.round(x, 2)),\n",
    "             y = 'number of itemsets',\n",
    "             color = 'red')\n",
    "plt.title('Number of Itemsets per Collection as a Function of Minimum Support')\n",
    "plt.subplot(2, 2, 2)\n",
    "sns.lineplot(data = itemsetsummary,\n",
    "             x = itemsetsummary['minimum support'].apply(lambda x: np.round(x, 2)),\n",
    "             y = 'mean support',\n",
    "             color = 'blue')\n",
    "plt.title('Mean Support of Itemsets per Collection as a Function of Minimum Support');"
   ]
  },
  {
   "cell_type": "code",
   "execution_count": null,
   "id": "42b683cb",
   "metadata": {},
   "outputs": [],
   "source": [
    "# Obtain all the collections of itemsets that have at least 10 itemsets and whose mean support per collection is at least 0.05\n",
    "itemsetcollectionsfinal = []\n",
    "i = -1\n",
    "for supvalue in suplist:\n",
    "    i = i + 1\n",
    "    if (nitemsets[i] >= 10) & (meansuplist[i] >= 0.05):\n",
    "        itemsetcollectionsfinal.append(itemsetcollections[i])"
   ]
  },
  {
   "cell_type": "code",
   "execution_count": null,
   "id": "0ace04b1",
   "metadata": {},
   "outputs": [],
   "source": [
    "# Check the number of collections of itemsets that satisfy these requirements\n",
    "len(itemsetcollectionsfinal)"
   ]
  },
  {
   "cell_type": "code",
   "execution_count": null,
   "id": "b7abdc93",
   "metadata": {},
   "outputs": [],
   "source": [
    "# Select and view the first collection of itemsets that has the maximum number of itemsets\n",
    "# Hint: The number of itemsets per collection decreases monotonically as the minimum support threshold is increased\n",
    "itemsetcollectionfinal = itemsetcollectionsfinal[0]\n",
    "itemsetcollectionfinal"
   ]
  },
  {
   "cell_type": "markdown",
   "id": "825057ee",
   "metadata": {},
   "source": [
    "# Task 3 - Build and Analyze Association Rules\n",
    "For this task, you will perform the following steps:\n",
    "- Explore the rules generated from the selected collection of itemsets for different performance metrics and threshold values\n",
    "- Generate association rule sets from the selected collection of itemsets for different minimum lift threshold values\n",
    "  - Analyze how the number of rules in these collections varies as the minimum lift threshold is increased\n",
    "  - Analyze how the mean support, mean confidence and mean lift ratio of the rules in these collections vary as the minimum lift threshold is increased\n",
    "  - Choose a single collection of rules from which strong rules can be extracted"
   ]
  },
  {
   "cell_type": "code",
   "execution_count": null,
   "id": "62637ae6",
   "metadata": {},
   "outputs": [],
   "source": [
    "# Generate association rules for the collection of itemsets 'itemsetcollectionfinal' using the 'association_rules()' method\n",
    "# Hint: Study the documentation of the 'association_rules()' method\n",
    "# Note: Keep the default values for the 'metric' and the 'min_threshold' parameters\n",
    "rules1 = association_rules(itemsetcollectionfinal)\n",
    "rules1.head()"
   ]
  },
  {
   "cell_type": "code",
   "execution_count": null,
   "id": "e195eb41",
   "metadata": {},
   "outputs": [],
   "source": [
    "# Find the number of rules in 'rules1' using the 'len()' method\n",
    "len(rules1)"
   ]
  },
  {
   "cell_type": "code",
   "execution_count": null,
   "id": "5cad0289",
   "metadata": {},
   "outputs": [],
   "source": [
    "# Generate association rules for the collection of itemsets 'itemsetcollectionfinal' using the 'association_rules()' method\n",
    "# Hint: Study the documentation of the 'association_rules()' method\n",
    "# Note: Use support as the metric and a minimum threshold of 0.05\n",
    "rules2 = association_rules(itemsetcollectionfinal, metric = 'support', min_threshold = 0.05)\n",
    "rules2.head()"
   ]
  },
  {
   "cell_type": "code",
   "execution_count": null,
   "id": "0110b8e8",
   "metadata": {},
   "outputs": [],
   "source": [
    "# Find the number of rules in 'rules2' using the 'len()' method\n",
    "len(rules2)"
   ]
  },
  {
   "cell_type": "code",
   "execution_count": null,
   "id": "cfc72722",
   "metadata": {},
   "outputs": [],
   "source": [
    "# Generate association rules for the collection of itemsets 'itemsetcollectionfinal' using the 'association_rules()' method\n",
    "# Hint: Study the documentation of the 'association_rules()' method\n",
    "# Note: Use confidence as the metric and a minimum threshold of 0.25\n",
    "rules3 = association_rules(itemsetcollectionfinal, metric = 'confidence', min_threshold = 0.25)\n",
    "rules3.head()"
   ]
  },
  {
   "cell_type": "code",
   "execution_count": null,
   "id": "ea228c20",
   "metadata": {},
   "outputs": [],
   "source": [
    "# Find the number of rules in 'rules3' using the 'len()' method\n",
    "len(rules3)"
   ]
  },
  {
   "cell_type": "code",
   "execution_count": null,
   "id": "ecfbacc9",
   "metadata": {},
   "outputs": [],
   "source": [
    "# Generate association rules for the collection of itemsets 'itemsetcollectionfinal' using the 'association_rules()' method\n",
    "# Hint: Study the documentation of the 'association_rules()' method\n",
    "# Note: Use lift as the metric and a minimum threshold of 1.5\n",
    "rules4 = association_rules(itemsetcollectionfinal, metric = 'lift', min_threshold = 1.5)\n",
    "rules4.head()"
   ]
  },
  {
   "cell_type": "code",
   "execution_count": null,
   "id": "4dc59c60",
   "metadata": {},
   "outputs": [],
   "source": [
    "# Find the number of rules in 'rules4' using the 'len()' method\n",
    "len(rules4)"
   ]
  },
  {
   "cell_type": "code",
   "execution_count": null,
   "id": "d8c853d7",
   "metadata": {},
   "outputs": [],
   "source": [
    "# Look at the basic summary statistics of the ruleset 'rules2' using the 'describe()' method\n",
    "rules2.describe().transpose()"
   ]
  },
  {
   "cell_type": "code",
   "execution_count": null,
   "id": "40cd4900",
   "metadata": {},
   "outputs": [],
   "source": [
    "# Look at the basic summary statistics of the ruleset 'rules3' using the 'describe()' method\n",
    "rules3.describe().transpose()"
   ]
  },
  {
   "cell_type": "code",
   "execution_count": null,
   "id": "106cb972",
   "metadata": {},
   "outputs": [],
   "source": [
    "# Look at the basic summary statistics of the ruleset 'rules4' using the 'describe()' method\n",
    "rules4.describe().transpose()"
   ]
  },
  {
   "cell_type": "code",
   "execution_count": null,
   "id": "fb592b74",
   "metadata": {},
   "outputs": [],
   "source": [
    "# Obtain collections of rules from 'itemsetcollectionfinal' for different values of minimum lift using the 'association_rules()' method\n",
    "\n",
    "# Declare the list of minimum lift values to iterate over\n",
    "liftlist = np.arange(0, 2, 0.05)\n",
    "\n",
    "# Initiate lists to store the different collections of rules, the number of rules in each collection, and the mean support, the mean confidence, and the mean lift ratio of the rules in each collection\n",
    "rulesets = []\n",
    "nrules = []\n",
    "meansuplist = []\n",
    "meanconflist = []\n",
    "meanliftlist = []\n",
    "\n",
    "# Iterate over the list of minimum lift threshold values\n",
    "# Note: Use lift as the metric\n",
    "# Hint: The 'min_threshold' parameter for the 'association_rules()' method should be set to the current value of minimum lift threshold\n",
    "for liftvalue in liftlist:\n",
    "    tempruleset = association_rules(itemsetcollectionfinal, metric = 'lift', min_threshold = liftvalue)\n",
    "    \n",
    "    # Store the current collection of rules in the list 'rulesets'\n",
    "    rulesets.append(tempruleset)\n",
    "    \n",
    "    # Store the number of rules in the current collection of rules in the list 'nrules'\n",
    "    nrules.append(len(tempruleset))\n",
    "    \n",
    "    # Store the mean support of the rules in the current collection of rules in the list 'meansuplist'\n",
    "    meansuplist.append(tempruleset['support'].mean())\n",
    "    \n",
    "    # Store the mean confidence of the rules in the current collection of rules in the list 'meanconflist'\n",
    "    meanconflist.append(tempruleset['confidence'].mean())\n",
    "    \n",
    "    # Store the mean lift ratio of the rules in the current collection of rules in the list 'meanliftlist'\n",
    "    meanliftlist.append(tempruleset['lift'].mean())\n",
    "\n",
    "# Create and display a data frame that shows various attributes of the collections of rules for different values of minimum lift\n",
    "rulesetsummary = pd.DataFrame(data = {'minimum lift': liftlist,\n",
    "                                      'number of rules': nrules,\n",
    "                                      'mean support': meansuplist,\n",
    "                                      'mean confidence': meanconflist,\n",
    "                                      'mean lift': meanliftlist})\n",
    "\n",
    "# Fill missing values in the data frame with 0\n",
    "# Note: If the number of rules in a collection is 0, then the mean support, confidence, and lift are 0 for all practical purposes\n",
    "rulesetsummary.fillna(0, inplace = True)\n",
    "rulesetsummary"
   ]
  },
  {
   "cell_type": "code",
   "execution_count": null,
   "id": "038c325f",
   "metadata": {},
   "outputs": [],
   "source": [
    "# Visualize how the collections of rules vary as the minimum lift threshold is increased\n",
    "plt.figure(figsize = (16, 8))\n",
    "plt.subplot(2, 2, 1)\n",
    "sns.lineplot(data = rulesetsummary,\n",
    "             x = rulesetsummary['minimum lift'].apply(lambda x: np.round(x, 2)),\n",
    "             y = 'number of rules',\n",
    "             color = 'red')\n",
    "plt.title('Number of Rules per Collection as a Function of Minimum Lift')\n",
    "plt.subplot(2, 2, 2)\n",
    "sns.lineplot(data = rulesetsummary,\n",
    "             x = rulesetsummary['minimum lift'].apply(lambda x: np.round(x, 2)),\n",
    "             y = 'mean support',\n",
    "             color = 'blue')\n",
    "plt.title('Mean Support of Rules per Collection as a Function of Minimum Lift')\n",
    "plt.subplot(2, 2, 3)\n",
    "sns.lineplot(data = rulesetsummary,\n",
    "             x = rulesetsummary['minimum lift'].apply(lambda x: np.round(x, 2)),\n",
    "             y = 'mean confidence',\n",
    "             color = 'green')\n",
    "plt.title('Mean Confidence of Rules per Collection as a Function of Minimum Lift')\n",
    "plt.subplot(2, 2, 4)\n",
    "sns.lineplot(data = rulesetsummary,\n",
    "             x = rulesetsummary['minimum lift'].apply(lambda x: np.round(x, 2)),\n",
    "             y = 'mean lift',\n",
    "             color = 'orange')\n",
    "plt.title('Mean Lift Ratio of Rules per Collection as a Function of Minimum Lift')\n",
    "plt.tight_layout();"
   ]
  },
  {
   "cell_type": "code",
   "execution_count": null,
   "id": "bb801fd2",
   "metadata": {},
   "outputs": [],
   "source": [
    "# Obtain all the collections of rules that have at least 20 rules, whose mean support per collection is at least 0.04, whose mean confidence per collection is at least 0.2, and whose mean lift ratio per collection is at least 1.6\n",
    "rulesetsfinal = []\n",
    "i = -1\n",
    "for liftvalue in liftlist:\n",
    "    i = i + 1\n",
    "    if (nrules[i] >= 20) & (meansuplist[i] >= 0.04) & (meanconflist[i] >= 0.2) & (meanliftlist[i] >= 1.6):\n",
    "        rulesetsfinal.append(rulesets[i])"
   ]
  },
  {
   "cell_type": "code",
   "execution_count": null,
   "id": "6801da32",
   "metadata": {},
   "outputs": [],
   "source": [
    "# Check the number of collections of rules that satisfy these requirements\n",
    "len(rulesetsfinal)"
   ]
  },
  {
   "cell_type": "code",
   "execution_count": null,
   "id": "c78b8f97",
   "metadata": {},
   "outputs": [],
   "source": [
    "# Select and view the first collection of rules that has the maximum number of rules\n",
    "# Hint: The number of rules per collection decreases monotonically as the minimum lift threshold is increased\n",
    "rulesetfinal = rulesetsfinal[0]\n",
    "rulesetfinal"
   ]
  },
  {
   "cell_type": "markdown",
   "id": "30251cb2",
   "metadata": {},
   "source": [
    "# Task 4 - Identify Strong Rules\n",
    "For this task, you will perform the following steps:\n",
    "- Sort the selected collection of rules by support, confidence and lift and see which rules come up at the top\n",
    "- Visualize the strengths of the rules using a scatter plot\n",
    "- Select rules with high support, confidence and lift"
   ]
  },
  {
   "cell_type": "code",
   "execution_count": null,
   "id": "d7c0d8a2",
   "metadata": {},
   "outputs": [],
   "source": [
    "# Sort the collection 'rulesetfinal' by 'support' using the 'sort_values()' method\n",
    "# Note: Set 'ascending' to 'False'\n",
    "rulesetfinal.sort_values(by = 'support', ascending = False).head()"
   ]
  },
  {
   "cell_type": "code",
   "execution_count": null,
   "id": "1b903ddb",
   "metadata": {},
   "outputs": [],
   "source": [
    "# Sort the collection 'rulesetfinal' by 'confidence' using the 'sort_values()' method\n",
    "# Note: Set 'ascending' to 'False'\n",
    "rulesetfinal.sort_values(by = 'confidence', ascending = False).head()"
   ]
  },
  {
   "cell_type": "code",
   "execution_count": null,
   "id": "d6b893ab",
   "metadata": {},
   "outputs": [],
   "source": [
    "# Sort the collection 'rulesetfinal' by 'lift' using the 'sort_values()' method\n",
    "# Note: Set 'ascending' to 'False'\n",
    "rulesetfinal.sort_values(by = 'lift', ascending = False).head()"
   ]
  },
  {
   "cell_type": "code",
   "execution_count": null,
   "id": "067782d8",
   "metadata": {},
   "outputs": [],
   "source": [
    "# Visualize the strengths of the rules in the collection 'rulesetfinal'\n",
    "plt.figure(figsize = (8, 6))\n",
    "sns.scatterplot(data = rulesetfinal, x = 'support', y = 'confidence', hue = 'lift', palette = 'Oranges')\n",
    "plt.legend(bbox_to_anchor = (1.15, 1), title = 'Lift')\n",
    "plt.grid();"
   ]
  },
  {
   "cell_type": "code",
   "execution_count": null,
   "id": "7ac0ac49",
   "metadata": {},
   "outputs": [],
   "source": [
    "# Target the rules that have high values of both support and confidence\n",
    "plt.figure(figsize = (8, 6))\n",
    "sns.scatterplot(data = rulesetfinal, x = 'support', y = 'confidence', hue = 'lift', palette = 'Oranges')\n",
    "plt.vlines(x = 0.04, ymin = 0.4, ymax = 0.5, colors = 'red', linestyles = '--')\n",
    "plt.hlines(y = 0.4, xmin = 0.04, xmax = 0.06, colors = 'red', linestyles = '--')\n",
    "plt.vlines(x = 0.06, ymin = 0.4, ymax = 0.5, colors = 'red', linestyles = '--')\n",
    "plt.hlines(y = 0.5, xmin = 0.04, xmax = 0.06, colors = 'red', linestyles = '--')\n",
    "plt.legend(bbox_to_anchor = (1.15, 1), title = 'Lift')\n",
    "plt.grid();"
   ]
  },
  {
   "cell_type": "code",
   "execution_count": null,
   "id": "56d9de83",
   "metadata": {},
   "outputs": [],
   "source": [
    "# Extract rules that have a support of more than 0.04 and a confidence of more than 0.4\n",
    "rulesetfinal[(rulesetfinal['support'] > 0.04) & (rulesetfinal['confidence'] > 0.4)]"
   ]
  },
  {
   "cell_type": "code",
   "execution_count": null,
   "id": "13561fd7",
   "metadata": {},
   "outputs": [],
   "source": [
    "# Extract rules that have a support of more than 0.04, a confidence of more than 0.4 and a lift ratio of more than 1.75\n",
    "rulesetfinal[(rulesetfinal['support'] > 0.04) & (rulesetfinal['confidence'] > 0.4) & (rulesetfinal['lift'] > 1.75)]"
   ]
  },
  {
   "cell_type": "code",
   "execution_count": null,
   "id": "ccc9c67c",
   "metadata": {},
   "outputs": [],
   "source": [
    "# Extract rules which contain the antecedent 'root vegetables'\n",
    "rulesetfinal[rulesetfinal['antecedents'] == {'root vegetables'}]"
   ]
  },
  {
   "cell_type": "code",
   "execution_count": null,
   "id": "d1011257",
   "metadata": {},
   "outputs": [],
   "source": []
  }
 ],
 "metadata": {
  "kernelspec": {
   "display_name": "Python 3 (ipykernel)",
   "language": "python",
   "name": "python3"
  },
  "language_info": {
   "codemirror_mode": {
    "name": "ipython",
    "version": 3
   },
   "file_extension": ".py",
   "mimetype": "text/x-python",
   "name": "python",
   "nbconvert_exporter": "python",
   "pygments_lexer": "ipython3",
   "version": "3.9.12"
  }
 },
 "nbformat": 4,
 "nbformat_minor": 5
}
