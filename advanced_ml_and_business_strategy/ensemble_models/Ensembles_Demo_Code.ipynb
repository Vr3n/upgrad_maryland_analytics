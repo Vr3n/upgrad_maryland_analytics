{
 "cells": [
  {
   "cell_type": "markdown",
   "metadata": {
    "id": "xdKzDBtRUXSy"
   },
   "source": [
    "# Part 1 - Introduction and Data Description\n",
    "\n",
    "For this demonstration, we will use a bank marketing data set. A bank ran a marketing campaign in the past and has obtained data pertaining to nearly 45,000 customers, which includes variables such as their age, jobs, bank balance, education, loan status and so on. The bank wants to develop its future strategies based on the insights that it drew from the previous campaign and improve for the next campaign so that more customers agree to open term deposits with the bank.\n",
    "\n",
    "Here, ***y*** (whether the customer wishes to open a deposit or not) is the target variable. A ***yes*** in the ***y*** column indicates that the campaign was successful and the customer agreed to open a term deposit account with the bank. In contrast, a ***no*** in the ***y*** column indicates that the campaign was not very successful and the customer could not be convinced to open a term deposit account.\n",
    "\n",
    "The purpose of this demonstration is to show the learner how to build and implement random forest models and gradient boosted tree models for classification. We will also look at how model performance varies for different values of various hyperparameters.\n",
    "\n",
    "## Data description\n",
    "\n",
    "### Input features\n",
    "- ***age*** : Age of the customer (numeric)\n",
    "- ***job*** : Type of job (categorical)\n",
    "- ***marital*** : Marital status (categorical)\n",
    "- ***education***: Level of education (categorical)\n",
    "- ***default***: Does the customer have a credit default or not? (categorical: *no*, *yes*, *unknown*)\n",
    "- ***balance***: Bank balance of the customer (numeric)\n",
    "- ***housing***: Does the customer have a housing loan or not? (categorical: *no*, *yes*, *unknown*)\n",
    "- ***loan***: Does the customer have a personal loan or not? (categorical: *no*, *yes*, *unknown*)\n",
    "- ***contact***: Contact communication type (categorical)\n",
    "- ***day***: Last contact day of the week (categorical)\n",
    "- ***month***: Last contact month of year (categorical)\n",
    "- ***duration***: Last contact duration, in seconds (numeric)\n",
    "- ***campaign***: Number of contacts performed during this campaign and for this client (numeric, includes last contact)\n",
    "- ***pdays***: Number of days that passed by after the client was last contacted from a previous campaign (numeric)\n",
    "- ***previous***: Number of contacts performed before this campaign and for this client (numeric)\n",
    "- ***poutcome***: Outcome of the previous marketing campaign (categorical)\n",
    "\n",
    "### Output feature\n",
    "- ***y***: Has the client subscribed a term deposit? (categorical: ***yes***, ***no***)"
   ]
  },
  {
   "cell_type": "code",
   "execution_count": 5,
   "metadata": {
    "id": "4ViPVs4sOxQQ"
   },
   "outputs": [],
   "source": [
    "# Import 'numpy' and 'pandas' for working with numbers and data frames\n",
    "import numpy as np\n",
    "import pandas as pd\n",
    "\n",
    "# Import 'matplotlib.pyplot' and 'seaborn' for visualizations\n",
    "from matplotlib import pyplot as plt\n",
    "import seaborn as sns\n",
    "\n",
    "# Import packages for building ensemble models\n",
    "from sklearn.ensemble import RandomForestClassifier\n",
    "from lightgbm import LGBMClassifier \n",
    "\n",
    "# Import method for train-test split\n",
    "from sklearn.model_selection import train_test_split\n",
    "\n",
    "# Import sutiable error measure methods\n",
    "from sklearn.metrics import ConfusionMatrixDisplay, accuracy_score, roc_auc_score\n",
    "\n",
    "# Import 'GridSearchCV' for hyperparameter tuning\n",
    "from sklearn.model_selection import GridSearchCV"
   ]
  },
  {
   "cell_type": "code",
   "execution_count": 6,
   "metadata": {
    "id": "Ub7eLnfcO_wa"
   },
   "outputs": [],
   "source": [
    "# Import the raw data\n",
    "url = 'https://raw.githubusercontent.com/liyemaumd/data/main/bank.csv'\n",
    "df = pd.read_csv(url)"
   ]
  },
  {
   "cell_type": "code",
   "execution_count": 7,
   "metadata": {
    "id": "_ewY3GSgTh0s"
   },
   "outputs": [
    {
     "data": {
      "text/html": [
       "<div>\n",
       "<style scoped>\n",
       "    .dataframe tbody tr th:only-of-type {\n",
       "        vertical-align: middle;\n",
       "    }\n",
       "\n",
       "    .dataframe tbody tr th {\n",
       "        vertical-align: top;\n",
       "    }\n",
       "\n",
       "    .dataframe thead th {\n",
       "        text-align: right;\n",
       "    }\n",
       "</style>\n",
       "<table border=\"1\" class=\"dataframe\">\n",
       "  <thead>\n",
       "    <tr style=\"text-align: right;\">\n",
       "      <th></th>\n",
       "      <th>age</th>\n",
       "      <th>job</th>\n",
       "      <th>marital</th>\n",
       "      <th>education</th>\n",
       "      <th>default</th>\n",
       "      <th>balance</th>\n",
       "      <th>housing</th>\n",
       "      <th>loan</th>\n",
       "      <th>contact</th>\n",
       "      <th>day</th>\n",
       "      <th>month</th>\n",
       "      <th>duration</th>\n",
       "      <th>campaign</th>\n",
       "      <th>pdays</th>\n",
       "      <th>previous</th>\n",
       "      <th>poutcome</th>\n",
       "      <th>y</th>\n",
       "    </tr>\n",
       "  </thead>\n",
       "  <tbody>\n",
       "    <tr>\n",
       "      <th>0</th>\n",
       "      <td>30</td>\n",
       "      <td>services</td>\n",
       "      <td>single</td>\n",
       "      <td>secondary</td>\n",
       "      <td>no</td>\n",
       "      <td>405</td>\n",
       "      <td>yes</td>\n",
       "      <td>no</td>\n",
       "      <td>cellular</td>\n",
       "      <td>5</td>\n",
       "      <td>feb</td>\n",
       "      <td>103</td>\n",
       "      <td>1</td>\n",
       "      <td>265</td>\n",
       "      <td>2</td>\n",
       "      <td>other</td>\n",
       "      <td>no</td>\n",
       "    </tr>\n",
       "    <tr>\n",
       "      <th>1</th>\n",
       "      <td>42</td>\n",
       "      <td>management</td>\n",
       "      <td>married</td>\n",
       "      <td>tertiary</td>\n",
       "      <td>no</td>\n",
       "      <td>3841</td>\n",
       "      <td>yes</td>\n",
       "      <td>no</td>\n",
       "      <td>cellular</td>\n",
       "      <td>25</td>\n",
       "      <td>jul</td>\n",
       "      <td>720</td>\n",
       "      <td>2</td>\n",
       "      <td>-1</td>\n",
       "      <td>0</td>\n",
       "      <td>unknown</td>\n",
       "      <td>no</td>\n",
       "    </tr>\n",
       "    <tr>\n",
       "      <th>2</th>\n",
       "      <td>46</td>\n",
       "      <td>technician</td>\n",
       "      <td>married</td>\n",
       "      <td>secondary</td>\n",
       "      <td>no</td>\n",
       "      <td>0</td>\n",
       "      <td>yes</td>\n",
       "      <td>no</td>\n",
       "      <td>unknown</td>\n",
       "      <td>4</td>\n",
       "      <td>jun</td>\n",
       "      <td>242</td>\n",
       "      <td>5</td>\n",
       "      <td>-1</td>\n",
       "      <td>0</td>\n",
       "      <td>unknown</td>\n",
       "      <td>no</td>\n",
       "    </tr>\n",
       "    <tr>\n",
       "      <th>3</th>\n",
       "      <td>59</td>\n",
       "      <td>retired</td>\n",
       "      <td>married</td>\n",
       "      <td>primary</td>\n",
       "      <td>no</td>\n",
       "      <td>2632</td>\n",
       "      <td>no</td>\n",
       "      <td>no</td>\n",
       "      <td>cellular</td>\n",
       "      <td>3</td>\n",
       "      <td>jun</td>\n",
       "      <td>123</td>\n",
       "      <td>1</td>\n",
       "      <td>-1</td>\n",
       "      <td>0</td>\n",
       "      <td>unknown</td>\n",
       "      <td>no</td>\n",
       "    </tr>\n",
       "    <tr>\n",
       "      <th>4</th>\n",
       "      <td>33</td>\n",
       "      <td>technician</td>\n",
       "      <td>single</td>\n",
       "      <td>secondary</td>\n",
       "      <td>no</td>\n",
       "      <td>291</td>\n",
       "      <td>no</td>\n",
       "      <td>no</td>\n",
       "      <td>cellular</td>\n",
       "      <td>25</td>\n",
       "      <td>aug</td>\n",
       "      <td>72</td>\n",
       "      <td>6</td>\n",
       "      <td>-1</td>\n",
       "      <td>0</td>\n",
       "      <td>unknown</td>\n",
       "      <td>no</td>\n",
       "    </tr>\n",
       "  </tbody>\n",
       "</table>\n",
       "</div>"
      ],
      "text/plain": [
       "   age         job  marital  education default  balance housing loan  \\\n",
       "0   30    services   single  secondary      no      405     yes   no   \n",
       "1   42  management  married   tertiary      no     3841     yes   no   \n",
       "2   46  technician  married  secondary      no        0     yes   no   \n",
       "3   59     retired  married    primary      no     2632      no   no   \n",
       "4   33  technician   single  secondary      no      291      no   no   \n",
       "\n",
       "    contact  day month  duration  campaign  pdays  previous poutcome   y  \n",
       "0  cellular    5   feb       103         1    265         2    other  no  \n",
       "1  cellular   25   jul       720         2     -1         0  unknown  no  \n",
       "2   unknown    4   jun       242         5     -1         0  unknown  no  \n",
       "3  cellular    3   jun       123         1     -1         0  unknown  no  \n",
       "4  cellular   25   aug        72         6     -1         0  unknown  no  "
      ]
     },
     "execution_count": 7,
     "metadata": {},
     "output_type": "execute_result"
    }
   ],
   "source": [
    "# Take a look at the data\n",
    "df.head()"
   ]
  },
  {
   "cell_type": "code",
   "execution_count": 11,
   "metadata": {},
   "outputs": [
    {
     "data": {
      "text/html": [
       "<div>\n",
       "<style scoped>\n",
       "    .dataframe tbody tr th:only-of-type {\n",
       "        vertical-align: middle;\n",
       "    }\n",
       "\n",
       "    .dataframe tbody tr th {\n",
       "        vertical-align: top;\n",
       "    }\n",
       "\n",
       "    .dataframe thead th {\n",
       "        text-align: right;\n",
       "    }\n",
       "</style>\n",
       "<table border=\"1\" class=\"dataframe\">\n",
       "  <thead>\n",
       "    <tr style=\"text-align: right;\">\n",
       "      <th></th>\n",
       "      <th>age</th>\n",
       "      <th>job</th>\n",
       "      <th>marital</th>\n",
       "      <th>education</th>\n",
       "      <th>default</th>\n",
       "      <th>balance</th>\n",
       "      <th>housing</th>\n",
       "      <th>loan</th>\n",
       "      <th>contact</th>\n",
       "      <th>day</th>\n",
       "      <th>month</th>\n",
       "      <th>duration</th>\n",
       "      <th>campaign</th>\n",
       "      <th>pdays</th>\n",
       "      <th>previous</th>\n",
       "      <th>poutcome</th>\n",
       "      <th>y</th>\n",
       "    </tr>\n",
       "  </thead>\n",
       "  <tbody>\n",
       "    <tr>\n",
       "      <th>10162</th>\n",
       "      <td>43</td>\n",
       "      <td>technician</td>\n",
       "      <td>married</td>\n",
       "      <td>secondary</td>\n",
       "      <td>no</td>\n",
       "      <td>-1701</td>\n",
       "      <td>yes</td>\n",
       "      <td>no</td>\n",
       "      <td>unknown</td>\n",
       "      <td>26</td>\n",
       "      <td>may</td>\n",
       "      <td>285</td>\n",
       "      <td>1</td>\n",
       "      <td>-1</td>\n",
       "      <td>0</td>\n",
       "      <td>unknown</td>\n",
       "      <td>no</td>\n",
       "    </tr>\n",
       "    <tr>\n",
       "      <th>11344</th>\n",
       "      <td>47</td>\n",
       "      <td>blue-collar</td>\n",
       "      <td>divorced</td>\n",
       "      <td>primary</td>\n",
       "      <td>no</td>\n",
       "      <td>7</td>\n",
       "      <td>no</td>\n",
       "      <td>yes</td>\n",
       "      <td>unknown</td>\n",
       "      <td>16</td>\n",
       "      <td>jun</td>\n",
       "      <td>219</td>\n",
       "      <td>7</td>\n",
       "      <td>-1</td>\n",
       "      <td>0</td>\n",
       "      <td>unknown</td>\n",
       "      <td>no</td>\n",
       "    </tr>\n",
       "    <tr>\n",
       "      <th>30518</th>\n",
       "      <td>40</td>\n",
       "      <td>housemaid</td>\n",
       "      <td>married</td>\n",
       "      <td>secondary</td>\n",
       "      <td>no</td>\n",
       "      <td>864</td>\n",
       "      <td>no</td>\n",
       "      <td>no</td>\n",
       "      <td>cellular</td>\n",
       "      <td>14</td>\n",
       "      <td>aug</td>\n",
       "      <td>36</td>\n",
       "      <td>2</td>\n",
       "      <td>-1</td>\n",
       "      <td>0</td>\n",
       "      <td>unknown</td>\n",
       "      <td>no</td>\n",
       "    </tr>\n",
       "    <tr>\n",
       "      <th>43189</th>\n",
       "      <td>54</td>\n",
       "      <td>blue-collar</td>\n",
       "      <td>married</td>\n",
       "      <td>secondary</td>\n",
       "      <td>no</td>\n",
       "      <td>524</td>\n",
       "      <td>yes</td>\n",
       "      <td>no</td>\n",
       "      <td>unknown</td>\n",
       "      <td>15</td>\n",
       "      <td>may</td>\n",
       "      <td>55</td>\n",
       "      <td>1</td>\n",
       "      <td>-1</td>\n",
       "      <td>0</td>\n",
       "      <td>unknown</td>\n",
       "      <td>no</td>\n",
       "    </tr>\n",
       "    <tr>\n",
       "      <th>9554</th>\n",
       "      <td>36</td>\n",
       "      <td>admin.</td>\n",
       "      <td>single</td>\n",
       "      <td>tertiary</td>\n",
       "      <td>no</td>\n",
       "      <td>980</td>\n",
       "      <td>no</td>\n",
       "      <td>no</td>\n",
       "      <td>cellular</td>\n",
       "      <td>11</td>\n",
       "      <td>nov</td>\n",
       "      <td>118</td>\n",
       "      <td>4</td>\n",
       "      <td>104</td>\n",
       "      <td>7</td>\n",
       "      <td>failure</td>\n",
       "      <td>no</td>\n",
       "    </tr>\n",
       "  </tbody>\n",
       "</table>\n",
       "</div>"
      ],
      "text/plain": [
       "       age          job   marital  education default  balance housing loan  \\\n",
       "10162   43   technician   married  secondary      no    -1701     yes   no   \n",
       "11344   47  blue-collar  divorced    primary      no        7      no  yes   \n",
       "30518   40    housemaid   married  secondary      no      864      no   no   \n",
       "43189   54  blue-collar   married  secondary      no      524     yes   no   \n",
       "9554    36       admin.    single   tertiary      no      980      no   no   \n",
       "\n",
       "        contact  day month  duration  campaign  pdays  previous poutcome   y  \n",
       "10162   unknown   26   may       285         1     -1         0  unknown  no  \n",
       "11344   unknown   16   jun       219         7     -1         0  unknown  no  \n",
       "30518  cellular   14   aug        36         2     -1         0  unknown  no  \n",
       "43189   unknown   15   may        55         1     -1         0  unknown  no  \n",
       "9554   cellular   11   nov       118         4    104         7  failure  no  "
      ]
     },
     "execution_count": 11,
     "metadata": {},
     "output_type": "execute_result"
    }
   ],
   "source": [
    "df.sample(5)"
   ]
  },
  {
   "cell_type": "code",
   "execution_count": 12,
   "metadata": {
    "id": "VfPuRDj6ZuGI"
   },
   "outputs": [],
   "source": [
    "# Discard features not used for the analysis\n",
    "df = df[['age', 'duration', 'balance', 'job', 'marital', 'education', 'y']]"
   ]
  },
  {
   "cell_type": "code",
   "execution_count": 15,
   "metadata": {},
   "outputs": [
    {
     "data": {
      "text/plain": [
       "age           int64\n",
       "duration      int64\n",
       "balance       int64\n",
       "job          object\n",
       "marital      object\n",
       "education    object\n",
       "y            object\n",
       "dtype: object"
      ]
     },
     "execution_count": 15,
     "metadata": {},
     "output_type": "execute_result"
    }
   ],
   "source": [
    "df.dtypes"
   ]
  },
  {
   "cell_type": "code",
   "execution_count": 37,
   "metadata": {
    "id": "uHN0F3gXZuGJ"
   },
   "outputs": [],
   "source": [
    "# Generate dummy variables for categorical features\n",
    "df_dummies = pd.get_dummies(df, columns=df.select_dtypes('object').columns.to_list())"
   ]
  },
  {
   "cell_type": "code",
   "execution_count": 38,
   "metadata": {},
   "outputs": [
    {
     "data": {
      "text/html": [
       "<div>\n",
       "<style scoped>\n",
       "    .dataframe tbody tr th:only-of-type {\n",
       "        vertical-align: middle;\n",
       "    }\n",
       "\n",
       "    .dataframe tbody tr th {\n",
       "        vertical-align: top;\n",
       "    }\n",
       "\n",
       "    .dataframe thead th {\n",
       "        text-align: right;\n",
       "    }\n",
       "</style>\n",
       "<table border=\"1\" class=\"dataframe\">\n",
       "  <thead>\n",
       "    <tr style=\"text-align: right;\">\n",
       "      <th></th>\n",
       "      <th>age</th>\n",
       "      <th>duration</th>\n",
       "      <th>balance</th>\n",
       "      <th>job_admin.</th>\n",
       "      <th>job_blue-collar</th>\n",
       "      <th>job_entrepreneur</th>\n",
       "      <th>job_housemaid</th>\n",
       "      <th>job_management</th>\n",
       "      <th>job_retired</th>\n",
       "      <th>job_self-employed</th>\n",
       "      <th>...</th>\n",
       "      <th>job_unknown</th>\n",
       "      <th>marital_divorced</th>\n",
       "      <th>marital_married</th>\n",
       "      <th>marital_single</th>\n",
       "      <th>education_primary</th>\n",
       "      <th>education_secondary</th>\n",
       "      <th>education_tertiary</th>\n",
       "      <th>education_unknown</th>\n",
       "      <th>y_no</th>\n",
       "      <th>y_yes</th>\n",
       "    </tr>\n",
       "  </thead>\n",
       "  <tbody>\n",
       "    <tr>\n",
       "      <th>0</th>\n",
       "      <td>30</td>\n",
       "      <td>103</td>\n",
       "      <td>405</td>\n",
       "      <td>False</td>\n",
       "      <td>False</td>\n",
       "      <td>False</td>\n",
       "      <td>False</td>\n",
       "      <td>False</td>\n",
       "      <td>False</td>\n",
       "      <td>False</td>\n",
       "      <td>...</td>\n",
       "      <td>False</td>\n",
       "      <td>False</td>\n",
       "      <td>False</td>\n",
       "      <td>True</td>\n",
       "      <td>False</td>\n",
       "      <td>True</td>\n",
       "      <td>False</td>\n",
       "      <td>False</td>\n",
       "      <td>True</td>\n",
       "      <td>False</td>\n",
       "    </tr>\n",
       "    <tr>\n",
       "      <th>1</th>\n",
       "      <td>42</td>\n",
       "      <td>720</td>\n",
       "      <td>3841</td>\n",
       "      <td>False</td>\n",
       "      <td>False</td>\n",
       "      <td>False</td>\n",
       "      <td>False</td>\n",
       "      <td>True</td>\n",
       "      <td>False</td>\n",
       "      <td>False</td>\n",
       "      <td>...</td>\n",
       "      <td>False</td>\n",
       "      <td>False</td>\n",
       "      <td>True</td>\n",
       "      <td>False</td>\n",
       "      <td>False</td>\n",
       "      <td>False</td>\n",
       "      <td>True</td>\n",
       "      <td>False</td>\n",
       "      <td>True</td>\n",
       "      <td>False</td>\n",
       "    </tr>\n",
       "    <tr>\n",
       "      <th>2</th>\n",
       "      <td>46</td>\n",
       "      <td>242</td>\n",
       "      <td>0</td>\n",
       "      <td>False</td>\n",
       "      <td>False</td>\n",
       "      <td>False</td>\n",
       "      <td>False</td>\n",
       "      <td>False</td>\n",
       "      <td>False</td>\n",
       "      <td>False</td>\n",
       "      <td>...</td>\n",
       "      <td>False</td>\n",
       "      <td>False</td>\n",
       "      <td>True</td>\n",
       "      <td>False</td>\n",
       "      <td>False</td>\n",
       "      <td>True</td>\n",
       "      <td>False</td>\n",
       "      <td>False</td>\n",
       "      <td>True</td>\n",
       "      <td>False</td>\n",
       "    </tr>\n",
       "    <tr>\n",
       "      <th>3</th>\n",
       "      <td>59</td>\n",
       "      <td>123</td>\n",
       "      <td>2632</td>\n",
       "      <td>False</td>\n",
       "      <td>False</td>\n",
       "      <td>False</td>\n",
       "      <td>False</td>\n",
       "      <td>False</td>\n",
       "      <td>True</td>\n",
       "      <td>False</td>\n",
       "      <td>...</td>\n",
       "      <td>False</td>\n",
       "      <td>False</td>\n",
       "      <td>True</td>\n",
       "      <td>False</td>\n",
       "      <td>True</td>\n",
       "      <td>False</td>\n",
       "      <td>False</td>\n",
       "      <td>False</td>\n",
       "      <td>True</td>\n",
       "      <td>False</td>\n",
       "    </tr>\n",
       "    <tr>\n",
       "      <th>4</th>\n",
       "      <td>33</td>\n",
       "      <td>72</td>\n",
       "      <td>291</td>\n",
       "      <td>False</td>\n",
       "      <td>False</td>\n",
       "      <td>False</td>\n",
       "      <td>False</td>\n",
       "      <td>False</td>\n",
       "      <td>False</td>\n",
       "      <td>False</td>\n",
       "      <td>...</td>\n",
       "      <td>False</td>\n",
       "      <td>False</td>\n",
       "      <td>False</td>\n",
       "      <td>True</td>\n",
       "      <td>False</td>\n",
       "      <td>True</td>\n",
       "      <td>False</td>\n",
       "      <td>False</td>\n",
       "      <td>True</td>\n",
       "      <td>False</td>\n",
       "    </tr>\n",
       "  </tbody>\n",
       "</table>\n",
       "<p>5 rows × 24 columns</p>\n",
       "</div>"
      ],
      "text/plain": [
       "   age  duration  balance  job_admin.  job_blue-collar  job_entrepreneur  \\\n",
       "0   30       103      405       False            False             False   \n",
       "1   42       720     3841       False            False             False   \n",
       "2   46       242        0       False            False             False   \n",
       "3   59       123     2632       False            False             False   \n",
       "4   33        72      291       False            False             False   \n",
       "\n",
       "   job_housemaid  job_management  job_retired  job_self-employed  ...  \\\n",
       "0          False           False        False              False  ...   \n",
       "1          False            True        False              False  ...   \n",
       "2          False           False        False              False  ...   \n",
       "3          False           False         True              False  ...   \n",
       "4          False           False        False              False  ...   \n",
       "\n",
       "   job_unknown  marital_divorced  marital_married  marital_single  \\\n",
       "0        False             False            False            True   \n",
       "1        False             False             True           False   \n",
       "2        False             False             True           False   \n",
       "3        False             False             True           False   \n",
       "4        False             False            False            True   \n",
       "\n",
       "   education_primary  education_secondary  education_tertiary  \\\n",
       "0              False                 True               False   \n",
       "1              False                False                True   \n",
       "2              False                 True               False   \n",
       "3               True                False               False   \n",
       "4              False                 True               False   \n",
       "\n",
       "   education_unknown  y_no  y_yes  \n",
       "0              False  True  False  \n",
       "1              False  True  False  \n",
       "2              False  True  False  \n",
       "3              False  True  False  \n",
       "4              False  True  False  \n",
       "\n",
       "[5 rows x 24 columns]"
      ]
     },
     "execution_count": 38,
     "metadata": {},
     "output_type": "execute_result"
    }
   ],
   "source": [
    "df_dummies.head()"
   ]
  },
  {
   "cell_type": "code",
   "execution_count": 39,
   "metadata": {},
   "outputs": [
    {
     "data": {
      "text/html": [
       "<div>\n",
       "<style scoped>\n",
       "    .dataframe tbody tr th:only-of-type {\n",
       "        vertical-align: middle;\n",
       "    }\n",
       "\n",
       "    .dataframe tbody tr th {\n",
       "        vertical-align: top;\n",
       "    }\n",
       "\n",
       "    .dataframe thead th {\n",
       "        text-align: right;\n",
       "    }\n",
       "</style>\n",
       "<table border=\"1\" class=\"dataframe\">\n",
       "  <thead>\n",
       "    <tr style=\"text-align: right;\">\n",
       "      <th></th>\n",
       "      <th>age</th>\n",
       "      <th>duration</th>\n",
       "      <th>balance</th>\n",
       "      <th>job_admin.</th>\n",
       "      <th>job_blue-collar</th>\n",
       "      <th>job_entrepreneur</th>\n",
       "      <th>job_housemaid</th>\n",
       "      <th>job_management</th>\n",
       "      <th>job_retired</th>\n",
       "      <th>job_self-employed</th>\n",
       "      <th>...</th>\n",
       "      <th>job_unknown</th>\n",
       "      <th>marital_divorced</th>\n",
       "      <th>marital_married</th>\n",
       "      <th>marital_single</th>\n",
       "      <th>education_primary</th>\n",
       "      <th>education_secondary</th>\n",
       "      <th>education_tertiary</th>\n",
       "      <th>education_unknown</th>\n",
       "      <th>y_no</th>\n",
       "      <th>y_yes</th>\n",
       "    </tr>\n",
       "  </thead>\n",
       "  <tbody>\n",
       "    <tr>\n",
       "      <th>37086</th>\n",
       "      <td>48</td>\n",
       "      <td>787</td>\n",
       "      <td>9622</td>\n",
       "      <td>False</td>\n",
       "      <td>False</td>\n",
       "      <td>False</td>\n",
       "      <td>False</td>\n",
       "      <td>False</td>\n",
       "      <td>False</td>\n",
       "      <td>False</td>\n",
       "      <td>...</td>\n",
       "      <td>False</td>\n",
       "      <td>False</td>\n",
       "      <td>True</td>\n",
       "      <td>False</td>\n",
       "      <td>True</td>\n",
       "      <td>False</td>\n",
       "      <td>False</td>\n",
       "      <td>False</td>\n",
       "      <td>True</td>\n",
       "      <td>False</td>\n",
       "    </tr>\n",
       "    <tr>\n",
       "      <th>14824</th>\n",
       "      <td>30</td>\n",
       "      <td>83</td>\n",
       "      <td>1192</td>\n",
       "      <td>False</td>\n",
       "      <td>False</td>\n",
       "      <td>True</td>\n",
       "      <td>False</td>\n",
       "      <td>False</td>\n",
       "      <td>False</td>\n",
       "      <td>False</td>\n",
       "      <td>...</td>\n",
       "      <td>False</td>\n",
       "      <td>True</td>\n",
       "      <td>False</td>\n",
       "      <td>False</td>\n",
       "      <td>False</td>\n",
       "      <td>False</td>\n",
       "      <td>True</td>\n",
       "      <td>False</td>\n",
       "      <td>True</td>\n",
       "      <td>False</td>\n",
       "    </tr>\n",
       "    <tr>\n",
       "      <th>32979</th>\n",
       "      <td>30</td>\n",
       "      <td>548</td>\n",
       "      <td>2785</td>\n",
       "      <td>False</td>\n",
       "      <td>False</td>\n",
       "      <td>False</td>\n",
       "      <td>False</td>\n",
       "      <td>True</td>\n",
       "      <td>False</td>\n",
       "      <td>False</td>\n",
       "      <td>...</td>\n",
       "      <td>False</td>\n",
       "      <td>False</td>\n",
       "      <td>False</td>\n",
       "      <td>True</td>\n",
       "      <td>False</td>\n",
       "      <td>True</td>\n",
       "      <td>False</td>\n",
       "      <td>False</td>\n",
       "      <td>True</td>\n",
       "      <td>False</td>\n",
       "    </tr>\n",
       "    <tr>\n",
       "      <th>2774</th>\n",
       "      <td>28</td>\n",
       "      <td>161</td>\n",
       "      <td>1734</td>\n",
       "      <td>False</td>\n",
       "      <td>False</td>\n",
       "      <td>True</td>\n",
       "      <td>False</td>\n",
       "      <td>False</td>\n",
       "      <td>False</td>\n",
       "      <td>False</td>\n",
       "      <td>...</td>\n",
       "      <td>False</td>\n",
       "      <td>False</td>\n",
       "      <td>False</td>\n",
       "      <td>True</td>\n",
       "      <td>False</td>\n",
       "      <td>True</td>\n",
       "      <td>False</td>\n",
       "      <td>False</td>\n",
       "      <td>True</td>\n",
       "      <td>False</td>\n",
       "    </tr>\n",
       "    <tr>\n",
       "      <th>19186</th>\n",
       "      <td>38</td>\n",
       "      <td>275</td>\n",
       "      <td>5003</td>\n",
       "      <td>False</td>\n",
       "      <td>False</td>\n",
       "      <td>False</td>\n",
       "      <td>False</td>\n",
       "      <td>False</td>\n",
       "      <td>False</td>\n",
       "      <td>False</td>\n",
       "      <td>...</td>\n",
       "      <td>False</td>\n",
       "      <td>False</td>\n",
       "      <td>True</td>\n",
       "      <td>False</td>\n",
       "      <td>False</td>\n",
       "      <td>True</td>\n",
       "      <td>False</td>\n",
       "      <td>False</td>\n",
       "      <td>True</td>\n",
       "      <td>False</td>\n",
       "    </tr>\n",
       "  </tbody>\n",
       "</table>\n",
       "<p>5 rows × 24 columns</p>\n",
       "</div>"
      ],
      "text/plain": [
       "       age  duration  balance  job_admin.  job_blue-collar  job_entrepreneur  \\\n",
       "37086   48       787     9622       False            False             False   \n",
       "14824   30        83     1192       False            False              True   \n",
       "32979   30       548     2785       False            False             False   \n",
       "2774    28       161     1734       False            False              True   \n",
       "19186   38       275     5003       False            False             False   \n",
       "\n",
       "       job_housemaid  job_management  job_retired  job_self-employed  ...  \\\n",
       "37086          False           False        False              False  ...   \n",
       "14824          False           False        False              False  ...   \n",
       "32979          False            True        False              False  ...   \n",
       "2774           False           False        False              False  ...   \n",
       "19186          False           False        False              False  ...   \n",
       "\n",
       "       job_unknown  marital_divorced  marital_married  marital_single  \\\n",
       "37086        False             False             True           False   \n",
       "14824        False              True            False           False   \n",
       "32979        False             False            False            True   \n",
       "2774         False             False            False            True   \n",
       "19186        False             False             True           False   \n",
       "\n",
       "       education_primary  education_secondary  education_tertiary  \\\n",
       "37086               True                False               False   \n",
       "14824              False                False                True   \n",
       "32979              False                 True               False   \n",
       "2774               False                 True               False   \n",
       "19186              False                 True               False   \n",
       "\n",
       "       education_unknown  y_no  y_yes  \n",
       "37086              False  True  False  \n",
       "14824              False  True  False  \n",
       "32979              False  True  False  \n",
       "2774               False  True  False  \n",
       "19186              False  True  False  \n",
       "\n",
       "[5 rows x 24 columns]"
      ]
     },
     "execution_count": 39,
     "metadata": {},
     "output_type": "execute_result"
    }
   ],
   "source": [
    "df_dummies.sample(5)"
   ]
  },
  {
   "cell_type": "code",
   "execution_count": 43,
   "metadata": {},
   "outputs": [
    {
     "name": "stdout",
     "output_type": "stream",
     "text": [
      "<class 'pandas.core.series.Series'>\n",
      "Index: 12 entries, blue-collar to unknown\n",
      "Series name: count\n",
      "Non-Null Count  Dtype\n",
      "--------------  -----\n",
      "12 non-null     int64\n",
      "dtypes: int64(1)\n",
      "memory usage: 192.0+ bytes\n"
     ]
    }
   ],
   "source": [
    "df['job'].value_counts().info()"
   ]
  },
  {
   "cell_type": "code",
   "execution_count": 44,
   "metadata": {},
   "outputs": [
    {
     "data": {
      "text/plain": [
       "12"
      ]
     },
     "execution_count": 44,
     "metadata": {},
     "output_type": "execute_result"
    }
   ],
   "source": [
    "len(['job_admin.',\n",
    " 'job_blue-collar',\n",
    " 'job_entrepreneur',\n",
    " 'job_housemaid',\n",
    " 'job_management',\n",
    " 'job_retired',\n",
    " 'job_self-employed',\n",
    " 'job_services',\n",
    " 'job_student',\n",
    " 'job_technician',\n",
    " 'job_unemployed',\n",
    " 'job_unknown',])"
   ]
  },
  {
   "cell_type": "code",
   "execution_count": 41,
   "metadata": {},
   "outputs": [
    {
     "data": {
      "text/plain": [
       "['age',\n",
       " 'duration',\n",
       " 'balance',\n",
       " 'job_admin.',\n",
       " 'job_blue-collar',\n",
       " 'job_entrepreneur',\n",
       " 'job_housemaid',\n",
       " 'job_management',\n",
       " 'job_retired',\n",
       " 'job_self-employed',\n",
       " 'job_services',\n",
       " 'job_student',\n",
       " 'job_technician',\n",
       " 'job_unemployed',\n",
       " 'job_unknown',\n",
       " 'marital_divorced',\n",
       " 'marital_married',\n",
       " 'marital_single',\n",
       " 'education_primary',\n",
       " 'education_secondary',\n",
       " 'education_tertiary',\n",
       " 'education_unknown',\n",
       " 'y_no',\n",
       " 'y_yes']"
      ]
     },
     "execution_count": 41,
     "metadata": {},
     "output_type": "execute_result"
    }
   ],
   "source": [
    "df_dummies.columns.to_list()"
   ]
  },
  {
   "cell_type": "code",
   "execution_count": 34,
   "metadata": {},
   "outputs": [
    {
     "data": {
      "text/plain": [
       "21"
      ]
     },
     "execution_count": 34,
     "metadata": {},
     "output_type": "execute_result"
    }
   ],
   "source": [
    "len(['job_admin.',\n",
    " 'job_blue-collar',\n",
    " 'job_entrepreneur',\n",
    " 'job_housemaid',\n",
    " 'job_management',\n",
    " 'job_retired',\n",
    " 'job_self-employed',\n",
    " 'job_services',\n",
    " 'job_student',\n",
    " 'job_technician',\n",
    " 'job_unemployed',\n",
    " 'job_unknown',\n",
    " 'marital_divorced',\n",
    " 'marital_married',\n",
    " 'marital_single',\n",
    " 'education_primary',\n",
    " 'education_secondary',\n",
    " 'education_tertiary',\n",
    " 'education_unknown',\n",
    " 'y_no',\n",
    " 'y_yes'])"
   ]
  },
  {
   "cell_type": "code",
   "execution_count": 31,
   "metadata": {
    "id": "-8FwyHPAZuGK"
   },
   "outputs": [],
   "source": [
    "# Select a few features for the purpose of demonstration\n",
    "df_dummies = df_dummies[['age', 'duration', 'balance',\n",
    "                         'job_management', 'job_retired', 'job_services', 'job_student',\n",
    "                         'marital_divorced', 'marital_married', 'marital_single',\n",
    "                         'education_primary', 'education_secondary', 'education_tertiary',\n",
    "                         'y_yes']]"
   ]
  },
  {
   "cell_type": "code",
   "execution_count": 32,
   "metadata": {
    "id": "XLhsa8BXVbtW"
   },
   "outputs": [],
   "source": [
    "# Split the data into input and output\n",
    "X = df_dummies.drop('y_yes', axis = 1)\n",
    "y = df_dummies['y_yes']"
   ]
  },
  {
   "cell_type": "code",
   "execution_count": 33,
   "metadata": {
    "id": "3xQ_ARrLZuGL"
   },
   "outputs": [],
   "source": [
    "# Divide the data into training and validation sets\n",
    "# Use 20% of the data as validation\n",
    "# Set the random state parameter to 123\n",
    "X_train, X_val, y_train, y_val = train_test_split(X, y, test_size=0.2, random_state=123)"
   ]
  },
  {
   "cell_type": "markdown",
   "metadata": {
    "id": "47KQwnd5ZuGL"
   },
   "source": [
    "# Part 2 - Random Forest\n",
    "We will now fit a random forest model to the data and study the performance of the model on the training and validation data."
   ]
  },
  {
   "cell_type": "code",
   "execution_count": 45,
   "metadata": {
    "id": "QJdnHXbKWLlD"
   },
   "outputs": [
    {
     "data": {
      "text/html": [
       "<style>#sk-container-id-1 {color: black;}#sk-container-id-1 pre{padding: 0;}#sk-container-id-1 div.sk-toggleable {background-color: white;}#sk-container-id-1 label.sk-toggleable__label {cursor: pointer;display: block;width: 100%;margin-bottom: 0;padding: 0.3em;box-sizing: border-box;text-align: center;}#sk-container-id-1 label.sk-toggleable__label-arrow:before {content: \"▸\";float: left;margin-right: 0.25em;color: #696969;}#sk-container-id-1 label.sk-toggleable__label-arrow:hover:before {color: black;}#sk-container-id-1 div.sk-estimator:hover label.sk-toggleable__label-arrow:before {color: black;}#sk-container-id-1 div.sk-toggleable__content {max-height: 0;max-width: 0;overflow: hidden;text-align: left;background-color: #f0f8ff;}#sk-container-id-1 div.sk-toggleable__content pre {margin: 0.2em;color: black;border-radius: 0.25em;background-color: #f0f8ff;}#sk-container-id-1 input.sk-toggleable__control:checked~div.sk-toggleable__content {max-height: 200px;max-width: 100%;overflow: auto;}#sk-container-id-1 input.sk-toggleable__control:checked~label.sk-toggleable__label-arrow:before {content: \"▾\";}#sk-container-id-1 div.sk-estimator input.sk-toggleable__control:checked~label.sk-toggleable__label {background-color: #d4ebff;}#sk-container-id-1 div.sk-label input.sk-toggleable__control:checked~label.sk-toggleable__label {background-color: #d4ebff;}#sk-container-id-1 input.sk-hidden--visually {border: 0;clip: rect(1px 1px 1px 1px);clip: rect(1px, 1px, 1px, 1px);height: 1px;margin: -1px;overflow: hidden;padding: 0;position: absolute;width: 1px;}#sk-container-id-1 div.sk-estimator {font-family: monospace;background-color: #f0f8ff;border: 1px dotted black;border-radius: 0.25em;box-sizing: border-box;margin-bottom: 0.5em;}#sk-container-id-1 div.sk-estimator:hover {background-color: #d4ebff;}#sk-container-id-1 div.sk-parallel-item::after {content: \"\";width: 100%;border-bottom: 1px solid gray;flex-grow: 1;}#sk-container-id-1 div.sk-label:hover label.sk-toggleable__label {background-color: #d4ebff;}#sk-container-id-1 div.sk-serial::before {content: \"\";position: absolute;border-left: 1px solid gray;box-sizing: border-box;top: 0;bottom: 0;left: 50%;z-index: 0;}#sk-container-id-1 div.sk-serial {display: flex;flex-direction: column;align-items: center;background-color: white;padding-right: 0.2em;padding-left: 0.2em;position: relative;}#sk-container-id-1 div.sk-item {position: relative;z-index: 1;}#sk-container-id-1 div.sk-parallel {display: flex;align-items: stretch;justify-content: center;background-color: white;position: relative;}#sk-container-id-1 div.sk-item::before, #sk-container-id-1 div.sk-parallel-item::before {content: \"\";position: absolute;border-left: 1px solid gray;box-sizing: border-box;top: 0;bottom: 0;left: 50%;z-index: -1;}#sk-container-id-1 div.sk-parallel-item {display: flex;flex-direction: column;z-index: 1;position: relative;background-color: white;}#sk-container-id-1 div.sk-parallel-item:first-child::after {align-self: flex-end;width: 50%;}#sk-container-id-1 div.sk-parallel-item:last-child::after {align-self: flex-start;width: 50%;}#sk-container-id-1 div.sk-parallel-item:only-child::after {width: 0;}#sk-container-id-1 div.sk-dashed-wrapped {border: 1px dashed gray;margin: 0 0.4em 0.5em 0.4em;box-sizing: border-box;padding-bottom: 0.4em;background-color: white;}#sk-container-id-1 div.sk-label label {font-family: monospace;font-weight: bold;display: inline-block;line-height: 1.2em;}#sk-container-id-1 div.sk-label-container {text-align: center;}#sk-container-id-1 div.sk-container {/* jupyter's `normalize.less` sets `[hidden] { display: none; }` but bootstrap.min.css set `[hidden] { display: none !important; }` so we also need the `!important` here to be able to override the default hidden behavior on the sphinx rendered scikit-learn.org. See: https://github.com/scikit-learn/scikit-learn/issues/21755 */display: inline-block !important;position: relative;}#sk-container-id-1 div.sk-text-repr-fallback {display: none;}</style><div id=\"sk-container-id-1\" class=\"sk-top-container\"><div class=\"sk-text-repr-fallback\"><pre>RandomForestClassifier(class_weight=&#x27;balanced&#x27;, max_depth=5, random_state=123)</pre><b>In a Jupyter environment, please rerun this cell to show the HTML representation or trust the notebook. <br />On GitHub, the HTML representation is unable to render, please try loading this page with nbviewer.org.</b></div><div class=\"sk-container\" hidden><div class=\"sk-item\"><div class=\"sk-estimator sk-toggleable\"><input class=\"sk-toggleable__control sk-hidden--visually\" id=\"sk-estimator-id-1\" type=\"checkbox\" checked><label for=\"sk-estimator-id-1\" class=\"sk-toggleable__label sk-toggleable__label-arrow\">RandomForestClassifier</label><div class=\"sk-toggleable__content\"><pre>RandomForestClassifier(class_weight=&#x27;balanced&#x27;, max_depth=5, random_state=123)</pre></div></div></div></div></div>"
      ],
      "text/plain": [
       "RandomForestClassifier(class_weight='balanced', max_depth=5, random_state=123)"
      ]
     },
     "execution_count": 45,
     "metadata": {},
     "output_type": "execute_result"
    }
   ],
   "source": [
    "# Create a random forest classifier model\n",
    "# Use 100 estimators, a maximum tree depth of 5, and set the class weight as 'balanced'\n",
    "# Set the random state parameter to 123\n",
    "rf = RandomForestClassifier(n_estimators=100, max_depth=5, class_weight='balanced', random_state=123)\n",
    "\n",
    "# Fit the model to the training data\n",
    "rf.fit(X_train, y_train)"
   ]
  },
  {
   "cell_type": "code",
   "execution_count": 46,
   "metadata": {
    "id": "Ej5IIlgAZuGM"
   },
   "outputs": [
    {
     "data": {
      "text/plain": [
       "array([0.12314291, 0.67766889, 0.07463138, 0.00630141, 0.01753686,\n",
       "       0.00162227, 0.01903586, 0.00210581, 0.01393705, 0.01972773,\n",
       "       0.00978901, 0.00374952, 0.03075132])"
      ]
     },
     "execution_count": 46,
     "metadata": {},
     "output_type": "execute_result"
    }
   ],
   "source": [
    "# Obtain feature importances from the model\n",
    "rfimp = rf.feature_importances_\n",
    "rfimp"
   ]
  },
  {
   "cell_type": "code",
   "execution_count": 47,
   "metadata": {
    "id": "vyjee1JSsTzd"
   },
   "outputs": [
    {
     "data": {
      "image/png": "[encoded data removed]",
      "text/plain": [
       "<Figure size 600x400 with 1 Axes>"
      ]
     },
     "metadata": {},
     "output_type": "display_data"
    }
   ],
   "source": [
    "# Visualize the feature importances\n",
    "plt.figure(figsize = (6, 4))\n",
    "rfimpdf = pd.DataFrame(data = {'Features': X_train.columns, 'Importances': rfimp})\n",
    "rfimpdf = rfimpdf.sort_values(by = 'Importances', ascending = False)\n",
    "sns.barplot(data = rfimpdf, x = 'Importances', y = 'Features', orient = 'h');"
   ]
  },
  {
   "cell_type": "code",
   "execution_count": 48,
   "metadata": {
    "id": "1Jemi_rOZuGN"
   },
   "outputs": [
    {
     "data": {
      "image/png": "[encoded data removed]",
      "text/plain": [
       "<Figure size 1200x400 with 4 Axes>"
      ]
     },
     "metadata": {},
     "output_type": "display_data"
    }
   ],
   "source": [
    "# Display the confusion matrices for the model on the training and validation data\n",
    "plt.rcParams.update({'font.size': 14})\n",
    "fig, ax = plt.subplots(1, 2, figsize = (12, 4))\n",
    "ConfusionMatrixDisplay.from_estimator(rf, X_train, y_train, cmap = plt.cm.Blues, ax = ax[0])\n",
    "ConfusionMatrixDisplay.from_estimator(rf, X_val, y_val, cmap = plt.cm.Blues, ax = ax[1])\n",
    "ax[0].set_title('Training')\n",
    "ax[1].set_title('Validation');"
   ]
  },
  {
   "cell_type": "code",
   "execution_count": 49,
   "metadata": {
    "id": "CFo33UW6ZuGN"
   },
   "outputs": [
    {
     "name": "stdout",
     "output_type": "stream",
     "text": [
      "Accuracy on the training data = 0.7650409201504093\n",
      "Accuracy on the validation data = 0.7555014928674113\n"
     ]
    }
   ],
   "source": [
    "# Compute the accuracy scores on the training and validation data\n",
    "# Obtain predictions\n",
    "y_pred_train = rf.predict(X_train)\n",
    "y_pred_val = rf.predict(X_val)\n",
    "\n",
    "# Compute accuracy scores\n",
    "train_acc = accuracy_score(y_train, y_pred_train)\n",
    "val_acc = accuracy_score(y_val, y_pred_val)\n",
    "\n",
    "print('Accuracy on the training data = {}'.format(train_acc))\n",
    "print('Accuracy on the validation data = {}'.format(val_acc))"
   ]
  },
  {
   "cell_type": "code",
   "execution_count": 50,
   "metadata": {
    "id": "p6EI2fg3ZuGN"
   },
   "outputs": [
    {
     "name": "stdout",
     "output_type": "stream",
     "text": [
      "ROC AUC score for the training data = 0.8544773759385021\n",
      "ROC AUC score for the validation data = 0.8319852242066657\n"
     ]
    }
   ],
   "source": [
    "# Compute the ROC AUC scores for the training and the validation data\n",
    "# Obtain predicted probabilities for class '1'\n",
    "train_probabilities = rf.predict_proba(X_train)[:, 1]\n",
    "val_probabilities = rf.predict_proba(X_val)[:, 1]\n",
    "\n",
    "# Compute ROC AUC scores\n",
    "train_auc = roc_auc_score(y_train, train_probabilities)\n",
    "val_auc = roc_auc_score(y_val, val_probabilities)\n",
    "\n",
    "print('ROC AUC score for the training data = {}'.format(train_auc))\n",
    "print('ROC AUC score for the validation data = {}'.format(val_auc))"
   ]
  },
  {
   "cell_type": "markdown",
   "metadata": {
    "id": "78RWIA9AZuGN"
   },
   "source": [
    "# Part 3 - Random Forest: Hyperparameter Tuning\n",
    "In this section, we will:\n",
    "- Tune the random forest model for the following hyperparameters:\n",
    "  - Number of estimators\n",
    "  - Maximum tree depth\n",
    "- Tune the random forest model for a combination of number of estimators and maximum tree depth"
   ]
  },
  {
   "cell_type": "markdown",
   "metadata": {
    "id": "QxyMFuNkZuGO"
   },
   "source": [
    "## Subpart 1 - Hyperparameter Tuning: Number of Estimators"
   ]
  },
  {
   "cell_type": "code",
   "execution_count": null,
   "metadata": {
    "id": "wqQBdujEZuGO"
   },
   "outputs": [],
   "source": [
    "# Define a list of number of estimators to tune over\n",
    "num_estimators = np.arange(50, 550, 50)\n",
    "\n",
    "# Create and train a random forest model for each value of number of estimators\n",
    "performance_df = pd.DataFrame(data = None)\n",
    "\n",
    "# Use a for loop to loop over the different models and capture their performances\n",
    "indexcount = -1\n",
    "for current_num_estimators in num_estimators:\n",
    "    indexcount = indexcount + 1\n",
    "    \n",
    "    # Create a random forest model with the current specifications\n",
    "    # Use the current number of estimators, a maximum tree depth of 5, and set the class weight as 'balanced'\n",
    "    # Set the random state parameter to 123\n",
    "    current_rf = RandomForestClassifier(n_estimators=current_num_estimators,\n",
    "                                       max_depth=5,\n",
    "                                       class_wei)\n",
    "    \n",
    "    # Fit the model on the training data\n",
    "    ##### CODE HERE #####\n",
    "    \n",
    "    print('\\n Training for {} estimators is complete'.format(current_num_estimators))\n",
    "    \n",
    "    # Obtain predictions\n",
    "    current_y_pred_train = ##### CODE HERE #####\n",
    "    current_y_pred_val = ##### CODE HERE #####\n",
    "    \n",
    "    # Compute accuracy scores\n",
    "    current_train_acc = ##### CODE HERE #####\n",
    "    current_val_acc = ##### CODE HERE #####\n",
    "    \n",
    "    # Obtain predicted probabilities for class '1'\n",
    "    current_train_probabilities = ##### CODE HERE #####\n",
    "    current_val_probabilities = ##### CODE HERE #####\n",
    "    \n",
    "    # Compute ROC AUC scores\n",
    "    current_train_auc = ##### CODE HERE #####\n",
    "    current_val_auc = ##### CODE HERE #####\n",
    "    \n",
    "    tempdf = pd.DataFrame(index = [indexcount],\n",
    "                          data = {'Number of Estimators': current_num_estimators,\n",
    "                                  'Training Accuracy': current_train_acc,\n",
    "                                  'Validation Accuracy': current_val_acc,\n",
    "                                  'Training ROC AUC': current_train_auc,\n",
    "                                  'Validation ROC AUC': current_val_auc})\n",
    "    \n",
    "    performance_df = pd.concat([performance_df, tempdf])\n",
    "\n",
    "performance_df.set_index('Number of Estimators')"
   ]
  },
  {
   "cell_type": "code",
   "execution_count": null,
   "metadata": {
    "id": "HPsKF_ojZuGO"
   },
   "outputs": [],
   "source": [
    "# Visualize variation in validation accuracy scores with respect to number of estimators\n",
    "plt.figure(figsize = (10, 4))\n",
    "\n",
    "sns.lineplot(data = performance_df, x = 'Number of Estimators', y = 'Validation Accuracy', marker = 'o', markersize = 12)\n",
    "plt.title('Validation Accuracy Scores by Number of Estimators')\n",
    "plt.ylabel('Accuracy')\n",
    "plt.xlabel('Number of Estimators')\n",
    "plt.xticks(num_estimators);"
   ]
  },
  {
   "cell_type": "code",
   "execution_count": null,
   "metadata": {
    "id": "JC3CZ842ZuGP"
   },
   "outputs": [],
   "source": [
    "# Visualize variation in validation ROC AUC scores with respect to number of estimators\n",
    "plt.figure(figsize = (10, 4))\n",
    "\n",
    "sns.lineplot(data = performance_df, x = 'Number of Estimators', y = 'Validation ROC AUC', marker = 'o', markersize = 12)\n",
    "plt.title('Validation ROC AUC Scores by Number of Estimators')\n",
    "plt.ylabel('ROC AUC Score')\n",
    "plt.xlabel('Number of Estimators')\n",
    "plt.xticks(num_estimators);"
   ]
  },
  {
   "cell_type": "markdown",
   "metadata": {
    "id": "EX1hRtZLZuGP"
   },
   "source": [
    "## Subpart 2 - Hyperparameter Tuning: Maximum Tree Depth"
   ]
  },
  {
   "cell_type": "code",
   "execution_count": null,
   "metadata": {
    "id": "j0CAQoyGZuGP"
   },
   "outputs": [],
   "source": [
    "# Define a list of maximum tree depth values to tune over\n",
    "max_tree_depths = np.arange(1, 11, 1)\n",
    "\n",
    "# Create and train a random forest model for each value of maximum tree depth\n",
    "performance_df = pd.DataFrame(data = None)\n",
    "\n",
    "# Use a for loop to loop over the different models and capture their performances\n",
    "indexcount = -1\n",
    "for current_max_tree_depth in max_tree_depths:\n",
    "    indexcount = indexcount + 1\n",
    "    \n",
    "    # Create a random forest model with the current specifications\n",
    "    # Use 100 estimators, the current maximum tree depth, and set the class weight as 'balanced'\n",
    "    # Set the random state parameter to 123\n",
    "    current_rf = ##### CODE HERE #####\n",
    "    \n",
    "    # Fit the model on the training data\n",
    "    ##### CODE HERE #####\n",
    "    \n",
    "    print('\\n Training for tree depth of {} is complete'.format(current_max_tree_depth))\n",
    "    \n",
    "    # Obtain predictions\n",
    "    current_y_pred_train = ##### CODE HERE #####\n",
    "    current_y_pred_val = ##### CODE HERE #####\n",
    "    \n",
    "    # Compute accuracy scores\n",
    "    current_train_acc = ##### CODE HERE #####\n",
    "    current_val_acc = ##### CODE HERE #####\n",
    "    \n",
    "    # Obtain predicted probabilities for class '1'\n",
    "    current_train_probabilities = ##### CODE HERE #####\n",
    "    current_val_probabilities = ##### CODE HERE #####\n",
    "    \n",
    "    # Compute ROC AUC scores\n",
    "    current_train_auc = ##### CODE HERE #####\n",
    "    current_val_auc = ##### CODE HERE #####\n",
    "    \n",
    "    tempdf = pd.DataFrame(index = [indexcount],\n",
    "                          data = {'Maximum Tree Depth': current_max_tree_depth,\n",
    "                                  'Training Accuracy': current_train_acc,\n",
    "                                  'Validation Accuracy': current_val_acc,\n",
    "                                  'Training ROC AUC': current_train_auc,\n",
    "                                  'Validation ROC AUC': current_val_auc})\n",
    "    \n",
    "    performance_df = pd.concat([performance_df, tempdf])\n",
    "\n",
    "performance_df.set_index('Maximum Tree Depth')"
   ]
  },
  {
   "cell_type": "code",
   "execution_count": null,
   "metadata": {
    "id": "jHFGmFjIZuGP"
   },
   "outputs": [],
   "source": [
    "# Visualize variation in validation accuracy scores with respect to maximum tree depth\n",
    "plt.figure(figsize = (10, 4))\n",
    "\n",
    "sns.lineplot(data = performance_df, x = 'Maximum Tree Depth', y = 'Validation Accuracy', marker = 'o', markersize = 12)\n",
    "plt.title('Validation Accuracy Scores by Maximum Tree Depth')\n",
    "plt.ylabel('Accuracy')\n",
    "plt.xlabel('Maximum Tree Depth')\n",
    "plt.xticks(max_tree_depths);"
   ]
  },
  {
   "cell_type": "code",
   "execution_count": null,
   "metadata": {
    "id": "QUGfxpB2ZuGQ"
   },
   "outputs": [],
   "source": [
    "# Visualize variation in validation ROC AUC scores with respect to maximum tree depth\n",
    "plt.figure(figsize = (10, 4))\n",
    "\n",
    "sns.lineplot(data = performance_df, x = 'Maximum Tree Depth', y = 'Validation ROC AUC', marker = 'o', markersize = 12)\n",
    "plt.title('Validation ROC AUC Scores by Maximum Tree Depth')\n",
    "plt.ylabel('ROC AUC Score')\n",
    "plt.xlabel('Maximum Tree Depth')\n",
    "plt.xticks(max_tree_depths);"
   ]
  },
  {
   "cell_type": "markdown",
   "metadata": {
    "id": "YCdDcqdlZuGQ"
   },
   "source": [
    "## Subpart 3 - Hyperparameter Tuning: Combinations of Hyperparameters"
   ]
  },
  {
   "cell_type": "code",
   "execution_count": null,
   "metadata": {
    "id": "ecQv7asLZuGQ",
    "scrolled": true
   },
   "outputs": [],
   "source": [
    "# Initialize a basic random forest classifier model\n",
    "# Set the class weight as 'balanced'\n",
    "# Set the random state parameter to 123\n",
    "base_grid_model = ##### CODE HERE #####\n",
    "\n",
    "# Define a range of hyperparameter values to tune for and store them in a dictionary\n",
    "parameters_grid = {'n_estimators': [100, 200],\n",
    "                   'max_depth': [5, 7]}\n",
    "\n",
    "# Perform a grid search using the 'GridSearchCV()' method to obtain a grid on which to fit the training data\n",
    "# Use ROC AUC score as a scoring metric\n",
    "# Use the default number of cross-validation folds\n",
    "# Set the 'verbose' parameter to 3 or more to display useful results during the process\n",
    "grid = ##### CODE HERE #####\n",
    "\n",
    "# Fit the model on the training data\n",
    "grid_model = ##### CODE HERE #####\n",
    "\n",
    "# Print the optimal values of 'n_estimators' and 'max_depth'\n",
    "best_n_estimators = grid_model.best_params_['n_estimators']\n",
    "best_max_depth = grid_model.best_params_['max_depth']\n",
    "best_roc_auc_score = grid_model.best_score_\n",
    "\n",
    "print('\\n The optimal model has {} estimators, each of maximum tree depth {}, and it has an ROC AUC score of {}.'.format(best_n_estimators, best_max_depth, best_roc_auc_score))"
   ]
  },
  {
   "cell_type": "markdown",
   "metadata": {
    "id": "qtyurRP9Vzci"
   },
   "source": [
    "# Part 4 - Gradient Boosted Tree\n",
    "We will now fit a gradient boosted tree model to the data and study the performance of the model on the training and validation data."
   ]
  },
  {
   "cell_type": "code",
   "execution_count": null,
   "metadata": {
    "id": "KdHUiiYgZuGQ"
   },
   "outputs": [],
   "source": [
    "# Create a gradient boosted tree classifier model\n",
    "# Use 100 estimators, a maximum tree depth of 5, a learning rate of 0.1, and set the class weight as 'balanced'\n",
    "# Set the random state parameter to 123\n",
    "gbt = ##### CODE HERE #####\n",
    "\n",
    "# Fit the model to the training data\n",
    "##### CODE HERE #####"
   ]
  },
  {
   "cell_type": "code",
   "execution_count": null,
   "metadata": {
    "id": "sCXy1P5yZuGR"
   },
   "outputs": [],
   "source": [
    "# Obtain feature importances from the model\n",
    "gbtimp = ##### CODE HERE #####\n",
    "gbtimp"
   ]
  },
  {
   "cell_type": "code",
   "execution_count": null,
   "metadata": {
    "id": "J3iJe_WgZuGR"
   },
   "outputs": [],
   "source": [
    "# Visualize the feature importances\n",
    "plt.figure(figsize = (6, 4))\n",
    "gbtimpdf = pd.DataFrame(data = {'Features': X_train.columns, 'Importances': gbtimp})\n",
    "gbtimpdf = gbtimpdf.sort_values(by = 'Importances', ascending = False)\n",
    "sns.barplot(data = gbtimpdf, x = 'Importances', y = 'Features', orient = 'h');"
   ]
  },
  {
   "cell_type": "code",
   "execution_count": null,
   "metadata": {
    "id": "D9H2GEzHZuGR"
   },
   "outputs": [],
   "source": [
    "# Display the confusion matrices for the model on the training and validation data\n",
    "plt.rcParams.update({'font.size': 14})\n",
    "fig, ax = plt.subplots(1, 2, figsize = (12, 4))\n",
    "ConfusionMatrixDisplay.from_estimator(gbt, X_train, y_train, cmap = plt.cm.Blues, ax = ax[0])\n",
    "ConfusionMatrixDisplay.from_estimator(gbt, X_val, y_val, cmap = plt.cm.Blues, ax = ax[1])\n",
    "ax[0].set_title('Training')\n",
    "ax[1].set_title('Validation');"
   ]
  },
  {
   "cell_type": "code",
   "execution_count": null,
   "metadata": {
    "id": "IIlFwKkpZuGR"
   },
   "outputs": [],
   "source": [
    "# Compute the accuracy scores on the training and validation data\n",
    "# Obtain predictions\n",
    "y_pred_train = ##### CODE HERE #####\n",
    "y_pred_val = ##### CODE HERE #####\n",
    "\n",
    "# Compute accuracy scores\n",
    "train_acc = ##### CODE HERE #####\n",
    "val_acc = ##### CODE HERE #####\n",
    "\n",
    "print('Accuracy on the training data = {}'.format(train_acc))\n",
    "print('Accuracy on the validation data = {}'.format(val_acc))"
   ]
  },
  {
   "cell_type": "code",
   "execution_count": null,
   "metadata": {
    "id": "EgcfruZPZuGS"
   },
   "outputs": [],
   "source": [
    "# Compute the ROC AUC scores for the training and the validation data\n",
    "# Obtain predicted probabilities for class '1'\n",
    "train_probabilities = ##### CODE HERE #####\n",
    "val_probabilities = ##### CODE HERE #####\n",
    "\n",
    "# Compute ROC AUC scores\n",
    "train_auc = ##### CODE HERE #####\n",
    "val_auc = ##### CODE HERE #####\n",
    "\n",
    "print('ROC AUC score for the training data = {}'.format(train_auc))\n",
    "print('ROC AUC score for the validation data = {}'.format(val_auc))"
   ]
  },
  {
   "cell_type": "markdown",
   "metadata": {
    "id": "XNjJAAQGZuGS"
   },
   "source": [
    "# Part 5 - Gradient Boosted Tree: Hyperparameter Tuning\n",
    "In this section, we will:\n",
    "- Tune the gradient boosted tree model for the following hyperparameters:\n",
    "  - Number of estimators\n",
    "  - Maximum tree depth\n",
    "  - Learning rate\n",
    "- Tune the gradient boosted tree model for a combination of number of estimators, maximum tree depth and learning rate"
   ]
  },
  {
   "cell_type": "markdown",
   "metadata": {
    "id": "6EUHTVsNZuGT"
   },
   "source": [
    "## Subpart 1 - Hyperparameter Tuning: Number of Estimators"
   ]
  },
  {
   "cell_type": "code",
   "execution_count": null,
   "metadata": {
    "id": "JlXDzY6TZuGT"
   },
   "outputs": [],
   "source": [
    "# Define a list of number of estimators to tune over\n",
    "num_estimators = np.arange(50, 550, 50)\n",
    "\n",
    "# Create and train a gradient boosted tree model for each value of number of estimators\n",
    "performance_df = pd.DataFrame(data = None)\n",
    "\n",
    "# Use a for loop to loop over the different models and capture their performances\n",
    "indexcount = -1\n",
    "for current_num_estimators in num_estimators:\n",
    "    indexcount = indexcount + 1\n",
    "    \n",
    "    # Create a gradient boosted tree model with the current specifications\n",
    "    # Use the current number of estimators, a maximum tree depth of 5, a learning rate of 0.1, and set the class weight as 'balanced'\n",
    "    # Set the random state parameter to 123\n",
    "    current_gbt = ##### CODE HERE #####\n",
    "    \n",
    "    # Fit the model on the training data\n",
    "    ##### CODE HERE #####\n",
    "    \n",
    "    print('\\n Training for {} estimators is complete'.format(current_num_estimators))\n",
    "    \n",
    "    # Obtain predictions\n",
    "    current_y_pred_train = ##### CODE HERE #####\n",
    "    current_y_pred_val = ##### CODE HERE #####\n",
    "    \n",
    "    # Compute accuracy scores\n",
    "    current_train_acc = ##### CODE HERE #####\n",
    "    current_val_acc = ##### CODE HERE #####\n",
    "    \n",
    "    # Obtain predicted probabilities for class '1'\n",
    "    current_train_probabilities = ##### CODE HERE #####\n",
    "    current_val_probabilities = ##### CODE HERE #####\n",
    "    \n",
    "    # Compute ROC AUC scores\n",
    "    current_train_auc = ##### CODE HERE #####\n",
    "    current_val_auc = ##### CODE HERE #####\n",
    "    \n",
    "    tempdf = pd.DataFrame(index = [indexcount],\n",
    "                          data = {'Number of Estimators': current_num_estimators,\n",
    "                                  'Training Accuracy': current_train_acc,\n",
    "                                  'Validation Accuracy': current_val_acc,\n",
    "                                  'Training ROC AUC': current_train_auc,\n",
    "                                  'Validation ROC AUC': current_val_auc})\n",
    "    \n",
    "    performance_df = pd.concat([performance_df, tempdf])\n",
    "\n",
    "performance_df.set_index('Number of Estimators')"
   ]
  },
  {
   "cell_type": "code",
   "execution_count": null,
   "metadata": {
    "id": "zG6xZTlrZuGT"
   },
   "outputs": [],
   "source": [
    "# Visualize variation in validation accuracy scores with respect to number of estimators\n",
    "plt.figure(figsize = (10, 4))\n",
    "\n",
    "sns.lineplot(data = performance_df, x = 'Number of Estimators', y = 'Validation Accuracy', marker = 'o', markersize = 12)\n",
    "plt.title('Validation Accuracy Scores by Number of Estimators')\n",
    "plt.ylabel('Accuracy')\n",
    "plt.xlabel('Number of Estimators')\n",
    "plt.xticks(num_estimators);"
   ]
  },
  {
   "cell_type": "code",
   "execution_count": null,
   "metadata": {
    "id": "x2L8HJrDZuGT"
   },
   "outputs": [],
   "source": [
    "# Visualize variation in validation ROC AUC scores with respect to number of estimators\n",
    "plt.figure(figsize = (10, 4))\n",
    "\n",
    "sns.lineplot(data = performance_df, x = 'Number of Estimators', y = 'Validation ROC AUC', marker = 'o', markersize = 12)\n",
    "plt.title('Validation ROC AUC Scores by Number of Estimators')\n",
    "plt.ylabel('ROC AUC Score')\n",
    "plt.xlabel('Number of Estimators')\n",
    "plt.xticks(num_estimators);"
   ]
  },
  {
   "cell_type": "markdown",
   "metadata": {
    "id": "KDL-avB-ZuGT"
   },
   "source": [
    "## Subpart 2 - Hyperparameter Tuning: Maximum Tree Depth"
   ]
  },
  {
   "cell_type": "code",
   "execution_count": null,
   "metadata": {
    "id": "CFx9O9TAZuGU"
   },
   "outputs": [],
   "source": [
    "# Define a list of maximum tree depth values to tune over\n",
    "max_tree_depths = np.arange(1, 11, 1)\n",
    "\n",
    "# Create and train a gradient boosted tree model for each value of maximum tree depth\n",
    "performance_df = pd.DataFrame(data = None)\n",
    "\n",
    "# Use a for loop to loop over the different models and capture their performances\n",
    "indexcount = -1\n",
    "for current_max_tree_depth in max_tree_depths:\n",
    "    indexcount = indexcount + 1\n",
    "    \n",
    "    # Create a gradient boosted tree model with the current specifications\n",
    "    # Use 100 estimators, the current maximum tree depth, a learning rate of 0.1, and set the class weight as 'balanced'\n",
    "    # Set the random state parameter to 123\n",
    "    current_gbt = ##### CODE HERE #####\n",
    "    \n",
    "    # Fit the model on the training data\n",
    "    ##### CODE HERE #####\n",
    "    \n",
    "    print('\\n Training for tree depth of {} is complete'.format(current_max_tree_depth))\n",
    "    \n",
    "    # Obtain predictions\n",
    "    current_y_pred_train = ##### CODE HERE #####\n",
    "    current_y_pred_val = ##### CODE HERE #####\n",
    "    \n",
    "    # Compute accuracy scores\n",
    "    current_train_acc = ##### CODE HERE #####\n",
    "    current_val_acc = ##### CODE HERE #####\n",
    "    \n",
    "    # Obtain predicted probabilities for class '1'\n",
    "    current_train_probabilities = ##### CODE HERE #####\n",
    "    current_val_probabilities = ##### CODE HERE #####\n",
    "    \n",
    "    # Compute ROC AUC scores\n",
    "    current_train_auc = ##### CODE HERE #####\n",
    "    current_val_auc = ##### CODE HERE #####\n",
    "    \n",
    "    tempdf = pd.DataFrame(index = [indexcount],\n",
    "                          data = {'Maximum Tree Depth': current_max_tree_depth,\n",
    "                                  'Training Accuracy': current_train_acc,\n",
    "                                  'Validation Accuracy': current_val_acc,\n",
    "                                  'Training ROC AUC': current_train_auc,\n",
    "                                  'Validation ROC AUC': current_val_auc})\n",
    "    \n",
    "    performance_df = pd.concat([performance_df, tempdf])\n",
    "\n",
    "performance_df.set_index('Maximum Tree Depth')"
   ]
  },
  {
   "cell_type": "code",
   "execution_count": null,
   "metadata": {
    "id": "rwX5p7GvZuGU"
   },
   "outputs": [],
   "source": [
    "# Visualize variation in validation accuracy scores with respect to maximum tree depth\n",
    "plt.figure(figsize = (10, 4))\n",
    "\n",
    "sns.lineplot(data = performance_df, x = 'Maximum Tree Depth', y = 'Validation Accuracy', marker = 'o', markersize = 12)\n",
    "plt.title('Validation Accuracy Scores by Maximum Tree Depth')\n",
    "plt.ylabel('Accuracy')\n",
    "plt.xlabel('Maximum Tree Depth')\n",
    "plt.xticks(max_tree_depths);"
   ]
  },
  {
   "cell_type": "code",
   "execution_count": null,
   "metadata": {
    "id": "kPzQMFTlZuGU"
   },
   "outputs": [],
   "source": [
    "# Visualize variation in validation ROC AUC scores with respect to maximum tree depth\n",
    "plt.figure(figsize = (10, 4))\n",
    "\n",
    "sns.lineplot(data = performance_df, x = 'Maximum Tree Depth', y = 'Validation ROC AUC', marker = 'o', markersize = 12)\n",
    "plt.title('Validation ROC AUC Scores by Maximum Tree Depth')\n",
    "plt.ylabel('ROC AUC Score')\n",
    "plt.xlabel('Maximum Tree Depth')\n",
    "plt.xticks(max_tree_depths);"
   ]
  },
  {
   "cell_type": "markdown",
   "metadata": {
    "id": "f39dFtN9ZuGU"
   },
   "source": [
    "## Subpart 3 - Hyperparameter Tuning: Learning Rate"
   ]
  },
  {
   "cell_type": "code",
   "execution_count": null,
   "metadata": {
    "id": "MdY0SMeSZuGU"
   },
   "outputs": [],
   "source": [
    "# Define a list of learning rate values to tune over\n",
    "learning_rates = np.arange(0.02, 0.22, 0.02)\n",
    "\n",
    "# Create and train a gradient boosted tree model for each value of learning rate\n",
    "performance_df = pd.DataFrame(data = None)\n",
    "\n",
    "# Use a for loop to loop over the different models and capture their performances\n",
    "indexcount = -1\n",
    "for current_learning_rate in learning_rates:\n",
    "    indexcount = indexcount + 1\n",
    "    \n",
    "    # Create a gradient boosted tree model with the current specifications\n",
    "    # Use 100 estimators, a maximum tree depth of 5, the current learning rate, and set the class weight as 'balanced'\n",
    "    # Set the random state parameter to 123\n",
    "    current_gbt = ##### CODE HERE #####\n",
    "    \n",
    "    # Fit the model on the training data\n",
    "    ##### CODE HERE #####\n",
    "    \n",
    "    print('\\n Training for learning rate of {} is complete'.format(np.round(current_learning_rate, 2)))\n",
    "    \n",
    "    # Obtain predictions\n",
    "    current_y_pred_train = ##### CODE HERE #####\n",
    "    current_y_pred_val = ##### CODE HERE #####\n",
    "    \n",
    "    # Compute accuracy scores\n",
    "    current_train_acc = ##### CODE HERE #####\n",
    "    current_val_acc = ##### CODE HERE #####\n",
    "    \n",
    "    # Obtain predicted probabilities for class '1'\n",
    "    current_train_probabilities = ##### CODE HERE #####\n",
    "    current_val_probabilities = ##### CODE HERE #####\n",
    "    \n",
    "    # Compute ROC AUC scores\n",
    "    current_train_auc = ##### CODE HERE #####\n",
    "    current_val_auc = ##### CODE HERE #####\n",
    "    \n",
    "    tempdf = pd.DataFrame(index = [indexcount],\n",
    "                          data = {'Learning Rate': current_learning_rate,\n",
    "                                  'Training Accuracy': current_train_acc,\n",
    "                                  'Validation Accuracy': current_val_acc,\n",
    "                                  'Training ROC AUC': current_train_auc,\n",
    "                                  'Validation ROC AUC': current_val_auc})\n",
    "    \n",
    "    performance_df = pd.concat([performance_df, tempdf])\n",
    "\n",
    "performance_df.set_index('Learning Rate')"
   ]
  },
  {
   "cell_type": "code",
   "execution_count": null,
   "metadata": {
    "id": "dsbcHwfDZuGV"
   },
   "outputs": [],
   "source": [
    "# Visualize variation in validation accuracy scores with respect to learning rate\n",
    "plt.figure(figsize = (10, 4))\n",
    "\n",
    "sns.lineplot(data = performance_df, x = 'Learning Rate', y = 'Validation Accuracy', marker = 'o', markersize = 12)\n",
    "plt.title('Validation Accuracy Scores by Learning Rate')\n",
    "plt.ylabel('Accuracy')\n",
    "plt.xlabel('Learning Rate')\n",
    "plt.xticks(learning_rates);"
   ]
  },
  {
   "cell_type": "code",
   "execution_count": null,
   "metadata": {
    "id": "QoWGXUW2ZuGV"
   },
   "outputs": [],
   "source": [
    "# Visualize variation in validation ROC AUC scores with respect to learning rate\n",
    "plt.figure(figsize = (10, 4))\n",
    "\n",
    "sns.lineplot(data = performance_df, x = 'Learning Rate', y = 'Validation ROC AUC', marker = 'o', markersize = 12)\n",
    "plt.title('Validation ROC AUC Scores by Learning Rate')\n",
    "plt.ylabel('ROC AUC Score')\n",
    "plt.xlabel('Learning Rate')\n",
    "plt.xticks(learning_rates);"
   ]
  },
  {
   "cell_type": "markdown",
   "metadata": {
    "id": "K61uzx0MZuGV"
   },
   "source": [
    "## Subpart 4 - Hyperparameter Tuning: Combinations of Hyperparameters"
   ]
  },
  {
   "cell_type": "code",
   "execution_count": null,
   "metadata": {
    "id": "O1XAN1tuZuGV",
    "scrolled": true
   },
   "outputs": [],
   "source": [
    "# Initialize a basic gradient boosted classifier model\n",
    "# Set the class weight as 'balanced'\n",
    "# Set the random state parameter to 123\n",
    "base_grid_model = ##### CODE HERE #####\n",
    "\n",
    "# Define a range of hyperparameter values to tune for and store them in a dictionary\n",
    "parameters_grid = {'n_estimators': [50, 100],\n",
    "                   'max_depth': [7, 9],\n",
    "                   'learning_rate': [0.06, 0.08]}\n",
    "\n",
    "# Perform a grid search using the 'GridSearchCV()' method to obtain a grid on which to fit the training data\n",
    "# Use ROC AUC score as a scoring metric\n",
    "# Use the default number of cross-validation folds\n",
    "# Set the 'verbose' parameter to 3 or more to display useful results during the process\n",
    "grid = ##### CODE HERE #####\n",
    "\n",
    "# Fit the model on the training data\n",
    "grid_model = ##### CODE HERE #####\n",
    "\n",
    "# Print the optimal values of 'n_estimators', 'max_depth' and 'learning_rate'\n",
    "best_n_estimators = grid_model.best_params_['n_estimators']\n",
    "best_max_depth = grid_model.best_params_['max_depth']\n",
    "best_learning_rate = grid_model.best_params_['learning_rate']\n",
    "best_roc_auc_score = grid_model.best_score_\n",
    "\n",
    "print('\\n The optimal model has {} estimators, each of maximum tree depth {}, a learning rate of {}, and it has an ROC AUC score of {}.'.format(best_n_estimators, best_max_depth, best_learning_rate, best_roc_auc_score))"
   ]
  },
  {
   "cell_type": "code",
   "execution_count": null,
   "metadata": {
    "id": "r1sa2up7ZuGV"
   },
   "outputs": [],
   "source": []
  }
 ],
 "metadata": {
  "colab": {
   "provenance": []
  },
  "kernelspec": {
   "display_name": "Python 3 (ipykernel)",
   "language": "python",
   "name": "python3"
  },
  "language_info": {
   "codemirror_mode": {
    "name": "ipython",
    "version": 3
   },
   "file_extension": ".py",
   "mimetype": "text/x-python",
   "name": "python",
   "nbconvert_exporter": "python",
   "pygments_lexer": "ipython3",
   "version": "3.11.8"
  }
 },
 "nbformat": 4,
 "nbformat_minor": 4
}
