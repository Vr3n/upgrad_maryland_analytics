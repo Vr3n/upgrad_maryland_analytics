{
 "cells": [
  {
   "cell_type": "code",
   "execution_count": 1,
   "id": "15156623-504a-4c8d-aae7-178d39875540",
   "metadata": {},
   "outputs": [],
   "source": [
    "import numpy as np\n",
    "import pandas as pd"
   ]
  },
  {
   "cell_type": "code",
   "execution_count": 2,
   "id": "03d23d3f-f40b-4e72-b995-de100cddd484",
   "metadata": {},
   "outputs": [],
   "source": [
    "X_t1 = 27.1\n",
    "w_f = 0.5\n",
    "w_r = -1\n",
    "h_0 = 32\n",
    "b = 50"
   ]
  },
  {
   "cell_type": "code",
   "execution_count": 3,
   "id": "c939d864-5969-4c2b-a3d6-984cebf3831f",
   "metadata": {},
   "outputs": [],
   "source": [
    "def calculate_neuron(X_t, w_f, w_r, h, b):\n",
    "    return (X_t * w_f) + (h * w_r) + b"
   ]
  },
  {
   "cell_type": "code",
   "execution_count": 4,
   "id": "b76df399-dc34-44aa-b83d-aeb16da3652c",
   "metadata": {},
   "outputs": [
    {
     "data": {
      "text/plain": [
       "31.55"
      ]
     },
     "execution_count": 4,
     "metadata": {},
     "output_type": "execute_result"
    }
   ],
   "source": [
    "calculate_neuron(X_t1, w_f, w_r, h_0, b)"
   ]
  },
  {
   "cell_type": "code",
   "execution_count": 5,
   "id": "e5df6d46-d778-43dc-bbb6-51ed491320d0",
   "metadata": {},
   "outputs": [
    {
     "data": {
      "text/plain": [
       "27.0"
      ]
     },
     "execution_count": 5,
     "metadata": {},
     "output_type": "execute_result"
    }
   ],
   "source": [
    "calculate_neuron(17.1, 0.5, -1, 31.55, b)"
   ]
  },
  {
   "cell_type": "code",
   "execution_count": 6,
   "id": "af366737-8967-40e0-8150-ad3189f43959",
   "metadata": {},
   "outputs": [
    {
     "data": {
      "text/plain": [
       "26.1"
      ]
     },
     "execution_count": 6,
     "metadata": {},
     "output_type": "execute_result"
    }
   ],
   "source": [
    "calculate_neuron(6.2, 0.5, -1, 27.0, b)"
   ]
  },
  {
   "cell_type": "code",
   "execution_count": 7,
   "id": "24333f11-7fe8-41b3-8c64-1f8f976818aa",
   "metadata": {},
   "outputs": [
    {
     "data": {
      "text/plain": [
       "65"
      ]
     },
     "execution_count": 7,
     "metadata": {},
     "output_type": "execute_result"
    }
   ],
   "source": [
    "(2 * 3) + (3 * 3) + (3) + (3 * 4) + (4 * 4) + 4 + (4 * 3) + 3"
   ]
  },
  {
   "cell_type": "code",
   "execution_count": 8,
   "id": "fe50f606-24f7-46e2-86c3-16efe55c6292",
   "metadata": {},
   "outputs": [
    {
     "data": {
      "text/plain": [
       "138"
      ]
     },
     "execution_count": 8,
     "metadata": {},
     "output_type": "execute_result"
    }
   ],
   "source": [
    "(3 * 5) + (5 * 5) + 5 + (5 * 6) + (6 * 6) + (6) + (6 * 3) + 3"
   ]
  },
  {
   "cell_type": "code",
   "execution_count": null,
   "id": "a65bf60d-7f18-4767-ba71-692eb9c685ee",
   "metadata": {},
   "outputs": [],
   "source": []
  }
 ],
 "metadata": {
  "kernelspec": {
   "display_name": "Python 3 (ipykernel)",
   "language": "python",
   "name": "python3"
  },
  "language_info": {
   "codemirror_mode": {
    "name": "ipython",
    "version": 3
   },
   "file_extension": ".py",
   "mimetype": "text/x-python",
   "name": "python",
   "nbconvert_exporter": "python",
   "pygments_lexer": "ipython3",
   "version": "3.11.8"
  }
 },
 "nbformat": 4,
 "nbformat_minor": 5
}
