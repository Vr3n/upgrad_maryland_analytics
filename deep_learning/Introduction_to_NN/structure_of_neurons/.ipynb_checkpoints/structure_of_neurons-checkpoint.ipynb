{
 "cells": [
  {
   "cell_type": "code",
   "execution_count": 2,
   "id": "3aaca059-18b2-4249-8079-50ce790c2071",
   "metadata": {},
   "outputs": [],
   "source": [
    "from typing import List\n",
    "import pandas as pd\n",
    "import numpy as np\n",
    "from keras import layers, activations"
   ]
  },
  {
   "cell_type": "code",
   "execution_count": 4,
   "id": "33655cc6-561e-4c8f-8b9b-8a3c4a4341d1",
   "metadata": {},
   "outputs": [],
   "source": [
    "class Neuron:\n",
    "    def __init__(self, inputs: List[tuple[int]], bias: int):\n",
    "        self.inputs = inputs\n",
    "        self.bias = bias\n",
    "\n",
    "    @property\n",
    "    def activation_sigmoid(self):\n",
    "        output = np.array([np.dot(*data) for data in self.inputs])\n",
    "        output = np.append(output, self.bias)\n",
    "        return round(activations.sigmoid(np.sum(output, dtype='float').numpy()), 2)\n",
    "\n",
    "    @property\n",
    "    def activation_linear(self):\n",
    "        output = np.array([np.dot(*data) for data in self.inputs])\n",
    "        output = np.append(output, self.bias)\n",
    "        return round(activations.linear(np.sum(output, dtype='float').numpy()), 2)\n",
    "\n",
    "    @property\n",
    "    def activation_relu(self):\n",
    "        output = np.array([np.dot(*data) for data in self.inputs])\n",
    "        output = np.append(output, self.bias)\n",
    "        return round(activations.relu(np.sum(output, dtype='float').numpy()), 2)"
   ]
  },
  {
   "cell_type": "code",
   "execution_count": 6,
   "id": "a15ac9e6-d115-4bd6-873d-8f708530dc82",
   "metadata": {},
   "outputs": [],
   "source": [
    "n1 = Neuron(inputs = [(-1, 0.5), (-1, 0.2), (0.5, -1)], bias=1)"
   ]
  },
  {
   "cell_type": "code",
   "execution_count": 7,
   "id": "55b2ef2f-d5c3-41fa-955b-1692aab04caa",
   "metadata": {},
   "outputs": [
    {
     "ename": "AttributeError",
     "evalue": "'numpy.float64' object has no attribute 'numpy'",
     "output_type": "error",
     "traceback": [
      "\u001b[1;31m---------------------------------------------------------------------------\u001b[0m",
      "\u001b[1;31mAttributeError\u001b[0m                            Traceback (most recent call last)",
      "Cell \u001b[1;32mIn[7], line 2\u001b[0m\n\u001b[0;32m      1\u001b[0m n1_sigmoid \u001b[38;5;241m=\u001b[39m n1\u001b[38;5;241m.\u001b[39mactivation_sigmoid\n\u001b[1;32m----> 2\u001b[0m n1_linear \u001b[38;5;241m=\u001b[39m \u001b[43mn1\u001b[49m\u001b[38;5;241;43m.\u001b[39;49m\u001b[43mactivation_linear\u001b[49m\n\u001b[0;32m      3\u001b[0m n1_relu \u001b[38;5;241m=\u001b[39m n1\u001b[38;5;241m.\u001b[39mactivation_relu\n",
      "Cell \u001b[1;32mIn[4], line 16\u001b[0m, in \u001b[0;36mNeuron.activation_linear\u001b[1;34m(self)\u001b[0m\n\u001b[0;32m     14\u001b[0m output \u001b[38;5;241m=\u001b[39m np\u001b[38;5;241m.\u001b[39marray([np\u001b[38;5;241m.\u001b[39mdot(\u001b[38;5;241m*\u001b[39mdata) \u001b[38;5;28;01mfor\u001b[39;00m data \u001b[38;5;129;01min\u001b[39;00m \u001b[38;5;28mself\u001b[39m\u001b[38;5;241m.\u001b[39minputs])\n\u001b[0;32m     15\u001b[0m output \u001b[38;5;241m=\u001b[39m np\u001b[38;5;241m.\u001b[39mappend(output, \u001b[38;5;28mself\u001b[39m\u001b[38;5;241m.\u001b[39mbias)\n\u001b[1;32m---> 16\u001b[0m \u001b[38;5;28;01mreturn\u001b[39;00m \u001b[38;5;28mround\u001b[39m(\u001b[43mactivations\u001b[49m\u001b[38;5;241;43m.\u001b[39;49m\u001b[43mlinear\u001b[49m\u001b[43m(\u001b[49m\u001b[43mnp\u001b[49m\u001b[38;5;241;43m.\u001b[39;49m\u001b[43msum\u001b[49m\u001b[43m(\u001b[49m\u001b[43moutput\u001b[49m\u001b[43m,\u001b[49m\u001b[43m \u001b[49m\u001b[43mdtype\u001b[49m\u001b[38;5;241;43m=\u001b[39;49m\u001b[38;5;124;43m'\u001b[39;49m\u001b[38;5;124;43mfloat\u001b[39;49m\u001b[38;5;124;43m'\u001b[39;49m\u001b[43m)\u001b[49m\u001b[43m)\u001b[49m\u001b[38;5;241;43m.\u001b[39;49m\u001b[43mnumpy\u001b[49m(), \u001b[38;5;241m2\u001b[39m)\n",
      "\u001b[1;31mAttributeError\u001b[0m: 'numpy.float64' object has no attribute 'numpy'"
     ]
    }
   ],
   "source": [
    "n1_sigmoid = n1.activation_sigmoid\n",
    "n1_linear = n1.activation_linear\n",
    "n1_relu = n1.activation_relu"
   ]
  },
  {
   "cell_type": "code",
   "execution_count": 270,
   "id": "d3a7a756-36e9-4689-a062-92f1cf36964b",
   "metadata": {},
   "outputs": [],
   "source": [
    "n2 = Neuron(inputs = [(1, -2), (1, 1)], bias=0)"
   ]
  },
  {
   "cell_type": "code",
   "execution_count": 271,
   "id": "34f9507e-e33f-44e7-9203-e42ed0c8f772",
   "metadata": {},
   "outputs": [
    {
     "data": {
      "text/plain": [
       "0.27"
      ]
     },
     "execution_count": 271,
     "metadata": {},
     "output_type": "execute_result"
    }
   ],
   "source": [
    "n2.activation_value"
   ]
  },
  {
   "cell_type": "code",
   "execution_count": 272,
   "id": "ec0b4cd3-e572-46b6-980a-9bdf4baf7771",
   "metadata": {},
   "outputs": [],
   "source": [
    "n3 = Neuron(inputs=[(n1.activation_value, 1), (n2.activation_value, 0.5)], bias=1)"
   ]
  },
  {
   "cell_type": "code",
   "execution_count": 273,
   "id": "978dc128-aee4-47c1-90a5-a67e3bfd1616",
   "metadata": {},
   "outputs": [
    {
     "data": {
      "text/plain": [
       "0.87"
      ]
     },
     "execution_count": 273,
     "metadata": {},
     "output_type": "execute_result"
    }
   ],
   "source": [
    "n3.activation_value"
   ]
  },
  {
   "cell_type": "code",
   "execution_count": null,
   "id": "84545310-e4f4-4b99-a65e-5a9706f30ce4",
   "metadata": {},
   "outputs": [],
   "source": []
  }
 ],
 "metadata": {
  "kernelspec": {
   "display_name": "Python 3 (ipykernel)",
   "language": "python",
   "name": "python3"
  },
  "language_info": {
   "codemirror_mode": {
    "name": "ipython",
    "version": 3
   },
   "file_extension": ".py",
   "mimetype": "text/x-python",
   "name": "python",
   "nbconvert_exporter": "python",
   "pygments_lexer": "ipython3",
   "version": "3.11.8"
  }
 },
 "nbformat": 4,
 "nbformat_minor": 5
}
