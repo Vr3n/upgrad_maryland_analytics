{
 "cells": [
  {
   "cell_type": "code",
   "execution_count": 2,
   "id": "3aaca059-18b2-4249-8079-50ce790c2071",
   "metadata": {},
   "outputs": [],
   "source": [
    "from typing import List\n",
    "import pandas as pd\n",
    "import numpy as np\n",
    "from keras import layers, activations"
   ]
  },
  {
   "cell_type": "code",
   "execution_count": 46,
   "id": "33655cc6-561e-4c8f-8b9b-8a3c4a4341d1",
   "metadata": {},
   "outputs": [],
   "source": [
    "class Neuron:\n",
    "    def __init__(self, inputs: List[tuple[int]], bias: int = 0):\n",
    "        self.inputs = inputs\n",
    "        self.bias = bias\n",
    "\n",
    "    @property\n",
    "    def activation_sigmoid(self):\n",
    "        output = np.array([np.dot(*data) for data in self.inputs])\n",
    "        output = np.append(output, self.bias)\n",
    "        return round(activations.sigmoid(np.sum(output)).numpy(), 2)\n",
    "\n",
    "    @property\n",
    "    def activation_linear(self):\n",
    "        output = np.array([np.dot(*data) for data in self.inputs])\n",
    "        output = np.append(output, self.bias)\n",
    "        return round(activations.linear(np.sum(output)), 2)\n",
    "\n",
    "    @property\n",
    "    def activation_relu(self):\n",
    "        output = np.array([np.dot(*data) for data in self.inputs])\n",
    "        output = np.append(output, self.bias)\n",
    "        return activations.relu(np.sum(output))\n",
    "\n",
    "    @property\n",
    "    def activation_softmax(self):\n",
    "        exp_values = np.exp(self.inputs)\n",
    "        normal_values = exp_values / np.sum(exp_values)\n",
    "        return normal_values"
   ]
  },
  {
   "cell_type": "code",
   "execution_count": 35,
   "id": "a15ac9e6-d115-4bd6-873d-8f708530dc82",
   "metadata": {},
   "outputs": [],
   "source": [
    "n1 = Neuron(inputs = np.array([(-1, 0.5), (-1, 0.2), (0.5, -1)]), bias=1)"
   ]
  },
  {
   "cell_type": "code",
   "execution_count": 36,
   "id": "55b2ef2f-d5c3-41fa-955b-1692aab04caa",
   "metadata": {},
   "outputs": [],
   "source": [
    "n1_sigmoid = n1.activation_sigmoid\n",
    "n1_linear = n1.activation_linear\n",
    "n1_relu = n1.activation_relu\n"
   ]
  },
  {
   "cell_type": "code",
   "execution_count": 38,
   "id": "16bd5d64-6b1d-4eb8-933b-10cb717bdfe4",
   "metadata": {},
   "outputs": [
    {
     "name": "stdout",
     "output_type": "stream",
     "text": [
      "0.45 -0.2 0.0\n"
     ]
    }
   ],
   "source": [
    "print(n1_sigmoid, n1_linear, n1_relu.numpy())"
   ]
  },
  {
   "cell_type": "code",
   "execution_count": 48,
   "id": "33de5138-1041-492c-853e-584fed13bead",
   "metadata": {},
   "outputs": [],
   "source": [
    "z = Neuron(inputs=np.array([1.5, 3.5, 5]))"
   ]
  },
  {
   "cell_type": "code",
   "execution_count": 50,
   "id": "e4e69e7a-3c69-4496-9f1a-6d8f66216143",
   "metadata": {},
   "outputs": [
    {
     "data": {
      "text/plain": [
       "array([ 2.40937683, 17.80302055, 79.78760262])"
      ]
     },
     "execution_count": 50,
     "metadata": {},
     "output_type": "execute_result"
    }
   ],
   "source": [
    "100 * z.activation_softmax"
   ]
  },
  {
   "cell_type": "code",
   "execution_count": null,
   "id": "a65ce4c1-2862-4c4b-802d-94122729e7aa",
   "metadata": {},
   "outputs": [],
   "source": []
  }
 ],
 "metadata": {
  "kernelspec": {
   "display_name": "Python 3 (ipykernel)",
   "language": "python",
   "name": "python3"
  },
  "language_info": {
   "codemirror_mode": {
    "name": "ipython",
    "version": 3
   },
   "file_extension": ".py",
   "mimetype": "text/x-python",
   "name": "python",
   "nbconvert_exporter": "python",
   "pygments_lexer": "ipython3",
   "version": "3.11.8"
  }
 },
 "nbformat": 4,
 "nbformat_minor": 5
}
