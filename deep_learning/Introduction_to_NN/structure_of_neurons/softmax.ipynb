{
 "cells": [
  {
   "cell_type": "code",
   "execution_count": 18,
   "id": "c1e5790f-01ac-49e5-85c5-f2bda50420dc",
   "metadata": {},
   "outputs": [],
   "source": [
    "import math\n",
    "import seaborn as sns\n",
    "import numpy as np\n",
    "import matplotlib.pyplot as plt"
   ]
  },
  {
   "cell_type": "markdown",
   "id": "fbd51cc2-ded3-42e4-99ca-27310b3c3bfc",
   "metadata": {},
   "source": [
    "## Defining Euler Number"
   ]
  },
  {
   "cell_type": "code",
   "execution_count": 19,
   "id": "14381f1f-2507-4203-a366-b738e3d77687",
   "metadata": {},
   "outputs": [],
   "source": [
    "layer_outputs = [4.8, 1.21, 2.385]"
   ]
  },
  {
   "cell_type": "code",
   "execution_count": 20,
   "id": "72db8b11-e6e2-4f93-bd3d-a555dd1b3fe2",
   "metadata": {},
   "outputs": [],
   "source": [
    "E = math.e"
   ]
  },
  {
   "cell_type": "code",
   "execution_count": 30,
   "id": "d6b90d0a-9327-4787-aaca-ddf104ed6cdd",
   "metadata": {},
   "outputs": [],
   "source": [
    "exp_values = np.exp(layer_outputs)"
   ]
  },
  {
   "cell_type": "markdown",
   "id": "5fb6c6ba-08f8-467a-a692-1d26194e835c",
   "metadata": {},
   "source": [
    "### Normalization"
   ]
  },
  {
   "cell_type": "code",
   "execution_count": 31,
   "id": "1c451f2a-1382-48bf-bb1a-42353942d8fb",
   "metadata": {},
   "outputs": [],
   "source": [
    "norm_values = exp_values / np.sum(exp_values)"
   ]
  },
  {
   "cell_type": "code",
   "execution_count": 28,
   "id": "57867589-be16-4a59-90df-f2e6c25e6a03",
   "metadata": {},
   "outputs": [
    {
     "data": {
      "text/plain": [
       "[0.8952826639572619, 0.024708306782099374, 0.0800090292606387]"
      ]
     },
     "execution_count": 28,
     "metadata": {},
     "output_type": "execute_result"
    }
   ],
   "source": [
    "norm_values"
   ]
  },
  {
   "cell_type": "code",
   "execution_count": 32,
   "id": "aedc4eda-5901-4d97-85d8-235f18962e5a",
   "metadata": {},
   "outputs": [
    {
     "data": {
      "text/plain": [
       "0.9999999999999999"
      ]
     },
     "execution_count": 32,
     "metadata": {},
     "output_type": "execute_result"
    }
   ],
   "source": [
    "np.sum(norm_values)"
   ]
  },
  {
   "cell_type": "code",
   "execution_count": null,
   "id": "5974252e-4806-4121-89a8-dcf73921cf75",
   "metadata": {},
   "outputs": [],
   "source": []
  }
 ],
 "metadata": {
  "kernelspec": {
   "display_name": "Python 3 (ipykernel)",
   "language": "python",
   "name": "python3"
  },
  "language_info": {
   "codemirror_mode": {
    "name": "ipython",
    "version": 3
   },
   "file_extension": ".py",
   "mimetype": "text/x-python",
   "name": "python",
   "nbconvert_exporter": "python",
   "pygments_lexer": "ipython3",
   "version": "3.11.8"
  }
 },
 "nbformat": 4,
 "nbformat_minor": 5
}
