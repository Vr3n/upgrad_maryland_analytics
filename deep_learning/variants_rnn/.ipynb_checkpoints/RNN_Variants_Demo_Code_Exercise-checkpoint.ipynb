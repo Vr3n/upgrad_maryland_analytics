{
 "cells": [
  {
   "cell_type": "markdown",
   "metadata": {
    "id": "w4gU_Gs--yjG"
   },
   "source": [
    "# Introduction\n",
    "\n",
    "Data related to stock markets lends itself well to modeling using RNNs due to its sequential nature. We can keep track of opening prices, closing prices, highest prices, and so on for a long period of time as these values are generated every working day. The patterns observed in this data can then be used to predict the future direction in which stock prices are expected to move. Analyzing this data can be interesting in itself, but it also has a financial incentive as accurate predictions can lead to massive profits.\n",
    "\n",
    "In this notebook, we will try to predict the stock price of AMZN (this is the symbol with which Amazon is referred to in the stock market), using historical data from four companies IBM (IBM), Google (GOOGL), Amazon (AMZN), and Microsoft (MSFT). We use four different companies because they belong to the same sector: Technology. Using data from all four companies may improve the performance of the model. This way, we can capture the broader market sentiment.\n",
    "\n",
    "The problem statement for this demonstration can be summarized as follows:\n",
    "\n",
    "> Given the stock prices of Amazon, Google, IBM, and Microsoft for a set number of days, predict the stock price of Amazon after that window.\n",
    "\n",
    "Let's now look at the data used in this exercise."
   ]
  },
  {
   "cell_type": "markdown",
   "metadata": {
    "id": "TC424ieDIlaK"
   },
   "source": [
    "# Data Description\n",
    "\n",
    "You have been provided with four CSV files corresponding to four stocks: AMZN, GOOGL, IBM, and MSFT. The files contain historical data that were gathered from the websites of the stock markets where these companies are listed: NYSE and NASDAQ. The columns in all four files are identical. Let's take a look at them:\n",
    "\n",
    "- *Date*: The values in this column specify the date on which the values were recorded. In all four files, the dates range from Jaunary 1, 2006 to January 1, 2018.\n",
    "\n",
    "- *Open*: The values in this column specify the stock price on a given date when the stock market opens.\n",
    "\n",
    "- *High*: The values in this column specify the highest stock price achieved by a stock on a given date.\n",
    "\n",
    "- *Low*: The values in this column specify the lowest stock price achieved by a stock on a given date.\n",
    "\n",
    "- *Close*: The values in this column specify the stock price on a given date when the stock market closes.\n",
    "\n",
    "- *Volume*: The values in this column specify the total number of shares traded on a given date.\n",
    "\n",
    "- *Name*: This column gives the official name of the stock as used in the stock market.\n",
    "\n",
    "There are 3019 records in each data set. The file names are of the format \"\\<company_name>_stock_data.csv\"."
   ]
  },
  {
   "cell_type": "markdown",
   "metadata": {
    "id": "XzV7hepM8K-H"
   },
   "source": [
    "# Part 1 - Setup and Data Preparation\n",
    "In this section, we will:\n",
    "- Import necessary packages for executing the code\n",
    "- Load the data\n",
    "- Prepare the data for further analysis"
   ]
  },
  {
   "cell_type": "code",
   "execution_count": 1,
   "metadata": {
    "id": "RyZsIlDgfO3s"
   },
   "outputs": [],
   "source": [
    "# Import 'numpy' and 'pandas' for working with numbers and dataframes\n",
    "import numpy as np\n",
    "import pandas as pd\n",
    "\n",
    "# Import 'pyplot' from 'matplotlib' and 'seaborn' for visualizations\n",
    "from matplotlib import pyplot as plt\n",
    "import seaborn as sns\n",
    "\n",
    "# Import 'train_test_split' for data partitioning\n",
    "from sklearn.model_selection import train_test_split\n",
    "\n",
    "# Import a scaling method\n",
    "from sklearn.preprocessing import MinMaxScaler\n",
    "\n",
    "# Import methods for building and training neural networks\n",
    "from tensorflow.keras.models import Sequential\n",
    "from tensorflow.keras.layers import Input, Dense, SimpleRNN, LSTM, GRU\n",
    "from tensorflow.keras.optimizers import RMSprop\n",
    "\n",
    "# Import 'GridSearchCV' for hyperparameter tuning\n",
    "from sklearn.model_selection import GridSearchCV\n",
    "\n",
    "# Import 'KerasRegressor' from 'keras' for connecting neural networks with 'sklearn' and 'GridSearchCV'\n",
    "from keras.wrappers.scikit_learn import KerasRegressor\n",
    "\n",
    "# Import and execute method for suppressing warnings\n",
    "import warnings\n",
    "warnings.filterwarnings('ignore')"
   ]
  },
  {
   "cell_type": "markdown",
   "metadata": {
    "id": "H4_Xnhwsl-00"
   },
   "source": [
    "## Subpart 1 - Data Aggregation"
   ]
  },
  {
   "cell_type": "markdown",
   "metadata": {
    "id": "5clrTkdAvq8G"
   },
   "source": [
    "As we are using the stock data for four different companies, we need to create a new data frame that contains the required columns from all four data frames. We will create a function that takes in a list of the file names for the four CSV files, and returns a single data frame. This function performs the following tasks:\n",
    "- Extract stock names from file names\n",
    "- Read the raw files as data frames\n",
    "- Append the stock names into the column names in all the data frames\n",
    "- Drop unnecessary columns\n",
    "- Join the data frames"
   ]
  },
  {
   "cell_type": "code",
   "execution_count": 79,
   "metadata": {
    "id": "-gj0K2Q65yix"
   },
   "outputs": [],
   "source": [
    "# This function loads data sets and joins them after adding a suffix to the column names\n",
    "def join_datasets(filenames):\n",
    "    # Create an empty dictionary to store data frames\n",
    "    stock_data = {}\n",
    "\n",
    "    # Create an empty list to store the stock names which will also be used as keys in the dictionary declared above\n",
    "    stock_names = []\n",
    "\n",
    "    # Iterate through file names\n",
    "    for name in filenames:\n",
    "        # Extract the stock symbol for the current stock\n",
    "        stock_name = name.split('_')[0]\n",
    "        \n",
    "        # Add the name of the current stock into the list of stock names\n",
    "        stock_names.append(stock_name)\n",
    "\n",
    "        # Load the data set for the current stock and store it in the dictionary with its stock name as the key\n",
    "        # Note: Recall that 'stock_data' was declared above as a dictionary\n",
    "        stock_data[stock_name] = pd.read_csv(name)\n",
    "        \n",
    "        # Set date as the index\n",
    "        # Note: We can set 'inplace' to True\n",
    "        stock_data[stock_name].set_index('Date', inplace=True)\n",
    "\n",
    "        # Drop the 'Name' column as it will not be used in the analysis\n",
    "        stock_data[stock_name].drop(columns=['Name'], inplace=True)\n",
    "        \n",
    "        # Add the current stock name as a suffix to the column names in the data set\n",
    "        stock_data[stock_name].rename(columns=lambda x: x+stock_name if x != 'Date' else x , inplace=True)        \n",
    "\n",
    "    # Create a new data frame with the first data set\n",
    "    master_data = stock_data[filenames[0].split('_')[0]]\n",
    "\n",
    "\n",
    "    # Join the other data sets into the data frame using a 'for' loop\n",
    "    # Note: The 'for' loop starts with 1 instead of 0 since the first data set has already been added into the data frame\n",
    "    # Note: The inner join method ensures that only the common dates are retained between the various data sets\n",
    "    # Note: If no value is specified for the 'on' parameter, the data sets will be joined using the index (currently 'Date')\n",
    "    # Note: Remember, inner join can be thought of as intersection\n",
    "    for i in range(1, len(filenames)):\n",
    "        master_data = master_data.join(stock_data[filenames[i].split('_')[0]], how='inner')\n",
    "    \n",
    "    # Sort the new data set by its index (currently 'Date')\n",
    "    # Note: This helps to ensure that the data are in the right order\n",
    "    master_data = master_data.sort_index()\n",
    "\n",
    "    master_data = master_data.reset_index().drop(columns='Date')\n",
    "\n",
    "    # Reset the index and drop the date column\n",
    "    return master_data"
   ]
  },
  {
   "cell_type": "code",
   "execution_count": 81,
   "metadata": {
    "id": "r0sYevlt7kgn"
   },
   "outputs": [],
   "source": [
    "# Specify the names of the raw data files to be read\n",
    "files = ['AMZN_stocks_data.csv', 'GOOGL_stocks_data.csv', 'IBM_stocks_data.csv', 'MSFT_stocks_data.csv']"
   ]
  },
  {
   "cell_type": "code",
   "execution_count": 82,
   "metadata": {
    "colab": {
     "base_uri": "https://localhost:8080/",
     "height": 488
    },
    "id": "MSA4nrl1w2Ie",
    "outputId": "ccec760b-470a-414f-e2fb-5096770f5ec4"
   },
   "outputs": [
    {
     "data": {
      "text/html": [
       "<div>\n",
       "<style scoped>\n",
       "    .dataframe tbody tr th:only-of-type {\n",
       "        vertical-align: middle;\n",
       "    }\n",
       "\n",
       "    .dataframe tbody tr th {\n",
       "        vertical-align: top;\n",
       "    }\n",
       "\n",
       "    .dataframe thead th {\n",
       "        text-align: right;\n",
       "    }\n",
       "</style>\n",
       "<table border=\"1\" class=\"dataframe\">\n",
       "  <thead>\n",
       "    <tr style=\"text-align: right;\">\n",
       "      <th></th>\n",
       "      <th>OpenAMZN</th>\n",
       "      <th>HighAMZN</th>\n",
       "      <th>LowAMZN</th>\n",
       "      <th>CloseAMZN</th>\n",
       "      <th>VolumeAMZN</th>\n",
       "      <th>OpenGOOGL</th>\n",
       "      <th>HighGOOGL</th>\n",
       "      <th>LowGOOGL</th>\n",
       "      <th>CloseGOOGL</th>\n",
       "      <th>VolumeGOOGL</th>\n",
       "      <th>OpenIBM</th>\n",
       "      <th>HighIBM</th>\n",
       "      <th>LowIBM</th>\n",
       "      <th>CloseIBM</th>\n",
       "      <th>VolumeIBM</th>\n",
       "      <th>OpenMSFT</th>\n",
       "      <th>HighMSFT</th>\n",
       "      <th>LowMSFT</th>\n",
       "      <th>CloseMSFT</th>\n",
       "      <th>VolumeMSFT</th>\n",
       "    </tr>\n",
       "  </thead>\n",
       "  <tbody>\n",
       "    <tr>\n",
       "      <th>0</th>\n",
       "      <td>47.47</td>\n",
       "      <td>47.85</td>\n",
       "      <td>46.25</td>\n",
       "      <td>47.58</td>\n",
       "      <td>7582127</td>\n",
       "      <td>211.47</td>\n",
       "      <td>218.05</td>\n",
       "      <td>209.32</td>\n",
       "      <td>217.83</td>\n",
       "      <td>13137450</td>\n",
       "      <td>82.45</td>\n",
       "      <td>82.55</td>\n",
       "      <td>80.81</td>\n",
       "      <td>82.06</td>\n",
       "      <td>11715200</td>\n",
       "      <td>26.25</td>\n",
       "      <td>27.00</td>\n",
       "      <td>26.10</td>\n",
       "      <td>26.84</td>\n",
       "      <td>79974418</td>\n",
       "    </tr>\n",
       "    <tr>\n",
       "      <th>1</th>\n",
       "      <td>47.48</td>\n",
       "      <td>47.73</td>\n",
       "      <td>46.69</td>\n",
       "      <td>47.25</td>\n",
       "      <td>7440914</td>\n",
       "      <td>222.17</td>\n",
       "      <td>224.70</td>\n",
       "      <td>220.09</td>\n",
       "      <td>222.84</td>\n",
       "      <td>15292353</td>\n",
       "      <td>82.20</td>\n",
       "      <td>82.50</td>\n",
       "      <td>81.33</td>\n",
       "      <td>81.95</td>\n",
       "      <td>9840600</td>\n",
       "      <td>26.77</td>\n",
       "      <td>27.08</td>\n",
       "      <td>26.77</td>\n",
       "      <td>26.97</td>\n",
       "      <td>57975661</td>\n",
       "    </tr>\n",
       "    <tr>\n",
       "      <th>2</th>\n",
       "      <td>47.16</td>\n",
       "      <td>48.20</td>\n",
       "      <td>47.11</td>\n",
       "      <td>47.65</td>\n",
       "      <td>5417258</td>\n",
       "      <td>223.22</td>\n",
       "      <td>226.00</td>\n",
       "      <td>220.97</td>\n",
       "      <td>225.85</td>\n",
       "      <td>10815661</td>\n",
       "      <td>81.40</td>\n",
       "      <td>82.90</td>\n",
       "      <td>81.00</td>\n",
       "      <td>82.50</td>\n",
       "      <td>7213500</td>\n",
       "      <td>26.96</td>\n",
       "      <td>27.13</td>\n",
       "      <td>26.91</td>\n",
       "      <td>26.99</td>\n",
       "      <td>48247610</td>\n",
       "    </tr>\n",
       "    <tr>\n",
       "      <th>3</th>\n",
       "      <td>47.97</td>\n",
       "      <td>48.58</td>\n",
       "      <td>47.32</td>\n",
       "      <td>47.87</td>\n",
       "      <td>6154285</td>\n",
       "      <td>228.66</td>\n",
       "      <td>235.49</td>\n",
       "      <td>226.85</td>\n",
       "      <td>233.06</td>\n",
       "      <td>17759521</td>\n",
       "      <td>83.95</td>\n",
       "      <td>85.03</td>\n",
       "      <td>83.41</td>\n",
       "      <td>84.95</td>\n",
       "      <td>8197400</td>\n",
       "      <td>26.89</td>\n",
       "      <td>27.00</td>\n",
       "      <td>26.49</td>\n",
       "      <td>26.91</td>\n",
       "      <td>100969092</td>\n",
       "    </tr>\n",
       "    <tr>\n",
       "      <th>4</th>\n",
       "      <td>46.55</td>\n",
       "      <td>47.10</td>\n",
       "      <td>46.40</td>\n",
       "      <td>47.08</td>\n",
       "      <td>8945056</td>\n",
       "      <td>233.44</td>\n",
       "      <td>236.94</td>\n",
       "      <td>230.70</td>\n",
       "      <td>233.68</td>\n",
       "      <td>12795837</td>\n",
       "      <td>84.10</td>\n",
       "      <td>84.25</td>\n",
       "      <td>83.38</td>\n",
       "      <td>83.73</td>\n",
       "      <td>6858200</td>\n",
       "      <td>26.93</td>\n",
       "      <td>27.07</td>\n",
       "      <td>26.76</td>\n",
       "      <td>26.86</td>\n",
       "      <td>55627836</td>\n",
       "    </tr>\n",
       "    <tr>\n",
       "      <th>...</th>\n",
       "      <td>...</td>\n",
       "      <td>...</td>\n",
       "      <td>...</td>\n",
       "      <td>...</td>\n",
       "      <td>...</td>\n",
       "      <td>...</td>\n",
       "      <td>...</td>\n",
       "      <td>...</td>\n",
       "      <td>...</td>\n",
       "      <td>...</td>\n",
       "      <td>...</td>\n",
       "      <td>...</td>\n",
       "      <td>...</td>\n",
       "      <td>...</td>\n",
       "      <td>...</td>\n",
       "      <td>...</td>\n",
       "      <td>...</td>\n",
       "      <td>...</td>\n",
       "      <td>...</td>\n",
       "      <td>...</td>\n",
       "    </tr>\n",
       "    <tr>\n",
       "      <th>3014</th>\n",
       "      <td>1172.08</td>\n",
       "      <td>1174.62</td>\n",
       "      <td>1167.83</td>\n",
       "      <td>1168.36</td>\n",
       "      <td>1585054</td>\n",
       "      <td>1070.00</td>\n",
       "      <td>1071.72</td>\n",
       "      <td>1067.64</td>\n",
       "      <td>1068.86</td>\n",
       "      <td>889446</td>\n",
       "      <td>151.82</td>\n",
       "      <td>153.00</td>\n",
       "      <td>151.50</td>\n",
       "      <td>152.50</td>\n",
       "      <td>2990583</td>\n",
       "      <td>85.40</td>\n",
       "      <td>85.63</td>\n",
       "      <td>84.92</td>\n",
       "      <td>85.51</td>\n",
       "      <td>14145841</td>\n",
       "    </tr>\n",
       "    <tr>\n",
       "      <th>3015</th>\n",
       "      <td>1168.36</td>\n",
       "      <td>1178.32</td>\n",
       "      <td>1160.55</td>\n",
       "      <td>1176.76</td>\n",
       "      <td>2005187</td>\n",
       "      <td>1068.64</td>\n",
       "      <td>1068.86</td>\n",
       "      <td>1058.64</td>\n",
       "      <td>1065.85</td>\n",
       "      <td>918767</td>\n",
       "      <td>152.51</td>\n",
       "      <td>153.86</td>\n",
       "      <td>152.50</td>\n",
       "      <td>152.83</td>\n",
       "      <td>2479017</td>\n",
       "      <td>85.31</td>\n",
       "      <td>85.53</td>\n",
       "      <td>85.03</td>\n",
       "      <td>85.40</td>\n",
       "      <td>9891237</td>\n",
       "    </tr>\n",
       "    <tr>\n",
       "      <th>3016</th>\n",
       "      <td>1179.91</td>\n",
       "      <td>1187.29</td>\n",
       "      <td>1175.61</td>\n",
       "      <td>1182.26</td>\n",
       "      <td>1867208</td>\n",
       "      <td>1066.60</td>\n",
       "      <td>1068.27</td>\n",
       "      <td>1058.38</td>\n",
       "      <td>1060.20</td>\n",
       "      <td>1116203</td>\n",
       "      <td>152.95</td>\n",
       "      <td>153.18</td>\n",
       "      <td>152.61</td>\n",
       "      <td>153.13</td>\n",
       "      <td>2149257</td>\n",
       "      <td>85.65</td>\n",
       "      <td>85.98</td>\n",
       "      <td>85.22</td>\n",
       "      <td>85.71</td>\n",
       "      <td>14678025</td>\n",
       "    </tr>\n",
       "    <tr>\n",
       "      <th>3017</th>\n",
       "      <td>1189.00</td>\n",
       "      <td>1190.10</td>\n",
       "      <td>1184.38</td>\n",
       "      <td>1186.10</td>\n",
       "      <td>1841676</td>\n",
       "      <td>1062.25</td>\n",
       "      <td>1064.84</td>\n",
       "      <td>1053.38</td>\n",
       "      <td>1055.95</td>\n",
       "      <td>994249</td>\n",
       "      <td>153.20</td>\n",
       "      <td>154.12</td>\n",
       "      <td>153.20</td>\n",
       "      <td>154.04</td>\n",
       "      <td>2687624</td>\n",
       "      <td>85.90</td>\n",
       "      <td>85.93</td>\n",
       "      <td>85.55</td>\n",
       "      <td>85.72</td>\n",
       "      <td>10594344</td>\n",
       "    </tr>\n",
       "    <tr>\n",
       "      <th>3018</th>\n",
       "      <td>1182.35</td>\n",
       "      <td>1184.00</td>\n",
       "      <td>1167.50</td>\n",
       "      <td>1169.47</td>\n",
       "      <td>2688391</td>\n",
       "      <td>1055.49</td>\n",
       "      <td>1058.05</td>\n",
       "      <td>1052.70</td>\n",
       "      <td>1053.40</td>\n",
       "      <td>1180340</td>\n",
       "      <td>154.17</td>\n",
       "      <td>154.72</td>\n",
       "      <td>153.42</td>\n",
       "      <td>153.42</td>\n",
       "      <td>3327087</td>\n",
       "      <td>85.63</td>\n",
       "      <td>86.05</td>\n",
       "      <td>85.50</td>\n",
       "      <td>85.54</td>\n",
       "      <td>18717406</td>\n",
       "    </tr>\n",
       "  </tbody>\n",
       "</table>\n",
       "<p>3019 rows × 20 columns</p>\n",
       "</div>"
      ],
      "text/plain": [
       "      OpenAMZN  HighAMZN  LowAMZN  CloseAMZN  VolumeAMZN  OpenGOOGL  \\\n",
       "0        47.47     47.85    46.25      47.58     7582127     211.47   \n",
       "1        47.48     47.73    46.69      47.25     7440914     222.17   \n",
       "2        47.16     48.20    47.11      47.65     5417258     223.22   \n",
       "3        47.97     48.58    47.32      47.87     6154285     228.66   \n",
       "4        46.55     47.10    46.40      47.08     8945056     233.44   \n",
       "...        ...       ...      ...        ...         ...        ...   \n",
       "3014   1172.08   1174.62  1167.83    1168.36     1585054    1070.00   \n",
       "3015   1168.36   1178.32  1160.55    1176.76     2005187    1068.64   \n",
       "3016   1179.91   1187.29  1175.61    1182.26     1867208    1066.60   \n",
       "3017   1189.00   1190.10  1184.38    1186.10     1841676    1062.25   \n",
       "3018   1182.35   1184.00  1167.50    1169.47     2688391    1055.49   \n",
       "\n",
       "      HighGOOGL  LowGOOGL  CloseGOOGL  VolumeGOOGL  OpenIBM  HighIBM  LowIBM  \\\n",
       "0        218.05    209.32      217.83     13137450    82.45    82.55   80.81   \n",
       "1        224.70    220.09      222.84     15292353    82.20    82.50   81.33   \n",
       "2        226.00    220.97      225.85     10815661    81.40    82.90   81.00   \n",
       "3        235.49    226.85      233.06     17759521    83.95    85.03   83.41   \n",
       "4        236.94    230.70      233.68     12795837    84.10    84.25   83.38   \n",
       "...         ...       ...         ...          ...      ...      ...     ...   \n",
       "3014    1071.72   1067.64     1068.86       889446   151.82   153.00  151.50   \n",
       "3015    1068.86   1058.64     1065.85       918767   152.51   153.86  152.50   \n",
       "3016    1068.27   1058.38     1060.20      1116203   152.95   153.18  152.61   \n",
       "3017    1064.84   1053.38     1055.95       994249   153.20   154.12  153.20   \n",
       "3018    1058.05   1052.70     1053.40      1180340   154.17   154.72  153.42   \n",
       "\n",
       "      CloseIBM  VolumeIBM  OpenMSFT  HighMSFT  LowMSFT  CloseMSFT  VolumeMSFT  \n",
       "0        82.06   11715200     26.25     27.00    26.10      26.84    79974418  \n",
       "1        81.95    9840600     26.77     27.08    26.77      26.97    57975661  \n",
       "2        82.50    7213500     26.96     27.13    26.91      26.99    48247610  \n",
       "3        84.95    8197400     26.89     27.00    26.49      26.91   100969092  \n",
       "4        83.73    6858200     26.93     27.07    26.76      26.86    55627836  \n",
       "...        ...        ...       ...       ...      ...        ...         ...  \n",
       "3014    152.50    2990583     85.40     85.63    84.92      85.51    14145841  \n",
       "3015    152.83    2479017     85.31     85.53    85.03      85.40     9891237  \n",
       "3016    153.13    2149257     85.65     85.98    85.22      85.71    14678025  \n",
       "3017    154.04    2687624     85.90     85.93    85.55      85.72    10594344  \n",
       "3018    153.42    3327087     85.63     86.05    85.50      85.54    18717406  \n",
       "\n",
       "[3019 rows x 20 columns]"
      ]
     },
     "execution_count": 82,
     "metadata": {},
     "output_type": "execute_result"
    }
   ],
   "source": [
    "# Prepare the master data frame and take a look at it\n",
    "master_data = join_datasets(files)\n",
    "master_data"
   ]
  },
  {
   "cell_type": "code",
   "execution_count": 83,
   "metadata": {
    "colab": {
     "base_uri": "https://localhost:8080/"
    },
    "id": "b7wpjikYw2Ie",
    "outputId": "f0ccee80-8f36-46d0-d089-7f7d8109cbc9",
    "scrolled": true
   },
   "outputs": [
    {
     "name": "stdout",
     "output_type": "stream",
     "text": [
      "AMZN_stocks_data.csv\n",
      "\n",
      "\n",
      "            Date     Open     High      Low    Close   Volume  Name\n",
      "0     2006-01-03    47.47    47.85    46.25    47.58  7582127  AMZN\n",
      "1     2006-01-04    47.48    47.73    46.69    47.25  7440914  AMZN\n",
      "2     2006-01-05    47.16    48.20    47.11    47.65  5417258  AMZN\n",
      "3     2006-01-06    47.97    48.58    47.32    47.87  6154285  AMZN\n",
      "4     2006-01-09    46.55    47.10    46.40    47.08  8945056  AMZN\n",
      "...          ...      ...      ...      ...      ...      ...   ...\n",
      "3014  2017-12-22  1172.08  1174.62  1167.83  1168.36  1585054  AMZN\n",
      "3015  2017-12-26  1168.36  1178.32  1160.55  1176.76  2005187  AMZN\n",
      "3016  2017-12-27  1179.91  1187.29  1175.61  1182.26  1867208  AMZN\n",
      "3017  2017-12-28  1189.00  1190.10  1184.38  1186.10  1841676  AMZN\n",
      "3018  2017-12-29  1182.35  1184.00  1167.50  1169.47  2688391  AMZN\n",
      "\n",
      "[3019 rows x 7 columns]\n",
      "\n",
      "\n",
      "\n",
      "GOOGL_stocks_data.csv\n",
      "\n",
      "\n",
      "            Date     Open     High      Low    Close    Volume   Name\n",
      "0     2006-01-03   211.47   218.05   209.32   217.83  13137450  GOOGL\n",
      "1     2006-01-04   222.17   224.70   220.09   222.84  15292353  GOOGL\n",
      "2     2006-01-05   223.22   226.00   220.97   225.85  10815661  GOOGL\n",
      "3     2006-01-06   228.66   235.49   226.85   233.06  17759521  GOOGL\n",
      "4     2006-01-09   233.44   236.94   230.70   233.68  12795837  GOOGL\n",
      "...          ...      ...      ...      ...      ...       ...    ...\n",
      "3014  2017-12-22  1070.00  1071.72  1067.64  1068.86    889446  GOOGL\n",
      "3015  2017-12-26  1068.64  1068.86  1058.64  1065.85    918767  GOOGL\n",
      "3016  2017-12-27  1066.60  1068.27  1058.38  1060.20   1116203  GOOGL\n",
      "3017  2017-12-28  1062.25  1064.84  1053.38  1055.95    994249  GOOGL\n",
      "3018  2017-12-29  1055.49  1058.05  1052.70  1053.40   1180340  GOOGL\n",
      "\n",
      "[3019 rows x 7 columns]\n",
      "\n",
      "\n",
      "\n",
      "IBM_stocks_data.csv\n",
      "\n",
      "\n",
      "            Date    Open    High     Low   Close    Volume Name\n",
      "0     2006-01-03   82.45   82.55   80.81   82.06  11715200  IBM\n",
      "1     2006-01-04   82.20   82.50   81.33   81.95   9840600  IBM\n",
      "2     2006-01-05   81.40   82.90   81.00   82.50   7213500  IBM\n",
      "3     2006-01-06   83.95   85.03   83.41   84.95   8197400  IBM\n",
      "4     2006-01-09   84.10   84.25   83.38   83.73   6858200  IBM\n",
      "...          ...     ...     ...     ...     ...       ...  ...\n",
      "3015  2017-12-22  151.82  153.00  151.50  152.50   2990583  IBM\n",
      "3016  2017-12-26  152.51  153.86  152.50  152.83   2479017  IBM\n",
      "3017  2017-12-27  152.95  153.18  152.61  153.13   2149257  IBM\n",
      "3018  2017-12-28  153.20  154.12  153.20  154.04   2687624  IBM\n",
      "3019  2017-12-29  154.17  154.72  153.42  153.42   3327087  IBM\n",
      "\n",
      "[3020 rows x 7 columns]\n",
      "\n",
      "\n",
      "\n",
      "MSFT_stocks_data.csv\n",
      "\n",
      "\n",
      "            Date   Open   High    Low  Close     Volume  Name\n",
      "0     2006-01-03  26.25  27.00  26.10  26.84   79974418  MSFT\n",
      "1     2006-01-04  26.77  27.08  26.77  26.97   57975661  MSFT\n",
      "2     2006-01-05  26.96  27.13  26.91  26.99   48247610  MSFT\n",
      "3     2006-01-06  26.89  27.00  26.49  26.91  100969092  MSFT\n",
      "4     2006-01-09  26.93  27.07  26.76  26.86   55627836  MSFT\n",
      "...          ...    ...    ...    ...    ...        ...   ...\n",
      "3014  2017-12-22  85.40  85.63  84.92  85.51   14145841  MSFT\n",
      "3015  2017-12-26  85.31  85.53  85.03  85.40    9891237  MSFT\n",
      "3016  2017-12-27  85.65  85.98  85.22  85.71   14678025  MSFT\n",
      "3017  2017-12-28  85.90  85.93  85.55  85.72   10594344  MSFT\n",
      "3018  2017-12-29  85.63  86.05  85.50  85.54   18717406  MSFT\n",
      "\n",
      "[3019 rows x 7 columns]\n"
     ]
    }
   ],
   "source": [
    "# View the four stocks data sets\n",
    "for filename in files:\n",
    "    print(filename)\n",
    "    print('\\n')\n",
    "    print(pd.read_csv(filename))\n",
    "    if filename != files[len(files) - 1]:\n",
    "        print('\\n\\n')"
   ]
  },
  {
   "cell_type": "code",
   "execution_count": 85,
   "metadata": {
    "colab": {
     "base_uri": "https://localhost:8080/"
    },
    "id": "4qMKdhGj8cKF",
    "outputId": "1bc48255-ed8f-4aa7-807b-9b95aecb4266"
   },
   "outputs": [
    {
     "data": {
      "text/html": [
       "<div>\n",
       "<style scoped>\n",
       "    .dataframe tbody tr th:only-of-type {\n",
       "        vertical-align: middle;\n",
       "    }\n",
       "\n",
       "    .dataframe tbody tr th {\n",
       "        vertical-align: top;\n",
       "    }\n",
       "\n",
       "    .dataframe thead th {\n",
       "        text-align: right;\n",
       "    }\n",
       "</style>\n",
       "<table border=\"1\" class=\"dataframe\">\n",
       "  <thead>\n",
       "    <tr style=\"text-align: right;\">\n",
       "      <th></th>\n",
       "      <th>count</th>\n",
       "      <th>mean</th>\n",
       "      <th>std</th>\n",
       "      <th>min</th>\n",
       "      <th>25%</th>\n",
       "      <th>50%</th>\n",
       "      <th>75%</th>\n",
       "      <th>max</th>\n",
       "    </tr>\n",
       "  </thead>\n",
       "  <tbody>\n",
       "    <tr>\n",
       "      <th>OpenAMZN</th>\n",
       "      <td>3019.0</td>\n",
       "      <td>2.993353e+02</td>\n",
       "      <td>2.801205e+02</td>\n",
       "      <td>26.09</td>\n",
       "      <td>8.117500e+01</td>\n",
       "      <td>205.33</td>\n",
       "      <td>3.755700e+02</td>\n",
       "      <td>1.204880e+03</td>\n",
       "    </tr>\n",
       "    <tr>\n",
       "      <th>HighAMZN</th>\n",
       "      <td>3019.0</td>\n",
       "      <td>3.023712e+02</td>\n",
       "      <td>2.818264e+02</td>\n",
       "      <td>26.30</td>\n",
       "      <td>8.258000e+01</td>\n",
       "      <td>208.00</td>\n",
       "      <td>3.791550e+02</td>\n",
       "      <td>1.213410e+03</td>\n",
       "    </tr>\n",
       "    <tr>\n",
       "      <th>LowAMZN</th>\n",
       "      <td>3019.0</td>\n",
       "      <td>2.960377e+02</td>\n",
       "      <td>2.779271e+02</td>\n",
       "      <td>25.76</td>\n",
       "      <td>7.972500e+01</td>\n",
       "      <td>202.10</td>\n",
       "      <td>3.730000e+02</td>\n",
       "      <td>1.191150e+03</td>\n",
       "    </tr>\n",
       "    <tr>\n",
       "      <th>CloseAMZN</th>\n",
       "      <td>3019.0</td>\n",
       "      <td>2.993762e+02</td>\n",
       "      <td>2.799802e+02</td>\n",
       "      <td>26.07</td>\n",
       "      <td>8.109000e+01</td>\n",
       "      <td>205.44</td>\n",
       "      <td>3.751400e+02</td>\n",
       "      <td>1.195830e+03</td>\n",
       "    </tr>\n",
       "    <tr>\n",
       "      <th>VolumeAMZN</th>\n",
       "      <td>3019.0</td>\n",
       "      <td>5.931712e+06</td>\n",
       "      <td>5.122034e+06</td>\n",
       "      <td>986435.00</td>\n",
       "      <td>3.137037e+06</td>\n",
       "      <td>4724100.00</td>\n",
       "      <td>7.135246e+06</td>\n",
       "      <td>1.044046e+08</td>\n",
       "    </tr>\n",
       "    <tr>\n",
       "      <th>OpenGOOGL</th>\n",
       "      <td>3019.0</td>\n",
       "      <td>4.282008e+02</td>\n",
       "      <td>2.363200e+02</td>\n",
       "      <td>131.39</td>\n",
       "      <td>2.477750e+02</td>\n",
       "      <td>310.48</td>\n",
       "      <td>5.721400e+02</td>\n",
       "      <td>1.083020e+03</td>\n",
       "    </tr>\n",
       "    <tr>\n",
       "      <th>HighGOOGL</th>\n",
       "      <td>3019.0</td>\n",
       "      <td>4.318356e+02</td>\n",
       "      <td>2.375141e+02</td>\n",
       "      <td>134.82</td>\n",
       "      <td>2.501900e+02</td>\n",
       "      <td>312.81</td>\n",
       "      <td>5.759750e+02</td>\n",
       "      <td>1.086490e+03</td>\n",
       "    </tr>\n",
       "    <tr>\n",
       "      <th>LowGOOGL</th>\n",
       "      <td>3019.0</td>\n",
       "      <td>4.241303e+02</td>\n",
       "      <td>2.349237e+02</td>\n",
       "      <td>123.77</td>\n",
       "      <td>2.440350e+02</td>\n",
       "      <td>307.79</td>\n",
       "      <td>5.659000e+02</td>\n",
       "      <td>1.072270e+03</td>\n",
       "    </tr>\n",
       "    <tr>\n",
       "      <th>CloseGOOGL</th>\n",
       "      <td>3019.0</td>\n",
       "      <td>4.280440e+02</td>\n",
       "      <td>2.363432e+02</td>\n",
       "      <td>128.85</td>\n",
       "      <td>2.476050e+02</td>\n",
       "      <td>310.08</td>\n",
       "      <td>5.707700e+02</td>\n",
       "      <td>1.085090e+03</td>\n",
       "    </tr>\n",
       "    <tr>\n",
       "      <th>VolumeGOOGL</th>\n",
       "      <td>3019.0</td>\n",
       "      <td>3.551504e+06</td>\n",
       "      <td>3.038599e+06</td>\n",
       "      <td>521141.00</td>\n",
       "      <td>1.760854e+06</td>\n",
       "      <td>2517630.00</td>\n",
       "      <td>4.242182e+06</td>\n",
       "      <td>4.118289e+07</td>\n",
       "    </tr>\n",
       "    <tr>\n",
       "      <th>OpenIBM</th>\n",
       "      <td>3018.0</td>\n",
       "      <td>1.455210e+02</td>\n",
       "      <td>3.755996e+01</td>\n",
       "      <td>72.74</td>\n",
       "      <td>1.164025e+02</td>\n",
       "      <td>149.65</td>\n",
       "      <td>1.784525e+02</td>\n",
       "      <td>2.153800e+02</td>\n",
       "    </tr>\n",
       "    <tr>\n",
       "      <th>HighIBM</th>\n",
       "      <td>3019.0</td>\n",
       "      <td>1.466875e+02</td>\n",
       "      <td>3.761835e+01</td>\n",
       "      <td>73.94</td>\n",
       "      <td>1.177500e+02</td>\n",
       "      <td>150.41</td>\n",
       "      <td>1.797750e+02</td>\n",
       "      <td>2.159000e+02</td>\n",
       "    </tr>\n",
       "    <tr>\n",
       "      <th>LowIBM</th>\n",
       "      <td>3018.0</td>\n",
       "      <td>1.444772e+02</td>\n",
       "      <td>3.748259e+01</td>\n",
       "      <td>69.50</td>\n",
       "      <td>1.154800e+02</td>\n",
       "      <td>148.48</td>\n",
       "      <td>1.773400e+02</td>\n",
       "      <td>2.143000e+02</td>\n",
       "    </tr>\n",
       "    <tr>\n",
       "      <th>CloseIBM</th>\n",
       "      <td>3019.0</td>\n",
       "      <td>1.456230e+02</td>\n",
       "      <td>3.753427e+01</td>\n",
       "      <td>71.74</td>\n",
       "      <td>1.165200e+02</td>\n",
       "      <td>149.33</td>\n",
       "      <td>1.786900e+02</td>\n",
       "      <td>2.158000e+02</td>\n",
       "    </tr>\n",
       "    <tr>\n",
       "      <th>VolumeIBM</th>\n",
       "      <td>3019.0</td>\n",
       "      <td>5.773563e+06</td>\n",
       "      <td>3.193327e+06</td>\n",
       "      <td>254256.00</td>\n",
       "      <td>3.622178e+06</td>\n",
       "      <td>4926500.00</td>\n",
       "      <td>6.966642e+06</td>\n",
       "      <td>3.077428e+07</td>\n",
       "    </tr>\n",
       "    <tr>\n",
       "      <th>OpenMSFT</th>\n",
       "      <td>3019.0</td>\n",
       "      <td>3.649682e+01</td>\n",
       "      <td>1.468334e+01</td>\n",
       "      <td>15.20</td>\n",
       "      <td>2.678500e+01</td>\n",
       "      <td>29.99</td>\n",
       "      <td>4.454500e+01</td>\n",
       "      <td>8.712000e+01</td>\n",
       "    </tr>\n",
       "    <tr>\n",
       "      <th>HighMSFT</th>\n",
       "      <td>3019.0</td>\n",
       "      <td>3.682790e+01</td>\n",
       "      <td>1.474248e+01</td>\n",
       "      <td>15.62</td>\n",
       "      <td>2.704500e+01</td>\n",
       "      <td>30.23</td>\n",
       "      <td>4.498000e+01</td>\n",
       "      <td>8.750000e+01</td>\n",
       "    </tr>\n",
       "    <tr>\n",
       "      <th>LowMSFT</th>\n",
       "      <td>3019.0</td>\n",
       "      <td>3.617319e+01</td>\n",
       "      <td>1.462006e+01</td>\n",
       "      <td>14.87</td>\n",
       "      <td>2.653500e+01</td>\n",
       "      <td>29.78</td>\n",
       "      <td>4.409000e+01</td>\n",
       "      <td>8.623000e+01</td>\n",
       "    </tr>\n",
       "    <tr>\n",
       "      <th>CloseMSFT</th>\n",
       "      <td>3019.0</td>\n",
       "      <td>3.651341e+01</td>\n",
       "      <td>1.469466e+01</td>\n",
       "      <td>15.15</td>\n",
       "      <td>2.683500e+01</td>\n",
       "      <td>30.00</td>\n",
       "      <td>4.440000e+01</td>\n",
       "      <td>8.685000e+01</td>\n",
       "    </tr>\n",
       "    <tr>\n",
       "      <th>VolumeMSFT</th>\n",
       "      <td>3019.0</td>\n",
       "      <td>5.161762e+07</td>\n",
       "      <td>3.114958e+07</td>\n",
       "      <td>7425603.00</td>\n",
       "      <td>3.136557e+07</td>\n",
       "      <td>46175294.00</td>\n",
       "      <td>6.322291e+07</td>\n",
       "      <td>5.910786e+08</td>\n",
       "    </tr>\n",
       "  </tbody>\n",
       "</table>\n",
       "</div>"
      ],
      "text/plain": [
       "              count          mean           std         min           25%  \\\n",
       "OpenAMZN     3019.0  2.993353e+02  2.801205e+02       26.09  8.117500e+01   \n",
       "HighAMZN     3019.0  3.023712e+02  2.818264e+02       26.30  8.258000e+01   \n",
       "LowAMZN      3019.0  2.960377e+02  2.779271e+02       25.76  7.972500e+01   \n",
       "CloseAMZN    3019.0  2.993762e+02  2.799802e+02       26.07  8.109000e+01   \n",
       "VolumeAMZN   3019.0  5.931712e+06  5.122034e+06   986435.00  3.137037e+06   \n",
       "OpenGOOGL    3019.0  4.282008e+02  2.363200e+02      131.39  2.477750e+02   \n",
       "HighGOOGL    3019.0  4.318356e+02  2.375141e+02      134.82  2.501900e+02   \n",
       "LowGOOGL     3019.0  4.241303e+02  2.349237e+02      123.77  2.440350e+02   \n",
       "CloseGOOGL   3019.0  4.280440e+02  2.363432e+02      128.85  2.476050e+02   \n",
       "VolumeGOOGL  3019.0  3.551504e+06  3.038599e+06   521141.00  1.760854e+06   \n",
       "OpenIBM      3018.0  1.455210e+02  3.755996e+01       72.74  1.164025e+02   \n",
       "HighIBM      3019.0  1.466875e+02  3.761835e+01       73.94  1.177500e+02   \n",
       "LowIBM       3018.0  1.444772e+02  3.748259e+01       69.50  1.154800e+02   \n",
       "CloseIBM     3019.0  1.456230e+02  3.753427e+01       71.74  1.165200e+02   \n",
       "VolumeIBM    3019.0  5.773563e+06  3.193327e+06   254256.00  3.622178e+06   \n",
       "OpenMSFT     3019.0  3.649682e+01  1.468334e+01       15.20  2.678500e+01   \n",
       "HighMSFT     3019.0  3.682790e+01  1.474248e+01       15.62  2.704500e+01   \n",
       "LowMSFT      3019.0  3.617319e+01  1.462006e+01       14.87  2.653500e+01   \n",
       "CloseMSFT    3019.0  3.651341e+01  1.469466e+01       15.15  2.683500e+01   \n",
       "VolumeMSFT   3019.0  5.161762e+07  3.114958e+07  7425603.00  3.136557e+07   \n",
       "\n",
       "                     50%           75%           max  \n",
       "OpenAMZN          205.33  3.755700e+02  1.204880e+03  \n",
       "HighAMZN          208.00  3.791550e+02  1.213410e+03  \n",
       "LowAMZN           202.10  3.730000e+02  1.191150e+03  \n",
       "CloseAMZN         205.44  3.751400e+02  1.195830e+03  \n",
       "VolumeAMZN    4724100.00  7.135246e+06  1.044046e+08  \n",
       "OpenGOOGL         310.48  5.721400e+02  1.083020e+03  \n",
       "HighGOOGL         312.81  5.759750e+02  1.086490e+03  \n",
       "LowGOOGL          307.79  5.659000e+02  1.072270e+03  \n",
       "CloseGOOGL        310.08  5.707700e+02  1.085090e+03  \n",
       "VolumeGOOGL   2517630.00  4.242182e+06  4.118289e+07  \n",
       "OpenIBM           149.65  1.784525e+02  2.153800e+02  \n",
       "HighIBM           150.41  1.797750e+02  2.159000e+02  \n",
       "LowIBM            148.48  1.773400e+02  2.143000e+02  \n",
       "CloseIBM          149.33  1.786900e+02  2.158000e+02  \n",
       "VolumeIBM     4926500.00  6.966642e+06  3.077428e+07  \n",
       "OpenMSFT           29.99  4.454500e+01  8.712000e+01  \n",
       "HighMSFT           30.23  4.498000e+01  8.750000e+01  \n",
       "LowMSFT            29.78  4.409000e+01  8.623000e+01  \n",
       "CloseMSFT          30.00  4.440000e+01  8.685000e+01  \n",
       "VolumeMSFT   46175294.00  6.322291e+07  5.910786e+08  "
      ]
     },
     "execution_count": 85,
     "metadata": {},
     "output_type": "execute_result"
    }
   ],
   "source": [
    "# View specifics of the data\n",
    "master_data.describe().T"
   ]
  },
  {
   "cell_type": "markdown",
   "metadata": {
    "id": "6wyLcAQ1nkdB"
   },
   "source": [
    "There is one missing value in the *OpenIBM* column and one in the *LowIBM* column. Both of these null values possibly belong to the same record."
   ]
  },
  {
   "cell_type": "code",
   "execution_count": 92,
   "metadata": {},
   "outputs": [
    {
     "data": {
      "text/plain": [
       "Index([2912], dtype='int64')"
      ]
     },
     "execution_count": 92,
     "metadata": {},
     "output_type": "execute_result"
    }
   ],
   "source": []
  },
  {
   "cell_type": "code",
   "execution_count": 93,
   "metadata": {
    "colab": {
     "base_uri": "https://localhost:8080/"
    },
    "id": "7vmQGhf69x36",
    "outputId": "d174edbe-3d28-4f76-e28e-3067188b635a"
   },
   "outputs": [
    {
     "data": {
      "text/html": [
       "<div>\n",
       "<style scoped>\n",
       "    .dataframe tbody tr th:only-of-type {\n",
       "        vertical-align: middle;\n",
       "    }\n",
       "\n",
       "    .dataframe tbody tr th {\n",
       "        vertical-align: top;\n",
       "    }\n",
       "\n",
       "    .dataframe thead th {\n",
       "        text-align: right;\n",
       "    }\n",
       "</style>\n",
       "<table border=\"1\" class=\"dataframe\">\n",
       "  <thead>\n",
       "    <tr style=\"text-align: right;\">\n",
       "      <th></th>\n",
       "      <th>OpenAMZN</th>\n",
       "      <th>HighAMZN</th>\n",
       "      <th>LowAMZN</th>\n",
       "      <th>CloseAMZN</th>\n",
       "      <th>VolumeAMZN</th>\n",
       "      <th>OpenGOOGL</th>\n",
       "      <th>HighGOOGL</th>\n",
       "      <th>LowGOOGL</th>\n",
       "      <th>CloseGOOGL</th>\n",
       "      <th>VolumeGOOGL</th>\n",
       "      <th>OpenIBM</th>\n",
       "      <th>HighIBM</th>\n",
       "      <th>LowIBM</th>\n",
       "      <th>CloseIBM</th>\n",
       "      <th>VolumeIBM</th>\n",
       "      <th>OpenMSFT</th>\n",
       "      <th>HighMSFT</th>\n",
       "      <th>LowMSFT</th>\n",
       "      <th>CloseMSFT</th>\n",
       "      <th>VolumeMSFT</th>\n",
       "    </tr>\n",
       "  </thead>\n",
       "  <tbody>\n",
       "    <tr>\n",
       "      <th>2912</th>\n",
       "      <td>1019.05</td>\n",
       "      <td>1019.05</td>\n",
       "      <td>987.02</td>\n",
       "      <td>987.78</td>\n",
       "      <td>7352063</td>\n",
       "      <td>960.0</td>\n",
       "      <td>961.19</td>\n",
       "      <td>941.72</td>\n",
       "      <td>945.5</td>\n",
       "      <td>2293389</td>\n",
       "      <td>NaN</td>\n",
       "      <td>144.93</td>\n",
       "      <td>NaN</td>\n",
       "      <td>144.67</td>\n",
       "      <td>4355718</td>\n",
       "      <td>73.3</td>\n",
       "      <td>73.44</td>\n",
       "      <td>72.41</td>\n",
       "      <td>72.7</td>\n",
       "      <td>23600054</td>\n",
       "    </tr>\n",
       "  </tbody>\n",
       "</table>\n",
       "</div>"
      ],
      "text/plain": [
       "      OpenAMZN  HighAMZN  LowAMZN  CloseAMZN  VolumeAMZN  OpenGOOGL  \\\n",
       "2912   1019.05   1019.05   987.02     987.78     7352063      960.0   \n",
       "\n",
       "      HighGOOGL  LowGOOGL  CloseGOOGL  VolumeGOOGL  OpenIBM  HighIBM  LowIBM  \\\n",
       "2912     961.19    941.72       945.5      2293389      NaN   144.93     NaN   \n",
       "\n",
       "      CloseIBM  VolumeIBM  OpenMSFT  HighMSFT  LowMSFT  CloseMSFT  VolumeMSFT  \n",
       "2912    144.67    4355718      73.3     73.44    72.41       72.7    23600054  "
      ]
     },
     "execution_count": 93,
     "metadata": {},
     "output_type": "execute_result"
    }
   ],
   "source": [
    "# Look at the row with missing data\n",
    "missing_loc = master_data[master_data.isnull().any(axis=1)].index\n",
    "master_data.iloc[missing_loc]"
   ]
  },
  {
   "cell_type": "markdown",
   "metadata": {
    "id": "vHzNZdsFnkdC"
   },
   "source": [
    "Deleting the row with missing values is reasonable."
   ]
  },
  {
   "cell_type": "code",
   "execution_count": 96,
   "metadata": {
    "id": "s2aV2ycOnkdC"
   },
   "outputs": [],
   "source": [
    "# Delete the row with missing data\n",
    "master_data = master_data.drop(index=[missing_loc][0])"
   ]
  },
  {
   "cell_type": "code",
   "execution_count": 99,
   "metadata": {
    "colab": {
     "base_uri": "https://localhost:8080/"
    },
    "id": "bWBVw_Savq8P",
    "outputId": "a6ee5d29-9b59-4e60-904e-0561620512cd"
   },
   "outputs": [
    {
     "data": {
      "text/html": [
       "<div>\n",
       "<style scoped>\n",
       "    .dataframe tbody tr th:only-of-type {\n",
       "        vertical-align: middle;\n",
       "    }\n",
       "\n",
       "    .dataframe tbody tr th {\n",
       "        vertical-align: top;\n",
       "    }\n",
       "\n",
       "    .dataframe thead th {\n",
       "        text-align: right;\n",
       "    }\n",
       "</style>\n",
       "<table border=\"1\" class=\"dataframe\">\n",
       "  <thead>\n",
       "    <tr style=\"text-align: right;\">\n",
       "      <th></th>\n",
       "      <th>count</th>\n",
       "      <th>mean</th>\n",
       "      <th>std</th>\n",
       "      <th>min</th>\n",
       "      <th>25%</th>\n",
       "      <th>50%</th>\n",
       "      <th>75%</th>\n",
       "      <th>max</th>\n",
       "    </tr>\n",
       "  </thead>\n",
       "  <tbody>\n",
       "    <tr>\n",
       "      <th>OpenAMZN</th>\n",
       "      <td>3018.0</td>\n",
       "      <td>2.990968e+02</td>\n",
       "      <td>2.798603e+02</td>\n",
       "      <td>26.09</td>\n",
       "      <td>8.116750e+01</td>\n",
       "      <td>2.051750e+02</td>\n",
       "      <td>3.753575e+02</td>\n",
       "      <td>1.204880e+03</td>\n",
       "    </tr>\n",
       "    <tr>\n",
       "      <th>HighAMZN</th>\n",
       "      <td>3018.0</td>\n",
       "      <td>3.021337e+02</td>\n",
       "      <td>2.815709e+02</td>\n",
       "      <td>26.30</td>\n",
       "      <td>8.255500e+01</td>\n",
       "      <td>2.077900e+02</td>\n",
       "      <td>3.790000e+02</td>\n",
       "      <td>1.213410e+03</td>\n",
       "    </tr>\n",
       "    <tr>\n",
       "      <th>LowAMZN</th>\n",
       "      <td>3018.0</td>\n",
       "      <td>2.958087e+02</td>\n",
       "      <td>2.776883e+02</td>\n",
       "      <td>25.76</td>\n",
       "      <td>7.972250e+01</td>\n",
       "      <td>2.019850e+02</td>\n",
       "      <td>3.728050e+02</td>\n",
       "      <td>1.191150e+03</td>\n",
       "    </tr>\n",
       "    <tr>\n",
       "      <th>CloseAMZN</th>\n",
       "      <td>3018.0</td>\n",
       "      <td>2.991481e+02</td>\n",
       "      <td>2.797459e+02</td>\n",
       "      <td>26.07</td>\n",
       "      <td>8.108500e+01</td>\n",
       "      <td>2.052650e+02</td>\n",
       "      <td>3.751325e+02</td>\n",
       "      <td>1.195830e+03</td>\n",
       "    </tr>\n",
       "    <tr>\n",
       "      <th>VolumeAMZN</th>\n",
       "      <td>3018.0</td>\n",
       "      <td>5.931242e+06</td>\n",
       "      <td>5.122817e+06</td>\n",
       "      <td>986435.00</td>\n",
       "      <td>3.136958e+06</td>\n",
       "      <td>4.723865e+06</td>\n",
       "      <td>7.132142e+06</td>\n",
       "      <td>1.044046e+08</td>\n",
       "    </tr>\n",
       "    <tr>\n",
       "      <th>OpenGOOGL</th>\n",
       "      <td>3018.0</td>\n",
       "      <td>4.280246e+02</td>\n",
       "      <td>2.361607e+02</td>\n",
       "      <td>131.39</td>\n",
       "      <td>2.477625e+02</td>\n",
       "      <td>3.104100e+02</td>\n",
       "      <td>5.719250e+02</td>\n",
       "      <td>1.083020e+03</td>\n",
       "    </tr>\n",
       "    <tr>\n",
       "      <th>HighGOOGL</th>\n",
       "      <td>3018.0</td>\n",
       "      <td>4.316602e+02</td>\n",
       "      <td>2.373578e+02</td>\n",
       "      <td>134.82</td>\n",
       "      <td>2.501800e+02</td>\n",
       "      <td>3.127950e+02</td>\n",
       "      <td>5.759450e+02</td>\n",
       "      <td>1.086490e+03</td>\n",
       "    </tr>\n",
       "    <tr>\n",
       "      <th>LowGOOGL</th>\n",
       "      <td>3018.0</td>\n",
       "      <td>4.239588e+02</td>\n",
       "      <td>2.347736e+02</td>\n",
       "      <td>123.77</td>\n",
       "      <td>2.439975e+02</td>\n",
       "      <td>3.077550e+02</td>\n",
       "      <td>5.656475e+02</td>\n",
       "      <td>1.072270e+03</td>\n",
       "    </tr>\n",
       "    <tr>\n",
       "      <th>CloseGOOGL</th>\n",
       "      <td>3018.0</td>\n",
       "      <td>4.278725e+02</td>\n",
       "      <td>2.361945e+02</td>\n",
       "      <td>128.85</td>\n",
       "      <td>2.475325e+02</td>\n",
       "      <td>3.100450e+02</td>\n",
       "      <td>5.706875e+02</td>\n",
       "      <td>1.085090e+03</td>\n",
       "    </tr>\n",
       "    <tr>\n",
       "      <th>VolumeGOOGL</th>\n",
       "      <td>3018.0</td>\n",
       "      <td>3.551920e+06</td>\n",
       "      <td>3.039016e+06</td>\n",
       "      <td>521141.00</td>\n",
       "      <td>1.760804e+06</td>\n",
       "      <td>2.518196e+06</td>\n",
       "      <td>4.242489e+06</td>\n",
       "      <td>4.118289e+07</td>\n",
       "    </tr>\n",
       "    <tr>\n",
       "      <th>OpenIBM</th>\n",
       "      <td>3018.0</td>\n",
       "      <td>1.455210e+02</td>\n",
       "      <td>3.755996e+01</td>\n",
       "      <td>72.74</td>\n",
       "      <td>1.164025e+02</td>\n",
       "      <td>1.496500e+02</td>\n",
       "      <td>1.784525e+02</td>\n",
       "      <td>2.153800e+02</td>\n",
       "    </tr>\n",
       "    <tr>\n",
       "      <th>HighIBM</th>\n",
       "      <td>3018.0</td>\n",
       "      <td>1.466881e+02</td>\n",
       "      <td>3.762457e+01</td>\n",
       "      <td>73.94</td>\n",
       "      <td>1.177350e+02</td>\n",
       "      <td>1.505100e+02</td>\n",
       "      <td>1.797875e+02</td>\n",
       "      <td>2.159000e+02</td>\n",
       "    </tr>\n",
       "    <tr>\n",
       "      <th>LowIBM</th>\n",
       "      <td>3018.0</td>\n",
       "      <td>1.444772e+02</td>\n",
       "      <td>3.748259e+01</td>\n",
       "      <td>69.50</td>\n",
       "      <td>1.154800e+02</td>\n",
       "      <td>1.484800e+02</td>\n",
       "      <td>1.773400e+02</td>\n",
       "      <td>2.143000e+02</td>\n",
       "    </tr>\n",
       "    <tr>\n",
       "      <th>CloseIBM</th>\n",
       "      <td>3018.0</td>\n",
       "      <td>1.456233e+02</td>\n",
       "      <td>3.754049e+01</td>\n",
       "      <td>71.74</td>\n",
       "      <td>1.165150e+02</td>\n",
       "      <td>1.493400e+02</td>\n",
       "      <td>1.786950e+02</td>\n",
       "      <td>2.158000e+02</td>\n",
       "    </tr>\n",
       "    <tr>\n",
       "      <th>VolumeIBM</th>\n",
       "      <td>3018.0</td>\n",
       "      <td>5.774033e+06</td>\n",
       "      <td>3.193752e+06</td>\n",
       "      <td>254256.00</td>\n",
       "      <td>3.621674e+06</td>\n",
       "      <td>4.928852e+06</td>\n",
       "      <td>6.968270e+06</td>\n",
       "      <td>3.077428e+07</td>\n",
       "    </tr>\n",
       "    <tr>\n",
       "      <th>OpenMSFT</th>\n",
       "      <td>3018.0</td>\n",
       "      <td>3.648462e+01</td>\n",
       "      <td>1.467047e+01</td>\n",
       "      <td>15.20</td>\n",
       "      <td>2.678250e+01</td>\n",
       "      <td>2.999000e+01</td>\n",
       "      <td>4.451750e+01</td>\n",
       "      <td>8.712000e+01</td>\n",
       "    </tr>\n",
       "    <tr>\n",
       "      <th>HighMSFT</th>\n",
       "      <td>3018.0</td>\n",
       "      <td>3.681577e+01</td>\n",
       "      <td>1.472985e+01</td>\n",
       "      <td>15.62</td>\n",
       "      <td>2.704250e+01</td>\n",
       "      <td>3.023000e+01</td>\n",
       "      <td>4.496000e+01</td>\n",
       "      <td>8.750000e+01</td>\n",
       "    </tr>\n",
       "    <tr>\n",
       "      <th>LowMSFT</th>\n",
       "      <td>3018.0</td>\n",
       "      <td>3.616118e+01</td>\n",
       "      <td>1.460758e+01</td>\n",
       "      <td>14.87</td>\n",
       "      <td>2.653250e+01</td>\n",
       "      <td>2.977500e+01</td>\n",
       "      <td>4.407500e+01</td>\n",
       "      <td>8.623000e+01</td>\n",
       "    </tr>\n",
       "    <tr>\n",
       "      <th>CloseMSFT</th>\n",
       "      <td>3018.0</td>\n",
       "      <td>3.650142e+01</td>\n",
       "      <td>1.468231e+01</td>\n",
       "      <td>15.15</td>\n",
       "      <td>2.683250e+01</td>\n",
       "      <td>2.999500e+01</td>\n",
       "      <td>4.439750e+01</td>\n",
       "      <td>8.685000e+01</td>\n",
       "    </tr>\n",
       "    <tr>\n",
       "      <th>VolumeMSFT</th>\n",
       "      <td>3018.0</td>\n",
       "      <td>5.162690e+07</td>\n",
       "      <td>3.115056e+07</td>\n",
       "      <td>7425603.00</td>\n",
       "      <td>3.137422e+07</td>\n",
       "      <td>4.617739e+07</td>\n",
       "      <td>6.322369e+07</td>\n",
       "      <td>5.910786e+08</td>\n",
       "    </tr>\n",
       "  </tbody>\n",
       "</table>\n",
       "</div>"
      ],
      "text/plain": [
       "              count          mean           std         min           25%  \\\n",
       "OpenAMZN     3018.0  2.990968e+02  2.798603e+02       26.09  8.116750e+01   \n",
       "HighAMZN     3018.0  3.021337e+02  2.815709e+02       26.30  8.255500e+01   \n",
       "LowAMZN      3018.0  2.958087e+02  2.776883e+02       25.76  7.972250e+01   \n",
       "CloseAMZN    3018.0  2.991481e+02  2.797459e+02       26.07  8.108500e+01   \n",
       "VolumeAMZN   3018.0  5.931242e+06  5.122817e+06   986435.00  3.136958e+06   \n",
       "OpenGOOGL    3018.0  4.280246e+02  2.361607e+02      131.39  2.477625e+02   \n",
       "HighGOOGL    3018.0  4.316602e+02  2.373578e+02      134.82  2.501800e+02   \n",
       "LowGOOGL     3018.0  4.239588e+02  2.347736e+02      123.77  2.439975e+02   \n",
       "CloseGOOGL   3018.0  4.278725e+02  2.361945e+02      128.85  2.475325e+02   \n",
       "VolumeGOOGL  3018.0  3.551920e+06  3.039016e+06   521141.00  1.760804e+06   \n",
       "OpenIBM      3018.0  1.455210e+02  3.755996e+01       72.74  1.164025e+02   \n",
       "HighIBM      3018.0  1.466881e+02  3.762457e+01       73.94  1.177350e+02   \n",
       "LowIBM       3018.0  1.444772e+02  3.748259e+01       69.50  1.154800e+02   \n",
       "CloseIBM     3018.0  1.456233e+02  3.754049e+01       71.74  1.165150e+02   \n",
       "VolumeIBM    3018.0  5.774033e+06  3.193752e+06   254256.00  3.621674e+06   \n",
       "OpenMSFT     3018.0  3.648462e+01  1.467047e+01       15.20  2.678250e+01   \n",
       "HighMSFT     3018.0  3.681577e+01  1.472985e+01       15.62  2.704250e+01   \n",
       "LowMSFT      3018.0  3.616118e+01  1.460758e+01       14.87  2.653250e+01   \n",
       "CloseMSFT    3018.0  3.650142e+01  1.468231e+01       15.15  2.683250e+01   \n",
       "VolumeMSFT   3018.0  5.162690e+07  3.115056e+07  7425603.00  3.137422e+07   \n",
       "\n",
       "                      50%           75%           max  \n",
       "OpenAMZN     2.051750e+02  3.753575e+02  1.204880e+03  \n",
       "HighAMZN     2.077900e+02  3.790000e+02  1.213410e+03  \n",
       "LowAMZN      2.019850e+02  3.728050e+02  1.191150e+03  \n",
       "CloseAMZN    2.052650e+02  3.751325e+02  1.195830e+03  \n",
       "VolumeAMZN   4.723865e+06  7.132142e+06  1.044046e+08  \n",
       "OpenGOOGL    3.104100e+02  5.719250e+02  1.083020e+03  \n",
       "HighGOOGL    3.127950e+02  5.759450e+02  1.086490e+03  \n",
       "LowGOOGL     3.077550e+02  5.656475e+02  1.072270e+03  \n",
       "CloseGOOGL   3.100450e+02  5.706875e+02  1.085090e+03  \n",
       "VolumeGOOGL  2.518196e+06  4.242489e+06  4.118289e+07  \n",
       "OpenIBM      1.496500e+02  1.784525e+02  2.153800e+02  \n",
       "HighIBM      1.505100e+02  1.797875e+02  2.159000e+02  \n",
       "LowIBM       1.484800e+02  1.773400e+02  2.143000e+02  \n",
       "CloseIBM     1.493400e+02  1.786950e+02  2.158000e+02  \n",
       "VolumeIBM    4.928852e+06  6.968270e+06  3.077428e+07  \n",
       "OpenMSFT     2.999000e+01  4.451750e+01  8.712000e+01  \n",
       "HighMSFT     3.023000e+01  4.496000e+01  8.750000e+01  \n",
       "LowMSFT      2.977500e+01  4.407500e+01  8.623000e+01  \n",
       "CloseMSFT    2.999500e+01  4.439750e+01  8.685000e+01  \n",
       "VolumeMSFT   4.617739e+07  6.322369e+07  5.910786e+08  "
      ]
     },
     "execution_count": 99,
     "metadata": {},
     "output_type": "execute_result"
    }
   ],
   "source": [
    "# View specifics of the data\n",
    "master_data.describe().T"
   ]
  },
  {
   "cell_type": "markdown",
   "metadata": {
    "id": "s7-fmMfjnkdC"
   },
   "source": [
    "The data is now free from null values."
   ]
  },
  {
   "cell_type": "code",
   "execution_count": null,
   "metadata": {
    "id": "fVB7_wNKl-1J"
   },
   "outputs": [],
   "source": [
    "# Store the number of features in the master data set so that it can be referred to in later stages of the exercise\n",
    "n_features = ['Open', 'High', 'Low', 'Close', 'Volume']"
   ]
  },
  {
   "cell_type": "markdown",
   "metadata": {
    "id": "t1dHdCDQl-1K"
   },
   "source": [
    "## Subpart 2 - Data Processing"
   ]
  },
  {
   "cell_type": "markdown",
   "metadata": {
    "id": "ZjjEYTmOopW4"
   },
   "source": [
    "Next, we need to process the data so that it is ready to be used in recurrent neural networks. For this, we need to execute the following steps:\n",
    "1. Create windows from the master data frame and obtain windowed *X* and corresponding windowed *y* values\n",
    "  - We will use a user-defined helper function *create_windows()* to do this\n",
    "2. Perform train-test split on the windowed data\n",
    "  - We will use the *train_test_split()* method to do this\n",
    "3. Scale the data sets in an appropriate manner\n",
    "  - We will use a user-defined helper function *scale_data()* to do this\n",
    "\n",
    "We will define a function *create_data_instances()* that puts all of the above together and returns training and testing data sets that are ready to be used in recurrent neural networks."
   ]
  },
  {
   "cell_type": "markdown",
   "metadata": {
    "id": "_X4-IvYzw2Ig"
   },
   "source": [
    "Let's first look at how the *create_windows()* function creates windows on the master data frame."
   ]
  },
  {
   "cell_type": "markdown",
   "metadata": {
    "id": "927JETDg9ble"
   },
   "source": [
    "![windowing.png](data:image/png;base64,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)"
   ]
  },
  {
   "cell_type": "markdown",
   "metadata": {
    "id": "A_67cngv_vwO"
   },
   "source": [
    "![windowing y.png](data:image/png;base64,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)"
   ]
  },
  {
   "cell_type": "markdown",
   "metadata": {
    "id": "C3HhUS59DaCQ"
   },
   "source": [
    "Let us define the main function that will call all of the helper functions: *create_data_instances()*.\n",
    "\n",
    "The input parameters for this function are:\n",
    "- The joined master data set\n",
    "- The names of the stocks that we wish to predict the *Close* prices for\n",
    "- The window size\n",
    "- The window stride\n",
    "- The train-test split ratio\n",
    "\n",
    "The outputs from this function are:\n",
    "- *X_train*\n",
    "- *y_train*\n",
    "- *X_test*\n",
    "- *y_test*"
   ]
  },
  {
   "cell_type": "code",
   "execution_count": null,
   "metadata": {
    "id": "dvWRH5J4vq8l"
   },
   "outputs": [],
   "source": [
    "# Define a function to create input and output data points from the master data frame\n",
    "# Note: Controllable parameters here are 'target_names', 'window_size', 'window_stride' and 'test_split'\n",
    "# Note: The 'target_names' parameter is a list of the names of the stocks whose 'Close' values we wish to predict\n",
    "def create_data_instances(master_temp_data = None,\n",
    "                          target_names = [],\n",
    "                          window_size = 1,\n",
    "                          window_stride = 1,\n",
    "                          test_split = 0.1):\n",
    "    \n",
    "    # Create windows from the master data\n",
    "    windowed_X, windowed_y = create_windows(##### CODE HERE #####)\n",
    "    \n",
    "    # Perform train-test split\n",
    "    X_train_data, X_test_data, y_train_data, y_test_data = train_test_split(##### CODE HERE #####)\n",
    "    \n",
    "    # Scale the data sets\n",
    "    X_train_data, X_test_data, y_train_data, y_test_data = scale_data(##### CODE HERE #####)\n",
    "    \n",
    "    return X_train_data, y_train_data, X_test_data, y_test_data"
   ]
  },
  {
   "cell_type": "markdown",
   "metadata": {
    "id": "Jm9NihrvBthv"
   },
   "source": [
    "Here is the function to execute the windowing operations:"
   ]
  },
  {
   "cell_type": "code",
   "execution_count": null,
   "metadata": {
    "id": "-n1M1-4fvq8i"
   },
   "outputs": [],
   "source": [
    "# Define a function that divides the data into windows and generates target variable values for each window\n",
    "# Note: Controllable parameters here are 'window_size', 'window_stride' and 'target_names'\n",
    "# Note: The 'target_names' parameter is a list of the names of the stocks whose 'Close' values we wish to predict\n",
    "def create_windows(input_data = None, window_size = 1, window_stride = 1, target_names = []):\n",
    "\n",
    "    # Create lists for storing the windowed data\n",
    "    new_X_data = ##### CODE HERE #####\n",
    "    new_y_data = ##### CODE HERE #####\n",
    "\n",
    "    # Iterate through the master input data set\n",
    "    # Start from the first element of the master data set and stop at the first element of the last possible window\n",
    "    # Use 'window_stride' as the step size in the loop\n",
    "    for i in np.arange(##### CODE HERE #####):\n",
    "        \n",
    "        # Extract and store the current X window\n",
    "        data_point = ##### CODE HERE #####\n",
    "        new_X_data.##### CODE HERE #####\n",
    "        \n",
    "        # Extract and store the y value(s) associated with the current X window\n",
    "        y_val = ##### CODE HERE #####\n",
    "        new_y_data.##### CODE HERE #####\n",
    "    \n",
    "    new_y_data = pd.DataFrame(new_y_data)\n",
    "    \n",
    "    return new_X_data, new_y_data"
   ]
  },
  {
   "cell_type": "markdown",
   "metadata": {
    "id": "IBaJkaIx_1Vg"
   },
   "source": [
    "Let's now define a function that will scale the data after the train-test split. We will use the *MinMaxScaler()* to scale the data. Note that to train the scaler, we use the *partial_fit()* method. This is because we want to train the scaler on all the windows contained in *X_train_data*. The *partial_fit()* method allows us to do that as it fits the data online."
   ]
  },
  {
   "cell_type": "code",
   "execution_count": null,
   "metadata": {
    "id": "n9586NZptrAi"
   },
   "outputs": [],
   "source": [
    "# Define a function that scales the windowed data using a min-max scaler\n",
    "# Note: each data frame is a window, and the input data is a list of data frames\n",
    "# The function takes in the data sets and returns the scaled data sets\n",
    "def scale_data(X_train_data, X_test_data, y_train_data, y_test_data):\n",
    "    # Create a min-max scaler object\n",
    "    scaler = ##### CODE HERE #####\n",
    "    \n",
    "    # Use the 'partial_fit' method to fit the scaler over all the windows iteratively\n",
    "    for window in X_train_data:\n",
    "        scaler.##### CODE HERE #####\n",
    "    \n",
    "    # Transform 'X_train_data' using the scaler\n",
    "    X_train_data = ##### CODE HERE #####\n",
    "    \n",
    "    # Transform 'X_test_data' using the scaler\n",
    "    X_test_data = ##### CODE HERE #####\n",
    "    \n",
    "    # Fit the scaler on 'y_train_data' and transform it\n",
    "    y_train_data = scaler.##### CODE HERE #####\n",
    "    \n",
    "    # Transform 'y_test_data'\n",
    "    y_test_data = scaler.##### CODE HERE #####\n",
    "    \n",
    "    return X_train_data, X_test_data, y_train_data, y_test_data"
   ]
  },
  {
   "cell_type": "markdown",
   "metadata": {
    "id": "H5PZw7SHGUdx"
   },
   "source": [
    "Let's now use all of these helper functions to create our training and testing data sets."
   ]
  },
  {
   "cell_type": "code",
   "execution_count": null,
   "metadata": {
    "id": "-sFdDgH0vq8o"
   },
   "outputs": [],
   "source": [
    "# Create data instances from the master data frame using a window size of 75, a window stride of 5 and a test size of 20%\n",
    "window_size = ##### CODE HERE #####\n",
    "window_stride = ##### CODE HERE #####\n",
    "test_split = ##### CODE HERE #####\n",
    "target_names = ##### CODE HERE #####\n",
    "\n",
    "X_train, y_train, X_test, y_test = create_data_instances(##### CODE HERE #####)"
   ]
  },
  {
   "cell_type": "markdown",
   "metadata": {
    "id": "5khQSiaAGjs5"
   },
   "source": [
    "Let's look at how many training and testing data points were generated."
   ]
  },
  {
   "cell_type": "code",
   "execution_count": null,
   "metadata": {
    "colab": {
     "base_uri": "https://localhost:8080/"
    },
    "id": "JoRLGqp-6aHP",
    "outputId": "61492bff-cc7c-425c-f1f5-14aaf139cbbf"
   },
   "outputs": [],
   "source": [
    "# Check the number of data points generated\n",
    "print('Number of training data points generated = {}'.format(len(y_train)))\n",
    "print('Number of testing data points generated = {}'.format(len(y_test)))"
   ]
  },
  {
   "cell_type": "markdown",
   "metadata": {
    "id": "K03QF-kwGrLA"
   },
   "source": [
    "We need to convert the training and testing data into numpy arrays (which is required for training neural networks) as our helper functions return them as lists."
   ]
  },
  {
   "cell_type": "code",
   "execution_count": null,
   "metadata": {
    "id": "ViVKgkrwvq8r"
   },
   "outputs": [],
   "source": [
    "# Convert the training and testing data into numpy arrays\n",
    "X_train = ##### CODE HERE #####\n",
    "y_train = ##### CODE HERE #####\n",
    "X_test = ##### CODE HERE #####\n",
    "y_test = ##### CODE HERE #####"
   ]
  },
  {
   "cell_type": "markdown",
   "metadata": {
    "id": "v1ZALVo1HWfY"
   },
   "source": [
    "Let's now look at the shape of our data sets."
   ]
  },
  {
   "cell_type": "code",
   "execution_count": null,
   "metadata": {
    "colab": {
     "base_uri": "https://localhost:8080/"
    },
    "id": "nzsC3xyGvq8t",
    "outputId": "dc58d7a6-7776-471c-9fff-e8a9a196f035"
   },
   "outputs": [],
   "source": [
    "# Check the dimensions of the training and testing data\n",
    "print('Shape of training data input = {}'.format(X_train.shape))\n",
    "print('Shape of training data output = {}'.format(y_train.shape))\n",
    "print('Shape of testing data input = {}'.format(X_test.shape))\n",
    "print('Shape of testing data output = {}'.format(y_test.shape))"
   ]
  },
  {
   "cell_type": "markdown",
   "metadata": {
    "id": "U_GMmTjxl-1r"
   },
   "source": [
    "Note that the data are in the right shape for feeding into recurrent neural networks."
   ]
  },
  {
   "cell_type": "code",
   "execution_count": null,
   "metadata": {
    "id": "pG2fW88lw2Im"
   },
   "outputs": [],
   "source": [
    "# Store input data shape for RNNs, LSTM networks and GRU networks\n",
    "inputdims = ##### CODE HERE #####"
   ]
  },
  {
   "cell_type": "code",
   "execution_count": null,
   "metadata": {
    "id": "lTOGrOzAnkdF"
   },
   "outputs": [],
   "source": [
    "# Store the output dimensionality for all the neural networks\n",
    "n_outputs = ##### CODE HERE #####"
   ]
  },
  {
   "cell_type": "markdown",
   "metadata": {
    "id": "fNNSAT6YfO3z"
   },
   "source": [
    "# Part 2 - Simple RNN Models\n",
    "In this section, we will:\n",
    "- Define a function that creates a simple RNN\n",
    "- Tune the RNN for different hyperparameter values\n",
    "- View the performance of the optimal model on the test data"
   ]
  },
  {
   "cell_type": "markdown",
   "metadata": {
    "id": "Ekq-LY1p86NI"
   },
   "source": [
    "## Subpart 1 - Simple RNN Function"
   ]
  },
  {
   "cell_type": "code",
   "execution_count": null,
   "metadata": {
    "id": "vlP2WDEMfO30"
   },
   "outputs": [],
   "source": [
    "# Define a function to create an RNN model and specify default values for hyperparameters\n",
    "def create_rnn(cells_config = [1],\n",
    "               activation_function_rnn = 'tanh'):\n",
    "    \n",
    "    # Declare an instance of a neural network model\n",
    "    nn = ##### CODE HERE #####\n",
    "    \n",
    "    # Specify the input shape by adding an input layer\n",
    "    nn.##### CODE HERE #####\n",
    "    \n",
    "    # Interpret the number of recurrent layers\n",
    "    n_rnn = ##### CODE HERE #####\n",
    "    \n",
    "    # Conditionally add recurrent layers to the network\n",
    "    # Note: All non-ultimate recurrent layers have 'return_sequences' set to 'True'\n",
    "    for i in np.arange(##### CODE HERE #####):\n",
    "        nn.##### CODE HERE #####\n",
    "    \n",
    "    # Add the ultimate recurrent layer\n",
    "    # Note: The ultimate recurrent layer has 'return_sequences' set to 'False'\n",
    "    nn.##### CODE HERE #####\n",
    "    \n",
    "    # Add an output layer to the network\n",
    "    # Note: Since this is a regression exercise, we use as many output neurons as the number of target output features\n",
    "    # Note: We use a linear activation function since this is a regression exercise\n",
    "    nn.##### CODE HERE #####\n",
    "    \n",
    "    # Compile the network\n",
    "    # Note: Since this is a regression exercise, we use mean squared error as the loss function\n",
    "    # Note: Performance can be measured using the RMSE\n",
    "    nn.##### CODE HERE #####\n",
    "    \n",
    "    return(nn)"
   ]
  },
  {
   "cell_type": "markdown",
   "metadata": {
    "id": "R4xDFvOXfO31"
   },
   "source": [
    "## Subpart 2 - Simple RNN Model: Hyperparameter Tuning"
   ]
  },
  {
   "cell_type": "code",
   "execution_count": null,
   "metadata": {
    "colab": {
     "base_uri": "https://localhost:8080/"
    },
    "id": "jGRsV3GefO31",
    "outputId": "b2a5f41d-4961-4944-dd0f-fad3bb2066d2",
    "scrolled": true
   },
   "outputs": [],
   "source": [
    "# Initialize a basic RNN object using the 'KerasRegressor()' method\n",
    "base_grid_model = KerasRegressor(##### CODE HERE #####)\n",
    "\n",
    "# Define ranges of hyperparameters and store it in a parameter grid dictionary\n",
    "parameters_grid = {##### CODE HERE #####}\n",
    "\n",
    "# Perform a grid search using the 'GridSearchCV()' method to obtain a grid on which to fit the training data\n",
    "grid = GridSearchCV(##### CODE HERE #####)\n",
    "\n",
    "# Fit the grid model to the training data\n",
    "# Note: There is no need for validation split here as cross-validation is already in place\n",
    "grid_model = grid.fit(##### CODE HERE #####)"
   ]
  },
  {
   "cell_type": "code",
   "execution_count": null,
   "metadata": {
    "colab": {
     "base_uri": "https://localhost:8080/"
    },
    "id": "eHuJ61iYfO31",
    "outputId": "cb1b4217-85ff-40cf-d341-cd51ed2d2c27"
   },
   "outputs": [],
   "source": [
    "# View the optimal values of the hyperparameters\n",
    "best_cells_config = ##### CODE HERE #####\n",
    "best_activation_function_rnn = ##### CODE HERE #####\n",
    "best_mse = ##### CODE HERE #####\n",
    "\n",
    "print('The optimal configuration of RNN cells is', best_cells_config)\n",
    "print('The optimal activation function for recurrent neurons is', best_activation_function_rnn)\n",
    "print('The root mean squared error of the model with these optimal parameters is ', np.sqrt(abs(best_mse)))"
   ]
  },
  {
   "cell_type": "markdown",
   "metadata": {
    "id": "uQEdloDtydKA"
   },
   "source": [
    "Mean squared error (MSE), and its square root, root mean square error (RMSE), can be used to interpret the performance of a regression model. But as we have scaled the target variable, we can not readily interpret the MSE and the RMSE, though we can use them to compare the performance of different models."
   ]
  },
  {
   "cell_type": "markdown",
   "metadata": {
    "id": "8krOJTq5_fM0"
   },
   "source": [
    "## Subpart 3 - Optimal Simple RNN Model"
   ]
  },
  {
   "cell_type": "code",
   "execution_count": null,
   "metadata": {
    "id": "qLQPoIQCfO32",
    "scrolled": true
   },
   "outputs": [],
   "source": [
    "# Create an RNN model with a combination of potentially optimal hyperparameter values and retrain the model\n",
    "nn1 = create_rnn(##### CODE HERE #####)\n",
    "\n",
    "nn1.summary()\n",
    "print('\\n')\n",
    "nn1_history = nn1.##### CODE HERE #####"
   ]
  },
  {
   "cell_type": "code",
   "execution_count": null,
   "metadata": {
    "id": "_fzhpgV9fO32",
    "scrolled": true
   },
   "outputs": [],
   "source": [
    "# Convert the RNN history object into a data frame to view its specifics\n",
    "hist = pd.DataFrame(nn1_history.history)\n",
    "hist['epoch'] = nn1_history.epoch\n",
    "hist['epoch'] = hist['epoch'].apply(lambda x: x + 1)\n",
    "hist['rmse'] = hist['loss'].apply(np.sqrt)\n",
    "hist['val_rmse'] = hist['val_loss'].apply(np.sqrt)\n",
    "hist.set_index('epoch')"
   ]
  },
  {
   "cell_type": "code",
   "execution_count": null,
   "metadata": {
    "id": "ZdJCmDrCfO32"
   },
   "outputs": [],
   "source": [
    "# View the training and validation RMSEs as functions of epoch\n",
    "plt.figure(figsize = (14, 4))\n",
    "\n",
    "sns.lineplot(data = hist, x = 'epoch', y = 'rmse', color = 'red', label = 'Train')\n",
    "sns.lineplot(data = hist, x = 'epoch', y = 'val_rmse', color = 'blue', label = 'Validation')\n",
    "plt.xlabel('Epoch')\n",
    "plt.ylabel('RMSE')\n",
    "plt.title('RMSE as a Function of Epoch');"
   ]
  },
  {
   "cell_type": "markdown",
   "metadata": {
    "id": "1GUfu3167Rqx"
   },
   "source": [
    "It is worth noting that every training session for a neural network is unique. So, the results may vary slightly each time you retrain the model."
   ]
  },
  {
   "cell_type": "code",
   "execution_count": null,
   "metadata": {
    "id": "aHlPLvDcfO32"
   },
   "outputs": [],
   "source": [
    "# Compute the performance of the model on the testing data set\n",
    "performance_test = nn1.##### CODE HERE #####\n",
    "\n",
    "print('The loss value of the model on the test data is {}'.format(performance_test))\n",
    "print('The RMSE of the model on the test data is {}'.format(np.sqrt(performance_test)))"
   ]
  },
  {
   "cell_type": "markdown",
   "metadata": {
    "id": "Gvaaw0navq9N"
   },
   "source": [
    "# Part 3 - LSTM Network Models\n",
    "In this section, we will:\n",
    "- Define a function that creates an LSTM network\n",
    "- Tune the network for different hyperparameter values\n",
    "- View the performance of the optimal model on the test data"
   ]
  },
  {
   "cell_type": "markdown",
   "metadata": {
    "id": "lLmMGXvyvq9V"
   },
   "source": [
    "## Subpart 1 - LSTM Network Function"
   ]
  },
  {
   "cell_type": "code",
   "execution_count": null,
   "metadata": {
    "id": "0g1yDzllvq9W"
   },
   "outputs": [],
   "source": [
    "# Define a function to create an LSTM network model and specify default values for hyperparameters\n",
    "def create_lstmn(units_config = [1]):\n",
    "    \n",
    "    # Declare an instance of a neural network model\n",
    "    nn = ##### CODE HERE #####\n",
    "    \n",
    "    # Specify the input shape by adding an input layer\n",
    "    nn.##### CODE HERE #####\n",
    "    \n",
    "    # Interpret the number of LSTM layers\n",
    "    n_lstm = ##### CODE HERE #####\n",
    "    \n",
    "    # Conditionally add LSTM layers to the network\n",
    "    # Note: All non-ultimate LSTM layers have 'return_sequences' set to 'True'\n",
    "    for i in np.arange(##### CODE HERE #####):\n",
    "        nn.##### CODE HERE #####\n",
    "    \n",
    "    # Add the ultimate LSTM layer\n",
    "    # Note: The ultimate LSTM layer has 'return_sequences' set to 'False'\n",
    "    nn.##### CODE HERE #####\n",
    "    \n",
    "    # Add an output layer to the network\n",
    "    # Note: Since this is a regression exercise, we use as many output neurons as the number of target output features\n",
    "    # Note: We use a linear activation function since this is a regression exercise\n",
    "    nn.##### CODE HERE #####\n",
    "    \n",
    "    # Compile the network\n",
    "    # Note: Since this is a regression exercise, we use mean squared error as the loss function\n",
    "    # Note: Performance can be measured using the RMSE\n",
    "    nn.##### CODE HERE #####\n",
    "    \n",
    "    return(nn)"
   ]
  },
  {
   "cell_type": "markdown",
   "metadata": {
    "id": "G0lvqIJ2vq9b"
   },
   "source": [
    "## Subpart 2 - LSTM Network Models"
   ]
  },
  {
   "cell_type": "code",
   "execution_count": null,
   "metadata": {
    "id": "sWRBShecvq9e",
    "scrolled": true
   },
   "outputs": [],
   "source": [
    "# Initialize a basic LSTM network object using the 'KerasRegressor()' method\n",
    "base_grid_model = KerasRegressor(##### CODE HERE #####)\n",
    "\n",
    "# Define ranges of hyperparameters and store it in a parameter grid dictionary\n",
    "parameters_grid = {##### CODE HERE #####}\n",
    "\n",
    "# Perform a grid search using the 'GridSearchCV()' method to obtain a grid on which to fit the training data\n",
    "grid = GridSearchCV(##### CODE HERE #####)\n",
    "\n",
    "# Fit the grid model to the training data\n",
    "# Note: There is no need for validation split here as cross-validation is already in place\n",
    "grid_model = grid.fit(##### CODE HERE #####)"
   ]
  },
  {
   "cell_type": "code",
   "execution_count": null,
   "metadata": {
    "id": "qAB8HpPcvq9j"
   },
   "outputs": [],
   "source": [
    "# View the optimal values of the hyperparameters\n",
    "best_units_config = ##### CODE HERE #####\n",
    "best_mse = ##### CODE HERE #####\n",
    "\n",
    "print('The optimal configuration of LSTM units is', best_units_config)\n",
    "print('The root mean squared error of the model with these optimal parameters is ', np.sqrt(abs(best_mse)))"
   ]
  },
  {
   "cell_type": "markdown",
   "metadata": {
    "id": "Ag5loR2x8Q6W"
   },
   "source": [
    "Note that the activation functions in gated cells such as LSTM units and GRUs are highly specialized. In general, we do not need to tune for them."
   ]
  },
  {
   "cell_type": "markdown",
   "metadata": {
    "id": "_n5OTBdSvq9t"
   },
   "source": [
    "## Subpart 3 - Optimal LSTM Network Model"
   ]
  },
  {
   "cell_type": "code",
   "execution_count": null,
   "metadata": {
    "id": "5uyN6vgzvq9w",
    "scrolled": true
   },
   "outputs": [],
   "source": [
    "# Create an LSTM network model with a combination of potentially optimal hyperparameter values and retrain the model\n",
    "nn2 = create_lstmn(##### CODE HERE #####)\n",
    "\n",
    "nn2.summary()\n",
    "print('\\n')\n",
    "nn2_history = nn2.##### CODE HERE #####"
   ]
  },
  {
   "cell_type": "code",
   "execution_count": null,
   "metadata": {
    "id": "j8mRiHk_vq9z",
    "scrolled": true
   },
   "outputs": [],
   "source": [
    "# Convert the LSTM network history object into a data frame to view its specifics\n",
    "hist = pd.DataFrame(nn2_history.history)\n",
    "hist['epoch'] = nn2_history.epoch\n",
    "hist['epoch'] = hist['epoch'].apply(lambda x: x + 1)\n",
    "hist['rmse'] = hist['loss'].apply(np.sqrt)\n",
    "hist['val_rmse'] = hist['val_loss'].apply(np.sqrt)\n",
    "hist.set_index('epoch')"
   ]
  },
  {
   "cell_type": "code",
   "execution_count": null,
   "metadata": {
    "id": "9jlhfiU2vq91"
   },
   "outputs": [],
   "source": [
    "# View the training and validation RMSEs as functions of epoch\n",
    "plt.figure(figsize = (14, 4))\n",
    "\n",
    "sns.lineplot(data = hist, x = 'epoch', y = 'rmse', color = 'red', label = 'Train')\n",
    "sns.lineplot(data = hist, x = 'epoch', y = 'val_rmse', color = 'blue', label = 'Validation')\n",
    "plt.xlabel('Epoch')\n",
    "plt.ylabel('RMSE')\n",
    "plt.title('RMSE as a Function of Epoch');"
   ]
  },
  {
   "cell_type": "markdown",
   "metadata": {
    "id": "KEHWzDLN8gTi"
   },
   "source": [
    "It is worth noting that every training session for a neural network is unique. So, the results may vary slightly each time you retrain the model."
   ]
  },
  {
   "cell_type": "code",
   "execution_count": null,
   "metadata": {
    "id": "1x9njgzwvq92"
   },
   "outputs": [],
   "source": [
    "# Compute the performance of the model on the testing data set\n",
    "performance_test = nn2.##### CODE HERE #####\n",
    "\n",
    "print('The loss value of the model on the test data is {}'.format(performance_test))\n",
    "print('The RMSE of the model on the test data is {}'.format(np.sqrt(performance_test)))"
   ]
  },
  {
   "cell_type": "markdown",
   "metadata": {
    "id": "oyqFG8fYvq95"
   },
   "source": [
    "# Part 4 - GRU Network Models\n",
    "In this section, we will:\n",
    "- Define a function that creates a GRU network\n",
    "- Tune the GRU network for different hyperparameter values\n",
    "- View the performance of the optimal model on the test data"
   ]
  },
  {
   "cell_type": "markdown",
   "metadata": {
    "id": "92vDbdhjw2Io"
   },
   "source": [
    "## Subpart 1 - GRU Network Function"
   ]
  },
  {
   "cell_type": "code",
   "execution_count": null,
   "metadata": {
    "id": "OUuRljlqvq-B"
   },
   "outputs": [],
   "source": [
    "# Define a function to create a GRU network model and specify default values for hyperparameters\n",
    "def create_grun(units_config = [1]):\n",
    "    \n",
    "    # Declare an instance of a neural network model\n",
    "    nn = ##### CODE HERE #####\n",
    "    \n",
    "    # Specify the input shape by adding an input layer\n",
    "    nn.##### CODE HERE #####\n",
    "    \n",
    "    # Interpret the number of GRU layers\n",
    "    n_gru = ##### CODE HERE #####\n",
    "    \n",
    "    # Conditionally add GRU layers to the network\n",
    "    # Note: All non-ultimate GRU layers have 'return_sequences' set to 'True'\n",
    "    for i in np.arange(##### CODE HERE #####):\n",
    "        nn.##### CODE HERE #####\n",
    "    \n",
    "    # Add the ultimate GRU layer\n",
    "    # Note: The ultimate GRU layer has 'return_sequences' set to 'False'\n",
    "    nn.##### CODE HERE #####\n",
    "    \n",
    "    # Add an output layer to the network\n",
    "    # Note: Since this is a regression exercise, we use as many output neurons as the number of target output features\n",
    "    # Note: We use a linear activation function since this is a regression exercise\n",
    "    nn.##### CODE HERE #####\n",
    "    \n",
    "    # Compile the network\n",
    "    # Note: Since this is a regression exercise, we use mean squared error as the loss function\n",
    "    # Note: Performance can be measured using the RMSE\n",
    "    nn.##### CODE HERE #####\n",
    "    \n",
    "    return(nn)"
   ]
  },
  {
   "cell_type": "markdown",
   "metadata": {
    "id": "QmTq-HwYvq-D"
   },
   "source": [
    "## Subpart 2 - GRU Network Models"
   ]
  },
  {
   "cell_type": "code",
   "execution_count": null,
   "metadata": {
    "id": "9l9tw2bUvq-E",
    "scrolled": true
   },
   "outputs": [],
   "source": [
    "# Initialize a basic GRU network object using the 'KerasRegressor()' method\n",
    "base_grid_model = KerasRegressor(##### CODE HERE #####)\n",
    "\n",
    "# Define ranges of hyperparameters and store it in a parameter grid dictionary\n",
    "parameters_grid = {##### CODE HERE #####}\n",
    "\n",
    "# Perform a grid search using the 'GridSearchCV()' method to obtain a grid on which to fit the training data\n",
    "grid = GridSearchCV(##### CODE HERE #####)\n",
    "\n",
    "# Fit the grid model to the training data\n",
    "# Note: There is no need for validation split here as cross-validation is already in place\n",
    "grid_model = grid.##### CODE HERE #####"
   ]
  },
  {
   "cell_type": "code",
   "execution_count": null,
   "metadata": {
    "id": "hbn9-54Dvq-H"
   },
   "outputs": [],
   "source": [
    "# View the optimal values of the hyperparameters\n",
    "best_units_config = ##### CODE HERE #####\n",
    "best_mse = ##### CODE HERE #####\n",
    "\n",
    "print('The optimal configuration of GRUs is', best_units_config)\n",
    "print('The root mean squared error of the model with these optimal parameters is ', np.sqrt(abs(best_mse)))"
   ]
  },
  {
   "cell_type": "markdown",
   "metadata": {
    "id": "IiYEZyNKEgEM"
   },
   "source": [
    "Note that the activation functions in gated cells such as LSTM units and GRUs are highly specialized. In general, we do not need to tune for them."
   ]
  },
  {
   "cell_type": "markdown",
   "metadata": {
    "id": "17dZ1JjYvq-V"
   },
   "source": [
    "## Subpart 3 - Optimal GRU Network Model"
   ]
  },
  {
   "cell_type": "code",
   "execution_count": null,
   "metadata": {
    "id": "J6LTl-4ovq-X",
    "scrolled": true
   },
   "outputs": [],
   "source": [
    "# Create a GRU network model with a combination of potentially optimal hyperparameter values and retrain the model\n",
    "nn3 = create_grun(##### CODE HERE #####)\n",
    "\n",
    "nn3.summary()\n",
    "print('\\n')\n",
    "nn3_history = nn3.##### CODE HERE #####"
   ]
  },
  {
   "cell_type": "code",
   "execution_count": null,
   "metadata": {
    "id": "_jWSyXxivq-Z"
   },
   "outputs": [],
   "source": [
    "# Convert the GRU network history object into a data frame to view its specifics\n",
    "hist = pd.DataFrame(nn3_history.history)\n",
    "hist['epoch'] = nn3_history.epoch\n",
    "hist['epoch'] = hist['epoch'].apply(lambda x: x + 1)\n",
    "hist['rmse'] = hist['loss'].apply(np.sqrt)\n",
    "hist['val_rmse'] = hist['val_loss'].apply(np.sqrt)\n",
    "hist.set_index('epoch')"
   ]
  },
  {
   "cell_type": "code",
   "execution_count": null,
   "metadata": {
    "id": "WidzfJqFvq-c"
   },
   "outputs": [],
   "source": [
    "# View the training and validation RMSEs as functions of epoch\n",
    "plt.figure(figsize = (14, 4))\n",
    "\n",
    "sns.lineplot(data = hist, x = 'epoch', y = 'rmse', color = 'red', label = 'Train')\n",
    "sns.lineplot(data = hist, x = 'epoch', y = 'val_rmse', color = 'blue', label = 'Validation')\n",
    "plt.xlabel('Epoch')\n",
    "plt.ylabel('RMSE')\n",
    "plt.title('RMSE as a Function of Epoch');"
   ]
  },
  {
   "cell_type": "markdown",
   "metadata": {
    "id": "UaLB6ahAl-2U"
   },
   "source": [
    "It is worth noting that every training session for a neural network is unique. So, the results may vary slightly each time you retrain the model."
   ]
  },
  {
   "cell_type": "code",
   "execution_count": null,
   "metadata": {
    "id": "-XfeIl9pvq-f"
   },
   "outputs": [],
   "source": [
    "# Compute the performance of the model on the testing data set\n",
    "performance_test = nn3.##### CODE HERE #####\n",
    "\n",
    "print('The loss value of the model on the test data is {}'.format(performance_test))\n",
    "print('The RMSE of the model on the test data is {}'.format(np.sqrt(performance_test)))"
   ]
  },
  {
   "cell_type": "markdown",
   "metadata": {
    "id": "JKaiTII-23Aq"
   },
   "source": [
    "# Part 5 - Predicting Multiple Target Variables\n",
    "\n",
    "In this section, we will use recurrent neural networks to predict stock prices for more than one company."
   ]
  },
  {
   "cell_type": "markdown",
   "metadata": {
    "id": "taBw30-HLTWV"
   },
   "source": [
    "## Subpart 1 -  Data Preparation"
   ]
  },
  {
   "cell_type": "code",
   "execution_count": null,
   "metadata": {
    "id": "BQEWm-m129Rw"
   },
   "outputs": [],
   "source": [
    "# Create data instances from the master data frame using a window size of 75, a window stride of 5 and a test size of 20%\n",
    "# Note: Specify the list of stock names whose 'Close' values you wish to predict using the 'target_names' parameter\n",
    "window_size = ##### CODE HERE #####\n",
    "window_stride = ##### CODE HERE #####\n",
    "test_split = ##### CODE HERE #####\n",
    "target_names = ##### CODE HERE #####\n",
    "\n",
    "X_train, y_train, X_test, y_test = create_data_instances(##### CODE HERE #####)"
   ]
  },
  {
   "cell_type": "code",
   "execution_count": null,
   "metadata": {
    "id": "4_WWJKvsLlAA"
   },
   "outputs": [],
   "source": [
    "# Check the number of data points generated\n",
    "print('Number of training data points generated = {}'.format(len(y_train)))\n",
    "print('Number of testing data points generated = {}'.format(len(y_test)))"
   ]
  },
  {
   "cell_type": "code",
   "execution_count": null,
   "metadata": {
    "id": "ujCExCGwLlAA"
   },
   "outputs": [],
   "source": [
    "# Convert the training and testing data into numpy arrays\n",
    "X_train = ##### CODE HERE #####\n",
    "y_train = ##### CODE HERE #####\n",
    "X_test = ##### CODE HERE #####\n",
    "y_test =##### CODE HERE #####"
   ]
  },
  {
   "cell_type": "code",
   "execution_count": null,
   "metadata": {
    "id": "VG_9pyCALlAB"
   },
   "outputs": [],
   "source": [
    "# Check the dimensions of the training and testing data\n",
    "print('Shape of training data input = {}'.format(X_train.shape))\n",
    "print('Shape of training data output = {}'.format(y_train.shape))\n",
    "print('Shape of testing data input = {}'.format(X_test.shape))\n",
    "print('Shape of testing data output = {}'.format(y_test.shape))"
   ]
  },
  {
   "cell_type": "code",
   "execution_count": null,
   "metadata": {
    "id": "ib2NnCL5LlAB"
   },
   "outputs": [],
   "source": [
    "# Store the output dimensionality for all the networks\n",
    "n_outputs = ##### CODE HERE #####"
   ]
  },
  {
   "cell_type": "markdown",
   "metadata": {
    "id": "4kUyl2U9LnpK"
   },
   "source": [
    "## Subpart 2 -  Simple RNN Models"
   ]
  },
  {
   "cell_type": "code",
   "execution_count": null,
   "metadata": {
    "id": "FhjXH72pMI4t",
    "scrolled": true
   },
   "outputs": [],
   "source": [
    "# Initialize a basic RNN object using the 'KerasRegressor()' method\n",
    "base_grid_model = KerasRegressor(##### CODE HERE #####)\n",
    "\n",
    "# Define ranges of hyperparameters and store it in a parameter grid dictionary\n",
    "parameters_grid = {##### CODE HERE #####}\n",
    "\n",
    "# Perform a grid search using the 'GridSearchCV()' method to obtain a grid on which to fit the training data\n",
    "grid = GridSearchCV(##### CODE HERE #####)\n",
    "\n",
    "# Fit the grid model to the training data\n",
    "# Note: There is no need for validation split here as cross-validation is already in place\n",
    "grid_model = grid.##### CODE HERE #####"
   ]
  },
  {
   "cell_type": "code",
   "execution_count": null,
   "metadata": {
    "id": "DYXngNUmMI4u"
   },
   "outputs": [],
   "source": [
    "# View the optimal values of the hyperparameters\n",
    "best_cells_config = ##### CODE HERE #####\n",
    "best_activation_function_rnn = ##### CODE HERE #####\n",
    "best_mse = ##### CODE HERE #####\n",
    "\n",
    "print('The optimal configuration of RNN cells is', best_cells_config)\n",
    "print('The optimal activation function for recurrent neurons is', best_activation_function_rnn)\n",
    "print('The root mean squared error of the model with these optimal parameters is ', np.sqrt(abs(best_mse)))"
   ]
  },
  {
   "cell_type": "code",
   "execution_count": null,
   "metadata": {
    "id": "-vyWykGBMI4y",
    "scrolled": true
   },
   "outputs": [],
   "source": [
    "# Create an RNN model with a combination of potentially optimal hyperparameter values and retrain the model\n",
    "nn4 = create_rnn(##### CODE HERE #####)\n",
    "\n",
    "nn4.summary()\n",
    "print('\\n')\n",
    "nn4_history = nn4.##### CODE HERE #####"
   ]
  },
  {
   "cell_type": "code",
   "execution_count": null,
   "metadata": {
    "id": "E-5405HyMcM9",
    "scrolled": true
   },
   "outputs": [],
   "source": [
    "# Convert the RNN history object into a data frame to view its specifics\n",
    "hist = pd.DataFrame(nn4_history.history)\n",
    "hist['epoch'] = nn4_history.epoch\n",
    "hist['epoch'] = hist['epoch'].apply(lambda x: x + 1)\n",
    "hist['rmse'] = hist['loss'].apply(np.sqrt)\n",
    "hist['val_rmse'] = hist['val_loss'].apply(np.sqrt)\n",
    "hist.set_index('epoch')"
   ]
  },
  {
   "cell_type": "code",
   "execution_count": null,
   "metadata": {
    "id": "Ev-1Olp1McNA"
   },
   "outputs": [],
   "source": [
    "# View the training and validation RMSEs as functions of epoch\n",
    "plt.figure(figsize = (14, 4))\n",
    "\n",
    "sns.lineplot(data = hist, x = 'epoch', y = 'rmse', color = 'red', label = 'Train')\n",
    "sns.lineplot(data = hist, x = 'epoch', y = 'val_rmse', color = 'blue', label = 'Validation')\n",
    "plt.xlabel('Epoch')\n",
    "plt.ylabel('RMSE')\n",
    "plt.title('RMSE as a Function of Epoch');"
   ]
  },
  {
   "cell_type": "markdown",
   "metadata": {
    "id": "OOuWPPKVl-2f"
   },
   "source": [
    "It is worth noting that every training session for a neural network is unique. So, the results may vary slightly each time you retrain the model."
   ]
  },
  {
   "cell_type": "code",
   "execution_count": null,
   "metadata": {
    "id": "4j63wDQkMcNB"
   },
   "outputs": [],
   "source": [
    "# Compute the performance of the model on the testing data set\n",
    "performance_test = nn4.##### CODE HERE #####\n",
    "\n",
    "print('The loss value of the model on the test data is {}'.format(performance_test))\n",
    "print('The RMSE of the model on the test data is {}'.format(np.sqrt(performance_test)))"
   ]
  },
  {
   "cell_type": "markdown",
   "metadata": {
    "id": "vnwOVGv5MjXi"
   },
   "source": [
    "## Subpart 3 - LSTM Network Models"
   ]
  },
  {
   "cell_type": "code",
   "execution_count": null,
   "metadata": {
    "id": "zfWDg0yHNWXF",
    "scrolled": true
   },
   "outputs": [],
   "source": [
    "# Initialize a basic LSTM network object using the 'KerasRegressor()' method\n",
    "base_grid_model = KerasRegressor(##### CODE HERE #####)\n",
    "\n",
    "# Define ranges of hyperparameters and store it in a parameter grid dictionary\n",
    "parameters_grid = {##### CODE HERE #####}\n",
    "\n",
    "# Perform a grid search using the 'GridSearchCV()' method to obtain a grid on which to fit the training data\n",
    "grid = GridSearchCV(##### CODE HERE #####)\n",
    "\n",
    "# Fit the grid model to the training data\n",
    "# Note: There is no need for validation split here as cross-validation is already in place\n",
    "grid_model = grid.##### CODE HERE #####"
   ]
  },
  {
   "cell_type": "code",
   "execution_count": null,
   "metadata": {
    "id": "vnmARr8GNWXG"
   },
   "outputs": [],
   "source": [
    "# View the optimal values of the hyperparameters\n",
    "best_units_config = ##### CODE HERE #####\n",
    "best_mse = ##### CODE HERE #####\n",
    "\n",
    "print('The optimal configuration of LSTM units is', best_units_config)\n",
    "print('The root mean squared error of the model with these optimal parameters is ', np.sqrt(abs(best_mse)))"
   ]
  },
  {
   "cell_type": "code",
   "execution_count": null,
   "metadata": {
    "id": "3Fh-2tBTNWXI",
    "scrolled": true
   },
   "outputs": [],
   "source": [
    "# Create an LSTM network model with a combination of potentially optimal hyperparameter values and retrain the model\n",
    "nn5 = create_lstmn(##### CODE HERE #####)\n",
    "\n",
    "nn5.summary()\n",
    "print('\\n')\n",
    "nn5_history = nn5.##### CODE HERE #####"
   ]
  },
  {
   "cell_type": "code",
   "execution_count": null,
   "metadata": {
    "id": "GXujdGfDNWXJ",
    "scrolled": true
   },
   "outputs": [],
   "source": [
    "# Convert the LSTM network history object into a data frame to view its specifics\n",
    "hist = pd.DataFrame(nn5_history.history)\n",
    "hist['epoch'] = nn5_history.epoch\n",
    "hist['epoch'] = hist['epoch'].apply(lambda x: x + 1)\n",
    "hist['rmse'] = hist['loss'].apply(np.sqrt)\n",
    "hist['val_rmse'] = hist['val_loss'].apply(np.sqrt)\n",
    "hist.set_index('epoch')"
   ]
  },
  {
   "cell_type": "code",
   "execution_count": null,
   "metadata": {
    "id": "hYTlWIXTNWXJ"
   },
   "outputs": [],
   "source": [
    "# View the training and validation RMSEs as functions of epoch\n",
    "plt.figure(figsize = (14, 4))\n",
    "\n",
    "sns.lineplot(data = hist, x = 'epoch', y = 'rmse', color = 'red', label = 'Train')\n",
    "sns.lineplot(data = hist, x = 'epoch', y = 'val_rmse', color = 'blue', label = 'Validation')\n",
    "plt.xlabel('Epoch')\n",
    "plt.ylabel('RMSE')\n",
    "plt.title('RMSE as a Function of Epoch');"
   ]
  },
  {
   "cell_type": "markdown",
   "metadata": {
    "id": "rM488vExl-2l"
   },
   "source": [
    "It is worth noting that every training session for a neural network is unique. So, the results may vary slightly each time you retrain the model."
   ]
  },
  {
   "cell_type": "code",
   "execution_count": null,
   "metadata": {
    "id": "_y7m-nziNWXK"
   },
   "outputs": [],
   "source": [
    "# Compute the performance of the model on the testing data set\n",
    "performance_test = nn5.##### CODE HERE #####\n",
    "\n",
    "print('The loss value of the model on the test data is {}'.format(performance_test))\n",
    "print('The RMSE of the model on the test data is {}'.format(np.sqrt(performance_test)))"
   ]
  },
  {
   "cell_type": "markdown",
   "metadata": {
    "id": "q3L2eouDNfsA"
   },
   "source": [
    "## Subpart 4 - GRU Network Models"
   ]
  },
  {
   "cell_type": "code",
   "execution_count": null,
   "metadata": {
    "id": "73IfVz2EN3qx",
    "scrolled": true
   },
   "outputs": [],
   "source": [
    "# Initialize a basic GRU network object using the 'KerasRegressor()' method\n",
    "base_grid_model = KerasRegressor(##### CODE HERE #####)\n",
    "\n",
    "# Define ranges of hyperparameters and store it in a parameter grid dictionary\n",
    "parameters_grid = {##### CODE HERE #####}\n",
    "\n",
    "# Perform a grid search using the 'GridSearchCV()' method to obtain a grid on which to fit the training data\n",
    "grid = GridSearchCV(##### CODE HERE #####)\n",
    "\n",
    "# Fit the grid model to the training data\n",
    "# Note: There is no need for validation split here as cross-validation is already in place\n",
    "grid_model = grid.##### CODE HERE #####"
   ]
  },
  {
   "cell_type": "code",
   "execution_count": null,
   "metadata": {
    "id": "dWTBu-77N3qx"
   },
   "outputs": [],
   "source": [
    "# View the optimal values of the hyperparameters\n",
    "best_units_config = ##### CODE HERE #####\n",
    "best_mse = ##### CODE HERE #####\n",
    "\n",
    "print('The optimal configuration of GRUs is', best_units_config)\n",
    "print('The root mean squared error of the model with these optimal parameters is ', np.sqrt(abs(best_mse)))"
   ]
  },
  {
   "cell_type": "code",
   "execution_count": null,
   "metadata": {
    "id": "037pwz6cN3qx",
    "scrolled": true
   },
   "outputs": [],
   "source": [
    "# Create a GRU network model with a combination of potentially optimal hyperparameter values and retrain the model\n",
    "nn6 = create_grun(##### CODE HERE #####)\n",
    "\n",
    "nn6.summary()\n",
    "print('\\n')\n",
    "nn6_history = nn6.##### CODE HERE #####"
   ]
  },
  {
   "cell_type": "code",
   "execution_count": null,
   "metadata": {
    "id": "KHa1iS8jN3qx"
   },
   "outputs": [],
   "source": [
    "# Convert the GRU network history object into a data frame to view its specifics\n",
    "hist = pd.DataFrame(nn6_history.history)\n",
    "hist['epoch'] = nn6_history.epoch\n",
    "hist['epoch'] = hist['epoch'].apply(lambda x: x + 1)\n",
    "hist['rmse'] = hist['loss'].apply(np.sqrt)\n",
    "hist['val_rmse'] = hist['val_loss'].apply(np.sqrt)\n",
    "hist.set_index('epoch')"
   ]
  },
  {
   "cell_type": "code",
   "execution_count": null,
   "metadata": {
    "id": "EHQXBt1BN3qy"
   },
   "outputs": [],
   "source": [
    "# View the training and validation RMSEs as functions of epoch\n",
    "plt.figure(figsize = (14, 4))\n",
    "\n",
    "sns.lineplot(data = hist, x = 'epoch', y = 'rmse', color = 'red', label = 'Train')\n",
    "sns.lineplot(data = hist, x = 'epoch', y = 'val_rmse', color = 'blue', label = 'Validation')\n",
    "plt.xlabel('Epoch')\n",
    "plt.ylabel('RMSE')\n",
    "plt.title('RMSE as a Function of Epoch');"
   ]
  },
  {
   "cell_type": "markdown",
   "metadata": {
    "id": "HCnAw8pzl-2q"
   },
   "source": [
    "It is worth noting that every training session for a neural network is unique. So, the results may vary slightly each time you retrain the model."
   ]
  },
  {
   "cell_type": "code",
   "execution_count": null,
   "metadata": {
    "id": "ZvfA5KlMN3qy"
   },
   "outputs": [],
   "source": [
    "# Compute the performance of the model on the testing data set\n",
    "performance_test = nn6.##### CODE HERE #####\n",
    "\n",
    "print('The loss value of the model on the test data is {}'.format(performance_test))\n",
    "print('The RMSE of the model on the test data is {}'.format(np.sqrt(performance_test)))"
   ]
  },
  {
   "cell_type": "code",
   "execution_count": null,
   "metadata": {
    "id": "RytYVCQ5l-2r"
   },
   "outputs": [],
   "source": []
  }
 ],
 "metadata": {
  "colab": {
   "provenance": []
  },
  "kernelspec": {
   "display_name": "Python 3 (ipykernel)",
   "language": "python",
   "name": "python3"
  },
  "language_info": {
   "codemirror_mode": {
    "name": "ipython",
    "version": 3
   },
   "file_extension": ".py",
   "mimetype": "text/x-python",
   "name": "python",
   "nbconvert_exporter": "python",
   "pygments_lexer": "ipython3",
   "version": "3.11.8"
  }
 },
 "nbformat": 4,
 "nbformat_minor": 4
}
