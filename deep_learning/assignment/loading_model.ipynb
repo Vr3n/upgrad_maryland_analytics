{
 "cells": [
  {
   "cell_type": "code",
   "execution_count": 1,
   "id": "0d4855d2-b2c4-474f-927f-b7e9c18fd70a",
   "metadata": {},
   "outputs": [],
   "source": [
    "import tensorflow as tf\n",
    "import numpy as np"
   ]
  },
  {
   "cell_type": "code",
   "execution_count": 2,
   "id": "31b430be-9692-42fd-a923-44de4f896024",
   "metadata": {},
   "outputs": [],
   "source": [
    "model = tf.keras.models.load_model(\"best_model\")"
   ]
  },
  {
   "cell_type": "code",
   "execution_count": 3,
   "id": "d70a3f41-e8f3-478d-bf54-9929d8eee56d",
   "metadata": {},
   "outputs": [],
   "source": [
    "def load_and_predict(img_path: str):\n",
    "    # Loading the image.\n",
    "    img = tf.keras.utils.load_img(img_path)\n",
    "\n",
    "    # pre processing the image.\n",
    "    size=(160, 160)\n",
    "\n",
    "    img = tf.image.resize(img, size)\n",
    "    img = img[None,...]\n",
    "\n",
    "    # predicting the img.\n",
    "    prediction = model.predict(img)\n",
    "\n",
    "    return prediction"
   ]
  },
  {
   "cell_type": "code",
   "execution_count": 7,
   "id": "a2d0eab7-3db3-406f-b93b-7b3ff53853b1",
   "metadata": {},
   "outputs": [
    {
     "name": "stdout",
     "output_type": "stream",
     "text": [
      "1/1 [==============================] - 0s 25ms/step\n"
     ]
    },
    {
     "data": {
      "text/plain": [
       "array([[0., 0., 1.]], dtype=float32)"
      ]
     },
     "execution_count": 7,
     "metadata": {},
     "output_type": "execute_result"
    }
   ],
   "source": [
    "load_and_predict(\"cloudy.jpg\")"
   ]
  },
  {
   "cell_type": "code",
   "execution_count": 6,
   "id": "34aac62c-140d-4c8f-b32a-8b2ba8796c5a",
   "metadata": {},
   "outputs": [
    {
     "data": {
      "text/plain": [
       "array([[0., 0., 1.]], dtype=float32)"
      ]
     },
     "execution_count": 6,
     "metadata": {},
     "output_type": "execute_result"
    }
   ],
   "source": [
    "rainy_model"
   ]
  },
  {
   "cell_type": "code",
   "execution_count": null,
   "id": "a104bb4b-1ea6-4aad-90c0-074f6567d201",
   "metadata": {},
   "outputs": [],
   "source": []
  }
 ],
 "metadata": {
  "kernelspec": {
   "display_name": "Python 3 (ipykernel)",
   "language": "python",
   "name": "python3"
  },
  "language_info": {
   "codemirror_mode": {
    "name": "ipython",
    "version": 3
   },
   "file_extension": ".py",
   "mimetype": "text/x-python",
   "name": "python",
   "nbconvert_exporter": "python",
   "pygments_lexer": "ipython3",
   "version": "3.11.8"
  }
 },
 "nbformat": 4,
 "nbformat_minor": 5
}
