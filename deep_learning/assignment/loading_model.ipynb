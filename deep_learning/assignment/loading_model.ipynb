{
 "cells": [
  {
   "cell_type": "code",
   "execution_count": 37,
   "id": "0d4855d2-b2c4-474f-927f-b7e9c18fd70a",
   "metadata": {},
   "outputs": [],
   "source": [
    "import tensorflow as tf\n",
    "import numpy as np\n",
    "import typing\n",
    "import PIL\n",
    "from tensorflow.keras.preprocessing.image import img_to_array, array_to_img"
   ]
  },
  {
   "cell_type": "code",
   "execution_count": 2,
   "id": "31b430be-9692-42fd-a923-44de4f896024",
   "metadata": {},
   "outputs": [],
   "source": [
    "model = tf.keras.models.load_model(\"best_model\")"
   ]
  },
  {
   "cell_type": "code",
   "execution_count": 12,
   "id": "36bcca90-0bfe-4d17-8aa9-6a18e4478fda",
   "metadata": {},
   "outputs": [
    {
     "name": "stdout",
     "output_type": "stream",
     "text": [
      "Model: \"sequential_24\"\n",
      "_________________________________________________________________\n",
      " Layer (type)                Output Shape              Param #   \n",
      "=================================================================\n",
      " conv2d_48 (Conv2D)          (None, 160, 160, 24)      672       \n",
      "                                                                 \n",
      " max_pooling2d_48 (MaxPoolin  (None, 40, 40, 24)       0         \n",
      " g2D)                                                            \n",
      "                                                                 \n",
      " conv2d_49 (Conv2D)          (None, 40, 40, 16)        3472      \n",
      "                                                                 \n",
      " max_pooling2d_49 (MaxPoolin  (None, 20, 20, 16)       0         \n",
      " g2D)                                                            \n",
      "                                                                 \n",
      " flatten_24 (Flatten)        (None, 6400)              0         \n",
      "                                                                 \n",
      " dense_48 (Dense)            (None, 36)                230436    \n",
      "                                                                 \n",
      " dense_49 (Dense)            (None, 3)                 111       \n",
      "                                                                 \n",
      "=================================================================\n",
      "Total params: 234,691\n",
      "Trainable params: 234,691\n",
      "Non-trainable params: 0\n",
      "_________________________________________________________________\n"
     ]
    }
   ],
   "source": [
    "model.summary()"
   ]
  },
  {
   "cell_type": "code",
   "execution_count": 10,
   "id": "3727933e-ad24-4eb7-8c78-3b3dffd048cd",
   "metadata": {},
   "outputs": [],
   "source": []
  },
  {
   "cell_type": "code",
   "execution_count": 13,
   "id": "c2fbe161-17a8-49f7-9157-76124f693a60",
   "metadata": {},
   "outputs": [],
   "source": []
  },
  {
   "cell_type": "code",
   "execution_count": 16,
   "id": "7fb19e10-dd56-4b06-8a4c-a46d4b0cca54",
   "metadata": {},
   "outputs": [],
   "source": [
    "cloudy_resize = tf.image.resize(cloudy, size)"
   ]
  },
  {
   "cell_type": "code",
   "execution_count": 20,
   "id": "9f16b4a0-33c0-45e8-9193-fce6a7a33280",
   "metadata": {},
   "outputs": [],
   "source": [
    "cloudy_img = cloudy_resize[None,...]"
   ]
  },
  {
   "cell_type": "code",
   "execution_count": 23,
   "id": "5d97705b-4c6e-4ec9-9c0f-649d523e7c31",
   "metadata": {},
   "outputs": [
    {
     "name": "stdout",
     "output_type": "stream",
     "text": [
      "1/1 [==============================] - 0s 46ms/step\n"
     ]
    },
    {
     "data": {
      "text/plain": [
       "array([[0., 0., 1.]], dtype=float32)"
      ]
     },
     "execution_count": 23,
     "metadata": {},
     "output_type": "execute_result"
    }
   ],
   "source": [
    "model.predict(cloudy_img)"
   ]
  },
  {
   "cell_type": "code",
   "execution_count": 38,
   "id": "664552bd-cf70-4fd2-81a0-976ed0edee3d",
   "metadata": {},
   "outputs": [],
   "source": [
    "def resize_images(input_images: typing.List[PIL] | np.array = [], new_dims: typing.Tuple[int, int] = 200, col_name: str = None):\n",
    "    '''\n",
    "    Resizes all the images in a list to a square with its side given.\n",
    "\n",
    "    Args:\n",
    "        input_images: A list of images to be resized. Each input image \n",
    "            must be a PIL image.\n",
    "        new_dims: An integer specifying the desired dimensions of the output \n",
    "            images. Each output image will have the same height and width.\n",
    "        col_name (str): Column name which consists the images in dataset.\n",
    "            (use when pass an dataframe as input_images)\n",
    "\n",
    "    Returns:\n",
    "        resized_images: A list of resized images. Each output image is a PIL \n",
    "            image with the specified dimensions.\n",
    "    '''\n",
    "\n",
    "    # Type checker for the input images.\n",
    "\n",
    "    resized_images = array_to_img(tf.image.resize(img_to_array(input_images), new_dims))\n",
    "    return resized_images"
   ]
  },
  {
   "cell_type": "code",
   "execution_count": 39,
   "id": "ffdadd7f-adce-4da7-8143-cadd52873dde",
   "metadata": {},
   "outputs": [],
   "source": [
    "def pre_process_image(image: typing.List[PIL], new_image_dims: int):\n",
    "    resized_imgs = resize_images(image, new_image_dims)\n",
    "\n",
    "    rescaled_imgs = np.array(img_to_array(image) / 255)\n",
    "\n",
    "    return rescaled_imgs"
   ]
  },
  {
   "cell_type": "code",
   "execution_count": 81,
   "id": "5faf5bed-0c23-43da-b9ea-ff10db93c7f5",
   "metadata": {},
   "outputs": [],
   "source": [
    "cloudy = tf.keras.utils.load_img(\"rainy.jpg\")"
   ]
  },
  {
   "cell_type": "code",
   "execution_count": 82,
   "id": "bf63b0f2-c8ef-4967-9a51-b062f33a4131",
   "metadata": {},
   "outputs": [],
   "source": [
    "size = (160, 160)"
   ]
  },
  {
   "cell_type": "code",
   "execution_count": 87,
   "id": "b4480d0c-a739-4187-94fb-a97de94fcd69",
   "metadata": {},
   "outputs": [],
   "source": [
    "img = tf.image.resize(cloudy, size)"
   ]
  },
  {
   "cell_type": "code",
   "execution_count": 88,
   "id": "b4c3cd0f-44eb-4ed3-bd1e-db8d8ebdcc38",
   "metadata": {},
   "outputs": [],
   "source": [
    "img = img / 255"
   ]
  },
  {
   "cell_type": "code",
   "execution_count": 89,
   "id": "15105ccb-20b9-49c5-8e34-7a85a488adec",
   "metadata": {},
   "outputs": [],
   "source": [
    "img = img[None,...]"
   ]
  },
  {
   "cell_type": "code",
   "execution_count": 91,
   "id": "000c05d3-814b-4a4d-a9e6-083aa1306d08",
   "metadata": {},
   "outputs": [
    {
     "name": "stdout",
     "output_type": "stream",
     "text": [
      "1/1 [==============================] - 0s 32ms/step\n"
     ]
    }
   ],
   "source": [
    "prediction = model.predict(img)"
   ]
  },
  {
   "cell_type": "code",
   "execution_count": 98,
   "id": "a104bb4b-1ea6-4aad-90c0-074f6567d201",
   "metadata": {},
   "outputs": [],
   "source": [
    "max_prob_index = np.argmax(prediction)"
   ]
  },
  {
   "cell_type": "code",
   "execution_count": 99,
   "id": "3bb2bcab-a6c3-489c-a66b-1e16338ba4b5",
   "metadata": {},
   "outputs": [],
   "source": [
    "max_prob = np.max(prediction)"
   ]
  },
  {
   "cell_type": "code",
   "execution_count": 100,
   "id": "ecddfd6a-1d12-4dbd-8ac0-2f166800dcd5",
   "metadata": {},
   "outputs": [
    {
     "data": {
      "text/plain": [
       "0.99676526"
      ]
     },
     "execution_count": 100,
     "metadata": {},
     "output_type": "execute_result"
    }
   ],
   "source": [
    "max_prob"
   ]
  },
  {
   "cell_type": "code",
   "execution_count": 101,
   "id": "cfa0b8f4-d995-4e04-849c-daba69307b3d",
   "metadata": {},
   "outputs": [],
   "source": [
    "class_labels = [\"Cloudy\", \"Rainy\", \"Sunny\"]"
   ]
  },
  {
   "cell_type": "code",
   "execution_count": 102,
   "id": "fb134727-4d5a-499d-9cb6-9a0de500ef6d",
   "metadata": {},
   "outputs": [
    {
     "name": "stdout",
     "output_type": "stream",
     "text": [
      "The probability of the image being Cloudy is approximately 99.68% (0.99676526).\n",
      "The probability of the image being Rainy is approximately 0.32% (0.00315560).\n",
      "The probability of the image being Sunny is approximately 0.01% (0.00007915).\n",
      "\n",
      "The model predicts that the image is most likely to be Cloudy based on these probabilities, as it has the highest probability among the three classes.\n"
     ]
    }
   ],
   "source": [
    "for i, prob in enumerate(prediction.flatten()):\n",
    "    class_name = class_labels[i]\n",
    "    percentage = prob * 100\n",
    "    print(f'The probability of the image being {class_name} is approximately {percentage:.2f}% ({prob:.8f}).')\n",
    "\n",
    "print(f'\\nThe model predicts that the image is most likely to be {class_labels[max_prob_index]} based on these probabilities, '\n",
    "      f'as it has the highest probability among the three classes.')"
   ]
  },
  {
   "cell_type": "code",
   "execution_count": null,
   "id": "5eae39b3-c32b-4a8e-bb65-95eaf165d6a2",
   "metadata": {},
   "outputs": [],
   "source": []
  }
 ],
 "metadata": {
  "kernelspec": {
   "display_name": "Python 3 (ipykernel)",
   "language": "python",
   "name": "python3"
  },
  "language_info": {
   "codemirror_mode": {
    "name": "ipython",
    "version": 3
   },
   "file_extension": ".py",
   "mimetype": "text/x-python",
   "name": "python",
   "nbconvert_exporter": "python",
   "pygments_lexer": "ipython3",
   "version": "3.11.8"
  }
 },
 "nbformat": 4,
 "nbformat_minor": 5
}
