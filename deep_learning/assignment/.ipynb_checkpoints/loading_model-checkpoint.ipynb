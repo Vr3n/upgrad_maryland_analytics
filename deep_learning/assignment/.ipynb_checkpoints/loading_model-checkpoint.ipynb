{
 "cells": [
  {
   "cell_type": "code",
   "execution_count": 27,
   "id": "0d4855d2-b2c4-474f-927f-b7e9c18fd70a",
   "metadata": {},
   "outputs": [],
   "source": [
    "import tensorflow as tf\n",
    "import numpy as np\n",
    "import typing\n",
    "import PIL"
   ]
  },
  {
   "cell_type": "code",
   "execution_count": 2,
   "id": "31b430be-9692-42fd-a923-44de4f896024",
   "metadata": {},
   "outputs": [],
   "source": [
    "model = tf.keras.models.load_model(\"best_model\")"
   ]
  },
  {
   "cell_type": "code",
   "execution_count": 12,
   "id": "36bcca90-0bfe-4d17-8aa9-6a18e4478fda",
   "metadata": {},
   "outputs": [
    {
     "name": "stdout",
     "output_type": "stream",
     "text": [
      "Model: \"sequential_24\"\n",
      "_________________________________________________________________\n",
      " Layer (type)                Output Shape              Param #   \n",
      "=================================================================\n",
      " conv2d_48 (Conv2D)          (None, 160, 160, 24)      672       \n",
      "                                                                 \n",
      " max_pooling2d_48 (MaxPoolin  (None, 40, 40, 24)       0         \n",
      " g2D)                                                            \n",
      "                                                                 \n",
      " conv2d_49 (Conv2D)          (None, 40, 40, 16)        3472      \n",
      "                                                                 \n",
      " max_pooling2d_49 (MaxPoolin  (None, 20, 20, 16)       0         \n",
      " g2D)                                                            \n",
      "                                                                 \n",
      " flatten_24 (Flatten)        (None, 6400)              0         \n",
      "                                                                 \n",
      " dense_48 (Dense)            (None, 36)                230436    \n",
      "                                                                 \n",
      " dense_49 (Dense)            (None, 3)                 111       \n",
      "                                                                 \n",
      "=================================================================\n",
      "Total params: 234,691\n",
      "Trainable params: 234,691\n",
      "Non-trainable params: 0\n",
      "_________________________________________________________________\n"
     ]
    }
   ],
   "source": [
    "model.summary()"
   ]
  },
  {
   "cell_type": "code",
   "execution_count": 10,
   "id": "3727933e-ad24-4eb7-8c78-3b3dffd048cd",
   "metadata": {},
   "outputs": [],
   "source": [
    "cloudy = tf.keras.utils.load_img(\"cloudy.jpg\")"
   ]
  },
  {
   "cell_type": "code",
   "execution_count": 13,
   "id": "c2fbe161-17a8-49f7-9157-76124f693a60",
   "metadata": {},
   "outputs": [],
   "source": [
    "size = (160, 160)"
   ]
  },
  {
   "cell_type": "code",
   "execution_count": 16,
   "id": "7fb19e10-dd56-4b06-8a4c-a46d4b0cca54",
   "metadata": {},
   "outputs": [],
   "source": [
    "cloudy_resize = tf.image.resize(cloudy, size)"
   ]
  },
  {
   "cell_type": "code",
   "execution_count": 20,
   "id": "9f16b4a0-33c0-45e8-9193-fce6a7a33280",
   "metadata": {},
   "outputs": [],
   "source": [
    "cloudy_img = cloudy_resize[None,...]"
   ]
  },
  {
   "cell_type": "code",
   "execution_count": 23,
   "id": "5d97705b-4c6e-4ec9-9c0f-649d523e7c31",
   "metadata": {},
   "outputs": [
    {
     "name": "stdout",
     "output_type": "stream",
     "text": [
      "1/1 [==============================] - 0s 46ms/step\n"
     ]
    },
    {
     "data": {
      "text/plain": [
       "array([[0., 0., 1.]], dtype=float32)"
      ]
     },
     "execution_count": 23,
     "metadata": {},
     "output_type": "execute_result"
    }
   ],
   "source": [
    "model.predict(cloudy_img)"
   ]
  },
  {
   "cell_type": "code",
   "execution_count": 29,
   "id": "ffdadd7f-adce-4da7-8143-cadd52873dde",
   "metadata": {},
   "outputs": [],
   "source": [
    "def pre_process_image(image: typing.List[PIL], new_image_dims: int):\n",
    "    resized_imgs = resize_images(image, new_image_dims)\n",
    "\n",
    "    rescaled_imgs = np.array(img_to_array(image) / 255)\n",
    "\n",
    "    return rescaled_imgs"
   ]
  },
  {
   "cell_type": "code",
   "execution_count": 30,
   "id": "d70a3f41-e8f3-478d-bf54-9929d8eee56d",
   "metadata": {},
   "outputs": [],
   "source": [
    "def load_and_predict(img_path: str):\n",
    "    # Loading the image.\n",
    "    img = tf.keras.utils.load_img(img_path)\n",
    "\n",
    "    # pre processing the image.\n",
    "    size=(160, 160)\n",
    "\n",
    "    img = pre_process_image(img, size)\n",
    "    img = img[None,...]\n",
    "\n",
    "    # predicting the img.\n",
    "    prediction = model.predict(img)\n",
    "\n",
    "    return prediction"
   ]
  },
  {
   "cell_type": "code",
   "execution_count": 31,
   "id": "a2d0eab7-3db3-406f-b93b-7b3ff53853b1",
   "metadata": {},
   "outputs": [
    {
     "ename": "NameError",
     "evalue": "name 'resize_images' is not defined",
     "output_type": "error",
     "traceback": [
      "\u001b[1;31m---------------------------------------------------------------------------\u001b[0m",
      "\u001b[1;31mNameError\u001b[0m                                 Traceback (most recent call last)",
      "Cell \u001b[1;32mIn[31], line 1\u001b[0m\n\u001b[1;32m----> 1\u001b[0m \u001b[43mload_and_predict\u001b[49m\u001b[43m(\u001b[49m\u001b[38;5;124;43m\"\u001b[39;49m\u001b[38;5;124;43mcloudy.jpg\u001b[39;49m\u001b[38;5;124;43m\"\u001b[39;49m\u001b[43m)\u001b[49m\n",
      "Cell \u001b[1;32mIn[30], line 8\u001b[0m, in \u001b[0;36mload_and_predict\u001b[1;34m(img_path)\u001b[0m\n\u001b[0;32m      5\u001b[0m \u001b[38;5;66;03m# pre processing the image.\u001b[39;00m\n\u001b[0;32m      6\u001b[0m size\u001b[38;5;241m=\u001b[39m(\u001b[38;5;241m160\u001b[39m, \u001b[38;5;241m160\u001b[39m)\n\u001b[1;32m----> 8\u001b[0m img \u001b[38;5;241m=\u001b[39m \u001b[43mpre_process_image\u001b[49m\u001b[43m(\u001b[49m\u001b[43mimg\u001b[49m\u001b[43m,\u001b[49m\u001b[43m \u001b[49m\u001b[43msize\u001b[49m\u001b[43m)\u001b[49m\n\u001b[0;32m      9\u001b[0m img \u001b[38;5;241m=\u001b[39m img[\u001b[38;5;28;01mNone\u001b[39;00m,\u001b[38;5;241m.\u001b[39m\u001b[38;5;241m.\u001b[39m\u001b[38;5;241m.\u001b[39m]\n\u001b[0;32m     11\u001b[0m \u001b[38;5;66;03m# predicting the img.\u001b[39;00m\n",
      "Cell \u001b[1;32mIn[29], line 2\u001b[0m, in \u001b[0;36mpre_process_image\u001b[1;34m(image, new_image_dims)\u001b[0m\n\u001b[0;32m      1\u001b[0m \u001b[38;5;28;01mdef\u001b[39;00m \u001b[38;5;21mpre_process_image\u001b[39m(image: typing\u001b[38;5;241m.\u001b[39mList[PIL], new_image_dims: \u001b[38;5;28mint\u001b[39m):\n\u001b[1;32m----> 2\u001b[0m     resized_imgs \u001b[38;5;241m=\u001b[39m \u001b[43mresize_images\u001b[49m(image, new_image_dims)\n\u001b[0;32m      4\u001b[0m     rescaled_imgs \u001b[38;5;241m=\u001b[39m np\u001b[38;5;241m.\u001b[39marray(img_to_array(image) \u001b[38;5;241m/\u001b[39m \u001b[38;5;241m255\u001b[39m)\n\u001b[0;32m      6\u001b[0m     \u001b[38;5;28;01mreturn\u001b[39;00m rescaled_imgs\n",
      "\u001b[1;31mNameError\u001b[0m: name 'resize_images' is not defined"
     ]
    }
   ],
   "source": [
    "load_and_predict(\"cloudy.jpg\")"
   ]
  },
  {
   "cell_type": "code",
   "execution_count": 6,
   "id": "34aac62c-140d-4c8f-b32a-8b2ba8796c5a",
   "metadata": {},
   "outputs": [
    {
     "data": {
      "text/plain": [
       "array([[0., 0., 1.]], dtype=float32)"
      ]
     },
     "execution_count": 6,
     "metadata": {},
     "output_type": "execute_result"
    }
   ],
   "source": [
    "rainy_model"
   ]
  },
  {
   "cell_type": "code",
   "execution_count": null,
   "id": "a104bb4b-1ea6-4aad-90c0-074f6567d201",
   "metadata": {},
   "outputs": [],
   "source": []
  }
 ],
 "metadata": {
  "kernelspec": {
   "display_name": "Python 3 (ipykernel)",
   "language": "python",
   "name": "python3"
  },
  "language_info": {
   "codemirror_mode": {
    "name": "ipython",
    "version": 3
   },
   "file_extension": ".py",
   "mimetype": "text/x-python",
   "name": "python",
   "nbconvert_exporter": "python",
   "pygments_lexer": "ipython3",
   "version": "3.11.8"
  }
 },
 "nbformat": 4,
 "nbformat_minor": 5
}
