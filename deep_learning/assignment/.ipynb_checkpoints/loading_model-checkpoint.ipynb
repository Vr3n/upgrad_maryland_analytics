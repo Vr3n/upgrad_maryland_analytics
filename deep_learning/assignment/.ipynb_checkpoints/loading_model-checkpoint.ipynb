{
 "cells": [
  {
   "cell_type": "code",
   "execution_count": 37,
   "id": "0d4855d2-b2c4-474f-927f-b7e9c18fd70a",
   "metadata": {},
   "outputs": [],
   "source": [
    "import tensorflow as tf\n",
    "import numpy as np\n",
    "import typing\n",
    "import PIL\n",
    "from PIL import ImageOps\n",
    "from tensorflow.keras.preprocessing.image import img_to_array, array_to_img"
   ]
  },
  {
   "cell_type": "code",
   "execution_count": 55,
   "id": "31b430be-9692-42fd-a923-44de4f896024",
   "metadata": {},
   "outputs": [],
   "source": [
    "model = tf.keras.models.load_model(\"best_model\")"
   ]
  },
  {
   "cell_type": "code",
   "execution_count": 218,
   "id": "c257dd41-ca5a-4418-b9e1-c80c76de8edd",
   "metadata": {},
   "outputs": [],
   "source": [
    "img_png = PIL.Image.open('ada.png')"
   ]
  },
  {
   "cell_type": "code",
   "execution_count": 210,
   "id": "bf63b0f2-c8ef-4967-9a51-b062f33a4131",
   "metadata": {},
   "outputs": [],
   "source": [
    "size = (160, 160)"
   ]
  },
  {
   "cell_type": "code",
   "execution_count": 196,
   "id": "b4480d0c-a739-4187-94fb-a97de94fcd69",
   "metadata": {},
   "outputs": [],
   "source": [
    "img = img_to_array(ImageOps.fit(img, size, PIL.Image.Resampling.LANCZOS))"
   ]
  },
  {
   "cell_type": "code",
   "execution_count": 219,
   "id": "74b30bce-9875-4913-8c57-ed739c8eba40",
   "metadata": {},
   "outputs": [],
   "source": [
    "img = img_to_array(img)"
   ]
  },
  {
   "cell_type": "code",
   "execution_count": 221,
   "id": "fd82afaf-5ccd-4c47-999a-a3a6d7fea8e4",
   "metadata": {},
   "outputs": [
    {
     "data": {
      "text/plain": [
       "True"
      ]
     },
     "execution_count": 221,
     "metadata": {},
     "output_type": "execute_result"
    }
   ],
   "source": [
    "img.shape[2] == 1"
   ]
  },
  {
   "cell_type": "code",
   "execution_count": 222,
   "id": "75ce5ba9-c4d9-4045-a7e4-9199284091d9",
   "metadata": {},
   "outputs": [],
   "source": [
    "if img.shape[2] == 1:\n",
    "    img = np.concatenate((img_to_array(img),) * 3, axis=2)"
   ]
  },
  {
   "cell_type": "code",
   "execution_count": 223,
   "id": "cda3d14a-79b3-429b-9a50-bc4873affb2f",
   "metadata": {},
   "outputs": [
    {
     "data": {
      "text/plain": [
       "(476, 920, 3)"
      ]
     },
     "execution_count": 223,
     "metadata": {},
     "output_type": "execute_result"
    }
   ],
   "source": [
    "img.shape"
   ]
  },
  {
   "cell_type": "code",
   "execution_count": 225,
   "id": "8eae9c41-549a-4a28-880e-9bf90e1c29ad",
   "metadata": {},
   "outputs": [],
   "source": [
    "img = tf.image.resize(img, size)"
   ]
  },
  {
   "cell_type": "code",
   "execution_count": 226,
   "id": "b4c3cd0f-44eb-4ed3-bd1e-db8d8ebdcc38",
   "metadata": {},
   "outputs": [],
   "source": [
    "img = img / 255"
   ]
  },
  {
   "cell_type": "code",
   "execution_count": 227,
   "id": "15105ccb-20b9-49c5-8e34-7a85a488adec",
   "metadata": {},
   "outputs": [],
   "source": [
    "img = img[None,...]"
   ]
  },
  {
   "cell_type": "code",
   "execution_count": 228,
   "id": "4ead1661-50ca-40ff-ae10-8641b13ef9a9",
   "metadata": {},
   "outputs": [
    {
     "data": {
      "text/plain": [
       "TensorShape([1, 160, 160, 3])"
      ]
     },
     "execution_count": 228,
     "metadata": {},
     "output_type": "execute_result"
    }
   ],
   "source": [
    "img.shape"
   ]
  },
  {
   "cell_type": "code",
   "execution_count": 229,
   "id": "000c05d3-814b-4a4d-a9e6-083aa1306d08",
   "metadata": {
    "scrolled": true
   },
   "outputs": [
    {
     "name": "stdout",
     "output_type": "stream",
     "text": [
      "1/1 [==============================] - 0s 44ms/step\n"
     ]
    }
   ],
   "source": [
    "prediction = model.predict(img)"
   ]
  },
  {
   "cell_type": "code",
   "execution_count": 230,
   "id": "a104bb4b-1ea6-4aad-90c0-074f6567d201",
   "metadata": {},
   "outputs": [],
   "source": [
    "max_prob_index = np.argmax(prediction)"
   ]
  },
  {
   "cell_type": "code",
   "execution_count": 231,
   "id": "3bb2bcab-a6c3-489c-a66b-1e16338ba4b5",
   "metadata": {},
   "outputs": [],
   "source": [
    "max_prob = np.max(prediction)"
   ]
  },
  {
   "cell_type": "code",
   "execution_count": 232,
   "id": "ecddfd6a-1d12-4dbd-8ac0-2f166800dcd5",
   "metadata": {},
   "outputs": [
    {
     "data": {
      "text/plain": [
       "0.9194505"
      ]
     },
     "execution_count": 232,
     "metadata": {},
     "output_type": "execute_result"
    }
   ],
   "source": [
    "max_prob"
   ]
  },
  {
   "cell_type": "code",
   "execution_count": 233,
   "id": "cfa0b8f4-d995-4e04-849c-daba69307b3d",
   "metadata": {},
   "outputs": [],
   "source": [
    "class_labels = [\"Cloudy\", \"Rainy\", \"Sunny\"]"
   ]
  },
  {
   "cell_type": "code",
   "execution_count": 234,
   "id": "fb134727-4d5a-499d-9cb6-9a0de500ef6d",
   "metadata": {},
   "outputs": [
    {
     "name": "stdout",
     "output_type": "stream",
     "text": [
      "The probability of the image being Cloudy is approximately 91.95% (0.91945052).\n",
      "The probability of the image being Rainy is approximately 7.95% (0.07945465).\n",
      "The probability of the image being Sunny is approximately 0.11% (0.00109475).\n",
      "\n",
      "The model predicts that the image is most likely to be Cloudy based on these probabilities, as it has the highest probability among the three classes.\n"
     ]
    }
   ],
   "source": [
    "for i, prob in enumerate(prediction.flatten()):\n",
    "    class_name = class_labels[i]\n",
    "    percentage = prob * 100\n",
    "    print(f'The probability of the image being {class_name} is approximately {percentage:.2f}% ({prob:.8f}).')\n",
    "\n",
    "print(f'\\nThe model predicts that the image is most likely to be {class_labels[max_prob_index]} based on these probabilities, '\n",
    "      f'as it has the highest probability among the three classes.')"
   ]
  },
  {
   "cell_type": "code",
   "execution_count": null,
   "id": "5eae39b3-c32b-4a8e-bb65-95eaf165d6a2",
   "metadata": {},
   "outputs": [],
   "source": []
  }
 ],
 "metadata": {
  "kernelspec": {
   "display_name": "Python 3 (ipykernel)",
   "language": "python",
   "name": "python3"
  },
  "language_info": {
   "codemirror_mode": {
    "name": "ipython",
    "version": 3
   },
   "file_extension": ".py",
   "mimetype": "text/x-python",
   "name": "python",
   "nbconvert_exporter": "python",
   "pygments_lexer": "ipython3",
   "version": "3.11.8"
  }
 },
 "nbformat": 4,
 "nbformat_minor": 5
}
