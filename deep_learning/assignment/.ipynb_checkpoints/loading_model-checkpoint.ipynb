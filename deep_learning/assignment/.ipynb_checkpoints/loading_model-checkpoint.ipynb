{
 "cells": [
  {
   "cell_type": "code",
   "execution_count": 37,
   "id": "0d4855d2-b2c4-474f-927f-b7e9c18fd70a",
   "metadata": {},
   "outputs": [],
   "source": [
    "import tensorflow as tf\n",
    "import numpy as np"
   ]
  },
  {
   "cell_type": "code",
   "execution_count": 5,
   "id": "31b430be-9692-42fd-a923-44de4f896024",
   "metadata": {},
   "outputs": [],
   "source": [
    "model = tf.keras.models.load_model(\"best_model\")"
   ]
  },
  {
   "cell_type": "code",
   "execution_count": 6,
   "id": "df80168d-700c-4b0f-b8c0-86b94db9f9ff",
   "metadata": {},
   "outputs": [
    {
     "name": "stdout",
     "output_type": "stream",
     "text": [
      "Model: \"sequential_38\"\n",
      "_________________________________________________________________\n",
      " Layer (type)                Output Shape              Param #   \n",
      "=================================================================\n",
      " conv2d_76 (Conv2D)          (None, 64, 64, 24)        672       \n",
      "                                                                 \n",
      " max_pooling2d_76 (MaxPoolin  (None, 16, 16, 24)       0         \n",
      " g2D)                                                            \n",
      "                                                                 \n",
      " conv2d_77 (Conv2D)          (None, 16, 16, 16)        3472      \n",
      "                                                                 \n",
      " max_pooling2d_77 (MaxPoolin  (None, 8, 8, 16)         0         \n",
      " g2D)                                                            \n",
      "                                                                 \n",
      " flatten_38 (Flatten)        (None, 1024)              0         \n",
      "                                                                 \n",
      " dense_76 (Dense)            (None, 36)                36900     \n",
      "                                                                 \n",
      " dense_77 (Dense)            (None, 3)                 111       \n",
      "                                                                 \n",
      "=================================================================\n",
      "Total params: 41,155\n",
      "Trainable params: 41,155\n",
      "Non-trainable params: 0\n",
      "_________________________________________________________________\n"
     ]
    }
   ],
   "source": [
    "model.summary()"
   ]
  },
  {
   "cell_type": "code",
   "execution_count": 41,
   "id": "d70a3f41-e8f3-478d-bf54-9929d8eee56d",
   "metadata": {},
   "outputs": [],
   "source": [
    "def load_and_predict(img_path: str):\n",
    "    # Loading the image.\n",
    "    img = tf.keras.utils.load_img(\"sunny.jpg\")\n",
    "\n",
    "    # pre processing the image.\n",
    "    size=(64, 64)\n",
    "\n",
    "    img = tf.image.resize(sunny, size)\n",
    "    img = img[None,...]\n",
    "\n",
    "    # predicting the img.\n",
    "    prediction = model.predict(img)\n",
    "\n",
    "    return prediction"
   ]
  },
  {
   "cell_type": "code",
   "execution_count": null,
   "id": "a2d0eab7-3db3-406f-b93b-7b3ff53853b1",
   "metadata": {},
   "outputs": [],
   "source": []
  }
 ],
 "metadata": {
  "kernelspec": {
   "display_name": "Python 3 (ipykernel)",
   "language": "python",
   "name": "python3"
  },
  "language_info": {
   "codemirror_mode": {
    "name": "ipython",
    "version": 3
   },
   "file_extension": ".py",
   "mimetype": "text/x-python",
   "name": "python",
   "nbconvert_exporter": "python",
   "pygments_lexer": "ipython3",
   "version": "3.11.8"
  }
 },
 "nbformat": 4,
 "nbformat_minor": 5
}
