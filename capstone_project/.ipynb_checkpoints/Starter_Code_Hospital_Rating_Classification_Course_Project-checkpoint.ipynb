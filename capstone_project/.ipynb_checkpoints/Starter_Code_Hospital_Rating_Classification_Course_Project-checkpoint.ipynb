{
 "cells": [
  {
   "cell_type": "markdown",
   "id": "c93949b0",
   "metadata": {
    "id": "c93949b0"
   },
   "source": [
    "# HOSPITAL RATING CLASSIFICATION"
   ]
  },
  {
   "cell_type": "markdown",
   "id": "eed4a10a",
   "metadata": {
    "id": "eed4a10a"
   },
   "source": [
    "Welcome to the Starter Code for the Hospital Rating Classification Capstone Project!\n",
    "\n",
    "In this notebook you'll find \n",
    "- A blueprint on how to attempt the course project.\n",
    "- Additional hints and directions on different tasks\n",
    "\n",
    "Please note that this approach is one of the many approaches you can take for solving this Capstone project."
   ]
  },
  {
   "cell_type": "markdown",
   "id": "ff172262",
   "metadata": {
    "id": "ff172262"
   },
   "source": [
    "### Import the necessary libraries"
   ]
  },
  {
   "cell_type": "code",
   "execution_count": null,
   "id": "ca3b4475",
   "metadata": {
    "id": "ca3b4475"
   },
   "outputs": [],
   "source": [
    "import pandas as pd, numpy as np\n",
    "import seaborn as sns\n",
    "\n",
    "from matplotlib import pyplot as plt\n",
    "from pandas.core.common import random_state\n",
    "\n",
    "from sklearn.model_selection import train_test_split\n",
    "from sklearn.preprocessing import StandardScaler\n",
    "from sklearn.model_selection import GridSearchCV\n",
    "from sklearn.metrics import f1_score, precision_score, recall_score, accuracy_score, mean_squared_error\n",
    "from sklearn.metrics import confusion_matrix, ConfusionMatrixDisplay\n",
    "from sklearn.neighbors import KNeighborsClassifier, KNeighborsRegressor\n",
    "\n",
    "from sklearn.linear_model import Lasso, LassoCV, LogisticRegression\n",
    "from sklearn.tree import DecisionTreeClassifier, DecisionTreeRegressor\n",
    "from sklearn import tree"
   ]
  },
  {
   "cell_type": "code",
   "execution_count": null,
   "id": "78762d89",
   "metadata": {
    "id": "78762d89"
   },
   "outputs": [],
   "source": [
    "import warnings\n",
    "warnings.filterwarnings(\"ignore\")"
   ]
  },
  {
   "cell_type": "markdown",
   "id": "20ba5b76",
   "metadata": {
    "id": "20ba5b76"
   },
   "source": [
    "### Task 1 \n",
    "\n",
    "Task 1: Understand the data\n",
    "\n",
    " \n",
    "\n",
    "Take some time to familiarize yourself with the data. What are the key variables?\n",
    "\n",
    "Specifically, answer the following questions:\n",
    "\n",
    "- 1.1 - Perform a few basic data quality checks to understand the different columns and prepare descriptive statistics for some of the important columns.\n",
    "- 1.2 - What is the distribution of hospital overall ratings? How are they varying across other parameters like `State`? Create  a few visualizations that provide some insights into the data."
   ]
  },
  {
   "cell_type": "markdown",
   "id": "af44eec6",
   "metadata": {
    "id": "af44eec6"
   },
   "source": [
    "##### Task 1.1"
   ]
  },
  {
   "cell_type": "code",
   "execution_count": null,
   "id": "efe2c9b1",
   "metadata": {
    "id": "efe2c9b1"
   },
   "outputs": [],
   "source": [
    "df = ## Write the code to load the dataset ##"
   ]
  },
  {
   "cell_type": "code",
   "execution_count": null,
   "id": "332c50f7",
   "metadata": {
    "id": "332c50f7"
   },
   "outputs": [],
   "source": [
    "##Check the data type of the different columns\n",
    "## Hint - You can use the .info() method here\n"
   ]
  },
  {
   "cell_type": "markdown",
   "id": "82d3e90e",
   "metadata": {
    "id": "82d3e90e"
   },
   "source": [
    "Note down your observations after completing the above task. You should ask questions such as:\n",
    "\n",
    "- Check for non-null columns. Do you see any column having missing values?\n",
    "- Are the datatypes correct for all the variables? You might have to convert a few of them to categorical later"
   ]
  },
  {
   "cell_type": "markdown",
   "id": "9c9dd723",
   "metadata": {
    "id": "9c9dd723"
   },
   "source": [
    "##### Task 1.2"
   ]
  },
  {
   "cell_type": "code",
   "execution_count": null,
   "id": "712401c4",
   "metadata": {
    "id": "712401c4"
   },
   "outputs": [],
   "source": [
    "## Descriptive Statistics\n",
    "## Let's take the main measures and the hospital overall rating first.\n",
    "features = ['Mortality national comparison', 'Safety of care national comparison',\n",
    "            'Readmission national comparison', 'Patient experience national comparison',\n",
    "            'Effectiveness of care national comparison', 'Timeliness of care national comparison',\n",
    "            'Efficient use of medical imaging national comparison']"
   ]
  },
  {
   "cell_type": "code",
   "execution_count": null,
   "id": "fd43d9f7",
   "metadata": {
    "id": "fd43d9f7"
   },
   "outputs": [],
   "source": [
    "### Filter out the above columns from the DataFrame and compute the descriptive statistics\n",
    "### Hint - The .describe() method might be useful\n"
   ]
  },
  {
   "cell_type": "code",
   "execution_count": null,
   "id": "9ad5df5f",
   "metadata": {
    "id": "9ad5df5f"
   },
   "outputs": [],
   "source": [
    "### Analyze your target variable - \"Hospital overall rating\"\n",
    "### How does the ratings distribution look like for all the hospitals?\n",
    "\n",
    "## Hint - You can use seaborn plots like countplot() for checking distribution of the ratings\n",
    "## Hint - You can plot a correlation heatmap to check the correlation between the main measures stored in \"features\"\n",
    "## Hint - You can also check the correlations between the \"Hospital overall rating\" and other measures\n"
   ]
  },
  {
   "cell_type": "code",
   "execution_count": null,
   "id": "69cc87c9",
   "metadata": {
    "id": "69cc87c9"
   },
   "outputs": [],
   "source": [
    "### Check how the hospital ratings vary across other parameters\n",
    "### Hint - Some example parameters are \"State\" and \"Hospital Ownership\"\n",
    "### Hint - You can use the pivot_table functionality of pandas to perform this"
   ]
  },
  {
   "cell_type": "markdown",
   "id": "326ca122",
   "metadata": {
    "id": "326ca122"
   },
   "source": [
    "\n",
    "Note down your observations after completing the above task. You should ask questions such as:\n",
    "\n",
    "- How are ratings distributed? the Are you seeing any peculiar distributions for the ratings?\n",
    "- How do the correlations between the measures and the target variable look like?\n",
    "- How do ratings vary across the different levels of the parameter that you have taken?"
   ]
  },
  {
   "cell_type": "markdown",
   "id": "03cf12d8",
   "metadata": {
    "id": "03cf12d8"
   },
   "source": [
    "### Task 2 - Building machine learning models\n",
    "\n",
    "Use your knowledge of classification models to create three models that predict hospital ratings. You should follow these steps:\n",
    "\n",
    "- Prepare the data for the machine learning model \n",
    "   - Remove all the demographic columns as well as any other uneccessary features from the data set\n",
    "   - For simplification, instead of having 5 ratings, we will convert them to 0 and 1. Here 0 indicates that the hospital has been rated 3 or below and 1 indicates that the hospital has been rated as 4 or 5.  Encode the Hospital columns as follows\n",
    "            1,2,3 : 0\n",
    "            4,5: 1\n",
    "   - Store the predictors and the target variable in variables X and y.\n",
    "   - Create the dummy variables for categorical columns.\n",
    "   - Split the data into train and test sets (70-30 split with random state 0. This random state is recommended, though you can use any other random state of your choice).\n",
    "   - Scale the numerical columns using StandardScaler.\n",
    "- Build 3 classification models on your dataset. Carefully apply regularization and hyperparameter tuning techniques to improve your model performance for each of the models.\n",
    "- Summarize the classification performance in terms of the necessary metrics such as accuracy, sensitivity, specificity, etc."
   ]
  },
  {
   "cell_type": "markdown",
   "id": "2aa58f46",
   "metadata": {
    "id": "2aa58f46"
   },
   "source": [
    "#####  Prepare the data for machine learning model"
   ]
  },
  {
   "cell_type": "code",
   "execution_count": null,
   "id": "36980db9",
   "metadata": {
    "id": "36980db9"
   },
   "outputs": [],
   "source": [
    "## Drop all the demographic features\n",
    "demo_features = ['Provider ID','Hospital Name',\n",
    " 'Address',\n",
    " 'City',\n",
    " 'State',\n",
    " 'ZIP Code',\n",
    " 'County Name',\n",
    " 'Phone Number']"
   ]
  },
  {
   "cell_type": "code",
   "execution_count": null,
   "id": "4bdde33f",
   "metadata": {
    "id": "4bdde33f"
   },
   "outputs": [],
   "source": [
    "## Drop all the above features from the DataFrame df and store the rest of the features in df2\n",
    "df2 = "
   ]
  },
  {
   "cell_type": "code",
   "execution_count": null,
   "id": "663e9166",
   "metadata": {
    "id": "663e9166",
    "scrolled": false
   },
   "outputs": [],
   "source": [
    "### Check the first 5 rows of df2 to see if the drop operation has worked correctly or not"
   ]
  },
  {
   "cell_type": "code",
   "execution_count": null,
   "id": "81a2bc6e",
   "metadata": {
    "id": "81a2bc6e",
    "scrolled": true
   },
   "outputs": [],
   "source": [
    "##Recheck the columns to see if anything else needs to be dropped\n",
    "## There might be other unnecessary columns that require dropping\n"
   ]
  },
  {
   "cell_type": "markdown",
   "id": "6d6c2a06",
   "metadata": {
    "id": "6d6c2a06"
   },
   "source": [
    "##### Map the ratings \n",
    "\n",
    "- 1,2,3 will be 0\n",
    "- 4,5 will be 1"
   ]
  },
  {
   "cell_type": "code",
   "execution_count": null,
   "id": "ac035034",
   "metadata": {
    "id": "ac035034"
   },
   "outputs": [],
   "source": [
    "## Hint -  Write a simple lambda function to do the mapping\n",
    "## Refer to this link from Course 1 for more help -  https://learn.upgrad.com/course/2897/segment/16179/128948/394776/2054363"
   ]
  },
  {
   "cell_type": "markdown",
   "id": "c842e629",
   "metadata": {
    "id": "c842e629"
   },
   "source": [
    "##### Convert the datatypes of the categorical variables"
   ]
  },
  {
   "cell_type": "code",
   "execution_count": null,
   "id": "2f2693f0",
   "metadata": {
    "id": "2f2693f0"
   },
   "outputs": [],
   "source": [
    "### In task 1, you would have identified the categorical variables, which may or may not be in their correct data types\n",
    "### Now is the right time to convert them to the correct datatype \n",
    "### This will be useful when you create dummy variables next"
   ]
  },
  {
   "cell_type": "markdown",
   "id": "7231d7ff",
   "metadata": {
    "id": "7231d7ff"
   },
   "source": [
    "##### Data Preparation and Train-test split"
   ]
  },
  {
   "cell_type": "code",
   "execution_count": null,
   "id": "c7202f03",
   "metadata": {
    "id": "c7202f03"
   },
   "outputs": [],
   "source": [
    "### Create X and y variable"
   ]
  },
  {
   "cell_type": "code",
   "execution_count": null,
   "id": "a156f275",
   "metadata": {
    "id": "a156f275"
   },
   "outputs": [],
   "source": [
    "### Create the dummy variables for categorical variables\n",
    "### Note - Make sure the \"drop_first parameter\" is correctly initialized for different ML models\n",
    "### Hint - You can create multiple versions of the X dataset\n"
   ]
  },
  {
   "cell_type": "code",
   "execution_count": null,
   "id": "13c735fc",
   "metadata": {
    "id": "13c735fc"
   },
   "outputs": [],
   "source": [
    "## Perform the train_test split to create the train and validation sets\n",
    "## Choose any random state of your choice \n",
    "## Split it in the ratio of 70-30\n"
   ]
  },
  {
   "cell_type": "code",
   "execution_count": null,
   "id": "fe22e3ef",
   "metadata": {
    "id": "fe22e3ef"
   },
   "outputs": [],
   "source": [
    "# Scale and Standardize the numerical variables"
   ]
  },
  {
   "cell_type": "markdown",
   "id": "b9245b04",
   "metadata": {
    "id": "b9245b04"
   },
   "source": [
    "#####  Model building and evaluation\n",
    "\n",
    "You have learned multiple classification models till now, such as logistic regression, k-NN and decision trees. You should choose 3 of the models for performing the tasks in this section. You can follow the below steps:\n",
    "\n",
    "\n",
    "- Build the models and fit it on training data\n",
    "- Perform classifications on the validation data\n",
    "- Compute and tabulate the validation accuracies for the different models\n",
    "- Compare the accuracies for the different models and choose the best model\n",
    "\n",
    "**Note** - You can also evaluate your models using additional metrics like `F1 score`, `Sensitivity`,`Specificity` , etc.\n",
    "\n",
    "\n",
    "**Helpful Resource** - For writing precise code for this section, you can refer to the code you learned in Model Selection Lab Session in the `kNN and Model Selection` module.\n",
    "\n",
    "\n"
   ]
  },
  {
   "cell_type": "markdown",
   "id": "2e2962ab",
   "metadata": {
    "id": "2e2962ab"
   },
   "source": [
    "- Additional notes\n",
    "  - You can peform additional tasks like building ROC/AUC curves for all the models and identifying an optimal cut-off\n",
    "  - You can also build conjectures around some arbitrary metric cut-offs. For example, say you want to build a model which has atleast 50% accuracy, specificity and sensitivity. Use these conjectures to arrive at a final model\n",
    "  - Note that there is no right answer for this particular question. You will be awarded marks as long as your overall approach is correct"
   ]
  },
  {
   "cell_type": "markdown",
   "id": "89529433",
   "metadata": {
    "id": "89529433"
   },
   "source": [
    "### Task 3 \n",
    "\n",
    "You have now built (at least) three machine learning models. Choose the best model according to your metrics and provide the following recommendations\n",
    "-  Hospital Rating Predictor: Using the best model of your choice, predict the ratings of a few new hospitals which are yet to be assigned a rating by CMS. The information for these hospitals has been provided in a separate CSV file named 'not_yet_rated.csv'.\n",
    "- Hospital Improvement Plan: Let's say a few of the hospitals were rated low (0) by the model that you chose. Provide recommendations on how these hospitals can improve their ratings"
   ]
  },
  {
   "cell_type": "code",
   "execution_count": null,
   "id": "16233565",
   "metadata": {
    "id": "16233565"
   },
   "outputs": [],
   "source": [
    "###Let's read the not_yet_rated dataset\n",
    "new = ### Write your code to load the dataset"
   ]
  },
  {
   "cell_type": "code",
   "execution_count": null,
   "id": "9757f01d",
   "metadata": {
    "id": "9757f01d",
    "scrolled": true
   },
   "outputs": [],
   "source": [
    "## Check the top 5 rows"
   ]
  },
  {
   "cell_type": "markdown",
   "id": "86183754",
   "metadata": {
    "id": "86183754"
   },
   "source": [
    "### Approach to predict ratings\n",
    "- Perform the exact same data preparation steps as earlier\n",
    "   - Drop the unnecessary columns\n",
    "   - Convert the datatypes of categorical variables and create dummies\n",
    "   - Standardize the numeric columns\n",
    "- After that we shall use the `.predict()` method of your ML model to predict the ratings"
   ]
  },
  {
   "cell_type": "code",
   "execution_count": null,
   "id": "8a333908",
   "metadata": {},
   "outputs": [],
   "source": []
  },
  {
   "cell_type": "markdown",
   "id": "6ff6e542",
   "metadata": {
    "id": "6ff6e542"
   },
   "source": [
    "### Approach to identify areas of improvement\n",
    "\n",
    "- Identify the measures which have a positive influence on the overall hospital ratings. For example,\n",
    "    - if you're using a logistic regression model, you can check the coefficients\n",
    "        - A +ve coefficient indicates +ve influence on the overall hospital rating\n",
    "        - A -ve coefficient indicates -ve influence on the overall hospital rating\n",
    "- Identify in which of the above measures a low-rated hospital is currently lagging behind. These measures need to be improved.\n",
    "- Further deep dive into the sub-measures using the same approach as above. "
   ]
  },
  {
   "cell_type": "code",
   "execution_count": null,
   "id": "ad7ad1aa",
   "metadata": {
    "id": "ad7ad1aa"
   },
   "outputs": [],
   "source": []
  }
 ],
 "metadata": {
  "colab": {
   "provenance": []
  },
  "kernelspec": {
   "display_name": "Python 3 (ipykernel)",
   "language": "python",
   "name": "python3"
  },
  "language_info": {
   "codemirror_mode": {
    "name": "ipython",
    "version": 3
   },
   "file_extension": ".py",
   "mimetype": "text/x-python",
   "name": "python",
   "nbconvert_exporter": "python",
   "pygments_lexer": "ipython3",
   "version": "3.9.7"
  }
 },
 "nbformat": 4,
 "nbformat_minor": 5
}
