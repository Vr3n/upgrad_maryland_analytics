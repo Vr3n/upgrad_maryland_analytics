{
 "cells": [
  {
   "cell_type": "markdown",
   "id": "7ff46ac8-d35e-4e4f-ac7b-a432dd2a86c2",
   "metadata": {},
   "source": [
    "# Practice Problem\n",
    "\n",
    "consider the following data set, which is recorded by a supervisor at a manufacturing plant. \\\n",
    "It represents the daily production output for a workweek (Monday through friday):\n",
    "- Week 1: 48, 62, 79, 57, 58.\n",
    "- Week 2: Not recorded, 68, 71, 42, 41.\n",
    "- Week 3: 91, 87, Not recorded, 62, Not recorded."
   ]
  },
  {
   "cell_type": "code",
   "execution_count": 86,
   "id": "0c11d21c-5e8a-4404-9286-cba262ff5d2f",
   "metadata": {},
   "outputs": [],
   "source": [
    "import pandas as pd\n",
    "import numpy  as np"
   ]
  },
  {
   "cell_type": "markdown",
   "id": "ab7f3683-9f4b-4375-bf30-ded2c177960d",
   "metadata": {},
   "source": [
    "### Question 1\n",
    "For each week, list each day along with its production output or write NaN if production was not recorded for a particular day."
   ]
  },
  {
   "cell_type": "code",
   "execution_count": 87,
   "id": "f08c876b-8a75-43ef-a13b-a6cdc13b39dd",
   "metadata": {},
   "outputs": [],
   "source": [
    "days=['mon', 'tue', 'wed', 'thu', 'fri']\n",
    "week_day_data = {\n",
    "    'week_1': [48, 62, 79, 57, 58],\n",
    "    'week_2': [np.nan, 68, 71, 42, 41] ,\n",
    "    'week_3': [91, 87, np.nan, 62, np.nan]\n",
    "}\n",
    "work_week_df = pd.DataFrame(week_day_data, index=days)"
   ]
  },
  {
   "cell_type": "code",
   "execution_count": 88,
   "id": "f8fdb365-277d-47d4-96b7-05d7c9d72931",
   "metadata": {},
   "outputs": [
    {
     "name": "stdout",
     "output_type": "stream",
     "text": [
      "*** week_1 ***\n",
      "mon    48\n",
      "tue    62\n",
      "wed    79\n",
      "thu    57\n",
      "fri    58\n",
      "Name: week_1, dtype: int64\n",
      "\n",
      "*** week_2 ***\n",
      "mon     NaN\n",
      "tue    68.0\n",
      "wed    71.0\n",
      "thu    42.0\n",
      "fri    41.0\n",
      "Name: week_2, dtype: float64\n",
      "\n",
      "*** week_3 ***\n",
      "mon    91.0\n",
      "tue    87.0\n",
      "wed     NaN\n",
      "thu    62.0\n",
      "fri     NaN\n",
      "Name: week_3, dtype: float64\n",
      "\n"
     ]
    }
   ],
   "source": [
    "for week in work_week_df.columns:\n",
    "    print(f\"*** {week} ***\")\n",
    "    print(f\"{work_week_df[week]}\\n\")"
   ]
  },
  {
   "cell_type": "markdown",
   "id": "559b50c0-a182-4803-8819-3a9d1402f0a3",
   "metadata": {},
   "source": [
    "### Question 2\n",
    "\n",
    "For each week, list the days for which there are recorded values."
   ]
  },
  {
   "cell_type": "code",
   "execution_count": 96,
   "id": "81428209-415d-4dcf-9f0e-3b8659bbe038",
   "metadata": {},
   "outputs": [
    {
     "name": "stdout",
     "output_type": "stream",
     "text": [
      "*** week_1 ***\n",
      "mon    48\n",
      "tue    62\n",
      "wed    79\n",
      "thu    57\n",
      "fri    58\n",
      "Name: week_1, dtype: int64\n",
      "\n",
      "\n",
      "*** week_2 ***\n",
      "tue    68.0\n",
      "wed    71.0\n",
      "thu    42.0\n",
      "fri    41.0\n",
      "Name: week_2, dtype: float64\n",
      "\n",
      "\n",
      "*** week_3 ***\n",
      "mon    91.0\n",
      "tue    87.0\n",
      "thu    62.0\n",
      "Name: week_3, dtype: float64\n",
      "\n",
      "\n"
     ]
    }
   ],
   "source": [
    "for week in work_week_df.columns:\n",
    "    print(f\"*** {week} ***\")\n",
    "    print(work_week_df[week][work_week_df[week].isnull() == False])\n",
    "    print(\"\\n\")"
   ]
  },
  {
   "cell_type": "markdown",
   "id": "9159cb6e-f892-4ba9-8742-8ca311dfa69f",
   "metadata": {},
   "source": [
    "### Question 3\n",
    "\n",
    "For weeks with missing values, implement a method to impute these values. Justify your method."
   ]
  },
  {
   "cell_type": "code",
   "execution_count": 48,
   "id": "0b9c0b74-6f3e-47a1-ab35-390df50698b4",
   "metadata": {},
   "outputs": [
    {
     "data": {
      "text/plain": [
       "mon    68.0\n",
       "tue    68.0\n",
       "wed    71.0\n",
       "thu    42.0\n",
       "fri    41.0\n",
       "Name: week_2, dtype: float64"
      ]
     },
     "execution_count": 48,
     "metadata": {},
     "output_type": "execute_result"
    }
   ],
   "source": [
    "work_week_df['week_2'].fillna(method='bfill', inplace=True)\n",
    "work_week_df['week_2']"
   ]
  },
  {
   "cell_type": "code",
   "execution_count": 49,
   "id": "9fe340b0-51a6-4a81-94ff-06d3be9fccfa",
   "metadata": {},
   "outputs": [
    {
     "data": {
      "text/plain": [
       "mon    91.0\n",
       "tue    87.0\n",
       "wed    87.0\n",
       "thu    62.0\n",
       "fri    62.0\n",
       "Name: week_3, dtype: float64"
      ]
     },
     "execution_count": 49,
     "metadata": {},
     "output_type": "execute_result"
    }
   ],
   "source": [
    "work_week_df['week_3'].fillna(method='ffill', inplace=True)\n",
    "work_week_df['week_3']"
   ]
  },
  {
   "cell_type": "code",
   "execution_count": null,
   "id": "52367d7f-3991-4c23-b680-f8ff6a44b01c",
   "metadata": {},
   "outputs": [],
   "source": []
  }
 ],
 "metadata": {
  "kernelspec": {
   "display_name": "Python 3 (ipykernel)",
   "language": "python",
   "name": "python3"
  },
  "language_info": {
   "codemirror_mode": {
    "name": "ipython",
    "version": 3
   },
   "file_extension": ".py",
   "mimetype": "text/x-python",
   "name": "python",
   "nbconvert_exporter": "python",
   "pygments_lexer": "ipython3",
   "version": "3.10.11"
  }
 },
 "nbformat": 4,
 "nbformat_minor": 5
}
