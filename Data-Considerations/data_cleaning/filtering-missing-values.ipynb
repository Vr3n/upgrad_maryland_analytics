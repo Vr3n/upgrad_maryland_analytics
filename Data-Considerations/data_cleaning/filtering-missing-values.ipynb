{
 "cells": [
  {
   "cell_type": "markdown",
   "id": "ae0a1d1f-7718-4ef5-b79a-ed94a04eaa29",
   "metadata": {},
   "source": [
    "# Filtering Missing Values\n",
    "\n",
    "by `dropna()`"
   ]
  },
  {
   "cell_type": "code",
   "execution_count": 1,
   "id": "0344e1c4-5805-4f5a-bf75-0de67c2d4d40",
   "metadata": {},
   "outputs": [],
   "source": [
    "import pandas as pd\n",
    "import numpy as np"
   ]
  },
  {
   "cell_type": "code",
   "execution_count": 3,
   "id": "4c77623f-f2f8-4b48-863b-104c8d537578",
   "metadata": {},
   "outputs": [],
   "source": [
    "ser1 = pd.Series([1, 2, np.nan, -4, np.nan])"
   ]
  },
  {
   "cell_type": "code",
   "execution_count": 4,
   "id": "1c763c05-adb9-473b-9b85-49ac03b5345c",
   "metadata": {},
   "outputs": [],
   "source": [
    "ser1.dropna(inplace=True)"
   ]
  },
  {
   "cell_type": "code",
   "execution_count": 5,
   "id": "2fd9e0c5-ae22-4f3c-bc5e-05c09d7b9f35",
   "metadata": {},
   "outputs": [
    {
     "data": {
      "text/plain": [
       "0    1.0\n",
       "1    2.0\n",
       "3   -4.0\n",
       "dtype: float64"
      ]
     },
     "execution_count": 5,
     "metadata": {},
     "output_type": "execute_result"
    }
   ],
   "source": [
    "ser1"
   ]
  },
  {
   "cell_type": "markdown",
   "id": "d0db1c83-f6fe-4288-9378-78fe364cddbb",
   "metadata": {},
   "source": [
    "#### By Boolean Indexing"
   ]
  },
  {
   "cell_type": "code",
   "execution_count": 6,
   "id": "c2bbf382-d932-4209-a1d3-6c73e344538e",
   "metadata": {},
   "outputs": [
    {
     "data": {
      "text/plain": [
       "0    1.0\n",
       "1    2.0\n",
       "2    NaN\n",
       "3   -4.0\n",
       "4    NaN\n",
       "dtype: float64"
      ]
     },
     "execution_count": 6,
     "metadata": {},
     "output_type": "execute_result"
    }
   ],
   "source": [
    "ser2 = pd.Series([1, 2, np.nan, -4, np.nan])\n",
    "ser2"
   ]
  },
  {
   "cell_type": "code",
   "execution_count": 7,
   "id": "8bbf7431-268e-4aba-b2be-26c522b753a4",
   "metadata": {},
   "outputs": [
    {
     "data": {
      "text/plain": [
       "0     True\n",
       "1     True\n",
       "2    False\n",
       "3     True\n",
       "4    False\n",
       "dtype: bool"
      ]
     },
     "execution_count": 7,
     "metadata": {},
     "output_type": "execute_result"
    }
   ],
   "source": [
    "ser2.notnull()"
   ]
  },
  {
   "cell_type": "code",
   "execution_count": 8,
   "id": "5a65be92-c327-47d5-83a5-33150fb05e35",
   "metadata": {},
   "outputs": [
    {
     "data": {
      "text/plain": [
       "0    1.0\n",
       "1    2.0\n",
       "3   -4.0\n",
       "dtype: float64"
      ]
     },
     "execution_count": 8,
     "metadata": {},
     "output_type": "execute_result"
    }
   ],
   "source": [
    "ser2[ser2.notnull()]"
   ]
  },
  {
   "cell_type": "markdown",
   "id": "228d9989-e080-4bc8-9a75-8eb103df6c7d",
   "metadata": {},
   "source": [
    "- __ser.dropna()__ is used to directly drop all null values from a Series. If the argument inplace = True has been specified, the original series will be edited. \n",
    "- __ser[ser.notnull()]__ is used to generate a Boolean value indicating whether each value in a Series is null. It then filters the Series via Boolean indexing."
   ]
  },
  {
   "cell_type": "code",
   "execution_count": null,
   "id": "3cb434c7-8ac7-419e-b47d-e02ae6b5a3ed",
   "metadata": {},
   "outputs": [],
   "source": []
  }
 ],
 "metadata": {
  "kernelspec": {
   "display_name": "Python 3 (ipykernel)",
   "language": "python",
   "name": "python3"
  },
  "language_info": {
   "codemirror_mode": {
    "name": "ipython",
    "version": 3
   },
   "file_extension": ".py",
   "mimetype": "text/x-python",
   "name": "python",
   "nbconvert_exporter": "python",
   "pygments_lexer": "ipython3",
   "version": "3.10.11"
  }
 },
 "nbformat": 4,
 "nbformat_minor": 5
}
