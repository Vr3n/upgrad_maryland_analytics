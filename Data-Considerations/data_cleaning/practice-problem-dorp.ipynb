{
 "cells": [
  {
   "cell_type": "markdown",
   "id": "afc510df-7cdd-4186-abab-a5012009c3b9",
   "metadata": {},
   "source": [
    "### Practice Problem"
   ]
  },
  {
   "cell_type": "code",
   "execution_count": 1,
   "id": "14d5fa36-51bd-4768-a711-a21500da59a0",
   "metadata": {},
   "outputs": [],
   "source": [
    "import pandas as pd\n",
    "import numpy as np"
   ]
  },
  {
   "cell_type": "code",
   "execution_count": 3,
   "id": "915dc4fe-98b0-4897-aabf-890854551a7f",
   "metadata": {},
   "outputs": [],
   "source": [
    "product_sales_df = pd.DataFrame({'Monday': [np.nan, 152, 94,np.nan], 'Tuesday': [45, 109, 114,np.nan], \\\n",
    "                             'Wednesday': [np.nan,np.nan,np.nan,np.nan], 'Thursday': [29, 85, 132, np.nan], \\\n",
    "                             'Friday': [63, 143, 101, 15], 'Saturday': [87, 211, 186, 25]}, \\\n",
    "                             index=['Cupcakes', 'Pie Slices', 'Brownies', 'Cookies'])"
   ]
  },
  {
   "cell_type": "code",
   "execution_count": 4,
   "id": "fdb2bbc5-96aa-405c-afc0-63001f3439e1",
   "metadata": {},
   "outputs": [
    {
     "data": {
      "text/html": [
       "<div>\n",
       "<style scoped>\n",
       "    .dataframe tbody tr th:only-of-type {\n",
       "        vertical-align: middle;\n",
       "    }\n",
       "\n",
       "    .dataframe tbody tr th {\n",
       "        vertical-align: top;\n",
       "    }\n",
       "\n",
       "    .dataframe thead th {\n",
       "        text-align: right;\n",
       "    }\n",
       "</style>\n",
       "<table border=\"1\" class=\"dataframe\">\n",
       "  <thead>\n",
       "    <tr style=\"text-align: right;\">\n",
       "      <th></th>\n",
       "      <th>Monday</th>\n",
       "      <th>Tuesday</th>\n",
       "      <th>Wednesday</th>\n",
       "      <th>Thursday</th>\n",
       "      <th>Friday</th>\n",
       "      <th>Saturday</th>\n",
       "    </tr>\n",
       "  </thead>\n",
       "  <tbody>\n",
       "    <tr>\n",
       "      <th>Cupcakes</th>\n",
       "      <td>NaN</td>\n",
       "      <td>45.0</td>\n",
       "      <td>NaN</td>\n",
       "      <td>29.0</td>\n",
       "      <td>63</td>\n",
       "      <td>87</td>\n",
       "    </tr>\n",
       "    <tr>\n",
       "      <th>Pie Slices</th>\n",
       "      <td>152.0</td>\n",
       "      <td>109.0</td>\n",
       "      <td>NaN</td>\n",
       "      <td>85.0</td>\n",
       "      <td>143</td>\n",
       "      <td>211</td>\n",
       "    </tr>\n",
       "    <tr>\n",
       "      <th>Brownies</th>\n",
       "      <td>94.0</td>\n",
       "      <td>114.0</td>\n",
       "      <td>NaN</td>\n",
       "      <td>132.0</td>\n",
       "      <td>101</td>\n",
       "      <td>186</td>\n",
       "    </tr>\n",
       "    <tr>\n",
       "      <th>Cookies</th>\n",
       "      <td>NaN</td>\n",
       "      <td>NaN</td>\n",
       "      <td>NaN</td>\n",
       "      <td>NaN</td>\n",
       "      <td>15</td>\n",
       "      <td>25</td>\n",
       "    </tr>\n",
       "  </tbody>\n",
       "</table>\n",
       "</div>"
      ],
      "text/plain": [
       "            Monday  Tuesday  Wednesday  Thursday  Friday  Saturday\n",
       "Cupcakes       NaN     45.0        NaN      29.0      63        87\n",
       "Pie Slices   152.0    109.0        NaN      85.0     143       211\n",
       "Brownies      94.0    114.0        NaN     132.0     101       186\n",
       "Cookies        NaN      NaN        NaN       NaN      15        25"
      ]
     },
     "execution_count": 4,
     "metadata": {},
     "output_type": "execute_result"
    }
   ],
   "source": [
    "product_sales_df"
   ]
  },
  {
   "cell_type": "markdown",
   "id": "357c98a7-b07e-4c63-aad6-4474f5a62196",
   "metadata": {},
   "source": [
    "### Question 1\n",
    "\n",
    "For each day of the week, find the number of missing data points."
   ]
  },
  {
   "cell_type": "code",
   "execution_count": 7,
   "id": "964267d8-b026-4f02-a717-99d098010fc5",
   "metadata": {},
   "outputs": [
    {
     "data": {
      "text/plain": [
       "Monday       2\n",
       "Tuesday      1\n",
       "Wednesday    4\n",
       "Thursday     1\n",
       "Friday       0\n",
       "Saturday     0\n",
       "dtype: int64"
      ]
     },
     "execution_count": 7,
     "metadata": {},
     "output_type": "execute_result"
    }
   ],
   "source": [
    "product_sales_df.isnull().sum()"
   ]
  },
  {
   "cell_type": "markdown",
   "id": "a63a68a9-9087-48cb-83bd-88485d96777b",
   "metadata": {},
   "source": [
    "### Question 2\n",
    "\n",
    "For each product, find the number of missing data points."
   ]
  },
  {
   "cell_type": "code",
   "execution_count": 9,
   "id": "97cfebe5-47ee-4288-beef-6f43764c28b9",
   "metadata": {
    "scrolled": true
   },
   "outputs": [
    {
     "data": {
      "text/plain": [
       "Cookies       4\n",
       "Cupcakes      2\n",
       "Pie Slices    1\n",
       "Brownies      1\n",
       "dtype: int64"
      ]
     },
     "execution_count": 9,
     "metadata": {},
     "output_type": "execute_result"
    }
   ],
   "source": [
    "product_sales_df.isnull().sum(axis=1).sort_values(ascending=False)"
   ]
  },
  {
   "cell_type": "markdown",
   "id": "e13ace33-74ec-42b1-a95d-9a1c7e4904fe",
   "metadata": {},
   "source": [
    "### Question 3\n",
    "\n",
    "Give a reasonable explanation for why Wednesday does not have any data points. No code is required."
   ]
  },
  {
   "cell_type": "markdown",
   "id": "8b7389b3-9836-4cd9-9bca-b2934b9d9baf",
   "metadata": {},
   "source": [
    "Ans: There maybe a holiday on wednesday so the Store was closed."
   ]
  },
  {
   "cell_type": "markdown",
   "id": "598f95bd-00ce-414b-87ab-52b6b7f13c83",
   "metadata": {},
   "source": [
    "### Question 4\n",
    "\n",
    "Show the days of the week on which at least 3 different products were sold."
   ]
  },
  {
   "cell_type": "code",
   "execution_count": 52,
   "id": "66947440-84c6-40b1-b33f-304d4a0e1ff3",
   "metadata": {},
   "outputs": [
    {
     "data": {
      "text/html": [
       "<div>\n",
       "<style scoped>\n",
       "    .dataframe tbody tr th:only-of-type {\n",
       "        vertical-align: middle;\n",
       "    }\n",
       "\n",
       "    .dataframe tbody tr th {\n",
       "        vertical-align: top;\n",
       "    }\n",
       "\n",
       "    .dataframe thead th {\n",
       "        text-align: right;\n",
       "    }\n",
       "</style>\n",
       "<table border=\"1\" class=\"dataframe\">\n",
       "  <thead>\n",
       "    <tr style=\"text-align: right;\">\n",
       "      <th></th>\n",
       "      <th>Tuesday</th>\n",
       "      <th>Thursday</th>\n",
       "      <th>Friday</th>\n",
       "      <th>Saturday</th>\n",
       "    </tr>\n",
       "  </thead>\n",
       "  <tbody>\n",
       "    <tr>\n",
       "      <th>Cupcakes</th>\n",
       "      <td>45.0</td>\n",
       "      <td>29.0</td>\n",
       "      <td>63</td>\n",
       "      <td>87</td>\n",
       "    </tr>\n",
       "    <tr>\n",
       "      <th>Pie Slices</th>\n",
       "      <td>109.0</td>\n",
       "      <td>85.0</td>\n",
       "      <td>143</td>\n",
       "      <td>211</td>\n",
       "    </tr>\n",
       "    <tr>\n",
       "      <th>Brownies</th>\n",
       "      <td>114.0</td>\n",
       "      <td>132.0</td>\n",
       "      <td>101</td>\n",
       "      <td>186</td>\n",
       "    </tr>\n",
       "    <tr>\n",
       "      <th>Cookies</th>\n",
       "      <td>NaN</td>\n",
       "      <td>NaN</td>\n",
       "      <td>15</td>\n",
       "      <td>25</td>\n",
       "    </tr>\n",
       "  </tbody>\n",
       "</table>\n",
       "</div>"
      ],
      "text/plain": [
       "            Tuesday  Thursday  Friday  Saturday\n",
       "Cupcakes       45.0      29.0      63        87\n",
       "Pie Slices    109.0      85.0     143       211\n",
       "Brownies      114.0     132.0     101       186\n",
       "Cookies         NaN       NaN      15        25"
      ]
     },
     "execution_count": 52,
     "metadata": {},
     "output_type": "execute_result"
    }
   ],
   "source": [
    "product_sales_df.loc[:, (product_sales_df.isnull().sum() <= 1)]"
   ]
  },
  {
   "cell_type": "code",
   "execution_count": 53,
   "id": "73f3a1c2-0f22-4c02-866c-7ddccec28f0e",
   "metadata": {},
   "outputs": [
    {
     "data": {
      "text/html": [
       "<div>\n",
       "<style scoped>\n",
       "    .dataframe tbody tr th:only-of-type {\n",
       "        vertical-align: middle;\n",
       "    }\n",
       "\n",
       "    .dataframe tbody tr th {\n",
       "        vertical-align: top;\n",
       "    }\n",
       "\n",
       "    .dataframe thead th {\n",
       "        text-align: right;\n",
       "    }\n",
       "</style>\n",
       "<table border=\"1\" class=\"dataframe\">\n",
       "  <thead>\n",
       "    <tr style=\"text-align: right;\">\n",
       "      <th></th>\n",
       "      <th>Tuesday</th>\n",
       "      <th>Thursday</th>\n",
       "      <th>Friday</th>\n",
       "      <th>Saturday</th>\n",
       "    </tr>\n",
       "  </thead>\n",
       "  <tbody>\n",
       "    <tr>\n",
       "      <th>Cupcakes</th>\n",
       "      <td>45.0</td>\n",
       "      <td>29.0</td>\n",
       "      <td>63</td>\n",
       "      <td>87</td>\n",
       "    </tr>\n",
       "    <tr>\n",
       "      <th>Pie Slices</th>\n",
       "      <td>109.0</td>\n",
       "      <td>85.0</td>\n",
       "      <td>143</td>\n",
       "      <td>211</td>\n",
       "    </tr>\n",
       "    <tr>\n",
       "      <th>Brownies</th>\n",
       "      <td>114.0</td>\n",
       "      <td>132.0</td>\n",
       "      <td>101</td>\n",
       "      <td>186</td>\n",
       "    </tr>\n",
       "    <tr>\n",
       "      <th>Cookies</th>\n",
       "      <td>NaN</td>\n",
       "      <td>NaN</td>\n",
       "      <td>15</td>\n",
       "      <td>25</td>\n",
       "    </tr>\n",
       "  </tbody>\n",
       "</table>\n",
       "</div>"
      ],
      "text/plain": [
       "            Tuesday  Thursday  Friday  Saturday\n",
       "Cupcakes       45.0      29.0      63        87\n",
       "Pie Slices    109.0      85.0     143       211\n",
       "Brownies      114.0     132.0     101       186\n",
       "Cookies         NaN       NaN      15        25"
      ]
     },
     "execution_count": 53,
     "metadata": {},
     "output_type": "execute_result"
    }
   ],
   "source": [
    "product_sales_df.dropna(thresh=3, axis=1)"
   ]
  },
  {
   "cell_type": "markdown",
   "id": "37154d4f-0a64-46b5-8668-a1dd0b8916a8",
   "metadata": {},
   "source": [
    "### Question 5\n",
    "\n",
    "Find the product(s) that were sold on Thursday and Friday."
   ]
  },
  {
   "cell_type": "code",
   "execution_count": 51,
   "id": "b504a6d8-8435-4c96-afc9-f4ab95d7b2a6",
   "metadata": {},
   "outputs": [
    {
     "data": {
      "text/html": [
       "<div>\n",
       "<style scoped>\n",
       "    .dataframe tbody tr th:only-of-type {\n",
       "        vertical-align: middle;\n",
       "    }\n",
       "\n",
       "    .dataframe tbody tr th {\n",
       "        vertical-align: top;\n",
       "    }\n",
       "\n",
       "    .dataframe thead th {\n",
       "        text-align: right;\n",
       "    }\n",
       "</style>\n",
       "<table border=\"1\" class=\"dataframe\">\n",
       "  <thead>\n",
       "    <tr style=\"text-align: right;\">\n",
       "      <th></th>\n",
       "      <th>Thursday</th>\n",
       "      <th>Friday</th>\n",
       "    </tr>\n",
       "  </thead>\n",
       "  <tbody>\n",
       "    <tr>\n",
       "      <th>Cupcakes</th>\n",
       "      <td>29.0</td>\n",
       "      <td>63</td>\n",
       "    </tr>\n",
       "    <tr>\n",
       "      <th>Pie Slices</th>\n",
       "      <td>85.0</td>\n",
       "      <td>143</td>\n",
       "    </tr>\n",
       "    <tr>\n",
       "      <th>Brownies</th>\n",
       "      <td>132.0</td>\n",
       "      <td>101</td>\n",
       "    </tr>\n",
       "  </tbody>\n",
       "</table>\n",
       "</div>"
      ],
      "text/plain": [
       "            Thursday  Friday\n",
       "Cupcakes        29.0      63\n",
       "Pie Slices      85.0     143\n",
       "Brownies       132.0     101"
      ]
     },
     "execution_count": 51,
     "metadata": {},
     "output_type": "execute_result"
    }
   ],
   "source": [
    "product_sales_df.loc[product_sales_df[['Thursday', 'Friday']].notnull().all(axis=1), ['Thursday', 'Friday']]"
   ]
  },
  {
   "cell_type": "code",
   "execution_count": null,
   "id": "27588082-d739-4e9a-807e-3ed2b654e7b7",
   "metadata": {},
   "outputs": [],
   "source": []
  }
 ],
 "metadata": {
  "kernelspec": {
   "display_name": "Python 3 (ipykernel)",
   "language": "python",
   "name": "python3"
  },
  "language_info": {
   "codemirror_mode": {
    "name": "ipython",
    "version": 3
   },
   "file_extension": ".py",
   "mimetype": "text/x-python",
   "name": "python",
   "nbconvert_exporter": "python",
   "pygments_lexer": "ipython3",
   "version": "3.10.11"
  }
 },
 "nbformat": 4,
 "nbformat_minor": 5
}
