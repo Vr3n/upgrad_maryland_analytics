{
 "cells": [
  {
   "cell_type": "markdown",
   "id": "72b81c96-bf71-4993-b9c4-960c748cef83",
   "metadata": {},
   "source": [
    "### Replace Values."
   ]
  },
  {
   "cell_type": "code",
   "execution_count": 1,
   "id": "7ef66b6d-4b67-4969-a790-463513ab37d5",
   "metadata": {},
   "outputs": [],
   "source": [
    "import pandas as pd\n",
    "import numpy as np"
   ]
  },
  {
   "cell_type": "code",
   "execution_count": 2,
   "id": "e8c0b526-347d-4ae5-877c-dde5b02b4499",
   "metadata": {},
   "outputs": [],
   "source": [
    "df1 = pd.DataFrame([('Allen Iverson', 'The Answer'), ('Earvin Johnson', 'Magic'), ('Michael Jordan', 'Air Jordan'),\n",
    "                    ('Rodney Hundley', 'Hot Rod'), ('John Williams', 'Hot Rod'),\n",
    "                    ('George Gervin', 'Iceman'), ('Michael Jordan', 'Air Jordan'),\n",
    "                    ('John Salley', 'Spider'), ('Jerry Sloan', 'Spider'),\n",
    "                    ('Charles Barkley', 'The Chuckster')],\n",
    "                   columns=['Player', 'Nickname'])"
   ]
  },
  {
   "cell_type": "markdown",
   "id": "52bfa008-a17d-4389-b10a-43f7595acdd5",
   "metadata": {},
   "source": [
    "using `replace()`"
   ]
  },
  {
   "cell_type": "code",
   "execution_count": 3,
   "id": "8631ac42-bc19-4709-bc74-279ba9200481",
   "metadata": {},
   "outputs": [
    {
     "data": {
      "text/html": [
       "<div>\n",
       "<style scoped>\n",
       "    .dataframe tbody tr th:only-of-type {\n",
       "        vertical-align: middle;\n",
       "    }\n",
       "\n",
       "    .dataframe tbody tr th {\n",
       "        vertical-align: top;\n",
       "    }\n",
       "\n",
       "    .dataframe thead th {\n",
       "        text-align: right;\n",
       "    }\n",
       "</style>\n",
       "<table border=\"1\" class=\"dataframe\">\n",
       "  <thead>\n",
       "    <tr style=\"text-align: right;\">\n",
       "      <th></th>\n",
       "      <th>Player</th>\n",
       "      <th>Nickname</th>\n",
       "    </tr>\n",
       "  </thead>\n",
       "  <tbody>\n",
       "    <tr>\n",
       "      <th>0</th>\n",
       "      <td>Allen Iverson</td>\n",
       "      <td>The Answer</td>\n",
       "    </tr>\n",
       "    <tr>\n",
       "      <th>1</th>\n",
       "      <td>Earvin Johnson</td>\n",
       "      <td>Magic</td>\n",
       "    </tr>\n",
       "    <tr>\n",
       "      <th>2</th>\n",
       "      <td>Michael Jordan</td>\n",
       "      <td>Air Jordan</td>\n",
       "    </tr>\n",
       "    <tr>\n",
       "      <th>3</th>\n",
       "      <td>Rodney Hundley</td>\n",
       "      <td>***Duplicated***</td>\n",
       "    </tr>\n",
       "    <tr>\n",
       "      <th>4</th>\n",
       "      <td>John Williams</td>\n",
       "      <td>***Duplicated***</td>\n",
       "    </tr>\n",
       "    <tr>\n",
       "      <th>5</th>\n",
       "      <td>George Gervin</td>\n",
       "      <td>Iceman</td>\n",
       "    </tr>\n",
       "    <tr>\n",
       "      <th>6</th>\n",
       "      <td>Michael Jordan</td>\n",
       "      <td>Air Jordan</td>\n",
       "    </tr>\n",
       "    <tr>\n",
       "      <th>7</th>\n",
       "      <td>John Salley</td>\n",
       "      <td>***Duplicated***</td>\n",
       "    </tr>\n",
       "    <tr>\n",
       "      <th>8</th>\n",
       "      <td>Jerry Sloan</td>\n",
       "      <td>***Duplicated***</td>\n",
       "    </tr>\n",
       "    <tr>\n",
       "      <th>9</th>\n",
       "      <td>Charles Barkley</td>\n",
       "      <td>The Chuckster</td>\n",
       "    </tr>\n",
       "  </tbody>\n",
       "</table>\n",
       "</div>"
      ],
      "text/plain": [
       "            Player          Nickname\n",
       "0    Allen Iverson        The Answer\n",
       "1   Earvin Johnson             Magic\n",
       "2   Michael Jordan        Air Jordan\n",
       "3   Rodney Hundley  ***Duplicated***\n",
       "4    John Williams  ***Duplicated***\n",
       "5    George Gervin            Iceman\n",
       "6   Michael Jordan        Air Jordan\n",
       "7      John Salley  ***Duplicated***\n",
       "8      Jerry Sloan  ***Duplicated***\n",
       "9  Charles Barkley     The Chuckster"
      ]
     },
     "execution_count": 3,
     "metadata": {},
     "output_type": "execute_result"
    }
   ],
   "source": [
    "df1.replace(['Hot Rod', 'Spider'], '***Duplicated***')"
   ]
  },
  {
   "cell_type": "code",
   "execution_count": 4,
   "id": "00c3d5a9-5ca9-472d-a1ee-fc334990db58",
   "metadata": {},
   "outputs": [],
   "source": [
    "translation = {\n",
    "    'The Answer': \"AI\",\n",
    "    'Air Jordan': 'MJ',\n",
    "    'The Chuckster': 'The Round Mound of Rebound'\n",
    "}"
   ]
  },
  {
   "cell_type": "code",
   "execution_count": 5,
   "id": "bc201aac-d9e4-4304-a47f-367cf33fec57",
   "metadata": {},
   "outputs": [
    {
     "data": {
      "text/html": [
       "<div>\n",
       "<style scoped>\n",
       "    .dataframe tbody tr th:only-of-type {\n",
       "        vertical-align: middle;\n",
       "    }\n",
       "\n",
       "    .dataframe tbody tr th {\n",
       "        vertical-align: top;\n",
       "    }\n",
       "\n",
       "    .dataframe thead th {\n",
       "        text-align: right;\n",
       "    }\n",
       "</style>\n",
       "<table border=\"1\" class=\"dataframe\">\n",
       "  <thead>\n",
       "    <tr style=\"text-align: right;\">\n",
       "      <th></th>\n",
       "      <th>Player</th>\n",
       "      <th>Nickname</th>\n",
       "    </tr>\n",
       "  </thead>\n",
       "  <tbody>\n",
       "    <tr>\n",
       "      <th>0</th>\n",
       "      <td>Allen Iverson</td>\n",
       "      <td>AI</td>\n",
       "    </tr>\n",
       "    <tr>\n",
       "      <th>1</th>\n",
       "      <td>Earvin Johnson</td>\n",
       "      <td>Magic</td>\n",
       "    </tr>\n",
       "    <tr>\n",
       "      <th>2</th>\n",
       "      <td>Michael Jordan</td>\n",
       "      <td>MJ</td>\n",
       "    </tr>\n",
       "    <tr>\n",
       "      <th>3</th>\n",
       "      <td>Rodney Hundley</td>\n",
       "      <td>Hot Rod</td>\n",
       "    </tr>\n",
       "    <tr>\n",
       "      <th>4</th>\n",
       "      <td>John Williams</td>\n",
       "      <td>Hot Rod</td>\n",
       "    </tr>\n",
       "    <tr>\n",
       "      <th>5</th>\n",
       "      <td>George Gervin</td>\n",
       "      <td>Iceman</td>\n",
       "    </tr>\n",
       "    <tr>\n",
       "      <th>6</th>\n",
       "      <td>Michael Jordan</td>\n",
       "      <td>MJ</td>\n",
       "    </tr>\n",
       "    <tr>\n",
       "      <th>7</th>\n",
       "      <td>John Salley</td>\n",
       "      <td>Spider</td>\n",
       "    </tr>\n",
       "    <tr>\n",
       "      <th>8</th>\n",
       "      <td>Jerry Sloan</td>\n",
       "      <td>Spider</td>\n",
       "    </tr>\n",
       "    <tr>\n",
       "      <th>9</th>\n",
       "      <td>Charles Barkley</td>\n",
       "      <td>The Round Mound of Rebound</td>\n",
       "    </tr>\n",
       "  </tbody>\n",
       "</table>\n",
       "</div>"
      ],
      "text/plain": [
       "            Player                    Nickname\n",
       "0    Allen Iverson                          AI\n",
       "1   Earvin Johnson                       Magic\n",
       "2   Michael Jordan                          MJ\n",
       "3   Rodney Hundley                     Hot Rod\n",
       "4    John Williams                     Hot Rod\n",
       "5    George Gervin                      Iceman\n",
       "6   Michael Jordan                          MJ\n",
       "7      John Salley                      Spider\n",
       "8      Jerry Sloan                      Spider\n",
       "9  Charles Barkley  The Round Mound of Rebound"
      ]
     },
     "execution_count": 5,
     "metadata": {},
     "output_type": "execute_result"
    }
   ],
   "source": [
    "df1.replace(translation)"
   ]
  },
  {
   "cell_type": "markdown",
   "id": "83711371-2610-4716-9c66-87037f9da4e9",
   "metadata": {},
   "source": [
    "### Replacing Values using Map"
   ]
  },
  {
   "cell_type": "code",
   "execution_count": 11,
   "id": "db5cab9f-4094-4e0c-887d-4d224c7b73cf",
   "metadata": {},
   "outputs": [],
   "source": [
    "df1['Nickname'] = df1['Nickname'].map(lambda x: translation.get(x, x))"
   ]
  },
  {
   "cell_type": "code",
   "execution_count": 12,
   "id": "b90794e4-ad5c-4278-ad07-989d595e0ded",
   "metadata": {},
   "outputs": [
    {
     "data": {
      "text/plain": [
       "0                            AI\n",
       "1                         Magic\n",
       "2                            MJ\n",
       "3                       Hot Rod\n",
       "4                       Hot Rod\n",
       "5                        Iceman\n",
       "6                            MJ\n",
       "7                        Spider\n",
       "8                        Spider\n",
       "9    The Round Mound of Rebound\n",
       "Name: Nickname, dtype: object"
      ]
     },
     "execution_count": 12,
     "metadata": {},
     "output_type": "execute_result"
    }
   ],
   "source": [
    "df1['Nickname']"
   ]
  },
  {
   "cell_type": "code",
   "execution_count": null,
   "id": "74546637-679c-45af-935f-2a93c981ca37",
   "metadata": {},
   "outputs": [],
   "source": []
  }
 ],
 "metadata": {
  "kernelspec": {
   "display_name": "Python 3 (ipykernel)",
   "language": "python",
   "name": "python3"
  },
  "language_info": {
   "codemirror_mode": {
    "name": "ipython",
    "version": 3
   },
   "file_extension": ".py",
   "mimetype": "text/x-python",
   "name": "python",
   "nbconvert_exporter": "python",
   "pygments_lexer": "ipython3",
   "version": "3.10.11"
  }
 },
 "nbformat": 4,
 "nbformat_minor": 5
}
