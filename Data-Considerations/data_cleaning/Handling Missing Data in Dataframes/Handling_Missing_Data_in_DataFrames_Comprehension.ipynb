{
  "cells": [
    {
      "cell_type": "markdown",
      "metadata": {
        "id": "7BxV-RiA8B3R"
      },
      "source": [
        "## Problem Statement"
      ]
    },
    {
      "cell_type": "markdown",
      "metadata": {
        "id": "Jtqr77m0799a"
      },
      "source": [
        "Job fairs are currently the most widely employed method to recruit candidates. There are several factors that affect a candidate’s chances of getting hired. Analyzing such factors is important for both recruiters, who select candidates, and students, who want to get hired.\n",
        "\n",
        "You are a data analyst and are given this hiring dataset, which contains certain variables along with corresponding details.\n",
        "![](https://drive.google.com/uc?export=view&id=1p17sY0K9VfFk_sJQfJ4pfpMFN6QOSYuy)"
      ]
    },
    {
      "cell_type": "code",
      "execution_count": null,
      "metadata": {
        "id": "R2Gv3aVf8Hy_"
      },
      "outputs": [],
      "source": [
        "#Importing the library\n",
        "import numpy as np\n",
        "import pandas as pd\n",
        "\n",
        "#Loading the data\n",
        "hiring_data = pd.read_csv('hiring_data.csv')\n",
        "\n",
        "hiring_data"
      ]
    },
    {
      "cell_type": "markdown",
      "metadata": {
        "id": "qEAs4A5H9GEN"
      },
      "source": [
        "Use this data to answer the following questions"
      ]
    },
    {
      "cell_type": "markdown",
      "source": [
        "**Q1:** Which column has the highest number of missing values in the hiring data?\n",
        "\n",
        "a) mba_p\n",
        "\n",
        "b) salary\n",
        "\n",
        "c) specialization\n",
        "\n",
        "d) etest_p\n",
        "\n"
      ],
      "metadata": {
        "id": "RZbGO88Jgyl_"
      }
    },
    {
      "cell_type": "code",
      "source": [
        "#write your code here"
      ],
      "metadata": {
        "id": "O-jvHNq3g8Hv"
      },
      "execution_count": null,
      "outputs": []
    },
    {
      "cell_type": "markdown",
      "metadata": {
        "id": "0AZmmhd1lDOJ"
      },
      "source": [
        "**Q2:**  How many columns in the given data have more than five missing values?\n",
        "   \n",
        "\n",
        "a)   2\n",
        "\n",
        "b)   3\n",
        "\n",
        "c)   4\n",
        "\n",
        "d)   1\n",
        "\n",
        "\n",
        "\n"
      ]
    },
    {
      "cell_type": "code",
      "execution_count": null,
      "metadata": {
        "id": "665EZErVJRuO"
      },
      "outputs": [],
      "source": [
        "# write your code here"
      ]
    },
    {
      "cell_type": "markdown",
      "metadata": {
        "id": "hCG6CAlgB_7u"
      },
      "source": [
        "#### **Q3:**   How many rows in the given data have more than four missing values?\n",
        "\n",
        "a) 2\n",
        "\n",
        "b) 3\n",
        "\n",
        "c) 4\n",
        "\n",
        "d) 1\n"
      ]
    },
    {
      "cell_type": "code",
      "execution_count": null,
      "metadata": {
        "id": "vP21DMk_KOJa"
      },
      "outputs": [],
      "source": [
        "# write your code here\n"
      ]
    },
    {
      "cell_type": "markdown",
      "metadata": {
        "id": "M-EKyUQg-0Z9"
      },
      "source": [
        "**Q4:**  After finding the number of missing values, you decide to remove those rows that have more than four missing values. After removing these rows, what will be the average salary of the students who are hired? (Rounded off to the nearest two decimal places)\n",
        "   \n",
        "\n",
        "a)   \\$125,804.19\n",
        "\n",
        "b)   \\$131,861.11\n",
        "\n",
        "c)   \\$131,261.43\n",
        "\n",
        "d)   \\$125,585.56\n"
      ]
    },
    {
      "cell_type": "code",
      "execution_count": null,
      "metadata": {
        "id": "9yAGDucc_E7x"
      },
      "outputs": [],
      "source": [
        "# write your code here\n"
      ]
    }
  ],
  "metadata": {
    "colab": {
      "collapsed_sections": [],
      "name": "Handling Missing Data in DataFrames - Comprehension.ipynb",
      "provenance": []
    },
    "kernelspec": {
      "display_name": "Python 3 (ipykernel)",
      "language": "python",
      "name": "python3"
    },
    "language_info": {
      "codemirror_mode": {
        "name": "ipython",
        "version": 3
      },
      "file_extension": ".py",
      "mimetype": "text/x-python",
      "name": "python",
      "nbconvert_exporter": "python",
      "pygments_lexer": "ipython3",
      "version": "3.9.7"
    }
  },
  "nbformat": 4,
  "nbformat_minor": 0
}