{
 "cells": [
  {
   "cell_type": "markdown",
   "id": "03943b66-8409-46c5-9d58-d21fc056c044",
   "metadata": {},
   "source": [
    "## Renaming Axis Indices"
   ]
  },
  {
   "cell_type": "code",
   "execution_count": 1,
   "id": "0be92b52-7347-4531-bc8c-8b57b6de88ba",
   "metadata": {},
   "outputs": [],
   "source": [
    "import pandas as pd\n",
    "import numpy as np"
   ]
  },
  {
   "cell_type": "code",
   "execution_count": 2,
   "id": "395daff1-ec89-477c-831f-1b870b9d9a43",
   "metadata": {},
   "outputs": [],
   "source": [
    "df1 = pd.DataFrame([('Allen Iverson', 'The Answer'), ('Earvin Johnson', 'Magic'), ('Michael Jordan', 'Air Jordan'),\n",
    "                    ('Rodney Hundley', 'Hot Rod'), ('John Williams', 'Hot Rod'),\n",
    "                    ('George Gervin', 'Iceman'), ('Michael Jordan', 'Air Jordan'),\n",
    "                    ('John Salley', 'Spider'), ('Jerry Sloan', 'Spider'),\n",
    "                    ('Charles Barkley', 'The Chuckster')],\n",
    "                   columns=['Player', 'Nickname'])"
   ]
  },
  {
   "cell_type": "code",
   "execution_count": 4,
   "id": "b639133a-2098-4aa0-9873-1e4fda379974",
   "metadata": {},
   "outputs": [],
   "source": [
    "df1.index = df1['Player'].map(lambda name: name.split(' ')[-1])"
   ]
  },
  {
   "cell_type": "code",
   "execution_count": 6,
   "id": "24da5855-06b0-4a18-a705-fec1d2f76f95",
   "metadata": {
    "scrolled": true
   },
   "outputs": [],
   "source": [
    "df1.index.name = 'Last Name'"
   ]
  },
  {
   "cell_type": "code",
   "execution_count": 12,
   "id": "7e000388-9509-4599-8294-eee1f5cb7233",
   "metadata": {},
   "outputs": [
    {
     "data": {
      "text/plain": [
       "Player      John Williams\n",
       "Nickname          Hot Rod\n",
       "Name: Williams, dtype: object"
      ]
     },
     "execution_count": 12,
     "metadata": {},
     "output_type": "execute_result"
    }
   ],
   "source": [
    "df1.loc['Williams']"
   ]
  },
  {
   "cell_type": "code",
   "execution_count": null,
   "id": "e2f61980-86c9-4275-ba68-622ecdf8c6f6",
   "metadata": {},
   "outputs": [],
   "source": [
    "df1.columns = ['Player Full Name', '']"
   ]
  }
 ],
 "metadata": {
  "kernelspec": {
   "display_name": "Python 3 (ipykernel)",
   "language": "python",
   "name": "python3"
  },
  "language_info": {
   "codemirror_mode": {
    "name": "ipython",
    "version": 3
   },
   "file_extension": ".py",
   "mimetype": "text/x-python",
   "name": "python",
   "nbconvert_exporter": "python",
   "pygments_lexer": "ipython3",
   "version": "3.10.11"
  }
 },
 "nbformat": 4,
 "nbformat_minor": 5
}
