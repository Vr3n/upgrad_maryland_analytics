{
 "cells": [
  {
   "cell_type": "markdown",
   "id": "17b9bd4b-fe30-438c-adbe-13ee50a81009",
   "metadata": {},
   "source": [
    "### Impute Missing Values by Constant (e.g. Centrality Measure)"
   ]
  },
  {
   "cell_type": "code",
   "execution_count": 1,
   "id": "3816377e-f9de-401b-b768-d735459bed19",
   "metadata": {},
   "outputs": [],
   "source": [
    "import pandas as pd\n",
    "import numpy as np"
   ]
  },
  {
   "cell_type": "code",
   "execution_count": 2,
   "id": "cb5ac55d-6235-40ce-8761-4c4addcc187e",
   "metadata": {},
   "outputs": [
    {
     "data": {
      "text/plain": [
       "0    1.0\n",
       "1    2.0\n",
       "2    NaN\n",
       "3   -4.0\n",
       "4    NaN\n",
       "dtype: float64"
      ]
     },
     "execution_count": 2,
     "metadata": {},
     "output_type": "execute_result"
    }
   ],
   "source": [
    "ser1 = pd.Series([1, 2, np.nan, -4, np.nan])\n",
    "ser1"
   ]
  },
  {
   "cell_type": "code",
   "execution_count": 5,
   "id": "2e07e038-de63-4a57-b881-f73bf9f515a7",
   "metadata": {},
   "outputs": [
    {
     "data": {
      "text/plain": [
       "0    1.0\n",
       "1    2.0\n",
       "2    0.0\n",
       "3   -4.0\n",
       "4    0.0\n",
       "dtype: float64"
      ]
     },
     "execution_count": 5,
     "metadata": {},
     "output_type": "execute_result"
    }
   ],
   "source": [
    "ser1.fillna(0, inplace=True)\n",
    "ser1"
   ]
  },
  {
   "cell_type": "markdown",
   "id": "b9d3afe0-872b-4fa7-8405-32726d726b6f",
   "metadata": {},
   "source": [
    "### Impute Missing Values by Fill\n",
    "Useful for time series data\n",
    "- __Forward fill (ffill)__ - Propogate non-null values forward.\n",
    "- __Backward fill (bfill)__ - Propogate non-null values backward."
   ]
  },
  {
   "cell_type": "markdown",
   "id": "f03e2f78-083f-4f48-a79b-c7f018c6eacb",
   "metadata": {},
   "source": [
    "#### Forward fill (ffill)"
   ]
  },
  {
   "cell_type": "code",
   "execution_count": 6,
   "id": "7ee4b56b-65e7-4b5a-b8d7-ab8e29739878",
   "metadata": {},
   "outputs": [
    {
     "data": {
      "text/plain": [
       "0    1.0\n",
       "1    2.0\n",
       "2    NaN\n",
       "3   -4.0\n",
       "4    NaN\n",
       "dtype: float64"
      ]
     },
     "execution_count": 6,
     "metadata": {},
     "output_type": "execute_result"
    }
   ],
   "source": [
    "ser3 = pd.Series([1, 2, np.nan, -4, np.nan])\n",
    "ser3"
   ]
  },
  {
   "cell_type": "code",
   "execution_count": 7,
   "id": "63ae74ed-59e5-4737-9d91-9cab449c1ccf",
   "metadata": {},
   "outputs": [
    {
     "data": {
      "text/plain": [
       "0    1.0\n",
       "1    2.0\n",
       "2    2.0\n",
       "3   -4.0\n",
       "4   -4.0\n",
       "dtype: float64"
      ]
     },
     "execution_count": 7,
     "metadata": {},
     "output_type": "execute_result"
    }
   ],
   "source": [
    "ser3.fillna(method='ffill')"
   ]
  },
  {
   "cell_type": "markdown",
   "id": "fb1d917d-a657-4361-a5d7-024cae03f71d",
   "metadata": {},
   "source": [
    "#### Backward fill (bfill)"
   ]
  },
  {
   "cell_type": "code",
   "execution_count": 8,
   "id": "b624cbac-f33b-4f15-bc6e-b7c5582a881e",
   "metadata": {},
   "outputs": [],
   "source": [
    "ser4 = pd.Series([1, 2, np.nan, -4, np.nan])"
   ]
  },
  {
   "cell_type": "code",
   "execution_count": 9,
   "id": "aec6152c-4864-4f4c-a941-c29249f81121",
   "metadata": {},
   "outputs": [
    {
     "data": {
      "text/plain": [
       "0    1.0\n",
       "1    2.0\n",
       "2   -4.0\n",
       "3   -4.0\n",
       "4    NaN\n",
       "dtype: float64"
      ]
     },
     "execution_count": 9,
     "metadata": {},
     "output_type": "execute_result"
    }
   ],
   "source": [
    "ser4.fillna(method='bfill')"
   ]
  },
  {
   "cell_type": "code",
   "execution_count": null,
   "id": "cd08749b-4b08-41cd-bfb2-bce91076b2ec",
   "metadata": {},
   "outputs": [],
   "source": []
  }
 ],
 "metadata": {
  "kernelspec": {
   "display_name": "Python 3 (ipykernel)",
   "language": "python",
   "name": "python3"
  },
  "language_info": {
   "codemirror_mode": {
    "name": "ipython",
    "version": 3
   },
   "file_extension": ".py",
   "mimetype": "text/x-python",
   "name": "python",
   "nbconvert_exporter": "python",
   "pygments_lexer": "ipython3",
   "version": "3.10.11"
  }
 },
 "nbformat": 4,
 "nbformat_minor": 5
}
