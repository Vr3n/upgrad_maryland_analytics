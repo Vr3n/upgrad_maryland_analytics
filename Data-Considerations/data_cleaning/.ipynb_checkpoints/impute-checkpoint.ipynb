{
 "cells": [
  {
   "cell_type": "markdown",
   "id": "17b9bd4b-fe30-438c-adbe-13ee50a81009",
   "metadata": {},
   "source": [
    "### Impute Missing Values by Constant (e.g. Centrality Measure)"
   ]
  },
  {
   "cell_type": "code",
   "execution_count": null,
   "id": "3816377e-f9de-401b-b768-d735459bed19",
   "metadata": {},
   "outputs": [],
   "source": []
  },
  {
   "cell_type": "code",
   "execution_count": null,
   "id": "e8d5b70f-82fc-478e-b9ec-45c5e3c284b3",
   "metadata": {},
   "outputs": [],
   "source": []
  },
  {
   "cell_type": "code",
   "execution_count": null,
   "id": "cb5ac55d-6235-40ce-8761-4c4addcc187e",
   "metadata": {},
   "outputs": [],
   "source": []
  },
  {
   "cell_type": "markdown",
   "id": "b9d3afe0-872b-4fa7-8405-32726d726b6f",
   "metadata": {},
   "source": [
    "### Impute Missing Values by Fill\n",
    "Useful for time series data\n",
    "- __Forward fill (ffill)__ - Propogate non-null values forward.\n",
    "- __Backward fill (bfill)__ - Propogate non-null values backward."
   ]
  },
  {
   "cell_type": "markdown",
   "id": "f03e2f78-083f-4f48-a79b-c7f018c6eacb",
   "metadata": {},
   "source": [
    "#### Forward fill (bfill)"
   ]
  },
  {
   "cell_type": "code",
   "execution_count": null,
   "id": "7ee4b56b-65e7-4b5a-b8d7-ab8e29739878",
   "metadata": {},
   "outputs": [],
   "source": []
  },
  {
   "cell_type": "code",
   "execution_count": null,
   "id": "63ae74ed-59e5-4737-9d91-9cab449c1ccf",
   "metadata": {},
   "outputs": [],
   "source": []
  },
  {
   "cell_type": "markdown",
   "id": "fb1d917d-a657-4361-a5d7-024cae03f71d",
   "metadata": {},
   "source": [
    "#### Backward fill (bfill)"
   ]
  },
  {
   "cell_type": "code",
   "execution_count": null,
   "id": "b624cbac-f33b-4f15-bc6e-b7c5582a881e",
   "metadata": {},
   "outputs": [],
   "source": []
  },
  {
   "cell_type": "code",
   "execution_count": null,
   "id": "aec6152c-4864-4f4c-a941-c29249f81121",
   "metadata": {},
   "outputs": [],
   "source": []
  }
 ],
 "metadata": {
  "kernelspec": {
   "display_name": "Python 3 (ipykernel)",
   "language": "python",
   "name": "python3"
  },
  "language_info": {
   "codemirror_mode": {
    "name": "ipython",
    "version": 3
   },
   "file_extension": ".py",
   "mimetype": "text/x-python",
   "name": "python",
   "nbconvert_exporter": "python",
   "pygments_lexer": "ipython3",
   "version": "3.10.11"
  }
 },
 "nbformat": 4,
 "nbformat_minor": 5
}
