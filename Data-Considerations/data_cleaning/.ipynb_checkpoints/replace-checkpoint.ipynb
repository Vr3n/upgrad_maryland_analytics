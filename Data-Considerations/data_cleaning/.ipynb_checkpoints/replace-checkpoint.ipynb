{
 "cells": [
  {
   "cell_type": "markdown",
   "id": "72b81c96-bf71-4993-b9c4-960c748cef83",
   "metadata": {},
   "source": [
    "### Replace Values."
   ]
  },
  {
   "cell_type": "code",
   "execution_count": 1,
   "id": "7ef66b6d-4b67-4969-a790-463513ab37d5",
   "metadata": {},
   "outputs": [],
   "source": [
    "import pandas as pd\n",
    "import numpy as np"
   ]
  },
  {
   "cell_type": "code",
   "execution_count": 2,
   "id": "e8c0b526-347d-4ae5-877c-dde5b02b4499",
   "metadata": {},
   "outputs": [],
   "source": [
    "df1 = pd.DataFrame([('Allen Iverson', 'The Answer'), ('Earvin Johnson', 'Magic'), ('Michael Jordan', 'Air Jordan'),\n",
    "                    ('Rodney Hundley', 'Hot Rod'), ('John Williams', 'Hot Rod'),\n",
    "                    ('George Gervin', 'Iceman'), ('Michael Jordan', 'Air Jordan'),\n",
    "                    ('John Salley', 'Spider'), ('Jerry Sloan', 'Spider'),\n",
    "                    ('Charles Barkley', 'The Chuckster')],\n",
    "                   columns=['Player', 'Nickname'])"
   ]
  },
  {
   "cell_type": "code",
   "execution_count": null,
   "id": "c538633e-3ee2-4a46-8c02-6402d55f51db",
   "metadata": {},
   "outputs": [],
   "source": []
  }
 ],
 "metadata": {
  "kernelspec": {
   "display_name": "Python 3 (ipykernel)",
   "language": "python",
   "name": "python3"
  },
  "language_info": {
   "codemirror_mode": {
    "name": "ipython",
    "version": 3
   },
   "file_extension": ".py",
   "mimetype": "text/x-python",
   "name": "python",
   "nbconvert_exporter": "python",
   "pygments_lexer": "ipython3",
   "version": "3.10.11"
  }
 },
 "nbformat": 4,
 "nbformat_minor": 5
}
