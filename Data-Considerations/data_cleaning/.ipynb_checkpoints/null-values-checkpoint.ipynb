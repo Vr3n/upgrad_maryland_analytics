{
 "cells": [
  {
   "cell_type": "markdown",
   "id": "1cf93a2e-0a36-4f3e-b4bd-894b1a60ccdf",
   "metadata": {},
   "source": [
    "## Missing Data For Series Objects."
   ]
  },
  {
   "cell_type": "markdown",
   "id": "a904caca-45e3-4d2f-bcea-1df439dc30de",
   "metadata": {},
   "source": [
    "#### Checking for NULL"
   ]
  },
  {
   "cell_type": "code",
   "execution_count": 1,
   "id": "4943fd2c-1aeb-470e-adea-2ad4073f31bc",
   "metadata": {},
   "outputs": [],
   "source": [
    "import pandas as pd\n",
    "import numpy as np"
   ]
  },
  {
   "cell_type": "code",
   "execution_count": 2,
   "id": "eb429214-bcb7-4aed-887b-993446d5b151",
   "metadata": {},
   "outputs": [
    {
     "data": {
      "text/plain": [
       "0    1.0\n",
       "1    2.0\n",
       "2    NaN\n",
       "3   -4.0\n",
       "4    NaN\n",
       "dtype: float64"
      ]
     },
     "execution_count": 2,
     "metadata": {},
     "output_type": "execute_result"
    }
   ],
   "source": [
    "ser1 = pd.Series([1, 2, np.nan, -4, np.nan])\n",
    "ser1"
   ]
  },
  {
   "cell_type": "code",
   "execution_count": 3,
   "id": "552869a1-ad97-4e3c-b15a-506e7c72d63e",
   "metadata": {},
   "outputs": [
    {
     "data": {
      "text/plain": [
       "0    False\n",
       "1    False\n",
       "2     True\n",
       "3    False\n",
       "4     True\n",
       "dtype: bool"
      ]
     },
     "execution_count": 3,
     "metadata": {},
     "output_type": "execute_result"
    }
   ],
   "source": [
    "# For each value in the series, is it null or not?\n",
    "ser1.isnull()"
   ]
  },
  {
   "cell_type": "markdown",
   "id": "4989bce5-b511-4a27-8b76-2b1e35a4ec6c",
   "metadata": {},
   "source": [
    "### Checking for not NULL"
   ]
  },
  {
   "cell_type": "code",
   "execution_count": 5,
   "id": "de44ff5d-798a-4908-8d7e-cd100f25ce76",
   "metadata": {},
   "outputs": [],
   "source": [
    "ser2 = pd.Series([1, 2, np.nan, -4, np.nan])"
   ]
  },
  {
   "cell_type": "code",
   "execution_count": 6,
   "id": "2ffd344a-f304-4279-8aca-020277140744",
   "metadata": {},
   "outputs": [
    {
     "data": {
      "text/plain": [
       "0     True\n",
       "1     True\n",
       "2    False\n",
       "3     True\n",
       "4    False\n",
       "dtype: bool"
      ]
     },
     "execution_count": 6,
     "metadata": {},
     "output_type": "execute_result"
    }
   ],
   "source": [
    "ser2.notnull()"
   ]
  }
 ],
 "metadata": {
  "kernelspec": {
   "display_name": "Python 3 (ipykernel)",
   "language": "python",
   "name": "python3"
  },
  "language_info": {
   "codemirror_mode": {
    "name": "ipython",
    "version": 3
   },
   "file_extension": ".py",
   "mimetype": "text/x-python",
   "name": "python",
   "nbconvert_exporter": "python",
   "pygments_lexer": "ipython3",
   "version": "3.10.11"
  }
 },
 "nbformat": 4,
 "nbformat_minor": 5
}
