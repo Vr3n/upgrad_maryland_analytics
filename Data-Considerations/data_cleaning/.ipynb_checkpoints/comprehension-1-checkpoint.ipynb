{
 "cells": [
  {
   "cell_type": "markdown",
   "id": "df10c8f5-f530-4136-a5e1-e53cf3752acf",
   "metadata": {},
   "source": [
    "### Comprehension: Missing Orders"
   ]
  },
  {
   "cell_type": "code",
   "execution_count": 1,
   "id": "eafeb52f-c1d5-4147-aa8d-26780038f791",
   "metadata": {},
   "outputs": [],
   "source": [
    "import pandas as pd\n",
    "import numpy as np"
   ]
  },
  {
   "cell_type": "code",
   "execution_count": 2,
   "id": "86c694d8-adb7-4b53-ae8f-4cd995028d7e",
   "metadata": {},
   "outputs": [],
   "source": [
    "order_details = pd.Series([220, 115,  76, 292, 274, np.nan,  76, 339, 160,  np.nan, 138, 167, np.nan,161, np.nan, 238, 302, np.nan, 303, 226, np.nan, 113, np.nan, 343, 309, 240, 98, np.nan, np.nan, 263, 176, 259, 296,  65, 288, 229,  np.nan,  82, 224,171, np.nan, np.nan, 329,  70, 241, 135, 194, 279])"
   ]
  },
  {
   "cell_type": "code",
   "execution_count": 3,
   "id": "e9cb0b81-aaff-4165-8307-1b43125ed9d5",
   "metadata": {},
   "outputs": [
    {
     "data": {
      "text/plain": [
       "0     220.0\n",
       "1     115.0\n",
       "2      76.0\n",
       "3     292.0\n",
       "4     274.0\n",
       "5       NaN\n",
       "6      76.0\n",
       "7     339.0\n",
       "8     160.0\n",
       "9       NaN\n",
       "10    138.0\n",
       "11    167.0\n",
       "12      NaN\n",
       "13    161.0\n",
       "14      NaN\n",
       "15    238.0\n",
       "16    302.0\n",
       "17      NaN\n",
       "18    303.0\n",
       "19    226.0\n",
       "20      NaN\n",
       "21    113.0\n",
       "22      NaN\n",
       "23    343.0\n",
       "24    309.0\n",
       "25    240.0\n",
       "26     98.0\n",
       "27      NaN\n",
       "28      NaN\n",
       "29    263.0\n",
       "30    176.0\n",
       "31    259.0\n",
       "32    296.0\n",
       "33     65.0\n",
       "34    288.0\n",
       "35    229.0\n",
       "36      NaN\n",
       "37     82.0\n",
       "38    224.0\n",
       "39    171.0\n",
       "40      NaN\n",
       "41      NaN\n",
       "42    329.0\n",
       "43     70.0\n",
       "44    241.0\n",
       "45    135.0\n",
       "46    194.0\n",
       "47    279.0\n",
       "dtype: float64"
      ]
     },
     "execution_count": 3,
     "metadata": {},
     "output_type": "execute_result"
    }
   ],
   "source": [
    "order_details"
   ]
  },
  {
   "cell_type": "markdown",
   "id": "bb0febaa-f796-4694-a909-ce5f4590e87f",
   "metadata": {},
   "source": [
    "### Missing data: Null data\n",
    "\n",
    "Find percentage of missing data in dataset."
   ]
  },
  {
   "cell_type": "code",
   "execution_count": 17,
   "id": "5a17af36-8add-432c-b629-51fba164d7a7",
   "metadata": {},
   "outputs": [
    {
     "data": {
      "text/plain": [
       "12"
      ]
     },
     "execution_count": 17,
     "metadata": {},
     "output_type": "execute_result"
    }
   ],
   "source": [
    "order_details[order_details.isnull()].shape[0]"
   ]
  },
  {
   "cell_type": "code",
   "execution_count": 18,
   "id": "3bc14888-a23b-4ae2-9083-30ab2fdf04b3",
   "metadata": {},
   "outputs": [
    {
     "data": {
      "text/plain": [
       "25.0"
      ]
     },
     "execution_count": 18,
     "metadata": {},
     "output_type": "execute_result"
    }
   ],
   "source": [
    "(order_details[order_details.isnull()].shape[0] / order_details.shape[0]) * 100"
   ]
  },
  {
   "cell_type": "markdown",
   "id": "bc775003-7901-48d9-b52c-e799869bb2f4",
   "metadata": {},
   "source": [
    "### Imputation\n",
    "\n",
    "After finding the percentage of missing values, you decide to replace each missing value with the number of orders received in hour prior. \\\n",
    "What will be the average number of orders received after the imputation? (Rounded off to neared largest value)"
   ]
  },
  {
   "cell_type": "code",
   "execution_count": 19,
   "id": "08a0aa51-d263-488f-bbfc-af0f217d3f4e",
   "metadata": {},
   "outputs": [],
   "source": [
    "od_copy_df = order_details.copy()"
   ]
  },
  {
   "cell_type": "code",
   "execution_count": 23,
   "id": "3b3e5798-8fc8-453d-b77b-fbf473397996",
   "metadata": {},
   "outputs": [],
   "source": [
    "od_copy_df.fillna(method='ffill', inplace=True)"
   ]
  },
  {
   "cell_type": "code",
   "execution_count": 32,
   "id": "d6b94714-cfe0-4bd3-80a2-77d2b3ccaff5",
   "metadata": {},
   "outputs": [
    {
     "data": {
      "text/plain": [
       "201"
      ]
     },
     "execution_count": 32,
     "metadata": {},
     "output_type": "execute_result"
    }
   ],
   "source": [
    "round(od_copy_df.mean())"
   ]
  }
 ],
 "metadata": {
  "kernelspec": {
   "display_name": "Python 3 (ipykernel)",
   "language": "python",
   "name": "python3"
  },
  "language_info": {
   "codemirror_mode": {
    "name": "ipython",
    "version": 3
   },
   "file_extension": ".py",
   "mimetype": "text/x-python",
   "name": "python",
   "nbconvert_exporter": "python",
   "pygments_lexer": "ipython3",
   "version": "3.10.11"
  }
 },
 "nbformat": 4,
 "nbformat_minor": 5
}
