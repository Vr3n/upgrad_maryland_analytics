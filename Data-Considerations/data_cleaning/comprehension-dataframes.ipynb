{
 "cells": [
  {
   "cell_type": "markdown",
   "id": "a150436f-e30f-4236-825a-d8d1ecc699af",
   "metadata": {},
   "source": [
    "## Missing Values\n",
    "Which column has the highest number of missing values in the hiring data?"
   ]
  },
  {
   "cell_type": "code",
   "execution_count": 1,
   "id": "13773783-482e-4ee9-ae74-3901bf2859a5",
   "metadata": {},
   "outputs": [],
   "source": [
    "import pandas as pd\n",
    "import numpy as np"
   ]
  },
  {
   "cell_type": "code",
   "execution_count": 2,
   "id": "ecc7c7ee-564e-4fd1-91ec-6374ea4ab53b",
   "metadata": {},
   "outputs": [],
   "source": [
    "hiring_data_df = pd.read_csv('hiring_data.csv')"
   ]
  },
  {
   "cell_type": "code",
   "execution_count": 11,
   "id": "09302f0c-eb64-4200-a450-011fdad714d9",
   "metadata": {},
   "outputs": [],
   "source": [
    "missing_value_columns = hiring_data_df.isnull().sum()"
   ]
  },
  {
   "cell_type": "code",
   "execution_count": 13,
   "id": "a0eed8e4-6006-476c-85ce-527dbc784598",
   "metadata": {},
   "outputs": [],
   "source": [
    "missing_value_columns.sort_values(ascending=False, inplace=True)"
   ]
  },
  {
   "cell_type": "markdown",
   "id": "2f464d16-f2c1-41f5-a7bb-70468e9bd178",
   "metadata": {},
   "source": [
    "How many columns in the given data have more than 5 missing values?"
   ]
  },
  {
   "cell_type": "code",
   "execution_count": 18,
   "id": "2d778489-ed4b-44fc-aa80-9f64b8fd7038",
   "metadata": {},
   "outputs": [
    {
     "data": {
      "text/plain": [
       "salary            27\n",
       "specialization    11\n",
       "workex             8\n",
       "degree_b           7\n",
       "dtype: int64"
      ]
     },
     "execution_count": 18,
     "metadata": {},
     "output_type": "execute_result"
    }
   ],
   "source": [
    "missing_value_columns[missing_value_columns > 5]"
   ]
  },
  {
   "cell_type": "markdown",
   "id": "755cd424-27a2-40b5-b176-9b71302e2bff",
   "metadata": {},
   "source": [
    "How many rows in the given data have more than four missing values?"
   ]
  },
  {
   "cell_type": "code",
   "execution_count": 46,
   "id": "8489f623-a3a0-4226-b972-c4c053823cc3",
   "metadata": {},
   "outputs": [
    {
     "data": {
      "text/html": [
       "<div>\n",
       "<style scoped>\n",
       "    .dataframe tbody tr th:only-of-type {\n",
       "        vertical-align: middle;\n",
       "    }\n",
       "\n",
       "    .dataframe tbody tr th {\n",
       "        vertical-align: top;\n",
       "    }\n",
       "\n",
       "    .dataframe thead th {\n",
       "        text-align: right;\n",
       "    }\n",
       "</style>\n",
       "<table border=\"1\" class=\"dataframe\">\n",
       "  <thead>\n",
       "    <tr style=\"text-align: right;\">\n",
       "      <th></th>\n",
       "      <th>gender</th>\n",
       "      <th>degree_p</th>\n",
       "      <th>degree_b</th>\n",
       "      <th>workex</th>\n",
       "      <th>etest_p</th>\n",
       "      <th>specialization</th>\n",
       "      <th>mba_p</th>\n",
       "      <th>status</th>\n",
       "      <th>salary</th>\n",
       "    </tr>\n",
       "  </thead>\n",
       "  <tbody>\n",
       "    <tr>\n",
       "      <th>17</th>\n",
       "      <td>NaN</td>\n",
       "      <td>64.0</td>\n",
       "      <td>NaN</td>\n",
       "      <td>NaN</td>\n",
       "      <td>60.0</td>\n",
       "      <td>NaN</td>\n",
       "      <td>67.28</td>\n",
       "      <td>NaN</td>\n",
       "      <td>182000.0</td>\n",
       "    </tr>\n",
       "    <tr>\n",
       "      <th>20</th>\n",
       "      <td>NaN</td>\n",
       "      <td>72.0</td>\n",
       "      <td>NaN</td>\n",
       "      <td>NaN</td>\n",
       "      <td>NaN</td>\n",
       "      <td>NaN</td>\n",
       "      <td>78.90</td>\n",
       "      <td>NaN</td>\n",
       "      <td>123700.0</td>\n",
       "    </tr>\n",
       "    <tr>\n",
       "      <th>26</th>\n",
       "      <td>F</td>\n",
       "      <td>NaN</td>\n",
       "      <td>NaN</td>\n",
       "      <td>NaN</td>\n",
       "      <td>76.0</td>\n",
       "      <td>NaN</td>\n",
       "      <td>65.33</td>\n",
       "      <td>Not Placed</td>\n",
       "      <td>NaN</td>\n",
       "    </tr>\n",
       "  </tbody>\n",
       "</table>\n",
       "</div>"
      ],
      "text/plain": [
       "   gender  degree_p degree_b workex  etest_p specialization  mba_p  \\\n",
       "17    NaN      64.0      NaN    NaN     60.0            NaN  67.28   \n",
       "20    NaN      72.0      NaN    NaN      NaN            NaN  78.90   \n",
       "26      F       NaN      NaN    NaN     76.0            NaN  65.33   \n",
       "\n",
       "        status    salary  \n",
       "17         NaN  182000.0  \n",
       "20         NaN  123700.0  \n",
       "26  Not Placed       NaN  "
      ]
     },
     "execution_count": 46,
     "metadata": {},
     "output_type": "execute_result"
    }
   ],
   "source": [
    "hiring_data_df.loc[(hiring_data_df.isnull().sum(axis=1) > 4), :]"
   ]
  },
  {
   "cell_type": "markdown",
   "id": "55f61676-0574-4ed0-ac9a-448c63adab59",
   "metadata": {},
   "source": [
    "### Drop the Rows\n",
    "\n",
    "After finding the number of missing values, you decide to remove those rows that have more than four missing values. \\\n",
    "After removing these rows, what will be the average salary of the students who are hired?"
   ]
  },
  {
   "cell_type": "code",
   "execution_count": 52,
   "id": "3b4b79c2-1b26-4729-8d53-d0e971909ab2",
   "metadata": {},
   "outputs": [
    {
     "data": {
      "text/plain": [
       "(99, 9)"
      ]
     },
     "execution_count": 52,
     "metadata": {},
     "output_type": "execute_result"
    }
   ],
   "source": [
    "hiring_data_df.shape"
   ]
  },
  {
   "cell_type": "code",
   "execution_count": 67,
   "id": "4424c538-9755-4466-b154-88f17eea8ebd",
   "metadata": {},
   "outputs": [
    {
     "data": {
      "text/plain": [
       "131261.43"
      ]
     },
     "execution_count": 67,
     "metadata": {},
     "output_type": "execute_result"
    }
   ],
   "source": [
    "round(hiring_data_df.dropna(thresh=5)['salary'].mean(), 2)"
   ]
  },
  {
   "cell_type": "code",
   "execution_count": null,
   "id": "65ccea01-4db9-41f8-b6c0-ad45e3220b60",
   "metadata": {},
   "outputs": [],
   "source": []
  },
  {
   "cell_type": "code",
   "execution_count": null,
   "id": "f4661763-709b-418c-8cf7-9018d15f6452",
   "metadata": {},
   "outputs": [],
   "source": []
  }
 ],
 "metadata": {
  "kernelspec": {
   "display_name": "Python 3 (ipykernel)",
   "language": "python",
   "name": "python3"
  },
  "language_info": {
   "codemirror_mode": {
    "name": "ipython",
    "version": 3
   },
   "file_extension": ".py",
   "mimetype": "text/x-python",
   "name": "python",
   "nbconvert_exporter": "python",
   "pygments_lexer": "ipython3",
   "version": "3.10.11"
  }
 },
 "nbformat": 4,
 "nbformat_minor": 5
}
