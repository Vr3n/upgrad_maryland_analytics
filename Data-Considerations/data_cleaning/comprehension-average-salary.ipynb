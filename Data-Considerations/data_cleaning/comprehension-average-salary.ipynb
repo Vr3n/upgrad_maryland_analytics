{
 "cells": [
  {
   "cell_type": "markdown",
   "id": "f1b99dc1-7cc3-4f59-b509-289028b00622",
   "metadata": {},
   "source": [
    "# Comprehension: Average Salary!"
   ]
  },
  {
   "cell_type": "markdown",
   "id": "c5c38cef-f521-4d45-ba6d-5f47e80b420b",
   "metadata": {},
   "source": [
    "Let us revisit our job fair problem. You notice that there are still many inconsistencies in the data even after removing missing values. \\\n",
    "Your task is to remove these inconsistencies and find the average salary of the students."
   ]
  },
  {
   "cell_type": "code",
   "execution_count": 1,
   "id": "8574c1d4-1b60-4b5e-a630-2bf11240cf97",
   "metadata": {},
   "outputs": [],
   "source": [
    "import pandas as pd\n",
    "import numpy as np"
   ]
  },
  {
   "cell_type": "code",
   "execution_count": 58,
   "id": "770a631c-5a6c-4f51-a1a4-c0fb447b9c53",
   "metadata": {},
   "outputs": [],
   "source": [
    "hiring_data_df = pd.read_csv('hiring_data.csv')"
   ]
  },
  {
   "cell_type": "code",
   "execution_count": 59,
   "id": "c37cad87-80ec-4a86-8416-549dfb270ba7",
   "metadata": {},
   "outputs": [],
   "source": [
    "hiring_data_cl_df = hiring_data_df.dropna(thresh=5)"
   ]
  },
  {
   "cell_type": "markdown",
   "id": "cd2e6039-ac2f-4e8d-9129-afe5e8fa12a2",
   "metadata": {},
   "source": [
    "### Filter Duplicate Values\r\n",
    "\n",
    "Previously, you calculated the average salary of the students who are hired after removing the rows that had more than 4 missing values \\\n",
    " However, there are some duplicate rows in the data \\\n",
    " What is the average salary of the students after filtering out the duplicate observations as well? (Rounded off to the nearest two decimal places)"
   ]
  },
  {
   "cell_type": "code",
   "execution_count": 60,
   "id": "7e11766d-22f4-41c7-9d00-a075f880e4cd",
   "metadata": {},
   "outputs": [],
   "source": [
    "hiring_data_cl_df = hiring_data_cl_df.drop_duplicates()"
   ]
  },
  {
   "cell_type": "markdown",
   "id": "e48fc552-d687-421c-a91d-5a6ec220dcb5",
   "metadata": {},
   "source": [
    "### Replace The Values.\n",
    "\n",
    "- There are supposed to be only 3 categories in the column degree_b\n",
    "    - Sci&Tech\n",
    "    - Comm&Mgmt\n",
    "    - Others\n",
    " \n",
    "- Some entries under the categories 'Sci&Tech' and 'Comm&Mgmt' have been formatted as the abbreviations of these categories, 'S&T' and 'C&M' respectively.\n",
    "- This formatting errors add 2 new categories to the ___degree_b___ column.\n",
    "\n",
    "Replace the abbreviations with the full forms of the corresponding categories such that entire column contains only three different categories.\n",
    "\n",
    "After this operation, what is the average salary of the students who had 'Sci&Tech' degrees?"
   ]
  },
  {
   "cell_type": "code",
   "execution_count": 61,
   "id": "a0e26422-9c7e-4a96-8892-cab4972ee175",
   "metadata": {},
   "outputs": [],
   "source": [
    "hiring_data_cl_df['degree_b'] = hiring_data_cl_df['degree_b'].replace({ 'C&M': 'Comm&Mgmt', 'S&T': 'Sci&Tech' })"
   ]
  },
  {
   "cell_type": "code",
   "execution_count": 63,
   "id": "b3834b4e-5c90-45fd-b695-c087459af44e",
   "metadata": {},
   "outputs": [
    {
     "data": {
      "text/plain": [
       "139017.65"
      ]
     },
     "execution_count": 63,
     "metadata": {},
     "output_type": "execute_result"
    }
   ],
   "source": [
    "round(hiring_data_cl_df[hiring_data_cl_df['degree_b'] == 'Sci&Tech']['salary'].mean(), 2) "
   ]
  }
 ],
 "metadata": {
  "kernelspec": {
   "display_name": "Python 3 (ipykernel)",
   "language": "python",
   "name": "python3"
  },
  "language_info": {
   "codemirror_mode": {
    "name": "ipython",
    "version": 3
   },
   "file_extension": ".py",
   "mimetype": "text/x-python",
   "name": "python",
   "nbconvert_exporter": "python",
   "pygments_lexer": "ipython3",
   "version": "3.10.11"
  }
 },
 "nbformat": 4,
 "nbformat_minor": 5
}
