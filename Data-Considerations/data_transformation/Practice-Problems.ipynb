{
 "cells": [
  {
   "cell_type": "code",
   "execution_count": 2,
   "id": "8ca3a4b3-79ed-43a4-9a2f-300f8af69bba",
   "metadata": {},
   "outputs": [],
   "source": [
    "import pandas as pd\n",
    "import numpy as np"
   ]
  },
  {
   "cell_type": "code",
   "execution_count": 3,
   "id": "dbbbec31-96b1-4a0a-9d26-51d0a4117132",
   "metadata": {},
   "outputs": [],
   "source": [
    "games_df = pd.read_csv('video-game-sales.csv')"
   ]
  },
  {
   "cell_type": "markdown",
   "id": "894f0917-e090-4437-be3d-c744e4d9b173",
   "metadata": {},
   "source": [
    "### Question 1\n",
    "\n",
    "Find how many times video game names have been repeated in the rankings. (Hint: Think about duplicates)"
   ]
  },
  {
   "cell_type": "code",
   "execution_count": 4,
   "id": "37d34047-e426-453c-b85a-118d9beca712",
   "metadata": {},
   "outputs": [],
   "source": [
    "games_df.set_index('Rank', inplace=True)"
   ]
  },
  {
   "cell_type": "code",
   "execution_count": 5,
   "id": "01f95002-f205-4a87-9410-a6cbf57406f9",
   "metadata": {},
   "outputs": [
    {
     "data": {
      "text/html": [
       "<div>\n",
       "<style scoped>\n",
       "    .dataframe tbody tr th:only-of-type {\n",
       "        vertical-align: middle;\n",
       "    }\n",
       "\n",
       "    .dataframe tbody tr th {\n",
       "        vertical-align: top;\n",
       "    }\n",
       "\n",
       "    .dataframe thead th {\n",
       "        text-align: right;\n",
       "    }\n",
       "</style>\n",
       "<table border=\"1\" class=\"dataframe\">\n",
       "  <thead>\n",
       "    <tr style=\"text-align: right;\">\n",
       "      <th></th>\n",
       "      <th>Name</th>\n",
       "      <th>Platform</th>\n",
       "      <th>Year</th>\n",
       "      <th>Genre</th>\n",
       "      <th>Publisher</th>\n",
       "      <th>NA_Sales</th>\n",
       "      <th>EU_Sales</th>\n",
       "      <th>JP_Sales</th>\n",
       "      <th>Other_Sales</th>\n",
       "    </tr>\n",
       "    <tr>\n",
       "      <th>Rank</th>\n",
       "      <th></th>\n",
       "      <th></th>\n",
       "      <th></th>\n",
       "      <th></th>\n",
       "      <th></th>\n",
       "      <th></th>\n",
       "      <th></th>\n",
       "      <th></th>\n",
       "      <th></th>\n",
       "    </tr>\n",
       "  </thead>\n",
       "  <tbody>\n",
       "    <tr>\n",
       "      <th>1</th>\n",
       "      <td>Wii Sports</td>\n",
       "      <td>Wii</td>\n",
       "      <td>2006.0</td>\n",
       "      <td>Sports</td>\n",
       "      <td>Nintendo</td>\n",
       "      <td>41.49</td>\n",
       "      <td>29.02</td>\n",
       "      <td>3.77</td>\n",
       "      <td>8.46</td>\n",
       "    </tr>\n",
       "    <tr>\n",
       "      <th>2</th>\n",
       "      <td>Super Mario Bros.</td>\n",
       "      <td>NES</td>\n",
       "      <td>1985.0</td>\n",
       "      <td>Platform</td>\n",
       "      <td>Nintendo</td>\n",
       "      <td>29.08</td>\n",
       "      <td>3.58</td>\n",
       "      <td>6.81</td>\n",
       "      <td>0.77</td>\n",
       "    </tr>\n",
       "    <tr>\n",
       "      <th>3</th>\n",
       "      <td>Mario Kart Wii</td>\n",
       "      <td>Wii</td>\n",
       "      <td>2008.0</td>\n",
       "      <td>Racing</td>\n",
       "      <td>Nintendo</td>\n",
       "      <td>15.85</td>\n",
       "      <td>12.88</td>\n",
       "      <td>3.79</td>\n",
       "      <td>3.31</td>\n",
       "    </tr>\n",
       "    <tr>\n",
       "      <th>4</th>\n",
       "      <td>Wii Sports Resort</td>\n",
       "      <td>Wii</td>\n",
       "      <td>2009.0</td>\n",
       "      <td>Sports</td>\n",
       "      <td>Nintendo</td>\n",
       "      <td>15.75</td>\n",
       "      <td>11.01</td>\n",
       "      <td>3.28</td>\n",
       "      <td>2.96</td>\n",
       "    </tr>\n",
       "    <tr>\n",
       "      <th>5</th>\n",
       "      <td>Pokemon Red/Pokemon Blue</td>\n",
       "      <td>GB</td>\n",
       "      <td>1996.0</td>\n",
       "      <td>Role-Playing</td>\n",
       "      <td>Nintendo</td>\n",
       "      <td>11.27</td>\n",
       "      <td>8.89</td>\n",
       "      <td>10.22</td>\n",
       "      <td>1.00</td>\n",
       "    </tr>\n",
       "  </tbody>\n",
       "</table>\n",
       "</div>"
      ],
      "text/plain": [
       "                          Name Platform    Year         Genre Publisher  \\\n",
       "Rank                                                                      \n",
       "1                   Wii Sports      Wii  2006.0        Sports  Nintendo   \n",
       "2            Super Mario Bros.      NES  1985.0      Platform  Nintendo   \n",
       "3               Mario Kart Wii      Wii  2008.0        Racing  Nintendo   \n",
       "4            Wii Sports Resort      Wii  2009.0        Sports  Nintendo   \n",
       "5     Pokemon Red/Pokemon Blue       GB  1996.0  Role-Playing  Nintendo   \n",
       "\n",
       "      NA_Sales  EU_Sales  JP_Sales  Other_Sales  \n",
       "Rank                                             \n",
       "1        41.49     29.02      3.77         8.46  \n",
       "2        29.08      3.58      6.81         0.77  \n",
       "3        15.85     12.88      3.79         3.31  \n",
       "4        15.75     11.01      3.28         2.96  \n",
       "5        11.27      8.89     10.22         1.00  "
      ]
     },
     "execution_count": 5,
     "metadata": {},
     "output_type": "execute_result"
    }
   ],
   "source": [
    "games_df.head()"
   ]
  },
  {
   "cell_type": "markdown",
   "id": "69ee31ff-f82d-4884-be21-a910b09eba96",
   "metadata": {},
   "source": [
    "### Question 1\n",
    "\n",
    "Find how many times video game names have been repeated in the rankings. (Hint: Think about duplicates)\r\n"
   ]
  },
  {
   "cell_type": "code",
   "execution_count": 11,
   "id": "2f06fdb5-9690-4da4-b993-30d46de338c8",
   "metadata": {},
   "outputs": [
    {
     "data": {
      "text/plain": [
       "Name\n",
       "Need for Speed: Most Wanted            11\n",
       "Madden NFL 07                           8\n",
       "FIFA 14                                 8\n",
       "LEGO Marvel Super Heroes                8\n",
       "Ratatouille                             8\n",
       "                                       ..\n",
       "Anarchy Reigns                          1\n",
       "Senran Kagura: Estival Versus           1\n",
       "Splatterhouse                           1\n",
       "Leisure Suit Larry: Magna Cum Laude     1\n",
       "Spirits & Spells                        1\n",
       "Name: count, Length: 2775, dtype: int64"
      ]
     },
     "execution_count": 11,
     "metadata": {},
     "output_type": "execute_result"
    }
   ],
   "source": [
    "games_df[games_df['Name'].duplicated()]['Name'].value_counts()"
   ]
  },
  {
   "cell_type": "markdown",
   "id": "6b3548e8-2af5-4a37-a4e3-0be7958b5644",
   "metadata": {},
   "source": [
    "### Question 2\n",
    "\n",
    "The publishers Nintendo and Activision have merged to form a new company, Nintivision. Permanently update this information in the data set."
   ]
  },
  {
   "cell_type": "code",
   "execution_count": 13,
   "id": "6c616b71-8c79-433e-b34f-79b7072098e3",
   "metadata": {},
   "outputs": [],
   "source": [
    "games_df['Publisher'] = games_df['Publisher'].replace({ 'Nintendo': 'Nintivision', 'Activision': 'Nintivision' })"
   ]
  },
  {
   "cell_type": "code",
   "execution_count": 21,
   "id": "e20eeeb7-31c7-423e-b011-5aff062f93ae",
   "metadata": {},
   "outputs": [
    {
     "data": {
      "text/plain": [
       "True"
      ]
     },
     "execution_count": 21,
     "metadata": {},
     "output_type": "execute_result"
    }
   ],
   "source": [
    "(games_df['Publisher'] == \"Nintivision\").any()"
   ]
  },
  {
   "cell_type": "markdown",
   "id": "096a0fa8-aa1c-4b34-8a36-34665d4039ba",
   "metadata": {},
   "source": [
    "### Question 3\n",
    "\n",
    "Classify the games in the data set into Old School (released before 1990), New Wave (released between 1990 and 2014), and Futuristic (released after 2014)."
   ]
  },
  {
   "cell_type": "code",
   "execution_count": 41,
   "id": "87dd6a47-d207-4ccd-b04c-961c00b69eb9",
   "metadata": {},
   "outputs": [],
   "source": [
    "bin_labels = ['Old School', 'New Wave', 'Futuristic']\n",
    "bins = [1980, 1990, 2014, 2020]"
   ]
  },
  {
   "cell_type": "code",
   "execution_count": 42,
   "id": "433342aa-62dc-4394-a09b-307be2babe64",
   "metadata": {},
   "outputs": [],
   "source": [
    "games_df['Gen'] = pd.cut(games_df['Year'], bins=bins, labels=bin_labels)"
   ]
  },
  {
   "cell_type": "code",
   "execution_count": 46,
   "id": "02d31e2f-42cc-4c1d-a86a-26e7ca93baad",
   "metadata": {},
   "outputs": [
    {
     "data": {
      "text/plain": [
       "Gen\n",
       "Old School    196\n",
       "New Wave        0\n",
       "Futuristic      0\n",
       "Name: count, dtype: int64"
      ]
     },
     "execution_count": 46,
     "metadata": {},
     "output_type": "execute_result"
    }
   ],
   "source": [
    "games_df[(games_df['Year'] < 1990)]['Gen'].value_counts()"
   ]
  },
  {
   "cell_type": "code",
   "execution_count": null,
   "id": "5c8c17cf-5abc-4197-b4e1-47c28690b6a0",
   "metadata": {},
   "outputs": [],
   "source": []
  }
 ],
 "metadata": {
  "kernelspec": {
   "display_name": "Python 3 (ipykernel)",
   "language": "python",
   "name": "python3"
  },
  "language_info": {
   "codemirror_mode": {
    "name": "ipython",
    "version": 3
   },
   "file_extension": ".py",
   "mimetype": "text/x-python",
   "name": "python",
   "nbconvert_exporter": "python",
   "pygments_lexer": "ipython3",
   "version": "3.10.11"
  }
 },
 "nbformat": 4,
 "nbformat_minor": 5
}
