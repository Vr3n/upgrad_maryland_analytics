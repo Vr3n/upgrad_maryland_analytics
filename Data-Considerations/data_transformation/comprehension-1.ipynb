{
 "cells": [
  {
   "cell_type": "code",
   "execution_count": 45,
   "id": "186ef329-e1dc-4da5-91e3-67824e654c70",
   "metadata": {},
   "outputs": [],
   "source": [
    "import pandas as pd\n",
    "import numpy as np"
   ]
  },
  {
   "cell_type": "code",
   "execution_count": 64,
   "id": "654b53cb-433a-44ed-a500-71dc333c68b8",
   "metadata": {},
   "outputs": [],
   "source": [
    "job_fare_df = pd.read_csv('hiring_data.csv')"
   ]
  },
  {
   "cell_type": "code",
   "execution_count": 65,
   "id": "ba6e5579-c8db-4747-9ffc-d50b74a32a6c",
   "metadata": {},
   "outputs": [],
   "source": [
    "job_fare_df = job_fare_df.dropna(thresh=5)"
   ]
  },
  {
   "cell_type": "code",
   "execution_count": 66,
   "id": "507f1013-af67-4454-b72a-d74b0810e13f",
   "metadata": {},
   "outputs": [],
   "source": [
    "job_fare_df = job_fare_df.drop_duplicates()"
   ]
  },
  {
   "cell_type": "code",
   "execution_count": 67,
   "id": "edf4f2df-ff42-40b3-a157-09ccb4dcc90e",
   "metadata": {},
   "outputs": [],
   "source": [
    "job_fare_df['degree_b'] = job_fare_df['degree_b'].replace({ 'C&M': 'Comm&Mgmt', 'S&T': 'Sci&Tech' })"
   ]
  },
  {
   "cell_type": "markdown",
   "id": "e5b75f20-3ccd-406a-94aa-36cc3e9d3bd2",
   "metadata": {},
   "source": [
    "discretize the values of the column etest_p into three quantiles, ['Low', 'Average', 'High'], and store the result in a new column, etest_c."
   ]
  },
  {
   "cell_type": "code",
   "execution_count": 68,
   "id": "72b72f3a-083a-4f3c-8112-7a4ac8532263",
   "metadata": {},
   "outputs": [
    {
     "data": {
      "text/plain": [
       "count    93.000000\n",
       "mean     72.374409\n",
       "std      13.020782\n",
       "min      50.000000\n",
       "25%      63.000000\n",
       "50%      69.000000\n",
       "75%      84.000000\n",
       "max      97.400000\n",
       "Name: etest_p, dtype: float64"
      ]
     },
     "execution_count": 68,
     "metadata": {},
     "output_type": "execute_result"
    }
   ],
   "source": [
    "job_fare_df['etest_p'].describe()"
   ]
  },
  {
   "cell_type": "markdown",
   "id": "4092b56e-a4fc-4698-8807-18b15165a9de",
   "metadata": {},
   "source": [
    "## Dividing into 4 quantiles."
   ]
  },
  {
   "cell_type": "code",
   "execution_count": 69,
   "id": "5e3f2beb-ff17-429d-8870-9a16ffdbfcf8",
   "metadata": {},
   "outputs": [],
   "source": [
    "bin_labels=['Low', 'Average', 'High']\n",
    "job_fare_df['etest_c'] = pd.qcut(job_fare_df['etest_p'], q=3, labels=bin_labels)"
   ]
  },
  {
   "cell_type": "code",
   "execution_count": 70,
   "id": "cb36ff4e-f943-4fc0-8b9f-53090321061d",
   "metadata": {},
   "outputs": [
    {
     "data": {
      "text/plain": [
       "31"
      ]
     },
     "execution_count": 70,
     "metadata": {},
     "output_type": "execute_result"
    }
   ],
   "source": [
    "job_fare_df[job_fare_df['etest_c'] == 'High']['etest_c'].count()"
   ]
  },
  {
   "cell_type": "code",
   "execution_count": 71,
   "id": "2ad46369-5ed2-4ebf-aafb-790b3a0570f1",
   "metadata": {},
   "outputs": [
    {
     "data": {
      "text/plain": [
       "22"
      ]
     },
     "execution_count": 71,
     "metadata": {},
     "output_type": "execute_result"
    }
   ],
   "source": [
    "job_fare_df[(job_fare_df['etest_c'] == 'Low') & (job_fare_df['status'] == 'Placed')]['status'].count()"
   ]
  },
  {
   "cell_type": "markdown",
   "id": "c3fd9c30-801b-4cd3-a09a-4f6309852d1c",
   "metadata": {},
   "source": [
    "## Average salary of high scoring students"
   ]
  },
  {
   "cell_type": "markdown",
   "id": "91bb0c2c-6d5a-48d8-a697-3fa19fd0ee78",
   "metadata": {},
   "source": [
    "What is the average salary of students who scored high on their employability test (rounded to 2 decimal places)?"
   ]
  },
  {
   "cell_type": "code",
   "execution_count": 72,
   "id": "3680075a-3987-4eaf-93cf-4666704081fd",
   "metadata": {},
   "outputs": [
    {
     "data": {
      "text/plain": [
       "140385.19"
      ]
     },
     "execution_count": 72,
     "metadata": {},
     "output_type": "execute_result"
    }
   ],
   "source": [
    "round(job_fare_df[job_fare_df['etest_c'] == 'High']['salary'].mean(), 2)"
   ]
  },
  {
   "cell_type": "markdown",
   "id": "42417a3a-ccae-4bdb-b4d0-397b6a70b4ec",
   "metadata": {},
   "source": [
    "### Filling NaN values\n",
    "\n",
    "- \n",
    "Fill in all the NaN values in the salary column with the average salary of their respective quartile (e.g., the NaN salary of a student who scored low should be filled in with the average salary of all the students who scored low on the employability test).\n",
    "-  After filling in these values, what is the average salary of all the students?"
   ]
  },
  {
   "cell_type": "code",
   "execution_count": 85,
   "id": "f501bf63-71a6-4cb1-bb95-172cc6e18e87",
   "metadata": {},
   "outputs": [],
   "source": [
    "salary_mean_value = job_fare_df['salary'].mean()"
   ]
  },
  {
   "cell_type": "code",
   "execution_count": 86,
   "id": "3aacd26e-bd27-4053-9155-69ace0e025ef",
   "metadata": {},
   "outputs": [
    {
     "name": "stdout",
     "output_type": "stream",
     "text": [
      "122004.34782608696\n",
      "127517.64705882352\n",
      "140385.1851851852\n"
     ]
    }
   ],
   "source": [
    "for bin in bin_labels:\n",
    "    mean_value = job_fare_df.loc[job_fare_df['etest_c'] == str(bin), 'salary'].mean()\n",
    "    print(mean_value)\n",
    "    job_fare_df.loc[job_fare_df['etest_c'] == bin, 'salary'] = job_fare_df.loc[job_fare_df['etest_c'] == bin, 'salary'].fillna(value=mean_value)"
   ]
  },
  {
   "cell_type": "code",
   "execution_count": 89,
   "id": "b032da44-94a4-4be1-b635-bc0eaea93312",
   "metadata": {},
   "outputs": [
    {
     "data": {
      "text/plain": [
       "130442.65"
      ]
     },
     "execution_count": 89,
     "metadata": {},
     "output_type": "execute_result"
    }
   ],
   "source": [
    "round(job_fare_df['salary'].mean(), 2)"
   ]
  },
  {
   "cell_type": "code",
   "execution_count": null,
   "id": "cd83273f-baae-4f28-8462-181f16ac234d",
   "metadata": {},
   "outputs": [],
   "source": []
  }
 ],
 "metadata": {
  "kernelspec": {
   "display_name": "Python 3 (ipykernel)",
   "language": "python",
   "name": "python3"
  },
  "language_info": {
   "codemirror_mode": {
    "name": "ipython",
    "version": 3
   },
   "file_extension": ".py",
   "mimetype": "text/x-python",
   "name": "python",
   "nbconvert_exporter": "python",
   "pygments_lexer": "ipython3",
   "version": "3.10.11"
  }
 },
 "nbformat": 4,
 "nbformat_minor": 5
}
