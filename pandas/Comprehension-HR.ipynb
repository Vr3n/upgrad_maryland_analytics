{
 "cells": [
  {
   "cell_type": "code",
   "execution_count": 26,
   "id": "702dc0eb-b1fb-4c2e-98f2-10014e9fb7c4",
   "metadata": {},
   "outputs": [
    {
     "data": {
      "text/html": [
       "<div>\n",
       "<style scoped>\n",
       "    .dataframe tbody tr th:only-of-type {\n",
       "        vertical-align: middle;\n",
       "    }\n",
       "\n",
       "    .dataframe tbody tr th {\n",
       "        vertical-align: top;\n",
       "    }\n",
       "\n",
       "    .dataframe thead th {\n",
       "        text-align: right;\n",
       "    }\n",
       "</style>\n",
       "<table border=\"1\" class=\"dataframe\">\n",
       "  <thead>\n",
       "    <tr style=\"text-align: right;\">\n",
       "      <th></th>\n",
       "      <th>name</th>\n",
       "      <th>age</th>\n",
       "      <th>gender</th>\n",
       "      <th>start_date</th>\n",
       "      <th>salary</th>\n",
       "    </tr>\n",
       "  </thead>\n",
       "  <tbody>\n",
       "    <tr>\n",
       "      <th>1</th>\n",
       "      <td>George</td>\n",
       "      <td>25</td>\n",
       "      <td>M</td>\n",
       "      <td>02-01-2022</td>\n",
       "      <td>50000</td>\n",
       "    </tr>\n",
       "    <tr>\n",
       "      <th>2</th>\n",
       "      <td>Jill</td>\n",
       "      <td>24</td>\n",
       "      <td>F</td>\n",
       "      <td>02-01-2022</td>\n",
       "      <td>48000</td>\n",
       "    </tr>\n",
       "    <tr>\n",
       "      <th>3</th>\n",
       "      <td>Thomas</td>\n",
       "      <td>24</td>\n",
       "      <td>M</td>\n",
       "      <td>02-02-2022</td>\n",
       "      <td>45000</td>\n",
       "    </tr>\n",
       "    <tr>\n",
       "      <th>4</th>\n",
       "      <td>Jim</td>\n",
       "      <td>27</td>\n",
       "      <td>F</td>\n",
       "      <td>02-03-2022</td>\n",
       "      <td>60000</td>\n",
       "    </tr>\n",
       "    <tr>\n",
       "      <th>5</th>\n",
       "      <td>Shelby</td>\n",
       "      <td>26</td>\n",
       "      <td>F</td>\n",
       "      <td>02-04-2022</td>\n",
       "      <td>55000</td>\n",
       "    </tr>\n",
       "  </tbody>\n",
       "</table>\n",
       "</div>"
      ],
      "text/plain": [
       "     name  age gender  start_date  salary\n",
       "1  George   25      M  02-01-2022   50000\n",
       "2    Jill   24      F  02-01-2022   48000\n",
       "3  Thomas   24      M  02-02-2022   45000\n",
       "4     Jim   27      F  02-03-2022   60000\n",
       "5  Shelby   26      F  02-04-2022   55000"
      ]
     },
     "execution_count": 26,
     "metadata": {},
     "output_type": "execute_result"
    }
   ],
   "source": [
    "# Importing the required library\n",
    "import pandas as pd\n",
    "import numpy as np\n",
    " \n",
    "# Creating a DataFrame 'new_employees'\n",
    "new_employees = pd.DataFrame({'name': ['George', 'Jill', 'Thomas', 'Jim', 'Shelby'], 'age': [25, 24, 24, 27, 26],  'gender': ['M', 'F', 'M', 'F', 'F'], 'start_date': ['02-01-2022', '02-01-2022', '02-02-2022', '02-03-2022', '02-04-2022'],'salary': [50000, 48000, 45000, 60000, 55000]},index=[1, 2, 3, 4, 5])\n",
    " \n",
    "# Printing the DataFrame\n",
    "new_employees"
   ]
  },
  {
   "cell_type": "code",
   "execution_count": 27,
   "id": "9166a0ba-41cc-483c-b2e8-cbebc18d951a",
   "metadata": {},
   "outputs": [
    {
     "data": {
      "text/plain": [
       "2"
      ]
     },
     "execution_count": 27,
     "metadata": {},
     "output_type": "execute_result"
    }
   ],
   "source": [
    "new_employees.loc[(new_employees == '02-01-2022').any(axis=1), 'name'].count()"
   ]
  },
  {
   "cell_type": "code",
   "execution_count": 28,
   "id": "1694f530-e98d-4084-8b61-634e808093d6",
   "metadata": {},
   "outputs": [
    {
     "data": {
      "text/html": [
       "<div>\n",
       "<style scoped>\n",
       "    .dataframe tbody tr th:only-of-type {\n",
       "        vertical-align: middle;\n",
       "    }\n",
       "\n",
       "    .dataframe tbody tr th {\n",
       "        vertical-align: top;\n",
       "    }\n",
       "\n",
       "    .dataframe thead th {\n",
       "        text-align: right;\n",
       "    }\n",
       "</style>\n",
       "<table border=\"1\" class=\"dataframe\">\n",
       "  <thead>\n",
       "    <tr style=\"text-align: right;\">\n",
       "      <th></th>\n",
       "      <th>name</th>\n",
       "      <th>salary</th>\n",
       "    </tr>\n",
       "  </thead>\n",
       "  <tbody>\n",
       "    <tr>\n",
       "      <th>2</th>\n",
       "      <td>Jill</td>\n",
       "      <td>48000</td>\n",
       "    </tr>\n",
       "    <tr>\n",
       "      <th>3</th>\n",
       "      <td>Thomas</td>\n",
       "      <td>45000</td>\n",
       "    </tr>\n",
       "  </tbody>\n",
       "</table>\n",
       "</div>"
      ],
      "text/plain": [
       "     name  salary\n",
       "2    Jill   48000\n",
       "3  Thomas   45000"
      ]
     },
     "execution_count": 28,
     "metadata": {},
     "output_type": "execute_result"
    }
   ],
   "source": [
    "new_employees.loc[new_employees['salary'] < 50_000, ['name', 'salary']]"
   ]
  },
  {
   "cell_type": "code",
   "execution_count": 31,
   "id": "9277c03d-d0c1-4b2c-ae3e-8ff2e90ed7ea",
   "metadata": {},
   "outputs": [
    {
     "data": {
      "text/html": [
       "<div>\n",
       "<style scoped>\n",
       "    .dataframe tbody tr th:only-of-type {\n",
       "        vertical-align: middle;\n",
       "    }\n",
       "\n",
       "    .dataframe tbody tr th {\n",
       "        vertical-align: top;\n",
       "    }\n",
       "\n",
       "    .dataframe thead th {\n",
       "        text-align: right;\n",
       "    }\n",
       "</style>\n",
       "<table border=\"1\" class=\"dataframe\">\n",
       "  <thead>\n",
       "    <tr style=\"text-align: right;\">\n",
       "      <th></th>\n",
       "      <th>name</th>\n",
       "      <th>age</th>\n",
       "      <th>gender</th>\n",
       "      <th>start_date</th>\n",
       "      <th>salary</th>\n",
       "      <th>team</th>\n",
       "    </tr>\n",
       "  </thead>\n",
       "  <tbody>\n",
       "    <tr>\n",
       "      <th>1</th>\n",
       "      <td>George</td>\n",
       "      <td>25</td>\n",
       "      <td>M</td>\n",
       "      <td>02-01-2022</td>\n",
       "      <td>50000</td>\n",
       "      <td>HR</td>\n",
       "    </tr>\n",
       "    <tr>\n",
       "      <th>2</th>\n",
       "      <td>Jill</td>\n",
       "      <td>24</td>\n",
       "      <td>F</td>\n",
       "      <td>02-01-2022</td>\n",
       "      <td>48000</td>\n",
       "      <td>Sales</td>\n",
       "    </tr>\n",
       "    <tr>\n",
       "      <th>3</th>\n",
       "      <td>Thomas</td>\n",
       "      <td>24</td>\n",
       "      <td>M</td>\n",
       "      <td>02-02-2022</td>\n",
       "      <td>45000</td>\n",
       "      <td>Administration</td>\n",
       "    </tr>\n",
       "    <tr>\n",
       "      <th>4</th>\n",
       "      <td>Jim</td>\n",
       "      <td>27</td>\n",
       "      <td>F</td>\n",
       "      <td>02-03-2022</td>\n",
       "      <td>60000</td>\n",
       "      <td>Sales</td>\n",
       "    </tr>\n",
       "    <tr>\n",
       "      <th>5</th>\n",
       "      <td>Shelby</td>\n",
       "      <td>26</td>\n",
       "      <td>F</td>\n",
       "      <td>02-04-2022</td>\n",
       "      <td>55000</td>\n",
       "      <td>Technology</td>\n",
       "    </tr>\n",
       "  </tbody>\n",
       "</table>\n",
       "</div>"
      ],
      "text/plain": [
       "     name  age gender  start_date  salary            team\n",
       "1  George   25      M  02-01-2022   50000              HR\n",
       "2    Jill   24      F  02-01-2022   48000           Sales\n",
       "3  Thomas   24      M  02-02-2022   45000  Administration\n",
       "4     Jim   27      F  02-03-2022   60000           Sales\n",
       "5  Shelby   26      F  02-04-2022   55000      Technology"
      ]
     },
     "execution_count": 31,
     "metadata": {},
     "output_type": "execute_result"
    }
   ],
   "source": [
    "new_employees[\"team\"] = [\"HR\", \"Sales\", \"Administration\", \"Sales\", \"Technology\"]\n",
    "new_employees"
   ]
  },
  {
   "cell_type": "code",
   "execution_count": 30,
   "id": "4fb2491d-fb80-4ef5-a0a6-503d5dfbec7a",
   "metadata": {},
   "outputs": [
    {
     "data": {
      "text/plain": [
       "0                HR\n",
       "1             Sales\n",
       "2    Administration\n",
       "3             Sales\n",
       "4        Technology\n",
       "dtype: object"
      ]
     },
     "execution_count": 30,
     "metadata": {},
     "output_type": "execute_result"
    }
   ],
   "source": [
    "pd.Series(np.array(['HR', 'Sales', 'Administration', 'Sales', 'Technology']))"
   ]
  },
  {
   "cell_type": "code",
   "execution_count": 36,
   "id": "4e4e7073-1817-4550-931c-29cb41e51ad7",
   "metadata": {},
   "outputs": [
    {
     "data": {
      "text/html": [
       "<div>\n",
       "<style scoped>\n",
       "    .dataframe tbody tr th:only-of-type {\n",
       "        vertical-align: middle;\n",
       "    }\n",
       "\n",
       "    .dataframe tbody tr th {\n",
       "        vertical-align: top;\n",
       "    }\n",
       "\n",
       "    .dataframe thead th {\n",
       "        text-align: right;\n",
       "    }\n",
       "</style>\n",
       "<table border=\"1\" class=\"dataframe\">\n",
       "  <thead>\n",
       "    <tr style=\"text-align: right;\">\n",
       "      <th></th>\n",
       "      <th>name</th>\n",
       "      <th>gender</th>\n",
       "      <th>start_date</th>\n",
       "      <th>team</th>\n",
       "    </tr>\n",
       "  </thead>\n",
       "  <tbody>\n",
       "    <tr>\n",
       "      <th>1</th>\n",
       "      <td>George</td>\n",
       "      <td>M</td>\n",
       "      <td>02-01-2022</td>\n",
       "      <td>HR</td>\n",
       "    </tr>\n",
       "    <tr>\n",
       "      <th>2</th>\n",
       "      <td>Jill</td>\n",
       "      <td>F</td>\n",
       "      <td>02-01-2022</td>\n",
       "      <td>Sales</td>\n",
       "    </tr>\n",
       "    <tr>\n",
       "      <th>3</th>\n",
       "      <td>Thomas</td>\n",
       "      <td>M</td>\n",
       "      <td>02-02-2022</td>\n",
       "      <td>Administration</td>\n",
       "    </tr>\n",
       "    <tr>\n",
       "      <th>4</th>\n",
       "      <td>Jim</td>\n",
       "      <td>F</td>\n",
       "      <td>02-03-2022</td>\n",
       "      <td>Sales</td>\n",
       "    </tr>\n",
       "    <tr>\n",
       "      <th>5</th>\n",
       "      <td>Shelby</td>\n",
       "      <td>F</td>\n",
       "      <td>02-04-2022</td>\n",
       "      <td>Technology</td>\n",
       "    </tr>\n",
       "  </tbody>\n",
       "</table>\n",
       "</div>"
      ],
      "text/plain": [
       "     name gender  start_date            team\n",
       "1  George      M  02-01-2022              HR\n",
       "2    Jill      F  02-01-2022           Sales\n",
       "3  Thomas      M  02-02-2022  Administration\n",
       "4     Jim      F  02-03-2022           Sales\n",
       "5  Shelby      F  02-04-2022      Technology"
      ]
     },
     "execution_count": 36,
     "metadata": {},
     "output_type": "execute_result"
    }
   ],
   "source": [
    "df_admin = new_employees.drop([\"age\", \"salary\"], axis=1)\n",
    "df_admin"
   ]
  },
  {
   "cell_type": "code",
   "execution_count": null,
   "id": "e8e91cfd-e7c8-40dd-8b1a-4ad6019c184c",
   "metadata": {},
   "outputs": [],
   "source": []
  }
 ],
 "metadata": {
  "kernelspec": {
   "display_name": "Python 3 (ipykernel)",
   "language": "python",
   "name": "python3"
  },
  "language_info": {
   "codemirror_mode": {
    "name": "ipython",
    "version": 3
   },
   "file_extension": ".py",
   "mimetype": "text/x-python",
   "name": "python",
   "nbconvert_exporter": "python",
   "pygments_lexer": "ipython3",
   "version": "3.10.11"
  }
 },
 "nbformat": 4,
 "nbformat_minor": 5
}
