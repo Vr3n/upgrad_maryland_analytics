{
 "cells": [
  {
   "cell_type": "markdown",
   "id": "2f9ffc07-c8b4-4cee-8612-eac01d99125b",
   "metadata": {},
   "source": [
    "### Problem STatmeent\n",
    "\n",
    "Let's assume you are back at the backery and they need your help again to analyze their weekly sales data.\n",
    "\n",
    "1. A data entry error was made for Thursday's quantity of pie slices. Modify the value to 95.\n",
    "2. The store wants to do some analysis on its saturday sales as well. On Saturday, 87 cupcakes, 211 pie slices, and 186 brownies were sold. Modify the DataFrame to include these data points.\n",
    "3. The store decides to temporarily discard Thursday's sales from its data analysis. Remove this column without permanently removing it.\n",
    "4. __Challenge__: The store just added Cookies to its product line-up selling _15_ on Friday and _25_ on Saturday. Modify the DataFrame to include these data points without using any type of append funciton. Use Logic instead."
   ]
  },
  {
   "cell_type": "code",
   "execution_count": 1,
   "id": "3af1a05e-de2a-4c7a-8253-3abbd03a19ac",
   "metadata": {},
   "outputs": [],
   "source": [
    "import numpy as np\n",
    "import pandas as pd"
   ]
  },
  {
   "cell_type": "code",
   "execution_count": 2,
   "id": "f8c91b76-3eb5-43c5-bf96-027fdf5b8bbd",
   "metadata": {},
   "outputs": [],
   "source": [
    "product_sales = pd.DataFrame({'Monday': [32, 152, 94], 'Tuesday': [45, 109, 114], \\\n",
    "                             'Wednesday': [15, 77, 85], 'Thursday': [29, 85, 132], \\\n",
    "                             'Friday': [63, 143, 101]}, \\\n",
    "                             index=['Cupcakes', 'Pie Slices', 'Brownies'])"
   ]
  },
  {
   "cell_type": "code",
   "execution_count": 3,
   "id": "06426d3f-5627-4749-b65e-a3abee6459f1",
   "metadata": {},
   "outputs": [
    {
     "data": {
      "text/html": [
       "<div>\n",
       "<style scoped>\n",
       "    .dataframe tbody tr th:only-of-type {\n",
       "        vertical-align: middle;\n",
       "    }\n",
       "\n",
       "    .dataframe tbody tr th {\n",
       "        vertical-align: top;\n",
       "    }\n",
       "\n",
       "    .dataframe thead th {\n",
       "        text-align: right;\n",
       "    }\n",
       "</style>\n",
       "<table border=\"1\" class=\"dataframe\">\n",
       "  <thead>\n",
       "    <tr style=\"text-align: right;\">\n",
       "      <th></th>\n",
       "      <th>Monday</th>\n",
       "      <th>Tuesday</th>\n",
       "      <th>Wednesday</th>\n",
       "      <th>Thursday</th>\n",
       "      <th>Friday</th>\n",
       "    </tr>\n",
       "  </thead>\n",
       "  <tbody>\n",
       "    <tr>\n",
       "      <th>Cupcakes</th>\n",
       "      <td>32</td>\n",
       "      <td>45</td>\n",
       "      <td>15</td>\n",
       "      <td>29</td>\n",
       "      <td>63</td>\n",
       "    </tr>\n",
       "    <tr>\n",
       "      <th>Pie Slices</th>\n",
       "      <td>152</td>\n",
       "      <td>109</td>\n",
       "      <td>77</td>\n",
       "      <td>85</td>\n",
       "      <td>143</td>\n",
       "    </tr>\n",
       "    <tr>\n",
       "      <th>Brownies</th>\n",
       "      <td>94</td>\n",
       "      <td>114</td>\n",
       "      <td>85</td>\n",
       "      <td>132</td>\n",
       "      <td>101</td>\n",
       "    </tr>\n",
       "  </tbody>\n",
       "</table>\n",
       "</div>"
      ],
      "text/plain": [
       "            Monday  Tuesday  Wednesday  Thursday  Friday\n",
       "Cupcakes        32       45         15        29      63\n",
       "Pie Slices     152      109         77        85     143\n",
       "Brownies        94      114         85       132     101"
      ]
     },
     "execution_count": 3,
     "metadata": {},
     "output_type": "execute_result"
    }
   ],
   "source": [
    "product_sales"
   ]
  },
  {
   "cell_type": "markdown",
   "id": "0b72d198-963b-4ebc-9f42-5bc4cf577d0c",
   "metadata": {},
   "source": [
    "##### 1.A data entry error was made for Thursday's quantity of pie slices. Modify the value to 95.\n",
    "\n",
    "We can use `loc` attribute to locate the ___\"Pie Slices\"___ and then query ___\"Thursday___. \n",
    "Assign the value 95 to the query."
   ]
  },
  {
   "cell_type": "code",
   "execution_count": 16,
   "id": "e9c23cd9-2ba1-457d-a0c5-f43a4b1c7717",
   "metadata": {},
   "outputs": [
    {
     "data": {
      "text/html": [
       "<div>\n",
       "<style scoped>\n",
       "    .dataframe tbody tr th:only-of-type {\n",
       "        vertical-align: middle;\n",
       "    }\n",
       "\n",
       "    .dataframe tbody tr th {\n",
       "        vertical-align: top;\n",
       "    }\n",
       "\n",
       "    .dataframe thead th {\n",
       "        text-align: right;\n",
       "    }\n",
       "</style>\n",
       "<table border=\"1\" class=\"dataframe\">\n",
       "  <thead>\n",
       "    <tr style=\"text-align: right;\">\n",
       "      <th></th>\n",
       "      <th>Monday</th>\n",
       "      <th>Tuesday</th>\n",
       "      <th>Wednesday</th>\n",
       "      <th>Thursday</th>\n",
       "      <th>Friday</th>\n",
       "    </tr>\n",
       "  </thead>\n",
       "  <tbody>\n",
       "    <tr>\n",
       "      <th>Cupcakes</th>\n",
       "      <td>32</td>\n",
       "      <td>45</td>\n",
       "      <td>15</td>\n",
       "      <td>29</td>\n",
       "      <td>63</td>\n",
       "    </tr>\n",
       "    <tr>\n",
       "      <th>Pie Slices</th>\n",
       "      <td>152</td>\n",
       "      <td>109</td>\n",
       "      <td>77</td>\n",
       "      <td>95</td>\n",
       "      <td>143</td>\n",
       "    </tr>\n",
       "    <tr>\n",
       "      <th>Brownies</th>\n",
       "      <td>94</td>\n",
       "      <td>114</td>\n",
       "      <td>85</td>\n",
       "      <td>132</td>\n",
       "      <td>101</td>\n",
       "    </tr>\n",
       "  </tbody>\n",
       "</table>\n",
       "</div>"
      ],
      "text/plain": [
       "            Monday  Tuesday  Wednesday  Thursday  Friday\n",
       "Cupcakes        32       45         15        29      63\n",
       "Pie Slices     152      109         77        95     143\n",
       "Brownies        94      114         85       132     101"
      ]
     },
     "execution_count": 16,
     "metadata": {},
     "output_type": "execute_result"
    }
   ],
   "source": [
    "product_sales.loc[\"Pie Slices\", \"Thursday\"] = 95\n",
    "product_sales"
   ]
  },
  {
   "cell_type": "markdown",
   "id": "7fd65507-e657-4b2c-8fd7-38824ff87282",
   "metadata": {},
   "source": [
    "##### 2. The store wants to do some analysis on its saturday sales as well. On Saturday, 87 cupcakes, 211 pie slices, and 186 brownies were sold. Modify the DataFrame to include these data points."
   ]
  },
  {
   "cell_type": "code",
   "execution_count": 18,
   "id": "2eb6d812-752f-4b9c-9b76-f105102f4b24",
   "metadata": {},
   "outputs": [
    {
     "data": {
      "text/html": [
       "<div>\n",
       "<style scoped>\n",
       "    .dataframe tbody tr th:only-of-type {\n",
       "        vertical-align: middle;\n",
       "    }\n",
       "\n",
       "    .dataframe tbody tr th {\n",
       "        vertical-align: top;\n",
       "    }\n",
       "\n",
       "    .dataframe thead th {\n",
       "        text-align: right;\n",
       "    }\n",
       "</style>\n",
       "<table border=\"1\" class=\"dataframe\">\n",
       "  <thead>\n",
       "    <tr style=\"text-align: right;\">\n",
       "      <th></th>\n",
       "      <th>Monday</th>\n",
       "      <th>Tuesday</th>\n",
       "      <th>Wednesday</th>\n",
       "      <th>Thursday</th>\n",
       "      <th>Friday</th>\n",
       "      <th>Saturday</th>\n",
       "    </tr>\n",
       "  </thead>\n",
       "  <tbody>\n",
       "    <tr>\n",
       "      <th>Cupcakes</th>\n",
       "      <td>32</td>\n",
       "      <td>45</td>\n",
       "      <td>15</td>\n",
       "      <td>29</td>\n",
       "      <td>63</td>\n",
       "      <td>87</td>\n",
       "    </tr>\n",
       "    <tr>\n",
       "      <th>Pie Slices</th>\n",
       "      <td>152</td>\n",
       "      <td>109</td>\n",
       "      <td>77</td>\n",
       "      <td>95</td>\n",
       "      <td>143</td>\n",
       "      <td>211</td>\n",
       "    </tr>\n",
       "    <tr>\n",
       "      <th>Brownies</th>\n",
       "      <td>94</td>\n",
       "      <td>114</td>\n",
       "      <td>85</td>\n",
       "      <td>132</td>\n",
       "      <td>101</td>\n",
       "      <td>186</td>\n",
       "    </tr>\n",
       "  </tbody>\n",
       "</table>\n",
       "</div>"
      ],
      "text/plain": [
       "            Monday  Tuesday  Wednesday  Thursday  Friday  Saturday\n",
       "Cupcakes        32       45         15        29      63        87\n",
       "Pie Slices     152      109         77        95     143       211\n",
       "Brownies        94      114         85       132     101       186"
      ]
     },
     "execution_count": 18,
     "metadata": {},
     "output_type": "execute_result"
    }
   ],
   "source": [
    "product_sales[\"Saturday\"] = pd.Series({ \"Cupcakes\": 87, \"Pie Slices\":  211, \"Brownies\": 186 }, index=[\"Cupcakes\", \"Pie Slices\", \"Brownies\"])\n",
    "product_sales"
   ]
  },
  {
   "cell_type": "markdown",
   "id": "9d610de9-ca7e-47d3-8172-ac960c0c9aec",
   "metadata": {},
   "source": [
    "##### 3. The store decides to temporarily discard Thursday's sales from its data analysis. Remove this column without permanently removing it."
   ]
  },
  {
   "cell_type": "code",
   "execution_count": 24,
   "id": "a23b6491-d1f4-453a-870d-e7d0c85b5464",
   "metadata": {},
   "outputs": [],
   "source": [
    "no_thursday_df = product_sales.drop(\"Thursday\", axis=1)"
   ]
  },
  {
   "cell_type": "code",
   "execution_count": 25,
   "id": "ed149c36-d98c-4b3b-b1db-a87d299a68ec",
   "metadata": {},
   "outputs": [
    {
     "data": {
      "text/html": [
       "<div>\n",
       "<style scoped>\n",
       "    .dataframe tbody tr th:only-of-type {\n",
       "        vertical-align: middle;\n",
       "    }\n",
       "\n",
       "    .dataframe tbody tr th {\n",
       "        vertical-align: top;\n",
       "    }\n",
       "\n",
       "    .dataframe thead th {\n",
       "        text-align: right;\n",
       "    }\n",
       "</style>\n",
       "<table border=\"1\" class=\"dataframe\">\n",
       "  <thead>\n",
       "    <tr style=\"text-align: right;\">\n",
       "      <th></th>\n",
       "      <th>Monday</th>\n",
       "      <th>Tuesday</th>\n",
       "      <th>Wednesday</th>\n",
       "      <th>Friday</th>\n",
       "      <th>Saturday</th>\n",
       "    </tr>\n",
       "  </thead>\n",
       "  <tbody>\n",
       "    <tr>\n",
       "      <th>Cupcakes</th>\n",
       "      <td>32</td>\n",
       "      <td>45</td>\n",
       "      <td>15</td>\n",
       "      <td>63</td>\n",
       "      <td>87</td>\n",
       "    </tr>\n",
       "    <tr>\n",
       "      <th>Pie Slices</th>\n",
       "      <td>152</td>\n",
       "      <td>109</td>\n",
       "      <td>77</td>\n",
       "      <td>143</td>\n",
       "      <td>211</td>\n",
       "    </tr>\n",
       "    <tr>\n",
       "      <th>Brownies</th>\n",
       "      <td>94</td>\n",
       "      <td>114</td>\n",
       "      <td>85</td>\n",
       "      <td>101</td>\n",
       "      <td>186</td>\n",
       "    </tr>\n",
       "  </tbody>\n",
       "</table>\n",
       "</div>"
      ],
      "text/plain": [
       "            Monday  Tuesday  Wednesday  Friday  Saturday\n",
       "Cupcakes        32       45         15      63        87\n",
       "Pie Slices     152      109         77     143       211\n",
       "Brownies        94      114         85     101       186"
      ]
     },
     "execution_count": 25,
     "metadata": {},
     "output_type": "execute_result"
    }
   ],
   "source": [
    "no_thursday_df"
   ]
  },
  {
   "cell_type": "markdown",
   "id": "4f1133c7-49f9-4fe8-8d00-f1fc0e6b5def",
   "metadata": {},
   "source": [
    "#### Challenge: The store just added Cookies to its product line-up selling 15 on Friday and 25 on Saturday. Modify the DataFrame to include these data points without using any type of append funciton. Use Logic instead."
   ]
  },
  {
   "cell_type": "code",
   "execution_count": 39,
   "id": "12c61dd2-fa34-4389-8caa-e073c6c92fc8",
   "metadata": {},
   "outputs": [
    {
     "data": {
      "text/html": [
       "<div>\n",
       "<style scoped>\n",
       "    .dataframe tbody tr th:only-of-type {\n",
       "        vertical-align: middle;\n",
       "    }\n",
       "\n",
       "    .dataframe tbody tr th {\n",
       "        vertical-align: top;\n",
       "    }\n",
       "\n",
       "    .dataframe thead th {\n",
       "        text-align: right;\n",
       "    }\n",
       "</style>\n",
       "<table border=\"1\" class=\"dataframe\">\n",
       "  <thead>\n",
       "    <tr style=\"text-align: right;\">\n",
       "      <th></th>\n",
       "      <th>Monday</th>\n",
       "      <th>Tuesday</th>\n",
       "      <th>Wednesday</th>\n",
       "      <th>Thursday</th>\n",
       "      <th>Friday</th>\n",
       "      <th>Saturday</th>\n",
       "      <th>Cookies</th>\n",
       "    </tr>\n",
       "  </thead>\n",
       "  <tbody>\n",
       "    <tr>\n",
       "      <th>Cupcakes</th>\n",
       "      <td>32.0</td>\n",
       "      <td>45.0</td>\n",
       "      <td>15.0</td>\n",
       "      <td>29.0</td>\n",
       "      <td>93.0</td>\n",
       "      <td>137.0</td>\n",
       "      <td>NaN</td>\n",
       "    </tr>\n",
       "    <tr>\n",
       "      <th>Pie Slices</th>\n",
       "      <td>152.0</td>\n",
       "      <td>109.0</td>\n",
       "      <td>77.0</td>\n",
       "      <td>95.0</td>\n",
       "      <td>143.0</td>\n",
       "      <td>211.0</td>\n",
       "      <td>NaN</td>\n",
       "    </tr>\n",
       "    <tr>\n",
       "      <th>Brownies</th>\n",
       "      <td>94.0</td>\n",
       "      <td>114.0</td>\n",
       "      <td>85.0</td>\n",
       "      <td>132.0</td>\n",
       "      <td>101.0</td>\n",
       "      <td>186.0</td>\n",
       "      <td>NaN</td>\n",
       "    </tr>\n",
       "    <tr>\n",
       "      <th>Cookies</th>\n",
       "      <td>NaN</td>\n",
       "      <td>NaN</td>\n",
       "      <td>NaN</td>\n",
       "      <td>NaN</td>\n",
       "      <td>15.0</td>\n",
       "      <td>25.0</td>\n",
       "      <td>NaN</td>\n",
       "    </tr>\n",
       "  </tbody>\n",
       "</table>\n",
       "</div>"
      ],
      "text/plain": [
       "            Monday  Tuesday  Wednesday  Thursday  Friday  Saturday  Cookies\n",
       "Cupcakes      32.0     45.0       15.0      29.0    93.0     137.0      NaN\n",
       "Pie Slices   152.0    109.0       77.0      95.0   143.0     211.0      NaN\n",
       "Brownies      94.0    114.0       85.0     132.0   101.0     186.0      NaN\n",
       "Cookies        NaN      NaN        NaN       NaN    15.0      25.0      NaN"
      ]
     },
     "execution_count": 39,
     "metadata": {},
     "output_type": "execute_result"
    }
   ],
   "source": [
    "# product_sales.loc[[\"Cupcakes\"], [\"Friday\", \"Saturday\"]] += [15, 25]\n",
    "\n",
    "product_sales.loc[\"Cookies\"] = pd.Series([15, 25], index=[\"Friday\", \"Saturday\"])\n",
    "\n",
    "product_sales"
   ]
  },
  {
   "cell_type": "code",
   "execution_count": null,
   "id": "852b851d-ceaf-46cb-af0d-1174797e964c",
   "metadata": {},
   "outputs": [],
   "source": []
  }
 ],
 "metadata": {
  "kernelspec": {
   "display_name": "Python 3 (ipykernel)",
   "language": "python",
   "name": "python3"
  },
  "language_info": {
   "codemirror_mode": {
    "name": "ipython",
    "version": 3
   },
   "file_extension": ".py",
   "mimetype": "text/x-python",
   "name": "python",
   "nbconvert_exporter": "python",
   "pygments_lexer": "ipython3",
   "version": "3.10.11"
  }
 },
 "nbformat": 4,
 "nbformat_minor": 5
}
