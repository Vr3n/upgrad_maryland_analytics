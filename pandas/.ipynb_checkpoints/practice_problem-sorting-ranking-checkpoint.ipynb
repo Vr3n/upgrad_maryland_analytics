{
 "cells": [
  {
   "cell_type": "markdown",
   "id": "d8905640-8686-429b-b09f-46e74eab4689",
   "metadata": {},
   "source": [
    "### Practice Problem – Sorting and Ranking"
   ]
  },
  {
   "cell_type": "code",
   "execution_count": 2,
   "id": "ebdd7a9a-18ef-4b62-a186-cffdd4ea7c51",
   "metadata": {},
   "outputs": [],
   "source": [
    "import pandas as pd\n",
    "import numpy as np"
   ]
  },
  {
   "cell_type": "code",
   "execution_count": 3,
   "id": "594399e0-44f6-4529-b738-bd9bd9cd7f83",
   "metadata": {},
   "outputs": [],
   "source": [
    "temps = {'Mon': [68, 89], 'Tue': [71, 93], 'Wed': [66, 82], 'Thu': [75, 97], 'Fri': [62, 79]}"
   ]
  },
  {
   "cell_type": "markdown",
   "id": "e763de0b-27c3-48d0-be7c-a34cef1c630b",
   "metadata": {},
   "source": [
    "1. Create a DataFrame to correctly represent this data with appropriate indexing. Print the resulting DataFrame."
   ]
  },
  {
   "cell_type": "code",
   "execution_count": 5,
   "id": "89af8834-3373-4832-9fb5-f45c1eb0d5e6",
   "metadata": {},
   "outputs": [
    {
     "data": {
      "text/html": [
       "<div>\n",
       "<style scoped>\n",
       "    .dataframe tbody tr th:only-of-type {\n",
       "        vertical-align: middle;\n",
       "    }\n",
       "\n",
       "    .dataframe tbody tr th {\n",
       "        vertical-align: top;\n",
       "    }\n",
       "\n",
       "    .dataframe thead th {\n",
       "        text-align: right;\n",
       "    }\n",
       "</style>\n",
       "<table border=\"1\" class=\"dataframe\">\n",
       "  <thead>\n",
       "    <tr style=\"text-align: right;\">\n",
       "      <th></th>\n",
       "      <th>Mon</th>\n",
       "      <th>Tue</th>\n",
       "      <th>Wed</th>\n",
       "      <th>Thu</th>\n",
       "      <th>Fri</th>\n",
       "    </tr>\n",
       "  </thead>\n",
       "  <tbody>\n",
       "    <tr>\n",
       "      <th>low</th>\n",
       "      <td>68</td>\n",
       "      <td>71</td>\n",
       "      <td>66</td>\n",
       "      <td>75</td>\n",
       "      <td>62</td>\n",
       "    </tr>\n",
       "    <tr>\n",
       "      <th>high</th>\n",
       "      <td>89</td>\n",
       "      <td>93</td>\n",
       "      <td>82</td>\n",
       "      <td>97</td>\n",
       "      <td>79</td>\n",
       "    </tr>\n",
       "  </tbody>\n",
       "</table>\n",
       "</div>"
      ],
      "text/plain": [
       "      Mon  Tue  Wed  Thu  Fri\n",
       "low    68   71   66   75   62\n",
       "high   89   93   82   97   79"
      ]
     },
     "execution_count": 5,
     "metadata": {},
     "output_type": "execute_result"
    }
   ],
   "source": [
    "df = pd.DataFrame(temps, index=[\"low\", \"high\"])\n",
    "df"
   ]
  },
  {
   "cell_type": "markdown",
   "id": "615331aa-3f32-455d-8faf-ed4d6e50cb16",
   "metadata": {},
   "source": [
    "2. Print the temperatures only from Monday through Wednesday using two different techniques (functions)"
   ]
  },
  {
   "cell_type": "code",
   "execution_count": 18,
   "id": "f16919cd-1dad-44e0-8249-e6f9a4a6fe90",
   "metadata": {},
   "outputs": [
    {
     "data": {
      "text/html": [
       "<div>\n",
       "<style scoped>\n",
       "    .dataframe tbody tr th:only-of-type {\n",
       "        vertical-align: middle;\n",
       "    }\n",
       "\n",
       "    .dataframe tbody tr th {\n",
       "        vertical-align: top;\n",
       "    }\n",
       "\n",
       "    .dataframe thead th {\n",
       "        text-align: right;\n",
       "    }\n",
       "</style>\n",
       "<table border=\"1\" class=\"dataframe\">\n",
       "  <thead>\n",
       "    <tr style=\"text-align: right;\">\n",
       "      <th></th>\n",
       "      <th>Mon</th>\n",
       "      <th>Tue</th>\n",
       "      <th>Wed</th>\n",
       "    </tr>\n",
       "  </thead>\n",
       "  <tbody>\n",
       "    <tr>\n",
       "      <th>low</th>\n",
       "      <td>68</td>\n",
       "      <td>71</td>\n",
       "      <td>66</td>\n",
       "    </tr>\n",
       "    <tr>\n",
       "      <th>high</th>\n",
       "      <td>89</td>\n",
       "      <td>93</td>\n",
       "      <td>82</td>\n",
       "    </tr>\n",
       "  </tbody>\n",
       "</table>\n",
       "</div>"
      ],
      "text/plain": [
       "      Mon  Tue  Wed\n",
       "low    68   71   66\n",
       "high   89   93   82"
      ]
     },
     "execution_count": 18,
     "metadata": {},
     "output_type": "execute_result"
    }
   ],
   "source": [
    "df.loc[:, [True, True, True, False, False]]"
   ]
  },
  {
   "cell_type": "code",
   "execution_count": null,
   "id": "715614ec-19c3-4a06-8550-536413a9efe7",
   "metadata": {},
   "outputs": [],
   "source": [
    "df"
   ]
  },
  {
   "cell_type": "markdown",
   "id": "8ce3202a-dd16-4967-b3e9-a329725875c8",
   "metadata": {},
   "source": [
    "3. Print the high temperatures for all days."
   ]
  },
  {
   "cell_type": "code",
   "execution_count": 33,
   "id": "c836243b-adc3-4ec9-80c3-da17c6f82e41",
   "metadata": {},
   "outputs": [
    {
     "data": {
      "text/plain": [
       "Thu    97\n",
       "Tue    93\n",
       "Mon    89\n",
       "Wed    82\n",
       "Fri    79\n",
       "Name: high, dtype: int64"
      ]
     },
     "execution_count": 33,
     "metadata": {},
     "output_type": "execute_result"
    }
   ],
   "source": [
    "df.sort_values(by=\"high\", ascending=False, axis=1).loc[\"high\"]"
   ]
  },
  {
   "cell_type": "markdown",
   "id": "52249fbf-b1d6-4273-93ad-36c251219be5",
   "metadata": {},
   "source": [
    "4. Determine the average low and high temperature for the week."
   ]
  },
  {
   "cell_type": "code",
   "execution_count": 42,
   "id": "6776fe91-f58a-4300-a638-9322783cecef",
   "metadata": {},
   "outputs": [
    {
     "data": {
      "text/plain": [
       "low     68.4\n",
       "high    88.0\n",
       "Name: mean, dtype: float64"
      ]
     },
     "execution_count": 42,
     "metadata": {},
     "output_type": "execute_result"
    }
   ],
   "source": [
    "df.apply(pd.DataFrame.describe, axis=1)[\"mean\"]"
   ]
  },
  {
   "cell_type": "code",
   "execution_count": 44,
   "id": "57aec8bc-6c34-4644-a525-8b4af60fd6c8",
   "metadata": {},
   "outputs": [
    {
     "data": {
      "text/plain": [
       "low     68.4\n",
       "high    88.0\n",
       "dtype: float64"
      ]
     },
     "execution_count": 44,
     "metadata": {},
     "output_type": "execute_result"
    }
   ],
   "source": [
    "df.mean(axis=1)"
   ]
  },
  {
   "cell_type": "markdown",
   "id": "8287aa02-2681-443b-8f3d-006eed7f5f24",
   "metadata": {},
   "source": [
    "5. Print the temperatures of days where the high temperature is over 85."
   ]
  },
  {
   "cell_type": "code",
   "execution_count": 63,
   "id": "85f18779-d0c0-4a32-a4dd-81ba4bdde380",
   "metadata": {},
   "outputs": [
    {
     "data": {
      "text/plain": [
       "Mon    89\n",
       "Tue    93\n",
       "Thu    97\n",
       "Name: high, dtype: int64"
      ]
     },
     "execution_count": 63,
     "metadata": {},
     "output_type": "execute_result"
    }
   ],
   "source": [
    "df.loc['high', df.loc['high'] > 85]"
   ]
  },
  {
   "cell_type": "markdown",
   "id": "81127c2d-f295-4056-82fc-f1a43da7a0f2",
   "metadata": {},
   "source": [
    "6. Sort the temperatures by Thursday's temperatures in descending order."
   ]
  },
  {
   "cell_type": "code",
   "execution_count": 64,
   "id": "f886699c-2f60-4dbf-845c-f6ad4c9cb885",
   "metadata": {},
   "outputs": [
    {
     "data": {
      "text/html": [
       "<div>\n",
       "<style scoped>\n",
       "    .dataframe tbody tr th:only-of-type {\n",
       "        vertical-align: middle;\n",
       "    }\n",
       "\n",
       "    .dataframe tbody tr th {\n",
       "        vertical-align: top;\n",
       "    }\n",
       "\n",
       "    .dataframe thead th {\n",
       "        text-align: right;\n",
       "    }\n",
       "</style>\n",
       "<table border=\"1\" class=\"dataframe\">\n",
       "  <thead>\n",
       "    <tr style=\"text-align: right;\">\n",
       "      <th></th>\n",
       "      <th>Mon</th>\n",
       "      <th>Tue</th>\n",
       "      <th>Wed</th>\n",
       "      <th>Thu</th>\n",
       "      <th>Fri</th>\n",
       "    </tr>\n",
       "  </thead>\n",
       "  <tbody>\n",
       "    <tr>\n",
       "      <th>high</th>\n",
       "      <td>89</td>\n",
       "      <td>93</td>\n",
       "      <td>82</td>\n",
       "      <td>97</td>\n",
       "      <td>79</td>\n",
       "    </tr>\n",
       "    <tr>\n",
       "      <th>low</th>\n",
       "      <td>68</td>\n",
       "      <td>71</td>\n",
       "      <td>66</td>\n",
       "      <td>75</td>\n",
       "      <td>62</td>\n",
       "    </tr>\n",
       "  </tbody>\n",
       "</table>\n",
       "</div>"
      ],
      "text/plain": [
       "      Mon  Tue  Wed  Thu  Fri\n",
       "high   89   93   82   97   79\n",
       "low    68   71   66   75   62"
      ]
     },
     "execution_count": 64,
     "metadata": {},
     "output_type": "execute_result"
    }
   ],
   "source": [
    "df.sort_values(by=\"Thu\", ascending=False)"
   ]
  },
  {
   "cell_type": "markdown",
   "id": "80e53a16-180b-41a5-aa50-5c304dcb3c63",
   "metadata": {},
   "source": [
    "7. For all low temperatures, rank the day in order from 1 to 5 from lowest to highest temperature."
   ]
  },
  {
   "cell_type": "code",
   "execution_count": 68,
   "id": "81f23b80-85ec-4d23-acbb-e501913ea4f2",
   "metadata": {},
   "outputs": [
    {
     "data": {
      "text/plain": [
       "Mon    3.0\n",
       "Tue    4.0\n",
       "Wed    2.0\n",
       "Thu    5.0\n",
       "Fri    1.0\n",
       "Name: low, dtype: float64"
      ]
     },
     "execution_count": 68,
     "metadata": {},
     "output_type": "execute_result"
    }
   ],
   "source": [
    "df.loc[\"low\"].rank(method=\"min\")"
   ]
  }
 ],
 "metadata": {
  "kernelspec": {
   "display_name": "Python 3 (ipykernel)",
   "language": "python",
   "name": "python3"
  },
  "language_info": {
   "codemirror_mode": {
    "name": "ipython",
    "version": 3
   },
   "file_extension": ".py",
   "mimetype": "text/x-python",
   "name": "python",
   "nbconvert_exporter": "python",
   "pygments_lexer": "ipython3",
   "version": "3.10.11"
  }
 },
 "nbformat": 4,
 "nbformat_minor": 5
}
