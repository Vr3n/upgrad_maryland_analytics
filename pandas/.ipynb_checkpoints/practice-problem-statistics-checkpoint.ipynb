{
 "cells": [
  {
   "cell_type": "markdown",
   "id": "5f50c248-e963-4ea6-8a79-f1ed0941f727",
   "metadata": {},
   "source": [
    "### Practice Problem"
   ]
  },
  {
   "cell_type": "code",
   "execution_count": 2,
   "id": "c917837e-8017-4aa7-a925-6901ca250831",
   "metadata": {},
   "outputs": [],
   "source": [
    "import pandas as pd\n",
    "import numpy as np"
   ]
  },
  {
   "cell_type": "code",
   "execution_count": 3,
   "id": "e82bb6b2-0308-4290-9d24-dd66c95bc93d",
   "metadata": {},
   "outputs": [],
   "source": [
    "product_sales = pd.DataFrame({'Monday': [32, 152, 94, 0], 'Tuesday': [45, 109, 114, 0], \\\n",
    "                             'Wednesday': [15, 77, 85, 0], 'Thursday': [29, 85, 132, 0], \\\n",
    "                             'Friday': [63, 143, 101, 15], 'Saturday': [87, 211, 186, 25]}, \\\n",
    "                             index=['Cupcakes', 'Pie Slices', 'Brownies', 'Cookies'])"
   ]
  },
  {
   "cell_type": "markdown",
   "id": "6327f7d0-d23e-4615-946e-eab0ee6633db",
   "metadata": {},
   "source": [
    "Generate descriptive statistics for the entire DataFrame."
   ]
  },
  {
   "cell_type": "code",
   "execution_count": 4,
   "id": "23717605-7f10-4c5f-a535-7bdf24942d06",
   "metadata": {},
   "outputs": [
    {
     "data": {
      "text/html": [
       "<div>\n",
       "<style scoped>\n",
       "    .dataframe tbody tr th:only-of-type {\n",
       "        vertical-align: middle;\n",
       "    }\n",
       "\n",
       "    .dataframe tbody tr th {\n",
       "        vertical-align: top;\n",
       "    }\n",
       "\n",
       "    .dataframe thead th {\n",
       "        text-align: right;\n",
       "    }\n",
       "</style>\n",
       "<table border=\"1\" class=\"dataframe\">\n",
       "  <thead>\n",
       "    <tr style=\"text-align: right;\">\n",
       "      <th></th>\n",
       "      <th>Monday</th>\n",
       "      <th>Tuesday</th>\n",
       "      <th>Wednesday</th>\n",
       "      <th>Thursday</th>\n",
       "      <th>Friday</th>\n",
       "      <th>Saturday</th>\n",
       "    </tr>\n",
       "  </thead>\n",
       "  <tbody>\n",
       "    <tr>\n",
       "      <th>count</th>\n",
       "      <td>4.00000</td>\n",
       "      <td>4.000000</td>\n",
       "      <td>4.000000</td>\n",
       "      <td>4.000000</td>\n",
       "      <td>4.000000</td>\n",
       "      <td>4.000000</td>\n",
       "    </tr>\n",
       "    <tr>\n",
       "      <th>mean</th>\n",
       "      <td>69.50000</td>\n",
       "      <td>67.000000</td>\n",
       "      <td>44.250000</td>\n",
       "      <td>61.500000</td>\n",
       "      <td>80.500000</td>\n",
       "      <td>127.250000</td>\n",
       "    </tr>\n",
       "    <tr>\n",
       "      <th>std</th>\n",
       "      <td>67.43639</td>\n",
       "      <td>54.607692</td>\n",
       "      <td>42.999031</td>\n",
       "      <td>58.767905</td>\n",
       "      <td>54.537449</td>\n",
       "      <td>86.680928</td>\n",
       "    </tr>\n",
       "    <tr>\n",
       "      <th>min</th>\n",
       "      <td>0.00000</td>\n",
       "      <td>0.000000</td>\n",
       "      <td>0.000000</td>\n",
       "      <td>0.000000</td>\n",
       "      <td>15.000000</td>\n",
       "      <td>25.000000</td>\n",
       "    </tr>\n",
       "    <tr>\n",
       "      <th>25%</th>\n",
       "      <td>24.00000</td>\n",
       "      <td>33.750000</td>\n",
       "      <td>11.250000</td>\n",
       "      <td>21.750000</td>\n",
       "      <td>51.000000</td>\n",
       "      <td>71.500000</td>\n",
       "    </tr>\n",
       "    <tr>\n",
       "      <th>50%</th>\n",
       "      <td>63.00000</td>\n",
       "      <td>77.000000</td>\n",
       "      <td>46.000000</td>\n",
       "      <td>57.000000</td>\n",
       "      <td>82.000000</td>\n",
       "      <td>136.500000</td>\n",
       "    </tr>\n",
       "    <tr>\n",
       "      <th>75%</th>\n",
       "      <td>108.50000</td>\n",
       "      <td>110.250000</td>\n",
       "      <td>79.000000</td>\n",
       "      <td>96.750000</td>\n",
       "      <td>111.500000</td>\n",
       "      <td>192.250000</td>\n",
       "    </tr>\n",
       "    <tr>\n",
       "      <th>max</th>\n",
       "      <td>152.00000</td>\n",
       "      <td>114.000000</td>\n",
       "      <td>85.000000</td>\n",
       "      <td>132.000000</td>\n",
       "      <td>143.000000</td>\n",
       "      <td>211.000000</td>\n",
       "    </tr>\n",
       "  </tbody>\n",
       "</table>\n",
       "</div>"
      ],
      "text/plain": [
       "          Monday     Tuesday  Wednesday    Thursday      Friday    Saturday\n",
       "count    4.00000    4.000000   4.000000    4.000000    4.000000    4.000000\n",
       "mean    69.50000   67.000000  44.250000   61.500000   80.500000  127.250000\n",
       "std     67.43639   54.607692  42.999031   58.767905   54.537449   86.680928\n",
       "min      0.00000    0.000000   0.000000    0.000000   15.000000   25.000000\n",
       "25%     24.00000   33.750000  11.250000   21.750000   51.000000   71.500000\n",
       "50%     63.00000   77.000000  46.000000   57.000000   82.000000  136.500000\n",
       "75%    108.50000  110.250000  79.000000   96.750000  111.500000  192.250000\n",
       "max    152.00000  114.000000  85.000000  132.000000  143.000000  211.000000"
      ]
     },
     "execution_count": 4,
     "metadata": {},
     "output_type": "execute_result"
    }
   ],
   "source": [
    "product_sales.describe()"
   ]
  },
  {
   "cell_type": "markdown",
   "id": "28138e3d-ae2b-401a-b576-33c5164887ab",
   "metadata": {},
   "source": [
    "What is the total number of products sold on each day?"
   ]
  },
  {
   "cell_type": "code",
   "execution_count": 6,
   "id": "dcb2ab75-c6c1-4ca0-b9bf-e3d597515be4",
   "metadata": {},
   "outputs": [
    {
     "data": {
      "text/plain": [
       "Monday       4.0\n",
       "Tuesday      4.0\n",
       "Wednesday    4.0\n",
       "Thursday     4.0\n",
       "Friday       4.0\n",
       "Saturday     4.0\n",
       "Name: count, dtype: float64"
      ]
     },
     "execution_count": 6,
     "metadata": {},
     "output_type": "execute_result"
    }
   ],
   "source": [
    "product_sales.describe().loc[\"count\"]"
   ]
  },
  {
   "cell_type": "markdown",
   "id": "f61710f2-3012-434c-9b58-7a6217996e12",
   "metadata": {},
   "source": [
    "For each type of product how many were sold across the week?"
   ]
  },
  {
   "cell_type": "code",
   "execution_count": 35,
   "id": "93a92a8b-4d2a-4a99-b88e-d64138becbf5",
   "metadata": {},
   "outputs": [
    {
     "data": {
      "text/html": [
       "<div>\n",
       "<style scoped>\n",
       "    .dataframe tbody tr th:only-of-type {\n",
       "        vertical-align: middle;\n",
       "    }\n",
       "\n",
       "    .dataframe tbody tr th {\n",
       "        vertical-align: top;\n",
       "    }\n",
       "\n",
       "    .dataframe thead th {\n",
       "        text-align: right;\n",
       "    }\n",
       "</style>\n",
       "<table border=\"1\" class=\"dataframe\">\n",
       "  <thead>\n",
       "    <tr style=\"text-align: right;\">\n",
       "      <th></th>\n",
       "      <th>count</th>\n",
       "      <th>mean</th>\n",
       "      <th>std</th>\n",
       "      <th>min</th>\n",
       "      <th>25%</th>\n",
       "      <th>50%</th>\n",
       "      <th>75%</th>\n",
       "      <th>max</th>\n",
       "    </tr>\n",
       "  </thead>\n",
       "  <tbody>\n",
       "    <tr>\n",
       "      <th>Cupcakes</th>\n",
       "      <td>6.0</td>\n",
       "      <td>45.166667</td>\n",
       "      <td>26.125977</td>\n",
       "      <td>15.0</td>\n",
       "      <td>29.75</td>\n",
       "      <td>38.5</td>\n",
       "      <td>58.50</td>\n",
       "      <td>87.0</td>\n",
       "    </tr>\n",
       "    <tr>\n",
       "      <th>Pie Slices</th>\n",
       "      <td>6.0</td>\n",
       "      <td>129.500000</td>\n",
       "      <td>49.974994</td>\n",
       "      <td>77.0</td>\n",
       "      <td>91.00</td>\n",
       "      <td>126.0</td>\n",
       "      <td>149.75</td>\n",
       "      <td>211.0</td>\n",
       "    </tr>\n",
       "    <tr>\n",
       "      <th>Brownies</th>\n",
       "      <td>6.0</td>\n",
       "      <td>118.666667</td>\n",
       "      <td>36.843814</td>\n",
       "      <td>85.0</td>\n",
       "      <td>95.75</td>\n",
       "      <td>107.5</td>\n",
       "      <td>127.50</td>\n",
       "      <td>186.0</td>\n",
       "    </tr>\n",
       "    <tr>\n",
       "      <th>Cookies</th>\n",
       "      <td>6.0</td>\n",
       "      <td>6.666667</td>\n",
       "      <td>10.801234</td>\n",
       "      <td>0.0</td>\n",
       "      <td>0.00</td>\n",
       "      <td>0.0</td>\n",
       "      <td>11.25</td>\n",
       "      <td>25.0</td>\n",
       "    </tr>\n",
       "  </tbody>\n",
       "</table>\n",
       "</div>"
      ],
      "text/plain": [
       "            count        mean        std   min    25%    50%     75%    max\n",
       "Cupcakes      6.0   45.166667  26.125977  15.0  29.75   38.5   58.50   87.0\n",
       "Pie Slices    6.0  129.500000  49.974994  77.0  91.00  126.0  149.75  211.0\n",
       "Brownies      6.0  118.666667  36.843814  85.0  95.75  107.5  127.50  186.0\n",
       "Cookies       6.0    6.666667  10.801234   0.0   0.00    0.0   11.25   25.0"
      ]
     },
     "execution_count": 35,
     "metadata": {},
     "output_type": "execute_result"
    }
   ],
   "source": [
    "product_sales.apply(pd.DataFrame.describe, axis=1)"
   ]
  },
  {
   "cell_type": "code",
   "execution_count": 36,
   "id": "8ae83ee2-d507-4fef-8442-9574eb179fc6",
   "metadata": {},
   "outputs": [
    {
     "data": {
      "text/plain": [
       "Monday       278\n",
       "Tuesday      268\n",
       "Wednesday    177\n",
       "Thursday     246\n",
       "Friday       322\n",
       "Saturday     509\n",
       "dtype: int64"
      ]
     },
     "execution_count": 36,
     "metadata": {},
     "output_type": "execute_result"
    }
   ],
   "source": [
    "product_sales.sum()"
   ]
  },
  {
   "cell_type": "markdown",
   "id": "ea6428ec-a1d1-40b1-8698-f69d9a00382b",
   "metadata": {},
   "source": [
    "For the product type that sold the most across the week, how many were sold?"
   ]
  },
  {
   "cell_type": "code",
   "execution_count": 46,
   "id": "40e15c39-1005-4999-b567-a727aa98059f",
   "metadata": {},
   "outputs": [
    {
     "data": {
      "text/html": [
       "<div>\n",
       "<style scoped>\n",
       "    .dataframe tbody tr th:only-of-type {\n",
       "        vertical-align: middle;\n",
       "    }\n",
       "\n",
       "    .dataframe tbody tr th {\n",
       "        vertical-align: top;\n",
       "    }\n",
       "\n",
       "    .dataframe thead th {\n",
       "        text-align: right;\n",
       "    }\n",
       "</style>\n",
       "<table border=\"1\" class=\"dataframe\">\n",
       "  <thead>\n",
       "    <tr style=\"text-align: right;\">\n",
       "      <th></th>\n",
       "      <th>count</th>\n",
       "      <th>mean</th>\n",
       "      <th>std</th>\n",
       "      <th>min</th>\n",
       "      <th>25%</th>\n",
       "      <th>50%</th>\n",
       "      <th>75%</th>\n",
       "      <th>max</th>\n",
       "    </tr>\n",
       "  </thead>\n",
       "  <tbody>\n",
       "    <tr>\n",
       "      <th>Cupcakes</th>\n",
       "      <td>6.0</td>\n",
       "      <td>45.166667</td>\n",
       "      <td>26.125977</td>\n",
       "      <td>15.0</td>\n",
       "      <td>29.75</td>\n",
       "      <td>38.5</td>\n",
       "      <td>58.50</td>\n",
       "      <td>87.0</td>\n",
       "    </tr>\n",
       "    <tr>\n",
       "      <th>Pie Slices</th>\n",
       "      <td>6.0</td>\n",
       "      <td>129.500000</td>\n",
       "      <td>49.974994</td>\n",
       "      <td>77.0</td>\n",
       "      <td>91.00</td>\n",
       "      <td>126.0</td>\n",
       "      <td>149.75</td>\n",
       "      <td>211.0</td>\n",
       "    </tr>\n",
       "    <tr>\n",
       "      <th>Brownies</th>\n",
       "      <td>6.0</td>\n",
       "      <td>118.666667</td>\n",
       "      <td>36.843814</td>\n",
       "      <td>85.0</td>\n",
       "      <td>95.75</td>\n",
       "      <td>107.5</td>\n",
       "      <td>127.50</td>\n",
       "      <td>186.0</td>\n",
       "    </tr>\n",
       "    <tr>\n",
       "      <th>Cookies</th>\n",
       "      <td>6.0</td>\n",
       "      <td>6.666667</td>\n",
       "      <td>10.801234</td>\n",
       "      <td>0.0</td>\n",
       "      <td>0.00</td>\n",
       "      <td>0.0</td>\n",
       "      <td>11.25</td>\n",
       "      <td>25.0</td>\n",
       "    </tr>\n",
       "  </tbody>\n",
       "</table>\n",
       "</div>"
      ],
      "text/plain": [
       "            count        mean        std   min    25%    50%     75%    max\n",
       "Cupcakes      6.0   45.166667  26.125977  15.0  29.75   38.5   58.50   87.0\n",
       "Pie Slices    6.0  129.500000  49.974994  77.0  91.00  126.0  149.75  211.0\n",
       "Brownies      6.0  118.666667  36.843814  85.0  95.75  107.5  127.50  186.0\n",
       "Cookies       6.0    6.666667  10.801234   0.0   0.00    0.0   11.25   25.0"
      ]
     },
     "execution_count": 46,
     "metadata": {},
     "output_type": "execute_result"
    }
   ],
   "source": [
    "product_sales.apply(pd.DataFrame.describe, axis=1)"
   ]
  },
  {
   "cell_type": "code",
   "execution_count": 47,
   "id": "b0bc3129-0588-458d-9518-12e0ff543bc4",
   "metadata": {},
   "outputs": [
    {
     "data": {
      "text/plain": [
       "Cupcakes      271\n",
       "Pie Slices    777\n",
       "Brownies      712\n",
       "Cookies        40\n",
       "dtype: int64"
      ]
     },
     "execution_count": 47,
     "metadata": {},
     "output_type": "execute_result"
    }
   ],
   "source": [
    "product_sales.sum(axis=1)"
   ]
  },
  {
   "cell_type": "markdown",
   "id": "cc91d73c-7a92-4ef8-91ca-fb41f7f428d7",
   "metadata": {},
   "source": [
    "Challenge: For the product type that sold the most across the week, list the name of the product and the number sold."
   ]
  },
  {
   "cell_type": "code",
   "execution_count": 65,
   "id": "67bce7e4-6159-4257-b42e-cc802b8e9732",
   "metadata": {},
   "outputs": [
    {
     "data": {
      "text/plain": [
       "Pie Slices    777\n",
       "dtype: int64"
      ]
     },
     "execution_count": 65,
     "metadata": {},
     "output_type": "execute_result"
    }
   ],
   "source": [
    "product_sales[product_sales.sum(axis=1) == product_sales.sum(axis=1).max()].sum(axis=1)"
   ]
  }
 ],
 "metadata": {
  "kernelspec": {
   "display_name": "Python 3 (ipykernel)",
   "language": "python",
   "name": "python3"
  },
  "language_info": {
   "codemirror_mode": {
    "name": "ipython",
    "version": 3
   },
   "file_extension": ".py",
   "mimetype": "text/x-python",
   "name": "python",
   "nbconvert_exporter": "python",
   "pygments_lexer": "ipython3",
   "version": "3.10.11"
  }
 },
 "nbformat": 4,
 "nbformat_minor": 5
}
