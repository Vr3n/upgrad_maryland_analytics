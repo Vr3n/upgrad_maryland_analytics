{
 "cells": [
  {
   "cell_type": "markdown",
   "id": "876d1f7a-a872-4cc4-b60b-1ee40d0cd2fe",
   "metadata": {},
   "source": [
    "## Function Application and Mapping"
   ]
  },
  {
   "cell_type": "code",
   "execution_count": 1,
   "id": "83fa1cf6-f6f7-4f01-a6e5-a904ae9398cd",
   "metadata": {},
   "outputs": [],
   "source": [
    "import pandas as pd\n",
    "import numpy as np"
   ]
  },
  {
   "cell_type": "markdown",
   "id": "1deab3db-6c3c-4765-b24d-ade1e3ad8f40",
   "metadata": {},
   "source": [
    "#### Using NumPy Universal Functions on DataFrames.\n"
   ]
  },
  {
   "cell_type": "code",
   "execution_count": 2,
   "id": "3ccd9dcc-7949-428b-963e-0e1280350f3d",
   "metadata": {},
   "outputs": [
    {
     "data": {
      "text/html": [
       "<div>\n",
       "<style scoped>\n",
       "    .dataframe tbody tr th:only-of-type {\n",
       "        vertical-align: middle;\n",
       "    }\n",
       "\n",
       "    .dataframe tbody tr th {\n",
       "        vertical-align: top;\n",
       "    }\n",
       "\n",
       "    .dataframe thead th {\n",
       "        text-align: right;\n",
       "    }\n",
       "</style>\n",
       "<table border=\"1\" class=\"dataframe\">\n",
       "  <thead>\n",
       "    <tr style=\"text-align: right;\">\n",
       "      <th></th>\n",
       "      <th>0</th>\n",
       "      <th>1</th>\n",
       "      <th>2</th>\n",
       "      <th>3</th>\n",
       "      <th>4</th>\n",
       "    </tr>\n",
       "  </thead>\n",
       "  <tbody>\n",
       "    <tr>\n",
       "      <th>0</th>\n",
       "      <td>0.931721</td>\n",
       "      <td>0.720905</td>\n",
       "      <td>0.164763</td>\n",
       "      <td>0.133814</td>\n",
       "      <td>0.338650</td>\n",
       "    </tr>\n",
       "    <tr>\n",
       "      <th>1</th>\n",
       "      <td>0.602628</td>\n",
       "      <td>0.430996</td>\n",
       "      <td>0.508875</td>\n",
       "      <td>0.470729</td>\n",
       "      <td>0.415997</td>\n",
       "    </tr>\n",
       "    <tr>\n",
       "      <th>2</th>\n",
       "      <td>0.994372</td>\n",
       "      <td>0.570089</td>\n",
       "      <td>0.164400</td>\n",
       "      <td>0.294618</td>\n",
       "      <td>0.883079</td>\n",
       "    </tr>\n",
       "  </tbody>\n",
       "</table>\n",
       "</div>"
      ],
      "text/plain": [
       "          0         1         2         3         4\n",
       "0  0.931721  0.720905  0.164763  0.133814  0.338650\n",
       "1  0.602628  0.430996  0.508875  0.470729  0.415997\n",
       "2  0.994372  0.570089  0.164400  0.294618  0.883079"
      ]
     },
     "execution_count": 2,
     "metadata": {},
     "output_type": "execute_result"
    }
   ],
   "source": [
    "df1 = pd.DataFrame(np.random.rand(3, 5))\n",
    "df1"
   ]
  },
  {
   "cell_type": "code",
   "execution_count": 3,
   "id": "e9008bc3-ff52-4a47-8488-a0ffa2982b24",
   "metadata": {},
   "outputs": [
    {
     "data": {
      "text/plain": [
       "0    2.528721\n",
       "1    1.721990\n",
       "2    0.838039\n",
       "3    0.899161\n",
       "4    1.637726\n",
       "dtype: float64"
      ]
     },
     "execution_count": 3,
     "metadata": {},
     "output_type": "execute_result"
    }
   ],
   "source": [
    "np.sum(df1)"
   ]
  },
  {
   "cell_type": "code",
   "execution_count": 7,
   "id": "fd34baa7-d280-49cc-8d99-82209aa486fb",
   "metadata": {},
   "outputs": [
    {
     "data": {
      "text/plain": [
       "0    2.289852\n",
       "1    2.429226\n",
       "2    2.906558\n",
       "dtype: float64"
      ]
     },
     "execution_count": 7,
     "metadata": {},
     "output_type": "execute_result"
    }
   ],
   "source": [
    "np.sum(df1, axis=1)"
   ]
  },
  {
   "cell_type": "markdown",
   "id": "7734e8ef-6fcc-4207-b2be-eb8ef2536944",
   "metadata": {},
   "source": [
    "### Using `Series.map()` for Numeric Computation."
   ]
  },
  {
   "cell_type": "code",
   "execution_count": 11,
   "id": "db981a15-0118-40fb-9a62-7c48806d6d15",
   "metadata": {},
   "outputs": [
    {
     "data": {
      "text/plain": [
       "0    0.991690\n",
       "1    0.864459\n",
       "2   -0.557096\n",
       "3   -0.845937\n",
       "4   -0.293612\n",
       "5    0.126962\n",
       "6    0.437006\n",
       "7    0.245460\n",
       "8   -0.790741\n",
       "9    0.211799\n",
       "dtype: float64"
      ]
     },
     "execution_count": 11,
     "metadata": {},
     "output_type": "execute_result"
    }
   ],
   "source": [
    "ser1 = pd.Series(np.random.randn(10))\n",
    "ser1"
   ]
  },
  {
   "cell_type": "code",
   "execution_count": 13,
   "id": "44ea7702-b521-41c5-a0e2-90f31714ac56",
   "metadata": {},
   "outputs": [
    {
     "data": {
      "text/plain": [
       "0    0.991690\n",
       "1    0.864459\n",
       "2   -0.557096\n",
       "3   -0.845937\n",
       "4   -0.293612\n",
       "5    0.126962\n",
       "6    0.437006\n",
       "7    0.245460\n",
       "8   -0.790741\n",
       "9    0.211799\n",
       "dtype: float64"
      ]
     },
     "execution_count": 13,
     "metadata": {},
     "output_type": "execute_result"
    }
   ],
   "source": [
    "ser1.map(lambda value: value + 1)\n",
    "ser1"
   ]
  },
  {
   "cell_type": "code",
   "execution_count": 21,
   "id": "8ca79e6a-5dd2-4030-8247-ac1884f2ed93",
   "metadata": {},
   "outputs": [
    {
     "data": {
      "text/plain": [
       "1    The Hunger Games: Catching Fire\n",
       "2                            Titanic\n",
       "3                     Jurrasic World\n",
       "dtype: object"
      ]
     },
     "execution_count": 21,
     "metadata": {},
     "output_type": "execute_result"
    }
   ],
   "source": [
    "ser1 = pd.Series({ 1: \"The Hunger Games: Catching Fire\", 2: \"Titanic\", 3: \"Jurrasic World\" })\n",
    "ser1"
   ]
  },
  {
   "cell_type": "code",
   "execution_count": 22,
   "id": "d7f9e413-a302-4db9-87b0-184fa998518c",
   "metadata": {},
   "outputs": [
    {
     "data": {
      "text/plain": [
       "1    5\n",
       "2    1\n",
       "3    2\n",
       "dtype: int64"
      ]
     },
     "execution_count": 22,
     "metadata": {},
     "output_type": "execute_result"
    }
   ],
   "source": [
    "ser1.map(lambda movie: len(movie.split(\" \")))"
   ]
  },
  {
   "cell_type": "markdown",
   "id": "0219fbe2-2d2b-4fc6-9c18-110f194a1ffa",
   "metadata": {},
   "source": [
    "#### Using `DataFrame.apply()`"
   ]
  },
  {
   "cell_type": "code",
   "execution_count": 23,
   "id": "8c41c63c-16e7-45cc-a574-f51aa86307c1",
   "metadata": {},
   "outputs": [
    {
     "data": {
      "text/html": [
       "<div>\n",
       "<style scoped>\n",
       "    .dataframe tbody tr th:only-of-type {\n",
       "        vertical-align: middle;\n",
       "    }\n",
       "\n",
       "    .dataframe tbody tr th {\n",
       "        vertical-align: top;\n",
       "    }\n",
       "\n",
       "    .dataframe thead th {\n",
       "        text-align: right;\n",
       "    }\n",
       "</style>\n",
       "<table border=\"1\" class=\"dataframe\">\n",
       "  <thead>\n",
       "    <tr style=\"text-align: right;\">\n",
       "      <th></th>\n",
       "      <th>0</th>\n",
       "      <th>1</th>\n",
       "    </tr>\n",
       "  </thead>\n",
       "  <tbody>\n",
       "    <tr>\n",
       "      <th>0</th>\n",
       "      <td>0.180031</td>\n",
       "      <td>0.814683</td>\n",
       "    </tr>\n",
       "    <tr>\n",
       "      <th>1</th>\n",
       "      <td>0.779223</td>\n",
       "      <td>0.785598</td>\n",
       "    </tr>\n",
       "    <tr>\n",
       "      <th>2</th>\n",
       "      <td>0.121423</td>\n",
       "      <td>0.428864</td>\n",
       "    </tr>\n",
       "  </tbody>\n",
       "</table>\n",
       "</div>"
      ],
      "text/plain": [
       "          0         1\n",
       "0  0.180031  0.814683\n",
       "1  0.779223  0.785598\n",
       "2  0.121423  0.428864"
      ]
     },
     "execution_count": 23,
     "metadata": {},
     "output_type": "execute_result"
    }
   ],
   "source": [
    "df1 = pd.DataFrame(np.random.rand(3, 2))\n",
    "df1"
   ]
  },
  {
   "cell_type": "code",
   "execution_count": 26,
   "id": "6d9049ab-f6f2-4e66-b144-0131df669529",
   "metadata": {},
   "outputs": [
    {
     "data": {
      "text/html": [
       "<div>\n",
       "<style scoped>\n",
       "    .dataframe tbody tr th:only-of-type {\n",
       "        vertical-align: middle;\n",
       "    }\n",
       "\n",
       "    .dataframe tbody tr th {\n",
       "        vertical-align: top;\n",
       "    }\n",
       "\n",
       "    .dataframe thead th {\n",
       "        text-align: right;\n",
       "    }\n",
       "</style>\n",
       "<table border=\"1\" class=\"dataframe\">\n",
       "  <thead>\n",
       "    <tr style=\"text-align: right;\">\n",
       "      <th></th>\n",
       "      <th>0</th>\n",
       "      <th>1</th>\n",
       "    </tr>\n",
       "  </thead>\n",
       "  <tbody>\n",
       "    <tr>\n",
       "      <th>0</th>\n",
       "      <td>0.180988</td>\n",
       "      <td>0.819012</td>\n",
       "    </tr>\n",
       "    <tr>\n",
       "      <th>1</th>\n",
       "      <td>0.497963</td>\n",
       "      <td>0.502037</td>\n",
       "    </tr>\n",
       "    <tr>\n",
       "      <th>2</th>\n",
       "      <td>0.220654</td>\n",
       "      <td>0.779346</td>\n",
       "    </tr>\n",
       "  </tbody>\n",
       "</table>\n",
       "</div>"
      ],
      "text/plain": [
       "          0         1\n",
       "0  0.180988  0.819012\n",
       "1  0.497963  0.502037\n",
       "2  0.220654  0.779346"
      ]
     },
     "execution_count": 26,
     "metadata": {},
     "output_type": "execute_result"
    }
   ],
   "source": [
    "df1.apply(lambda arr: arr / arr.sum(), axis=1)"
   ]
  },
  {
   "cell_type": "code",
   "execution_count": 29,
   "id": "dd5cdcc6-d3f1-419b-89af-0d12ae313dba",
   "metadata": {},
   "outputs": [
    {
     "data": {
      "text/html": [
       "<div>\n",
       "<style scoped>\n",
       "    .dataframe tbody tr th:only-of-type {\n",
       "        vertical-align: middle;\n",
       "    }\n",
       "\n",
       "    .dataframe tbody tr th {\n",
       "        vertical-align: top;\n",
       "    }\n",
       "\n",
       "    .dataframe thead th {\n",
       "        text-align: right;\n",
       "    }\n",
       "</style>\n",
       "<table border=\"1\" class=\"dataframe\">\n",
       "  <thead>\n",
       "    <tr style=\"text-align: right;\">\n",
       "      <th></th>\n",
       "      <th>0</th>\n",
       "      <th>1</th>\n",
       "    </tr>\n",
       "  </thead>\n",
       "  <tbody>\n",
       "    <tr>\n",
       "      <th>0</th>\n",
       "      <td>0.057891</td>\n",
       "      <td>0.261971</td>\n",
       "    </tr>\n",
       "    <tr>\n",
       "      <th>1</th>\n",
       "      <td>0.250568</td>\n",
       "      <td>0.252618</td>\n",
       "    </tr>\n",
       "    <tr>\n",
       "      <th>2</th>\n",
       "      <td>0.039045</td>\n",
       "      <td>0.137906</td>\n",
       "    </tr>\n",
       "  </tbody>\n",
       "</table>\n",
       "</div>"
      ],
      "text/plain": [
       "          0         1\n",
       "0  0.057891  0.261971\n",
       "1  0.250568  0.252618\n",
       "2  0.039045  0.137906"
      ]
     },
     "execution_count": 29,
     "metadata": {},
     "output_type": "execute_result"
    }
   ],
   "source": [
    "df1.apply(lambda arr: arr / df1.sum().sum())"
   ]
  },
  {
   "cell_type": "code",
   "execution_count": null,
   "id": "49028053-d2b7-4ca1-924a-6db908ef00ce",
   "metadata": {},
   "outputs": [],
   "source": []
  }
 ],
 "metadata": {
  "kernelspec": {
   "display_name": "Python 3 (ipykernel)",
   "language": "python",
   "name": "python3"
  },
  "language_info": {
   "codemirror_mode": {
    "name": "ipython",
    "version": 3
   },
   "file_extension": ".py",
   "mimetype": "text/x-python",
   "name": "python",
   "nbconvert_exporter": "python",
   "pygments_lexer": "ipython3",
   "version": "3.10.11"
  }
 },
 "nbformat": 4,
 "nbformat_minor": 5
}
