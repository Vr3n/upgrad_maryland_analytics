{
 "cells": [
  {
   "cell_type": "markdown",
   "id": "d046233e-3dee-4205-aee6-cbef67552639",
   "metadata": {},
   "source": [
    "### Graded Assignment"
   ]
  },
  {
   "cell_type": "code",
   "execution_count": 1,
   "id": "e567da2e-f431-4a46-806d-628d48d76525",
   "metadata": {},
   "outputs": [],
   "source": [
    "import pandas as pd\n",
    "import numpy as np"
   ]
  },
  {
   "cell_type": "code",
   "execution_count": 35,
   "id": "7c1cc54f-2afe-4993-a17a-ca37bfe10fdd",
   "metadata": {},
   "outputs": [],
   "source": [
    "movies_df = pd.read_csv(r'movies_IMDB_dataset.csv')"
   ]
  },
  {
   "cell_type": "code",
   "execution_count": 36,
   "id": "5574b29d-f794-4027-ae53-fca29c45707f",
   "metadata": {},
   "outputs": [
    {
     "data": {
      "text/plain": [
       "Index(['color', 'director_name', 'num_critic_for_reviews', 'duration',\n",
       "       'director_facebook_likes', 'actor_3_facebook_likes', 'actor_2_name',\n",
       "       'actor_1_facebook_likes', 'gross', 'genres', 'actor_1_name',\n",
       "       'movie_title', 'num_voted_users', 'cast_total_facebook_likes',\n",
       "       'actor_3_name', 'facenumber_in_poster', 'plot_keywords',\n",
       "       'movie_imdb_link', 'num_user_for_reviews', 'language', 'country',\n",
       "       'content_rating', 'budget', 'title_year', 'actor_2_facebook_likes',\n",
       "       'imdb_score', 'aspect_ratio', 'movie_facebook_likes'],\n",
       "      dtype='object')"
      ]
     },
     "execution_count": 36,
     "metadata": {},
     "output_type": "execute_result"
    }
   ],
   "source": [
    "movies_df.columns"
   ]
  },
  {
   "cell_type": "code",
   "execution_count": 37,
   "id": "296af4f1-51a1-4758-875b-71ccc7d91e3c",
   "metadata": {},
   "outputs": [
    {
     "data": {
      "text/plain": [
       "(3853, 28)"
      ]
     },
     "execution_count": 37,
     "metadata": {},
     "output_type": "execute_result"
    }
   ],
   "source": [
    "movies_df.shape"
   ]
  },
  {
   "cell_type": "markdown",
   "id": "baa2beeb-fc6b-4f0b-bf00-c5dbb374569e",
   "metadata": {},
   "source": [
    "1. Which of the following would you use to permanently drop the columns [\"color\", \"director_facebook_likes\", …\"aspect_ratio\", \"plot_keywords\"] from the DataFrame movies?"
   ]
  },
  {
   "cell_type": "code",
   "execution_count": 38,
   "id": "77e184e0-5b2b-417e-a4b3-a1754d8b8934",
   "metadata": {},
   "outputs": [],
   "source": [
    "\n",
    "movies_df.drop([\"color\", \"director_facebook_likes\", \"plot_keywords\"], axis=1, inplace = True)"
   ]
  },
  {
   "cell_type": "code",
   "execution_count": 39,
   "id": "e5b57675-8b7d-4c30-a0c7-ecd3f4827a32",
   "metadata": {},
   "outputs": [
    {
     "data": {
      "text/plain": [
       "False"
      ]
     },
     "execution_count": 39,
     "metadata": {},
     "output_type": "execute_result"
    }
   ],
   "source": [
    "\"plot_keywords\" in movies_df.columns"
   ]
  },
  {
   "cell_type": "markdown",
   "id": "bc433dee-4f8e-412b-908b-050c74d02c51",
   "metadata": {},
   "source": [
    "2. What is the total count of movies made in the English language?"
   ]
  },
  {
   "cell_type": "code",
   "execution_count": 40,
   "id": "25ee9802-fcc1-46d2-b1c7-2781b4c7f331",
   "metadata": {},
   "outputs": [
    {
     "data": {
      "text/plain": [
       "language\n",
       "English       3671\n",
       "French          37\n",
       "Spanish         26\n",
       "Mandarin        14\n",
       "German          13\n",
       "Japanese        12\n",
       "Hindi           10\n",
       "Cantonese        8\n",
       "Italian          7\n",
       "Portuguese       5\n",
       "Korean           5\n",
       "Norwegian        4\n",
       "Thai             3\n",
       "Persian          3\n",
       "Danish           3\n",
       "Dutch            3\n",
       "Dari             2\n",
       "Indonesian       2\n",
       "Hebrew           2\n",
       "Aboriginal       2\n",
       "Arabic           1\n",
       "Russian          1\n",
       "Vietnamese       1\n",
       "Dzongkha         1\n",
       "Romanian         1\n",
       "Zulu             1\n",
       "Bosnian          1\n",
       "Czech            1\n",
       "Icelandic        1\n",
       "Hungarian        1\n",
       "Mongolian        1\n",
       "Aramaic          1\n",
       "Telugu           1\n",
       "Kazakh           1\n",
       "Maya             1\n",
       "Filipino         1\n",
       "Swedish          1\n",
       "Name: count, dtype: int64"
      ]
     },
     "execution_count": 40,
     "metadata": {},
     "output_type": "execute_result"
    }
   ],
   "source": [
    "movies_df['language'].value_counts()"
   ]
  },
  {
   "cell_type": "markdown",
   "id": "463d084e-489d-453e-94fc-48ceea683cc6",
   "metadata": {},
   "source": [
    "3. Find the movie with the highest profit. Estimate a movie’s profit by subtracting the column 'budget' from the column 'gross'.\r\n",
    "\r\n",
    "Hint: You can add an additional column ‘profit’ to the DataFrame."
   ]
  },
  {
   "cell_type": "code",
   "execution_count": 41,
   "id": "813b6387-ab02-4256-ad34-ead82bf22173",
   "metadata": {},
   "outputs": [
    {
     "data": {
      "text/plain": [
       "Index(['director_name', 'num_critic_for_reviews', 'duration',\n",
       "       'actor_3_facebook_likes', 'actor_2_name', 'actor_1_facebook_likes',\n",
       "       'gross', 'genres', 'actor_1_name', 'movie_title', 'num_voted_users',\n",
       "       'cast_total_facebook_likes', 'actor_3_name', 'facenumber_in_poster',\n",
       "       'movie_imdb_link', 'num_user_for_reviews', 'language', 'country',\n",
       "       'content_rating', 'budget', 'title_year', 'actor_2_facebook_likes',\n",
       "       'imdb_score', 'aspect_ratio', 'movie_facebook_likes'],\n",
       "      dtype='object')"
      ]
     },
     "execution_count": 41,
     "metadata": {},
     "output_type": "execute_result"
    }
   ],
   "source": [
    "movies_df.columns"
   ]
  },
  {
   "cell_type": "code",
   "execution_count": 43,
   "id": "052599de-4270-45d9-85c0-ef5cc8e4104a",
   "metadata": {},
   "outputs": [
    {
     "data": {
      "text/html": [
       "<div>\n",
       "<style scoped>\n",
       "    .dataframe tbody tr th:only-of-type {\n",
       "        vertical-align: middle;\n",
       "    }\n",
       "\n",
       "    .dataframe tbody tr th {\n",
       "        vertical-align: top;\n",
       "    }\n",
       "\n",
       "    .dataframe thead th {\n",
       "        text-align: right;\n",
       "    }\n",
       "</style>\n",
       "<table border=\"1\" class=\"dataframe\">\n",
       "  <thead>\n",
       "    <tr style=\"text-align: right;\">\n",
       "      <th></th>\n",
       "      <th>director_name</th>\n",
       "      <th>num_critic_for_reviews</th>\n",
       "      <th>duration</th>\n",
       "      <th>actor_3_facebook_likes</th>\n",
       "      <th>actor_2_name</th>\n",
       "      <th>actor_1_facebook_likes</th>\n",
       "      <th>gross</th>\n",
       "      <th>genres</th>\n",
       "      <th>actor_1_name</th>\n",
       "      <th>movie_title</th>\n",
       "      <th>...</th>\n",
       "      <th>language</th>\n",
       "      <th>country</th>\n",
       "      <th>content_rating</th>\n",
       "      <th>budget</th>\n",
       "      <th>title_year</th>\n",
       "      <th>actor_2_facebook_likes</th>\n",
       "      <th>imdb_score</th>\n",
       "      <th>aspect_ratio</th>\n",
       "      <th>movie_facebook_likes</th>\n",
       "      <th>profit</th>\n",
       "    </tr>\n",
       "  </thead>\n",
       "  <tbody>\n",
       "    <tr>\n",
       "      <th>0</th>\n",
       "      <td>James Cameron</td>\n",
       "      <td>723.0</td>\n",
       "      <td>178.0</td>\n",
       "      <td>855.0</td>\n",
       "      <td>Joel David Moore</td>\n",
       "      <td>1000.0</td>\n",
       "      <td>760505847.0</td>\n",
       "      <td>Action|Adventure|Fantasy|Sci-Fi</td>\n",
       "      <td>CCH Pounder</td>\n",
       "      <td>Avatar</td>\n",
       "      <td>...</td>\n",
       "      <td>English</td>\n",
       "      <td>USA</td>\n",
       "      <td>PG-13</td>\n",
       "      <td>2.370000e+08</td>\n",
       "      <td>2009.0</td>\n",
       "      <td>936.0</td>\n",
       "      <td>7.9</td>\n",
       "      <td>1.78</td>\n",
       "      <td>33000</td>\n",
       "      <td>5.235058e+08</td>\n",
       "    </tr>\n",
       "    <tr>\n",
       "      <th>28</th>\n",
       "      <td>Colin Trevorrow</td>\n",
       "      <td>644.0</td>\n",
       "      <td>124.0</td>\n",
       "      <td>1000.0</td>\n",
       "      <td>Judy Greer</td>\n",
       "      <td>3000.0</td>\n",
       "      <td>652177271.0</td>\n",
       "      <td>Action|Adventure|Sci-Fi|Thriller</td>\n",
       "      <td>Bryce Dallas Howard</td>\n",
       "      <td>Jurassic World</td>\n",
       "      <td>...</td>\n",
       "      <td>English</td>\n",
       "      <td>USA</td>\n",
       "      <td>PG-13</td>\n",
       "      <td>1.500000e+08</td>\n",
       "      <td>2015.0</td>\n",
       "      <td>2000.0</td>\n",
       "      <td>7.0</td>\n",
       "      <td>2.00</td>\n",
       "      <td>150000</td>\n",
       "      <td>5.021773e+08</td>\n",
       "    </tr>\n",
       "    <tr>\n",
       "      <th>25</th>\n",
       "      <td>James Cameron</td>\n",
       "      <td>315.0</td>\n",
       "      <td>194.0</td>\n",
       "      <td>794.0</td>\n",
       "      <td>Kate Winslet</td>\n",
       "      <td>29000.0</td>\n",
       "      <td>658672302.0</td>\n",
       "      <td>Drama|Romance</td>\n",
       "      <td>Leonardo DiCaprio</td>\n",
       "      <td>Titanic</td>\n",
       "      <td>...</td>\n",
       "      <td>English</td>\n",
       "      <td>USA</td>\n",
       "      <td>PG-13</td>\n",
       "      <td>2.000000e+08</td>\n",
       "      <td>1997.0</td>\n",
       "      <td>14000.0</td>\n",
       "      <td>7.7</td>\n",
       "      <td>2.35</td>\n",
       "      <td>26000</td>\n",
       "      <td>4.586723e+08</td>\n",
       "    </tr>\n",
       "    <tr>\n",
       "      <th>2704</th>\n",
       "      <td>George Lucas</td>\n",
       "      <td>282.0</td>\n",
       "      <td>125.0</td>\n",
       "      <td>504.0</td>\n",
       "      <td>Peter Cushing</td>\n",
       "      <td>11000.0</td>\n",
       "      <td>460935665.0</td>\n",
       "      <td>Action|Adventure|Fantasy|Sci-Fi</td>\n",
       "      <td>Harrison Ford</td>\n",
       "      <td>Star Wars: Episode IV - A New Hope</td>\n",
       "      <td>...</td>\n",
       "      <td>English</td>\n",
       "      <td>USA</td>\n",
       "      <td>PG</td>\n",
       "      <td>1.100000e+07</td>\n",
       "      <td>1977.0</td>\n",
       "      <td>1000.0</td>\n",
       "      <td>8.7</td>\n",
       "      <td>2.35</td>\n",
       "      <td>33000</td>\n",
       "      <td>4.499357e+08</td>\n",
       "    </tr>\n",
       "    <tr>\n",
       "      <th>2748</th>\n",
       "      <td>Steven Spielberg</td>\n",
       "      <td>215.0</td>\n",
       "      <td>120.0</td>\n",
       "      <td>548.0</td>\n",
       "      <td>Dee Wallace</td>\n",
       "      <td>861.0</td>\n",
       "      <td>434949459.0</td>\n",
       "      <td>Family|Sci-Fi</td>\n",
       "      <td>Henry Thomas</td>\n",
       "      <td>E.T. the Extra-Terrestrial</td>\n",
       "      <td>...</td>\n",
       "      <td>English</td>\n",
       "      <td>USA</td>\n",
       "      <td>PG</td>\n",
       "      <td>1.050000e+07</td>\n",
       "      <td>1982.0</td>\n",
       "      <td>725.0</td>\n",
       "      <td>7.9</td>\n",
       "      <td>1.85</td>\n",
       "      <td>34000</td>\n",
       "      <td>4.244495e+08</td>\n",
       "    </tr>\n",
       "    <tr>\n",
       "      <th>...</th>\n",
       "      <td>...</td>\n",
       "      <td>...</td>\n",
       "      <td>...</td>\n",
       "      <td>...</td>\n",
       "      <td>...</td>\n",
       "      <td>...</td>\n",
       "      <td>...</td>\n",
       "      <td>...</td>\n",
       "      <td>...</td>\n",
       "      <td>...</td>\n",
       "      <td>...</td>\n",
       "      <td>...</td>\n",
       "      <td>...</td>\n",
       "      <td>...</td>\n",
       "      <td>...</td>\n",
       "      <td>...</td>\n",
       "      <td>...</td>\n",
       "      <td>...</td>\n",
       "      <td>...</td>\n",
       "      <td>...</td>\n",
       "      <td>...</td>\n",
       "    </tr>\n",
       "    <tr>\n",
       "      <th>2147</th>\n",
       "      <td>Katsuhiro Ôtomo</td>\n",
       "      <td>105.0</td>\n",
       "      <td>103.0</td>\n",
       "      <td>101.0</td>\n",
       "      <td>Robin Atkin Downes</td>\n",
       "      <td>488.0</td>\n",
       "      <td>410388.0</td>\n",
       "      <td>Action|Adventure|Animation|Family|Sci-Fi|Thriller</td>\n",
       "      <td>William Hootkins</td>\n",
       "      <td>Steamboy</td>\n",
       "      <td>...</td>\n",
       "      <td>Japanese</td>\n",
       "      <td>Japan</td>\n",
       "      <td>PG-13</td>\n",
       "      <td>2.127520e+09</td>\n",
       "      <td>2004.0</td>\n",
       "      <td>336.0</td>\n",
       "      <td>6.9</td>\n",
       "      <td>1.85</td>\n",
       "      <td>973</td>\n",
       "      <td>-2.127110e+09</td>\n",
       "    </tr>\n",
       "    <tr>\n",
       "      <th>2136</th>\n",
       "      <td>Hayao Miyazaki</td>\n",
       "      <td>174.0</td>\n",
       "      <td>134.0</td>\n",
       "      <td>745.0</td>\n",
       "      <td>Jada Pinkett Smith</td>\n",
       "      <td>893.0</td>\n",
       "      <td>2298191.0</td>\n",
       "      <td>Adventure|Animation|Fantasy</td>\n",
       "      <td>Minnie Driver</td>\n",
       "      <td>Princess Mononoke</td>\n",
       "      <td>...</td>\n",
       "      <td>Japanese</td>\n",
       "      <td>Japan</td>\n",
       "      <td>PG-13</td>\n",
       "      <td>2.400000e+09</td>\n",
       "      <td>1997.0</td>\n",
       "      <td>851.0</td>\n",
       "      <td>8.4</td>\n",
       "      <td>1.85</td>\n",
       "      <td>11000</td>\n",
       "      <td>-2.397702e+09</td>\n",
       "    </tr>\n",
       "    <tr>\n",
       "      <th>2693</th>\n",
       "      <td>Lajos Koltai</td>\n",
       "      <td>73.0</td>\n",
       "      <td>134.0</td>\n",
       "      <td>0.0</td>\n",
       "      <td>Péter Fancsikai</td>\n",
       "      <td>9.0</td>\n",
       "      <td>195888.0</td>\n",
       "      <td>Drama|Romance|War</td>\n",
       "      <td>Marcell Nagy</td>\n",
       "      <td>Fateless</td>\n",
       "      <td>...</td>\n",
       "      <td>Hungarian</td>\n",
       "      <td>Hungary</td>\n",
       "      <td>R</td>\n",
       "      <td>2.500000e+09</td>\n",
       "      <td>2005.0</td>\n",
       "      <td>2.0</td>\n",
       "      <td>7.1</td>\n",
       "      <td>2.35</td>\n",
       "      <td>607</td>\n",
       "      <td>-2.499804e+09</td>\n",
       "    </tr>\n",
       "    <tr>\n",
       "      <th>3282</th>\n",
       "      <td>Chan-wook Park</td>\n",
       "      <td>202.0</td>\n",
       "      <td>112.0</td>\n",
       "      <td>38.0</td>\n",
       "      <td>Yeong-ae Lee</td>\n",
       "      <td>717.0</td>\n",
       "      <td>211667.0</td>\n",
       "      <td>Crime|Drama</td>\n",
       "      <td>Min-sik Choi</td>\n",
       "      <td>Lady Vengeance</td>\n",
       "      <td>...</td>\n",
       "      <td>Korean</td>\n",
       "      <td>South Korea</td>\n",
       "      <td>R</td>\n",
       "      <td>4.200000e+09</td>\n",
       "      <td>2005.0</td>\n",
       "      <td>126.0</td>\n",
       "      <td>7.7</td>\n",
       "      <td>2.35</td>\n",
       "      <td>4000</td>\n",
       "      <td>-4.199788e+09</td>\n",
       "    </tr>\n",
       "    <tr>\n",
       "      <th>2678</th>\n",
       "      <td>Joon-ho Bong</td>\n",
       "      <td>363.0</td>\n",
       "      <td>110.0</td>\n",
       "      <td>74.0</td>\n",
       "      <td>Kang-ho Song</td>\n",
       "      <td>629.0</td>\n",
       "      <td>2201412.0</td>\n",
       "      <td>Comedy|Drama|Horror|Sci-Fi</td>\n",
       "      <td>Doona Bae</td>\n",
       "      <td>The Host</td>\n",
       "      <td>...</td>\n",
       "      <td>Korean</td>\n",
       "      <td>South Korea</td>\n",
       "      <td>R</td>\n",
       "      <td>1.221550e+10</td>\n",
       "      <td>2006.0</td>\n",
       "      <td>398.0</td>\n",
       "      <td>7.0</td>\n",
       "      <td>1.85</td>\n",
       "      <td>7000</td>\n",
       "      <td>-1.221330e+10</td>\n",
       "    </tr>\n",
       "  </tbody>\n",
       "</table>\n",
       "<p>3853 rows × 26 columns</p>\n",
       "</div>"
      ],
      "text/plain": [
       "         director_name  num_critic_for_reviews  duration  \\\n",
       "0        James Cameron                   723.0     178.0   \n",
       "28     Colin Trevorrow                   644.0     124.0   \n",
       "25       James Cameron                   315.0     194.0   \n",
       "2704      George Lucas                   282.0     125.0   \n",
       "2748  Steven Spielberg                   215.0     120.0   \n",
       "...                ...                     ...       ...   \n",
       "2147   Katsuhiro Ôtomo                   105.0     103.0   \n",
       "2136    Hayao Miyazaki                   174.0     134.0   \n",
       "2693      Lajos Koltai                    73.0     134.0   \n",
       "3282    Chan-wook Park                   202.0     112.0   \n",
       "2678      Joon-ho Bong                   363.0     110.0   \n",
       "\n",
       "      actor_3_facebook_likes        actor_2_name  actor_1_facebook_likes  \\\n",
       "0                      855.0    Joel David Moore                  1000.0   \n",
       "28                    1000.0          Judy Greer                  3000.0   \n",
       "25                     794.0        Kate Winslet                 29000.0   \n",
       "2704                   504.0       Peter Cushing                 11000.0   \n",
       "2748                   548.0         Dee Wallace                   861.0   \n",
       "...                      ...                 ...                     ...   \n",
       "2147                   101.0  Robin Atkin Downes                   488.0   \n",
       "2136                   745.0  Jada Pinkett Smith                   893.0   \n",
       "2693                     0.0     Péter Fancsikai                     9.0   \n",
       "3282                    38.0        Yeong-ae Lee                   717.0   \n",
       "2678                    74.0        Kang-ho Song                   629.0   \n",
       "\n",
       "            gross                                             genres  \\\n",
       "0     760505847.0                    Action|Adventure|Fantasy|Sci-Fi   \n",
       "28    652177271.0                   Action|Adventure|Sci-Fi|Thriller   \n",
       "25    658672302.0                                      Drama|Romance   \n",
       "2704  460935665.0                    Action|Adventure|Fantasy|Sci-Fi   \n",
       "2748  434949459.0                                      Family|Sci-Fi   \n",
       "...           ...                                                ...   \n",
       "2147     410388.0  Action|Adventure|Animation|Family|Sci-Fi|Thriller   \n",
       "2136    2298191.0                        Adventure|Animation|Fantasy   \n",
       "2693     195888.0                                  Drama|Romance|War   \n",
       "3282     211667.0                                        Crime|Drama   \n",
       "2678    2201412.0                         Comedy|Drama|Horror|Sci-Fi   \n",
       "\n",
       "             actor_1_name                         movie_title  ...   language  \\\n",
       "0             CCH Pounder                              Avatar  ...    English   \n",
       "28    Bryce Dallas Howard                      Jurassic World  ...    English   \n",
       "25      Leonardo DiCaprio                             Titanic  ...    English   \n",
       "2704        Harrison Ford  Star Wars: Episode IV - A New Hope  ...    English   \n",
       "2748         Henry Thomas          E.T. the Extra-Terrestrial  ...    English   \n",
       "...                   ...                                 ...  ...        ...   \n",
       "2147     William Hootkins                            Steamboy  ...   Japanese   \n",
       "2136        Minnie Driver                   Princess Mononoke  ...   Japanese   \n",
       "2693         Marcell Nagy                            Fateless  ...  Hungarian   \n",
       "3282         Min-sik Choi                      Lady Vengeance  ...     Korean   \n",
       "2678            Doona Bae                            The Host  ...     Korean   \n",
       "\n",
       "          country content_rating        budget title_year  \\\n",
       "0             USA          PG-13  2.370000e+08     2009.0   \n",
       "28            USA          PG-13  1.500000e+08     2015.0   \n",
       "25            USA          PG-13  2.000000e+08     1997.0   \n",
       "2704          USA             PG  1.100000e+07     1977.0   \n",
       "2748          USA             PG  1.050000e+07     1982.0   \n",
       "...           ...            ...           ...        ...   \n",
       "2147        Japan          PG-13  2.127520e+09     2004.0   \n",
       "2136        Japan          PG-13  2.400000e+09     1997.0   \n",
       "2693      Hungary              R  2.500000e+09     2005.0   \n",
       "3282  South Korea              R  4.200000e+09     2005.0   \n",
       "2678  South Korea              R  1.221550e+10     2006.0   \n",
       "\n",
       "      actor_2_facebook_likes imdb_score aspect_ratio movie_facebook_likes  \\\n",
       "0                      936.0        7.9         1.78                33000   \n",
       "28                    2000.0        7.0         2.00               150000   \n",
       "25                   14000.0        7.7         2.35                26000   \n",
       "2704                  1000.0        8.7         2.35                33000   \n",
       "2748                   725.0        7.9         1.85                34000   \n",
       "...                      ...        ...          ...                  ...   \n",
       "2147                   336.0        6.9         1.85                  973   \n",
       "2136                   851.0        8.4         1.85                11000   \n",
       "2693                     2.0        7.1         2.35                  607   \n",
       "3282                   126.0        7.7         2.35                 4000   \n",
       "2678                   398.0        7.0         1.85                 7000   \n",
       "\n",
       "            profit  \n",
       "0     5.235058e+08  \n",
       "28    5.021773e+08  \n",
       "25    4.586723e+08  \n",
       "2704  4.499357e+08  \n",
       "2748  4.244495e+08  \n",
       "...            ...  \n",
       "2147 -2.127110e+09  \n",
       "2136 -2.397702e+09  \n",
       "2693 -2.499804e+09  \n",
       "3282 -4.199788e+09  \n",
       "2678 -1.221330e+10  \n",
       "\n",
       "[3853 rows x 26 columns]"
      ]
     },
     "execution_count": 43,
     "metadata": {},
     "output_type": "execute_result"
    }
   ],
   "source": [
    "movies_df['profit'] =  movies_df['gross'] - movies_df['budget']\n",
    "\n",
    "movies_df.sort_values(by='profit', ascending=False)"
   ]
  },
  {
   "cell_type": "markdown",
   "id": "7e77bf28-5f1f-48d9-8662-c0d9c20e1c90",
   "metadata": {},
   "source": [
    "What is the IMDb score for the movie ‘The Dark Knight’?"
   ]
  },
  {
   "cell_type": "code",
   "execution_count": 46,
   "id": "954067df-c736-4d71-a8ab-15290b500584",
   "metadata": {},
   "outputs": [
    {
     "data": {
      "text/plain": [
       "64    9.0\n",
       "Name: imdb_score, dtype: float64"
      ]
     },
     "execution_count": 46,
     "metadata": {},
     "output_type": "execute_result"
    }
   ],
   "source": [
    "movies_df[movies_df['movie_title'] == \"The Dark Knight\"]['imdb_score']"
   ]
  },
  {
   "cell_type": "markdown",
   "id": "a355d7ec-a796-486a-a2d6-debe171c90f8",
   "metadata": {},
   "source": [
    "What is the average IMDb score for the movies starring Leonardo DiCaprio as the first actor?"
   ]
  },
  {
   "cell_type": "code",
   "execution_count": 58,
   "id": "db01b7f5-526c-4bcb-a133-dd2afcf8eced",
   "metadata": {},
   "outputs": [
    {
     "data": {
      "text/plain": [
       "7.0"
      ]
     },
     "execution_count": 58,
     "metadata": {},
     "output_type": "execute_result"
    }
   ],
   "source": [
    "movies_df[movies_df['actor_1_name'] == \"Leonardo DiCaprio\"]['imdb_score'].mean().round()"
   ]
  },
  {
   "cell_type": "code",
   "execution_count": null,
   "id": "a336a7b5-1990-450e-8e75-92b1c41d3098",
   "metadata": {},
   "outputs": [],
   "source": []
  }
 ],
 "metadata": {
  "kernelspec": {
   "display_name": "Python 3 (ipykernel)",
   "language": "python",
   "name": "python3"
  },
  "language_info": {
   "codemirror_mode": {
    "name": "ipython",
    "version": 3
   },
   "file_extension": ".py",
   "mimetype": "text/x-python",
   "name": "python",
   "nbconvert_exporter": "python",
   "pygments_lexer": "ipython3",
   "version": "3.10.11"
  }
 },
 "nbformat": 4,
 "nbformat_minor": 5
}
