{
 "cells": [
  {
   "cell_type": "markdown",
   "id": "98639ef0-c41f-4f34-b894-08e502aa526c",
   "metadata": {},
   "source": [
    "## Filtering Series and DataFrames\n",
    "\n",
    "Similar to arrays, the use of boolean arrays can help to filter Series and DataFrames. Filters can be applied to a Series, DataFrame Column (also a Series), or a DataFrame provided the boolean array is appropirately sized."
   ]
  },
  {
   "cell_type": "code",
   "execution_count": 6,
   "id": "6c598ef7-c183-4a90-99ed-aa0f71e318ba",
   "metadata": {},
   "outputs": [],
   "source": [
    "import pandas as pd\n",
    "import numpy as np"
   ]
  },
  {
   "cell_type": "markdown",
   "id": "f000ef55-11da-45f7-bc75-db38093d066c",
   "metadata": {},
   "source": [
    "#### Row Filtering"
   ]
  },
  {
   "cell_type": "code",
   "execution_count": 7,
   "id": "5637e115-0283-4d96-8c98-19d4a3797427",
   "metadata": {},
   "outputs": [
    {
     "data": {
      "text/html": [
       "<div>\n",
       "<style scoped>\n",
       "    .dataframe tbody tr th:only-of-type {\n",
       "        vertical-align: middle;\n",
       "    }\n",
       "\n",
       "    .dataframe tbody tr th {\n",
       "        vertical-align: top;\n",
       "    }\n",
       "\n",
       "    .dataframe thead th {\n",
       "        text-align: right;\n",
       "    }\n",
       "</style>\n",
       "<table border=\"1\" class=\"dataframe\">\n",
       "  <thead>\n",
       "    <tr style=\"text-align: right;\">\n",
       "      <th></th>\n",
       "      <th>a</th>\n",
       "      <th>b</th>\n",
       "      <th>c</th>\n",
       "      <th>d</th>\n",
       "    </tr>\n",
       "  </thead>\n",
       "  <tbody>\n",
       "    <tr>\n",
       "      <th>1</th>\n",
       "      <td>0.817405</td>\n",
       "      <td>0.608123</td>\n",
       "      <td>0.938207</td>\n",
       "      <td>0.574088</td>\n",
       "    </tr>\n",
       "    <tr>\n",
       "      <th>2</th>\n",
       "      <td>0.637347</td>\n",
       "      <td>0.521438</td>\n",
       "      <td>0.705501</td>\n",
       "      <td>0.221501</td>\n",
       "    </tr>\n",
       "    <tr>\n",
       "      <th>3</th>\n",
       "      <td>0.230520</td>\n",
       "      <td>0.044124</td>\n",
       "      <td>0.197023</td>\n",
       "      <td>0.062270</td>\n",
       "    </tr>\n",
       "  </tbody>\n",
       "</table>\n",
       "</div>"
      ],
      "text/plain": [
       "          a         b         c         d\n",
       "1  0.817405  0.608123  0.938207  0.574088\n",
       "2  0.637347  0.521438  0.705501  0.221501\n",
       "3  0.230520  0.044124  0.197023  0.062270"
      ]
     },
     "execution_count": 7,
     "metadata": {},
     "output_type": "execute_result"
    }
   ],
   "source": [
    "df1 = pd.DataFrame(np.random.rand(3, 4), columns=[\"a\", \"b\", \"c\", \"d\"], index=[1, 2, 3])\n",
    "df1"
   ]
  },
  {
   "cell_type": "markdown",
   "id": "097905aa-8143-4404-b764-bc6db2067528",
   "metadata": {},
   "source": [
    "##### Boolean Filtering"
   ]
  },
  {
   "cell_type": "code",
   "execution_count": 8,
   "id": "20a58b87-461b-4e85-8b65-b4f13055a8bd",
   "metadata": {},
   "outputs": [
    {
     "data": {
      "text/html": [
       "<div>\n",
       "<style scoped>\n",
       "    .dataframe tbody tr th:only-of-type {\n",
       "        vertical-align: middle;\n",
       "    }\n",
       "\n",
       "    .dataframe tbody tr th {\n",
       "        vertical-align: top;\n",
       "    }\n",
       "\n",
       "    .dataframe thead th {\n",
       "        text-align: right;\n",
       "    }\n",
       "</style>\n",
       "<table border=\"1\" class=\"dataframe\">\n",
       "  <thead>\n",
       "    <tr style=\"text-align: right;\">\n",
       "      <th></th>\n",
       "      <th>a</th>\n",
       "      <th>b</th>\n",
       "      <th>c</th>\n",
       "      <th>d</th>\n",
       "    </tr>\n",
       "  </thead>\n",
       "  <tbody>\n",
       "    <tr>\n",
       "      <th>1</th>\n",
       "      <td>0.817405</td>\n",
       "      <td>0.608123</td>\n",
       "      <td>0.938207</td>\n",
       "      <td>0.574088</td>\n",
       "    </tr>\n",
       "    <tr>\n",
       "      <th>3</th>\n",
       "      <td>0.230520</td>\n",
       "      <td>0.044124</td>\n",
       "      <td>0.197023</td>\n",
       "      <td>0.062270</td>\n",
       "    </tr>\n",
       "  </tbody>\n",
       "</table>\n",
       "</div>"
      ],
      "text/plain": [
       "          a         b         c         d\n",
       "1  0.817405  0.608123  0.938207  0.574088\n",
       "3  0.230520  0.044124  0.197023  0.062270"
      ]
     },
     "execution_count": 8,
     "metadata": {},
     "output_type": "execute_result"
    }
   ],
   "source": [
    "df1.loc[np.array([True, False, True])]"
   ]
  },
  {
   "cell_type": "markdown",
   "id": "2a452117-fdf5-4749-b49c-f9ac2614545f",
   "metadata": {},
   "source": [
    "##### Index Filtering"
   ]
  },
  {
   "cell_type": "code",
   "execution_count": 9,
   "id": "f68a1d55-cb0b-4085-b671-aba740fc3d54",
   "metadata": {},
   "outputs": [
    {
     "data": {
      "text/html": [
       "<div>\n",
       "<style scoped>\n",
       "    .dataframe tbody tr th:only-of-type {\n",
       "        vertical-align: middle;\n",
       "    }\n",
       "\n",
       "    .dataframe tbody tr th {\n",
       "        vertical-align: top;\n",
       "    }\n",
       "\n",
       "    .dataframe thead th {\n",
       "        text-align: right;\n",
       "    }\n",
       "</style>\n",
       "<table border=\"1\" class=\"dataframe\">\n",
       "  <thead>\n",
       "    <tr style=\"text-align: right;\">\n",
       "      <th></th>\n",
       "      <th>a</th>\n",
       "      <th>b</th>\n",
       "      <th>c</th>\n",
       "      <th>d</th>\n",
       "    </tr>\n",
       "  </thead>\n",
       "  <tbody>\n",
       "    <tr>\n",
       "      <th>1</th>\n",
       "      <td>0.817405</td>\n",
       "      <td>0.608123</td>\n",
       "      <td>0.938207</td>\n",
       "      <td>0.574088</td>\n",
       "    </tr>\n",
       "    <tr>\n",
       "      <th>2</th>\n",
       "      <td>0.637347</td>\n",
       "      <td>0.521438</td>\n",
       "      <td>0.705501</td>\n",
       "      <td>0.221501</td>\n",
       "    </tr>\n",
       "  </tbody>\n",
       "</table>\n",
       "</div>"
      ],
      "text/plain": [
       "          a         b         c         d\n",
       "1  0.817405  0.608123  0.938207  0.574088\n",
       "2  0.637347  0.521438  0.705501  0.221501"
      ]
     },
     "execution_count": 9,
     "metadata": {},
     "output_type": "execute_result"
    }
   ],
   "source": [
    "df1.loc[[1, 2]]"
   ]
  },
  {
   "cell_type": "markdown",
   "id": "5a1a0304-f2a0-4507-aa06-85419aed3142",
   "metadata": {},
   "source": [
    "#### Column Filtering"
   ]
  },
  {
   "cell_type": "code",
   "execution_count": 12,
   "id": "80628830-4caa-4a37-990d-649e9ce5ce63",
   "metadata": {},
   "outputs": [
    {
     "data": {
      "text/html": [
       "<div>\n",
       "<style scoped>\n",
       "    .dataframe tbody tr th:only-of-type {\n",
       "        vertical-align: middle;\n",
       "    }\n",
       "\n",
       "    .dataframe tbody tr th {\n",
       "        vertical-align: top;\n",
       "    }\n",
       "\n",
       "    .dataframe thead th {\n",
       "        text-align: right;\n",
       "    }\n",
       "</style>\n",
       "<table border=\"1\" class=\"dataframe\">\n",
       "  <thead>\n",
       "    <tr style=\"text-align: right;\">\n",
       "      <th></th>\n",
       "      <th>a</th>\n",
       "      <th>d</th>\n",
       "    </tr>\n",
       "  </thead>\n",
       "  <tbody>\n",
       "    <tr>\n",
       "      <th>1</th>\n",
       "      <td>0.817405</td>\n",
       "      <td>0.574088</td>\n",
       "    </tr>\n",
       "    <tr>\n",
       "      <th>2</th>\n",
       "      <td>0.637347</td>\n",
       "      <td>0.221501</td>\n",
       "    </tr>\n",
       "    <tr>\n",
       "      <th>3</th>\n",
       "      <td>0.230520</td>\n",
       "      <td>0.062270</td>\n",
       "    </tr>\n",
       "  </tbody>\n",
       "</table>\n",
       "</div>"
      ],
      "text/plain": [
       "          a         d\n",
       "1  0.817405  0.574088\n",
       "2  0.637347  0.221501\n",
       "3  0.230520  0.062270"
      ]
     },
     "execution_count": 12,
     "metadata": {},
     "output_type": "execute_result"
    }
   ],
   "source": [
    "df1.loc[:, np.array([True, False, False, True])]"
   ]
  },
  {
   "cell_type": "markdown",
   "id": "31e6e9aa-6d1d-4bd8-8149-41c1e1b4ce87",
   "metadata": {},
   "source": [
    "#### Filtering By Comparison Mask"
   ]
  },
  {
   "cell_type": "code",
   "execution_count": 25,
   "id": "109f5131-68aa-45e4-9c79-c890ac218e04",
   "metadata": {},
   "outputs": [
    {
     "data": {
      "text/html": [
       "<div>\n",
       "<style scoped>\n",
       "    .dataframe tbody tr th:only-of-type {\n",
       "        vertical-align: middle;\n",
       "    }\n",
       "\n",
       "    .dataframe tbody tr th {\n",
       "        vertical-align: top;\n",
       "    }\n",
       "\n",
       "    .dataframe thead th {\n",
       "        text-align: right;\n",
       "    }\n",
       "</style>\n",
       "<table border=\"1\" class=\"dataframe\">\n",
       "  <thead>\n",
       "    <tr style=\"text-align: right;\">\n",
       "      <th></th>\n",
       "      <th>a</th>\n",
       "      <th>b</th>\n",
       "      <th>c</th>\n",
       "      <th>d</th>\n",
       "    </tr>\n",
       "  </thead>\n",
       "  <tbody>\n",
       "    <tr>\n",
       "      <th>1</th>\n",
       "      <td>True</td>\n",
       "      <td>False</td>\n",
       "      <td>True</td>\n",
       "      <td>False</td>\n",
       "    </tr>\n",
       "    <tr>\n",
       "      <th>2</th>\n",
       "      <td>False</td>\n",
       "      <td>False</td>\n",
       "      <td>False</td>\n",
       "      <td>False</td>\n",
       "    </tr>\n",
       "    <tr>\n",
       "      <th>3</th>\n",
       "      <td>False</td>\n",
       "      <td>False</td>\n",
       "      <td>False</td>\n",
       "      <td>False</td>\n",
       "    </tr>\n",
       "  </tbody>\n",
       "</table>\n",
       "</div>"
      ],
      "text/plain": [
       "       a      b      c      d\n",
       "1   True  False   True  False\n",
       "2  False  False  False  False\n",
       "3  False  False  False  False"
      ]
     },
     "execution_count": 25,
     "metadata": {},
     "output_type": "execute_result"
    }
   ],
   "source": [
    "mask = df1 > 0.8\n",
    "mask "
   ]
  },
  {
   "cell_type": "markdown",
   "id": "490961f0-1b22-43e8-bb54-5e081dd2790f",
   "metadata": {},
   "source": [
    "You can apply any or all mask\n",
    "by `axis 0` and `axis 1` to column and row."
   ]
  },
  {
   "cell_type": "code",
   "execution_count": 17,
   "id": "c0ae7ef3-135b-4fc6-b205-7b998d8b1c8f",
   "metadata": {},
   "outputs": [
    {
     "data": {
      "text/plain": [
       "1     True\n",
       "2     True\n",
       "3    False\n",
       "dtype: bool"
      ]
     },
     "execution_count": 17,
     "metadata": {},
     "output_type": "execute_result"
    }
   ],
   "source": [
    "mask.any(axis=1)"
   ]
  },
  {
   "cell_type": "code",
   "execution_count": 20,
   "id": "7b34c294-2c57-4f53-a010-63f22c4bcd55",
   "metadata": {},
   "outputs": [
    {
     "data": {
      "text/plain": [
       "a    False\n",
       "b    False\n",
       "c    False\n",
       "d    False\n",
       "dtype: bool"
      ]
     },
     "execution_count": 20,
     "metadata": {},
     "output_type": "execute_result"
    }
   ],
   "source": [
    "mask.all()"
   ]
  },
  {
   "cell_type": "code",
   "execution_count": 21,
   "id": "3f20ac63-7543-4132-902e-70f4564e4eed",
   "metadata": {},
   "outputs": [
    {
     "data": {
      "text/html": [
       "<div>\n",
       "<style scoped>\n",
       "    .dataframe tbody tr th:only-of-type {\n",
       "        vertical-align: middle;\n",
       "    }\n",
       "\n",
       "    .dataframe tbody tr th {\n",
       "        vertical-align: top;\n",
       "    }\n",
       "\n",
       "    .dataframe thead th {\n",
       "        text-align: right;\n",
       "    }\n",
       "</style>\n",
       "<table border=\"1\" class=\"dataframe\">\n",
       "  <thead>\n",
       "    <tr style=\"text-align: right;\">\n",
       "      <th></th>\n",
       "      <th>a</th>\n",
       "      <th>b</th>\n",
       "      <th>c</th>\n",
       "      <th>d</th>\n",
       "    </tr>\n",
       "  </thead>\n",
       "  <tbody>\n",
       "    <tr>\n",
       "      <th>1</th>\n",
       "      <td>0.817405</td>\n",
       "      <td>0.608123</td>\n",
       "      <td>0.938207</td>\n",
       "      <td>0.574088</td>\n",
       "    </tr>\n",
       "    <tr>\n",
       "      <th>2</th>\n",
       "      <td>0.637347</td>\n",
       "      <td>0.521438</td>\n",
       "      <td>0.705501</td>\n",
       "      <td>0.221501</td>\n",
       "    </tr>\n",
       "    <tr>\n",
       "      <th>3</th>\n",
       "      <td>0.230520</td>\n",
       "      <td>0.044124</td>\n",
       "      <td>0.197023</td>\n",
       "      <td>0.062270</td>\n",
       "    </tr>\n",
       "  </tbody>\n",
       "</table>\n",
       "</div>"
      ],
      "text/plain": [
       "          a         b         c         d\n",
       "1  0.817405  0.608123  0.938207  0.574088\n",
       "2  0.637347  0.521438  0.705501  0.221501\n",
       "3  0.230520  0.044124  0.197023  0.062270"
      ]
     },
     "execution_count": 21,
     "metadata": {},
     "output_type": "execute_result"
    }
   ],
   "source": [
    "df1"
   ]
  },
  {
   "cell_type": "code",
   "execution_count": 22,
   "id": "72da0961-c8c7-464d-8b39-e930a4637e82",
   "metadata": {},
   "outputs": [
    {
     "data": {
      "text/html": [
       "<div>\n",
       "<style scoped>\n",
       "    .dataframe tbody tr th:only-of-type {\n",
       "        vertical-align: middle;\n",
       "    }\n",
       "\n",
       "    .dataframe tbody tr th {\n",
       "        vertical-align: top;\n",
       "    }\n",
       "\n",
       "    .dataframe thead th {\n",
       "        text-align: right;\n",
       "    }\n",
       "</style>\n",
       "<table border=\"1\" class=\"dataframe\">\n",
       "  <thead>\n",
       "    <tr style=\"text-align: right;\">\n",
       "      <th></th>\n",
       "      <th>a</th>\n",
       "      <th>b</th>\n",
       "      <th>c</th>\n",
       "      <th>d</th>\n",
       "    </tr>\n",
       "  </thead>\n",
       "  <tbody>\n",
       "    <tr>\n",
       "      <th>1</th>\n",
       "      <td>True</td>\n",
       "      <td>False</td>\n",
       "      <td>True</td>\n",
       "      <td>False</td>\n",
       "    </tr>\n",
       "    <tr>\n",
       "      <th>2</th>\n",
       "      <td>False</td>\n",
       "      <td>False</td>\n",
       "      <td>True</td>\n",
       "      <td>False</td>\n",
       "    </tr>\n",
       "    <tr>\n",
       "      <th>3</th>\n",
       "      <td>False</td>\n",
       "      <td>False</td>\n",
       "      <td>False</td>\n",
       "      <td>False</td>\n",
       "    </tr>\n",
       "  </tbody>\n",
       "</table>\n",
       "</div>"
      ],
      "text/plain": [
       "       a      b      c      d\n",
       "1   True  False   True  False\n",
       "2  False  False   True  False\n",
       "3  False  False  False  False"
      ]
     },
     "execution_count": 22,
     "metadata": {},
     "output_type": "execute_result"
    }
   ],
   "source": [
    "mask"
   ]
  },
  {
   "cell_type": "code",
   "execution_count": 26,
   "id": "dbb452b1-814f-4a8f-b99b-9aee3a83f5cc",
   "metadata": {},
   "outputs": [
    {
     "data": {
      "text/html": [
       "<div>\n",
       "<style scoped>\n",
       "    .dataframe tbody tr th:only-of-type {\n",
       "        vertical-align: middle;\n",
       "    }\n",
       "\n",
       "    .dataframe tbody tr th {\n",
       "        vertical-align: top;\n",
       "    }\n",
       "\n",
       "    .dataframe thead th {\n",
       "        text-align: right;\n",
       "    }\n",
       "</style>\n",
       "<table border=\"1\" class=\"dataframe\">\n",
       "  <thead>\n",
       "    <tr style=\"text-align: right;\">\n",
       "      <th></th>\n",
       "      <th>a</th>\n",
       "      <th>b</th>\n",
       "      <th>c</th>\n",
       "      <th>d</th>\n",
       "    </tr>\n",
       "  </thead>\n",
       "  <tbody>\n",
       "    <tr>\n",
       "      <th>1</th>\n",
       "      <td>0.817405</td>\n",
       "      <td>0.608123</td>\n",
       "      <td>0.938207</td>\n",
       "      <td>0.574088</td>\n",
       "    </tr>\n",
       "  </tbody>\n",
       "</table>\n",
       "</div>"
      ],
      "text/plain": [
       "          a         b         c         d\n",
       "1  0.817405  0.608123  0.938207  0.574088"
      ]
     },
     "execution_count": 26,
     "metadata": {},
     "output_type": "execute_result"
    }
   ],
   "source": [
    "df1.loc[mask.any(axis=1), :]"
   ]
  },
  {
   "cell_type": "markdown",
   "id": "1b6435cd-0990-415d-9735-59b84971be60",
   "metadata": {},
   "source": [
    "### Filtering Inline"
   ]
  },
  {
   "cell_type": "markdown",
   "id": "a32d3a38-3edf-4cb7-b5b9-62b5fa1727e9",
   "metadata": {},
   "source": [
    "##### Filtering based on individual values."
   ]
  },
  {
   "cell_type": "code",
   "execution_count": 27,
   "id": "c27c8adb-41c8-4997-b836-e6426d6266be",
   "metadata": {},
   "outputs": [
    {
     "data": {
      "text/html": [
       "<div>\n",
       "<style scoped>\n",
       "    .dataframe tbody tr th:only-of-type {\n",
       "        vertical-align: middle;\n",
       "    }\n",
       "\n",
       "    .dataframe tbody tr th {\n",
       "        vertical-align: top;\n",
       "    }\n",
       "\n",
       "    .dataframe thead th {\n",
       "        text-align: right;\n",
       "    }\n",
       "</style>\n",
       "<table border=\"1\" class=\"dataframe\">\n",
       "  <thead>\n",
       "    <tr style=\"text-align: right;\">\n",
       "      <th></th>\n",
       "      <th>a</th>\n",
       "      <th>b</th>\n",
       "      <th>c</th>\n",
       "      <th>d</th>\n",
       "    </tr>\n",
       "  </thead>\n",
       "  <tbody>\n",
       "    <tr>\n",
       "      <th>1</th>\n",
       "      <td>0.489635</td>\n",
       "      <td>0.727563</td>\n",
       "      <td>0.374323</td>\n",
       "      <td>0.924405</td>\n",
       "    </tr>\n",
       "    <tr>\n",
       "      <th>2</th>\n",
       "      <td>0.657168</td>\n",
       "      <td>0.850210</td>\n",
       "      <td>0.880022</td>\n",
       "      <td>0.422601</td>\n",
       "    </tr>\n",
       "    <tr>\n",
       "      <th>3</th>\n",
       "      <td>0.409413</td>\n",
       "      <td>0.584174</td>\n",
       "      <td>0.847283</td>\n",
       "      <td>0.734742</td>\n",
       "    </tr>\n",
       "  </tbody>\n",
       "</table>\n",
       "</div>"
      ],
      "text/plain": [
       "          a         b         c         d\n",
       "1  0.489635  0.727563  0.374323  0.924405\n",
       "2  0.657168  0.850210  0.880022  0.422601\n",
       "3  0.409413  0.584174  0.847283  0.734742"
      ]
     },
     "execution_count": 27,
     "metadata": {},
     "output_type": "execute_result"
    }
   ],
   "source": [
    "df2 = pd.DataFrame(np.random.rand(3, 4), columns=['a', 'b', 'c', 'd'], index=[1, 2, 3])\n",
    "df2"
   ]
  },
  {
   "cell_type": "code",
   "execution_count": 30,
   "id": "d3081ec7-3888-462b-8f8e-c0a906fad6c8",
   "metadata": {},
   "outputs": [
    {
     "data": {
      "text/html": [
       "<div>\n",
       "<style scoped>\n",
       "    .dataframe tbody tr th:only-of-type {\n",
       "        vertical-align: middle;\n",
       "    }\n",
       "\n",
       "    .dataframe tbody tr th {\n",
       "        vertical-align: top;\n",
       "    }\n",
       "\n",
       "    .dataframe thead th {\n",
       "        text-align: right;\n",
       "    }\n",
       "</style>\n",
       "<table border=\"1\" class=\"dataframe\">\n",
       "  <thead>\n",
       "    <tr style=\"text-align: right;\">\n",
       "      <th></th>\n",
       "      <th>a</th>\n",
       "      <th>b</th>\n",
       "      <th>c</th>\n",
       "      <th>d</th>\n",
       "    </tr>\n",
       "  </thead>\n",
       "  <tbody>\n",
       "    <tr>\n",
       "      <th>1</th>\n",
       "      <td>NaN</td>\n",
       "      <td>NaN</td>\n",
       "      <td>NaN</td>\n",
       "      <td>0.924405</td>\n",
       "    </tr>\n",
       "    <tr>\n",
       "      <th>2</th>\n",
       "      <td>NaN</td>\n",
       "      <td>0.85021</td>\n",
       "      <td>0.880022</td>\n",
       "      <td>NaN</td>\n",
       "    </tr>\n",
       "    <tr>\n",
       "      <th>3</th>\n",
       "      <td>NaN</td>\n",
       "      <td>NaN</td>\n",
       "      <td>0.847283</td>\n",
       "      <td>NaN</td>\n",
       "    </tr>\n",
       "  </tbody>\n",
       "</table>\n",
       "</div>"
      ],
      "text/plain": [
       "    a        b         c         d\n",
       "1 NaN      NaN       NaN  0.924405\n",
       "2 NaN  0.85021  0.880022       NaN\n",
       "3 NaN      NaN  0.847283       NaN"
      ]
     },
     "execution_count": 30,
     "metadata": {},
     "output_type": "execute_result"
    }
   ],
   "source": [
    "df2[df2 > 0.8]"
   ]
  },
  {
   "cell_type": "markdown",
   "id": "c706764e-b4f5-4250-82f9-a30e97033921",
   "metadata": {},
   "source": [
    "#### Filtering based on column values."
   ]
  },
  {
   "cell_type": "code",
   "execution_count": 31,
   "id": "e5ee174c-3023-4769-859c-f3aae8077638",
   "metadata": {},
   "outputs": [
    {
     "data": {
      "text/html": [
       "<div>\n",
       "<style scoped>\n",
       "    .dataframe tbody tr th:only-of-type {\n",
       "        vertical-align: middle;\n",
       "    }\n",
       "\n",
       "    .dataframe tbody tr th {\n",
       "        vertical-align: top;\n",
       "    }\n",
       "\n",
       "    .dataframe thead th {\n",
       "        text-align: right;\n",
       "    }\n",
       "</style>\n",
       "<table border=\"1\" class=\"dataframe\">\n",
       "  <thead>\n",
       "    <tr style=\"text-align: right;\">\n",
       "      <th></th>\n",
       "      <th>a</th>\n",
       "      <th>b</th>\n",
       "      <th>c</th>\n",
       "      <th>d</th>\n",
       "      <th>color</th>\n",
       "    </tr>\n",
       "  </thead>\n",
       "  <tbody>\n",
       "    <tr>\n",
       "      <th>1</th>\n",
       "      <td>0.489635</td>\n",
       "      <td>0.727563</td>\n",
       "      <td>0.374323</td>\n",
       "      <td>0.924405</td>\n",
       "      <td>blue</td>\n",
       "    </tr>\n",
       "    <tr>\n",
       "      <th>2</th>\n",
       "      <td>0.657168</td>\n",
       "      <td>0.850210</td>\n",
       "      <td>0.880022</td>\n",
       "      <td>0.422601</td>\n",
       "      <td>green</td>\n",
       "    </tr>\n",
       "    <tr>\n",
       "      <th>3</th>\n",
       "      <td>0.409413</td>\n",
       "      <td>0.584174</td>\n",
       "      <td>0.847283</td>\n",
       "      <td>0.734742</td>\n",
       "      <td>blue</td>\n",
       "    </tr>\n",
       "  </tbody>\n",
       "</table>\n",
       "</div>"
      ],
      "text/plain": [
       "          a         b         c         d  color\n",
       "1  0.489635  0.727563  0.374323  0.924405   blue\n",
       "2  0.657168  0.850210  0.880022  0.422601  green\n",
       "3  0.409413  0.584174  0.847283  0.734742   blue"
      ]
     },
     "execution_count": 31,
     "metadata": {},
     "output_type": "execute_result"
    }
   ],
   "source": [
    "df2[\"color\"] = [\"blue\", \"green\", \"blue\"]\n",
    "df2"
   ]
  },
  {
   "cell_type": "code",
   "execution_count": 44,
   "id": "a9cdd499-0f11-4d3e-b842-19a0cb21f844",
   "metadata": {},
   "outputs": [
    {
     "data": {
      "text/html": [
       "<div>\n",
       "<style scoped>\n",
       "    .dataframe tbody tr th:only-of-type {\n",
       "        vertical-align: middle;\n",
       "    }\n",
       "\n",
       "    .dataframe tbody tr th {\n",
       "        vertical-align: top;\n",
       "    }\n",
       "\n",
       "    .dataframe thead th {\n",
       "        text-align: right;\n",
       "    }\n",
       "</style>\n",
       "<table border=\"1\" class=\"dataframe\">\n",
       "  <thead>\n",
       "    <tr style=\"text-align: right;\">\n",
       "      <th></th>\n",
       "      <th>a</th>\n",
       "      <th>b</th>\n",
       "      <th>c</th>\n",
       "      <th>d</th>\n",
       "      <th>color</th>\n",
       "    </tr>\n",
       "  </thead>\n",
       "  <tbody>\n",
       "    <tr>\n",
       "      <th>1</th>\n",
       "      <td>0.489635</td>\n",
       "      <td>0.0</td>\n",
       "      <td>0.374323</td>\n",
       "      <td>0.924405</td>\n",
       "      <td>blue</td>\n",
       "    </tr>\n",
       "    <tr>\n",
       "      <th>3</th>\n",
       "      <td>0.409413</td>\n",
       "      <td>0.0</td>\n",
       "      <td>0.847283</td>\n",
       "      <td>0.734742</td>\n",
       "      <td>blue</td>\n",
       "    </tr>\n",
       "  </tbody>\n",
       "</table>\n",
       "</div>"
      ],
      "text/plain": [
       "          a    b         c         d color\n",
       "1  0.489635  0.0  0.374323  0.924405  blue\n",
       "3  0.409413  0.0  0.847283  0.734742  blue"
      ]
     },
     "execution_count": 44,
     "metadata": {},
     "output_type": "execute_result"
    }
   ],
   "source": [
    "df2[df2[\"color\"] == \"blue\"]"
   ]
  },
  {
   "cell_type": "code",
   "execution_count": 33,
   "id": "ce22ee72-bb61-49a2-aba3-63c2bd5185df",
   "metadata": {},
   "outputs": [
    {
     "data": {
      "text/plain": [
       "2    0.85021\n",
       "Name: b, dtype: float64"
      ]
     },
     "execution_count": 33,
     "metadata": {},
     "output_type": "execute_result"
    }
   ],
   "source": [
    "df2.loc[df2[\"color\"] == \"green\", 'b']"
   ]
  },
  {
   "cell_type": "markdown",
   "id": "841c855f-c4a8-41a8-b4bd-6d6a5b57c7a0",
   "metadata": {},
   "source": [
    "##### Combining Filtering With Assignment."
   ]
  },
  {
   "cell_type": "code",
   "execution_count": 35,
   "id": "42b4eb9e-3794-4466-bfdc-5174c87760ec",
   "metadata": {},
   "outputs": [
    {
     "data": {
      "text/html": [
       "<div>\n",
       "<style scoped>\n",
       "    .dataframe tbody tr th:only-of-type {\n",
       "        vertical-align: middle;\n",
       "    }\n",
       "\n",
       "    .dataframe tbody tr th {\n",
       "        vertical-align: top;\n",
       "    }\n",
       "\n",
       "    .dataframe thead th {\n",
       "        text-align: right;\n",
       "    }\n",
       "</style>\n",
       "<table border=\"1\" class=\"dataframe\">\n",
       "  <thead>\n",
       "    <tr style=\"text-align: right;\">\n",
       "      <th></th>\n",
       "      <th>a</th>\n",
       "      <th>b</th>\n",
       "      <th>c</th>\n",
       "      <th>d</th>\n",
       "      <th>color</th>\n",
       "    </tr>\n",
       "  </thead>\n",
       "  <tbody>\n",
       "    <tr>\n",
       "      <th>1</th>\n",
       "      <td>0.489635</td>\n",
       "      <td>0.00000</td>\n",
       "      <td>0.374323</td>\n",
       "      <td>0.924405</td>\n",
       "      <td>blue</td>\n",
       "    </tr>\n",
       "    <tr>\n",
       "      <th>2</th>\n",
       "      <td>0.657168</td>\n",
       "      <td>0.85021</td>\n",
       "      <td>0.880022</td>\n",
       "      <td>0.422601</td>\n",
       "      <td>green</td>\n",
       "    </tr>\n",
       "    <tr>\n",
       "      <th>3</th>\n",
       "      <td>0.409413</td>\n",
       "      <td>0.00000</td>\n",
       "      <td>0.847283</td>\n",
       "      <td>0.734742</td>\n",
       "      <td>blue</td>\n",
       "    </tr>\n",
       "  </tbody>\n",
       "</table>\n",
       "</div>"
      ],
      "text/plain": [
       "          a        b         c         d  color\n",
       "1  0.489635  0.00000  0.374323  0.924405   blue\n",
       "2  0.657168  0.85021  0.880022  0.422601  green\n",
       "3  0.409413  0.00000  0.847283  0.734742   blue"
      ]
     },
     "execution_count": 35,
     "metadata": {},
     "output_type": "execute_result"
    }
   ],
   "source": [
    "df2.loc[df2['color'] == 'blue', 'b'] = 0\n",
    "df2"
   ]
  },
  {
   "cell_type": "markdown",
   "id": "0e333c18-3978-4782-a40b-b7a36a067795",
   "metadata": {},
   "source": [
    "#### Fellowship eligibility\n",
    "Consider DataFrame grades containing grades earned by three friends—Bing, Mahima, and Otto—in introductory-level university courses such as Python 101, Statistics 101, Visualization 101, and Physics 101. The DataFrame is provided below:"
   ]
  },
  {
   "cell_type": "code",
   "execution_count": 36,
   "id": "6ac810a9-e389-4d02-96e6-510907c87ee7",
   "metadata": {},
   "outputs": [
    {
     "data": {
      "text/html": [
       "<div>\n",
       "<style scoped>\n",
       "    .dataframe tbody tr th:only-of-type {\n",
       "        vertical-align: middle;\n",
       "    }\n",
       "\n",
       "    .dataframe tbody tr th {\n",
       "        vertical-align: top;\n",
       "    }\n",
       "\n",
       "    .dataframe thead th {\n",
       "        text-align: right;\n",
       "    }\n",
       "</style>\n",
       "<table border=\"1\" class=\"dataframe\">\n",
       "  <thead>\n",
       "    <tr style=\"text-align: right;\">\n",
       "      <th></th>\n",
       "      <th>python_101</th>\n",
       "      <th>statistics_101</th>\n",
       "      <th>visualization_101</th>\n",
       "      <th>physics_101</th>\n",
       "    </tr>\n",
       "  </thead>\n",
       "  <tbody>\n",
       "    <tr>\n",
       "      <th>Bing</th>\n",
       "      <td>78</td>\n",
       "      <td>88</td>\n",
       "      <td>82</td>\n",
       "      <td>65</td>\n",
       "    </tr>\n",
       "    <tr>\n",
       "      <th>Mahima</th>\n",
       "      <td>87</td>\n",
       "      <td>67</td>\n",
       "      <td>76</td>\n",
       "      <td>39</td>\n",
       "    </tr>\n",
       "    <tr>\n",
       "      <th>Otto</th>\n",
       "      <td>71</td>\n",
       "      <td>90</td>\n",
       "      <td>39</td>\n",
       "      <td>56</td>\n",
       "    </tr>\n",
       "  </tbody>\n",
       "</table>\n",
       "</div>"
      ],
      "text/plain": [
       "        python_101  statistics_101  visualization_101  physics_101\n",
       "Bing            78              88                 82           65\n",
       "Mahima          87              67                 76           39\n",
       "Otto            71              90                 39           56"
      ]
     },
     "execution_count": 36,
     "metadata": {},
     "output_type": "execute_result"
    }
   ],
   "source": [
    "grades = pd.DataFrame({'python_101' : [78, 87, 71],\n",
    "                      'statistics_101' : [88, 67, 90],\n",
    "                      'visualization_101' : [82, 76, 39],\n",
    "                      'physics_101' : [65, 39, 56]},\n",
    "                     index = ['Bing','Mahima','Otto'])\n",
    "grades"
   ]
  },
  {
   "cell_type": "markdown",
   "id": "6b514727-1cb8-4eb2-a7c3-dff2c52bed9b",
   "metadata": {},
   "source": [
    "The university wants to analyze the students’ grades in order to choose the recipient(s) for a fellowship. To receive the fellowship, a student must have a grade of at least 65 in all subjects. Write code that returns True for every student if they fulfill this requirement and False if they do not."
   ]
  },
  {
   "cell_type": "code",
   "execution_count": 43,
   "id": "05f05276-6341-4305-b8be-d5be2f11877c",
   "metadata": {},
   "outputs": [
    {
     "data": {
      "text/plain": [
       "Bing       True\n",
       "Mahima    False\n",
       "Otto      False\n",
       "dtype: bool"
      ]
     },
     "execution_count": 43,
     "metadata": {},
     "output_type": "execute_result"
    }
   ],
   "source": [
    "(grades >= 65).all(axis = 1)"
   ]
  },
  {
   "cell_type": "code",
   "execution_count": null,
   "id": "f7223846-2cd1-4704-b87b-b932d9f8a27b",
   "metadata": {},
   "outputs": [],
   "source": []
  }
 ],
 "metadata": {
  "kernelspec": {
   "display_name": "Python 3 (ipykernel)",
   "language": "python",
   "name": "python3"
  },
  "language_info": {
   "codemirror_mode": {
    "name": "ipython",
    "version": 3
   },
   "file_extension": ".py",
   "mimetype": "text/x-python",
   "name": "python",
   "nbconvert_exporter": "python",
   "pygments_lexer": "ipython3",
   "version": "3.10.11"
  }
 },
 "nbformat": 4,
 "nbformat_minor": 5
}
