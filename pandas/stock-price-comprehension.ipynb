{
 "cells": [
  {
   "cell_type": "code",
   "execution_count": 1,
   "id": "aff2983c-98ba-4d73-94f4-bb9165b7cc6e",
   "metadata": {},
   "outputs": [],
   "source": [
    "day_list = [1, 2, 3, 4, 5, 6, 7, 8, 9, 10, 11, 12, 13, 14, 15]\n",
    " \n",
    "apple_list = [172.19, 175.08, 175.53, 172.19, 173.07, 169.8, 166.23, 164.51, 162.41, 161.62, 159.78, 159.69, 159.22, 170.33, 174.78]\n",
    " \n",
    "microsoft_list = [314.27, 314.98, 318.27, 304.8, 310.2, 302.65, 303.33, 301.6, 296.03, 296.37, 288.49, 296.71, 299.84, 308.26, 310.98]\n",
    " \n",
    "meta_list = [328.07, 334.37, 333.26, 326.48, 331.9, 318.15, 319.59, 316.56, 303.17, 308.71, 300.15, 294.63, 294.64, 301.71, 313.26]\n",
    " \n",
    "amazon_list = [3229.72, 3307.24, 3304.14, 3224.28, 3242.76, 3178.35, 3125.98, 3033.35, 2852.86, 2890.88, 2799.72, 2777.45, 2792.75, 2879.56, 2991.47]\n",
    " \n",
    "tesla_list = [1058.12, 1064.4, 1106.22, 1031.56, 1049.61, 1030.51, 995.65, 996.27, 943.9, 930, 918.4, 937.41, 829.1, 846.35, 936.72]"
   ]
  },
  {
   "cell_type": "code",
   "execution_count": 2,
   "id": "2a15eed7-f7e9-4ce5-8739-f721615eb34d",
   "metadata": {},
   "outputs": [
    {
     "data": {
      "text/html": [
       "<div>\n",
       "<style scoped>\n",
       "    .dataframe tbody tr th:only-of-type {\n",
       "        vertical-align: middle;\n",
       "    }\n",
       "\n",
       "    .dataframe tbody tr th {\n",
       "        vertical-align: top;\n",
       "    }\n",
       "\n",
       "    .dataframe thead th {\n",
       "        text-align: right;\n",
       "    }\n",
       "</style>\n",
       "<table border=\"1\" class=\"dataframe\">\n",
       "  <thead>\n",
       "    <tr style=\"text-align: right;\">\n",
       "      <th></th>\n",
       "      <th>apple</th>\n",
       "      <th>microsoft</th>\n",
       "      <th>meta</th>\n",
       "      <th>amazon</th>\n",
       "      <th>tesla</th>\n",
       "    </tr>\n",
       "  </thead>\n",
       "  <tbody>\n",
       "    <tr>\n",
       "      <th>1</th>\n",
       "      <td>172.19</td>\n",
       "      <td>314.27</td>\n",
       "      <td>328.07</td>\n",
       "      <td>3229.72</td>\n",
       "      <td>1058.12</td>\n",
       "    </tr>\n",
       "    <tr>\n",
       "      <th>2</th>\n",
       "      <td>175.08</td>\n",
       "      <td>314.98</td>\n",
       "      <td>334.37</td>\n",
       "      <td>3307.24</td>\n",
       "      <td>1064.40</td>\n",
       "    </tr>\n",
       "    <tr>\n",
       "      <th>3</th>\n",
       "      <td>175.53</td>\n",
       "      <td>318.27</td>\n",
       "      <td>333.26</td>\n",
       "      <td>3304.14</td>\n",
       "      <td>1106.22</td>\n",
       "    </tr>\n",
       "    <tr>\n",
       "      <th>4</th>\n",
       "      <td>172.19</td>\n",
       "      <td>304.80</td>\n",
       "      <td>326.48</td>\n",
       "      <td>3224.28</td>\n",
       "      <td>1031.56</td>\n",
       "    </tr>\n",
       "    <tr>\n",
       "      <th>5</th>\n",
       "      <td>173.07</td>\n",
       "      <td>310.20</td>\n",
       "      <td>331.90</td>\n",
       "      <td>3242.76</td>\n",
       "      <td>1049.61</td>\n",
       "    </tr>\n",
       "    <tr>\n",
       "      <th>6</th>\n",
       "      <td>169.80</td>\n",
       "      <td>302.65</td>\n",
       "      <td>318.15</td>\n",
       "      <td>3178.35</td>\n",
       "      <td>1030.51</td>\n",
       "    </tr>\n",
       "    <tr>\n",
       "      <th>7</th>\n",
       "      <td>166.23</td>\n",
       "      <td>303.33</td>\n",
       "      <td>319.59</td>\n",
       "      <td>3125.98</td>\n",
       "      <td>995.65</td>\n",
       "    </tr>\n",
       "    <tr>\n",
       "      <th>8</th>\n",
       "      <td>164.51</td>\n",
       "      <td>301.60</td>\n",
       "      <td>316.56</td>\n",
       "      <td>3033.35</td>\n",
       "      <td>996.27</td>\n",
       "    </tr>\n",
       "    <tr>\n",
       "      <th>9</th>\n",
       "      <td>162.41</td>\n",
       "      <td>296.03</td>\n",
       "      <td>303.17</td>\n",
       "      <td>2852.86</td>\n",
       "      <td>943.90</td>\n",
       "    </tr>\n",
       "    <tr>\n",
       "      <th>10</th>\n",
       "      <td>161.62</td>\n",
       "      <td>296.37</td>\n",
       "      <td>308.71</td>\n",
       "      <td>2890.88</td>\n",
       "      <td>930.00</td>\n",
       "    </tr>\n",
       "    <tr>\n",
       "      <th>11</th>\n",
       "      <td>159.78</td>\n",
       "      <td>288.49</td>\n",
       "      <td>300.15</td>\n",
       "      <td>2799.72</td>\n",
       "      <td>918.40</td>\n",
       "    </tr>\n",
       "    <tr>\n",
       "      <th>12</th>\n",
       "      <td>159.69</td>\n",
       "      <td>296.71</td>\n",
       "      <td>294.63</td>\n",
       "      <td>2777.45</td>\n",
       "      <td>937.41</td>\n",
       "    </tr>\n",
       "    <tr>\n",
       "      <th>13</th>\n",
       "      <td>159.22</td>\n",
       "      <td>299.84</td>\n",
       "      <td>294.64</td>\n",
       "      <td>2792.75</td>\n",
       "      <td>829.10</td>\n",
       "    </tr>\n",
       "    <tr>\n",
       "      <th>14</th>\n",
       "      <td>170.33</td>\n",
       "      <td>308.26</td>\n",
       "      <td>301.71</td>\n",
       "      <td>2879.56</td>\n",
       "      <td>846.35</td>\n",
       "    </tr>\n",
       "    <tr>\n",
       "      <th>15</th>\n",
       "      <td>174.78</td>\n",
       "      <td>310.98</td>\n",
       "      <td>313.26</td>\n",
       "      <td>2991.47</td>\n",
       "      <td>936.72</td>\n",
       "    </tr>\n",
       "  </tbody>\n",
       "</table>\n",
       "</div>"
      ],
      "text/plain": [
       "     apple  microsoft    meta   amazon    tesla\n",
       "1   172.19     314.27  328.07  3229.72  1058.12\n",
       "2   175.08     314.98  334.37  3307.24  1064.40\n",
       "3   175.53     318.27  333.26  3304.14  1106.22\n",
       "4   172.19     304.80  326.48  3224.28  1031.56\n",
       "5   173.07     310.20  331.90  3242.76  1049.61\n",
       "6   169.80     302.65  318.15  3178.35  1030.51\n",
       "7   166.23     303.33  319.59  3125.98   995.65\n",
       "8   164.51     301.60  316.56  3033.35   996.27\n",
       "9   162.41     296.03  303.17  2852.86   943.90\n",
       "10  161.62     296.37  308.71  2890.88   930.00\n",
       "11  159.78     288.49  300.15  2799.72   918.40\n",
       "12  159.69     296.71  294.63  2777.45   937.41\n",
       "13  159.22     299.84  294.64  2792.75   829.10\n",
       "14  170.33     308.26  301.71  2879.56   846.35\n",
       "15  174.78     310.98  313.26  2991.47   936.72"
      ]
     },
     "execution_count": 2,
     "metadata": {},
     "output_type": "execute_result"
    }
   ],
   "source": [
    "# Importing the required library\n",
    "import pandas as pd\n",
    " \n",
    "# Defining the DataFrame\n",
    "stocks = pd.DataFrame({'apple': apple_list, \\\n",
    "                       'microsoft': microsoft_list, \\\n",
    "                       'meta': meta_list, \\\n",
    "                       'amazon': amazon_list, \\\n",
    "                       'tesla': tesla_list}, \\\n",
    "                       index=day_list)\n",
    " \n",
    " \n",
    "# Printing the DataFrame\n",
    "stocks"
   ]
  },
  {
   "cell_type": "markdown",
   "id": "1b3f4765-d228-4ba1-bc0c-ffdca74b2351",
   "metadata": {},
   "source": [
    "Which of the following will return the stock prices for the last 5 days?"
   ]
  },
  {
   "cell_type": "code",
   "execution_count": 3,
   "id": "1735eb6e-9dcd-49d1-86d5-b472f3b9f3f0",
   "metadata": {},
   "outputs": [
    {
     "data": {
      "text/html": [
       "<div>\n",
       "<style scoped>\n",
       "    .dataframe tbody tr th:only-of-type {\n",
       "        vertical-align: middle;\n",
       "    }\n",
       "\n",
       "    .dataframe tbody tr th {\n",
       "        vertical-align: top;\n",
       "    }\n",
       "\n",
       "    .dataframe thead th {\n",
       "        text-align: right;\n",
       "    }\n",
       "</style>\n",
       "<table border=\"1\" class=\"dataframe\">\n",
       "  <thead>\n",
       "    <tr style=\"text-align: right;\">\n",
       "      <th></th>\n",
       "      <th>apple</th>\n",
       "      <th>microsoft</th>\n",
       "      <th>meta</th>\n",
       "      <th>amazon</th>\n",
       "      <th>tesla</th>\n",
       "    </tr>\n",
       "  </thead>\n",
       "  <tbody>\n",
       "    <tr>\n",
       "      <th>11</th>\n",
       "      <td>159.78</td>\n",
       "      <td>288.49</td>\n",
       "      <td>300.15</td>\n",
       "      <td>2799.72</td>\n",
       "      <td>918.40</td>\n",
       "    </tr>\n",
       "    <tr>\n",
       "      <th>12</th>\n",
       "      <td>159.69</td>\n",
       "      <td>296.71</td>\n",
       "      <td>294.63</td>\n",
       "      <td>2777.45</td>\n",
       "      <td>937.41</td>\n",
       "    </tr>\n",
       "    <tr>\n",
       "      <th>13</th>\n",
       "      <td>159.22</td>\n",
       "      <td>299.84</td>\n",
       "      <td>294.64</td>\n",
       "      <td>2792.75</td>\n",
       "      <td>829.10</td>\n",
       "    </tr>\n",
       "    <tr>\n",
       "      <th>14</th>\n",
       "      <td>170.33</td>\n",
       "      <td>308.26</td>\n",
       "      <td>301.71</td>\n",
       "      <td>2879.56</td>\n",
       "      <td>846.35</td>\n",
       "    </tr>\n",
       "    <tr>\n",
       "      <th>15</th>\n",
       "      <td>174.78</td>\n",
       "      <td>310.98</td>\n",
       "      <td>313.26</td>\n",
       "      <td>2991.47</td>\n",
       "      <td>936.72</td>\n",
       "    </tr>\n",
       "  </tbody>\n",
       "</table>\n",
       "</div>"
      ],
      "text/plain": [
       "     apple  microsoft    meta   amazon   tesla\n",
       "11  159.78     288.49  300.15  2799.72  918.40\n",
       "12  159.69     296.71  294.63  2777.45  937.41\n",
       "13  159.22     299.84  294.64  2792.75  829.10\n",
       "14  170.33     308.26  301.71  2879.56  846.35\n",
       "15  174.78     310.98  313.26  2991.47  936.72"
      ]
     },
     "execution_count": 3,
     "metadata": {},
     "output_type": "execute_result"
    }
   ],
   "source": [
    "stocks.tail()"
   ]
  },
  {
   "cell_type": "markdown",
   "id": "bdc793f5-4359-4bfc-9e19-915a8cb947fe",
   "metadata": {},
   "source": [
    "Write code to find the average price for each stock."
   ]
  },
  {
   "cell_type": "code",
   "execution_count": 5,
   "id": "d7b77107-dfd3-49cc-8697-f30f30c11c1e",
   "metadata": {},
   "outputs": [
    {
     "data": {
      "text/plain": [
       "apple         167.762000\n",
       "microsoft     304.452000\n",
       "meta          314.976667\n",
       "amazon       3042.034000\n",
       "tesla         978.281333\n",
       "dtype: float64"
      ]
     },
     "execution_count": 5,
     "metadata": {},
     "output_type": "execute_result"
    }
   ],
   "source": [
    "stocks.mean()"
   ]
  },
  {
   "cell_type": "code",
   "execution_count": 6,
   "id": "e9a92b53-9177-43c9-9b6c-fb13f987a275",
   "metadata": {},
   "outputs": [
    {
     "data": {
      "text/plain": [
       "apple         167.762000\n",
       "microsoft     304.452000\n",
       "meta          314.976667\n",
       "amazon       3042.034000\n",
       "tesla         978.281333\n",
       "Name: mean, dtype: float64"
      ]
     },
     "execution_count": 6,
     "metadata": {},
     "output_type": "execute_result"
    }
   ],
   "source": [
    "stocks.describe().loc['mean']"
   ]
  },
  {
   "cell_type": "markdown",
   "id": "b82612a9-91f8-47dc-80dc-f1e0af94cbf5",
   "metadata": {},
   "source": [
    "What is the maximum stock price for Amazon over the given period?"
   ]
  },
  {
   "cell_type": "code",
   "execution_count": 9,
   "id": "ac4723b8-3b49-4667-b434-739f5ba13331",
   "metadata": {},
   "outputs": [
    {
     "data": {
      "text/plain": [
       "3307.24"
      ]
     },
     "execution_count": 9,
     "metadata": {},
     "output_type": "execute_result"
    }
   ],
   "source": [
    "stocks['amazon'].max()"
   ]
  },
  {
   "cell_type": "markdown",
   "id": "fbaa6f15-e53a-448e-85a7-9c95c43b05de",
   "metadata": {},
   "source": [
    "Suppose a person purchases one stock of each company on Day 6. What would be the total value of their investment on that day?"
   ]
  },
  {
   "cell_type": "code",
   "execution_count": 11,
   "id": "84857189-e7a6-4b8b-9b86-d48624e211bf",
   "metadata": {},
   "outputs": [
    {
     "data": {
      "text/plain": [
       "4999.46"
      ]
     },
     "execution_count": 11,
     "metadata": {},
     "output_type": "execute_result"
    }
   ],
   "source": [
    "stocks.loc[6].sum()"
   ]
  },
  {
   "cell_type": "code",
   "execution_count": 18,
   "id": "8a9bfd4d-b658-4942-b95e-32c4083d68a2",
   "metadata": {},
   "outputs": [
    {
     "data": {
      "text/plain": [
       "apple        0.657138\n",
       "microsoft    0.591854\n",
       "meta         0.911109\n",
       "amazon       0.905781\n",
       "tesla        1.000000\n",
       "Name: tesla, dtype: float64"
      ]
     },
     "execution_count": 18,
     "metadata": {},
     "output_type": "execute_result"
    }
   ],
   "source": [
    "stocks.corr().loc[\"tesla\"]"
   ]
  },
  {
   "cell_type": "code",
   "execution_count": null,
   "id": "a9129d22-5159-41db-bf35-2bfc36857b6e",
   "metadata": {},
   "outputs": [],
   "source": []
  }
 ],
 "metadata": {
  "kernelspec": {
   "display_name": "Python 3 (ipykernel)",
   "language": "python",
   "name": "python3"
  },
  "language_info": {
   "codemirror_mode": {
    "name": "ipython",
    "version": 3
   },
   "file_extension": ".py",
   "mimetype": "text/x-python",
   "name": "python",
   "nbconvert_exporter": "python",
   "pygments_lexer": "ipython3",
   "version": "3.10.11"
  }
 },
 "nbformat": 4,
 "nbformat_minor": 5
}
