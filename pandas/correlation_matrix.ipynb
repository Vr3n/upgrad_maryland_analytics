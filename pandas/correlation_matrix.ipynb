{
 "cells": [
  {
   "cell_type": "markdown",
   "id": "743c537b-4942-4a26-be4c-099aa58e5970",
   "metadata": {},
   "source": [
    "## Correlation Matrix and Categorical Series\n"
   ]
  },
  {
   "cell_type": "markdown",
   "id": "baf41b2b-f654-4e4e-a110-aa8e108c64b7",
   "metadata": {},
   "source": [
    "### Modifying Max Rows and Columns\n",
    "\n",
    "Use `pd.set_option('attribute', x)` Attributes include `min_rows`, `max_rows`, `min_columns`, `max_columns`"
   ]
  },
  {
   "cell_type": "code",
   "execution_count": 1,
   "id": "f09e1c04-a028-4e1d-a9ab-619840d6cf82",
   "metadata": {},
   "outputs": [],
   "source": [
    "import pandas as pd\n",
    "import numpy as np"
   ]
  },
  {
   "cell_type": "markdown",
   "id": "f25b5708-fe4f-457e-89c6-56afaab28075",
   "metadata": {},
   "source": [
    "### Correlation Matrix"
   ]
  },
  {
   "cell_type": "code",
   "execution_count": 8,
   "id": "008dbeec-5a43-4326-88ee-ad3fe18704cb",
   "metadata": {},
   "outputs": [],
   "source": [
    "df = pd.DataFrame(np.random.randn(100 ,3))"
   ]
  },
  {
   "cell_type": "code",
   "execution_count": 9,
   "id": "17990a93-172b-4998-a6bd-28a207fcbca4",
   "metadata": {},
   "outputs": [
    {
     "data": {
      "text/html": [
       "<div>\n",
       "<style scoped>\n",
       "    .dataframe tbody tr th:only-of-type {\n",
       "        vertical-align: middle;\n",
       "    }\n",
       "\n",
       "    .dataframe tbody tr th {\n",
       "        vertical-align: top;\n",
       "    }\n",
       "\n",
       "    .dataframe thead th {\n",
       "        text-align: right;\n",
       "    }\n",
       "</style>\n",
       "<table border=\"1\" class=\"dataframe\">\n",
       "  <thead>\n",
       "    <tr style=\"text-align: right;\">\n",
       "      <th></th>\n",
       "      <th>0</th>\n",
       "      <th>1</th>\n",
       "      <th>2</th>\n",
       "    </tr>\n",
       "  </thead>\n",
       "  <tbody>\n",
       "    <tr>\n",
       "      <th>0</th>\n",
       "      <td>1.000000</td>\n",
       "      <td>-0.031942</td>\n",
       "      <td>-0.019403</td>\n",
       "    </tr>\n",
       "    <tr>\n",
       "      <th>1</th>\n",
       "      <td>-0.031942</td>\n",
       "      <td>1.000000</td>\n",
       "      <td>0.262668</td>\n",
       "    </tr>\n",
       "    <tr>\n",
       "      <th>2</th>\n",
       "      <td>-0.019403</td>\n",
       "      <td>0.262668</td>\n",
       "      <td>1.000000</td>\n",
       "    </tr>\n",
       "  </tbody>\n",
       "</table>\n",
       "</div>"
      ],
      "text/plain": [
       "          0         1         2\n",
       "0  1.000000 -0.031942 -0.019403\n",
       "1 -0.031942  1.000000  0.262668\n",
       "2 -0.019403  0.262668  1.000000"
      ]
     },
     "execution_count": 9,
     "metadata": {},
     "output_type": "execute_result"
    }
   ],
   "source": [
    "df.corr()"
   ]
  },
  {
   "cell_type": "markdown",
   "id": "a3658a0b-6ddf-4488-839a-771d329291e5",
   "metadata": {},
   "source": [
    "### Creating a Categorical Series\n",
    "\n",
    "Categorical data is collection of information divided into groups."
   ]
  },
  {
   "cell_type": "code",
   "execution_count": 12,
   "id": "da3f4a6e-f291-41b0-82c6-5499c1743341",
   "metadata": {},
   "outputs": [
    {
     "data": {
      "text/plain": [
       "0    green\n",
       "1    green\n",
       "2    green\n",
       "3      red\n",
       "4      red\n",
       "dtype: object"
      ]
     },
     "execution_count": 12,
     "metadata": {},
     "output_type": "execute_result"
    }
   ],
   "source": [
    "cat_series = pd.Series(['green'] * 3 + ['red'] * 15 + ['blue'] * 10)\n",
    "cat_series.head()"
   ]
  },
  {
   "cell_type": "code",
   "execution_count": 13,
   "id": "fda58e2e-d13e-42df-b4c4-01c39bf56f0c",
   "metadata": {},
   "outputs": [
    {
     "data": {
      "text/plain": [
       "23    blue\n",
       "24    blue\n",
       "25    blue\n",
       "26    blue\n",
       "27    blue\n",
       "dtype: object"
      ]
     },
     "execution_count": 13,
     "metadata": {},
     "output_type": "execute_result"
    }
   ],
   "source": [
    "cat_series.tail()"
   ]
  },
  {
   "cell_type": "code",
   "execution_count": 14,
   "id": "77405e89-b408-41ab-ab16-780662ddb791",
   "metadata": {},
   "outputs": [
    {
     "data": {
      "text/plain": [
       "array(['green', 'red', 'blue'], dtype=object)"
      ]
     },
     "execution_count": 14,
     "metadata": {},
     "output_type": "execute_result"
    }
   ],
   "source": [
    "cat_series.unique()"
   ]
  },
  {
   "cell_type": "code",
   "execution_count": 15,
   "id": "7f0e7eda-2e55-4bcd-b03d-89d15389c8ae",
   "metadata": {},
   "outputs": [
    {
     "data": {
      "text/plain": [
       "red      15\n",
       "blue     10\n",
       "green     3\n",
       "Name: count, dtype: int64"
      ]
     },
     "execution_count": 15,
     "metadata": {},
     "output_type": "execute_result"
    }
   ],
   "source": [
    "cat_series.value_counts()"
   ]
  },
  {
   "cell_type": "code",
   "execution_count": 20,
   "id": "5fac5869-d1b6-4ab0-8786-0b94dc23aa73",
   "metadata": {},
   "outputs": [
    {
     "data": {
      "text/plain": [
       "18"
      ]
     },
     "execution_count": 20,
     "metadata": {},
     "output_type": "execute_result"
    }
   ],
   "source": [
    "cat_series[cat_series.isin(['red', 'green'])].count()"
   ]
  },
  {
   "cell_type": "code",
   "execution_count": 21,
   "id": "05741cdd-f34a-4983-8314-9d95b25d7427",
   "metadata": {},
   "outputs": [
    {
     "data": {
      "text/plain": [
       "18"
      ]
     },
     "execution_count": 21,
     "metadata": {},
     "output_type": "execute_result"
    }
   ],
   "source": [
    "cat_series.isin(['red', 'green']).sum()"
   ]
  },
  {
   "cell_type": "code",
   "execution_count": null,
   "id": "e2b35839-09ea-4f2d-a25f-b32592b0ae6a",
   "metadata": {},
   "outputs": [],
   "source": []
  }
 ],
 "metadata": {
  "kernelspec": {
   "display_name": "Python 3 (ipykernel)",
   "language": "python",
   "name": "python3"
  },
  "language_info": {
   "codemirror_mode": {
    "name": "ipython",
    "version": 3
   },
   "file_extension": ".py",
   "mimetype": "text/x-python",
   "name": "python",
   "nbconvert_exporter": "python",
   "pygments_lexer": "ipython3",
   "version": "3.10.11"
  }
 },
 "nbformat": 4,
 "nbformat_minor": 5
}
