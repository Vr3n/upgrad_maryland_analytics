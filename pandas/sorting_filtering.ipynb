{
 "cells": [
  {
   "cell_type": "markdown",
   "id": "0874eea8-c3c3-4f7f-8073-4c2377e1e734",
   "metadata": {},
   "source": [
    "## Sorting and Ranking\n",
    "\n",
    "Often times, you will want to sort your Series or DataFrame objects according to the contained data.\n",
    "\n",
    "Primary methods for sorting:\n",
    "\n",
    "- `ser.sort_values(ascending=True / False)`\n",
    "- `df.sort_values(by=column(s), ascending=True / False)`\n",
    "\n",
    "To re-sort your data structure to its original use `sort.index()` function."
   ]
  },
  {
   "cell_type": "code",
   "execution_count": 1,
   "id": "08c88c97-3b68-4041-85f3-ee98f5b7b063",
   "metadata": {},
   "outputs": [],
   "source": [
    "import pandas as pd\n",
    "import numpy as np"
   ]
  },
  {
   "cell_type": "markdown",
   "id": "ea17a384-a2cf-4dcb-a86d-a85863a41bf7",
   "metadata": {},
   "source": [
    "#### Series Sorting"
   ]
  },
  {
   "cell_type": "code",
   "execution_count": 2,
   "id": "4acbd92f-f32a-4297-b0d2-e0e1aea3d9ce",
   "metadata": {},
   "outputs": [
    {
     "data": {
      "text/plain": [
       "0    0.661693\n",
       "1    0.139742\n",
       "2    0.260599\n",
       "3    0.642487\n",
       "4    0.483621\n",
       "5    0.345424\n",
       "6    0.067102\n",
       "7    0.163425\n",
       "8    0.056478\n",
       "9    0.025075\n",
       "dtype: float64"
      ]
     },
     "execution_count": 2,
     "metadata": {},
     "output_type": "execute_result"
    }
   ],
   "source": [
    "ser1 = pd.Series(np.random.rand(10))\n",
    "ser1"
   ]
  },
  {
   "cell_type": "code",
   "execution_count": 9,
   "id": "f5861204-db33-42c2-bfe6-7e56aaef0088",
   "metadata": {},
   "outputs": [
    {
     "data": {
      "text/plain": [
       "0    0.661693\n",
       "3    0.642487\n",
       "4    0.483621\n",
       "5    0.345424\n",
       "2    0.260599\n",
       "7    0.163425\n",
       "1    0.139742\n",
       "6    0.067102\n",
       "8    0.056478\n",
       "9    0.025075\n",
       "dtype: float64"
      ]
     },
     "execution_count": 9,
     "metadata": {},
     "output_type": "execute_result"
    }
   ],
   "source": [
    "ser1.sort_values(ascending=False)"
   ]
  },
  {
   "cell_type": "markdown",
   "id": "ae995702-c5f0-4d5a-b603-d7e12ed1cb29",
   "metadata": {},
   "source": [
    "#### DataFrame Sorting."
   ]
  },
  {
   "cell_type": "code",
   "execution_count": 11,
   "id": "077be56a-8b20-4e2c-8457-d9b69edea68a",
   "metadata": {},
   "outputs": [
    {
     "data": {
      "text/html": [
       "<div>\n",
       "<style scoped>\n",
       "    .dataframe tbody tr th:only-of-type {\n",
       "        vertical-align: middle;\n",
       "    }\n",
       "\n",
       "    .dataframe tbody tr th {\n",
       "        vertical-align: top;\n",
       "    }\n",
       "\n",
       "    .dataframe thead th {\n",
       "        text-align: right;\n",
       "    }\n",
       "</style>\n",
       "<table border=\"1\" class=\"dataframe\">\n",
       "  <thead>\n",
       "    <tr style=\"text-align: right;\">\n",
       "      <th></th>\n",
       "      <th>0</th>\n",
       "      <th>1</th>\n",
       "      <th>2</th>\n",
       "      <th>3</th>\n",
       "      <th>4</th>\n",
       "    </tr>\n",
       "  </thead>\n",
       "  <tbody>\n",
       "    <tr>\n",
       "      <th>0</th>\n",
       "      <td>0.373969</td>\n",
       "      <td>0.269052</td>\n",
       "      <td>0.886075</td>\n",
       "      <td>0.056739</td>\n",
       "      <td>0.018550</td>\n",
       "    </tr>\n",
       "    <tr>\n",
       "      <th>1</th>\n",
       "      <td>0.673180</td>\n",
       "      <td>0.854422</td>\n",
       "      <td>0.801239</td>\n",
       "      <td>0.207254</td>\n",
       "      <td>0.427276</td>\n",
       "    </tr>\n",
       "    <tr>\n",
       "      <th>2</th>\n",
       "      <td>0.024375</td>\n",
       "      <td>0.842026</td>\n",
       "      <td>0.667474</td>\n",
       "      <td>0.601113</td>\n",
       "      <td>0.842511</td>\n",
       "    </tr>\n",
       "  </tbody>\n",
       "</table>\n",
       "</div>"
      ],
      "text/plain": [
       "          0         1         2         3         4\n",
       "0  0.373969  0.269052  0.886075  0.056739  0.018550\n",
       "1  0.673180  0.854422  0.801239  0.207254  0.427276\n",
       "2  0.024375  0.842026  0.667474  0.601113  0.842511"
      ]
     },
     "execution_count": 11,
     "metadata": {},
     "output_type": "execute_result"
    }
   ],
   "source": [
    "df1 = pd.DataFrame(np.random.rand(3, 5))\n",
    "df1"
   ]
  },
  {
   "cell_type": "code",
   "execution_count": 12,
   "id": "aa2dad5a-7812-408a-85c2-dbbf16f08d7a",
   "metadata": {},
   "outputs": [
    {
     "data": {
      "text/html": [
       "<div>\n",
       "<style scoped>\n",
       "    .dataframe tbody tr th:only-of-type {\n",
       "        vertical-align: middle;\n",
       "    }\n",
       "\n",
       "    .dataframe tbody tr th {\n",
       "        vertical-align: top;\n",
       "    }\n",
       "\n",
       "    .dataframe thead th {\n",
       "        text-align: right;\n",
       "    }\n",
       "</style>\n",
       "<table border=\"1\" class=\"dataframe\">\n",
       "  <thead>\n",
       "    <tr style=\"text-align: right;\">\n",
       "      <th></th>\n",
       "      <th>0</th>\n",
       "      <th>1</th>\n",
       "      <th>2</th>\n",
       "      <th>3</th>\n",
       "      <th>4</th>\n",
       "    </tr>\n",
       "  </thead>\n",
       "  <tbody>\n",
       "    <tr>\n",
       "      <th>0</th>\n",
       "      <td>0.373969</td>\n",
       "      <td>0.269052</td>\n",
       "      <td>0.886075</td>\n",
       "      <td>0.056739</td>\n",
       "      <td>0.018550</td>\n",
       "    </tr>\n",
       "    <tr>\n",
       "      <th>2</th>\n",
       "      <td>0.024375</td>\n",
       "      <td>0.842026</td>\n",
       "      <td>0.667474</td>\n",
       "      <td>0.601113</td>\n",
       "      <td>0.842511</td>\n",
       "    </tr>\n",
       "    <tr>\n",
       "      <th>1</th>\n",
       "      <td>0.673180</td>\n",
       "      <td>0.854422</td>\n",
       "      <td>0.801239</td>\n",
       "      <td>0.207254</td>\n",
       "      <td>0.427276</td>\n",
       "    </tr>\n",
       "  </tbody>\n",
       "</table>\n",
       "</div>"
      ],
      "text/plain": [
       "          0         1         2         3         4\n",
       "0  0.373969  0.269052  0.886075  0.056739  0.018550\n",
       "2  0.024375  0.842026  0.667474  0.601113  0.842511\n",
       "1  0.673180  0.854422  0.801239  0.207254  0.427276"
      ]
     },
     "execution_count": 12,
     "metadata": {},
     "output_type": "execute_result"
    }
   ],
   "source": [
    "df1.sort_values(by=1)"
   ]
  },
  {
   "cell_type": "code",
   "execution_count": 17,
   "id": "8002b228-1209-4e3e-a3d1-42cbc49c8df4",
   "metadata": {},
   "outputs": [
    {
     "data": {
      "text/html": [
       "<div>\n",
       "<style scoped>\n",
       "    .dataframe tbody tr th:only-of-type {\n",
       "        vertical-align: middle;\n",
       "    }\n",
       "\n",
       "    .dataframe tbody tr th {\n",
       "        vertical-align: top;\n",
       "    }\n",
       "\n",
       "    .dataframe thead th {\n",
       "        text-align: right;\n",
       "    }\n",
       "</style>\n",
       "<table border=\"1\" class=\"dataframe\">\n",
       "  <thead>\n",
       "    <tr style=\"text-align: right;\">\n",
       "      <th></th>\n",
       "      <th>2</th>\n",
       "      <th>0</th>\n",
       "      <th>1</th>\n",
       "      <th>3</th>\n",
       "      <th>4</th>\n",
       "    </tr>\n",
       "  </thead>\n",
       "  <tbody>\n",
       "    <tr>\n",
       "      <th>0</th>\n",
       "      <td>0.886075</td>\n",
       "      <td>0.373969</td>\n",
       "      <td>0.269052</td>\n",
       "      <td>0.056739</td>\n",
       "      <td>0.018550</td>\n",
       "    </tr>\n",
       "    <tr>\n",
       "      <th>1</th>\n",
       "      <td>0.801239</td>\n",
       "      <td>0.673180</td>\n",
       "      <td>0.854422</td>\n",
       "      <td>0.207254</td>\n",
       "      <td>0.427276</td>\n",
       "    </tr>\n",
       "    <tr>\n",
       "      <th>2</th>\n",
       "      <td>0.667474</td>\n",
       "      <td>0.024375</td>\n",
       "      <td>0.842026</td>\n",
       "      <td>0.601113</td>\n",
       "      <td>0.842511</td>\n",
       "    </tr>\n",
       "  </tbody>\n",
       "</table>\n",
       "</div>"
      ],
      "text/plain": [
       "          2         0         1         3         4\n",
       "0  0.886075  0.373969  0.269052  0.056739  0.018550\n",
       "1  0.801239  0.673180  0.854422  0.207254  0.427276\n",
       "2  0.667474  0.024375  0.842026  0.601113  0.842511"
      ]
     },
     "execution_count": 17,
     "metadata": {},
     "output_type": "execute_result"
    }
   ],
   "source": [
    "df1.sort_values(by=0, ascending=False, axis=1)"
   ]
  },
  {
   "cell_type": "markdown",
   "id": "456aca1e-01c9-4457-955c-fa6837c2d9f9",
   "metadata": {},
   "source": [
    "### DataFrame Ranking\n",
    "\n",
    "Values in a DataFrame can be ranked in multiple ways, such as by minimum.\n",
    "- `axis = 0` (all rows, by column)\n",
    "- `axis = 1` (all columns, by row)"
   ]
  },
  {
   "cell_type": "code",
   "execution_count": 18,
   "id": "358c65bb-811f-46bd-bb99-2d0f2d99ba2e",
   "metadata": {},
   "outputs": [
    {
     "data": {
      "text/html": [
       "<div>\n",
       "<style scoped>\n",
       "    .dataframe tbody tr th:only-of-type {\n",
       "        vertical-align: middle;\n",
       "    }\n",
       "\n",
       "    .dataframe tbody tr th {\n",
       "        vertical-align: top;\n",
       "    }\n",
       "\n",
       "    .dataframe thead th {\n",
       "        text-align: right;\n",
       "    }\n",
       "</style>\n",
       "<table border=\"1\" class=\"dataframe\">\n",
       "  <thead>\n",
       "    <tr style=\"text-align: right;\">\n",
       "      <th></th>\n",
       "      <th>0</th>\n",
       "      <th>1</th>\n",
       "      <th>2</th>\n",
       "      <th>3</th>\n",
       "      <th>4</th>\n",
       "    </tr>\n",
       "  </thead>\n",
       "  <tbody>\n",
       "    <tr>\n",
       "      <th>0</th>\n",
       "      <td>0.264003</td>\n",
       "      <td>0.417919</td>\n",
       "      <td>0.809394</td>\n",
       "      <td>0.834299</td>\n",
       "      <td>0.343318</td>\n",
       "    </tr>\n",
       "    <tr>\n",
       "      <th>1</th>\n",
       "      <td>0.944261</td>\n",
       "      <td>0.662260</td>\n",
       "      <td>0.075957</td>\n",
       "      <td>0.498025</td>\n",
       "      <td>0.122356</td>\n",
       "    </tr>\n",
       "    <tr>\n",
       "      <th>2</th>\n",
       "      <td>0.406196</td>\n",
       "      <td>0.375502</td>\n",
       "      <td>0.652885</td>\n",
       "      <td>0.925323</td>\n",
       "      <td>0.558257</td>\n",
       "    </tr>\n",
       "  </tbody>\n",
       "</table>\n",
       "</div>"
      ],
      "text/plain": [
       "          0         1         2         3         4\n",
       "0  0.264003  0.417919  0.809394  0.834299  0.343318\n",
       "1  0.944261  0.662260  0.075957  0.498025  0.122356\n",
       "2  0.406196  0.375502  0.652885  0.925323  0.558257"
      ]
     },
     "execution_count": 18,
     "metadata": {},
     "output_type": "execute_result"
    }
   ],
   "source": [
    "df2 = pd.DataFrame(np.random.rand(3, 5))\n",
    "df2"
   ]
  },
  {
   "cell_type": "code",
   "execution_count": 22,
   "id": "ff4c59cc-38c5-4028-93f5-0d05f9b667f1",
   "metadata": {},
   "outputs": [
    {
     "data": {
      "text/html": [
       "<div>\n",
       "<style scoped>\n",
       "    .dataframe tbody tr th:only-of-type {\n",
       "        vertical-align: middle;\n",
       "    }\n",
       "\n",
       "    .dataframe tbody tr th {\n",
       "        vertical-align: top;\n",
       "    }\n",
       "\n",
       "    .dataframe thead th {\n",
       "        text-align: right;\n",
       "    }\n",
       "</style>\n",
       "<table border=\"1\" class=\"dataframe\">\n",
       "  <thead>\n",
       "    <tr style=\"text-align: right;\">\n",
       "      <th></th>\n",
       "      <th>0</th>\n",
       "      <th>1</th>\n",
       "      <th>2</th>\n",
       "      <th>3</th>\n",
       "      <th>4</th>\n",
       "    </tr>\n",
       "  </thead>\n",
       "  <tbody>\n",
       "    <tr>\n",
       "      <th>0</th>\n",
       "      <td>5.0</td>\n",
       "      <td>3.0</td>\n",
       "      <td>2.0</td>\n",
       "      <td>1.0</td>\n",
       "      <td>4.0</td>\n",
       "    </tr>\n",
       "    <tr>\n",
       "      <th>1</th>\n",
       "      <td>1.0</td>\n",
       "      <td>2.0</td>\n",
       "      <td>5.0</td>\n",
       "      <td>3.0</td>\n",
       "      <td>4.0</td>\n",
       "    </tr>\n",
       "    <tr>\n",
       "      <th>2</th>\n",
       "      <td>4.0</td>\n",
       "      <td>5.0</td>\n",
       "      <td>2.0</td>\n",
       "      <td>1.0</td>\n",
       "      <td>3.0</td>\n",
       "    </tr>\n",
       "  </tbody>\n",
       "</table>\n",
       "</div>"
      ],
      "text/plain": [
       "     0    1    2    3    4\n",
       "0  5.0  3.0  2.0  1.0  4.0\n",
       "1  1.0  2.0  5.0  3.0  4.0\n",
       "2  4.0  5.0  2.0  1.0  3.0"
      ]
     },
     "execution_count": 22,
     "metadata": {},
     "output_type": "execute_result"
    }
   ],
   "source": [
    "df2.rank(method='min', ascending=False, axis=1)"
   ]
  },
  {
   "cell_type": "code",
   "execution_count": null,
   "id": "6d4bae76-0600-4caf-8ce5-1de5122fa2f6",
   "metadata": {},
   "outputs": [],
   "source": []
  }
 ],
 "metadata": {
  "kernelspec": {
   "display_name": "Python 3 (ipykernel)",
   "language": "python",
   "name": "python3"
  },
  "language_info": {
   "codemirror_mode": {
    "name": "ipython",
    "version": 3
   },
   "file_extension": ".py",
   "mimetype": "text/x-python",
   "name": "python",
   "nbconvert_exporter": "python",
   "pygments_lexer": "ipython3",
   "version": "3.10.11"
  }
 },
 "nbformat": 4,
 "nbformat_minor": 5
}
