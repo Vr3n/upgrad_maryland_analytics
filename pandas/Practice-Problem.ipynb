{
 "cells": [
  {
   "cell_type": "markdown",
   "id": "36d6c7e3-ae4e-4d83-8d7a-bb34ece52803",
   "metadata": {},
   "source": [
    "## Practice Problem\n",
    "\n",
    "You are still working at a small bakery. They continue to need your help to analyze their weekly sales data.\n",
    "\n",
    "Perform the analysis as follows:\n",
    "1. What were the sales for all days for cupcakes and cookies?\n",
    "2. What were the sales for all products on Monday, Wednesday, and Friday?\n",
    "3. What were the sales for all days for products which had no sales on at lease one day?"
   ]
  },
  {
   "cell_type": "code",
   "execution_count": 2,
   "id": "58564ec8-be72-4578-954b-8f54332bbc67",
   "metadata": {},
   "outputs": [],
   "source": [
    "import pandas as pd\n",
    "import numpy as np"
   ]
  },
  {
   "cell_type": "code",
   "execution_count": 3,
   "id": "e3133dd4-d857-4c0d-a35d-22e85a1de66f",
   "metadata": {},
   "outputs": [],
   "source": [
    "product_sales = pd.DataFrame({'Monday': [32, 152, 94, 0], 'Tuesday': [45, 109, 114, 0], \\\n",
    "                             'Wednesday': [15, 77, 85, 0], 'Thursday': [29, 85, 132, 0], \\\n",
    "                             'Friday': [63, 143, 101, 15], 'Saturday': [87, 211, 186, 25]}, \\\n",
    "                             index=['Cupcakes', 'Pie Slices', 'Brownies', 'Cookies'])"
   ]
  },
  {
   "cell_type": "markdown",
   "id": "221ed0dd-c51c-49a8-817f-e2bdc047ca73",
   "metadata": {},
   "source": [
    "What were the sales for all days for cupcakes and cookies? "
   ]
  },
  {
   "cell_type": "code",
   "execution_count": 15,
   "id": "fec44584-19e5-4172-ae96-980c6953a39f",
   "metadata": {},
   "outputs": [
    {
     "data": {
      "text/html": [
       "<div>\n",
       "<style scoped>\n",
       "    .dataframe tbody tr th:only-of-type {\n",
       "        vertical-align: middle;\n",
       "    }\n",
       "\n",
       "    .dataframe tbody tr th {\n",
       "        vertical-align: top;\n",
       "    }\n",
       "\n",
       "    .dataframe thead th {\n",
       "        text-align: right;\n",
       "    }\n",
       "</style>\n",
       "<table border=\"1\" class=\"dataframe\">\n",
       "  <thead>\n",
       "    <tr style=\"text-align: right;\">\n",
       "      <th></th>\n",
       "      <th>Monday</th>\n",
       "      <th>Tuesday</th>\n",
       "      <th>Wednesday</th>\n",
       "      <th>Thursday</th>\n",
       "      <th>Friday</th>\n",
       "      <th>Saturday</th>\n",
       "    </tr>\n",
       "  </thead>\n",
       "  <tbody>\n",
       "    <tr>\n",
       "      <th>Cupcakes</th>\n",
       "      <td>32</td>\n",
       "      <td>45</td>\n",
       "      <td>15</td>\n",
       "      <td>29</td>\n",
       "      <td>63</td>\n",
       "      <td>87</td>\n",
       "    </tr>\n",
       "    <tr>\n",
       "      <th>Cookies</th>\n",
       "      <td>0</td>\n",
       "      <td>0</td>\n",
       "      <td>0</td>\n",
       "      <td>0</td>\n",
       "      <td>15</td>\n",
       "      <td>25</td>\n",
       "    </tr>\n",
       "  </tbody>\n",
       "</table>\n",
       "</div>"
      ],
      "text/plain": [
       "          Monday  Tuesday  Wednesday  Thursday  Friday  Saturday\n",
       "Cupcakes      32       45         15        29      63        87\n",
       "Cookies        0        0          0         0      15        25"
      ]
     },
     "execution_count": 15,
     "metadata": {},
     "output_type": "execute_result"
    }
   ],
   "source": [
    "product_sales.loc[['Cupcakes', 'Cookies']].sum()"
   ]
  },
  {
   "cell_type": "markdown",
   "id": "d3c57fca-8638-4647-8a91-925f70112f0c",
   "metadata": {},
   "source": [
    "What were the sales for all products on Monday, Wednesday, and Friday?"
   ]
  },
  {
   "cell_type": "code",
   "execution_count": 18,
   "id": "ba78c752-f4e6-47ea-b26c-4614e66fc670",
   "metadata": {},
   "outputs": [
    {
     "data": {
      "text/html": [
       "<div>\n",
       "<style scoped>\n",
       "    .dataframe tbody tr th:only-of-type {\n",
       "        vertical-align: middle;\n",
       "    }\n",
       "\n",
       "    .dataframe tbody tr th {\n",
       "        vertical-align: top;\n",
       "    }\n",
       "\n",
       "    .dataframe thead th {\n",
       "        text-align: right;\n",
       "    }\n",
       "</style>\n",
       "<table border=\"1\" class=\"dataframe\">\n",
       "  <thead>\n",
       "    <tr style=\"text-align: right;\">\n",
       "      <th></th>\n",
       "      <th>Monday</th>\n",
       "      <th>Wednesday</th>\n",
       "      <th>Friday</th>\n",
       "    </tr>\n",
       "  </thead>\n",
       "  <tbody>\n",
       "    <tr>\n",
       "      <th>Cupcakes</th>\n",
       "      <td>32</td>\n",
       "      <td>15</td>\n",
       "      <td>63</td>\n",
       "    </tr>\n",
       "    <tr>\n",
       "      <th>Pie Slices</th>\n",
       "      <td>152</td>\n",
       "      <td>77</td>\n",
       "      <td>143</td>\n",
       "    </tr>\n",
       "    <tr>\n",
       "      <th>Brownies</th>\n",
       "      <td>94</td>\n",
       "      <td>85</td>\n",
       "      <td>101</td>\n",
       "    </tr>\n",
       "    <tr>\n",
       "      <th>Cookies</th>\n",
       "      <td>0</td>\n",
       "      <td>0</td>\n",
       "      <td>15</td>\n",
       "    </tr>\n",
       "  </tbody>\n",
       "</table>\n",
       "</div>"
      ],
      "text/plain": [
       "            Monday  Wednesday  Friday\n",
       "Cupcakes        32         15      63\n",
       "Pie Slices     152         77     143\n",
       "Brownies        94         85     101\n",
       "Cookies          0          0      15"
      ]
     },
     "execution_count": 18,
     "metadata": {},
     "output_type": "execute_result"
    }
   ],
   "source": [
    "product_sales[[\"Monday\", \"Wednesday\", \"Friday\"]]"
   ]
  },
  {
   "cell_type": "markdown",
   "id": "cb9f19f3-8cc0-442d-a8c1-a04fae5e6ee5",
   "metadata": {},
   "source": [
    "What were the sales for all days for products which had no sales on at least one day?"
   ]
  },
  {
   "cell_type": "code",
   "execution_count": 28,
   "id": "600549d7-54d6-4a12-8966-972c49c00080",
   "metadata": {},
   "outputs": [
    {
     "data": {
      "text/html": [
       "<div>\n",
       "<style scoped>\n",
       "    .dataframe tbody tr th:only-of-type {\n",
       "        vertical-align: middle;\n",
       "    }\n",
       "\n",
       "    .dataframe tbody tr th {\n",
       "        vertical-align: top;\n",
       "    }\n",
       "\n",
       "    .dataframe thead th {\n",
       "        text-align: right;\n",
       "    }\n",
       "</style>\n",
       "<table border=\"1\" class=\"dataframe\">\n",
       "  <thead>\n",
       "    <tr style=\"text-align: right;\">\n",
       "      <th></th>\n",
       "      <th>Monday</th>\n",
       "      <th>Tuesday</th>\n",
       "      <th>Wednesday</th>\n",
       "      <th>Thursday</th>\n",
       "      <th>Friday</th>\n",
       "      <th>Saturday</th>\n",
       "    </tr>\n",
       "  </thead>\n",
       "  <tbody>\n",
       "    <tr>\n",
       "      <th>Cookies</th>\n",
       "      <td>0</td>\n",
       "      <td>0</td>\n",
       "      <td>0</td>\n",
       "      <td>0</td>\n",
       "      <td>15</td>\n",
       "      <td>25</td>\n",
       "    </tr>\n",
       "  </tbody>\n",
       "</table>\n",
       "</div>"
      ],
      "text/plain": [
       "         Monday  Tuesday  Wednesday  Thursday  Friday  Saturday\n",
       "Cookies       0        0          0         0      15        25"
      ]
     },
     "execution_count": 28,
     "metadata": {},
     "output_type": "execute_result"
    }
   ],
   "source": [
    "product_sales.loc[(product_sales == 0).any(axis=1)]"
   ]
  },
  {
   "cell_type": "code",
   "execution_count": null,
   "id": "f9095b58-be50-4ac2-8381-37dc83f3e53a",
   "metadata": {},
   "outputs": [],
   "source": []
  }
 ],
 "metadata": {
  "kernelspec": {
   "display_name": "Python 3 (ipykernel)",
   "language": "python",
   "name": "python3"
  },
  "language_info": {
   "codemirror_mode": {
    "name": "ipython",
    "version": 3
   },
   "file_extension": ".py",
   "mimetype": "text/x-python",
   "name": "python",
   "nbconvert_exporter": "python",
   "pygments_lexer": "ipython3",
   "version": "3.10.11"
  }
 },
 "nbformat": 4,
 "nbformat_minor": 5
}
