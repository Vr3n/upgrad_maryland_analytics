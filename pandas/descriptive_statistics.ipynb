{
 "cells": [
  {
   "cell_type": "markdown",
   "id": "c3a78645-9f32-4b20-9413-1134dddbc0cb",
   "metadata": {},
   "source": [
    "### Descriptive Statistics\n",
    "similar to arrays, there are many built-in functions for descriptive statistics on Series and DataFrame objects. such as:\n",
    "1. count\n",
    "2. sum\n",
    "3. median\n",
    "4. mean\n",
    "5. std"
   ]
  },
  {
   "cell_type": "code",
   "execution_count": 2,
   "id": "75d2a29c-cfff-4c3c-be93-273434a7748f",
   "metadata": {},
   "outputs": [],
   "source": [
    "import pandas as pd\n",
    "import numpy as np"
   ]
  },
  {
   "cell_type": "markdown",
   "id": "6127effd-d91a-4443-8541-568c1fcb21c1",
   "metadata": {},
   "source": [
    "##### For a Series"
   ]
  },
  {
   "cell_type": "code",
   "execution_count": 3,
   "id": "af422d3a-1d01-489e-84dc-101764a7f372",
   "metadata": {},
   "outputs": [
    {
     "data": {
      "text/plain": [
       "0     0.278672\n",
       "1     0.317301\n",
       "2     0.082502\n",
       "3     0.887255\n",
       "4     0.230391\n",
       "        ...   \n",
       "95    0.263242\n",
       "96    0.017109\n",
       "97    0.809500\n",
       "98    0.789058\n",
       "99    0.765029\n",
       "Length: 100, dtype: float64"
      ]
     },
     "execution_count": 3,
     "metadata": {},
     "output_type": "execute_result"
    }
   ],
   "source": [
    "ser1 = pd.Series(np.random.rand(100))\n",
    "ser1"
   ]
  },
  {
   "cell_type": "code",
   "execution_count": 4,
   "id": "d75f56e8-65eb-476e-8e92-45c3733dd33d",
   "metadata": {},
   "outputs": [
    {
     "data": {
      "text/plain": [
       "count    100.000000\n",
       "mean       0.492975\n",
       "std        0.313719\n",
       "min        0.004829\n",
       "25%        0.223051\n",
       "50%        0.485032\n",
       "75%        0.785291\n",
       "max        0.998001\n",
       "dtype: float64"
      ]
     },
     "execution_count": 4,
     "metadata": {},
     "output_type": "execute_result"
    }
   ],
   "source": [
    "ser1.describe()"
   ]
  },
  {
   "cell_type": "code",
   "execution_count": 5,
   "id": "f176b260-2363-4fcd-ac58-8ae90f2b47e5",
   "metadata": {},
   "outputs": [
    {
     "data": {
      "text/plain": [
       "0.49297513304065643"
      ]
     },
     "execution_count": 5,
     "metadata": {},
     "output_type": "execute_result"
    }
   ],
   "source": [
    "ser1.mean()"
   ]
  },
  {
   "cell_type": "markdown",
   "id": "3e29421a-e346-4cee-a585-68e7ce32a42b",
   "metadata": {},
   "source": [
    "### For a DataFrame"
   ]
  },
  {
   "cell_type": "code",
   "execution_count": 6,
   "id": "9bd3f7da-0fcf-44af-a411-f34991fee2b9",
   "metadata": {},
   "outputs": [
    {
     "data": {
      "text/html": [
       "<div>\n",
       "<style scoped>\n",
       "    .dataframe tbody tr th:only-of-type {\n",
       "        vertical-align: middle;\n",
       "    }\n",
       "\n",
       "    .dataframe tbody tr th {\n",
       "        vertical-align: top;\n",
       "    }\n",
       "\n",
       "    .dataframe thead th {\n",
       "        text-align: right;\n",
       "    }\n",
       "</style>\n",
       "<table border=\"1\" class=\"dataframe\">\n",
       "  <thead>\n",
       "    <tr style=\"text-align: right;\">\n",
       "      <th></th>\n",
       "      <th>a</th>\n",
       "      <th>b</th>\n",
       "      <th>c</th>\n",
       "    </tr>\n",
       "  </thead>\n",
       "  <tbody>\n",
       "    <tr>\n",
       "      <th>1</th>\n",
       "      <td>0.847119</td>\n",
       "      <td>0.213035</td>\n",
       "      <td>0.694235</td>\n",
       "    </tr>\n",
       "    <tr>\n",
       "      <th>2</th>\n",
       "      <td>0.657201</td>\n",
       "      <td>0.428226</td>\n",
       "      <td>0.159299</td>\n",
       "    </tr>\n",
       "    <tr>\n",
       "      <th>3</th>\n",
       "      <td>0.516832</td>\n",
       "      <td>0.511926</td>\n",
       "      <td>0.380778</td>\n",
       "    </tr>\n",
       "  </tbody>\n",
       "</table>\n",
       "</div>"
      ],
      "text/plain": [
       "          a         b         c\n",
       "1  0.847119  0.213035  0.694235\n",
       "2  0.657201  0.428226  0.159299\n",
       "3  0.516832  0.511926  0.380778"
      ]
     },
     "execution_count": 6,
     "metadata": {},
     "output_type": "execute_result"
    }
   ],
   "source": [
    "df = pd.DataFrame(np.random.rand(3, 3), columns=['a', 'b', 'c'], index=[1, 2, 3])\n",
    "df"
   ]
  },
  {
   "cell_type": "code",
   "execution_count": 8,
   "id": "fe7f8a30-9775-46c9-91ed-2d41cfccee15",
   "metadata": {},
   "outputs": [
    {
     "data": {
      "text/html": [
       "<div>\n",
       "<style scoped>\n",
       "    .dataframe tbody tr th:only-of-type {\n",
       "        vertical-align: middle;\n",
       "    }\n",
       "\n",
       "    .dataframe tbody tr th {\n",
       "        vertical-align: top;\n",
       "    }\n",
       "\n",
       "    .dataframe thead th {\n",
       "        text-align: right;\n",
       "    }\n",
       "</style>\n",
       "<table border=\"1\" class=\"dataframe\">\n",
       "  <thead>\n",
       "    <tr style=\"text-align: right;\">\n",
       "      <th></th>\n",
       "      <th>a</th>\n",
       "      <th>b</th>\n",
       "      <th>c</th>\n",
       "    </tr>\n",
       "  </thead>\n",
       "  <tbody>\n",
       "    <tr>\n",
       "      <th>count</th>\n",
       "      <td>3.000000</td>\n",
       "      <td>3.000000</td>\n",
       "      <td>3.000000</td>\n",
       "    </tr>\n",
       "    <tr>\n",
       "      <th>mean</th>\n",
       "      <td>0.673717</td>\n",
       "      <td>0.384396</td>\n",
       "      <td>0.411437</td>\n",
       "    </tr>\n",
       "    <tr>\n",
       "      <th>std</th>\n",
       "      <td>0.165762</td>\n",
       "      <td>0.154190</td>\n",
       "      <td>0.268782</td>\n",
       "    </tr>\n",
       "    <tr>\n",
       "      <th>min</th>\n",
       "      <td>0.516832</td>\n",
       "      <td>0.213035</td>\n",
       "      <td>0.159299</td>\n",
       "    </tr>\n",
       "    <tr>\n",
       "      <th>25%</th>\n",
       "      <td>0.587017</td>\n",
       "      <td>0.320631</td>\n",
       "      <td>0.270039</td>\n",
       "    </tr>\n",
       "    <tr>\n",
       "      <th>50%</th>\n",
       "      <td>0.657201</td>\n",
       "      <td>0.428226</td>\n",
       "      <td>0.380778</td>\n",
       "    </tr>\n",
       "    <tr>\n",
       "      <th>75%</th>\n",
       "      <td>0.752160</td>\n",
       "      <td>0.470076</td>\n",
       "      <td>0.537507</td>\n",
       "    </tr>\n",
       "    <tr>\n",
       "      <th>max</th>\n",
       "      <td>0.847119</td>\n",
       "      <td>0.511926</td>\n",
       "      <td>0.694235</td>\n",
       "    </tr>\n",
       "  </tbody>\n",
       "</table>\n",
       "</div>"
      ],
      "text/plain": [
       "              a         b         c\n",
       "count  3.000000  3.000000  3.000000\n",
       "mean   0.673717  0.384396  0.411437\n",
       "std    0.165762  0.154190  0.268782\n",
       "min    0.516832  0.213035  0.159299\n",
       "25%    0.587017  0.320631  0.270039\n",
       "50%    0.657201  0.428226  0.380778\n",
       "75%    0.752160  0.470076  0.537507\n",
       "max    0.847119  0.511926  0.694235"
      ]
     },
     "execution_count": 8,
     "metadata": {},
     "output_type": "execute_result"
    }
   ],
   "source": [
    "df.describe()"
   ]
  },
  {
   "cell_type": "code",
   "execution_count": 12,
   "id": "56f7e600-f7f9-4f7f-8d06-8d12e6d2c492",
   "metadata": {},
   "outputs": [
    {
     "data": {
      "text/plain": [
       "a    0.587017\n",
       "b    0.320631\n",
       "c    0.270039\n",
       "Name: 25%, dtype: float64"
      ]
     },
     "execution_count": 12,
     "metadata": {},
     "output_type": "execute_result"
    }
   ],
   "source": [
    "df.describe().loc['25%']"
   ]
  },
  {
   "cell_type": "markdown",
   "id": "14c228c0-a3d3-4a6b-8edc-d78e89682529",
   "metadata": {},
   "source": [
    "### Compute Summary Statistics"
   ]
  },
  {
   "cell_type": "code",
   "execution_count": 13,
   "id": "8185e851-2d52-4b0b-9bb3-fc34192b9480",
   "metadata": {},
   "outputs": [
    {
     "data": {
      "text/html": [
       "<div>\n",
       "<style scoped>\n",
       "    .dataframe tbody tr th:only-of-type {\n",
       "        vertical-align: middle;\n",
       "    }\n",
       "\n",
       "    .dataframe tbody tr th {\n",
       "        vertical-align: top;\n",
       "    }\n",
       "\n",
       "    .dataframe thead th {\n",
       "        text-align: right;\n",
       "    }\n",
       "</style>\n",
       "<table border=\"1\" class=\"dataframe\">\n",
       "  <thead>\n",
       "    <tr style=\"text-align: right;\">\n",
       "      <th></th>\n",
       "      <th>0</th>\n",
       "      <th>1</th>\n",
       "      <th>2</th>\n",
       "    </tr>\n",
       "  </thead>\n",
       "  <tbody>\n",
       "    <tr>\n",
       "      <th>0</th>\n",
       "      <td>0.584568</td>\n",
       "      <td>0.001340</td>\n",
       "      <td>0.794013</td>\n",
       "    </tr>\n",
       "    <tr>\n",
       "      <th>1</th>\n",
       "      <td>0.148273</td>\n",
       "      <td>0.313529</td>\n",
       "      <td>0.889962</td>\n",
       "    </tr>\n",
       "    <tr>\n",
       "      <th>2</th>\n",
       "      <td>0.481941</td>\n",
       "      <td>0.238225</td>\n",
       "      <td>0.260575</td>\n",
       "    </tr>\n",
       "    <tr>\n",
       "      <th>3</th>\n",
       "      <td>0.267888</td>\n",
       "      <td>0.689574</td>\n",
       "      <td>0.319068</td>\n",
       "    </tr>\n",
       "    <tr>\n",
       "      <th>4</th>\n",
       "      <td>0.233138</td>\n",
       "      <td>0.412697</td>\n",
       "      <td>0.257290</td>\n",
       "    </tr>\n",
       "    <tr>\n",
       "      <th>...</th>\n",
       "      <td>...</td>\n",
       "      <td>...</td>\n",
       "      <td>...</td>\n",
       "    </tr>\n",
       "    <tr>\n",
       "      <th>95</th>\n",
       "      <td>0.178186</td>\n",
       "      <td>0.997407</td>\n",
       "      <td>0.432794</td>\n",
       "    </tr>\n",
       "    <tr>\n",
       "      <th>96</th>\n",
       "      <td>0.608962</td>\n",
       "      <td>0.887157</td>\n",
       "      <td>0.545038</td>\n",
       "    </tr>\n",
       "    <tr>\n",
       "      <th>97</th>\n",
       "      <td>0.110744</td>\n",
       "      <td>0.374780</td>\n",
       "      <td>0.851262</td>\n",
       "    </tr>\n",
       "    <tr>\n",
       "      <th>98</th>\n",
       "      <td>0.612107</td>\n",
       "      <td>0.484195</td>\n",
       "      <td>0.949638</td>\n",
       "    </tr>\n",
       "    <tr>\n",
       "      <th>99</th>\n",
       "      <td>0.925290</td>\n",
       "      <td>0.187892</td>\n",
       "      <td>0.587371</td>\n",
       "    </tr>\n",
       "  </tbody>\n",
       "</table>\n",
       "<p>100 rows × 3 columns</p>\n",
       "</div>"
      ],
      "text/plain": [
       "           0         1         2\n",
       "0   0.584568  0.001340  0.794013\n",
       "1   0.148273  0.313529  0.889962\n",
       "2   0.481941  0.238225  0.260575\n",
       "3   0.267888  0.689574  0.319068\n",
       "4   0.233138  0.412697  0.257290\n",
       "..       ...       ...       ...\n",
       "95  0.178186  0.997407  0.432794\n",
       "96  0.608962  0.887157  0.545038\n",
       "97  0.110744  0.374780  0.851262\n",
       "98  0.612107  0.484195  0.949638\n",
       "99  0.925290  0.187892  0.587371\n",
       "\n",
       "[100 rows x 3 columns]"
      ]
     },
     "execution_count": 13,
     "metadata": {},
     "output_type": "execute_result"
    }
   ],
   "source": [
    "df2 = pd.DataFrame(np.random.rand(100 , 3))\n",
    "df2"
   ]
  },
  {
   "cell_type": "code",
   "execution_count": 14,
   "id": "882e6cec-83f5-44ad-8209-397f3e551f10",
   "metadata": {},
   "outputs": [
    {
     "data": {
      "text/plain": [
       "0    48.668244\n",
       "1    53.145412\n",
       "2    47.115663\n",
       "dtype: float64"
      ]
     },
     "execution_count": 14,
     "metadata": {},
     "output_type": "execute_result"
    }
   ],
   "source": [
    "df2.sum()"
   ]
  },
  {
   "cell_type": "code",
   "execution_count": 15,
   "id": "2578fd64-f866-481d-81f1-4fd51881783d",
   "metadata": {},
   "outputs": [
    {
     "data": {
      "text/plain": [
       "0     1.379922\n",
       "1     1.351764\n",
       "2     0.980741\n",
       "3     1.276531\n",
       "4     0.903125\n",
       "        ...   \n",
       "95    1.608388\n",
       "96    2.041157\n",
       "97    1.336787\n",
       "98    2.045940\n",
       "99    1.700552\n",
       "Length: 100, dtype: float64"
      ]
     },
     "execution_count": 15,
     "metadata": {},
     "output_type": "execute_result"
    }
   ],
   "source": [
    "df2.sum(axis=1)"
   ]
  },
  {
   "cell_type": "markdown",
   "id": "6510354e-89b0-42ae-a4a9-abef4a68cc70",
   "metadata": {},
   "source": [
    "#### Descriptive statistics\r\n",
    "Let’s take an example of a Series named python_101 that contains grades of 100 students for the course ‘python_101’."
   ]
  },
  {
   "cell_type": "code",
   "execution_count": 27,
   "id": "cbed5c11-3214-4d04-ac91-34b4659397a4",
   "metadata": {},
   "outputs": [
    {
     "data": {
      "text/html": [
       "<div>\n",
       "<style scoped>\n",
       "    .dataframe tbody tr th:only-of-type {\n",
       "        vertical-align: middle;\n",
       "    }\n",
       "\n",
       "    .dataframe tbody tr th {\n",
       "        vertical-align: top;\n",
       "    }\n",
       "\n",
       "    .dataframe thead th {\n",
       "        text-align: right;\n",
       "    }\n",
       "</style>\n",
       "<table border=\"1\" class=\"dataframe\">\n",
       "  <thead>\n",
       "    <tr style=\"text-align: right;\">\n",
       "      <th></th>\n",
       "      <th>python_101</th>\n",
       "    </tr>\n",
       "  </thead>\n",
       "  <tbody>\n",
       "    <tr>\n",
       "      <th>0</th>\n",
       "      <td>53</td>\n",
       "    </tr>\n",
       "    <tr>\n",
       "      <th>1</th>\n",
       "      <td>97</td>\n",
       "    </tr>\n",
       "    <tr>\n",
       "      <th>2</th>\n",
       "      <td>51</td>\n",
       "    </tr>\n",
       "    <tr>\n",
       "      <th>3</th>\n",
       "      <td>73</td>\n",
       "    </tr>\n",
       "    <tr>\n",
       "      <th>4</th>\n",
       "      <td>58</td>\n",
       "    </tr>\n",
       "    <tr>\n",
       "      <th>...</th>\n",
       "      <td>...</td>\n",
       "    </tr>\n",
       "    <tr>\n",
       "      <th>95</th>\n",
       "      <td>74</td>\n",
       "    </tr>\n",
       "    <tr>\n",
       "      <th>96</th>\n",
       "      <td>83</td>\n",
       "    </tr>\n",
       "    <tr>\n",
       "      <th>97</th>\n",
       "      <td>76</td>\n",
       "    </tr>\n",
       "    <tr>\n",
       "      <th>98</th>\n",
       "      <td>64</td>\n",
       "    </tr>\n",
       "    <tr>\n",
       "      <th>99</th>\n",
       "      <td>64</td>\n",
       "    </tr>\n",
       "  </tbody>\n",
       "</table>\n",
       "<p>100 rows × 1 columns</p>\n",
       "</div>"
      ],
      "text/plain": [
       "    python_101\n",
       "0           53\n",
       "1           97\n",
       "2           51\n",
       "3           73\n",
       "4           58\n",
       "..         ...\n",
       "95          74\n",
       "96          83\n",
       "97          76\n",
       "98          64\n",
       "99          64\n",
       "\n",
       "[100 rows x 1 columns]"
      ]
     },
     "execution_count": 27,
     "metadata": {},
     "output_type": "execute_result"
    }
   ],
   "source": [
    "python_grades = pd.DataFrame(np.random.randint(50, 100, size=100), columns=['python_101'])\n",
    "python_grades"
   ]
  },
  {
   "cell_type": "code",
   "execution_count": 19,
   "id": "dbeba255-1267-4306-817b-a8f504a12a61",
   "metadata": {},
   "outputs": [
    {
     "data": {
      "text/plain": [
       "0    50.0\n",
       "Name: min, dtype: float64"
      ]
     },
     "execution_count": 19,
     "metadata": {},
     "output_type": "execute_result"
    }
   ],
   "source": [
    "python_grades.describe().loc['min']"
   ]
  }
 ],
 "metadata": {
  "kernelspec": {
   "display_name": "Python 3 (ipykernel)",
   "language": "python",
   "name": "python3"
  },
  "language_info": {
   "codemirror_mode": {
    "name": "ipython",
    "version": 3
   },
   "file_extension": ".py",
   "mimetype": "text/x-python",
   "name": "python",
   "nbconvert_exporter": "python",
   "pygments_lexer": "ipython3",
   "version": "3.10.11"
  }
 },
 "nbformat": 4,
 "nbformat_minor": 5
}
