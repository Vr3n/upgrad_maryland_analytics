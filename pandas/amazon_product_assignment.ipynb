{
 "cells": [
  {
   "cell_type": "code",
   "execution_count": 1,
   "id": "1e8aafd5-5097-4671-8f61-824b18ab4524",
   "metadata": {},
   "outputs": [],
   "source": [
    "import pandas as pd\n",
    "import numpy as np"
   ]
  },
  {
   "cell_type": "code",
   "execution_count": 2,
   "id": "ca97b268-5fcc-40c8-9912-caf9a824e39e",
   "metadata": {},
   "outputs": [],
   "source": [
    "amazon_df = pd.read_csv('amazon_com-product_reviews.csv')"
   ]
  },
  {
   "cell_type": "code",
   "execution_count": 4,
   "id": "9a989838-278c-45ce-b859-9ad89e140271",
   "metadata": {},
   "outputs": [
    {
     "data": {
      "text/html": [
       "<div>\n",
       "<style scoped>\n",
       "    .dataframe tbody tr th:only-of-type {\n",
       "        vertical-align: middle;\n",
       "    }\n",
       "\n",
       "    .dataframe tbody tr th {\n",
       "        vertical-align: top;\n",
       "    }\n",
       "\n",
       "    .dataframe thead th {\n",
       "        text-align: right;\n",
       "    }\n",
       "</style>\n",
       "<table border=\"1\" class=\"dataframe\">\n",
       "  <thead>\n",
       "    <tr style=\"text-align: right;\">\n",
       "      <th></th>\n",
       "      <th>Uniq Id</th>\n",
       "      <th>Crawl Timestamp</th>\n",
       "      <th>Billing Uniq Id</th>\n",
       "      <th>Rating</th>\n",
       "      <th>Review Title</th>\n",
       "      <th>Review Rating</th>\n",
       "      <th>Review Date</th>\n",
       "      <th>User Id</th>\n",
       "      <th>Brand</th>\n",
       "      <th>Category</th>\n",
       "      <th>Sub Category</th>\n",
       "      <th>Product Description</th>\n",
       "      <th>Asin</th>\n",
       "      <th>Url</th>\n",
       "      <th>Review Content</th>\n",
       "      <th>Verified Purchase</th>\n",
       "      <th>Helpful Review Count</th>\n",
       "      <th>Manufacturer Response</th>\n",
       "    </tr>\n",
       "  </thead>\n",
       "  <tbody>\n",
       "    <tr>\n",
       "      <th>0</th>\n",
       "      <td>10d8b81dc693db8a3f92e19254525d53</td>\n",
       "      <td>2020-03-17 02:32:10 +0000</td>\n",
       "      <td>c697dc43961526785292107b91a639e1</td>\n",
       "      <td>NaN</td>\n",
       "      <td>Best Natural Deodorant!!</td>\n",
       "      <td>5.0</td>\n",
       "      <td>March 6, 2020</td>\n",
       "      <td>AGIZFDSHLSBZ7KHQ4FV65W7B3HMQ</td>\n",
       "      <td>Schmidt's Deodorant</td>\n",
       "      <td>Beauty &amp; Personal Care</td>\n",
       "      <td>Personal Care</td>\n",
       "      <td>Schmidt’s natural deodorant formulas use innov...</td>\n",
       "      <td>B071YYMZ19</td>\n",
       "      <td>https://www.amazon.com/gp/customer-reviews/R2Q...</td>\n",
       "      <td>This is the one natural deodorant that works f...</td>\n",
       "      <td>Verified Purchase</td>\n",
       "      <td>0</td>\n",
       "      <td>NaN</td>\n",
       "    </tr>\n",
       "    <tr>\n",
       "      <th>1</th>\n",
       "      <td>31ef1ee4961d3fcff33e363edd7677eb</td>\n",
       "      <td>2020-03-17 02:32:10 +0000</td>\n",
       "      <td>c697dc43961526785292107b91a639e1</td>\n",
       "      <td>NaN</td>\n",
       "      <td>Schmidt's Charcoal Deodorant is the best!</td>\n",
       "      <td>5.0</td>\n",
       "      <td>March 6, 2020</td>\n",
       "      <td>AHOZPYWO6WE5MLAZZPDUAWNKKNRQ</td>\n",
       "      <td>Schmidt's Deodorant</td>\n",
       "      <td>Beauty &amp; Personal Care</td>\n",
       "      <td>Personal Care</td>\n",
       "      <td>Schmidt’s natural deodorant formulas use innov...</td>\n",
       "      <td>B071YYMZ19</td>\n",
       "      <td>https://www.amazon.com/gp/customer-reviews/R14...</td>\n",
       "      <td>I am staying away from the conventional deodor...</td>\n",
       "      <td>Verified Purchase</td>\n",
       "      <td>0</td>\n",
       "      <td>NaN</td>\n",
       "    </tr>\n",
       "    <tr>\n",
       "      <th>2</th>\n",
       "      <td>6943e517922b051cbec496be32fbb57f</td>\n",
       "      <td>2020-03-17 02:32:10 +0000</td>\n",
       "      <td>c697dc43961526785292107b91a639e1</td>\n",
       "      <td>NaN</td>\n",
       "      <td>Beware. Defective or counterfeit.</td>\n",
       "      <td>1.0</td>\n",
       "      <td>March 6, 2020</td>\n",
       "      <td>AECC6GYWWLNCKSBG3DZDGFSYDOTA</td>\n",
       "      <td>Schmidt's Deodorant</td>\n",
       "      <td>Beauty &amp; Personal Care</td>\n",
       "      <td>Personal Care</td>\n",
       "      <td>Schmidt’s natural deodorant formulas use innov...</td>\n",
       "      <td>B071YYMZ19</td>\n",
       "      <td>https://www.amazon.com/gp/customer-reviews/R2R...</td>\n",
       "      <td>Do not buy this from Amazon it's either defect...</td>\n",
       "      <td>Verified Purchase</td>\n",
       "      <td>One person found this helpful Helpful</td>\n",
       "      <td>NaN</td>\n",
       "    </tr>\n",
       "    <tr>\n",
       "      <th>3</th>\n",
       "      <td>6778c794e6ac7112981d4ebb239d6826</td>\n",
       "      <td>2020-03-17 02:32:10 +0000</td>\n",
       "      <td>c697dc43961526785292107b91a639e1</td>\n",
       "      <td>NaN</td>\n",
       "      <td>Good for infrequent shavers in cooler months i...</td>\n",
       "      <td>3.0</td>\n",
       "      <td>March 5, 2020</td>\n",
       "      <td>AEOO6OOEO4QD7Z4F6C2FMZUCW7PA</td>\n",
       "      <td>Schmidt's Deodorant</td>\n",
       "      <td>Beauty &amp; Personal Care</td>\n",
       "      <td>Personal Care</td>\n",
       "      <td>Schmidt’s natural deodorant formulas use innov...</td>\n",
       "      <td>B071YYMZ19</td>\n",
       "      <td>https://www.amazon.com/gp/customer-reviews/RMI...</td>\n",
       "      <td>I started using this because I was getting cys...</td>\n",
       "      <td>NO</td>\n",
       "      <td>0</td>\n",
       "      <td>NaN</td>\n",
       "    </tr>\n",
       "    <tr>\n",
       "      <th>4</th>\n",
       "      <td>2335a28ae24db3b2191080bfd98a86e0</td>\n",
       "      <td>2020-03-17 02:32:10 +0000</td>\n",
       "      <td>c697dc43961526785292107b91a639e1</td>\n",
       "      <td>NaN</td>\n",
       "      <td>This isn’t the true product and will hurt your...</td>\n",
       "      <td>1.0</td>\n",
       "      <td>March 2, 2020</td>\n",
       "      <td>AEHSDCGRIMVOUG6ST35FJ4FMMW5Q</td>\n",
       "      <td>Schmidt's Deodorant</td>\n",
       "      <td>Beauty &amp; Personal Care</td>\n",
       "      <td>Personal Care</td>\n",
       "      <td>Schmidt’s natural deodorant formulas use innov...</td>\n",
       "      <td>B071YYMZ19</td>\n",
       "      <td>https://www.amazon.com/gp/customer-reviews/R1R...</td>\n",
       "      <td>Dont buy this from amazon!!!! I never write re...</td>\n",
       "      <td>Verified Purchase</td>\n",
       "      <td>One person found this helpful Helpful</td>\n",
       "      <td>NaN</td>\n",
       "    </tr>\n",
       "  </tbody>\n",
       "</table>\n",
       "</div>"
      ],
      "text/plain": [
       "                            Uniq Id            Crawl Timestamp  \\\n",
       "0  10d8b81dc693db8a3f92e19254525d53  2020-03-17 02:32:10 +0000   \n",
       "1  31ef1ee4961d3fcff33e363edd7677eb  2020-03-17 02:32:10 +0000   \n",
       "2  6943e517922b051cbec496be32fbb57f  2020-03-17 02:32:10 +0000   \n",
       "3  6778c794e6ac7112981d4ebb239d6826  2020-03-17 02:32:10 +0000   \n",
       "4  2335a28ae24db3b2191080bfd98a86e0  2020-03-17 02:32:10 +0000   \n",
       "\n",
       "                    Billing Uniq Id  Rating  \\\n",
       "0  c697dc43961526785292107b91a639e1     NaN   \n",
       "1  c697dc43961526785292107b91a639e1     NaN   \n",
       "2  c697dc43961526785292107b91a639e1     NaN   \n",
       "3  c697dc43961526785292107b91a639e1     NaN   \n",
       "4  c697dc43961526785292107b91a639e1     NaN   \n",
       "\n",
       "                                        Review Title  Review Rating  \\\n",
       "0                           Best Natural Deodorant!!            5.0   \n",
       "1          Schmidt's Charcoal Deodorant is the best!            5.0   \n",
       "2                  Beware. Defective or counterfeit.            1.0   \n",
       "3  Good for infrequent shavers in cooler months i...            3.0   \n",
       "4  This isn’t the true product and will hurt your...            1.0   \n",
       "\n",
       "     Review Date                       User Id                Brand  \\\n",
       "0  March 6, 2020  AGIZFDSHLSBZ7KHQ4FV65W7B3HMQ  Schmidt's Deodorant   \n",
       "1  March 6, 2020  AHOZPYWO6WE5MLAZZPDUAWNKKNRQ  Schmidt's Deodorant   \n",
       "2  March 6, 2020  AECC6GYWWLNCKSBG3DZDGFSYDOTA  Schmidt's Deodorant   \n",
       "3  March 5, 2020  AEOO6OOEO4QD7Z4F6C2FMZUCW7PA  Schmidt's Deodorant   \n",
       "4  March 2, 2020  AEHSDCGRIMVOUG6ST35FJ4FMMW5Q  Schmidt's Deodorant   \n",
       "\n",
       "                 Category   Sub Category  \\\n",
       "0  Beauty & Personal Care  Personal Care   \n",
       "1  Beauty & Personal Care  Personal Care   \n",
       "2  Beauty & Personal Care  Personal Care   \n",
       "3  Beauty & Personal Care  Personal Care   \n",
       "4  Beauty & Personal Care  Personal Care   \n",
       "\n",
       "                                 Product Description        Asin  \\\n",
       "0  Schmidt’s natural deodorant formulas use innov...  B071YYMZ19   \n",
       "1  Schmidt’s natural deodorant formulas use innov...  B071YYMZ19   \n",
       "2  Schmidt’s natural deodorant formulas use innov...  B071YYMZ19   \n",
       "3  Schmidt’s natural deodorant formulas use innov...  B071YYMZ19   \n",
       "4  Schmidt’s natural deodorant formulas use innov...  B071YYMZ19   \n",
       "\n",
       "                                                 Url  \\\n",
       "0  https://www.amazon.com/gp/customer-reviews/R2Q...   \n",
       "1  https://www.amazon.com/gp/customer-reviews/R14...   \n",
       "2  https://www.amazon.com/gp/customer-reviews/R2R...   \n",
       "3  https://www.amazon.com/gp/customer-reviews/RMI...   \n",
       "4  https://www.amazon.com/gp/customer-reviews/R1R...   \n",
       "\n",
       "                                      Review Content  Verified Purchase  \\\n",
       "0  This is the one natural deodorant that works f...  Verified Purchase   \n",
       "1  I am staying away from the conventional deodor...  Verified Purchase   \n",
       "2  Do not buy this from Amazon it's either defect...  Verified Purchase   \n",
       "3  I started using this because I was getting cys...                 NO   \n",
       "4  Dont buy this from amazon!!!! I never write re...  Verified Purchase   \n",
       "\n",
       "                    Helpful Review Count  Manufacturer Response  \n",
       "0                                      0                    NaN  \n",
       "1                                      0                    NaN  \n",
       "2  One person found this helpful Helpful                    NaN  \n",
       "3                                      0                    NaN  \n",
       "4  One person found this helpful Helpful                    NaN  "
      ]
     },
     "execution_count": 4,
     "metadata": {},
     "output_type": "execute_result"
    }
   ],
   "source": [
    "amazon_df.head()"
   ]
  },
  {
   "cell_type": "code",
   "execution_count": 26,
   "id": "4a6c3a6a-57cb-47cc-acc4-c7536b177cf2",
   "metadata": {},
   "outputs": [
    {
     "data": {
      "text/plain": [
       "array(['Personal Care', 'Pantry Staples', 'Skin Care', nan, 'Frozen'],\n",
       "      dtype=object)"
      ]
     },
     "execution_count": 26,
     "metadata": {},
     "output_type": "execute_result"
    }
   ],
   "source": [
    "amazon_df['Sub Category'].unique()"
   ]
  },
  {
   "cell_type": "code",
   "execution_count": 29,
   "id": "a9e88cad-0913-4270-8ca7-759ed718a353",
   "metadata": {},
   "outputs": [
    {
     "data": {
      "text/plain": [
       "Index(['Uniq Id', 'Crawl Timestamp', 'Billing Uniq Id', 'Review Title',\n",
       "       'Review Rating', 'Review Date', 'User Id', 'Brand', 'Category',\n",
       "       'Sub Category', 'Product Description', 'Asin', 'Url', 'Review Content',\n",
       "       'Verified Purchase', 'Helpful Review Count', 'Manufacturer Response'],\n",
       "      dtype='object')"
      ]
     },
     "execution_count": 29,
     "metadata": {},
     "output_type": "execute_result"
    }
   ],
   "source": [
    "amazon_df.columns"
   ]
  },
  {
   "cell_type": "markdown",
   "id": "f6fed136-2604-4ec7-8c82-a905eb979304",
   "metadata": {},
   "source": [
    "1. How many reviews are in the dataset?"
   ]
  },
  {
   "cell_type": "code",
   "execution_count": 19,
   "id": "1d13d71d-d4a0-417c-90cb-035750a0f4ae",
   "metadata": {},
   "outputs": [
    {
     "data": {
      "text/plain": [
       "(50, 18)"
      ]
     },
     "execution_count": 19,
     "metadata": {},
     "output_type": "execute_result"
    }
   ],
   "source": [
    "amazon_df.shape"
   ]
  },
  {
   "cell_type": "markdown",
   "id": "dbe9bd56-ecc7-4d1b-9cb4-bdfed0b65d9a",
   "metadata": {},
   "source": [
    "2. You realize the rating column contains a great deal of NaN (null) values. Permanently remove it from the dataset and show the first three observations (records) of the modified dataset."
   ]
  },
  {
   "cell_type": "code",
   "execution_count": 20,
   "id": "826bf813-920d-4b3c-8140-cacc7877a391",
   "metadata": {},
   "outputs": [],
   "source": [
    "amazon_df = amazon_df.drop(['Rating'], axis='columns')"
   ]
  },
  {
   "cell_type": "markdown",
   "id": "4a68b39f-9768-4a9b-b48b-8405f34b228d",
   "metadata": {},
   "source": [
    "3. List the ASIN and brand of all of the product reviews related to skincare."
   ]
  },
  {
   "cell_type": "code",
   "execution_count": 35,
   "id": "9edd045c-d2f8-4e0b-a5cc-0f13dceb5e41",
   "metadata": {},
   "outputs": [
    {
     "data": {
      "text/html": [
       "<div>\n",
       "<style scoped>\n",
       "    .dataframe tbody tr th:only-of-type {\n",
       "        vertical-align: middle;\n",
       "    }\n",
       "\n",
       "    .dataframe tbody tr th {\n",
       "        vertical-align: top;\n",
       "    }\n",
       "\n",
       "    .dataframe thead th {\n",
       "        text-align: right;\n",
       "    }\n",
       "</style>\n",
       "<table border=\"1\" class=\"dataframe\">\n",
       "  <thead>\n",
       "    <tr style=\"text-align: right;\">\n",
       "      <th></th>\n",
       "      <th>Asin</th>\n",
       "      <th>Brand</th>\n",
       "    </tr>\n",
       "  </thead>\n",
       "  <tbody>\n",
       "    <tr>\n",
       "      <th>25</th>\n",
       "      <td>B007O0GQPC</td>\n",
       "      <td>SheaMoisture</td>\n",
       "    </tr>\n",
       "    <tr>\n",
       "      <th>26</th>\n",
       "      <td>B007O0GQPC</td>\n",
       "      <td>SheaMoisture</td>\n",
       "    </tr>\n",
       "    <tr>\n",
       "      <th>27</th>\n",
       "      <td>B007O0GQPC</td>\n",
       "      <td>SheaMoisture</td>\n",
       "    </tr>\n",
       "    <tr>\n",
       "      <th>28</th>\n",
       "      <td>B007O0GQPC</td>\n",
       "      <td>SheaMoisture</td>\n",
       "    </tr>\n",
       "    <tr>\n",
       "      <th>29</th>\n",
       "      <td>B007O0GQPC</td>\n",
       "      <td>SheaMoisture</td>\n",
       "    </tr>\n",
       "    <tr>\n",
       "      <th>30</th>\n",
       "      <td>B007O0GQPC</td>\n",
       "      <td>SheaMoisture</td>\n",
       "    </tr>\n",
       "    <tr>\n",
       "      <th>31</th>\n",
       "      <td>B007O0GQPC</td>\n",
       "      <td>SheaMoisture</td>\n",
       "    </tr>\n",
       "    <tr>\n",
       "      <th>32</th>\n",
       "      <td>B007O0GQPC</td>\n",
       "      <td>SheaMoisture</td>\n",
       "    </tr>\n",
       "    <tr>\n",
       "      <th>33</th>\n",
       "      <td>B007O0GQPC</td>\n",
       "      <td>SheaMoisture</td>\n",
       "    </tr>\n",
       "    <tr>\n",
       "      <th>34</th>\n",
       "      <td>B007O0GQPC</td>\n",
       "      <td>SheaMoisture</td>\n",
       "    </tr>\n",
       "    <tr>\n",
       "      <th>45</th>\n",
       "      <td>B005C2NA4E</td>\n",
       "      <td>SheaMoisture</td>\n",
       "    </tr>\n",
       "    <tr>\n",
       "      <th>46</th>\n",
       "      <td>B005C2NA4E</td>\n",
       "      <td>SheaMoisture</td>\n",
       "    </tr>\n",
       "    <tr>\n",
       "      <th>47</th>\n",
       "      <td>B005C2NA4E</td>\n",
       "      <td>SheaMoisture</td>\n",
       "    </tr>\n",
       "    <tr>\n",
       "      <th>48</th>\n",
       "      <td>B005C2NA4E</td>\n",
       "      <td>SheaMoisture</td>\n",
       "    </tr>\n",
       "    <tr>\n",
       "      <th>49</th>\n",
       "      <td>B005C2NA4E</td>\n",
       "      <td>SheaMoisture</td>\n",
       "    </tr>\n",
       "  </tbody>\n",
       "</table>\n",
       "</div>"
      ],
      "text/plain": [
       "          Asin         Brand\n",
       "25  B007O0GQPC  SheaMoisture\n",
       "26  B007O0GQPC  SheaMoisture\n",
       "27  B007O0GQPC  SheaMoisture\n",
       "28  B007O0GQPC  SheaMoisture\n",
       "29  B007O0GQPC  SheaMoisture\n",
       "30  B007O0GQPC  SheaMoisture\n",
       "31  B007O0GQPC  SheaMoisture\n",
       "32  B007O0GQPC  SheaMoisture\n",
       "33  B007O0GQPC  SheaMoisture\n",
       "34  B007O0GQPC  SheaMoisture\n",
       "45  B005C2NA4E  SheaMoisture\n",
       "46  B005C2NA4E  SheaMoisture\n",
       "47  B005C2NA4E  SheaMoisture\n",
       "48  B005C2NA4E  SheaMoisture\n",
       "49  B005C2NA4E  SheaMoisture"
      ]
     },
     "execution_count": 35,
     "metadata": {},
     "output_type": "execute_result"
    }
   ],
   "source": [
    "skin_care_mask = amazon_df['Sub Category'] == 'Skin Care'\n",
    "\n",
    "amazon_df[skin_care_mask][['Asin', 'Brand']]"
   ]
  },
  {
   "cell_type": "markdown",
   "id": "5985f26c-2048-4524-b811-a34413b4ad68",
   "metadata": {},
   "source": [
    "4. Challenge: What was the average rating for the product with an ASIN of B071YYMZ19 to the nearest two decimal places. Note the ASIN is the identification number Amazon uses to identify products."
   ]
  },
  {
   "cell_type": "code",
   "execution_count": 53,
   "id": "9a5d3122-e8fb-4123-be78-231d5104aeea",
   "metadata": {},
   "outputs": [
    {
     "data": {
      "text/plain": [
       "'3.50'"
      ]
     },
     "execution_count": 53,
     "metadata": {},
     "output_type": "execute_result"
    }
   ],
   "source": [
    "f\"{amazon_df[amazon_df['Asin'] == 'B071YYMZ19']['Review Rating'].mean():.2f}\""
   ]
  },
  {
   "cell_type": "code",
   "execution_count": null,
   "id": "ba909174-58a6-46d8-bd07-0c71c295dc2b",
   "metadata": {},
   "outputs": [],
   "source": []
  }
 ],
 "metadata": {
  "kernelspec": {
   "display_name": "Python 3 (ipykernel)",
   "language": "python",
   "name": "python3"
  },
  "language_info": {
   "codemirror_mode": {
    "name": "ipython",
    "version": 3
   },
   "file_extension": ".py",
   "mimetype": "text/x-python",
   "name": "python",
   "nbconvert_exporter": "python",
   "pygments_lexer": "ipython3",
   "version": "3.10.11"
  }
 },
 "nbformat": 4,
 "nbformat_minor": 5
}
